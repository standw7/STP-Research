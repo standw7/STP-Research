{
 "cells": [
  {
   "cell_type": "markdown",
   "metadata": {},
   "source": [
    "# Setup"
   ]
  },
  {
   "cell_type": "code",
   "execution_count": 54,
   "metadata": {},
   "outputs": [
    {
     "name": "stdout",
     "output_type": "stream",
     "text": [
      "CUDA device found, setting as device.\n"
     ]
    }
   ],
   "source": [
    "import numpy as np\n",
    "import matplotlib.pyplot as plt\n",
    "import pandas as pd\n",
    "import torch\n",
    "import gpytorch\n",
    "import math\n",
    "import seaborn as sns\n",
    "import random\n",
    "from tqdm import trange\n",
    "from collections import Counter\n",
    "from scipy.interpolate import splrep, interp1d\n",
    "from sklearn import preprocessing\n",
    "from botorch.models import SingleTaskGP\n",
    "from botorch.fit import fit_gpytorch_mll\n",
    "from botorch.utils import standardize\n",
    "from gpytorch.likelihoods import GaussianLikelihood, StudentTLikelihood\n",
    "from gpytorch.models import ApproximateGP\n",
    "from gpytorch.variational import VariationalStrategy, CholeskyVariationalDistribution\n",
    "from gpytorch.kernels import ScaleKernel, RBFKernel\n",
    "from gpytorch.means import ConstantMean\n",
    "from gpytorch.mlls import ExactMarginalLogLikelihood, VariationalELBO\n",
    "import matplotlib.ticker as ticker\n",
    "import matplotlib.tri as tri\n",
    "import matplotlib.font_manager as font_manager\n",
    "\n",
    "# check for MPS and CUDA device availability\n",
    "if torch.backends.mps.is_available():\n",
    "    device = torch.device(\"mps\")\n",
    "    print(\"MPS device found, setting as device.\")\n",
    "elif torch.cuda.is_available():\n",
    "    device = torch.device(\"cuda\")\n",
    "    print(\"CUDA device found, setting as device.\")\n",
    "else:\n",
    "    device = torch.device(\"cpu\")\n",
    "    print(\"Neither MPS nor CUDA device found. Using default device (CPU).\")\n",
    "\n",
    "\n",
    "# set the seed for all random use\n",
    "def set_seeds(seed):\n",
    "    np.random.seed(seed)\n",
    "    torch.manual_seed(seed)\n",
    "    torch.cuda.manual_seed_all(seed)\n",
    "    random.seed(seed)\n",
    "\n",
    "class STP(gpytorch.models.ApproximateGP):\n",
    "    def __init__(self, inducing_points):\n",
    "        variational_distribution = gpytorch.variational.CholeskyVariationalDistribution(inducing_points.size(0))\n",
    "        variational_strategy = gpytorch.variational.VariationalStrategy(\n",
    "            self, inducing_points, variational_distribution, learn_inducing_locations=False\n",
    "        )\n",
    "        super().__init__(variational_strategy)\n",
    "        self.mean_module = gpytorch.means.ConstantMean()\n",
    "        self.covar_module = gpytorch.kernels.ScaleKernel(gpytorch.kernels.RBFKernel())\n",
    "\n",
    "    def forward(self, x):\n",
    "        mean_x = self.mean_module(x)\n",
    "        covar_x = self.covar_module(x)\n",
    "\n",
    "        return gpytorch.distributions.MultivariateNormal(mean_x, covar_x)\n",
    "\n",
    "class ExactGP(gpytorch.models.ExactGP):\n",
    "    def __init__(self, x_train, y_train, likelihood):\n",
    "        # build the model using the ExactGP model from gpytorch\n",
    "        super(ExactGP, self).__init__(x_train, y_train, likelihood)\n",
    "\n",
    "        # use a constant mean, this value can be learned from the dataset\n",
    "        self.mean_module = gpytorch.means.ConstantMean()\n",
    "\n",
    "        # automatically determine the number of dimensions for the ARD kernel\n",
    "        num_dimensions = x_train.shape[1]\n",
    "\n",
    "        # use a scaled Matern kernel, the ScaleKernel allows the kernel to learn a scale factor for the dataset\n",
    "        self.covar_module = gpytorch.kernels.ScaleKernel(\n",
    "            gpytorch.kernels.MaternKernel(nu=2.5,ard_num_dims=num_dimensions))\n",
    "            \n",
    "        # set the number of outputs \n",
    "        self.num_outputs = 1\n",
    "\n",
    "    def forward(self, x):\n",
    "        # forward pass of the model\n",
    "\n",
    "        # compute the mean and covariance of the model \n",
    "        mean_x = self.mean_module(x)\n",
    "        covar_x = self.covar_module(x)\n",
    "\n",
    "        # return the MultivariateNormal distribution of the mean and covariance \n",
    "        return gpytorch.distributions.MultivariateNormal(mean_x, covar_x)\n",
    "\n",
    "class VariationalGP(ApproximateGP):\n",
    "    def __init__(self, inducing_points):\n",
    "        variational_distribution = CholeskyVariationalDistribution(inducing_points.size(0))\n",
    "        variational_strategy = VariationalStrategy(self, inducing_points, variational_distribution, learn_inducing_locations=True)\n",
    "        super(VariationalGP, self).__init__(variational_strategy)\n",
    "        self.mean_module = ConstantMean()\n",
    "        self.covar_module = ScaleKernel(RBFKernel(ard_num_dims=inducing_points.size(1)))\n",
    "\n",
    "    def forward(self, x):\n",
    "        mean_x = self.mean_module(x)\n",
    "        covar_x = self.covar_module(x)\n",
    "        return gpytorch.distributions.MultivariateNormal(mean_x, covar_x)\n",
    "    \n",
    "class TorchStandardScaler:\n",
    "    def fit(self, x):\n",
    "        x = x.clone()\n",
    "        # calculate mean and std of the tensor\n",
    "        self.mean = x.mean(0, keepdim=True)\n",
    "        self.std = x.std(0, unbiased=False, keepdim=True)\n",
    "    def transform(self, x):\n",
    "        x = x.clone()\n",
    "        # standardize the tensor\n",
    "        x -= self.mean\n",
    "        x /= (self.std + 1e-10)\n",
    "        return x\n",
    "    def fit_transform(self, x):\n",
    "        # copy the tensor as to not modify the original \n",
    "        x = x.clone()\n",
    "        # calculate mean and std of the tensor\n",
    "        self.mean = x.mean(0, keepdim=True)\n",
    "        self.std = x.std(0, unbiased=False, keepdim=True)\n",
    "        # standardize the tensor\n",
    "        x -= self.mean\n",
    "        x /= (self.std + 1e-10)\n",
    "        return x\n",
    "    \n",
    "class TorchNormalizer:\n",
    "    def fit(self, x):\n",
    "        # calculate the maximum value and the minimum value of the tensor\n",
    "        self.max = torch.max(x, dim=0).values\n",
    "        self.min = torch.min(x, dim=0).values\n",
    "\n",
    "    def transform(self, x):\n",
    "        # normalize the tensor\n",
    "        return (x.clone() - self.min) / (self.max - self.min)\n",
    "\n",
    "    def fit_transform(self, x):\n",
    "        # calculate the maximum value and the minimum value of the tensor\n",
    "        self.max = torch.max(x, dim=0).values\n",
    "        self.min = torch.min(x, dim=0).values\n",
    "        # normalize the tensor\n",
    "        return (x.clone() - self.min) / (self.max - self.min)\n",
    "    \n",
    "# Upper Confidence Bound\n",
    "def UCBmax(mean, std, beta):\n",
    "    return mean + beta * std\n",
    "\n",
    "def UCBmin(mean, std, beta):\n",
    "    return mean - beta * std\n",
    "\n",
    "# Expected Improvement\n",
    "def EImin(mean, std, best_observed):\n",
    "    z = (best_observed - mean) / std\n",
    "    return (best_observed - mean) * torch.distributions.Normal(0, 1).cdf(z) + std * torch.distributions.Normal(0, 1).log_prob(z)\n",
    "\n",
    "def EImax(mean, std, best_observed):\n",
    "    z = (mean - best_observed) / std\n",
    "    return (mean - best_observed) * torch.distributions.Normal(0, 1).cdf(z) + std * torch.distributions.Normal(0, 1).log_prob(z)\n",
    "    \n",
    "# Initial setup\n",
    "campaigns = 50\n",
    "num_initial_points = 3\n",
    "num_new_samples_per_iteration = 1\n",
    "\n",
    "maxDatasets = ['AutoAM', 'P3HT']\n",
    "minDatasets = ['Perovskite']"
   ]
  },
  {
   "cell_type": "markdown",
   "metadata": {},
   "source": [
    "# STP BO Loop"
   ]
  },
  {
   "cell_type": "code",
   "execution_count": 55,
   "metadata": {},
   "outputs": [],
   "source": [
    "\n",
    "def runMinSTP(seed):  \n",
    "    print(\"Minimizing with STP\") \n",
    "    set_seeds(seed)\n",
    "    iterationSTP = [0]\n",
    "    topSTP = [0]\n",
    "\n",
    "    # Calculate the threshold for the top 5%\n",
    "    top_5_percent_threshold = torch.quantile(train_y, 0.05)\n",
    "\n",
    "    # Identify indices of samples not in the top 5%\n",
    "    non_top_5_indices = (train_y > top_5_percent_threshold).nonzero(as_tuple=True)[0]\n",
    "\n",
    "    # Randomly sample from these non-top-5% indices\n",
    "    indicesSTP = torch.randperm(len(non_top_5_indices))[:num_initial_points]\n",
    "    indicesSTP = non_top_5_indices[indicesSTP]\n",
    "\n",
    "    # Select the corresponding points from train_x and train_y\n",
    "    train_xSTP = train_x[indicesSTP]\n",
    "    train_ySTP = train_y[indicesSTP]\n",
    "\n",
    "    print(f\"Seed: {seed}\")\n",
    "    print(f\"Initial points: {train_xSTP}\")\n",
    "        \n",
    "    while topSTP[-1] < 100:\n",
    "        iterationSTP.append(iterationSTP[-1] + 1)\n",
    "        # standardize the initial inputs and outputs before\n",
    "        train_xSTP = TorchStd.transform(train_xSTP)\n",
    "        train_ySTP = TorchStandardScaler().fit_transform(train_ySTP).flatten() # Ensure y is 1-dimensional\n",
    "\n",
    "        #def train_and_test_approximate_gp(objective_function_cls):\n",
    "        model = STP(train_xSTP).to(dtype=torch.float64)\n",
    "        #likelihood = gpytorch.likelihoods.GaussianLikelihood()\n",
    "        likelihood = gpytorch.likelihoods.StudentTLikelihood()\n",
    "        objective_function = gpytorch.mlls.VariationalELBO(likelihood, model, num_data=train_ySTP.numel())\n",
    "        # replace with gpytorch mll\n",
    "        optimizer = torch.optim.Adam(list(model.parameters()) + list(likelihood.parameters()), lr=0.1)\n",
    "\n",
    "            \n",
    "\n",
    "        # Train\n",
    "        model.train()\n",
    "        #put it into training mode\n",
    "        likelihood.train()\n",
    "\n",
    "        for _ in range(50):\n",
    "            output = model(train_xSTP)\n",
    "            loss = -objective_function(output, train_ySTP)\n",
    "            loss.backward()\n",
    "            optimizer.step()\n",
    "            optimizer.zero_grad()\n",
    "                \n",
    "\n",
    "\n",
    "        # Test\n",
    "        model.eval()\n",
    "        likelihood.eval()\n",
    "\n",
    "        # works wtih the variational distribution\n",
    "        with gpytorch.settings.num_likelihood_samples(512):\n",
    "            observed_pred = likelihood(model(TorchStd.transform(train_x)))\n",
    "\n",
    "        samples = observed_pred.sample()\n",
    "\n",
    "\n",
    "        # use as inputs to EI\n",
    "        meanSTP = samples.mean(dim=0)\n",
    "        stdSTP = samples.std(dim=0)\n",
    "    \n",
    "            \n",
    "\n",
    "         # Select new points using UCB\n",
    "        acq_values = UCBmin(meanSTP, stdSTP, 1.96)\n",
    "        acq_values[indicesSTP] = float('inf')\n",
    "        indicesSTP = torch.cat([indicesSTP, acq_values.argmin().unsqueeze(0)])\n",
    "\n",
    "        # Convert new_indices to a tensor\n",
    "        # Add the new points to the training data\n",
    "        train_xSTP = train_x[indicesSTP]\n",
    "        train_ySTP = train_y[indicesSTP]\n",
    "        topSTP.append(TopSamplesAmnt(train_ySTP, top_samples)*100)\n",
    "\n",
    "\n",
    "        if iterationSTP[-1] > len(train_x) - num_initial_points:\n",
    "            print(\"Maximum number of iterations exceeded, breaking loop.\")\n",
    "            return topSTP, iterationSTP\n",
    "            break\n",
    "            \n",
    "    print(f'Iterations {iterationSTP[-1]}')\n",
    "    return topSTP, iterationSTP\n",
    "\n",
    "def runMaxSTP(seed):   \n",
    "    print(\"Maximizing with STP\")\n",
    "    set_seeds(seed)\n",
    "    iterationSTP = [0]\n",
    "    topSTP = [0]\n",
    "\n",
    "    # Calculate the threshold for the top 5%\n",
    "    top_5_percent_threshold = torch.quantile(train_y, 0.95)\n",
    "\n",
    "    # Identify indices of samples not in the top 5%\n",
    "    non_top_5_indices = (train_y < top_5_percent_threshold).nonzero(as_tuple=True)[0]\n",
    "\n",
    "    # Randomly sample from these non-top-5% indices\n",
    "    indicesSTP = torch.randperm(len(non_top_5_indices))[:num_initial_points]\n",
    "    indicesSTP = non_top_5_indices[indicesSTP]\n",
    "\n",
    "    # Select the corresponding points from train_x and train_y\n",
    "    train_xSTP = train_x[indicesSTP]\n",
    "    train_ySTP = train_y[indicesSTP]\n",
    "\n",
    "    print(f\"Seed: {seed}\")\n",
    "    print(f\"Initial points: {train_xSTP}\")\n",
    "        \n",
    "    while topSTP[-1] < 100:\n",
    "        iterationSTP.append(iterationSTP[-1] + 1)\n",
    "        # standardize the initial inputs and outputs before\n",
    "        train_xSTP = TorchStd.transform(train_xSTP)\n",
    "        train_ySTP = TorchStandardScaler().fit_transform(train_ySTP).flatten() # Ensure y is 1-dimensional\n",
    "\n",
    "\n",
    "        #def train_and_test_approximate_gp(objective_function_cls):\n",
    "        model = STP(train_xSTP).to(dtype=torch.float64)\n",
    "        #likelihood = gpytorch.likelihoods.GaussianLikelihood()\n",
    "        likelihood = gpytorch.likelihoods.StudentTLikelihood()\n",
    "        objective_function = gpytorch.mlls.VariationalELBO(likelihood, model, num_data=train_ySTP.numel())\n",
    "        # replace with gpytorch mll\n",
    "        optimizer = torch.optim.Adam(list(model.parameters()) + list(likelihood.parameters()), lr=0.1)\n",
    "\n",
    "            \n",
    "\n",
    "        # Train\n",
    "        model.train()\n",
    "        #put it into training mode\n",
    "        likelihood.train()\n",
    "\n",
    "        for _ in range(50):\n",
    "            output = model(train_xSTP)\n",
    "            loss = -objective_function(output, train_ySTP)\n",
    "            loss.backward()\n",
    "            optimizer.step()\n",
    "            optimizer.zero_grad()\n",
    "                \n",
    "\n",
    "\n",
    "        # Test\n",
    "        model.eval()\n",
    "        likelihood.eval()\n",
    "\n",
    "        # works wtih the variational distribution\n",
    "        with gpytorch.settings.num_likelihood_samples(512):\n",
    "            pred = likelihood(model(TorchStd.transform(train_x)))\n",
    "\n",
    "        samples = pred.sample()\n",
    "        # use as inputs to UCB \n",
    "        meanSTP = samples.mean(dim=0)\n",
    "        stdSTP = samples.std(dim=0)\n",
    "\n",
    "            \n",
    "         # Select new points using UCB\n",
    "        acq_values = UCBmax(meanSTP, stdSTP, 1.96)\n",
    "        acq_values[indicesSTP] = -float('inf')\n",
    "        indicesSTP = torch.cat([indicesSTP, acq_values.argmax().unsqueeze(0)])\n",
    "\n",
    "        # Convert new_indices to a tensor\n",
    "        # Add the new points to the training data\n",
    "        train_xSTP = train_x[indicesSTP]\n",
    "        train_ySTP = train_y[indicesSTP]\n",
    "        \n",
    "        topSTP.append(TopSamplesAmnt(train_ySTP, top_samples)*100)\n",
    "        if iterationSTP[-1] > len(train_x) - num_initial_points:\n",
    "            print(\"Maximum number of iterations exceeded, breaking loop.\")\n",
    "            print(f\"Reached {topSTP[-1]}%\")\n",
    "            return topSTP, iterationSTP\n",
    "            break\n",
    "\n",
    "\n",
    "    print(f'Iterations {iterationSTP[-1]}')\n",
    "\n",
    "    return topSTP, iterationSTP"
   ]
  },
  {
   "cell_type": "markdown",
   "metadata": {},
   "source": [
    "# EGP BO Loop"
   ]
  },
  {
   "cell_type": "code",
   "execution_count": 56,
   "metadata": {},
   "outputs": [],
   "source": [
    "\n",
    "def runMinEGP(seed):\n",
    "    print(\"Minimizing with EGP\")\n",
    "    set_seeds(seed)    \n",
    "    iterationEGP = [0]\n",
    "    topEGP = [0]\n",
    "\n",
    "    N = len(train_y) # Number of points you want to sample\n",
    "\n",
    "    # Calculate the threshold for the top 5%\n",
    "    top_5_percent_threshold = torch.quantile(train_y, 0.05)\n",
    "\n",
    "    # Identify indices of samples not in the top 5%\n",
    "    non_top_5_indices = (train_y > top_5_percent_threshold).nonzero(as_tuple=True)[0]\n",
    "\n",
    "    # Randomly sample from these non-top-5% indices\n",
    "    indicesEGP = torch.randperm(len(non_top_5_indices))[:num_initial_points]\n",
    "    indicesEGP = non_top_5_indices[indicesEGP]\n",
    "\n",
    "    # Select the corresponding points from train_x and train_y\n",
    "    train_xEGP = train_x[indicesEGP]\n",
    "    train_yEGP = train_y[indicesEGP]\n",
    "\n",
    "    print(f\"Seed: {seed}\")\n",
    "    print(f\"Initial points: {train_xEGP}\")\n",
    "    \n",
    "    while topEGP[-1] < 100:\n",
    "        iterationEGP.append(iterationEGP[-1] + 1)\n",
    "        # standardize the initial inputs and outputs before\n",
    "        train_xEGP = TorchStd.transform(train_xEGP)\n",
    "        train_yEGP = TorchStandardScaler().fit_transform(train_yEGP).flatten()\n",
    "\n",
    "        # optimize the model\n",
    "        # use a half normal prior for the noise to find a Gaussian likelihood\n",
    "        likelihood = GaussianLikelihood(noise_prior=gpytorch.priors.HalfNormalPrior(0.01))\n",
    "\n",
    "        # using the found likelihood, create a GP model\n",
    "        gp = ExactGP(train_xEGP, train_yEGP, likelihood)\n",
    "        mll = gpytorch.mlls.ExactMarginalLogLikelihood(likelihood, gp)\n",
    "\n",
    "        # fit the model by maximizing the marginal log likelihood\n",
    "        gp.train()\n",
    "        likelihood.train()\n",
    "        fit_gpytorch_mll(mll)\n",
    "\n",
    "        gp.eval()\n",
    "        likelihood.eval()\n",
    "\n",
    "        # predict from candidate pool\n",
    "        with torch.no_grad():\n",
    "            pred = gp(TorchStd.transform(train_x)) # predict values for all candidates\n",
    "\n",
    "        meanEGP = pred.mean\n",
    "        stdEGP = pred.stddev\n",
    "        \n",
    "\n",
    "        # pass the predictions through an acquisition function to find the next best point to sample\n",
    "        acq_values = UCBmin(meanEGP, stdEGP, 1.96)\n",
    "        acq_values[indicesEGP] = float('inf')\n",
    "        indicesEGP = torch.cat([indicesEGP, acq_values.argmin().unsqueeze(0)])\n",
    "        \n",
    "\n",
    "        # add the new point to the training data\n",
    "        train_xEGP = train_x[indicesEGP]\n",
    "        train_yEGP = train_y[indicesEGP]\n",
    "        topEGP.append(TopSamplesAmnt(train_yEGP, top_samples)*100)\n",
    "        \n",
    "        if iterationEGP[-1] > len(train_x) - num_initial_points:\n",
    "            print(\"Maximum number of iterations exceeded, breaking loop.\")\n",
    "            return topEGP, iterationEGP\n",
    "            break\n",
    "\n",
    "    print(f'Iterations {iterationEGP[-1]}')\n",
    "    return topEGP, iterationEGP\n",
    "\n",
    "def runMaxEGP(seed):\n",
    "    print(\"Maximizing with EGP\")\n",
    "    set_seeds(seed)    \n",
    "    iterationEGP = [0]\n",
    "    topEGP = [0]\n",
    "    # Assuming train_x and train_y are your dataset\n",
    "\n",
    "    # Calculate the threshold for the top 5%\n",
    "    top_5_percent_threshold = torch.quantile(train_y, 0.95)\n",
    "\n",
    "    # Identify indices of samples not in the top 5%\n",
    "    non_top_5_indices = (train_y < top_5_percent_threshold).nonzero(as_tuple=True)[0]\n",
    "\n",
    "    # Randomly sample from these non-top-5% indices\n",
    "    indicesEGP = torch.randperm(len(non_top_5_indices))[:num_initial_points]\n",
    "    indicesEGP = non_top_5_indices[indicesEGP]\n",
    "\n",
    "    # Select the corresponding points from train_x and train_y\n",
    "    train_xEGP = train_x[indicesEGP]\n",
    "    train_yEGP = train_y[indicesEGP]\n",
    "\n",
    "    print(f\"Seed: {seed}\")\n",
    "    print(f\"Initial points: {train_xEGP}\")\n",
    "\n",
    "    while topEGP[-1] < 100:\n",
    "        iterationEGP.append(iterationEGP[-1] + 1)\n",
    "        # standardize the initial inputs and outputs before\n",
    "        train_xEGP = TorchStd.transform(train_xEGP)\n",
    "        train_yEGP = TorchStandardScaler().fit_transform(train_yEGP).flatten()\n",
    "\n",
    "\n",
    "        # optimize the model\n",
    "        # use a half normal prior for the noise to find a Gaussian likelihood\n",
    "        likelihood = GaussianLikelihood(noise_prior=gpytorch.priors.HalfNormalPrior(0.01))\n",
    "\n",
    "        # using the found likelihood, create a GP model\n",
    "        gp = ExactGP(train_xEGP, train_yEGP, likelihood)\n",
    "        mll = gpytorch.mlls.ExactMarginalLogLikelihood(likelihood, gp)\n",
    "\n",
    "        # fit the model by maximizing the marginal log likelihood\n",
    "        gp.train()\n",
    "        likelihood.train()\n",
    "        fit_gpytorch_mll(mll)\n",
    "\n",
    "        gp.eval()\n",
    "        likelihood.eval()\n",
    "\n",
    "        # predict from candidate pool\n",
    "        with torch.no_grad():\n",
    "            pred = gp(TorchStd.transform(train_x)) # predict values for all candidates\n",
    "\n",
    "        meanEGP = pred.mean\n",
    "        stdEGP = pred.stddev\n",
    "    \n",
    "\n",
    "        # pass the predictions through an acquisition function to find the next best point to sample\n",
    "        acq_values = UCBmax(meanEGP, stdEGP, 1.96)\n",
    "        acq_values[indicesEGP] = -float('inf')\n",
    "        indicesEGP = torch.cat([indicesEGP, acq_values.argmax().unsqueeze(0)])\n",
    "        \n",
    "        # add the new point to the training data\n",
    "        train_xEGP = train_x[indicesEGP]\n",
    "        train_yEGP = train_y[indicesEGP]\n",
    "        topEGP.append(TopSamplesAmnt(train_yEGP, top_samples)*100)\n",
    "        \n",
    "        if iterationEGP[-1] > len(train_x) - num_initial_points:\n",
    "            print(f\"Reached {topEGP[-1]}%\")\n",
    "            print(\"Maximum number of iterations exceeded, breaking loop.\")\n",
    "            return topEGP, iterationEGP\n",
    "            break\n",
    "\n",
    "    \n",
    "    print(f'Iterations {iterationEGP[-1]}')\n",
    "\n",
    "    return topEGP, iterationEGP"
   ]
  },
  {
   "cell_type": "markdown",
   "metadata": {},
   "source": [
    "# VGP BO Loop"
   ]
  },
  {
   "cell_type": "code",
   "execution_count": 57,
   "metadata": {},
   "outputs": [],
   "source": [
    "\n",
    "def runMinVGP(seed):    \n",
    "    print(\"Minimizing with VGP\")\n",
    "    set_seeds(seed)\n",
    "    iterationVGP = [0]\n",
    "    topVGP = [0]\n",
    "\n",
    "    # Calculate the threshold for the top 5%\n",
    "    top_5_percent_threshold = torch.quantile(train_y, 0.05)\n",
    "\n",
    "    # Identify indices of samples not in the top 5%\n",
    "    non_top_5_indices = (train_y > top_5_percent_threshold).nonzero(as_tuple=True)[0]\n",
    "\n",
    "    # Randomly sample from these non-top-5% indices\n",
    "    indicesVGP = torch.randperm(len(non_top_5_indices))[:num_initial_points]\n",
    "    indicesVGP = non_top_5_indices[indicesVGP]\n",
    "\n",
    "    # Select the corresponding points from train_x and train_y\n",
    "    train_xVGP = train_x[indicesVGP]\n",
    "    train_yVGP = train_y[indicesVGP]\n",
    "\n",
    "    print(f\"Seed: {seed}\")\n",
    "    print(f\"Initial points: {train_xVGP}\")\n",
    "    \n",
    "    while topVGP[-1] < 100:\n",
    "        \n",
    "        iterationVGP.append(iterationVGP[-1] + 1)\n",
    "        # standardize the initial inputs and outputs before\n",
    "        train_xVGP = TorchStd.transform(train_xVGP)\n",
    "        train_yVGP = TorchStandardScaler().fit_transform(train_yVGP).flatten()\n",
    "\n",
    "        #def train_and_test_approximate_gp(objective_function_cls):\n",
    "        model = VariationalGP(train_xVGP).to(dtype=torch.float64)\n",
    "\n",
    "        likelihood = GaussianLikelihood()\n",
    "        objective_function = gpytorch.mlls.VariationalELBO(likelihood, model, num_data=train_yVGP.numel())\n",
    "        # replace with gpytorch mll\n",
    "        optimizer = torch.optim.Adam(list(model.parameters()) + list(likelihood.parameters()), lr=0.1)\n",
    "\n",
    "        # Train\n",
    "        model.train()\n",
    "        #put it into training mode\n",
    "        likelihood.train()\n",
    "\n",
    "        for _ in range(50):\n",
    "            output = model(train_xVGP)\n",
    "            loss = -objective_function(output, train_yVGP)\n",
    "            loss.backward()\n",
    "            optimizer.step()\n",
    "            optimizer.zero_grad()\n",
    "            \n",
    "        # Test\n",
    "        model.eval()\n",
    "        likelihood.eval()\n",
    "\n",
    "        # works wtih the variational distribution\n",
    "        with torch.no_grad():\n",
    "            pred = model(TorchStd.transform(train_x))\n",
    "\n",
    "\n",
    "        # get the mean and standard deviation of the samples\n",
    "        meanVGP = pred.mean\n",
    "        stdVGP = pred.stddev\n",
    "\n",
    "\n",
    "        # Select new points using UCB\n",
    "        acq_values = UCBmin(meanVGP, stdVGP, 1.96)\n",
    "        acq_values[indicesVGP] = float('inf')\n",
    "        indicesVGP = torch.cat([indicesVGP, acq_values.argmin().unsqueeze(0)])\n",
    "\n",
    "\n",
    "        # Convert new_indices to a tensor\n",
    "        # Add the new points to the training data\n",
    "        train_xVGP = train_x[indicesVGP]\n",
    "        train_yVGP = train_y[indicesVGP]\n",
    "        topVGP.append(TopSamplesAmnt(train_yVGP, top_samples)*100)\n",
    "\n",
    "        if iterationVGP[-1] > len(train_x) - num_initial_points:\n",
    "            print(\"Maximum number of iterations exceeded, breaking loop.\")\n",
    "            print(f\"Reached {topVGP[-1]}%\")\n",
    "            return topVGP, iterationVGP\n",
    "            break\n",
    "\n",
    "    \n",
    "    print(f'Iterations {iterationVGP[-1]}')\n",
    "\n",
    "    return topVGP, iterationVGP\n",
    "    \n",
    "def runMaxVGP(seed):   \n",
    "\n",
    "\n",
    "    \n",
    "    print(\"Maximizing with VGP\") \n",
    "    set_seeds(seed)\n",
    "    iterationVGP = [0]\n",
    "    topVGP = [0]\n",
    "\n",
    "    # Calculate the threshold for the top 5%\n",
    "    top_5_percent_threshold = torch.quantile(train_y, 0.95)\n",
    "\n",
    "    # Identify indices of samples not in the top 5%\n",
    "    non_top_5_indices = (train_y < top_5_percent_threshold).nonzero(as_tuple=True)[0]\n",
    "\n",
    "    # Randomly sample from these non-top-5% indices\n",
    "    indicesVGP = torch.randperm(len(non_top_5_indices))[:num_initial_points]\n",
    "    indicesVGP = non_top_5_indices[indicesVGP]\n",
    "\n",
    "    # Select the corresponding points from train_x and train_y\n",
    "    train_xVGP = train_x[indicesVGP]\n",
    "    train_yVGP = train_y[indicesVGP]\n",
    "    print(f\"Seed: {seed}\")\n",
    "    print(f\"Initial points: {train_xVGP}\")\n",
    "    \n",
    "    \n",
    "    while topVGP[-1] < 100:\n",
    "        \n",
    "        iterationVGP.append(iterationVGP[-1] + 1)\n",
    "        # standardize the initial inputs and outputs before\n",
    "        train_xVGP = TorchStd.transform(train_xVGP)\n",
    "        train_yVGP = TorchStandardScaler().fit_transform(train_yVGP).flatten()\n",
    "\n",
    "        #def train_and_test_approximate_gp(objective_function_cls):\n",
    "        model = VariationalGP(train_xVGP).to(dtype=torch.float64)\n",
    "\n",
    "        likelihood = GaussianLikelihood()\n",
    "        objective_function = gpytorch.mlls.VariationalELBO(likelihood, model, num_data=train_yVGP.numel())\n",
    "        # replace with gpytorch mll\n",
    "        optimizer = torch.optim.Adam(list(model.parameters()) + list(likelihood.parameters()), lr=0.1)\n",
    "\n",
    "        # Train\n",
    "        model.train()\n",
    "        #put it into training mode\n",
    "        likelihood.train()\n",
    "\n",
    "        for _ in range(50):\n",
    "            output = model(train_xVGP)\n",
    "            loss = -objective_function(output, train_yVGP)\n",
    "            loss.backward()\n",
    "            optimizer.step()\n",
    "            optimizer.zero_grad()\n",
    "            \n",
    "        # Test\n",
    "        model.eval()\n",
    "        likelihood.eval()\n",
    "\n",
    "        # predict from candidate pool\n",
    "        with torch.no_grad():\n",
    "            pred = model(TorchStd.transform(train_x))\n",
    "\n",
    "        # find the mean and standard deviation of the preidictions\n",
    "        meanVGP = pred.mean\n",
    "        stdVGP = pred.stddev\n",
    "      \n",
    "\n",
    "        # Select new points using UCB\n",
    "        acq_values = UCBmax(meanVGP, stdVGP, 1.96)\n",
    "        acq_values[indicesVGP] = -float('inf')\n",
    "        indicesVGP = torch.cat([indicesVGP, acq_values.argmax().unsqueeze(0)])\n",
    "\n",
    "        # Convert new_indices to a tensor\n",
    "        # Add the new points to the training data\n",
    "        train_xVGP = train_x[indicesVGP]\n",
    "        train_yVGP = train_y[indicesVGP]\n",
    "        topVGP.append(TopSamplesAmnt(train_yVGP, top_samples)*100)\n",
    "\n",
    "        if iterationVGP[-1] > len(train_x) - num_initial_points:\n",
    "            print(\"Maximum number of iterations exceeded, breaking loop.\")\n",
    "            print(f\"Reached {topVGP[-1]}%\")\n",
    "            return topVGP, iterationVGP\n",
    "            break\n",
    "\n",
    "    print(f'Iterations {iterationVGP[-1]}')\n",
    "\n",
    "    return topVGP, iterationVGP\n"
   ]
  },
  {
   "cell_type": "markdown",
   "metadata": {},
   "source": [
    "# Maximum Test"
   ]
  },
  {
   "cell_type": "code",
   "execution_count": 58,
   "metadata": {},
   "outputs": [
    {
     "name": "stderr",
     "output_type": "stream",
     "text": [
      "<string>:7: SyntaxWarning: invalid escape sequence '\\{'\n",
      "<>:7: SyntaxWarning: invalid escape sequence '\\{'\n",
      "<string>:7: SyntaxWarning: invalid escape sequence '\\{'\n",
      "<>:7: SyntaxWarning: invalid escape sequence '\\{'\n",
      "C:\\Users\\stan\\AppData\\Local\\Temp\\ipykernel_35956\\1112889032.py:7: SyntaxWarning: invalid escape sequence '\\{'\n",
      "  data = pd.read_csv(f\"datasets\\{dataset}_dataset.csv\")\n"
     ]
    },
    {
     "name": "stdout",
     "output_type": "stream",
     "text": [
      "Starting AutoAM\n",
      "Number of samples: 85\n",
      "Number of of top 5% samples: 5\n",
      "Top 5% samples: [0.936549, 0.932613, 0.92212, 0.904846, 0.902128]\n"
     ]
    },
    {
     "name": "stderr",
     "output_type": "stream",
     "text": [
      "  0%|          | 0/50 [00:00<?, ?it/s]"
     ]
    },
    {
     "name": "stdout",
     "output_type": "stream",
     "text": [
      "Maximizing with EGP\n",
      "Seed: 864\n",
      "Initial points: tensor([[ 5.0000,  7.3613, -0.2902, -1.0000],\n",
      "        [ 0.0000,  2.5903, -0.2736, -0.1288],\n",
      "        [ 5.0000, 10.0000, -0.4538, -1.0000],\n",
      "        [ 0.0000,  0.1000, -0.2270, -0.2032],\n",
      "        [ 0.0000,  1.5957, -0.3206, -0.4308]], dtype=torch.float64)\n"
     ]
    },
    {
     "name": "stderr",
     "output_type": "stream",
     "text": [
      "  2%|▏         | 1/50 [00:01<01:20,  1.64s/it]"
     ]
    },
    {
     "name": "stdout",
     "output_type": "stream",
     "text": [
      "Iterations 14\n",
      "Maximizing with EGP\n",
      "Seed: 394\n",
      "Initial points: tensor([[ 0.0000,  3.2714, -0.2151, -0.1070],\n",
      "        [ 0.0000,  3.4102, -0.1820, -0.2266],\n",
      "        [ 5.0000,  0.1000,  0.1965, -1.0000],\n",
      "        [ 0.0000,  2.4295, -0.2861, -0.1720],\n",
      "        [ 0.1593,  0.7977, -0.2004,  0.0291]], dtype=torch.float64)\n"
     ]
    },
    {
     "name": "stderr",
     "output_type": "stream",
     "text": [
      "  4%|▍         | 2/50 [00:04<02:03,  2.57s/it]"
     ]
    },
    {
     "name": "stdout",
     "output_type": "stream",
     "text": [
      "Iterations 24\n",
      "Maximizing with EGP\n",
      "Seed: 776\n",
      "Initial points: tensor([[ 5.0000,  0.1000, -0.2250, -1.0000],\n",
      "        [ 0.6155,  3.1238, -0.2301, -0.0963],\n",
      "        [ 2.2161,  0.1000, -0.3517, -0.6288],\n",
      "        [ 3.7934,  6.3214, -0.3911, -1.0000],\n",
      "        [ 5.0000,  6.4638, -0.4718, -0.5640]], dtype=torch.float64)\n"
     ]
    },
    {
     "name": "stderr",
     "output_type": "stream",
     "text": [
      "  6%|▌         | 3/50 [00:08<02:19,  2.97s/it]"
     ]
    },
    {
     "name": "stdout",
     "output_type": "stream",
     "text": [
      "Iterations 30\n",
      "Maximizing with EGP\n",
      "Seed: 911\n",
      "Initial points: tensor([[ 0.0000,  0.1000, -0.5623, -1.0000],\n",
      "        [ 0.0000,  3.3212, -0.1959, -0.1870],\n",
      "        [ 0.0000,  2.5215, -0.2784, -0.1474],\n",
      "        [ 5.0000,  5.0000, -0.1000, -0.1000],\n",
      "        [ 2.0609,  5.4800,  0.0944,  0.1017]], dtype=torch.float64)\n"
     ]
    },
    {
     "name": "stderr",
     "output_type": "stream",
     "text": [
      "c:\\Users\\stan\\miniconda3\\envs\\researchTP\\Lib\\site-packages\\botorch\\optim\\fit.py:102: OptimizationWarning: `scipy_minimize` terminated with status OptimizationStatus.FAILURE, displaying original message from `scipy.optimize.minimize`: ABNORMAL_TERMINATION_IN_LNSRCH\n",
      "  warn(\n",
      "c:\\Users\\stan\\miniconda3\\envs\\researchTP\\Lib\\site-packages\\gpytorch\\distributions\\multivariate_normal.py:319: NumericalWarning: Negative variance values detected. This is likely due to numerical instabilities. Rounding negative variances up to 1e-10.\n",
      "  warnings.warn(\n",
      "c:\\Users\\stan\\miniconda3\\envs\\researchTP\\Lib\\site-packages\\gpytorch\\distributions\\multivariate_normal.py:319: NumericalWarning: Negative variance values detected. This is likely due to numerical instabilities. Rounding negative variances up to 1e-10.\n",
      "  warnings.warn(\n",
      "c:\\Users\\stan\\miniconda3\\envs\\researchTP\\Lib\\site-packages\\gpytorch\\distributions\\multivariate_normal.py:319: NumericalWarning: Negative variance values detected. This is likely due to numerical instabilities. Rounding negative variances up to 1e-10.\n",
      "  warnings.warn(\n",
      "c:\\Users\\stan\\miniconda3\\envs\\researchTP\\Lib\\site-packages\\botorch\\optim\\fit.py:102: OptimizationWarning: `scipy_minimize` terminated with status OptimizationStatus.FAILURE, displaying original message from `scipy.optimize.minimize`: ABNORMAL_TERMINATION_IN_LNSRCH\n",
      "  warn(\n",
      "  8%|▊         | 4/50 [00:10<02:00,  2.63s/it]"
     ]
    },
    {
     "name": "stdout",
     "output_type": "stream",
     "text": [
      "Iterations 12\n",
      "Maximizing with EGP\n",
      "Seed: 430\n",
      "Initial points: tensor([[ 5.0000,  5.0000, -0.1000, -0.1000],\n",
      "        [ 5.0000,  4.5458, -0.4541, -1.0000],\n",
      "        [ 0.0000,  3.1790, -0.2991, -0.0796],\n",
      "        [ 0.0000,  1.6900, -0.4148, -0.5639],\n",
      "        [ 5.0000,  6.4638, -0.4718, -0.5640]], dtype=torch.float64)\n"
     ]
    },
    {
     "name": "stderr",
     "output_type": "stream",
     "text": [
      "c:\\Users\\stan\\miniconda3\\envs\\researchTP\\Lib\\site-packages\\gpytorch\\distributions\\multivariate_normal.py:319: NumericalWarning: Negative variance values detected. This is likely due to numerical instabilities. Rounding negative variances up to 1e-10.\n",
      "  warnings.warn(\n",
      " 10%|█         | 5/50 [00:13<02:01,  2.69s/it]"
     ]
    },
    {
     "name": "stdout",
     "output_type": "stream",
     "text": [
      "Iterations 21\n",
      "Maximizing with EGP\n",
      "Seed: 41\n",
      "Initial points: tensor([[ 0.0371,  0.8939, -0.0352,  0.0479],\n",
      "        [ 0.0000,  1.5680, -0.3353, -0.3658],\n",
      "        [ 0.1593,  0.7977, -0.2004,  0.0291],\n",
      "        [ 5.0000,  0.1000, -0.4233, -1.0000],\n",
      "        [ 0.0000,  0.4773,  0.0410,  0.1919]], dtype=torch.float64)\n"
     ]
    },
    {
     "name": "stderr",
     "output_type": "stream",
     "text": [
      " 12%|█▏        | 6/50 [00:17<02:16,  3.10s/it]"
     ]
    },
    {
     "name": "stdout",
     "output_type": "stream",
     "text": [
      "Iterations 21\n",
      "Maximizing with EGP\n",
      "Seed: 265\n",
      "Initial points: tensor([[ 5.0000,  5.0000, -0.1000, -0.1000],\n",
      "        [ 0.0000,  2.5215, -0.2784, -0.1474],\n",
      "        [ 5.0000,  7.3613, -0.2902, -1.0000],\n",
      "        [ 1.4521,  4.7555, -0.2764, -1.0000],\n",
      "        [ 0.0000,  3.3212, -0.1959, -0.1870]], dtype=torch.float64)\n"
     ]
    },
    {
     "name": "stderr",
     "output_type": "stream",
     "text": [
      " 14%|█▍        | 7/50 [00:19<02:02,  2.85s/it]"
     ]
    },
    {
     "name": "stdout",
     "output_type": "stream",
     "text": [
      "Iterations 18\n",
      "Maximizing with EGP\n",
      "Seed: 988\n",
      "Initial points: tensor([[ 0.0000, 10.0000, -0.4595, -1.0000],\n",
      "        [ 5.0000, 10.0000, -0.3926, -1.0000],\n",
      "        [ 0.0000,  0.1000, -0.5623, -1.0000],\n",
      "        [ 0.9915,  3.3743, -0.2587, -0.4005],\n",
      "        [ 0.0000,  2.0191, -0.3103, -0.2361]], dtype=torch.float64)\n"
     ]
    },
    {
     "name": "stderr",
     "output_type": "stream",
     "text": [
      " 16%|█▌        | 8/50 [00:21<01:54,  2.73s/it]"
     ]
    },
    {
     "name": "stdout",
     "output_type": "stream",
     "text": [
      "Iterations 16\n",
      "Maximizing with EGP\n",
      "Seed: 523\n",
      "Initial points: tensor([[ 0.0000,  6.3258, -0.2227,  1.0000],\n",
      "        [ 3.9816,  9.5154, -0.5785, -1.0000],\n",
      "        [ 0.0000,  3.1974, -0.2930, -0.0577],\n",
      "        [ 5.0000,  0.1000,  0.1965, -1.0000],\n",
      "        [ 2.5684,  4.1282, -0.5554, -1.0000]], dtype=torch.float64)\n"
     ]
    },
    {
     "name": "stderr",
     "output_type": "stream",
     "text": [
      " 18%|█▊        | 9/50 [00:24<01:49,  2.68s/it]"
     ]
    },
    {
     "name": "stdout",
     "output_type": "stream",
     "text": [
      "Iterations 17\n",
      "Maximizing with EGP\n",
      "Seed: 497\n",
      "Initial points: tensor([[ 2.6662,  3.4044, -0.3233, -1.0000],\n",
      "        [ 0.0000,  2.4295, -0.2861, -0.1720],\n",
      "        [ 5.0000,  7.4215, -0.4697, -1.0000],\n",
      "        [ 3.7934,  6.3214, -0.3911, -1.0000],\n",
      "        [ 5.0000,  0.1000, -0.2250, -1.0000]], dtype=torch.float64)\n"
     ]
    },
    {
     "name": "stderr",
     "output_type": "stream",
     "text": [
      " 20%|██        | 10/50 [00:26<01:44,  2.62s/it]"
     ]
    },
    {
     "name": "stdout",
     "output_type": "stream",
     "text": [
      "Iterations 19\n",
      "Maximizing with EGP\n",
      "Seed: 414\n",
      "Initial points: tensor([[ 0.0000,  0.4773,  0.0410,  0.1919],\n",
      "        [ 0.0000,  1.0000,  0.0000,  0.0000],\n",
      "        [ 0.0000,  2.4295, -0.2861, -0.1720],\n",
      "        [ 1.7240,  4.1278, -0.3176, -0.5578],\n",
      "        [ 5.0000,  5.1008, -0.3230, -1.0000]], dtype=torch.float64)\n"
     ]
    },
    {
     "name": "stderr",
     "output_type": "stream",
     "text": [
      " 22%|██▏       | 11/50 [00:30<01:47,  2.77s/it]"
     ]
    },
    {
     "name": "stdout",
     "output_type": "stream",
     "text": [
      "Iterations 20\n",
      "Maximizing with EGP\n",
      "Seed: 940\n",
      "Initial points: tensor([[ 0.0000,  3.2964, -0.2238, -0.0925],\n",
      "        [ 0.0000,  3.1790, -0.2991, -0.0796],\n",
      "        [ 0.0000,  0.1000, -0.1540, -0.6338],\n",
      "        [ 2.5592,  2.7477, -0.1235, -1.0000],\n",
      "        [ 0.0000,  2.2215, -0.3013, -0.2119]], dtype=torch.float64)\n"
     ]
    },
    {
     "name": "stderr",
     "output_type": "stream",
     "text": [
      "c:\\Users\\stan\\miniconda3\\envs\\researchTP\\Lib\\site-packages\\gpytorch\\distributions\\multivariate_normal.py:319: NumericalWarning: Negative variance values detected. This is likely due to numerical instabilities. Rounding negative variances up to 1e-10.\n",
      "  warnings.warn(\n",
      "c:\\Users\\stan\\miniconda3\\envs\\researchTP\\Lib\\site-packages\\botorch\\optim\\fit.py:102: OptimizationWarning: `scipy_minimize` terminated with status OptimizationStatus.FAILURE, displaying original message from `scipy.optimize.minimize`: ABNORMAL_TERMINATION_IN_LNSRCH\n",
      "  warn(\n",
      " 24%|██▍       | 12/50 [00:32<01:41,  2.67s/it]"
     ]
    },
    {
     "name": "stdout",
     "output_type": "stream",
     "text": [
      "Iterations 15\n",
      "Maximizing with EGP\n",
      "Seed: 802\n",
      "Initial points: tensor([[ 2.0609,  5.4800,  0.0944,  0.1017],\n",
      "        [ 0.0000,  2.0191, -0.3103, -0.2361],\n",
      "        [ 0.0000, 10.0000, -0.4595, -1.0000],\n",
      "        [ 0.0000,  8.0179, -0.2473, -0.2150],\n",
      "        [ 0.0000,  3.2952, -0.2010, -0.1887]], dtype=torch.float64)\n"
     ]
    },
    {
     "name": "stderr",
     "output_type": "stream",
     "text": [
      "c:\\Users\\stan\\miniconda3\\envs\\researchTP\\Lib\\site-packages\\gpytorch\\distributions\\multivariate_normal.py:319: NumericalWarning: Negative variance values detected. This is likely due to numerical instabilities. Rounding negative variances up to 1e-10.\n",
      "  warnings.warn(\n",
      "c:\\Users\\stan\\miniconda3\\envs\\researchTP\\Lib\\site-packages\\gpytorch\\distributions\\multivariate_normal.py:319: NumericalWarning: Negative variance values detected. This is likely due to numerical instabilities. Rounding negative variances up to 1e-10.\n",
      "  warnings.warn(\n",
      "c:\\Users\\stan\\miniconda3\\envs\\researchTP\\Lib\\site-packages\\gpytorch\\distributions\\multivariate_normal.py:319: NumericalWarning: Negative variance values detected. This is likely due to numerical instabilities. Rounding negative variances up to 1e-10.\n",
      "  warnings.warn(\n",
      "c:\\Users\\stan\\miniconda3\\envs\\researchTP\\Lib\\site-packages\\gpytorch\\distributions\\multivariate_normal.py:319: NumericalWarning: Negative variance values detected. This is likely due to numerical instabilities. Rounding negative variances up to 1e-10.\n",
      "  warnings.warn(\n",
      "c:\\Users\\stan\\miniconda3\\envs\\researchTP\\Lib\\site-packages\\gpytorch\\distributions\\multivariate_normal.py:319: NumericalWarning: Negative variance values detected. This is likely due to numerical instabilities. Rounding negative variances up to 1e-10.\n",
      "  warnings.warn(\n",
      "c:\\Users\\stan\\miniconda3\\envs\\researchTP\\Lib\\site-packages\\gpytorch\\distributions\\multivariate_normal.py:319: NumericalWarning: Negative variance values detected. This is likely due to numerical instabilities. Rounding negative variances up to 1e-10.\n",
      "  warnings.warn(\n",
      " 26%|██▌       | 13/50 [00:35<01:39,  2.69s/it]"
     ]
    },
    {
     "name": "stdout",
     "output_type": "stream",
     "text": [
      "Iterations 17\n",
      "Maximizing with EGP\n",
      "Seed: 849\n",
      "Initial points: tensor([[ 5.0000,  5.1008, -0.3230, -1.0000],\n",
      "        [ 0.0000,  6.3258, -0.2227,  1.0000],\n",
      "        [ 3.9816,  9.5154, -0.5785, -1.0000],\n",
      "        [ 5.0000,  0.1000, -0.4233, -1.0000],\n",
      "        [ 2.5592,  2.7477, -0.1235, -1.0000]], dtype=torch.float64)\n"
     ]
    },
    {
     "name": "stderr",
     "output_type": "stream",
     "text": [
      " 28%|██▊       | 14/50 [00:37<01:35,  2.64s/it]"
     ]
    },
    {
     "name": "stdout",
     "output_type": "stream",
     "text": [
      "Iterations 24\n",
      "Maximizing with EGP\n",
      "Seed: 310\n",
      "Initial points: tensor([[ 0.0000, 10.0000,  0.0697, -1.0000],\n",
      "        [ 2.0609,  5.4800,  0.0944,  0.1017],\n",
      "        [ 0.0000,  0.1000, -0.2634, -1.0000],\n",
      "        [ 1.7240,  4.1278, -0.3176, -0.5578],\n",
      "        [ 0.0000,  1.5957, -0.3206, -0.4308]], dtype=torch.float64)\n"
     ]
    },
    {
     "name": "stderr",
     "output_type": "stream",
     "text": [
      " 30%|███       | 15/50 [00:39<01:24,  2.42s/it]"
     ]
    },
    {
     "name": "stdout",
     "output_type": "stream",
     "text": [
      "Iterations 13\n",
      "Maximizing with EGP\n",
      "Seed: 991\n",
      "Initial points: tensor([[ 5.0000,  7.3613, -0.2902, -1.0000],\n",
      "        [ 0.0000,  1.0000,  0.0000,  0.0000],\n",
      "        [ 3.5802,  7.8585, -0.3792, -1.0000],\n",
      "        [ 0.1593,  0.7977, -0.2004,  0.0291],\n",
      "        [ 0.0000,  1.8085, -0.4126, -0.2537]], dtype=torch.float64)\n"
     ]
    },
    {
     "name": "stderr",
     "output_type": "stream",
     "text": [
      " 32%|███▏      | 16/50 [00:41<01:18,  2.30s/it]"
     ]
    },
    {
     "name": "stdout",
     "output_type": "stream",
     "text": [
      "Iterations 18\n",
      "Maximizing with EGP\n",
      "Seed: 488\n",
      "Initial points: tensor([[ 0.7424,  1.7146, -0.3803, -0.4165],\n",
      "        [ 1.7240,  4.1278, -0.3176, -0.5578],\n",
      "        [ 5.0000, 10.0000, -0.4538, -1.0000],\n",
      "        [ 3.7044, 10.0000, -0.3167, -1.0000],\n",
      "        [ 5.0000,  5.0000, -0.1000, -0.1000]], dtype=torch.float64)\n"
     ]
    },
    {
     "name": "stderr",
     "output_type": "stream",
     "text": [
      " 34%|███▍      | 17/50 [00:43<01:11,  2.15s/it]"
     ]
    },
    {
     "name": "stdout",
     "output_type": "stream",
     "text": [
      "Iterations 18\n",
      "Maximizing with EGP\n",
      "Seed: 366\n",
      "Initial points: tensor([[ 5.0000,  6.4638, -0.4718, -0.5640],\n",
      "        [ 1.7240,  4.1278, -0.3176, -0.5578],\n",
      "        [ 0.0000,  3.2952, -0.2010, -0.1887],\n",
      "        [ 0.0000,  2.0191, -0.3103, -0.2361],\n",
      "        [ 2.5684,  4.1282, -0.5554, -1.0000]], dtype=torch.float64)\n"
     ]
    },
    {
     "name": "stderr",
     "output_type": "stream",
     "text": [
      "c:\\Users\\stan\\miniconda3\\envs\\researchTP\\Lib\\site-packages\\gpytorch\\distributions\\multivariate_normal.py:319: NumericalWarning: Negative variance values detected. This is likely due to numerical instabilities. Rounding negative variances up to 1e-10.\n",
      "  warnings.warn(\n",
      " 36%|███▌      | 18/50 [00:45<01:06,  2.09s/it]"
     ]
    },
    {
     "name": "stdout",
     "output_type": "stream",
     "text": [
      "Iterations 17\n",
      "Maximizing with EGP\n",
      "Seed: 597\n",
      "Initial points: tensor([[ 3.2702,  4.4234, -0.3743, -1.0000],\n",
      "        [ 0.0000,  8.0179, -0.2473, -0.2150],\n",
      "        [ 0.0000,  0.1000, -0.3998,  1.0000],\n",
      "        [ 5.0000,  1.7701, -0.7340, -1.0000],\n",
      "        [ 5.0000, 10.0000, -0.3926, -1.0000]], dtype=torch.float64)\n"
     ]
    },
    {
     "name": "stderr",
     "output_type": "stream",
     "text": [
      "c:\\Users\\stan\\miniconda3\\envs\\researchTP\\Lib\\site-packages\\botorch\\optim\\fit.py:102: OptimizationWarning: `scipy_minimize` terminated with status OptimizationStatus.FAILURE, displaying original message from `scipy.optimize.minimize`: ABNORMAL_TERMINATION_IN_LNSRCH\n",
      "  warn(\n",
      "c:\\Users\\stan\\miniconda3\\envs\\researchTP\\Lib\\site-packages\\gpytorch\\distributions\\multivariate_normal.py:319: NumericalWarning: Negative variance values detected. This is likely due to numerical instabilities. Rounding negative variances up to 1e-10.\n",
      "  warnings.warn(\n",
      "c:\\Users\\stan\\miniconda3\\envs\\researchTP\\Lib\\site-packages\\botorch\\optim\\fit.py:102: OptimizationWarning: `scipy_minimize` terminated with status OptimizationStatus.FAILURE, displaying original message from `scipy.optimize.minimize`: ABNORMAL_TERMINATION_IN_LNSRCH\n",
      "  warn(\n",
      " 38%|███▊      | 19/50 [00:49<01:25,  2.76s/it]"
     ]
    },
    {
     "name": "stdout",
     "output_type": "stream",
     "text": [
      "Iterations 38\n",
      "Maximizing with EGP\n",
      "Seed: 913\n",
      "Initial points: tensor([[ 0.0000, 10.0000,  0.0697, -1.0000],\n",
      "        [ 2.0609,  5.4800,  0.0944,  0.1017],\n",
      "        [ 0.0000,  1.0000,  0.0000,  0.0000],\n",
      "        [ 3.8362,  0.1000, -0.5153, -1.0000],\n",
      "        [ 0.0000,  3.4102, -0.1820, -0.2266]], dtype=torch.float64)\n"
     ]
    },
    {
     "name": "stderr",
     "output_type": "stream",
     "text": [
      "c:\\Users\\stan\\miniconda3\\envs\\researchTP\\Lib\\site-packages\\botorch\\optim\\fit.py:102: OptimizationWarning: `scipy_minimize` terminated with status OptimizationStatus.FAILURE, displaying original message from `scipy.optimize.minimize`: ABNORMAL_TERMINATION_IN_LNSRCH\n",
      "  warn(\n",
      "c:\\Users\\stan\\miniconda3\\envs\\researchTP\\Lib\\site-packages\\gpytorch\\distributions\\multivariate_normal.py:319: NumericalWarning: Negative variance values detected. This is likely due to numerical instabilities. Rounding negative variances up to 1e-10.\n",
      "  warnings.warn(\n",
      " 40%|████      | 20/50 [00:52<01:20,  2.69s/it]"
     ]
    },
    {
     "name": "stdout",
     "output_type": "stream",
     "text": [
      "Iterations 14\n",
      "Maximizing with EGP\n",
      "Seed: 929\n",
      "Initial points: tensor([[ 0.0000,  3.3136, -0.2131,  0.0247],\n",
      "        [ 1.0785,  3.8093, -0.4061, -0.2996],\n",
      "        [ 0.0000,  6.3258, -0.2227,  1.0000],\n",
      "        [ 0.0000,  3.2760, -0.2948,  0.0833],\n",
      "        [ 0.9915,  3.3743, -0.2587, -0.4005]], dtype=torch.float64)\n"
     ]
    },
    {
     "name": "stderr",
     "output_type": "stream",
     "text": [
      " 42%|████▏     | 21/50 [00:54<01:12,  2.49s/it]"
     ]
    },
    {
     "name": "stdout",
     "output_type": "stream",
     "text": [
      "Iterations 18\n",
      "Maximizing with EGP\n",
      "Seed: 223\n",
      "Initial points: tensor([[ 5.0000, 10.0000, -0.0304, -1.0000],\n",
      "        [ 0.0000,  3.1669, -0.3151, -0.3476],\n",
      "        [ 3.7934,  6.3214, -0.3911, -1.0000],\n",
      "        [ 0.0000,  0.1000, -0.3998,  1.0000],\n",
      "        [ 0.0000,  3.4039, -0.3961, -0.5694]], dtype=torch.float64)\n"
     ]
    },
    {
     "name": "stderr",
     "output_type": "stream",
     "text": [
      " 44%|████▍     | 22/50 [00:56<01:08,  2.45s/it]"
     ]
    },
    {
     "name": "stdout",
     "output_type": "stream",
     "text": [
      "Iterations 17\n",
      "Maximizing with EGP\n",
      "Seed: 516\n",
      "Initial points: tensor([[ 0.0000,  3.3212, -0.1959, -0.1870],\n",
      "        [ 0.0000,  3.1775, -0.2716, -0.0639],\n",
      "        [ 3.1350,  0.1000, -0.2861,  0.2420],\n",
      "        [ 0.0000,  0.1000, -0.5623, -1.0000],\n",
      "        [ 1.0785,  3.8093, -0.4061, -0.2996]], dtype=torch.float64)\n"
     ]
    },
    {
     "name": "stderr",
     "output_type": "stream",
     "text": [
      " 46%|████▌     | 23/50 [00:58<01:03,  2.33s/it]"
     ]
    },
    {
     "name": "stdout",
     "output_type": "stream",
     "text": [
      "Iterations 15\n",
      "Maximizing with EGP\n",
      "Seed: 142\n",
      "Initial points: tensor([[ 5.0000,  4.5458, -0.4541, -1.0000],\n",
      "        [ 0.9915,  3.3743, -0.2587, -0.4005],\n",
      "        [ 0.0000,  3.3212, -0.1959, -0.1870],\n",
      "        [ 0.0000,  0.1000, -0.2634, -1.0000],\n",
      "        [ 0.0000,  3.1775, -0.2716, -0.0639]], dtype=torch.float64)\n"
     ]
    },
    {
     "name": "stderr",
     "output_type": "stream",
     "text": [
      " 48%|████▊     | 24/50 [01:00<00:57,  2.22s/it]"
     ]
    },
    {
     "name": "stdout",
     "output_type": "stream",
     "text": [
      "Iterations 18\n",
      "Maximizing with EGP\n",
      "Seed: 288\n",
      "Initial points: tensor([[ 0.0000,  3.2952, -0.2010, -0.1887],\n",
      "        [ 0.0000,  0.1000, -0.2270, -0.2032],\n",
      "        [ 2.2161,  0.1000, -0.3517, -0.6288],\n",
      "        [ 0.0000,  2.5903, -0.2736, -0.1288],\n",
      "        [ 5.0000,  7.4215, -0.4697, -1.0000]], dtype=torch.float64)\n"
     ]
    },
    {
     "name": "stderr",
     "output_type": "stream",
     "text": [
      " 50%|█████     | 25/50 [01:02<00:52,  2.09s/it]"
     ]
    },
    {
     "name": "stdout",
     "output_type": "stream",
     "text": [
      "Iterations 14\n",
      "Maximizing with EGP\n",
      "Seed: 143\n",
      "Initial points: tensor([[ 0.0000,  3.3136, -0.2131,  0.0247],\n",
      "        [ 0.1593,  0.7977, -0.2004,  0.0291],\n",
      "        [ 0.0000,  0.1000, -0.8373, -1.0000],\n",
      "        [ 0.0000,  3.4039, -0.3961, -0.5694],\n",
      "        [ 0.0000, 10.0000,  0.0697, -1.0000]], dtype=torch.float64)\n"
     ]
    },
    {
     "name": "stderr",
     "output_type": "stream",
     "text": [
      " 52%|█████▏    | 26/50 [01:05<00:56,  2.37s/it]"
     ]
    },
    {
     "name": "stdout",
     "output_type": "stream",
     "text": [
      "Iterations 18\n",
      "Maximizing with EGP\n",
      "Seed: 773\n",
      "Initial points: tensor([[ 5.0000,  5.1008, -0.3230, -1.0000],\n",
      "        [ 5.0000,  0.1000,  0.1965, -1.0000],\n",
      "        [ 0.0000,  3.1974, -0.2930, -0.0577],\n",
      "        [ 1.0785,  3.8093, -0.4061, -0.2996],\n",
      "        [ 3.1350,  0.1000, -0.2861,  0.2420]], dtype=torch.float64)\n"
     ]
    },
    {
     "name": "stderr",
     "output_type": "stream",
     "text": [
      " 54%|█████▍    | 27/50 [01:08<00:55,  2.43s/it]"
     ]
    },
    {
     "name": "stdout",
     "output_type": "stream",
     "text": [
      "Iterations 22\n",
      "Maximizing with EGP\n",
      "Seed: 97\n",
      "Initial points: tensor([[ 5.0000, 10.0000, -0.4538, -1.0000],\n",
      "        [ 0.0000,  3.3556, -0.2666, -0.4412],\n",
      "        [ 5.0000,  5.1008, -0.3230, -1.0000],\n",
      "        [ 0.0000,  1.0000,  0.0000,  0.0000],\n",
      "        [ 5.0000,  0.1000, -0.2250, -1.0000]], dtype=torch.float64)\n"
     ]
    },
    {
     "name": "stderr",
     "output_type": "stream",
     "text": [
      "c:\\Users\\stan\\miniconda3\\envs\\researchTP\\Lib\\site-packages\\gpytorch\\distributions\\multivariate_normal.py:319: NumericalWarning: Negative variance values detected. This is likely due to numerical instabilities. Rounding negative variances up to 1e-10.\n",
      "  warnings.warn(\n",
      " 56%|█████▌    | 28/50 [01:10<00:52,  2.40s/it]"
     ]
    },
    {
     "name": "stdout",
     "output_type": "stream",
     "text": [
      "Iterations 16\n",
      "Maximizing with EGP\n",
      "Seed: 633\n",
      "Initial points: tensor([[ 0.0000,  0.1000, -0.3998,  1.0000],\n",
      "        [ 0.0000,  2.2215, -0.3013, -0.2119],\n",
      "        [ 0.0000,  2.3259, -0.2947, -0.1951],\n",
      "        [ 0.0000,  1.5680, -0.3353, -0.3658],\n",
      "        [ 0.0000,  1.6900, -0.4148, -0.5639]], dtype=torch.float64)\n"
     ]
    },
    {
     "name": "stderr",
     "output_type": "stream",
     "text": [
      " 58%|█████▊    | 29/50 [01:12<00:47,  2.28s/it]"
     ]
    },
    {
     "name": "stdout",
     "output_type": "stream",
     "text": [
      "Iterations 13\n",
      "Maximizing with EGP\n",
      "Seed: 818\n",
      "Initial points: tensor([[ 5.0000,  5.0000, -0.1000, -0.1000],\n",
      "        [ 5.0000,  0.1000,  0.1965, -1.0000],\n",
      "        [ 5.0000,  7.3613, -0.2902, -1.0000],\n",
      "        [ 0.0000,  2.5215, -0.2784, -0.1474],\n",
      "        [ 3.5802,  7.8585, -0.3792, -1.0000]], dtype=torch.float64)\n"
     ]
    },
    {
     "name": "stderr",
     "output_type": "stream",
     "text": [
      "c:\\Users\\stan\\miniconda3\\envs\\researchTP\\Lib\\site-packages\\gpytorch\\distributions\\multivariate_normal.py:319: NumericalWarning: Negative variance values detected. This is likely due to numerical instabilities. Rounding negative variances up to 1e-10.\n",
      "  warnings.warn(\n",
      " 60%|██████    | 30/50 [01:15<00:48,  2.41s/it]"
     ]
    },
    {
     "name": "stdout",
     "output_type": "stream",
     "text": [
      "Iterations 20\n",
      "Maximizing with EGP\n",
      "Seed: 256\n",
      "Initial points: tensor([[ 0.0000,  3.1775, -0.2716, -0.0639],\n",
      "        [ 5.0000,  0.1000, -0.2250, -1.0000],\n",
      "        [ 0.0000,  3.2225, -0.2445, -0.0745],\n",
      "        [ 3.4858,  5.9210, -0.2205, -1.0000],\n",
      "        [ 2.6662,  3.4044, -0.3233, -1.0000]], dtype=torch.float64)\n"
     ]
    },
    {
     "name": "stderr",
     "output_type": "stream",
     "text": [
      " 62%|██████▏   | 31/50 [01:18<00:52,  2.75s/it]"
     ]
    },
    {
     "name": "stdout",
     "output_type": "stream",
     "text": [
      "Iterations 31\n",
      "Maximizing with EGP\n",
      "Seed: 931\n",
      "Initial points: tensor([[ 0.0000,  0.1000, -0.2634, -1.0000],\n",
      "        [ 0.7424,  1.7146, -0.3803, -0.4165],\n",
      "        [ 0.0000,  3.4039, -0.3961, -0.5694],\n",
      "        [ 0.0000,  3.3212, -0.1959, -0.1870],\n",
      "        [ 0.0000,  1.8085, -0.4126, -0.2537]], dtype=torch.float64)\n"
     ]
    },
    {
     "name": "stderr",
     "output_type": "stream",
     "text": [
      " 64%|██████▍   | 32/50 [01:20<00:44,  2.47s/it]"
     ]
    },
    {
     "name": "stdout",
     "output_type": "stream",
     "text": [
      "Iterations 13\n",
      "Maximizing with EGP\n",
      "Seed: 545\n",
      "Initial points: tensor([[ 0.0000,  1.5957, -0.3206, -0.4308],\n",
      "        [ 0.0000, 10.0000, -0.4595, -1.0000],\n",
      "        [ 5.0000,  6.4638, -0.4718, -0.5640],\n",
      "        [ 1.0785,  3.8093, -0.4061, -0.2996],\n",
      "        [ 0.0000,  0.1000, -0.8373, -1.0000]], dtype=torch.float64)\n"
     ]
    },
    {
     "name": "stderr",
     "output_type": "stream",
     "text": [
      " 66%|██████▌   | 33/50 [01:22<00:38,  2.24s/it]"
     ]
    },
    {
     "name": "stdout",
     "output_type": "stream",
     "text": [
      "Iterations 13\n",
      "Maximizing with EGP\n",
      "Seed: 722\n",
      "Initial points: tensor([[ 0.0000,  0.1000, -0.3998,  1.0000],\n",
      "        [ 2.1384,  0.1000, -0.4647, -1.0000],\n",
      "        [ 0.0000,  3.0434, -0.2217,  0.0858],\n",
      "        [ 0.0000,  0.1000, -0.2634, -1.0000],\n",
      "        [ 0.0000,  3.3837, -0.3171,  0.0079]], dtype=torch.float64)\n"
     ]
    },
    {
     "name": "stderr",
     "output_type": "stream",
     "text": [
      "c:\\Users\\stan\\miniconda3\\envs\\researchTP\\Lib\\site-packages\\gpytorch\\distributions\\multivariate_normal.py:319: NumericalWarning: Negative variance values detected. This is likely due to numerical instabilities. Rounding negative variances up to 1e-10.\n",
      "  warnings.warn(\n",
      " 68%|██████▊   | 34/50 [01:24<00:38,  2.40s/it]"
     ]
    },
    {
     "name": "stdout",
     "output_type": "stream",
     "text": [
      "Iterations 18\n",
      "Maximizing with EGP\n",
      "Seed: 829\n",
      "Initial points: tensor([[ 1.4521e+00,  4.7555e+00, -2.7642e-01, -1.0000e+00],\n",
      "        [ 0.0000e+00,  1.0000e-01, -3.8331e-01, -2.5953e-02],\n",
      "        [ 0.0000e+00,  3.3837e+00, -3.1714e-01,  7.9208e-03],\n",
      "        [ 0.0000e+00,  3.2952e+00, -2.0105e-01, -1.8874e-01],\n",
      "        [ 5.0000e+00,  1.0000e+01, -3.0374e-02, -1.0000e+00]],\n",
      "       dtype=torch.float64)\n"
     ]
    },
    {
     "name": "stderr",
     "output_type": "stream",
     "text": [
      " 70%|███████   | 35/50 [01:28<00:41,  2.77s/it]"
     ]
    },
    {
     "name": "stdout",
     "output_type": "stream",
     "text": [
      "Iterations 38\n",
      "Maximizing with EGP\n",
      "Seed: 616\n",
      "Initial points: tensor([[ 0.0000,  6.3258, -0.2227,  1.0000],\n",
      "        [ 0.0371,  0.8939, -0.0352,  0.0479],\n",
      "        [ 5.0000,  0.1000, -0.2250, -1.0000],\n",
      "        [ 3.9816,  9.5154, -0.5785, -1.0000],\n",
      "        [ 0.0000,  1.8801, -0.4446, -0.1116]], dtype=torch.float64)\n"
     ]
    },
    {
     "name": "stderr",
     "output_type": "stream",
     "text": [
      " 72%|███████▏  | 36/50 [01:30<00:35,  2.51s/it]"
     ]
    },
    {
     "name": "stdout",
     "output_type": "stream",
     "text": [
      "Iterations 13\n",
      "Maximizing with EGP\n",
      "Seed: 923\n",
      "Initial points: tensor([[ 2.1384,  0.1000, -0.4647, -1.0000],\n",
      "        [ 3.7934,  6.3214, -0.3911, -1.0000],\n",
      "        [ 2.5592,  2.7477, -0.1235, -1.0000],\n",
      "        [ 5.0000,  5.1008, -0.3230, -1.0000],\n",
      "        [ 0.0000,  2.2215, -0.3013, -0.2119]], dtype=torch.float64)\n"
     ]
    },
    {
     "name": "stderr",
     "output_type": "stream",
     "text": [
      "c:\\Users\\stan\\miniconda3\\envs\\researchTP\\Lib\\site-packages\\gpytorch\\distributions\\multivariate_normal.py:319: NumericalWarning: Negative variance values detected. This is likely due to numerical instabilities. Rounding negative variances up to 1e-10.\n",
      "  warnings.warn(\n",
      "c:\\Users\\stan\\miniconda3\\envs\\researchTP\\Lib\\site-packages\\gpytorch\\distributions\\multivariate_normal.py:319: NumericalWarning: Negative variance values detected. This is likely due to numerical instabilities. Rounding negative variances up to 1e-10.\n",
      "  warnings.warn(\n",
      "c:\\Users\\stan\\miniconda3\\envs\\researchTP\\Lib\\site-packages\\linear_operator\\utils\\cholesky.py:40: NumericalWarning: A not p.d., added jitter of 1.0e-08 to the diagonal\n",
      "  warnings.warn(\n",
      "c:\\Users\\stan\\miniconda3\\envs\\researchTP\\Lib\\site-packages\\linear_operator\\utils\\cholesky.py:40: NumericalWarning: A not p.d., added jitter of 1.0e-07 to the diagonal\n",
      "  warnings.warn(\n",
      "c:\\Users\\stan\\miniconda3\\envs\\researchTP\\Lib\\site-packages\\linear_operator\\utils\\cholesky.py:40: NumericalWarning: A not p.d., added jitter of 1.0e-06 to the diagonal\n",
      "  warnings.warn(\n",
      "c:\\Users\\stan\\miniconda3\\envs\\researchTP\\Lib\\site-packages\\linear_operator\\utils\\cholesky.py:40: NumericalWarning: A not p.d., added jitter of 1.0e-05 to the diagonal\n",
      "  warnings.warn(\n",
      "c:\\Users\\stan\\miniconda3\\envs\\researchTP\\Lib\\site-packages\\linear_operator\\utils\\cholesky.py:40: NumericalWarning: A not p.d., added jitter of 1.0e-04 to the diagonal\n",
      "  warnings.warn(\n",
      " 74%|███████▍  | 37/50 [01:32<00:30,  2.37s/it]"
     ]
    },
    {
     "name": "stdout",
     "output_type": "stream",
     "text": [
      "Iterations 16\n",
      "Maximizing with EGP\n",
      "Seed: 150\n",
      "Initial points: tensor([[ 5.0000,  7.4215, -0.4697, -1.0000],\n",
      "        [ 1.7240,  4.1278, -0.3176, -0.5578],\n",
      "        [ 0.0000,  1.8801, -0.4446, -0.1116],\n",
      "        [ 2.0609,  5.4800,  0.0944,  0.1017],\n",
      "        [ 0.0000,  8.0179, -0.2473, -0.2150]], dtype=torch.float64)\n"
     ]
    },
    {
     "name": "stderr",
     "output_type": "stream",
     "text": [
      " 76%|███████▌  | 38/50 [01:34<00:28,  2.39s/it]"
     ]
    },
    {
     "name": "stdout",
     "output_type": "stream",
     "text": [
      "Iterations 17\n",
      "Maximizing with EGP\n",
      "Seed: 317\n",
      "Initial points: tensor([[ 3.1350,  0.1000, -0.2861,  0.2420],\n",
      "        [ 0.0000,  0.1000, -0.2270, -0.2032],\n",
      "        [ 0.0000,  3.1775, -0.2716, -0.0639],\n",
      "        [ 2.1384,  0.1000, -0.4647, -1.0000],\n",
      "        [ 0.0000,  1.5680, -0.3353, -0.3658]], dtype=torch.float64)\n"
     ]
    },
    {
     "name": "stderr",
     "output_type": "stream",
     "text": [
      "c:\\Users\\stan\\miniconda3\\envs\\researchTP\\Lib\\site-packages\\gpytorch\\distributions\\multivariate_normal.py:319: NumericalWarning: Negative variance values detected. This is likely due to numerical instabilities. Rounding negative variances up to 1e-10.\n",
      "  warnings.warn(\n",
      " 78%|███████▊  | 39/50 [01:37<00:25,  2.31s/it]"
     ]
    },
    {
     "name": "stdout",
     "output_type": "stream",
     "text": [
      "Iterations 17\n",
      "Maximizing with EGP\n",
      "Seed: 101\n",
      "Initial points: tensor([[ 3.9816,  9.5154, -0.5785, -1.0000],\n",
      "        [ 3.7934,  6.3214, -0.3911, -1.0000],\n",
      "        [ 0.0000, 10.0000, -0.4595, -1.0000],\n",
      "        [ 5.0000,  8.5632, -0.3571, -1.0000],\n",
      "        [ 0.0000,  4.0745, -0.3206, -1.0000]], dtype=torch.float64)\n"
     ]
    },
    {
     "name": "stderr",
     "output_type": "stream",
     "text": [
      " 80%|████████  | 40/50 [01:41<00:30,  3.05s/it]"
     ]
    },
    {
     "name": "stdout",
     "output_type": "stream",
     "text": [
      "Iterations 43\n",
      "Maximizing with EGP\n",
      "Seed: 747\n",
      "Initial points: tensor([[ 0.0000,  3.0434, -0.2217,  0.0858],\n",
      "        [ 0.0000,  0.1000, -0.2634, -1.0000],\n",
      "        [ 0.0000,  3.2714, -0.2151, -0.1070],\n",
      "        [ 0.0000,  2.4295, -0.2861, -0.1720],\n",
      "        [ 0.0000,  3.1669, -0.3151, -0.3476]], dtype=torch.float64)\n"
     ]
    },
    {
     "name": "stderr",
     "output_type": "stream",
     "text": [
      " 82%|████████▏ | 41/50 [01:43<00:24,  2.73s/it]"
     ]
    },
    {
     "name": "stdout",
     "output_type": "stream",
     "text": [
      "Iterations 16\n",
      "Maximizing with EGP\n",
      "Seed: 75\n",
      "Initial points: tensor([[ 3.7934,  6.3214, -0.3911, -1.0000],\n",
      "        [ 2.2161,  0.1000, -0.3517, -0.6288],\n",
      "        [ 5.0000,  6.4638, -0.4718, -0.5640],\n",
      "        [ 2.5684,  4.1282, -0.5554, -1.0000],\n",
      "        [ 5.0000,  0.1000,  0.1965, -1.0000]], dtype=torch.float64)\n"
     ]
    },
    {
     "name": "stderr",
     "output_type": "stream",
     "text": [
      "c:\\Users\\stan\\miniconda3\\envs\\researchTP\\Lib\\site-packages\\botorch\\optim\\fit.py:102: OptimizationWarning: `scipy_minimize` terminated with status OptimizationStatus.FAILURE, displaying original message from `scipy.optimize.minimize`: ABNORMAL_TERMINATION_IN_LNSRCH\n",
      "  warn(\n",
      " 84%|████████▍ | 42/50 [01:48<00:26,  3.33s/it]"
     ]
    },
    {
     "name": "stdout",
     "output_type": "stream",
     "text": [
      "Iterations 39\n",
      "Maximizing with EGP\n",
      "Seed: 920\n",
      "Initial points: tensor([[ 0.0000,  2.5903, -0.2736, -0.1288],\n",
      "        [ 5.0000,  6.4638, -0.4718, -0.5640],\n",
      "        [ 1.7240,  4.1278, -0.3176, -0.5578],\n",
      "        [ 0.0000,  3.2714, -0.2151, -0.1070],\n",
      "        [ 0.0000,  3.2225, -0.2445, -0.0745]], dtype=torch.float64)\n"
     ]
    },
    {
     "name": "stderr",
     "output_type": "stream",
     "text": [
      "c:\\Users\\stan\\miniconda3\\envs\\researchTP\\Lib\\site-packages\\linear_operator\\utils\\cholesky.py:40: NumericalWarning: A not p.d., added jitter of 1.0e-08 to the diagonal\n",
      "  warnings.warn(\n",
      "c:\\Users\\stan\\miniconda3\\envs\\researchTP\\Lib\\site-packages\\linear_operator\\utils\\cholesky.py:40: NumericalWarning: A not p.d., added jitter of 1.0e-07 to the diagonal\n",
      "  warnings.warn(\n",
      "c:\\Users\\stan\\miniconda3\\envs\\researchTP\\Lib\\site-packages\\linear_operator\\utils\\cholesky.py:40: NumericalWarning: A not p.d., added jitter of 1.0e-06 to the diagonal\n",
      "  warnings.warn(\n",
      "c:\\Users\\stan\\miniconda3\\envs\\researchTP\\Lib\\site-packages\\linear_operator\\utils\\cholesky.py:40: NumericalWarning: A not p.d., added jitter of 1.0e-05 to the diagonal\n",
      "  warnings.warn(\n",
      "c:\\Users\\stan\\miniconda3\\envs\\researchTP\\Lib\\site-packages\\linear_operator\\utils\\cholesky.py:40: NumericalWarning: A not p.d., added jitter of 1.0e-04 to the diagonal\n",
      "  warnings.warn(\n",
      "c:\\Users\\stan\\miniconda3\\envs\\researchTP\\Lib\\site-packages\\linear_operator\\utils\\cholesky.py:40: NumericalWarning: A not p.d., added jitter of 1.0e-03 to the diagonal\n",
      "  warnings.warn(\n",
      " 86%|████████▌ | 43/50 [01:51<00:21,  3.07s/it]"
     ]
    },
    {
     "name": "stdout",
     "output_type": "stream",
     "text": [
      "Iterations 19\n",
      "Maximizing with EGP\n",
      "Seed: 870\n",
      "Initial points: tensor([[ 0.0000,  1.0000,  0.0000,  0.0000],\n",
      "        [ 0.0000,  2.4295, -0.2861, -0.1720],\n",
      "        [ 0.0000,  2.3259, -0.2947, -0.1951],\n",
      "        [ 0.0000, 10.0000, -0.4595, -1.0000],\n",
      "        [ 0.0000,  6.3258, -0.2227,  1.0000]], dtype=torch.float64)\n"
     ]
    },
    {
     "name": "stderr",
     "output_type": "stream",
     "text": [
      " 88%|████████▊ | 44/50 [01:53<00:17,  2.85s/it]"
     ]
    },
    {
     "name": "stdout",
     "output_type": "stream",
     "text": [
      "Iterations 14\n",
      "Maximizing with EGP\n",
      "Seed: 700\n",
      "Initial points: tensor([[ 3.1350,  0.1000, -0.2861,  0.2420],\n",
      "        [ 3.8362,  0.1000, -0.5153, -1.0000],\n",
      "        [ 5.0000,  6.4638, -0.4718, -0.5640],\n",
      "        [ 5.0000, 10.0000, -0.4538, -1.0000],\n",
      "        [ 0.0000,  1.8085, -0.4126, -0.2537]], dtype=torch.float64)\n"
     ]
    },
    {
     "name": "stderr",
     "output_type": "stream",
     "text": [
      "c:\\Users\\stan\\miniconda3\\envs\\researchTP\\Lib\\site-packages\\gpytorch\\distributions\\multivariate_normal.py:319: NumericalWarning: Negative variance values detected. This is likely due to numerical instabilities. Rounding negative variances up to 1e-10.\n",
      "  warnings.warn(\n",
      "c:\\Users\\stan\\miniconda3\\envs\\researchTP\\Lib\\site-packages\\botorch\\optim\\fit.py:102: OptimizationWarning: `scipy_minimize` terminated with status OptimizationStatus.FAILURE, displaying original message from `scipy.optimize.minimize`: ABNORMAL_TERMINATION_IN_LNSRCH\n",
      "  warn(\n",
      "c:\\Users\\stan\\miniconda3\\envs\\researchTP\\Lib\\site-packages\\botorch\\optim\\fit.py:102: OptimizationWarning: `scipy_minimize` terminated with status OptimizationStatus.FAILURE, displaying original message from `scipy.optimize.minimize`: ABNORMAL_TERMINATION_IN_LNSRCH\n",
      "  warn(\n",
      "c:\\Users\\stan\\miniconda3\\envs\\researchTP\\Lib\\site-packages\\linear_operator\\utils\\cholesky.py:40: NumericalWarning: A not p.d., added jitter of 1.0e-08 to the diagonal\n",
      "  warnings.warn(\n",
      "c:\\Users\\stan\\miniconda3\\envs\\researchTP\\Lib\\site-packages\\linear_operator\\utils\\cholesky.py:40: NumericalWarning: A not p.d., added jitter of 1.0e-07 to the diagonal\n",
      "  warnings.warn(\n",
      "c:\\Users\\stan\\miniconda3\\envs\\researchTP\\Lib\\site-packages\\linear_operator\\utils\\cholesky.py:40: NumericalWarning: A not p.d., added jitter of 1.0e-06 to the diagonal\n",
      "  warnings.warn(\n",
      "c:\\Users\\stan\\miniconda3\\envs\\researchTP\\Lib\\site-packages\\linear_operator\\utils\\cholesky.py:40: NumericalWarning: A not p.d., added jitter of 1.0e-05 to the diagonal\n",
      "  warnings.warn(\n",
      "c:\\Users\\stan\\miniconda3\\envs\\researchTP\\Lib\\site-packages\\linear_operator\\utils\\cholesky.py:40: NumericalWarning: A not p.d., added jitter of 1.0e-04 to the diagonal\n",
      "  warnings.warn(\n",
      "c:\\Users\\stan\\miniconda3\\envs\\researchTP\\Lib\\site-packages\\linear_operator\\utils\\cholesky.py:40: NumericalWarning: A not p.d., added jitter of 1.0e-03 to the diagonal\n",
      "  warnings.warn(\n",
      "c:\\Users\\stan\\miniconda3\\envs\\researchTP\\Lib\\site-packages\\gpytorch\\distributions\\multivariate_normal.py:319: NumericalWarning: Negative variance values detected. This is likely due to numerical instabilities. Rounding negative variances up to 1e-10.\n",
      "  warnings.warn(\n",
      " 90%|█████████ | 45/50 [01:55<00:13,  2.73s/it]"
     ]
    },
    {
     "name": "stdout",
     "output_type": "stream",
     "text": [
      "Iterations 16\n",
      "Maximizing with EGP\n",
      "Seed: 338\n",
      "Initial points: tensor([[ 0.0000,  1.5680, -0.3353, -0.3658],\n",
      "        [ 0.0000,  0.1000, -0.3998,  1.0000],\n",
      "        [ 5.0000,  4.5458, -0.4541, -1.0000],\n",
      "        [ 0.0000, 10.0000, -0.4595, -1.0000],\n",
      "        [ 3.5559,  6.5677, -0.4093, -1.0000]], dtype=torch.float64)\n"
     ]
    },
    {
     "name": "stderr",
     "output_type": "stream",
     "text": [
      "c:\\Users\\stan\\miniconda3\\envs\\researchTP\\Lib\\site-packages\\gpytorch\\distributions\\multivariate_normal.py:319: NumericalWarning: Negative variance values detected. This is likely due to numerical instabilities. Rounding negative variances up to 1e-10.\n",
      "  warnings.warn(\n",
      " 92%|█████████▏| 46/50 [01:58<00:10,  2.63s/it]"
     ]
    },
    {
     "name": "stdout",
     "output_type": "stream",
     "text": [
      "Iterations 20\n",
      "Maximizing with EGP\n",
      "Seed: 483\n",
      "Initial points: tensor([[ 5.0000,  0.1000, -0.4233, -1.0000],\n",
      "        [ 0.0000,  1.5680, -0.3353, -0.3658],\n",
      "        [ 0.0000,  3.4039, -0.3961, -0.5694],\n",
      "        [ 0.0000,  3.2714, -0.2151, -0.1070],\n",
      "        [ 0.0000,  2.4295, -0.2861, -0.1720]], dtype=torch.float64)\n"
     ]
    },
    {
     "name": "stderr",
     "output_type": "stream",
     "text": [
      " 94%|█████████▍| 47/50 [02:01<00:08,  2.70s/it]"
     ]
    },
    {
     "name": "stdout",
     "output_type": "stream",
     "text": [
      "Iterations 20\n",
      "Maximizing with EGP\n",
      "Seed: 573\n",
      "Initial points: tensor([[ 0.0000,  3.4102, -0.1820, -0.2266],\n",
      "        [ 0.0000,  3.1790, -0.2991, -0.0796],\n",
      "        [ 0.0000,  1.6900, -0.4148, -0.5639],\n",
      "        [ 0.7424,  1.7146, -0.3803, -0.4165],\n",
      "        [ 0.0000,  8.0179, -0.2473, -0.2150]], dtype=torch.float64)\n"
     ]
    },
    {
     "name": "stderr",
     "output_type": "stream",
     "text": [
      "c:\\Users\\stan\\miniconda3\\envs\\researchTP\\Lib\\site-packages\\botorch\\optim\\fit.py:102: OptimizationWarning: `scipy_minimize` terminated with status OptimizationStatus.FAILURE, displaying original message from `scipy.optimize.minimize`: ABNORMAL_TERMINATION_IN_LNSRCH\n",
      "  warn(\n",
      " 96%|█████████▌| 48/50 [02:03<00:05,  2.66s/it]"
     ]
    },
    {
     "name": "stdout",
     "output_type": "stream",
     "text": [
      "Iterations 14\n",
      "Maximizing with EGP\n",
      "Seed: 103\n",
      "Initial points: tensor([[ 0.0000,  3.3556, -0.2666, -0.4412],\n",
      "        [ 0.0000,  6.3258, -0.2227,  1.0000],\n",
      "        [ 0.0000,  1.5680, -0.3353, -0.3658],\n",
      "        [ 0.0000,  2.4295, -0.2861, -0.1720],\n",
      "        [ 0.0000,  0.1000, -0.2270, -0.2032]], dtype=torch.float64)\n"
     ]
    },
    {
     "name": "stderr",
     "output_type": "stream",
     "text": [
      " 98%|█████████▊| 49/50 [02:05<00:02,  2.43s/it]"
     ]
    },
    {
     "name": "stdout",
     "output_type": "stream",
     "text": [
      "Iterations 13\n",
      "Maximizing with EGP\n",
      "Seed: 362\n",
      "Initial points: tensor([[ 0.0000e+00,  3.2760e+00, -2.9481e-01,  8.3335e-02],\n",
      "        [ 0.0000e+00,  9.9993e-01,  5.5400e-06,  2.5200e-05],\n",
      "        [ 0.0000e+00,  4.7730e-01,  4.0987e-02,  1.9186e-01],\n",
      "        [ 5.0000e+00,  5.0000e+00, -1.0000e-01, -1.0000e-01],\n",
      "        [ 0.0000e+00,  1.0000e-01, -1.5395e-01, -6.3383e-01]],\n",
      "       dtype=torch.float64)\n"
     ]
    },
    {
     "name": "stderr",
     "output_type": "stream",
     "text": [
      "c:\\Users\\stan\\miniconda3\\envs\\researchTP\\Lib\\site-packages\\gpytorch\\distributions\\multivariate_normal.py:319: NumericalWarning: Negative variance values detected. This is likely due to numerical instabilities. Rounding negative variances up to 1e-10.\n",
      "  warnings.warn(\n",
      "100%|██████████| 50/50 [02:08<00:00,  2.56s/it]\n"
     ]
    },
    {
     "name": "stdout",
     "output_type": "stream",
     "text": [
      "Iterations 19\n"
     ]
    },
    {
     "name": "stderr",
     "output_type": "stream",
     "text": [
      "  0%|          | 0/50 [00:00<?, ?it/s]"
     ]
    },
    {
     "name": "stdout",
     "output_type": "stream",
     "text": [
      "Maximizing with STP\n",
      "Seed: 864\n",
      "Initial points: tensor([[ 5.0000,  7.3613, -0.2902, -1.0000],\n",
      "        [ 0.0000,  2.5903, -0.2736, -0.1288],\n",
      "        [ 5.0000, 10.0000, -0.4538, -1.0000],\n",
      "        [ 0.0000,  0.1000, -0.2270, -0.2032],\n",
      "        [ 0.0000,  1.5957, -0.3206, -0.4308]], dtype=torch.float64)\n"
     ]
    },
    {
     "name": "stderr",
     "output_type": "stream",
     "text": [
      "  2%|▏         | 1/50 [00:03<02:40,  3.28s/it]"
     ]
    },
    {
     "name": "stdout",
     "output_type": "stream",
     "text": [
      "Iterations 10\n",
      "Maximizing with STP\n",
      "Seed: 394\n",
      "Initial points: tensor([[ 0.0000,  3.2714, -0.2151, -0.1070],\n",
      "        [ 0.0000,  3.4102, -0.1820, -0.2266],\n",
      "        [ 5.0000,  0.1000,  0.1965, -1.0000],\n",
      "        [ 0.0000,  2.4295, -0.2861, -0.1720],\n",
      "        [ 0.1593,  0.7977, -0.2004,  0.0291]], dtype=torch.float64)\n"
     ]
    },
    {
     "name": "stderr",
     "output_type": "stream",
     "text": [
      "  4%|▍         | 2/50 [00:06<02:49,  3.53s/it]"
     ]
    },
    {
     "name": "stdout",
     "output_type": "stream",
     "text": [
      "Iterations 11\n",
      "Maximizing with STP\n",
      "Seed: 776\n",
      "Initial points: tensor([[ 5.0000,  0.1000, -0.2250, -1.0000],\n",
      "        [ 0.6155,  3.1238, -0.2301, -0.0963],\n",
      "        [ 2.2161,  0.1000, -0.3517, -0.6288],\n",
      "        [ 3.7934,  6.3214, -0.3911, -1.0000],\n",
      "        [ 5.0000,  6.4638, -0.4718, -0.5640]], dtype=torch.float64)\n"
     ]
    },
    {
     "name": "stderr",
     "output_type": "stream",
     "text": [
      "  6%|▌         | 3/50 [00:13<03:49,  4.88s/it]"
     ]
    },
    {
     "name": "stdout",
     "output_type": "stream",
     "text": [
      "Iterations 19\n",
      "Maximizing with STP\n",
      "Seed: 911\n",
      "Initial points: tensor([[ 0.0000,  0.1000, -0.5623, -1.0000],\n",
      "        [ 0.0000,  3.3212, -0.1959, -0.1870],\n",
      "        [ 0.0000,  2.5215, -0.2784, -0.1474],\n",
      "        [ 5.0000,  5.0000, -0.1000, -0.1000],\n",
      "        [ 2.0609,  5.4800,  0.0944,  0.1017]], dtype=torch.float64)\n"
     ]
    },
    {
     "name": "stderr",
     "output_type": "stream",
     "text": [
      "  8%|▊         | 4/50 [00:17<03:33,  4.65s/it]"
     ]
    },
    {
     "name": "stdout",
     "output_type": "stream",
     "text": [
      "Iterations 13\n",
      "Maximizing with STP\n",
      "Seed: 430\n",
      "Initial points: tensor([[ 5.0000,  5.0000, -0.1000, -0.1000],\n",
      "        [ 5.0000,  4.5458, -0.4541, -1.0000],\n",
      "        [ 0.0000,  3.1790, -0.2991, -0.0796],\n",
      "        [ 0.0000,  1.6900, -0.4148, -0.5639],\n",
      "        [ 5.0000,  6.4638, -0.4718, -0.5640]], dtype=torch.float64)\n"
     ]
    },
    {
     "name": "stderr",
     "output_type": "stream",
     "text": [
      " 10%|█         | 5/50 [00:22<03:29,  4.66s/it]"
     ]
    },
    {
     "name": "stdout",
     "output_type": "stream",
     "text": [
      "Iterations 14\n",
      "Maximizing with STP\n",
      "Seed: 41\n",
      "Initial points: tensor([[ 0.0371,  0.8939, -0.0352,  0.0479],\n",
      "        [ 0.0000,  1.5680, -0.3353, -0.3658],\n",
      "        [ 0.1593,  0.7977, -0.2004,  0.0291],\n",
      "        [ 5.0000,  0.1000, -0.4233, -1.0000],\n",
      "        [ 0.0000,  0.4773,  0.0410,  0.1919]], dtype=torch.float64)\n"
     ]
    },
    {
     "name": "stderr",
     "output_type": "stream",
     "text": [
      " 12%|█▏        | 6/50 [00:27<03:35,  4.89s/it]"
     ]
    },
    {
     "name": "stdout",
     "output_type": "stream",
     "text": [
      "Iterations 16\n",
      "Maximizing with STP\n",
      "Seed: 265\n",
      "Initial points: tensor([[ 5.0000,  5.0000, -0.1000, -0.1000],\n",
      "        [ 0.0000,  2.5215, -0.2784, -0.1474],\n",
      "        [ 5.0000,  7.3613, -0.2902, -1.0000],\n",
      "        [ 1.4521,  4.7555, -0.2764, -1.0000],\n",
      "        [ 0.0000,  3.3212, -0.1959, -0.1870]], dtype=torch.float64)\n"
     ]
    },
    {
     "name": "stderr",
     "output_type": "stream",
     "text": [
      " 14%|█▍        | 7/50 [00:31<03:16,  4.56s/it]"
     ]
    },
    {
     "name": "stdout",
     "output_type": "stream",
     "text": [
      "Iterations 12\n",
      "Maximizing with STP\n",
      "Seed: 988\n",
      "Initial points: tensor([[ 0.0000, 10.0000, -0.4595, -1.0000],\n",
      "        [ 5.0000, 10.0000, -0.3926, -1.0000],\n",
      "        [ 0.0000,  0.1000, -0.5623, -1.0000],\n",
      "        [ 0.9915,  3.3743, -0.2587, -0.4005],\n",
      "        [ 0.0000,  2.0191, -0.3103, -0.2361]], dtype=torch.float64)\n"
     ]
    },
    {
     "name": "stderr",
     "output_type": "stream",
     "text": [
      " 16%|█▌        | 8/50 [00:35<03:03,  4.37s/it]"
     ]
    },
    {
     "name": "stdout",
     "output_type": "stream",
     "text": [
      "Iterations 12\n",
      "Maximizing with STP\n",
      "Seed: 523\n",
      "Initial points: tensor([[ 0.0000,  6.3258, -0.2227,  1.0000],\n",
      "        [ 3.9816,  9.5154, -0.5785, -1.0000],\n",
      "        [ 0.0000,  3.1974, -0.2930, -0.0577],\n",
      "        [ 5.0000,  0.1000,  0.1965, -1.0000],\n",
      "        [ 2.5684,  4.1282, -0.5554, -1.0000]], dtype=torch.float64)\n"
     ]
    },
    {
     "name": "stderr",
     "output_type": "stream",
     "text": [
      " 18%|█▊        | 9/50 [00:43<03:44,  5.48s/it]"
     ]
    },
    {
     "name": "stdout",
     "output_type": "stream",
     "text": [
      "Iterations 23\n",
      "Maximizing with STP\n",
      "Seed: 497\n",
      "Initial points: tensor([[ 2.6662,  3.4044, -0.3233, -1.0000],\n",
      "        [ 0.0000,  2.4295, -0.2861, -0.1720],\n",
      "        [ 5.0000,  7.4215, -0.4697, -1.0000],\n",
      "        [ 3.7934,  6.3214, -0.3911, -1.0000],\n",
      "        [ 5.0000,  0.1000, -0.2250, -1.0000]], dtype=torch.float64)\n"
     ]
    },
    {
     "name": "stderr",
     "output_type": "stream",
     "text": [
      " 20%|██        | 10/50 [00:48<03:37,  5.44s/it]"
     ]
    },
    {
     "name": "stdout",
     "output_type": "stream",
     "text": [
      "Iterations 16\n",
      "Maximizing with STP\n",
      "Seed: 414\n",
      "Initial points: tensor([[ 0.0000,  0.4773,  0.0410,  0.1919],\n",
      "        [ 0.0000,  1.0000,  0.0000,  0.0000],\n",
      "        [ 0.0000,  2.4295, -0.2861, -0.1720],\n",
      "        [ 1.7240,  4.1278, -0.3176, -0.5578],\n",
      "        [ 5.0000,  5.1008, -0.3230, -1.0000]], dtype=torch.float64)\n"
     ]
    },
    {
     "name": "stderr",
     "output_type": "stream",
     "text": [
      " 22%|██▏       | 11/50 [00:54<03:31,  5.42s/it]"
     ]
    },
    {
     "name": "stdout",
     "output_type": "stream",
     "text": [
      "Iterations 16\n",
      "Maximizing with STP\n",
      "Seed: 940\n",
      "Initial points: tensor([[ 0.0000,  3.2964, -0.2238, -0.0925],\n",
      "        [ 0.0000,  3.1790, -0.2991, -0.0796],\n",
      "        [ 0.0000,  0.1000, -0.1540, -0.6338],\n",
      "        [ 2.5592,  2.7477, -0.1235, -1.0000],\n",
      "        [ 0.0000,  2.2215, -0.3013, -0.2119]], dtype=torch.float64)\n"
     ]
    },
    {
     "name": "stderr",
     "output_type": "stream",
     "text": [
      " 24%|██▍       | 12/50 [00:58<03:08,  4.97s/it]"
     ]
    },
    {
     "name": "stdout",
     "output_type": "stream",
     "text": [
      "Iterations 12\n",
      "Maximizing with STP\n",
      "Seed: 802\n",
      "Initial points: tensor([[ 2.0609,  5.4800,  0.0944,  0.1017],\n",
      "        [ 0.0000,  2.0191, -0.3103, -0.2361],\n",
      "        [ 0.0000, 10.0000, -0.4595, -1.0000],\n",
      "        [ 0.0000,  8.0179, -0.2473, -0.2150],\n",
      "        [ 0.0000,  3.2952, -0.2010, -0.1887]], dtype=torch.float64)\n"
     ]
    },
    {
     "name": "stderr",
     "output_type": "stream",
     "text": [
      " 26%|██▌       | 13/50 [01:03<03:04,  4.99s/it]"
     ]
    },
    {
     "name": "stdout",
     "output_type": "stream",
     "text": [
      "Iterations 15\n",
      "Maximizing with STP\n",
      "Seed: 849\n",
      "Initial points: tensor([[ 5.0000,  5.1008, -0.3230, -1.0000],\n",
      "        [ 0.0000,  6.3258, -0.2227,  1.0000],\n",
      "        [ 3.9816,  9.5154, -0.5785, -1.0000],\n",
      "        [ 5.0000,  0.1000, -0.4233, -1.0000],\n",
      "        [ 2.5592,  2.7477, -0.1235, -1.0000]], dtype=torch.float64)\n"
     ]
    },
    {
     "name": "stderr",
     "output_type": "stream",
     "text": [
      " 28%|██▊       | 14/50 [01:12<03:45,  6.26s/it]"
     ]
    },
    {
     "name": "stdout",
     "output_type": "stream",
     "text": [
      "Iterations 27\n",
      "Maximizing with STP\n",
      "Seed: 310\n",
      "Initial points: tensor([[ 0.0000, 10.0000,  0.0697, -1.0000],\n",
      "        [ 2.0609,  5.4800,  0.0944,  0.1017],\n",
      "        [ 0.0000,  0.1000, -0.2634, -1.0000],\n",
      "        [ 1.7240,  4.1278, -0.3176, -0.5578],\n",
      "        [ 0.0000,  1.5957, -0.3206, -0.4308]], dtype=torch.float64)\n"
     ]
    },
    {
     "name": "stderr",
     "output_type": "stream",
     "text": [
      " 30%|███       | 15/50 [01:16<03:11,  5.46s/it]"
     ]
    },
    {
     "name": "stdout",
     "output_type": "stream",
     "text": [
      "Iterations 11\n",
      "Maximizing with STP\n",
      "Seed: 991\n",
      "Initial points: tensor([[ 5.0000,  7.3613, -0.2902, -1.0000],\n",
      "        [ 0.0000,  1.0000,  0.0000,  0.0000],\n",
      "        [ 3.5802,  7.8585, -0.3792, -1.0000],\n",
      "        [ 0.1593,  0.7977, -0.2004,  0.0291],\n",
      "        [ 0.0000,  1.8085, -0.4126, -0.2537]], dtype=torch.float64)\n"
     ]
    },
    {
     "name": "stderr",
     "output_type": "stream",
     "text": [
      " 32%|███▏      | 16/50 [01:20<02:51,  5.04s/it]"
     ]
    },
    {
     "name": "stdout",
     "output_type": "stream",
     "text": [
      "Iterations 13\n",
      "Maximizing with STP\n",
      "Seed: 488\n",
      "Initial points: tensor([[ 0.7424,  1.7146, -0.3803, -0.4165],\n",
      "        [ 1.7240,  4.1278, -0.3176, -0.5578],\n",
      "        [ 5.0000, 10.0000, -0.4538, -1.0000],\n",
      "        [ 3.7044, 10.0000, -0.3167, -1.0000],\n",
      "        [ 5.0000,  5.0000, -0.1000, -0.1000]], dtype=torch.float64)\n"
     ]
    },
    {
     "name": "stderr",
     "output_type": "stream",
     "text": [
      " 34%|███▍      | 17/50 [01:24<02:41,  4.90s/it]"
     ]
    },
    {
     "name": "stdout",
     "output_type": "stream",
     "text": [
      "Iterations 14\n",
      "Maximizing with STP\n",
      "Seed: 366\n",
      "Initial points: tensor([[ 5.0000,  6.4638, -0.4718, -0.5640],\n",
      "        [ 1.7240,  4.1278, -0.3176, -0.5578],\n",
      "        [ 0.0000,  3.2952, -0.2010, -0.1887],\n",
      "        [ 0.0000,  2.0191, -0.3103, -0.2361],\n",
      "        [ 2.5684,  4.1282, -0.5554, -1.0000]], dtype=torch.float64)\n"
     ]
    },
    {
     "name": "stderr",
     "output_type": "stream",
     "text": [
      " 36%|███▌      | 18/50 [01:29<02:34,  4.82s/it]"
     ]
    },
    {
     "name": "stdout",
     "output_type": "stream",
     "text": [
      "Iterations 14\n",
      "Maximizing with STP\n",
      "Seed: 597\n",
      "Initial points: tensor([[ 3.2702,  4.4234, -0.3743, -1.0000],\n",
      "        [ 0.0000,  8.0179, -0.2473, -0.2150],\n",
      "        [ 0.0000,  0.1000, -0.3998,  1.0000],\n",
      "        [ 5.0000,  1.7701, -0.7340, -1.0000],\n",
      "        [ 5.0000, 10.0000, -0.3926, -1.0000]], dtype=torch.float64)\n"
     ]
    },
    {
     "name": "stderr",
     "output_type": "stream",
     "text": [
      " 38%|███▊      | 19/50 [01:41<03:39,  7.09s/it]"
     ]
    },
    {
     "name": "stdout",
     "output_type": "stream",
     "text": [
      "Iterations 35\n",
      "Maximizing with STP\n",
      "Seed: 913\n",
      "Initial points: tensor([[ 0.0000, 10.0000,  0.0697, -1.0000],\n",
      "        [ 2.0609,  5.4800,  0.0944,  0.1017],\n",
      "        [ 0.0000,  1.0000,  0.0000,  0.0000],\n",
      "        [ 3.8362,  0.1000, -0.5153, -1.0000],\n",
      "        [ 0.0000,  3.4102, -0.1820, -0.2266]], dtype=torch.float64)\n"
     ]
    },
    {
     "name": "stderr",
     "output_type": "stream",
     "text": [
      " 40%|████      | 20/50 [01:48<03:30,  7.03s/it]"
     ]
    },
    {
     "name": "stdout",
     "output_type": "stream",
     "text": [
      "Iterations 20\n",
      "Maximizing with STP\n",
      "Seed: 929\n",
      "Initial points: tensor([[ 0.0000,  3.3136, -0.2131,  0.0247],\n",
      "        [ 1.0785,  3.8093, -0.4061, -0.2996],\n",
      "        [ 0.0000,  6.3258, -0.2227,  1.0000],\n",
      "        [ 0.0000,  3.2760, -0.2948,  0.0833],\n",
      "        [ 0.9915,  3.3743, -0.2587, -0.4005]], dtype=torch.float64)\n"
     ]
    },
    {
     "name": "stderr",
     "output_type": "stream",
     "text": [
      " 42%|████▏     | 21/50 [01:55<03:22,  6.97s/it]"
     ]
    },
    {
     "name": "stdout",
     "output_type": "stream",
     "text": [
      "Iterations 20\n",
      "Maximizing with STP\n",
      "Seed: 223\n",
      "Initial points: tensor([[ 5.0000, 10.0000, -0.0304, -1.0000],\n",
      "        [ 0.0000,  3.1669, -0.3151, -0.3476],\n",
      "        [ 3.7934,  6.3214, -0.3911, -1.0000],\n",
      "        [ 0.0000,  0.1000, -0.3998,  1.0000],\n",
      "        [ 0.0000,  3.4039, -0.3961, -0.5694]], dtype=torch.float64)\n"
     ]
    },
    {
     "name": "stderr",
     "output_type": "stream",
     "text": [
      " 44%|████▍     | 22/50 [02:01<03:08,  6.73s/it]"
     ]
    },
    {
     "name": "stdout",
     "output_type": "stream",
     "text": [
      "Iterations 18\n",
      "Maximizing with STP\n",
      "Seed: 516\n",
      "Initial points: tensor([[ 0.0000,  3.3212, -0.1959, -0.1870],\n",
      "        [ 0.0000,  3.1775, -0.2716, -0.0639],\n",
      "        [ 3.1350,  0.1000, -0.2861,  0.2420],\n",
      "        [ 0.0000,  0.1000, -0.5623, -1.0000],\n",
      "        [ 1.0785,  3.8093, -0.4061, -0.2996]], dtype=torch.float64)\n"
     ]
    },
    {
     "name": "stderr",
     "output_type": "stream",
     "text": [
      " 46%|████▌     | 23/50 [02:04<02:31,  5.61s/it]"
     ]
    },
    {
     "name": "stdout",
     "output_type": "stream",
     "text": [
      "Iterations 9\n",
      "Maximizing with STP\n",
      "Seed: 142\n",
      "Initial points: tensor([[ 5.0000,  4.5458, -0.4541, -1.0000],\n",
      "        [ 0.9915,  3.3743, -0.2587, -0.4005],\n",
      "        [ 0.0000,  3.3212, -0.1959, -0.1870],\n",
      "        [ 0.0000,  0.1000, -0.2634, -1.0000],\n",
      "        [ 0.0000,  3.1775, -0.2716, -0.0639]], dtype=torch.float64)\n"
     ]
    },
    {
     "name": "stderr",
     "output_type": "stream",
     "text": [
      " 48%|████▊     | 24/50 [02:10<02:27,  5.67s/it]"
     ]
    },
    {
     "name": "stdout",
     "output_type": "stream",
     "text": [
      "Iterations 17\n",
      "Maximizing with STP\n",
      "Seed: 288\n",
      "Initial points: tensor([[ 0.0000,  3.2952, -0.2010, -0.1887],\n",
      "        [ 0.0000,  0.1000, -0.2270, -0.2032],\n",
      "        [ 2.2161,  0.1000, -0.3517, -0.6288],\n",
      "        [ 0.0000,  2.5903, -0.2736, -0.1288],\n",
      "        [ 5.0000,  7.4215, -0.4697, -1.0000]], dtype=torch.float64)\n"
     ]
    },
    {
     "name": "stderr",
     "output_type": "stream",
     "text": [
      " 50%|█████     | 25/50 [02:15<02:15,  5.42s/it]"
     ]
    },
    {
     "name": "stdout",
     "output_type": "stream",
     "text": [
      "Iterations 15\n",
      "Maximizing with STP\n",
      "Seed: 143\n",
      "Initial points: tensor([[ 0.0000,  3.3136, -0.2131,  0.0247],\n",
      "        [ 0.1593,  0.7977, -0.2004,  0.0291],\n",
      "        [ 0.0000,  0.1000, -0.8373, -1.0000],\n",
      "        [ 0.0000,  3.4039, -0.3961, -0.5694],\n",
      "        [ 0.0000, 10.0000,  0.0697, -1.0000]], dtype=torch.float64)\n"
     ]
    },
    {
     "name": "stderr",
     "output_type": "stream",
     "text": [
      " 52%|█████▏    | 26/50 [02:20<02:09,  5.39s/it]"
     ]
    },
    {
     "name": "stdout",
     "output_type": "stream",
     "text": [
      "Iterations 16\n",
      "Maximizing with STP\n",
      "Seed: 773\n",
      "Initial points: tensor([[ 5.0000,  5.1008, -0.3230, -1.0000],\n",
      "        [ 5.0000,  0.1000,  0.1965, -1.0000],\n",
      "        [ 0.0000,  3.1974, -0.2930, -0.0577],\n",
      "        [ 1.0785,  3.8093, -0.4061, -0.2996],\n",
      "        [ 3.1350,  0.1000, -0.2861,  0.2420]], dtype=torch.float64)\n"
     ]
    },
    {
     "name": "stderr",
     "output_type": "stream",
     "text": [
      " 54%|█████▍    | 27/50 [02:24<01:53,  4.94s/it]"
     ]
    },
    {
     "name": "stdout",
     "output_type": "stream",
     "text": [
      "Iterations 12\n",
      "Maximizing with STP\n",
      "Seed: 97\n",
      "Initial points: tensor([[ 5.0000, 10.0000, -0.4538, -1.0000],\n",
      "        [ 0.0000,  3.3556, -0.2666, -0.4412],\n",
      "        [ 5.0000,  5.1008, -0.3230, -1.0000],\n",
      "        [ 0.0000,  1.0000,  0.0000,  0.0000],\n",
      "        [ 5.0000,  0.1000, -0.2250, -1.0000]], dtype=torch.float64)\n"
     ]
    },
    {
     "name": "stderr",
     "output_type": "stream",
     "text": [
      " 56%|█████▌    | 28/50 [02:29<01:51,  5.06s/it]"
     ]
    },
    {
     "name": "stdout",
     "output_type": "stream",
     "text": [
      "Iterations 16\n",
      "Maximizing with STP\n",
      "Seed: 633\n",
      "Initial points: tensor([[ 0.0000,  0.1000, -0.3998,  1.0000],\n",
      "        [ 0.0000,  2.2215, -0.3013, -0.2119],\n",
      "        [ 0.0000,  2.3259, -0.2947, -0.1951],\n",
      "        [ 0.0000,  1.5680, -0.3353, -0.3658],\n",
      "        [ 0.0000,  1.6900, -0.4148, -0.5639]], dtype=torch.float64)\n"
     ]
    },
    {
     "name": "stderr",
     "output_type": "stream",
     "text": [
      " 58%|█████▊    | 29/50 [02:34<01:43,  4.95s/it]"
     ]
    },
    {
     "name": "stdout",
     "output_type": "stream",
     "text": [
      "Iterations 14\n",
      "Maximizing with STP\n",
      "Seed: 818\n",
      "Initial points: tensor([[ 5.0000,  5.0000, -0.1000, -0.1000],\n",
      "        [ 5.0000,  0.1000,  0.1965, -1.0000],\n",
      "        [ 5.0000,  7.3613, -0.2902, -1.0000],\n",
      "        [ 0.0000,  2.5215, -0.2784, -0.1474],\n",
      "        [ 3.5802,  7.8585, -0.3792, -1.0000]], dtype=torch.float64)\n"
     ]
    },
    {
     "name": "stderr",
     "output_type": "stream",
     "text": [
      " 60%|██████    | 30/50 [02:41<01:54,  5.70s/it]"
     ]
    },
    {
     "name": "stdout",
     "output_type": "stream",
     "text": [
      "Iterations 22\n",
      "Maximizing with STP\n",
      "Seed: 256\n",
      "Initial points: tensor([[ 0.0000,  3.1775, -0.2716, -0.0639],\n",
      "        [ 5.0000,  0.1000, -0.2250, -1.0000],\n",
      "        [ 0.0000,  3.2225, -0.2445, -0.0745],\n",
      "        [ 3.4858,  5.9210, -0.2205, -1.0000],\n",
      "        [ 2.6662,  3.4044, -0.3233, -1.0000]], dtype=torch.float64)\n"
     ]
    },
    {
     "name": "stderr",
     "output_type": "stream",
     "text": [
      " 62%|██████▏   | 31/50 [02:47<01:46,  5.59s/it]"
     ]
    },
    {
     "name": "stdout",
     "output_type": "stream",
     "text": [
      "Iterations 16\n",
      "Maximizing with STP\n",
      "Seed: 931\n",
      "Initial points: tensor([[ 0.0000,  0.1000, -0.2634, -1.0000],\n",
      "        [ 0.7424,  1.7146, -0.3803, -0.4165],\n",
      "        [ 0.0000,  3.4039, -0.3961, -0.5694],\n",
      "        [ 0.0000,  3.3212, -0.1959, -0.1870],\n",
      "        [ 0.0000,  1.8085, -0.4126, -0.2537]], dtype=torch.float64)\n"
     ]
    },
    {
     "name": "stderr",
     "output_type": "stream",
     "text": [
      " 64%|██████▍   | 32/50 [02:51<01:31,  5.06s/it]"
     ]
    },
    {
     "name": "stdout",
     "output_type": "stream",
     "text": [
      "Iterations 12\n",
      "Maximizing with STP\n",
      "Seed: 545\n",
      "Initial points: tensor([[ 0.0000,  1.5957, -0.3206, -0.4308],\n",
      "        [ 0.0000, 10.0000, -0.4595, -1.0000],\n",
      "        [ 5.0000,  6.4638, -0.4718, -0.5640],\n",
      "        [ 1.0785,  3.8093, -0.4061, -0.2996],\n",
      "        [ 0.0000,  0.1000, -0.8373, -1.0000]], dtype=torch.float64)\n"
     ]
    },
    {
     "name": "stderr",
     "output_type": "stream",
     "text": [
      " 66%|██████▌   | 33/50 [02:56<01:25,  5.05s/it]"
     ]
    },
    {
     "name": "stdout",
     "output_type": "stream",
     "text": [
      "Iterations 15\n",
      "Maximizing with STP\n",
      "Seed: 722\n",
      "Initial points: tensor([[ 0.0000,  0.1000, -0.3998,  1.0000],\n",
      "        [ 2.1384,  0.1000, -0.4647, -1.0000],\n",
      "        [ 0.0000,  3.0434, -0.2217,  0.0858],\n",
      "        [ 0.0000,  0.1000, -0.2634, -1.0000],\n",
      "        [ 0.0000,  3.3837, -0.3171,  0.0079]], dtype=torch.float64)\n"
     ]
    },
    {
     "name": "stderr",
     "output_type": "stream",
     "text": [
      " 68%|██████▊   | 34/50 [03:02<01:25,  5.33s/it]"
     ]
    },
    {
     "name": "stdout",
     "output_type": "stream",
     "text": [
      "Iterations 17\n",
      "Maximizing with STP\n",
      "Seed: 829\n",
      "Initial points: tensor([[ 1.4521e+00,  4.7555e+00, -2.7642e-01, -1.0000e+00],\n",
      "        [ 0.0000e+00,  1.0000e-01, -3.8331e-01, -2.5953e-02],\n",
      "        [ 0.0000e+00,  3.3837e+00, -3.1714e-01,  7.9208e-03],\n",
      "        [ 0.0000e+00,  3.2952e+00, -2.0105e-01, -1.8874e-01],\n",
      "        [ 5.0000e+00,  1.0000e+01, -3.0374e-02, -1.0000e+00]],\n",
      "       dtype=torch.float64)\n"
     ]
    },
    {
     "name": "stderr",
     "output_type": "stream",
     "text": [
      " 70%|███████   | 35/50 [03:09<01:29,  5.97s/it]"
     ]
    },
    {
     "name": "stdout",
     "output_type": "stream",
     "text": [
      "Iterations 22\n",
      "Maximizing with STP\n",
      "Seed: 616\n",
      "Initial points: tensor([[ 0.0000,  6.3258, -0.2227,  1.0000],\n",
      "        [ 0.0371,  0.8939, -0.0352,  0.0479],\n",
      "        [ 5.0000,  0.1000, -0.2250, -1.0000],\n",
      "        [ 3.9816,  9.5154, -0.5785, -1.0000],\n",
      "        [ 0.0000,  1.8801, -0.4446, -0.1116]], dtype=torch.float64)\n"
     ]
    },
    {
     "name": "stderr",
     "output_type": "stream",
     "text": [
      " 72%|███████▏  | 36/50 [03:13<01:16,  5.44s/it]"
     ]
    },
    {
     "name": "stdout",
     "output_type": "stream",
     "text": [
      "Iterations 13\n",
      "Maximizing with STP\n",
      "Seed: 923\n",
      "Initial points: tensor([[ 2.1384,  0.1000, -0.4647, -1.0000],\n",
      "        [ 3.7934,  6.3214, -0.3911, -1.0000],\n",
      "        [ 2.5592,  2.7477, -0.1235, -1.0000],\n",
      "        [ 5.0000,  5.1008, -0.3230, -1.0000],\n",
      "        [ 0.0000,  2.2215, -0.3013, -0.2119]], dtype=torch.float64)\n"
     ]
    },
    {
     "name": "stderr",
     "output_type": "stream",
     "text": [
      " 74%|███████▍  | 37/50 [03:18<01:06,  5.09s/it]"
     ]
    },
    {
     "name": "stdout",
     "output_type": "stream",
     "text": [
      "Iterations 13\n",
      "Maximizing with STP\n",
      "Seed: 150\n",
      "Initial points: tensor([[ 5.0000,  7.4215, -0.4697, -1.0000],\n",
      "        [ 1.7240,  4.1278, -0.3176, -0.5578],\n",
      "        [ 0.0000,  1.8801, -0.4446, -0.1116],\n",
      "        [ 2.0609,  5.4800,  0.0944,  0.1017],\n",
      "        [ 0.0000,  8.0179, -0.2473, -0.2150]], dtype=torch.float64)\n"
     ]
    },
    {
     "name": "stderr",
     "output_type": "stream",
     "text": [
      " 76%|███████▌  | 38/50 [03:22<00:58,  4.84s/it]"
     ]
    },
    {
     "name": "stdout",
     "output_type": "stream",
     "text": [
      "Iterations 13\n",
      "Maximizing with STP\n",
      "Seed: 317\n",
      "Initial points: tensor([[ 3.1350,  0.1000, -0.2861,  0.2420],\n",
      "        [ 0.0000,  0.1000, -0.2270, -0.2032],\n",
      "        [ 0.0000,  3.1775, -0.2716, -0.0639],\n",
      "        [ 2.1384,  0.1000, -0.4647, -1.0000],\n",
      "        [ 0.0000,  1.5680, -0.3353, -0.3658]], dtype=torch.float64)\n"
     ]
    },
    {
     "name": "stderr",
     "output_type": "stream",
     "text": [
      " 78%|███████▊  | 39/50 [03:25<00:47,  4.27s/it]"
     ]
    },
    {
     "name": "stdout",
     "output_type": "stream",
     "text": [
      "Iterations 9\n",
      "Maximizing with STP\n",
      "Seed: 101\n",
      "Initial points: tensor([[ 3.9816,  9.5154, -0.5785, -1.0000],\n",
      "        [ 3.7934,  6.3214, -0.3911, -1.0000],\n",
      "        [ 0.0000, 10.0000, -0.4595, -1.0000],\n",
      "        [ 5.0000,  8.5632, -0.3571, -1.0000],\n",
      "        [ 0.0000,  4.0745, -0.3206, -1.0000]], dtype=torch.float64)\n"
     ]
    },
    {
     "name": "stderr",
     "output_type": "stream",
     "text": [
      " 80%|████████  | 40/50 [03:36<01:04,  6.40s/it]"
     ]
    },
    {
     "name": "stdout",
     "output_type": "stream",
     "text": [
      "Iterations 33\n",
      "Maximizing with STP\n",
      "Seed: 747\n",
      "Initial points: tensor([[ 0.0000,  3.0434, -0.2217,  0.0858],\n",
      "        [ 0.0000,  0.1000, -0.2634, -1.0000],\n",
      "        [ 0.0000,  3.2714, -0.2151, -0.1070],\n",
      "        [ 0.0000,  2.4295, -0.2861, -0.1720],\n",
      "        [ 0.0000,  3.1669, -0.3151, -0.3476]], dtype=torch.float64)\n"
     ]
    },
    {
     "name": "stderr",
     "output_type": "stream",
     "text": [
      " 82%|████████▏ | 41/50 [03:41<00:53,  6.00s/it]"
     ]
    },
    {
     "name": "stdout",
     "output_type": "stream",
     "text": [
      "Iterations 15\n",
      "Maximizing with STP\n",
      "Seed: 75\n",
      "Initial points: tensor([[ 3.7934,  6.3214, -0.3911, -1.0000],\n",
      "        [ 2.2161,  0.1000, -0.3517, -0.6288],\n",
      "        [ 5.0000,  6.4638, -0.4718, -0.5640],\n",
      "        [ 2.5684,  4.1282, -0.5554, -1.0000],\n",
      "        [ 5.0000,  0.1000,  0.1965, -1.0000]], dtype=torch.float64)\n"
     ]
    },
    {
     "name": "stderr",
     "output_type": "stream",
     "text": [
      " 84%|████████▍ | 42/50 [03:48<00:50,  6.28s/it]"
     ]
    },
    {
     "name": "stdout",
     "output_type": "stream",
     "text": [
      "Iterations 20\n",
      "Maximizing with STP\n",
      "Seed: 920\n",
      "Initial points: tensor([[ 0.0000,  2.5903, -0.2736, -0.1288],\n",
      "        [ 5.0000,  6.4638, -0.4718, -0.5640],\n",
      "        [ 1.7240,  4.1278, -0.3176, -0.5578],\n",
      "        [ 0.0000,  3.2714, -0.2151, -0.1070],\n",
      "        [ 0.0000,  3.2225, -0.2445, -0.0745]], dtype=torch.float64)\n"
     ]
    },
    {
     "name": "stderr",
     "output_type": "stream",
     "text": [
      " 86%|████████▌ | 43/50 [03:54<00:43,  6.26s/it]"
     ]
    },
    {
     "name": "stdout",
     "output_type": "stream",
     "text": [
      "Iterations 18\n",
      "Maximizing with STP\n",
      "Seed: 870\n",
      "Initial points: tensor([[ 0.0000,  1.0000,  0.0000,  0.0000],\n",
      "        [ 0.0000,  2.4295, -0.2861, -0.1720],\n",
      "        [ 0.0000,  2.3259, -0.2947, -0.1951],\n",
      "        [ 0.0000, 10.0000, -0.4595, -1.0000],\n",
      "        [ 0.0000,  6.3258, -0.2227,  1.0000]], dtype=torch.float64)\n"
     ]
    },
    {
     "name": "stderr",
     "output_type": "stream",
     "text": [
      " 88%|████████▊ | 44/50 [04:00<00:36,  6.01s/it]"
     ]
    },
    {
     "name": "stdout",
     "output_type": "stream",
     "text": [
      "Iterations 16\n",
      "Maximizing with STP\n",
      "Seed: 700\n",
      "Initial points: tensor([[ 3.1350,  0.1000, -0.2861,  0.2420],\n",
      "        [ 3.8362,  0.1000, -0.5153, -1.0000],\n",
      "        [ 5.0000,  6.4638, -0.4718, -0.5640],\n",
      "        [ 5.0000, 10.0000, -0.4538, -1.0000],\n",
      "        [ 0.0000,  1.8085, -0.4126, -0.2537]], dtype=torch.float64)\n"
     ]
    },
    {
     "name": "stderr",
     "output_type": "stream",
     "text": [
      " 90%|█████████ | 45/50 [04:03<00:26,  5.27s/it]"
     ]
    },
    {
     "name": "stdout",
     "output_type": "stream",
     "text": [
      "Iterations 11\n",
      "Maximizing with STP\n",
      "Seed: 338\n",
      "Initial points: tensor([[ 0.0000,  1.5680, -0.3353, -0.3658],\n",
      "        [ 0.0000,  0.1000, -0.3998,  1.0000],\n",
      "        [ 5.0000,  4.5458, -0.4541, -1.0000],\n",
      "        [ 0.0000, 10.0000, -0.4595, -1.0000],\n",
      "        [ 3.5559,  6.5677, -0.4093, -1.0000]], dtype=torch.float64)\n"
     ]
    },
    {
     "name": "stderr",
     "output_type": "stream",
     "text": [
      " 92%|█████████▏| 46/50 [04:07<00:18,  4.74s/it]"
     ]
    },
    {
     "name": "stdout",
     "output_type": "stream",
     "text": [
      "Iterations 11\n",
      "Maximizing with STP\n",
      "Seed: 483\n",
      "Initial points: tensor([[ 5.0000,  0.1000, -0.4233, -1.0000],\n",
      "        [ 0.0000,  1.5680, -0.3353, -0.3658],\n",
      "        [ 0.0000,  3.4039, -0.3961, -0.5694],\n",
      "        [ 0.0000,  3.2714, -0.2151, -0.1070],\n",
      "        [ 0.0000,  2.4295, -0.2861, -0.1720]], dtype=torch.float64)\n"
     ]
    },
    {
     "name": "stderr",
     "output_type": "stream",
     "text": [
      " 94%|█████████▍| 47/50 [04:10<00:12,  4.24s/it]"
     ]
    },
    {
     "name": "stdout",
     "output_type": "stream",
     "text": [
      "Iterations 10\n",
      "Maximizing with STP\n",
      "Seed: 573\n",
      "Initial points: tensor([[ 0.0000,  3.4102, -0.1820, -0.2266],\n",
      "        [ 0.0000,  3.1790, -0.2991, -0.0796],\n",
      "        [ 0.0000,  1.6900, -0.4148, -0.5639],\n",
      "        [ 0.7424,  1.7146, -0.3803, -0.4165],\n",
      "        [ 0.0000,  8.0179, -0.2473, -0.2150]], dtype=torch.float64)\n"
     ]
    },
    {
     "name": "stderr",
     "output_type": "stream",
     "text": [
      " 96%|█████████▌| 48/50 [04:13<00:07,  3.84s/it]"
     ]
    },
    {
     "name": "stdout",
     "output_type": "stream",
     "text": [
      "Iterations 10\n",
      "Maximizing with STP\n",
      "Seed: 103\n",
      "Initial points: tensor([[ 0.0000,  3.3556, -0.2666, -0.4412],\n",
      "        [ 0.0000,  6.3258, -0.2227,  1.0000],\n",
      "        [ 0.0000,  1.5680, -0.3353, -0.3658],\n",
      "        [ 0.0000,  2.4295, -0.2861, -0.1720],\n",
      "        [ 0.0000,  0.1000, -0.2270, -0.2032]], dtype=torch.float64)\n"
     ]
    },
    {
     "name": "stderr",
     "output_type": "stream",
     "text": [
      " 98%|█████████▊| 49/50 [04:16<00:03,  3.70s/it]"
     ]
    },
    {
     "name": "stdout",
     "output_type": "stream",
     "text": [
      "Iterations 11\n",
      "Maximizing with STP\n",
      "Seed: 362\n",
      "Initial points: tensor([[ 0.0000e+00,  3.2760e+00, -2.9481e-01,  8.3335e-02],\n",
      "        [ 0.0000e+00,  9.9993e-01,  5.5400e-06,  2.5200e-05],\n",
      "        [ 0.0000e+00,  4.7730e-01,  4.0987e-02,  1.9186e-01],\n",
      "        [ 5.0000e+00,  5.0000e+00, -1.0000e-01, -1.0000e-01],\n",
      "        [ 0.0000e+00,  1.0000e-01, -1.5395e-01, -6.3383e-01]],\n",
      "       dtype=torch.float64)\n"
     ]
    },
    {
     "name": "stderr",
     "output_type": "stream",
     "text": [
      "100%|██████████| 50/50 [04:21<00:00,  5.23s/it]\n"
     ]
    },
    {
     "name": "stdout",
     "output_type": "stream",
     "text": [
      "Iterations 15\n"
     ]
    },
    {
     "name": "stderr",
     "output_type": "stream",
     "text": [
      "  0%|          | 0/50 [00:00<?, ?it/s]"
     ]
    },
    {
     "name": "stdout",
     "output_type": "stream",
     "text": [
      "Maximizing with VGP\n",
      "Seed: 864\n",
      "Initial points: tensor([[ 5.0000,  7.3613, -0.2902, -1.0000],\n",
      "        [ 0.0000,  2.5903, -0.2736, -0.1288],\n",
      "        [ 5.0000, 10.0000, -0.4538, -1.0000],\n",
      "        [ 0.0000,  0.1000, -0.2270, -0.2032],\n",
      "        [ 0.0000,  1.5957, -0.3206, -0.4308]], dtype=torch.float64)\n"
     ]
    },
    {
     "name": "stderr",
     "output_type": "stream",
     "text": [
      "  2%|▏         | 1/50 [00:02<02:12,  2.71s/it]"
     ]
    },
    {
     "name": "stdout",
     "output_type": "stream",
     "text": [
      "Iterations 12\n",
      "Maximizing with VGP\n",
      "Seed: 394\n",
      "Initial points: tensor([[ 0.0000,  3.2714, -0.2151, -0.1070],\n",
      "        [ 0.0000,  3.4102, -0.1820, -0.2266],\n",
      "        [ 5.0000,  0.1000,  0.1965, -1.0000],\n",
      "        [ 0.0000,  2.4295, -0.2861, -0.1720],\n",
      "        [ 0.1593,  0.7977, -0.2004,  0.0291]], dtype=torch.float64)\n"
     ]
    },
    {
     "name": "stderr",
     "output_type": "stream",
     "text": [
      "  4%|▍         | 2/50 [00:08<03:37,  4.52s/it]"
     ]
    },
    {
     "name": "stdout",
     "output_type": "stream",
     "text": [
      "Iterations 25\n",
      "Maximizing with VGP\n",
      "Seed: 776\n",
      "Initial points: tensor([[ 5.0000,  0.1000, -0.2250, -1.0000],\n",
      "        [ 0.6155,  3.1238, -0.2301, -0.0963],\n",
      "        [ 2.2161,  0.1000, -0.3517, -0.6288],\n",
      "        [ 3.7934,  6.3214, -0.3911, -1.0000],\n",
      "        [ 5.0000,  6.4638, -0.4718, -0.5640]], dtype=torch.float64)\n"
     ]
    },
    {
     "name": "stderr",
     "output_type": "stream",
     "text": [
      "  6%|▌         | 3/50 [00:13<03:49,  4.88s/it]"
     ]
    },
    {
     "name": "stdout",
     "output_type": "stream",
     "text": [
      "Iterations 23\n",
      "Maximizing with VGP\n",
      "Seed: 911\n",
      "Initial points: tensor([[ 0.0000,  0.1000, -0.5623, -1.0000],\n",
      "        [ 0.0000,  3.3212, -0.1959, -0.1870],\n",
      "        [ 0.0000,  2.5215, -0.2784, -0.1474],\n",
      "        [ 5.0000,  5.0000, -0.1000, -0.1000],\n",
      "        [ 2.0609,  5.4800,  0.0944,  0.1017]], dtype=torch.float64)\n"
     ]
    },
    {
     "name": "stderr",
     "output_type": "stream",
     "text": [
      "  8%|▊         | 4/50 [00:18<03:49,  4.98s/it]"
     ]
    },
    {
     "name": "stdout",
     "output_type": "stream",
     "text": [
      "Iterations 22\n",
      "Maximizing with VGP\n",
      "Seed: 430\n",
      "Initial points: tensor([[ 5.0000,  5.0000, -0.1000, -0.1000],\n",
      "        [ 5.0000,  4.5458, -0.4541, -1.0000],\n",
      "        [ 0.0000,  3.1790, -0.2991, -0.0796],\n",
      "        [ 0.0000,  1.6900, -0.4148, -0.5639],\n",
      "        [ 5.0000,  6.4638, -0.4718, -0.5640]], dtype=torch.float64)\n"
     ]
    },
    {
     "name": "stderr",
     "output_type": "stream",
     "text": [
      " 10%|█         | 5/50 [00:23<03:34,  4.76s/it]"
     ]
    },
    {
     "name": "stdout",
     "output_type": "stream",
     "text": [
      "Iterations 19\n",
      "Maximizing with VGP\n",
      "Seed: 41\n",
      "Initial points: tensor([[ 0.0371,  0.8939, -0.0352,  0.0479],\n",
      "        [ 0.0000,  1.5680, -0.3353, -0.3658],\n",
      "        [ 0.1593,  0.7977, -0.2004,  0.0291],\n",
      "        [ 5.0000,  0.1000, -0.4233, -1.0000],\n",
      "        [ 0.0000,  0.4773,  0.0410,  0.1919]], dtype=torch.float64)\n"
     ]
    },
    {
     "name": "stderr",
     "output_type": "stream",
     "text": [
      " 12%|█▏        | 6/50 [00:27<03:17,  4.48s/it]"
     ]
    },
    {
     "name": "stdout",
     "output_type": "stream",
     "text": [
      "Iterations 17\n",
      "Maximizing with VGP\n",
      "Seed: 265\n",
      "Initial points: tensor([[ 5.0000,  5.0000, -0.1000, -0.1000],\n",
      "        [ 0.0000,  2.5215, -0.2784, -0.1474],\n",
      "        [ 5.0000,  7.3613, -0.2902, -1.0000],\n",
      "        [ 1.4521,  4.7555, -0.2764, -1.0000],\n",
      "        [ 0.0000,  3.3212, -0.1959, -0.1870]], dtype=torch.float64)\n"
     ]
    },
    {
     "name": "stderr",
     "output_type": "stream",
     "text": [
      " 14%|█▍        | 7/50 [00:32<03:20,  4.67s/it]"
     ]
    },
    {
     "name": "stdout",
     "output_type": "stream",
     "text": [
      "Iterations 22\n",
      "Maximizing with VGP\n",
      "Seed: 988\n",
      "Initial points: tensor([[ 0.0000, 10.0000, -0.4595, -1.0000],\n",
      "        [ 5.0000, 10.0000, -0.3926, -1.0000],\n",
      "        [ 0.0000,  0.1000, -0.5623, -1.0000],\n",
      "        [ 0.9915,  3.3743, -0.2587, -0.4005],\n",
      "        [ 0.0000,  2.0191, -0.3103, -0.2361]], dtype=torch.float64)\n"
     ]
    },
    {
     "name": "stderr",
     "output_type": "stream",
     "text": [
      " 16%|█▌        | 8/50 [00:35<02:54,  4.15s/it]"
     ]
    },
    {
     "name": "stdout",
     "output_type": "stream",
     "text": [
      "Iterations 14\n",
      "Maximizing with VGP\n",
      "Seed: 523\n",
      "Initial points: tensor([[ 0.0000,  6.3258, -0.2227,  1.0000],\n",
      "        [ 3.9816,  9.5154, -0.5785, -1.0000],\n",
      "        [ 0.0000,  3.1974, -0.2930, -0.0577],\n",
      "        [ 5.0000,  0.1000,  0.1965, -1.0000],\n",
      "        [ 2.5684,  4.1282, -0.5554, -1.0000]], dtype=torch.float64)\n"
     ]
    },
    {
     "name": "stderr",
     "output_type": "stream",
     "text": [
      " 18%|█▊        | 9/50 [00:40<02:57,  4.32s/it]"
     ]
    },
    {
     "name": "stdout",
     "output_type": "stream",
     "text": [
      "Iterations 20\n",
      "Maximizing with VGP\n",
      "Seed: 497\n",
      "Initial points: tensor([[ 2.6662,  3.4044, -0.3233, -1.0000],\n",
      "        [ 0.0000,  2.4295, -0.2861, -0.1720],\n",
      "        [ 5.0000,  7.4215, -0.4697, -1.0000],\n",
      "        [ 3.7934,  6.3214, -0.3911, -1.0000],\n",
      "        [ 5.0000,  0.1000, -0.2250, -1.0000]], dtype=torch.float64)\n"
     ]
    },
    {
     "name": "stderr",
     "output_type": "stream",
     "text": [
      " 20%|██        | 10/50 [00:43<02:43,  4.09s/it]"
     ]
    },
    {
     "name": "stdout",
     "output_type": "stream",
     "text": [
      "Iterations 16\n",
      "Maximizing with VGP\n",
      "Seed: 414\n",
      "Initial points: tensor([[ 0.0000,  0.4773,  0.0410,  0.1919],\n",
      "        [ 0.0000,  1.0000,  0.0000,  0.0000],\n",
      "        [ 0.0000,  2.4295, -0.2861, -0.1720],\n",
      "        [ 1.7240,  4.1278, -0.3176, -0.5578],\n",
      "        [ 5.0000,  5.1008, -0.3230, -1.0000]], dtype=torch.float64)\n"
     ]
    },
    {
     "name": "stderr",
     "output_type": "stream",
     "text": [
      " 22%|██▏       | 11/50 [00:47<02:39,  4.08s/it]"
     ]
    },
    {
     "name": "stdout",
     "output_type": "stream",
     "text": [
      "Iterations 18\n",
      "Maximizing with VGP\n",
      "Seed: 940\n",
      "Initial points: tensor([[ 0.0000,  3.2964, -0.2238, -0.0925],\n",
      "        [ 0.0000,  3.1790, -0.2991, -0.0796],\n",
      "        [ 0.0000,  0.1000, -0.1540, -0.6338],\n",
      "        [ 2.5592,  2.7477, -0.1235, -1.0000],\n",
      "        [ 0.0000,  2.2215, -0.3013, -0.2119]], dtype=torch.float64)\n"
     ]
    },
    {
     "name": "stderr",
     "output_type": "stream",
     "text": [
      " 24%|██▍       | 12/50 [00:50<02:21,  3.73s/it]"
     ]
    },
    {
     "name": "stdout",
     "output_type": "stream",
     "text": [
      "Iterations 13\n",
      "Maximizing with VGP\n",
      "Seed: 802\n",
      "Initial points: tensor([[ 2.0609,  5.4800,  0.0944,  0.1017],\n",
      "        [ 0.0000,  2.0191, -0.3103, -0.2361],\n",
      "        [ 0.0000, 10.0000, -0.4595, -1.0000],\n",
      "        [ 0.0000,  8.0179, -0.2473, -0.2150],\n",
      "        [ 0.0000,  3.2952, -0.2010, -0.1887]], dtype=torch.float64)\n"
     ]
    },
    {
     "name": "stderr",
     "output_type": "stream",
     "text": [
      " 26%|██▌       | 13/50 [00:55<02:27,  3.98s/it]"
     ]
    },
    {
     "name": "stdout",
     "output_type": "stream",
     "text": [
      "Iterations 20\n",
      "Maximizing with VGP\n",
      "Seed: 849\n",
      "Initial points: tensor([[ 5.0000,  5.1008, -0.3230, -1.0000],\n",
      "        [ 0.0000,  6.3258, -0.2227,  1.0000],\n",
      "        [ 3.9816,  9.5154, -0.5785, -1.0000],\n",
      "        [ 5.0000,  0.1000, -0.4233, -1.0000],\n",
      "        [ 2.5592,  2.7477, -0.1235, -1.0000]], dtype=torch.float64)\n"
     ]
    },
    {
     "name": "stderr",
     "output_type": "stream",
     "text": [
      " 28%|██▊       | 14/50 [01:03<03:10,  5.30s/it]"
     ]
    },
    {
     "name": "stdout",
     "output_type": "stream",
     "text": [
      "Iterations 36\n",
      "Maximizing with VGP\n",
      "Seed: 310\n",
      "Initial points: tensor([[ 0.0000, 10.0000,  0.0697, -1.0000],\n",
      "        [ 2.0609,  5.4800,  0.0944,  0.1017],\n",
      "        [ 0.0000,  0.1000, -0.2634, -1.0000],\n",
      "        [ 1.7240,  4.1278, -0.3176, -0.5578],\n",
      "        [ 0.0000,  1.5957, -0.3206, -0.4308]], dtype=torch.float64)\n"
     ]
    },
    {
     "name": "stderr",
     "output_type": "stream",
     "text": [
      " 30%|███       | 15/50 [01:07<02:52,  4.92s/it]"
     ]
    },
    {
     "name": "stdout",
     "output_type": "stream",
     "text": [
      "Iterations 18\n",
      "Maximizing with VGP\n",
      "Seed: 991\n",
      "Initial points: tensor([[ 5.0000,  7.3613, -0.2902, -1.0000],\n",
      "        [ 0.0000,  1.0000,  0.0000,  0.0000],\n",
      "        [ 3.5802,  7.8585, -0.3792, -1.0000],\n",
      "        [ 0.1593,  0.7977, -0.2004,  0.0291],\n",
      "        [ 0.0000,  1.8085, -0.4126, -0.2537]], dtype=torch.float64)\n"
     ]
    },
    {
     "name": "stderr",
     "output_type": "stream",
     "text": [
      " 32%|███▏      | 16/50 [01:10<02:29,  4.40s/it]"
     ]
    },
    {
     "name": "stdout",
     "output_type": "stream",
     "text": [
      "Iterations 14\n",
      "Maximizing with VGP\n",
      "Seed: 488\n",
      "Initial points: tensor([[ 0.7424,  1.7146, -0.3803, -0.4165],\n",
      "        [ 1.7240,  4.1278, -0.3176, -0.5578],\n",
      "        [ 5.0000, 10.0000, -0.4538, -1.0000],\n",
      "        [ 3.7044, 10.0000, -0.3167, -1.0000],\n",
      "        [ 5.0000,  5.0000, -0.1000, -0.1000]], dtype=torch.float64)\n"
     ]
    },
    {
     "name": "stderr",
     "output_type": "stream",
     "text": [
      " 34%|███▍      | 17/50 [01:13<02:09,  3.93s/it]"
     ]
    },
    {
     "name": "stdout",
     "output_type": "stream",
     "text": [
      "Iterations 13\n",
      "Maximizing with VGP\n",
      "Seed: 366\n",
      "Initial points: tensor([[ 5.0000,  6.4638, -0.4718, -0.5640],\n",
      "        [ 1.7240,  4.1278, -0.3176, -0.5578],\n",
      "        [ 0.0000,  3.2952, -0.2010, -0.1887],\n",
      "        [ 0.0000,  2.0191, -0.3103, -0.2361],\n",
      "        [ 2.5684,  4.1282, -0.5554, -1.0000]], dtype=torch.float64)\n"
     ]
    },
    {
     "name": "stderr",
     "output_type": "stream",
     "text": [
      " 36%|███▌      | 18/50 [01:16<01:58,  3.70s/it]"
     ]
    },
    {
     "name": "stdout",
     "output_type": "stream",
     "text": [
      "Iterations 14\n",
      "Maximizing with VGP\n",
      "Seed: 597\n",
      "Initial points: tensor([[ 3.2702,  4.4234, -0.3743, -1.0000],\n",
      "        [ 0.0000,  8.0179, -0.2473, -0.2150],\n",
      "        [ 0.0000,  0.1000, -0.3998,  1.0000],\n",
      "        [ 5.0000,  1.7701, -0.7340, -1.0000],\n",
      "        [ 5.0000, 10.0000, -0.3926, -1.0000]], dtype=torch.float64)\n"
     ]
    },
    {
     "name": "stderr",
     "output_type": "stream",
     "text": [
      " 38%|███▊      | 19/50 [01:25<02:44,  5.30s/it]"
     ]
    },
    {
     "name": "stdout",
     "output_type": "stream",
     "text": [
      "Iterations 38\n",
      "Maximizing with VGP\n",
      "Seed: 913\n",
      "Initial points: tensor([[ 0.0000, 10.0000,  0.0697, -1.0000],\n",
      "        [ 2.0609,  5.4800,  0.0944,  0.1017],\n",
      "        [ 0.0000,  1.0000,  0.0000,  0.0000],\n",
      "        [ 3.8362,  0.1000, -0.5153, -1.0000],\n",
      "        [ 0.0000,  3.4102, -0.1820, -0.2266]], dtype=torch.float64)\n"
     ]
    },
    {
     "name": "stderr",
     "output_type": "stream",
     "text": [
      " 40%|████      | 20/50 [01:30<02:32,  5.07s/it]"
     ]
    },
    {
     "name": "stdout",
     "output_type": "stream",
     "text": [
      "Iterations 20\n",
      "Maximizing with VGP\n",
      "Seed: 929\n",
      "Initial points: tensor([[ 0.0000,  3.3136, -0.2131,  0.0247],\n",
      "        [ 1.0785,  3.8093, -0.4061, -0.2996],\n",
      "        [ 0.0000,  6.3258, -0.2227,  1.0000],\n",
      "        [ 0.0000,  3.2760, -0.2948,  0.0833],\n",
      "        [ 0.9915,  3.3743, -0.2587, -0.4005]], dtype=torch.float64)\n"
     ]
    },
    {
     "name": "stderr",
     "output_type": "stream",
     "text": [
      " 42%|████▏     | 21/50 [01:35<02:24,  4.98s/it]"
     ]
    },
    {
     "name": "stdout",
     "output_type": "stream",
     "text": [
      "Iterations 21\n",
      "Maximizing with VGP\n",
      "Seed: 223\n",
      "Initial points: tensor([[ 5.0000, 10.0000, -0.0304, -1.0000],\n",
      "        [ 0.0000,  3.1669, -0.3151, -0.3476],\n",
      "        [ 3.7934,  6.3214, -0.3911, -1.0000],\n",
      "        [ 0.0000,  0.1000, -0.3998,  1.0000],\n",
      "        [ 0.0000,  3.4039, -0.3961, -0.5694]], dtype=torch.float64)\n"
     ]
    },
    {
     "name": "stderr",
     "output_type": "stream",
     "text": [
      " 44%|████▍     | 22/50 [01:39<02:13,  4.77s/it]"
     ]
    },
    {
     "name": "stdout",
     "output_type": "stream",
     "text": [
      "Iterations 19\n",
      "Maximizing with VGP\n",
      "Seed: 516\n",
      "Initial points: tensor([[ 0.0000,  3.3212, -0.1959, -0.1870],\n",
      "        [ 0.0000,  3.1775, -0.2716, -0.0639],\n",
      "        [ 3.1350,  0.1000, -0.2861,  0.2420],\n",
      "        [ 0.0000,  0.1000, -0.5623, -1.0000],\n",
      "        [ 1.0785,  3.8093, -0.4061, -0.2996]], dtype=torch.float64)\n"
     ]
    },
    {
     "name": "stderr",
     "output_type": "stream",
     "text": [
      " 46%|████▌     | 23/50 [01:43<02:01,  4.51s/it]"
     ]
    },
    {
     "name": "stdout",
     "output_type": "stream",
     "text": [
      "Iterations 17\n",
      "Maximizing with VGP\n",
      "Seed: 142\n",
      "Initial points: tensor([[ 5.0000,  4.5458, -0.4541, -1.0000],\n",
      "        [ 0.9915,  3.3743, -0.2587, -0.4005],\n",
      "        [ 0.0000,  3.3212, -0.1959, -0.1870],\n",
      "        [ 0.0000,  0.1000, -0.2634, -1.0000],\n",
      "        [ 0.0000,  3.1775, -0.2716, -0.0639]], dtype=torch.float64)\n"
     ]
    },
    {
     "name": "stderr",
     "output_type": "stream",
     "text": [
      " 48%|████▊     | 24/50 [01:47<01:51,  4.30s/it]"
     ]
    },
    {
     "name": "stdout",
     "output_type": "stream",
     "text": [
      "Iterations 17\n",
      "Maximizing with VGP\n",
      "Seed: 288\n",
      "Initial points: tensor([[ 0.0000,  3.2952, -0.2010, -0.1887],\n",
      "        [ 0.0000,  0.1000, -0.2270, -0.2032],\n",
      "        [ 2.2161,  0.1000, -0.3517, -0.6288],\n",
      "        [ 0.0000,  2.5903, -0.2736, -0.1288],\n",
      "        [ 5.0000,  7.4215, -0.4697, -1.0000]], dtype=torch.float64)\n"
     ]
    },
    {
     "name": "stderr",
     "output_type": "stream",
     "text": [
      " 50%|█████     | 25/50 [01:50<01:42,  4.11s/it]"
     ]
    },
    {
     "name": "stdout",
     "output_type": "stream",
     "text": [
      "Iterations 16\n",
      "Maximizing with VGP\n",
      "Seed: 143\n",
      "Initial points: tensor([[ 0.0000,  3.3136, -0.2131,  0.0247],\n",
      "        [ 0.1593,  0.7977, -0.2004,  0.0291],\n",
      "        [ 0.0000,  0.1000, -0.8373, -1.0000],\n",
      "        [ 0.0000,  3.4039, -0.3961, -0.5694],\n",
      "        [ 0.0000, 10.0000,  0.0697, -1.0000]], dtype=torch.float64)\n"
     ]
    },
    {
     "name": "stderr",
     "output_type": "stream",
     "text": [
      " 52%|█████▏    | 26/50 [01:57<01:55,  4.82s/it]"
     ]
    },
    {
     "name": "stdout",
     "output_type": "stream",
     "text": [
      "Iterations 28\n",
      "Maximizing with VGP\n",
      "Seed: 773\n",
      "Initial points: tensor([[ 5.0000,  5.1008, -0.3230, -1.0000],\n",
      "        [ 5.0000,  0.1000,  0.1965, -1.0000],\n",
      "        [ 0.0000,  3.1974, -0.2930, -0.0577],\n",
      "        [ 1.0785,  3.8093, -0.4061, -0.2996],\n",
      "        [ 3.1350,  0.1000, -0.2861,  0.2420]], dtype=torch.float64)\n"
     ]
    },
    {
     "name": "stderr",
     "output_type": "stream",
     "text": [
      " 54%|█████▍    | 27/50 [02:01<01:45,  4.58s/it]"
     ]
    },
    {
     "name": "stdout",
     "output_type": "stream",
     "text": [
      "Iterations 18\n",
      "Maximizing with VGP\n",
      "Seed: 97\n",
      "Initial points: tensor([[ 5.0000, 10.0000, -0.4538, -1.0000],\n",
      "        [ 0.0000,  3.3556, -0.2666, -0.4412],\n",
      "        [ 5.0000,  5.1008, -0.3230, -1.0000],\n",
      "        [ 0.0000,  1.0000,  0.0000,  0.0000],\n",
      "        [ 5.0000,  0.1000, -0.2250, -1.0000]], dtype=torch.float64)\n"
     ]
    },
    {
     "name": "stderr",
     "output_type": "stream",
     "text": [
      " 56%|█████▌    | 28/50 [02:05<01:39,  4.50s/it]"
     ]
    },
    {
     "name": "stdout",
     "output_type": "stream",
     "text": [
      "Iterations 19\n",
      "Maximizing with VGP\n",
      "Seed: 633\n",
      "Initial points: tensor([[ 0.0000,  0.1000, -0.3998,  1.0000],\n",
      "        [ 0.0000,  2.2215, -0.3013, -0.2119],\n",
      "        [ 0.0000,  2.3259, -0.2947, -0.1951],\n",
      "        [ 0.0000,  1.5680, -0.3353, -0.3658],\n",
      "        [ 0.0000,  1.6900, -0.4148, -0.5639]], dtype=torch.float64)\n"
     ]
    },
    {
     "name": "stderr",
     "output_type": "stream",
     "text": [
      " 58%|█████▊    | 29/50 [02:08<01:25,  4.09s/it]"
     ]
    },
    {
     "name": "stdout",
     "output_type": "stream",
     "text": [
      "Iterations 14\n",
      "Maximizing with VGP\n",
      "Seed: 818\n",
      "Initial points: tensor([[ 5.0000,  5.0000, -0.1000, -0.1000],\n",
      "        [ 5.0000,  0.1000,  0.1965, -1.0000],\n",
      "        [ 5.0000,  7.3613, -0.2902, -1.0000],\n",
      "        [ 0.0000,  2.5215, -0.2784, -0.1474],\n",
      "        [ 3.5802,  7.8585, -0.3792, -1.0000]], dtype=torch.float64)\n"
     ]
    },
    {
     "name": "stderr",
     "output_type": "stream",
     "text": [
      " 60%|██████    | 30/50 [02:12<01:22,  4.12s/it]"
     ]
    },
    {
     "name": "stdout",
     "output_type": "stream",
     "text": [
      "Iterations 19\n",
      "Maximizing with VGP\n",
      "Seed: 256\n",
      "Initial points: tensor([[ 0.0000,  3.1775, -0.2716, -0.0639],\n",
      "        [ 5.0000,  0.1000, -0.2250, -1.0000],\n",
      "        [ 0.0000,  3.2225, -0.2445, -0.0745],\n",
      "        [ 3.4858,  5.9210, -0.2205, -1.0000],\n",
      "        [ 2.6662,  3.4044, -0.3233, -1.0000]], dtype=torch.float64)\n"
     ]
    },
    {
     "name": "stderr",
     "output_type": "stream",
     "text": [
      " 62%|██████▏   | 31/50 [02:16<01:15,  3.96s/it]"
     ]
    },
    {
     "name": "stdout",
     "output_type": "stream",
     "text": [
      "Iterations 16\n",
      "Maximizing with VGP\n",
      "Seed: 931\n",
      "Initial points: tensor([[ 0.0000,  0.1000, -0.2634, -1.0000],\n",
      "        [ 0.7424,  1.7146, -0.3803, -0.4165],\n",
      "        [ 0.0000,  3.4039, -0.3961, -0.5694],\n",
      "        [ 0.0000,  3.3212, -0.1959, -0.1870],\n",
      "        [ 0.0000,  1.8085, -0.4126, -0.2537]], dtype=torch.float64)\n"
     ]
    },
    {
     "name": "stderr",
     "output_type": "stream",
     "text": [
      " 64%|██████▍   | 32/50 [02:19<01:08,  3.78s/it]"
     ]
    },
    {
     "name": "stdout",
     "output_type": "stream",
     "text": [
      "Iterations 15\n",
      "Maximizing with VGP\n",
      "Seed: 545\n",
      "Initial points: tensor([[ 0.0000,  1.5957, -0.3206, -0.4308],\n",
      "        [ 0.0000, 10.0000, -0.4595, -1.0000],\n",
      "        [ 5.0000,  6.4638, -0.4718, -0.5640],\n",
      "        [ 1.0785,  3.8093, -0.4061, -0.2996],\n",
      "        [ 0.0000,  0.1000, -0.8373, -1.0000]], dtype=torch.float64)\n"
     ]
    },
    {
     "name": "stderr",
     "output_type": "stream",
     "text": [
      " 66%|██████▌   | 33/50 [02:23<01:04,  3.81s/it]"
     ]
    },
    {
     "name": "stdout",
     "output_type": "stream",
     "text": [
      "Iterations 17\n",
      "Maximizing with VGP\n",
      "Seed: 722\n",
      "Initial points: tensor([[ 0.0000,  0.1000, -0.3998,  1.0000],\n",
      "        [ 2.1384,  0.1000, -0.4647, -1.0000],\n",
      "        [ 0.0000,  3.0434, -0.2217,  0.0858],\n",
      "        [ 0.0000,  0.1000, -0.2634, -1.0000],\n",
      "        [ 0.0000,  3.3837, -0.3171,  0.0079]], dtype=torch.float64)\n"
     ]
    },
    {
     "name": "stderr",
     "output_type": "stream",
     "text": [
      " 68%|██████▊   | 34/50 [02:29<01:10,  4.40s/it]"
     ]
    },
    {
     "name": "stdout",
     "output_type": "stream",
     "text": [
      "Iterations 25\n",
      "Maximizing with VGP\n",
      "Seed: 829\n",
      "Initial points: tensor([[ 1.4521e+00,  4.7555e+00, -2.7642e-01, -1.0000e+00],\n",
      "        [ 0.0000e+00,  1.0000e-01, -3.8331e-01, -2.5953e-02],\n",
      "        [ 0.0000e+00,  3.3837e+00, -3.1714e-01,  7.9208e-03],\n",
      "        [ 0.0000e+00,  3.2952e+00, -2.0105e-01, -1.8874e-01],\n",
      "        [ 5.0000e+00,  1.0000e+01, -3.0374e-02, -1.0000e+00]],\n",
      "       dtype=torch.float64)\n"
     ]
    },
    {
     "name": "stderr",
     "output_type": "stream",
     "text": [
      " 70%|███████   | 35/50 [02:33<01:03,  4.20s/it]"
     ]
    },
    {
     "name": "stdout",
     "output_type": "stream",
     "text": [
      "Iterations 17\n",
      "Maximizing with VGP\n",
      "Seed: 616\n",
      "Initial points: tensor([[ 0.0000,  6.3258, -0.2227,  1.0000],\n",
      "        [ 0.0371,  0.8939, -0.0352,  0.0479],\n",
      "        [ 5.0000,  0.1000, -0.2250, -1.0000],\n",
      "        [ 3.9816,  9.5154, -0.5785, -1.0000],\n",
      "        [ 0.0000,  1.8801, -0.4446, -0.1116]], dtype=torch.float64)\n"
     ]
    },
    {
     "name": "stderr",
     "output_type": "stream",
     "text": [
      " 72%|███████▏  | 36/50 [02:37<00:58,  4.17s/it]"
     ]
    },
    {
     "name": "stdout",
     "output_type": "stream",
     "text": [
      "Iterations 18\n",
      "Maximizing with VGP\n",
      "Seed: 923\n",
      "Initial points: tensor([[ 2.1384,  0.1000, -0.4647, -1.0000],\n",
      "        [ 3.7934,  6.3214, -0.3911, -1.0000],\n",
      "        [ 2.5592,  2.7477, -0.1235, -1.0000],\n",
      "        [ 5.0000,  5.1008, -0.3230, -1.0000],\n",
      "        [ 0.0000,  2.2215, -0.3013, -0.2119]], dtype=torch.float64)\n"
     ]
    },
    {
     "name": "stderr",
     "output_type": "stream",
     "text": [
      " 74%|███████▍  | 37/50 [02:41<00:55,  4.26s/it]"
     ]
    },
    {
     "name": "stdout",
     "output_type": "stream",
     "text": [
      "Iterations 20\n",
      "Maximizing with VGP\n",
      "Seed: 150\n",
      "Initial points: tensor([[ 5.0000,  7.4215, -0.4697, -1.0000],\n",
      "        [ 1.7240,  4.1278, -0.3176, -0.5578],\n",
      "        [ 0.0000,  1.8801, -0.4446, -0.1116],\n",
      "        [ 2.0609,  5.4800,  0.0944,  0.1017],\n",
      "        [ 0.0000,  8.0179, -0.2473, -0.2150]], dtype=torch.float64)\n"
     ]
    },
    {
     "name": "stderr",
     "output_type": "stream",
     "text": [
      " 76%|███████▌  | 38/50 [02:46<00:52,  4.41s/it]"
     ]
    },
    {
     "name": "stdout",
     "output_type": "stream",
     "text": [
      "Iterations 21\n",
      "Maximizing with VGP\n",
      "Seed: 317\n",
      "Initial points: tensor([[ 3.1350,  0.1000, -0.2861,  0.2420],\n",
      "        [ 0.0000,  0.1000, -0.2270, -0.2032],\n",
      "        [ 0.0000,  3.1775, -0.2716, -0.0639],\n",
      "        [ 2.1384,  0.1000, -0.4647, -1.0000],\n",
      "        [ 0.0000,  1.5680, -0.3353, -0.3658]], dtype=torch.float64)\n"
     ]
    },
    {
     "name": "stderr",
     "output_type": "stream",
     "text": [
      " 78%|███████▊  | 39/50 [02:50<00:45,  4.13s/it]"
     ]
    },
    {
     "name": "stdout",
     "output_type": "stream",
     "text": [
      "Iterations 16\n",
      "Maximizing with VGP\n",
      "Seed: 101\n",
      "Initial points: tensor([[ 3.9816,  9.5154, -0.5785, -1.0000],\n",
      "        [ 3.7934,  6.3214, -0.3911, -1.0000],\n",
      "        [ 0.0000, 10.0000, -0.4595, -1.0000],\n",
      "        [ 5.0000,  8.5632, -0.3571, -1.0000],\n",
      "        [ 0.0000,  4.0745, -0.3206, -1.0000]], dtype=torch.float64)\n"
     ]
    },
    {
     "name": "stderr",
     "output_type": "stream",
     "text": [
      " 80%|████████  | 40/50 [02:59<00:57,  5.72s/it]"
     ]
    },
    {
     "name": "stdout",
     "output_type": "stream",
     "text": [
      "Iterations 40\n",
      "Maximizing with VGP\n",
      "Seed: 747\n",
      "Initial points: tensor([[ 0.0000,  3.0434, -0.2217,  0.0858],\n",
      "        [ 0.0000,  0.1000, -0.2634, -1.0000],\n",
      "        [ 0.0000,  3.2714, -0.2151, -0.1070],\n",
      "        [ 0.0000,  2.4295, -0.2861, -0.1720],\n",
      "        [ 0.0000,  3.1669, -0.3151, -0.3476]], dtype=torch.float64)\n"
     ]
    },
    {
     "name": "stderr",
     "output_type": "stream",
     "text": [
      " 82%|████████▏ | 41/50 [03:03<00:47,  5.29s/it]"
     ]
    },
    {
     "name": "stdout",
     "output_type": "stream",
     "text": [
      "Iterations 19\n",
      "Maximizing with VGP\n",
      "Seed: 75\n",
      "Initial points: tensor([[ 3.7934,  6.3214, -0.3911, -1.0000],\n",
      "        [ 2.2161,  0.1000, -0.3517, -0.6288],\n",
      "        [ 5.0000,  6.4638, -0.4718, -0.5640],\n",
      "        [ 2.5684,  4.1282, -0.5554, -1.0000],\n",
      "        [ 5.0000,  0.1000,  0.1965, -1.0000]], dtype=torch.float64)\n"
     ]
    },
    {
     "name": "stderr",
     "output_type": "stream",
     "text": [
      " 84%|████████▍ | 42/50 [03:13<00:54,  6.76s/it]"
     ]
    },
    {
     "name": "stdout",
     "output_type": "stream",
     "text": [
      "Iterations 43\n",
      "Maximizing with VGP\n",
      "Seed: 920\n",
      "Initial points: tensor([[ 0.0000,  2.5903, -0.2736, -0.1288],\n",
      "        [ 5.0000,  6.4638, -0.4718, -0.5640],\n",
      "        [ 1.7240,  4.1278, -0.3176, -0.5578],\n",
      "        [ 0.0000,  3.2714, -0.2151, -0.1070],\n",
      "        [ 0.0000,  3.2225, -0.2445, -0.0745]], dtype=torch.float64)\n"
     ]
    },
    {
     "name": "stderr",
     "output_type": "stream",
     "text": [
      " 86%|████████▌ | 43/50 [03:18<00:42,  6.12s/it]"
     ]
    },
    {
     "name": "stdout",
     "output_type": "stream",
     "text": [
      "Iterations 20\n",
      "Maximizing with VGP\n",
      "Seed: 870\n",
      "Initial points: tensor([[ 0.0000,  1.0000,  0.0000,  0.0000],\n",
      "        [ 0.0000,  2.4295, -0.2861, -0.1720],\n",
      "        [ 0.0000,  2.3259, -0.2947, -0.1951],\n",
      "        [ 0.0000, 10.0000, -0.4595, -1.0000],\n",
      "        [ 0.0000,  6.3258, -0.2227,  1.0000]], dtype=torch.float64)\n"
     ]
    },
    {
     "name": "stderr",
     "output_type": "stream",
     "text": [
      " 88%|████████▊ | 44/50 [03:21<00:30,  5.06s/it]"
     ]
    },
    {
     "name": "stdout",
     "output_type": "stream",
     "text": [
      "Iterations 12\n",
      "Maximizing with VGP\n",
      "Seed: 700\n",
      "Initial points: tensor([[ 3.1350,  0.1000, -0.2861,  0.2420],\n",
      "        [ 3.8362,  0.1000, -0.5153, -1.0000],\n",
      "        [ 5.0000,  6.4638, -0.4718, -0.5640],\n",
      "        [ 5.0000, 10.0000, -0.4538, -1.0000],\n",
      "        [ 0.0000,  1.8085, -0.4126, -0.2537]], dtype=torch.float64)\n"
     ]
    },
    {
     "name": "stderr",
     "output_type": "stream",
     "text": [
      " 90%|█████████ | 45/50 [03:24<00:22,  4.54s/it]"
     ]
    },
    {
     "name": "stdout",
     "output_type": "stream",
     "text": [
      "Iterations 15\n",
      "Maximizing with VGP\n",
      "Seed: 338\n",
      "Initial points: tensor([[ 0.0000,  1.5680, -0.3353, -0.3658],\n",
      "        [ 0.0000,  0.1000, -0.3998,  1.0000],\n",
      "        [ 5.0000,  4.5458, -0.4541, -1.0000],\n",
      "        [ 0.0000, 10.0000, -0.4595, -1.0000],\n",
      "        [ 3.5559,  6.5677, -0.4093, -1.0000]], dtype=torch.float64)\n"
     ]
    },
    {
     "name": "stderr",
     "output_type": "stream",
     "text": [
      " 92%|█████████▏| 46/50 [03:28<00:17,  4.25s/it]"
     ]
    },
    {
     "name": "stdout",
     "output_type": "stream",
     "text": [
      "Iterations 16\n",
      "Maximizing with VGP\n",
      "Seed: 483\n",
      "Initial points: tensor([[ 5.0000,  0.1000, -0.4233, -1.0000],\n",
      "        [ 0.0000,  1.5680, -0.3353, -0.3658],\n",
      "        [ 0.0000,  3.4039, -0.3961, -0.5694],\n",
      "        [ 0.0000,  3.2714, -0.2151, -0.1070],\n",
      "        [ 0.0000,  2.4295, -0.2861, -0.1720]], dtype=torch.float64)\n"
     ]
    },
    {
     "name": "stderr",
     "output_type": "stream",
     "text": [
      " 94%|█████████▍| 47/50 [03:32<00:12,  4.20s/it]"
     ]
    },
    {
     "name": "stdout",
     "output_type": "stream",
     "text": [
      "Iterations 18\n",
      "Maximizing with VGP\n",
      "Seed: 573\n",
      "Initial points: tensor([[ 0.0000,  3.4102, -0.1820, -0.2266],\n",
      "        [ 0.0000,  3.1790, -0.2991, -0.0796],\n",
      "        [ 0.0000,  1.6900, -0.4148, -0.5639],\n",
      "        [ 0.7424,  1.7146, -0.3803, -0.4165],\n",
      "        [ 0.0000,  8.0179, -0.2473, -0.2150]], dtype=torch.float64)\n"
     ]
    },
    {
     "name": "stderr",
     "output_type": "stream",
     "text": [
      " 96%|█████████▌| 48/50 [03:35<00:07,  3.96s/it]"
     ]
    },
    {
     "name": "stdout",
     "output_type": "stream",
     "text": [
      "Iterations 15\n",
      "Maximizing with VGP\n",
      "Seed: 103\n",
      "Initial points: tensor([[ 0.0000,  3.3556, -0.2666, -0.4412],\n",
      "        [ 0.0000,  6.3258, -0.2227,  1.0000],\n",
      "        [ 0.0000,  1.5680, -0.3353, -0.3658],\n",
      "        [ 0.0000,  2.4295, -0.2861, -0.1720],\n",
      "        [ 0.0000,  0.1000, -0.2270, -0.2032]], dtype=torch.float64)\n"
     ]
    },
    {
     "name": "stderr",
     "output_type": "stream",
     "text": [
      " 98%|█████████▊| 49/50 [03:38<00:03,  3.63s/it]"
     ]
    },
    {
     "name": "stdout",
     "output_type": "stream",
     "text": [
      "Iterations 13\n",
      "Maximizing with VGP\n",
      "Seed: 362\n",
      "Initial points: tensor([[ 0.0000e+00,  3.2760e+00, -2.9481e-01,  8.3335e-02],\n",
      "        [ 0.0000e+00,  9.9993e-01,  5.5400e-06,  2.5200e-05],\n",
      "        [ 0.0000e+00,  4.7730e-01,  4.0987e-02,  1.9186e-01],\n",
      "        [ 5.0000e+00,  5.0000e+00, -1.0000e-01, -1.0000e-01],\n",
      "        [ 0.0000e+00,  1.0000e-01, -1.5395e-01, -6.3383e-01]],\n",
      "       dtype=torch.float64)\n"
     ]
    },
    {
     "name": "stderr",
     "output_type": "stream",
     "text": [
      "100%|██████████| 50/50 [03:42<00:00,  4.45s/it]"
     ]
    },
    {
     "name": "stdout",
     "output_type": "stream",
     "text": [
      "Iterations 18\n"
     ]
    },
    {
     "name": "stderr",
     "output_type": "stream",
     "text": [
      "\n"
     ]
    },
    {
     "data": {
      "image/png": "[encoded data removed]",
      "text/plain": [
       "<Figure size 800x600 with 1 Axes>"
      ]
     },
     "metadata": {},
     "output_type": "display_data"
    },
    {
     "name": "stdout",
     "output_type": "stream",
     "text": [
      "Starting P3HT\n",
      "Number of samples: 230\n",
      "Number of of top 5% samples: 12\n",
      "Top 5% samples: [1243.67, 1089.12, 904.29, 852.33, 839.28, 838.31, 824.47, 804.11, 800.58, 788.8326479, 772.94, 770.35]\n"
     ]
    },
    {
     "name": "stderr",
     "output_type": "stream",
     "text": [
      "  0%|          | 0/50 [00:00<?, ?it/s]"
     ]
    },
    {
     "name": "stdout",
     "output_type": "stream",
     "text": [
      "Maximizing with EGP\n",
      "Seed: 864\n",
      "Initial points: tensor([[4.4890e+01, 4.7030e+01, 3.8100e+00, 1.1600e+00, 3.1000e+00],\n",
      "        [9.6270e+01, 2.7000e-01, 2.0200e+00, 8.5000e-01, 5.1000e-01],\n",
      "        [7.3990e+01, 5.0000e-01, 2.5180e+01, 2.8000e-01, 4.0000e-02],\n",
      "        [4.7200e+01, 4.9490e+01, 2.0100e+00, 3.1000e-01, 1.0100e+00],\n",
      "        [4.3610e+01, 4.9290e+01, 2.8800e+00, 4.2200e+00, 4.0000e-02]],\n",
      "       dtype=torch.float64)\n"
     ]
    },
    {
     "name": "stderr",
     "output_type": "stream",
     "text": [
      "  2%|▏         | 1/50 [00:33<27:37, 33.82s/it]"
     ]
    },
    {
     "name": "stdout",
     "output_type": "stream",
     "text": [
      "Iterations 171\n",
      "Maximizing with EGP\n",
      "Seed: 394\n",
      "Initial points: tensor([[5.4480e+01, 6.5000e-01, 5.3000e-01, 4.6000e-01, 4.3890e+01],\n",
      "        [4.6570e+01, 4.8910e+01, 3.0800e+00, 1.1100e+00, 3.6000e-01],\n",
      "        [5.1835e+01, 4.3805e+01, 1.8800e+00, 1.3800e+00, 1.1300e+00],\n",
      "        [4.3490e+01, 4.6890e+01, 4.1800e+00, 5.1000e+00, 3.7000e-01],\n",
      "        [7.3990e+01, 5.0000e-01, 2.5180e+01, 2.8000e-01, 4.0000e-02]],\n",
      "       dtype=torch.float64)\n"
     ]
    },
    {
     "name": "stderr",
     "output_type": "stream",
     "text": [
      "c:\\Users\\stan\\miniconda3\\envs\\researchTP\\Lib\\site-packages\\botorch\\optim\\fit.py:102: OptimizationWarning: `scipy_minimize` terminated with status OptimizationStatus.FAILURE, displaying original message from `scipy.optimize.minimize`: ABNORMAL_TERMINATION_IN_LNSRCH\n",
      "  warn(\n",
      "  4%|▍         | 2/50 [01:06<26:42, 33.38s/it]"
     ]
    },
    {
     "name": "stdout",
     "output_type": "stream",
     "text": [
      "Iterations 166\n",
      "Maximizing with EGP\n",
      "Seed: 776\n",
      "Initial points: tensor([[6.7100e+01, 3.0150e+01, 7.2000e-01, 4.0000e-02, 1.9500e+00],\n",
      "        [1.6150e+01, 4.6000e-01, 2.5380e+01, 5.1420e+01, 6.5500e+00],\n",
      "        [4.2300e+01, 4.5070e+01, 4.4900e+00, 5.2100e+00, 3.0200e+00],\n",
      "        [4.5410e+01, 4.8510e+01, 2.1000e+00, 2.6400e+00, 1.3800e+00],\n",
      "        [4.3610e+01, 4.9290e+01, 2.8800e+00, 4.2200e+00, 4.0000e-02]],\n",
      "       dtype=torch.float64)\n"
     ]
    },
    {
     "name": "stderr",
     "output_type": "stream",
     "text": [
      "c:\\Users\\stan\\miniconda3\\envs\\researchTP\\Lib\\site-packages\\botorch\\optim\\fit.py:102: OptimizationWarning: `scipy_minimize` terminated with status OptimizationStatus.FAILURE, displaying original message from `scipy.optimize.minimize`: ABNORMAL_TERMINATION_IN_LNSRCH\n",
      "  warn(\n",
      "c:\\Users\\stan\\miniconda3\\envs\\researchTP\\Lib\\site-packages\\botorch\\optim\\fit.py:102: OptimizationWarning: `scipy_minimize` terminated with status OptimizationStatus.FAILURE, displaying original message from `scipy.optimize.minimize`: ABNORMAL_TERMINATION_IN_LNSRCH\n",
      "  warn(\n",
      "c:\\Users\\stan\\miniconda3\\envs\\researchTP\\Lib\\site-packages\\botorch\\optim\\fit.py:102: OptimizationWarning: `scipy_minimize` terminated with status OptimizationStatus.FAILURE, displaying original message from `scipy.optimize.minimize`: ABNORMAL_TERMINATION_IN_LNSRCH\n",
      "  warn(\n",
      "c:\\Users\\stan\\miniconda3\\envs\\researchTP\\Lib\\site-packages\\botorch\\optim\\fit.py:102: OptimizationWarning: `scipy_minimize` terminated with status OptimizationStatus.FAILURE, displaying original message from `scipy.optimize.minimize`: ABNORMAL_TERMINATION_IN_LNSRCH\n",
      "  warn(\n",
      "  6%|▌         | 3/50 [01:26<21:21, 27.26s/it]"
     ]
    },
    {
     "name": "stdout",
     "output_type": "stream",
     "text": [
      "Iterations 85\n",
      "Maximizing with EGP\n",
      "Seed: 911\n",
      "Initial points: tensor([[7.7730e+01, 2.0640e+01, 1.5800e+00, 4.0000e-02, 4.0000e-02],\n",
      "        [8.3170e+01, 1.7200e+00, 3.5400e+00, 2.4300e+00, 9.0700e+00],\n",
      "        [4.7130e+01, 4.6950e+01, 4.2800e+00, 1.0800e+00, 5.7000e-01],\n",
      "        [8.3170e+01, 1.7200e+00, 3.5400e+00, 2.4300e+00, 9.0700e+00],\n",
      "        [4.0670e+01, 5.9260e+01, 4.0000e-02, 4.0000e-02, 7.0000e-02]],\n",
      "       dtype=torch.float64)\n"
     ]
    },
    {
     "name": "stderr",
     "output_type": "stream",
     "text": [
      "c:\\Users\\stan\\miniconda3\\envs\\researchTP\\Lib\\site-packages\\gpytorch\\distributions\\multivariate_normal.py:319: NumericalWarning: Negative variance values detected. This is likely due to numerical instabilities. Rounding negative variances up to 1e-10.\n",
      "  warnings.warn(\n",
      "c:\\Users\\stan\\miniconda3\\envs\\researchTP\\Lib\\site-packages\\gpytorch\\distributions\\multivariate_normal.py:319: NumericalWarning: Negative variance values detected. This is likely due to numerical instabilities. Rounding negative variances up to 1e-10.\n",
      "  warnings.warn(\n",
      "c:\\Users\\stan\\miniconda3\\envs\\researchTP\\Lib\\site-packages\\botorch\\optim\\fit.py:102: OptimizationWarning: `scipy_minimize` terminated with status OptimizationStatus.FAILURE, displaying original message from `scipy.optimize.minimize`: ABNORMAL_TERMINATION_IN_LNSRCH\n",
      "  warn(\n",
      "c:\\Users\\stan\\miniconda3\\envs\\researchTP\\Lib\\site-packages\\botorch\\optim\\fit.py:102: OptimizationWarning: `scipy_minimize` terminated with status OptimizationStatus.FAILURE, displaying original message from `scipy.optimize.minimize`: ABNORMAL_TERMINATION_IN_LNSRCH\n",
      "  warn(\n",
      "  8%|▊         | 4/50 [02:01<23:07, 30.16s/it]"
     ]
    },
    {
     "name": "stdout",
     "output_type": "stream",
     "text": [
      "Iterations 179\n",
      "Maximizing with EGP\n",
      "Seed: 430\n",
      "Initial points: tensor([[44.5700, 48.4700,  2.9300,  1.6000,  2.4000],\n",
      "        [80.2600,  0.5300, 12.0300,  5.4700,  1.7800],\n",
      "        [44.0100,  0.0900,  0.9000, 54.7100,  0.3000],\n",
      "        [42.3300, 51.8300,  2.7500,  2.8700,  0.3200],\n",
      "        [34.0100, 38.9000,  0.7300, 12.6800, 13.6500]], dtype=torch.float64)\n"
     ]
    },
    {
     "name": "stderr",
     "output_type": "stream",
     "text": [
      "c:\\Users\\stan\\miniconda3\\envs\\researchTP\\Lib\\site-packages\\botorch\\optim\\fit.py:102: OptimizationWarning: `scipy_minimize` terminated with status OptimizationStatus.FAILURE, displaying original message from `scipy.optimize.minimize`: ABNORMAL_TERMINATION_IN_LNSRCH\n",
      "  warn(\n",
      "c:\\Users\\stan\\miniconda3\\envs\\researchTP\\Lib\\site-packages\\botorch\\optim\\fit.py:102: OptimizationWarning: `scipy_minimize` terminated with status OptimizationStatus.FAILURE, displaying original message from `scipy.optimize.minimize`: ABNORMAL_TERMINATION_IN_LNSRCH\n",
      "  warn(\n",
      " 10%|█         | 5/50 [02:35<23:42, 31.62s/it]"
     ]
    },
    {
     "name": "stdout",
     "output_type": "stream",
     "text": [
      "Iterations 145\n",
      "Maximizing with EGP\n",
      "Seed: 41\n",
      "Initial points: tensor([[7.3990e+01, 5.0000e-01, 2.5180e+01, 2.8000e-01, 4.0000e-02],\n",
      "        [6.6030e+01, 3.0010e+01, 2.6100e+00, 2.4000e-01, 1.0800e+00],\n",
      "        [8.6410e+01, 2.2500e+00, 4.0000e-02, 1.8700e+00, 9.4500e+00],\n",
      "        [4.4570e+01, 4.8470e+01, 2.9300e+00, 1.6000e+00, 2.4000e+00],\n",
      "        [5.1835e+01, 4.3805e+01, 1.8800e+00, 1.3800e+00, 1.1300e+00]],\n",
      "       dtype=torch.float64)\n"
     ]
    },
    {
     "name": "stderr",
     "output_type": "stream",
     "text": [
      "c:\\Users\\stan\\miniconda3\\envs\\researchTP\\Lib\\site-packages\\botorch\\optim\\fit.py:102: OptimizationWarning: `scipy_minimize` terminated with status OptimizationStatus.FAILURE, displaying original message from `scipy.optimize.minimize`: ABNORMAL_TERMINATION_IN_LNSRCH\n",
      "  warn(\n",
      "c:\\Users\\stan\\miniconda3\\envs\\researchTP\\Lib\\site-packages\\botorch\\optim\\fit.py:102: OptimizationWarning: `scipy_minimize` terminated with status OptimizationStatus.FAILURE, displaying original message from `scipy.optimize.minimize`: ABNORMAL_TERMINATION_IN_LNSRCH\n",
      "  warn(\n",
      "c:\\Users\\stan\\miniconda3\\envs\\researchTP\\Lib\\site-packages\\botorch\\optim\\fit.py:102: OptimizationWarning: `scipy_minimize` terminated with status OptimizationStatus.FAILURE, displaying original message from `scipy.optimize.minimize`: ABNORMAL_TERMINATION_IN_LNSRCH\n",
      "  warn(\n",
      "c:\\Users\\stan\\miniconda3\\envs\\researchTP\\Lib\\site-packages\\botorch\\optim\\fit.py:102: OptimizationWarning: `scipy_minimize` terminated with status OptimizationStatus.FAILURE, displaying original message from `scipy.optimize.minimize`: ABNORMAL_TERMINATION_IN_LNSRCH\n",
      "  warn(\n",
      " 12%|█▏        | 6/50 [03:08<23:29, 32.04s/it]"
     ]
    },
    {
     "name": "stdout",
     "output_type": "stream",
     "text": [
      "Iterations 174\n",
      "Maximizing with EGP\n",
      "Seed: 265\n",
      "Initial points: tensor([[42.4400,  1.1100,  1.4900, 54.0400,  0.9500],\n",
      "        [40.0000, 60.0000,  0.0000,  0.0000,  0.0000],\n",
      "        [39.0500, 41.8500,  5.7500,  4.0400,  9.4000],\n",
      "        [16.1500,  0.4600, 25.3800, 51.4200,  6.5500],\n",
      "        [90.0000, 10.0000,  0.0000,  0.0000,  0.0000]], dtype=torch.float64)\n"
     ]
    },
    {
     "name": "stderr",
     "output_type": "stream",
     "text": [
      " 14%|█▍        | 7/50 [03:43<23:41, 33.06s/it]"
     ]
    },
    {
     "name": "stdout",
     "output_type": "stream",
     "text": [
      "Iterations 171\n",
      "Maximizing with EGP\n",
      "Seed: 988\n",
      "Initial points: tensor([[60.1000, 38.3900,  0.5500,  0.1100,  0.8600],\n",
      "        [43.0900, 47.8500,  3.1400,  3.3000,  2.6700],\n",
      "        [84.5700,  0.9000,  0.6900,  5.8400,  7.9800],\n",
      "        [50.0000, 50.0000,  0.0000,  0.0000,  0.0000],\n",
      "        [43.0900, 47.8500,  3.1400,  3.3000,  2.6700]], dtype=torch.float64)\n"
     ]
    },
    {
     "name": "stderr",
     "output_type": "stream",
     "text": [
      "c:\\Users\\stan\\miniconda3\\envs\\researchTP\\Lib\\site-packages\\botorch\\optim\\fit.py:102: OptimizationWarning: `scipy_minimize` terminated with status OptimizationStatus.FAILURE, displaying original message from `scipy.optimize.minimize`: ABNORMAL_TERMINATION_IN_LNSRCH\n",
      "  warn(\n",
      "c:\\Users\\stan\\miniconda3\\envs\\researchTP\\Lib\\site-packages\\botorch\\optim\\fit.py:102: OptimizationWarning: `scipy_minimize` terminated with status OptimizationStatus.FAILURE, displaying original message from `scipy.optimize.minimize`: ABNORMAL_TERMINATION_IN_LNSRCH\n",
      "  warn(\n",
      "c:\\Users\\stan\\miniconda3\\envs\\researchTP\\Lib\\site-packages\\botorch\\optim\\fit.py:102: OptimizationWarning: `scipy_minimize` terminated with status OptimizationStatus.FAILURE, displaying original message from `scipy.optimize.minimize`: ABNORMAL_TERMINATION_IN_LNSRCH\n",
      "  warn(\n",
      "c:\\Users\\stan\\miniconda3\\envs\\researchTP\\Lib\\site-packages\\botorch\\optim\\fit.py:102: OptimizationWarning: `scipy_minimize` terminated with status OptimizationStatus.FAILURE, displaying original message from `scipy.optimize.minimize`: ABNORMAL_TERMINATION_IN_LNSRCH\n",
      "  warn(\n",
      " 16%|█▌        | 8/50 [04:27<25:36, 36.59s/it]"
     ]
    },
    {
     "name": "stdout",
     "output_type": "stream",
     "text": [
      "Iterations 174\n",
      "Maximizing with EGP\n",
      "Seed: 523\n",
      "Initial points: tensor([[8.4860e+01, 3.4200e+00, 9.6000e-01, 2.8000e-01, 1.0410e+01],\n",
      "        [9.0310e+01, 1.8000e-01, 6.2000e-01, 8.2500e+00, 6.5000e-01],\n",
      "        [9.3110e+01, 3.0000e-02, 6.3000e-01, 3.7800e+00, 2.5000e+00],\n",
      "        [9.0000e+01, 1.0000e+01, 0.0000e+00, 0.0000e+00, 0.0000e+00],\n",
      "        [8.3170e+01, 1.7200e+00, 3.5400e+00, 2.4300e+00, 9.0700e+00]],\n",
      "       dtype=torch.float64)\n"
     ]
    },
    {
     "name": "stderr",
     "output_type": "stream",
     "text": [
      "c:\\Users\\stan\\miniconda3\\envs\\researchTP\\Lib\\site-packages\\botorch\\optim\\fit.py:102: OptimizationWarning: `scipy_minimize` terminated with status OptimizationStatus.FAILURE, displaying original message from `scipy.optimize.minimize`: ABNORMAL_TERMINATION_IN_LNSRCH\n",
      "  warn(\n",
      "c:\\Users\\stan\\miniconda3\\envs\\researchTP\\Lib\\site-packages\\botorch\\optim\\fit.py:102: OptimizationWarning: `scipy_minimize` terminated with status OptimizationStatus.FAILURE, displaying original message from `scipy.optimize.minimize`: ABNORMAL_TERMINATION_IN_LNSRCH\n",
      "  warn(\n",
      "c:\\Users\\stan\\miniconda3\\envs\\researchTP\\Lib\\site-packages\\botorch\\optim\\fit.py:102: OptimizationWarning: `scipy_minimize` terminated with status OptimizationStatus.FAILURE, displaying original message from `scipy.optimize.minimize`: ABNORMAL_TERMINATION_IN_LNSRCH\n",
      "  warn(\n",
      "c:\\Users\\stan\\miniconda3\\envs\\researchTP\\Lib\\site-packages\\botorch\\optim\\fit.py:102: OptimizationWarning: `scipy_minimize` terminated with status OptimizationStatus.FAILURE, displaying original message from `scipy.optimize.minimize`: ABNORMAL_TERMINATION_IN_LNSRCH\n",
      "  warn(\n",
      "c:\\Users\\stan\\miniconda3\\envs\\researchTP\\Lib\\site-packages\\botorch\\optim\\fit.py:102: OptimizationWarning: `scipy_minimize` terminated with status OptimizationStatus.FAILURE, displaying original message from `scipy.optimize.minimize`: ABNORMAL_TERMINATION_IN_LNSRCH\n",
      "  warn(\n",
      " 18%|█▊        | 9/50 [05:00<24:04, 35.22s/it]"
     ]
    },
    {
     "name": "stdout",
     "output_type": "stream",
     "text": [
      "Iterations 127\n",
      "Maximizing with EGP\n",
      "Seed: 497\n",
      "Initial points: tensor([[1.9230e+01, 3.4000e-01, 4.5360e+01, 2.6030e+01, 9.0700e+00],\n",
      "        [4.4550e+01, 5.0000e-01, 5.1550e+01, 1.1000e+00, 2.3100e+00],\n",
      "        [4.7810e+01, 4.9290e+01, 5.5000e-01, 1.4600e+00, 8.9000e-01],\n",
      "        [6.9100e+01, 3.0830e+01, 4.0000e-02, 4.0000e-02, 4.0000e-02],\n",
      "        [8.5480e+01, 3.2000e-01, 1.5000e-01, 4.0300e+00, 9.9600e+00]],\n",
      "       dtype=torch.float64)\n"
     ]
    },
    {
     "name": "stderr",
     "output_type": "stream",
     "text": [
      "c:\\Users\\stan\\miniconda3\\envs\\researchTP\\Lib\\site-packages\\botorch\\optim\\fit.py:102: OptimizationWarning: `scipy_minimize` terminated with status OptimizationStatus.FAILURE, displaying original message from `scipy.optimize.minimize`: ABNORMAL_TERMINATION_IN_LNSRCH\n",
      "  warn(\n",
      "c:\\Users\\stan\\miniconda3\\envs\\researchTP\\Lib\\site-packages\\botorch\\optim\\fit.py:102: OptimizationWarning: `scipy_minimize` terminated with status OptimizationStatus.FAILURE, displaying original message from `scipy.optimize.minimize`: ABNORMAL_TERMINATION_IN_LNSRCH\n",
      "  warn(\n",
      "c:\\Users\\stan\\miniconda3\\envs\\researchTP\\Lib\\site-packages\\botorch\\optim\\fit.py:102: OptimizationWarning: `scipy_minimize` terminated with status OptimizationStatus.FAILURE, displaying original message from `scipy.optimize.minimize`: ABNORMAL_TERMINATION_IN_LNSRCH\n",
      "  warn(\n",
      " 20%|██        | 10/50 [05:36<23:42, 35.55s/it]"
     ]
    },
    {
     "name": "stdout",
     "output_type": "stream",
     "text": [
      "Iterations 171\n",
      "Maximizing with EGP\n",
      "Seed: 414\n",
      "Initial points: tensor([[83.1700,  1.7200,  3.5400,  2.4300,  9.0700],\n",
      "        [84.5500,  1.9300,  1.4000,  3.2300,  8.8500],\n",
      "        [44.6100, 47.5300,  2.0500,  3.1700,  2.5800],\n",
      "        [44.8000, 37.4000,  6.8100,  5.8300,  5.1800],\n",
      "        [68.9400, 26.7900,  0.6900,  1.0300,  2.5700]], dtype=torch.float64)\n"
     ]
    },
    {
     "name": "stderr",
     "output_type": "stream",
     "text": [
      "c:\\Users\\stan\\miniconda3\\envs\\researchTP\\Lib\\site-packages\\botorch\\optim\\fit.py:102: OptimizationWarning: `scipy_minimize` terminated with status OptimizationStatus.FAILURE, displaying original message from `scipy.optimize.minimize`: ABNORMAL_TERMINATION_IN_LNSRCH\n",
      "  warn(\n",
      "c:\\Users\\stan\\miniconda3\\envs\\researchTP\\Lib\\site-packages\\botorch\\optim\\fit.py:102: OptimizationWarning: `scipy_minimize` terminated with status OptimizationStatus.FAILURE, displaying original message from `scipy.optimize.minimize`: ABNORMAL_TERMINATION_IN_LNSRCH\n",
      "  warn(\n",
      "c:\\Users\\stan\\miniconda3\\envs\\researchTP\\Lib\\site-packages\\botorch\\optim\\fit.py:102: OptimizationWarning: `scipy_minimize` terminated with status OptimizationStatus.FAILURE, displaying original message from `scipy.optimize.minimize`: ABNORMAL_TERMINATION_IN_LNSRCH\n",
      "  warn(\n",
      " 22%|██▏       | 11/50 [06:16<23:56, 36.84s/it]"
     ]
    },
    {
     "name": "stdout",
     "output_type": "stream",
     "text": [
      "Iterations 176\n",
      "Maximizing with EGP\n",
      "Seed: 940\n",
      "Initial points: tensor([[8.1710e+01, 4.3300e+00, 5.4400e+00, 8.5800e+00, 4.0000e-02],\n",
      "        [4.4570e+01, 4.8470e+01, 2.9300e+00, 1.6000e+00, 2.4000e+00],\n",
      "        [1.9230e+01, 3.4000e-01, 4.5360e+01, 2.6030e+01, 9.0700e+00],\n",
      "        [4.3610e+01, 4.9290e+01, 2.8800e+00, 4.2200e+00, 4.0000e-02],\n",
      "        [2.3855e+01, 4.9000e-01, 4.7670e+01, 2.5150e+01, 2.8400e+00]],\n",
      "       dtype=torch.float64)\n"
     ]
    },
    {
     "name": "stderr",
     "output_type": "stream",
     "text": [
      "c:\\Users\\stan\\miniconda3\\envs\\researchTP\\Lib\\site-packages\\botorch\\optim\\fit.py:102: OptimizationWarning: `scipy_minimize` terminated with status OptimizationStatus.FAILURE, displaying original message from `scipy.optimize.minimize`: ABNORMAL_TERMINATION_IN_LNSRCH\n",
      "  warn(\n",
      "c:\\Users\\stan\\miniconda3\\envs\\researchTP\\Lib\\site-packages\\botorch\\optim\\fit.py:102: OptimizationWarning: `scipy_minimize` terminated with status OptimizationStatus.FAILURE, displaying original message from `scipy.optimize.minimize`: ABNORMAL_TERMINATION_IN_LNSRCH\n",
      "  warn(\n",
      "c:\\Users\\stan\\miniconda3\\envs\\researchTP\\Lib\\site-packages\\botorch\\optim\\fit.py:102: OptimizationWarning: `scipy_minimize` terminated with status OptimizationStatus.FAILURE, displaying original message from `scipy.optimize.minimize`: ABNORMAL_TERMINATION_IN_LNSRCH\n",
      "  warn(\n",
      "c:\\Users\\stan\\miniconda3\\envs\\researchTP\\Lib\\site-packages\\botorch\\optim\\fit.py:102: OptimizationWarning: `scipy_minimize` terminated with status OptimizationStatus.FAILURE, displaying original message from `scipy.optimize.minimize`: ABNORMAL_TERMINATION_IN_LNSRCH\n",
      "  warn(\n",
      "c:\\Users\\stan\\miniconda3\\envs\\researchTP\\Lib\\site-packages\\botorch\\optim\\fit.py:102: OptimizationWarning: `scipy_minimize` terminated with status OptimizationStatus.FAILURE, displaying original message from `scipy.optimize.minimize`: ABNORMAL_TERMINATION_IN_LNSRCH\n",
      "  warn(\n",
      " 24%|██▍       | 12/50 [06:56<24:01, 37.92s/it]"
     ]
    },
    {
     "name": "stdout",
     "output_type": "stream",
     "text": [
      "Iterations 175\n",
      "Maximizing with EGP\n",
      "Seed: 802\n",
      "Initial points: tensor([[9.1130e+01, 1.9900e+00, 1.9500e+00, 2.2400e+00, 2.6900e+00],\n",
      "        [6.1930e+01, 3.0520e+01, 7.0500e+00, 2.0000e-01, 3.6000e-01],\n",
      "        [9.1030e+01, 4.6000e-01, 1.9300e+00, 6.5900e+00, 4.0000e-02],\n",
      "        [4.7200e+01, 4.9490e+01, 2.0100e+00, 3.1000e-01, 1.0100e+00],\n",
      "        [5.0740e+01, 4.1050e+01, 1.6500e+00, 4.6900e+00, 1.8700e+00]],\n",
      "       dtype=torch.float64)\n"
     ]
    },
    {
     "name": "stderr",
     "output_type": "stream",
     "text": [
      "c:\\Users\\stan\\miniconda3\\envs\\researchTP\\Lib\\site-packages\\botorch\\optim\\fit.py:102: OptimizationWarning: `scipy_minimize` terminated with status OptimizationStatus.FAILURE, displaying original message from `scipy.optimize.minimize`: ABNORMAL_TERMINATION_IN_LNSRCH\n",
      "  warn(\n",
      "c:\\Users\\stan\\miniconda3\\envs\\researchTP\\Lib\\site-packages\\botorch\\optim\\fit.py:102: OptimizationWarning: `scipy_minimize` terminated with status OptimizationStatus.FAILURE, displaying original message from `scipy.optimize.minimize`: ABNORMAL_TERMINATION_IN_LNSRCH\n",
      "  warn(\n",
      " 26%|██▌       | 13/50 [07:28<22:12, 36.01s/it]"
     ]
    },
    {
     "name": "stdout",
     "output_type": "stream",
     "text": [
      "Iterations 132\n",
      "Maximizing with EGP\n",
      "Seed: 849\n",
      "Initial points: tensor([[42.3300, 51.8300,  2.7500,  2.8700,  0.3200],\n",
      "        [38.3300, 43.6000,  0.1000,  3.6300, 14.3000],\n",
      "        [80.2600,  0.5300, 12.0300,  5.4700,  1.7800],\n",
      "        [85.0800,  7.7500,  3.5000,  2.2400,  1.3600],\n",
      "        [70.0000, 30.0000,  0.0000,  0.0000,  0.0000]], dtype=torch.float64)\n"
     ]
    },
    {
     "name": "stderr",
     "output_type": "stream",
     "text": [
      "c:\\Users\\stan\\miniconda3\\envs\\researchTP\\Lib\\site-packages\\botorch\\optim\\fit.py:102: OptimizationWarning: `scipy_minimize` terminated with status OptimizationStatus.FAILURE, displaying original message from `scipy.optimize.minimize`: ABNORMAL_TERMINATION_IN_LNSRCH\n",
      "  warn(\n",
      "c:\\Users\\stan\\miniconda3\\envs\\researchTP\\Lib\\site-packages\\botorch\\optim\\fit.py:102: OptimizationWarning: `scipy_minimize` terminated with status OptimizationStatus.FAILURE, displaying original message from `scipy.optimize.minimize`: ABNORMAL_TERMINATION_IN_LNSRCH\n",
      "  warn(\n",
      "c:\\Users\\stan\\miniconda3\\envs\\researchTP\\Lib\\site-packages\\botorch\\optim\\fit.py:102: OptimizationWarning: `scipy_minimize` terminated with status OptimizationStatus.FAILURE, displaying original message from `scipy.optimize.minimize`: ABNORMAL_TERMINATION_IN_LNSRCH\n",
      "  warn(\n",
      "c:\\Users\\stan\\miniconda3\\envs\\researchTP\\Lib\\site-packages\\botorch\\optim\\fit.py:102: OptimizationWarning: `scipy_minimize` terminated with status OptimizationStatus.FAILURE, displaying original message from `scipy.optimize.minimize`: ABNORMAL_TERMINATION_IN_LNSRCH\n",
      "  warn(\n",
      "c:\\Users\\stan\\miniconda3\\envs\\researchTP\\Lib\\site-packages\\botorch\\optim\\fit.py:102: OptimizationWarning: `scipy_minimize` terminated with status OptimizationStatus.FAILURE, displaying original message from `scipy.optimize.minimize`: ABNORMAL_TERMINATION_IN_LNSRCH\n",
      "  warn(\n",
      " 28%|██▊       | 14/50 [07:59<20:50, 34.73s/it]"
     ]
    },
    {
     "name": "stdout",
     "output_type": "stream",
     "text": [
      "Iterations 123\n",
      "Maximizing with EGP\n",
      "Seed: 310\n",
      "Initial points: tensor([[8.4600e+01, 7.5600e+00, 4.0000e-02, 7.8300e+00, 6.0000e-02],\n",
      "        [3.4130e+01, 4.2190e+01, 8.7900e+00, 1.3220e+01, 1.6900e+00],\n",
      "        [1.5000e+01, 0.0000e+00, 0.0000e+00, 8.5000e+01, 0.0000e+00],\n",
      "        [5.8620e+01, 3.9890e+01, 4.0000e-02, 1.3200e+00, 1.4000e-01],\n",
      "        [8.4090e+01, 1.8500e+00, 6.5000e-01, 2.3600e+00, 1.1140e+01]],\n",
      "       dtype=torch.float64)\n"
     ]
    },
    {
     "name": "stderr",
     "output_type": "stream",
     "text": [
      "c:\\Users\\stan\\miniconda3\\envs\\researchTP\\Lib\\site-packages\\botorch\\optim\\fit.py:102: OptimizationWarning: `scipy_minimize` terminated with status OptimizationStatus.FAILURE, displaying original message from `scipy.optimize.minimize`: ABNORMAL_TERMINATION_IN_LNSRCH\n",
      "  warn(\n",
      "c:\\Users\\stan\\miniconda3\\envs\\researchTP\\Lib\\site-packages\\botorch\\optim\\fit.py:102: OptimizationWarning: `scipy_minimize` terminated with status OptimizationStatus.FAILURE, displaying original message from `scipy.optimize.minimize`: ABNORMAL_TERMINATION_IN_LNSRCH\n",
      "  warn(\n",
      "c:\\Users\\stan\\miniconda3\\envs\\researchTP\\Lib\\site-packages\\botorch\\optim\\fit.py:102: OptimizationWarning: `scipy_minimize` terminated with status OptimizationStatus.FAILURE, displaying original message from `scipy.optimize.minimize`: ABNORMAL_TERMINATION_IN_LNSRCH\n",
      "  warn(\n",
      "c:\\Users\\stan\\miniconda3\\envs\\researchTP\\Lib\\site-packages\\botorch\\optim\\fit.py:102: OptimizationWarning: `scipy_minimize` terminated with status OptimizationStatus.FAILURE, displaying original message from `scipy.optimize.minimize`: ABNORMAL_TERMINATION_IN_LNSRCH\n",
      "  warn(\n",
      "c:\\Users\\stan\\miniconda3\\envs\\researchTP\\Lib\\site-packages\\botorch\\optim\\fit.py:102: OptimizationWarning: `scipy_minimize` terminated with status OptimizationStatus.FAILURE, displaying original message from `scipy.optimize.minimize`: ABNORMAL_TERMINATION_IN_LNSRCH\n",
      "  warn(\n",
      "c:\\Users\\stan\\miniconda3\\envs\\researchTP\\Lib\\site-packages\\botorch\\optim\\fit.py:102: OptimizationWarning: `scipy_minimize` terminated with status OptimizationStatus.FAILURE, displaying original message from `scipy.optimize.minimize`: ABNORMAL_TERMINATION_IN_LNSRCH\n",
      "  warn(\n",
      "c:\\Users\\stan\\miniconda3\\envs\\researchTP\\Lib\\site-packages\\botorch\\optim\\fit.py:102: OptimizationWarning: `scipy_minimize` terminated with status OptimizationStatus.FAILURE, displaying original message from `scipy.optimize.minimize`: ABNORMAL_TERMINATION_IN_LNSRCH\n",
      "  warn(\n",
      "c:\\Users\\stan\\miniconda3\\envs\\researchTP\\Lib\\site-packages\\botorch\\optim\\fit.py:102: OptimizationWarning: `scipy_minimize` terminated with status OptimizationStatus.FAILURE, displaying original message from `scipy.optimize.minimize`: ABNORMAL_TERMINATION_IN_LNSRCH\n",
      "  warn(\n",
      " 30%|███       | 15/50 [08:29<19:25, 33.30s/it]"
     ]
    },
    {
     "name": "stdout",
     "output_type": "stream",
     "text": [
      "Iterations 127\n",
      "Maximizing with EGP\n",
      "Seed: 991\n",
      "Initial points: tensor([[3.9610e+01, 4.8070e+01, 7.5100e+00, 1.9300e+00, 2.9400e+00],\n",
      "        [4.8970e+01, 5.0340e+01, 4.0000e-02, 1.0000e-01, 5.6000e-01],\n",
      "        [8.6600e+01, 1.1000e+00, 2.8000e-01, 2.4200e+00, 9.5400e+00],\n",
      "        [4.5000e+01, 0.0000e+00, 5.5000e+01, 0.0000e+00, 0.0000e+00],\n",
      "        [4.1600e+01, 5.1430e+01, 2.1000e+00, 4.9100e+00, 4.0000e-02]],\n",
      "       dtype=torch.float64)\n"
     ]
    },
    {
     "name": "stderr",
     "output_type": "stream",
     "text": [
      "c:\\Users\\stan\\miniconda3\\envs\\researchTP\\Lib\\site-packages\\botorch\\optim\\fit.py:102: OptimizationWarning: `scipy_minimize` terminated with status OptimizationStatus.FAILURE, displaying original message from `scipy.optimize.minimize`: ABNORMAL_TERMINATION_IN_LNSRCH\n",
      "  warn(\n",
      "c:\\Users\\stan\\miniconda3\\envs\\researchTP\\Lib\\site-packages\\botorch\\optim\\fit.py:102: OptimizationWarning: `scipy_minimize` terminated with status OptimizationStatus.FAILURE, displaying original message from `scipy.optimize.minimize`: ABNORMAL_TERMINATION_IN_LNSRCH\n",
      "  warn(\n",
      "c:\\Users\\stan\\miniconda3\\envs\\researchTP\\Lib\\site-packages\\botorch\\optim\\fit.py:102: OptimizationWarning: `scipy_minimize` terminated with status OptimizationStatus.FAILURE, displaying original message from `scipy.optimize.minimize`: ABNORMAL_TERMINATION_IN_LNSRCH\n",
      "  warn(\n",
      "c:\\Users\\stan\\miniconda3\\envs\\researchTP\\Lib\\site-packages\\botorch\\optim\\fit.py:102: OptimizationWarning: `scipy_minimize` terminated with status OptimizationStatus.FAILURE, displaying original message from `scipy.optimize.minimize`: ABNORMAL_TERMINATION_IN_LNSRCH\n",
      "  warn(\n",
      " 32%|███▏      | 16/50 [09:12<20:22, 35.96s/it]"
     ]
    },
    {
     "name": "stdout",
     "output_type": "stream",
     "text": [
      "Iterations 179\n",
      "Maximizing with EGP\n",
      "Seed: 488\n",
      "Initial points: tensor([[8.2980e+01, 8.0400e+00, 4.7900e+00, 2.5800e+00, 1.5100e+00],\n",
      "        [4.3170e+01, 3.4010e+01, 3.8900e+00, 2.0400e+00, 1.6960e+01],\n",
      "        [9.4810e+01, 3.0000e-01, 2.8000e-01, 8.0000e-02, 4.5300e+00],\n",
      "        [5.5340e+01, 3.8120e+01, 6.2700e+00, 1.0000e-02, 2.6000e-01],\n",
      "        [4.6860e+01, 4.3740e+01, 5.0800e+00, 7.8000e-01, 3.6100e+00]],\n",
      "       dtype=torch.float64)\n"
     ]
    },
    {
     "name": "stderr",
     "output_type": "stream",
     "text": [
      " 34%|███▍      | 17/50 [09:52<20:33, 37.39s/it]"
     ]
    },
    {
     "name": "stdout",
     "output_type": "stream",
     "text": [
      "Iterations 178\n",
      "Maximizing with EGP\n",
      "Seed: 366\n",
      "Initial points: tensor([[44.8000, 37.4000,  6.8100,  5.8300,  5.1800],\n",
      "        [20.5700,  0.1800, 35.6000, 39.4100,  4.1600],\n",
      "        [44.5700, 48.4700,  2.9300,  1.6000,  2.4000],\n",
      "        [55.3200, 37.0400,  1.9000,  2.3200,  3.4400],\n",
      "        [44.3500,  0.1800, 54.4700,  0.1800,  0.8100]], dtype=torch.float64)\n"
     ]
    },
    {
     "name": "stderr",
     "output_type": "stream",
     "text": [
      "c:\\Users\\stan\\miniconda3\\envs\\researchTP\\Lib\\site-packages\\botorch\\optim\\fit.py:102: OptimizationWarning: `scipy_minimize` terminated with status OptimizationStatus.FAILURE, displaying original message from `scipy.optimize.minimize`: ABNORMAL_TERMINATION_IN_LNSRCH\n",
      "  warn(\n",
      "c:\\Users\\stan\\miniconda3\\envs\\researchTP\\Lib\\site-packages\\botorch\\optim\\fit.py:102: OptimizationWarning: `scipy_minimize` terminated with status OptimizationStatus.FAILURE, displaying original message from `scipy.optimize.minimize`: ABNORMAL_TERMINATION_IN_LNSRCH\n",
      "  warn(\n",
      "c:\\Users\\stan\\miniconda3\\envs\\researchTP\\Lib\\site-packages\\botorch\\optim\\fit.py:102: OptimizationWarning: `scipy_minimize` terminated with status OptimizationStatus.FAILURE, displaying original message from `scipy.optimize.minimize`: ABNORMAL_TERMINATION_IN_LNSRCH\n",
      "  warn(\n",
      "c:\\Users\\stan\\miniconda3\\envs\\researchTP\\Lib\\site-packages\\botorch\\optim\\fit.py:102: OptimizationWarning: `scipy_minimize` terminated with status OptimizationStatus.FAILURE, displaying original message from `scipy.optimize.minimize`: ABNORMAL_TERMINATION_IN_LNSRCH\n",
      "  warn(\n",
      "c:\\Users\\stan\\miniconda3\\envs\\researchTP\\Lib\\site-packages\\botorch\\optim\\fit.py:102: OptimizationWarning: `scipy_minimize` terminated with status OptimizationStatus.FAILURE, displaying original message from `scipy.optimize.minimize`: ABNORMAL_TERMINATION_IN_LNSRCH\n",
      "  warn(\n",
      "c:\\Users\\stan\\miniconda3\\envs\\researchTP\\Lib\\site-packages\\botorch\\optim\\fit.py:102: OptimizationWarning: `scipy_minimize` terminated with status OptimizationStatus.FAILURE, displaying original message from `scipy.optimize.minimize`: ABNORMAL_TERMINATION_IN_LNSRCH\n",
      "  warn(\n",
      "c:\\Users\\stan\\miniconda3\\envs\\researchTP\\Lib\\site-packages\\botorch\\optim\\fit.py:102: OptimizationWarning: `scipy_minimize` terminated with status OptimizationStatus.FAILURE, displaying original message from `scipy.optimize.minimize`: ABNORMAL_TERMINATION_IN_LNSRCH\n",
      "  warn(\n",
      "c:\\Users\\stan\\miniconda3\\envs\\researchTP\\Lib\\site-packages\\botorch\\optim\\fit.py:102: OptimizationWarning: `scipy_minimize` terminated with status OptimizationStatus.FAILURE, displaying original message from `scipy.optimize.minimize`: ABNORMAL_TERMINATION_IN_LNSRCH\n",
      "  warn(\n",
      " 36%|███▌      | 18/50 [10:28<19:44, 37.01s/it]"
     ]
    },
    {
     "name": "stdout",
     "output_type": "stream",
     "text": [
      "Iterations 157\n",
      "Maximizing with EGP\n",
      "Seed: 597\n",
      "Initial points: tensor([[34.9600, 44.3200,  1.8000, 14.0100,  4.9600],\n",
      "        [46.5100, 49.5100,  2.0600,  1.0600,  0.8900],\n",
      "        [39.6100, 48.0700,  7.5100,  1.9300,  2.9400],\n",
      "        [45.8000, 47.2500,  3.2400,  2.7000,  1.1000],\n",
      "        [39.0500, 41.8500,  5.7500,  4.0400,  9.4000]], dtype=torch.float64)\n"
     ]
    },
    {
     "name": "stderr",
     "output_type": "stream",
     "text": [
      " 38%|███▊      | 19/50 [11:06<19:13, 37.21s/it]"
     ]
    },
    {
     "name": "stdout",
     "output_type": "stream",
     "text": [
      "Iterations 174\n",
      "Maximizing with EGP\n",
      "Seed: 913\n",
      "Initial points: tensor([[5.3400e+01, 3.3900e+01, 1.1800e+00, 1.1340e+01, 2.5000e-01],\n",
      "        [8.4550e+01, 1.9300e+00, 1.4000e+00, 3.2300e+00, 8.8500e+00],\n",
      "        [4.3800e+01, 4.5290e+01, 7.8900e+00, 2.4300e+00, 5.5000e-01],\n",
      "        [5.8760e+01, 3.9810e+01, 7.5000e-01, 1.5000e-01, 5.3000e-01],\n",
      "        [4.8970e+01, 5.0340e+01, 4.0000e-02, 1.0000e-01, 5.6000e-01]],\n",
      "       dtype=torch.float64)\n"
     ]
    },
    {
     "name": "stderr",
     "output_type": "stream",
     "text": [
      "c:\\Users\\stan\\miniconda3\\envs\\researchTP\\Lib\\site-packages\\botorch\\optim\\fit.py:102: OptimizationWarning: `scipy_minimize` terminated with status OptimizationStatus.FAILURE, displaying original message from `scipy.optimize.minimize`: ABNORMAL_TERMINATION_IN_LNSRCH\n",
      "  warn(\n",
      "c:\\Users\\stan\\miniconda3\\envs\\researchTP\\Lib\\site-packages\\botorch\\optim\\fit.py:102: OptimizationWarning: `scipy_minimize` terminated with status OptimizationStatus.FAILURE, displaying original message from `scipy.optimize.minimize`: ABNORMAL_TERMINATION_IN_LNSRCH\n",
      "  warn(\n",
      "c:\\Users\\stan\\miniconda3\\envs\\researchTP\\Lib\\site-packages\\botorch\\optim\\fit.py:102: OptimizationWarning: `scipy_minimize` terminated with status OptimizationStatus.FAILURE, displaying original message from `scipy.optimize.minimize`: ABNORMAL_TERMINATION_IN_LNSRCH\n",
      "  warn(\n",
      "c:\\Users\\stan\\miniconda3\\envs\\researchTP\\Lib\\site-packages\\botorch\\optim\\fit.py:102: OptimizationWarning: `scipy_minimize` terminated with status OptimizationStatus.FAILURE, displaying original message from `scipy.optimize.minimize`: ABNORMAL_TERMINATION_IN_LNSRCH\n",
      "  warn(\n",
      " 40%|████      | 20/50 [11:32<16:59, 33.98s/it]"
     ]
    },
    {
     "name": "stdout",
     "output_type": "stream",
     "text": [
      "Iterations 131\n",
      "Maximizing with EGP\n",
      "Seed: 929\n",
      "Initial points: tensor([[91.1300,  1.9900,  1.9500,  2.2400,  2.6900],\n",
      "        [49.5100, 49.2400,  0.6200,  0.1200,  0.5600],\n",
      "        [46.5700, 48.9100,  3.0800,  1.1100,  0.3600],\n",
      "        [25.0000,  0.0000,  0.0000,  0.0000, 75.0000],\n",
      "        [60.1000, 38.3900,  0.5500,  0.1100,  0.8600]], dtype=torch.float64)\n"
     ]
    },
    {
     "name": "stderr",
     "output_type": "stream",
     "text": [
      "c:\\Users\\stan\\miniconda3\\envs\\researchTP\\Lib\\site-packages\\botorch\\optim\\fit.py:102: OptimizationWarning: `scipy_minimize` terminated with status OptimizationStatus.FAILURE, displaying original message from `scipy.optimize.minimize`: ABNORMAL_TERMINATION_IN_LNSRCH\n",
      "  warn(\n",
      "c:\\Users\\stan\\miniconda3\\envs\\researchTP\\Lib\\site-packages\\botorch\\optim\\fit.py:102: OptimizationWarning: `scipy_minimize` terminated with status OptimizationStatus.FAILURE, displaying original message from `scipy.optimize.minimize`: ABNORMAL_TERMINATION_IN_LNSRCH\n",
      "  warn(\n",
      "c:\\Users\\stan\\miniconda3\\envs\\researchTP\\Lib\\site-packages\\botorch\\optim\\fit.py:102: OptimizationWarning: `scipy_minimize` terminated with status OptimizationStatus.FAILURE, displaying original message from `scipy.optimize.minimize`: ABNORMAL_TERMINATION_IN_LNSRCH\n",
      "  warn(\n",
      " 42%|████▏     | 21/50 [12:11<17:05, 35.36s/it]"
     ]
    },
    {
     "name": "stdout",
     "output_type": "stream",
     "text": [
      "Iterations 167\n",
      "Maximizing with EGP\n",
      "Seed: 223\n",
      "Initial points: tensor([[88.4500,  3.5000,  1.8900,  1.9600,  4.2100],\n",
      "        [90.0000, 10.0000,  0.0000,  0.0000,  0.0000],\n",
      "        [42.3000, 45.0700,  4.4900,  5.2100,  3.0200],\n",
      "        [16.1500,  0.4600, 25.3800, 51.4200,  6.5500],\n",
      "        [80.2600,  0.5300, 12.0300,  5.4700,  1.7800]], dtype=torch.float64)\n"
     ]
    },
    {
     "name": "stderr",
     "output_type": "stream",
     "text": [
      "c:\\Users\\stan\\miniconda3\\envs\\researchTP\\Lib\\site-packages\\botorch\\optim\\fit.py:102: OptimizationWarning: `scipy_minimize` terminated with status OptimizationStatus.FAILURE, displaying original message from `scipy.optimize.minimize`: ABNORMAL_TERMINATION_IN_LNSRCH\n",
      "  warn(\n",
      "c:\\Users\\stan\\miniconda3\\envs\\researchTP\\Lib\\site-packages\\botorch\\optim\\fit.py:102: OptimizationWarning: `scipy_minimize` terminated with status OptimizationStatus.FAILURE, displaying original message from `scipy.optimize.minimize`: ABNORMAL_TERMINATION_IN_LNSRCH\n",
      "  warn(\n",
      "c:\\Users\\stan\\miniconda3\\envs\\researchTP\\Lib\\site-packages\\botorch\\optim\\fit.py:102: OptimizationWarning: `scipy_minimize` terminated with status OptimizationStatus.FAILURE, displaying original message from `scipy.optimize.minimize`: ABNORMAL_TERMINATION_IN_LNSRCH\n",
      "  warn(\n",
      "c:\\Users\\stan\\miniconda3\\envs\\researchTP\\Lib\\site-packages\\botorch\\optim\\fit.py:102: OptimizationWarning: `scipy_minimize` terminated with status OptimizationStatus.FAILURE, displaying original message from `scipy.optimize.minimize`: ABNORMAL_TERMINATION_IN_LNSRCH\n",
      "  warn(\n",
      "c:\\Users\\stan\\miniconda3\\envs\\researchTP\\Lib\\site-packages\\botorch\\optim\\fit.py:102: OptimizationWarning: `scipy_minimize` terminated with status OptimizationStatus.FAILURE, displaying original message from `scipy.optimize.minimize`: ABNORMAL_TERMINATION_IN_LNSRCH\n",
      "  warn(\n",
      " 44%|████▍     | 22/50 [12:44<16:09, 34.62s/it]"
     ]
    },
    {
     "name": "stdout",
     "output_type": "stream",
     "text": [
      "Iterations 145\n",
      "Maximizing with EGP\n",
      "Seed: 516\n",
      "Initial points: tensor([[44.6100, 47.5300,  2.0500,  3.1700,  2.5800],\n",
      "        [84.5500,  1.9300,  1.4000,  3.2300,  8.8500],\n",
      "        [82.9800,  8.0400,  4.7900,  2.5800,  1.5100],\n",
      "        [70.1400, 27.1800,  1.4500,  0.2700,  0.9700],\n",
      "        [45.8000, 47.2500,  3.2400,  2.7000,  1.1000]], dtype=torch.float64)\n"
     ]
    },
    {
     "name": "stderr",
     "output_type": "stream",
     "text": [
      "c:\\Users\\stan\\miniconda3\\envs\\researchTP\\Lib\\site-packages\\botorch\\optim\\fit.py:102: OptimizationWarning: `scipy_minimize` terminated with status OptimizationStatus.FAILURE, displaying original message from `scipy.optimize.minimize`: ABNORMAL_TERMINATION_IN_LNSRCH\n",
      "  warn(\n",
      "c:\\Users\\stan\\miniconda3\\envs\\researchTP\\Lib\\site-packages\\botorch\\optim\\fit.py:102: OptimizationWarning: `scipy_minimize` terminated with status OptimizationStatus.FAILURE, displaying original message from `scipy.optimize.minimize`: ABNORMAL_TERMINATION_IN_LNSRCH\n",
      "  warn(\n",
      "c:\\Users\\stan\\miniconda3\\envs\\researchTP\\Lib\\site-packages\\botorch\\optim\\fit.py:102: OptimizationWarning: `scipy_minimize` terminated with status OptimizationStatus.FAILURE, displaying original message from `scipy.optimize.minimize`: ABNORMAL_TERMINATION_IN_LNSRCH\n",
      "  warn(\n",
      "c:\\Users\\stan\\miniconda3\\envs\\researchTP\\Lib\\site-packages\\botorch\\optim\\fit.py:102: OptimizationWarning: `scipy_minimize` terminated with status OptimizationStatus.FAILURE, displaying original message from `scipy.optimize.minimize`: ABNORMAL_TERMINATION_IN_LNSRCH\n",
      "  warn(\n",
      "c:\\Users\\stan\\miniconda3\\envs\\researchTP\\Lib\\site-packages\\botorch\\optim\\fit.py:102: OptimizationWarning: `scipy_minimize` terminated with status OptimizationStatus.FAILURE, displaying original message from `scipy.optimize.minimize`: ABNORMAL_TERMINATION_IN_LNSRCH\n",
      "  warn(\n",
      "c:\\Users\\stan\\miniconda3\\envs\\researchTP\\Lib\\site-packages\\botorch\\optim\\fit.py:102: OptimizationWarning: `scipy_minimize` terminated with status OptimizationStatus.FAILURE, displaying original message from `scipy.optimize.minimize`: ABNORMAL_TERMINATION_IN_LNSRCH\n",
      "  warn(\n",
      " 46%|████▌     | 23/50 [13:20<15:45, 35.00s/it]"
     ]
    },
    {
     "name": "stdout",
     "output_type": "stream",
     "text": [
      "Iterations 145\n",
      "Maximizing with EGP\n",
      "Seed: 142\n",
      "Initial points: tensor([[4.9720e+01, 4.8060e+01, 1.1100e+00, 8.9000e-01, 2.3000e-01],\n",
      "        [6.8110e+01, 2.8690e+01, 8.9000e-01, 9.7000e-01, 1.3500e+00],\n",
      "        [6.0000e+01, 0.0000e+00, 0.0000e+00, 4.0000e+01, 0.0000e+00],\n",
      "        [4.1900e+01, 4.8610e+01, 3.7800e+00, 1.8700e+00, 3.8300e+00],\n",
      "        [7.3990e+01, 5.0000e-01, 2.5180e+01, 2.8000e-01, 4.0000e-02]],\n",
      "       dtype=torch.float64)\n"
     ]
    },
    {
     "name": "stderr",
     "output_type": "stream",
     "text": [
      "c:\\Users\\stan\\miniconda3\\envs\\researchTP\\Lib\\site-packages\\botorch\\optim\\fit.py:102: OptimizationWarning: `scipy_minimize` terminated with status OptimizationStatus.FAILURE, displaying original message from `scipy.optimize.minimize`: ABNORMAL_TERMINATION_IN_LNSRCH\n",
      "  warn(\n",
      "c:\\Users\\stan\\miniconda3\\envs\\researchTP\\Lib\\site-packages\\botorch\\optim\\fit.py:102: OptimizationWarning: `scipy_minimize` terminated with status OptimizationStatus.FAILURE, displaying original message from `scipy.optimize.minimize`: ABNORMAL_TERMINATION_IN_LNSRCH\n",
      "  warn(\n",
      "c:\\Users\\stan\\miniconda3\\envs\\researchTP\\Lib\\site-packages\\botorch\\optim\\fit.py:102: OptimizationWarning: `scipy_minimize` terminated with status OptimizationStatus.FAILURE, displaying original message from `scipy.optimize.minimize`: ABNORMAL_TERMINATION_IN_LNSRCH\n",
      "  warn(\n",
      "c:\\Users\\stan\\miniconda3\\envs\\researchTP\\Lib\\site-packages\\botorch\\optim\\fit.py:102: OptimizationWarning: `scipy_minimize` terminated with status OptimizationStatus.FAILURE, displaying original message from `scipy.optimize.minimize`: ABNORMAL_TERMINATION_IN_LNSRCH\n",
      "  warn(\n",
      "c:\\Users\\stan\\miniconda3\\envs\\researchTP\\Lib\\site-packages\\botorch\\optim\\fit.py:102: OptimizationWarning: `scipy_minimize` terminated with status OptimizationStatus.FAILURE, displaying original message from `scipy.optimize.minimize`: ABNORMAL_TERMINATION_IN_LNSRCH\n",
      "  warn(\n",
      "c:\\Users\\stan\\miniconda3\\envs\\researchTP\\Lib\\site-packages\\botorch\\optim\\fit.py:102: OptimizationWarning: `scipy_minimize` terminated with status OptimizationStatus.FAILURE, displaying original message from `scipy.optimize.minimize`: ABNORMAL_TERMINATION_IN_LNSRCH\n",
      "  warn(\n",
      " 48%|████▊     | 24/50 [13:55<15:14, 35.16s/it]"
     ]
    },
    {
     "name": "stdout",
     "output_type": "stream",
     "text": [
      "Iterations 145\n",
      "Maximizing with EGP\n",
      "Seed: 288\n",
      "Initial points: tensor([[5.1810e+01, 3.9100e+01, 5.1500e+00, 7.8000e-01, 3.1400e+00],\n",
      "        [6.9100e+01, 3.0830e+01, 4.0000e-02, 4.0000e-02, 4.0000e-02],\n",
      "        [4.7130e+01, 4.6950e+01, 4.2800e+00, 1.0800e+00, 5.7000e-01],\n",
      "        [5.5340e+01, 3.8120e+01, 6.2700e+00, 1.0000e-02, 2.6000e-01],\n",
      "        [4.0000e+01, 6.0000e+01, 0.0000e+00, 0.0000e+00, 0.0000e+00]],\n",
      "       dtype=torch.float64)\n"
     ]
    },
    {
     "name": "stderr",
     "output_type": "stream",
     "text": [
      "c:\\Users\\stan\\miniconda3\\envs\\researchTP\\Lib\\site-packages\\botorch\\optim\\fit.py:102: OptimizationWarning: `scipy_minimize` terminated with status OptimizationStatus.FAILURE, displaying original message from `scipy.optimize.minimize`: ABNORMAL_TERMINATION_IN_LNSRCH\n",
      "  warn(\n",
      " 50%|█████     | 25/50 [14:27<14:12, 34.08s/it]"
     ]
    },
    {
     "name": "stdout",
     "output_type": "stream",
     "text": [
      "Iterations 140\n",
      "Maximizing with EGP\n",
      "Seed: 143\n",
      "Initial points: tensor([[4.8680e+01, 3.9720e+01, 1.0970e+01, 5.8000e-01, 4.0000e-02],\n",
      "        [6.0340e+01, 2.6070e+01, 6.5000e+00, 2.3100e+00, 4.8700e+00],\n",
      "        [4.5580e+01, 4.9520e+01, 2.5900e+00, 4.9000e-01, 1.8900e+00],\n",
      "        [4.4300e+01, 5.4680e+01, 4.0000e-02, 2.9000e-01, 7.8000e-01],\n",
      "        [5.0740e+01, 4.1050e+01, 1.6500e+00, 4.6900e+00, 1.8700e+00]],\n",
      "       dtype=torch.float64)\n"
     ]
    },
    {
     "name": "stderr",
     "output_type": "stream",
     "text": [
      "c:\\Users\\stan\\miniconda3\\envs\\researchTP\\Lib\\site-packages\\botorch\\optim\\fit.py:102: OptimizationWarning: `scipy_minimize` terminated with status OptimizationStatus.FAILURE, displaying original message from `scipy.optimize.minimize`: ABNORMAL_TERMINATION_IN_LNSRCH\n",
      "  warn(\n",
      "c:\\Users\\stan\\miniconda3\\envs\\researchTP\\Lib\\site-packages\\botorch\\optim\\fit.py:102: OptimizationWarning: `scipy_minimize` terminated with status OptimizationStatus.FAILURE, displaying original message from `scipy.optimize.minimize`: ABNORMAL_TERMINATION_IN_LNSRCH\n",
      "  warn(\n",
      " 52%|█████▏    | 26/50 [14:53<12:42, 31.78s/it]"
     ]
    },
    {
     "name": "stdout",
     "output_type": "stream",
     "text": [
      "Iterations 108\n",
      "Maximizing with EGP\n",
      "Seed: 773\n",
      "Initial points: tensor([[47.2600, 44.4600,  7.3200,  0.6900,  0.2300],\n",
      "        [50.7000, 37.8800,  4.0500,  3.3700,  4.0500],\n",
      "        [60.0000, 40.0000,  0.0000,  0.0000,  0.0000],\n",
      "        [51.7300, 32.1200,  3.9200,  2.2900,  9.9600],\n",
      "        [34.0100, 38.9000,  0.7300, 12.6800, 13.6500]], dtype=torch.float64)\n"
     ]
    },
    {
     "name": "stderr",
     "output_type": "stream",
     "text": [
      "c:\\Users\\stan\\miniconda3\\envs\\researchTP\\Lib\\site-packages\\botorch\\optim\\fit.py:102: OptimizationWarning: `scipy_minimize` terminated with status OptimizationStatus.FAILURE, displaying original message from `scipy.optimize.minimize`: ABNORMAL_TERMINATION_IN_LNSRCH\n",
      "  warn(\n",
      "c:\\Users\\stan\\miniconda3\\envs\\researchTP\\Lib\\site-packages\\botorch\\optim\\fit.py:102: OptimizationWarning: `scipy_minimize` terminated with status OptimizationStatus.FAILURE, displaying original message from `scipy.optimize.minimize`: ABNORMAL_TERMINATION_IN_LNSRCH\n",
      "  warn(\n",
      "c:\\Users\\stan\\miniconda3\\envs\\researchTP\\Lib\\site-packages\\botorch\\optim\\fit.py:102: OptimizationWarning: `scipy_minimize` terminated with status OptimizationStatus.FAILURE, displaying original message from `scipy.optimize.minimize`: ABNORMAL_TERMINATION_IN_LNSRCH\n",
      "  warn(\n",
      "c:\\Users\\stan\\miniconda3\\envs\\researchTP\\Lib\\site-packages\\botorch\\optim\\fit.py:102: OptimizationWarning: `scipy_minimize` terminated with status OptimizationStatus.FAILURE, displaying original message from `scipy.optimize.minimize`: ABNORMAL_TERMINATION_IN_LNSRCH\n",
      "  warn(\n",
      "c:\\Users\\stan\\miniconda3\\envs\\researchTP\\Lib\\site-packages\\botorch\\optim\\fit.py:102: OptimizationWarning: `scipy_minimize` terminated with status OptimizationStatus.FAILURE, displaying original message from `scipy.optimize.minimize`: ABNORMAL_TERMINATION_IN_LNSRCH\n",
      "  warn(\n",
      "c:\\Users\\stan\\miniconda3\\envs\\researchTP\\Lib\\site-packages\\botorch\\optim\\fit.py:102: OptimizationWarning: `scipy_minimize` terminated with status OptimizationStatus.FAILURE, displaying original message from `scipy.optimize.minimize`: ABNORMAL_TERMINATION_IN_LNSRCH\n",
      "  warn(\n",
      "c:\\Users\\stan\\miniconda3\\envs\\researchTP\\Lib\\site-packages\\botorch\\optim\\fit.py:102: OptimizationWarning: `scipy_minimize` terminated with status OptimizationStatus.FAILURE, displaying original message from `scipy.optimize.minimize`: ABNORMAL_TERMINATION_IN_LNSRCH\n",
      "  warn(\n",
      "c:\\Users\\stan\\miniconda3\\envs\\researchTP\\Lib\\site-packages\\botorch\\optim\\fit.py:102: OptimizationWarning: `scipy_minimize` terminated with status OptimizationStatus.FAILURE, displaying original message from `scipy.optimize.minimize`: ABNORMAL_TERMINATION_IN_LNSRCH\n",
      "  warn(\n",
      " 54%|█████▍    | 27/50 [15:29<12:35, 32.83s/it]"
     ]
    },
    {
     "name": "stdout",
     "output_type": "stream",
     "text": [
      "Iterations 159\n",
      "Maximizing with EGP\n",
      "Seed: 97\n",
      "Initial points: tensor([[7.4310e+01, 3.9000e-01, 1.0000e-01, 2.5180e+01, 4.0000e-02],\n",
      "        [5.0350e+01, 4.0600e+01, 5.3700e+00, 2.4400e+00, 1.2600e+00],\n",
      "        [1.6880e+01, 1.2500e+00, 2.4960e+01, 4.9580e+01, 7.3200e+00],\n",
      "        [4.3110e+01, 5.3000e-01, 5.3450e+01, 5.1000e-01, 2.3600e+00],\n",
      "        [9.6270e+01, 2.7000e-01, 2.0200e+00, 8.5000e-01, 5.1000e-01]],\n",
      "       dtype=torch.float64)\n"
     ]
    },
    {
     "name": "stderr",
     "output_type": "stream",
     "text": [
      "c:\\Users\\stan\\miniconda3\\envs\\researchTP\\Lib\\site-packages\\botorch\\optim\\fit.py:102: OptimizationWarning: `scipy_minimize` terminated with status OptimizationStatus.FAILURE, displaying original message from `scipy.optimize.minimize`: ABNORMAL_TERMINATION_IN_LNSRCH\n",
      "  warn(\n",
      "c:\\Users\\stan\\miniconda3\\envs\\researchTP\\Lib\\site-packages\\botorch\\optim\\fit.py:102: OptimizationWarning: `scipy_minimize` terminated with status OptimizationStatus.FAILURE, displaying original message from `scipy.optimize.minimize`: ABNORMAL_TERMINATION_IN_LNSRCH\n",
      "  warn(\n",
      "c:\\Users\\stan\\miniconda3\\envs\\researchTP\\Lib\\site-packages\\botorch\\optim\\fit.py:102: OptimizationWarning: `scipy_minimize` terminated with status OptimizationStatus.FAILURE, displaying original message from `scipy.optimize.minimize`: ABNORMAL_TERMINATION_IN_LNSRCH\n",
      "  warn(\n",
      " 56%|█████▌    | 28/50 [16:04<12:19, 33.63s/it]"
     ]
    },
    {
     "name": "stdout",
     "output_type": "stream",
     "text": [
      "Iterations 145\n",
      "Maximizing with EGP\n",
      "Seed: 633\n",
      "Initial points: tensor([[3.8920e+01, 4.9280e+01, 9.0000e-02, 9.5000e-01, 1.0670e+01],\n",
      "        [1.8730e+01, 1.2800e+00, 4.7460e+01, 2.4640e+01, 7.9400e+00],\n",
      "        [9.0000e+01, 0.0000e+00, 0.0000e+00, 1.0000e+01, 0.0000e+00],\n",
      "        [4.8720e+01, 4.9780e+01, 4.5000e-01, 8.3000e-01, 2.3000e-01],\n",
      "        [9.1030e+01, 4.6000e-01, 1.9300e+00, 6.5900e+00, 4.0000e-02]],\n",
      "       dtype=torch.float64)\n"
     ]
    },
    {
     "name": "stderr",
     "output_type": "stream",
     "text": [
      "c:\\Users\\stan\\miniconda3\\envs\\researchTP\\Lib\\site-packages\\botorch\\optim\\fit.py:102: OptimizationWarning: `scipy_minimize` terminated with status OptimizationStatus.FAILURE, displaying original message from `scipy.optimize.minimize`: ABNORMAL_TERMINATION_IN_LNSRCH\n",
      "  warn(\n",
      " 58%|█████▊    | 29/50 [16:43<12:20, 35.26s/it]"
     ]
    },
    {
     "name": "stdout",
     "output_type": "stream",
     "text": [
      "Iterations 176\n",
      "Maximizing with EGP\n",
      "Seed: 818\n",
      "Initial points: tensor([[90.3100,  0.1800,  0.6200,  8.2500,  0.6500],\n",
      "        [84.0900,  1.8500,  0.6500,  2.3600, 11.1400],\n",
      "        [59.8200,  0.2300,  0.5000, 38.8900,  0.5500],\n",
      "        [82.2800,  2.4300,  2.9700,  3.5600,  8.7200],\n",
      "        [83.1700,  1.7200,  3.5400,  2.4300,  9.0700]], dtype=torch.float64)\n"
     ]
    },
    {
     "name": "stderr",
     "output_type": "stream",
     "text": [
      " 60%|██████    | 30/50 [17:20<11:54, 35.71s/it]"
     ]
    },
    {
     "name": "stdout",
     "output_type": "stream",
     "text": [
      "Iterations 176\n",
      "Maximizing with EGP\n",
      "Seed: 256\n",
      "Initial points: tensor([[48.7200, 49.7800,  0.4500,  0.8300,  0.2300],\n",
      "        [46.0500, 49.9000,  2.2200,  0.7700,  1.0900],\n",
      "        [90.4800,  4.8200,  2.6100,  0.5500,  1.5700],\n",
      "        [84.0900,  1.8500,  0.6500,  2.3600, 11.1400],\n",
      "        [40.0000, 60.0000,  0.0000,  0.0000,  0.0000]], dtype=torch.float64)\n"
     ]
    },
    {
     "name": "stderr",
     "output_type": "stream",
     "text": [
      "c:\\Users\\stan\\miniconda3\\envs\\researchTP\\Lib\\site-packages\\botorch\\optim\\fit.py:102: OptimizationWarning: `scipy_minimize` terminated with status OptimizationStatus.FAILURE, displaying original message from `scipy.optimize.minimize`: ABNORMAL_TERMINATION_IN_LNSRCH\n",
      "  warn(\n",
      "c:\\Users\\stan\\miniconda3\\envs\\researchTP\\Lib\\site-packages\\botorch\\optim\\fit.py:102: OptimizationWarning: `scipy_minimize` terminated with status OptimizationStatus.FAILURE, displaying original message from `scipy.optimize.minimize`: ABNORMAL_TERMINATION_IN_LNSRCH\n",
      "  warn(\n",
      "c:\\Users\\stan\\miniconda3\\envs\\researchTP\\Lib\\site-packages\\botorch\\optim\\fit.py:102: OptimizationWarning: `scipy_minimize` terminated with status OptimizationStatus.FAILURE, displaying original message from `scipy.optimize.minimize`: ABNORMAL_TERMINATION_IN_LNSRCH\n",
      "  warn(\n",
      " 62%|██████▏   | 31/50 [17:52<10:57, 34.59s/it]"
     ]
    },
    {
     "name": "stdout",
     "output_type": "stream",
     "text": [
      "Iterations 155\n",
      "Maximizing with EGP\n",
      "Seed: 931\n",
      "Initial points: tensor([[5.1835e+01, 4.3805e+01, 1.8800e+00, 1.3800e+00, 1.1300e+00],\n",
      "        [9.1130e+01, 1.9900e+00, 1.9500e+00, 2.2400e+00, 2.6900e+00],\n",
      "        [3.8380e+01, 4.8280e+01, 4.0000e-02, 5.7000e-01, 1.2710e+01],\n",
      "        [4.5000e+01, 0.0000e+00, 0.0000e+00, 5.5000e+01, 0.0000e+00],\n",
      "        [4.4890e+01, 4.7030e+01, 3.8100e+00, 1.1600e+00, 3.1000e+00]],\n",
      "       dtype=torch.float64)\n"
     ]
    },
    {
     "name": "stderr",
     "output_type": "stream",
     "text": [
      "c:\\Users\\stan\\miniconda3\\envs\\researchTP\\Lib\\site-packages\\botorch\\optim\\fit.py:102: OptimizationWarning: `scipy_minimize` terminated with status OptimizationStatus.FAILURE, displaying original message from `scipy.optimize.minimize`: ABNORMAL_TERMINATION_IN_LNSRCH\n",
      "  warn(\n",
      "c:\\Users\\stan\\miniconda3\\envs\\researchTP\\Lib\\site-packages\\botorch\\optim\\fit.py:102: OptimizationWarning: `scipy_minimize` terminated with status OptimizationStatus.FAILURE, displaying original message from `scipy.optimize.minimize`: ABNORMAL_TERMINATION_IN_LNSRCH\n",
      "  warn(\n",
      " 64%|██████▍   | 32/50 [18:25<10:13, 34.07s/it]"
     ]
    },
    {
     "name": "stdout",
     "output_type": "stream",
     "text": [
      "Iterations 141\n",
      "Maximizing with EGP\n",
      "Seed: 545\n",
      "Initial points: tensor([[60.0000,  0.0000,  0.0000, 40.0000,  0.0000],\n",
      "        [89.8000,  3.0100,  1.5900,  4.3600,  1.2300],\n",
      "        [41.2300, 49.0600,  3.4100,  6.1700,  0.1400],\n",
      "        [91.1300,  1.9900,  1.9500,  2.2400,  2.6900],\n",
      "        [45.1500, 42.2500,  7.8200,  1.9800,  2.8300]], dtype=torch.float64)\n"
     ]
    },
    {
     "name": "stderr",
     "output_type": "stream",
     "text": [
      "c:\\Users\\stan\\miniconda3\\envs\\researchTP\\Lib\\site-packages\\botorch\\optim\\fit.py:102: OptimizationWarning: `scipy_minimize` terminated with status OptimizationStatus.FAILURE, displaying original message from `scipy.optimize.minimize`: ABNORMAL_TERMINATION_IN_LNSRCH\n",
      "  warn(\n",
      "c:\\Users\\stan\\miniconda3\\envs\\researchTP\\Lib\\site-packages\\botorch\\optim\\fit.py:102: OptimizationWarning: `scipy_minimize` terminated with status OptimizationStatus.FAILURE, displaying original message from `scipy.optimize.minimize`: ABNORMAL_TERMINATION_IN_LNSRCH\n",
      "  warn(\n",
      "c:\\Users\\stan\\miniconda3\\envs\\researchTP\\Lib\\site-packages\\botorch\\optim\\fit.py:102: OptimizationWarning: `scipy_minimize` terminated with status OptimizationStatus.FAILURE, displaying original message from `scipy.optimize.minimize`: ABNORMAL_TERMINATION_IN_LNSRCH\n",
      "  warn(\n",
      " 66%|██████▌   | 33/50 [18:55<09:19, 32.88s/it]"
     ]
    },
    {
     "name": "stdout",
     "output_type": "stream",
     "text": [
      "Iterations 142\n",
      "Maximizing with EGP\n",
      "Seed: 722\n",
      "Initial points: tensor([[4.8620e+01, 5.0350e+01, 4.9000e-01, 5.3000e-01, 4.0000e-02],\n",
      "        [3.0000e+01, 0.0000e+00, 0.0000e+00, 7.0000e+01, 0.0000e+00],\n",
      "        [4.3170e+01, 3.4010e+01, 3.8900e+00, 2.0400e+00, 1.6960e+01],\n",
      "        [5.4480e+01, 6.5000e-01, 5.3000e-01, 4.6000e-01, 4.3890e+01],\n",
      "        [8.4600e+01, 7.5600e+00, 4.0000e-02, 7.8300e+00, 6.0000e-02]],\n",
      "       dtype=torch.float64)\n"
     ]
    },
    {
     "name": "stderr",
     "output_type": "stream",
     "text": [
      "c:\\Users\\stan\\miniconda3\\envs\\researchTP\\Lib\\site-packages\\botorch\\optim\\fit.py:102: OptimizationWarning: `scipy_minimize` terminated with status OptimizationStatus.FAILURE, displaying original message from `scipy.optimize.minimize`: ABNORMAL_TERMINATION_IN_LNSRCH\n",
      "  warn(\n",
      "c:\\Users\\stan\\miniconda3\\envs\\researchTP\\Lib\\site-packages\\botorch\\optim\\fit.py:102: OptimizationWarning: `scipy_minimize` terminated with status OptimizationStatus.FAILURE, displaying original message from `scipy.optimize.minimize`: ABNORMAL_TERMINATION_IN_LNSRCH\n",
      "  warn(\n",
      "c:\\Users\\stan\\miniconda3\\envs\\researchTP\\Lib\\site-packages\\botorch\\optim\\fit.py:102: OptimizationWarning: `scipy_minimize` terminated with status OptimizationStatus.FAILURE, displaying original message from `scipy.optimize.minimize`: ABNORMAL_TERMINATION_IN_LNSRCH\n",
      "  warn(\n",
      "c:\\Users\\stan\\miniconda3\\envs\\researchTP\\Lib\\site-packages\\botorch\\optim\\fit.py:102: OptimizationWarning: `scipy_minimize` terminated with status OptimizationStatus.FAILURE, displaying original message from `scipy.optimize.minimize`: ABNORMAL_TERMINATION_IN_LNSRCH\n",
      "  warn(\n",
      "c:\\Users\\stan\\miniconda3\\envs\\researchTP\\Lib\\site-packages\\botorch\\optim\\fit.py:102: OptimizationWarning: `scipy_minimize` terminated with status OptimizationStatus.FAILURE, displaying original message from `scipy.optimize.minimize`: ABNORMAL_TERMINATION_IN_LNSRCH\n",
      "  warn(\n",
      " 68%|██████▊   | 34/50 [19:26<08:35, 32.22s/it]"
     ]
    },
    {
     "name": "stdout",
     "output_type": "stream",
     "text": [
      "Iterations 132\n",
      "Maximizing with EGP\n",
      "Seed: 829\n",
      "Initial points: tensor([[5.0000e+01, 5.0000e+01, 0.0000e+00, 0.0000e+00, 0.0000e+00],\n",
      "        [4.4800e+01, 3.7400e+01, 6.8100e+00, 5.8300e+00, 5.1800e+00],\n",
      "        [4.4010e+01, 9.0000e-02, 9.0000e-01, 5.4710e+01, 3.0000e-01],\n",
      "        [9.1130e+01, 1.9900e+00, 1.9500e+00, 2.2400e+00, 2.6900e+00],\n",
      "        [4.8620e+01, 5.0350e+01, 4.9000e-01, 5.3000e-01, 4.0000e-02]],\n",
      "       dtype=torch.float64)\n"
     ]
    },
    {
     "name": "stderr",
     "output_type": "stream",
     "text": [
      "c:\\Users\\stan\\miniconda3\\envs\\researchTP\\Lib\\site-packages\\botorch\\optim\\fit.py:102: OptimizationWarning: `scipy_minimize` terminated with status OptimizationStatus.FAILURE, displaying original message from `scipy.optimize.minimize`: ABNORMAL_TERMINATION_IN_LNSRCH\n",
      "  warn(\n",
      " 70%|███████   | 35/50 [20:03<08:26, 33.73s/it]"
     ]
    },
    {
     "name": "stdout",
     "output_type": "stream",
     "text": [
      "Iterations 163\n",
      "Maximizing with EGP\n",
      "Seed: 616\n",
      "Initial points: tensor([[8.4230e+01, 1.0600e+00, 1.1300e+00, 4.3400e+00, 9.1500e+00],\n",
      "        [4.3110e+01, 5.3000e-01, 5.3450e+01, 5.1000e-01, 2.3600e+00],\n",
      "        [4.4610e+01, 4.7530e+01, 2.0500e+00, 3.1700e+00, 2.5800e+00],\n",
      "        [4.3610e+01, 4.9290e+01, 2.8800e+00, 4.2200e+00, 4.0000e-02],\n",
      "        [4.5210e+01, 4.9390e+01, 3.5900e+00, 1.4500e+00, 4.1000e-01]],\n",
      "       dtype=torch.float64)\n"
     ]
    },
    {
     "name": "stderr",
     "output_type": "stream",
     "text": [
      "c:\\Users\\stan\\miniconda3\\envs\\researchTP\\Lib\\site-packages\\botorch\\optim\\fit.py:102: OptimizationWarning: `scipy_minimize` terminated with status OptimizationStatus.FAILURE, displaying original message from `scipy.optimize.minimize`: ABNORMAL_TERMINATION_IN_LNSRCH\n",
      "  warn(\n",
      " 72%|███████▏  | 36/50 [20:29<07:21, 31.51s/it]"
     ]
    },
    {
     "name": "stdout",
     "output_type": "stream",
     "text": [
      "Iterations 126\n",
      "Maximizing with EGP\n",
      "Seed: 923\n",
      "Initial points: tensor([[89.5500,  5.7200,  0.8300,  1.8000,  2.1000],\n",
      "        [46.4400, 49.2300,  1.6600,  1.7000,  1.0600],\n",
      "        [90.0000, 10.0000,  0.0000,  0.0000,  0.0000],\n",
      "        [40.0000, 60.0000,  0.0000,  0.0000,  0.0000],\n",
      "        [88.4500,  3.5000,  1.8900,  1.9600,  4.2100]], dtype=torch.float64)\n"
     ]
    },
    {
     "name": "stderr",
     "output_type": "stream",
     "text": [
      "c:\\Users\\stan\\miniconda3\\envs\\researchTP\\Lib\\site-packages\\botorch\\optim\\fit.py:102: OptimizationWarning: `scipy_minimize` terminated with status OptimizationStatus.FAILURE, displaying original message from `scipy.optimize.minimize`: ABNORMAL_TERMINATION_IN_LNSRCH\n",
      "  warn(\n",
      "c:\\Users\\stan\\miniconda3\\envs\\researchTP\\Lib\\site-packages\\botorch\\optim\\fit.py:102: OptimizationWarning: `scipy_minimize` terminated with status OptimizationStatus.FAILURE, displaying original message from `scipy.optimize.minimize`: ABNORMAL_TERMINATION_IN_LNSRCH\n",
      "  warn(\n",
      "c:\\Users\\stan\\miniconda3\\envs\\researchTP\\Lib\\site-packages\\botorch\\optim\\fit.py:102: OptimizationWarning: `scipy_minimize` terminated with status OptimizationStatus.FAILURE, displaying original message from `scipy.optimize.minimize`: ABNORMAL_TERMINATION_IN_LNSRCH\n",
      "  warn(\n",
      "c:\\Users\\stan\\miniconda3\\envs\\researchTP\\Lib\\site-packages\\botorch\\optim\\fit.py:102: OptimizationWarning: `scipy_minimize` terminated with status OptimizationStatus.FAILURE, displaying original message from `scipy.optimize.minimize`: ABNORMAL_TERMINATION_IN_LNSRCH\n",
      "  warn(\n",
      " 74%|███████▍  | 37/50 [21:09<07:20, 33.90s/it]"
     ]
    },
    {
     "name": "stdout",
     "output_type": "stream",
     "text": [
      "Iterations 145\n",
      "Maximizing with EGP\n",
      "Seed: 150\n",
      "Initial points: tensor([[8.5380e+01, 1.6600e+00, 1.4500e+00, 1.1000e+00, 1.0480e+01],\n",
      "        [4.8620e+01, 5.0350e+01, 4.9000e-01, 5.3000e-01, 4.0000e-02],\n",
      "        [4.3610e+01, 4.9290e+01, 2.8800e+00, 4.2200e+00, 4.0000e-02],\n",
      "        [1.8670e+01, 2.7000e-01, 4.7090e+01, 2.4030e+01, 9.9900e+00],\n",
      "        [4.3830e+01, 3.6370e+01, 9.9000e-01, 2.4400e+00, 1.6400e+01]],\n",
      "       dtype=torch.float64)\n"
     ]
    },
    {
     "name": "stderr",
     "output_type": "stream",
     "text": [
      "c:\\Users\\stan\\miniconda3\\envs\\researchTP\\Lib\\site-packages\\botorch\\optim\\fit.py:102: OptimizationWarning: `scipy_minimize` terminated with status OptimizationStatus.FAILURE, displaying original message from `scipy.optimize.minimize`: ABNORMAL_TERMINATION_IN_LNSRCH\n",
      "  warn(\n",
      "c:\\Users\\stan\\miniconda3\\envs\\researchTP\\Lib\\site-packages\\botorch\\optim\\fit.py:102: OptimizationWarning: `scipy_minimize` terminated with status OptimizationStatus.FAILURE, displaying original message from `scipy.optimize.minimize`: ABNORMAL_TERMINATION_IN_LNSRCH\n",
      "  warn(\n",
      "c:\\Users\\stan\\miniconda3\\envs\\researchTP\\Lib\\site-packages\\botorch\\optim\\fit.py:102: OptimizationWarning: `scipy_minimize` terminated with status OptimizationStatus.FAILURE, displaying original message from `scipy.optimize.minimize`: ABNORMAL_TERMINATION_IN_LNSRCH\n",
      "  warn(\n",
      "c:\\Users\\stan\\miniconda3\\envs\\researchTP\\Lib\\site-packages\\botorch\\optim\\fit.py:102: OptimizationWarning: `scipy_minimize` terminated with status OptimizationStatus.FAILURE, displaying original message from `scipy.optimize.minimize`: ABNORMAL_TERMINATION_IN_LNSRCH\n",
      "  warn(\n",
      " 76%|███████▌  | 38/50 [21:44<06:52, 34.34s/it]"
     ]
    },
    {
     "name": "stdout",
     "output_type": "stream",
     "text": [
      "Iterations 153\n",
      "Maximizing with EGP\n",
      "Seed: 317\n",
      "Initial points: tensor([[4.3610e+01, 4.9290e+01, 2.8800e+00, 4.2200e+00, 4.0000e-02],\n",
      "        [3.4010e+01, 3.8900e+01, 7.3000e-01, 1.2680e+01, 1.3650e+01],\n",
      "        [4.6690e+01, 3.7390e+01, 4.0000e-02, 1.8600e+00, 1.4050e+01],\n",
      "        [3.8330e+01, 4.3600e+01, 1.0000e-01, 3.6300e+00, 1.4300e+01],\n",
      "        [4.4890e+01, 4.7030e+01, 3.8100e+00, 1.1600e+00, 3.1000e+00]],\n",
      "       dtype=torch.float64)\n"
     ]
    },
    {
     "name": "stderr",
     "output_type": "stream",
     "text": [
      "c:\\Users\\stan\\miniconda3\\envs\\researchTP\\Lib\\site-packages\\botorch\\optim\\fit.py:102: OptimizationWarning: `scipy_minimize` terminated with status OptimizationStatus.FAILURE, displaying original message from `scipy.optimize.minimize`: ABNORMAL_TERMINATION_IN_LNSRCH\n",
      "  warn(\n",
      "c:\\Users\\stan\\miniconda3\\envs\\researchTP\\Lib\\site-packages\\botorch\\optim\\fit.py:102: OptimizationWarning: `scipy_minimize` terminated with status OptimizationStatus.FAILURE, displaying original message from `scipy.optimize.minimize`: ABNORMAL_TERMINATION_IN_LNSRCH\n",
      "  warn(\n",
      " 78%|███████▊  | 39/50 [22:28<06:49, 37.19s/it]"
     ]
    },
    {
     "name": "stdout",
     "output_type": "stream",
     "text": [
      "Iterations 165\n",
      "Maximizing with EGP\n",
      "Seed: 101\n",
      "Initial points: tensor([[89.8000,  3.0100,  1.5900,  4.3600,  1.2300],\n",
      "        [86.6000,  1.1000,  0.2800,  2.4200,  9.5400],\n",
      "        [38.3300, 43.6000,  0.1000,  3.6300, 14.3000],\n",
      "        [42.3300, 51.8300,  2.7500,  2.8700,  0.3200],\n",
      "        [90.3100,  0.1800,  0.6200,  8.2500,  0.6500]], dtype=torch.float64)\n"
     ]
    },
    {
     "name": "stderr",
     "output_type": "stream",
     "text": [
      "c:\\Users\\stan\\miniconda3\\envs\\researchTP\\Lib\\site-packages\\botorch\\optim\\fit.py:102: OptimizationWarning: `scipy_minimize` terminated with status OptimizationStatus.FAILURE, displaying original message from `scipy.optimize.minimize`: ABNORMAL_TERMINATION_IN_LNSRCH\n",
      "  warn(\n",
      "c:\\Users\\stan\\miniconda3\\envs\\researchTP\\Lib\\site-packages\\botorch\\optim\\fit.py:102: OptimizationWarning: `scipy_minimize` terminated with status OptimizationStatus.FAILURE, displaying original message from `scipy.optimize.minimize`: ABNORMAL_TERMINATION_IN_LNSRCH\n",
      "  warn(\n",
      "c:\\Users\\stan\\miniconda3\\envs\\researchTP\\Lib\\site-packages\\botorch\\optim\\fit.py:102: OptimizationWarning: `scipy_minimize` terminated with status OptimizationStatus.FAILURE, displaying original message from `scipy.optimize.minimize`: ABNORMAL_TERMINATION_IN_LNSRCH\n",
      "  warn(\n",
      "c:\\Users\\stan\\miniconda3\\envs\\researchTP\\Lib\\site-packages\\botorch\\optim\\fit.py:102: OptimizationWarning: `scipy_minimize` terminated with status OptimizationStatus.FAILURE, displaying original message from `scipy.optimize.minimize`: ABNORMAL_TERMINATION_IN_LNSRCH\n",
      "  warn(\n",
      "c:\\Users\\stan\\miniconda3\\envs\\researchTP\\Lib\\site-packages\\botorch\\optim\\fit.py:102: OptimizationWarning: `scipy_minimize` terminated with status OptimizationStatus.FAILURE, displaying original message from `scipy.optimize.minimize`: ABNORMAL_TERMINATION_IN_LNSRCH\n",
      "  warn(\n",
      "c:\\Users\\stan\\miniconda3\\envs\\researchTP\\Lib\\site-packages\\botorch\\optim\\fit.py:102: OptimizationWarning: `scipy_minimize` terminated with status OptimizationStatus.FAILURE, displaying original message from `scipy.optimize.minimize`: ABNORMAL_TERMINATION_IN_LNSRCH\n",
      "  warn(\n",
      " 80%|████████  | 40/50 [23:05<06:12, 37.23s/it]"
     ]
    },
    {
     "name": "stdout",
     "output_type": "stream",
     "text": [
      "Iterations 156\n",
      "Maximizing with EGP\n",
      "Seed: 747\n",
      "Initial points: tensor([[30.0000,  0.0000, 70.0000,  0.0000,  0.0000],\n",
      "        [19.1500,  1.5900, 48.4000, 23.3300,  7.5700],\n",
      "        [44.5700, 48.4700,  2.9300,  1.6000,  2.4000],\n",
      "        [49.5100, 49.2400,  0.6200,  0.1200,  0.5600],\n",
      "        [60.3400, 26.0700,  6.5000,  2.3100,  4.8700]], dtype=torch.float64)\n"
     ]
    },
    {
     "name": "stderr",
     "output_type": "stream",
     "text": [
      "c:\\Users\\stan\\miniconda3\\envs\\researchTP\\Lib\\site-packages\\botorch\\optim\\fit.py:102: OptimizationWarning: `scipy_minimize` terminated with status OptimizationStatus.FAILURE, displaying original message from `scipy.optimize.minimize`: ABNORMAL_TERMINATION_IN_LNSRCH\n",
      "  warn(\n",
      "c:\\Users\\stan\\miniconda3\\envs\\researchTP\\Lib\\site-packages\\botorch\\optim\\fit.py:102: OptimizationWarning: `scipy_minimize` terminated with status OptimizationStatus.FAILURE, displaying original message from `scipy.optimize.minimize`: ABNORMAL_TERMINATION_IN_LNSRCH\n",
      "  warn(\n",
      "c:\\Users\\stan\\miniconda3\\envs\\researchTP\\Lib\\site-packages\\botorch\\optim\\fit.py:102: OptimizationWarning: `scipy_minimize` terminated with status OptimizationStatus.FAILURE, displaying original message from `scipy.optimize.minimize`: ABNORMAL_TERMINATION_IN_LNSRCH\n",
      "  warn(\n",
      "c:\\Users\\stan\\miniconda3\\envs\\researchTP\\Lib\\site-packages\\botorch\\optim\\fit.py:102: OptimizationWarning: `scipy_minimize` terminated with status OptimizationStatus.FAILURE, displaying original message from `scipy.optimize.minimize`: ABNORMAL_TERMINATION_IN_LNSRCH\n",
      "  warn(\n",
      "c:\\Users\\stan\\miniconda3\\envs\\researchTP\\Lib\\site-packages\\botorch\\optim\\fit.py:102: OptimizationWarning: `scipy_minimize` terminated with status OptimizationStatus.FAILURE, displaying original message from `scipy.optimize.minimize`: ABNORMAL_TERMINATION_IN_LNSRCH\n",
      "  warn(\n",
      " 82%|████████▏ | 41/50 [23:33<05:09, 34.34s/it]"
     ]
    },
    {
     "name": "stdout",
     "output_type": "stream",
     "text": [
      "Iterations 115\n",
      "Maximizing with EGP\n",
      "Seed: 75\n",
      "Initial points: tensor([[4.0000e+01, 6.0000e+01, 0.0000e+00, 0.0000e+00, 0.0000e+00],\n",
      "        [8.3170e+01, 1.7200e+00, 3.5400e+00, 2.4300e+00, 9.0700e+00],\n",
      "        [4.6860e+01, 4.3740e+01, 5.0800e+00, 7.8000e-01, 3.6100e+00],\n",
      "        [5.0650e+01, 4.4590e+01, 4.0600e+00, 4.0000e-02, 6.9000e-01],\n",
      "        [4.5600e+01, 4.6500e+01, 1.6700e+00, 3.9600e+00, 2.2600e+00]],\n",
      "       dtype=torch.float64)\n"
     ]
    },
    {
     "name": "stderr",
     "output_type": "stream",
     "text": [
      "c:\\Users\\stan\\miniconda3\\envs\\researchTP\\Lib\\site-packages\\botorch\\optim\\fit.py:102: OptimizationWarning: `scipy_minimize` terminated with status OptimizationStatus.FAILURE, displaying original message from `scipy.optimize.minimize`: ABNORMAL_TERMINATION_IN_LNSRCH\n",
      "  warn(\n",
      "c:\\Users\\stan\\miniconda3\\envs\\researchTP\\Lib\\site-packages\\botorch\\optim\\fit.py:102: OptimizationWarning: `scipy_minimize` terminated with status OptimizationStatus.FAILURE, displaying original message from `scipy.optimize.minimize`: ABNORMAL_TERMINATION_IN_LNSRCH\n",
      "  warn(\n",
      "c:\\Users\\stan\\miniconda3\\envs\\researchTP\\Lib\\site-packages\\botorch\\optim\\fit.py:102: OptimizationWarning: `scipy_minimize` terminated with status OptimizationStatus.FAILURE, displaying original message from `scipy.optimize.minimize`: ABNORMAL_TERMINATION_IN_LNSRCH\n",
      "  warn(\n",
      "c:\\Users\\stan\\miniconda3\\envs\\researchTP\\Lib\\site-packages\\botorch\\optim\\fit.py:102: OptimizationWarning: `scipy_minimize` terminated with status OptimizationStatus.FAILURE, displaying original message from `scipy.optimize.minimize`: ABNORMAL_TERMINATION_IN_LNSRCH\n",
      "  warn(\n",
      " 84%|████████▍ | 42/50 [24:09<04:39, 34.91s/it]"
     ]
    },
    {
     "name": "stdout",
     "output_type": "stream",
     "text": [
      "Iterations 150\n",
      "Maximizing with EGP\n",
      "Seed: 920\n",
      "Initial points: tensor([[7.4310e+01, 3.9000e-01, 1.0000e-01, 2.5180e+01, 4.0000e-02],\n",
      "        [4.8620e+01, 5.0350e+01, 4.9000e-01, 5.3000e-01, 4.0000e-02],\n",
      "        [4.0000e+01, 6.0000e+01, 0.0000e+00, 0.0000e+00, 0.0000e+00],\n",
      "        [4.8970e+01, 5.0340e+01, 4.0000e-02, 1.0000e-01, 5.6000e-01],\n",
      "        [4.6050e+01, 4.9900e+01, 2.2200e+00, 7.7000e-01, 1.0900e+00]],\n",
      "       dtype=torch.float64)\n"
     ]
    },
    {
     "name": "stderr",
     "output_type": "stream",
     "text": [
      "c:\\Users\\stan\\miniconda3\\envs\\researchTP\\Lib\\site-packages\\botorch\\optim\\fit.py:102: OptimizationWarning: `scipy_minimize` terminated with status OptimizationStatus.FAILURE, displaying original message from `scipy.optimize.minimize`: ABNORMAL_TERMINATION_IN_LNSRCH\n",
      "  warn(\n",
      "c:\\Users\\stan\\miniconda3\\envs\\researchTP\\Lib\\site-packages\\botorch\\optim\\fit.py:102: OptimizationWarning: `scipy_minimize` terminated with status OptimizationStatus.FAILURE, displaying original message from `scipy.optimize.minimize`: ABNORMAL_TERMINATION_IN_LNSRCH\n",
      "  warn(\n",
      "c:\\Users\\stan\\miniconda3\\envs\\researchTP\\Lib\\site-packages\\botorch\\optim\\fit.py:102: OptimizationWarning: `scipy_minimize` terminated with status OptimizationStatus.FAILURE, displaying original message from `scipy.optimize.minimize`: ABNORMAL_TERMINATION_IN_LNSRCH\n",
      "  warn(\n",
      " 86%|████████▌ | 43/50 [24:49<04:15, 36.56s/it]"
     ]
    },
    {
     "name": "stdout",
     "output_type": "stream",
     "text": [
      "Iterations 174\n",
      "Maximizing with EGP\n",
      "Seed: 870\n",
      "Initial points: tensor([[6.9100e+01, 3.0830e+01, 4.0000e-02, 4.0000e-02, 4.0000e-02],\n",
      "        [3.9050e+01, 4.1850e+01, 5.7500e+00, 4.0400e+00, 9.4000e+00],\n",
      "        [9.0300e+01, 2.0000e-01, 7.8900e+00, 7.9000e-01, 8.9000e-01],\n",
      "        [4.8720e+01, 4.9780e+01, 4.5000e-01, 8.3000e-01, 2.3000e-01],\n",
      "        [7.4190e+01, 7.0000e-02, 2.4760e+01, 1.7000e-01, 8.0000e-01]],\n",
      "       dtype=torch.float64)\n"
     ]
    },
    {
     "name": "stderr",
     "output_type": "stream",
     "text": [
      "c:\\Users\\stan\\miniconda3\\envs\\researchTP\\Lib\\site-packages\\botorch\\optim\\fit.py:102: OptimizationWarning: `scipy_minimize` terminated with status OptimizationStatus.FAILURE, displaying original message from `scipy.optimize.minimize`: ABNORMAL_TERMINATION_IN_LNSRCH\n",
      "  warn(\n",
      "c:\\Users\\stan\\miniconda3\\envs\\researchTP\\Lib\\site-packages\\botorch\\optim\\fit.py:102: OptimizationWarning: `scipy_minimize` terminated with status OptimizationStatus.FAILURE, displaying original message from `scipy.optimize.minimize`: ABNORMAL_TERMINATION_IN_LNSRCH\n",
      "  warn(\n",
      "c:\\Users\\stan\\miniconda3\\envs\\researchTP\\Lib\\site-packages\\botorch\\optim\\fit.py:102: OptimizationWarning: `scipy_minimize` terminated with status OptimizationStatus.FAILURE, displaying original message from `scipy.optimize.minimize`: ABNORMAL_TERMINATION_IN_LNSRCH\n",
      "  warn(\n",
      "c:\\Users\\stan\\miniconda3\\envs\\researchTP\\Lib\\site-packages\\botorch\\optim\\fit.py:102: OptimizationWarning: `scipy_minimize` terminated with status OptimizationStatus.FAILURE, displaying original message from `scipy.optimize.minimize`: ABNORMAL_TERMINATION_IN_LNSRCH\n",
      "  warn(\n",
      " 88%|████████▊ | 44/50 [25:25<03:38, 36.35s/it]"
     ]
    },
    {
     "name": "stdout",
     "output_type": "stream",
     "text": [
      "Iterations 144\n",
      "Maximizing with EGP\n",
      "Seed: 700\n",
      "Initial points: tensor([[18.6700,  0.2700, 47.0900, 24.0300,  9.9900],\n",
      "        [38.2900, 47.3700,  0.9500,  0.6000, 12.8700],\n",
      "        [96.2700,  0.2700,  2.0200,  0.8500,  0.5100],\n",
      "        [50.7000, 37.8800,  4.0500,  3.3700,  4.0500],\n",
      "        [50.3500, 40.6000,  5.3700,  2.4400,  1.2600]], dtype=torch.float64)\n"
     ]
    },
    {
     "name": "stderr",
     "output_type": "stream",
     "text": [
      "c:\\Users\\stan\\miniconda3\\envs\\researchTP\\Lib\\site-packages\\botorch\\optim\\fit.py:102: OptimizationWarning: `scipy_minimize` terminated with status OptimizationStatus.FAILURE, displaying original message from `scipy.optimize.minimize`: ABNORMAL_TERMINATION_IN_LNSRCH\n",
      "  warn(\n",
      "c:\\Users\\stan\\miniconda3\\envs\\researchTP\\Lib\\site-packages\\botorch\\optim\\fit.py:102: OptimizationWarning: `scipy_minimize` terminated with status OptimizationStatus.FAILURE, displaying original message from `scipy.optimize.minimize`: ABNORMAL_TERMINATION_IN_LNSRCH\n",
      "  warn(\n",
      " 90%|█████████ | 45/50 [26:06<03:07, 37.60s/it]"
     ]
    },
    {
     "name": "stdout",
     "output_type": "stream",
     "text": [
      "Iterations 178\n",
      "Maximizing with EGP\n",
      "Seed: 338\n",
      "Initial points: tensor([[46.8600, 43.7400,  5.0800,  0.7800,  3.6100],\n",
      "        [45.6400, 48.8600,  2.6400,  1.7800,  1.0900],\n",
      "        [34.0100, 38.9000,  0.7300, 12.6800, 13.6500],\n",
      "        [46.5700, 48.9100,  3.0800,  1.1100,  0.3600],\n",
      "        [74.8800,  0.0800,  2.0200, 22.0100,  1.0300]], dtype=torch.float64)\n"
     ]
    },
    {
     "name": "stderr",
     "output_type": "stream",
     "text": [
      "c:\\Users\\stan\\miniconda3\\envs\\researchTP\\Lib\\site-packages\\botorch\\optim\\fit.py:102: OptimizationWarning: `scipy_minimize` terminated with status OptimizationStatus.FAILURE, displaying original message from `scipy.optimize.minimize`: ABNORMAL_TERMINATION_IN_LNSRCH\n",
      "  warn(\n",
      "c:\\Users\\stan\\miniconda3\\envs\\researchTP\\Lib\\site-packages\\botorch\\optim\\fit.py:102: OptimizationWarning: `scipy_minimize` terminated with status OptimizationStatus.FAILURE, displaying original message from `scipy.optimize.minimize`: ABNORMAL_TERMINATION_IN_LNSRCH\n",
      "  warn(\n",
      "c:\\Users\\stan\\miniconda3\\envs\\researchTP\\Lib\\site-packages\\botorch\\optim\\fit.py:102: OptimizationWarning: `scipy_minimize` terminated with status OptimizationStatus.FAILURE, displaying original message from `scipy.optimize.minimize`: ABNORMAL_TERMINATION_IN_LNSRCH\n",
      "  warn(\n",
      "c:\\Users\\stan\\miniconda3\\envs\\researchTP\\Lib\\site-packages\\botorch\\optim\\fit.py:102: OptimizationWarning: `scipy_minimize` terminated with status OptimizationStatus.FAILURE, displaying original message from `scipy.optimize.minimize`: ABNORMAL_TERMINATION_IN_LNSRCH\n",
      "  warn(\n",
      "c:\\Users\\stan\\miniconda3\\envs\\researchTP\\Lib\\site-packages\\botorch\\optim\\fit.py:102: OptimizationWarning: `scipy_minimize` terminated with status OptimizationStatus.FAILURE, displaying original message from `scipy.optimize.minimize`: ABNORMAL_TERMINATION_IN_LNSRCH\n",
      "  warn(\n",
      "c:\\Users\\stan\\miniconda3\\envs\\researchTP\\Lib\\site-packages\\botorch\\optim\\fit.py:102: OptimizationWarning: `scipy_minimize` terminated with status OptimizationStatus.FAILURE, displaying original message from `scipy.optimize.minimize`: ABNORMAL_TERMINATION_IN_LNSRCH\n",
      "  warn(\n",
      " 92%|█████████▏| 46/50 [26:41<02:27, 36.93s/it]"
     ]
    },
    {
     "name": "stdout",
     "output_type": "stream",
     "text": [
      "Iterations 173\n",
      "Maximizing with EGP\n",
      "Seed: 483\n",
      "Initial points: tensor([[4.0670e+01, 5.9260e+01, 4.0000e-02, 4.0000e-02, 7.0000e-02],\n",
      "        [5.3990e+01, 4.4580e+01, 4.0000e-02, 5.4000e-01, 8.9000e-01],\n",
      "        [6.0000e+01, 0.0000e+00, 0.0000e+00, 4.0000e+01, 0.0000e+00],\n",
      "        [8.9800e+01, 3.0100e+00, 1.5900e+00, 4.3600e+00, 1.2300e+00],\n",
      "        [4.0670e+01, 5.9260e+01, 4.0000e-02, 4.0000e-02, 7.0000e-02]],\n",
      "       dtype=torch.float64)\n"
     ]
    },
    {
     "name": "stderr",
     "output_type": "stream",
     "text": [
      "c:\\Users\\stan\\miniconda3\\envs\\researchTP\\Lib\\site-packages\\botorch\\optim\\fit.py:102: OptimizationWarning: `scipy_minimize` terminated with status OptimizationStatus.FAILURE, displaying original message from `scipy.optimize.minimize`: ABNORMAL_TERMINATION_IN_LNSRCH\n",
      "  warn(\n",
      "c:\\Users\\stan\\miniconda3\\envs\\researchTP\\Lib\\site-packages\\botorch\\optim\\fit.py:102: OptimizationWarning: `scipy_minimize` terminated with status OptimizationStatus.FAILURE, displaying original message from `scipy.optimize.minimize`: ABNORMAL_TERMINATION_IN_LNSRCH\n",
      "  warn(\n",
      " 94%|█████████▍| 47/50 [27:11<01:43, 34.66s/it]"
     ]
    },
    {
     "name": "stdout",
     "output_type": "stream",
     "text": [
      "Iterations 123\n",
      "Maximizing with EGP\n",
      "Seed: 573\n",
      "Initial points: tensor([[39.0500, 41.8500,  5.7500,  4.0400,  9.4000],\n",
      "        [50.7400, 41.0500,  1.6500,  4.6900,  1.8700],\n",
      "        [49.5100, 49.2400,  0.6200,  0.1200,  0.5600],\n",
      "        [40.0000, 60.0000,  0.0000,  0.0000,  0.0000],\n",
      "        [18.7300,  1.2800, 47.4600, 24.6400,  7.9400]], dtype=torch.float64)\n"
     ]
    },
    {
     "name": "stderr",
     "output_type": "stream",
     "text": [
      "c:\\Users\\stan\\miniconda3\\envs\\researchTP\\Lib\\site-packages\\botorch\\optim\\fit.py:102: OptimizationWarning: `scipy_minimize` terminated with status OptimizationStatus.FAILURE, displaying original message from `scipy.optimize.minimize`: ABNORMAL_TERMINATION_IN_LNSRCH\n",
      "  warn(\n",
      "c:\\Users\\stan\\miniconda3\\envs\\researchTP\\Lib\\site-packages\\botorch\\optim\\fit.py:102: OptimizationWarning: `scipy_minimize` terminated with status OptimizationStatus.FAILURE, displaying original message from `scipy.optimize.minimize`: ABNORMAL_TERMINATION_IN_LNSRCH\n",
      "  warn(\n",
      "c:\\Users\\stan\\miniconda3\\envs\\researchTP\\Lib\\site-packages\\botorch\\optim\\fit.py:102: OptimizationWarning: `scipy_minimize` terminated with status OptimizationStatus.FAILURE, displaying original message from `scipy.optimize.minimize`: ABNORMAL_TERMINATION_IN_LNSRCH\n",
      "  warn(\n",
      " 96%|█████████▌| 48/50 [27:48<01:10, 35.41s/it]"
     ]
    },
    {
     "name": "stdout",
     "output_type": "stream",
     "text": [
      "Iterations 169\n",
      "Maximizing with EGP\n",
      "Seed: 103\n",
      "Initial points: tensor([[3.8330e+01, 4.3600e+01, 1.0000e-01, 3.6300e+00, 1.4300e+01],\n",
      "        [1.9130e+01, 4.0000e-01, 4.6860e+01, 2.5410e+01, 8.2500e+00],\n",
      "        [7.4880e+01, 8.0000e-02, 2.0200e+00, 2.2010e+01, 1.0300e+00],\n",
      "        [6.7100e+01, 3.0150e+01, 7.2000e-01, 4.0000e-02, 1.9500e+00],\n",
      "        [4.7200e+01, 4.9490e+01, 2.0100e+00, 3.1000e-01, 1.0100e+00]],\n",
      "       dtype=torch.float64)\n"
     ]
    },
    {
     "name": "stderr",
     "output_type": "stream",
     "text": [
      " 98%|█████████▊| 49/50 [28:24<00:35, 35.59s/it]"
     ]
    },
    {
     "name": "stdout",
     "output_type": "stream",
     "text": [
      "Iterations 177\n",
      "Maximizing with EGP\n",
      "Seed: 362\n",
      "Initial points: tensor([[9.6270e+01, 2.7000e-01, 2.0200e+00, 8.5000e-01, 5.1000e-01],\n",
      "        [6.9100e+01, 3.0830e+01, 4.0000e-02, 4.0000e-02, 4.0000e-02],\n",
      "        [3.7290e+01, 4.3200e+01, 2.7700e+00, 1.8100e+00, 1.4940e+01],\n",
      "        [4.8330e+01, 5.0130e+01, 1.3200e+00, 2.2000e-01, 4.0000e-02],\n",
      "        [4.5000e+01, 0.0000e+00, 5.5000e+01, 0.0000e+00, 0.0000e+00]],\n",
      "       dtype=torch.float64)\n"
     ]
    },
    {
     "name": "stderr",
     "output_type": "stream",
     "text": [
      "c:\\Users\\stan\\miniconda3\\envs\\researchTP\\Lib\\site-packages\\botorch\\optim\\fit.py:102: OptimizationWarning: `scipy_minimize` terminated with status OptimizationStatus.FAILURE, displaying original message from `scipy.optimize.minimize`: ABNORMAL_TERMINATION_IN_LNSRCH\n",
      "  warn(\n",
      "c:\\Users\\stan\\miniconda3\\envs\\researchTP\\Lib\\site-packages\\botorch\\optim\\fit.py:102: OptimizationWarning: `scipy_minimize` terminated with status OptimizationStatus.FAILURE, displaying original message from `scipy.optimize.minimize`: ABNORMAL_TERMINATION_IN_LNSRCH\n",
      "  warn(\n",
      "c:\\Users\\stan\\miniconda3\\envs\\researchTP\\Lib\\site-packages\\botorch\\optim\\fit.py:102: OptimizationWarning: `scipy_minimize` terminated with status OptimizationStatus.FAILURE, displaying original message from `scipy.optimize.minimize`: ABNORMAL_TERMINATION_IN_LNSRCH\n",
      "  warn(\n",
      "c:\\Users\\stan\\miniconda3\\envs\\researchTP\\Lib\\site-packages\\botorch\\optim\\fit.py:102: OptimizationWarning: `scipy_minimize` terminated with status OptimizationStatus.FAILURE, displaying original message from `scipy.optimize.minimize`: ABNORMAL_TERMINATION_IN_LNSRCH\n",
      "  warn(\n",
      "100%|██████████| 50/50 [29:02<00:00, 34.84s/it]\n"
     ]
    },
    {
     "name": "stdout",
     "output_type": "stream",
     "text": [
      "Iterations 180\n"
     ]
    },
    {
     "name": "stderr",
     "output_type": "stream",
     "text": [
      "  0%|          | 0/50 [00:00<?, ?it/s]"
     ]
    },
    {
     "name": "stdout",
     "output_type": "stream",
     "text": [
      "Maximizing with STP\n",
      "Seed: 864\n",
      "Initial points: tensor([[4.4890e+01, 4.7030e+01, 3.8100e+00, 1.1600e+00, 3.1000e+00],\n",
      "        [9.6270e+01, 2.7000e-01, 2.0200e+00, 8.5000e-01, 5.1000e-01],\n",
      "        [7.3990e+01, 5.0000e-01, 2.5180e+01, 2.8000e-01, 4.0000e-02],\n",
      "        [4.7200e+01, 4.9490e+01, 2.0100e+00, 3.1000e-01, 1.0100e+00],\n",
      "        [4.3610e+01, 4.9290e+01, 2.8800e+00, 4.2200e+00, 4.0000e-02]],\n",
      "       dtype=torch.float64)\n"
     ]
    },
    {
     "name": "stderr",
     "output_type": "stream",
     "text": [
      "  2%|▏         | 1/50 [00:46<37:58, 46.51s/it]"
     ]
    },
    {
     "name": "stdout",
     "output_type": "stream",
     "text": [
      "Iterations 62\n",
      "Maximizing with STP\n",
      "Seed: 394\n",
      "Initial points: tensor([[5.4480e+01, 6.5000e-01, 5.3000e-01, 4.6000e-01, 4.3890e+01],\n",
      "        [4.6570e+01, 4.8910e+01, 3.0800e+00, 1.1100e+00, 3.6000e-01],\n",
      "        [5.1835e+01, 4.3805e+01, 1.8800e+00, 1.3800e+00, 1.1300e+00],\n",
      "        [4.3490e+01, 4.6890e+01, 4.1800e+00, 5.1000e+00, 3.7000e-01],\n",
      "        [7.3990e+01, 5.0000e-01, 2.5180e+01, 2.8000e-01, 4.0000e-02]],\n",
      "       dtype=torch.float64)\n"
     ]
    },
    {
     "name": "stderr",
     "output_type": "stream",
     "text": [
      "  4%|▍         | 2/50 [01:55<47:36, 59.51s/it]"
     ]
    },
    {
     "name": "stdout",
     "output_type": "stream",
     "text": [
      "Iterations 87\n",
      "Maximizing with STP\n",
      "Seed: 776\n",
      "Initial points: tensor([[6.7100e+01, 3.0150e+01, 7.2000e-01, 4.0000e-02, 1.9500e+00],\n",
      "        [1.6150e+01, 4.6000e-01, 2.5380e+01, 5.1420e+01, 6.5500e+00],\n",
      "        [4.2300e+01, 4.5070e+01, 4.4900e+00, 5.2100e+00, 3.0200e+00],\n",
      "        [4.5410e+01, 4.8510e+01, 2.1000e+00, 2.6400e+00, 1.3800e+00],\n",
      "        [4.3610e+01, 4.9290e+01, 2.8800e+00, 4.2200e+00, 4.0000e-02]],\n",
      "       dtype=torch.float64)\n"
     ]
    },
    {
     "name": "stderr",
     "output_type": "stream",
     "text": [
      "  6%|▌         | 3/50 [02:29<37:27, 47.81s/it]"
     ]
    },
    {
     "name": "stdout",
     "output_type": "stream",
     "text": [
      "Iterations 45\n",
      "Maximizing with STP\n",
      "Seed: 911\n",
      "Initial points: tensor([[7.7730e+01, 2.0640e+01, 1.5800e+00, 4.0000e-02, 4.0000e-02],\n",
      "        [8.3170e+01, 1.7200e+00, 3.5400e+00, 2.4300e+00, 9.0700e+00],\n",
      "        [4.7130e+01, 4.6950e+01, 4.2800e+00, 1.0800e+00, 5.7000e-01],\n",
      "        [8.3170e+01, 1.7200e+00, 3.5400e+00, 2.4300e+00, 9.0700e+00],\n",
      "        [4.0670e+01, 5.9260e+01, 4.0000e-02, 4.0000e-02, 7.0000e-02]],\n",
      "       dtype=torch.float64)\n"
     ]
    },
    {
     "name": "stderr",
     "output_type": "stream",
     "text": [
      "  8%|▊         | 4/50 [03:08<34:00, 44.36s/it]"
     ]
    },
    {
     "name": "stdout",
     "output_type": "stream",
     "text": [
      "Iterations 51\n",
      "Maximizing with STP\n",
      "Seed: 430\n",
      "Initial points: tensor([[44.5700, 48.4700,  2.9300,  1.6000,  2.4000],\n",
      "        [80.2600,  0.5300, 12.0300,  5.4700,  1.7800],\n",
      "        [44.0100,  0.0900,  0.9000, 54.7100,  0.3000],\n",
      "        [42.3300, 51.8300,  2.7500,  2.8700,  0.3200],\n",
      "        [34.0100, 38.9000,  0.7300, 12.6800, 13.6500]], dtype=torch.float64)\n"
     ]
    },
    {
     "name": "stderr",
     "output_type": "stream",
     "text": [
      " 10%|█         | 5/50 [03:57<34:44, 46.33s/it]"
     ]
    },
    {
     "name": "stdout",
     "output_type": "stream",
     "text": [
      "Iterations 65\n",
      "Maximizing with STP\n",
      "Seed: 41\n",
      "Initial points: tensor([[7.3990e+01, 5.0000e-01, 2.5180e+01, 2.8000e-01, 4.0000e-02],\n",
      "        [6.6030e+01, 3.0010e+01, 2.6100e+00, 2.4000e-01, 1.0800e+00],\n",
      "        [8.6410e+01, 2.2500e+00, 4.0000e-02, 1.8700e+00, 9.4500e+00],\n",
      "        [4.4570e+01, 4.8470e+01, 2.9300e+00, 1.6000e+00, 2.4000e+00],\n",
      "        [5.1835e+01, 4.3805e+01, 1.8800e+00, 1.3800e+00, 1.1300e+00]],\n",
      "       dtype=torch.float64)\n"
     ]
    },
    {
     "name": "stderr",
     "output_type": "stream",
     "text": [
      " 12%|█▏        | 6/50 [05:02<38:30, 52.52s/it]"
     ]
    },
    {
     "name": "stdout",
     "output_type": "stream",
     "text": [
      "Iterations 83\n",
      "Maximizing with STP\n",
      "Seed: 265\n",
      "Initial points: tensor([[42.4400,  1.1100,  1.4900, 54.0400,  0.9500],\n",
      "        [40.0000, 60.0000,  0.0000,  0.0000,  0.0000],\n",
      "        [39.0500, 41.8500,  5.7500,  4.0400,  9.4000],\n",
      "        [16.1500,  0.4600, 25.3800, 51.4200,  6.5500],\n",
      "        [90.0000, 10.0000,  0.0000,  0.0000,  0.0000]], dtype=torch.float64)\n"
     ]
    },
    {
     "name": "stderr",
     "output_type": "stream",
     "text": [
      " 14%|█▍        | 7/50 [05:46<35:42, 49.84s/it]"
     ]
    },
    {
     "name": "stdout",
     "output_type": "stream",
     "text": [
      "Iterations 57\n",
      "Maximizing with STP\n",
      "Seed: 988\n",
      "Initial points: tensor([[60.1000, 38.3900,  0.5500,  0.1100,  0.8600],\n",
      "        [43.0900, 47.8500,  3.1400,  3.3000,  2.6700],\n",
      "        [84.5700,  0.9000,  0.6900,  5.8400,  7.9800],\n",
      "        [50.0000, 50.0000,  0.0000,  0.0000,  0.0000],\n",
      "        [43.0900, 47.8500,  3.1400,  3.3000,  2.6700]], dtype=torch.float64)\n"
     ]
    },
    {
     "name": "stderr",
     "output_type": "stream",
     "text": [
      " 16%|█▌        | 8/50 [06:46<37:05, 52.98s/it]"
     ]
    },
    {
     "name": "stdout",
     "output_type": "stream",
     "text": [
      "Iterations 78\n",
      "Maximizing with STP\n",
      "Seed: 523\n",
      "Initial points: tensor([[8.4860e+01, 3.4200e+00, 9.6000e-01, 2.8000e-01, 1.0410e+01],\n",
      "        [9.0310e+01, 1.8000e-01, 6.2000e-01, 8.2500e+00, 6.5000e-01],\n",
      "        [9.3110e+01, 3.0000e-02, 6.3000e-01, 3.7800e+00, 2.5000e+00],\n",
      "        [9.0000e+01, 1.0000e+01, 0.0000e+00, 0.0000e+00, 0.0000e+00],\n",
      "        [8.3170e+01, 1.7200e+00, 3.5400e+00, 2.4300e+00, 9.0700e+00]],\n",
      "       dtype=torch.float64)\n"
     ]
    },
    {
     "name": "stderr",
     "output_type": "stream",
     "text": [
      " 18%|█▊        | 9/50 [07:20<32:03, 46.91s/it]"
     ]
    },
    {
     "name": "stdout",
     "output_type": "stream",
     "text": [
      "Iterations 44\n",
      "Maximizing with STP\n",
      "Seed: 497\n",
      "Initial points: tensor([[1.9230e+01, 3.4000e-01, 4.5360e+01, 2.6030e+01, 9.0700e+00],\n",
      "        [4.4550e+01, 5.0000e-01, 5.1550e+01, 1.1000e+00, 2.3100e+00],\n",
      "        [4.7810e+01, 4.9290e+01, 5.5000e-01, 1.4600e+00, 8.9000e-01],\n",
      "        [6.9100e+01, 3.0830e+01, 4.0000e-02, 4.0000e-02, 4.0000e-02],\n",
      "        [8.5480e+01, 3.2000e-01, 1.5000e-01, 4.0300e+00, 9.9600e+00]],\n",
      "       dtype=torch.float64)\n"
     ]
    },
    {
     "name": "stderr",
     "output_type": "stream",
     "text": [
      " 20%|██        | 10/50 [08:27<35:32, 53.31s/it]"
     ]
    },
    {
     "name": "stdout",
     "output_type": "stream",
     "text": [
      "Iterations 87\n",
      "Maximizing with STP\n",
      "Seed: 414\n",
      "Initial points: tensor([[83.1700,  1.7200,  3.5400,  2.4300,  9.0700],\n",
      "        [84.5500,  1.9300,  1.4000,  3.2300,  8.8500],\n",
      "        [44.6100, 47.5300,  2.0500,  3.1700,  2.5800],\n",
      "        [44.8000, 37.4000,  6.8100,  5.8300,  5.1800],\n",
      "        [68.9400, 26.7900,  0.6900,  1.0300,  2.5700]], dtype=torch.float64)\n"
     ]
    },
    {
     "name": "stderr",
     "output_type": "stream",
     "text": [
      " 22%|██▏       | 11/50 [09:01<30:44, 47.29s/it]"
     ]
    },
    {
     "name": "stdout",
     "output_type": "stream",
     "text": [
      "Iterations 44\n",
      "Maximizing with STP\n",
      "Seed: 940\n",
      "Initial points: tensor([[8.1710e+01, 4.3300e+00, 5.4400e+00, 8.5800e+00, 4.0000e-02],\n",
      "        [4.4570e+01, 4.8470e+01, 2.9300e+00, 1.6000e+00, 2.4000e+00],\n",
      "        [1.9230e+01, 3.4000e-01, 4.5360e+01, 2.6030e+01, 9.0700e+00],\n",
      "        [4.3610e+01, 4.9290e+01, 2.8800e+00, 4.2200e+00, 4.0000e-02],\n",
      "        [2.3855e+01, 4.9000e-01, 4.7670e+01, 2.5150e+01, 2.8400e+00]],\n",
      "       dtype=torch.float64)\n"
     ]
    },
    {
     "name": "stderr",
     "output_type": "stream",
     "text": [
      " 24%|██▍       | 12/50 [09:49<30:12, 47.70s/it]"
     ]
    },
    {
     "name": "stdout",
     "output_type": "stream",
     "text": [
      "Iterations 63\n",
      "Maximizing with STP\n",
      "Seed: 802\n",
      "Initial points: tensor([[9.1130e+01, 1.9900e+00, 1.9500e+00, 2.2400e+00, 2.6900e+00],\n",
      "        [6.1930e+01, 3.0520e+01, 7.0500e+00, 2.0000e-01, 3.6000e-01],\n",
      "        [9.1030e+01, 4.6000e-01, 1.9300e+00, 6.5900e+00, 4.0000e-02],\n",
      "        [4.7200e+01, 4.9490e+01, 2.0100e+00, 3.1000e-01, 1.0100e+00],\n",
      "        [5.0740e+01, 4.1050e+01, 1.6500e+00, 4.6900e+00, 1.8700e+00]],\n",
      "       dtype=torch.float64)\n"
     ]
    },
    {
     "name": "stderr",
     "output_type": "stream",
     "text": [
      " 26%|██▌       | 13/50 [10:49<31:42, 51.43s/it]"
     ]
    },
    {
     "name": "stdout",
     "output_type": "stream",
     "text": [
      "Iterations 77\n",
      "Maximizing with STP\n",
      "Seed: 849\n",
      "Initial points: tensor([[42.3300, 51.8300,  2.7500,  2.8700,  0.3200],\n",
      "        [38.3300, 43.6000,  0.1000,  3.6300, 14.3000],\n",
      "        [80.2600,  0.5300, 12.0300,  5.4700,  1.7800],\n",
      "        [85.0800,  7.7500,  3.5000,  2.2400,  1.3600],\n",
      "        [70.0000, 30.0000,  0.0000,  0.0000,  0.0000]], dtype=torch.float64)\n"
     ]
    },
    {
     "name": "stderr",
     "output_type": "stream",
     "text": [
      " 28%|██▊       | 14/50 [11:26<28:12, 47.00s/it]"
     ]
    },
    {
     "name": "stdout",
     "output_type": "stream",
     "text": [
      "Iterations 48\n",
      "Maximizing with STP\n",
      "Seed: 310\n",
      "Initial points: tensor([[8.4600e+01, 7.5600e+00, 4.0000e-02, 7.8300e+00, 6.0000e-02],\n",
      "        [3.4130e+01, 4.2190e+01, 8.7900e+00, 1.3220e+01, 1.6900e+00],\n",
      "        [1.5000e+01, 0.0000e+00, 0.0000e+00, 8.5000e+01, 0.0000e+00],\n",
      "        [5.8620e+01, 3.9890e+01, 4.0000e-02, 1.3200e+00, 1.4000e-01],\n",
      "        [8.4090e+01, 1.8500e+00, 6.5000e-01, 2.3600e+00, 1.1140e+01]],\n",
      "       dtype=torch.float64)\n"
     ]
    },
    {
     "name": "stderr",
     "output_type": "stream",
     "text": [
      " 30%|███       | 15/50 [12:16<27:58, 47.96s/it]"
     ]
    },
    {
     "name": "stdout",
     "output_type": "stream",
     "text": [
      "Iterations 65\n",
      "Maximizing with STP\n",
      "Seed: 991\n",
      "Initial points: tensor([[3.9610e+01, 4.8070e+01, 7.5100e+00, 1.9300e+00, 2.9400e+00],\n",
      "        [4.8970e+01, 5.0340e+01, 4.0000e-02, 1.0000e-01, 5.6000e-01],\n",
      "        [8.6600e+01, 1.1000e+00, 2.8000e-01, 2.4200e+00, 9.5400e+00],\n",
      "        [4.5000e+01, 0.0000e+00, 5.5000e+01, 0.0000e+00, 0.0000e+00],\n",
      "        [4.1600e+01, 5.1430e+01, 2.1000e+00, 4.9100e+00, 4.0000e-02]],\n",
      "       dtype=torch.float64)\n"
     ]
    },
    {
     "name": "stderr",
     "output_type": "stream",
     "text": [
      " 32%|███▏      | 16/50 [13:40<33:17, 58.75s/it]"
     ]
    },
    {
     "name": "stdout",
     "output_type": "stream",
     "text": [
      "Iterations 106\n",
      "Maximizing with STP\n",
      "Seed: 488\n",
      "Initial points: tensor([[8.2980e+01, 8.0400e+00, 4.7900e+00, 2.5800e+00, 1.5100e+00],\n",
      "        [4.3170e+01, 3.4010e+01, 3.8900e+00, 2.0400e+00, 1.6960e+01],\n",
      "        [9.4810e+01, 3.0000e-01, 2.8000e-01, 8.0000e-02, 4.5300e+00],\n",
      "        [5.5340e+01, 3.8120e+01, 6.2700e+00, 1.0000e-02, 2.6000e-01],\n",
      "        [4.6860e+01, 4.3740e+01, 5.0800e+00, 7.8000e-01, 3.6100e+00]],\n",
      "       dtype=torch.float64)\n"
     ]
    },
    {
     "name": "stderr",
     "output_type": "stream",
     "text": [
      " 34%|███▍      | 17/50 [14:16<28:30, 51.84s/it]"
     ]
    },
    {
     "name": "stdout",
     "output_type": "stream",
     "text": [
      "Iterations 47\n",
      "Maximizing with STP\n",
      "Seed: 366\n",
      "Initial points: tensor([[44.8000, 37.4000,  6.8100,  5.8300,  5.1800],\n",
      "        [20.5700,  0.1800, 35.6000, 39.4100,  4.1600],\n",
      "        [44.5700, 48.4700,  2.9300,  1.6000,  2.4000],\n",
      "        [55.3200, 37.0400,  1.9000,  2.3200,  3.4400],\n",
      "        [44.3500,  0.1800, 54.4700,  0.1800,  0.8100]], dtype=torch.float64)\n"
     ]
    },
    {
     "name": "stderr",
     "output_type": "stream",
     "text": [
      " 36%|███▌      | 18/50 [15:01<26:32, 49.77s/it]"
     ]
    },
    {
     "name": "stdout",
     "output_type": "stream",
     "text": [
      "Iterations 58\n",
      "Maximizing with STP\n",
      "Seed: 597\n",
      "Initial points: tensor([[34.9600, 44.3200,  1.8000, 14.0100,  4.9600],\n",
      "        [46.5100, 49.5100,  2.0600,  1.0600,  0.8900],\n",
      "        [39.6100, 48.0700,  7.5100,  1.9300,  2.9400],\n",
      "        [45.8000, 47.2500,  3.2400,  2.7000,  1.1000],\n",
      "        [39.0500, 41.8500,  5.7500,  4.0400,  9.4000]], dtype=torch.float64)\n"
     ]
    },
    {
     "name": "stderr",
     "output_type": "stream",
     "text": [
      " 38%|███▊      | 19/50 [15:54<26:12, 50.74s/it]"
     ]
    },
    {
     "name": "stdout",
     "output_type": "stream",
     "text": [
      "Iterations 68\n",
      "Maximizing with STP\n",
      "Seed: 913\n",
      "Initial points: tensor([[5.3400e+01, 3.3900e+01, 1.1800e+00, 1.1340e+01, 2.5000e-01],\n",
      "        [8.4550e+01, 1.9300e+00, 1.4000e+00, 3.2300e+00, 8.8500e+00],\n",
      "        [4.3800e+01, 4.5290e+01, 7.8900e+00, 2.4300e+00, 5.5000e-01],\n",
      "        [5.8760e+01, 3.9810e+01, 7.5000e-01, 1.5000e-01, 5.3000e-01],\n",
      "        [4.8970e+01, 5.0340e+01, 4.0000e-02, 1.0000e-01, 5.6000e-01]],\n",
      "       dtype=torch.float64)\n"
     ]
    },
    {
     "name": "stderr",
     "output_type": "stream",
     "text": [
      " 40%|████      | 20/50 [16:57<27:16, 54.55s/it]"
     ]
    },
    {
     "name": "stdout",
     "output_type": "stream",
     "text": [
      "Iterations 82\n",
      "Maximizing with STP\n",
      "Seed: 929\n",
      "Initial points: tensor([[91.1300,  1.9900,  1.9500,  2.2400,  2.6900],\n",
      "        [49.5100, 49.2400,  0.6200,  0.1200,  0.5600],\n",
      "        [46.5700, 48.9100,  3.0800,  1.1100,  0.3600],\n",
      "        [25.0000,  0.0000,  0.0000,  0.0000, 75.0000],\n",
      "        [60.1000, 38.3900,  0.5500,  0.1100,  0.8600]], dtype=torch.float64)\n"
     ]
    },
    {
     "name": "stderr",
     "output_type": "stream",
     "text": [
      " 42%|████▏     | 21/50 [17:41<24:45, 51.23s/it]"
     ]
    },
    {
     "name": "stdout",
     "output_type": "stream",
     "text": [
      "Iterations 57\n",
      "Maximizing with STP\n",
      "Seed: 223\n",
      "Initial points: tensor([[88.4500,  3.5000,  1.8900,  1.9600,  4.2100],\n",
      "        [90.0000, 10.0000,  0.0000,  0.0000,  0.0000],\n",
      "        [42.3000, 45.0700,  4.4900,  5.2100,  3.0200],\n",
      "        [16.1500,  0.4600, 25.3800, 51.4200,  6.5500],\n",
      "        [80.2600,  0.5300, 12.0300,  5.4700,  1.7800]], dtype=torch.float64)\n"
     ]
    },
    {
     "name": "stderr",
     "output_type": "stream",
     "text": [
      " 44%|████▍     | 22/50 [18:09<20:39, 44.27s/it]"
     ]
    },
    {
     "name": "stdout",
     "output_type": "stream",
     "text": [
      "Iterations 37\n",
      "Maximizing with STP\n",
      "Seed: 516\n",
      "Initial points: tensor([[44.6100, 47.5300,  2.0500,  3.1700,  2.5800],\n",
      "        [84.5500,  1.9300,  1.4000,  3.2300,  8.8500],\n",
      "        [82.9800,  8.0400,  4.7900,  2.5800,  1.5100],\n",
      "        [70.1400, 27.1800,  1.4500,  0.2700,  0.9700],\n",
      "        [45.8000, 47.2500,  3.2400,  2.7000,  1.1000]], dtype=torch.float64)\n"
     ]
    },
    {
     "name": "stderr",
     "output_type": "stream",
     "text": [
      " 46%|████▌     | 23/50 [18:54<20:05, 44.66s/it]"
     ]
    },
    {
     "name": "stdout",
     "output_type": "stream",
     "text": [
      "Iterations 60\n",
      "Maximizing with STP\n",
      "Seed: 142\n",
      "Initial points: tensor([[4.9720e+01, 4.8060e+01, 1.1100e+00, 8.9000e-01, 2.3000e-01],\n",
      "        [6.8110e+01, 2.8690e+01, 8.9000e-01, 9.7000e-01, 1.3500e+00],\n",
      "        [6.0000e+01, 0.0000e+00, 0.0000e+00, 4.0000e+01, 0.0000e+00],\n",
      "        [4.1900e+01, 4.8610e+01, 3.7800e+00, 1.8700e+00, 3.8300e+00],\n",
      "        [7.3990e+01, 5.0000e-01, 2.5180e+01, 2.8000e-01, 4.0000e-02]],\n",
      "       dtype=torch.float64)\n"
     ]
    },
    {
     "name": "stderr",
     "output_type": "stream",
     "text": [
      " 48%|████▊     | 24/50 [19:58<21:51, 50.45s/it]"
     ]
    },
    {
     "name": "stdout",
     "output_type": "stream",
     "text": [
      "Iterations 82\n",
      "Maximizing with STP\n",
      "Seed: 288\n",
      "Initial points: tensor([[5.1810e+01, 3.9100e+01, 5.1500e+00, 7.8000e-01, 3.1400e+00],\n",
      "        [6.9100e+01, 3.0830e+01, 4.0000e-02, 4.0000e-02, 4.0000e-02],\n",
      "        [4.7130e+01, 4.6950e+01, 4.2800e+00, 1.0800e+00, 5.7000e-01],\n",
      "        [5.5340e+01, 3.8120e+01, 6.2700e+00, 1.0000e-02, 2.6000e-01],\n",
      "        [4.0000e+01, 6.0000e+01, 0.0000e+00, 0.0000e+00, 0.0000e+00]],\n",
      "       dtype=torch.float64)\n"
     ]
    },
    {
     "name": "stderr",
     "output_type": "stream",
     "text": [
      " 50%|█████     | 25/50 [20:39<19:44, 47.36s/it]"
     ]
    },
    {
     "name": "stdout",
     "output_type": "stream",
     "text": [
      "Iterations 52\n",
      "Maximizing with STP\n",
      "Seed: 143\n",
      "Initial points: tensor([[4.8680e+01, 3.9720e+01, 1.0970e+01, 5.8000e-01, 4.0000e-02],\n",
      "        [6.0340e+01, 2.6070e+01, 6.5000e+00, 2.3100e+00, 4.8700e+00],\n",
      "        [4.5580e+01, 4.9520e+01, 2.5900e+00, 4.9000e-01, 1.8900e+00],\n",
      "        [4.4300e+01, 5.4680e+01, 4.0000e-02, 2.9000e-01, 7.8000e-01],\n",
      "        [5.0740e+01, 4.1050e+01, 1.6500e+00, 4.6900e+00, 1.8700e+00]],\n",
      "       dtype=torch.float64)\n"
     ]
    },
    {
     "name": "stderr",
     "output_type": "stream",
     "text": [
      " 52%|█████▏    | 26/50 [21:09<16:57, 42.41s/it]"
     ]
    },
    {
     "name": "stdout",
     "output_type": "stream",
     "text": [
      "Iterations 41\n",
      "Maximizing with STP\n",
      "Seed: 773\n",
      "Initial points: tensor([[47.2600, 44.4600,  7.3200,  0.6900,  0.2300],\n",
      "        [50.7000, 37.8800,  4.0500,  3.3700,  4.0500],\n",
      "        [60.0000, 40.0000,  0.0000,  0.0000,  0.0000],\n",
      "        [51.7300, 32.1200,  3.9200,  2.2900,  9.9600],\n",
      "        [34.0100, 38.9000,  0.7300, 12.6800, 13.6500]], dtype=torch.float64)\n"
     ]
    },
    {
     "name": "stderr",
     "output_type": "stream",
     "text": [
      " 54%|█████▍    | 27/50 [22:26<20:08, 52.55s/it]"
     ]
    },
    {
     "name": "stdout",
     "output_type": "stream",
     "text": [
      "Iterations 84\n",
      "Maximizing with STP\n",
      "Seed: 97\n",
      "Initial points: tensor([[7.4310e+01, 3.9000e-01, 1.0000e-01, 2.5180e+01, 4.0000e-02],\n",
      "        [5.0350e+01, 4.0600e+01, 5.3700e+00, 2.4400e+00, 1.2600e+00],\n",
      "        [1.6880e+01, 1.2500e+00, 2.4960e+01, 4.9580e+01, 7.3200e+00],\n",
      "        [4.3110e+01, 5.3000e-01, 5.3450e+01, 5.1000e-01, 2.3600e+00],\n",
      "        [9.6270e+01, 2.7000e-01, 2.0200e+00, 8.5000e-01, 5.1000e-01]],\n",
      "       dtype=torch.float64)\n"
     ]
    },
    {
     "name": "stderr",
     "output_type": "stream",
     "text": [
      " 56%|█████▌    | 28/50 [23:16<19:04, 52.02s/it]"
     ]
    },
    {
     "name": "stdout",
     "output_type": "stream",
     "text": [
      "Iterations 53\n",
      "Maximizing with STP\n",
      "Seed: 633\n",
      "Initial points: tensor([[3.8920e+01, 4.9280e+01, 9.0000e-02, 9.5000e-01, 1.0670e+01],\n",
      "        [1.8730e+01, 1.2800e+00, 4.7460e+01, 2.4640e+01, 7.9400e+00],\n",
      "        [9.0000e+01, 0.0000e+00, 0.0000e+00, 1.0000e+01, 0.0000e+00],\n",
      "        [4.8720e+01, 4.9780e+01, 4.5000e-01, 8.3000e-01, 2.3000e-01],\n",
      "        [9.1030e+01, 4.6000e-01, 1.9300e+00, 6.5900e+00, 4.0000e-02]],\n",
      "       dtype=torch.float64)\n"
     ]
    },
    {
     "name": "stderr",
     "output_type": "stream",
     "text": [
      " 58%|█████▊    | 29/50 [24:09<18:16, 52.21s/it]"
     ]
    },
    {
     "name": "stdout",
     "output_type": "stream",
     "text": [
      "Iterations 56\n",
      "Maximizing with STP\n",
      "Seed: 818\n",
      "Initial points: tensor([[90.3100,  0.1800,  0.6200,  8.2500,  0.6500],\n",
      "        [84.0900,  1.8500,  0.6500,  2.3600, 11.1400],\n",
      "        [59.8200,  0.2300,  0.5000, 38.8900,  0.5500],\n",
      "        [82.2800,  2.4300,  2.9700,  3.5600,  8.7200],\n",
      "        [83.1700,  1.7200,  3.5400,  2.4300,  9.0700]], dtype=torch.float64)\n"
     ]
    },
    {
     "name": "stderr",
     "output_type": "stream",
     "text": [
      " 60%|██████    | 30/50 [24:49<16:09, 48.49s/it]"
     ]
    },
    {
     "name": "stdout",
     "output_type": "stream",
     "text": [
      "Iterations 42\n",
      "Maximizing with STP\n",
      "Seed: 256\n",
      "Initial points: tensor([[48.7200, 49.7800,  0.4500,  0.8300,  0.2300],\n",
      "        [46.0500, 49.9000,  2.2200,  0.7700,  1.0900],\n",
      "        [90.4800,  4.8200,  2.6100,  0.5500,  1.5700],\n",
      "        [84.0900,  1.8500,  0.6500,  2.3600, 11.1400],\n",
      "        [40.0000, 60.0000,  0.0000,  0.0000,  0.0000]], dtype=torch.float64)\n"
     ]
    },
    {
     "name": "stderr",
     "output_type": "stream",
     "text": [
      " 62%|██████▏   | 31/50 [25:44<15:56, 50.35s/it]"
     ]
    },
    {
     "name": "stdout",
     "output_type": "stream",
     "text": [
      "Iterations 57\n",
      "Maximizing with STP\n",
      "Seed: 931\n",
      "Initial points: tensor([[5.1835e+01, 4.3805e+01, 1.8800e+00, 1.3800e+00, 1.1300e+00],\n",
      "        [9.1130e+01, 1.9900e+00, 1.9500e+00, 2.2400e+00, 2.6900e+00],\n",
      "        [3.8380e+01, 4.8280e+01, 4.0000e-02, 5.7000e-01, 1.2710e+01],\n",
      "        [4.5000e+01, 0.0000e+00, 0.0000e+00, 5.5000e+01, 0.0000e+00],\n",
      "        [4.4890e+01, 4.7030e+01, 3.8100e+00, 1.1600e+00, 3.1000e+00]],\n",
      "       dtype=torch.float64)\n"
     ]
    },
    {
     "name": "stderr",
     "output_type": "stream",
     "text": [
      " 64%|██████▍   | 32/50 [26:31<14:52, 49.58s/it]"
     ]
    },
    {
     "name": "stdout",
     "output_type": "stream",
     "text": [
      "Iterations 50\n",
      "Maximizing with STP\n",
      "Seed: 545\n",
      "Initial points: tensor([[60.0000,  0.0000,  0.0000, 40.0000,  0.0000],\n",
      "        [89.8000,  3.0100,  1.5900,  4.3600,  1.2300],\n",
      "        [41.2300, 49.0600,  3.4100,  6.1700,  0.1400],\n",
      "        [91.1300,  1.9900,  1.9500,  2.2400,  2.6900],\n",
      "        [45.1500, 42.2500,  7.8200,  1.9800,  2.8300]], dtype=torch.float64)\n"
     ]
    },
    {
     "name": "stderr",
     "output_type": "stream",
     "text": [
      " 66%|██████▌   | 33/50 [27:25<14:21, 50.67s/it]"
     ]
    },
    {
     "name": "stdout",
     "output_type": "stream",
     "text": [
      "Iterations 55\n",
      "Maximizing with STP\n",
      "Seed: 722\n",
      "Initial points: tensor([[4.8620e+01, 5.0350e+01, 4.9000e-01, 5.3000e-01, 4.0000e-02],\n",
      "        [3.0000e+01, 0.0000e+00, 0.0000e+00, 7.0000e+01, 0.0000e+00],\n",
      "        [4.3170e+01, 3.4010e+01, 3.8900e+00, 2.0400e+00, 1.6960e+01],\n",
      "        [5.4480e+01, 6.5000e-01, 5.3000e-01, 4.6000e-01, 4.3890e+01],\n",
      "        [8.4600e+01, 7.5600e+00, 4.0000e-02, 7.8300e+00, 6.0000e-02]],\n",
      "       dtype=torch.float64)\n"
     ]
    },
    {
     "name": "stderr",
     "output_type": "stream",
     "text": [
      " 68%|██████▊   | 34/50 [28:15<13:27, 50.50s/it]"
     ]
    },
    {
     "name": "stdout",
     "output_type": "stream",
     "text": [
      "Iterations 52\n",
      "Maximizing with STP\n",
      "Seed: 829\n",
      "Initial points: tensor([[5.0000e+01, 5.0000e+01, 0.0000e+00, 0.0000e+00, 0.0000e+00],\n",
      "        [4.4800e+01, 3.7400e+01, 6.8100e+00, 5.8300e+00, 5.1800e+00],\n",
      "        [4.4010e+01, 9.0000e-02, 9.0000e-01, 5.4710e+01, 3.0000e-01],\n",
      "        [9.1130e+01, 1.9900e+00, 1.9500e+00, 2.2400e+00, 2.6900e+00],\n",
      "        [4.8620e+01, 5.0350e+01, 4.9000e-01, 5.3000e-01, 4.0000e-02]],\n",
      "       dtype=torch.float64)\n"
     ]
    },
    {
     "name": "stderr",
     "output_type": "stream",
     "text": [
      " 70%|███████   | 35/50 [29:26<14:10, 56.70s/it]"
     ]
    },
    {
     "name": "stdout",
     "output_type": "stream",
     "text": [
      "Iterations 73\n",
      "Maximizing with STP\n",
      "Seed: 616\n",
      "Initial points: tensor([[8.4230e+01, 1.0600e+00, 1.1300e+00, 4.3400e+00, 9.1500e+00],\n",
      "        [4.3110e+01, 5.3000e-01, 5.3450e+01, 5.1000e-01, 2.3600e+00],\n",
      "        [4.4610e+01, 4.7530e+01, 2.0500e+00, 3.1700e+00, 2.5800e+00],\n",
      "        [4.3610e+01, 4.9290e+01, 2.8800e+00, 4.2200e+00, 4.0000e-02],\n",
      "        [4.5210e+01, 4.9390e+01, 3.5900e+00, 1.4500e+00, 4.1000e-01]],\n",
      "       dtype=torch.float64)\n"
     ]
    },
    {
     "name": "stderr",
     "output_type": "stream",
     "text": [
      " 72%|███████▏  | 36/50 [30:47<14:57, 64.10s/it]"
     ]
    },
    {
     "name": "stdout",
     "output_type": "stream",
     "text": [
      "Iterations 83\n",
      "Maximizing with STP\n",
      "Seed: 923\n",
      "Initial points: tensor([[89.5500,  5.7200,  0.8300,  1.8000,  2.1000],\n",
      "        [46.4400, 49.2300,  1.6600,  1.7000,  1.0600],\n",
      "        [90.0000, 10.0000,  0.0000,  0.0000,  0.0000],\n",
      "        [40.0000, 60.0000,  0.0000,  0.0000,  0.0000],\n",
      "        [88.4500,  3.5000,  1.8900,  1.9600,  4.2100]], dtype=torch.float64)\n"
     ]
    },
    {
     "name": "stderr",
     "output_type": "stream",
     "text": [
      " 74%|███████▍  | 37/50 [31:46<13:31, 62.45s/it]"
     ]
    },
    {
     "name": "stdout",
     "output_type": "stream",
     "text": [
      "Iterations 60\n",
      "Maximizing with STP\n",
      "Seed: 150\n",
      "Initial points: tensor([[8.5380e+01, 1.6600e+00, 1.4500e+00, 1.1000e+00, 1.0480e+01],\n",
      "        [4.8620e+01, 5.0350e+01, 4.9000e-01, 5.3000e-01, 4.0000e-02],\n",
      "        [4.3610e+01, 4.9290e+01, 2.8800e+00, 4.2200e+00, 4.0000e-02],\n",
      "        [1.8670e+01, 2.7000e-01, 4.7090e+01, 2.4030e+01, 9.9900e+00],\n",
      "        [4.3830e+01, 3.6370e+01, 9.9000e-01, 2.4400e+00, 1.6400e+01]],\n",
      "       dtype=torch.float64)\n"
     ]
    },
    {
     "name": "stderr",
     "output_type": "stream",
     "text": [
      " 76%|███████▌  | 38/50 [32:26<11:10, 55.88s/it]"
     ]
    },
    {
     "name": "stdout",
     "output_type": "stream",
     "text": [
      "Iterations 43\n",
      "Maximizing with STP\n",
      "Seed: 317\n",
      "Initial points: tensor([[4.3610e+01, 4.9290e+01, 2.8800e+00, 4.2200e+00, 4.0000e-02],\n",
      "        [3.4010e+01, 3.8900e+01, 7.3000e-01, 1.2680e+01, 1.3650e+01],\n",
      "        [4.6690e+01, 3.7390e+01, 4.0000e-02, 1.8600e+00, 1.4050e+01],\n",
      "        [3.8330e+01, 4.3600e+01, 1.0000e-01, 3.6300e+00, 1.4300e+01],\n",
      "        [4.4890e+01, 4.7030e+01, 3.8100e+00, 1.1600e+00, 3.1000e+00]],\n",
      "       dtype=torch.float64)\n"
     ]
    },
    {
     "name": "stderr",
     "output_type": "stream",
     "text": [
      " 78%|███████▊  | 39/50 [33:48<11:40, 63.67s/it]"
     ]
    },
    {
     "name": "stdout",
     "output_type": "stream",
     "text": [
      "Iterations 84\n",
      "Maximizing with STP\n",
      "Seed: 101\n",
      "Initial points: tensor([[89.8000,  3.0100,  1.5900,  4.3600,  1.2300],\n",
      "        [86.6000,  1.1000,  0.2800,  2.4200,  9.5400],\n",
      "        [38.3300, 43.6000,  0.1000,  3.6300, 14.3000],\n",
      "        [42.3300, 51.8300,  2.7500,  2.8700,  0.3200],\n",
      "        [90.3100,  0.1800,  0.6200,  8.2500,  0.6500]], dtype=torch.float64)\n"
     ]
    },
    {
     "name": "stderr",
     "output_type": "stream",
     "text": [
      " 80%|████████  | 40/50 [34:30<09:31, 57.15s/it]"
     ]
    },
    {
     "name": "stdout",
     "output_type": "stream",
     "text": [
      "Iterations 45\n",
      "Maximizing with STP\n",
      "Seed: 747\n",
      "Initial points: tensor([[30.0000,  0.0000, 70.0000,  0.0000,  0.0000],\n",
      "        [19.1500,  1.5900, 48.4000, 23.3300,  7.5700],\n",
      "        [44.5700, 48.4700,  2.9300,  1.6000,  2.4000],\n",
      "        [49.5100, 49.2400,  0.6200,  0.1200,  0.5600],\n",
      "        [60.3400, 26.0700,  6.5000,  2.3100,  4.8700]], dtype=torch.float64)\n"
     ]
    },
    {
     "name": "stderr",
     "output_type": "stream",
     "text": [
      " 82%|████████▏ | 41/50 [35:53<09:45, 65.00s/it]"
     ]
    },
    {
     "name": "stdout",
     "output_type": "stream",
     "text": [
      "Iterations 86\n",
      "Maximizing with STP\n",
      "Seed: 75\n",
      "Initial points: tensor([[4.0000e+01, 6.0000e+01, 0.0000e+00, 0.0000e+00, 0.0000e+00],\n",
      "        [8.3170e+01, 1.7200e+00, 3.5400e+00, 2.4300e+00, 9.0700e+00],\n",
      "        [4.6860e+01, 4.3740e+01, 5.0800e+00, 7.8000e-01, 3.6100e+00],\n",
      "        [5.0650e+01, 4.4590e+01, 4.0600e+00, 4.0000e-02, 6.9000e-01],\n",
      "        [4.5600e+01, 4.6500e+01, 1.6700e+00, 3.9600e+00, 2.2600e+00]],\n",
      "       dtype=torch.float64)\n"
     ]
    },
    {
     "name": "stderr",
     "output_type": "stream",
     "text": [
      " 84%|████████▍ | 42/50 [37:01<08:44, 65.62s/it]"
     ]
    },
    {
     "name": "stdout",
     "output_type": "stream",
     "text": [
      "Iterations 69\n",
      "Maximizing with STP\n",
      "Seed: 920\n",
      "Initial points: tensor([[7.4310e+01, 3.9000e-01, 1.0000e-01, 2.5180e+01, 4.0000e-02],\n",
      "        [4.8620e+01, 5.0350e+01, 4.9000e-01, 5.3000e-01, 4.0000e-02],\n",
      "        [4.0000e+01, 6.0000e+01, 0.0000e+00, 0.0000e+00, 0.0000e+00],\n",
      "        [4.8970e+01, 5.0340e+01, 4.0000e-02, 1.0000e-01, 5.6000e-01],\n",
      "        [4.6050e+01, 4.9900e+01, 2.2200e+00, 7.7000e-01, 1.0900e+00]],\n",
      "       dtype=torch.float64)\n"
     ]
    },
    {
     "name": "stderr",
     "output_type": "stream",
     "text": [
      " 86%|████████▌ | 43/50 [37:59<07:25, 63.60s/it]"
     ]
    },
    {
     "name": "stdout",
     "output_type": "stream",
     "text": [
      "Iterations 61\n",
      "Maximizing with STP\n",
      "Seed: 870\n",
      "Initial points: tensor([[6.9100e+01, 3.0830e+01, 4.0000e-02, 4.0000e-02, 4.0000e-02],\n",
      "        [3.9050e+01, 4.1850e+01, 5.7500e+00, 4.0400e+00, 9.4000e+00],\n",
      "        [9.0300e+01, 2.0000e-01, 7.8900e+00, 7.9000e-01, 8.9000e-01],\n",
      "        [4.8720e+01, 4.9780e+01, 4.5000e-01, 8.3000e-01, 2.3000e-01],\n",
      "        [7.4190e+01, 7.0000e-02, 2.4760e+01, 1.7000e-01, 8.0000e-01]],\n",
      "       dtype=torch.float64)\n"
     ]
    },
    {
     "name": "stderr",
     "output_type": "stream",
     "text": [
      " 88%|████████▊ | 44/50 [39:27<07:04, 70.78s/it]"
     ]
    },
    {
     "name": "stdout",
     "output_type": "stream",
     "text": [
      "Iterations 88\n",
      "Maximizing with STP\n",
      "Seed: 700\n",
      "Initial points: tensor([[18.6700,  0.2700, 47.0900, 24.0300,  9.9900],\n",
      "        [38.2900, 47.3700,  0.9500,  0.6000, 12.8700],\n",
      "        [96.2700,  0.2700,  2.0200,  0.8500,  0.5100],\n",
      "        [50.7000, 37.8800,  4.0500,  3.3700,  4.0500],\n",
      "        [50.3500, 40.6000,  5.3700,  2.4400,  1.2600]], dtype=torch.float64)\n"
     ]
    },
    {
     "name": "stderr",
     "output_type": "stream",
     "text": [
      " 90%|█████████ | 45/50 [40:20<05:27, 65.42s/it]"
     ]
    },
    {
     "name": "stdout",
     "output_type": "stream",
     "text": [
      "Iterations 55\n",
      "Maximizing with STP\n",
      "Seed: 338\n",
      "Initial points: tensor([[46.8600, 43.7400,  5.0800,  0.7800,  3.6100],\n",
      "        [45.6400, 48.8600,  2.6400,  1.7800,  1.0900],\n",
      "        [34.0100, 38.9000,  0.7300, 12.6800, 13.6500],\n",
      "        [46.5700, 48.9100,  3.0800,  1.1100,  0.3600],\n",
      "        [74.8800,  0.0800,  2.0200, 22.0100,  1.0300]], dtype=torch.float64)\n"
     ]
    },
    {
     "name": "stderr",
     "output_type": "stream",
     "text": [
      " 92%|█████████▏| 46/50 [41:27<04:23, 65.97s/it]"
     ]
    },
    {
     "name": "stdout",
     "output_type": "stream",
     "text": [
      "Iterations 69\n",
      "Maximizing with STP\n",
      "Seed: 483\n",
      "Initial points: tensor([[4.0670e+01, 5.9260e+01, 4.0000e-02, 4.0000e-02, 7.0000e-02],\n",
      "        [5.3990e+01, 4.4580e+01, 4.0000e-02, 5.4000e-01, 8.9000e-01],\n",
      "        [6.0000e+01, 0.0000e+00, 0.0000e+00, 4.0000e+01, 0.0000e+00],\n",
      "        [8.9800e+01, 3.0100e+00, 1.5900e+00, 4.3600e+00, 1.2300e+00],\n",
      "        [4.0670e+01, 5.9260e+01, 4.0000e-02, 4.0000e-02, 7.0000e-02]],\n",
      "       dtype=torch.float64)\n"
     ]
    },
    {
     "name": "stderr",
     "output_type": "stream",
     "text": [
      " 94%|█████████▍| 47/50 [42:43<03:26, 68.92s/it]"
     ]
    },
    {
     "name": "stdout",
     "output_type": "stream",
     "text": [
      "Iterations 77\n",
      "Maximizing with STP\n",
      "Seed: 573\n",
      "Initial points: tensor([[39.0500, 41.8500,  5.7500,  4.0400,  9.4000],\n",
      "        [50.7400, 41.0500,  1.6500,  4.6900,  1.8700],\n",
      "        [49.5100, 49.2400,  0.6200,  0.1200,  0.5600],\n",
      "        [40.0000, 60.0000,  0.0000,  0.0000,  0.0000],\n",
      "        [18.7300,  1.2800, 47.4600, 24.6400,  7.9400]], dtype=torch.float64)\n"
     ]
    },
    {
     "name": "stderr",
     "output_type": "stream",
     "text": [
      " 96%|█████████▌| 48/50 [43:45<02:13, 66.77s/it]"
     ]
    },
    {
     "name": "stdout",
     "output_type": "stream",
     "text": [
      "Iterations 64\n",
      "Maximizing with STP\n",
      "Seed: 103\n",
      "Initial points: tensor([[3.8330e+01, 4.3600e+01, 1.0000e-01, 3.6300e+00, 1.4300e+01],\n",
      "        [1.9130e+01, 4.0000e-01, 4.6860e+01, 2.5410e+01, 8.2500e+00],\n",
      "        [7.4880e+01, 8.0000e-02, 2.0200e+00, 2.2010e+01, 1.0300e+00],\n",
      "        [6.7100e+01, 3.0150e+01, 7.2000e-01, 4.0000e-02, 1.9500e+00],\n",
      "        [4.7200e+01, 4.9490e+01, 2.0100e+00, 3.1000e-01, 1.0100e+00]],\n",
      "       dtype=torch.float64)\n"
     ]
    },
    {
     "name": "stderr",
     "output_type": "stream",
     "text": [
      " 98%|█████████▊| 49/50 [44:30<01:00, 60.45s/it]"
     ]
    },
    {
     "name": "stdout",
     "output_type": "stream",
     "text": [
      "Iterations 49\n",
      "Maximizing with STP\n",
      "Seed: 362\n",
      "Initial points: tensor([[9.6270e+01, 2.7000e-01, 2.0200e+00, 8.5000e-01, 5.1000e-01],\n",
      "        [6.9100e+01, 3.0830e+01, 4.0000e-02, 4.0000e-02, 4.0000e-02],\n",
      "        [3.7290e+01, 4.3200e+01, 2.7700e+00, 1.8100e+00, 1.4940e+01],\n",
      "        [4.8330e+01, 5.0130e+01, 1.3200e+00, 2.2000e-01, 4.0000e-02],\n",
      "        [4.5000e+01, 0.0000e+00, 5.5000e+01, 0.0000e+00, 0.0000e+00]],\n",
      "       dtype=torch.float64)\n"
     ]
    },
    {
     "name": "stderr",
     "output_type": "stream",
     "text": [
      "100%|██████████| 50/50 [45:19<00:00, 54.40s/it]\n"
     ]
    },
    {
     "name": "stdout",
     "output_type": "stream",
     "text": [
      "Iterations 52\n"
     ]
    },
    {
     "name": "stderr",
     "output_type": "stream",
     "text": [
      "  0%|          | 0/50 [00:00<?, ?it/s]"
     ]
    },
    {
     "name": "stdout",
     "output_type": "stream",
     "text": [
      "Maximizing with VGP\n",
      "Seed: 864\n",
      "Initial points: tensor([[4.4890e+01, 4.7030e+01, 3.8100e+00, 1.1600e+00, 3.1000e+00],\n",
      "        [9.6270e+01, 2.7000e-01, 2.0200e+00, 8.5000e-01, 5.1000e-01],\n",
      "        [7.3990e+01, 5.0000e-01, 2.5180e+01, 2.8000e-01, 4.0000e-02],\n",
      "        [4.7200e+01, 4.9490e+01, 2.0100e+00, 3.1000e-01, 1.0100e+00],\n",
      "        [4.3610e+01, 4.9290e+01, 2.8800e+00, 4.2200e+00, 4.0000e-02]],\n",
      "       dtype=torch.float64)\n"
     ]
    },
    {
     "name": "stderr",
     "output_type": "stream",
     "text": [
      "  2%|▏         | 1/50 [00:21<17:20, 21.23s/it]"
     ]
    },
    {
     "name": "stdout",
     "output_type": "stream",
     "text": [
      "Iterations 64\n",
      "Maximizing with VGP\n",
      "Seed: 394\n",
      "Initial points: tensor([[5.4480e+01, 6.5000e-01, 5.3000e-01, 4.6000e-01, 4.3890e+01],\n",
      "        [4.6570e+01, 4.8910e+01, 3.0800e+00, 1.1100e+00, 3.6000e-01],\n",
      "        [5.1835e+01, 4.3805e+01, 1.8800e+00, 1.3800e+00, 1.1300e+00],\n",
      "        [4.3490e+01, 4.6890e+01, 4.1800e+00, 5.1000e+00, 3.7000e-01],\n",
      "        [7.3990e+01, 5.0000e-01, 2.5180e+01, 2.8000e-01, 4.0000e-02]],\n",
      "       dtype=torch.float64)\n"
     ]
    },
    {
     "name": "stderr",
     "output_type": "stream",
     "text": [
      "  4%|▍         | 2/50 [00:56<23:33, 29.45s/it]"
     ]
    },
    {
     "name": "stdout",
     "output_type": "stream",
     "text": [
      "Iterations 100\n",
      "Maximizing with VGP\n",
      "Seed: 776\n",
      "Initial points: tensor([[6.7100e+01, 3.0150e+01, 7.2000e-01, 4.0000e-02, 1.9500e+00],\n",
      "        [1.6150e+01, 4.6000e-01, 2.5380e+01, 5.1420e+01, 6.5500e+00],\n",
      "        [4.2300e+01, 4.5070e+01, 4.4900e+00, 5.2100e+00, 3.0200e+00],\n",
      "        [4.5410e+01, 4.8510e+01, 2.1000e+00, 2.6400e+00, 1.3800e+00],\n",
      "        [4.3610e+01, 4.9290e+01, 2.8800e+00, 4.2200e+00, 4.0000e-02]],\n",
      "       dtype=torch.float64)\n"
     ]
    },
    {
     "name": "stderr",
     "output_type": "stream",
     "text": [
      "  6%|▌         | 3/50 [01:14<18:57, 24.21s/it]"
     ]
    },
    {
     "name": "stdout",
     "output_type": "stream",
     "text": [
      "Iterations 53\n",
      "Maximizing with VGP\n",
      "Seed: 911\n",
      "Initial points: tensor([[7.7730e+01, 2.0640e+01, 1.5800e+00, 4.0000e-02, 4.0000e-02],\n",
      "        [8.3170e+01, 1.7200e+00, 3.5400e+00, 2.4300e+00, 9.0700e+00],\n",
      "        [4.7130e+01, 4.6950e+01, 4.2800e+00, 1.0800e+00, 5.7000e-01],\n",
      "        [8.3170e+01, 1.7200e+00, 3.5400e+00, 2.4300e+00, 9.0700e+00],\n",
      "        [4.0670e+01, 5.9260e+01, 4.0000e-02, 4.0000e-02, 7.0000e-02]],\n",
      "       dtype=torch.float64)\n"
     ]
    },
    {
     "name": "stderr",
     "output_type": "stream",
     "text": [
      "  8%|▊         | 4/50 [01:42<19:41, 25.68s/it]"
     ]
    },
    {
     "name": "stdout",
     "output_type": "stream",
     "text": [
      "Iterations 85\n",
      "Maximizing with VGP\n",
      "Seed: 430\n",
      "Initial points: tensor([[44.5700, 48.4700,  2.9300,  1.6000,  2.4000],\n",
      "        [80.2600,  0.5300, 12.0300,  5.4700,  1.7800],\n",
      "        [44.0100,  0.0900,  0.9000, 54.7100,  0.3000],\n",
      "        [42.3300, 51.8300,  2.7500,  2.8700,  0.3200],\n",
      "        [34.0100, 38.9000,  0.7300, 12.6800, 13.6500]], dtype=torch.float64)\n"
     ]
    },
    {
     "name": "stderr",
     "output_type": "stream",
     "text": [
      " 10%|█         | 5/50 [02:10<19:54, 26.54s/it]"
     ]
    },
    {
     "name": "stdout",
     "output_type": "stream",
     "text": [
      "Iterations 82\n",
      "Maximizing with VGP\n",
      "Seed: 41\n",
      "Initial points: tensor([[7.3990e+01, 5.0000e-01, 2.5180e+01, 2.8000e-01, 4.0000e-02],\n",
      "        [6.6030e+01, 3.0010e+01, 2.6100e+00, 2.4000e-01, 1.0800e+00],\n",
      "        [8.6410e+01, 2.2500e+00, 4.0000e-02, 1.8700e+00, 9.4500e+00],\n",
      "        [4.4570e+01, 4.8470e+01, 2.9300e+00, 1.6000e+00, 2.4000e+00],\n",
      "        [5.1835e+01, 4.3805e+01, 1.8800e+00, 1.3800e+00, 1.1300e+00]],\n",
      "       dtype=torch.float64)\n"
     ]
    },
    {
     "name": "stderr",
     "output_type": "stream",
     "text": [
      " 12%|█▏        | 6/50 [02:34<18:45, 25.58s/it]"
     ]
    },
    {
     "name": "stdout",
     "output_type": "stream",
     "text": [
      "Iterations 74\n",
      "Maximizing with VGP\n",
      "Seed: 265\n",
      "Initial points: tensor([[42.4400,  1.1100,  1.4900, 54.0400,  0.9500],\n",
      "        [40.0000, 60.0000,  0.0000,  0.0000,  0.0000],\n",
      "        [39.0500, 41.8500,  5.7500,  4.0400,  9.4000],\n",
      "        [16.1500,  0.4600, 25.3800, 51.4200,  6.5500],\n",
      "        [90.0000, 10.0000,  0.0000,  0.0000,  0.0000]], dtype=torch.float64)\n"
     ]
    },
    {
     "name": "stderr",
     "output_type": "stream",
     "text": [
      " 14%|█▍        | 7/50 [02:52<16:32, 23.09s/it]"
     ]
    },
    {
     "name": "stdout",
     "output_type": "stream",
     "text": [
      "Iterations 58\n",
      "Maximizing with VGP\n",
      "Seed: 988\n",
      "Initial points: tensor([[60.1000, 38.3900,  0.5500,  0.1100,  0.8600],\n",
      "        [43.0900, 47.8500,  3.1400,  3.3000,  2.6700],\n",
      "        [84.5700,  0.9000,  0.6900,  5.8400,  7.9800],\n",
      "        [50.0000, 50.0000,  0.0000,  0.0000,  0.0000],\n",
      "        [43.0900, 47.8500,  3.1400,  3.3000,  2.6700]], dtype=torch.float64)\n"
     ]
    },
    {
     "name": "stderr",
     "output_type": "stream",
     "text": [
      " 16%|█▌        | 8/50 [03:11<15:18, 21.86s/it]"
     ]
    },
    {
     "name": "stdout",
     "output_type": "stream",
     "text": [
      "Iterations 58\n",
      "Maximizing with VGP\n",
      "Seed: 523\n",
      "Initial points: tensor([[8.4860e+01, 3.4200e+00, 9.6000e-01, 2.8000e-01, 1.0410e+01],\n",
      "        [9.0310e+01, 1.8000e-01, 6.2000e-01, 8.2500e+00, 6.5000e-01],\n",
      "        [9.3110e+01, 3.0000e-02, 6.3000e-01, 3.7800e+00, 2.5000e+00],\n",
      "        [9.0000e+01, 1.0000e+01, 0.0000e+00, 0.0000e+00, 0.0000e+00],\n",
      "        [8.3170e+01, 1.7200e+00, 3.5400e+00, 2.4300e+00, 9.0700e+00]],\n",
      "       dtype=torch.float64)\n"
     ]
    },
    {
     "name": "stderr",
     "output_type": "stream",
     "text": [
      " 18%|█▊        | 9/50 [03:27<13:39, 19.98s/it]"
     ]
    },
    {
     "name": "stdout",
     "output_type": "stream",
     "text": [
      "Iterations 48\n",
      "Maximizing with VGP\n",
      "Seed: 497\n",
      "Initial points: tensor([[1.9230e+01, 3.4000e-01, 4.5360e+01, 2.6030e+01, 9.0700e+00],\n",
      "        [4.4550e+01, 5.0000e-01, 5.1550e+01, 1.1000e+00, 2.3100e+00],\n",
      "        [4.7810e+01, 4.9290e+01, 5.5000e-01, 1.4600e+00, 8.9000e-01],\n",
      "        [6.9100e+01, 3.0830e+01, 4.0000e-02, 4.0000e-02, 4.0000e-02],\n",
      "        [8.5480e+01, 3.2000e-01, 1.5000e-01, 4.0300e+00, 9.9600e+00]],\n",
      "       dtype=torch.float64)\n"
     ]
    },
    {
     "name": "stderr",
     "output_type": "stream",
     "text": [
      " 20%|██        | 10/50 [03:42<12:17, 18.43s/it]"
     ]
    },
    {
     "name": "stdout",
     "output_type": "stream",
     "text": [
      "Iterations 46\n",
      "Maximizing with VGP\n",
      "Seed: 414\n",
      "Initial points: tensor([[83.1700,  1.7200,  3.5400,  2.4300,  9.0700],\n",
      "        [84.5500,  1.9300,  1.4000,  3.2300,  8.8500],\n",
      "        [44.6100, 47.5300,  2.0500,  3.1700,  2.5800],\n",
      "        [44.8000, 37.4000,  6.8100,  5.8300,  5.1800],\n",
      "        [68.9400, 26.7900,  0.6900,  1.0300,  2.5700]], dtype=torch.float64)\n"
     ]
    },
    {
     "name": "stderr",
     "output_type": "stream",
     "text": [
      " 22%|██▏       | 11/50 [04:03<12:31, 19.27s/it]"
     ]
    },
    {
     "name": "stdout",
     "output_type": "stream",
     "text": [
      "Iterations 66\n",
      "Maximizing with VGP\n",
      "Seed: 940\n",
      "Initial points: tensor([[8.1710e+01, 4.3300e+00, 5.4400e+00, 8.5800e+00, 4.0000e-02],\n",
      "        [4.4570e+01, 4.8470e+01, 2.9300e+00, 1.6000e+00, 2.4000e+00],\n",
      "        [1.9230e+01, 3.4000e-01, 4.5360e+01, 2.6030e+01, 9.0700e+00],\n",
      "        [4.3610e+01, 4.9290e+01, 2.8800e+00, 4.2200e+00, 4.0000e-02],\n",
      "        [2.3855e+01, 4.9000e-01, 4.7670e+01, 2.5150e+01, 2.8400e+00]],\n",
      "       dtype=torch.float64)\n"
     ]
    },
    {
     "name": "stderr",
     "output_type": "stream",
     "text": [
      " 24%|██▍       | 12/50 [04:28<13:22, 21.12s/it]"
     ]
    },
    {
     "name": "stdout",
     "output_type": "stream",
     "text": [
      "Iterations 77\n",
      "Maximizing with VGP\n",
      "Seed: 802\n",
      "Initial points: tensor([[9.1130e+01, 1.9900e+00, 1.9500e+00, 2.2400e+00, 2.6900e+00],\n",
      "        [6.1930e+01, 3.0520e+01, 7.0500e+00, 2.0000e-01, 3.6000e-01],\n",
      "        [9.1030e+01, 4.6000e-01, 1.9300e+00, 6.5900e+00, 4.0000e-02],\n",
      "        [4.7200e+01, 4.9490e+01, 2.0100e+00, 3.1000e-01, 1.0100e+00],\n",
      "        [5.0740e+01, 4.1050e+01, 1.6500e+00, 4.6900e+00, 1.8700e+00]],\n",
      "       dtype=torch.float64)\n"
     ]
    },
    {
     "name": "stderr",
     "output_type": "stream",
     "text": [
      " 26%|██▌       | 13/50 [04:50<13:05, 21.22s/it]"
     ]
    },
    {
     "name": "stdout",
     "output_type": "stream",
     "text": [
      "Iterations 66\n",
      "Maximizing with VGP\n",
      "Seed: 849\n",
      "Initial points: tensor([[42.3300, 51.8300,  2.7500,  2.8700,  0.3200],\n",
      "        [38.3300, 43.6000,  0.1000,  3.6300, 14.3000],\n",
      "        [80.2600,  0.5300, 12.0300,  5.4700,  1.7800],\n",
      "        [85.0800,  7.7500,  3.5000,  2.2400,  1.3600],\n",
      "        [70.0000, 30.0000,  0.0000,  0.0000,  0.0000]], dtype=torch.float64)\n"
     ]
    },
    {
     "name": "stderr",
     "output_type": "stream",
     "text": [
      " 28%|██▊       | 14/50 [05:05<11:40, 19.45s/it]"
     ]
    },
    {
     "name": "stdout",
     "output_type": "stream",
     "text": [
      "Iterations 49\n",
      "Maximizing with VGP\n",
      "Seed: 310\n",
      "Initial points: tensor([[8.4600e+01, 7.5600e+00, 4.0000e-02, 7.8300e+00, 6.0000e-02],\n",
      "        [3.4130e+01, 4.2190e+01, 8.7900e+00, 1.3220e+01, 1.6900e+00],\n",
      "        [1.5000e+01, 0.0000e+00, 0.0000e+00, 8.5000e+01, 0.0000e+00],\n",
      "        [5.8620e+01, 3.9890e+01, 4.0000e-02, 1.3200e+00, 1.4000e-01],\n",
      "        [8.4090e+01, 1.8500e+00, 6.5000e-01, 2.3600e+00, 1.1140e+01]],\n",
      "       dtype=torch.float64)\n"
     ]
    },
    {
     "name": "stderr",
     "output_type": "stream",
     "text": [
      " 30%|███       | 15/50 [05:19<10:23, 17.82s/it]"
     ]
    },
    {
     "name": "stdout",
     "output_type": "stream",
     "text": [
      "Iterations 44\n",
      "Maximizing with VGP\n",
      "Seed: 991\n",
      "Initial points: tensor([[3.9610e+01, 4.8070e+01, 7.5100e+00, 1.9300e+00, 2.9400e+00],\n",
      "        [4.8970e+01, 5.0340e+01, 4.0000e-02, 1.0000e-01, 5.6000e-01],\n",
      "        [8.6600e+01, 1.1000e+00, 2.8000e-01, 2.4200e+00, 9.5400e+00],\n",
      "        [4.5000e+01, 0.0000e+00, 5.5000e+01, 0.0000e+00, 0.0000e+00],\n",
      "        [4.1600e+01, 5.1430e+01, 2.1000e+00, 4.9100e+00, 4.0000e-02]],\n",
      "       dtype=torch.float64)\n"
     ]
    },
    {
     "name": "stderr",
     "output_type": "stream",
     "text": [
      " 32%|███▏      | 16/50 [05:40<10:35, 18.68s/it]"
     ]
    },
    {
     "name": "stdout",
     "output_type": "stream",
     "text": [
      "Iterations 64\n",
      "Maximizing with VGP\n",
      "Seed: 488\n",
      "Initial points: tensor([[8.2980e+01, 8.0400e+00, 4.7900e+00, 2.5800e+00, 1.5100e+00],\n",
      "        [4.3170e+01, 3.4010e+01, 3.8900e+00, 2.0400e+00, 1.6960e+01],\n",
      "        [9.4810e+01, 3.0000e-01, 2.8000e-01, 8.0000e-02, 4.5300e+00],\n",
      "        [5.5340e+01, 3.8120e+01, 6.2700e+00, 1.0000e-02, 2.6000e-01],\n",
      "        [4.6860e+01, 4.3740e+01, 5.0800e+00, 7.8000e-01, 3.6100e+00]],\n",
      "       dtype=torch.float64)\n"
     ]
    },
    {
     "name": "stderr",
     "output_type": "stream",
     "text": [
      " 34%|███▍      | 17/50 [05:55<09:46, 17.78s/it]"
     ]
    },
    {
     "name": "stdout",
     "output_type": "stream",
     "text": [
      "Iterations 52\n",
      "Maximizing with VGP\n",
      "Seed: 366\n",
      "Initial points: tensor([[44.8000, 37.4000,  6.8100,  5.8300,  5.1800],\n",
      "        [20.5700,  0.1800, 35.6000, 39.4100,  4.1600],\n",
      "        [44.5700, 48.4700,  2.9300,  1.6000,  2.4000],\n",
      "        [55.3200, 37.0400,  1.9000,  2.3200,  3.4400],\n",
      "        [44.3500,  0.1800, 54.4700,  0.1800,  0.8100]], dtype=torch.float64)\n"
     ]
    },
    {
     "name": "stderr",
     "output_type": "stream",
     "text": [
      " 36%|███▌      | 18/50 [06:15<09:51, 18.47s/it]"
     ]
    },
    {
     "name": "stdout",
     "output_type": "stream",
     "text": [
      "Iterations 63\n",
      "Maximizing with VGP\n",
      "Seed: 597\n",
      "Initial points: tensor([[34.9600, 44.3200,  1.8000, 14.0100,  4.9600],\n",
      "        [46.5100, 49.5100,  2.0600,  1.0600,  0.8900],\n",
      "        [39.6100, 48.0700,  7.5100,  1.9300,  2.9400],\n",
      "        [45.8000, 47.2500,  3.2400,  2.7000,  1.1000],\n",
      "        [39.0500, 41.8500,  5.7500,  4.0400,  9.4000]], dtype=torch.float64)\n"
     ]
    },
    {
     "name": "stderr",
     "output_type": "stream",
     "text": [
      " 38%|███▊      | 19/50 [06:40<10:27, 20.25s/it]"
     ]
    },
    {
     "name": "stdout",
     "output_type": "stream",
     "text": [
      "Iterations 70\n",
      "Maximizing with VGP\n",
      "Seed: 913\n",
      "Initial points: tensor([[5.3400e+01, 3.3900e+01, 1.1800e+00, 1.1340e+01, 2.5000e-01],\n",
      "        [8.4550e+01, 1.9300e+00, 1.4000e+00, 3.2300e+00, 8.8500e+00],\n",
      "        [4.3800e+01, 4.5290e+01, 7.8900e+00, 2.4300e+00, 5.5000e-01],\n",
      "        [5.8760e+01, 3.9810e+01, 7.5000e-01, 1.5000e-01, 5.3000e-01],\n",
      "        [4.8970e+01, 5.0340e+01, 4.0000e-02, 1.0000e-01, 5.6000e-01]],\n",
      "       dtype=torch.float64)\n"
     ]
    },
    {
     "name": "stderr",
     "output_type": "stream",
     "text": [
      " 40%|████      | 20/50 [07:00<10:05, 20.18s/it]"
     ]
    },
    {
     "name": "stdout",
     "output_type": "stream",
     "text": [
      "Iterations 59\n",
      "Maximizing with VGP\n",
      "Seed: 929\n",
      "Initial points: tensor([[91.1300,  1.9900,  1.9500,  2.2400,  2.6900],\n",
      "        [49.5100, 49.2400,  0.6200,  0.1200,  0.5600],\n",
      "        [46.5700, 48.9100,  3.0800,  1.1100,  0.3600],\n",
      "        [25.0000,  0.0000,  0.0000,  0.0000, 75.0000],\n",
      "        [60.1000, 38.3900,  0.5500,  0.1100,  0.8600]], dtype=torch.float64)\n"
     ]
    },
    {
     "name": "stderr",
     "output_type": "stream",
     "text": [
      " 42%|████▏     | 21/50 [07:23<10:11, 21.09s/it]"
     ]
    },
    {
     "name": "stdout",
     "output_type": "stream",
     "text": [
      "Iterations 74\n",
      "Maximizing with VGP\n",
      "Seed: 223\n",
      "Initial points: tensor([[88.4500,  3.5000,  1.8900,  1.9600,  4.2100],\n",
      "        [90.0000, 10.0000,  0.0000,  0.0000,  0.0000],\n",
      "        [42.3000, 45.0700,  4.4900,  5.2100,  3.0200],\n",
      "        [16.1500,  0.4600, 25.3800, 51.4200,  6.5500],\n",
      "        [80.2600,  0.5300, 12.0300,  5.4700,  1.7800]], dtype=torch.float64)\n"
     ]
    },
    {
     "name": "stderr",
     "output_type": "stream",
     "text": [
      " 44%|████▍     | 22/50 [07:42<09:32, 20.45s/it]"
     ]
    },
    {
     "name": "stdout",
     "output_type": "stream",
     "text": [
      "Iterations 58\n",
      "Maximizing with VGP\n",
      "Seed: 516\n",
      "Initial points: tensor([[44.6100, 47.5300,  2.0500,  3.1700,  2.5800],\n",
      "        [84.5500,  1.9300,  1.4000,  3.2300,  8.8500],\n",
      "        [82.9800,  8.0400,  4.7900,  2.5800,  1.5100],\n",
      "        [70.1400, 27.1800,  1.4500,  0.2700,  0.9700],\n",
      "        [45.8000, 47.2500,  3.2400,  2.7000,  1.1000]], dtype=torch.float64)\n"
     ]
    },
    {
     "name": "stderr",
     "output_type": "stream",
     "text": [
      " 46%|████▌     | 23/50 [07:59<08:43, 19.40s/it]"
     ]
    },
    {
     "name": "stdout",
     "output_type": "stream",
     "text": [
      "Iterations 54\n",
      "Maximizing with VGP\n",
      "Seed: 142\n",
      "Initial points: tensor([[4.9720e+01, 4.8060e+01, 1.1100e+00, 8.9000e-01, 2.3000e-01],\n",
      "        [6.8110e+01, 2.8690e+01, 8.9000e-01, 9.7000e-01, 1.3500e+00],\n",
      "        [6.0000e+01, 0.0000e+00, 0.0000e+00, 4.0000e+01, 0.0000e+00],\n",
      "        [4.1900e+01, 4.8610e+01, 3.7800e+00, 1.8700e+00, 3.8300e+00],\n",
      "        [7.3990e+01, 5.0000e-01, 2.5180e+01, 2.8000e-01, 4.0000e-02]],\n",
      "       dtype=torch.float64)\n"
     ]
    },
    {
     "name": "stderr",
     "output_type": "stream",
     "text": [
      " 48%|████▊     | 24/50 [08:29<09:45, 22.53s/it]"
     ]
    },
    {
     "name": "stdout",
     "output_type": "stream",
     "text": [
      "Iterations 85\n",
      "Maximizing with VGP\n",
      "Seed: 288\n",
      "Initial points: tensor([[5.1810e+01, 3.9100e+01, 5.1500e+00, 7.8000e-01, 3.1400e+00],\n",
      "        [6.9100e+01, 3.0830e+01, 4.0000e-02, 4.0000e-02, 4.0000e-02],\n",
      "        [4.7130e+01, 4.6950e+01, 4.2800e+00, 1.0800e+00, 5.7000e-01],\n",
      "        [5.5340e+01, 3.8120e+01, 6.2700e+00, 1.0000e-02, 2.6000e-01],\n",
      "        [4.0000e+01, 6.0000e+01, 0.0000e+00, 0.0000e+00, 0.0000e+00]],\n",
      "       dtype=torch.float64)\n"
     ]
    },
    {
     "name": "stderr",
     "output_type": "stream",
     "text": [
      " 50%|█████     | 25/50 [08:50<09:14, 22.19s/it]"
     ]
    },
    {
     "name": "stdout",
     "output_type": "stream",
     "text": [
      "Iterations 63\n",
      "Maximizing with VGP\n",
      "Seed: 143\n",
      "Initial points: tensor([[4.8680e+01, 3.9720e+01, 1.0970e+01, 5.8000e-01, 4.0000e-02],\n",
      "        [6.0340e+01, 2.6070e+01, 6.5000e+00, 2.3100e+00, 4.8700e+00],\n",
      "        [4.5580e+01, 4.9520e+01, 2.5900e+00, 4.9000e-01, 1.8900e+00],\n",
      "        [4.4300e+01, 5.4680e+01, 4.0000e-02, 2.9000e-01, 7.8000e-01],\n",
      "        [5.0740e+01, 4.1050e+01, 1.6500e+00, 4.6900e+00, 1.8700e+00]],\n",
      "       dtype=torch.float64)\n"
     ]
    },
    {
     "name": "stderr",
     "output_type": "stream",
     "text": [
      " 52%|█████▏    | 26/50 [09:04<07:53, 19.71s/it]"
     ]
    },
    {
     "name": "stdout",
     "output_type": "stream",
     "text": [
      "Iterations 43\n",
      "Maximizing with VGP\n",
      "Seed: 773\n",
      "Initial points: tensor([[47.2600, 44.4600,  7.3200,  0.6900,  0.2300],\n",
      "        [50.7000, 37.8800,  4.0500,  3.3700,  4.0500],\n",
      "        [60.0000, 40.0000,  0.0000,  0.0000,  0.0000],\n",
      "        [51.7300, 32.1200,  3.9200,  2.2900,  9.9600],\n",
      "        [34.0100, 38.9000,  0.7300, 12.6800, 13.6500]], dtype=torch.float64)\n"
     ]
    },
    {
     "name": "stderr",
     "output_type": "stream",
     "text": [
      " 54%|█████▍    | 27/50 [09:31<08:21, 21.81s/it]"
     ]
    },
    {
     "name": "stdout",
     "output_type": "stream",
     "text": [
      "Iterations 79\n",
      "Maximizing with VGP\n",
      "Seed: 97\n",
      "Initial points: tensor([[7.4310e+01, 3.9000e-01, 1.0000e-01, 2.5180e+01, 4.0000e-02],\n",
      "        [5.0350e+01, 4.0600e+01, 5.3700e+00, 2.4400e+00, 1.2600e+00],\n",
      "        [1.6880e+01, 1.2500e+00, 2.4960e+01, 4.9580e+01, 7.3200e+00],\n",
      "        [4.3110e+01, 5.3000e-01, 5.3450e+01, 5.1000e-01, 2.3600e+00],\n",
      "        [9.6270e+01, 2.7000e-01, 2.0200e+00, 8.5000e-01, 5.1000e-01]],\n",
      "       dtype=torch.float64)\n"
     ]
    },
    {
     "name": "stderr",
     "output_type": "stream",
     "text": [
      " 56%|█████▌    | 28/50 [10:03<09:08, 24.92s/it]"
     ]
    },
    {
     "name": "stdout",
     "output_type": "stream",
     "text": [
      "Iterations 95\n",
      "Maximizing with VGP\n",
      "Seed: 633\n",
      "Initial points: tensor([[3.8920e+01, 4.9280e+01, 9.0000e-02, 9.5000e-01, 1.0670e+01],\n",
      "        [1.8730e+01, 1.2800e+00, 4.7460e+01, 2.4640e+01, 7.9400e+00],\n",
      "        [9.0000e+01, 0.0000e+00, 0.0000e+00, 1.0000e+01, 0.0000e+00],\n",
      "        [4.8720e+01, 4.9780e+01, 4.5000e-01, 8.3000e-01, 2.3000e-01],\n",
      "        [9.1030e+01, 4.6000e-01, 1.9300e+00, 6.5900e+00, 4.0000e-02]],\n",
      "       dtype=torch.float64)\n"
     ]
    },
    {
     "name": "stderr",
     "output_type": "stream",
     "text": [
      " 58%|█████▊    | 29/50 [10:20<07:53, 22.54s/it]"
     ]
    },
    {
     "name": "stdout",
     "output_type": "stream",
     "text": [
      "Iterations 53\n",
      "Maximizing with VGP\n",
      "Seed: 818\n",
      "Initial points: tensor([[90.3100,  0.1800,  0.6200,  8.2500,  0.6500],\n",
      "        [84.0900,  1.8500,  0.6500,  2.3600, 11.1400],\n",
      "        [59.8200,  0.2300,  0.5000, 38.8900,  0.5500],\n",
      "        [82.2800,  2.4300,  2.9700,  3.5600,  8.7200],\n",
      "        [83.1700,  1.7200,  3.5400,  2.4300,  9.0700]], dtype=torch.float64)\n"
     ]
    },
    {
     "name": "stderr",
     "output_type": "stream",
     "text": [
      " 60%|██████    | 30/50 [10:38<07:06, 21.31s/it]"
     ]
    },
    {
     "name": "stdout",
     "output_type": "stream",
     "text": [
      "Iterations 62\n",
      "Maximizing with VGP\n",
      "Seed: 256\n",
      "Initial points: tensor([[48.7200, 49.7800,  0.4500,  0.8300,  0.2300],\n",
      "        [46.0500, 49.9000,  2.2200,  0.7700,  1.0900],\n",
      "        [90.4800,  4.8200,  2.6100,  0.5500,  1.5700],\n",
      "        [84.0900,  1.8500,  0.6500,  2.3600, 11.1400],\n",
      "        [40.0000, 60.0000,  0.0000,  0.0000,  0.0000]], dtype=torch.float64)\n"
     ]
    },
    {
     "name": "stderr",
     "output_type": "stream",
     "text": [
      " 62%|██████▏   | 31/50 [11:03<07:02, 22.24s/it]"
     ]
    },
    {
     "name": "stdout",
     "output_type": "stream",
     "text": [
      "Iterations 71\n",
      "Maximizing with VGP\n",
      "Seed: 931\n",
      "Initial points: tensor([[5.1835e+01, 4.3805e+01, 1.8800e+00, 1.3800e+00, 1.1300e+00],\n",
      "        [9.1130e+01, 1.9900e+00, 1.9500e+00, 2.2400e+00, 2.6900e+00],\n",
      "        [3.8380e+01, 4.8280e+01, 4.0000e-02, 5.7000e-01, 1.2710e+01],\n",
      "        [4.5000e+01, 0.0000e+00, 0.0000e+00, 5.5000e+01, 0.0000e+00],\n",
      "        [4.4890e+01, 4.7030e+01, 3.8100e+00, 1.1600e+00, 3.1000e+00]],\n",
      "       dtype=torch.float64)\n"
     ]
    },
    {
     "name": "stderr",
     "output_type": "stream",
     "text": [
      " 64%|██████▍   | 32/50 [11:27<06:51, 22.87s/it]"
     ]
    },
    {
     "name": "stdout",
     "output_type": "stream",
     "text": [
      "Iterations 74\n",
      "Maximizing with VGP\n",
      "Seed: 545\n",
      "Initial points: tensor([[60.0000,  0.0000,  0.0000, 40.0000,  0.0000],\n",
      "        [89.8000,  3.0100,  1.5900,  4.3600,  1.2300],\n",
      "        [41.2300, 49.0600,  3.4100,  6.1700,  0.1400],\n",
      "        [91.1300,  1.9900,  1.9500,  2.2400,  2.6900],\n",
      "        [45.1500, 42.2500,  7.8200,  1.9800,  2.8300]], dtype=torch.float64)\n"
     ]
    },
    {
     "name": "stderr",
     "output_type": "stream",
     "text": [
      " 66%|██████▌   | 33/50 [11:45<06:05, 21.48s/it]"
     ]
    },
    {
     "name": "stdout",
     "output_type": "stream",
     "text": [
      "Iterations 57\n",
      "Maximizing with VGP\n",
      "Seed: 722\n",
      "Initial points: tensor([[4.8620e+01, 5.0350e+01, 4.9000e-01, 5.3000e-01, 4.0000e-02],\n",
      "        [3.0000e+01, 0.0000e+00, 0.0000e+00, 7.0000e+01, 0.0000e+00],\n",
      "        [4.3170e+01, 3.4010e+01, 3.8900e+00, 2.0400e+00, 1.6960e+01],\n",
      "        [5.4480e+01, 6.5000e-01, 5.3000e-01, 4.6000e-01, 4.3890e+01],\n",
      "        [8.4600e+01, 7.5600e+00, 4.0000e-02, 7.8300e+00, 6.0000e-02]],\n",
      "       dtype=torch.float64)\n"
     ]
    },
    {
     "name": "stderr",
     "output_type": "stream",
     "text": [
      " 68%|██████▊   | 34/50 [12:05<05:36, 21.03s/it]"
     ]
    },
    {
     "name": "stdout",
     "output_type": "stream",
     "text": [
      "Iterations 64\n",
      "Maximizing with VGP\n",
      "Seed: 829\n",
      "Initial points: tensor([[5.0000e+01, 5.0000e+01, 0.0000e+00, 0.0000e+00, 0.0000e+00],\n",
      "        [4.4800e+01, 3.7400e+01, 6.8100e+00, 5.8300e+00, 5.1800e+00],\n",
      "        [4.4010e+01, 9.0000e-02, 9.0000e-01, 5.4710e+01, 3.0000e-01],\n",
      "        [9.1130e+01, 1.9900e+00, 1.9500e+00, 2.2400e+00, 2.6900e+00],\n",
      "        [4.8620e+01, 5.0350e+01, 4.9000e-01, 5.3000e-01, 4.0000e-02]],\n",
      "       dtype=torch.float64)\n"
     ]
    },
    {
     "name": "stderr",
     "output_type": "stream",
     "text": [
      " 70%|███████   | 35/50 [12:22<04:56, 19.77s/it]"
     ]
    },
    {
     "name": "stdout",
     "output_type": "stream",
     "text": [
      "Iterations 51\n",
      "Maximizing with VGP\n",
      "Seed: 616\n",
      "Initial points: tensor([[8.4230e+01, 1.0600e+00, 1.1300e+00, 4.3400e+00, 9.1500e+00],\n",
      "        [4.3110e+01, 5.3000e-01, 5.3450e+01, 5.1000e-01, 2.3600e+00],\n",
      "        [4.4610e+01, 4.7530e+01, 2.0500e+00, 3.1700e+00, 2.5800e+00],\n",
      "        [4.3610e+01, 4.9290e+01, 2.8800e+00, 4.2200e+00, 4.0000e-02],\n",
      "        [4.5210e+01, 4.9390e+01, 3.5900e+00, 1.4500e+00, 4.1000e-01]],\n",
      "       dtype=torch.float64)\n"
     ]
    },
    {
     "name": "stderr",
     "output_type": "stream",
     "text": [
      " 72%|███████▏  | 36/50 [12:46<04:52, 20.88s/it]"
     ]
    },
    {
     "name": "stdout",
     "output_type": "stream",
     "text": [
      "Iterations 70\n",
      "Maximizing with VGP\n",
      "Seed: 923\n",
      "Initial points: tensor([[89.5500,  5.7200,  0.8300,  1.8000,  2.1000],\n",
      "        [46.4400, 49.2300,  1.6600,  1.7000,  1.0600],\n",
      "        [90.0000, 10.0000,  0.0000,  0.0000,  0.0000],\n",
      "        [40.0000, 60.0000,  0.0000,  0.0000,  0.0000],\n",
      "        [88.4500,  3.5000,  1.8900,  1.9600,  4.2100]], dtype=torch.float64)\n"
     ]
    },
    {
     "name": "stderr",
     "output_type": "stream",
     "text": [
      " 74%|███████▍  | 37/50 [13:07<04:32, 20.98s/it]"
     ]
    },
    {
     "name": "stdout",
     "output_type": "stream",
     "text": [
      "Iterations 67\n",
      "Maximizing with VGP\n",
      "Seed: 150\n",
      "Initial points: tensor([[8.5380e+01, 1.6600e+00, 1.4500e+00, 1.1000e+00, 1.0480e+01],\n",
      "        [4.8620e+01, 5.0350e+01, 4.9000e-01, 5.3000e-01, 4.0000e-02],\n",
      "        [4.3610e+01, 4.9290e+01, 2.8800e+00, 4.2200e+00, 4.0000e-02],\n",
      "        [1.8670e+01, 2.7000e-01, 4.7090e+01, 2.4030e+01, 9.9900e+00],\n",
      "        [4.3830e+01, 3.6370e+01, 9.9000e-01, 2.4400e+00, 1.6400e+01]],\n",
      "       dtype=torch.float64)\n"
     ]
    },
    {
     "name": "stderr",
     "output_type": "stream",
     "text": [
      " 76%|███████▌  | 38/50 [13:24<03:57, 19.80s/it]"
     ]
    },
    {
     "name": "stdout",
     "output_type": "stream",
     "text": [
      "Iterations 56\n",
      "Maximizing with VGP\n",
      "Seed: 317\n",
      "Initial points: tensor([[4.3610e+01, 4.9290e+01, 2.8800e+00, 4.2200e+00, 4.0000e-02],\n",
      "        [3.4010e+01, 3.8900e+01, 7.3000e-01, 1.2680e+01, 1.3650e+01],\n",
      "        [4.6690e+01, 3.7390e+01, 4.0000e-02, 1.8600e+00, 1.4050e+01],\n",
      "        [3.8330e+01, 4.3600e+01, 1.0000e-01, 3.6300e+00, 1.4300e+01],\n",
      "        [4.4890e+01, 4.7030e+01, 3.8100e+00, 1.1600e+00, 3.1000e+00]],\n",
      "       dtype=torch.float64)\n"
     ]
    },
    {
     "name": "stderr",
     "output_type": "stream",
     "text": [
      " 78%|███████▊  | 39/50 [13:46<03:44, 20.40s/it]"
     ]
    },
    {
     "name": "stdout",
     "output_type": "stream",
     "text": [
      "Iterations 67\n",
      "Maximizing with VGP\n",
      "Seed: 101\n",
      "Initial points: tensor([[89.8000,  3.0100,  1.5900,  4.3600,  1.2300],\n",
      "        [86.6000,  1.1000,  0.2800,  2.4200,  9.5400],\n",
      "        [38.3300, 43.6000,  0.1000,  3.6300, 14.3000],\n",
      "        [42.3300, 51.8300,  2.7500,  2.8700,  0.3200],\n",
      "        [90.3100,  0.1800,  0.6200,  8.2500,  0.6500]], dtype=torch.float64)\n"
     ]
    },
    {
     "name": "stderr",
     "output_type": "stream",
     "text": [
      " 80%|████████  | 40/50 [14:15<03:49, 22.99s/it]"
     ]
    },
    {
     "name": "stdout",
     "output_type": "stream",
     "text": [
      "Iterations 85\n",
      "Maximizing with VGP\n",
      "Seed: 747\n",
      "Initial points: tensor([[30.0000,  0.0000, 70.0000,  0.0000,  0.0000],\n",
      "        [19.1500,  1.5900, 48.4000, 23.3300,  7.5700],\n",
      "        [44.5700, 48.4700,  2.9300,  1.6000,  2.4000],\n",
      "        [49.5100, 49.2400,  0.6200,  0.1200,  0.5600],\n",
      "        [60.3400, 26.0700,  6.5000,  2.3100,  4.8700]], dtype=torch.float64)\n"
     ]
    },
    {
     "name": "stderr",
     "output_type": "stream",
     "text": [
      " 82%|████████▏ | 41/50 [14:41<03:34, 23.81s/it]"
     ]
    },
    {
     "name": "stdout",
     "output_type": "stream",
     "text": [
      "Iterations 77\n",
      "Maximizing with VGP\n",
      "Seed: 75\n",
      "Initial points: tensor([[4.0000e+01, 6.0000e+01, 0.0000e+00, 0.0000e+00, 0.0000e+00],\n",
      "        [8.3170e+01, 1.7200e+00, 3.5400e+00, 2.4300e+00, 9.0700e+00],\n",
      "        [4.6860e+01, 4.3740e+01, 5.0800e+00, 7.8000e-01, 3.6100e+00],\n",
      "        [5.0650e+01, 4.4590e+01, 4.0600e+00, 4.0000e-02, 6.9000e-01],\n",
      "        [4.5600e+01, 4.6500e+01, 1.6700e+00, 3.9600e+00, 2.2600e+00]],\n",
      "       dtype=torch.float64)\n"
     ]
    },
    {
     "name": "stderr",
     "output_type": "stream",
     "text": [
      " 84%|████████▍ | 42/50 [15:08<03:19, 24.99s/it]"
     ]
    },
    {
     "name": "stdout",
     "output_type": "stream",
     "text": [
      "Iterations 82\n",
      "Maximizing with VGP\n",
      "Seed: 920\n",
      "Initial points: tensor([[7.4310e+01, 3.9000e-01, 1.0000e-01, 2.5180e+01, 4.0000e-02],\n",
      "        [4.8620e+01, 5.0350e+01, 4.9000e-01, 5.3000e-01, 4.0000e-02],\n",
      "        [4.0000e+01, 6.0000e+01, 0.0000e+00, 0.0000e+00, 0.0000e+00],\n",
      "        [4.8970e+01, 5.0340e+01, 4.0000e-02, 1.0000e-01, 5.6000e-01],\n",
      "        [4.6050e+01, 4.9900e+01, 2.2200e+00, 7.7000e-01, 1.0900e+00]],\n",
      "       dtype=torch.float64)\n"
     ]
    },
    {
     "name": "stderr",
     "output_type": "stream",
     "text": [
      " 86%|████████▌ | 43/50 [15:25<02:37, 22.54s/it]"
     ]
    },
    {
     "name": "stdout",
     "output_type": "stream",
     "text": [
      "Iterations 52\n",
      "Maximizing with VGP\n",
      "Seed: 870\n",
      "Initial points: tensor([[6.9100e+01, 3.0830e+01, 4.0000e-02, 4.0000e-02, 4.0000e-02],\n",
      "        [3.9050e+01, 4.1850e+01, 5.7500e+00, 4.0400e+00, 9.4000e+00],\n",
      "        [9.0300e+01, 2.0000e-01, 7.8900e+00, 7.9000e-01, 8.9000e-01],\n",
      "        [4.8720e+01, 4.9780e+01, 4.5000e-01, 8.3000e-01, 2.3000e-01],\n",
      "        [7.4190e+01, 7.0000e-02, 2.4760e+01, 1.7000e-01, 8.0000e-01]],\n",
      "       dtype=torch.float64)\n"
     ]
    },
    {
     "name": "stderr",
     "output_type": "stream",
     "text": [
      " 88%|████████▊ | 44/50 [15:41<02:02, 20.45s/it]"
     ]
    },
    {
     "name": "stdout",
     "output_type": "stream",
     "text": [
      "Iterations 52\n",
      "Maximizing with VGP\n",
      "Seed: 700\n",
      "Initial points: tensor([[18.6700,  0.2700, 47.0900, 24.0300,  9.9900],\n",
      "        [38.2900, 47.3700,  0.9500,  0.6000, 12.8700],\n",
      "        [96.2700,  0.2700,  2.0200,  0.8500,  0.5100],\n",
      "        [50.7000, 37.8800,  4.0500,  3.3700,  4.0500],\n",
      "        [50.3500, 40.6000,  5.3700,  2.4400,  1.2600]], dtype=torch.float64)\n"
     ]
    },
    {
     "name": "stderr",
     "output_type": "stream",
     "text": [
      " 90%|█████████ | 45/50 [16:06<01:48, 21.78s/it]"
     ]
    },
    {
     "name": "stdout",
     "output_type": "stream",
     "text": [
      "Iterations 77\n",
      "Maximizing with VGP\n",
      "Seed: 338\n",
      "Initial points: tensor([[46.8600, 43.7400,  5.0800,  0.7800,  3.6100],\n",
      "        [45.6400, 48.8600,  2.6400,  1.7800,  1.0900],\n",
      "        [34.0100, 38.9000,  0.7300, 12.6800, 13.6500],\n",
      "        [46.5700, 48.9100,  3.0800,  1.1100,  0.3600],\n",
      "        [74.8800,  0.0800,  2.0200, 22.0100,  1.0300]], dtype=torch.float64)\n"
     ]
    },
    {
     "name": "stderr",
     "output_type": "stream",
     "text": [
      " 92%|█████████▏| 46/50 [16:22<01:21, 20.32s/it]"
     ]
    },
    {
     "name": "stdout",
     "output_type": "stream",
     "text": [
      "Iterations 52\n",
      "Maximizing with VGP\n",
      "Seed: 483\n",
      "Initial points: tensor([[4.0670e+01, 5.9260e+01, 4.0000e-02, 4.0000e-02, 7.0000e-02],\n",
      "        [5.3990e+01, 4.4580e+01, 4.0000e-02, 5.4000e-01, 8.9000e-01],\n",
      "        [6.0000e+01, 0.0000e+00, 0.0000e+00, 4.0000e+01, 0.0000e+00],\n",
      "        [8.9800e+01, 3.0100e+00, 1.5900e+00, 4.3600e+00, 1.2300e+00],\n",
      "        [4.0670e+01, 5.9260e+01, 4.0000e-02, 4.0000e-02, 7.0000e-02]],\n",
      "       dtype=torch.float64)\n"
     ]
    },
    {
     "name": "stderr",
     "output_type": "stream",
     "text": [
      " 94%|█████████▍| 47/50 [16:47<01:05, 21.67s/it]"
     ]
    },
    {
     "name": "stdout",
     "output_type": "stream",
     "text": [
      "Iterations 77\n",
      "Maximizing with VGP\n",
      "Seed: 573\n",
      "Initial points: tensor([[39.0500, 41.8500,  5.7500,  4.0400,  9.4000],\n",
      "        [50.7400, 41.0500,  1.6500,  4.6900,  1.8700],\n",
      "        [49.5100, 49.2400,  0.6200,  0.1200,  0.5600],\n",
      "        [40.0000, 60.0000,  0.0000,  0.0000,  0.0000],\n",
      "        [18.7300,  1.2800, 47.4600, 24.6400,  7.9400]], dtype=torch.float64)\n"
     ]
    },
    {
     "name": "stderr",
     "output_type": "stream",
     "text": [
      " 96%|█████████▌| 48/50 [17:06<00:41, 20.66s/it]"
     ]
    },
    {
     "name": "stdout",
     "output_type": "stream",
     "text": [
      "Iterations 53\n",
      "Maximizing with VGP\n",
      "Seed: 103\n",
      "Initial points: tensor([[3.8330e+01, 4.3600e+01, 1.0000e-01, 3.6300e+00, 1.4300e+01],\n",
      "        [1.9130e+01, 4.0000e-01, 4.6860e+01, 2.5410e+01, 8.2500e+00],\n",
      "        [7.4880e+01, 8.0000e-02, 2.0200e+00, 2.2010e+01, 1.0300e+00],\n",
      "        [6.7100e+01, 3.0150e+01, 7.2000e-01, 4.0000e-02, 1.9500e+00],\n",
      "        [4.7200e+01, 4.9490e+01, 2.0100e+00, 3.1000e-01, 1.0100e+00]],\n",
      "       dtype=torch.float64)\n"
     ]
    },
    {
     "name": "stderr",
     "output_type": "stream",
     "text": [
      " 98%|█████████▊| 49/50 [17:32<00:22, 22.40s/it]"
     ]
    },
    {
     "name": "stdout",
     "output_type": "stream",
     "text": [
      "Iterations 75\n",
      "Maximizing with VGP\n",
      "Seed: 362\n",
      "Initial points: tensor([[9.6270e+01, 2.7000e-01, 2.0200e+00, 8.5000e-01, 5.1000e-01],\n",
      "        [6.9100e+01, 3.0830e+01, 4.0000e-02, 4.0000e-02, 4.0000e-02],\n",
      "        [3.7290e+01, 4.3200e+01, 2.7700e+00, 1.8100e+00, 1.4940e+01],\n",
      "        [4.8330e+01, 5.0130e+01, 1.3200e+00, 2.2000e-01, 4.0000e-02],\n",
      "        [4.5000e+01, 0.0000e+00, 5.5000e+01, 0.0000e+00, 0.0000e+00]],\n",
      "       dtype=torch.float64)\n"
     ]
    },
    {
     "name": "stderr",
     "output_type": "stream",
     "text": [
      "100%|██████████| 50/50 [17:46<00:00, 21.33s/it]"
     ]
    },
    {
     "name": "stdout",
     "output_type": "stream",
     "text": [
      "Iterations 45\n"
     ]
    },
    {
     "name": "stderr",
     "output_type": "stream",
     "text": [
      "\n"
     ]
    },
    {
     "data": {
      "image/png": "[encoded data removed]",
      "text/plain": [
       "<Figure size 800x600 with 1 Axes>"
      ]
     },
     "metadata": {},
     "output_type": "display_data"
    }
   ],
   "source": [
    "for element in maxDatasets:\n",
    "\n",
    "    print(f\"Starting {element}\")\n",
    "\n",
    "    dataset = element\n",
    "    \n",
    "    data = pd.read_csv(f\"datasets\\{dataset}_dataset.csv\")\n",
    "    data = data.groupby(data.columns[-1]).mean().reset_index()\n",
    "    train_x = torch.tensor(data.iloc[:, 1:].values)\n",
    "    train_y = torch.tensor(data.iloc[:, 0].values).unsqueeze(1) \n",
    "\n",
    "    N = len(train_x)\n",
    "\n",
    "    # We are using prededfined candidates, so we can scale at the start\n",
    "    TorchStd = TorchStandardScaler()\n",
    "    TorchStd.fit(train_x)\n",
    "    \n",
    "    set_seeds(0)\n",
    "\n",
    "    print(f\"Number of samples: {N}\")\n",
    "    \n",
    "    n_top = int(math.ceil(N * 0.05))\n",
    "\n",
    "    # find the top 5% of the samples\n",
    "    train_y_df = pd.DataFrame(train_y.numpy(), columns=[0])\n",
    "    top_samples = train_y_df.nlargest(n_top, train_y_df.columns[0], keep='first').iloc[:, 0].values.tolist()\n",
    "    print(f\"Number of of top 5% samples: {len(top_samples)}\")\n",
    "    print(f\"Top 5% samples: {top_samples}\")\n",
    "\n",
    "    def TopSamplesAmnt(y, top_samples):\n",
    "        return len([i for i in y if i in top_samples]) / len(top_samples)\n",
    "\n",
    "    # Generate a list of seeds randomly picked from the range 0-1000 equal to the number of campaigns without repeating\n",
    "    seedList = random.sample(range(1000), campaigns)\n",
    "\n",
    "    for i in trange(len(seedList)):\n",
    "        globals()['topEGP' + str(i)], globals()['iterationEGP' + str(i)] = runMaxEGP(seedList[i])\n",
    "            \n",
    "    for i in trange(len(seedList)):\n",
    "        globals()['topSTP' + str(i)], globals()['iterationSTP' + str(i)] = runMaxSTP(seedList[i])\n",
    "\n",
    "    for i in trange(len(seedList)):\n",
    "        globals()['topVGP' + str(i)], globals()['iterationVGP' + str(i)] = runMaxVGP(seedList[i])\n",
    "\n",
    "\n",
    "    num_arrays = len(seedList)  \n",
    "    # Function to dynamically collect arrays\n",
    "    def collect_arrays(prefix, num_arrays):\n",
    "        arrays = []\n",
    "        for i in range(num_arrays):\n",
    "            array = globals().get(f'{prefix}{i}', None)\n",
    "            if array is not None:\n",
    "                arrays.append(array)\n",
    "        return arrays\n",
    "\n",
    "    # Function to pad arrays with the last element to match the maximum length\n",
    "    def pad_array(array, max_length):\n",
    "        return np.pad(array, (0, max_length - len(array)), 'constant', constant_values=array[-1])\n",
    "\n",
    "    def find_max_length(prefix, num_arrays):\n",
    "        arrays = collect_arrays(prefix, num_arrays)\n",
    "        return max(len(arr) for arr in arrays)\n",
    "\n",
    "    # Process arrays for each type\n",
    "    def process_arrays(prefix, num_arrays, max_length):\n",
    "        arrays = collect_arrays(prefix, num_arrays)\n",
    "        padded_arrays = [pad_array(arr, max_length) for arr in arrays]\n",
    "        stack = np.stack(padded_arrays)\n",
    "        mean_values = np.mean(stack, axis=0)\n",
    "        std_values = np.std(stack, axis=0)\n",
    "        return mean_values, std_values\n",
    "\n",
    "    # Process arrays for STP, EGP, and VGP\n",
    "    max_length_STP = find_max_length('topSTP', num_arrays)\n",
    "    max_length_EGP = find_max_length('topEGP', num_arrays)\n",
    "    max_length_VGP = find_max_length('topVGP', num_arrays)\n",
    "    max_length = max(max_length_STP, max_length_EGP, max_length_VGP)\n",
    "    mean_topSTP, std_valuesSTP = process_arrays('topSTP', num_arrays, max_length)\n",
    "    mean_topEGP, std_valuesEGP = process_arrays('topEGP', num_arrays, max_length)\n",
    "    mean_topVGP, std_valuesVGP = process_arrays('topVGP', num_arrays, max_length)\n",
    "\n",
    "    # Ensure that the number of iterations matches the longest array length\n",
    "    max_length = max(max_length_STP, max_length_EGP, max_length_VGP)\n",
    "    iterations = np.arange(1, max_length + 1)\n",
    "\n",
    "\n",
    "\n",
    "    sns.set(style=\"whitegrid\")\n",
    "    # Plot the mean and fill between the min and max for each type\n",
    "    plt.figure(figsize=(8, 6))\n",
    "\n",
    "    # Plot for STP\n",
    "    sns.lineplot(x=iterations, y=mean_topSTP, label='Mean STP', color='blue', linewidth=2)\n",
    "    plt.fill_between(iterations, mean_topSTP - std_valuesSTP, mean_topSTP + std_valuesSTP, label='STP Standard Deviation', color='blue', alpha=0.1)\n",
    "\n",
    "    # Plot for EGP\n",
    "    sns.lineplot(x=iterations, y=mean_topEGP, label='Mean EGP', color='orange', linewidth=2)\n",
    "    plt.fill_between(iterations, mean_topEGP - std_valuesEGP, mean_topEGP + std_valuesEGP, label='EGP Standard Deviation', color='orange', alpha=0.1)\n",
    "\n",
    "    # Plot for VGP\n",
    "    plt.plot(iterations, mean_topVGP, label='Mean VGP', color='green', linewidth=2)\n",
    "    plt.fill_between(iterations, mean_topVGP - std_valuesVGP, mean_topVGP + std_valuesVGP, label='VGP Standard Deviation', color='green', alpha=0.1)\n",
    "\n",
    "    plt.xlabel('Number of Iterations', fontsize=12)\n",
    "    plt.ylabel('Percentage of Top 5% Samples Found', fontsize=12)\n",
    "    plt.title(f'Average Percentage of Top Samples from the {dataset} Dataset \\n Found Over {num_arrays} Campaigns Using UCB', fontsize=14)\n",
    "    plt.legend(fontsize=10, loc='upper left')\n",
    "\n",
    "    # Customize ticks\n",
    "    plt.xticks(fontsize=10)\n",
    "    plt.yticks(fontsize=10)\n",
    "\n",
    "    # Adjust axis limits and aspect ratio if needed\n",
    "    plt.ylim(0, 100)\n",
    "    plt.xlim(1, max_length)\n",
    "\n",
    "\n",
    "    # save the plot \n",
    "    plt.savefig(f\"UCB{dataset}{campaigns}CampaignsMax\")\n",
    "    plt.show()\n"
   ]
  },
  {
   "cell_type": "markdown",
   "metadata": {},
   "source": [
    "# Minimize Test"
   ]
  },
  {
   "cell_type": "code",
   "execution_count": 59,
   "metadata": {},
   "outputs": [
    {
     "name": "stderr",
     "output_type": "stream",
     "text": [
      "<string>:7: SyntaxWarning: invalid escape sequence '\\{'\n",
      "<>:7: SyntaxWarning: invalid escape sequence '\\{'\n",
      "<string>:7: SyntaxWarning: invalid escape sequence '\\{'\n",
      "<>:7: SyntaxWarning: invalid escape sequence '\\{'\n",
      "C:\\Users\\stan\\AppData\\Local\\Temp\\ipykernel_35956\\2179347115.py:7: SyntaxWarning: invalid escape sequence '\\{'\n",
      "  data = pd.read_csv(f\"datasets\\{dataset}_dataset.csv\")\n"
     ]
    },
    {
     "name": "stdout",
     "output_type": "stream",
     "text": [
      "Starting Perovskite\n",
      "Number of of top 5% samples: 7\n",
      "Top 5% samples: [23707.0, 24723.0, 26197.0, 27122.0, 38370.0, 38893.0, 40621.0]\n"
     ]
    },
    {
     "name": "stderr",
     "output_type": "stream",
     "text": [
      "  0%|          | 0/50 [00:00<?, ?it/s]"
     ]
    },
    {
     "name": "stdout",
     "output_type": "stream",
     "text": [
      "Minimizing with STP\n",
      "Seed: 864\n",
      "Initial points: tensor([[0.0000, 0.0000, 1.0000],\n",
      "        [0.0900, 0.8700, 0.0400],\n",
      "        [0.2500, 0.7000, 0.0600],\n",
      "        [0.0500, 0.7885, 0.1615],\n",
      "        [0.7500, 0.2500, 0.0000]])\n"
     ]
    },
    {
     "name": "stderr",
     "output_type": "stream",
     "text": [
      "  2%|▏         | 1/50 [00:56<46:13, 56.60s/it]"
     ]
    },
    {
     "name": "stdout",
     "output_type": "stream",
     "text": [
      "Iterations 81\n",
      "Minimizing with STP\n",
      "Seed: 394\n",
      "Initial points: tensor([[0.2000, 0.6900, 0.1100],\n",
      "        [0.7500, 0.0000, 0.2500],\n",
      "        [0.2700, 0.3400, 0.4000],\n",
      "        [0.1300, 0.7900, 0.0800],\n",
      "        [0.2500, 0.7000, 0.0600]])\n"
     ]
    },
    {
     "name": "stderr",
     "output_type": "stream",
     "text": [
      "  4%|▍         | 2/50 [01:36<37:21, 46.70s/it]"
     ]
    },
    {
     "name": "stdout",
     "output_type": "stream",
     "text": [
      "Iterations 59\n",
      "Minimizing with STP\n",
      "Seed: 776\n",
      "Initial points: tensor([[0.2500, 0.2500, 0.5000],\n",
      "        [0.8900, 0.0000, 0.1100],\n",
      "        [0.9600, 0.0400, 0.0000],\n",
      "        [0.1300, 0.7900, 0.0800],\n",
      "        [0.1800, 0.7800, 0.0400]])\n"
     ]
    },
    {
     "name": "stderr",
     "output_type": "stream",
     "text": [
      "  6%|▌         | 3/50 [02:11<32:27, 41.44s/it]"
     ]
    },
    {
     "name": "stdout",
     "output_type": "stream",
     "text": [
      "Iterations 53\n",
      "Minimizing with STP\n",
      "Seed: 911\n",
      "Initial points: tensor([[0.2000, 0.6900, 0.1100],\n",
      "        [0.0900, 0.8700, 0.0400],\n",
      "        [0.8400, 0.0000, 0.1600],\n",
      "        [0.1600, 0.8400, 0.0000],\n",
      "        [0.1800, 0.7800, 0.0400]])\n"
     ]
    },
    {
     "name": "stderr",
     "output_type": "stream",
     "text": [
      "  8%|▊         | 4/50 [02:52<31:42, 41.35s/it]"
     ]
    },
    {
     "name": "stdout",
     "output_type": "stream",
     "text": [
      "Iterations 60\n",
      "Minimizing with STP\n",
      "Seed: 430\n",
      "Initial points: tensor([[0.0000, 0.2500, 0.7500],\n",
      "        [0.5000, 0.2500, 0.2500],\n",
      "        [0.1800, 0.7800, 0.0400],\n",
      "        [0.7800, 0.0900, 0.1300],\n",
      "        [0.7100, 0.0100, 0.2800]])\n"
     ]
    },
    {
     "name": "stderr",
     "output_type": "stream",
     "text": [
      " 10%|█         | 5/50 [03:46<34:24, 45.89s/it]"
     ]
    },
    {
     "name": "stdout",
     "output_type": "stream",
     "text": [
      "Iterations 78\n",
      "Minimizing with STP\n",
      "Seed: 41\n",
      "Initial points: tensor([[0.1700, 0.8000, 0.0300],\n",
      "        [0.7500, 0.0000, 0.2500],\n",
      "        [0.2600, 0.3700, 0.3600],\n",
      "        [0.7100, 0.0100, 0.2800],\n",
      "        [0.2700, 0.3400, 0.4000]])\n"
     ]
    },
    {
     "name": "stderr",
     "output_type": "stream",
     "text": [
      " 12%|█▏        | 6/50 [04:21<30:56, 42.18s/it]"
     ]
    },
    {
     "name": "stdout",
     "output_type": "stream",
     "text": [
      "Iterations 52\n",
      "Minimizing with STP\n",
      "Seed: 265\n",
      "Initial points: tensor([[0.9100, 0.0100, 0.0800],\n",
      "        [0.5000, 0.0000, 0.5000],\n",
      "        [0.2800, 0.6500, 0.0700],\n",
      "        [0.3500, 0.6500, 0.0000],\n",
      "        [0.0900, 0.8500, 0.0600]])\n"
     ]
    },
    {
     "name": "stderr",
     "output_type": "stream",
     "text": [
      " 14%|█▍        | 7/50 [05:06<30:57, 43.20s/it]"
     ]
    },
    {
     "name": "stdout",
     "output_type": "stream",
     "text": [
      "Iterations 67\n",
      "Minimizing with STP\n",
      "Seed: 988\n",
      "Initial points: tensor([[0.7600, 0.2400, 0.0000],\n",
      "        [0.8900, 0.0000, 0.1100],\n",
      "        [0.1600, 0.7000, 0.1400],\n",
      "        [0.5000, 0.0000, 0.5000],\n",
      "        [0.1300, 0.8500, 0.0200]])\n"
     ]
    },
    {
     "name": "stderr",
     "output_type": "stream",
     "text": [
      " 16%|█▌        | 8/50 [05:50<30:22, 43.39s/it]"
     ]
    },
    {
     "name": "stdout",
     "output_type": "stream",
     "text": [
      "Iterations 65\n",
      "Minimizing with STP\n",
      "Seed: 523\n",
      "Initial points: tensor([[0.2800, 0.6500, 0.0700],\n",
      "        [0.6300, 0.3700, 0.0000],\n",
      "        [0.0500, 0.7885, 0.1615],\n",
      "        [0.8900, 0.0000, 0.1100],\n",
      "        [0.1300, 0.8700, 0.0000]])\n"
     ]
    },
    {
     "name": "stderr",
     "output_type": "stream",
     "text": [
      " 18%|█▊        | 9/50 [06:22<27:11, 39.79s/it]"
     ]
    },
    {
     "name": "stdout",
     "output_type": "stream",
     "text": [
      "Iterations 59\n",
      "Minimizing with STP\n",
      "Seed: 497\n",
      "Initial points: tensor([[0.8900, 0.0000, 0.1100],\n",
      "        [0.1600, 0.7500, 0.0900],\n",
      "        [0.2500, 0.7100, 0.0400],\n",
      "        [0.0000, 0.2500, 0.7500],\n",
      "        [0.1300, 0.7900, 0.0800]])\n"
     ]
    },
    {
     "name": "stderr",
     "output_type": "stream",
     "text": [
      " 20%|██        | 10/50 [07:05<27:11, 40.78s/it]"
     ]
    },
    {
     "name": "stdout",
     "output_type": "stream",
     "text": [
      "Iterations 79\n",
      "Minimizing with STP\n",
      "Seed: 414\n",
      "Initial points: tensor([[0.2500, 0.7500, 0.0000],\n",
      "        [0.0000, 0.2500, 0.7500],\n",
      "        [0.1600, 0.7500, 0.0900],\n",
      "        [0.5900, 0.4100, 0.0000],\n",
      "        [0.0000, 1.0000, 0.0000]])\n"
     ]
    },
    {
     "name": "stderr",
     "output_type": "stream",
     "text": [
      " 22%|██▏       | 11/50 [07:43<25:53, 39.85s/it]"
     ]
    },
    {
     "name": "stdout",
     "output_type": "stream",
     "text": [
      "Iterations 70\n",
      "Minimizing with STP\n",
      "Seed: 940\n",
      "Initial points: tensor([[0.1000, 0.8900, 0.0100],\n",
      "        [0.4300, 0.5700, 0.0000],\n",
      "        [0.0000, 0.2500, 0.7500],\n",
      "        [0.0000, 0.0000, 1.0000],\n",
      "        [0.2200, 0.7200, 0.0600]])\n"
     ]
    },
    {
     "name": "stderr",
     "output_type": "stream",
     "text": [
      " 24%|██▍       | 12/50 [08:13<23:20, 36.84s/it]"
     ]
    },
    {
     "name": "stdout",
     "output_type": "stream",
     "text": [
      "Iterations 57\n",
      "Minimizing with STP\n",
      "Seed: 802\n",
      "Initial points: tensor([[0.0000, 0.5000, 0.5000],\n",
      "        [0.2500, 0.7000, 0.0600],\n",
      "        [0.2800, 0.3700, 0.3500],\n",
      "        [0.0500, 0.7885, 0.1615],\n",
      "        [0.3700, 0.6300, 0.0000]])\n"
     ]
    },
    {
     "name": "stderr",
     "output_type": "stream",
     "text": [
      " 26%|██▌       | 13/50 [08:43<21:26, 34.77s/it]"
     ]
    },
    {
     "name": "stdout",
     "output_type": "stream",
     "text": [
      "Iterations 56\n",
      "Minimizing with STP\n",
      "Seed: 849\n",
      "Initial points: tensor([[0.0000, 0.2500, 0.7500],\n",
      "        [0.8100, 0.0000, 0.1900],\n",
      "        [0.8300, 0.0000, 0.1700],\n",
      "        [0.6600, 0.2400, 0.1000],\n",
      "        [0.4400, 0.5500, 0.0100]])\n"
     ]
    },
    {
     "name": "stderr",
     "output_type": "stream",
     "text": [
      " 28%|██▊       | 14/50 [09:17<20:41, 34.48s/it]"
     ]
    },
    {
     "name": "stdout",
     "output_type": "stream",
     "text": [
      "Iterations 64\n",
      "Minimizing with STP\n",
      "Seed: 310\n",
      "Initial points: tensor([[0.3200, 0.6700, 0.0100],\n",
      "        [0.0000, 0.0000, 1.0000],\n",
      "        [0.2200, 0.7800, 0.0000],\n",
      "        [0.6900, 0.3100, 0.0000],\n",
      "        [0.1400, 0.8400, 0.0200]])\n"
     ]
    },
    {
     "name": "stderr",
     "output_type": "stream",
     "text": [
      " 30%|███       | 15/50 [10:00<21:45, 37.29s/it]"
     ]
    },
    {
     "name": "stdout",
     "output_type": "stream",
     "text": [
      "Iterations 81\n",
      "Minimizing with STP\n",
      "Seed: 991\n",
      "Initial points: tensor([[0.5000, 0.0000, 0.5000],\n",
      "        [0.1300, 0.7900, 0.0800],\n",
      "        [0.7500, 0.0000, 0.2500],\n",
      "        [0.2500, 0.2500, 0.5000],\n",
      "        [0.0500, 0.7885, 0.1615]])\n"
     ]
    },
    {
     "name": "stderr",
     "output_type": "stream",
     "text": [
      " 32%|███▏      | 16/50 [10:32<20:04, 35.42s/it]"
     ]
    },
    {
     "name": "stdout",
     "output_type": "stream",
     "text": [
      "Iterations 58\n",
      "Minimizing with STP\n",
      "Seed: 488\n",
      "Initial points: tensor([[0.3400, 0.6400, 0.0200],\n",
      "        [0.2500, 0.2500, 0.5000],\n",
      "        [0.2500, 0.7000, 0.0600],\n",
      "        [0.1800, 0.7800, 0.0400],\n",
      "        [1.0000, 0.0000, 0.0000]])\n"
     ]
    },
    {
     "name": "stderr",
     "output_type": "stream",
     "text": [
      " 34%|███▍      | 17/50 [11:26<22:37, 41.13s/it]"
     ]
    },
    {
     "name": "stdout",
     "output_type": "stream",
     "text": [
      "Iterations 99\n",
      "Minimizing with STP\n",
      "Seed: 366\n",
      "Initial points: tensor([[0.6900, 0.3100, 0.0000],\n",
      "        [0.6300, 0.3700, 0.0000],\n",
      "        [0.0000, 0.7500, 0.2500],\n",
      "        [0.2600, 0.3800, 0.3600],\n",
      "        [0.3000, 0.6900, 0.0100]])\n"
     ]
    },
    {
     "name": "stderr",
     "output_type": "stream",
     "text": [
      " 36%|███▌      | 18/50 [12:04<21:30, 40.32s/it]"
     ]
    },
    {
     "name": "stdout",
     "output_type": "stream",
     "text": [
      "Iterations 72\n",
      "Minimizing with STP\n",
      "Seed: 597\n",
      "Initial points: tensor([[0.6800, 0.1300, 0.1900],\n",
      "        [0.0000, 0.0000, 1.0000],\n",
      "        [0.5000, 0.2500, 0.2500],\n",
      "        [0.1300, 0.8700, 0.0000],\n",
      "        [0.0500, 0.7885, 0.1615]])\n"
     ]
    },
    {
     "name": "stderr",
     "output_type": "stream",
     "text": [
      " 38%|███▊      | 19/50 [12:23<17:26, 33.74s/it]"
     ]
    },
    {
     "name": "stdout",
     "output_type": "stream",
     "text": [
      "Iterations 35\n",
      "Minimizing with STP\n",
      "Seed: 913\n",
      "Initial points: tensor([[0.1300, 0.7900, 0.0800],\n",
      "        [0.8300, 0.0000, 0.1700],\n",
      "        [0.1300, 0.7900, 0.0800],\n",
      "        [0.7500, 0.2500, 0.0000],\n",
      "        [0.3400, 0.5400, 0.1200]])\n"
     ]
    },
    {
     "name": "stderr",
     "output_type": "stream",
     "text": [
      " 40%|████      | 20/50 [12:54<16:28, 32.94s/it]"
     ]
    },
    {
     "name": "stdout",
     "output_type": "stream",
     "text": [
      "Iterations 59\n",
      "Minimizing with STP\n",
      "Seed: 929\n",
      "Initial points: tensor([[0.2600, 0.7400, 0.0000],\n",
      "        [0.7100, 0.0100, 0.2800],\n",
      "        [0.7500, 0.2500, 0.0000],\n",
      "        [0.1200, 0.7700, 0.1100],\n",
      "        [0.2500, 0.0000, 0.7500]])\n"
     ]
    },
    {
     "name": "stderr",
     "output_type": "stream",
     "text": [
      " 42%|████▏     | 21/50 [13:25<15:40, 32.44s/it]"
     ]
    },
    {
     "name": "stdout",
     "output_type": "stream",
     "text": [
      "Iterations 58\n",
      "Minimizing with STP\n",
      "Seed: 223\n",
      "Initial points: tensor([[0.1300, 0.8700, 0.0000],\n",
      "        [0.4300, 0.5700, 0.0000],\n",
      "        [0.1700, 0.8000, 0.0300],\n",
      "        [0.8100, 0.0000, 0.1900],\n",
      "        [0.7800, 0.0900, 0.1300]])\n"
     ]
    },
    {
     "name": "stderr",
     "output_type": "stream",
     "text": [
      " 44%|████▍     | 22/50 [14:01<15:35, 33.40s/it]"
     ]
    },
    {
     "name": "stdout",
     "output_type": "stream",
     "text": [
      "Iterations 66\n",
      "Minimizing with STP\n",
      "Seed: 516\n",
      "Initial points: tensor([[0.3100, 0.3600, 0.3300],\n",
      "        [0.6600, 0.2400, 0.1000],\n",
      "        [0.2500, 0.7000, 0.0600],\n",
      "        [0.0000, 1.0000, 0.0000],\n",
      "        [0.0000, 0.5000, 0.5000]])\n"
     ]
    },
    {
     "name": "stderr",
     "output_type": "stream",
     "text": [
      " 46%|████▌     | 23/50 [14:35<15:05, 33.53s/it]"
     ]
    },
    {
     "name": "stdout",
     "output_type": "stream",
     "text": [
      "Iterations 64\n",
      "Minimizing with STP\n",
      "Seed: 142\n",
      "Initial points: tensor([[0.3800, 0.6200, 0.0000],\n",
      "        [0.2600, 0.3800, 0.3600],\n",
      "        [0.5000, 0.5000, 0.0000],\n",
      "        [0.2500, 0.0000, 0.7500],\n",
      "        [0.1700, 0.8000, 0.0300]])\n"
     ]
    },
    {
     "name": "stderr",
     "output_type": "stream",
     "text": [
      " 48%|████▊     | 24/50 [15:05<14:04, 32.48s/it]"
     ]
    },
    {
     "name": "stdout",
     "output_type": "stream",
     "text": [
      "Iterations 57\n",
      "Minimizing with STP\n",
      "Seed: 288\n",
      "Initial points: tensor([[0.2200, 0.7800, 0.0000],\n",
      "        [0.5000, 0.5000, 0.0000],\n",
      "        [0.2500, 0.2500, 0.5000],\n",
      "        [0.5000, 0.2500, 0.2500],\n",
      "        [0.7100, 0.0600, 0.2300]])\n"
     ]
    },
    {
     "name": "stderr",
     "output_type": "stream",
     "text": [
      " 50%|█████     | 25/50 [15:30<12:34, 30.20s/it]"
     ]
    },
    {
     "name": "stdout",
     "output_type": "stream",
     "text": [
      "Iterations 48\n",
      "Minimizing with STP\n",
      "Seed: 143\n",
      "Initial points: tensor([[0.3200, 0.6700, 0.0100],\n",
      "        [0.1300, 0.7900, 0.0800],\n",
      "        [0.1600, 0.8400, 0.0000],\n",
      "        [0.1700, 0.8000, 0.0300],\n",
      "        [0.3000, 0.6900, 0.0100]])\n"
     ]
    },
    {
     "name": "stderr",
     "output_type": "stream",
     "text": [
      " 52%|█████▏    | 26/50 [16:09<13:10, 32.92s/it]"
     ]
    },
    {
     "name": "stdout",
     "output_type": "stream",
     "text": [
      "Iterations 71\n",
      "Minimizing with STP\n",
      "Seed: 773\n",
      "Initial points: tensor([[0.1400, 0.8400, 0.0200],\n",
      "        [0.3900, 0.6100, 0.0000],\n",
      "        [0.1300, 0.7900, 0.0800],\n",
      "        [0.7800, 0.0900, 0.1300],\n",
      "        [0.0000, 1.0000, 0.0000]])\n"
     ]
    },
    {
     "name": "stderr",
     "output_type": "stream",
     "text": [
      " 54%|█████▍    | 27/50 [16:40<12:28, 32.53s/it]"
     ]
    },
    {
     "name": "stdout",
     "output_type": "stream",
     "text": [
      "Iterations 55\n",
      "Minimizing with STP\n",
      "Seed: 97\n",
      "Initial points: tensor([[0.1700, 0.8000, 0.0300],\n",
      "        [0.3400, 0.5400, 0.1200],\n",
      "        [0.2500, 0.2500, 0.5000],\n",
      "        [0.3200, 0.6700, 0.0100],\n",
      "        [0.7500, 0.2500, 0.0000]])\n"
     ]
    },
    {
     "name": "stderr",
     "output_type": "stream",
     "text": [
      " 56%|█████▌    | 28/50 [17:25<13:14, 36.11s/it]"
     ]
    },
    {
     "name": "stdout",
     "output_type": "stream",
     "text": [
      "Iterations 79\n",
      "Minimizing with STP\n",
      "Seed: 633\n",
      "Initial points: tensor([[0.1300, 0.8500, 0.0200],\n",
      "        [1.0000, 0.0000, 0.0000],\n",
      "        [0.0000, 0.0000, 1.0000],\n",
      "        [0.5000, 0.2500, 0.2500],\n",
      "        [0.0000, 1.0000, 0.0000]])\n"
     ]
    },
    {
     "name": "stderr",
     "output_type": "stream",
     "text": [
      " 58%|█████▊    | 29/50 [18:02<12:44, 36.42s/it]"
     ]
    },
    {
     "name": "stdout",
     "output_type": "stream",
     "text": [
      "Iterations 68\n",
      "Minimizing with STP\n",
      "Seed: 818\n",
      "Initial points: tensor([[0.8100, 0.0000, 0.1900],\n",
      "        [0.2600, 0.3800, 0.3600],\n",
      "        [0.1200, 0.7700, 0.1100],\n",
      "        [0.0500, 0.7885, 0.1615],\n",
      "        [0.2500, 0.7100, 0.0400]])\n"
     ]
    },
    {
     "name": "stderr",
     "output_type": "stream",
     "text": [
      " 60%|██████    | 30/50 [18:48<13:05, 39.29s/it]"
     ]
    },
    {
     "name": "stdout",
     "output_type": "stream",
     "text": [
      "Iterations 84\n",
      "Minimizing with STP\n",
      "Seed: 256\n",
      "Initial points: tensor([[0.2700, 0.7200, 0.0100],\n",
      "        [0.8700, 0.1200, 0.0100],\n",
      "        [0.5000, 0.2500, 0.2500],\n",
      "        [0.1200, 0.7700, 0.1100],\n",
      "        [0.0000, 0.7500, 0.2500]])\n"
     ]
    },
    {
     "name": "stderr",
     "output_type": "stream",
     "text": [
      " 62%|██████▏   | 31/50 [19:23<12:03, 38.06s/it]"
     ]
    },
    {
     "name": "stdout",
     "output_type": "stream",
     "text": [
      "Iterations 64\n",
      "Minimizing with STP\n",
      "Seed: 931\n",
      "Initial points: tensor([[0.5000, 0.0000, 0.5000],\n",
      "        [0.0900, 0.9100, 0.0000],\n",
      "        [0.0900, 0.8700, 0.0400],\n",
      "        [0.1300, 0.8700, 0.0000],\n",
      "        [0.1200, 0.7700, 0.1100]])\n"
     ]
    },
    {
     "name": "stderr",
     "output_type": "stream",
     "text": [
      " 64%|██████▍   | 32/50 [19:55<10:51, 36.17s/it]"
     ]
    },
    {
     "name": "stdout",
     "output_type": "stream",
     "text": [
      "Iterations 59\n",
      "Minimizing with STP\n",
      "Seed: 545\n",
      "Initial points: tensor([[0.1300, 0.7900, 0.0800],\n",
      "        [0.0900, 0.8700, 0.0400],\n",
      "        [0.0000, 0.0000, 1.0000],\n",
      "        [0.1300, 0.8700, 0.0000],\n",
      "        [0.2000, 0.6900, 0.1100]])\n"
     ]
    },
    {
     "name": "stderr",
     "output_type": "stream",
     "text": [
      " 66%|██████▌   | 33/50 [20:32<10:20, 36.48s/it]"
     ]
    },
    {
     "name": "stdout",
     "output_type": "stream",
     "text": [
      "Iterations 68\n",
      "Minimizing with STP\n",
      "Seed: 722\n",
      "Initial points: tensor([[0.1700, 0.8000, 0.0300],\n",
      "        [0.0900, 0.8700, 0.0400],\n",
      "        [0.3200, 0.6700, 0.0100],\n",
      "        [0.2500, 0.7000, 0.0600],\n",
      "        [0.5000, 0.2500, 0.2500]])\n"
     ]
    },
    {
     "name": "stderr",
     "output_type": "stream",
     "text": [
      " 68%|██████▊   | 34/50 [20:59<08:55, 33.49s/it]"
     ]
    },
    {
     "name": "stdout",
     "output_type": "stream",
     "text": [
      "Iterations 50\n",
      "Minimizing with STP\n",
      "Seed: 829\n",
      "Initial points: tensor([[0.3100, 0.3000, 0.3900],\n",
      "        [0.2500, 0.7000, 0.0600],\n",
      "        [0.3000, 0.6900, 0.0100],\n",
      "        [0.1300, 0.8700, 0.0000],\n",
      "        [0.2500, 0.7100, 0.0400]])\n"
     ]
    },
    {
     "name": "stderr",
     "output_type": "stream",
     "text": [
      " 70%|███████   | 35/50 [21:28<08:04, 32.30s/it]"
     ]
    },
    {
     "name": "stdout",
     "output_type": "stream",
     "text": [
      "Iterations 54\n",
      "Minimizing with STP\n",
      "Seed: 616\n",
      "Initial points: tensor([[0.2600, 0.7400, 0.0000],\n",
      "        [0.1600, 0.8400, 0.0000],\n",
      "        [0.1000, 0.8900, 0.0100],\n",
      "        [0.3200, 0.6700, 0.0100],\n",
      "        [0.1300, 0.7900, 0.0800]])\n"
     ]
    },
    {
     "name": "stderr",
     "output_type": "stream",
     "text": [
      " 72%|███████▏  | 36/50 [22:00<07:30, 32.17s/it]"
     ]
    },
    {
     "name": "stdout",
     "output_type": "stream",
     "text": [
      "Iterations 59\n",
      "Minimizing with STP\n",
      "Seed: 923\n",
      "Initial points: tensor([[0.8100, 0.0000, 0.1900],\n",
      "        [0.2000, 0.6900, 0.1100],\n",
      "        [0.4100, 0.5800, 0.0100],\n",
      "        [0.0900, 0.8500, 0.0600],\n",
      "        [0.1700, 0.8000, 0.0300]])\n"
     ]
    },
    {
     "name": "stderr",
     "output_type": "stream",
     "text": [
      " 74%|███████▍  | 37/50 [22:37<07:15, 33.49s/it]"
     ]
    },
    {
     "name": "stdout",
     "output_type": "stream",
     "text": [
      "Iterations 67\n",
      "Minimizing with STP\n",
      "Seed: 150\n",
      "Initial points: tensor([[0.8900, 0.0000, 0.1100],\n",
      "        [0.7800, 0.0900, 0.1300],\n",
      "        [0.2000, 0.6900, 0.1100],\n",
      "        [0.2700, 0.3400, 0.4000],\n",
      "        [0.0000, 0.7500, 0.2500]])\n"
     ]
    },
    {
     "name": "stderr",
     "output_type": "stream",
     "text": [
      " 76%|███████▌  | 38/50 [23:11<06:46, 33.88s/it]"
     ]
    },
    {
     "name": "stdout",
     "output_type": "stream",
     "text": [
      "Iterations 63\n",
      "Minimizing with STP\n",
      "Seed: 317\n",
      "Initial points: tensor([[0.1800, 0.7800, 0.0400],\n",
      "        [0.2500, 0.7000, 0.0600],\n",
      "        [0.0500, 0.7885, 0.1615],\n",
      "        [0.0000, 0.0000, 1.0000],\n",
      "        [0.3100, 0.3600, 0.3300]])\n"
     ]
    },
    {
     "name": "stderr",
     "output_type": "stream",
     "text": [
      " 78%|███████▊  | 39/50 [23:45<06:10, 33.71s/it]"
     ]
    },
    {
     "name": "stdout",
     "output_type": "stream",
     "text": [
      "Iterations 62\n",
      "Minimizing with STP\n",
      "Seed: 101\n",
      "Initial points: tensor([[0.2500, 0.7000, 0.0600],\n",
      "        [0.0000, 0.0000, 1.0000],\n",
      "        [0.0600, 0.8500, 0.0900],\n",
      "        [0.2500, 0.7000, 0.0600],\n",
      "        [0.6300, 0.3700, 0.0000]])\n"
     ]
    },
    {
     "name": "stderr",
     "output_type": "stream",
     "text": [
      " 80%|████████  | 40/50 [24:27<06:03, 36.38s/it]"
     ]
    },
    {
     "name": "stdout",
     "output_type": "stream",
     "text": [
      "Iterations 78\n",
      "Minimizing with STP\n",
      "Seed: 747\n",
      "Initial points: tensor([[0.0000, 0.5000, 0.5000],\n",
      "        [0.1900, 0.7000, 0.1100],\n",
      "        [0.6300, 0.3700, 0.0000],\n",
      "        [0.2500, 0.2500, 0.5000],\n",
      "        [0.3200, 0.6700, 0.0100]])\n"
     ]
    },
    {
     "name": "stderr",
     "output_type": "stream",
     "text": [
      " 82%|████████▏ | 41/50 [24:58<05:13, 34.80s/it]"
     ]
    },
    {
     "name": "stdout",
     "output_type": "stream",
     "text": [
      "Iterations 59\n",
      "Minimizing with STP\n",
      "Seed: 75\n",
      "Initial points: tensor([[0.0000, 0.0000, 1.0000],\n",
      "        [0.5000, 0.5000, 0.0000],\n",
      "        [0.0000, 0.0000, 1.0000],\n",
      "        [0.3700, 0.6200, 0.0100],\n",
      "        [0.1300, 0.8500, 0.0200]])\n"
     ]
    },
    {
     "name": "stderr",
     "output_type": "stream",
     "text": [
      " 84%|████████▍ | 42/50 [25:27<04:23, 32.95s/it]"
     ]
    },
    {
     "name": "stdout",
     "output_type": "stream",
     "text": [
      "Iterations 53\n",
      "Minimizing with STP\n",
      "Seed: 920\n",
      "Initial points: tensor([[0.0000, 0.0000, 1.0000],\n",
      "        [0.2500, 0.7000, 0.0600],\n",
      "        [0.5300, 0.4700, 0.0000],\n",
      "        [0.2000, 0.6900, 0.1100],\n",
      "        [1.0000, 0.0000, 0.0000]])\n"
     ]
    },
    {
     "name": "stderr",
     "output_type": "stream",
     "text": [
      " 86%|████████▌ | 43/50 [26:06<04:03, 34.78s/it]"
     ]
    },
    {
     "name": "stdout",
     "output_type": "stream",
     "text": [
      "Iterations 73\n",
      "Minimizing with STP\n",
      "Seed: 870\n",
      "Initial points: tensor([[0.7100, 0.0100, 0.2800],\n",
      "        [0.1000, 0.9000, 0.0000],\n",
      "        [0.1900, 0.8100, 0.0000],\n",
      "        [0.8400, 0.0000, 0.1600],\n",
      "        [0.1200, 0.7700, 0.1100]])\n"
     ]
    },
    {
     "name": "stderr",
     "output_type": "stream",
     "text": [
      " 88%|████████▊ | 44/50 [26:52<03:49, 38.20s/it]"
     ]
    },
    {
     "name": "stdout",
     "output_type": "stream",
     "text": [
      "Iterations 85\n",
      "Minimizing with STP\n",
      "Seed: 700\n",
      "Initial points: tensor([[0.0000, 0.0000, 1.0000],\n",
      "        [0.1800, 0.7800, 0.0400],\n",
      "        [0.5300, 0.4700, 0.0000],\n",
      "        [0.3000, 0.6900, 0.0100],\n",
      "        [0.1600, 0.8400, 0.0000]])\n"
     ]
    },
    {
     "name": "stderr",
     "output_type": "stream",
     "text": [
      " 90%|█████████ | 45/50 [27:33<03:14, 38.93s/it]"
     ]
    },
    {
     "name": "stdout",
     "output_type": "stream",
     "text": [
      "Iterations 75\n",
      "Minimizing with STP\n",
      "Seed: 338\n",
      "Initial points: tensor([[0.0000, 0.5000, 0.5000],\n",
      "        [0.2500, 0.7000, 0.0600],\n",
      "        [0.1300, 0.7900, 0.0800],\n",
      "        [0.7500, 0.2500, 0.0000],\n",
      "        [0.7500, 0.2500, 0.0000]])\n"
     ]
    },
    {
     "name": "stderr",
     "output_type": "stream",
     "text": [
      " 92%|█████████▏| 46/50 [28:19<02:43, 40.92s/it]"
     ]
    },
    {
     "name": "stdout",
     "output_type": "stream",
     "text": [
      "Iterations 80\n",
      "Minimizing with STP\n",
      "Seed: 483\n",
      "Initial points: tensor([[0.1300, 0.8700, 0.0000],\n",
      "        [0.0900, 0.8700, 0.0400],\n",
      "        [0.1600, 0.8400, 0.0000],\n",
      "        [0.5700, 0.4300, 0.0000],\n",
      "        [0.7500, 0.0000, 0.2500]])\n"
     ]
    },
    {
     "name": "stderr",
     "output_type": "stream",
     "text": [
      " 94%|█████████▍| 47/50 [28:56<01:59, 39.74s/it]"
     ]
    },
    {
     "name": "stdout",
     "output_type": "stream",
     "text": [
      "Iterations 67\n",
      "Minimizing with STP\n",
      "Seed: 573\n",
      "Initial points: tensor([[0.8900, 0.0000, 0.1100],\n",
      "        [0.3900, 0.6100, 0.0000],\n",
      "        [0.0000, 0.0000, 1.0000],\n",
      "        [0.3700, 0.6200, 0.0100],\n",
      "        [0.2700, 0.3400, 0.4000]])\n"
     ]
    },
    {
     "name": "stderr",
     "output_type": "stream",
     "text": [
      " 96%|█████████▌| 48/50 [29:23<01:12, 36.05s/it]"
     ]
    },
    {
     "name": "stdout",
     "output_type": "stream",
     "text": [
      "Iterations 51\n",
      "Minimizing with STP\n",
      "Seed: 103\n",
      "Initial points: tensor([[0.0000, 0.0000, 1.0000],\n",
      "        [0.1600, 0.8400, 0.0000],\n",
      "        [0.1200, 0.8100, 0.0700],\n",
      "        [0.2500, 0.7500, 0.0000],\n",
      "        [0.0600, 0.8500, 0.0900]])\n"
     ]
    },
    {
     "name": "stderr",
     "output_type": "stream",
     "text": [
      " 98%|█████████▊| 49/50 [30:00<00:36, 36.37s/it]"
     ]
    },
    {
     "name": "stdout",
     "output_type": "stream",
     "text": [
      "Iterations 67\n",
      "Minimizing with STP\n",
      "Seed: 362\n",
      "Initial points: tensor([[0.1900, 0.7000, 0.1100],\n",
      "        [0.4100, 0.5800, 0.0100],\n",
      "        [0.2600, 0.3700, 0.3600],\n",
      "        [0.2800, 0.3700, 0.3500],\n",
      "        [0.2500, 0.7100, 0.0400]])\n"
     ]
    },
    {
     "name": "stderr",
     "output_type": "stream",
     "text": [
      "100%|██████████| 50/50 [30:47<00:00, 36.95s/it]\n"
     ]
    },
    {
     "name": "stdout",
     "output_type": "stream",
     "text": [
      "Iterations 83\n"
     ]
    },
    {
     "name": "stderr",
     "output_type": "stream",
     "text": [
      "  0%|          | 0/50 [00:00<?, ?it/s]"
     ]
    },
    {
     "name": "stdout",
     "output_type": "stream",
     "text": [
      "Minimizing with EGP\n",
      "Seed: 864\n",
      "Initial points: tensor([[0.0000, 0.0000, 1.0000],\n",
      "        [0.0900, 0.8700, 0.0400],\n",
      "        [0.2500, 0.7000, 0.0600],\n",
      "        [0.0500, 0.7885, 0.1615],\n",
      "        [0.7500, 0.2500, 0.0000]])\n"
     ]
    },
    {
     "name": "stderr",
     "output_type": "stream",
     "text": [
      "c:\\Users\\stan\\miniconda3\\envs\\researchTP\\Lib\\site-packages\\botorch\\optim\\fit.py:102: OptimizationWarning: `scipy_minimize` terminated with status OptimizationStatus.FAILURE, displaying original message from `scipy.optimize.minimize`: ABNORMAL_TERMINATION_IN_LNSRCH\n",
      "  warn(\n",
      "c:\\Users\\stan\\miniconda3\\envs\\researchTP\\Lib\\site-packages\\botorch\\optim\\fit.py:102: OptimizationWarning: `scipy_minimize` terminated with status OptimizationStatus.FAILURE, displaying original message from `scipy.optimize.minimize`: ABNORMAL_TERMINATION_IN_LNSRCH\n",
      "  warn(\n",
      "c:\\Users\\stan\\miniconda3\\envs\\researchTP\\Lib\\site-packages\\botorch\\optim\\fit.py:102: OptimizationWarning: `scipy_minimize` terminated with status OptimizationStatus.FAILURE, displaying original message from `scipy.optimize.minimize`: ABNORMAL_TERMINATION_IN_LNSRCH\n",
      "  warn(\n",
      "c:\\Users\\stan\\miniconda3\\envs\\researchTP\\Lib\\site-packages\\botorch\\optim\\fit.py:102: OptimizationWarning: `scipy_minimize` terminated with status OptimizationStatus.FAILURE, displaying original message from `scipy.optimize.minimize`: ABNORMAL_TERMINATION_IN_LNSRCH\n",
      "  warn(\n",
      "c:\\Users\\stan\\miniconda3\\envs\\researchTP\\Lib\\site-packages\\botorch\\optim\\fit.py:102: OptimizationWarning: `scipy_minimize` terminated with status OptimizationStatus.FAILURE, displaying original message from `scipy.optimize.minimize`: ABNORMAL_TERMINATION_IN_LNSRCH\n",
      "  warn(\n",
      "c:\\Users\\stan\\miniconda3\\envs\\researchTP\\Lib\\site-packages\\botorch\\optim\\fit.py:102: OptimizationWarning: `scipy_minimize` terminated with status OptimizationStatus.FAILURE, displaying original message from `scipy.optimize.minimize`: ABNORMAL_TERMINATION_IN_LNSRCH\n",
      "  warn(\n",
      "c:\\Users\\stan\\miniconda3\\envs\\researchTP\\Lib\\site-packages\\botorch\\optim\\fit.py:102: OptimizationWarning: `scipy_minimize` terminated with status OptimizationStatus.FAILURE, displaying original message from `scipy.optimize.minimize`: ABNORMAL_TERMINATION_IN_LNSRCH\n",
      "  warn(\n",
      "c:\\Users\\stan\\miniconda3\\envs\\researchTP\\Lib\\site-packages\\botorch\\optim\\fit.py:102: OptimizationWarning: `scipy_minimize` terminated with status OptimizationStatus.FAILURE, displaying original message from `scipy.optimize.minimize`: ABNORMAL_TERMINATION_IN_LNSRCH\n",
      "  warn(\n",
      "  2%|▏         | 1/50 [00:11<09:18, 11.40s/it]"
     ]
    },
    {
     "name": "stdout",
     "output_type": "stream",
     "text": [
      "Iterations 79\n",
      "Minimizing with EGP\n",
      "Seed: 394\n",
      "Initial points: tensor([[0.2000, 0.6900, 0.1100],\n",
      "        [0.7500, 0.0000, 0.2500],\n",
      "        [0.2700, 0.3400, 0.4000],\n",
      "        [0.1300, 0.7900, 0.0800],\n",
      "        [0.2500, 0.7000, 0.0600]])\n"
     ]
    },
    {
     "name": "stderr",
     "output_type": "stream",
     "text": [
      "c:\\Users\\stan\\miniconda3\\envs\\researchTP\\Lib\\site-packages\\botorch\\optim\\fit.py:102: OptimizationWarning: `scipy_minimize` terminated with status OptimizationStatus.FAILURE, displaying original message from `scipy.optimize.minimize`: ABNORMAL_TERMINATION_IN_LNSRCH\n",
      "  warn(\n",
      "c:\\Users\\stan\\miniconda3\\envs\\researchTP\\Lib\\site-packages\\gpytorch\\distributions\\multivariate_normal.py:319: NumericalWarning: Negative variance values detected. This is likely due to numerical instabilities. Rounding negative variances up to 1e-06.\n",
      "  warnings.warn(\n",
      "c:\\Users\\stan\\miniconda3\\envs\\researchTP\\Lib\\site-packages\\botorch\\optim\\fit.py:102: OptimizationWarning: `scipy_minimize` terminated with status OptimizationStatus.FAILURE, displaying original message from `scipy.optimize.minimize`: ABNORMAL_TERMINATION_IN_LNSRCH\n",
      "  warn(\n",
      "c:\\Users\\stan\\miniconda3\\envs\\researchTP\\Lib\\site-packages\\gpytorch\\distributions\\multivariate_normal.py:319: NumericalWarning: Negative variance values detected. This is likely due to numerical instabilities. Rounding negative variances up to 1e-06.\n",
      "  warnings.warn(\n",
      "c:\\Users\\stan\\miniconda3\\envs\\researchTP\\Lib\\site-packages\\gpytorch\\distributions\\multivariate_normal.py:319: NumericalWarning: Negative variance values detected. This is likely due to numerical instabilities. Rounding negative variances up to 1e-06.\n",
      "  warnings.warn(\n",
      "c:\\Users\\stan\\miniconda3\\envs\\researchTP\\Lib\\site-packages\\linear_operator\\utils\\cholesky.py:40: NumericalWarning: A not p.d., added jitter of 1.0e-06 to the diagonal\n",
      "  warnings.warn(\n",
      "c:\\Users\\stan\\miniconda3\\envs\\researchTP\\Lib\\site-packages\\linear_operator\\utils\\cholesky.py:40: NumericalWarning: A not p.d., added jitter of 1.0e-05 to the diagonal\n",
      "  warnings.warn(\n",
      "c:\\Users\\stan\\miniconda3\\envs\\researchTP\\Lib\\site-packages\\linear_operator\\utils\\cholesky.py:40: NumericalWarning: A not p.d., added jitter of 1.0e-04 to the diagonal\n",
      "  warnings.warn(\n",
      "c:\\Users\\stan\\miniconda3\\envs\\researchTP\\Lib\\site-packages\\linear_operator\\utils\\cholesky.py:40: NumericalWarning: A not p.d., added jitter of 1.0e-03 to the diagonal\n",
      "  warnings.warn(\n",
      "c:\\Users\\stan\\miniconda3\\envs\\researchTP\\Lib\\site-packages\\linear_operator\\utils\\cholesky.py:40: NumericalWarning: A not p.d., added jitter of 1.0e-02 to the diagonal\n",
      "  warnings.warn(\n",
      "c:\\Users\\stan\\miniconda3\\envs\\researchTP\\Lib\\site-packages\\linear_operator\\utils\\cholesky.py:40: NumericalWarning: A not p.d., added jitter of 1.0e-01 to the diagonal\n",
      "  warnings.warn(\n",
      "c:\\Users\\stan\\miniconda3\\envs\\researchTP\\Lib\\site-packages\\linear_operator\\utils\\cholesky.py:40: NumericalWarning: A not p.d., added jitter of 1.0e-06 to the diagonal\n",
      "  warnings.warn(\n",
      "c:\\Users\\stan\\miniconda3\\envs\\researchTP\\Lib\\site-packages\\linear_operator\\utils\\cholesky.py:40: NumericalWarning: A not p.d., added jitter of 1.0e-05 to the diagonal\n",
      "  warnings.warn(\n",
      "c:\\Users\\stan\\miniconda3\\envs\\researchTP\\Lib\\site-packages\\linear_operator\\utils\\cholesky.py:40: NumericalWarning: A not p.d., added jitter of 1.0e-04 to the diagonal\n",
      "  warnings.warn(\n",
      "c:\\Users\\stan\\miniconda3\\envs\\researchTP\\Lib\\site-packages\\linear_operator\\utils\\cholesky.py:40: NumericalWarning: A not p.d., added jitter of 1.0e-03 to the diagonal\n",
      "  warnings.warn(\n",
      "c:\\Users\\stan\\miniconda3\\envs\\researchTP\\Lib\\site-packages\\linear_operator\\utils\\cholesky.py:40: NumericalWarning: A not p.d., added jitter of 1.0e-02 to the diagonal\n",
      "  warnings.warn(\n",
      "c:\\Users\\stan\\miniconda3\\envs\\researchTP\\Lib\\site-packages\\linear_operator\\utils\\cholesky.py:40: NumericalWarning: A not p.d., added jitter of 1.0e-01 to the diagonal\n",
      "  warnings.warn(\n",
      "c:\\Users\\stan\\miniconda3\\envs\\researchTP\\Lib\\site-packages\\linear_operator\\utils\\cholesky.py:40: NumericalWarning: A not p.d., added jitter of 1.0e-06 to the diagonal\n",
      "  warnings.warn(\n",
      "c:\\Users\\stan\\miniconda3\\envs\\researchTP\\Lib\\site-packages\\linear_operator\\utils\\cholesky.py:40: NumericalWarning: A not p.d., added jitter of 1.0e-05 to the diagonal\n",
      "  warnings.warn(\n",
      "c:\\Users\\stan\\miniconda3\\envs\\researchTP\\Lib\\site-packages\\linear_operator\\utils\\cholesky.py:40: NumericalWarning: A not p.d., added jitter of 1.0e-04 to the diagonal\n",
      "  warnings.warn(\n",
      "c:\\Users\\stan\\miniconda3\\envs\\researchTP\\Lib\\site-packages\\linear_operator\\utils\\cholesky.py:40: NumericalWarning: A not p.d., added jitter of 1.0e-03 to the diagonal\n",
      "  warnings.warn(\n",
      "c:\\Users\\stan\\miniconda3\\envs\\researchTP\\Lib\\site-packages\\botorch\\optim\\fit.py:102: OptimizationWarning: `scipy_minimize` terminated with status OptimizationStatus.FAILURE, displaying original message from `scipy.optimize.minimize`: ABNORMAL_TERMINATION_IN_LNSRCH\n",
      "  warn(\n",
      "  4%|▍         | 2/50 [00:21<08:33, 10.70s/it]"
     ]
    },
    {
     "name": "stdout",
     "output_type": "stream",
     "text": [
      "Iterations 74\n",
      "Minimizing with EGP\n",
      "Seed: 776\n",
      "Initial points: tensor([[0.2500, 0.2500, 0.5000],\n",
      "        [0.8900, 0.0000, 0.1100],\n",
      "        [0.9600, 0.0400, 0.0000],\n",
      "        [0.1300, 0.7900, 0.0800],\n",
      "        [0.1800, 0.7800, 0.0400]])\n"
     ]
    },
    {
     "name": "stderr",
     "output_type": "stream",
     "text": [
      "c:\\Users\\stan\\miniconda3\\envs\\researchTP\\Lib\\site-packages\\gpytorch\\distributions\\multivariate_normal.py:319: NumericalWarning: Negative variance values detected. This is likely due to numerical instabilities. Rounding negative variances up to 1e-06.\n",
      "  warnings.warn(\n",
      "c:\\Users\\stan\\miniconda3\\envs\\researchTP\\Lib\\site-packages\\botorch\\optim\\fit.py:102: OptimizationWarning: `scipy_minimize` terminated with status OptimizationStatus.FAILURE, displaying original message from `scipy.optimize.minimize`: ABNORMAL_TERMINATION_IN_LNSRCH\n",
      "  warn(\n",
      "c:\\Users\\stan\\miniconda3\\envs\\researchTP\\Lib\\site-packages\\botorch\\optim\\fit.py:102: OptimizationWarning: `scipy_minimize` terminated with status OptimizationStatus.FAILURE, displaying original message from `scipy.optimize.minimize`: ABNORMAL_TERMINATION_IN_LNSRCH\n",
      "  warn(\n",
      "c:\\Users\\stan\\miniconda3\\envs\\researchTP\\Lib\\site-packages\\botorch\\optim\\fit.py:102: OptimizationWarning: `scipy_minimize` terminated with status OptimizationStatus.FAILURE, displaying original message from `scipy.optimize.minimize`: ABNORMAL_TERMINATION_IN_LNSRCH\n",
      "  warn(\n",
      "c:\\Users\\stan\\miniconda3\\envs\\researchTP\\Lib\\site-packages\\botorch\\optim\\fit.py:102: OptimizationWarning: `scipy_minimize` terminated with status OptimizationStatus.FAILURE, displaying original message from `scipy.optimize.minimize`: ABNORMAL_TERMINATION_IN_LNSRCH\n",
      "  warn(\n",
      "c:\\Users\\stan\\miniconda3\\envs\\researchTP\\Lib\\site-packages\\botorch\\optim\\fit.py:102: OptimizationWarning: `scipy_minimize` terminated with status OptimizationStatus.FAILURE, displaying original message from `scipy.optimize.minimize`: ABNORMAL_TERMINATION_IN_LNSRCH\n",
      "  warn(\n",
      "c:\\Users\\stan\\miniconda3\\envs\\researchTP\\Lib\\site-packages\\botorch\\optim\\fit.py:102: OptimizationWarning: `scipy_minimize` terminated with status OptimizationStatus.FAILURE, displaying original message from `scipy.optimize.minimize`: ABNORMAL_TERMINATION_IN_LNSRCH\n",
      "  warn(\n",
      "c:\\Users\\stan\\miniconda3\\envs\\researchTP\\Lib\\site-packages\\botorch\\optim\\fit.py:102: OptimizationWarning: `scipy_minimize` terminated with status OptimizationStatus.FAILURE, displaying original message from `scipy.optimize.minimize`: ABNORMAL_TERMINATION_IN_LNSRCH\n",
      "  warn(\n",
      "  6%|▌         | 3/50 [00:31<08:10, 10.43s/it]"
     ]
    },
    {
     "name": "stdout",
     "output_type": "stream",
     "text": [
      "Iterations 55\n",
      "Minimizing with EGP\n",
      "Seed: 911\n",
      "Initial points: tensor([[0.2000, 0.6900, 0.1100],\n",
      "        [0.0900, 0.8700, 0.0400],\n",
      "        [0.8400, 0.0000, 0.1600],\n",
      "        [0.1600, 0.8400, 0.0000],\n",
      "        [0.1800, 0.7800, 0.0400]])\n"
     ]
    },
    {
     "name": "stderr",
     "output_type": "stream",
     "text": [
      "c:\\Users\\stan\\miniconda3\\envs\\researchTP\\Lib\\site-packages\\botorch\\optim\\fit.py:102: OptimizationWarning: `scipy_minimize` terminated with status OptimizationStatus.FAILURE, displaying original message from `scipy.optimize.minimize`: ABNORMAL_TERMINATION_IN_LNSRCH\n",
      "  warn(\n",
      "c:\\Users\\stan\\miniconda3\\envs\\researchTP\\Lib\\site-packages\\botorch\\optim\\fit.py:102: OptimizationWarning: `scipy_minimize` terminated with status OptimizationStatus.FAILURE, displaying original message from `scipy.optimize.minimize`: ABNORMAL_TERMINATION_IN_LNSRCH\n",
      "  warn(\n",
      "c:\\Users\\stan\\miniconda3\\envs\\researchTP\\Lib\\site-packages\\botorch\\optim\\fit.py:102: OptimizationWarning: `scipy_minimize` terminated with status OptimizationStatus.FAILURE, displaying original message from `scipy.optimize.minimize`: ABNORMAL_TERMINATION_IN_LNSRCH\n",
      "  warn(\n",
      "c:\\Users\\stan\\miniconda3\\envs\\researchTP\\Lib\\site-packages\\botorch\\optim\\fit.py:102: OptimizationWarning: `scipy_minimize` terminated with status OptimizationStatus.FAILURE, displaying original message from `scipy.optimize.minimize`: ABNORMAL_TERMINATION_IN_LNSRCH\n",
      "  warn(\n",
      "c:\\Users\\stan\\miniconda3\\envs\\researchTP\\Lib\\site-packages\\botorch\\optim\\fit.py:102: OptimizationWarning: `scipy_minimize` terminated with status OptimizationStatus.FAILURE, displaying original message from `scipy.optimize.minimize`: ABNORMAL_TERMINATION_IN_LNSRCH\n",
      "  warn(\n",
      "  8%|▊         | 4/50 [00:42<07:58, 10.39s/it]"
     ]
    },
    {
     "name": "stdout",
     "output_type": "stream",
     "text": [
      "Iterations 65\n",
      "Minimizing with EGP\n",
      "Seed: 430\n",
      "Initial points: tensor([[0.0000, 0.2500, 0.7500],\n",
      "        [0.5000, 0.2500, 0.2500],\n",
      "        [0.1800, 0.7800, 0.0400],\n",
      "        [0.7800, 0.0900, 0.1300],\n",
      "        [0.7100, 0.0100, 0.2800]])\n"
     ]
    },
    {
     "name": "stderr",
     "output_type": "stream",
     "text": [
      "c:\\Users\\stan\\miniconda3\\envs\\researchTP\\Lib\\site-packages\\linear_operator\\utils\\cholesky.py:40: NumericalWarning: A not p.d., added jitter of 1.0e-06 to the diagonal\n",
      "  warnings.warn(\n",
      "c:\\Users\\stan\\miniconda3\\envs\\researchTP\\Lib\\site-packages\\linear_operator\\utils\\cholesky.py:40: NumericalWarning: A not p.d., added jitter of 1.0e-05 to the diagonal\n",
      "  warnings.warn(\n",
      "c:\\Users\\stan\\miniconda3\\envs\\researchTP\\Lib\\site-packages\\linear_operator\\utils\\cholesky.py:40: NumericalWarning: A not p.d., added jitter of 1.0e-04 to the diagonal\n",
      "  warnings.warn(\n",
      "c:\\Users\\stan\\miniconda3\\envs\\researchTP\\Lib\\site-packages\\linear_operator\\utils\\cholesky.py:40: NumericalWarning: A not p.d., added jitter of 1.0e-03 to the diagonal\n",
      "  warnings.warn(\n",
      "c:\\Users\\stan\\miniconda3\\envs\\researchTP\\Lib\\site-packages\\linear_operator\\utils\\cholesky.py:40: NumericalWarning: A not p.d., added jitter of 1.0e-02 to the diagonal\n",
      "  warnings.warn(\n",
      "c:\\Users\\stan\\miniconda3\\envs\\researchTP\\Lib\\site-packages\\linear_operator\\utils\\cholesky.py:40: NumericalWarning: A not p.d., added jitter of 1.0e-01 to the diagonal\n",
      "  warnings.warn(\n",
      "c:\\Users\\stan\\miniconda3\\envs\\researchTP\\Lib\\site-packages\\botorch\\optim\\fit.py:102: OptimizationWarning: `scipy_minimize` terminated with status OptimizationStatus.FAILURE, displaying original message from `scipy.optimize.minimize`: ABNORMAL_TERMINATION_IN_LNSRCH\n",
      "  warn(\n",
      "c:\\Users\\stan\\miniconda3\\envs\\researchTP\\Lib\\site-packages\\botorch\\optim\\fit.py:102: OptimizationWarning: `scipy_minimize` terminated with status OptimizationStatus.FAILURE, displaying original message from `scipy.optimize.minimize`: ABNORMAL_TERMINATION_IN_LNSRCH\n",
      "  warn(\n",
      "c:\\Users\\stan\\miniconda3\\envs\\researchTP\\Lib\\site-packages\\botorch\\optim\\fit.py:102: OptimizationWarning: `scipy_minimize` terminated with status OptimizationStatus.FAILURE, displaying original message from `scipy.optimize.minimize`: ABNORMAL_TERMINATION_IN_LNSRCH\n",
      "  warn(\n",
      "c:\\Users\\stan\\miniconda3\\envs\\researchTP\\Lib\\site-packages\\botorch\\optim\\fit.py:102: OptimizationWarning: `scipy_minimize` terminated with status OptimizationStatus.FAILURE, displaying original message from `scipy.optimize.minimize`: ABNORMAL_TERMINATION_IN_LNSRCH\n",
      "  warn(\n",
      "c:\\Users\\stan\\miniconda3\\envs\\researchTP\\Lib\\site-packages\\botorch\\optim\\fit.py:102: OptimizationWarning: `scipy_minimize` terminated with status OptimizationStatus.FAILURE, displaying original message from `scipy.optimize.minimize`: ABNORMAL_TERMINATION_IN_LNSRCH\n",
      "  warn(\n",
      "c:\\Users\\stan\\miniconda3\\envs\\researchTP\\Lib\\site-packages\\botorch\\optim\\fit.py:102: OptimizationWarning: `scipy_minimize` terminated with status OptimizationStatus.FAILURE, displaying original message from `scipy.optimize.minimize`: ABNORMAL_TERMINATION_IN_LNSRCH\n",
      "  warn(\n",
      "c:\\Users\\stan\\miniconda3\\envs\\researchTP\\Lib\\site-packages\\botorch\\optim\\fit.py:102: OptimizationWarning: `scipy_minimize` terminated with status OptimizationStatus.FAILURE, displaying original message from `scipy.optimize.minimize`: ABNORMAL_TERMINATION_IN_LNSRCH\n",
      "  warn(\n",
      "c:\\Users\\stan\\miniconda3\\envs\\researchTP\\Lib\\site-packages\\botorch\\optim\\fit.py:102: OptimizationWarning: `scipy_minimize` terminated with status OptimizationStatus.FAILURE, displaying original message from `scipy.optimize.minimize`: ABNORMAL_TERMINATION_IN_LNSRCH\n",
      "  warn(\n",
      "c:\\Users\\stan\\miniconda3\\envs\\researchTP\\Lib\\site-packages\\botorch\\optim\\fit.py:102: OptimizationWarning: `scipy_minimize` terminated with status OptimizationStatus.FAILURE, displaying original message from `scipy.optimize.minimize`: ABNORMAL_TERMINATION_IN_LNSRCH\n",
      "  warn(\n",
      "c:\\Users\\stan\\miniconda3\\envs\\researchTP\\Lib\\site-packages\\botorch\\optim\\fit.py:102: OptimizationWarning: `scipy_minimize` terminated with status OptimizationStatus.FAILURE, displaying original message from `scipy.optimize.minimize`: ABNORMAL_TERMINATION_IN_LNSRCH\n",
      "  warn(\n",
      " 10%|█         | 5/50 [00:54<08:20, 11.13s/it]"
     ]
    },
    {
     "name": "stdout",
     "output_type": "stream",
     "text": [
      "Iterations 75\n",
      "Minimizing with EGP\n",
      "Seed: 41\n",
      "Initial points: tensor([[0.1700, 0.8000, 0.0300],\n",
      "        [0.7500, 0.0000, 0.2500],\n",
      "        [0.2600, 0.3700, 0.3600],\n",
      "        [0.7100, 0.0100, 0.2800],\n",
      "        [0.2700, 0.3400, 0.4000]])\n"
     ]
    },
    {
     "name": "stderr",
     "output_type": "stream",
     "text": [
      "c:\\Users\\stan\\miniconda3\\envs\\researchTP\\Lib\\site-packages\\botorch\\optim\\fit.py:102: OptimizationWarning: `scipy_minimize` terminated with status OptimizationStatus.FAILURE, displaying original message from `scipy.optimize.minimize`: ABNORMAL_TERMINATION_IN_LNSRCH\n",
      "  warn(\n",
      "c:\\Users\\stan\\miniconda3\\envs\\researchTP\\Lib\\site-packages\\botorch\\optim\\fit.py:102: OptimizationWarning: `scipy_minimize` terminated with status OptimizationStatus.FAILURE, displaying original message from `scipy.optimize.minimize`: ABNORMAL_TERMINATION_IN_LNSRCH\n",
      "  warn(\n",
      "c:\\Users\\stan\\miniconda3\\envs\\researchTP\\Lib\\site-packages\\botorch\\optim\\fit.py:102: OptimizationWarning: `scipy_minimize` terminated with status OptimizationStatus.FAILURE, displaying original message from `scipy.optimize.minimize`: ABNORMAL_TERMINATION_IN_LNSRCH\n",
      "  warn(\n",
      "c:\\Users\\stan\\miniconda3\\envs\\researchTP\\Lib\\site-packages\\linear_operator\\utils\\cholesky.py:40: NumericalWarning: A not p.d., added jitter of 1.0e-06 to the diagonal\n",
      "  warnings.warn(\n",
      "c:\\Users\\stan\\miniconda3\\envs\\researchTP\\Lib\\site-packages\\linear_operator\\utils\\cholesky.py:40: NumericalWarning: A not p.d., added jitter of 1.0e-05 to the diagonal\n",
      "  warnings.warn(\n",
      "c:\\Users\\stan\\miniconda3\\envs\\researchTP\\Lib\\site-packages\\linear_operator\\utils\\cholesky.py:40: NumericalWarning: A not p.d., added jitter of 1.0e-04 to the diagonal\n",
      "  warnings.warn(\n",
      "c:\\Users\\stan\\miniconda3\\envs\\researchTP\\Lib\\site-packages\\linear_operator\\utils\\cholesky.py:40: NumericalWarning: A not p.d., added jitter of 1.0e-03 to the diagonal\n",
      "  warnings.warn(\n",
      "c:\\Users\\stan\\miniconda3\\envs\\researchTP\\Lib\\site-packages\\linear_operator\\utils\\cholesky.py:40: NumericalWarning: A not p.d., added jitter of 1.0e-02 to the diagonal\n",
      "  warnings.warn(\n",
      "c:\\Users\\stan\\miniconda3\\envs\\researchTP\\Lib\\site-packages\\gpytorch\\distributions\\multivariate_normal.py:319: NumericalWarning: Negative variance values detected. This is likely due to numerical instabilities. Rounding negative variances up to 1e-06.\n",
      "  warnings.warn(\n",
      "c:\\Users\\stan\\miniconda3\\envs\\researchTP\\Lib\\site-packages\\gpytorch\\distributions\\multivariate_normal.py:319: NumericalWarning: Negative variance values detected. This is likely due to numerical instabilities. Rounding negative variances up to 1e-06.\n",
      "  warnings.warn(\n",
      "c:\\Users\\stan\\miniconda3\\envs\\researchTP\\Lib\\site-packages\\gpytorch\\distributions\\multivariate_normal.py:319: NumericalWarning: Negative variance values detected. This is likely due to numerical instabilities. Rounding negative variances up to 1e-06.\n",
      "  warnings.warn(\n",
      "c:\\Users\\stan\\miniconda3\\envs\\researchTP\\Lib\\site-packages\\gpytorch\\distributions\\multivariate_normal.py:319: NumericalWarning: Negative variance values detected. This is likely due to numerical instabilities. Rounding negative variances up to 1e-06.\n",
      "  warnings.warn(\n",
      "c:\\Users\\stan\\miniconda3\\envs\\researchTP\\Lib\\site-packages\\gpytorch\\distributions\\multivariate_normal.py:319: NumericalWarning: Negative variance values detected. This is likely due to numerical instabilities. Rounding negative variances up to 1e-06.\n",
      "  warnings.warn(\n",
      "c:\\Users\\stan\\miniconda3\\envs\\researchTP\\Lib\\site-packages\\linear_operator\\utils\\cholesky.py:40: NumericalWarning: A not p.d., added jitter of 1.0e-06 to the diagonal\n",
      "  warnings.warn(\n",
      "c:\\Users\\stan\\miniconda3\\envs\\researchTP\\Lib\\site-packages\\linear_operator\\utils\\cholesky.py:40: NumericalWarning: A not p.d., added jitter of 1.0e-05 to the diagonal\n",
      "  warnings.warn(\n",
      "c:\\Users\\stan\\miniconda3\\envs\\researchTP\\Lib\\site-packages\\linear_operator\\utils\\cholesky.py:40: NumericalWarning: A not p.d., added jitter of 1.0e-04 to the diagonal\n",
      "  warnings.warn(\n",
      "c:\\Users\\stan\\miniconda3\\envs\\researchTP\\Lib\\site-packages\\linear_operator\\utils\\cholesky.py:40: NumericalWarning: A not p.d., added jitter of 1.0e-03 to the diagonal\n",
      "  warnings.warn(\n",
      "c:\\Users\\stan\\miniconda3\\envs\\researchTP\\Lib\\site-packages\\linear_operator\\utils\\cholesky.py:40: NumericalWarning: A not p.d., added jitter of 1.0e-02 to the diagonal\n",
      "  warnings.warn(\n",
      "c:\\Users\\stan\\miniconda3\\envs\\researchTP\\Lib\\site-packages\\linear_operator\\utils\\cholesky.py:40: NumericalWarning: A not p.d., added jitter of 1.0e-01 to the diagonal\n",
      "  warnings.warn(\n",
      "c:\\Users\\stan\\miniconda3\\envs\\researchTP\\Lib\\site-packages\\linear_operator\\utils\\cholesky.py:40: NumericalWarning: A not p.d., added jitter of 1.0e-06 to the diagonal\n",
      "  warnings.warn(\n",
      "c:\\Users\\stan\\miniconda3\\envs\\researchTP\\Lib\\site-packages\\linear_operator\\utils\\cholesky.py:40: NumericalWarning: A not p.d., added jitter of 1.0e-05 to the diagonal\n",
      "  warnings.warn(\n",
      "c:\\Users\\stan\\miniconda3\\envs\\researchTP\\Lib\\site-packages\\linear_operator\\utils\\cholesky.py:40: NumericalWarning: A not p.d., added jitter of 1.0e-04 to the diagonal\n",
      "  warnings.warn(\n",
      "c:\\Users\\stan\\miniconda3\\envs\\researchTP\\Lib\\site-packages\\linear_operator\\utils\\cholesky.py:40: NumericalWarning: A not p.d., added jitter of 1.0e-03 to the diagonal\n",
      "  warnings.warn(\n",
      "c:\\Users\\stan\\miniconda3\\envs\\researchTP\\Lib\\site-packages\\linear_operator\\utils\\cholesky.py:40: NumericalWarning: A not p.d., added jitter of 1.0e-02 to the diagonal\n",
      "  warnings.warn(\n",
      "c:\\Users\\stan\\miniconda3\\envs\\researchTP\\Lib\\site-packages\\linear_operator\\utils\\cholesky.py:40: NumericalWarning: A not p.d., added jitter of 1.0e-01 to the diagonal\n",
      "  warnings.warn(\n",
      "c:\\Users\\stan\\miniconda3\\envs\\researchTP\\Lib\\site-packages\\linear_operator\\utils\\cholesky.py:40: NumericalWarning: A not p.d., added jitter of 1.0e-06 to the diagonal\n",
      "  warnings.warn(\n",
      "c:\\Users\\stan\\miniconda3\\envs\\researchTP\\Lib\\site-packages\\linear_operator\\utils\\cholesky.py:40: NumericalWarning: A not p.d., added jitter of 1.0e-05 to the diagonal\n",
      "  warnings.warn(\n",
      "c:\\Users\\stan\\miniconda3\\envs\\researchTP\\Lib\\site-packages\\linear_operator\\utils\\cholesky.py:40: NumericalWarning: A not p.d., added jitter of 1.0e-04 to the diagonal\n",
      "  warnings.warn(\n",
      "c:\\Users\\stan\\miniconda3\\envs\\researchTP\\Lib\\site-packages\\linear_operator\\utils\\cholesky.py:40: NumericalWarning: A not p.d., added jitter of 1.0e-03 to the diagonal\n",
      "  warnings.warn(\n",
      "c:\\Users\\stan\\miniconda3\\envs\\researchTP\\Lib\\site-packages\\linear_operator\\utils\\cholesky.py:40: NumericalWarning: A not p.d., added jitter of 1.0e-02 to the diagonal\n",
      "  warnings.warn(\n",
      "c:\\Users\\stan\\miniconda3\\envs\\researchTP\\Lib\\site-packages\\botorch\\optim\\fit.py:102: OptimizationWarning: `scipy_minimize` terminated with status OptimizationStatus.FAILURE, displaying original message from `scipy.optimize.minimize`: ABNORMAL_TERMINATION_IN_LNSRCH\n",
      "  warn(\n",
      "c:\\Users\\stan\\miniconda3\\envs\\researchTP\\Lib\\site-packages\\gpytorch\\distributions\\multivariate_normal.py:319: NumericalWarning: Negative variance values detected. This is likely due to numerical instabilities. Rounding negative variances up to 1e-06.\n",
      "  warnings.warn(\n",
      "c:\\Users\\stan\\miniconda3\\envs\\researchTP\\Lib\\site-packages\\botorch\\optim\\fit.py:102: OptimizationWarning: `scipy_minimize` terminated with status OptimizationStatus.FAILURE, displaying original message from `scipy.optimize.minimize`: ABNORMAL_TERMINATION_IN_LNSRCH\n",
      "  warn(\n",
      "c:\\Users\\stan\\miniconda3\\envs\\researchTP\\Lib\\site-packages\\botorch\\optim\\fit.py:102: OptimizationWarning: `scipy_minimize` terminated with status OptimizationStatus.FAILURE, displaying original message from `scipy.optimize.minimize`: ABNORMAL_TERMINATION_IN_LNSRCH\n",
      "  warn(\n",
      "c:\\Users\\stan\\miniconda3\\envs\\researchTP\\Lib\\site-packages\\botorch\\optim\\fit.py:102: OptimizationWarning: `scipy_minimize` terminated with status OptimizationStatus.FAILURE, displaying original message from `scipy.optimize.minimize`: ABNORMAL_TERMINATION_IN_LNSRCH\n",
      "  warn(\n",
      " 12%|█▏        | 6/50 [01:10<09:17, 12.68s/it]"
     ]
    },
    {
     "name": "stdout",
     "output_type": "stream",
     "text": [
      "Iterations 98\n",
      "Minimizing with EGP\n",
      "Seed: 265\n",
      "Initial points: tensor([[0.9100, 0.0100, 0.0800],\n",
      "        [0.5000, 0.0000, 0.5000],\n",
      "        [0.2800, 0.6500, 0.0700],\n",
      "        [0.3500, 0.6500, 0.0000],\n",
      "        [0.0900, 0.8500, 0.0600]])\n"
     ]
    },
    {
     "name": "stderr",
     "output_type": "stream",
     "text": [
      "c:\\Users\\stan\\miniconda3\\envs\\researchTP\\Lib\\site-packages\\botorch\\optim\\fit.py:102: OptimizationWarning: `scipy_minimize` terminated with status OptimizationStatus.FAILURE, displaying original message from `scipy.optimize.minimize`: ABNORMAL_TERMINATION_IN_LNSRCH\n",
      "  warn(\n",
      "c:\\Users\\stan\\miniconda3\\envs\\researchTP\\Lib\\site-packages\\botorch\\optim\\fit.py:102: OptimizationWarning: `scipy_minimize` terminated with status OptimizationStatus.FAILURE, displaying original message from `scipy.optimize.minimize`: ABNORMAL_TERMINATION_IN_LNSRCH\n",
      "  warn(\n",
      "c:\\Users\\stan\\miniconda3\\envs\\researchTP\\Lib\\site-packages\\botorch\\optim\\fit.py:102: OptimizationWarning: `scipy_minimize` terminated with status OptimizationStatus.FAILURE, displaying original message from `scipy.optimize.minimize`: ABNORMAL_TERMINATION_IN_LNSRCH\n",
      "  warn(\n",
      "c:\\Users\\stan\\miniconda3\\envs\\researchTP\\Lib\\site-packages\\botorch\\optim\\fit.py:102: OptimizationWarning: `scipy_minimize` terminated with status OptimizationStatus.FAILURE, displaying original message from `scipy.optimize.minimize`: ABNORMAL_TERMINATION_IN_LNSRCH\n",
      "  warn(\n",
      "c:\\Users\\stan\\miniconda3\\envs\\researchTP\\Lib\\site-packages\\botorch\\optim\\fit.py:102: OptimizationWarning: `scipy_minimize` terminated with status OptimizationStatus.FAILURE, displaying original message from `scipy.optimize.minimize`: ABNORMAL_TERMINATION_IN_LNSRCH\n",
      "  warn(\n",
      " 14%|█▍        | 7/50 [01:26<09:57, 13.90s/it]"
     ]
    },
    {
     "name": "stdout",
     "output_type": "stream",
     "text": [
      "Iterations 101\n",
      "Minimizing with EGP\n",
      "Seed: 988\n",
      "Initial points: tensor([[0.7600, 0.2400, 0.0000],\n",
      "        [0.8900, 0.0000, 0.1100],\n",
      "        [0.1600, 0.7000, 0.1400],\n",
      "        [0.5000, 0.0000, 0.5000],\n",
      "        [0.1300, 0.8500, 0.0200]])\n"
     ]
    },
    {
     "name": "stderr",
     "output_type": "stream",
     "text": [
      "c:\\Users\\stan\\miniconda3\\envs\\researchTP\\Lib\\site-packages\\botorch\\optim\\fit.py:102: OptimizationWarning: `scipy_minimize` terminated with status OptimizationStatus.FAILURE, displaying original message from `scipy.optimize.minimize`: ABNORMAL_TERMINATION_IN_LNSRCH\n",
      "  warn(\n",
      "c:\\Users\\stan\\miniconda3\\envs\\researchTP\\Lib\\site-packages\\botorch\\optim\\fit.py:102: OptimizationWarning: `scipy_minimize` terminated with status OptimizationStatus.FAILURE, displaying original message from `scipy.optimize.minimize`: ABNORMAL_TERMINATION_IN_LNSRCH\n",
      "  warn(\n",
      "c:\\Users\\stan\\miniconda3\\envs\\researchTP\\Lib\\site-packages\\botorch\\optim\\fit.py:102: OptimizationWarning: `scipy_minimize` terminated with status OptimizationStatus.FAILURE, displaying original message from `scipy.optimize.minimize`: ABNORMAL_TERMINATION_IN_LNSRCH\n",
      "  warn(\n",
      " 16%|█▌        | 8/50 [01:42<10:05, 14.41s/it]"
     ]
    },
    {
     "name": "stdout",
     "output_type": "stream",
     "text": [
      "Iterations 95\n",
      "Minimizing with EGP\n",
      "Seed: 523\n",
      "Initial points: tensor([[0.2800, 0.6500, 0.0700],\n",
      "        [0.6300, 0.3700, 0.0000],\n",
      "        [0.0500, 0.7885, 0.1615],\n",
      "        [0.8900, 0.0000, 0.1100],\n",
      "        [0.1300, 0.8700, 0.0000]])\n"
     ]
    },
    {
     "name": "stderr",
     "output_type": "stream",
     "text": [
      "c:\\Users\\stan\\miniconda3\\envs\\researchTP\\Lib\\site-packages\\botorch\\optim\\fit.py:102: OptimizationWarning: `scipy_minimize` terminated with status OptimizationStatus.FAILURE, displaying original message from `scipy.optimize.minimize`: ABNORMAL_TERMINATION_IN_LNSRCH\n",
      "  warn(\n",
      "c:\\Users\\stan\\miniconda3\\envs\\researchTP\\Lib\\site-packages\\botorch\\optim\\fit.py:102: OptimizationWarning: `scipy_minimize` terminated with status OptimizationStatus.FAILURE, displaying original message from `scipy.optimize.minimize`: ABNORMAL_TERMINATION_IN_LNSRCH\n",
      "  warn(\n",
      "c:\\Users\\stan\\miniconda3\\envs\\researchTP\\Lib\\site-packages\\gpytorch\\distributions\\multivariate_normal.py:319: NumericalWarning: Negative variance values detected. This is likely due to numerical instabilities. Rounding negative variances up to 1e-06.\n",
      "  warnings.warn(\n",
      "c:\\Users\\stan\\miniconda3\\envs\\researchTP\\Lib\\site-packages\\gpytorch\\distributions\\multivariate_normal.py:319: NumericalWarning: Negative variance values detected. This is likely due to numerical instabilities. Rounding negative variances up to 1e-06.\n",
      "  warnings.warn(\n",
      "c:\\Users\\stan\\miniconda3\\envs\\researchTP\\Lib\\site-packages\\gpytorch\\distributions\\multivariate_normal.py:319: NumericalWarning: Negative variance values detected. This is likely due to numerical instabilities. Rounding negative variances up to 1e-06.\n",
      "  warnings.warn(\n",
      "c:\\Users\\stan\\miniconda3\\envs\\researchTP\\Lib\\site-packages\\gpytorch\\distributions\\multivariate_normal.py:319: NumericalWarning: Negative variance values detected. This is likely due to numerical instabilities. Rounding negative variances up to 1e-06.\n",
      "  warnings.warn(\n",
      "c:\\Users\\stan\\miniconda3\\envs\\researchTP\\Lib\\site-packages\\gpytorch\\distributions\\multivariate_normal.py:319: NumericalWarning: Negative variance values detected. This is likely due to numerical instabilities. Rounding negative variances up to 1e-06.\n",
      "  warnings.warn(\n",
      "c:\\Users\\stan\\miniconda3\\envs\\researchTP\\Lib\\site-packages\\botorch\\optim\\fit.py:102: OptimizationWarning: `scipy_minimize` terminated with status OptimizationStatus.FAILURE, displaying original message from `scipy.optimize.minimize`: ABNORMAL_TERMINATION_IN_LNSRCH\n",
      "  warn(\n",
      "c:\\Users\\stan\\miniconda3\\envs\\researchTP\\Lib\\site-packages\\gpytorch\\distributions\\multivariate_normal.py:319: NumericalWarning: Negative variance values detected. This is likely due to numerical instabilities. Rounding negative variances up to 1e-06.\n",
      "  warnings.warn(\n",
      "c:\\Users\\stan\\miniconda3\\envs\\researchTP\\Lib\\site-packages\\gpytorch\\distributions\\multivariate_normal.py:319: NumericalWarning: Negative variance values detected. This is likely due to numerical instabilities. Rounding negative variances up to 1e-06.\n",
      "  warnings.warn(\n",
      "c:\\Users\\stan\\miniconda3\\envs\\researchTP\\Lib\\site-packages\\botorch\\optim\\fit.py:102: OptimizationWarning: `scipy_minimize` terminated with status OptimizationStatus.FAILURE, displaying original message from `scipy.optimize.minimize`: ABNORMAL_TERMINATION_IN_LNSRCH\n",
      "  warn(\n",
      "c:\\Users\\stan\\miniconda3\\envs\\researchTP\\Lib\\site-packages\\gpytorch\\distributions\\multivariate_normal.py:319: NumericalWarning: Negative variance values detected. This is likely due to numerical instabilities. Rounding negative variances up to 1e-06.\n",
      "  warnings.warn(\n",
      "c:\\Users\\stan\\miniconda3\\envs\\researchTP\\Lib\\site-packages\\gpytorch\\distributions\\multivariate_normal.py:319: NumericalWarning: Negative variance values detected. This is likely due to numerical instabilities. Rounding negative variances up to 1e-06.\n",
      "  warnings.warn(\n",
      "c:\\Users\\stan\\miniconda3\\envs\\researchTP\\Lib\\site-packages\\gpytorch\\distributions\\multivariate_normal.py:319: NumericalWarning: Negative variance values detected. This is likely due to numerical instabilities. Rounding negative variances up to 1e-06.\n",
      "  warnings.warn(\n",
      "c:\\Users\\stan\\miniconda3\\envs\\researchTP\\Lib\\site-packages\\gpytorch\\distributions\\multivariate_normal.py:319: NumericalWarning: Negative variance values detected. This is likely due to numerical instabilities. Rounding negative variances up to 1e-06.\n",
      "  warnings.warn(\n",
      "c:\\Users\\stan\\miniconda3\\envs\\researchTP\\Lib\\site-packages\\gpytorch\\distributions\\multivariate_normal.py:319: NumericalWarning: Negative variance values detected. This is likely due to numerical instabilities. Rounding negative variances up to 1e-06.\n",
      "  warnings.warn(\n",
      "c:\\Users\\stan\\miniconda3\\envs\\researchTP\\Lib\\site-packages\\gpytorch\\distributions\\multivariate_normal.py:319: NumericalWarning: Negative variance values detected. This is likely due to numerical instabilities. Rounding negative variances up to 1e-06.\n",
      "  warnings.warn(\n",
      "c:\\Users\\stan\\miniconda3\\envs\\researchTP\\Lib\\site-packages\\gpytorch\\distributions\\multivariate_normal.py:319: NumericalWarning: Negative variance values detected. This is likely due to numerical instabilities. Rounding negative variances up to 1e-06.\n",
      "  warnings.warn(\n",
      "c:\\Users\\stan\\miniconda3\\envs\\researchTP\\Lib\\site-packages\\gpytorch\\distributions\\multivariate_normal.py:319: NumericalWarning: Negative variance values detected. This is likely due to numerical instabilities. Rounding negative variances up to 1e-06.\n",
      "  warnings.warn(\n",
      "c:\\Users\\stan\\miniconda3\\envs\\researchTP\\Lib\\site-packages\\linear_operator\\utils\\cholesky.py:40: NumericalWarning: A not p.d., added jitter of 1.0e-06 to the diagonal\n",
      "  warnings.warn(\n",
      "c:\\Users\\stan\\miniconda3\\envs\\researchTP\\Lib\\site-packages\\linear_operator\\utils\\cholesky.py:40: NumericalWarning: A not p.d., added jitter of 1.0e-05 to the diagonal\n",
      "  warnings.warn(\n",
      "c:\\Users\\stan\\miniconda3\\envs\\researchTP\\Lib\\site-packages\\linear_operator\\utils\\cholesky.py:40: NumericalWarning: A not p.d., added jitter of 1.0e-04 to the diagonal\n",
      "  warnings.warn(\n",
      "c:\\Users\\stan\\miniconda3\\envs\\researchTP\\Lib\\site-packages\\linear_operator\\utils\\cholesky.py:40: NumericalWarning: A not p.d., added jitter of 1.0e-03 to the diagonal\n",
      "  warnings.warn(\n",
      "c:\\Users\\stan\\miniconda3\\envs\\researchTP\\Lib\\site-packages\\linear_operator\\utils\\cholesky.py:40: NumericalWarning: A not p.d., added jitter of 1.0e-02 to the diagonal\n",
      "  warnings.warn(\n",
      "c:\\Users\\stan\\miniconda3\\envs\\researchTP\\Lib\\site-packages\\linear_operator\\utils\\cholesky.py:40: NumericalWarning: A not p.d., added jitter of 1.0e-01 to the diagonal\n",
      "  warnings.warn(\n",
      "c:\\Users\\stan\\miniconda3\\envs\\researchTP\\Lib\\site-packages\\botorch\\optim\\fit.py:102: OptimizationWarning: `scipy_minimize` terminated with status OptimizationStatus.FAILURE, displaying original message from `scipy.optimize.minimize`: ABNORMAL_TERMINATION_IN_LNSRCH\n",
      "  warn(\n",
      "c:\\Users\\stan\\miniconda3\\envs\\researchTP\\Lib\\site-packages\\gpytorch\\distributions\\multivariate_normal.py:319: NumericalWarning: Negative variance values detected. This is likely due to numerical instabilities. Rounding negative variances up to 1e-06.\n",
      "  warnings.warn(\n",
      "c:\\Users\\stan\\miniconda3\\envs\\researchTP\\Lib\\site-packages\\botorch\\optim\\fit.py:102: OptimizationWarning: `scipy_minimize` terminated with status OptimizationStatus.FAILURE, displaying original message from `scipy.optimize.minimize`: ABNORMAL_TERMINATION_IN_LNSRCH\n",
      "  warn(\n",
      "c:\\Users\\stan\\miniconda3\\envs\\researchTP\\Lib\\site-packages\\botorch\\optim\\fit.py:102: OptimizationWarning: `scipy_minimize` terminated with status OptimizationStatus.FAILURE, displaying original message from `scipy.optimize.minimize`: ABNORMAL_TERMINATION_IN_LNSRCH\n",
      "  warn(\n",
      " 18%|█▊        | 9/50 [01:55<09:34, 14.02s/it]"
     ]
    },
    {
     "name": "stdout",
     "output_type": "stream",
     "text": [
      "Iterations 87\n",
      "Minimizing with EGP\n",
      "Seed: 497\n",
      "Initial points: tensor([[0.8900, 0.0000, 0.1100],\n",
      "        [0.1600, 0.7500, 0.0900],\n",
      "        [0.2500, 0.7100, 0.0400],\n",
      "        [0.0000, 0.2500, 0.7500],\n",
      "        [0.1300, 0.7900, 0.0800]])\n"
     ]
    },
    {
     "name": "stderr",
     "output_type": "stream",
     "text": [
      "c:\\Users\\stan\\miniconda3\\envs\\researchTP\\Lib\\site-packages\\botorch\\optim\\fit.py:102: OptimizationWarning: `scipy_minimize` terminated with status OptimizationStatus.FAILURE, displaying original message from `scipy.optimize.minimize`: ABNORMAL_TERMINATION_IN_LNSRCH\n",
      "  warn(\n",
      "c:\\Users\\stan\\miniconda3\\envs\\researchTP\\Lib\\site-packages\\botorch\\optim\\fit.py:102: OptimizationWarning: `scipy_minimize` terminated with status OptimizationStatus.FAILURE, displaying original message from `scipy.optimize.minimize`: ABNORMAL_TERMINATION_IN_LNSRCH\n",
      "  warn(\n",
      "c:\\Users\\stan\\miniconda3\\envs\\researchTP\\Lib\\site-packages\\botorch\\optim\\fit.py:102: OptimizationWarning: `scipy_minimize` terminated with status OptimizationStatus.FAILURE, displaying original message from `scipy.optimize.minimize`: ABNORMAL_TERMINATION_IN_LNSRCH\n",
      "  warn(\n",
      "c:\\Users\\stan\\miniconda3\\envs\\researchTP\\Lib\\site-packages\\botorch\\optim\\fit.py:102: OptimizationWarning: `scipy_minimize` terminated with status OptimizationStatus.FAILURE, displaying original message from `scipy.optimize.minimize`: ABNORMAL_TERMINATION_IN_LNSRCH\n",
      "  warn(\n",
      "c:\\Users\\stan\\miniconda3\\envs\\researchTP\\Lib\\site-packages\\botorch\\optim\\fit.py:102: OptimizationWarning: `scipy_minimize` terminated with status OptimizationStatus.FAILURE, displaying original message from `scipy.optimize.minimize`: ABNORMAL_TERMINATION_IN_LNSRCH\n",
      "  warn(\n",
      "c:\\Users\\stan\\miniconda3\\envs\\researchTP\\Lib\\site-packages\\botorch\\optim\\fit.py:102: OptimizationWarning: `scipy_minimize` terminated with status OptimizationStatus.FAILURE, displaying original message from `scipy.optimize.minimize`: ABNORMAL_TERMINATION_IN_LNSRCH\n",
      "  warn(\n",
      " 20%|██        | 10/50 [02:08<09:10, 13.76s/it]"
     ]
    },
    {
     "name": "stdout",
     "output_type": "stream",
     "text": [
      "Iterations 78\n",
      "Minimizing with EGP\n",
      "Seed: 414\n",
      "Initial points: tensor([[0.2500, 0.7500, 0.0000],\n",
      "        [0.0000, 0.2500, 0.7500],\n",
      "        [0.1600, 0.7500, 0.0900],\n",
      "        [0.5900, 0.4100, 0.0000],\n",
      "        [0.0000, 1.0000, 0.0000]])\n"
     ]
    },
    {
     "name": "stderr",
     "output_type": "stream",
     "text": [
      "c:\\Users\\stan\\miniconda3\\envs\\researchTP\\Lib\\site-packages\\botorch\\optim\\fit.py:102: OptimizationWarning: `scipy_minimize` terminated with status OptimizationStatus.FAILURE, displaying original message from `scipy.optimize.minimize`: ABNORMAL_TERMINATION_IN_LNSRCH\n",
      "  warn(\n",
      "c:\\Users\\stan\\miniconda3\\envs\\researchTP\\Lib\\site-packages\\botorch\\optim\\fit.py:102: OptimizationWarning: `scipy_minimize` terminated with status OptimizationStatus.FAILURE, displaying original message from `scipy.optimize.minimize`: ABNORMAL_TERMINATION_IN_LNSRCH\n",
      "  warn(\n",
      "c:\\Users\\stan\\miniconda3\\envs\\researchTP\\Lib\\site-packages\\botorch\\optim\\fit.py:102: OptimizationWarning: `scipy_minimize` terminated with status OptimizationStatus.FAILURE, displaying original message from `scipy.optimize.minimize`: ABNORMAL_TERMINATION_IN_LNSRCH\n",
      "  warn(\n",
      "c:\\Users\\stan\\miniconda3\\envs\\researchTP\\Lib\\site-packages\\botorch\\optim\\fit.py:102: OptimizationWarning: `scipy_minimize` terminated with status OptimizationStatus.FAILURE, displaying original message from `scipy.optimize.minimize`: ABNORMAL_TERMINATION_IN_LNSRCH\n",
      "  warn(\n",
      "c:\\Users\\stan\\miniconda3\\envs\\researchTP\\Lib\\site-packages\\botorch\\optim\\fit.py:102: OptimizationWarning: `scipy_minimize` terminated with status OptimizationStatus.FAILURE, displaying original message from `scipy.optimize.minimize`: ABNORMAL_TERMINATION_IN_LNSRCH\n",
      "  warn(\n",
      "c:\\Users\\stan\\miniconda3\\envs\\researchTP\\Lib\\site-packages\\botorch\\optim\\fit.py:102: OptimizationWarning: `scipy_minimize` terminated with status OptimizationStatus.FAILURE, displaying original message from `scipy.optimize.minimize`: ABNORMAL_TERMINATION_IN_LNSRCH\n",
      "  warn(\n",
      "c:\\Users\\stan\\miniconda3\\envs\\researchTP\\Lib\\site-packages\\botorch\\optim\\fit.py:102: OptimizationWarning: `scipy_minimize` terminated with status OptimizationStatus.FAILURE, displaying original message from `scipy.optimize.minimize`: ABNORMAL_TERMINATION_IN_LNSRCH\n",
      "  warn(\n",
      "c:\\Users\\stan\\miniconda3\\envs\\researchTP\\Lib\\site-packages\\botorch\\optim\\fit.py:102: OptimizationWarning: `scipy_minimize` terminated with status OptimizationStatus.FAILURE, displaying original message from `scipy.optimize.minimize`: ABNORMAL_TERMINATION_IN_LNSRCH\n",
      "  warn(\n",
      "c:\\Users\\stan\\miniconda3\\envs\\researchTP\\Lib\\site-packages\\botorch\\optim\\fit.py:102: OptimizationWarning: `scipy_minimize` terminated with status OptimizationStatus.FAILURE, displaying original message from `scipy.optimize.minimize`: ABNORMAL_TERMINATION_IN_LNSRCH\n",
      "  warn(\n",
      " 22%|██▏       | 11/50 [02:23<09:12, 14.16s/it]"
     ]
    },
    {
     "name": "stdout",
     "output_type": "stream",
     "text": [
      "Iterations 85\n",
      "Minimizing with EGP\n",
      "Seed: 940\n",
      "Initial points: tensor([[0.1000, 0.8900, 0.0100],\n",
      "        [0.4300, 0.5700, 0.0000],\n",
      "        [0.0000, 0.2500, 0.7500],\n",
      "        [0.0000, 0.0000, 1.0000],\n",
      "        [0.2200, 0.7200, 0.0600]])\n"
     ]
    },
    {
     "name": "stderr",
     "output_type": "stream",
     "text": [
      "c:\\Users\\stan\\miniconda3\\envs\\researchTP\\Lib\\site-packages\\botorch\\optim\\fit.py:102: OptimizationWarning: `scipy_minimize` terminated with status OptimizationStatus.FAILURE, displaying original message from `scipy.optimize.minimize`: ABNORMAL_TERMINATION_IN_LNSRCH\n",
      "  warn(\n",
      "c:\\Users\\stan\\miniconda3\\envs\\researchTP\\Lib\\site-packages\\botorch\\optim\\fit.py:102: OptimizationWarning: `scipy_minimize` terminated with status OptimizationStatus.FAILURE, displaying original message from `scipy.optimize.minimize`: ABNORMAL_TERMINATION_IN_LNSRCH\n",
      "  warn(\n",
      " 24%|██▍       | 12/50 [02:35<08:35, 13.56s/it]"
     ]
    },
    {
     "name": "stdout",
     "output_type": "stream",
     "text": [
      "Iterations 77\n",
      "Minimizing with EGP\n",
      "Seed: 802\n",
      "Initial points: tensor([[0.0000, 0.5000, 0.5000],\n",
      "        [0.2500, 0.7000, 0.0600],\n",
      "        [0.2800, 0.3700, 0.3500],\n",
      "        [0.0500, 0.7885, 0.1615],\n",
      "        [0.3700, 0.6300, 0.0000]])\n"
     ]
    },
    {
     "name": "stderr",
     "output_type": "stream",
     "text": [
      "c:\\Users\\stan\\miniconda3\\envs\\researchTP\\Lib\\site-packages\\botorch\\optim\\fit.py:102: OptimizationWarning: `scipy_minimize` terminated with status OptimizationStatus.FAILURE, displaying original message from `scipy.optimize.minimize`: ABNORMAL_TERMINATION_IN_LNSRCH\n",
      "  warn(\n",
      "c:\\Users\\stan\\miniconda3\\envs\\researchTP\\Lib\\site-packages\\botorch\\optim\\fit.py:102: OptimizationWarning: `scipy_minimize` terminated with status OptimizationStatus.FAILURE, displaying original message from `scipy.optimize.minimize`: ABNORMAL_TERMINATION_IN_LNSRCH\n",
      "  warn(\n",
      "c:\\Users\\stan\\miniconda3\\envs\\researchTP\\Lib\\site-packages\\botorch\\optim\\fit.py:102: OptimizationWarning: `scipy_minimize` terminated with status OptimizationStatus.FAILURE, displaying original message from `scipy.optimize.minimize`: ABNORMAL_TERMINATION_IN_LNSRCH\n",
      "  warn(\n",
      " 26%|██▌       | 13/50 [02:45<07:35, 12.31s/it]"
     ]
    },
    {
     "name": "stdout",
     "output_type": "stream",
     "text": [
      "Iterations 71\n",
      "Minimizing with EGP\n",
      "Seed: 849\n",
      "Initial points: tensor([[0.0000, 0.2500, 0.7500],\n",
      "        [0.8100, 0.0000, 0.1900],\n",
      "        [0.8300, 0.0000, 0.1700],\n",
      "        [0.6600, 0.2400, 0.1000],\n",
      "        [0.4400, 0.5500, 0.0100]])\n"
     ]
    },
    {
     "name": "stderr",
     "output_type": "stream",
     "text": [
      "c:\\Users\\stan\\miniconda3\\envs\\researchTP\\Lib\\site-packages\\botorch\\optim\\fit.py:102: OptimizationWarning: `scipy_minimize` terminated with status OptimizationStatus.FAILURE, displaying original message from `scipy.optimize.minimize`: ABNORMAL_TERMINATION_IN_LNSRCH\n",
      "  warn(\n",
      "c:\\Users\\stan\\miniconda3\\envs\\researchTP\\Lib\\site-packages\\botorch\\optim\\fit.py:102: OptimizationWarning: `scipy_minimize` terminated with status OptimizationStatus.FAILURE, displaying original message from `scipy.optimize.minimize`: ABNORMAL_TERMINATION_IN_LNSRCH\n",
      "  warn(\n",
      "c:\\Users\\stan\\miniconda3\\envs\\researchTP\\Lib\\site-packages\\botorch\\optim\\fit.py:102: OptimizationWarning: `scipy_minimize` terminated with status OptimizationStatus.FAILURE, displaying original message from `scipy.optimize.minimize`: ABNORMAL_TERMINATION_IN_LNSRCH\n",
      "  warn(\n",
      "c:\\Users\\stan\\miniconda3\\envs\\researchTP\\Lib\\site-packages\\botorch\\optim\\fit.py:102: OptimizationWarning: `scipy_minimize` terminated with status OptimizationStatus.FAILURE, displaying original message from `scipy.optimize.minimize`: ABNORMAL_TERMINATION_IN_LNSRCH\n",
      "  warn(\n",
      "c:\\Users\\stan\\miniconda3\\envs\\researchTP\\Lib\\site-packages\\botorch\\optim\\fit.py:102: OptimizationWarning: `scipy_minimize` terminated with status OptimizationStatus.FAILURE, displaying original message from `scipy.optimize.minimize`: ABNORMAL_TERMINATION_IN_LNSRCH\n",
      "  warn(\n",
      "c:\\Users\\stan\\miniconda3\\envs\\researchTP\\Lib\\site-packages\\botorch\\optim\\fit.py:102: OptimizationWarning: `scipy_minimize` terminated with status OptimizationStatus.FAILURE, displaying original message from `scipy.optimize.minimize`: ABNORMAL_TERMINATION_IN_LNSRCH\n",
      "  warn(\n",
      "c:\\Users\\stan\\miniconda3\\envs\\researchTP\\Lib\\site-packages\\botorch\\optim\\fit.py:102: OptimizationWarning: `scipy_minimize` terminated with status OptimizationStatus.FAILURE, displaying original message from `scipy.optimize.minimize`: ABNORMAL_TERMINATION_IN_LNSRCH\n",
      "  warn(\n",
      "c:\\Users\\stan\\miniconda3\\envs\\researchTP\\Lib\\site-packages\\botorch\\optim\\fit.py:102: OptimizationWarning: `scipy_minimize` terminated with status OptimizationStatus.FAILURE, displaying original message from `scipy.optimize.minimize`: ABNORMAL_TERMINATION_IN_LNSRCH\n",
      "  warn(\n",
      "c:\\Users\\stan\\miniconda3\\envs\\researchTP\\Lib\\site-packages\\botorch\\optim\\fit.py:102: OptimizationWarning: `scipy_minimize` terminated with status OptimizationStatus.FAILURE, displaying original message from `scipy.optimize.minimize`: ABNORMAL_TERMINATION_IN_LNSRCH\n",
      "  warn(\n",
      " 28%|██▊       | 14/50 [02:58<07:35, 12.66s/it]"
     ]
    },
    {
     "name": "stdout",
     "output_type": "stream",
     "text": [
      "Iterations 79\n",
      "Minimizing with EGP\n",
      "Seed: 310\n",
      "Initial points: tensor([[0.3200, 0.6700, 0.0100],\n",
      "        [0.0000, 0.0000, 1.0000],\n",
      "        [0.2200, 0.7800, 0.0000],\n",
      "        [0.6900, 0.3100, 0.0000],\n",
      "        [0.1400, 0.8400, 0.0200]])\n"
     ]
    },
    {
     "name": "stderr",
     "output_type": "stream",
     "text": [
      "c:\\Users\\stan\\miniconda3\\envs\\researchTP\\Lib\\site-packages\\botorch\\optim\\fit.py:102: OptimizationWarning: `scipy_minimize` terminated with status OptimizationStatus.FAILURE, displaying original message from `scipy.optimize.minimize`: ABNORMAL_TERMINATION_IN_LNSRCH\n",
      "  warn(\n",
      "c:\\Users\\stan\\miniconda3\\envs\\researchTP\\Lib\\site-packages\\botorch\\optim\\fit.py:102: OptimizationWarning: `scipy_minimize` terminated with status OptimizationStatus.FAILURE, displaying original message from `scipy.optimize.minimize`: ABNORMAL_TERMINATION_IN_LNSRCH\n",
      "  warn(\n",
      "c:\\Users\\stan\\miniconda3\\envs\\researchTP\\Lib\\site-packages\\botorch\\optim\\fit.py:102: OptimizationWarning: `scipy_minimize` terminated with status OptimizationStatus.FAILURE, displaying original message from `scipy.optimize.minimize`: ABNORMAL_TERMINATION_IN_LNSRCH\n",
      "  warn(\n",
      "c:\\Users\\stan\\miniconda3\\envs\\researchTP\\Lib\\site-packages\\botorch\\optim\\fit.py:102: OptimizationWarning: `scipy_minimize` terminated with status OptimizationStatus.FAILURE, displaying original message from `scipy.optimize.minimize`: ABNORMAL_TERMINATION_IN_LNSRCH\n",
      "  warn(\n",
      "c:\\Users\\stan\\miniconda3\\envs\\researchTP\\Lib\\site-packages\\botorch\\optim\\fit.py:102: OptimizationWarning: `scipy_minimize` terminated with status OptimizationStatus.FAILURE, displaying original message from `scipy.optimize.minimize`: ABNORMAL_TERMINATION_IN_LNSRCH\n",
      "  warn(\n",
      "c:\\Users\\stan\\miniconda3\\envs\\researchTP\\Lib\\site-packages\\botorch\\optim\\fit.py:102: OptimizationWarning: `scipy_minimize` terminated with status OptimizationStatus.FAILURE, displaying original message from `scipy.optimize.minimize`: ABNORMAL_TERMINATION_IN_LNSRCH\n",
      "  warn(\n",
      "c:\\Users\\stan\\miniconda3\\envs\\researchTP\\Lib\\site-packages\\botorch\\optim\\fit.py:102: OptimizationWarning: `scipy_minimize` terminated with status OptimizationStatus.FAILURE, displaying original message from `scipy.optimize.minimize`: ABNORMAL_TERMINATION_IN_LNSRCH\n",
      "  warn(\n",
      "c:\\Users\\stan\\miniconda3\\envs\\researchTP\\Lib\\site-packages\\botorch\\optim\\fit.py:102: OptimizationWarning: `scipy_minimize` terminated with status OptimizationStatus.FAILURE, displaying original message from `scipy.optimize.minimize`: ABNORMAL_TERMINATION_IN_LNSRCH\n",
      "  warn(\n",
      " 30%|███       | 15/50 [03:14<07:59, 13.69s/it]"
     ]
    },
    {
     "name": "stdout",
     "output_type": "stream",
     "text": [
      "Iterations 98\n",
      "Minimizing with EGP\n",
      "Seed: 991\n",
      "Initial points: tensor([[0.5000, 0.0000, 0.5000],\n",
      "        [0.1300, 0.7900, 0.0800],\n",
      "        [0.7500, 0.0000, 0.2500],\n",
      "        [0.2500, 0.2500, 0.5000],\n",
      "        [0.0500, 0.7885, 0.1615]])\n"
     ]
    },
    {
     "name": "stderr",
     "output_type": "stream",
     "text": [
      "c:\\Users\\stan\\miniconda3\\envs\\researchTP\\Lib\\site-packages\\botorch\\optim\\fit.py:102: OptimizationWarning: `scipy_minimize` terminated with status OptimizationStatus.FAILURE, displaying original message from `scipy.optimize.minimize`: ABNORMAL_TERMINATION_IN_LNSRCH\n",
      "  warn(\n",
      "c:\\Users\\stan\\miniconda3\\envs\\researchTP\\Lib\\site-packages\\botorch\\optim\\fit.py:102: OptimizationWarning: `scipy_minimize` terminated with status OptimizationStatus.FAILURE, displaying original message from `scipy.optimize.minimize`: ABNORMAL_TERMINATION_IN_LNSRCH\n",
      "  warn(\n",
      "c:\\Users\\stan\\miniconda3\\envs\\researchTP\\Lib\\site-packages\\botorch\\optim\\fit.py:102: OptimizationWarning: `scipy_minimize` terminated with status OptimizationStatus.FAILURE, displaying original message from `scipy.optimize.minimize`: ABNORMAL_TERMINATION_IN_LNSRCH\n",
      "  warn(\n",
      "c:\\Users\\stan\\miniconda3\\envs\\researchTP\\Lib\\site-packages\\botorch\\optim\\fit.py:102: OptimizationWarning: `scipy_minimize` terminated with status OptimizationStatus.FAILURE, displaying original message from `scipy.optimize.minimize`: ABNORMAL_TERMINATION_IN_LNSRCH\n",
      "  warn(\n",
      "c:\\Users\\stan\\miniconda3\\envs\\researchTP\\Lib\\site-packages\\botorch\\optim\\fit.py:102: OptimizationWarning: `scipy_minimize` terminated with status OptimizationStatus.FAILURE, displaying original message from `scipy.optimize.minimize`: ABNORMAL_TERMINATION_IN_LNSRCH\n",
      "  warn(\n",
      "c:\\Users\\stan\\miniconda3\\envs\\researchTP\\Lib\\site-packages\\botorch\\optim\\fit.py:102: OptimizationWarning: `scipy_minimize` terminated with status OptimizationStatus.FAILURE, displaying original message from `scipy.optimize.minimize`: ABNORMAL_TERMINATION_IN_LNSRCH\n",
      "  warn(\n",
      "c:\\Users\\stan\\miniconda3\\envs\\researchTP\\Lib\\site-packages\\botorch\\optim\\fit.py:102: OptimizationWarning: `scipy_minimize` terminated with status OptimizationStatus.FAILURE, displaying original message from `scipy.optimize.minimize`: ABNORMAL_TERMINATION_IN_LNSRCH\n",
      "  warn(\n",
      " 32%|███▏      | 16/50 [03:25<07:14, 12.78s/it]"
     ]
    },
    {
     "name": "stdout",
     "output_type": "stream",
     "text": [
      "Iterations 70\n",
      "Minimizing with EGP\n",
      "Seed: 488\n",
      "Initial points: tensor([[0.3400, 0.6400, 0.0200],\n",
      "        [0.2500, 0.2500, 0.5000],\n",
      "        [0.2500, 0.7000, 0.0600],\n",
      "        [0.1800, 0.7800, 0.0400],\n",
      "        [1.0000, 0.0000, 0.0000]])\n"
     ]
    },
    {
     "name": "stderr",
     "output_type": "stream",
     "text": [
      "c:\\Users\\stan\\miniconda3\\envs\\researchTP\\Lib\\site-packages\\botorch\\optim\\fit.py:102: OptimizationWarning: `scipy_minimize` terminated with status OptimizationStatus.FAILURE, displaying original message from `scipy.optimize.minimize`: ABNORMAL_TERMINATION_IN_LNSRCH\n",
      "  warn(\n",
      "c:\\Users\\stan\\miniconda3\\envs\\researchTP\\Lib\\site-packages\\botorch\\optim\\fit.py:102: OptimizationWarning: `scipy_minimize` terminated with status OptimizationStatus.FAILURE, displaying original message from `scipy.optimize.minimize`: ABNORMAL_TERMINATION_IN_LNSRCH\n",
      "  warn(\n",
      "c:\\Users\\stan\\miniconda3\\envs\\researchTP\\Lib\\site-packages\\gpytorch\\distributions\\multivariate_normal.py:319: NumericalWarning: Negative variance values detected. This is likely due to numerical instabilities. Rounding negative variances up to 1e-06.\n",
      "  warnings.warn(\n",
      "c:\\Users\\stan\\miniconda3\\envs\\researchTP\\Lib\\site-packages\\botorch\\optim\\fit.py:102: OptimizationWarning: `scipy_minimize` terminated with status OptimizationStatus.FAILURE, displaying original message from `scipy.optimize.minimize`: ABNORMAL_TERMINATION_IN_LNSRCH\n",
      "  warn(\n",
      "c:\\Users\\stan\\miniconda3\\envs\\researchTP\\Lib\\site-packages\\gpytorch\\distributions\\multivariate_normal.py:319: NumericalWarning: Negative variance values detected. This is likely due to numerical instabilities. Rounding negative variances up to 1e-06.\n",
      "  warnings.warn(\n",
      "c:\\Users\\stan\\miniconda3\\envs\\researchTP\\Lib\\site-packages\\linear_operator\\utils\\cholesky.py:40: NumericalWarning: A not p.d., added jitter of 1.0e-06 to the diagonal\n",
      "  warnings.warn(\n",
      "c:\\Users\\stan\\miniconda3\\envs\\researchTP\\Lib\\site-packages\\linear_operator\\utils\\cholesky.py:40: NumericalWarning: A not p.d., added jitter of 1.0e-05 to the diagonal\n",
      "  warnings.warn(\n",
      "c:\\Users\\stan\\miniconda3\\envs\\researchTP\\Lib\\site-packages\\linear_operator\\utils\\cholesky.py:40: NumericalWarning: A not p.d., added jitter of 1.0e-04 to the diagonal\n",
      "  warnings.warn(\n",
      "c:\\Users\\stan\\miniconda3\\envs\\researchTP\\Lib\\site-packages\\linear_operator\\utils\\cholesky.py:40: NumericalWarning: A not p.d., added jitter of 1.0e-03 to the diagonal\n",
      "  warnings.warn(\n",
      "c:\\Users\\stan\\miniconda3\\envs\\researchTP\\Lib\\site-packages\\linear_operator\\utils\\cholesky.py:40: NumericalWarning: A not p.d., added jitter of 1.0e-02 to the diagonal\n",
      "  warnings.warn(\n",
      "c:\\Users\\stan\\miniconda3\\envs\\researchTP\\Lib\\site-packages\\linear_operator\\utils\\cholesky.py:40: NumericalWarning: A not p.d., added jitter of 1.0e-01 to the diagonal\n",
      "  warnings.warn(\n",
      "c:\\Users\\stan\\miniconda3\\envs\\researchTP\\Lib\\site-packages\\linear_operator\\utils\\cholesky.py:40: NumericalWarning: A not p.d., added jitter of 1.0e-06 to the diagonal\n",
      "  warnings.warn(\n",
      "c:\\Users\\stan\\miniconda3\\envs\\researchTP\\Lib\\site-packages\\linear_operator\\utils\\cholesky.py:40: NumericalWarning: A not p.d., added jitter of 1.0e-05 to the diagonal\n",
      "  warnings.warn(\n",
      "c:\\Users\\stan\\miniconda3\\envs\\researchTP\\Lib\\site-packages\\linear_operator\\utils\\cholesky.py:40: NumericalWarning: A not p.d., added jitter of 1.0e-04 to the diagonal\n",
      "  warnings.warn(\n",
      "c:\\Users\\stan\\miniconda3\\envs\\researchTP\\Lib\\site-packages\\linear_operator\\utils\\cholesky.py:40: NumericalWarning: A not p.d., added jitter of 1.0e-03 to the diagonal\n",
      "  warnings.warn(\n",
      "c:\\Users\\stan\\miniconda3\\envs\\researchTP\\Lib\\site-packages\\linear_operator\\utils\\cholesky.py:40: NumericalWarning: A not p.d., added jitter of 1.0e-02 to the diagonal\n",
      "  warnings.warn(\n",
      "c:\\Users\\stan\\miniconda3\\envs\\researchTP\\Lib\\site-packages\\linear_operator\\utils\\cholesky.py:40: NumericalWarning: A not p.d., added jitter of 1.0e-01 to the diagonal\n",
      "  warnings.warn(\n",
      "c:\\Users\\stan\\miniconda3\\envs\\researchTP\\Lib\\site-packages\\gpytorch\\distributions\\multivariate_normal.py:319: NumericalWarning: Negative variance values detected. This is likely due to numerical instabilities. Rounding negative variances up to 1e-06.\n",
      "  warnings.warn(\n",
      "c:\\Users\\stan\\miniconda3\\envs\\researchTP\\Lib\\site-packages\\linear_operator\\utils\\cholesky.py:40: NumericalWarning: A not p.d., added jitter of 1.0e-06 to the diagonal\n",
      "  warnings.warn(\n",
      "c:\\Users\\stan\\miniconda3\\envs\\researchTP\\Lib\\site-packages\\linear_operator\\utils\\cholesky.py:40: NumericalWarning: A not p.d., added jitter of 1.0e-05 to the diagonal\n",
      "  warnings.warn(\n",
      "c:\\Users\\stan\\miniconda3\\envs\\researchTP\\Lib\\site-packages\\linear_operator\\utils\\cholesky.py:40: NumericalWarning: A not p.d., added jitter of 1.0e-04 to the diagonal\n",
      "  warnings.warn(\n",
      "c:\\Users\\stan\\miniconda3\\envs\\researchTP\\Lib\\site-packages\\linear_operator\\utils\\cholesky.py:40: NumericalWarning: A not p.d., added jitter of 1.0e-03 to the diagonal\n",
      "  warnings.warn(\n",
      "c:\\Users\\stan\\miniconda3\\envs\\researchTP\\Lib\\site-packages\\linear_operator\\utils\\cholesky.py:40: NumericalWarning: A not p.d., added jitter of 1.0e-02 to the diagonal\n",
      "  warnings.warn(\n",
      "c:\\Users\\stan\\miniconda3\\envs\\researchTP\\Lib\\site-packages\\gpytorch\\distributions\\multivariate_normal.py:319: NumericalWarning: Negative variance values detected. This is likely due to numerical instabilities. Rounding negative variances up to 1e-06.\n",
      "  warnings.warn(\n",
      "c:\\Users\\stan\\miniconda3\\envs\\researchTP\\Lib\\site-packages\\linear_operator\\utils\\cholesky.py:40: NumericalWarning: A not p.d., added jitter of 1.0e-06 to the diagonal\n",
      "  warnings.warn(\n",
      "c:\\Users\\stan\\miniconda3\\envs\\researchTP\\Lib\\site-packages\\linear_operator\\utils\\cholesky.py:40: NumericalWarning: A not p.d., added jitter of 1.0e-05 to the diagonal\n",
      "  warnings.warn(\n",
      "c:\\Users\\stan\\miniconda3\\envs\\researchTP\\Lib\\site-packages\\linear_operator\\utils\\cholesky.py:40: NumericalWarning: A not p.d., added jitter of 1.0e-04 to the diagonal\n",
      "  warnings.warn(\n",
      "c:\\Users\\stan\\miniconda3\\envs\\researchTP\\Lib\\site-packages\\linear_operator\\utils\\cholesky.py:40: NumericalWarning: A not p.d., added jitter of 1.0e-03 to the diagonal\n",
      "  warnings.warn(\n",
      "c:\\Users\\stan\\miniconda3\\envs\\researchTP\\Lib\\site-packages\\gpytorch\\distributions\\multivariate_normal.py:319: NumericalWarning: Negative variance values detected. This is likely due to numerical instabilities. Rounding negative variances up to 1e-06.\n",
      "  warnings.warn(\n",
      "c:\\Users\\stan\\miniconda3\\envs\\researchTP\\Lib\\site-packages\\gpytorch\\distributions\\multivariate_normal.py:319: NumericalWarning: Negative variance values detected. This is likely due to numerical instabilities. Rounding negative variances up to 1e-06.\n",
      "  warnings.warn(\n",
      "c:\\Users\\stan\\miniconda3\\envs\\researchTP\\Lib\\site-packages\\gpytorch\\distributions\\multivariate_normal.py:319: NumericalWarning: Negative variance values detected. This is likely due to numerical instabilities. Rounding negative variances up to 1e-06.\n",
      "  warnings.warn(\n",
      "c:\\Users\\stan\\miniconda3\\envs\\researchTP\\Lib\\site-packages\\gpytorch\\distributions\\multivariate_normal.py:319: NumericalWarning: Negative variance values detected. This is likely due to numerical instabilities. Rounding negative variances up to 1e-06.\n",
      "  warnings.warn(\n",
      "c:\\Users\\stan\\miniconda3\\envs\\researchTP\\Lib\\site-packages\\gpytorch\\distributions\\multivariate_normal.py:319: NumericalWarning: Negative variance values detected. This is likely due to numerical instabilities. Rounding negative variances up to 1e-06.\n",
      "  warnings.warn(\n",
      "c:\\Users\\stan\\miniconda3\\envs\\researchTP\\Lib\\site-packages\\gpytorch\\distributions\\multivariate_normal.py:319: NumericalWarning: Negative variance values detected. This is likely due to numerical instabilities. Rounding negative variances up to 1e-06.\n",
      "  warnings.warn(\n",
      "c:\\Users\\stan\\miniconda3\\envs\\researchTP\\Lib\\site-packages\\gpytorch\\distributions\\multivariate_normal.py:319: NumericalWarning: Negative variance values detected. This is likely due to numerical instabilities. Rounding negative variances up to 1e-06.\n",
      "  warnings.warn(\n",
      "c:\\Users\\stan\\miniconda3\\envs\\researchTP\\Lib\\site-packages\\linear_operator\\utils\\cholesky.py:40: NumericalWarning: A not p.d., added jitter of 1.0e-06 to the diagonal\n",
      "  warnings.warn(\n",
      "c:\\Users\\stan\\miniconda3\\envs\\researchTP\\Lib\\site-packages\\linear_operator\\utils\\cholesky.py:40: NumericalWarning: A not p.d., added jitter of 1.0e-05 to the diagonal\n",
      "  warnings.warn(\n",
      "c:\\Users\\stan\\miniconda3\\envs\\researchTP\\Lib\\site-packages\\linear_operator\\utils\\cholesky.py:40: NumericalWarning: A not p.d., added jitter of 1.0e-04 to the diagonal\n",
      "  warnings.warn(\n",
      "c:\\Users\\stan\\miniconda3\\envs\\researchTP\\Lib\\site-packages\\linear_operator\\utils\\cholesky.py:40: NumericalWarning: A not p.d., added jitter of 1.0e-03 to the diagonal\n",
      "  warnings.warn(\n",
      "c:\\Users\\stan\\miniconda3\\envs\\researchTP\\Lib\\site-packages\\linear_operator\\utils\\cholesky.py:40: NumericalWarning: A not p.d., added jitter of 1.0e-02 to the diagonal\n",
      "  warnings.warn(\n",
      "c:\\Users\\stan\\miniconda3\\envs\\researchTP\\Lib\\site-packages\\linear_operator\\utils\\cholesky.py:40: NumericalWarning: A not p.d., added jitter of 1.0e-01 to the diagonal\n",
      "  warnings.warn(\n",
      "c:\\Users\\stan\\miniconda3\\envs\\researchTP\\Lib\\site-packages\\gpytorch\\distributions\\multivariate_normal.py:319: NumericalWarning: Negative variance values detected. This is likely due to numerical instabilities. Rounding negative variances up to 1e-06.\n",
      "  warnings.warn(\n",
      "c:\\Users\\stan\\miniconda3\\envs\\researchTP\\Lib\\site-packages\\linear_operator\\utils\\cholesky.py:40: NumericalWarning: A not p.d., added jitter of 1.0e-06 to the diagonal\n",
      "  warnings.warn(\n",
      "c:\\Users\\stan\\miniconda3\\envs\\researchTP\\Lib\\site-packages\\linear_operator\\utils\\cholesky.py:40: NumericalWarning: A not p.d., added jitter of 1.0e-05 to the diagonal\n",
      "  warnings.warn(\n",
      "c:\\Users\\stan\\miniconda3\\envs\\researchTP\\Lib\\site-packages\\linear_operator\\utils\\cholesky.py:40: NumericalWarning: A not p.d., added jitter of 1.0e-04 to the diagonal\n",
      "  warnings.warn(\n",
      "c:\\Users\\stan\\miniconda3\\envs\\researchTP\\Lib\\site-packages\\linear_operator\\utils\\cholesky.py:40: NumericalWarning: A not p.d., added jitter of 1.0e-03 to the diagonal\n",
      "  warnings.warn(\n",
      "c:\\Users\\stan\\miniconda3\\envs\\researchTP\\Lib\\site-packages\\linear_operator\\utils\\cholesky.py:40: NumericalWarning: A not p.d., added jitter of 1.0e-02 to the diagonal\n",
      "  warnings.warn(\n",
      "c:\\Users\\stan\\miniconda3\\envs\\researchTP\\Lib\\site-packages\\linear_operator\\utils\\cholesky.py:40: NumericalWarning: A not p.d., added jitter of 1.0e-01 to the diagonal\n",
      "  warnings.warn(\n",
      "c:\\Users\\stan\\miniconda3\\envs\\researchTP\\Lib\\site-packages\\gpytorch\\distributions\\multivariate_normal.py:319: NumericalWarning: Negative variance values detected. This is likely due to numerical instabilities. Rounding negative variances up to 1e-06.\n",
      "  warnings.warn(\n",
      "c:\\Users\\stan\\miniconda3\\envs\\researchTP\\Lib\\site-packages\\gpytorch\\distributions\\multivariate_normal.py:319: NumericalWarning: Negative variance values detected. This is likely due to numerical instabilities. Rounding negative variances up to 1e-06.\n",
      "  warnings.warn(\n",
      "c:\\Users\\stan\\miniconda3\\envs\\researchTP\\Lib\\site-packages\\botorch\\optim\\fit.py:102: OptimizationWarning: `scipy_minimize` terminated with status OptimizationStatus.FAILURE, displaying original message from `scipy.optimize.minimize`: ABNORMAL_TERMINATION_IN_LNSRCH\n",
      "  warn(\n",
      "c:\\Users\\stan\\miniconda3\\envs\\researchTP\\Lib\\site-packages\\gpytorch\\distributions\\multivariate_normal.py:319: NumericalWarning: Negative variance values detected. This is likely due to numerical instabilities. Rounding negative variances up to 1e-06.\n",
      "  warnings.warn(\n",
      "c:\\Users\\stan\\miniconda3\\envs\\researchTP\\Lib\\site-packages\\linear_operator\\utils\\cholesky.py:40: NumericalWarning: A not p.d., added jitter of 1.0e-06 to the diagonal\n",
      "  warnings.warn(\n",
      "c:\\Users\\stan\\miniconda3\\envs\\researchTP\\Lib\\site-packages\\linear_operator\\utils\\cholesky.py:40: NumericalWarning: A not p.d., added jitter of 1.0e-05 to the diagonal\n",
      "  warnings.warn(\n",
      "c:\\Users\\stan\\miniconda3\\envs\\researchTP\\Lib\\site-packages\\linear_operator\\utils\\cholesky.py:40: NumericalWarning: A not p.d., added jitter of 1.0e-04 to the diagonal\n",
      "  warnings.warn(\n",
      "c:\\Users\\stan\\miniconda3\\envs\\researchTP\\Lib\\site-packages\\linear_operator\\utils\\cholesky.py:40: NumericalWarning: A not p.d., added jitter of 1.0e-03 to the diagonal\n",
      "  warnings.warn(\n",
      "c:\\Users\\stan\\miniconda3\\envs\\researchTP\\Lib\\site-packages\\gpytorch\\distributions\\multivariate_normal.py:319: NumericalWarning: Negative variance values detected. This is likely due to numerical instabilities. Rounding negative variances up to 1e-06.\n",
      "  warnings.warn(\n",
      "c:\\Users\\stan\\miniconda3\\envs\\researchTP\\Lib\\site-packages\\gpytorch\\distributions\\multivariate_normal.py:319: NumericalWarning: Negative variance values detected. This is likely due to numerical instabilities. Rounding negative variances up to 1e-06.\n",
      "  warnings.warn(\n",
      "c:\\Users\\stan\\miniconda3\\envs\\researchTP\\Lib\\site-packages\\gpytorch\\distributions\\multivariate_normal.py:319: NumericalWarning: Negative variance values detected. This is likely due to numerical instabilities. Rounding negative variances up to 1e-06.\n",
      "  warnings.warn(\n",
      "c:\\Users\\stan\\miniconda3\\envs\\researchTP\\Lib\\site-packages\\gpytorch\\distributions\\multivariate_normal.py:319: NumericalWarning: Negative variance values detected. This is likely due to numerical instabilities. Rounding negative variances up to 1e-06.\n",
      "  warnings.warn(\n",
      "c:\\Users\\stan\\miniconda3\\envs\\researchTP\\Lib\\site-packages\\gpytorch\\distributions\\multivariate_normal.py:319: NumericalWarning: Negative variance values detected. This is likely due to numerical instabilities. Rounding negative variances up to 1e-06.\n",
      "  warnings.warn(\n",
      "c:\\Users\\stan\\miniconda3\\envs\\researchTP\\Lib\\site-packages\\gpytorch\\distributions\\multivariate_normal.py:319: NumericalWarning: Negative variance values detected. This is likely due to numerical instabilities. Rounding negative variances up to 1e-06.\n",
      "  warnings.warn(\n",
      "c:\\Users\\stan\\miniconda3\\envs\\researchTP\\Lib\\site-packages\\gpytorch\\distributions\\multivariate_normal.py:319: NumericalWarning: Negative variance values detected. This is likely due to numerical instabilities. Rounding negative variances up to 1e-06.\n",
      "  warnings.warn(\n",
      " 34%|███▍      | 17/50 [03:36<06:42, 12.19s/it]"
     ]
    },
    {
     "name": "stdout",
     "output_type": "stream",
     "text": [
      "Iterations 63\n",
      "Minimizing with EGP\n",
      "Seed: 366\n",
      "Initial points: tensor([[0.6900, 0.3100, 0.0000],\n",
      "        [0.6300, 0.3700, 0.0000],\n",
      "        [0.0000, 0.7500, 0.2500],\n",
      "        [0.2600, 0.3800, 0.3600],\n",
      "        [0.3000, 0.6900, 0.0100]])\n"
     ]
    },
    {
     "name": "stderr",
     "output_type": "stream",
     "text": [
      "c:\\Users\\stan\\miniconda3\\envs\\researchTP\\Lib\\site-packages\\botorch\\optim\\fit.py:102: OptimizationWarning: `scipy_minimize` terminated with status OptimizationStatus.FAILURE, displaying original message from `scipy.optimize.minimize`: ABNORMAL_TERMINATION_IN_LNSRCH\n",
      "  warn(\n",
      "c:\\Users\\stan\\miniconda3\\envs\\researchTP\\Lib\\site-packages\\botorch\\optim\\fit.py:102: OptimizationWarning: `scipy_minimize` terminated with status OptimizationStatus.FAILURE, displaying original message from `scipy.optimize.minimize`: ABNORMAL_TERMINATION_IN_LNSRCH\n",
      "  warn(\n",
      "c:\\Users\\stan\\miniconda3\\envs\\researchTP\\Lib\\site-packages\\botorch\\optim\\fit.py:102: OptimizationWarning: `scipy_minimize` terminated with status OptimizationStatus.FAILURE, displaying original message from `scipy.optimize.minimize`: ABNORMAL_TERMINATION_IN_LNSRCH\n",
      "  warn(\n",
      "c:\\Users\\stan\\miniconda3\\envs\\researchTP\\Lib\\site-packages\\botorch\\optim\\fit.py:102: OptimizationWarning: `scipy_minimize` terminated with status OptimizationStatus.FAILURE, displaying original message from `scipy.optimize.minimize`: ABNORMAL_TERMINATION_IN_LNSRCH\n",
      "  warn(\n",
      "c:\\Users\\stan\\miniconda3\\envs\\researchTP\\Lib\\site-packages\\botorch\\optim\\fit.py:102: OptimizationWarning: `scipy_minimize` terminated with status OptimizationStatus.FAILURE, displaying original message from `scipy.optimize.minimize`: ABNORMAL_TERMINATION_IN_LNSRCH\n",
      "  warn(\n",
      "c:\\Users\\stan\\miniconda3\\envs\\researchTP\\Lib\\site-packages\\botorch\\optim\\fit.py:102: OptimizationWarning: `scipy_minimize` terminated with status OptimizationStatus.FAILURE, displaying original message from `scipy.optimize.minimize`: ABNORMAL_TERMINATION_IN_LNSRCH\n",
      "  warn(\n",
      "c:\\Users\\stan\\miniconda3\\envs\\researchTP\\Lib\\site-packages\\botorch\\optim\\fit.py:102: OptimizationWarning: `scipy_minimize` terminated with status OptimizationStatus.FAILURE, displaying original message from `scipy.optimize.minimize`: ABNORMAL_TERMINATION_IN_LNSRCH\n",
      "  warn(\n",
      " 36%|███▌      | 18/50 [03:46<06:12, 11.65s/it]"
     ]
    },
    {
     "name": "stdout",
     "output_type": "stream",
     "text": [
      "Iterations 57\n",
      "Minimizing with EGP\n",
      "Seed: 597\n",
      "Initial points: tensor([[0.6800, 0.1300, 0.1900],\n",
      "        [0.0000, 0.0000, 1.0000],\n",
      "        [0.5000, 0.2500, 0.2500],\n",
      "        [0.1300, 0.8700, 0.0000],\n",
      "        [0.0500, 0.7885, 0.1615]])\n"
     ]
    },
    {
     "name": "stderr",
     "output_type": "stream",
     "text": [
      "c:\\Users\\stan\\miniconda3\\envs\\researchTP\\Lib\\site-packages\\botorch\\optim\\fit.py:102: OptimizationWarning: `scipy_minimize` terminated with status OptimizationStatus.FAILURE, displaying original message from `scipy.optimize.minimize`: ABNORMAL_TERMINATION_IN_LNSRCH\n",
      "  warn(\n",
      "c:\\Users\\stan\\miniconda3\\envs\\researchTP\\Lib\\site-packages\\botorch\\optim\\fit.py:102: OptimizationWarning: `scipy_minimize` terminated with status OptimizationStatus.FAILURE, displaying original message from `scipy.optimize.minimize`: ABNORMAL_TERMINATION_IN_LNSRCH\n",
      "  warn(\n",
      "c:\\Users\\stan\\miniconda3\\envs\\researchTP\\Lib\\site-packages\\botorch\\optim\\fit.py:102: OptimizationWarning: `scipy_minimize` terminated with status OptimizationStatus.FAILURE, displaying original message from `scipy.optimize.minimize`: ABNORMAL_TERMINATION_IN_LNSRCH\n",
      "  warn(\n",
      "c:\\Users\\stan\\miniconda3\\envs\\researchTP\\Lib\\site-packages\\botorch\\optim\\fit.py:102: OptimizationWarning: `scipy_minimize` terminated with status OptimizationStatus.FAILURE, displaying original message from `scipy.optimize.minimize`: ABNORMAL_TERMINATION_IN_LNSRCH\n",
      "  warn(\n",
      "c:\\Users\\stan\\miniconda3\\envs\\researchTP\\Lib\\site-packages\\botorch\\optim\\fit.py:102: OptimizationWarning: `scipy_minimize` terminated with status OptimizationStatus.FAILURE, displaying original message from `scipy.optimize.minimize`: ABNORMAL_TERMINATION_IN_LNSRCH\n",
      "  warn(\n",
      "c:\\Users\\stan\\miniconda3\\envs\\researchTP\\Lib\\site-packages\\botorch\\optim\\fit.py:102: OptimizationWarning: `scipy_minimize` terminated with status OptimizationStatus.FAILURE, displaying original message from `scipy.optimize.minimize`: ABNORMAL_TERMINATION_IN_LNSRCH\n",
      "  warn(\n",
      "c:\\Users\\stan\\miniconda3\\envs\\researchTP\\Lib\\site-packages\\botorch\\optim\\fit.py:102: OptimizationWarning: `scipy_minimize` terminated with status OptimizationStatus.FAILURE, displaying original message from `scipy.optimize.minimize`: ABNORMAL_TERMINATION_IN_LNSRCH\n",
      "  warn(\n",
      "c:\\Users\\stan\\miniconda3\\envs\\researchTP\\Lib\\site-packages\\botorch\\optim\\fit.py:102: OptimizationWarning: `scipy_minimize` terminated with status OptimizationStatus.FAILURE, displaying original message from `scipy.optimize.minimize`: ABNORMAL_TERMINATION_IN_LNSRCH\n",
      "  warn(\n",
      "c:\\Users\\stan\\miniconda3\\envs\\researchTP\\Lib\\site-packages\\botorch\\optim\\fit.py:102: OptimizationWarning: `scipy_minimize` terminated with status OptimizationStatus.FAILURE, displaying original message from `scipy.optimize.minimize`: ABNORMAL_TERMINATION_IN_LNSRCH\n",
      "  warn(\n",
      "c:\\Users\\stan\\miniconda3\\envs\\researchTP\\Lib\\site-packages\\botorch\\optim\\fit.py:102: OptimizationWarning: `scipy_minimize` terminated with status OptimizationStatus.FAILURE, displaying original message from `scipy.optimize.minimize`: ABNORMAL_TERMINATION_IN_LNSRCH\n",
      "  warn(\n",
      "c:\\Users\\stan\\miniconda3\\envs\\researchTP\\Lib\\site-packages\\botorch\\optim\\fit.py:102: OptimizationWarning: `scipy_minimize` terminated with status OptimizationStatus.FAILURE, displaying original message from `scipy.optimize.minimize`: ABNORMAL_TERMINATION_IN_LNSRCH\n",
      "  warn(\n",
      "c:\\Users\\stan\\miniconda3\\envs\\researchTP\\Lib\\site-packages\\botorch\\optim\\fit.py:102: OptimizationWarning: `scipy_minimize` terminated with status OptimizationStatus.FAILURE, displaying original message from `scipy.optimize.minimize`: ABNORMAL_TERMINATION_IN_LNSRCH\n",
      "  warn(\n",
      "c:\\Users\\stan\\miniconda3\\envs\\researchTP\\Lib\\site-packages\\botorch\\optim\\fit.py:102: OptimizationWarning: `scipy_minimize` terminated with status OptimizationStatus.FAILURE, displaying original message from `scipy.optimize.minimize`: ABNORMAL_TERMINATION_IN_LNSRCH\n",
      "  warn(\n",
      "c:\\Users\\stan\\miniconda3\\envs\\researchTP\\Lib\\site-packages\\botorch\\optim\\fit.py:102: OptimizationWarning: `scipy_minimize` terminated with status OptimizationStatus.FAILURE, displaying original message from `scipy.optimize.minimize`: ABNORMAL_TERMINATION_IN_LNSRCH\n",
      "  warn(\n",
      " 38%|███▊      | 19/50 [04:04<06:56, 13.44s/it]"
     ]
    },
    {
     "name": "stdout",
     "output_type": "stream",
     "text": [
      "Iterations 93\n",
      "Minimizing with EGP\n",
      "Seed: 913\n",
      "Initial points: tensor([[0.1300, 0.7900, 0.0800],\n",
      "        [0.8300, 0.0000, 0.1700],\n",
      "        [0.1300, 0.7900, 0.0800],\n",
      "        [0.7500, 0.2500, 0.0000],\n",
      "        [0.3400, 0.5400, 0.1200]])\n"
     ]
    },
    {
     "name": "stderr",
     "output_type": "stream",
     "text": [
      "c:\\Users\\stan\\miniconda3\\envs\\researchTP\\Lib\\site-packages\\linear_operator\\utils\\cholesky.py:40: NumericalWarning: A not p.d., added jitter of 1.0e-06 to the diagonal\n",
      "  warnings.warn(\n",
      "c:\\Users\\stan\\miniconda3\\envs\\researchTP\\Lib\\site-packages\\linear_operator\\utils\\cholesky.py:40: NumericalWarning: A not p.d., added jitter of 1.0e-05 to the diagonal\n",
      "  warnings.warn(\n",
      "c:\\Users\\stan\\miniconda3\\envs\\researchTP\\Lib\\site-packages\\linear_operator\\utils\\cholesky.py:40: NumericalWarning: A not p.d., added jitter of 1.0e-04 to the diagonal\n",
      "  warnings.warn(\n",
      "c:\\Users\\stan\\miniconda3\\envs\\researchTP\\Lib\\site-packages\\linear_operator\\utils\\cholesky.py:40: NumericalWarning: A not p.d., added jitter of 1.0e-03 to the diagonal\n",
      "  warnings.warn(\n",
      "c:\\Users\\stan\\miniconda3\\envs\\researchTP\\Lib\\site-packages\\linear_operator\\utils\\cholesky.py:40: NumericalWarning: A not p.d., added jitter of 1.0e-02 to the diagonal\n",
      "  warnings.warn(\n",
      "c:\\Users\\stan\\miniconda3\\envs\\researchTP\\Lib\\site-packages\\linear_operator\\utils\\cholesky.py:40: NumericalWarning: A not p.d., added jitter of 1.0e-01 to the diagonal\n",
      "  warnings.warn(\n",
      "c:\\Users\\stan\\miniconda3\\envs\\researchTP\\Lib\\site-packages\\botorch\\optim\\fit.py:102: OptimizationWarning: `scipy_minimize` terminated with status OptimizationStatus.FAILURE, displaying original message from `scipy.optimize.minimize`: ABNORMAL_TERMINATION_IN_LNSRCH\n",
      "  warn(\n",
      "c:\\Users\\stan\\miniconda3\\envs\\researchTP\\Lib\\site-packages\\botorch\\optim\\fit.py:102: OptimizationWarning: `scipy_minimize` terminated with status OptimizationStatus.FAILURE, displaying original message from `scipy.optimize.minimize`: ABNORMAL_TERMINATION_IN_LNSRCH\n",
      "  warn(\n",
      "c:\\Users\\stan\\miniconda3\\envs\\researchTP\\Lib\\site-packages\\botorch\\optim\\fit.py:102: OptimizationWarning: `scipy_minimize` terminated with status OptimizationStatus.FAILURE, displaying original message from `scipy.optimize.minimize`: ABNORMAL_TERMINATION_IN_LNSRCH\n",
      "  warn(\n",
      "c:\\Users\\stan\\miniconda3\\envs\\researchTP\\Lib\\site-packages\\botorch\\optim\\fit.py:102: OptimizationWarning: `scipy_minimize` terminated with status OptimizationStatus.FAILURE, displaying original message from `scipy.optimize.minimize`: ABNORMAL_TERMINATION_IN_LNSRCH\n",
      "  warn(\n",
      "c:\\Users\\stan\\miniconda3\\envs\\researchTP\\Lib\\site-packages\\botorch\\optim\\fit.py:102: OptimizationWarning: `scipy_minimize` terminated with status OptimizationStatus.FAILURE, displaying original message from `scipy.optimize.minimize`: ABNORMAL_TERMINATION_IN_LNSRCH\n",
      "  warn(\n",
      "c:\\Users\\stan\\miniconda3\\envs\\researchTP\\Lib\\site-packages\\botorch\\optim\\fit.py:102: OptimizationWarning: `scipy_minimize` terminated with status OptimizationStatus.FAILURE, displaying original message from `scipy.optimize.minimize`: ABNORMAL_TERMINATION_IN_LNSRCH\n",
      "  warn(\n",
      "c:\\Users\\stan\\miniconda3\\envs\\researchTP\\Lib\\site-packages\\botorch\\optim\\fit.py:102: OptimizationWarning: `scipy_minimize` terminated with status OptimizationStatus.FAILURE, displaying original message from `scipy.optimize.minimize`: ABNORMAL_TERMINATION_IN_LNSRCH\n",
      "  warn(\n",
      "c:\\Users\\stan\\miniconda3\\envs\\researchTP\\Lib\\site-packages\\botorch\\optim\\fit.py:102: OptimizationWarning: `scipy_minimize` terminated with status OptimizationStatus.FAILURE, displaying original message from `scipy.optimize.minimize`: ABNORMAL_TERMINATION_IN_LNSRCH\n",
      "  warn(\n",
      " 40%|████      | 20/50 [04:19<07:00, 14.00s/it]"
     ]
    },
    {
     "name": "stdout",
     "output_type": "stream",
     "text": [
      "Iterations 94\n",
      "Minimizing with EGP\n",
      "Seed: 929\n",
      "Initial points: tensor([[0.2600, 0.7400, 0.0000],\n",
      "        [0.7100, 0.0100, 0.2800],\n",
      "        [0.7500, 0.2500, 0.0000],\n",
      "        [0.1200, 0.7700, 0.1100],\n",
      "        [0.2500, 0.0000, 0.7500]])\n"
     ]
    },
    {
     "name": "stderr",
     "output_type": "stream",
     "text": [
      "c:\\Users\\stan\\miniconda3\\envs\\researchTP\\Lib\\site-packages\\botorch\\optim\\fit.py:102: OptimizationWarning: `scipy_minimize` terminated with status OptimizationStatus.FAILURE, displaying original message from `scipy.optimize.minimize`: ABNORMAL_TERMINATION_IN_LNSRCH\n",
      "  warn(\n",
      "c:\\Users\\stan\\miniconda3\\envs\\researchTP\\Lib\\site-packages\\botorch\\optim\\fit.py:102: OptimizationWarning: `scipy_minimize` terminated with status OptimizationStatus.FAILURE, displaying original message from `scipy.optimize.minimize`: ABNORMAL_TERMINATION_IN_LNSRCH\n",
      "  warn(\n",
      "c:\\Users\\stan\\miniconda3\\envs\\researchTP\\Lib\\site-packages\\botorch\\optim\\fit.py:102: OptimizationWarning: `scipy_minimize` terminated with status OptimizationStatus.FAILURE, displaying original message from `scipy.optimize.minimize`: ABNORMAL_TERMINATION_IN_LNSRCH\n",
      "  warn(\n",
      " 42%|████▏     | 21/50 [04:29<06:13, 12.88s/it]"
     ]
    },
    {
     "name": "stdout",
     "output_type": "stream",
     "text": [
      "Iterations 66\n",
      "Minimizing with EGP\n",
      "Seed: 223\n",
      "Initial points: tensor([[0.1300, 0.8700, 0.0000],\n",
      "        [0.4300, 0.5700, 0.0000],\n",
      "        [0.1700, 0.8000, 0.0300],\n",
      "        [0.8100, 0.0000, 0.1900],\n",
      "        [0.7800, 0.0900, 0.1300]])\n"
     ]
    },
    {
     "name": "stderr",
     "output_type": "stream",
     "text": [
      "c:\\Users\\stan\\miniconda3\\envs\\researchTP\\Lib\\site-packages\\botorch\\optim\\fit.py:102: OptimizationWarning: `scipy_minimize` terminated with status OptimizationStatus.FAILURE, displaying original message from `scipy.optimize.minimize`: ABNORMAL_TERMINATION_IN_LNSRCH\n",
      "  warn(\n",
      "c:\\Users\\stan\\miniconda3\\envs\\researchTP\\Lib\\site-packages\\botorch\\optim\\fit.py:102: OptimizationWarning: `scipy_minimize` terminated with status OptimizationStatus.FAILURE, displaying original message from `scipy.optimize.minimize`: ABNORMAL_TERMINATION_IN_LNSRCH\n",
      "  warn(\n",
      "c:\\Users\\stan\\miniconda3\\envs\\researchTP\\Lib\\site-packages\\botorch\\optim\\fit.py:102: OptimizationWarning: `scipy_minimize` terminated with status OptimizationStatus.FAILURE, displaying original message from `scipy.optimize.minimize`: ABNORMAL_TERMINATION_IN_LNSRCH\n",
      "  warn(\n",
      "c:\\Users\\stan\\miniconda3\\envs\\researchTP\\Lib\\site-packages\\botorch\\optim\\fit.py:102: OptimizationWarning: `scipy_minimize` terminated with status OptimizationStatus.FAILURE, displaying original message from `scipy.optimize.minimize`: ABNORMAL_TERMINATION_IN_LNSRCH\n",
      "  warn(\n",
      "c:\\Users\\stan\\miniconda3\\envs\\researchTP\\Lib\\site-packages\\botorch\\optim\\fit.py:102: OptimizationWarning: `scipy_minimize` terminated with status OptimizationStatus.FAILURE, displaying original message from `scipy.optimize.minimize`: ABNORMAL_TERMINATION_IN_LNSRCH\n",
      "  warn(\n",
      " 44%|████▍     | 22/50 [04:42<05:59, 12.82s/it]"
     ]
    },
    {
     "name": "stdout",
     "output_type": "stream",
     "text": [
      "Iterations 89\n",
      "Minimizing with EGP\n",
      "Seed: 516\n",
      "Initial points: tensor([[0.3100, 0.3600, 0.3300],\n",
      "        [0.6600, 0.2400, 0.1000],\n",
      "        [0.2500, 0.7000, 0.0600],\n",
      "        [0.0000, 1.0000, 0.0000],\n",
      "        [0.0000, 0.5000, 0.5000]])\n"
     ]
    },
    {
     "name": "stderr",
     "output_type": "stream",
     "text": [
      "c:\\Users\\stan\\miniconda3\\envs\\researchTP\\Lib\\site-packages\\botorch\\optim\\fit.py:102: OptimizationWarning: `scipy_minimize` terminated with status OptimizationStatus.FAILURE, displaying original message from `scipy.optimize.minimize`: ABNORMAL_TERMINATION_IN_LNSRCH\n",
      "  warn(\n",
      "c:\\Users\\stan\\miniconda3\\envs\\researchTP\\Lib\\site-packages\\botorch\\optim\\fit.py:102: OptimizationWarning: `scipy_minimize` terminated with status OptimizationStatus.FAILURE, displaying original message from `scipy.optimize.minimize`: ABNORMAL_TERMINATION_IN_LNSRCH\n",
      "  warn(\n",
      "c:\\Users\\stan\\miniconda3\\envs\\researchTP\\Lib\\site-packages\\botorch\\optim\\fit.py:102: OptimizationWarning: `scipy_minimize` terminated with status OptimizationStatus.FAILURE, displaying original message from `scipy.optimize.minimize`: ABNORMAL_TERMINATION_IN_LNSRCH\n",
      "  warn(\n",
      "c:\\Users\\stan\\miniconda3\\envs\\researchTP\\Lib\\site-packages\\botorch\\optim\\fit.py:102: OptimizationWarning: `scipy_minimize` terminated with status OptimizationStatus.FAILURE, displaying original message from `scipy.optimize.minimize`: ABNORMAL_TERMINATION_IN_LNSRCH\n",
      "  warn(\n",
      "c:\\Users\\stan\\miniconda3\\envs\\researchTP\\Lib\\site-packages\\botorch\\optim\\fit.py:102: OptimizationWarning: `scipy_minimize` terminated with status OptimizationStatus.FAILURE, displaying original message from `scipy.optimize.minimize`: ABNORMAL_TERMINATION_IN_LNSRCH\n",
      "  warn(\n",
      "c:\\Users\\stan\\miniconda3\\envs\\researchTP\\Lib\\site-packages\\botorch\\optim\\fit.py:102: OptimizationWarning: `scipy_minimize` terminated with status OptimizationStatus.FAILURE, displaying original message from `scipy.optimize.minimize`: ABNORMAL_TERMINATION_IN_LNSRCH\n",
      "  warn(\n",
      " 46%|████▌     | 23/50 [05:00<06:28, 14.40s/it]"
     ]
    },
    {
     "name": "stdout",
     "output_type": "stream",
     "text": [
      "Iterations 106\n",
      "Minimizing with EGP\n",
      "Seed: 142\n",
      "Initial points: tensor([[0.3800, 0.6200, 0.0000],\n",
      "        [0.2600, 0.3800, 0.3600],\n",
      "        [0.5000, 0.5000, 0.0000],\n",
      "        [0.2500, 0.0000, 0.7500],\n",
      "        [0.1700, 0.8000, 0.0300]])\n"
     ]
    },
    {
     "name": "stderr",
     "output_type": "stream",
     "text": [
      "c:\\Users\\stan\\miniconda3\\envs\\researchTP\\Lib\\site-packages\\botorch\\optim\\fit.py:102: OptimizationWarning: `scipy_minimize` terminated with status OptimizationStatus.FAILURE, displaying original message from `scipy.optimize.minimize`: ABNORMAL_TERMINATION_IN_LNSRCH\n",
      "  warn(\n",
      "c:\\Users\\stan\\miniconda3\\envs\\researchTP\\Lib\\site-packages\\botorch\\optim\\fit.py:102: OptimizationWarning: `scipy_minimize` terminated with status OptimizationStatus.FAILURE, displaying original message from `scipy.optimize.minimize`: ABNORMAL_TERMINATION_IN_LNSRCH\n",
      "  warn(\n",
      "c:\\Users\\stan\\miniconda3\\envs\\researchTP\\Lib\\site-packages\\botorch\\optim\\fit.py:102: OptimizationWarning: `scipy_minimize` terminated with status OptimizationStatus.FAILURE, displaying original message from `scipy.optimize.minimize`: ABNORMAL_TERMINATION_IN_LNSRCH\n",
      "  warn(\n",
      "c:\\Users\\stan\\miniconda3\\envs\\researchTP\\Lib\\site-packages\\botorch\\optim\\fit.py:102: OptimizationWarning: `scipy_minimize` terminated with status OptimizationStatus.FAILURE, displaying original message from `scipy.optimize.minimize`: ABNORMAL_TERMINATION_IN_LNSRCH\n",
      "  warn(\n",
      "c:\\Users\\stan\\miniconda3\\envs\\researchTP\\Lib\\site-packages\\botorch\\optim\\fit.py:102: OptimizationWarning: `scipy_minimize` terminated with status OptimizationStatus.FAILURE, displaying original message from `scipy.optimize.minimize`: ABNORMAL_TERMINATION_IN_LNSRCH\n",
      "  warn(\n",
      "c:\\Users\\stan\\miniconda3\\envs\\researchTP\\Lib\\site-packages\\botorch\\optim\\fit.py:102: OptimizationWarning: `scipy_minimize` terminated with status OptimizationStatus.FAILURE, displaying original message from `scipy.optimize.minimize`: ABNORMAL_TERMINATION_IN_LNSRCH\n",
      "  warn(\n",
      " 48%|████▊     | 24/50 [05:15<06:22, 14.71s/it]"
     ]
    },
    {
     "name": "stdout",
     "output_type": "stream",
     "text": [
      "Iterations 95\n",
      "Minimizing with EGP\n",
      "Seed: 288\n",
      "Initial points: tensor([[0.2200, 0.7800, 0.0000],\n",
      "        [0.5000, 0.5000, 0.0000],\n",
      "        [0.2500, 0.2500, 0.5000],\n",
      "        [0.5000, 0.2500, 0.2500],\n",
      "        [0.7100, 0.0600, 0.2300]])\n"
     ]
    },
    {
     "name": "stderr",
     "output_type": "stream",
     "text": [
      "c:\\Users\\stan\\miniconda3\\envs\\researchTP\\Lib\\site-packages\\botorch\\optim\\fit.py:102: OptimizationWarning: `scipy_minimize` terminated with status OptimizationStatus.FAILURE, displaying original message from `scipy.optimize.minimize`: ABNORMAL_TERMINATION_IN_LNSRCH\n",
      "  warn(\n",
      "c:\\Users\\stan\\miniconda3\\envs\\researchTP\\Lib\\site-packages\\botorch\\optim\\fit.py:102: OptimizationWarning: `scipy_minimize` terminated with status OptimizationStatus.FAILURE, displaying original message from `scipy.optimize.minimize`: ABNORMAL_TERMINATION_IN_LNSRCH\n",
      "  warn(\n",
      "c:\\Users\\stan\\miniconda3\\envs\\researchTP\\Lib\\site-packages\\botorch\\optim\\fit.py:102: OptimizationWarning: `scipy_minimize` terminated with status OptimizationStatus.FAILURE, displaying original message from `scipy.optimize.minimize`: ABNORMAL_TERMINATION_IN_LNSRCH\n",
      "  warn(\n",
      "c:\\Users\\stan\\miniconda3\\envs\\researchTP\\Lib\\site-packages\\botorch\\optim\\fit.py:102: OptimizationWarning: `scipy_minimize` terminated with status OptimizationStatus.FAILURE, displaying original message from `scipy.optimize.minimize`: ABNORMAL_TERMINATION_IN_LNSRCH\n",
      "  warn(\n",
      "c:\\Users\\stan\\miniconda3\\envs\\researchTP\\Lib\\site-packages\\botorch\\optim\\fit.py:102: OptimizationWarning: `scipy_minimize` terminated with status OptimizationStatus.FAILURE, displaying original message from `scipy.optimize.minimize`: ABNORMAL_TERMINATION_IN_LNSRCH\n",
      "  warn(\n",
      "c:\\Users\\stan\\miniconda3\\envs\\researchTP\\Lib\\site-packages\\botorch\\optim\\fit.py:102: OptimizationWarning: `scipy_minimize` terminated with status OptimizationStatus.FAILURE, displaying original message from `scipy.optimize.minimize`: ABNORMAL_TERMINATION_IN_LNSRCH\n",
      "  warn(\n",
      " 50%|█████     | 25/50 [05:27<05:44, 13.80s/it]"
     ]
    },
    {
     "name": "stdout",
     "output_type": "stream",
     "text": [
      "Iterations 69\n",
      "Minimizing with EGP\n",
      "Seed: 143\n",
      "Initial points: tensor([[0.3200, 0.6700, 0.0100],\n",
      "        [0.1300, 0.7900, 0.0800],\n",
      "        [0.1600, 0.8400, 0.0000],\n",
      "        [0.1700, 0.8000, 0.0300],\n",
      "        [0.3000, 0.6900, 0.0100]])\n"
     ]
    },
    {
     "name": "stderr",
     "output_type": "stream",
     "text": [
      "c:\\Users\\stan\\miniconda3\\envs\\researchTP\\Lib\\site-packages\\botorch\\optim\\fit.py:102: OptimizationWarning: `scipy_minimize` terminated with status OptimizationStatus.FAILURE, displaying original message from `scipy.optimize.minimize`: ABNORMAL_TERMINATION_IN_LNSRCH\n",
      "  warn(\n",
      "c:\\Users\\stan\\miniconda3\\envs\\researchTP\\Lib\\site-packages\\botorch\\optim\\fit.py:102: OptimizationWarning: `scipy_minimize` terminated with status OptimizationStatus.FAILURE, displaying original message from `scipy.optimize.minimize`: ABNORMAL_TERMINATION_IN_LNSRCH\n",
      "  warn(\n",
      "c:\\Users\\stan\\miniconda3\\envs\\researchTP\\Lib\\site-packages\\botorch\\optim\\fit.py:102: OptimizationWarning: `scipy_minimize` terminated with status OptimizationStatus.FAILURE, displaying original message from `scipy.optimize.minimize`: ABNORMAL_TERMINATION_IN_LNSRCH\n",
      "  warn(\n",
      "c:\\Users\\stan\\miniconda3\\envs\\researchTP\\Lib\\site-packages\\botorch\\optim\\fit.py:102: OptimizationWarning: `scipy_minimize` terminated with status OptimizationStatus.FAILURE, displaying original message from `scipy.optimize.minimize`: ABNORMAL_TERMINATION_IN_LNSRCH\n",
      "  warn(\n",
      "c:\\Users\\stan\\miniconda3\\envs\\researchTP\\Lib\\site-packages\\botorch\\optim\\fit.py:102: OptimizationWarning: `scipy_minimize` terminated with status OptimizationStatus.FAILURE, displaying original message from `scipy.optimize.minimize`: ABNORMAL_TERMINATION_IN_LNSRCH\n",
      "  warn(\n",
      "c:\\Users\\stan\\miniconda3\\envs\\researchTP\\Lib\\site-packages\\botorch\\optim\\fit.py:102: OptimizationWarning: `scipy_minimize` terminated with status OptimizationStatus.FAILURE, displaying original message from `scipy.optimize.minimize`: ABNORMAL_TERMINATION_IN_LNSRCH\n",
      "  warn(\n",
      "c:\\Users\\stan\\miniconda3\\envs\\researchTP\\Lib\\site-packages\\botorch\\optim\\fit.py:102: OptimizationWarning: `scipy_minimize` terminated with status OptimizationStatus.FAILURE, displaying original message from `scipy.optimize.minimize`: ABNORMAL_TERMINATION_IN_LNSRCH\n",
      "  warn(\n",
      "c:\\Users\\stan\\miniconda3\\envs\\researchTP\\Lib\\site-packages\\botorch\\optim\\fit.py:102: OptimizationWarning: `scipy_minimize` terminated with status OptimizationStatus.FAILURE, displaying original message from `scipy.optimize.minimize`: ABNORMAL_TERMINATION_IN_LNSRCH\n",
      "  warn(\n",
      "c:\\Users\\stan\\miniconda3\\envs\\researchTP\\Lib\\site-packages\\botorch\\optim\\fit.py:102: OptimizationWarning: `scipy_minimize` terminated with status OptimizationStatus.FAILURE, displaying original message from `scipy.optimize.minimize`: ABNORMAL_TERMINATION_IN_LNSRCH\n",
      "  warn(\n",
      " 52%|█████▏    | 26/50 [05:42<05:36, 14.02s/it]"
     ]
    },
    {
     "name": "stdout",
     "output_type": "stream",
     "text": [
      "Iterations 84\n",
      "Minimizing with EGP\n",
      "Seed: 773\n",
      "Initial points: tensor([[0.1400, 0.8400, 0.0200],\n",
      "        [0.3900, 0.6100, 0.0000],\n",
      "        [0.1300, 0.7900, 0.0800],\n",
      "        [0.7800, 0.0900, 0.1300],\n",
      "        [0.0000, 1.0000, 0.0000]])\n"
     ]
    },
    {
     "name": "stderr",
     "output_type": "stream",
     "text": [
      "c:\\Users\\stan\\miniconda3\\envs\\researchTP\\Lib\\site-packages\\gpytorch\\distributions\\multivariate_normal.py:319: NumericalWarning: Negative variance values detected. This is likely due to numerical instabilities. Rounding negative variances up to 1e-06.\n",
      "  warnings.warn(\n",
      "c:\\Users\\stan\\miniconda3\\envs\\researchTP\\Lib\\site-packages\\linear_operator\\utils\\cholesky.py:40: NumericalWarning: A not p.d., added jitter of 1.0e-06 to the diagonal\n",
      "  warnings.warn(\n",
      "c:\\Users\\stan\\miniconda3\\envs\\researchTP\\Lib\\site-packages\\linear_operator\\utils\\cholesky.py:40: NumericalWarning: A not p.d., added jitter of 1.0e-05 to the diagonal\n",
      "  warnings.warn(\n",
      "c:\\Users\\stan\\miniconda3\\envs\\researchTP\\Lib\\site-packages\\linear_operator\\utils\\cholesky.py:40: NumericalWarning: A not p.d., added jitter of 1.0e-04 to the diagonal\n",
      "  warnings.warn(\n",
      "c:\\Users\\stan\\miniconda3\\envs\\researchTP\\Lib\\site-packages\\linear_operator\\utils\\cholesky.py:40: NumericalWarning: A not p.d., added jitter of 1.0e-03 to the diagonal\n",
      "  warnings.warn(\n",
      "c:\\Users\\stan\\miniconda3\\envs\\researchTP\\Lib\\site-packages\\linear_operator\\utils\\cholesky.py:40: NumericalWarning: A not p.d., added jitter of 1.0e-02 to the diagonal\n",
      "  warnings.warn(\n",
      "c:\\Users\\stan\\miniconda3\\envs\\researchTP\\Lib\\site-packages\\linear_operator\\utils\\cholesky.py:40: NumericalWarning: A not p.d., added jitter of 1.0e-01 to the diagonal\n",
      "  warnings.warn(\n",
      "c:\\Users\\stan\\miniconda3\\envs\\researchTP\\Lib\\site-packages\\botorch\\optim\\fit.py:102: OptimizationWarning: `scipy_minimize` terminated with status OptimizationStatus.FAILURE, displaying original message from `scipy.optimize.minimize`: ABNORMAL_TERMINATION_IN_LNSRCH\n",
      "  warn(\n",
      "c:\\Users\\stan\\miniconda3\\envs\\researchTP\\Lib\\site-packages\\botorch\\optim\\fit.py:102: OptimizationWarning: `scipy_minimize` terminated with status OptimizationStatus.FAILURE, displaying original message from `scipy.optimize.minimize`: ABNORMAL_TERMINATION_IN_LNSRCH\n",
      "  warn(\n",
      "c:\\Users\\stan\\miniconda3\\envs\\researchTP\\Lib\\site-packages\\gpytorch\\distributions\\multivariate_normal.py:319: NumericalWarning: Negative variance values detected. This is likely due to numerical instabilities. Rounding negative variances up to 1e-06.\n",
      "  warnings.warn(\n",
      "c:\\Users\\stan\\miniconda3\\envs\\researchTP\\Lib\\site-packages\\gpytorch\\distributions\\multivariate_normal.py:319: NumericalWarning: Negative variance values detected. This is likely due to numerical instabilities. Rounding negative variances up to 1e-06.\n",
      "  warnings.warn(\n",
      "c:\\Users\\stan\\miniconda3\\envs\\researchTP\\Lib\\site-packages\\gpytorch\\distributions\\multivariate_normal.py:319: NumericalWarning: Negative variance values detected. This is likely due to numerical instabilities. Rounding negative variances up to 1e-06.\n",
      "  warnings.warn(\n",
      "c:\\Users\\stan\\miniconda3\\envs\\researchTP\\Lib\\site-packages\\gpytorch\\distributions\\multivariate_normal.py:319: NumericalWarning: Negative variance values detected. This is likely due to numerical instabilities. Rounding negative variances up to 1e-06.\n",
      "  warnings.warn(\n",
      "c:\\Users\\stan\\miniconda3\\envs\\researchTP\\Lib\\site-packages\\gpytorch\\distributions\\multivariate_normal.py:319: NumericalWarning: Negative variance values detected. This is likely due to numerical instabilities. Rounding negative variances up to 1e-06.\n",
      "  warnings.warn(\n",
      "c:\\Users\\stan\\miniconda3\\envs\\researchTP\\Lib\\site-packages\\gpytorch\\distributions\\multivariate_normal.py:319: NumericalWarning: Negative variance values detected. This is likely due to numerical instabilities. Rounding negative variances up to 1e-06.\n",
      "  warnings.warn(\n",
      "c:\\Users\\stan\\miniconda3\\envs\\researchTP\\Lib\\site-packages\\gpytorch\\distributions\\multivariate_normal.py:319: NumericalWarning: Negative variance values detected. This is likely due to numerical instabilities. Rounding negative variances up to 1e-06.\n",
      "  warnings.warn(\n",
      "c:\\Users\\stan\\miniconda3\\envs\\researchTP\\Lib\\site-packages\\gpytorch\\distributions\\multivariate_normal.py:319: NumericalWarning: Negative variance values detected. This is likely due to numerical instabilities. Rounding negative variances up to 1e-06.\n",
      "  warnings.warn(\n",
      "c:\\Users\\stan\\miniconda3\\envs\\researchTP\\Lib\\site-packages\\gpytorch\\distributions\\multivariate_normal.py:319: NumericalWarning: Negative variance values detected. This is likely due to numerical instabilities. Rounding negative variances up to 1e-06.\n",
      "  warnings.warn(\n",
      "c:\\Users\\stan\\miniconda3\\envs\\researchTP\\Lib\\site-packages\\gpytorch\\distributions\\multivariate_normal.py:319: NumericalWarning: Negative variance values detected. This is likely due to numerical instabilities. Rounding negative variances up to 1e-06.\n",
      "  warnings.warn(\n",
      "c:\\Users\\stan\\miniconda3\\envs\\researchTP\\Lib\\site-packages\\gpytorch\\distributions\\multivariate_normal.py:319: NumericalWarning: Negative variance values detected. This is likely due to numerical instabilities. Rounding negative variances up to 1e-06.\n",
      "  warnings.warn(\n",
      "c:\\Users\\stan\\miniconda3\\envs\\researchTP\\Lib\\site-packages\\gpytorch\\distributions\\multivariate_normal.py:319: NumericalWarning: Negative variance values detected. This is likely due to numerical instabilities. Rounding negative variances up to 1e-06.\n",
      "  warnings.warn(\n",
      "c:\\Users\\stan\\miniconda3\\envs\\researchTP\\Lib\\site-packages\\gpytorch\\distributions\\multivariate_normal.py:319: NumericalWarning: Negative variance values detected. This is likely due to numerical instabilities. Rounding negative variances up to 1e-06.\n",
      "  warnings.warn(\n",
      "c:\\Users\\stan\\miniconda3\\envs\\researchTP\\Lib\\site-packages\\linear_operator\\utils\\cholesky.py:40: NumericalWarning: A not p.d., added jitter of 1.0e-06 to the diagonal\n",
      "  warnings.warn(\n",
      "c:\\Users\\stan\\miniconda3\\envs\\researchTP\\Lib\\site-packages\\linear_operator\\utils\\cholesky.py:40: NumericalWarning: A not p.d., added jitter of 1.0e-05 to the diagonal\n",
      "  warnings.warn(\n",
      "c:\\Users\\stan\\miniconda3\\envs\\researchTP\\Lib\\site-packages\\linear_operator\\utils\\cholesky.py:40: NumericalWarning: A not p.d., added jitter of 1.0e-04 to the diagonal\n",
      "  warnings.warn(\n",
      "c:\\Users\\stan\\miniconda3\\envs\\researchTP\\Lib\\site-packages\\linear_operator\\utils\\cholesky.py:40: NumericalWarning: A not p.d., added jitter of 1.0e-03 to the diagonal\n",
      "  warnings.warn(\n",
      "c:\\Users\\stan\\miniconda3\\envs\\researchTP\\Lib\\site-packages\\linear_operator\\utils\\cholesky.py:40: NumericalWarning: A not p.d., added jitter of 1.0e-02 to the diagonal\n",
      "  warnings.warn(\n",
      "c:\\Users\\stan\\miniconda3\\envs\\researchTP\\Lib\\site-packages\\gpytorch\\distributions\\multivariate_normal.py:319: NumericalWarning: Negative variance values detected. This is likely due to numerical instabilities. Rounding negative variances up to 1e-06.\n",
      "  warnings.warn(\n",
      "c:\\Users\\stan\\miniconda3\\envs\\researchTP\\Lib\\site-packages\\linear_operator\\utils\\cholesky.py:40: NumericalWarning: A not p.d., added jitter of 1.0e-06 to the diagonal\n",
      "  warnings.warn(\n",
      "c:\\Users\\stan\\miniconda3\\envs\\researchTP\\Lib\\site-packages\\linear_operator\\utils\\cholesky.py:40: NumericalWarning: A not p.d., added jitter of 1.0e-05 to the diagonal\n",
      "  warnings.warn(\n",
      "c:\\Users\\stan\\miniconda3\\envs\\researchTP\\Lib\\site-packages\\linear_operator\\utils\\cholesky.py:40: NumericalWarning: A not p.d., added jitter of 1.0e-04 to the diagonal\n",
      "  warnings.warn(\n",
      "c:\\Users\\stan\\miniconda3\\envs\\researchTP\\Lib\\site-packages\\linear_operator\\utils\\cholesky.py:40: NumericalWarning: A not p.d., added jitter of 1.0e-03 to the diagonal\n",
      "  warnings.warn(\n",
      "c:\\Users\\stan\\miniconda3\\envs\\researchTP\\Lib\\site-packages\\linear_operator\\utils\\cholesky.py:40: NumericalWarning: A not p.d., added jitter of 1.0e-02 to the diagonal\n",
      "  warnings.warn(\n",
      " 54%|█████▍    | 27/50 [05:52<04:58, 12.99s/it]"
     ]
    },
    {
     "name": "stdout",
     "output_type": "stream",
     "text": [
      "Iterations 71\n",
      "Minimizing with EGP\n",
      "Seed: 97\n",
      "Initial points: tensor([[0.1700, 0.8000, 0.0300],\n",
      "        [0.3400, 0.5400, 0.1200],\n",
      "        [0.2500, 0.2500, 0.5000],\n",
      "        [0.3200, 0.6700, 0.0100],\n",
      "        [0.7500, 0.2500, 0.0000]])\n"
     ]
    },
    {
     "name": "stderr",
     "output_type": "stream",
     "text": [
      "c:\\Users\\stan\\miniconda3\\envs\\researchTP\\Lib\\site-packages\\botorch\\optim\\fit.py:102: OptimizationWarning: `scipy_minimize` terminated with status OptimizationStatus.FAILURE, displaying original message from `scipy.optimize.minimize`: ABNORMAL_TERMINATION_IN_LNSRCH\n",
      "  warn(\n",
      "c:\\Users\\stan\\miniconda3\\envs\\researchTP\\Lib\\site-packages\\botorch\\optim\\fit.py:102: OptimizationWarning: `scipy_minimize` terminated with status OptimizationStatus.FAILURE, displaying original message from `scipy.optimize.minimize`: ABNORMAL_TERMINATION_IN_LNSRCH\n",
      "  warn(\n",
      "c:\\Users\\stan\\miniconda3\\envs\\researchTP\\Lib\\site-packages\\botorch\\optim\\fit.py:102: OptimizationWarning: `scipy_minimize` terminated with status OptimizationStatus.FAILURE, displaying original message from `scipy.optimize.minimize`: ABNORMAL_TERMINATION_IN_LNSRCH\n",
      "  warn(\n",
      "c:\\Users\\stan\\miniconda3\\envs\\researchTP\\Lib\\site-packages\\botorch\\optim\\fit.py:102: OptimizationWarning: `scipy_minimize` terminated with status OptimizationStatus.FAILURE, displaying original message from `scipy.optimize.minimize`: ABNORMAL_TERMINATION_IN_LNSRCH\n",
      "  warn(\n",
      "c:\\Users\\stan\\miniconda3\\envs\\researchTP\\Lib\\site-packages\\botorch\\optim\\fit.py:102: OptimizationWarning: `scipy_minimize` terminated with status OptimizationStatus.FAILURE, displaying original message from `scipy.optimize.minimize`: ABNORMAL_TERMINATION_IN_LNSRCH\n",
      "  warn(\n",
      "c:\\Users\\stan\\miniconda3\\envs\\researchTP\\Lib\\site-packages\\botorch\\optim\\fit.py:102: OptimizationWarning: `scipy_minimize` terminated with status OptimizationStatus.FAILURE, displaying original message from `scipy.optimize.minimize`: ABNORMAL_TERMINATION_IN_LNSRCH\n",
      "  warn(\n",
      " 56%|█████▌    | 28/50 [06:08<05:04, 13.85s/it]"
     ]
    },
    {
     "name": "stdout",
     "output_type": "stream",
     "text": [
      "Iterations 92\n",
      "Minimizing with EGP\n",
      "Seed: 633\n",
      "Initial points: tensor([[0.1300, 0.8500, 0.0200],\n",
      "        [1.0000, 0.0000, 0.0000],\n",
      "        [0.0000, 0.0000, 1.0000],\n",
      "        [0.5000, 0.2500, 0.2500],\n",
      "        [0.0000, 1.0000, 0.0000]])\n"
     ]
    },
    {
     "name": "stderr",
     "output_type": "stream",
     "text": [
      "c:\\Users\\stan\\miniconda3\\envs\\researchTP\\Lib\\site-packages\\botorch\\optim\\fit.py:102: OptimizationWarning: `scipy_minimize` terminated with status OptimizationStatus.FAILURE, displaying original message from `scipy.optimize.minimize`: ABNORMAL_TERMINATION_IN_LNSRCH\n",
      "  warn(\n",
      "c:\\Users\\stan\\miniconda3\\envs\\researchTP\\Lib\\site-packages\\gpytorch\\distributions\\multivariate_normal.py:319: NumericalWarning: Negative variance values detected. This is likely due to numerical instabilities. Rounding negative variances up to 1e-06.\n",
      "  warnings.warn(\n",
      "c:\\Users\\stan\\miniconda3\\envs\\researchTP\\Lib\\site-packages\\botorch\\optim\\fit.py:102: OptimizationWarning: `scipy_minimize` terminated with status OptimizationStatus.FAILURE, displaying original message from `scipy.optimize.minimize`: ABNORMAL_TERMINATION_IN_LNSRCH\n",
      "  warn(\n",
      "c:\\Users\\stan\\miniconda3\\envs\\researchTP\\Lib\\site-packages\\botorch\\optim\\fit.py:102: OptimizationWarning: `scipy_minimize` terminated with status OptimizationStatus.FAILURE, displaying original message from `scipy.optimize.minimize`: ABNORMAL_TERMINATION_IN_LNSRCH\n",
      "  warn(\n",
      "c:\\Users\\stan\\miniconda3\\envs\\researchTP\\Lib\\site-packages\\botorch\\optim\\fit.py:102: OptimizationWarning: `scipy_minimize` terminated with status OptimizationStatus.FAILURE, displaying original message from `scipy.optimize.minimize`: ABNORMAL_TERMINATION_IN_LNSRCH\n",
      "  warn(\n",
      "c:\\Users\\stan\\miniconda3\\envs\\researchTP\\Lib\\site-packages\\botorch\\optim\\fit.py:102: OptimizationWarning: `scipy_minimize` terminated with status OptimizationStatus.FAILURE, displaying original message from `scipy.optimize.minimize`: ABNORMAL_TERMINATION_IN_LNSRCH\n",
      "  warn(\n",
      " 58%|█████▊    | 29/50 [06:23<04:54, 14.04s/it]"
     ]
    },
    {
     "name": "stdout",
     "output_type": "stream",
     "text": [
      "Iterations 93\n",
      "Minimizing with EGP\n",
      "Seed: 818\n",
      "Initial points: tensor([[0.8100, 0.0000, 0.1900],\n",
      "        [0.2600, 0.3800, 0.3600],\n",
      "        [0.1200, 0.7700, 0.1100],\n",
      "        [0.0500, 0.7885, 0.1615],\n",
      "        [0.2500, 0.7100, 0.0400]])\n"
     ]
    },
    {
     "name": "stderr",
     "output_type": "stream",
     "text": [
      "c:\\Users\\stan\\miniconda3\\envs\\researchTP\\Lib\\site-packages\\gpytorch\\distributions\\multivariate_normal.py:319: NumericalWarning: Negative variance values detected. This is likely due to numerical instabilities. Rounding negative variances up to 1e-06.\n",
      "  warnings.warn(\n",
      "c:\\Users\\stan\\miniconda3\\envs\\researchTP\\Lib\\site-packages\\botorch\\optim\\fit.py:102: OptimizationWarning: `scipy_minimize` terminated with status OptimizationStatus.FAILURE, displaying original message from `scipy.optimize.minimize`: ABNORMAL_TERMINATION_IN_LNSRCH\n",
      "  warn(\n",
      "c:\\Users\\stan\\miniconda3\\envs\\researchTP\\Lib\\site-packages\\botorch\\optim\\fit.py:102: OptimizationWarning: `scipy_minimize` terminated with status OptimizationStatus.FAILURE, displaying original message from `scipy.optimize.minimize`: ABNORMAL_TERMINATION_IN_LNSRCH\n",
      "  warn(\n",
      "c:\\Users\\stan\\miniconda3\\envs\\researchTP\\Lib\\site-packages\\botorch\\optim\\fit.py:102: OptimizationWarning: `scipy_minimize` terminated with status OptimizationStatus.FAILURE, displaying original message from `scipy.optimize.minimize`: ABNORMAL_TERMINATION_IN_LNSRCH\n",
      "  warn(\n",
      "c:\\Users\\stan\\miniconda3\\envs\\researchTP\\Lib\\site-packages\\botorch\\optim\\fit.py:102: OptimizationWarning: `scipy_minimize` terminated with status OptimizationStatus.FAILURE, displaying original message from `scipy.optimize.minimize`: ABNORMAL_TERMINATION_IN_LNSRCH\n",
      "  warn(\n",
      "c:\\Users\\stan\\miniconda3\\envs\\researchTP\\Lib\\site-packages\\botorch\\optim\\fit.py:102: OptimizationWarning: `scipy_minimize` terminated with status OptimizationStatus.FAILURE, displaying original message from `scipy.optimize.minimize`: ABNORMAL_TERMINATION_IN_LNSRCH\n",
      "  warn(\n",
      "c:\\Users\\stan\\miniconda3\\envs\\researchTP\\Lib\\site-packages\\botorch\\optim\\fit.py:102: OptimizationWarning: `scipy_minimize` terminated with status OptimizationStatus.FAILURE, displaying original message from `scipy.optimize.minimize`: ABNORMAL_TERMINATION_IN_LNSRCH\n",
      "  warn(\n",
      " 60%|██████    | 30/50 [06:36<04:35, 13.76s/it]"
     ]
    },
    {
     "name": "stdout",
     "output_type": "stream",
     "text": [
      "Iterations 83\n",
      "Minimizing with EGP\n",
      "Seed: 256\n",
      "Initial points: tensor([[0.2700, 0.7200, 0.0100],\n",
      "        [0.8700, 0.1200, 0.0100],\n",
      "        [0.5000, 0.2500, 0.2500],\n",
      "        [0.1200, 0.7700, 0.1100],\n",
      "        [0.0000, 0.7500, 0.2500]])\n"
     ]
    },
    {
     "name": "stderr",
     "output_type": "stream",
     "text": [
      "c:\\Users\\stan\\miniconda3\\envs\\researchTP\\Lib\\site-packages\\gpytorch\\distributions\\multivariate_normal.py:319: NumericalWarning: Negative variance values detected. This is likely due to numerical instabilities. Rounding negative variances up to 1e-06.\n",
      "  warnings.warn(\n",
      "c:\\Users\\stan\\miniconda3\\envs\\researchTP\\Lib\\site-packages\\botorch\\optim\\fit.py:102: OptimizationWarning: `scipy_minimize` terminated with status OptimizationStatus.FAILURE, displaying original message from `scipy.optimize.minimize`: ABNORMAL_TERMINATION_IN_LNSRCH\n",
      "  warn(\n",
      "c:\\Users\\stan\\miniconda3\\envs\\researchTP\\Lib\\site-packages\\botorch\\optim\\fit.py:102: OptimizationWarning: `scipy_minimize` terminated with status OptimizationStatus.FAILURE, displaying original message from `scipy.optimize.minimize`: ABNORMAL_TERMINATION_IN_LNSRCH\n",
      "  warn(\n",
      "c:\\Users\\stan\\miniconda3\\envs\\researchTP\\Lib\\site-packages\\botorch\\optim\\fit.py:102: OptimizationWarning: `scipy_minimize` terminated with status OptimizationStatus.FAILURE, displaying original message from `scipy.optimize.minimize`: ABNORMAL_TERMINATION_IN_LNSRCH\n",
      "  warn(\n",
      " 62%|██████▏   | 31/50 [06:43<03:42, 11.70s/it]"
     ]
    },
    {
     "name": "stdout",
     "output_type": "stream",
     "text": [
      "Iterations 46\n",
      "Minimizing with EGP\n",
      "Seed: 931\n",
      "Initial points: tensor([[0.5000, 0.0000, 0.5000],\n",
      "        [0.0900, 0.9100, 0.0000],\n",
      "        [0.0900, 0.8700, 0.0400],\n",
      "        [0.1300, 0.8700, 0.0000],\n",
      "        [0.1200, 0.7700, 0.1100]])\n"
     ]
    },
    {
     "name": "stderr",
     "output_type": "stream",
     "text": [
      "c:\\Users\\stan\\miniconda3\\envs\\researchTP\\Lib\\site-packages\\botorch\\optim\\fit.py:102: OptimizationWarning: `scipy_minimize` terminated with status OptimizationStatus.FAILURE, displaying original message from `scipy.optimize.minimize`: ABNORMAL_TERMINATION_IN_LNSRCH\n",
      "  warn(\n",
      "c:\\Users\\stan\\miniconda3\\envs\\researchTP\\Lib\\site-packages\\botorch\\optim\\fit.py:102: OptimizationWarning: `scipy_minimize` terminated with status OptimizationStatus.FAILURE, displaying original message from `scipy.optimize.minimize`: ABNORMAL_TERMINATION_IN_LNSRCH\n",
      "  warn(\n",
      "c:\\Users\\stan\\miniconda3\\envs\\researchTP\\Lib\\site-packages\\botorch\\optim\\fit.py:102: OptimizationWarning: `scipy_minimize` terminated with status OptimizationStatus.FAILURE, displaying original message from `scipy.optimize.minimize`: ABNORMAL_TERMINATION_IN_LNSRCH\n",
      "  warn(\n",
      "c:\\Users\\stan\\miniconda3\\envs\\researchTP\\Lib\\site-packages\\botorch\\optim\\fit.py:102: OptimizationWarning: `scipy_minimize` terminated with status OptimizationStatus.FAILURE, displaying original message from `scipy.optimize.minimize`: ABNORMAL_TERMINATION_IN_LNSRCH\n",
      "  warn(\n",
      "c:\\Users\\stan\\miniconda3\\envs\\researchTP\\Lib\\site-packages\\botorch\\optim\\fit.py:102: OptimizationWarning: `scipy_minimize` terminated with status OptimizationStatus.FAILURE, displaying original message from `scipy.optimize.minimize`: ABNORMAL_TERMINATION_IN_LNSRCH\n",
      "  warn(\n",
      "c:\\Users\\stan\\miniconda3\\envs\\researchTP\\Lib\\site-packages\\botorch\\optim\\fit.py:102: OptimizationWarning: `scipy_minimize` terminated with status OptimizationStatus.FAILURE, displaying original message from `scipy.optimize.minimize`: ABNORMAL_TERMINATION_IN_LNSRCH\n",
      "  warn(\n",
      " 64%|██████▍   | 32/50 [06:52<03:15, 10.87s/it]"
     ]
    },
    {
     "name": "stdout",
     "output_type": "stream",
     "text": [
      "Iterations 55\n",
      "Minimizing with EGP\n",
      "Seed: 545\n",
      "Initial points: tensor([[0.1300, 0.7900, 0.0800],\n",
      "        [0.0900, 0.8700, 0.0400],\n",
      "        [0.0000, 0.0000, 1.0000],\n",
      "        [0.1300, 0.8700, 0.0000],\n",
      "        [0.2000, 0.6900, 0.1100]])\n"
     ]
    },
    {
     "name": "stderr",
     "output_type": "stream",
     "text": [
      "c:\\Users\\stan\\miniconda3\\envs\\researchTP\\Lib\\site-packages\\botorch\\optim\\fit.py:102: OptimizationWarning: `scipy_minimize` terminated with status OptimizationStatus.FAILURE, displaying original message from `scipy.optimize.minimize`: ABNORMAL_TERMINATION_IN_LNSRCH\n",
      "  warn(\n",
      "c:\\Users\\stan\\miniconda3\\envs\\researchTP\\Lib\\site-packages\\botorch\\optim\\fit.py:102: OptimizationWarning: `scipy_minimize` terminated with status OptimizationStatus.FAILURE, displaying original message from `scipy.optimize.minimize`: ABNORMAL_TERMINATION_IN_LNSRCH\n",
      "  warn(\n",
      "c:\\Users\\stan\\miniconda3\\envs\\researchTP\\Lib\\site-packages\\botorch\\optim\\fit.py:102: OptimizationWarning: `scipy_minimize` terminated with status OptimizationStatus.FAILURE, displaying original message from `scipy.optimize.minimize`: ABNORMAL_TERMINATION_IN_LNSRCH\n",
      "  warn(\n",
      "c:\\Users\\stan\\miniconda3\\envs\\researchTP\\Lib\\site-packages\\botorch\\optim\\fit.py:102: OptimizationWarning: `scipy_minimize` terminated with status OptimizationStatus.FAILURE, displaying original message from `scipy.optimize.minimize`: ABNORMAL_TERMINATION_IN_LNSRCH\n",
      "  warn(\n",
      " 66%|██████▌   | 33/50 [07:01<02:59, 10.56s/it]"
     ]
    },
    {
     "name": "stdout",
     "output_type": "stream",
     "text": [
      "Iterations 61\n",
      "Minimizing with EGP\n",
      "Seed: 722\n",
      "Initial points: tensor([[0.1700, 0.8000, 0.0300],\n",
      "        [0.0900, 0.8700, 0.0400],\n",
      "        [0.3200, 0.6700, 0.0100],\n",
      "        [0.2500, 0.7000, 0.0600],\n",
      "        [0.5000, 0.2500, 0.2500]])\n"
     ]
    },
    {
     "name": "stderr",
     "output_type": "stream",
     "text": [
      "c:\\Users\\stan\\miniconda3\\envs\\researchTP\\Lib\\site-packages\\botorch\\optim\\fit.py:102: OptimizationWarning: `scipy_minimize` terminated with status OptimizationStatus.FAILURE, displaying original message from `scipy.optimize.minimize`: ABNORMAL_TERMINATION_IN_LNSRCH\n",
      "  warn(\n",
      "c:\\Users\\stan\\miniconda3\\envs\\researchTP\\Lib\\site-packages\\botorch\\optim\\fit.py:102: OptimizationWarning: `scipy_minimize` terminated with status OptimizationStatus.FAILURE, displaying original message from `scipy.optimize.minimize`: ABNORMAL_TERMINATION_IN_LNSRCH\n",
      "  warn(\n",
      "c:\\Users\\stan\\miniconda3\\envs\\researchTP\\Lib\\site-packages\\botorch\\optim\\fit.py:102: OptimizationWarning: `scipy_minimize` terminated with status OptimizationStatus.FAILURE, displaying original message from `scipy.optimize.minimize`: ABNORMAL_TERMINATION_IN_LNSRCH\n",
      "  warn(\n",
      "c:\\Users\\stan\\miniconda3\\envs\\researchTP\\Lib\\site-packages\\botorch\\optim\\fit.py:102: OptimizationWarning: `scipy_minimize` terminated with status OptimizationStatus.FAILURE, displaying original message from `scipy.optimize.minimize`: ABNORMAL_TERMINATION_IN_LNSRCH\n",
      "  warn(\n",
      "c:\\Users\\stan\\miniconda3\\envs\\researchTP\\Lib\\site-packages\\botorch\\optim\\fit.py:102: OptimizationWarning: `scipy_minimize` terminated with status OptimizationStatus.FAILURE, displaying original message from `scipy.optimize.minimize`: ABNORMAL_TERMINATION_IN_LNSRCH\n",
      "  warn(\n",
      "c:\\Users\\stan\\miniconda3\\envs\\researchTP\\Lib\\site-packages\\botorch\\optim\\fit.py:102: OptimizationWarning: `scipy_minimize` terminated with status OptimizationStatus.FAILURE, displaying original message from `scipy.optimize.minimize`: ABNORMAL_TERMINATION_IN_LNSRCH\n",
      "  warn(\n",
      "c:\\Users\\stan\\miniconda3\\envs\\researchTP\\Lib\\site-packages\\botorch\\optim\\fit.py:102: OptimizationWarning: `scipy_minimize` terminated with status OptimizationStatus.FAILURE, displaying original message from `scipy.optimize.minimize`: ABNORMAL_TERMINATION_IN_LNSRCH\n",
      "  warn(\n",
      " 68%|██████▊   | 34/50 [07:18<03:17, 12.37s/it]"
     ]
    },
    {
     "name": "stdout",
     "output_type": "stream",
     "text": [
      "Iterations 103\n",
      "Minimizing with EGP\n",
      "Seed: 829\n",
      "Initial points: tensor([[0.3100, 0.3000, 0.3900],\n",
      "        [0.2500, 0.7000, 0.0600],\n",
      "        [0.3000, 0.6900, 0.0100],\n",
      "        [0.1300, 0.8700, 0.0000],\n",
      "        [0.2500, 0.7100, 0.0400]])\n"
     ]
    },
    {
     "name": "stderr",
     "output_type": "stream",
     "text": [
      "c:\\Users\\stan\\miniconda3\\envs\\researchTP\\Lib\\site-packages\\botorch\\optim\\fit.py:102: OptimizationWarning: `scipy_minimize` terminated with status OptimizationStatus.FAILURE, displaying original message from `scipy.optimize.minimize`: ABNORMAL_TERMINATION_IN_LNSRCH\n",
      "  warn(\n",
      "c:\\Users\\stan\\miniconda3\\envs\\researchTP\\Lib\\site-packages\\linear_operator\\utils\\cholesky.py:40: NumericalWarning: A not p.d., added jitter of 1.0e-06 to the diagonal\n",
      "  warnings.warn(\n",
      "c:\\Users\\stan\\miniconda3\\envs\\researchTP\\Lib\\site-packages\\linear_operator\\utils\\cholesky.py:40: NumericalWarning: A not p.d., added jitter of 1.0e-05 to the diagonal\n",
      "  warnings.warn(\n",
      "c:\\Users\\stan\\miniconda3\\envs\\researchTP\\Lib\\site-packages\\linear_operator\\utils\\cholesky.py:40: NumericalWarning: A not p.d., added jitter of 1.0e-04 to the diagonal\n",
      "  warnings.warn(\n",
      "c:\\Users\\stan\\miniconda3\\envs\\researchTP\\Lib\\site-packages\\linear_operator\\utils\\cholesky.py:40: NumericalWarning: A not p.d., added jitter of 1.0e-03 to the diagonal\n",
      "  warnings.warn(\n",
      "c:\\Users\\stan\\miniconda3\\envs\\researchTP\\Lib\\site-packages\\linear_operator\\utils\\cholesky.py:40: NumericalWarning: A not p.d., added jitter of 1.0e-02 to the diagonal\n",
      "  warnings.warn(\n",
      "c:\\Users\\stan\\miniconda3\\envs\\researchTP\\Lib\\site-packages\\linear_operator\\utils\\cholesky.py:40: NumericalWarning: A not p.d., added jitter of 1.0e-01 to the diagonal\n",
      "  warnings.warn(\n",
      "c:\\Users\\stan\\miniconda3\\envs\\researchTP\\Lib\\site-packages\\linear_operator\\utils\\cholesky.py:40: NumericalWarning: A not p.d., added jitter of 1.0e-06 to the diagonal\n",
      "  warnings.warn(\n",
      "c:\\Users\\stan\\miniconda3\\envs\\researchTP\\Lib\\site-packages\\linear_operator\\utils\\cholesky.py:40: NumericalWarning: A not p.d., added jitter of 1.0e-05 to the diagonal\n",
      "  warnings.warn(\n",
      "c:\\Users\\stan\\miniconda3\\envs\\researchTP\\Lib\\site-packages\\linear_operator\\utils\\cholesky.py:40: NumericalWarning: A not p.d., added jitter of 1.0e-04 to the diagonal\n",
      "  warnings.warn(\n",
      "c:\\Users\\stan\\miniconda3\\envs\\researchTP\\Lib\\site-packages\\linear_operator\\utils\\cholesky.py:40: NumericalWarning: A not p.d., added jitter of 1.0e-03 to the diagonal\n",
      "  warnings.warn(\n",
      "c:\\Users\\stan\\miniconda3\\envs\\researchTP\\Lib\\site-packages\\linear_operator\\utils\\cholesky.py:40: NumericalWarning: A not p.d., added jitter of 1.0e-02 to the diagonal\n",
      "  warnings.warn(\n",
      "c:\\Users\\stan\\miniconda3\\envs\\researchTP\\Lib\\site-packages\\linear_operator\\utils\\cholesky.py:40: NumericalWarning: A not p.d., added jitter of 1.0e-01 to the diagonal\n",
      "  warnings.warn(\n",
      "c:\\Users\\stan\\miniconda3\\envs\\researchTP\\Lib\\site-packages\\botorch\\optim\\fit.py:102: OptimizationWarning: `scipy_minimize` terminated with status OptimizationStatus.FAILURE, displaying original message from `scipy.optimize.minimize`: ABNORMAL_TERMINATION_IN_LNSRCH\n",
      "  warn(\n",
      "c:\\Users\\stan\\miniconda3\\envs\\researchTP\\Lib\\site-packages\\botorch\\optim\\fit.py:102: OptimizationWarning: `scipy_minimize` terminated with status OptimizationStatus.FAILURE, displaying original message from `scipy.optimize.minimize`: ABNORMAL_TERMINATION_IN_LNSRCH\n",
      "  warn(\n",
      "c:\\Users\\stan\\miniconda3\\envs\\researchTP\\Lib\\site-packages\\botorch\\optim\\fit.py:102: OptimizationWarning: `scipy_minimize` terminated with status OptimizationStatus.FAILURE, displaying original message from `scipy.optimize.minimize`: ABNORMAL_TERMINATION_IN_LNSRCH\n",
      "  warn(\n",
      "c:\\Users\\stan\\miniconda3\\envs\\researchTP\\Lib\\site-packages\\botorch\\optim\\fit.py:102: OptimizationWarning: `scipy_minimize` terminated with status OptimizationStatus.FAILURE, displaying original message from `scipy.optimize.minimize`: ABNORMAL_TERMINATION_IN_LNSRCH\n",
      "  warn(\n",
      "c:\\Users\\stan\\miniconda3\\envs\\researchTP\\Lib\\site-packages\\botorch\\optim\\fit.py:102: OptimizationWarning: `scipy_minimize` terminated with status OptimizationStatus.FAILURE, displaying original message from `scipy.optimize.minimize`: ABNORMAL_TERMINATION_IN_LNSRCH\n",
      "  warn(\n",
      " 70%|███████   | 35/50 [07:33<03:16, 13.11s/it]"
     ]
    },
    {
     "name": "stdout",
     "output_type": "stream",
     "text": [
      "Iterations 91\n",
      "Minimizing with EGP\n",
      "Seed: 616\n",
      "Initial points: tensor([[0.2600, 0.7400, 0.0000],\n",
      "        [0.1600, 0.8400, 0.0000],\n",
      "        [0.1000, 0.8900, 0.0100],\n",
      "        [0.3200, 0.6700, 0.0100],\n",
      "        [0.1300, 0.7900, 0.0800]])\n"
     ]
    },
    {
     "name": "stderr",
     "output_type": "stream",
     "text": [
      "c:\\Users\\stan\\miniconda3\\envs\\researchTP\\Lib\\site-packages\\gpytorch\\distributions\\multivariate_normal.py:319: NumericalWarning: Negative variance values detected. This is likely due to numerical instabilities. Rounding negative variances up to 1e-06.\n",
      "  warnings.warn(\n",
      "c:\\Users\\stan\\miniconda3\\envs\\researchTP\\Lib\\site-packages\\gpytorch\\distributions\\multivariate_normal.py:319: NumericalWarning: Negative variance values detected. This is likely due to numerical instabilities. Rounding negative variances up to 1e-06.\n",
      "  warnings.warn(\n",
      "c:\\Users\\stan\\miniconda3\\envs\\researchTP\\Lib\\site-packages\\gpytorch\\distributions\\multivariate_normal.py:319: NumericalWarning: Negative variance values detected. This is likely due to numerical instabilities. Rounding negative variances up to 1e-06.\n",
      "  warnings.warn(\n",
      "c:\\Users\\stan\\miniconda3\\envs\\researchTP\\Lib\\site-packages\\gpytorch\\distributions\\multivariate_normal.py:319: NumericalWarning: Negative variance values detected. This is likely due to numerical instabilities. Rounding negative variances up to 1e-06.\n",
      "  warnings.warn(\n",
      "c:\\Users\\stan\\miniconda3\\envs\\researchTP\\Lib\\site-packages\\gpytorch\\distributions\\multivariate_normal.py:319: NumericalWarning: Negative variance values detected. This is likely due to numerical instabilities. Rounding negative variances up to 1e-06.\n",
      "  warnings.warn(\n",
      "c:\\Users\\stan\\miniconda3\\envs\\researchTP\\Lib\\site-packages\\gpytorch\\distributions\\multivariate_normal.py:319: NumericalWarning: Negative variance values detected. This is likely due to numerical instabilities. Rounding negative variances up to 1e-06.\n",
      "  warnings.warn(\n",
      "c:\\Users\\stan\\miniconda3\\envs\\researchTP\\Lib\\site-packages\\gpytorch\\distributions\\multivariate_normal.py:319: NumericalWarning: Negative variance values detected. This is likely due to numerical instabilities. Rounding negative variances up to 1e-06.\n",
      "  warnings.warn(\n",
      "c:\\Users\\stan\\miniconda3\\envs\\researchTP\\Lib\\site-packages\\gpytorch\\distributions\\multivariate_normal.py:319: NumericalWarning: Negative variance values detected. This is likely due to numerical instabilities. Rounding negative variances up to 1e-06.\n",
      "  warnings.warn(\n",
      "c:\\Users\\stan\\miniconda3\\envs\\researchTP\\Lib\\site-packages\\linear_operator\\utils\\cholesky.py:40: NumericalWarning: A not p.d., added jitter of 1.0e-06 to the diagonal\n",
      "  warnings.warn(\n",
      "c:\\Users\\stan\\miniconda3\\envs\\researchTP\\Lib\\site-packages\\linear_operator\\utils\\cholesky.py:40: NumericalWarning: A not p.d., added jitter of 1.0e-05 to the diagonal\n",
      "  warnings.warn(\n",
      "c:\\Users\\stan\\miniconda3\\envs\\researchTP\\Lib\\site-packages\\linear_operator\\utils\\cholesky.py:40: NumericalWarning: A not p.d., added jitter of 1.0e-04 to the diagonal\n",
      "  warnings.warn(\n",
      "c:\\Users\\stan\\miniconda3\\envs\\researchTP\\Lib\\site-packages\\linear_operator\\utils\\cholesky.py:40: NumericalWarning: A not p.d., added jitter of 1.0e-03 to the diagonal\n",
      "  warnings.warn(\n",
      "c:\\Users\\stan\\miniconda3\\envs\\researchTP\\Lib\\site-packages\\linear_operator\\utils\\cholesky.py:40: NumericalWarning: A not p.d., added jitter of 1.0e-02 to the diagonal\n",
      "  warnings.warn(\n",
      "c:\\Users\\stan\\miniconda3\\envs\\researchTP\\Lib\\site-packages\\linear_operator\\utils\\cholesky.py:40: NumericalWarning: A not p.d., added jitter of 1.0e-01 to the diagonal\n",
      "  warnings.warn(\n",
      "c:\\Users\\stan\\miniconda3\\envs\\researchTP\\Lib\\site-packages\\gpytorch\\distributions\\multivariate_normal.py:319: NumericalWarning: Negative variance values detected. This is likely due to numerical instabilities. Rounding negative variances up to 1e-06.\n",
      "  warnings.warn(\n",
      "c:\\Users\\stan\\miniconda3\\envs\\researchTP\\Lib\\site-packages\\gpytorch\\distributions\\multivariate_normal.py:319: NumericalWarning: Negative variance values detected. This is likely due to numerical instabilities. Rounding negative variances up to 1e-06.\n",
      "  warnings.warn(\n",
      "c:\\Users\\stan\\miniconda3\\envs\\researchTP\\Lib\\site-packages\\gpytorch\\distributions\\multivariate_normal.py:319: NumericalWarning: Negative variance values detected. This is likely due to numerical instabilities. Rounding negative variances up to 1e-06.\n",
      "  warnings.warn(\n",
      "c:\\Users\\stan\\miniconda3\\envs\\researchTP\\Lib\\site-packages\\gpytorch\\distributions\\multivariate_normal.py:319: NumericalWarning: Negative variance values detected. This is likely due to numerical instabilities. Rounding negative variances up to 1e-06.\n",
      "  warnings.warn(\n",
      "c:\\Users\\stan\\miniconda3\\envs\\researchTP\\Lib\\site-packages\\gpytorch\\distributions\\multivariate_normal.py:319: NumericalWarning: Negative variance values detected. This is likely due to numerical instabilities. Rounding negative variances up to 1e-06.\n",
      "  warnings.warn(\n",
      "c:\\Users\\stan\\miniconda3\\envs\\researchTP\\Lib\\site-packages\\gpytorch\\distributions\\multivariate_normal.py:319: NumericalWarning: Negative variance values detected. This is likely due to numerical instabilities. Rounding negative variances up to 1e-06.\n",
      "  warnings.warn(\n",
      "c:\\Users\\stan\\miniconda3\\envs\\researchTP\\Lib\\site-packages\\botorch\\optim\\fit.py:102: OptimizationWarning: `scipy_minimize` terminated with status OptimizationStatus.FAILURE, displaying original message from `scipy.optimize.minimize`: ABNORMAL_TERMINATION_IN_LNSRCH\n",
      "  warn(\n",
      "c:\\Users\\stan\\miniconda3\\envs\\researchTP\\Lib\\site-packages\\gpytorch\\distributions\\multivariate_normal.py:319: NumericalWarning: Negative variance values detected. This is likely due to numerical instabilities. Rounding negative variances up to 1e-06.\n",
      "  warnings.warn(\n",
      "c:\\Users\\stan\\miniconda3\\envs\\researchTP\\Lib\\site-packages\\gpytorch\\distributions\\multivariate_normal.py:319: NumericalWarning: Negative variance values detected. This is likely due to numerical instabilities. Rounding negative variances up to 1e-06.\n",
      "  warnings.warn(\n",
      "c:\\Users\\stan\\miniconda3\\envs\\researchTP\\Lib\\site-packages\\gpytorch\\distributions\\multivariate_normal.py:319: NumericalWarning: Negative variance values detected. This is likely due to numerical instabilities. Rounding negative variances up to 1e-06.\n",
      "  warnings.warn(\n",
      "c:\\Users\\stan\\miniconda3\\envs\\researchTP\\Lib\\site-packages\\gpytorch\\distributions\\multivariate_normal.py:319: NumericalWarning: Negative variance values detected. This is likely due to numerical instabilities. Rounding negative variances up to 1e-06.\n",
      "  warnings.warn(\n",
      "c:\\Users\\stan\\miniconda3\\envs\\researchTP\\Lib\\site-packages\\linear_operator\\utils\\cholesky.py:40: NumericalWarning: A not p.d., added jitter of 1.0e-06 to the diagonal\n",
      "  warnings.warn(\n",
      "c:\\Users\\stan\\miniconda3\\envs\\researchTP\\Lib\\site-packages\\linear_operator\\utils\\cholesky.py:40: NumericalWarning: A not p.d., added jitter of 1.0e-05 to the diagonal\n",
      "  warnings.warn(\n",
      "c:\\Users\\stan\\miniconda3\\envs\\researchTP\\Lib\\site-packages\\linear_operator\\utils\\cholesky.py:40: NumericalWarning: A not p.d., added jitter of 1.0e-04 to the diagonal\n",
      "  warnings.warn(\n",
      "c:\\Users\\stan\\miniconda3\\envs\\researchTP\\Lib\\site-packages\\linear_operator\\utils\\cholesky.py:40: NumericalWarning: A not p.d., added jitter of 1.0e-03 to the diagonal\n",
      "  warnings.warn(\n",
      "c:\\Users\\stan\\miniconda3\\envs\\researchTP\\Lib\\site-packages\\linear_operator\\utils\\cholesky.py:40: NumericalWarning: A not p.d., added jitter of 1.0e-02 to the diagonal\n",
      "  warnings.warn(\n",
      "c:\\Users\\stan\\miniconda3\\envs\\researchTP\\Lib\\site-packages\\linear_operator\\utils\\cholesky.py:40: NumericalWarning: A not p.d., added jitter of 1.0e-01 to the diagonal\n",
      "  warnings.warn(\n",
      "c:\\Users\\stan\\miniconda3\\envs\\researchTP\\Lib\\site-packages\\gpytorch\\distributions\\multivariate_normal.py:319: NumericalWarning: Negative variance values detected. This is likely due to numerical instabilities. Rounding negative variances up to 1e-06.\n",
      "  warnings.warn(\n",
      "c:\\Users\\stan\\miniconda3\\envs\\researchTP\\Lib\\site-packages\\gpytorch\\distributions\\multivariate_normal.py:319: NumericalWarning: Negative variance values detected. This is likely due to numerical instabilities. Rounding negative variances up to 1e-06.\n",
      "  warnings.warn(\n",
      "c:\\Users\\stan\\miniconda3\\envs\\researchTP\\Lib\\site-packages\\gpytorch\\distributions\\multivariate_normal.py:319: NumericalWarning: Negative variance values detected. This is likely due to numerical instabilities. Rounding negative variances up to 1e-06.\n",
      "  warnings.warn(\n",
      "c:\\Users\\stan\\miniconda3\\envs\\researchTP\\Lib\\site-packages\\linear_operator\\utils\\cholesky.py:40: NumericalWarning: A not p.d., added jitter of 1.0e-06 to the diagonal\n",
      "  warnings.warn(\n",
      "c:\\Users\\stan\\miniconda3\\envs\\researchTP\\Lib\\site-packages\\linear_operator\\utils\\cholesky.py:40: NumericalWarning: A not p.d., added jitter of 1.0e-05 to the diagonal\n",
      "  warnings.warn(\n",
      "c:\\Users\\stan\\miniconda3\\envs\\researchTP\\Lib\\site-packages\\linear_operator\\utils\\cholesky.py:40: NumericalWarning: A not p.d., added jitter of 1.0e-04 to the diagonal\n",
      "  warnings.warn(\n",
      "c:\\Users\\stan\\miniconda3\\envs\\researchTP\\Lib\\site-packages\\linear_operator\\utils\\cholesky.py:40: NumericalWarning: A not p.d., added jitter of 1.0e-03 to the diagonal\n",
      "  warnings.warn(\n",
      "c:\\Users\\stan\\miniconda3\\envs\\researchTP\\Lib\\site-packages\\linear_operator\\utils\\cholesky.py:40: NumericalWarning: A not p.d., added jitter of 1.0e-02 to the diagonal\n",
      "  warnings.warn(\n",
      "c:\\Users\\stan\\miniconda3\\envs\\researchTP\\Lib\\site-packages\\linear_operator\\utils\\cholesky.py:40: NumericalWarning: A not p.d., added jitter of 1.0e-01 to the diagonal\n",
      "  warnings.warn(\n",
      "c:\\Users\\stan\\miniconda3\\envs\\researchTP\\Lib\\site-packages\\gpytorch\\distributions\\multivariate_normal.py:319: NumericalWarning: Negative variance values detected. This is likely due to numerical instabilities. Rounding negative variances up to 1e-06.\n",
      "  warnings.warn(\n",
      "c:\\Users\\stan\\miniconda3\\envs\\researchTP\\Lib\\site-packages\\botorch\\optim\\fit.py:102: OptimizationWarning: `scipy_minimize` terminated with status OptimizationStatus.FAILURE, displaying original message from `scipy.optimize.minimize`: ABNORMAL_TERMINATION_IN_LNSRCH\n",
      "  warn(\n",
      "c:\\Users\\stan\\miniconda3\\envs\\researchTP\\Lib\\site-packages\\gpytorch\\distributions\\multivariate_normal.py:319: NumericalWarning: Negative variance values detected. This is likely due to numerical instabilities. Rounding negative variances up to 1e-06.\n",
      "  warnings.warn(\n",
      "c:\\Users\\stan\\miniconda3\\envs\\researchTP\\Lib\\site-packages\\linear_operator\\utils\\cholesky.py:40: NumericalWarning: A not p.d., added jitter of 1.0e-06 to the diagonal\n",
      "  warnings.warn(\n",
      "c:\\Users\\stan\\miniconda3\\envs\\researchTP\\Lib\\site-packages\\linear_operator\\utils\\cholesky.py:40: NumericalWarning: A not p.d., added jitter of 1.0e-05 to the diagonal\n",
      "  warnings.warn(\n",
      "c:\\Users\\stan\\miniconda3\\envs\\researchTP\\Lib\\site-packages\\linear_operator\\utils\\cholesky.py:40: NumericalWarning: A not p.d., added jitter of 1.0e-04 to the diagonal\n",
      "  warnings.warn(\n",
      "c:\\Users\\stan\\miniconda3\\envs\\researchTP\\Lib\\site-packages\\linear_operator\\utils\\cholesky.py:40: NumericalWarning: A not p.d., added jitter of 1.0e-03 to the diagonal\n",
      "  warnings.warn(\n",
      "c:\\Users\\stan\\miniconda3\\envs\\researchTP\\Lib\\site-packages\\linear_operator\\utils\\cholesky.py:40: NumericalWarning: A not p.d., added jitter of 1.0e-02 to the diagonal\n",
      "  warnings.warn(\n",
      "c:\\Users\\stan\\miniconda3\\envs\\researchTP\\Lib\\site-packages\\linear_operator\\utils\\cholesky.py:40: NumericalWarning: A not p.d., added jitter of 1.0e-01 to the diagonal\n",
      "  warnings.warn(\n",
      "c:\\Users\\stan\\miniconda3\\envs\\researchTP\\Lib\\site-packages\\gpytorch\\distributions\\multivariate_normal.py:319: NumericalWarning: Negative variance values detected. This is likely due to numerical instabilities. Rounding negative variances up to 1e-06.\n",
      "  warnings.warn(\n",
      "c:\\Users\\stan\\miniconda3\\envs\\researchTP\\Lib\\site-packages\\linear_operator\\utils\\cholesky.py:40: NumericalWarning: A not p.d., added jitter of 1.0e-06 to the diagonal\n",
      "  warnings.warn(\n",
      "c:\\Users\\stan\\miniconda3\\envs\\researchTP\\Lib\\site-packages\\linear_operator\\utils\\cholesky.py:40: NumericalWarning: A not p.d., added jitter of 1.0e-05 to the diagonal\n",
      "  warnings.warn(\n",
      "c:\\Users\\stan\\miniconda3\\envs\\researchTP\\Lib\\site-packages\\linear_operator\\utils\\cholesky.py:40: NumericalWarning: A not p.d., added jitter of 1.0e-04 to the diagonal\n",
      "  warnings.warn(\n",
      "c:\\Users\\stan\\miniconda3\\envs\\researchTP\\Lib\\site-packages\\linear_operator\\utils\\cholesky.py:40: NumericalWarning: A not p.d., added jitter of 1.0e-03 to the diagonal\n",
      "  warnings.warn(\n",
      "c:\\Users\\stan\\miniconda3\\envs\\researchTP\\Lib\\site-packages\\linear_operator\\utils\\cholesky.py:40: NumericalWarning: A not p.d., added jitter of 1.0e-02 to the diagonal\n",
      "  warnings.warn(\n",
      "c:\\Users\\stan\\miniconda3\\envs\\researchTP\\Lib\\site-packages\\linear_operator\\utils\\cholesky.py:40: NumericalWarning: A not p.d., added jitter of 1.0e-01 to the diagonal\n",
      "  warnings.warn(\n",
      "c:\\Users\\stan\\miniconda3\\envs\\researchTP\\Lib\\site-packages\\gpytorch\\distributions\\multivariate_normal.py:319: NumericalWarning: Negative variance values detected. This is likely due to numerical instabilities. Rounding negative variances up to 1e-06.\n",
      "  warnings.warn(\n",
      "c:\\Users\\stan\\miniconda3\\envs\\researchTP\\Lib\\site-packages\\gpytorch\\distributions\\multivariate_normal.py:319: NumericalWarning: Negative variance values detected. This is likely due to numerical instabilities. Rounding negative variances up to 1e-06.\n",
      "  warnings.warn(\n",
      "c:\\Users\\stan\\miniconda3\\envs\\researchTP\\Lib\\site-packages\\gpytorch\\distributions\\multivariate_normal.py:319: NumericalWarning: Negative variance values detected. This is likely due to numerical instabilities. Rounding negative variances up to 1e-06.\n",
      "  warnings.warn(\n",
      "c:\\Users\\stan\\miniconda3\\envs\\researchTP\\Lib\\site-packages\\gpytorch\\distributions\\multivariate_normal.py:319: NumericalWarning: Negative variance values detected. This is likely due to numerical instabilities. Rounding negative variances up to 1e-06.\n",
      "  warnings.warn(\n",
      " 72%|███████▏  | 36/50 [07:43<02:50, 12.18s/it]"
     ]
    },
    {
     "name": "stdout",
     "output_type": "stream",
     "text": [
      "Iterations 63\n",
      "Minimizing with EGP\n",
      "Seed: 923\n",
      "Initial points: tensor([[0.8100, 0.0000, 0.1900],\n",
      "        [0.2000, 0.6900, 0.1100],\n",
      "        [0.4100, 0.5800, 0.0100],\n",
      "        [0.0900, 0.8500, 0.0600],\n",
      "        [0.1700, 0.8000, 0.0300]])\n"
     ]
    },
    {
     "name": "stderr",
     "output_type": "stream",
     "text": [
      "c:\\Users\\stan\\miniconda3\\envs\\researchTP\\Lib\\site-packages\\botorch\\optim\\fit.py:102: OptimizationWarning: `scipy_minimize` terminated with status OptimizationStatus.FAILURE, displaying original message from `scipy.optimize.minimize`: ABNORMAL_TERMINATION_IN_LNSRCH\n",
      "  warn(\n",
      "c:\\Users\\stan\\miniconda3\\envs\\researchTP\\Lib\\site-packages\\botorch\\optim\\fit.py:102: OptimizationWarning: `scipy_minimize` terminated with status OptimizationStatus.FAILURE, displaying original message from `scipy.optimize.minimize`: ABNORMAL_TERMINATION_IN_LNSRCH\n",
      "  warn(\n",
      "c:\\Users\\stan\\miniconda3\\envs\\researchTP\\Lib\\site-packages\\botorch\\optim\\fit.py:102: OptimizationWarning: `scipy_minimize` terminated with status OptimizationStatus.FAILURE, displaying original message from `scipy.optimize.minimize`: ABNORMAL_TERMINATION_IN_LNSRCH\n",
      "  warn(\n",
      "c:\\Users\\stan\\miniconda3\\envs\\researchTP\\Lib\\site-packages\\botorch\\optim\\fit.py:102: OptimizationWarning: `scipy_minimize` terminated with status OptimizationStatus.FAILURE, displaying original message from `scipy.optimize.minimize`: ABNORMAL_TERMINATION_IN_LNSRCH\n",
      "  warn(\n",
      "c:\\Users\\stan\\miniconda3\\envs\\researchTP\\Lib\\site-packages\\botorch\\optim\\fit.py:102: OptimizationWarning: `scipy_minimize` terminated with status OptimizationStatus.FAILURE, displaying original message from `scipy.optimize.minimize`: ABNORMAL_TERMINATION_IN_LNSRCH\n",
      "  warn(\n",
      "c:\\Users\\stan\\miniconda3\\envs\\researchTP\\Lib\\site-packages\\botorch\\optim\\fit.py:102: OptimizationWarning: `scipy_minimize` terminated with status OptimizationStatus.FAILURE, displaying original message from `scipy.optimize.minimize`: ABNORMAL_TERMINATION_IN_LNSRCH\n",
      "  warn(\n",
      " 74%|███████▍  | 37/50 [07:53<02:28, 11.46s/it]"
     ]
    },
    {
     "name": "stdout",
     "output_type": "stream",
     "text": [
      "Iterations 68\n",
      "Minimizing with EGP\n",
      "Seed: 150\n",
      "Initial points: tensor([[0.8900, 0.0000, 0.1100],\n",
      "        [0.7800, 0.0900, 0.1300],\n",
      "        [0.2000, 0.6900, 0.1100],\n",
      "        [0.2700, 0.3400, 0.4000],\n",
      "        [0.0000, 0.7500, 0.2500]])\n"
     ]
    },
    {
     "name": "stderr",
     "output_type": "stream",
     "text": [
      "c:\\Users\\stan\\miniconda3\\envs\\researchTP\\Lib\\site-packages\\botorch\\optim\\fit.py:102: OptimizationWarning: `scipy_minimize` terminated with status OptimizationStatus.FAILURE, displaying original message from `scipy.optimize.minimize`: ABNORMAL_TERMINATION_IN_LNSRCH\n",
      "  warn(\n",
      "c:\\Users\\stan\\miniconda3\\envs\\researchTP\\Lib\\site-packages\\botorch\\optim\\fit.py:102: OptimizationWarning: `scipy_minimize` terminated with status OptimizationStatus.FAILURE, displaying original message from `scipy.optimize.minimize`: ABNORMAL_TERMINATION_IN_LNSRCH\n",
      "  warn(\n",
      "c:\\Users\\stan\\miniconda3\\envs\\researchTP\\Lib\\site-packages\\botorch\\optim\\fit.py:102: OptimizationWarning: `scipy_minimize` terminated with status OptimizationStatus.FAILURE, displaying original message from `scipy.optimize.minimize`: ABNORMAL_TERMINATION_IN_LNSRCH\n",
      "  warn(\n",
      "c:\\Users\\stan\\miniconda3\\envs\\researchTP\\Lib\\site-packages\\botorch\\optim\\fit.py:102: OptimizationWarning: `scipy_minimize` terminated with status OptimizationStatus.FAILURE, displaying original message from `scipy.optimize.minimize`: ABNORMAL_TERMINATION_IN_LNSRCH\n",
      "  warn(\n",
      "c:\\Users\\stan\\miniconda3\\envs\\researchTP\\Lib\\site-packages\\botorch\\optim\\fit.py:102: OptimizationWarning: `scipy_minimize` terminated with status OptimizationStatus.FAILURE, displaying original message from `scipy.optimize.minimize`: ABNORMAL_TERMINATION_IN_LNSRCH\n",
      "  warn(\n",
      "c:\\Users\\stan\\miniconda3\\envs\\researchTP\\Lib\\site-packages\\botorch\\optim\\fit.py:102: OptimizationWarning: `scipy_minimize` terminated with status OptimizationStatus.FAILURE, displaying original message from `scipy.optimize.minimize`: ABNORMAL_TERMINATION_IN_LNSRCH\n",
      "  warn(\n",
      " 76%|███████▌  | 38/50 [08:03<02:12, 11.01s/it]"
     ]
    },
    {
     "name": "stdout",
     "output_type": "stream",
     "text": [
      "Iterations 60\n",
      "Minimizing with EGP\n",
      "Seed: 317\n",
      "Initial points: tensor([[0.1800, 0.7800, 0.0400],\n",
      "        [0.2500, 0.7000, 0.0600],\n",
      "        [0.0500, 0.7885, 0.1615],\n",
      "        [0.0000, 0.0000, 1.0000],\n",
      "        [0.3100, 0.3600, 0.3300]])\n"
     ]
    },
    {
     "name": "stderr",
     "output_type": "stream",
     "text": [
      "c:\\Users\\stan\\miniconda3\\envs\\researchTP\\Lib\\site-packages\\botorch\\optim\\fit.py:102: OptimizationWarning: `scipy_minimize` terminated with status OptimizationStatus.FAILURE, displaying original message from `scipy.optimize.minimize`: ABNORMAL_TERMINATION_IN_LNSRCH\n",
      "  warn(\n",
      "c:\\Users\\stan\\miniconda3\\envs\\researchTP\\Lib\\site-packages\\botorch\\optim\\fit.py:102: OptimizationWarning: `scipy_minimize` terminated with status OptimizationStatus.FAILURE, displaying original message from `scipy.optimize.minimize`: ABNORMAL_TERMINATION_IN_LNSRCH\n",
      "  warn(\n",
      "c:\\Users\\stan\\miniconda3\\envs\\researchTP\\Lib\\site-packages\\botorch\\optim\\fit.py:102: OptimizationWarning: `scipy_minimize` terminated with status OptimizationStatus.FAILURE, displaying original message from `scipy.optimize.minimize`: ABNORMAL_TERMINATION_IN_LNSRCH\n",
      "  warn(\n",
      "c:\\Users\\stan\\miniconda3\\envs\\researchTP\\Lib\\site-packages\\botorch\\optim\\fit.py:102: OptimizationWarning: `scipy_minimize` terminated with status OptimizationStatus.FAILURE, displaying original message from `scipy.optimize.minimize`: ABNORMAL_TERMINATION_IN_LNSRCH\n",
      "  warn(\n",
      "c:\\Users\\stan\\miniconda3\\envs\\researchTP\\Lib\\site-packages\\botorch\\optim\\fit.py:102: OptimizationWarning: `scipy_minimize` terminated with status OptimizationStatus.FAILURE, displaying original message from `scipy.optimize.minimize`: ABNORMAL_TERMINATION_IN_LNSRCH\n",
      "  warn(\n",
      "c:\\Users\\stan\\miniconda3\\envs\\researchTP\\Lib\\site-packages\\botorch\\optim\\fit.py:102: OptimizationWarning: `scipy_minimize` terminated with status OptimizationStatus.FAILURE, displaying original message from `scipy.optimize.minimize`: ABNORMAL_TERMINATION_IN_LNSRCH\n",
      "  warn(\n",
      "c:\\Users\\stan\\miniconda3\\envs\\researchTP\\Lib\\site-packages\\botorch\\optim\\fit.py:102: OptimizationWarning: `scipy_minimize` terminated with status OptimizationStatus.FAILURE, displaying original message from `scipy.optimize.minimize`: ABNORMAL_TERMINATION_IN_LNSRCH\n",
      "  warn(\n",
      " 78%|███████▊  | 39/50 [08:15<02:04, 11.33s/it]"
     ]
    },
    {
     "name": "stdout",
     "output_type": "stream",
     "text": [
      "Iterations 69\n",
      "Minimizing with EGP\n",
      "Seed: 101\n",
      "Initial points: tensor([[0.2500, 0.7000, 0.0600],\n",
      "        [0.0000, 0.0000, 1.0000],\n",
      "        [0.0600, 0.8500, 0.0900],\n",
      "        [0.2500, 0.7000, 0.0600],\n",
      "        [0.6300, 0.3700, 0.0000]])\n"
     ]
    },
    {
     "name": "stderr",
     "output_type": "stream",
     "text": [
      "c:\\Users\\stan\\miniconda3\\envs\\researchTP\\Lib\\site-packages\\botorch\\optim\\fit.py:102: OptimizationWarning: `scipy_minimize` terminated with status OptimizationStatus.FAILURE, displaying original message from `scipy.optimize.minimize`: ABNORMAL_TERMINATION_IN_LNSRCH\n",
      "  warn(\n",
      "c:\\Users\\stan\\miniconda3\\envs\\researchTP\\Lib\\site-packages\\botorch\\optim\\fit.py:102: OptimizationWarning: `scipy_minimize` terminated with status OptimizationStatus.FAILURE, displaying original message from `scipy.optimize.minimize`: ABNORMAL_TERMINATION_IN_LNSRCH\n",
      "  warn(\n",
      "c:\\Users\\stan\\miniconda3\\envs\\researchTP\\Lib\\site-packages\\botorch\\optim\\fit.py:102: OptimizationWarning: `scipy_minimize` terminated with status OptimizationStatus.FAILURE, displaying original message from `scipy.optimize.minimize`: ABNORMAL_TERMINATION_IN_LNSRCH\n",
      "  warn(\n",
      "c:\\Users\\stan\\miniconda3\\envs\\researchTP\\Lib\\site-packages\\botorch\\optim\\fit.py:102: OptimizationWarning: `scipy_minimize` terminated with status OptimizationStatus.FAILURE, displaying original message from `scipy.optimize.minimize`: ABNORMAL_TERMINATION_IN_LNSRCH\n",
      "  warn(\n",
      "c:\\Users\\stan\\miniconda3\\envs\\researchTP\\Lib\\site-packages\\botorch\\optim\\fit.py:102: OptimizationWarning: `scipy_minimize` terminated with status OptimizationStatus.FAILURE, displaying original message from `scipy.optimize.minimize`: ABNORMAL_TERMINATION_IN_LNSRCH\n",
      "  warn(\n",
      "c:\\Users\\stan\\miniconda3\\envs\\researchTP\\Lib\\site-packages\\botorch\\optim\\fit.py:102: OptimizationWarning: `scipy_minimize` terminated with status OptimizationStatus.FAILURE, displaying original message from `scipy.optimize.minimize`: ABNORMAL_TERMINATION_IN_LNSRCH\n",
      "  warn(\n",
      "c:\\Users\\stan\\miniconda3\\envs\\researchTP\\Lib\\site-packages\\botorch\\optim\\fit.py:102: OptimizationWarning: `scipy_minimize` terminated with status OptimizationStatus.FAILURE, displaying original message from `scipy.optimize.minimize`: ABNORMAL_TERMINATION_IN_LNSRCH\n",
      "  warn(\n",
      "c:\\Users\\stan\\miniconda3\\envs\\researchTP\\Lib\\site-packages\\botorch\\optim\\fit.py:102: OptimizationWarning: `scipy_minimize` terminated with status OptimizationStatus.FAILURE, displaying original message from `scipy.optimize.minimize`: ABNORMAL_TERMINATION_IN_LNSRCH\n",
      "  warn(\n",
      "c:\\Users\\stan\\miniconda3\\envs\\researchTP\\Lib\\site-packages\\botorch\\optim\\fit.py:102: OptimizationWarning: `scipy_minimize` terminated with status OptimizationStatus.FAILURE, displaying original message from `scipy.optimize.minimize`: ABNORMAL_TERMINATION_IN_LNSRCH\n",
      "  warn(\n",
      " 80%|████████  | 40/50 [08:26<01:54, 11.40s/it]"
     ]
    },
    {
     "name": "stdout",
     "output_type": "stream",
     "text": [
      "Iterations 66\n",
      "Minimizing with EGP\n",
      "Seed: 747\n",
      "Initial points: tensor([[0.0000, 0.5000, 0.5000],\n",
      "        [0.1900, 0.7000, 0.1100],\n",
      "        [0.6300, 0.3700, 0.0000],\n",
      "        [0.2500, 0.2500, 0.5000],\n",
      "        [0.3200, 0.6700, 0.0100]])\n"
     ]
    },
    {
     "name": "stderr",
     "output_type": "stream",
     "text": [
      "c:\\Users\\stan\\miniconda3\\envs\\researchTP\\Lib\\site-packages\\botorch\\optim\\fit.py:102: OptimizationWarning: `scipy_minimize` terminated with status OptimizationStatus.FAILURE, displaying original message from `scipy.optimize.minimize`: ABNORMAL_TERMINATION_IN_LNSRCH\n",
      "  warn(\n",
      "c:\\Users\\stan\\miniconda3\\envs\\researchTP\\Lib\\site-packages\\botorch\\optim\\fit.py:102: OptimizationWarning: `scipy_minimize` terminated with status OptimizationStatus.FAILURE, displaying original message from `scipy.optimize.minimize`: ABNORMAL_TERMINATION_IN_LNSRCH\n",
      "  warn(\n",
      "c:\\Users\\stan\\miniconda3\\envs\\researchTP\\Lib\\site-packages\\botorch\\optim\\fit.py:102: OptimizationWarning: `scipy_minimize` terminated with status OptimizationStatus.FAILURE, displaying original message from `scipy.optimize.minimize`: ABNORMAL_TERMINATION_IN_LNSRCH\n",
      "  warn(\n",
      "c:\\Users\\stan\\miniconda3\\envs\\researchTP\\Lib\\site-packages\\botorch\\optim\\fit.py:102: OptimizationWarning: `scipy_minimize` terminated with status OptimizationStatus.FAILURE, displaying original message from `scipy.optimize.minimize`: ABNORMAL_TERMINATION_IN_LNSRCH\n",
      "  warn(\n",
      "c:\\Users\\stan\\miniconda3\\envs\\researchTP\\Lib\\site-packages\\botorch\\optim\\fit.py:102: OptimizationWarning: `scipy_minimize` terminated with status OptimizationStatus.FAILURE, displaying original message from `scipy.optimize.minimize`: ABNORMAL_TERMINATION_IN_LNSRCH\n",
      "  warn(\n",
      " 82%|████████▏ | 41/50 [08:43<01:57, 13.01s/it]"
     ]
    },
    {
     "name": "stdout",
     "output_type": "stream",
     "text": [
      "Iterations 104\n",
      "Minimizing with EGP\n",
      "Seed: 75\n",
      "Initial points: tensor([[0.0000, 0.0000, 1.0000],\n",
      "        [0.5000, 0.5000, 0.0000],\n",
      "        [0.0000, 0.0000, 1.0000],\n",
      "        [0.3700, 0.6200, 0.0100],\n",
      "        [0.1300, 0.8500, 0.0200]])\n"
     ]
    },
    {
     "name": "stderr",
     "output_type": "stream",
     "text": [
      "c:\\Users\\stan\\miniconda3\\envs\\researchTP\\Lib\\site-packages\\botorch\\optim\\fit.py:102: OptimizationWarning: `scipy_minimize` terminated with status OptimizationStatus.FAILURE, displaying original message from `scipy.optimize.minimize`: ABNORMAL_TERMINATION_IN_LNSRCH\n",
      "  warn(\n",
      "c:\\Users\\stan\\miniconda3\\envs\\researchTP\\Lib\\site-packages\\botorch\\optim\\fit.py:102: OptimizationWarning: `scipy_minimize` terminated with status OptimizationStatus.FAILURE, displaying original message from `scipy.optimize.minimize`: ABNORMAL_TERMINATION_IN_LNSRCH\n",
      "  warn(\n",
      "c:\\Users\\stan\\miniconda3\\envs\\researchTP\\Lib\\site-packages\\botorch\\optim\\fit.py:102: OptimizationWarning: `scipy_minimize` terminated with status OptimizationStatus.FAILURE, displaying original message from `scipy.optimize.minimize`: ABNORMAL_TERMINATION_IN_LNSRCH\n",
      "  warn(\n",
      "c:\\Users\\stan\\miniconda3\\envs\\researchTP\\Lib\\site-packages\\botorch\\optim\\fit.py:102: OptimizationWarning: `scipy_minimize` terminated with status OptimizationStatus.FAILURE, displaying original message from `scipy.optimize.minimize`: ABNORMAL_TERMINATION_IN_LNSRCH\n",
      "  warn(\n",
      "c:\\Users\\stan\\miniconda3\\envs\\researchTP\\Lib\\site-packages\\botorch\\optim\\fit.py:102: OptimizationWarning: `scipy_minimize` terminated with status OptimizationStatus.FAILURE, displaying original message from `scipy.optimize.minimize`: ABNORMAL_TERMINATION_IN_LNSRCH\n",
      "  warn(\n",
      "c:\\Users\\stan\\miniconda3\\envs\\researchTP\\Lib\\site-packages\\botorch\\optim\\fit.py:102: OptimizationWarning: `scipy_minimize` terminated with status OptimizationStatus.FAILURE, displaying original message from `scipy.optimize.minimize`: ABNORMAL_TERMINATION_IN_LNSRCH\n",
      "  warn(\n",
      "c:\\Users\\stan\\miniconda3\\envs\\researchTP\\Lib\\site-packages\\botorch\\optim\\fit.py:102: OptimizationWarning: `scipy_minimize` terminated with status OptimizationStatus.FAILURE, displaying original message from `scipy.optimize.minimize`: ABNORMAL_TERMINATION_IN_LNSRCH\n",
      "  warn(\n",
      " 84%|████████▍ | 42/50 [08:57<01:46, 13.31s/it]"
     ]
    },
    {
     "name": "stdout",
     "output_type": "stream",
     "text": [
      "Iterations 93\n",
      "Minimizing with EGP\n",
      "Seed: 920\n",
      "Initial points: tensor([[0.0000, 0.0000, 1.0000],\n",
      "        [0.2500, 0.7000, 0.0600],\n",
      "        [0.5300, 0.4700, 0.0000],\n",
      "        [0.2000, 0.6900, 0.1100],\n",
      "        [1.0000, 0.0000, 0.0000]])\n"
     ]
    },
    {
     "name": "stderr",
     "output_type": "stream",
     "text": [
      "c:\\Users\\stan\\miniconda3\\envs\\researchTP\\Lib\\site-packages\\botorch\\optim\\fit.py:102: OptimizationWarning: `scipy_minimize` terminated with status OptimizationStatus.FAILURE, displaying original message from `scipy.optimize.minimize`: ABNORMAL_TERMINATION_IN_LNSRCH\n",
      "  warn(\n",
      "c:\\Users\\stan\\miniconda3\\envs\\researchTP\\Lib\\site-packages\\botorch\\optim\\fit.py:102: OptimizationWarning: `scipy_minimize` terminated with status OptimizationStatus.FAILURE, displaying original message from `scipy.optimize.minimize`: ABNORMAL_TERMINATION_IN_LNSRCH\n",
      "  warn(\n",
      "c:\\Users\\stan\\miniconda3\\envs\\researchTP\\Lib\\site-packages\\botorch\\optim\\fit.py:102: OptimizationWarning: `scipy_minimize` terminated with status OptimizationStatus.FAILURE, displaying original message from `scipy.optimize.minimize`: ABNORMAL_TERMINATION_IN_LNSRCH\n",
      "  warn(\n",
      "c:\\Users\\stan\\miniconda3\\envs\\researchTP\\Lib\\site-packages\\botorch\\optim\\fit.py:102: OptimizationWarning: `scipy_minimize` terminated with status OptimizationStatus.FAILURE, displaying original message from `scipy.optimize.minimize`: ABNORMAL_TERMINATION_IN_LNSRCH\n",
      "  warn(\n",
      "c:\\Users\\stan\\miniconda3\\envs\\researchTP\\Lib\\site-packages\\botorch\\optim\\fit.py:102: OptimizationWarning: `scipy_minimize` terminated with status OptimizationStatus.FAILURE, displaying original message from `scipy.optimize.minimize`: ABNORMAL_TERMINATION_IN_LNSRCH\n",
      "  warn(\n",
      "c:\\Users\\stan\\miniconda3\\envs\\researchTP\\Lib\\site-packages\\botorch\\optim\\fit.py:102: OptimizationWarning: `scipy_minimize` terminated with status OptimizationStatus.FAILURE, displaying original message from `scipy.optimize.minimize`: ABNORMAL_TERMINATION_IN_LNSRCH\n",
      "  warn(\n",
      "c:\\Users\\stan\\miniconda3\\envs\\researchTP\\Lib\\site-packages\\botorch\\optim\\fit.py:102: OptimizationWarning: `scipy_minimize` terminated with status OptimizationStatus.FAILURE, displaying original message from `scipy.optimize.minimize`: ABNORMAL_TERMINATION_IN_LNSRCH\n",
      "  warn(\n",
      "c:\\Users\\stan\\miniconda3\\envs\\researchTP\\Lib\\site-packages\\botorch\\optim\\fit.py:102: OptimizationWarning: `scipy_minimize` terminated with status OptimizationStatus.FAILURE, displaying original message from `scipy.optimize.minimize`: ABNORMAL_TERMINATION_IN_LNSRCH\n",
      "  warn(\n",
      " 86%|████████▌ | 43/50 [09:07<01:25, 12.26s/it]"
     ]
    },
    {
     "name": "stdout",
     "output_type": "stream",
     "text": [
      "Iterations 62\n",
      "Minimizing with EGP\n",
      "Seed: 870\n",
      "Initial points: tensor([[0.7100, 0.0100, 0.2800],\n",
      "        [0.1000, 0.9000, 0.0000],\n",
      "        [0.1900, 0.8100, 0.0000],\n",
      "        [0.8400, 0.0000, 0.1600],\n",
      "        [0.1200, 0.7700, 0.1100]])\n"
     ]
    },
    {
     "name": "stderr",
     "output_type": "stream",
     "text": [
      "c:\\Users\\stan\\miniconda3\\envs\\researchTP\\Lib\\site-packages\\botorch\\optim\\fit.py:102: OptimizationWarning: `scipy_minimize` terminated with status OptimizationStatus.FAILURE, displaying original message from `scipy.optimize.minimize`: ABNORMAL_TERMINATION_IN_LNSRCH\n",
      "  warn(\n",
      "c:\\Users\\stan\\miniconda3\\envs\\researchTP\\Lib\\site-packages\\botorch\\optim\\fit.py:102: OptimizationWarning: `scipy_minimize` terminated with status OptimizationStatus.FAILURE, displaying original message from `scipy.optimize.minimize`: ABNORMAL_TERMINATION_IN_LNSRCH\n",
      "  warn(\n",
      "c:\\Users\\stan\\miniconda3\\envs\\researchTP\\Lib\\site-packages\\botorch\\optim\\fit.py:102: OptimizationWarning: `scipy_minimize` terminated with status OptimizationStatus.FAILURE, displaying original message from `scipy.optimize.minimize`: ABNORMAL_TERMINATION_IN_LNSRCH\n",
      "  warn(\n",
      " 88%|████████▊ | 44/50 [09:18<01:12, 12.05s/it]"
     ]
    },
    {
     "name": "stdout",
     "output_type": "stream",
     "text": [
      "Iterations 71\n",
      "Minimizing with EGP\n",
      "Seed: 700\n",
      "Initial points: tensor([[0.0000, 0.0000, 1.0000],\n",
      "        [0.1800, 0.7800, 0.0400],\n",
      "        [0.5300, 0.4700, 0.0000],\n",
      "        [0.3000, 0.6900, 0.0100],\n",
      "        [0.1600, 0.8400, 0.0000]])\n"
     ]
    },
    {
     "name": "stderr",
     "output_type": "stream",
     "text": [
      "c:\\Users\\stan\\miniconda3\\envs\\researchTP\\Lib\\site-packages\\botorch\\optim\\fit.py:102: OptimizationWarning: `scipy_minimize` terminated with status OptimizationStatus.FAILURE, displaying original message from `scipy.optimize.minimize`: ABNORMAL_TERMINATION_IN_LNSRCH\n",
      "  warn(\n",
      "c:\\Users\\stan\\miniconda3\\envs\\researchTP\\Lib\\site-packages\\botorch\\optim\\fit.py:102: OptimizationWarning: `scipy_minimize` terminated with status OptimizationStatus.FAILURE, displaying original message from `scipy.optimize.minimize`: ABNORMAL_TERMINATION_IN_LNSRCH\n",
      "  warn(\n",
      "c:\\Users\\stan\\miniconda3\\envs\\researchTP\\Lib\\site-packages\\botorch\\optim\\fit.py:102: OptimizationWarning: `scipy_minimize` terminated with status OptimizationStatus.FAILURE, displaying original message from `scipy.optimize.minimize`: ABNORMAL_TERMINATION_IN_LNSRCH\n",
      "  warn(\n",
      "c:\\Users\\stan\\miniconda3\\envs\\researchTP\\Lib\\site-packages\\botorch\\optim\\fit.py:102: OptimizationWarning: `scipy_minimize` terminated with status OptimizationStatus.FAILURE, displaying original message from `scipy.optimize.minimize`: ABNORMAL_TERMINATION_IN_LNSRCH\n",
      "  warn(\n",
      "c:\\Users\\stan\\miniconda3\\envs\\researchTP\\Lib\\site-packages\\botorch\\optim\\fit.py:102: OptimizationWarning: `scipy_minimize` terminated with status OptimizationStatus.FAILURE, displaying original message from `scipy.optimize.minimize`: ABNORMAL_TERMINATION_IN_LNSRCH\n",
      "  warn(\n",
      "c:\\Users\\stan\\miniconda3\\envs\\researchTP\\Lib\\site-packages\\botorch\\optim\\fit.py:102: OptimizationWarning: `scipy_minimize` terminated with status OptimizationStatus.FAILURE, displaying original message from `scipy.optimize.minimize`: ABNORMAL_TERMINATION_IN_LNSRCH\n",
      "  warn(\n",
      "c:\\Users\\stan\\miniconda3\\envs\\researchTP\\Lib\\site-packages\\botorch\\optim\\fit.py:102: OptimizationWarning: `scipy_minimize` terminated with status OptimizationStatus.FAILURE, displaying original message from `scipy.optimize.minimize`: ABNORMAL_TERMINATION_IN_LNSRCH\n",
      "  warn(\n",
      " 90%|█████████ | 45/50 [09:29<00:57, 11.53s/it]"
     ]
    },
    {
     "name": "stdout",
     "output_type": "stream",
     "text": [
      "Iterations 66\n",
      "Minimizing with EGP\n",
      "Seed: 338\n",
      "Initial points: tensor([[0.0000, 0.5000, 0.5000],\n",
      "        [0.2500, 0.7000, 0.0600],\n",
      "        [0.1300, 0.7900, 0.0800],\n",
      "        [0.7500, 0.2500, 0.0000],\n",
      "        [0.7500, 0.2500, 0.0000]])\n"
     ]
    },
    {
     "name": "stderr",
     "output_type": "stream",
     "text": [
      "c:\\Users\\stan\\miniconda3\\envs\\researchTP\\Lib\\site-packages\\botorch\\optim\\fit.py:102: OptimizationWarning: `scipy_minimize` terminated with status OptimizationStatus.FAILURE, displaying original message from `scipy.optimize.minimize`: ABNORMAL_TERMINATION_IN_LNSRCH\n",
      "  warn(\n",
      "c:\\Users\\stan\\miniconda3\\envs\\researchTP\\Lib\\site-packages\\botorch\\optim\\fit.py:102: OptimizationWarning: `scipy_minimize` terminated with status OptimizationStatus.FAILURE, displaying original message from `scipy.optimize.minimize`: ABNORMAL_TERMINATION_IN_LNSRCH\n",
      "  warn(\n",
      "c:\\Users\\stan\\miniconda3\\envs\\researchTP\\Lib\\site-packages\\linear_operator\\utils\\cholesky.py:40: NumericalWarning: A not p.d., added jitter of 1.0e-06 to the diagonal\n",
      "  warnings.warn(\n",
      "c:\\Users\\stan\\miniconda3\\envs\\researchTP\\Lib\\site-packages\\linear_operator\\utils\\cholesky.py:40: NumericalWarning: A not p.d., added jitter of 1.0e-05 to the diagonal\n",
      "  warnings.warn(\n",
      "c:\\Users\\stan\\miniconda3\\envs\\researchTP\\Lib\\site-packages\\linear_operator\\utils\\cholesky.py:40: NumericalWarning: A not p.d., added jitter of 1.0e-04 to the diagonal\n",
      "  warnings.warn(\n",
      "c:\\Users\\stan\\miniconda3\\envs\\researchTP\\Lib\\site-packages\\linear_operator\\utils\\cholesky.py:40: NumericalWarning: A not p.d., added jitter of 1.0e-03 to the diagonal\n",
      "  warnings.warn(\n",
      "c:\\Users\\stan\\miniconda3\\envs\\researchTP\\Lib\\site-packages\\linear_operator\\utils\\cholesky.py:40: NumericalWarning: A not p.d., added jitter of 1.0e-02 to the diagonal\n",
      "  warnings.warn(\n",
      "c:\\Users\\stan\\miniconda3\\envs\\researchTP\\Lib\\site-packages\\botorch\\optim\\fit.py:102: OptimizationWarning: `scipy_minimize` terminated with status OptimizationStatus.FAILURE, displaying original message from `scipy.optimize.minimize`: ABNORMAL_TERMINATION_IN_LNSRCH\n",
      "  warn(\n",
      "c:\\Users\\stan\\miniconda3\\envs\\researchTP\\Lib\\site-packages\\botorch\\optim\\fit.py:102: OptimizationWarning: `scipy_minimize` terminated with status OptimizationStatus.FAILURE, displaying original message from `scipy.optimize.minimize`: ABNORMAL_TERMINATION_IN_LNSRCH\n",
      "  warn(\n",
      "c:\\Users\\stan\\miniconda3\\envs\\researchTP\\Lib\\site-packages\\botorch\\optim\\fit.py:102: OptimizationWarning: `scipy_minimize` terminated with status OptimizationStatus.FAILURE, displaying original message from `scipy.optimize.minimize`: ABNORMAL_TERMINATION_IN_LNSRCH\n",
      "  warn(\n",
      "c:\\Users\\stan\\miniconda3\\envs\\researchTP\\Lib\\site-packages\\botorch\\optim\\fit.py:102: OptimizationWarning: `scipy_minimize` terminated with status OptimizationStatus.FAILURE, displaying original message from `scipy.optimize.minimize`: ABNORMAL_TERMINATION_IN_LNSRCH\n",
      "  warn(\n",
      "c:\\Users\\stan\\miniconda3\\envs\\researchTP\\Lib\\site-packages\\botorch\\optim\\fit.py:102: OptimizationWarning: `scipy_minimize` terminated with status OptimizationStatus.FAILURE, displaying original message from `scipy.optimize.minimize`: ABNORMAL_TERMINATION_IN_LNSRCH\n",
      "  warn(\n",
      "c:\\Users\\stan\\miniconda3\\envs\\researchTP\\Lib\\site-packages\\botorch\\optim\\fit.py:102: OptimizationWarning: `scipy_minimize` terminated with status OptimizationStatus.FAILURE, displaying original message from `scipy.optimize.minimize`: ABNORMAL_TERMINATION_IN_LNSRCH\n",
      "  warn(\n",
      " 92%|█████████▏| 46/50 [09:41<00:46, 11.71s/it]"
     ]
    },
    {
     "name": "stdout",
     "output_type": "stream",
     "text": [
      "Iterations 72\n",
      "Minimizing with EGP\n",
      "Seed: 483\n",
      "Initial points: tensor([[0.1300, 0.8700, 0.0000],\n",
      "        [0.0900, 0.8700, 0.0400],\n",
      "        [0.1600, 0.8400, 0.0000],\n",
      "        [0.5700, 0.4300, 0.0000],\n",
      "        [0.7500, 0.0000, 0.2500]])\n"
     ]
    },
    {
     "name": "stderr",
     "output_type": "stream",
     "text": [
      "c:\\Users\\stan\\miniconda3\\envs\\researchTP\\Lib\\site-packages\\gpytorch\\distributions\\multivariate_normal.py:319: NumericalWarning: Negative variance values detected. This is likely due to numerical instabilities. Rounding negative variances up to 1e-06.\n",
      "  warnings.warn(\n",
      "c:\\Users\\stan\\miniconda3\\envs\\researchTP\\Lib\\site-packages\\botorch\\optim\\fit.py:102: OptimizationWarning: `scipy_minimize` terminated with status OptimizationStatus.FAILURE, displaying original message from `scipy.optimize.minimize`: ABNORMAL_TERMINATION_IN_LNSRCH\n",
      "  warn(\n",
      "c:\\Users\\stan\\miniconda3\\envs\\researchTP\\Lib\\site-packages\\botorch\\optim\\fit.py:102: OptimizationWarning: `scipy_minimize` terminated with status OptimizationStatus.FAILURE, displaying original message from `scipy.optimize.minimize`: ABNORMAL_TERMINATION_IN_LNSRCH\n",
      "  warn(\n",
      "c:\\Users\\stan\\miniconda3\\envs\\researchTP\\Lib\\site-packages\\botorch\\optim\\fit.py:102: OptimizationWarning: `scipy_minimize` terminated with status OptimizationStatus.FAILURE, displaying original message from `scipy.optimize.minimize`: ABNORMAL_TERMINATION_IN_LNSRCH\n",
      "  warn(\n",
      "c:\\Users\\stan\\miniconda3\\envs\\researchTP\\Lib\\site-packages\\botorch\\optim\\fit.py:102: OptimizationWarning: `scipy_minimize` terminated with status OptimizationStatus.FAILURE, displaying original message from `scipy.optimize.minimize`: ABNORMAL_TERMINATION_IN_LNSRCH\n",
      "  warn(\n",
      " 94%|█████████▍| 47/50 [09:52<00:34, 11.59s/it]"
     ]
    },
    {
     "name": "stdout",
     "output_type": "stream",
     "text": [
      "Iterations 72\n",
      "Minimizing with EGP\n",
      "Seed: 573\n",
      "Initial points: tensor([[0.8900, 0.0000, 0.1100],\n",
      "        [0.3900, 0.6100, 0.0000],\n",
      "        [0.0000, 0.0000, 1.0000],\n",
      "        [0.3700, 0.6200, 0.0100],\n",
      "        [0.2700, 0.3400, 0.4000]])\n"
     ]
    },
    {
     "name": "stderr",
     "output_type": "stream",
     "text": [
      "c:\\Users\\stan\\miniconda3\\envs\\researchTP\\Lib\\site-packages\\botorch\\optim\\fit.py:102: OptimizationWarning: `scipy_minimize` terminated with status OptimizationStatus.FAILURE, displaying original message from `scipy.optimize.minimize`: ABNORMAL_TERMINATION_IN_LNSRCH\n",
      "  warn(\n",
      "c:\\Users\\stan\\miniconda3\\envs\\researchTP\\Lib\\site-packages\\botorch\\optim\\fit.py:102: OptimizationWarning: `scipy_minimize` terminated with status OptimizationStatus.FAILURE, displaying original message from `scipy.optimize.minimize`: ABNORMAL_TERMINATION_IN_LNSRCH\n",
      "  warn(\n",
      "c:\\Users\\stan\\miniconda3\\envs\\researchTP\\Lib\\site-packages\\linear_operator\\utils\\cholesky.py:40: NumericalWarning: A not p.d., added jitter of 1.0e-06 to the diagonal\n",
      "  warnings.warn(\n",
      "c:\\Users\\stan\\miniconda3\\envs\\researchTP\\Lib\\site-packages\\linear_operator\\utils\\cholesky.py:40: NumericalWarning: A not p.d., added jitter of 1.0e-05 to the diagonal\n",
      "  warnings.warn(\n",
      "c:\\Users\\stan\\miniconda3\\envs\\researchTP\\Lib\\site-packages\\linear_operator\\utils\\cholesky.py:40: NumericalWarning: A not p.d., added jitter of 1.0e-04 to the diagonal\n",
      "  warnings.warn(\n",
      "c:\\Users\\stan\\miniconda3\\envs\\researchTP\\Lib\\site-packages\\botorch\\optim\\fit.py:102: OptimizationWarning: `scipy_minimize` terminated with status OptimizationStatus.FAILURE, displaying original message from `scipy.optimize.minimize`: ABNORMAL_TERMINATION_IN_LNSRCH\n",
      "  warn(\n",
      "c:\\Users\\stan\\miniconda3\\envs\\researchTP\\Lib\\site-packages\\botorch\\optim\\fit.py:102: OptimizationWarning: `scipy_minimize` terminated with status OptimizationStatus.FAILURE, displaying original message from `scipy.optimize.minimize`: ABNORMAL_TERMINATION_IN_LNSRCH\n",
      "  warn(\n",
      "c:\\Users\\stan\\miniconda3\\envs\\researchTP\\Lib\\site-packages\\botorch\\optim\\fit.py:102: OptimizationWarning: `scipy_minimize` terminated with status OptimizationStatus.FAILURE, displaying original message from `scipy.optimize.minimize`: ABNORMAL_TERMINATION_IN_LNSRCH\n",
      "  warn(\n",
      "c:\\Users\\stan\\miniconda3\\envs\\researchTP\\Lib\\site-packages\\botorch\\optim\\fit.py:102: OptimizationWarning: `scipy_minimize` terminated with status OptimizationStatus.FAILURE, displaying original message from `scipy.optimize.minimize`: ABNORMAL_TERMINATION_IN_LNSRCH\n",
      "  warn(\n",
      "c:\\Users\\stan\\miniconda3\\envs\\researchTP\\Lib\\site-packages\\botorch\\optim\\fit.py:102: OptimizationWarning: `scipy_minimize` terminated with status OptimizationStatus.FAILURE, displaying original message from `scipy.optimize.minimize`: ABNORMAL_TERMINATION_IN_LNSRCH\n",
      "  warn(\n",
      "c:\\Users\\stan\\miniconda3\\envs\\researchTP\\Lib\\site-packages\\botorch\\optim\\fit.py:102: OptimizationWarning: `scipy_minimize` terminated with status OptimizationStatus.FAILURE, displaying original message from `scipy.optimize.minimize`: ABNORMAL_TERMINATION_IN_LNSRCH\n",
      "  warn(\n",
      "c:\\Users\\stan\\miniconda3\\envs\\researchTP\\Lib\\site-packages\\botorch\\optim\\fit.py:102: OptimizationWarning: `scipy_minimize` terminated with status OptimizationStatus.FAILURE, displaying original message from `scipy.optimize.minimize`: ABNORMAL_TERMINATION_IN_LNSRCH\n",
      "  warn(\n",
      "c:\\Users\\stan\\miniconda3\\envs\\researchTP\\Lib\\site-packages\\botorch\\optim\\fit.py:102: OptimizationWarning: `scipy_minimize` terminated with status OptimizationStatus.FAILURE, displaying original message from `scipy.optimize.minimize`: ABNORMAL_TERMINATION_IN_LNSRCH\n",
      "  warn(\n",
      "c:\\Users\\stan\\miniconda3\\envs\\researchTP\\Lib\\site-packages\\botorch\\optim\\fit.py:102: OptimizationWarning: `scipy_minimize` terminated with status OptimizationStatus.FAILURE, displaying original message from `scipy.optimize.minimize`: ABNORMAL_TERMINATION_IN_LNSRCH\n",
      "  warn(\n",
      "c:\\Users\\stan\\miniconda3\\envs\\researchTP\\Lib\\site-packages\\botorch\\optim\\fit.py:102: OptimizationWarning: `scipy_minimize` terminated with status OptimizationStatus.FAILURE, displaying original message from `scipy.optimize.minimize`: ABNORMAL_TERMINATION_IN_LNSRCH\n",
      "  warn(\n",
      " 96%|█████████▌| 48/50 [10:10<00:26, 13.47s/it]"
     ]
    },
    {
     "name": "stdout",
     "output_type": "stream",
     "text": [
      "Iterations 104\n",
      "Minimizing with EGP\n",
      "Seed: 103\n",
      "Initial points: tensor([[0.0000, 0.0000, 1.0000],\n",
      "        [0.1600, 0.8400, 0.0000],\n",
      "        [0.1200, 0.8100, 0.0700],\n",
      "        [0.2500, 0.7500, 0.0000],\n",
      "        [0.0600, 0.8500, 0.0900]])\n"
     ]
    },
    {
     "name": "stderr",
     "output_type": "stream",
     "text": [
      "c:\\Users\\stan\\miniconda3\\envs\\researchTP\\Lib\\site-packages\\botorch\\optim\\fit.py:102: OptimizationWarning: `scipy_minimize` terminated with status OptimizationStatus.FAILURE, displaying original message from `scipy.optimize.minimize`: ABNORMAL_TERMINATION_IN_LNSRCH\n",
      "  warn(\n",
      "c:\\Users\\stan\\miniconda3\\envs\\researchTP\\Lib\\site-packages\\botorch\\optim\\fit.py:102: OptimizationWarning: `scipy_minimize` terminated with status OptimizationStatus.FAILURE, displaying original message from `scipy.optimize.minimize`: ABNORMAL_TERMINATION_IN_LNSRCH\n",
      "  warn(\n",
      "c:\\Users\\stan\\miniconda3\\envs\\researchTP\\Lib\\site-packages\\botorch\\optim\\fit.py:102: OptimizationWarning: `scipy_minimize` terminated with status OptimizationStatus.FAILURE, displaying original message from `scipy.optimize.minimize`: ABNORMAL_TERMINATION_IN_LNSRCH\n",
      "  warn(\n",
      "c:\\Users\\stan\\miniconda3\\envs\\researchTP\\Lib\\site-packages\\botorch\\optim\\fit.py:102: OptimizationWarning: `scipy_minimize` terminated with status OptimizationStatus.FAILURE, displaying original message from `scipy.optimize.minimize`: ABNORMAL_TERMINATION_IN_LNSRCH\n",
      "  warn(\n",
      "c:\\Users\\stan\\miniconda3\\envs\\researchTP\\Lib\\site-packages\\botorch\\optim\\fit.py:102: OptimizationWarning: `scipy_minimize` terminated with status OptimizationStatus.FAILURE, displaying original message from `scipy.optimize.minimize`: ABNORMAL_TERMINATION_IN_LNSRCH\n",
      "  warn(\n",
      "c:\\Users\\stan\\miniconda3\\envs\\researchTP\\Lib\\site-packages\\botorch\\optim\\fit.py:102: OptimizationWarning: `scipy_minimize` terminated with status OptimizationStatus.FAILURE, displaying original message from `scipy.optimize.minimize`: ABNORMAL_TERMINATION_IN_LNSRCH\n",
      "  warn(\n",
      "c:\\Users\\stan\\miniconda3\\envs\\researchTP\\Lib\\site-packages\\botorch\\optim\\fit.py:102: OptimizationWarning: `scipy_minimize` terminated with status OptimizationStatus.FAILURE, displaying original message from `scipy.optimize.minimize`: ABNORMAL_TERMINATION_IN_LNSRCH\n",
      "  warn(\n",
      " 98%|█████████▊| 49/50 [10:25<00:13, 13.92s/it]"
     ]
    },
    {
     "name": "stdout",
     "output_type": "stream",
     "text": [
      "Iterations 83\n",
      "Minimizing with EGP\n",
      "Seed: 362\n",
      "Initial points: tensor([[0.1900, 0.7000, 0.1100],\n",
      "        [0.4100, 0.5800, 0.0100],\n",
      "        [0.2600, 0.3700, 0.3600],\n",
      "        [0.2800, 0.3700, 0.3500],\n",
      "        [0.2500, 0.7100, 0.0400]])\n"
     ]
    },
    {
     "name": "stderr",
     "output_type": "stream",
     "text": [
      "c:\\Users\\stan\\miniconda3\\envs\\researchTP\\Lib\\site-packages\\gpytorch\\distributions\\multivariate_normal.py:319: NumericalWarning: Negative variance values detected. This is likely due to numerical instabilities. Rounding negative variances up to 1e-06.\n",
      "  warnings.warn(\n",
      "c:\\Users\\stan\\miniconda3\\envs\\researchTP\\Lib\\site-packages\\gpytorch\\distributions\\multivariate_normal.py:319: NumericalWarning: Negative variance values detected. This is likely due to numerical instabilities. Rounding negative variances up to 1e-06.\n",
      "  warnings.warn(\n",
      "c:\\Users\\stan\\miniconda3\\envs\\researchTP\\Lib\\site-packages\\gpytorch\\distributions\\multivariate_normal.py:319: NumericalWarning: Negative variance values detected. This is likely due to numerical instabilities. Rounding negative variances up to 1e-06.\n",
      "  warnings.warn(\n",
      "c:\\Users\\stan\\miniconda3\\envs\\researchTP\\Lib\\site-packages\\gpytorch\\distributions\\multivariate_normal.py:319: NumericalWarning: Negative variance values detected. This is likely due to numerical instabilities. Rounding negative variances up to 1e-06.\n",
      "  warnings.warn(\n",
      "c:\\Users\\stan\\miniconda3\\envs\\researchTP\\Lib\\site-packages\\gpytorch\\distributions\\multivariate_normal.py:319: NumericalWarning: Negative variance values detected. This is likely due to numerical instabilities. Rounding negative variances up to 1e-06.\n",
      "  warnings.warn(\n",
      "c:\\Users\\stan\\miniconda3\\envs\\researchTP\\Lib\\site-packages\\gpytorch\\distributions\\multivariate_normal.py:319: NumericalWarning: Negative variance values detected. This is likely due to numerical instabilities. Rounding negative variances up to 1e-06.\n",
      "  warnings.warn(\n",
      "c:\\Users\\stan\\miniconda3\\envs\\researchTP\\Lib\\site-packages\\linear_operator\\utils\\cholesky.py:40: NumericalWarning: A not p.d., added jitter of 1.0e-06 to the diagonal\n",
      "  warnings.warn(\n",
      "c:\\Users\\stan\\miniconda3\\envs\\researchTP\\Lib\\site-packages\\linear_operator\\utils\\cholesky.py:40: NumericalWarning: A not p.d., added jitter of 1.0e-05 to the diagonal\n",
      "  warnings.warn(\n",
      "c:\\Users\\stan\\miniconda3\\envs\\researchTP\\Lib\\site-packages\\linear_operator\\utils\\cholesky.py:40: NumericalWarning: A not p.d., added jitter of 1.0e-04 to the diagonal\n",
      "  warnings.warn(\n",
      "c:\\Users\\stan\\miniconda3\\envs\\researchTP\\Lib\\site-packages\\linear_operator\\utils\\cholesky.py:40: NumericalWarning: A not p.d., added jitter of 1.0e-03 to the diagonal\n",
      "  warnings.warn(\n",
      "c:\\Users\\stan\\miniconda3\\envs\\researchTP\\Lib\\site-packages\\linear_operator\\utils\\cholesky.py:40: NumericalWarning: A not p.d., added jitter of 1.0e-02 to the diagonal\n",
      "  warnings.warn(\n",
      "c:\\Users\\stan\\miniconda3\\envs\\researchTP\\Lib\\site-packages\\botorch\\optim\\fit.py:102: OptimizationWarning: `scipy_minimize` terminated with status OptimizationStatus.FAILURE, displaying original message from `scipy.optimize.minimize`: ABNORMAL_TERMINATION_IN_LNSRCH\n",
      "  warn(\n",
      "c:\\Users\\stan\\miniconda3\\envs\\researchTP\\Lib\\site-packages\\gpytorch\\distributions\\multivariate_normal.py:319: NumericalWarning: Negative variance values detected. This is likely due to numerical instabilities. Rounding negative variances up to 1e-06.\n",
      "  warnings.warn(\n",
      "c:\\Users\\stan\\miniconda3\\envs\\researchTP\\Lib\\site-packages\\gpytorch\\distributions\\multivariate_normal.py:319: NumericalWarning: Negative variance values detected. This is likely due to numerical instabilities. Rounding negative variances up to 1e-06.\n",
      "  warnings.warn(\n",
      "c:\\Users\\stan\\miniconda3\\envs\\researchTP\\Lib\\site-packages\\gpytorch\\distributions\\multivariate_normal.py:319: NumericalWarning: Negative variance values detected. This is likely due to numerical instabilities. Rounding negative variances up to 1e-06.\n",
      "  warnings.warn(\n",
      "c:\\Users\\stan\\miniconda3\\envs\\researchTP\\Lib\\site-packages\\gpytorch\\distributions\\multivariate_normal.py:319: NumericalWarning: Negative variance values detected. This is likely due to numerical instabilities. Rounding negative variances up to 1e-06.\n",
      "  warnings.warn(\n",
      "c:\\Users\\stan\\miniconda3\\envs\\researchTP\\Lib\\site-packages\\gpytorch\\distributions\\multivariate_normal.py:319: NumericalWarning: Negative variance values detected. This is likely due to numerical instabilities. Rounding negative variances up to 1e-06.\n",
      "  warnings.warn(\n",
      "c:\\Users\\stan\\miniconda3\\envs\\researchTP\\Lib\\site-packages\\gpytorch\\distributions\\multivariate_normal.py:319: NumericalWarning: Negative variance values detected. This is likely due to numerical instabilities. Rounding negative variances up to 1e-06.\n",
      "  warnings.warn(\n",
      "c:\\Users\\stan\\miniconda3\\envs\\researchTP\\Lib\\site-packages\\gpytorch\\distributions\\multivariate_normal.py:319: NumericalWarning: Negative variance values detected. This is likely due to numerical instabilities. Rounding negative variances up to 1e-06.\n",
      "  warnings.warn(\n",
      "c:\\Users\\stan\\miniconda3\\envs\\researchTP\\Lib\\site-packages\\linear_operator\\utils\\cholesky.py:40: NumericalWarning: A not p.d., added jitter of 1.0e-06 to the diagonal\n",
      "  warnings.warn(\n",
      "c:\\Users\\stan\\miniconda3\\envs\\researchTP\\Lib\\site-packages\\linear_operator\\utils\\cholesky.py:40: NumericalWarning: A not p.d., added jitter of 1.0e-05 to the diagonal\n",
      "  warnings.warn(\n",
      "c:\\Users\\stan\\miniconda3\\envs\\researchTP\\Lib\\site-packages\\linear_operator\\utils\\cholesky.py:40: NumericalWarning: A not p.d., added jitter of 1.0e-04 to the diagonal\n",
      "  warnings.warn(\n",
      "c:\\Users\\stan\\miniconda3\\envs\\researchTP\\Lib\\site-packages\\linear_operator\\utils\\cholesky.py:40: NumericalWarning: A not p.d., added jitter of 1.0e-03 to the diagonal\n",
      "  warnings.warn(\n",
      "c:\\Users\\stan\\miniconda3\\envs\\researchTP\\Lib\\site-packages\\linear_operator\\utils\\cholesky.py:40: NumericalWarning: A not p.d., added jitter of 1.0e-02 to the diagonal\n",
      "  warnings.warn(\n",
      "c:\\Users\\stan\\miniconda3\\envs\\researchTP\\Lib\\site-packages\\gpytorch\\distributions\\multivariate_normal.py:319: NumericalWarning: Negative variance values detected. This is likely due to numerical instabilities. Rounding negative variances up to 1e-06.\n",
      "  warnings.warn(\n",
      "c:\\Users\\stan\\miniconda3\\envs\\researchTP\\Lib\\site-packages\\gpytorch\\distributions\\multivariate_normal.py:319: NumericalWarning: Negative variance values detected. This is likely due to numerical instabilities. Rounding negative variances up to 1e-06.\n",
      "  warnings.warn(\n",
      "c:\\Users\\stan\\miniconda3\\envs\\researchTP\\Lib\\site-packages\\linear_operator\\utils\\cholesky.py:40: NumericalWarning: A not p.d., added jitter of 1.0e-06 to the diagonal\n",
      "  warnings.warn(\n",
      "c:\\Users\\stan\\miniconda3\\envs\\researchTP\\Lib\\site-packages\\linear_operator\\utils\\cholesky.py:40: NumericalWarning: A not p.d., added jitter of 1.0e-05 to the diagonal\n",
      "  warnings.warn(\n",
      "c:\\Users\\stan\\miniconda3\\envs\\researchTP\\Lib\\site-packages\\linear_operator\\utils\\cholesky.py:40: NumericalWarning: A not p.d., added jitter of 1.0e-04 to the diagonal\n",
      "  warnings.warn(\n",
      "c:\\Users\\stan\\miniconda3\\envs\\researchTP\\Lib\\site-packages\\linear_operator\\utils\\cholesky.py:40: NumericalWarning: A not p.d., added jitter of 1.0e-03 to the diagonal\n",
      "  warnings.warn(\n",
      "c:\\Users\\stan\\miniconda3\\envs\\researchTP\\Lib\\site-packages\\linear_operator\\utils\\cholesky.py:40: NumericalWarning: A not p.d., added jitter of 1.0e-02 to the diagonal\n",
      "  warnings.warn(\n",
      "c:\\Users\\stan\\miniconda3\\envs\\researchTP\\Lib\\site-packages\\linear_operator\\utils\\cholesky.py:40: NumericalWarning: A not p.d., added jitter of 1.0e-01 to the diagonal\n",
      "  warnings.warn(\n",
      "c:\\Users\\stan\\miniconda3\\envs\\researchTP\\Lib\\site-packages\\gpytorch\\distributions\\multivariate_normal.py:319: NumericalWarning: Negative variance values detected. This is likely due to numerical instabilities. Rounding negative variances up to 1e-06.\n",
      "  warnings.warn(\n",
      "c:\\Users\\stan\\miniconda3\\envs\\researchTP\\Lib\\site-packages\\gpytorch\\distributions\\multivariate_normal.py:319: NumericalWarning: Negative variance values detected. This is likely due to numerical instabilities. Rounding negative variances up to 1e-06.\n",
      "  warnings.warn(\n",
      "c:\\Users\\stan\\miniconda3\\envs\\researchTP\\Lib\\site-packages\\linear_operator\\utils\\cholesky.py:40: NumericalWarning: A not p.d., added jitter of 1.0e-06 to the diagonal\n",
      "  warnings.warn(\n",
      "c:\\Users\\stan\\miniconda3\\envs\\researchTP\\Lib\\site-packages\\linear_operator\\utils\\cholesky.py:40: NumericalWarning: A not p.d., added jitter of 1.0e-05 to the diagonal\n",
      "  warnings.warn(\n",
      "c:\\Users\\stan\\miniconda3\\envs\\researchTP\\Lib\\site-packages\\linear_operator\\utils\\cholesky.py:40: NumericalWarning: A not p.d., added jitter of 1.0e-04 to the diagonal\n",
      "  warnings.warn(\n",
      "c:\\Users\\stan\\miniconda3\\envs\\researchTP\\Lib\\site-packages\\linear_operator\\utils\\cholesky.py:40: NumericalWarning: A not p.d., added jitter of 1.0e-03 to the diagonal\n",
      "  warnings.warn(\n",
      "c:\\Users\\stan\\miniconda3\\envs\\researchTP\\Lib\\site-packages\\linear_operator\\utils\\cholesky.py:40: NumericalWarning: A not p.d., added jitter of 1.0e-02 to the diagonal\n",
      "  warnings.warn(\n",
      "c:\\Users\\stan\\miniconda3\\envs\\researchTP\\Lib\\site-packages\\linear_operator\\utils\\cholesky.py:40: NumericalWarning: A not p.d., added jitter of 1.0e-01 to the diagonal\n",
      "  warnings.warn(\n",
      "c:\\Users\\stan\\miniconda3\\envs\\researchTP\\Lib\\site-packages\\gpytorch\\distributions\\multivariate_normal.py:319: NumericalWarning: Negative variance values detected. This is likely due to numerical instabilities. Rounding negative variances up to 1e-06.\n",
      "  warnings.warn(\n",
      "c:\\Users\\stan\\miniconda3\\envs\\researchTP\\Lib\\site-packages\\gpytorch\\distributions\\multivariate_normal.py:319: NumericalWarning: Negative variance values detected. This is likely due to numerical instabilities. Rounding negative variances up to 1e-06.\n",
      "  warnings.warn(\n",
      "c:\\Users\\stan\\miniconda3\\envs\\researchTP\\Lib\\site-packages\\botorch\\optim\\fit.py:102: OptimizationWarning: `scipy_minimize` terminated with status OptimizationStatus.FAILURE, displaying original message from `scipy.optimize.minimize`: ABNORMAL_TERMINATION_IN_LNSRCH\n",
      "  warn(\n",
      "c:\\Users\\stan\\miniconda3\\envs\\researchTP\\Lib\\site-packages\\gpytorch\\distributions\\multivariate_normal.py:319: NumericalWarning: Negative variance values detected. This is likely due to numerical instabilities. Rounding negative variances up to 1e-06.\n",
      "  warnings.warn(\n",
      "c:\\Users\\stan\\miniconda3\\envs\\researchTP\\Lib\\site-packages\\gpytorch\\distributions\\multivariate_normal.py:319: NumericalWarning: Negative variance values detected. This is likely due to numerical instabilities. Rounding negative variances up to 1e-06.\n",
      "  warnings.warn(\n",
      "c:\\Users\\stan\\miniconda3\\envs\\researchTP\\Lib\\site-packages\\gpytorch\\distributions\\multivariate_normal.py:319: NumericalWarning: Negative variance values detected. This is likely due to numerical instabilities. Rounding negative variances up to 1e-06.\n",
      "  warnings.warn(\n",
      "c:\\Users\\stan\\miniconda3\\envs\\researchTP\\Lib\\site-packages\\gpytorch\\distributions\\multivariate_normal.py:319: NumericalWarning: Negative variance values detected. This is likely due to numerical instabilities. Rounding negative variances up to 1e-06.\n",
      "  warnings.warn(\n",
      "c:\\Users\\stan\\miniconda3\\envs\\researchTP\\Lib\\site-packages\\gpytorch\\distributions\\multivariate_normal.py:319: NumericalWarning: Negative variance values detected. This is likely due to numerical instabilities. Rounding negative variances up to 1e-06.\n",
      "  warnings.warn(\n",
      "c:\\Users\\stan\\miniconda3\\envs\\researchTP\\Lib\\site-packages\\gpytorch\\distributions\\multivariate_normal.py:319: NumericalWarning: Negative variance values detected. This is likely due to numerical instabilities. Rounding negative variances up to 1e-06.\n",
      "  warnings.warn(\n",
      "c:\\Users\\stan\\miniconda3\\envs\\researchTP\\Lib\\site-packages\\gpytorch\\distributions\\multivariate_normal.py:319: NumericalWarning: Negative variance values detected. This is likely due to numerical instabilities. Rounding negative variances up to 1e-06.\n",
      "  warnings.warn(\n",
      "c:\\Users\\stan\\miniconda3\\envs\\researchTP\\Lib\\site-packages\\gpytorch\\distributions\\multivariate_normal.py:319: NumericalWarning: Negative variance values detected. This is likely due to numerical instabilities. Rounding negative variances up to 1e-06.\n",
      "  warnings.warn(\n",
      "c:\\Users\\stan\\miniconda3\\envs\\researchTP\\Lib\\site-packages\\gpytorch\\distributions\\multivariate_normal.py:319: NumericalWarning: Negative variance values detected. This is likely due to numerical instabilities. Rounding negative variances up to 1e-06.\n",
      "  warnings.warn(\n",
      "c:\\Users\\stan\\miniconda3\\envs\\researchTP\\Lib\\site-packages\\gpytorch\\distributions\\multivariate_normal.py:319: NumericalWarning: Negative variance values detected. This is likely due to numerical instabilities. Rounding negative variances up to 1e-06.\n",
      "  warnings.warn(\n",
      "c:\\Users\\stan\\miniconda3\\envs\\researchTP\\Lib\\site-packages\\gpytorch\\distributions\\multivariate_normal.py:319: NumericalWarning: Negative variance values detected. This is likely due to numerical instabilities. Rounding negative variances up to 1e-06.\n",
      "  warnings.warn(\n",
      "c:\\Users\\stan\\miniconda3\\envs\\researchTP\\Lib\\site-packages\\gpytorch\\distributions\\multivariate_normal.py:319: NumericalWarning: Negative variance values detected. This is likely due to numerical instabilities. Rounding negative variances up to 1e-06.\n",
      "  warnings.warn(\n",
      "c:\\Users\\stan\\miniconda3\\envs\\researchTP\\Lib\\site-packages\\gpytorch\\distributions\\multivariate_normal.py:319: NumericalWarning: Negative variance values detected. This is likely due to numerical instabilities. Rounding negative variances up to 1e-06.\n",
      "  warnings.warn(\n",
      "c:\\Users\\stan\\miniconda3\\envs\\researchTP\\Lib\\site-packages\\gpytorch\\distributions\\multivariate_normal.py:319: NumericalWarning: Negative variance values detected. This is likely due to numerical instabilities. Rounding negative variances up to 1e-06.\n",
      "  warnings.warn(\n",
      "c:\\Users\\stan\\miniconda3\\envs\\researchTP\\Lib\\site-packages\\botorch\\optim\\fit.py:102: OptimizationWarning: `scipy_minimize` terminated with status OptimizationStatus.FAILURE, displaying original message from `scipy.optimize.minimize`: ABNORMAL_TERMINATION_IN_LNSRCH\n",
      "  warn(\n",
      "c:\\Users\\stan\\miniconda3\\envs\\researchTP\\Lib\\site-packages\\linear_operator\\utils\\cholesky.py:40: NumericalWarning: A not p.d., added jitter of 1.0e-06 to the diagonal\n",
      "  warnings.warn(\n",
      "c:\\Users\\stan\\miniconda3\\envs\\researchTP\\Lib\\site-packages\\linear_operator\\utils\\cholesky.py:40: NumericalWarning: A not p.d., added jitter of 1.0e-05 to the diagonal\n",
      "  warnings.warn(\n",
      "c:\\Users\\stan\\miniconda3\\envs\\researchTP\\Lib\\site-packages\\linear_operator\\utils\\cholesky.py:40: NumericalWarning: A not p.d., added jitter of 1.0e-04 to the diagonal\n",
      "  warnings.warn(\n",
      "c:\\Users\\stan\\miniconda3\\envs\\researchTP\\Lib\\site-packages\\linear_operator\\utils\\cholesky.py:40: NumericalWarning: A not p.d., added jitter of 1.0e-03 to the diagonal\n",
      "  warnings.warn(\n",
      "c:\\Users\\stan\\miniconda3\\envs\\researchTP\\Lib\\site-packages\\linear_operator\\utils\\cholesky.py:40: NumericalWarning: A not p.d., added jitter of 1.0e-02 to the diagonal\n",
      "  warnings.warn(\n",
      "c:\\Users\\stan\\miniconda3\\envs\\researchTP\\Lib\\site-packages\\linear_operator\\utils\\cholesky.py:40: NumericalWarning: A not p.d., added jitter of 1.0e-01 to the diagonal\n",
      "  warnings.warn(\n",
      "c:\\Users\\stan\\miniconda3\\envs\\researchTP\\Lib\\site-packages\\botorch\\optim\\fit.py:102: OptimizationWarning: `scipy_minimize` terminated with status OptimizationStatus.FAILURE, displaying original message from `scipy.optimize.minimize`: ABNORMAL_TERMINATION_IN_LNSRCH\n",
      "  warn(\n",
      "100%|██████████| 50/50 [10:40<00:00, 12.81s/it]\n"
     ]
    },
    {
     "name": "stdout",
     "output_type": "stream",
     "text": [
      "Iterations 98\n"
     ]
    },
    {
     "name": "stderr",
     "output_type": "stream",
     "text": [
      "  0%|          | 0/50 [00:00<?, ?it/s]"
     ]
    },
    {
     "name": "stdout",
     "output_type": "stream",
     "text": [
      "Minimizing with VGP\n",
      "Seed: 864\n",
      "Initial points: tensor([[0.0000, 0.0000, 1.0000],\n",
      "        [0.0900, 0.8700, 0.0400],\n",
      "        [0.2500, 0.7000, 0.0600],\n",
      "        [0.0500, 0.7885, 0.1615],\n",
      "        [0.7500, 0.2500, 0.0000]])\n"
     ]
    },
    {
     "name": "stderr",
     "output_type": "stream",
     "text": [
      "  2%|▏         | 1/50 [00:15<12:55, 15.83s/it]"
     ]
    },
    {
     "name": "stdout",
     "output_type": "stream",
     "text": [
      "Iterations 64\n",
      "Minimizing with VGP\n",
      "Seed: 394\n",
      "Initial points: tensor([[0.2000, 0.6900, 0.1100],\n",
      "        [0.7500, 0.0000, 0.2500],\n",
      "        [0.2700, 0.3400, 0.4000],\n",
      "        [0.1300, 0.7900, 0.0800],\n",
      "        [0.2500, 0.7000, 0.0600]])\n"
     ]
    },
    {
     "name": "stderr",
     "output_type": "stream",
     "text": [
      "  4%|▍         | 2/50 [00:29<11:52, 14.84s/it]"
     ]
    },
    {
     "name": "stdout",
     "output_type": "stream",
     "text": [
      "Iterations 58\n",
      "Minimizing with VGP\n",
      "Seed: 776\n",
      "Initial points: tensor([[0.2500, 0.2500, 0.5000],\n",
      "        [0.8900, 0.0000, 0.1100],\n",
      "        [0.9600, 0.0400, 0.0000],\n",
      "        [0.1300, 0.7900, 0.0800],\n",
      "        [0.1800, 0.7800, 0.0400]])\n"
     ]
    },
    {
     "name": "stderr",
     "output_type": "stream",
     "text": [
      "  6%|▌         | 3/50 [00:38<09:32, 12.18s/it]"
     ]
    },
    {
     "name": "stdout",
     "output_type": "stream",
     "text": [
      "Iterations 38\n",
      "Minimizing with VGP\n",
      "Seed: 911\n",
      "Initial points: tensor([[0.2000, 0.6900, 0.1100],\n",
      "        [0.0900, 0.8700, 0.0400],\n",
      "        [0.8400, 0.0000, 0.1600],\n",
      "        [0.1600, 0.8400, 0.0000],\n",
      "        [0.1800, 0.7800, 0.0400]])\n"
     ]
    },
    {
     "name": "stderr",
     "output_type": "stream",
     "text": [
      "  8%|▊         | 4/50 [00:58<11:31, 15.03s/it]"
     ]
    },
    {
     "name": "stdout",
     "output_type": "stream",
     "text": [
      "Iterations 77\n",
      "Minimizing with VGP\n",
      "Seed: 430\n",
      "Initial points: tensor([[0.0000, 0.2500, 0.7500],\n",
      "        [0.5000, 0.2500, 0.2500],\n",
      "        [0.1800, 0.7800, 0.0400],\n",
      "        [0.7800, 0.0900, 0.1300],\n",
      "        [0.7100, 0.0100, 0.2800]])\n"
     ]
    },
    {
     "name": "stderr",
     "output_type": "stream",
     "text": [
      " 10%|█         | 5/50 [01:16<12:13, 16.30s/it]"
     ]
    },
    {
     "name": "stdout",
     "output_type": "stream",
     "text": [
      "Iterations 74\n",
      "Minimizing with VGP\n",
      "Seed: 41\n",
      "Initial points: tensor([[0.1700, 0.8000, 0.0300],\n",
      "        [0.7500, 0.0000, 0.2500],\n",
      "        [0.2600, 0.3700, 0.3600],\n",
      "        [0.7100, 0.0100, 0.2800],\n",
      "        [0.2700, 0.3400, 0.4000]])\n"
     ]
    },
    {
     "name": "stderr",
     "output_type": "stream",
     "text": [
      " 12%|█▏        | 6/50 [01:38<13:15, 18.09s/it]"
     ]
    },
    {
     "name": "stdout",
     "output_type": "stream",
     "text": [
      "Iterations 85\n",
      "Minimizing with VGP\n",
      "Seed: 265\n",
      "Initial points: tensor([[0.9100, 0.0100, 0.0800],\n",
      "        [0.5000, 0.0000, 0.5000],\n",
      "        [0.2800, 0.6500, 0.0700],\n",
      "        [0.3500, 0.6500, 0.0000],\n",
      "        [0.0900, 0.8500, 0.0600]])\n"
     ]
    },
    {
     "name": "stderr",
     "output_type": "stream",
     "text": [
      " 14%|█▍        | 7/50 [01:56<12:59, 18.14s/it]"
     ]
    },
    {
     "name": "stdout",
     "output_type": "stream",
     "text": [
      "Iterations 72\n",
      "Minimizing with VGP\n",
      "Seed: 988\n",
      "Initial points: tensor([[0.7600, 0.2400, 0.0000],\n",
      "        [0.8900, 0.0000, 0.1100],\n",
      "        [0.1600, 0.7000, 0.1400],\n",
      "        [0.5000, 0.0000, 0.5000],\n",
      "        [0.1300, 0.8500, 0.0200]])\n"
     ]
    },
    {
     "name": "stderr",
     "output_type": "stream",
     "text": [
      " 16%|█▌        | 8/50 [02:10<11:49, 16.89s/it]"
     ]
    },
    {
     "name": "stdout",
     "output_type": "stream",
     "text": [
      "Iterations 59\n",
      "Minimizing with VGP\n",
      "Seed: 523\n",
      "Initial points: tensor([[0.2800, 0.6500, 0.0700],\n",
      "        [0.6300, 0.3700, 0.0000],\n",
      "        [0.0500, 0.7885, 0.1615],\n",
      "        [0.8900, 0.0000, 0.1100],\n",
      "        [0.1300, 0.8700, 0.0000]])\n"
     ]
    },
    {
     "name": "stderr",
     "output_type": "stream",
     "text": [
      " 18%|█▊        | 9/50 [02:21<10:07, 14.83s/it]"
     ]
    },
    {
     "name": "stdout",
     "output_type": "stream",
     "text": [
      "Iterations 42\n",
      "Minimizing with VGP\n",
      "Seed: 497\n",
      "Initial points: tensor([[0.8900, 0.0000, 0.1100],\n",
      "        [0.1600, 0.7500, 0.0900],\n",
      "        [0.2500, 0.7100, 0.0400],\n",
      "        [0.0000, 0.2500, 0.7500],\n",
      "        [0.1300, 0.7900, 0.0800]])\n"
     ]
    },
    {
     "name": "stderr",
     "output_type": "stream",
     "text": [
      " 20%|██        | 10/50 [02:39<10:34, 15.85s/it]"
     ]
    },
    {
     "name": "stdout",
     "output_type": "stream",
     "text": [
      "Iterations 73\n",
      "Minimizing with VGP\n",
      "Seed: 414\n",
      "Initial points: tensor([[0.2500, 0.7500, 0.0000],\n",
      "        [0.0000, 0.2500, 0.7500],\n",
      "        [0.1600, 0.7500, 0.0900],\n",
      "        [0.5900, 0.4100, 0.0000],\n",
      "        [0.0000, 1.0000, 0.0000]])\n"
     ]
    },
    {
     "name": "stderr",
     "output_type": "stream",
     "text": [
      " 22%|██▏       | 11/50 [02:55<10:25, 16.04s/it]"
     ]
    },
    {
     "name": "stdout",
     "output_type": "stream",
     "text": [
      "Iterations 67\n",
      "Minimizing with VGP\n",
      "Seed: 940\n",
      "Initial points: tensor([[0.1000, 0.8900, 0.0100],\n",
      "        [0.4300, 0.5700, 0.0000],\n",
      "        [0.0000, 0.2500, 0.7500],\n",
      "        [0.0000, 0.0000, 1.0000],\n",
      "        [0.2200, 0.7200, 0.0600]])\n"
     ]
    },
    {
     "name": "stderr",
     "output_type": "stream",
     "text": [
      " 24%|██▍       | 12/50 [03:10<09:49, 15.50s/it]"
     ]
    },
    {
     "name": "stdout",
     "output_type": "stream",
     "text": [
      "Iterations 58\n",
      "Minimizing with VGP\n",
      "Seed: 802\n",
      "Initial points: tensor([[0.0000, 0.5000, 0.5000],\n",
      "        [0.2500, 0.7000, 0.0600],\n",
      "        [0.2800, 0.3700, 0.3500],\n",
      "        [0.0500, 0.7885, 0.1615],\n",
      "        [0.3700, 0.6300, 0.0000]])\n"
     ]
    },
    {
     "name": "stderr",
     "output_type": "stream",
     "text": [
      " 26%|██▌       | 13/50 [03:25<09:29, 15.38s/it]"
     ]
    },
    {
     "name": "stdout",
     "output_type": "stream",
     "text": [
      "Iterations 62\n",
      "Minimizing with VGP\n",
      "Seed: 849\n",
      "Initial points: tensor([[0.0000, 0.2500, 0.7500],\n",
      "        [0.8100, 0.0000, 0.1900],\n",
      "        [0.8300, 0.0000, 0.1700],\n",
      "        [0.6600, 0.2400, 0.1000],\n",
      "        [0.4400, 0.5500, 0.0100]])\n"
     ]
    },
    {
     "name": "stderr",
     "output_type": "stream",
     "text": [
      " 28%|██▊       | 14/50 [03:42<09:38, 16.08s/it]"
     ]
    },
    {
     "name": "stdout",
     "output_type": "stream",
     "text": [
      "Iterations 72\n",
      "Minimizing with VGP\n",
      "Seed: 310\n",
      "Initial points: tensor([[0.3200, 0.6700, 0.0100],\n",
      "        [0.0000, 0.0000, 1.0000],\n",
      "        [0.2200, 0.7800, 0.0000],\n",
      "        [0.6900, 0.3100, 0.0000],\n",
      "        [0.1400, 0.8400, 0.0200]])\n"
     ]
    },
    {
     "name": "stderr",
     "output_type": "stream",
     "text": [
      " 30%|███       | 15/50 [04:03<10:05, 17.31s/it]"
     ]
    },
    {
     "name": "stdout",
     "output_type": "stream",
     "text": [
      "Iterations 79\n",
      "Minimizing with VGP\n",
      "Seed: 991\n",
      "Initial points: tensor([[0.5000, 0.0000, 0.5000],\n",
      "        [0.1300, 0.7900, 0.0800],\n",
      "        [0.7500, 0.0000, 0.2500],\n",
      "        [0.2500, 0.2500, 0.5000],\n",
      "        [0.0500, 0.7885, 0.1615]])\n"
     ]
    },
    {
     "name": "stderr",
     "output_type": "stream",
     "text": [
      " 32%|███▏      | 16/50 [04:21<10:00, 17.66s/it]"
     ]
    },
    {
     "name": "stdout",
     "output_type": "stream",
     "text": [
      "Iterations 75\n",
      "Minimizing with VGP\n",
      "Seed: 488\n",
      "Initial points: tensor([[0.3400, 0.6400, 0.0200],\n",
      "        [0.2500, 0.2500, 0.5000],\n",
      "        [0.2500, 0.7000, 0.0600],\n",
      "        [0.1800, 0.7800, 0.0400],\n",
      "        [1.0000, 0.0000, 0.0000]])\n"
     ]
    },
    {
     "name": "stderr",
     "output_type": "stream",
     "text": [
      " 34%|███▍      | 17/50 [04:42<10:16, 18.68s/it]"
     ]
    },
    {
     "name": "stdout",
     "output_type": "stream",
     "text": [
      "Iterations 83\n",
      "Minimizing with VGP\n",
      "Seed: 366\n",
      "Initial points: tensor([[0.6900, 0.3100, 0.0000],\n",
      "        [0.6300, 0.3700, 0.0000],\n",
      "        [0.0000, 0.7500, 0.2500],\n",
      "        [0.2600, 0.3800, 0.3600],\n",
      "        [0.3000, 0.6900, 0.0100]])\n"
     ]
    },
    {
     "name": "stderr",
     "output_type": "stream",
     "text": [
      " 36%|███▌      | 18/50 [05:01<09:58, 18.71s/it]"
     ]
    },
    {
     "name": "stdout",
     "output_type": "stream",
     "text": [
      "Iterations 74\n",
      "Minimizing with VGP\n",
      "Seed: 597\n",
      "Initial points: tensor([[0.6800, 0.1300, 0.1900],\n",
      "        [0.0000, 0.0000, 1.0000],\n",
      "        [0.5000, 0.2500, 0.2500],\n",
      "        [0.1300, 0.8700, 0.0000],\n",
      "        [0.0500, 0.7885, 0.1615]])\n"
     ]
    },
    {
     "name": "stderr",
     "output_type": "stream",
     "text": [
      " 38%|███▊      | 19/50 [05:20<09:44, 18.86s/it]"
     ]
    },
    {
     "name": "stdout",
     "output_type": "stream",
     "text": [
      "Iterations 77\n",
      "Minimizing with VGP\n",
      "Seed: 913\n",
      "Initial points: tensor([[0.1300, 0.7900, 0.0800],\n",
      "        [0.8300, 0.0000, 0.1700],\n",
      "        [0.1300, 0.7900, 0.0800],\n",
      "        [0.7500, 0.2500, 0.0000],\n",
      "        [0.3400, 0.5400, 0.1200]])\n"
     ]
    },
    {
     "name": "stderr",
     "output_type": "stream",
     "text": [
      " 40%|████      | 20/50 [05:39<09:21, 18.73s/it]"
     ]
    },
    {
     "name": "stdout",
     "output_type": "stream",
     "text": [
      "Iterations 73\n",
      "Minimizing with VGP\n",
      "Seed: 929\n",
      "Initial points: tensor([[0.2600, 0.7400, 0.0000],\n",
      "        [0.7100, 0.0100, 0.2800],\n",
      "        [0.7500, 0.2500, 0.0000],\n",
      "        [0.1200, 0.7700, 0.1100],\n",
      "        [0.2500, 0.0000, 0.7500]])\n"
     ]
    },
    {
     "name": "stderr",
     "output_type": "stream",
     "text": [
      " 42%|████▏     | 21/50 [05:57<08:59, 18.59s/it]"
     ]
    },
    {
     "name": "stdout",
     "output_type": "stream",
     "text": [
      "Iterations 74\n",
      "Minimizing with VGP\n",
      "Seed: 223\n",
      "Initial points: tensor([[0.1300, 0.8700, 0.0000],\n",
      "        [0.4300, 0.5700, 0.0000],\n",
      "        [0.1700, 0.8000, 0.0300],\n",
      "        [0.8100, 0.0000, 0.1900],\n",
      "        [0.7800, 0.0900, 0.1300]])\n"
     ]
    },
    {
     "name": "stderr",
     "output_type": "stream",
     "text": [
      " 44%|████▍     | 22/50 [06:16<08:42, 18.67s/it]"
     ]
    },
    {
     "name": "stdout",
     "output_type": "stream",
     "text": [
      "Iterations 76\n",
      "Minimizing with VGP\n",
      "Seed: 516\n",
      "Initial points: tensor([[0.3100, 0.3600, 0.3300],\n",
      "        [0.6600, 0.2400, 0.1000],\n",
      "        [0.2500, 0.7000, 0.0600],\n",
      "        [0.0000, 1.0000, 0.0000],\n",
      "        [0.0000, 0.5000, 0.5000]])\n"
     ]
    },
    {
     "name": "stderr",
     "output_type": "stream",
     "text": [
      " 46%|████▌     | 23/50 [06:34<08:21, 18.57s/it]"
     ]
    },
    {
     "name": "stdout",
     "output_type": "stream",
     "text": [
      "Iterations 73\n",
      "Minimizing with VGP\n",
      "Seed: 142\n",
      "Initial points: tensor([[0.3800, 0.6200, 0.0000],\n",
      "        [0.2600, 0.3800, 0.3600],\n",
      "        [0.5000, 0.5000, 0.0000],\n",
      "        [0.2500, 0.0000, 0.7500],\n",
      "        [0.1700, 0.8000, 0.0300]])\n"
     ]
    },
    {
     "name": "stderr",
     "output_type": "stream",
     "text": [
      " 48%|████▊     | 24/50 [06:52<07:59, 18.43s/it]"
     ]
    },
    {
     "name": "stdout",
     "output_type": "stream",
     "text": [
      "Iterations 73\n",
      "Minimizing with VGP\n",
      "Seed: 288\n",
      "Initial points: tensor([[0.2200, 0.7800, 0.0000],\n",
      "        [0.5000, 0.5000, 0.0000],\n",
      "        [0.2500, 0.2500, 0.5000],\n",
      "        [0.5000, 0.2500, 0.2500],\n",
      "        [0.7100, 0.0600, 0.2300]])\n"
     ]
    },
    {
     "name": "stderr",
     "output_type": "stream",
     "text": [
      " 50%|█████     | 25/50 [07:11<07:44, 18.57s/it]"
     ]
    },
    {
     "name": "stdout",
     "output_type": "stream",
     "text": [
      "Iterations 75\n",
      "Minimizing with VGP\n",
      "Seed: 143\n",
      "Initial points: tensor([[0.3200, 0.6700, 0.0100],\n",
      "        [0.1300, 0.7900, 0.0800],\n",
      "        [0.1600, 0.8400, 0.0000],\n",
      "        [0.1700, 0.8000, 0.0300],\n",
      "        [0.3000, 0.6900, 0.0100]])\n"
     ]
    },
    {
     "name": "stderr",
     "output_type": "stream",
     "text": [
      " 52%|█████▏    | 26/50 [07:31<07:36, 19.00s/it]"
     ]
    },
    {
     "name": "stdout",
     "output_type": "stream",
     "text": [
      "Iterations 79\n",
      "Minimizing with VGP\n",
      "Seed: 773\n",
      "Initial points: tensor([[0.1400, 0.8400, 0.0200],\n",
      "        [0.3900, 0.6100, 0.0000],\n",
      "        [0.1300, 0.7900, 0.0800],\n",
      "        [0.7800, 0.0900, 0.1300],\n",
      "        [0.0000, 1.0000, 0.0000]])\n"
     ]
    },
    {
     "name": "stderr",
     "output_type": "stream",
     "text": [
      " 54%|█████▍    | 27/50 [07:45<06:44, 17.59s/it]"
     ]
    },
    {
     "name": "stdout",
     "output_type": "stream",
     "text": [
      "Iterations 58\n",
      "Minimizing with VGP\n",
      "Seed: 97\n",
      "Initial points: tensor([[0.1700, 0.8000, 0.0300],\n",
      "        [0.3400, 0.5400, 0.1200],\n",
      "        [0.2500, 0.2500, 0.5000],\n",
      "        [0.3200, 0.6700, 0.0100],\n",
      "        [0.7500, 0.2500, 0.0000]])\n"
     ]
    },
    {
     "name": "stderr",
     "output_type": "stream",
     "text": [
      " 56%|█████▌    | 28/50 [08:06<06:47, 18.54s/it]"
     ]
    },
    {
     "name": "stdout",
     "output_type": "stream",
     "text": [
      "Iterations 82\n",
      "Minimizing with VGP\n",
      "Seed: 633\n",
      "Initial points: tensor([[0.1300, 0.8500, 0.0200],\n",
      "        [1.0000, 0.0000, 0.0000],\n",
      "        [0.0000, 0.0000, 1.0000],\n",
      "        [0.5000, 0.2500, 0.2500],\n",
      "        [0.0000, 1.0000, 0.0000]])\n"
     ]
    },
    {
     "name": "stderr",
     "output_type": "stream",
     "text": [
      " 58%|█████▊    | 29/50 [08:25<06:30, 18.60s/it]"
     ]
    },
    {
     "name": "stdout",
     "output_type": "stream",
     "text": [
      "Iterations 75\n",
      "Minimizing with VGP\n",
      "Seed: 818\n",
      "Initial points: tensor([[0.8100, 0.0000, 0.1900],\n",
      "        [0.2600, 0.3800, 0.3600],\n",
      "        [0.1200, 0.7700, 0.1100],\n",
      "        [0.0500, 0.7885, 0.1615],\n",
      "        [0.2500, 0.7100, 0.0400]])\n"
     ]
    },
    {
     "name": "stderr",
     "output_type": "stream",
     "text": [
      " 60%|██████    | 30/50 [08:37<05:31, 16.57s/it]"
     ]
    },
    {
     "name": "stdout",
     "output_type": "stream",
     "text": [
      "Iterations 49\n",
      "Minimizing with VGP\n",
      "Seed: 256\n",
      "Initial points: tensor([[0.2700, 0.7200, 0.0100],\n",
      "        [0.8700, 0.1200, 0.0100],\n",
      "        [0.5000, 0.2500, 0.2500],\n",
      "        [0.1200, 0.7700, 0.1100],\n",
      "        [0.0000, 0.7500, 0.2500]])\n"
     ]
    },
    {
     "name": "stderr",
     "output_type": "stream",
     "text": [
      " 62%|██████▏   | 31/50 [08:55<05:25, 17.15s/it]"
     ]
    },
    {
     "name": "stdout",
     "output_type": "stream",
     "text": [
      "Iterations 74\n",
      "Minimizing with VGP\n",
      "Seed: 931\n",
      "Initial points: tensor([[0.5000, 0.0000, 0.5000],\n",
      "        [0.0900, 0.9100, 0.0000],\n",
      "        [0.0900, 0.8700, 0.0400],\n",
      "        [0.1300, 0.8700, 0.0000],\n",
      "        [0.1200, 0.7700, 0.1100]])\n"
     ]
    },
    {
     "name": "stderr",
     "output_type": "stream",
     "text": [
      " 64%|██████▍   | 32/50 [09:13<05:13, 17.44s/it]"
     ]
    },
    {
     "name": "stdout",
     "output_type": "stream",
     "text": [
      "Iterations 73\n",
      "Minimizing with VGP\n",
      "Seed: 545\n",
      "Initial points: tensor([[0.1300, 0.7900, 0.0800],\n",
      "        [0.0900, 0.8700, 0.0400],\n",
      "        [0.0000, 0.0000, 1.0000],\n",
      "        [0.1300, 0.8700, 0.0000],\n",
      "        [0.2000, 0.6900, 0.1100]])\n"
     ]
    },
    {
     "name": "stderr",
     "output_type": "stream",
     "text": [
      " 66%|██████▌   | 33/50 [09:30<04:52, 17.18s/it]"
     ]
    },
    {
     "name": "stdout",
     "output_type": "stream",
     "text": [
      "Iterations 67\n",
      "Minimizing with VGP\n",
      "Seed: 722\n",
      "Initial points: tensor([[0.1700, 0.8000, 0.0300],\n",
      "        [0.0900, 0.8700, 0.0400],\n",
      "        [0.3200, 0.6700, 0.0100],\n",
      "        [0.2500, 0.7000, 0.0600],\n",
      "        [0.5000, 0.2500, 0.2500]])\n"
     ]
    },
    {
     "name": "stderr",
     "output_type": "stream",
     "text": [
      " 68%|██████▊   | 34/50 [09:48<04:40, 17.55s/it]"
     ]
    },
    {
     "name": "stdout",
     "output_type": "stream",
     "text": [
      "Iterations 74\n",
      "Minimizing with VGP\n",
      "Seed: 829\n",
      "Initial points: tensor([[0.3100, 0.3000, 0.3900],\n",
      "        [0.2500, 0.7000, 0.0600],\n",
      "        [0.3000, 0.6900, 0.0100],\n",
      "        [0.1300, 0.8700, 0.0000],\n",
      "        [0.2500, 0.7100, 0.0400]])\n"
     ]
    },
    {
     "name": "stderr",
     "output_type": "stream",
     "text": [
      " 70%|███████   | 35/50 [10:07<04:27, 17.86s/it]"
     ]
    },
    {
     "name": "stdout",
     "output_type": "stream",
     "text": [
      "Iterations 75\n",
      "Minimizing with VGP\n",
      "Seed: 616\n",
      "Initial points: tensor([[0.2600, 0.7400, 0.0000],\n",
      "        [0.1600, 0.8400, 0.0000],\n",
      "        [0.1000, 0.8900, 0.0100],\n",
      "        [0.3200, 0.6700, 0.0100],\n",
      "        [0.1300, 0.7900, 0.0800]])\n"
     ]
    },
    {
     "name": "stderr",
     "output_type": "stream",
     "text": [
      " 72%|███████▏  | 36/50 [10:28<04:22, 18.72s/it]"
     ]
    },
    {
     "name": "stdout",
     "output_type": "stream",
     "text": [
      "Iterations 82\n",
      "Minimizing with VGP\n",
      "Seed: 923\n",
      "Initial points: tensor([[0.8100, 0.0000, 0.1900],\n",
      "        [0.2000, 0.6900, 0.1100],\n",
      "        [0.4100, 0.5800, 0.0100],\n",
      "        [0.0900, 0.8500, 0.0600],\n",
      "        [0.1700, 0.8000, 0.0300]])\n"
     ]
    },
    {
     "name": "stderr",
     "output_type": "stream",
     "text": [
      " 74%|███████▍  | 37/50 [10:47<04:04, 18.84s/it]"
     ]
    },
    {
     "name": "stdout",
     "output_type": "stream",
     "text": [
      "Iterations 77\n",
      "Minimizing with VGP\n",
      "Seed: 150\n",
      "Initial points: tensor([[0.8900, 0.0000, 0.1100],\n",
      "        [0.7800, 0.0900, 0.1300],\n",
      "        [0.2000, 0.6900, 0.1100],\n",
      "        [0.2700, 0.3400, 0.4000],\n",
      "        [0.0000, 0.7500, 0.2500]])\n"
     ]
    },
    {
     "name": "stderr",
     "output_type": "stream",
     "text": [
      " 76%|███████▌  | 38/50 [11:00<03:24, 17.08s/it]"
     ]
    },
    {
     "name": "stdout",
     "output_type": "stream",
     "text": [
      "Iterations 53\n",
      "Minimizing with VGP\n",
      "Seed: 317\n",
      "Initial points: tensor([[0.1800, 0.7800, 0.0400],\n",
      "        [0.2500, 0.7000, 0.0600],\n",
      "        [0.0500, 0.7885, 0.1615],\n",
      "        [0.0000, 0.0000, 1.0000],\n",
      "        [0.3100, 0.3600, 0.3300]])\n"
     ]
    },
    {
     "name": "stderr",
     "output_type": "stream",
     "text": [
      " 78%|███████▊  | 39/50 [11:13<02:56, 16.04s/it]"
     ]
    },
    {
     "name": "stdout",
     "output_type": "stream",
     "text": [
      "Iterations 56\n",
      "Minimizing with VGP\n",
      "Seed: 101\n",
      "Initial points: tensor([[0.2500, 0.7000, 0.0600],\n",
      "        [0.0000, 0.0000, 1.0000],\n",
      "        [0.0600, 0.8500, 0.0900],\n",
      "        [0.2500, 0.7000, 0.0600],\n",
      "        [0.6300, 0.3700, 0.0000]])\n"
     ]
    },
    {
     "name": "stderr",
     "output_type": "stream",
     "text": [
      " 80%|████████  | 40/50 [11:29<02:39, 15.91s/it]"
     ]
    },
    {
     "name": "stdout",
     "output_type": "stream",
     "text": [
      "Iterations 63\n",
      "Minimizing with VGP\n",
      "Seed: 747\n",
      "Initial points: tensor([[0.0000, 0.5000, 0.5000],\n",
      "        [0.1900, 0.7000, 0.1100],\n",
      "        [0.6300, 0.3700, 0.0000],\n",
      "        [0.2500, 0.2500, 0.5000],\n",
      "        [0.3200, 0.6700, 0.0100]])\n"
     ]
    },
    {
     "name": "stderr",
     "output_type": "stream",
     "text": [
      " 82%|████████▏ | 41/50 [11:50<02:37, 17.45s/it]"
     ]
    },
    {
     "name": "stdout",
     "output_type": "stream",
     "text": [
      "Iterations 83\n",
      "Minimizing with VGP\n",
      "Seed: 75\n",
      "Initial points: tensor([[0.0000, 0.0000, 1.0000],\n",
      "        [0.5000, 0.5000, 0.0000],\n",
      "        [0.0000, 0.0000, 1.0000],\n",
      "        [0.3700, 0.6200, 0.0100],\n",
      "        [0.1300, 0.8500, 0.0200]])\n"
     ]
    },
    {
     "name": "stderr",
     "output_type": "stream",
     "text": [
      " 84%|████████▍ | 42/50 [12:08<02:20, 17.62s/it]"
     ]
    },
    {
     "name": "stdout",
     "output_type": "stream",
     "text": [
      "Iterations 72\n",
      "Minimizing with VGP\n",
      "Seed: 920\n",
      "Initial points: tensor([[0.0000, 0.0000, 1.0000],\n",
      "        [0.2500, 0.7000, 0.0600],\n",
      "        [0.5300, 0.4700, 0.0000],\n",
      "        [0.2000, 0.6900, 0.1100],\n",
      "        [1.0000, 0.0000, 0.0000]])\n"
     ]
    },
    {
     "name": "stderr",
     "output_type": "stream",
     "text": [
      " 86%|████████▌ | 43/50 [12:27<02:06, 18.02s/it]"
     ]
    },
    {
     "name": "stdout",
     "output_type": "stream",
     "text": [
      "Iterations 75\n",
      "Minimizing with VGP\n",
      "Seed: 870\n",
      "Initial points: tensor([[0.7100, 0.0100, 0.2800],\n",
      "        [0.1000, 0.9000, 0.0000],\n",
      "        [0.1900, 0.8100, 0.0000],\n",
      "        [0.8400, 0.0000, 0.1600],\n",
      "        [0.1200, 0.7700, 0.1100]])\n"
     ]
    },
    {
     "name": "stderr",
     "output_type": "stream",
     "text": [
      " 88%|████████▊ | 44/50 [12:44<01:46, 17.72s/it]"
     ]
    },
    {
     "name": "stdout",
     "output_type": "stream",
     "text": [
      "Iterations 67\n",
      "Minimizing with VGP\n",
      "Seed: 700\n",
      "Initial points: tensor([[0.0000, 0.0000, 1.0000],\n",
      "        [0.1800, 0.7800, 0.0400],\n",
      "        [0.5300, 0.4700, 0.0000],\n",
      "        [0.3000, 0.6900, 0.0100],\n",
      "        [0.1600, 0.8400, 0.0000]])\n"
     ]
    },
    {
     "name": "stderr",
     "output_type": "stream",
     "text": [
      " 90%|█████████ | 45/50 [13:05<01:33, 18.71s/it]"
     ]
    },
    {
     "name": "stdout",
     "output_type": "stream",
     "text": [
      "Iterations 82\n",
      "Minimizing with VGP\n",
      "Seed: 338\n",
      "Initial points: tensor([[0.0000, 0.5000, 0.5000],\n",
      "        [0.2500, 0.7000, 0.0600],\n",
      "        [0.1300, 0.7900, 0.0800],\n",
      "        [0.7500, 0.2500, 0.0000],\n",
      "        [0.7500, 0.2500, 0.0000]])\n"
     ]
    },
    {
     "name": "stderr",
     "output_type": "stream",
     "text": [
      " 92%|█████████▏| 46/50 [13:23<01:14, 18.54s/it]"
     ]
    },
    {
     "name": "stdout",
     "output_type": "stream",
     "text": [
      "Iterations 73\n",
      "Minimizing with VGP\n",
      "Seed: 483\n",
      "Initial points: tensor([[0.1300, 0.8700, 0.0000],\n",
      "        [0.0900, 0.8700, 0.0400],\n",
      "        [0.1600, 0.8400, 0.0000],\n",
      "        [0.5700, 0.4300, 0.0000],\n",
      "        [0.7500, 0.0000, 0.2500]])\n"
     ]
    },
    {
     "name": "stderr",
     "output_type": "stream",
     "text": [
      " 94%|█████████▍| 47/50 [13:39<00:53, 17.81s/it]"
     ]
    },
    {
     "name": "stdout",
     "output_type": "stream",
     "text": [
      "Iterations 65\n",
      "Minimizing with VGP\n",
      "Seed: 573\n",
      "Initial points: tensor([[0.8900, 0.0000, 0.1100],\n",
      "        [0.3900, 0.6100, 0.0000],\n",
      "        [0.0000, 0.0000, 1.0000],\n",
      "        [0.3700, 0.6200, 0.0100],\n",
      "        [0.2700, 0.3400, 0.4000]])\n"
     ]
    },
    {
     "name": "stderr",
     "output_type": "stream",
     "text": [
      " 96%|█████████▌| 48/50 [14:00<00:37, 18.65s/it]"
     ]
    },
    {
     "name": "stdout",
     "output_type": "stream",
     "text": [
      "Iterations 81\n",
      "Minimizing with VGP\n",
      "Seed: 103\n",
      "Initial points: tensor([[0.0000, 0.0000, 1.0000],\n",
      "        [0.1600, 0.8400, 0.0000],\n",
      "        [0.1200, 0.8100, 0.0700],\n",
      "        [0.2500, 0.7500, 0.0000],\n",
      "        [0.0600, 0.8500, 0.0900]])\n"
     ]
    },
    {
     "name": "stderr",
     "output_type": "stream",
     "text": [
      " 98%|█████████▊| 49/50 [14:14<00:17, 17.25s/it]"
     ]
    },
    {
     "name": "stdout",
     "output_type": "stream",
     "text": [
      "Iterations 57\n",
      "Minimizing with VGP\n",
      "Seed: 362\n",
      "Initial points: tensor([[0.1900, 0.7000, 0.1100],\n",
      "        [0.4100, 0.5800, 0.0100],\n",
      "        [0.2600, 0.3700, 0.3600],\n",
      "        [0.2800, 0.3700, 0.3500],\n",
      "        [0.2500, 0.7100, 0.0400]])\n"
     ]
    },
    {
     "name": "stderr",
     "output_type": "stream",
     "text": [
      "100%|██████████| 50/50 [14:33<00:00, 17.47s/it]"
     ]
    },
    {
     "name": "stdout",
     "output_type": "stream",
     "text": [
      "Iterations 77\n"
     ]
    },
    {
     "name": "stderr",
     "output_type": "stream",
     "text": [
      "\n"
     ]
    },
    {
     "data": {
      "image/png": "[encoded data removed]",
      "text/plain": [
       "<Figure size 800x600 with 1 Axes>"
      ]
     },
     "metadata": {},
     "output_type": "display_data"
    }
   ],
   "source": [
    "for element in minDatasets:\n",
    "\n",
    "    print(f\"Starting {element}\")\n",
    "    \n",
    "    dataset = element\n",
    "\n",
    "    data = pd.read_csv(f\"datasets\\{dataset}_dataset.csv\")\n",
    "    data = data.groupby(data.columns[-1]).mean().reset_index()\n",
    "    train_x = torch.tensor(data.iloc[:, 1:].values, dtype=torch.float)\n",
    "    train_y = torch.tensor(data.iloc[:, 0].values, dtype=torch.float).unsqueeze(1) \n",
    "\n",
    "    N = len(train_x)\n",
    "\n",
    "    # We are using prededfined candidates, so we can scale at the start\n",
    "    TorchStd = TorchStandardScaler()\n",
    "    TorchStd.fit(train_x)\n",
    "\n",
    "    total_samples = len(train_y)\n",
    "\n",
    "    set_seeds(0)\n",
    "\n",
    "    n_top = int(math.ceil(N * 0.05))\n",
    "\n",
    "    # find the top 5% of the samples\n",
    "    train_y_df = pd.DataFrame(train_y.numpy(), columns=[0])\n",
    "    top_samples = train_y_df.nsmallest(n_top, train_y_df.columns[0], keep='first').iloc[:, 0].values.tolist()\n",
    "    print(f\"Number of of top 5% samples: {len(top_samples)}\")\n",
    "    print(f\"Top 5% samples: {top_samples}\")\n",
    "\n",
    "    def TopSamplesAmnt(y, top_samples):\n",
    "        return len([i for i in y if i in top_samples]) / len(top_samples)\n",
    "\n",
    "    # Generate a list of seeds randomly picked from the range 0-1000 equal to the number of campaigns without repeating\n",
    "    seedList = random.sample(range(1000), campaigns)\n",
    "            \n",
    "    for i in trange(len(seedList)):\n",
    "        globals()['topSTP' + str(i)], globals()['iterationSTP' + str(i)] = runMinSTP(seedList[i])\n",
    "\n",
    "    for i in trange(len(seedList)):\n",
    "        globals()['topEGP' + str(i)], globals()['iterationEGP' + str(i)] = runMinEGP(seedList[i])\n",
    "\n",
    "    for i in trange(len(seedList)):\n",
    "        globals()['topVGP' + str(i)], globals()['iterationVGP' + str(i)] = runMinVGP(seedList[i])\n",
    "\n",
    "\n",
    "    num_arrays = len(seedList)  \n",
    "    # Function to dynamically collect arrays\n",
    "    def collect_arrays(prefix, num_arrays):\n",
    "        arrays = []\n",
    "        for i in range(num_arrays):\n",
    "            array = globals().get(f'{prefix}{i}', None)\n",
    "            if array is not None:\n",
    "                arrays.append(array)\n",
    "        return arrays\n",
    "\n",
    "    # Function to pad arrays with the last element to match the maximum length\n",
    "    def pad_array(array, max_length):\n",
    "        return np.pad(array, (0, max_length - len(array)), 'constant', constant_values=array[-1])\n",
    "\n",
    "    def find_max_length(prefix, num_arrays):\n",
    "        arrays = collect_arrays(prefix, num_arrays)\n",
    "        return max(len(arr) for arr in arrays)\n",
    "\n",
    "    # Process arrays for each type\n",
    "    def process_arrays(prefix, num_arrays, max_length):\n",
    "        arrays = collect_arrays(prefix, num_arrays)\n",
    "        padded_arrays = [pad_array(arr, max_length) for arr in arrays]\n",
    "        stack = np.stack(padded_arrays)\n",
    "        mean_values = np.mean(stack, axis=0)\n",
    "        std_values = np.std(stack, axis=0)\n",
    "        return mean_values, std_values\n",
    "\n",
    "    # Process arrays for STP, EGP, and VGP\n",
    "    max_length_STP = find_max_length('topSTP', num_arrays)\n",
    "    max_length_EGP = find_max_length('topEGP', num_arrays)\n",
    "    max_length_VGP = find_max_length('topVGP', num_arrays)\n",
    "    max_length = max(max_length_STP, max_length_EGP, max_length_VGP)\n",
    "    mean_topSTP, std_valuesSTP = process_arrays('topSTP', num_arrays, max_length)\n",
    "    mean_topEGP, std_valuesEGP = process_arrays('topEGP', num_arrays, max_length)\n",
    "    mean_topVGP, std_valuesVGP = process_arrays('topVGP', num_arrays, max_length)\n",
    "\n",
    "    # Ensure that the number of iterations matches the longest array length\n",
    "    max_length = max(max_length_STP, max_length_EGP, max_length_VGP)\n",
    "    iterations = np.arange(1, max_length + 1)\n",
    "\n",
    "\n",
    "\n",
    "    sns.set(style=\"whitegrid\")\n",
    "    # Plot the mean and fill between the min and max for each type\n",
    "    plt.figure(figsize=(8, 6))\n",
    "\n",
    "    # Plot for STP\n",
    "    sns.lineplot(x=iterations, y=mean_topSTP, label='Mean STP', color='blue', linewidth=2)\n",
    "    plt.fill_between(iterations, mean_topSTP - std_valuesSTP, mean_topSTP + std_valuesSTP, label='STP Standard Deviation', color='blue', alpha=0.1)\n",
    "\n",
    "    # Plot for EGP\n",
    "    sns.lineplot(x=iterations, y=mean_topEGP, label='Mean EGP', color='orange', linewidth=2)\n",
    "    plt.fill_between(iterations, mean_topEGP - std_valuesEGP, mean_topEGP + std_valuesEGP, label='EGP Standard Deviation', color='orange', alpha=0.1)\n",
    "\n",
    "    # Plot for VGP\n",
    "    plt.plot(iterations, mean_topVGP, label='Mean VGP', color='green', linewidth=2)\n",
    "    plt.fill_between(iterations, mean_topVGP - std_valuesVGP, mean_topVGP + std_valuesVGP, label='VGP Standard Deviation', color='green', alpha=0.1)\n",
    "\n",
    "    plt.xlabel('Number of Iterations', fontsize=12)\n",
    "    plt.ylabel('Percentage of Top 5% Samples Found', fontsize=12)\n",
    "    plt.title(f'Average Percentage of Top Samples from the {dataset} Dataset \\n Found Over {num_arrays} Campaigns Using LCB', fontsize=14)\n",
    "    plt.legend(fontsize=10, loc='upper left')\n",
    "\n",
    "    # Customize ticks\n",
    "    plt.xticks(fontsize=10)\n",
    "    plt.yticks(fontsize=10)\n",
    "\n",
    "    # Adjust axis limits and aspect ratio if needed\n",
    "    plt.ylim(0, 100)\n",
    "    plt.xlim(1, max_length)\n",
    "\n",
    "\n",
    "    # save the plot \n",
    "    plt.savefig(f\"LCB{dataset}{campaigns}CampaignsMin\")\n",
    "    plt.show()"
   ]
  }
 ],
 "metadata": {
  "kernelspec": {
   "display_name": "researchTP",
   "language": "python",
   "name": "python3"
  },
  "language_info": {
   "codemirror_mode": {
    "name": "ipython",
    "version": 3
   },
   "file_extension": ".py",
   "mimetype": "text/x-python",
   "name": "python",
   "nbconvert_exporter": "python",
   "pygments_lexer": "ipython3",
   "version": "3.12.3"
  }
 },
 "nbformat": 4,
 "nbformat_minor": 2
}
