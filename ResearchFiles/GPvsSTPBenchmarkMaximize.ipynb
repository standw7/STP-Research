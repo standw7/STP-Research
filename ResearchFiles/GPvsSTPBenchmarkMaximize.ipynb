{
 "cells": [
  {
   "cell_type": "markdown",
   "metadata": {},
   "source": [
    "## Setup"
   ]
  },
  {
   "cell_type": "markdown",
   "metadata": {},
   "source": [
    "### Import Libraries, Set up device, Set up seeds"
   ]
  },
  {
   "cell_type": "code",
   "execution_count": 1,
   "metadata": {},
   "outputs": [
    {
     "name": "stdout",
     "output_type": "stream",
     "text": [
      "CUDA device found, setting as device.\n"
     ]
    }
   ],
   "source": [
    "# Imports\n",
    "import gpytorch\n",
    "import torch\n",
    "import numpy as np\n",
    "import matplotlib.pyplot as plt\n",
    "from botorch.models import SingleTaskGP\n",
    "from botorch.fit import fit_gpytorch_mll\n",
    "from botorch.utils import standardize\n",
    "from gpytorch.mlls import ExactMarginalLogLikelihood\n",
    "from tqdm import trange\n",
    "import pandas as pd\n",
    "from gpytorch.likelihoods import GaussianLikelihood\n",
    "from gpytorch.models import ApproximateGP\n",
    "from gpytorch.variational import VariationalStrategy, CholeskyVariationalDistribution\n",
    "from gpytorch.kernels import ScaleKernel, RBFKernel\n",
    "from gpytorch.means import ConstantMean\n",
    "from gpytorch.likelihoods import GaussianLikelihood, StudentTLikelihood\n",
    "from gpytorch.mlls import VariationalELBO\n",
    "\n",
    "# check for MPS and CUDA device availability\n",
    "if torch.backends.mps.is_available():\n",
    "    device = torch.device(\"mps\")\n",
    "    print(\"MPS device found, setting as device.\")\n",
    "elif torch.cuda.is_available():\n",
    "    device = torch.device(\"cuda\")\n",
    "    print(\"CUDA device found, setting as device.\")\n",
    "else:\n",
    "    device = torch.device(\"cpu\")\n",
    "    print(\"Neither MPS nor CUDA device found. Using default device (CPU).\")\n",
    "\n",
    "\n",
    "# set the seed for all random use\n",
    "def set_seeds(seed):\n",
    "    np.random.seed(seed)\n",
    "    torch.manual_seed(seed)\n",
    "    torch.cuda.manual_seed_all(seed)\n",
    "\n",
    "\n",
    "set_seeds(1234)\n",
    "\n",
    "# Initial setup\n",
    "training_iterations = 50\n",
    "num_initial_points = 10\n",
    "num_new_samples_per_iteration = 1  # Change this to your desired number of new samples per iteration"
   ]
  },
  {
   "cell_type": "markdown",
   "metadata": {},
   "source": [
    "### Student-T Process Model"
   ]
  },
  {
   "cell_type": "code",
   "execution_count": 2,
   "metadata": {},
   "outputs": [],
   "source": [
    "class STP(gpytorch.models.ApproximateGP):\n",
    "    def __init__(self, inducing_points):\n",
    "        variational_distribution = gpytorch.variational.CholeskyVariationalDistribution(inducing_points.size(0))\n",
    "        variational_strategy = gpytorch.variational.VariationalStrategy(\n",
    "            self, inducing_points, variational_distribution, learn_inducing_locations=False\n",
    "        )\n",
    "        super().__init__(variational_strategy)\n",
    "        self.mean_module = gpytorch.means.ConstantMean()\n",
    "        self.covar_module = gpytorch.kernels.ScaleKernel(gpytorch.kernels.RBFKernel())\n",
    "\n",
    "    def forward(self, x):\n",
    "        mean_x = self.mean_module(x)\n",
    "        covar_x = self.covar_module(x)\n",
    "\n",
    "        return gpytorch.distributions.MultivariateNormal(mean_x, covar_x)"
   ]
  },
  {
   "cell_type": "markdown",
   "metadata": {},
   "source": [
    "### Exact Gaussian Process Model"
   ]
  },
  {
   "cell_type": "code",
   "execution_count": 3,
   "metadata": {},
   "outputs": [],
   "source": [
    "class ExactGP(gpytorch.models.ExactGP):\n",
    "    def __init__(self, x_train, y_train, likelihood):\n",
    "        # build the model using the ExactGP model from gpytorch\n",
    "        super(ExactGP, self).__init__(x_train, y_train, likelihood)\n",
    "\n",
    "        # use a constant mean, this value can be learned from the dataset\n",
    "        self.mean_module = gpytorch.means.ConstantMean()\n",
    "\n",
    "        # automatically determine the number of dimensions for the ARD kernel\n",
    "        num_dimensions = x_train.shape[1]\n",
    "\n",
    "        # use a scaled Matern kernel, the ScaleKernel allows the kernel to learn a scale factor for the dataset\n",
    "        self.covar_module = gpytorch.kernels.ScaleKernel(\n",
    "            gpytorch.kernels.MaternKernel(nu=2.5,ard_num_dims=num_dimensions))\n",
    "            \n",
    "        # set the number of outputs \n",
    "        self.num_outputs = 1\n",
    "\n",
    "    def forward(self, x):\n",
    "        # forward pass of the model\n",
    "\n",
    "        # compute the mean and covariance of the model \n",
    "        mean_x = self.mean_module(x)\n",
    "        covar_x = self.covar_module(x)\n",
    "\n",
    "        # return the MultivariateNormal distribution of the mean and covariance \n",
    "        return gpytorch.distributions.MultivariateNormal(mean_x, covar_x)\n",
    "\n",
    "    "
   ]
  },
  {
   "cell_type": "markdown",
   "metadata": {},
   "source": [
    "### Variational Gaussian Process Model"
   ]
  },
  {
   "cell_type": "code",
   "execution_count": 4,
   "metadata": {},
   "outputs": [],
   "source": [
    "class VariationalGP(ApproximateGP):\n",
    "    def __init__(self, inducing_points):\n",
    "        variational_distribution = CholeskyVariationalDistribution(inducing_points.size(0))\n",
    "        variational_strategy = VariationalStrategy(self, inducing_points, variational_distribution, learn_inducing_locations=True)\n",
    "        super(VariationalGP, self).__init__(variational_strategy)\n",
    "        self.mean_module = ConstantMean()\n",
    "        self.covar_module = ScaleKernel(RBFKernel(ard_num_dims=inducing_points.size(1)))\n",
    "\n",
    "    def forward(self, x):\n",
    "        mean_x = self.mean_module(x)\n",
    "        covar_x = self.covar_module(x)\n",
    "        return gpytorch.distributions.MultivariateNormal(mean_x, covar_x)"
   ]
  },
  {
   "cell_type": "markdown",
   "metadata": {},
   "source": [
    "### Standard Scalars"
   ]
  },
  {
   "cell_type": "code",
   "execution_count": 5,
   "metadata": {},
   "outputs": [],
   "source": [
    "class TorchStandardScaler:\n",
    "    def fit(self, x):\n",
    "        x = x.clone()\n",
    "        # calculate mean and std of the tensor\n",
    "        self.mean = x.mean(0, keepdim=True)\n",
    "        self.std = x.std(0, unbiased=False, keepdim=True)\n",
    "    def transform(self, x):\n",
    "        x = x.clone()\n",
    "        # standardize the tensor\n",
    "        x -= self.mean\n",
    "        x /= (self.std + 1e-10)\n",
    "        return x\n",
    "    def fit_transform(self, x):\n",
    "        # copy the tensor as to not modify the original \n",
    "        x = x.clone()\n",
    "        # calculate mean and std of the tensor\n",
    "        self.mean = x.mean(0, keepdim=True)\n",
    "        self.std = x.std(0, unbiased=False, keepdim=True)\n",
    "        # standardize the tensor\n",
    "        x -= self.mean\n",
    "        x /= (self.std + 1e-10)\n",
    "        return x\n",
    "    \n",
    "class TorchNormalizer:\n",
    "    def fit(self, x):\n",
    "        # calculate the maximum value and the minimum value of the tensor\n",
    "        self.max = torch.max(x, dim=0).values\n",
    "        self.min = torch.min(x, dim=0).values\n",
    "\n",
    "    def transform(self, x):\n",
    "        # normalize the tensor\n",
    "        return (x.clone() - self.min) / (self.max - self.min)\n",
    "\n",
    "    def fit_transform(self, x):\n",
    "        # calculate the maximum value and the minimum value of the tensor\n",
    "        self.max = torch.max(x, dim=0).values\n",
    "        self.min = torch.min(x, dim=0).values\n",
    "        # normalize the tensor\n",
    "        return (x.clone() - self.min) / (self.max - self.min)"
   ]
  },
  {
   "cell_type": "markdown",
   "metadata": {},
   "source": [
    "### Acquisition Functions"
   ]
  },
  {
   "cell_type": "code",
   "execution_count": 6,
   "metadata": {},
   "outputs": [],
   "source": [
    "# Upper Confidence Bound\n",
    "def UCB(mean, std, beta):\n",
    "    return mean + beta * std\n",
    "\n",
    "\n",
    "# Expected Improvement\n",
    "def EI(mean, std, best_observed):\n",
    "    z = (mean - best_observed) / std\n",
    "    return (mean - best_observed) * torch.distributions.Normal(0, 1).cdf(z) + std * torch.distributions.Normal(0, 1).log_prob(z)"
   ]
  },
  {
   "cell_type": "markdown",
   "metadata": {},
   "source": [
    "### Randomly initialize training data with 10 points\n"
   ]
  },
  {
   "cell_type": "code",
   "execution_count": 7,
   "metadata": {},
   "outputs": [],
   "source": [
    "dataset = 'P3HT'\n",
    "data = pd.read_csv(f\"datasets/{dataset}_dataset.csv\")\n",
    "\n",
    "# merge rows that have the same output values\n",
    "data = data.groupby(list(data.columns[:-1])).mean()\n",
    "data = pd.DataFrame(data.reset_index())\n",
    "\n",
    "# create tensors of the input and output data\n",
    "train_x = torch.tensor(data.iloc[:, :-1].values)\n",
    "train_y = torch.tensor(data.iloc[:, -1].values)\n",
    "\n",
    "# We are using prededfined candidates, so we can scale at the start\n",
    "TorchStd = TorchStandardScaler()\n",
    "TorchStd.fit(train_x)\n",
    "\n",
    "total_samples = len(train_y)\n",
    "\n",
    "indicesSTP = torch.randperm(total_samples)[:num_initial_points]\n",
    "indicesEGP = indicesSTP\n",
    "indicesVGP = indicesSTP\n",
    "\n",
    "train_xSTP = train_x[indicesSTP]\n",
    "train_ySTP = train_y[indicesSTP]\n",
    "train_xEGP = train_xSTP\n",
    "train_yEGP = train_ySTP\n",
    "train_xVGP = train_xSTP\n",
    "train_yVGP = train_ySTP\n",
    "initialPoints = train_xSTP\n",
    "initialPointsy = train_ySTP"
   ]
  },
  {
   "cell_type": "markdown",
   "metadata": {},
   "source": [
    "## Bayesian Optimization Loop"
   ]
  },
  {
   "cell_type": "markdown",
   "metadata": {},
   "source": [
    "### Student-T Process Optimization"
   ]
  },
  {
   "cell_type": "code",
   "execution_count": 8,
   "metadata": {},
   "outputs": [
    {
     "name": "stderr",
     "output_type": "stream",
     "text": [
      "100%|██████████| 50/50 [00:27<00:00,  1.82it/s]\n"
     ]
    },
    {
     "data": {
      "text/plain": [
       "StudentTLikelihood(\n",
       "  (quadrature): GaussHermiteQuadrature1D()\n",
       "  (raw_noise_constraint): Positive()\n",
       "  (raw_deg_free_constraint): GreaterThan(2.000E+00)\n",
       ")"
      ]
     },
     "execution_count": 8,
     "metadata": {},
     "output_type": "execute_result"
    }
   ],
   "source": [
    "for _ in trange(training_iterations):\n",
    "    # standardize the initial inputs and outputs before\n",
    "    # torch_std = TorchStandardScaler()\n",
    "    # train_xSTP = torch_std.fit_transform(train_xSTP)\n",
    "    # y_scaler = TorchStandardScaler()\n",
    "    # train_ySTP = y_scaler.fit_transform(train_ySTP).flatten()  # Ensure y is 1-dimensional\n",
    "\n",
    "    #def train_and_test_approximate_gp(objective_function_cls):\n",
    "    model = STP(train_xSTP).to(dtype=torch.float64)\n",
    "    #likelihood = gpytorch.likelihoods.GaussianLikelihood()\n",
    "    likelihood = gpytorch.likelihoods.StudentTLikelihood()\n",
    "    objective_function = gpytorch.mlls.VariationalELBO(likelihood, model, num_data=train_ySTP.numel())\n",
    "    # replace with gpytorch mll\n",
    "    optimizer = torch.optim.Adam(list(model.parameters()) + list(likelihood.parameters()), lr=0.1)\n",
    "\n",
    "    \n",
    "\n",
    "    # Train\n",
    "    model.train()\n",
    "    #put it into training mode\n",
    "    likelihood.train()\n",
    "\n",
    "    for _ in range(50):\n",
    "        output = model(train_xSTP)\n",
    "        loss = -objective_function(output, train_ySTP)\n",
    "        loss.backward()\n",
    "        optimizer.step()\n",
    "        optimizer.zero_grad()\n",
    "        \n",
    "\n",
    "\n",
    "    # Test\n",
    "    model.eval()\n",
    "    likelihood.eval()\n",
    "\n",
    "    # works wtih the variational distribution\n",
    "    with gpytorch.settings.num_likelihood_samples(512):\n",
    "        observed_pred = likelihood(model(train_x))\n",
    "\n",
    "    samples = observed_pred.sample()\n",
    "\n",
    "\n",
    "    # use as inputs to UCB \n",
    "    meanSTP = samples.mean(dim=0)\n",
    "    stdSTP = samples.std(dim=0)\n",
    "    \n",
    "\n",
    "    # Select new points using UCB\n",
    "    ucb_values = UCB(meanSTP, stdSTP, 1.96)\n",
    "    ucb_values[indicesSTP] = -float('inf')\n",
    "    indicesSTP = torch.cat([indicesSTP, ucb_values.argmax().unsqueeze(0)])\n",
    "\n",
    "\n",
    "    # Convert new_indices to a tensor\n",
    "    # Add the new points to the training data\n",
    "    train_xSTP = train_x[indicesSTP]\n",
    "    train_ySTP = train_y[indicesSTP]\n",
    "\n",
    "model.eval()\n",
    "likelihood.eval()\n",
    "    "
   ]
  },
  {
   "cell_type": "markdown",
   "metadata": {},
   "source": [
    "### Exact Gaussian Process Optimization"
   ]
  },
  {
   "cell_type": "code",
   "execution_count": 9,
   "metadata": {},
   "outputs": [
    {
     "name": "stderr",
     "output_type": "stream",
     "text": [
      "  4%|▍         | 2/50 [00:00<00:06,  7.66it/s]c:\\Users\\stan\\miniconda3\\envs\\researchTP\\Lib\\site-packages\\gpytorch\\distributions\\multivariate_normal.py:319: NumericalWarning: Negative variance values detected. This is likely due to numerical instabilities. Rounding negative variances up to 1e-10.\n",
      "  warnings.warn(\n",
      "  8%|▊         | 4/50 [00:00<00:04, 10.08it/s]c:\\Users\\stan\\miniconda3\\envs\\researchTP\\Lib\\site-packages\\gpytorch\\distributions\\multivariate_normal.py:319: NumericalWarning: Negative variance values detected. This is likely due to numerical instabilities. Rounding negative variances up to 1e-10.\n",
      "  warnings.warn(\n",
      " 48%|████▊     | 24/50 [00:04<00:04,  5.95it/s]c:\\Users\\stan\\miniconda3\\envs\\researchTP\\Lib\\site-packages\\gpytorch\\distributions\\multivariate_normal.py:319: NumericalWarning: Negative variance values detected. This is likely due to numerical instabilities. Rounding negative variances up to 1e-10.\n",
      "  warnings.warn(\n",
      " 52%|█████▏    | 26/50 [00:04<00:03,  6.50it/s]c:\\Users\\stan\\miniconda3\\envs\\researchTP\\Lib\\site-packages\\gpytorch\\distributions\\multivariate_normal.py:319: NumericalWarning: Negative variance values detected. This is likely due to numerical instabilities. Rounding negative variances up to 1e-10.\n",
      "  warnings.warn(\n",
      " 70%|███████   | 35/50 [00:07<00:03,  3.80it/s]c:\\Users\\stan\\miniconda3\\envs\\researchTP\\Lib\\site-packages\\gpytorch\\distributions\\multivariate_normal.py:319: NumericalWarning: Negative variance values detected. This is likely due to numerical instabilities. Rounding negative variances up to 1e-10.\n",
      "  warnings.warn(\n",
      " 76%|███████▌  | 38/50 [00:07<00:02,  4.16it/s]c:\\Users\\stan\\miniconda3\\envs\\researchTP\\Lib\\site-packages\\gpytorch\\distributions\\multivariate_normal.py:319: NumericalWarning: Negative variance values detected. This is likely due to numerical instabilities. Rounding negative variances up to 1e-10.\n",
      "  warnings.warn(\n",
      " 86%|████████▌ | 43/50 [00:09<00:01,  4.38it/s]c:\\Users\\stan\\miniconda3\\envs\\researchTP\\Lib\\site-packages\\gpytorch\\distributions\\multivariate_normal.py:319: NumericalWarning: Negative variance values detected. This is likely due to numerical instabilities. Rounding negative variances up to 1e-10.\n",
      "  warnings.warn(\n",
      " 90%|█████████ | 45/50 [00:09<00:01,  3.35it/s]c:\\Users\\stan\\miniconda3\\envs\\researchTP\\Lib\\site-packages\\gpytorch\\distributions\\multivariate_normal.py:319: NumericalWarning: Negative variance values detected. This is likely due to numerical instabilities. Rounding negative variances up to 1e-10.\n",
      "  warnings.warn(\n",
      " 96%|█████████▌| 48/50 [00:10<00:00,  4.09it/s]c:\\Users\\stan\\miniconda3\\envs\\researchTP\\Lib\\site-packages\\gpytorch\\distributions\\multivariate_normal.py:319: NumericalWarning: Negative variance values detected. This is likely due to numerical instabilities. Rounding negative variances up to 1e-10.\n",
      "  warnings.warn(\n",
      "100%|██████████| 50/50 [00:10<00:00,  4.65it/s]\n"
     ]
    },
    {
     "data": {
      "text/plain": [
       "GaussianLikelihood(\n",
       "  (noise_covar): HomoskedasticNoise(\n",
       "    (noise_prior): HalfNormalPrior()\n",
       "    (raw_noise_constraint): GreaterThan(1.000E-04)\n",
       "  )\n",
       ")"
      ]
     },
     "execution_count": 9,
     "metadata": {},
     "output_type": "execute_result"
    }
   ],
   "source": [
    "for i in trange(training_iterations):\n",
    "    # standardize the initial inputs and outputs before\n",
    "    # torch_std = TorchStandardScaler()\n",
    "    # train_xGP = torch_std.fit_transform(train_xGP)\n",
    "    # y_scaler = TorchStandardScaler()\n",
    "    # train_yGP = y_scaler.fit_transform(train_yGP).flatten()\n",
    "\n",
    "    bestY_EGP = train_yEGP.max().item()\n",
    "\n",
    "    # optimize the model\n",
    "    # use a half normal prior for the noise to find a Gaussian likelihood\n",
    "    likelihood = GaussianLikelihood(noise_prior=gpytorch.priors.HalfNormalPrior(0.01))\n",
    "\n",
    "    # using the found likelihood, create a GP model\n",
    "    gp = ExactGP(train_xEGP, train_yEGP, likelihood)\n",
    "    mll = gpytorch.mlls.ExactMarginalLogLikelihood(likelihood, gp)\n",
    "\n",
    "    # fit the model by maximizing the marginal log likelihood\n",
    "    gp.train()\n",
    "    likelihood.train()\n",
    "    fit_gpytorch_mll(mll)\n",
    "\n",
    "    gp.eval()\n",
    "    likelihood.eval()\n",
    "\n",
    "    # predict from candidate pool\n",
    "    with torch.no_grad():\n",
    "        pred = gp(train_x) # predict values for all candidates\n",
    "\n",
    "    meanEGP = pred.mean\n",
    "    stdEGP = pred.stddev\n",
    "\n",
    "    # pass the predictions through an acquisition function to find the next best point to sample\n",
    "    acqVal = UCB(meanEGP, stdEGP, 1.96)\n",
    "    acqVal[indicesEGP] = -float('inf')  # Don't select already sampled points\n",
    "    indicesEGP = torch.cat([indicesEGP, acqVal.argmax().unsqueeze(0)]) # add best value to index\n",
    "\n",
    "    # add the new point to the training data\n",
    "    train_xEGP = train_x[indicesEGP]\n",
    "    train_yEGP = train_y[indicesEGP]\n",
    "\n",
    "model.eval()\n",
    "likelihood.eval()"
   ]
  },
  {
   "cell_type": "markdown",
   "metadata": {},
   "source": [
    "### Variational Gaussian Process Optimization"
   ]
  },
  {
   "cell_type": "code",
   "execution_count": 10,
   "metadata": {},
   "outputs": [
    {
     "name": "stderr",
     "output_type": "stream",
     "text": [
      "100%|██████████| 50/50 [00:11<00:00,  4.34it/s]\n"
     ]
    },
    {
     "data": {
      "text/plain": [
       "GaussianLikelihood(\n",
       "  (noise_covar): HomoskedasticNoise(\n",
       "    (raw_noise_constraint): GreaterThan(1.000E-04)\n",
       "  )\n",
       ")"
      ]
     },
     "execution_count": 10,
     "metadata": {},
     "output_type": "execute_result"
    }
   ],
   "source": [
    "for _ in trange(training_iterations):\n",
    "    # standardize the initial inputs and outputs before\n",
    "    # torch_std = TorchStandardScaler()\n",
    "    # train_xSTP = torch_std.fit_transform(train_xSTP)\n",
    "    # y_scaler = TorchStandardScaler()\n",
    "    # train_ySTP = y_scaler.fit_transform(train_ySTP).flatten()  # Ensure y is 1-dimensional\n",
    "\n",
    "    #def train_and_test_approximate_gp(objective_function_cls):\n",
    "    model = VariationalGP(train_xVGP).to(dtype=torch.float64)\n",
    "\n",
    "    likelihood = GaussianLikelihood()\n",
    "    objective_function = gpytorch.mlls.VariationalELBO(likelihood, model, num_data=train_yVGP.numel())\n",
    "    # replace with gpytorch mll\n",
    "    optimizer = torch.optim.Adam(list(model.parameters()) + list(likelihood.parameters()), lr=0.1)\n",
    "\n",
    "    # Train\n",
    "    model.train()\n",
    "    #put it into training mode\n",
    "    likelihood.train()\n",
    "\n",
    "    for _ in range(50):\n",
    "        output = model(train_xVGP)\n",
    "        loss = -objective_function(output, train_yVGP)\n",
    "        loss.backward()\n",
    "        optimizer.step()\n",
    "        optimizer.zero_grad()\n",
    "        \n",
    "    # Test\n",
    "    model.eval()\n",
    "    likelihood.eval()\n",
    "\n",
    "    # works wtih the variational distribution\n",
    "    with gpytorch.settings.num_likelihood_samples(512):\n",
    "        observed_pred = likelihood(model(train_x))\n",
    "\n",
    "    samples = observed_pred.sample(torch.Size((100,)))\n",
    "\n",
    "    # get the mean and standard deviation of the samples\n",
    "    meanVGP = samples.mean(dim=0)\n",
    "    stdVGP = samples.std(dim=0)\n",
    "\n",
    "    # Select new points using UCB\n",
    "    ucb_values = UCB(meanVGP, stdVGP, 1.96)\n",
    "    ucb_values[indicesVGP] = -float('inf')\n",
    "    indicesVGP = torch.cat([indicesVGP, ucb_values.argmax().unsqueeze(0)])\n",
    "\n",
    "\n",
    "    # Convert new_indices to a tensor\n",
    "    # Add the new points to the training data\n",
    "    train_xVGP = train_x[indicesVGP]\n",
    "    train_yVGP = train_y[indicesVGP]\n",
    "\n",
    "model.eval()\n",
    "likelihood.eval()\n",
    "    "
   ]
  },
  {
   "cell_type": "markdown",
   "metadata": {},
   "source": [
    "## Visualization"
   ]
  },
  {
   "cell_type": "code",
   "execution_count": 11,
   "metadata": {},
   "outputs": [
    {
     "data": {
      "text/plain": [
       "<matplotlib.legend.Legend at 0x2441d9735c0>"
      ]
     },
     "execution_count": 11,
     "metadata": {},
     "output_type": "execute_result"
    },
    {
     "data": {
      "image/png": "[encoded data removed]",
      "text/plain": [
       "<Figure size 640x480 with 1 Axes>"
      ]
     },
     "metadata": {},
     "output_type": "display_data"
    }
   ],
   "source": [
    "# create a list of iterations \n",
    "iterations = list(range(0, training_iterations + 1))\n",
    "\n",
    "maxOutputSTP = []\n",
    "maxOutputSTP.append(initialPointsy.max().item())\n",
    "highestValueSTP = initialPointsy.max().item()\n",
    "\n",
    "\n",
    "# convert the train_ySTP to a list\n",
    "outputSTP = train_ySTP.tolist()\n",
    "\n",
    "outputSTP = outputSTP[num_initial_points:]\n",
    "\n",
    "for i in range(len(outputSTP)):\n",
    "    if outputSTP[i] > highestValueSTP:\n",
    "        highestValueSTP = outputSTP[i]\n",
    "    maxOutputSTP.append(highestValueSTP)\n",
    "\n",
    "\n",
    "\n",
    "maxOutputEGP = []\n",
    "maxOutputEGP.append(initialPointsy.max().item())\n",
    "\n",
    "# convert the train_ySTP to a list\n",
    "outputEGP = train_yEGP.tolist()\n",
    "highestValueEGP = initialPointsy.max().item()\n",
    "\n",
    "outputEGP = outputEGP[num_initial_points:]\n",
    "\n",
    "for i in range(len(outputEGP)):\n",
    "    if outputEGP[i] > highestValueEGP:\n",
    "        highestValueEGP = outputEGP[i]\n",
    "    maxOutputEGP.append(highestValueEGP)\n",
    "\n",
    "\n",
    "maxOutputVGP = []\n",
    "maxOutputVGP.append(initialPointsy.max().item())\n",
    "\n",
    "# convert the train_ySTP to a list\n",
    "outputVGP = train_yVGP.tolist()\n",
    "highestValueVGP = initialPointsy.max().item()\n",
    "\n",
    "outputVGP = outputVGP[num_initial_points:]\n",
    "\n",
    "for i in range(len(outputVGP)):\n",
    "    if outputVGP[i] > highestValueVGP:\n",
    "        highestValueVGP = outputVGP[i]\n",
    "    maxOutputVGP.append(highestValueVGP)\n",
    "\n",
    "\n",
    "plt.plot(iterations, maxOutputSTP, label='STP')\n",
    "plt.plot(iterations, maxOutputEGP, label='EGP')\n",
    "plt.plot(iterations, maxOutputVGP, label='VGP')\n",
    "plt.xlabel('Iterations')\n",
    "plt.ylabel('Best Observed Value')\n",
    "plt.title('STP vs EGP vs VGP on the '+ dataset + ' dataset')\n",
    "plt.legend()\n"
   ]
  }
 ],
 "metadata": {
  "kernelspec": {
   "display_name": "researchTP",
   "language": "python",
   "name": "python3"
  },
  "language_info": {
   "codemirror_mode": {
    "name": "ipython",
    "version": 3
   },
   "file_extension": ".py",
   "mimetype": "text/x-python",
   "name": "python",
   "nbconvert_exporter": "python",
   "pygments_lexer": "ipython3",
   "version": "3.12.3"
  }
 },
 "nbformat": 4,
 "nbformat_minor": 2
}
