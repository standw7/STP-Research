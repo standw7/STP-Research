{
 "cells": [
  {
   "cell_type": "markdown",
   "metadata": {},
   "source": [
    "# Setup"
   ]
  },
  {
   "cell_type": "code",
   "execution_count": 12,
   "metadata": {},
   "outputs": [
    {
     "name": "stdout",
     "output_type": "stream",
     "text": [
      "CUDA device found, setting as device.\n"
     ]
    }
   ],
   "source": [
    "import numpy as np\n",
    "import matplotlib.pyplot as plt\n",
    "import pandas as pd\n",
    "import torch\n",
    "import gpytorch\n",
    "import math\n",
    "import seaborn as sns\n",
    "import random\n",
    "from tqdm import trange\n",
    "from collections import Counter\n",
    "from scipy.interpolate import splrep, interp1d\n",
    "from sklearn import preprocessing\n",
    "from botorch.models import SingleTaskGP\n",
    "from botorch.fit import fit_gpytorch_mll\n",
    "from botorch.utils import standardize\n",
    "from gpytorch.likelihoods import GaussianLikelihood, StudentTLikelihood\n",
    "from gpytorch.models import ApproximateGP\n",
    "from gpytorch.variational import VariationalStrategy, CholeskyVariationalDistribution\n",
    "from gpytorch.kernels import ScaleKernel, RBFKernel\n",
    "from gpytorch.means import ConstantMean\n",
    "from gpytorch.mlls import ExactMarginalLogLikelihood, VariationalELBO\n",
    "import matplotlib.ticker as ticker\n",
    "import matplotlib.tri as tri\n",
    "import matplotlib.font_manager as font_manager\n",
    "\n",
    "# check for MPS and CUDA device availability\n",
    "if torch.backends.mps.is_available():\n",
    "    device = torch.device(\"mps\")\n",
    "    print(\"MPS device found, setting as device.\")\n",
    "elif torch.cuda.is_available():\n",
    "    device = torch.device(\"cuda\")\n",
    "    print(\"CUDA device found, setting as device.\")\n",
    "else:\n",
    "    device = torch.device(\"cpu\")\n",
    "    print(\"Neither MPS nor CUDA device found. Using default device (CPU).\")\n",
    "\n",
    "\n",
    "# set the seed for all random use\n",
    "def set_seeds(seed):\n",
    "    np.random.seed(seed)\n",
    "    torch.manual_seed(seed)\n",
    "    torch.cuda.manual_seed_all(seed)\n",
    "    random.seed(seed)\n",
    "\n",
    "# Initial setup\n",
    "campaigns = 50\n",
    "num_initial_points = 5\n",
    "num_new_samples_per_iteration = 1\n",
    "\n",
    "class STP(gpytorch.models.ApproximateGP):\n",
    "    def __init__(self, inducing_points):\n",
    "        variational_distribution = gpytorch.variational.CholeskyVariationalDistribution(inducing_points.size(0))\n",
    "        variational_strategy = gpytorch.variational.VariationalStrategy(\n",
    "            self, inducing_points, variational_distribution, learn_inducing_locations=False\n",
    "        )\n",
    "        super().__init__(variational_strategy)\n",
    "        self.mean_module = gpytorch.means.ConstantMean()\n",
    "        self.covar_module = gpytorch.kernels.ScaleKernel(gpytorch.kernels.RBFKernel())\n",
    "\n",
    "    def forward(self, x):\n",
    "        mean_x = self.mean_module(x)\n",
    "        covar_x = self.covar_module(x)\n",
    "\n",
    "        return gpytorch.distributions.MultivariateNormal(mean_x, covar_x)\n",
    "\n",
    "class ExactGP(gpytorch.models.ExactGP):\n",
    "    def __init__(self, x_train, y_train, likelihood):\n",
    "        # build the model using the ExactGP model from gpytorch\n",
    "        super(ExactGP, self).__init__(x_train, y_train, likelihood)\n",
    "\n",
    "        # use a constant mean, this value can be learned from the dataset\n",
    "        self.mean_module = gpytorch.means.ConstantMean()\n",
    "\n",
    "        # automatically determine the number of dimensions for the ARD kernel\n",
    "        num_dimensions = x_train.shape[1]\n",
    "\n",
    "        # use a scaled Matern kernel, the ScaleKernel allows the kernel to learn a scale factor for the dataset\n",
    "        self.covar_module = gpytorch.kernels.ScaleKernel(\n",
    "            gpytorch.kernels.MaternKernel(nu=2.5,ard_num_dims=num_dimensions))\n",
    "            \n",
    "        # set the number of outputs \n",
    "        self.num_outputs = 1\n",
    "\n",
    "    def forward(self, x):\n",
    "        # forward pass of the model\n",
    "\n",
    "        # compute the mean and covariance of the model \n",
    "        mean_x = self.mean_module(x)\n",
    "        covar_x = self.covar_module(x)\n",
    "\n",
    "        # return the MultivariateNormal distribution of the mean and covariance \n",
    "        return gpytorch.distributions.MultivariateNormal(mean_x, covar_x)\n",
    "\n",
    "class VariationalGP(ApproximateGP):\n",
    "    def __init__(self, inducing_points):\n",
    "        variational_distribution = CholeskyVariationalDistribution(inducing_points.size(0))\n",
    "        variational_strategy = VariationalStrategy(self, inducing_points, variational_distribution, learn_inducing_locations=True)\n",
    "        super(VariationalGP, self).__init__(variational_strategy)\n",
    "        self.mean_module = ConstantMean()\n",
    "        self.covar_module = ScaleKernel(RBFKernel(ard_num_dims=inducing_points.size(1)))\n",
    "\n",
    "    def forward(self, x):\n",
    "        mean_x = self.mean_module(x)\n",
    "        covar_x = self.covar_module(x)\n",
    "        return gpytorch.distributions.MultivariateNormal(mean_x, covar_x)\n",
    "    \n",
    "class TorchStandardScaler:\n",
    "    def fit(self, x):\n",
    "        x = x.clone()\n",
    "        # calculate mean and std of the tensor\n",
    "        self.mean = x.mean(0, keepdim=True)\n",
    "        self.std = x.std(0, unbiased=False, keepdim=True)\n",
    "    def transform(self, x):\n",
    "        x = x.clone()\n",
    "        # standardize the tensor\n",
    "        x -= self.mean\n",
    "        x /= (self.std + 1e-10)\n",
    "        return x\n",
    "    def fit_transform(self, x):\n",
    "        # copy the tensor as to not modify the original \n",
    "        x = x.clone()\n",
    "        # calculate mean and std of the tensor\n",
    "        self.mean = x.mean(0, keepdim=True)\n",
    "        self.std = x.std(0, unbiased=False, keepdim=True)\n",
    "        # standardize the tensor\n",
    "        x -= self.mean\n",
    "        x /= (self.std + 1e-10)\n",
    "        return x\n",
    "    \n",
    "class TorchNormalizer:\n",
    "    def fit(self, x):\n",
    "        # calculate the maximum value and the minimum value of the tensor\n",
    "        self.max = torch.max(x, dim=0).values\n",
    "        self.min = torch.min(x, dim=0).values\n",
    "\n",
    "    def transform(self, x):\n",
    "        # normalize the tensor\n",
    "        return (x.clone() - self.min) / (self.max - self.min)\n",
    "\n",
    "    def fit_transform(self, x):\n",
    "        # calculate the maximum value and the minimum value of the tensor\n",
    "        self.max = torch.max(x, dim=0).values\n",
    "        self.min = torch.min(x, dim=0).values\n",
    "        # normalize the tensor\n",
    "        return (x.clone() - self.min) / (self.max - self.min)\n",
    "    \n",
    "# Upper Confidence Bound\n",
    "def UCB(mean, std, beta):\n",
    "    return mean + beta * std\n",
    "\n",
    "def LCB(mean, std, beta):\n",
    "    return mean - beta * std\n",
    "\n",
    "# Expected Improvement\n",
    "def EImin(mean, std, best_observed):\n",
    "    z = (best_observed - mean) / std\n",
    "    return (best_observed - mean) * torch.distributions.Normal(0, 1).cdf(z) + std * torch.distributions.Normal(0, 1).log_prob(z)\n",
    "\n",
    "def EImax(mean, std, best_observed):\n",
    "    z = (mean - best_observed) / std\n",
    "    return (mean - best_observed) * torch.distributions.Normal(0, 1).cdf(z) + std * torch.distributions.Normal(0, 1).log_prob(z)\n",
    "    \n",
    "\n",
    "maxDatasets = ['AutoAM', 'P3HT']\n",
    "minDatasets = ['Perovskite']"
   ]
  },
  {
   "cell_type": "markdown",
   "metadata": {},
   "source": [
    "# Student-T Process BO Loop"
   ]
  },
  {
   "cell_type": "code",
   "execution_count": 13,
   "metadata": {},
   "outputs": [],
   "source": [
    "\n",
    "def runMinSTP(seed):  \n",
    "    print(\"Minimizing with STP\") \n",
    "    set_seeds(seed)\n",
    "    iterationSTP = [0]\n",
    "    topSTP = [0]\n",
    "\n",
    "    # Calculate the threshold for the top 5%\n",
    "    top_5_percent_threshold = torch.quantile(train_y, 0.95)\n",
    "\n",
    "    # Identify indices of samples not in the top 5%\n",
    "    non_top_5_indices = (train_y < top_5_percent_threshold).nonzero(as_tuple=True)[0]\n",
    "\n",
    "    # Randomly sample from these non-top-5% indices\n",
    "    indicesSTP = torch.randperm(len(non_top_5_indices))[:num_initial_points]\n",
    "    indicesSTP = non_top_5_indices[indicesSTP]\n",
    "\n",
    "    # Select the corresponding points from train_x and train_y\n",
    "    train_xSTP = train_x[indicesSTP]\n",
    "    train_ySTP = train_y[indicesSTP]\n",
    "\n",
    "    print(f\"Seed: {seed}\")\n",
    "    print(f\"Initial points: {train_xSTP}\")\n",
    "        \n",
    "    while topSTP[-1] < 100:\n",
    "        iterationSTP.append(iterationSTP[-1] + 1)\n",
    "        # standardize the initial inputs and outputs before\n",
    "        train_xSTP = TorchStd.transform(train_xSTP)\n",
    "        train_ySTP = TorchStandardScaler().fit_transform(train_ySTP).flatten() # Ensure y is 1-dimensional\n",
    "        train_xSTP = TorchNorm.transform(train_xSTP)\n",
    "        train_ySTP = TorchNormalizer().fit_transform(train_ySTP).flatten() # Ensure y is 1-dimensional\n",
    "\n",
    "        #def train_and_test_approximate_gp(objective_function_cls):\n",
    "        model = STP(train_xSTP).to(dtype=torch.float64)\n",
    "        #likelihood = gpytorch.likelihoods.GaussianLikelihood()\n",
    "        likelihood = gpytorch.likelihoods.StudentTLikelihood()\n",
    "        objective_function = gpytorch.mlls.VariationalELBO(likelihood, model, num_data=train_ySTP.numel())\n",
    "        # replace with gpytorch mll\n",
    "        optimizer = torch.optim.Adam(list(model.parameters()) + list(likelihood.parameters()), lr=0.1)\n",
    "\n",
    "            \n",
    "\n",
    "        # Train\n",
    "        model.train()\n",
    "        #put it into training mode\n",
    "        likelihood.train()\n",
    "\n",
    "        for _ in range(50):\n",
    "            output = model(train_xSTP)\n",
    "            loss = -objective_function(output, train_ySTP)\n",
    "            loss.backward()\n",
    "            optimizer.step()\n",
    "            optimizer.zero_grad()\n",
    "                \n",
    "\n",
    "\n",
    "        # Test\n",
    "        model.eval()\n",
    "        likelihood.eval()\n",
    "\n",
    "        # works wtih the variational distribution\n",
    "        with gpytorch.settings.num_likelihood_samples(512):\n",
    "            observed_pred = likelihood(model(TorchStd.transform(train_x)))\n",
    "\n",
    "        samples = observed_pred.sample()\n",
    "\n",
    "\n",
    "        # use as inputs to EI\n",
    "        meanSTP = samples.mean(dim=0)\n",
    "        stdSTP = samples.std(dim=0)\n",
    "    \n",
    "            \n",
    "\n",
    "        # Select new points using UCB\n",
    "        acq_values = UCBmin(meanSTP, stdSTP, 1.96)\n",
    "        acq_values[indicesSTP] = float('inf')\n",
    "        indicesSTP = torch.cat([indicesSTP, acq_values.argmin().unsqueeze(0)])\n",
    "\n",
    "        # Convert new_indices to a tensor\n",
    "        # Add the new points to the training data\n",
    "        train_xSTP = train_x[indicesSTP]\n",
    "        train_ySTP = train_y[indicesSTP]\n",
    "        topSTP.append(TopSamplesAmnt(train_ySTP, top_samples)*100)\n",
    "\n",
    "\n",
    "        if iterationSTP[-1] > len(train_x) - num_initial_points:\n",
    "            print(\"Maximum number of iterations exceeded, breaking loop.\")\n",
    "            return topSTP, iterationSTP\n",
    "            break\n",
    "            \n",
    "    print(f'Iterations {iterationSTP[-1]}')\n",
    "    return topSTP, iterationSTP\n",
    "\n",
    "def runMaxSTP(seed):   \n",
    "    print(\"Maximizing with STP\")\n",
    "    set_seeds(seed)\n",
    "    iterationSTP = [0]\n",
    "    topSTP = [0]\n",
    "\n",
    "    # Calculate the threshold for the top 5%\n",
    "    top_5_percent_threshold = torch.quantile(train_y, 0.95)\n",
    "\n",
    "    # Identify indices of samples not in the top 5%\n",
    "    non_top_5_indices = (train_y < top_5_percent_threshold).nonzero(as_tuple=True)[0]\n",
    "\n",
    "    # Randomly sample from these non-top-5% indices\n",
    "    indicesSTP = torch.randperm(len(non_top_5_indices))[:num_initial_points]\n",
    "    indicesSTP = non_top_5_indices[indicesSTP]\n",
    "\n",
    "    # Select the corresponding points from train_x and train_y\n",
    "    train_xSTP = train_x[indicesSTP]\n",
    "    train_ySTP = train_y[indicesSTP]\n",
    "\n",
    "    print(f\"Seed: {seed}\")\n",
    "    print(f\"Initial points: {train_xSTP}\")\n",
    "        \n",
    "    while topSTP[-1] < 100:\n",
    "        iterationSTP.append(iterationSTP[-1] + 1)\n",
    "        # standardize the initial inputs and outputs before\n",
    "        train_xSTP = TorchStd.transform(train_xSTP)\n",
    "        train_ySTP = TorchStandardScaler().fit_transform(train_ySTP).flatten() # Ensure y is 1-dimensional\n",
    "        train_xSTP = TorchNorm.transform(train_xSTP)\n",
    "        train_ySTP = TorchNormalizer().fit_transform(train_ySTP).flatten() # Ensure y is 1-dimensional\n",
    "\n",
    "        #def train_and_test_approximate_gp(objective_function_cls):\n",
    "        model = STP(train_xSTP).to(dtype=torch.float64)\n",
    "        #likelihood = gpytorch.likelihoods.GaussianLikelihood()\n",
    "        likelihood = gpytorch.likelihoods.StudentTLikelihood()\n",
    "        objective_function = gpytorch.mlls.VariationalELBO(likelihood, model, num_data=train_ySTP.numel())\n",
    "        # replace with gpytorch mll\n",
    "        optimizer = torch.optim.Adam(list(model.parameters()) + list(likelihood.parameters()), lr=0.1)\n",
    "\n",
    "            \n",
    "\n",
    "        # Train\n",
    "        model.train()\n",
    "        #put it into training mode\n",
    "        likelihood.train()\n",
    "\n",
    "        for _ in range(50):\n",
    "            output = model(train_xSTP)\n",
    "            loss = -objective_function(output, train_ySTP)\n",
    "            loss.backward()\n",
    "            optimizer.step()\n",
    "            optimizer.zero_grad()\n",
    "                \n",
    "\n",
    "\n",
    "        # Test\n",
    "        model.eval()\n",
    "        likelihood.eval()\n",
    "\n",
    "        # works wtih the variational distribution\n",
    "        with gpytorch.settings.num_likelihood_samples(512):\n",
    "            pred = likelihood(model(TorchStd.transform(train_x)))\n",
    "\n",
    "        samples = pred.sample()\n",
    "        # use as inputs to UCB \n",
    "        meanSTP = samples.mean(dim=0)\n",
    "        stdSTP = samples.std(dim=0)\n",
    "\n",
    "            \n",
    "         # Select new points using UCB\n",
    "        acq_values = UCBmax(meanSTP, stdSTP, 1.96)\n",
    "        acq_values[indicesSTP] = -float('inf')\n",
    "        indicesSTP = torch.cat([indicesSTP, acq_values.argmax().unsqueeze(0)])\n",
    "\n",
    "        # Convert new_indices to a tensor\n",
    "        # Add the new points to the training data\n",
    "        train_xSTP = train_x[indicesSTP]\n",
    "        train_ySTP = train_y[indicesSTP]\n",
    "        \n",
    "        topSTP.append(TopSamplesAmnt(train_ySTP, top_samples)*100)\n",
    "        if iterationSTP[-1] > len(train_x) - num_initial_points:\n",
    "            print(\"Maximum number of iterations exceeded, breaking loop.\")\n",
    "            print(f\"Reached {topSTP[-1]}%\")\n",
    "            return topSTP, iterationSTP\n",
    "            break\n",
    "\n",
    "\n",
    "    print(f'Iterations {iterationSTP[-1]}')\n",
    "\n",
    "    return topSTP, iterationSTP"
   ]
  },
  {
   "cell_type": "markdown",
   "metadata": {},
   "source": [
    "# Exact GP BO Loop"
   ]
  },
  {
   "cell_type": "code",
   "execution_count": 14,
   "metadata": {},
   "outputs": [],
   "source": [
    "\n",
    "def runMinEGP(seed):\n",
    "    print(\"Minimizing with EGP\")\n",
    "    set_seeds(seed)    \n",
    "    iterationEGP = [0]\n",
    "    topEGP = [0]\n",
    "\n",
    "    indicesEGP = torch.randperm(total_samples)[:num_initial_points]\n",
    "\n",
    "    N = len(train_y) # Number of points you want to sample\n",
    "\n",
    "    # Calculate the threshold for the top 5%\n",
    "    top_5_percent_threshold = torch.quantile(train_y, 0.95)\n",
    "\n",
    "    # Identify indices of samples not in the top 5%\n",
    "    non_top_5_indices = (train_y < top_5_percent_threshold).nonzero(as_tuple=True)[0]\n",
    "\n",
    "    # Randomly sample from these non-top-5% indices\n",
    "    indicesEGP = torch.randperm(len(non_top_5_indices))[:num_initial_points]\n",
    "    indicesEGP = non_top_5_indices[indicesEGP]\n",
    "\n",
    "    # Select the corresponding points from train_x and train_y\n",
    "    train_xEGP = train_x[indicesEGP]\n",
    "    train_yEGP = train_y[indicesEGP]\n",
    "\n",
    "    print(f\"Seed: {seed}\")\n",
    "    print(f\"Initial points: {train_xEGP}\")\n",
    "    \n",
    "    iterationEGP = [0]\n",
    "    while topEGP[-1] < 100:\n",
    "        iterationEGP.append(iterationEGP[-1] + 1)\n",
    "        # standardize the initial inputs and outputs before\n",
    "        train_xEGP = TorchStd.transform(train_xEGP)\n",
    "        train_yEGP = TorchStandardScaler().fit_transform(train_yEGP).flatten()\n",
    "        train_xEGP = TorchNorm.transform(train_xEGP)\n",
    "        train_yEGP = TorchNormalizer().fit_transform(train_yEGP).flatten() #\n",
    "\n",
    "        # optimize the model\n",
    "        # use a half normal prior for the noise to find a Gaussian likelihood\n",
    "        likelihood = GaussianLikelihood(noise_prior=gpytorch.priors.HalfNormalPrior(0.01))\n",
    "\n",
    "        # using the found likelihood, create a GP model\n",
    "        gp = ExactGP(train_xEGP, train_yEGP, likelihood)\n",
    "        mll = gpytorch.mlls.ExactMarginalLogLikelihood(likelihood, gp)\n",
    "\n",
    "        # fit the model by maximizing the marginal log likelihood\n",
    "        gp.train()\n",
    "        likelihood.train()\n",
    "        fit_gpytorch_mll(mll)\n",
    "\n",
    "        gp.eval()\n",
    "        likelihood.eval()\n",
    "\n",
    "        # predict from candidate pool\n",
    "        with torch.no_grad():\n",
    "            pred = gp(TorchStd.transform(train_x)) # predict values for all candidates\n",
    "\n",
    "        meanEGP = pred.mean\n",
    "        stdEGP = pred.stddev\n",
    "        \n",
    "\n",
    "        # pass the predictions through an acquisition function to find the next best point to sample\n",
    "        acq_values = UCBmin(meanEGP, stdEGP, 1.96)\n",
    "        acq_values[indicesEGP] = float('inf')\n",
    "        indicesEGP = torch.cat([indicesEGP, acq_values.argmin().unsqueeze(0)])\n",
    "        \n",
    "\n",
    "        # add the new point to the training data\n",
    "        train_xEGP = train_x[indicesEGP]\n",
    "        train_yEGP = train_y[indicesEGP]\n",
    "        topEGP.append(TopSamplesAmnt(train_yEGP, top_samples)*100)\n",
    "        \n",
    "        if iterationEGP[-1] > len(train_x) - num_initial_points:\n",
    "            print(\"Maximum number of iterations exceeded, breaking loop.\")\n",
    "            return topEGP, iterationEGP\n",
    "            break\n",
    "\n",
    "    print(f'Iterations {iterationEGP[-1]}')\n",
    "    return topEGP, iterationEGP\n",
    "\n",
    "def runMaxEGP(seed):\n",
    "    print(\"Maximizing with EGP\")\n",
    "    set_seeds(seed)    \n",
    "    iterationEGP = [0]\n",
    "    topEGP = [0]\n",
    "        # Assuming train_x and train_y are your datasets\n",
    "    N = len(train_y) # Number of points you want to sample\n",
    "\n",
    "    # Calculate the threshold for the top 5%\n",
    "    top_5_percent_threshold = torch.quantile(train_y, 0.95)\n",
    "\n",
    "    # Identify indices of samples not in the top 5%\n",
    "    non_top_5_indices = (train_y < top_5_percent_threshold).nonzero(as_tuple=True)[0]\n",
    "\n",
    "    # Randomly sample from these non-top-5% indices\n",
    "    indicesEGP = torch.randperm(len(non_top_5_indices))[:num_initial_points]\n",
    "    indicesEGP = non_top_5_indices[indicesEGP]\n",
    "\n",
    "    # Select the corresponding points from train_x and train_y\n",
    "    train_xEGP = train_x[indicesEGP]\n",
    "    train_yEGP = train_y[indicesEGP]\n",
    "\n",
    "    print(f\"Seed: {seed}\")\n",
    "    print(f\"Initial points: {train_xEGP}\")\n",
    "\n",
    "    while topEGP[-1] < 100:\n",
    "        iterationEGP.append(iterationEGP[-1] + 1)\n",
    "        # standardize the initial inputs and outputs before\n",
    "        train_xEGP = TorchStd.transform(train_xEGP)\n",
    "        train_yEGP = TorchStandardScaler().fit_transform(train_yEGP).flatten()\n",
    "        train_xEGP = TorchNorm.transform(train_xEGP)\n",
    "        train_yEGP = TorchNormalizer().fit_transform(train_yEGP).flatten() #\n",
    "\n",
    "        # optimize the model\n",
    "        # use a half normal prior for the noise to find a Gaussian likelihood\n",
    "        likelihood = GaussianLikelihood(noise_prior=gpytorch.priors.HalfNormalPrior(0.01))\n",
    "\n",
    "        # using the found likelihood, create a GP model\n",
    "        gp = ExactGP(train_xEGP, train_yEGP, likelihood)\n",
    "        mll = gpytorch.mlls.ExactMarginalLogLikelihood(likelihood, gp)\n",
    "\n",
    "        # fit the model by maximizing the marginal log likelihood\n",
    "        gp.train()\n",
    "        likelihood.train()\n",
    "        fit_gpytorch_mll(mll)\n",
    "\n",
    "        gp.eval()\n",
    "        likelihood.eval()\n",
    "\n",
    "        # predict from candidate pool\n",
    "        with torch.no_grad():\n",
    "            pred = gp(TorchStd.transform(train_x)) # predict values for all candidates\n",
    "\n",
    "        meanEGP = pred.mean\n",
    "        stdEGP = pred.stddev\n",
    "    \n",
    "\n",
    "        # pass the predictions through an acquisition function to find the next best point to sample\n",
    "        acq_values = UCBmax(meanEGP, stdEGP, 1.96)\n",
    "        acq_values[indicesEGP] = -float('inf')\n",
    "        indicesEGP = torch.cat([indicesEGP, acq_values.argmax().unsqueeze(0)])\n",
    "        \n",
    "        # add the new point to the training data\n",
    "        train_xEGP = train_x[indicesEGP]\n",
    "        train_yEGP = train_y[indicesEGP]\n",
    "        topEGP.append(TopSamplesAmnt(train_yEGP, top_samples)*100)\n",
    "        \n",
    "        if iterationEGP[-1] > len(train_x) - num_initial_points:\n",
    "            print(f\"Reached {topEGP[-1]}%\")\n",
    "            print(\"Maximum number of iterations exceeded, breaking loop.\")\n",
    "            return topEGP, iterationEGP\n",
    "            break\n",
    "\n",
    "    \n",
    "    print(f'Iterations {iterationEGP[-1]}')\n",
    "\n",
    "    return topEGP, iterationEGP"
   ]
  },
  {
   "cell_type": "markdown",
   "metadata": {},
   "source": [
    "# Variational GP BO Loop"
   ]
  },
  {
   "cell_type": "code",
   "execution_count": 15,
   "metadata": {},
   "outputs": [],
   "source": [
    "\n",
    "def runMinVGP(seed):    \n",
    "    print(\"Minimizing with VGP\")\n",
    "    set_seeds(seed)\n",
    "    iterationVGP = [0]\n",
    "    topVGP = [0]\n",
    "\n",
    "    # Calculate the threshold for the top 5%\n",
    "    top_5_percent_threshold = torch.quantile(train_y, 0.95)\n",
    "\n",
    "    # Identify indices of samples not in the top 5%\n",
    "    non_top_5_indices = (train_y < top_5_percent_threshold).nonzero(as_tuple=True)[0]\n",
    "\n",
    "    # Randomly sample from these non-top-5% indices\n",
    "    indicesVGP = torch.randperm(len(non_top_5_indices))[:num_initial_points]\n",
    "    indicesVGP = non_top_5_indices[indicesVGP]\n",
    "\n",
    "    # Select the corresponding points from train_x and train_y\n",
    "    train_xVGP = train_x[indicesVGP]\n",
    "    train_yVGP = train_y[indicesVGP]\n",
    "\n",
    "    print(f\"Seed: {seed}\")\n",
    "    print(f\"Initial points: {train_xVGP}\")\n",
    "    \n",
    "    while topVGP[-1] < 100:\n",
    "        \n",
    "        iterationVGP.append(iterationVGP[-1] + 1)\n",
    "        # standardize the initial inputs and outputs before\n",
    "        train_xVGP = TorchStd.transform(train_xVGP)\n",
    "        train_yVGP = TorchStandardScaler().fit_transform(train_yVGP).flatten()\n",
    "        train_xVGP = TorchNorm.transform(train_xVGP)\n",
    "        train_yVGP = TorchNormalizer().fit_transform(train_yVGP).flatten() #\n",
    "\n",
    "        #def train_and_test_approximate_gp(objective_function_cls):\n",
    "        model = VariationalGP(train_xVGP).to(dtype=torch.float64)\n",
    "\n",
    "        likelihood = GaussianLikelihood()\n",
    "        objective_function = gpytorch.mlls.VariationalELBO(likelihood, model, num_data=train_yVGP.numel())\n",
    "        # replace with gpytorch mll\n",
    "        optimizer = torch.optim.Adam(list(model.parameters()) + list(likelihood.parameters()), lr=0.1)\n",
    "\n",
    "        # Train\n",
    "        model.train()\n",
    "        #put it into training mode\n",
    "        likelihood.train()\n",
    "\n",
    "        for _ in range(50):\n",
    "            output = model(train_xVGP)\n",
    "            loss = -objective_function(output, train_yVGP)\n",
    "            loss.backward()\n",
    "            optimizer.step()\n",
    "            optimizer.zero_grad()\n",
    "            \n",
    "        # Test\n",
    "        model.eval()\n",
    "        likelihood.eval()\n",
    "\n",
    "        # works wtih the variational distribution\n",
    "        with torch.no_grad():\n",
    "            pred = model(TorchStd.transform(train_x))\n",
    "\n",
    "\n",
    "        # get the mean and standard deviation of the samples\n",
    "        meanVGP = pred.mean\n",
    "        stdVGP = pred.stddev\n",
    "\n",
    "\n",
    "        # Select new points using UCB\n",
    "        acq_values = UCBmin(meanVGP, stdVGP, 1.96)\n",
    "        acq_values[indicesVGP] = float('inf')\n",
    "        indicesVGP = torch.cat([indicesVGP, acq_values.argmin().unsqueeze(0)])\n",
    "\n",
    "\n",
    "        # Convert new_indices to a tensor\n",
    "        # Add the new points to the training data\n",
    "        train_xVGP = train_x[indicesVGP]\n",
    "        train_yVGP = train_y[indicesVGP]\n",
    "        topVGP.append(TopSamplesAmnt(train_yVGP, top_samples)*100)\n",
    "\n",
    "        if iterationVGP[-1] > len(train_x) - num_initial_points:\n",
    "            print(\"Maximum number of iterations exceeded, breaking loop.\")\n",
    "            print(f\"Reached {topVGP[-1]}%\")\n",
    "            return topVGP, iterationVGP\n",
    "            break\n",
    "\n",
    "    \n",
    "    print(f'Iterations {iterationVGP[-1]}')\n",
    "\n",
    "    return topVGP, iterationVGP\n",
    "    \n",
    "def runMaxVGP(seed):   \n",
    "\n",
    "\n",
    "    \n",
    "    print(\"Maximizing with VGP\") \n",
    "    set_seeds(seed)\n",
    "    iterationVGP = [0]\n",
    "    topVGP = [0]\n",
    "\n",
    "    # Calculate the threshold for the top 5%\n",
    "    top_5_percent_threshold = torch.quantile(train_y, 0.95)\n",
    "\n",
    "    # Identify indices of samples not in the top 5%\n",
    "    non_top_5_indices = (train_y < top_5_percent_threshold).nonzero(as_tuple=True)[0]\n",
    "\n",
    "    # Randomly sample from these non-top-5% indices\n",
    "    indicesVGP = torch.randperm(len(non_top_5_indices))[:num_initial_points]\n",
    "    indicesVGP = non_top_5_indices[indicesVGP]\n",
    "\n",
    "    # Select the corresponding points from train_x and train_y\n",
    "    train_xVGP = train_x[indicesVGP]\n",
    "    train_yVGP = train_y[indicesVGP]\n",
    "    print(f\"Seed: {seed}\")\n",
    "    print(f\"Initial points: {train_xVGP}\")\n",
    "    \n",
    "    \n",
    "    while topVGP[-1] < 100:\n",
    "        \n",
    "        iterationVGP.append(iterationVGP[-1] + 1)\n",
    "        # standardize the initial inputs and outputs before\n",
    "        train_xVGP = TorchStd.transform(train_xVGP)\n",
    "        train_yVGP = TorchStandardScaler().fit_transform(train_yVGP).flatten()\n",
    "        train_xVGP = TorchNorm.transform(train_xVGP)\n",
    "        train_yVGP = TorchNormalizer().fit_transform(train_yVGP).flatten() #\n",
    "        #def train_and_test_approximate_gp(objective_function_cls):\n",
    "        model = VariationalGP(train_xVGP).to(dtype=torch.float64)\n",
    "\n",
    "        likelihood = GaussianLikelihood()\n",
    "        objective_function = gpytorch.mlls.VariationalELBO(likelihood, model, num_data=train_yVGP.numel())\n",
    "        # replace with gpytorch mll\n",
    "        optimizer = torch.optim.Adam(list(model.parameters()) + list(likelihood.parameters()), lr=0.1)\n",
    "\n",
    "        # Train\n",
    "        model.train()\n",
    "        #put it into training mode\n",
    "        likelihood.train()\n",
    "\n",
    "        for _ in range(50):\n",
    "            output = model(train_xVGP)\n",
    "            loss = -objective_function(output, train_yVGP)\n",
    "            loss.backward()\n",
    "            optimizer.step()\n",
    "            optimizer.zero_grad()\n",
    "            \n",
    "        # Test\n",
    "        model.eval()\n",
    "        likelihood.eval()\n",
    "\n",
    "        # predict from candidate pool\n",
    "        with torch.no_grad():\n",
    "            pred = model(TorchStd.transform(train_x))\n",
    "\n",
    "        # find the mean and standard deviation of the preidictions\n",
    "        meanVGP = pred.mean\n",
    "        stdVGP = pred.stddev\n",
    "      \n",
    "\n",
    "        # Select new points using UCB\n",
    "        acq_values = UCBmax(meanVGP, stdVGP, 1.96)\n",
    "        acq_values[indicesVGP] = -float('inf')\n",
    "        indicesVGP = torch.cat([indicesVGP, acq_values.argmax().unsqueeze(0)])\n",
    "\n",
    "        # Convert new_indices to a tensor\n",
    "        # Add the new points to the training data\n",
    "        train_xVGP = train_x[indicesVGP]\n",
    "        train_yVGP = train_y[indicesVGP]\n",
    "        topVGP.append(TopSamplesAmnt(train_yVGP, top_samples)*100)\n",
    "\n",
    "        if iterationVGP[-1] > len(train_x) - num_initial_points:\n",
    "            print(\"Maximum number of iterations exceeded, breaking loop.\")\n",
    "            print(f\"Reached {topVGP[-1]}%\")\n",
    "            return topVGP, iterationVGP\n",
    "            break\n",
    "\n",
    "    print(f'Iterations {iterationVGP[-1]}')\n",
    "\n",
    "    return topVGP, iterationVGP\n"
   ]
  },
  {
   "cell_type": "markdown",
   "metadata": {},
   "source": [
    "# Maximum Test"
   ]
  },
  {
   "cell_type": "code",
   "execution_count": 16,
   "metadata": {},
   "outputs": [
    {
     "name": "stderr",
     "output_type": "stream",
     "text": [
      "<string>:7: SyntaxWarning: invalid escape sequence '\\{'\n",
      "<>:7: SyntaxWarning: invalid escape sequence '\\{'\n",
      "<string>:7: SyntaxWarning: invalid escape sequence '\\{'\n",
      "<>:7: SyntaxWarning: invalid escape sequence '\\{'\n",
      "C:\\Users\\stan\\AppData\\Local\\Temp\\ipykernel_65552\\2879416928.py:7: SyntaxWarning: invalid escape sequence '\\{'\n",
      "  data = pd.read_csv(f\"datasets\\{dataset}_dataset.csv\")\n"
     ]
    },
    {
     "name": "stdout",
     "output_type": "stream",
     "text": [
      "Starting AutoAM\n",
      "Number of samples: 85\n",
      "Number of of top 5% samples: 5\n",
      "Top 5% samples: [0.936549, 0.932613, 0.92212, 0.904846, 0.902128]\n"
     ]
    },
    {
     "name": "stderr",
     "output_type": "stream",
     "text": [
      "  0%|          | 0/50 [00:00<?, ?it/s]"
     ]
    },
    {
     "name": "stdout",
     "output_type": "stream",
     "text": [
      "Maximizing with STP\n",
      "Seed: 654\n",
      "Initial points: tensor([[ 3.7934,  6.3214, -0.3911, -1.0000],\n",
      "        [ 0.0000,  2.4295, -0.2861, -0.1720],\n",
      "        [ 0.0000,  3.1775, -0.2716, -0.0639],\n",
      "        [ 1.7240,  4.1278, -0.3176, -0.5578],\n",
      "        [ 0.0000,  3.1974, -0.2930, -0.0577]], dtype=torch.float64)\n"
     ]
    },
    {
     "name": "stderr",
     "output_type": "stream",
     "text": [
      "  2%|▏         | 1/50 [00:11<09:06, 11.15s/it]"
     ]
    },
    {
     "name": "stdout",
     "output_type": "stream",
     "text": [
      "Iterations 38\n",
      "Maximizing with STP\n",
      "Seed: 114\n",
      "Initial points: tensor([[ 2.5684,  4.1282, -0.5554, -1.0000],\n",
      "        [ 2.2161,  0.1000, -0.3517, -0.6288],\n",
      "        [ 0.0000,  3.0434, -0.2217,  0.0858],\n",
      "        [ 0.0000,  2.0191, -0.3103, -0.2361],\n",
      "        [ 0.0000,  4.0745, -0.3206, -1.0000]], dtype=torch.float64)\n"
     ]
    },
    {
     "name": "stderr",
     "output_type": "stream",
     "text": [
      "  4%|▍         | 2/50 [00:22<08:50, 11.06s/it]"
     ]
    },
    {
     "name": "stdout",
     "output_type": "stream",
     "text": [
      "Iterations 38\n",
      "Maximizing with STP\n",
      "Seed: 25\n",
      "Initial points: tensor([[ 0.0000e+00,  3.3837e+00, -3.1714e-01,  7.9208e-03],\n",
      "        [ 3.7044e+00,  1.0000e+01, -3.1670e-01, -1.0000e+00],\n",
      "        [ 2.6662e+00,  3.4044e+00, -3.2334e-01, -1.0000e+00],\n",
      "        [ 5.0000e+00,  1.0000e-01, -2.2501e-01, -1.0000e+00],\n",
      "        [ 5.0000e+00,  4.5458e+00, -4.5406e-01, -1.0000e+00]],\n",
      "       dtype=torch.float64)\n"
     ]
    },
    {
     "name": "stderr",
     "output_type": "stream",
     "text": [
      "  6%|▌         | 3/50 [00:38<10:25, 13.31s/it]"
     ]
    },
    {
     "name": "stdout",
     "output_type": "stream",
     "text": [
      "Iterations 54\n",
      "Maximizing with STP\n",
      "Seed: 759\n",
      "Initial points: tensor([[ 0.0000,  0.1000, -0.3833, -0.0260],\n",
      "        [ 5.0000,  4.5458, -0.4541, -1.0000],\n",
      "        [ 5.0000,  5.0000, -0.1000, -0.1000],\n",
      "        [ 0.9915,  3.3743, -0.2587, -0.4005],\n",
      "        [ 0.0000,  3.1669, -0.3151, -0.3476]], dtype=torch.float64)\n"
     ]
    },
    {
     "name": "stderr",
     "output_type": "stream",
     "text": [
      "  8%|▊         | 4/50 [00:48<09:09, 11.95s/it]"
     ]
    },
    {
     "name": "stdout",
     "output_type": "stream",
     "text": [
      "Iterations 34\n",
      "Maximizing with STP\n",
      "Seed: 281\n",
      "Initial points: tensor([[ 0.0000,  2.5903, -0.2736, -0.1288],\n",
      "        [ 0.7424,  1.7146, -0.3803, -0.4165],\n",
      "        [ 0.0000,  2.0191, -0.3103, -0.2361],\n",
      "        [ 0.0000,  0.1000, -0.3998,  1.0000],\n",
      "        [ 0.0000,  0.1000, -0.8373, -1.0000]], dtype=torch.float64)\n"
     ]
    },
    {
     "name": "stderr",
     "output_type": "stream",
     "text": [
      " 10%|█         | 5/50 [01:11<12:05, 16.13s/it]"
     ]
    },
    {
     "name": "stdout",
     "output_type": "stream",
     "text": [
      "Iterations 77\n",
      "Maximizing with STP\n",
      "Seed: 250\n",
      "Initial points: tensor([[ 5.0000, 10.0000, -0.0304, -1.0000],\n",
      "        [ 0.0000,  0.1000, -0.3833, -0.0260],\n",
      "        [ 2.6662,  3.4044, -0.3233, -1.0000],\n",
      "        [ 5.0000,  6.4638, -0.4718, -0.5640],\n",
      "        [ 0.9915,  3.3743, -0.2587, -0.4005]], dtype=torch.float64)\n"
     ]
    },
    {
     "name": "stderr",
     "output_type": "stream",
     "text": [
      " 12%|█▏        | 6/50 [01:20<10:06, 13.79s/it]"
     ]
    },
    {
     "name": "stdout",
     "output_type": "stream",
     "text": [
      "Iterations 32\n",
      "Maximizing with STP\n",
      "Seed: 228\n",
      "Initial points: tensor([[ 3.5559,  6.5677, -0.4093, -1.0000],\n",
      "        [ 1.4521,  4.7555, -0.2764, -1.0000],\n",
      "        [ 0.0000,  0.1000, -0.2270, -0.2032],\n",
      "        [ 0.0000,  0.4773,  0.0410,  0.1919],\n",
      "        [ 0.0000,  8.0179, -0.2473, -0.2150]], dtype=torch.float64)\n"
     ]
    },
    {
     "name": "stderr",
     "output_type": "stream",
     "text": [
      " 14%|█▍        | 7/50 [01:28<08:27, 11.80s/it]"
     ]
    },
    {
     "name": "stdout",
     "output_type": "stream",
     "text": [
      "Iterations 27\n",
      "Maximizing with STP\n",
      "Seed: 142\n",
      "Initial points: tensor([[ 5.0000,  4.5458, -0.4541, -1.0000],\n",
      "        [ 0.9915,  3.3743, -0.2587, -0.4005],\n",
      "        [ 0.0000,  3.3212, -0.1959, -0.1870],\n",
      "        [ 0.0000,  0.1000, -0.2634, -1.0000],\n",
      "        [ 0.0000,  3.1775, -0.2716, -0.0639]], dtype=torch.float64)\n"
     ]
    },
    {
     "name": "stderr",
     "output_type": "stream",
     "text": [
      " 16%|█▌        | 8/50 [01:51<10:51, 15.50s/it]"
     ]
    },
    {
     "name": "stdout",
     "output_type": "stream",
     "text": [
      "Iterations 77\n",
      "Maximizing with STP\n",
      "Seed: 754\n",
      "Initial points: tensor([[ 0.0000,  1.8801, -0.4446, -0.1116],\n",
      "        [ 0.0000,  3.0434, -0.2217,  0.0858],\n",
      "        [ 0.0000,  3.4039, -0.3961, -0.5694],\n",
      "        [ 0.0000,  3.1790, -0.2991, -0.0796],\n",
      "        [ 5.0000,  0.1000,  0.1965, -1.0000]], dtype=torch.float64)\n"
     ]
    },
    {
     "name": "stderr",
     "output_type": "stream",
     "text": [
      " 18%|█▊        | 9/50 [02:01<09:22, 13.72s/it]"
     ]
    },
    {
     "name": "stdout",
     "output_type": "stream",
     "text": [
      "Iterations 34\n",
      "Maximizing with STP\n",
      "Seed: 104\n",
      "Initial points: tensor([[ 5.0000,  5.0000, -0.1000, -0.1000],\n",
      "        [ 5.0000,  1.7701, -0.7340, -1.0000],\n",
      "        [ 1.0785,  3.8093, -0.4061, -0.2996],\n",
      "        [ 3.5559,  6.5677, -0.4093, -1.0000],\n",
      "        [ 3.4858,  5.9210, -0.2205, -1.0000]], dtype=torch.float64)\n"
     ]
    },
    {
     "name": "stderr",
     "output_type": "stream",
     "text": [
      " 20%|██        | 10/50 [02:12<08:28, 12.71s/it]"
     ]
    },
    {
     "name": "stdout",
     "output_type": "stream",
     "text": [
      "Iterations 36\n",
      "Maximizing with STP\n",
      "Seed: 692\n",
      "Initial points: tensor([[ 0.0000,  3.4102, -0.1820, -0.2266],\n",
      "        [ 5.0000,  1.7701, -0.7340, -1.0000],\n",
      "        [ 5.0000,  5.0000, -0.1000, -0.1000],\n",
      "        [ 0.0000,  0.1000, -0.2270, -0.2032],\n",
      "        [ 0.0000,  6.3258, -0.2227,  1.0000]], dtype=torch.float64)\n"
     ]
    },
    {
     "name": "stderr",
     "output_type": "stream",
     "text": [
      " 22%|██▏       | 11/50 [02:24<08:06, 12.48s/it]"
     ]
    },
    {
     "name": "stdout",
     "output_type": "stream",
     "text": [
      "Iterations 41\n",
      "Maximizing with STP\n",
      "Seed: 758\n",
      "Initial points: tensor([[ 5.0000,  4.5458, -0.4541, -1.0000],\n",
      "        [ 0.0000,  0.1000, -0.5623, -1.0000],\n",
      "        [ 0.0000,  1.0000,  0.0000,  0.0000],\n",
      "        [ 3.9816,  9.5154, -0.5785, -1.0000],\n",
      "        [ 5.0000,  0.1000, -0.2250, -1.0000]], dtype=torch.float64)\n"
     ]
    },
    {
     "name": "stderr",
     "output_type": "stream",
     "text": [
      " 24%|██▍       | 12/50 [02:47<09:58, 15.76s/it]"
     ]
    },
    {
     "name": "stdout",
     "output_type": "stream",
     "text": [
      "Iterations 76\n",
      "Maximizing with STP\n",
      "Seed: 913\n",
      "Initial points: tensor([[ 0.0000, 10.0000,  0.0697, -1.0000],\n",
      "        [ 2.0609,  5.4800,  0.0944,  0.1017],\n",
      "        [ 0.0000,  1.0000,  0.0000,  0.0000],\n",
      "        [ 3.8362,  0.1000, -0.5153, -1.0000],\n",
      "        [ 0.0000,  3.4102, -0.1820, -0.2266]], dtype=torch.float64)\n"
     ]
    },
    {
     "name": "stderr",
     "output_type": "stream",
     "text": [
      " 26%|██▌       | 13/50 [02:57<08:36, 13.95s/it]"
     ]
    },
    {
     "name": "stdout",
     "output_type": "stream",
     "text": [
      "Iterations 34\n",
      "Maximizing with STP\n",
      "Seed: 558\n",
      "Initial points: tensor([[ 5.0000,  0.1000, -0.2250, -1.0000],\n",
      "        [ 5.0000,  8.5632, -0.3571, -1.0000],\n",
      "        [ 3.5559,  6.5677, -0.4093, -1.0000],\n",
      "        [ 2.6662,  3.4044, -0.3233, -1.0000],\n",
      "        [ 0.0371,  0.8939, -0.0352,  0.0479]], dtype=torch.float64)\n"
     ]
    },
    {
     "name": "stderr",
     "output_type": "stream",
     "text": [
      " 28%|██▊       | 14/50 [03:20<10:06, 16.85s/it]"
     ]
    },
    {
     "name": "stdout",
     "output_type": "stream",
     "text": [
      "Iterations 77\n",
      "Maximizing with STP\n",
      "Seed: 89\n",
      "Initial points: tensor([[ 0.0000,  3.4039, -0.3961, -0.5694],\n",
      "        [ 0.0000,  1.5957, -0.3206, -0.4308],\n",
      "        [ 0.0000,  0.1000, -0.3998,  1.0000],\n",
      "        [ 0.0000,  2.5903, -0.2736, -0.1288],\n",
      "        [ 0.0000,  3.2952, -0.2010, -0.1887]], dtype=torch.float64)\n"
     ]
    },
    {
     "name": "stderr",
     "output_type": "stream",
     "text": [
      " 30%|███       | 15/50 [03:29<08:23, 14.39s/it]"
     ]
    },
    {
     "name": "stdout",
     "output_type": "stream",
     "text": [
      "Iterations 30\n",
      "Maximizing with STP\n",
      "Seed: 604\n",
      "Initial points: tensor([[ 2.6662,  3.4044, -0.3233, -1.0000],\n",
      "        [ 3.7044, 10.0000, -0.3167, -1.0000],\n",
      "        [ 0.0000,  3.1790, -0.2991, -0.0796],\n",
      "        [ 0.0000,  2.3259, -0.2947, -0.1951],\n",
      "        [ 1.7240,  4.1278, -0.3176, -0.5578]], dtype=torch.float64)\n"
     ]
    },
    {
     "name": "stderr",
     "output_type": "stream",
     "text": [
      " 32%|███▏      | 16/50 [03:39<07:25, 13.09s/it]"
     ]
    },
    {
     "name": "stdout",
     "output_type": "stream",
     "text": [
      "Iterations 34\n",
      "Maximizing with STP\n",
      "Seed: 432\n",
      "Initial points: tensor([[ 0.0000,  0.1000, -0.1540, -0.6338],\n",
      "        [ 5.0000,  5.1008, -0.3230, -1.0000],\n",
      "        [ 0.0000,  1.5680, -0.3353, -0.3658],\n",
      "        [ 3.5802,  7.8585, -0.3792, -1.0000],\n",
      "        [ 0.0000,  3.2714, -0.2151, -0.1070]], dtype=torch.float64)\n"
     ]
    },
    {
     "name": "stderr",
     "output_type": "stream",
     "text": [
      " 34%|███▍      | 17/50 [03:48<06:34, 11.95s/it]"
     ]
    },
    {
     "name": "stdout",
     "output_type": "stream",
     "text": [
      "Iterations 32\n",
      "Maximizing with STP\n",
      "Seed: 32\n",
      "Initial points: tensor([[ 0.0000,  3.3556, -0.2666, -0.4412],\n",
      "        [ 0.0000,  6.3258, -0.2227,  1.0000],\n",
      "        [ 0.7424,  1.7146, -0.3803, -0.4165],\n",
      "        [ 0.0000,  2.5215, -0.2784, -0.1474],\n",
      "        [ 0.0000,  3.3837, -0.3171,  0.0079]], dtype=torch.float64)\n"
     ]
    },
    {
     "name": "stderr",
     "output_type": "stream",
     "text": [
      " 36%|███▌      | 18/50 [03:57<05:51, 10.99s/it]"
     ]
    },
    {
     "name": "stdout",
     "output_type": "stream",
     "text": [
      "Iterations 30\n",
      "Maximizing with STP\n",
      "Seed: 30\n",
      "Initial points: tensor([[ 5.0000,  4.5458, -0.4541, -1.0000],\n",
      "        [ 5.0000,  5.1008, -0.3230, -1.0000],\n",
      "        [ 0.0000,  0.1000, -0.5623, -1.0000],\n",
      "        [ 2.1384,  0.1000, -0.4647, -1.0000],\n",
      "        [ 0.0000,  3.0434, -0.2217,  0.0858]], dtype=torch.float64)\n"
     ]
    },
    {
     "name": "stderr",
     "output_type": "stream",
     "text": [
      " 38%|███▊      | 19/50 [04:21<07:38, 14.78s/it]"
     ]
    },
    {
     "name": "stdout",
     "output_type": "stream",
     "text": [
      "Iterations 77\n",
      "Maximizing with STP\n",
      "Seed: 95\n",
      "Initial points: tensor([[ 0.0000,  2.5215, -0.2784, -0.1474],\n",
      "        [ 5.0000,  0.1000, -0.2250, -1.0000],\n",
      "        [ 3.5559,  6.5677, -0.4093, -1.0000],\n",
      "        [ 5.0000,  4.5458, -0.4541, -1.0000],\n",
      "        [ 0.0000,  2.2215, -0.3013, -0.2119]], dtype=torch.float64)\n"
     ]
    },
    {
     "name": "stderr",
     "output_type": "stream",
     "text": [
      " 40%|████      | 20/50 [04:31<06:39, 13.32s/it]"
     ]
    },
    {
     "name": "stdout",
     "output_type": "stream",
     "text": [
      "Iterations 34\n",
      "Maximizing with STP\n",
      "Seed: 223\n",
      "Initial points: tensor([[ 5.0000, 10.0000, -0.0304, -1.0000],\n",
      "        [ 0.0000,  3.1669, -0.3151, -0.3476],\n",
      "        [ 3.7934,  6.3214, -0.3911, -1.0000],\n",
      "        [ 0.0000,  0.1000, -0.3998,  1.0000],\n",
      "        [ 0.0000,  3.4039, -0.3961, -0.5694]], dtype=torch.float64)\n"
     ]
    },
    {
     "name": "stderr",
     "output_type": "stream",
     "text": [
      " 42%|████▏     | 21/50 [04:41<06:01, 12.47s/it]"
     ]
    },
    {
     "name": "stdout",
     "output_type": "stream",
     "text": [
      "Iterations 36\n",
      "Maximizing with STP\n",
      "Seed: 238\n",
      "Initial points: tensor([[ 0.0000,  0.1000, -0.8373, -1.0000],\n",
      "        [ 3.7934,  6.3214, -0.3911, -1.0000],\n",
      "        [ 5.0000,  0.1000,  0.1965, -1.0000],\n",
      "        [ 1.4521,  4.7555, -0.2764, -1.0000],\n",
      "        [ 1.7240,  4.1278, -0.3176, -0.5578]], dtype=torch.float64)\n"
     ]
    },
    {
     "name": "stderr",
     "output_type": "stream",
     "text": [
      " 44%|████▍     | 22/50 [04:52<05:39, 12.14s/it]"
     ]
    },
    {
     "name": "stdout",
     "output_type": "stream",
     "text": [
      "Iterations 39\n",
      "Maximizing with STP\n",
      "Seed: 517\n",
      "Initial points: tensor([[ 5.0000,  0.1000,  0.1965, -1.0000],\n",
      "        [ 3.4858,  5.9210, -0.2205, -1.0000],\n",
      "        [ 5.0000,  4.5458, -0.4541, -1.0000],\n",
      "        [ 0.0000,  1.0000,  0.0000,  0.0000],\n",
      "        [ 0.0000,  4.0745, -0.3206, -1.0000]], dtype=torch.float64)\n"
     ]
    },
    {
     "name": "stderr",
     "output_type": "stream",
     "text": [
      " 46%|████▌     | 23/50 [05:01<04:59, 11.08s/it]"
     ]
    },
    {
     "name": "stdout",
     "output_type": "stream",
     "text": [
      "Iterations 30\n",
      "Maximizing with STP\n",
      "Seed: 616\n",
      "Initial points: tensor([[ 0.0000,  6.3258, -0.2227,  1.0000],\n",
      "        [ 0.0371,  0.8939, -0.0352,  0.0479],\n",
      "        [ 5.0000,  0.1000, -0.2250, -1.0000],\n",
      "        [ 3.9816,  9.5154, -0.5785, -1.0000],\n",
      "        [ 0.0000,  1.8801, -0.4446, -0.1116]], dtype=torch.float64)\n"
     ]
    },
    {
     "name": "stderr",
     "output_type": "stream",
     "text": [
      " 48%|████▊     | 24/50 [05:10<04:34, 10.54s/it]"
     ]
    },
    {
     "name": "stdout",
     "output_type": "stream",
     "text": [
      "Iterations 32\n",
      "Maximizing with STP\n",
      "Seed: 27\n",
      "Initial points: tensor([[ 0.0000,  4.0745, -0.3206, -1.0000],\n",
      "        [ 0.0000,  0.4773,  0.0410,  0.1919],\n",
      "        [ 0.0000,  3.2952, -0.2010, -0.1887],\n",
      "        [ 0.6155,  3.1238, -0.2301, -0.0963],\n",
      "        [ 0.0000,  2.5903, -0.2736, -0.1288]], dtype=torch.float64)\n"
     ]
    },
    {
     "name": "stderr",
     "output_type": "stream",
     "text": [
      " 50%|█████     | 25/50 [05:20<04:13, 10.15s/it]"
     ]
    },
    {
     "name": "stdout",
     "output_type": "stream",
     "text": [
      "Iterations 32\n",
      "Maximizing with STP\n",
      "Seed: 574\n",
      "Initial points: tensor([[ 0.0000,  1.6900, -0.4148, -0.5639],\n",
      "        [ 5.0000,  5.1008, -0.3230, -1.0000],\n",
      "        [ 5.0000,  0.1000,  1.0000, -1.0000],\n",
      "        [ 0.0000,  2.2215, -0.3013, -0.2119],\n",
      "        [ 5.0000,  0.1000,  0.1965, -1.0000]], dtype=torch.float64)\n"
     ]
    },
    {
     "name": "stderr",
     "output_type": "stream",
     "text": [
      " 52%|█████▏    | 26/50 [05:24<03:20,  8.37s/it]"
     ]
    },
    {
     "name": "stdout",
     "output_type": "stream",
     "text": [
      "Iterations 15\n",
      "Maximizing with STP\n",
      "Seed: 203\n",
      "Initial points: tensor([[ 0.0000,  3.0434, -0.2217,  0.0858],\n",
      "        [ 0.0000,  1.0000,  0.0000,  0.0000],\n",
      "        [ 0.0000,  2.3259, -0.2947, -0.1951],\n",
      "        [ 3.4858,  5.9210, -0.2205, -1.0000],\n",
      "        [ 0.0000,  8.0179, -0.2473, -0.2150]], dtype=torch.float64)\n"
     ]
    },
    {
     "name": "stderr",
     "output_type": "stream",
     "text": [
      " 54%|█████▍    | 27/50 [05:28<02:41,  7.02s/it]"
     ]
    },
    {
     "name": "stdout",
     "output_type": "stream",
     "text": [
      "Iterations 14\n",
      "Maximizing with STP\n",
      "Seed: 733\n",
      "Initial points: tensor([[ 2.5592,  2.7477, -0.1235, -1.0000],\n",
      "        [ 0.0000, 10.0000,  0.0697, -1.0000],\n",
      "        [ 1.4521,  4.7555, -0.2764, -1.0000],\n",
      "        [ 0.0000,  3.2225, -0.2445, -0.0745],\n",
      "        [ 2.0609,  5.4800,  0.0944,  0.1017]], dtype=torch.float64)\n"
     ]
    },
    {
     "name": "stderr",
     "output_type": "stream",
     "text": [
      " 56%|█████▌    | 28/50 [05:39<03:01,  8.27s/it]"
     ]
    },
    {
     "name": "stdout",
     "output_type": "stream",
     "text": [
      "Iterations 38\n",
      "Maximizing with STP\n",
      "Seed: 665\n",
      "Initial points: tensor([[ 0.0000,  2.4295, -0.2861, -0.1720],\n",
      "        [ 0.0000,  8.0179, -0.2473, -0.2150],\n",
      "        [ 3.4858,  5.9210, -0.2205, -1.0000],\n",
      "        [ 0.0000,  3.4102, -0.1820, -0.2266],\n",
      "        [ 0.7424,  1.7146, -0.3803, -0.4165]], dtype=torch.float64)\n"
     ]
    },
    {
     "name": "stderr",
     "output_type": "stream",
     "text": [
      " 58%|█████▊    | 29/50 [06:03<04:32, 12.96s/it]"
     ]
    },
    {
     "name": "stdout",
     "output_type": "stream",
     "text": [
      "Iterations 78\n",
      "Maximizing with STP\n",
      "Seed: 718\n",
      "Initial points: tensor([[ 5.0000,  0.1000,  1.0000, -1.0000],\n",
      "        [ 2.5592,  2.7477, -0.1235, -1.0000],\n",
      "        [ 0.0000,  3.1974, -0.2930, -0.0577],\n",
      "        [ 5.0000,  5.1008, -0.3230, -1.0000],\n",
      "        [ 5.0000,  8.5632, -0.3571, -1.0000]], dtype=torch.float64)\n"
     ]
    },
    {
     "name": "stderr",
     "output_type": "stream",
     "text": [
      " 60%|██████    | 30/50 [06:11<03:49, 11.49s/it]"
     ]
    },
    {
     "name": "stdout",
     "output_type": "stream",
     "text": [
      "Iterations 28\n",
      "Maximizing with STP\n",
      "Seed: 429\n",
      "Initial points: tensor([[ 0.0000,  1.5680, -0.3353, -0.3658],\n",
      "        [ 0.0000,  1.5957, -0.3206, -0.4308],\n",
      "        [ 1.4521,  4.7555, -0.2764, -1.0000],\n",
      "        [ 3.8362,  0.1000, -0.5153, -1.0000],\n",
      "        [ 0.0000,  3.2952, -0.2010, -0.1887]], dtype=torch.float64)\n"
     ]
    },
    {
     "name": "stderr",
     "output_type": "stream",
     "text": [
      " 62%|██████▏   | 31/50 [06:34<04:44, 14.99s/it]"
     ]
    },
    {
     "name": "stdout",
     "output_type": "stream",
     "text": [
      "Iterations 76\n",
      "Maximizing with STP\n",
      "Seed: 225\n",
      "Initial points: tensor([[ 0.0000,  4.0745, -0.3206, -1.0000],\n",
      "        [ 5.0000,  0.1000,  0.1965, -1.0000],\n",
      "        [ 0.0000,  8.0179, -0.2473, -0.2150],\n",
      "        [ 0.0000,  3.2714, -0.2151, -0.1070],\n",
      "        [ 0.0000,  0.1000, -0.5623, -1.0000]], dtype=torch.float64)\n"
     ]
    },
    {
     "name": "stderr",
     "output_type": "stream",
     "text": [
      " 64%|██████▍   | 32/50 [06:58<05:16, 17.58s/it]"
     ]
    },
    {
     "name": "stdout",
     "output_type": "stream",
     "text": [
      "Iterations 77\n",
      "Maximizing with STP\n",
      "Seed: 459\n",
      "Initial points: tensor([[ 5.0000,  0.1000,  1.0000, -1.0000],\n",
      "        [ 2.6662,  3.4044, -0.3233, -1.0000],\n",
      "        [ 0.0000,  3.4102, -0.1820, -0.2266],\n",
      "        [ 0.0000,  6.3258, -0.2227,  1.0000],\n",
      "        [ 0.9915,  3.3743, -0.2587, -0.4005]], dtype=torch.float64)\n"
     ]
    },
    {
     "name": "stderr",
     "output_type": "stream",
     "text": [
      " 66%|██████▌   | 33/50 [07:05<04:05, 14.46s/it]"
     ]
    },
    {
     "name": "stdout",
     "output_type": "stream",
     "text": [
      "Iterations 25\n",
      "Maximizing with STP\n",
      "Seed: 603\n",
      "Initial points: tensor([[ 5.0000,  8.5632, -0.3571, -1.0000],\n",
      "        [ 0.0000,  3.2952, -0.2010, -0.1887],\n",
      "        [ 5.0000,  4.5458, -0.4541, -1.0000],\n",
      "        [ 0.0000,  0.1000, -0.2634, -1.0000],\n",
      "        [ 0.0000,  2.5903, -0.2736, -0.1288]], dtype=torch.float64)\n"
     ]
    },
    {
     "name": "stderr",
     "output_type": "stream",
     "text": [
      " 68%|██████▊   | 34/50 [07:17<03:40, 13.81s/it]"
     ]
    },
    {
     "name": "stdout",
     "output_type": "stream",
     "text": [
      "Iterations 42\n",
      "Maximizing with STP\n",
      "Seed: 284\n",
      "Initial points: tensor([[ 0.0000,  3.0434, -0.2217,  0.0858],\n",
      "        [ 5.0000,  5.1008, -0.3230, -1.0000],\n",
      "        [ 0.0000,  0.1000, -0.2634, -1.0000],\n",
      "        [ 5.0000,  0.1000, -0.2250, -1.0000],\n",
      "        [ 0.0000,  4.0745, -0.3206, -1.0000]], dtype=torch.float64)\n"
     ]
    },
    {
     "name": "stderr",
     "output_type": "stream",
     "text": [
      " 70%|███████   | 35/50 [07:41<04:14, 16.93s/it]"
     ]
    },
    {
     "name": "stdout",
     "output_type": "stream",
     "text": [
      "Iterations 78\n",
      "Maximizing with STP\n",
      "Seed: 828\n",
      "Initial points: tensor([[ 2.1384,  0.1000, -0.4647, -1.0000],\n",
      "        [ 3.4858,  5.9210, -0.2205, -1.0000],\n",
      "        [ 0.0000,  4.0745, -0.3206, -1.0000],\n",
      "        [ 0.0000,  0.1000, -0.8373, -1.0000],\n",
      "        [ 0.0000,  3.2760, -0.2948,  0.0833]], dtype=torch.float64)\n"
     ]
    },
    {
     "name": "stderr",
     "output_type": "stream",
     "text": [
      " 72%|███████▏  | 36/50 [08:05<04:26, 19.07s/it]"
     ]
    },
    {
     "name": "stdout",
     "output_type": "stream",
     "text": [
      "Iterations 78\n",
      "Maximizing with STP\n",
      "Seed: 890\n",
      "Initial points: tensor([[ 0.0000,  1.8085, -0.4126, -0.2537],\n",
      "        [ 3.7044, 10.0000, -0.3167, -1.0000],\n",
      "        [ 5.0000,  7.4215, -0.4697, -1.0000],\n",
      "        [ 2.5592,  2.7477, -0.1235, -1.0000],\n",
      "        [ 2.0609,  5.4800,  0.0944,  0.1017]], dtype=torch.float64)\n"
     ]
    },
    {
     "name": "stderr",
     "output_type": "stream",
     "text": [
      " 74%|███████▍  | 37/50 [08:12<03:19, 15.33s/it]"
     ]
    },
    {
     "name": "stdout",
     "output_type": "stream",
     "text": [
      "Iterations 23\n",
      "Maximizing with STP\n",
      "Seed: 6\n",
      "Initial points: tensor([[ 0.0000,  6.3258, -0.2227,  1.0000],\n",
      "        [ 0.6155,  3.1238, -0.2301, -0.0963],\n",
      "        [ 0.0000,  3.2225, -0.2445, -0.0745],\n",
      "        [ 0.0000,  1.5957, -0.3206, -0.4308],\n",
      "        [ 0.0000,  3.2952, -0.2010, -0.1887]], dtype=torch.float64)\n"
     ]
    },
    {
     "name": "stderr",
     "output_type": "stream",
     "text": [
      " 76%|███████▌  | 38/50 [08:19<02:34, 12.88s/it]"
     ]
    },
    {
     "name": "stdout",
     "output_type": "stream",
     "text": [
      "Iterations 25\n",
      "Maximizing with STP\n",
      "Seed: 777\n",
      "Initial points: tensor([[ 0.0000,  3.3556, -0.2666, -0.4412],\n",
      "        [ 0.9915,  3.3743, -0.2587, -0.4005],\n",
      "        [ 0.0000,  1.8801, -0.4446, -0.1116],\n",
      "        [ 0.6155,  3.1238, -0.2301, -0.0963],\n",
      "        [ 3.1350,  0.1000, -0.2861,  0.2420]], dtype=torch.float64)\n"
     ]
    },
    {
     "name": "stderr",
     "output_type": "stream",
     "text": [
      " 78%|███████▊  | 39/50 [08:28<02:07, 11.63s/it]"
     ]
    },
    {
     "name": "stdout",
     "output_type": "stream",
     "text": [
      "Iterations 30\n",
      "Maximizing with STP\n",
      "Seed: 825\n",
      "Initial points: tensor([[ 1.0785,  3.8093, -0.4061, -0.2996],\n",
      "        [ 3.4858,  5.9210, -0.2205, -1.0000],\n",
      "        [ 5.0000, 10.0000, -0.3926, -1.0000],\n",
      "        [ 5.0000, 10.0000, -0.4538, -1.0000],\n",
      "        [ 0.6155,  3.1238, -0.2301, -0.0963]], dtype=torch.float64)\n"
     ]
    },
    {
     "name": "stderr",
     "output_type": "stream",
     "text": [
      " 80%|████████  | 40/50 [08:38<01:53, 11.30s/it]"
     ]
    },
    {
     "name": "stdout",
     "output_type": "stream",
     "text": [
      "Iterations 36\n",
      "Maximizing with STP\n",
      "Seed: 163\n",
      "Initial points: tensor([[ 2.1384,  0.1000, -0.4647, -1.0000],\n",
      "        [ 3.7044, 10.0000, -0.3167, -1.0000],\n",
      "        [ 0.0000,  1.5957, -0.3206, -0.4308],\n",
      "        [ 5.0000,  0.1000, -0.4233, -1.0000],\n",
      "        [ 5.0000, 10.0000, -0.0304, -1.0000]], dtype=torch.float64)\n"
     ]
    },
    {
     "name": "stderr",
     "output_type": "stream",
     "text": [
      " 82%|████████▏ | 41/50 [08:47<01:35, 10.62s/it]"
     ]
    },
    {
     "name": "stdout",
     "output_type": "stream",
     "text": [
      "Iterations 31\n",
      "Maximizing with STP\n",
      "Seed: 714\n",
      "Initial points: tensor([[ 0.0000,  1.5680, -0.3353, -0.3658],\n",
      "        [ 0.0000,  3.4102, -0.1820, -0.2266],\n",
      "        [ 0.0371,  0.8939, -0.0352,  0.0479],\n",
      "        [ 0.0000,  1.0000,  0.0000,  0.0000],\n",
      "        [ 3.7044, 10.0000, -0.3167, -1.0000]], dtype=torch.float64)\n"
     ]
    },
    {
     "name": "stderr",
     "output_type": "stream",
     "text": [
      " 84%|████████▍ | 42/50 [08:56<01:19,  9.95s/it]"
     ]
    },
    {
     "name": "stdout",
     "output_type": "stream",
     "text": [
      "Iterations 29\n",
      "Maximizing with STP\n",
      "Seed: 348\n",
      "Initial points: tensor([[ 0.0000,  3.2714, -0.2151, -0.1070],\n",
      "        [ 3.9816,  9.5154, -0.5785, -1.0000],\n",
      "        [ 1.0785,  3.8093, -0.4061, -0.2996],\n",
      "        [ 0.0000,  2.5903, -0.2736, -0.1288],\n",
      "        [ 5.0000,  6.4638, -0.4718, -0.5640]], dtype=torch.float64)\n"
     ]
    },
    {
     "name": "stderr",
     "output_type": "stream",
     "text": [
      " 86%|████████▌ | 43/50 [09:05<01:08,  9.83s/it]"
     ]
    },
    {
     "name": "stdout",
     "output_type": "stream",
     "text": [
      "Iterations 33\n",
      "Maximizing with STP\n",
      "Seed: 159\n",
      "Initial points: tensor([[ 0.0000,  0.1000, -0.5623, -1.0000],\n",
      "        [ 0.0000, 10.0000,  0.0697, -1.0000],\n",
      "        [ 0.0000,  4.0745, -0.3206, -1.0000],\n",
      "        [ 3.1350,  0.1000, -0.2861,  0.2420],\n",
      "        [ 0.0000,  0.1000, -0.3833, -0.0260]], dtype=torch.float64)\n"
     ]
    },
    {
     "name": "stderr",
     "output_type": "stream",
     "text": [
      " 88%|████████▊ | 44/50 [09:29<01:24, 14.03s/it]"
     ]
    },
    {
     "name": "stdout",
     "output_type": "stream",
     "text": [
      "Iterations 78\n",
      "Maximizing with STP\n",
      "Seed: 220\n",
      "Initial points: tensor([[ 0.0000,  3.4039, -0.3961, -0.5694],\n",
      "        [ 0.0000,  2.0191, -0.3103, -0.2361],\n",
      "        [ 0.0000,  0.1000, -0.5623, -1.0000],\n",
      "        [ 0.0000,  3.2964, -0.2238, -0.0925],\n",
      "        [ 0.0371,  0.8939, -0.0352,  0.0479]], dtype=torch.float64)\n"
     ]
    },
    {
     "name": "stderr",
     "output_type": "stream",
     "text": [
      " 90%|█████████ | 45/50 [09:53<01:24, 16.98s/it]"
     ]
    },
    {
     "name": "stdout",
     "output_type": "stream",
     "text": [
      "Iterations 78\n",
      "Maximizing with STP\n",
      "Seed: 980\n",
      "Initial points: tensor([[ 0.0000,  1.5957, -0.3206, -0.4308],\n",
      "        [ 0.0000,  2.3259, -0.2947, -0.1951],\n",
      "        [ 1.0785,  3.8093, -0.4061, -0.2996],\n",
      "        [ 0.6155,  3.1238, -0.2301, -0.0963],\n",
      "        [ 1.4521,  4.7555, -0.2764, -1.0000]], dtype=torch.float64)\n"
     ]
    },
    {
     "name": "stderr",
     "output_type": "stream",
     "text": [
      " 92%|█████████▏| 46/50 [10:01<00:57, 14.31s/it]"
     ]
    },
    {
     "name": "stdout",
     "output_type": "stream",
     "text": [
      "Iterations 28\n",
      "Maximizing with STP\n",
      "Seed: 781\n",
      "Initial points: tensor([[ 5.0000,  0.1000, -0.4233, -1.0000],\n",
      "        [ 0.0000,  3.1775, -0.2716, -0.0639],\n",
      "        [ 0.0000,  3.1974, -0.2930, -0.0577],\n",
      "        [ 0.0000,  1.8085, -0.4126, -0.2537],\n",
      "        [ 0.0000,  3.2952, -0.2010, -0.1887]], dtype=torch.float64)\n"
     ]
    },
    {
     "name": "stderr",
     "output_type": "stream",
     "text": [
      " 94%|█████████▍| 47/50 [10:11<00:39, 13.07s/it]"
     ]
    },
    {
     "name": "stdout",
     "output_type": "stream",
     "text": [
      "Iterations 35\n",
      "Maximizing with STP\n",
      "Seed: 344\n",
      "Initial points: tensor([[ 5.0000,  4.5458, -0.4541, -1.0000],\n",
      "        [ 1.7240,  4.1278, -0.3176, -0.5578],\n",
      "        [ 5.0000,  0.1000, -0.2250, -1.0000],\n",
      "        [ 0.0000,  3.3837, -0.3171,  0.0079],\n",
      "        [ 5.0000,  5.0000, -0.1000, -0.1000]], dtype=torch.float64)\n"
     ]
    },
    {
     "name": "stderr",
     "output_type": "stream",
     "text": [
      " 96%|█████████▌| 48/50 [10:21<00:24, 12.01s/it]"
     ]
    },
    {
     "name": "stdout",
     "output_type": "stream",
     "text": [
      "Iterations 33\n",
      "Maximizing with STP\n",
      "Seed: 94\n",
      "Initial points: tensor([[ 0.0000,  0.1000, -0.5623, -1.0000],\n",
      "        [ 1.0785,  3.8093, -0.4061, -0.2996],\n",
      "        [ 0.0000,  0.1000, -0.1540, -0.6338],\n",
      "        [ 2.1384,  0.1000, -0.4647, -1.0000],\n",
      "        [ 2.0609,  5.4800,  0.0944,  0.1017]], dtype=torch.float64)\n"
     ]
    },
    {
     "name": "stderr",
     "output_type": "stream",
     "text": [
      " 98%|█████████▊| 49/50 [10:31<00:11, 11.56s/it]"
     ]
    },
    {
     "name": "stdout",
     "output_type": "stream",
     "text": [
      "Iterations 36\n",
      "Maximizing with STP\n",
      "Seed: 389\n",
      "Initial points: tensor([[ 0.0000,  0.1000, -0.1540, -0.6338],\n",
      "        [ 0.0000,  2.2215, -0.3013, -0.2119],\n",
      "        [ 0.0000,  3.3556, -0.2666, -0.4412],\n",
      "        [ 0.0000,  2.3259, -0.2947, -0.1951],\n",
      "        [ 2.5684,  4.1282, -0.5554, -1.0000]], dtype=torch.float64)\n"
     ]
    },
    {
     "name": "stderr",
     "output_type": "stream",
     "text": [
      "100%|██████████| 50/50 [10:55<00:00, 13.11s/it]\n"
     ]
    },
    {
     "name": "stdout",
     "output_type": "stream",
     "text": [
      "Iterations 77\n"
     ]
    },
    {
     "name": "stderr",
     "output_type": "stream",
     "text": [
      "  0%|          | 0/50 [00:00<?, ?it/s]"
     ]
    },
    {
     "name": "stdout",
     "output_type": "stream",
     "text": [
      "Maximizing with EGP\n",
      "Seed: 654\n",
      "Initial points: tensor([[ 3.7934,  6.3214, -0.3911, -1.0000],\n",
      "        [ 0.0000,  2.4295, -0.2861, -0.1720],\n",
      "        [ 0.0000,  3.1775, -0.2716, -0.0639],\n",
      "        [ 1.7240,  4.1278, -0.3176, -0.5578],\n",
      "        [ 0.0000,  3.1974, -0.2930, -0.0577]], dtype=torch.float64)\n"
     ]
    },
    {
     "name": "stderr",
     "output_type": "stream",
     "text": [
      "  2%|▏         | 1/50 [00:04<03:51,  4.72s/it]"
     ]
    },
    {
     "name": "stdout",
     "output_type": "stream",
     "text": [
      "Iterations 36\n",
      "Maximizing with EGP\n",
      "Seed: 114\n",
      "Initial points: tensor([[ 2.5684,  4.1282, -0.5554, -1.0000],\n",
      "        [ 2.2161,  0.1000, -0.3517, -0.6288],\n",
      "        [ 0.0000,  3.0434, -0.2217,  0.0858],\n",
      "        [ 0.0000,  2.0191, -0.3103, -0.2361],\n",
      "        [ 0.0000,  4.0745, -0.3206, -1.0000]], dtype=torch.float64)\n"
     ]
    },
    {
     "name": "stderr",
     "output_type": "stream",
     "text": [
      "  4%|▍         | 2/50 [00:08<03:27,  4.33s/it]"
     ]
    },
    {
     "name": "stdout",
     "output_type": "stream",
     "text": [
      "Iterations 40\n",
      "Maximizing with EGP\n",
      "Seed: 25\n",
      "Initial points: tensor([[ 0.0000e+00,  3.3837e+00, -3.1714e-01,  7.9208e-03],\n",
      "        [ 3.7044e+00,  1.0000e+01, -3.1670e-01, -1.0000e+00],\n",
      "        [ 2.6662e+00,  3.4044e+00, -3.2334e-01, -1.0000e+00],\n",
      "        [ 5.0000e+00,  1.0000e-01, -2.2501e-01, -1.0000e+00],\n",
      "        [ 5.0000e+00,  4.5458e+00, -4.5406e-01, -1.0000e+00]],\n",
      "       dtype=torch.float64)\n"
     ]
    },
    {
     "name": "stderr",
     "output_type": "stream",
     "text": [
      "c:\\Users\\stan\\miniconda3\\envs\\researchTP\\Lib\\site-packages\\linear_operator\\utils\\cholesky.py:40: NumericalWarning: A not p.d., added jitter of 1.0e-08 to the diagonal\n",
      "  warnings.warn(\n",
      "c:\\Users\\stan\\miniconda3\\envs\\researchTP\\Lib\\site-packages\\linear_operator\\utils\\cholesky.py:40: NumericalWarning: A not p.d., added jitter of 1.0e-07 to the diagonal\n",
      "  warnings.warn(\n",
      "c:\\Users\\stan\\miniconda3\\envs\\researchTP\\Lib\\site-packages\\linear_operator\\utils\\cholesky.py:40: NumericalWarning: A not p.d., added jitter of 1.0e-06 to the diagonal\n",
      "  warnings.warn(\n",
      "c:\\Users\\stan\\miniconda3\\envs\\researchTP\\Lib\\site-packages\\linear_operator\\utils\\cholesky.py:40: NumericalWarning: A not p.d., added jitter of 1.0e-05 to the diagonal\n",
      "  warnings.warn(\n",
      "c:\\Users\\stan\\miniconda3\\envs\\researchTP\\Lib\\site-packages\\linear_operator\\utils\\cholesky.py:40: NumericalWarning: A not p.d., added jitter of 1.0e-04 to the diagonal\n",
      "  warnings.warn(\n",
      "  6%|▌         | 3/50 [00:15<04:04,  5.21s/it]"
     ]
    },
    {
     "name": "stdout",
     "output_type": "stream",
     "text": [
      "Iterations 77\n",
      "Maximizing with EGP\n",
      "Seed: 759\n",
      "Initial points: tensor([[ 0.0000,  0.1000, -0.3833, -0.0260],\n",
      "        [ 5.0000,  4.5458, -0.4541, -1.0000],\n",
      "        [ 5.0000,  5.0000, -0.1000, -0.1000],\n",
      "        [ 0.9915,  3.3743, -0.2587, -0.4005],\n",
      "        [ 0.0000,  3.1669, -0.3151, -0.3476]], dtype=torch.float64)\n"
     ]
    },
    {
     "name": "stderr",
     "output_type": "stream",
     "text": [
      "  8%|▊         | 4/50 [00:23<04:58,  6.48s/it]"
     ]
    },
    {
     "name": "stdout",
     "output_type": "stream",
     "text": [
      "Iterations 74\n",
      "Maximizing with EGP\n",
      "Seed: 281\n",
      "Initial points: tensor([[ 0.0000,  2.5903, -0.2736, -0.1288],\n",
      "        [ 0.7424,  1.7146, -0.3803, -0.4165],\n",
      "        [ 0.0000,  2.0191, -0.3103, -0.2361],\n",
      "        [ 0.0000,  0.1000, -0.3998,  1.0000],\n",
      "        [ 0.0000,  0.1000, -0.8373, -1.0000]], dtype=torch.float64)\n"
     ]
    },
    {
     "name": "stderr",
     "output_type": "stream",
     "text": [
      "c:\\Users\\stan\\miniconda3\\envs\\researchTP\\Lib\\site-packages\\botorch\\optim\\fit.py:102: OptimizationWarning: `scipy_minimize` terminated with status OptimizationStatus.FAILURE, displaying original message from `scipy.optimize.minimize`: ABNORMAL_TERMINATION_IN_LNSRCH\n",
      "  warn(\n",
      " 10%|█         | 5/50 [00:30<04:59,  6.65s/it]"
     ]
    },
    {
     "name": "stdout",
     "output_type": "stream",
     "text": [
      "Iterations 75\n",
      "Maximizing with EGP\n",
      "Seed: 250\n",
      "Initial points: tensor([[ 5.0000, 10.0000, -0.0304, -1.0000],\n",
      "        [ 0.0000,  0.1000, -0.3833, -0.0260],\n",
      "        [ 2.6662,  3.4044, -0.3233, -1.0000],\n",
      "        [ 5.0000,  6.4638, -0.4718, -0.5640],\n",
      "        [ 0.9915,  3.3743, -0.2587, -0.4005]], dtype=torch.float64)\n"
     ]
    },
    {
     "name": "stderr",
     "output_type": "stream",
     "text": [
      "c:\\Users\\stan\\miniconda3\\envs\\researchTP\\Lib\\site-packages\\botorch\\optim\\fit.py:102: OptimizationWarning: `scipy_minimize` terminated with status OptimizationStatus.FAILURE, displaying original message from `scipy.optimize.minimize`: ABNORMAL_TERMINATION_IN_LNSRCH\n",
      "  warn(\n",
      " 12%|█▏        | 6/50 [00:38<05:10,  7.07s/it]"
     ]
    },
    {
     "name": "stdout",
     "output_type": "stream",
     "text": [
      "Iterations 75\n",
      "Maximizing with EGP\n",
      "Seed: 228\n",
      "Initial points: tensor([[ 3.5559,  6.5677, -0.4093, -1.0000],\n",
      "        [ 1.4521,  4.7555, -0.2764, -1.0000],\n",
      "        [ 0.0000,  0.1000, -0.2270, -0.2032],\n",
      "        [ 0.0000,  0.4773,  0.0410,  0.1919],\n",
      "        [ 0.0000,  8.0179, -0.2473, -0.2150]], dtype=torch.float64)\n"
     ]
    },
    {
     "name": "stderr",
     "output_type": "stream",
     "text": [
      " 14%|█▍        | 7/50 [00:44<04:57,  6.92s/it]"
     ]
    },
    {
     "name": "stdout",
     "output_type": "stream",
     "text": [
      "Iterations 78\n",
      "Maximizing with EGP\n",
      "Seed: 142\n",
      "Initial points: tensor([[ 5.0000,  4.5458, -0.4541, -1.0000],\n",
      "        [ 0.9915,  3.3743, -0.2587, -0.4005],\n",
      "        [ 0.0000,  3.3212, -0.1959, -0.1870],\n",
      "        [ 0.0000,  0.1000, -0.2634, -1.0000],\n",
      "        [ 0.0000,  3.1775, -0.2716, -0.0639]], dtype=torch.float64)\n"
     ]
    },
    {
     "name": "stderr",
     "output_type": "stream",
     "text": [
      " 16%|█▌        | 8/50 [00:51<04:40,  6.67s/it]"
     ]
    },
    {
     "name": "stdout",
     "output_type": "stream",
     "text": [
      "Iterations 58\n",
      "Maximizing with EGP\n",
      "Seed: 754\n",
      "Initial points: tensor([[ 0.0000,  1.8801, -0.4446, -0.1116],\n",
      "        [ 0.0000,  3.0434, -0.2217,  0.0858],\n",
      "        [ 0.0000,  3.4039, -0.3961, -0.5694],\n",
      "        [ 0.0000,  3.1790, -0.2991, -0.0796],\n",
      "        [ 5.0000,  0.1000,  0.1965, -1.0000]], dtype=torch.float64)\n"
     ]
    },
    {
     "name": "stderr",
     "output_type": "stream",
     "text": [
      "c:\\Users\\stan\\miniconda3\\envs\\researchTP\\Lib\\site-packages\\botorch\\optim\\fit.py:102: OptimizationWarning: `scipy_minimize` terminated with status OptimizationStatus.FAILURE, displaying original message from `scipy.optimize.minimize`: ABNORMAL_TERMINATION_IN_LNSRCH\n",
      "  warn(\n",
      "c:\\Users\\stan\\miniconda3\\envs\\researchTP\\Lib\\site-packages\\botorch\\optim\\fit.py:102: OptimizationWarning: `scipy_minimize` terminated with status OptimizationStatus.FAILURE, displaying original message from `scipy.optimize.minimize`: ABNORMAL_TERMINATION_IN_LNSRCH\n",
      "  warn(\n",
      "c:\\Users\\stan\\miniconda3\\envs\\researchTP\\Lib\\site-packages\\botorch\\optim\\fit.py:102: OptimizationWarning: `scipy_minimize` terminated with status OptimizationStatus.FAILURE, displaying original message from `scipy.optimize.minimize`: ABNORMAL_TERMINATION_IN_LNSRCH\n",
      "  warn(\n",
      "c:\\Users\\stan\\miniconda3\\envs\\researchTP\\Lib\\site-packages\\botorch\\optim\\fit.py:102: OptimizationWarning: `scipy_minimize` terminated with status OptimizationStatus.FAILURE, displaying original message from `scipy.optimize.minimize`: ABNORMAL_TERMINATION_IN_LNSRCH\n",
      "  warn(\n",
      " 18%|█▊        | 9/50 [00:59<04:52,  7.13s/it]"
     ]
    },
    {
     "name": "stdout",
     "output_type": "stream",
     "text": [
      "Iterations 78\n",
      "Maximizing with EGP\n",
      "Seed: 104\n",
      "Initial points: tensor([[ 5.0000,  5.0000, -0.1000, -0.1000],\n",
      "        [ 5.0000,  1.7701, -0.7340, -1.0000],\n",
      "        [ 1.0785,  3.8093, -0.4061, -0.2996],\n",
      "        [ 3.5559,  6.5677, -0.4093, -1.0000],\n",
      "        [ 3.4858,  5.9210, -0.2205, -1.0000]], dtype=torch.float64)\n"
     ]
    },
    {
     "name": "stderr",
     "output_type": "stream",
     "text": [
      " 20%|██        | 10/50 [01:03<04:04,  6.11s/it]"
     ]
    },
    {
     "name": "stdout",
     "output_type": "stream",
     "text": [
      "Iterations 48\n",
      "Maximizing with EGP\n",
      "Seed: 692\n",
      "Initial points: tensor([[ 0.0000,  3.4102, -0.1820, -0.2266],\n",
      "        [ 5.0000,  1.7701, -0.7340, -1.0000],\n",
      "        [ 5.0000,  5.0000, -0.1000, -0.1000],\n",
      "        [ 0.0000,  0.1000, -0.2270, -0.2032],\n",
      "        [ 0.0000,  6.3258, -0.2227,  1.0000]], dtype=torch.float64)\n"
     ]
    },
    {
     "name": "stderr",
     "output_type": "stream",
     "text": [
      " 22%|██▏       | 11/50 [01:07<03:43,  5.74s/it]"
     ]
    },
    {
     "name": "stdout",
     "output_type": "stream",
     "text": [
      "Iterations 43\n",
      "Maximizing with EGP\n",
      "Seed: 758\n",
      "Initial points: tensor([[ 5.0000,  4.5458, -0.4541, -1.0000],\n",
      "        [ 0.0000,  0.1000, -0.5623, -1.0000],\n",
      "        [ 0.0000,  1.0000,  0.0000,  0.0000],\n",
      "        [ 3.9816,  9.5154, -0.5785, -1.0000],\n",
      "        [ 5.0000,  0.1000, -0.2250, -1.0000]], dtype=torch.float64)\n"
     ]
    },
    {
     "name": "stderr",
     "output_type": "stream",
     "text": [
      "c:\\Users\\stan\\miniconda3\\envs\\researchTP\\Lib\\site-packages\\botorch\\optim\\fit.py:102: OptimizationWarning: `scipy_minimize` terminated with status OptimizationStatus.FAILURE, displaying original message from `scipy.optimize.minimize`: ABNORMAL_TERMINATION_IN_LNSRCH\n",
      "  warn(\n",
      " 24%|██▍       | 12/50 [01:13<03:33,  5.63s/it]"
     ]
    },
    {
     "name": "stdout",
     "output_type": "stream",
     "text": [
      "Iterations 54\n",
      "Maximizing with EGP\n",
      "Seed: 913\n",
      "Initial points: tensor([[ 0.0000, 10.0000,  0.0697, -1.0000],\n",
      "        [ 2.0609,  5.4800,  0.0944,  0.1017],\n",
      "        [ 0.0000,  1.0000,  0.0000,  0.0000],\n",
      "        [ 3.8362,  0.1000, -0.5153, -1.0000],\n",
      "        [ 0.0000,  3.4102, -0.1820, -0.2266]], dtype=torch.float64)\n"
     ]
    },
    {
     "name": "stderr",
     "output_type": "stream",
     "text": [
      " 26%|██▌       | 13/50 [01:18<03:24,  5.52s/it]"
     ]
    },
    {
     "name": "stdout",
     "output_type": "stream",
     "text": [
      "Iterations 45\n",
      "Maximizing with EGP\n",
      "Seed: 558\n",
      "Initial points: tensor([[ 5.0000,  0.1000, -0.2250, -1.0000],\n",
      "        [ 5.0000,  8.5632, -0.3571, -1.0000],\n",
      "        [ 3.5559,  6.5677, -0.4093, -1.0000],\n",
      "        [ 2.6662,  3.4044, -0.3233, -1.0000],\n",
      "        [ 0.0371,  0.8939, -0.0352,  0.0479]], dtype=torch.float64)\n"
     ]
    },
    {
     "name": "stderr",
     "output_type": "stream",
     "text": [
      "c:\\Users\\stan\\miniconda3\\envs\\researchTP\\Lib\\site-packages\\linear_operator\\utils\\cholesky.py:40: NumericalWarning: A not p.d., added jitter of 1.0e-08 to the diagonal\n",
      "  warnings.warn(\n",
      "c:\\Users\\stan\\miniconda3\\envs\\researchTP\\Lib\\site-packages\\linear_operator\\utils\\cholesky.py:40: NumericalWarning: A not p.d., added jitter of 1.0e-07 to the diagonal\n",
      "  warnings.warn(\n",
      "c:\\Users\\stan\\miniconda3\\envs\\researchTP\\Lib\\site-packages\\linear_operator\\utils\\cholesky.py:40: NumericalWarning: A not p.d., added jitter of 1.0e-06 to the diagonal\n",
      "  warnings.warn(\n",
      "c:\\Users\\stan\\miniconda3\\envs\\researchTP\\Lib\\site-packages\\linear_operator\\utils\\cholesky.py:40: NumericalWarning: A not p.d., added jitter of 1.0e-05 to the diagonal\n",
      "  warnings.warn(\n",
      "c:\\Users\\stan\\miniconda3\\envs\\researchTP\\Lib\\site-packages\\linear_operator\\utils\\cholesky.py:40: NumericalWarning: A not p.d., added jitter of 1.0e-04 to the diagonal\n",
      "  warnings.warn(\n",
      " 28%|██▊       | 14/50 [01:25<03:29,  5.82s/it]"
     ]
    },
    {
     "name": "stdout",
     "output_type": "stream",
     "text": [
      "Iterations 77\n",
      "Maximizing with EGP\n",
      "Seed: 89\n",
      "Initial points: tensor([[ 0.0000,  3.4039, -0.3961, -0.5694],\n",
      "        [ 0.0000,  1.5957, -0.3206, -0.4308],\n",
      "        [ 0.0000,  0.1000, -0.3998,  1.0000],\n",
      "        [ 0.0000,  2.5903, -0.2736, -0.1288],\n",
      "        [ 0.0000,  3.2952, -0.2010, -0.1887]], dtype=torch.float64)\n"
     ]
    },
    {
     "name": "stderr",
     "output_type": "stream",
     "text": [
      " 30%|███       | 15/50 [01:30<03:15,  5.58s/it]"
     ]
    },
    {
     "name": "stdout",
     "output_type": "stream",
     "text": [
      "Iterations 45\n",
      "Maximizing with EGP\n",
      "Seed: 604\n",
      "Initial points: tensor([[ 2.6662,  3.4044, -0.3233, -1.0000],\n",
      "        [ 3.7044, 10.0000, -0.3167, -1.0000],\n",
      "        [ 0.0000,  3.1790, -0.2991, -0.0796],\n",
      "        [ 0.0000,  2.3259, -0.2947, -0.1951],\n",
      "        [ 1.7240,  4.1278, -0.3176, -0.5578]], dtype=torch.float64)\n"
     ]
    },
    {
     "name": "stderr",
     "output_type": "stream",
     "text": [
      "c:\\Users\\stan\\miniconda3\\envs\\researchTP\\Lib\\site-packages\\linear_operator\\utils\\cholesky.py:40: NumericalWarning: A not p.d., added jitter of 1.0e-08 to the diagonal\n",
      "  warnings.warn(\n",
      "c:\\Users\\stan\\miniconda3\\envs\\researchTP\\Lib\\site-packages\\linear_operator\\utils\\cholesky.py:40: NumericalWarning: A not p.d., added jitter of 1.0e-07 to the diagonal\n",
      "  warnings.warn(\n",
      "c:\\Users\\stan\\miniconda3\\envs\\researchTP\\Lib\\site-packages\\linear_operator\\utils\\cholesky.py:40: NumericalWarning: A not p.d., added jitter of 1.0e-06 to the diagonal\n",
      "  warnings.warn(\n",
      "c:\\Users\\stan\\miniconda3\\envs\\researchTP\\Lib\\site-packages\\linear_operator\\utils\\cholesky.py:40: NumericalWarning: A not p.d., added jitter of 1.0e-05 to the diagonal\n",
      "  warnings.warn(\n",
      "c:\\Users\\stan\\miniconda3\\envs\\researchTP\\Lib\\site-packages\\linear_operator\\utils\\cholesky.py:40: NumericalWarning: A not p.d., added jitter of 1.0e-04 to the diagonal\n",
      "  warnings.warn(\n",
      " 32%|███▏      | 16/50 [01:37<03:29,  6.17s/it]"
     ]
    },
    {
     "name": "stdout",
     "output_type": "stream",
     "text": [
      "Iterations 77\n",
      "Maximizing with EGP\n",
      "Seed: 432\n",
      "Initial points: tensor([[ 0.0000,  0.1000, -0.1540, -0.6338],\n",
      "        [ 5.0000,  5.1008, -0.3230, -1.0000],\n",
      "        [ 0.0000,  1.5680, -0.3353, -0.3658],\n",
      "        [ 3.5802,  7.8585, -0.3792, -1.0000],\n",
      "        [ 0.0000,  3.2714, -0.2151, -0.1070]], dtype=torch.float64)\n"
     ]
    },
    {
     "name": "stderr",
     "output_type": "stream",
     "text": [
      " 34%|███▍      | 17/50 [01:41<03:03,  5.57s/it]"
     ]
    },
    {
     "name": "stdout",
     "output_type": "stream",
     "text": [
      "Iterations 47\n",
      "Maximizing with EGP\n",
      "Seed: 32\n",
      "Initial points: tensor([[ 0.0000,  3.3556, -0.2666, -0.4412],\n",
      "        [ 0.0000,  6.3258, -0.2227,  1.0000],\n",
      "        [ 0.7424,  1.7146, -0.3803, -0.4165],\n",
      "        [ 0.0000,  2.5215, -0.2784, -0.1474],\n",
      "        [ 0.0000,  3.3837, -0.3171,  0.0079]], dtype=torch.float64)\n"
     ]
    },
    {
     "name": "stderr",
     "output_type": "stream",
     "text": [
      " 36%|███▌      | 18/50 [01:45<02:42,  5.08s/it]"
     ]
    },
    {
     "name": "stdout",
     "output_type": "stream",
     "text": [
      "Iterations 31\n",
      "Maximizing with EGP\n",
      "Seed: 30\n",
      "Initial points: tensor([[ 5.0000,  4.5458, -0.4541, -1.0000],\n",
      "        [ 5.0000,  5.1008, -0.3230, -1.0000],\n",
      "        [ 0.0000,  0.1000, -0.5623, -1.0000],\n",
      "        [ 2.1384,  0.1000, -0.4647, -1.0000],\n",
      "        [ 0.0000,  3.0434, -0.2217,  0.0858]], dtype=torch.float64)\n"
     ]
    },
    {
     "name": "stderr",
     "output_type": "stream",
     "text": [
      " 38%|███▊      | 19/50 [01:49<02:25,  4.69s/it]"
     ]
    },
    {
     "name": "stdout",
     "output_type": "stream",
     "text": [
      "Iterations 42\n",
      "Maximizing with EGP\n",
      "Seed: 95\n",
      "Initial points: tensor([[ 0.0000,  2.5215, -0.2784, -0.1474],\n",
      "        [ 5.0000,  0.1000, -0.2250, -1.0000],\n",
      "        [ 3.5559,  6.5677, -0.4093, -1.0000],\n",
      "        [ 5.0000,  4.5458, -0.4541, -1.0000],\n",
      "        [ 0.0000,  2.2215, -0.3013, -0.2119]], dtype=torch.float64)\n"
     ]
    },
    {
     "name": "stderr",
     "output_type": "stream",
     "text": [
      " 40%|████      | 20/50 [01:58<02:58,  5.94s/it]"
     ]
    },
    {
     "name": "stdout",
     "output_type": "stream",
     "text": [
      "Iterations 79\n",
      "Maximizing with EGP\n",
      "Seed: 223\n",
      "Initial points: tensor([[ 5.0000, 10.0000, -0.0304, -1.0000],\n",
      "        [ 0.0000,  3.1669, -0.3151, -0.3476],\n",
      "        [ 3.7934,  6.3214, -0.3911, -1.0000],\n",
      "        [ 0.0000,  0.1000, -0.3998,  1.0000],\n",
      "        [ 0.0000,  3.4039, -0.3961, -0.5694]], dtype=torch.float64)\n"
     ]
    },
    {
     "name": "stderr",
     "output_type": "stream",
     "text": [
      " 42%|████▏     | 21/50 [02:03<02:46,  5.74s/it]"
     ]
    },
    {
     "name": "stdout",
     "output_type": "stream",
     "text": [
      "Iterations 46\n",
      "Maximizing with EGP\n",
      "Seed: 238\n",
      "Initial points: tensor([[ 0.0000,  0.1000, -0.8373, -1.0000],\n",
      "        [ 3.7934,  6.3214, -0.3911, -1.0000],\n",
      "        [ 5.0000,  0.1000,  0.1965, -1.0000],\n",
      "        [ 1.4521,  4.7555, -0.2764, -1.0000],\n",
      "        [ 1.7240,  4.1278, -0.3176, -0.5578]], dtype=torch.float64)\n"
     ]
    },
    {
     "name": "stderr",
     "output_type": "stream",
     "text": [
      "c:\\Users\\stan\\miniconda3\\envs\\researchTP\\Lib\\site-packages\\linear_operator\\utils\\cholesky.py:40: NumericalWarning: A not p.d., added jitter of 1.0e-08 to the diagonal\n",
      "  warnings.warn(\n",
      "c:\\Users\\stan\\miniconda3\\envs\\researchTP\\Lib\\site-packages\\linear_operator\\utils\\cholesky.py:40: NumericalWarning: A not p.d., added jitter of 1.0e-07 to the diagonal\n",
      "  warnings.warn(\n",
      "c:\\Users\\stan\\miniconda3\\envs\\researchTP\\Lib\\site-packages\\linear_operator\\utils\\cholesky.py:40: NumericalWarning: A not p.d., added jitter of 1.0e-06 to the diagonal\n",
      "  warnings.warn(\n",
      "c:\\Users\\stan\\miniconda3\\envs\\researchTP\\Lib\\site-packages\\linear_operator\\utils\\cholesky.py:40: NumericalWarning: A not p.d., added jitter of 1.0e-05 to the diagonal\n",
      "  warnings.warn(\n",
      "c:\\Users\\stan\\miniconda3\\envs\\researchTP\\Lib\\site-packages\\linear_operator\\utils\\cholesky.py:40: NumericalWarning: A not p.d., added jitter of 1.0e-04 to the diagonal\n",
      "  warnings.warn(\n",
      " 44%|████▍     | 22/50 [02:09<02:44,  5.86s/it]"
     ]
    },
    {
     "name": "stdout",
     "output_type": "stream",
     "text": [
      "Iterations 77\n",
      "Maximizing with EGP\n",
      "Seed: 517\n",
      "Initial points: tensor([[ 5.0000,  0.1000,  0.1965, -1.0000],\n",
      "        [ 3.4858,  5.9210, -0.2205, -1.0000],\n",
      "        [ 5.0000,  4.5458, -0.4541, -1.0000],\n",
      "        [ 0.0000,  1.0000,  0.0000,  0.0000],\n",
      "        [ 0.0000,  4.0745, -0.3206, -1.0000]], dtype=torch.float64)\n"
     ]
    },
    {
     "name": "stderr",
     "output_type": "stream",
     "text": [
      "c:\\Users\\stan\\miniconda3\\envs\\researchTP\\Lib\\site-packages\\botorch\\optim\\fit.py:102: OptimizationWarning: `scipy_minimize` terminated with status OptimizationStatus.FAILURE, displaying original message from `scipy.optimize.minimize`: ABNORMAL_TERMINATION_IN_LNSRCH\n",
      "  warn(\n",
      " 46%|████▌     | 23/50 [02:14<02:30,  5.57s/it]"
     ]
    },
    {
     "name": "stdout",
     "output_type": "stream",
     "text": [
      "Iterations 54\n",
      "Maximizing with EGP\n",
      "Seed: 616\n",
      "Initial points: tensor([[ 0.0000,  6.3258, -0.2227,  1.0000],\n",
      "        [ 0.0371,  0.8939, -0.0352,  0.0479],\n",
      "        [ 5.0000,  0.1000, -0.2250, -1.0000],\n",
      "        [ 3.9816,  9.5154, -0.5785, -1.0000],\n",
      "        [ 0.0000,  1.8801, -0.4446, -0.1116]], dtype=torch.float64)\n"
     ]
    },
    {
     "name": "stderr",
     "output_type": "stream",
     "text": [
      "c:\\Users\\stan\\miniconda3\\envs\\researchTP\\Lib\\site-packages\\linear_operator\\utils\\cholesky.py:40: NumericalWarning: A not p.d., added jitter of 1.0e-08 to the diagonal\n",
      "  warnings.warn(\n",
      "c:\\Users\\stan\\miniconda3\\envs\\researchTP\\Lib\\site-packages\\linear_operator\\utils\\cholesky.py:40: NumericalWarning: A not p.d., added jitter of 1.0e-07 to the diagonal\n",
      "  warnings.warn(\n",
      "c:\\Users\\stan\\miniconda3\\envs\\researchTP\\Lib\\site-packages\\linear_operator\\utils\\cholesky.py:40: NumericalWarning: A not p.d., added jitter of 1.0e-06 to the diagonal\n",
      "  warnings.warn(\n",
      "c:\\Users\\stan\\miniconda3\\envs\\researchTP\\Lib\\site-packages\\linear_operator\\utils\\cholesky.py:40: NumericalWarning: A not p.d., added jitter of 1.0e-05 to the diagonal\n",
      "  warnings.warn(\n",
      "c:\\Users\\stan\\miniconda3\\envs\\researchTP\\Lib\\site-packages\\linear_operator\\utils\\cholesky.py:40: NumericalWarning: A not p.d., added jitter of 1.0e-04 to the diagonal\n",
      "  warnings.warn(\n",
      "c:\\Users\\stan\\miniconda3\\envs\\researchTP\\Lib\\site-packages\\linear_operator\\utils\\cholesky.py:40: NumericalWarning: A not p.d., added jitter of 1.0e-03 to the diagonal\n",
      "  warnings.warn(\n",
      "c:\\Users\\stan\\miniconda3\\envs\\researchTP\\Lib\\site-packages\\botorch\\optim\\fit.py:102: OptimizationWarning: `scipy_minimize` terminated with status OptimizationStatus.FAILURE, displaying original message from `scipy.optimize.minimize`: ABNORMAL_TERMINATION_IN_LNSRCH\n",
      "  warn(\n",
      " 48%|████▊     | 24/50 [02:22<02:45,  6.37s/it]"
     ]
    },
    {
     "name": "stdout",
     "output_type": "stream",
     "text": [
      "Iterations 76\n",
      "Maximizing with EGP\n",
      "Seed: 27\n",
      "Initial points: tensor([[ 0.0000,  4.0745, -0.3206, -1.0000],\n",
      "        [ 0.0000,  0.4773,  0.0410,  0.1919],\n",
      "        [ 0.0000,  3.2952, -0.2010, -0.1887],\n",
      "        [ 0.6155,  3.1238, -0.2301, -0.0963],\n",
      "        [ 0.0000,  2.5903, -0.2736, -0.1288]], dtype=torch.float64)\n"
     ]
    },
    {
     "name": "stderr",
     "output_type": "stream",
     "text": [
      " 50%|█████     | 25/50 [02:26<02:19,  5.58s/it]"
     ]
    },
    {
     "name": "stdout",
     "output_type": "stream",
     "text": [
      "Iterations 32\n",
      "Maximizing with EGP\n",
      "Seed: 574\n",
      "Initial points: tensor([[ 0.0000,  1.6900, -0.4148, -0.5639],\n",
      "        [ 5.0000,  5.1008, -0.3230, -1.0000],\n",
      "        [ 5.0000,  0.1000,  1.0000, -1.0000],\n",
      "        [ 0.0000,  2.2215, -0.3013, -0.2119],\n",
      "        [ 5.0000,  0.1000,  0.1965, -1.0000]], dtype=torch.float64)\n"
     ]
    },
    {
     "name": "stderr",
     "output_type": "stream",
     "text": [
      " 52%|█████▏    | 26/50 [02:30<02:03,  5.17s/it]"
     ]
    },
    {
     "name": "stdout",
     "output_type": "stream",
     "text": [
      "Iterations 37\n",
      "Maximizing with EGP\n",
      "Seed: 203\n",
      "Initial points: tensor([[ 0.0000,  3.0434, -0.2217,  0.0858],\n",
      "        [ 0.0000,  1.0000,  0.0000,  0.0000],\n",
      "        [ 0.0000,  2.3259, -0.2947, -0.1951],\n",
      "        [ 3.4858,  5.9210, -0.2205, -1.0000],\n",
      "        [ 0.0000,  8.0179, -0.2473, -0.2150]], dtype=torch.float64)\n"
     ]
    },
    {
     "name": "stderr",
     "output_type": "stream",
     "text": [
      " 54%|█████▍    | 27/50 [02:34<01:51,  4.83s/it]"
     ]
    },
    {
     "name": "stdout",
     "output_type": "stream",
     "text": [
      "Iterations 35\n",
      "Maximizing with EGP\n",
      "Seed: 733\n",
      "Initial points: tensor([[ 2.5592,  2.7477, -0.1235, -1.0000],\n",
      "        [ 0.0000, 10.0000,  0.0697, -1.0000],\n",
      "        [ 1.4521,  4.7555, -0.2764, -1.0000],\n",
      "        [ 0.0000,  3.2225, -0.2445, -0.0745],\n",
      "        [ 2.0609,  5.4800,  0.0944,  0.1017]], dtype=torch.float64)\n"
     ]
    },
    {
     "name": "stderr",
     "output_type": "stream",
     "text": [
      "c:\\Users\\stan\\miniconda3\\envs\\researchTP\\Lib\\site-packages\\botorch\\optim\\fit.py:102: OptimizationWarning: `scipy_minimize` terminated with status OptimizationStatus.FAILURE, displaying original message from `scipy.optimize.minimize`: ABNORMAL_TERMINATION_IN_LNSRCH\n",
      "  warn(\n",
      " 56%|█████▌    | 28/50 [02:41<01:58,  5.40s/it]"
     ]
    },
    {
     "name": "stdout",
     "output_type": "stream",
     "text": [
      "Iterations 77\n",
      "Maximizing with EGP\n",
      "Seed: 665\n",
      "Initial points: tensor([[ 0.0000,  2.4295, -0.2861, -0.1720],\n",
      "        [ 0.0000,  8.0179, -0.2473, -0.2150],\n",
      "        [ 3.4858,  5.9210, -0.2205, -1.0000],\n",
      "        [ 0.0000,  3.4102, -0.1820, -0.2266],\n",
      "        [ 0.7424,  1.7146, -0.3803, -0.4165]], dtype=torch.float64)\n"
     ]
    },
    {
     "name": "stderr",
     "output_type": "stream",
     "text": [
      " 58%|█████▊    | 29/50 [02:46<01:49,  5.22s/it]"
     ]
    },
    {
     "name": "stdout",
     "output_type": "stream",
     "text": [
      "Iterations 36\n",
      "Maximizing with EGP\n",
      "Seed: 718\n",
      "Initial points: tensor([[ 5.0000,  0.1000,  1.0000, -1.0000],\n",
      "        [ 2.5592,  2.7477, -0.1235, -1.0000],\n",
      "        [ 0.0000,  3.1974, -0.2930, -0.0577],\n",
      "        [ 5.0000,  5.1008, -0.3230, -1.0000],\n",
      "        [ 5.0000,  8.5632, -0.3571, -1.0000]], dtype=torch.float64)\n"
     ]
    },
    {
     "name": "stderr",
     "output_type": "stream",
     "text": [
      "c:\\Users\\stan\\miniconda3\\envs\\researchTP\\Lib\\site-packages\\botorch\\optim\\fit.py:102: OptimizationWarning: `scipy_minimize` terminated with status OptimizationStatus.FAILURE, displaying original message from `scipy.optimize.minimize`: ABNORMAL_TERMINATION_IN_LNSRCH\n",
      "  warn(\n",
      " 60%|██████    | 30/50 [02:50<01:38,  4.94s/it]"
     ]
    },
    {
     "name": "stdout",
     "output_type": "stream",
     "text": [
      "Iterations 45\n",
      "Maximizing with EGP\n",
      "Seed: 429\n",
      "Initial points: tensor([[ 0.0000,  1.5680, -0.3353, -0.3658],\n",
      "        [ 0.0000,  1.5957, -0.3206, -0.4308],\n",
      "        [ 1.4521,  4.7555, -0.2764, -1.0000],\n",
      "        [ 3.8362,  0.1000, -0.5153, -1.0000],\n",
      "        [ 0.0000,  3.2952, -0.2010, -0.1887]], dtype=torch.float64)\n"
     ]
    },
    {
     "name": "stderr",
     "output_type": "stream",
     "text": [
      " 62%|██████▏   | 31/50 [02:57<01:43,  5.43s/it]"
     ]
    },
    {
     "name": "stdout",
     "output_type": "stream",
     "text": [
      "Iterations 54\n",
      "Maximizing with EGP\n",
      "Seed: 225\n",
      "Initial points: tensor([[ 0.0000,  4.0745, -0.3206, -1.0000],\n",
      "        [ 5.0000,  0.1000,  0.1965, -1.0000],\n",
      "        [ 0.0000,  8.0179, -0.2473, -0.2150],\n",
      "        [ 0.0000,  3.2714, -0.2151, -0.1070],\n",
      "        [ 0.0000,  0.1000, -0.5623, -1.0000]], dtype=torch.float64)\n"
     ]
    },
    {
     "name": "stderr",
     "output_type": "stream",
     "text": [
      "c:\\Users\\stan\\miniconda3\\envs\\researchTP\\Lib\\site-packages\\botorch\\optim\\fit.py:102: OptimizationWarning: `scipy_minimize` terminated with status OptimizationStatus.FAILURE, displaying original message from `scipy.optimize.minimize`: ABNORMAL_TERMINATION_IN_LNSRCH\n",
      "  warn(\n",
      " 64%|██████▍   | 32/50 [03:01<01:31,  5.06s/it]"
     ]
    },
    {
     "name": "stdout",
     "output_type": "stream",
     "text": [
      "Iterations 42\n",
      "Maximizing with EGP\n",
      "Seed: 459\n",
      "Initial points: tensor([[ 5.0000,  0.1000,  1.0000, -1.0000],\n",
      "        [ 2.6662,  3.4044, -0.3233, -1.0000],\n",
      "        [ 0.0000,  3.4102, -0.1820, -0.2266],\n",
      "        [ 0.0000,  6.3258, -0.2227,  1.0000],\n",
      "        [ 0.9915,  3.3743, -0.2587, -0.4005]], dtype=torch.float64)\n"
     ]
    },
    {
     "name": "stderr",
     "output_type": "stream",
     "text": [
      "c:\\Users\\stan\\miniconda3\\envs\\researchTP\\Lib\\site-packages\\botorch\\optim\\fit.py:102: OptimizationWarning: `scipy_minimize` terminated with status OptimizationStatus.FAILURE, displaying original message from `scipy.optimize.minimize`: ABNORMAL_TERMINATION_IN_LNSRCH\n",
      "  warn(\n",
      "c:\\Users\\stan\\miniconda3\\envs\\researchTP\\Lib\\site-packages\\linear_operator\\utils\\cholesky.py:40: NumericalWarning: A not p.d., added jitter of 1.0e-08 to the diagonal\n",
      "  warnings.warn(\n",
      "c:\\Users\\stan\\miniconda3\\envs\\researchTP\\Lib\\site-packages\\linear_operator\\utils\\cholesky.py:40: NumericalWarning: A not p.d., added jitter of 1.0e-07 to the diagonal\n",
      "  warnings.warn(\n",
      "c:\\Users\\stan\\miniconda3\\envs\\researchTP\\Lib\\site-packages\\linear_operator\\utils\\cholesky.py:40: NumericalWarning: A not p.d., added jitter of 1.0e-06 to the diagonal\n",
      "  warnings.warn(\n",
      "c:\\Users\\stan\\miniconda3\\envs\\researchTP\\Lib\\site-packages\\linear_operator\\utils\\cholesky.py:40: NumericalWarning: A not p.d., added jitter of 1.0e-05 to the diagonal\n",
      "  warnings.warn(\n",
      "c:\\Users\\stan\\miniconda3\\envs\\researchTP\\Lib\\site-packages\\linear_operator\\utils\\cholesky.py:40: NumericalWarning: A not p.d., added jitter of 1.0e-04 to the diagonal\n",
      "  warnings.warn(\n",
      " 66%|██████▌   | 33/50 [03:09<01:42,  6.03s/it]"
     ]
    },
    {
     "name": "stdout",
     "output_type": "stream",
     "text": [
      "Iterations 77\n",
      "Maximizing with EGP\n",
      "Seed: 603\n",
      "Initial points: tensor([[ 5.0000,  8.5632, -0.3571, -1.0000],\n",
      "        [ 0.0000,  3.2952, -0.2010, -0.1887],\n",
      "        [ 5.0000,  4.5458, -0.4541, -1.0000],\n",
      "        [ 0.0000,  0.1000, -0.2634, -1.0000],\n",
      "        [ 0.0000,  2.5903, -0.2736, -0.1288]], dtype=torch.float64)\n"
     ]
    },
    {
     "name": "stderr",
     "output_type": "stream",
     "text": [
      "c:\\Users\\stan\\miniconda3\\envs\\researchTP\\Lib\\site-packages\\linear_operator\\utils\\cholesky.py:40: NumericalWarning: A not p.d., added jitter of 1.0e-08 to the diagonal\n",
      "  warnings.warn(\n",
      "c:\\Users\\stan\\miniconda3\\envs\\researchTP\\Lib\\site-packages\\linear_operator\\utils\\cholesky.py:40: NumericalWarning: A not p.d., added jitter of 1.0e-07 to the diagonal\n",
      "  warnings.warn(\n",
      "c:\\Users\\stan\\miniconda3\\envs\\researchTP\\Lib\\site-packages\\linear_operator\\utils\\cholesky.py:40: NumericalWarning: A not p.d., added jitter of 1.0e-06 to the diagonal\n",
      "  warnings.warn(\n",
      "c:\\Users\\stan\\miniconda3\\envs\\researchTP\\Lib\\site-packages\\linear_operator\\utils\\cholesky.py:40: NumericalWarning: A not p.d., added jitter of 1.0e-05 to the diagonal\n",
      "  warnings.warn(\n",
      "c:\\Users\\stan\\miniconda3\\envs\\researchTP\\Lib\\site-packages\\linear_operator\\utils\\cholesky.py:40: NumericalWarning: A not p.d., added jitter of 1.0e-04 to the diagonal\n",
      "  warnings.warn(\n",
      " 68%|██████▊   | 34/50 [03:16<01:39,  6.24s/it]"
     ]
    },
    {
     "name": "stdout",
     "output_type": "stream",
     "text": [
      "Iterations 77\n",
      "Maximizing with EGP\n",
      "Seed: 284\n",
      "Initial points: tensor([[ 0.0000,  3.0434, -0.2217,  0.0858],\n",
      "        [ 5.0000,  5.1008, -0.3230, -1.0000],\n",
      "        [ 0.0000,  0.1000, -0.2634, -1.0000],\n",
      "        [ 5.0000,  0.1000, -0.2250, -1.0000],\n",
      "        [ 0.0000,  4.0745, -0.3206, -1.0000]], dtype=torch.float64)\n"
     ]
    },
    {
     "name": "stderr",
     "output_type": "stream",
     "text": [
      " 70%|███████   | 35/50 [03:23<01:34,  6.33s/it]"
     ]
    },
    {
     "name": "stdout",
     "output_type": "stream",
     "text": [
      "Iterations 77\n",
      "Maximizing with EGP\n",
      "Seed: 828\n",
      "Initial points: tensor([[ 2.1384,  0.1000, -0.4647, -1.0000],\n",
      "        [ 3.4858,  5.9210, -0.2205, -1.0000],\n",
      "        [ 0.0000,  4.0745, -0.3206, -1.0000],\n",
      "        [ 0.0000,  0.1000, -0.8373, -1.0000],\n",
      "        [ 0.0000,  3.2760, -0.2948,  0.0833]], dtype=torch.float64)\n"
     ]
    },
    {
     "name": "stderr",
     "output_type": "stream",
     "text": [
      "c:\\Users\\stan\\miniconda3\\envs\\researchTP\\Lib\\site-packages\\linear_operator\\utils\\cholesky.py:40: NumericalWarning: A not p.d., added jitter of 1.0e-08 to the diagonal\n",
      "  warnings.warn(\n",
      "c:\\Users\\stan\\miniconda3\\envs\\researchTP\\Lib\\site-packages\\linear_operator\\utils\\cholesky.py:40: NumericalWarning: A not p.d., added jitter of 1.0e-07 to the diagonal\n",
      "  warnings.warn(\n",
      "c:\\Users\\stan\\miniconda3\\envs\\researchTP\\Lib\\site-packages\\linear_operator\\utils\\cholesky.py:40: NumericalWarning: A not p.d., added jitter of 1.0e-06 to the diagonal\n",
      "  warnings.warn(\n",
      "c:\\Users\\stan\\miniconda3\\envs\\researchTP\\Lib\\site-packages\\linear_operator\\utils\\cholesky.py:40: NumericalWarning: A not p.d., added jitter of 1.0e-05 to the diagonal\n",
      "  warnings.warn(\n",
      "c:\\Users\\stan\\miniconda3\\envs\\researchTP\\Lib\\site-packages\\linear_operator\\utils\\cholesky.py:40: NumericalWarning: A not p.d., added jitter of 1.0e-04 to the diagonal\n",
      "  warnings.warn(\n",
      " 72%|███████▏  | 36/50 [03:29<01:28,  6.33s/it]"
     ]
    },
    {
     "name": "stdout",
     "output_type": "stream",
     "text": [
      "Iterations 77\n",
      "Maximizing with EGP\n",
      "Seed: 890\n",
      "Initial points: tensor([[ 0.0000,  1.8085, -0.4126, -0.2537],\n",
      "        [ 3.7044, 10.0000, -0.3167, -1.0000],\n",
      "        [ 5.0000,  7.4215, -0.4697, -1.0000],\n",
      "        [ 2.5592,  2.7477, -0.1235, -1.0000],\n",
      "        [ 2.0609,  5.4800,  0.0944,  0.1017]], dtype=torch.float64)\n"
     ]
    },
    {
     "name": "stderr",
     "output_type": "stream",
     "text": [
      " 74%|███████▍  | 37/50 [03:34<01:19,  6.10s/it]"
     ]
    },
    {
     "name": "stdout",
     "output_type": "stream",
     "text": [
      "Iterations 43\n",
      "Maximizing with EGP\n",
      "Seed: 6\n",
      "Initial points: tensor([[ 0.0000,  6.3258, -0.2227,  1.0000],\n",
      "        [ 0.6155,  3.1238, -0.2301, -0.0963],\n",
      "        [ 0.0000,  3.2225, -0.2445, -0.0745],\n",
      "        [ 0.0000,  1.5957, -0.3206, -0.4308],\n",
      "        [ 0.0000,  3.2952, -0.2010, -0.1887]], dtype=torch.float64)\n"
     ]
    },
    {
     "name": "stderr",
     "output_type": "stream",
     "text": [
      "c:\\Users\\stan\\miniconda3\\envs\\researchTP\\Lib\\site-packages\\botorch\\optim\\fit.py:102: OptimizationWarning: `scipy_minimize` terminated with status OptimizationStatus.FAILURE, displaying original message from `scipy.optimize.minimize`: ABNORMAL_TERMINATION_IN_LNSRCH\n",
      "  warn(\n",
      " 76%|███████▌  | 38/50 [03:39<01:08,  5.68s/it]"
     ]
    },
    {
     "name": "stdout",
     "output_type": "stream",
     "text": [
      "Iterations 35\n",
      "Maximizing with EGP\n",
      "Seed: 777\n",
      "Initial points: tensor([[ 0.0000,  3.3556, -0.2666, -0.4412],\n",
      "        [ 0.9915,  3.3743, -0.2587, -0.4005],\n",
      "        [ 0.0000,  1.8801, -0.4446, -0.1116],\n",
      "        [ 0.6155,  3.1238, -0.2301, -0.0963],\n",
      "        [ 3.1350,  0.1000, -0.2861,  0.2420]], dtype=torch.float64)\n"
     ]
    },
    {
     "name": "stderr",
     "output_type": "stream",
     "text": [
      " 78%|███████▊  | 39/50 [03:44<00:58,  5.29s/it]"
     ]
    },
    {
     "name": "stdout",
     "output_type": "stream",
     "text": [
      "Iterations 35\n",
      "Maximizing with EGP\n",
      "Seed: 825\n",
      "Initial points: tensor([[ 1.0785,  3.8093, -0.4061, -0.2996],\n",
      "        [ 3.4858,  5.9210, -0.2205, -1.0000],\n",
      "        [ 5.0000, 10.0000, -0.3926, -1.0000],\n",
      "        [ 5.0000, 10.0000, -0.4538, -1.0000],\n",
      "        [ 0.6155,  3.1238, -0.2301, -0.0963]], dtype=torch.float64)\n"
     ]
    },
    {
     "name": "stderr",
     "output_type": "stream",
     "text": [
      "c:\\Users\\stan\\miniconda3\\envs\\researchTP\\Lib\\site-packages\\linear_operator\\utils\\cholesky.py:40: NumericalWarning: A not p.d., added jitter of 1.0e-08 to the diagonal\n",
      "  warnings.warn(\n",
      "c:\\Users\\stan\\miniconda3\\envs\\researchTP\\Lib\\site-packages\\linear_operator\\utils\\cholesky.py:40: NumericalWarning: A not p.d., added jitter of 1.0e-07 to the diagonal\n",
      "  warnings.warn(\n",
      "c:\\Users\\stan\\miniconda3\\envs\\researchTP\\Lib\\site-packages\\linear_operator\\utils\\cholesky.py:40: NumericalWarning: A not p.d., added jitter of 1.0e-06 to the diagonal\n",
      "  warnings.warn(\n",
      "c:\\Users\\stan\\miniconda3\\envs\\researchTP\\Lib\\site-packages\\linear_operator\\utils\\cholesky.py:40: NumericalWarning: A not p.d., added jitter of 1.0e-05 to the diagonal\n",
      "  warnings.warn(\n",
      "c:\\Users\\stan\\miniconda3\\envs\\researchTP\\Lib\\site-packages\\linear_operator\\utils\\cholesky.py:40: NumericalWarning: A not p.d., added jitter of 1.0e-04 to the diagonal\n",
      "  warnings.warn(\n",
      "c:\\Users\\stan\\miniconda3\\envs\\researchTP\\Lib\\site-packages\\linear_operator\\utils\\cholesky.py:40: NumericalWarning: A not p.d., added jitter of 1.0e-03 to the diagonal\n",
      "  warnings.warn(\n",
      " 80%|████████  | 40/50 [03:47<00:48,  4.86s/it]"
     ]
    },
    {
     "name": "stdout",
     "output_type": "stream",
     "text": [
      "Iterations 53\n",
      "Maximizing with EGP\n",
      "Seed: 163\n",
      "Initial points: tensor([[ 2.1384,  0.1000, -0.4647, -1.0000],\n",
      "        [ 3.7044, 10.0000, -0.3167, -1.0000],\n",
      "        [ 0.0000,  1.5957, -0.3206, -0.4308],\n",
      "        [ 5.0000,  0.1000, -0.4233, -1.0000],\n",
      "        [ 5.0000, 10.0000, -0.0304, -1.0000]], dtype=torch.float64)\n"
     ]
    },
    {
     "name": "stderr",
     "output_type": "stream",
     "text": [
      " 82%|████████▏ | 41/50 [03:53<00:44,  4.99s/it]"
     ]
    },
    {
     "name": "stdout",
     "output_type": "stream",
     "text": [
      "Iterations 41\n",
      "Maximizing with EGP\n",
      "Seed: 714\n",
      "Initial points: tensor([[ 0.0000,  1.5680, -0.3353, -0.3658],\n",
      "        [ 0.0000,  3.4102, -0.1820, -0.2266],\n",
      "        [ 0.0371,  0.8939, -0.0352,  0.0479],\n",
      "        [ 0.0000,  1.0000,  0.0000,  0.0000],\n",
      "        [ 3.7044, 10.0000, -0.3167, -1.0000]], dtype=torch.float64)\n"
     ]
    },
    {
     "name": "stderr",
     "output_type": "stream",
     "text": [
      "c:\\Users\\stan\\miniconda3\\envs\\researchTP\\Lib\\site-packages\\botorch\\optim\\fit.py:102: OptimizationWarning: `scipy_minimize` terminated with status OptimizationStatus.FAILURE, displaying original message from `scipy.optimize.minimize`: ABNORMAL_TERMINATION_IN_LNSRCH\n",
      "  warn(\n",
      " 84%|████████▍ | 42/50 [04:00<00:45,  5.64s/it]"
     ]
    },
    {
     "name": "stdout",
     "output_type": "stream",
     "text": [
      "Iterations 76\n",
      "Maximizing with EGP\n",
      "Seed: 348\n",
      "Initial points: tensor([[ 0.0000,  3.2714, -0.2151, -0.1070],\n",
      "        [ 3.9816,  9.5154, -0.5785, -1.0000],\n",
      "        [ 1.0785,  3.8093, -0.4061, -0.2996],\n",
      "        [ 0.0000,  2.5903, -0.2736, -0.1288],\n",
      "        [ 5.0000,  6.4638, -0.4718, -0.5640]], dtype=torch.float64)\n"
     ]
    },
    {
     "name": "stderr",
     "output_type": "stream",
     "text": [
      " 86%|████████▌ | 43/50 [04:04<00:37,  5.32s/it]"
     ]
    },
    {
     "name": "stdout",
     "output_type": "stream",
     "text": [
      "Iterations 47\n",
      "Maximizing with EGP\n",
      "Seed: 159\n",
      "Initial points: tensor([[ 0.0000,  0.1000, -0.5623, -1.0000],\n",
      "        [ 0.0000, 10.0000,  0.0697, -1.0000],\n",
      "        [ 0.0000,  4.0745, -0.3206, -1.0000],\n",
      "        [ 3.1350,  0.1000, -0.2861,  0.2420],\n",
      "        [ 0.0000,  0.1000, -0.3833, -0.0260]], dtype=torch.float64)\n"
     ]
    },
    {
     "name": "stderr",
     "output_type": "stream",
     "text": [
      " 88%|████████▊ | 44/50 [04:13<00:37,  6.28s/it]"
     ]
    },
    {
     "name": "stdout",
     "output_type": "stream",
     "text": [
      "Iterations 79\n",
      "Maximizing with EGP\n",
      "Seed: 220\n",
      "Initial points: tensor([[ 0.0000,  3.4039, -0.3961, -0.5694],\n",
      "        [ 0.0000,  2.0191, -0.3103, -0.2361],\n",
      "        [ 0.0000,  0.1000, -0.5623, -1.0000],\n",
      "        [ 0.0000,  3.2964, -0.2238, -0.0925],\n",
      "        [ 0.0371,  0.8939, -0.0352,  0.0479]], dtype=torch.float64)\n"
     ]
    },
    {
     "name": "stderr",
     "output_type": "stream",
     "text": [
      " 90%|█████████ | 45/50 [04:17<00:28,  5.70s/it]"
     ]
    },
    {
     "name": "stdout",
     "output_type": "stream",
     "text": [
      "Iterations 40\n",
      "Maximizing with EGP\n",
      "Seed: 980\n",
      "Initial points: tensor([[ 0.0000,  1.5957, -0.3206, -0.4308],\n",
      "        [ 0.0000,  2.3259, -0.2947, -0.1951],\n",
      "        [ 1.0785,  3.8093, -0.4061, -0.2996],\n",
      "        [ 0.6155,  3.1238, -0.2301, -0.0963],\n",
      "        [ 1.4521,  4.7555, -0.2764, -1.0000]], dtype=torch.float64)\n"
     ]
    },
    {
     "name": "stderr",
     "output_type": "stream",
     "text": [
      "c:\\Users\\stan\\miniconda3\\envs\\researchTP\\Lib\\site-packages\\botorch\\optim\\fit.py:102: OptimizationWarning: `scipy_minimize` terminated with status OptimizationStatus.FAILURE, displaying original message from `scipy.optimize.minimize`: ABNORMAL_TERMINATION_IN_LNSRCH\n",
      "  warn(\n",
      " 92%|█████████▏| 46/50 [04:25<00:25,  6.33s/it]"
     ]
    },
    {
     "name": "stdout",
     "output_type": "stream",
     "text": [
      "Iterations 78\n",
      "Maximizing with EGP\n",
      "Seed: 781\n",
      "Initial points: tensor([[ 5.0000,  0.1000, -0.4233, -1.0000],\n",
      "        [ 0.0000,  3.1775, -0.2716, -0.0639],\n",
      "        [ 0.0000,  3.1974, -0.2930, -0.0577],\n",
      "        [ 0.0000,  1.8085, -0.4126, -0.2537],\n",
      "        [ 0.0000,  3.2952, -0.2010, -0.1887]], dtype=torch.float64)\n"
     ]
    },
    {
     "name": "stderr",
     "output_type": "stream",
     "text": [
      "c:\\Users\\stan\\miniconda3\\envs\\researchTP\\Lib\\site-packages\\linear_operator\\utils\\cholesky.py:40: NumericalWarning: A not p.d., added jitter of 1.0e-08 to the diagonal\n",
      "  warnings.warn(\n",
      "c:\\Users\\stan\\miniconda3\\envs\\researchTP\\Lib\\site-packages\\linear_operator\\utils\\cholesky.py:40: NumericalWarning: A not p.d., added jitter of 1.0e-07 to the diagonal\n",
      "  warnings.warn(\n",
      "c:\\Users\\stan\\miniconda3\\envs\\researchTP\\Lib\\site-packages\\linear_operator\\utils\\cholesky.py:40: NumericalWarning: A not p.d., added jitter of 1.0e-06 to the diagonal\n",
      "  warnings.warn(\n",
      "c:\\Users\\stan\\miniconda3\\envs\\researchTP\\Lib\\site-packages\\linear_operator\\utils\\cholesky.py:40: NumericalWarning: A not p.d., added jitter of 1.0e-05 to the diagonal\n",
      "  warnings.warn(\n",
      "c:\\Users\\stan\\miniconda3\\envs\\researchTP\\Lib\\site-packages\\linear_operator\\utils\\cholesky.py:40: NumericalWarning: A not p.d., added jitter of 1.0e-04 to the diagonal\n",
      "  warnings.warn(\n",
      "c:\\Users\\stan\\miniconda3\\envs\\researchTP\\Lib\\site-packages\\linear_operator\\utils\\cholesky.py:40: NumericalWarning: A not p.d., added jitter of 1.0e-03 to the diagonal\n",
      "  warnings.warn(\n",
      " 94%|█████████▍| 47/50 [04:30<00:17,  5.99s/it]"
     ]
    },
    {
     "name": "stdout",
     "output_type": "stream",
     "text": [
      "Iterations 44\n",
      "Maximizing with EGP\n",
      "Seed: 344\n",
      "Initial points: tensor([[ 5.0000,  4.5458, -0.4541, -1.0000],\n",
      "        [ 1.7240,  4.1278, -0.3176, -0.5578],\n",
      "        [ 5.0000,  0.1000, -0.2250, -1.0000],\n",
      "        [ 0.0000,  3.3837, -0.3171,  0.0079],\n",
      "        [ 5.0000,  5.0000, -0.1000, -0.1000]], dtype=torch.float64)\n"
     ]
    },
    {
     "name": "stderr",
     "output_type": "stream",
     "text": [
      " 96%|█████████▌| 48/50 [04:34<00:10,  5.44s/it]"
     ]
    },
    {
     "name": "stdout",
     "output_type": "stream",
     "text": [
      "Iterations 48\n",
      "Maximizing with EGP\n",
      "Seed: 94\n",
      "Initial points: tensor([[ 0.0000,  0.1000, -0.5623, -1.0000],\n",
      "        [ 1.0785,  3.8093, -0.4061, -0.2996],\n",
      "        [ 0.0000,  0.1000, -0.1540, -0.6338],\n",
      "        [ 2.1384,  0.1000, -0.4647, -1.0000],\n",
      "        [ 2.0609,  5.4800,  0.0944,  0.1017]], dtype=torch.float64)\n"
     ]
    },
    {
     "name": "stderr",
     "output_type": "stream",
     "text": [
      " 98%|█████████▊| 49/50 [04:42<00:06,  6.19s/it]"
     ]
    },
    {
     "name": "stdout",
     "output_type": "stream",
     "text": [
      "Iterations 74\n",
      "Maximizing with EGP\n",
      "Seed: 389\n",
      "Initial points: tensor([[ 0.0000,  0.1000, -0.1540, -0.6338],\n",
      "        [ 0.0000,  2.2215, -0.3013, -0.2119],\n",
      "        [ 0.0000,  3.3556, -0.2666, -0.4412],\n",
      "        [ 0.0000,  2.3259, -0.2947, -0.1951],\n",
      "        [ 2.5684,  4.1282, -0.5554, -1.0000]], dtype=torch.float64)\n"
     ]
    },
    {
     "name": "stderr",
     "output_type": "stream",
     "text": [
      "100%|██████████| 50/50 [04:50<00:00,  5.82s/it]\n"
     ]
    },
    {
     "name": "stdout",
     "output_type": "stream",
     "text": [
      "Iterations 80\n"
     ]
    },
    {
     "name": "stderr",
     "output_type": "stream",
     "text": [
      "  0%|          | 0/50 [00:00<?, ?it/s]"
     ]
    },
    {
     "name": "stdout",
     "output_type": "stream",
     "text": [
      "Maximizing with VGP\n",
      "Seed: 654\n",
      "Initial points: tensor([[ 3.7934,  6.3214, -0.3911, -1.0000],\n",
      "        [ 0.0000,  2.4295, -0.2861, -0.1720],\n",
      "        [ 0.0000,  3.1775, -0.2716, -0.0639],\n",
      "        [ 1.7240,  4.1278, -0.3176, -0.5578],\n",
      "        [ 0.0000,  3.1974, -0.2930, -0.0577]], dtype=torch.float64)\n"
     ]
    },
    {
     "name": "stderr",
     "output_type": "stream",
     "text": [
      "  2%|▏         | 1/50 [00:15<12:30, 15.32s/it]"
     ]
    },
    {
     "name": "stdout",
     "output_type": "stream",
     "text": [
      "Iterations 77\n",
      "Maximizing with VGP\n",
      "Seed: 114\n",
      "Initial points: tensor([[ 2.5684,  4.1282, -0.5554, -1.0000],\n",
      "        [ 2.2161,  0.1000, -0.3517, -0.6288],\n",
      "        [ 0.0000,  3.0434, -0.2217,  0.0858],\n",
      "        [ 0.0000,  2.0191, -0.3103, -0.2361],\n",
      "        [ 0.0000,  4.0745, -0.3206, -1.0000]], dtype=torch.float64)\n"
     ]
    },
    {
     "name": "stderr",
     "output_type": "stream",
     "text": [
      "  4%|▍         | 2/50 [00:22<08:24, 10.52s/it]"
     ]
    },
    {
     "name": "stdout",
     "output_type": "stream",
     "text": [
      "Iterations 38\n",
      "Maximizing with VGP\n",
      "Seed: 25\n",
      "Initial points: tensor([[ 0.0000e+00,  3.3837e+00, -3.1714e-01,  7.9208e-03],\n",
      "        [ 3.7044e+00,  1.0000e+01, -3.1670e-01, -1.0000e+00],\n",
      "        [ 2.6662e+00,  3.4044e+00, -3.2334e-01, -1.0000e+00],\n",
      "        [ 5.0000e+00,  1.0000e-01, -2.2501e-01, -1.0000e+00],\n",
      "        [ 5.0000e+00,  4.5458e+00, -4.5406e-01, -1.0000e+00]],\n",
      "       dtype=torch.float64)\n"
     ]
    },
    {
     "name": "stderr",
     "output_type": "stream",
     "text": [
      "  6%|▌         | 3/50 [00:27<06:08,  7.85s/it]"
     ]
    },
    {
     "name": "stdout",
     "output_type": "stream",
     "text": [
      "Iterations 25\n",
      "Maximizing with VGP\n",
      "Seed: 759\n",
      "Initial points: tensor([[ 0.0000,  0.1000, -0.3833, -0.0260],\n",
      "        [ 5.0000,  4.5458, -0.4541, -1.0000],\n",
      "        [ 5.0000,  5.0000, -0.1000, -0.1000],\n",
      "        [ 0.9915,  3.3743, -0.2587, -0.4005],\n",
      "        [ 0.0000,  3.1669, -0.3151, -0.3476]], dtype=torch.float64)\n"
     ]
    },
    {
     "name": "stderr",
     "output_type": "stream",
     "text": [
      "  8%|▊         | 4/50 [00:42<08:20, 10.87s/it]"
     ]
    },
    {
     "name": "stdout",
     "output_type": "stream",
     "text": [
      "Iterations 78\n",
      "Maximizing with VGP\n",
      "Seed: 281\n",
      "Initial points: tensor([[ 0.0000,  2.5903, -0.2736, -0.1288],\n",
      "        [ 0.7424,  1.7146, -0.3803, -0.4165],\n",
      "        [ 0.0000,  2.0191, -0.3103, -0.2361],\n",
      "        [ 0.0000,  0.1000, -0.3998,  1.0000],\n",
      "        [ 0.0000,  0.1000, -0.8373, -1.0000]], dtype=torch.float64)\n"
     ]
    },
    {
     "name": "stderr",
     "output_type": "stream",
     "text": [
      " 10%|█         | 5/50 [00:57<09:21, 12.48s/it]"
     ]
    },
    {
     "name": "stdout",
     "output_type": "stream",
     "text": [
      "Iterations 77\n",
      "Maximizing with VGP\n",
      "Seed: 250\n",
      "Initial points: tensor([[ 5.0000, 10.0000, -0.0304, -1.0000],\n",
      "        [ 0.0000,  0.1000, -0.3833, -0.0260],\n",
      "        [ 2.6662,  3.4044, -0.3233, -1.0000],\n",
      "        [ 5.0000,  6.4638, -0.4718, -0.5640],\n",
      "        [ 0.9915,  3.3743, -0.2587, -0.4005]], dtype=torch.float64)\n"
     ]
    },
    {
     "name": "stderr",
     "output_type": "stream",
     "text": [
      " 12%|█▏        | 6/50 [01:13<09:51, 13.44s/it]"
     ]
    },
    {
     "name": "stdout",
     "output_type": "stream",
     "text": [
      "Iterations 77\n",
      "Maximizing with VGP\n",
      "Seed: 228\n",
      "Initial points: tensor([[ 3.5559,  6.5677, -0.4093, -1.0000],\n",
      "        [ 1.4521,  4.7555, -0.2764, -1.0000],\n",
      "        [ 0.0000,  0.1000, -0.2270, -0.2032],\n",
      "        [ 0.0000,  0.4773,  0.0410,  0.1919],\n",
      "        [ 0.0000,  8.0179, -0.2473, -0.2150]], dtype=torch.float64)\n"
     ]
    },
    {
     "name": "stderr",
     "output_type": "stream",
     "text": [
      " 14%|█▍        | 7/50 [01:18<07:45, 10.83s/it]"
     ]
    },
    {
     "name": "stdout",
     "output_type": "stream",
     "text": [
      "Iterations 29\n",
      "Maximizing with VGP\n",
      "Seed: 142\n",
      "Initial points: tensor([[ 5.0000,  4.5458, -0.4541, -1.0000],\n",
      "        [ 0.9915,  3.3743, -0.2587, -0.4005],\n",
      "        [ 0.0000,  3.3212, -0.1959, -0.1870],\n",
      "        [ 0.0000,  0.1000, -0.2634, -1.0000],\n",
      "        [ 0.0000,  3.1775, -0.2716, -0.0639]], dtype=torch.float64)\n"
     ]
    },
    {
     "name": "stderr",
     "output_type": "stream",
     "text": [
      " 16%|█▌        | 8/50 [01:34<08:37, 12.32s/it]"
     ]
    },
    {
     "name": "stdout",
     "output_type": "stream",
     "text": [
      "Iterations 78\n",
      "Maximizing with VGP\n",
      "Seed: 754\n",
      "Initial points: tensor([[ 0.0000,  1.8801, -0.4446, -0.1116],\n",
      "        [ 0.0000,  3.0434, -0.2217,  0.0858],\n",
      "        [ 0.0000,  3.4039, -0.3961, -0.5694],\n",
      "        [ 0.0000,  3.1790, -0.2991, -0.0796],\n",
      "        [ 5.0000,  0.1000,  0.1965, -1.0000]], dtype=torch.float64)\n"
     ]
    },
    {
     "name": "stderr",
     "output_type": "stream",
     "text": [
      " 18%|█▊        | 9/50 [01:42<07:34, 11.08s/it]"
     ]
    },
    {
     "name": "stdout",
     "output_type": "stream",
     "text": [
      "Iterations 44\n",
      "Maximizing with VGP\n",
      "Seed: 104\n",
      "Initial points: tensor([[ 5.0000,  5.0000, -0.1000, -0.1000],\n",
      "        [ 5.0000,  1.7701, -0.7340, -1.0000],\n",
      "        [ 1.0785,  3.8093, -0.4061, -0.2996],\n",
      "        [ 3.5559,  6.5677, -0.4093, -1.0000],\n",
      "        [ 3.4858,  5.9210, -0.2205, -1.0000]], dtype=torch.float64)\n"
     ]
    },
    {
     "name": "stderr",
     "output_type": "stream",
     "text": [
      " 20%|██        | 10/50 [01:58<08:17, 12.43s/it]"
     ]
    },
    {
     "name": "stdout",
     "output_type": "stream",
     "text": [
      "Iterations 77\n",
      "Maximizing with VGP\n",
      "Seed: 692\n",
      "Initial points: tensor([[ 0.0000,  3.4102, -0.1820, -0.2266],\n",
      "        [ 5.0000,  1.7701, -0.7340, -1.0000],\n",
      "        [ 5.0000,  5.0000, -0.1000, -0.1000],\n",
      "        [ 0.0000,  0.1000, -0.2270, -0.2032],\n",
      "        [ 0.0000,  6.3258, -0.2227,  1.0000]], dtype=torch.float64)\n"
     ]
    },
    {
     "name": "stderr",
     "output_type": "stream",
     "text": [
      " 22%|██▏       | 11/50 [02:05<07:06, 10.94s/it]"
     ]
    },
    {
     "name": "stdout",
     "output_type": "stream",
     "text": [
      "Iterations 40\n",
      "Maximizing with VGP\n",
      "Seed: 758\n",
      "Initial points: tensor([[ 5.0000,  4.5458, -0.4541, -1.0000],\n",
      "        [ 0.0000,  0.1000, -0.5623, -1.0000],\n",
      "        [ 0.0000,  1.0000,  0.0000,  0.0000],\n",
      "        [ 3.9816,  9.5154, -0.5785, -1.0000],\n",
      "        [ 5.0000,  0.1000, -0.2250, -1.0000]], dtype=torch.float64)\n"
     ]
    },
    {
     "name": "stderr",
     "output_type": "stream",
     "text": [
      " 24%|██▍       | 12/50 [02:20<07:45, 12.25s/it]"
     ]
    },
    {
     "name": "stdout",
     "output_type": "stream",
     "text": [
      "Iterations 77\n",
      "Maximizing with VGP\n",
      "Seed: 913\n",
      "Initial points: tensor([[ 0.0000, 10.0000,  0.0697, -1.0000],\n",
      "        [ 2.0609,  5.4800,  0.0944,  0.1017],\n",
      "        [ 0.0000,  1.0000,  0.0000,  0.0000],\n",
      "        [ 3.8362,  0.1000, -0.5153, -1.0000],\n",
      "        [ 0.0000,  3.4102, -0.1820, -0.2266]], dtype=torch.float64)\n"
     ]
    },
    {
     "name": "stderr",
     "output_type": "stream",
     "text": [
      " 26%|██▌       | 13/50 [02:36<08:09, 13.24s/it]"
     ]
    },
    {
     "name": "stdout",
     "output_type": "stream",
     "text": [
      "Iterations 78\n",
      "Maximizing with VGP\n",
      "Seed: 558\n",
      "Initial points: tensor([[ 5.0000,  0.1000, -0.2250, -1.0000],\n",
      "        [ 5.0000,  8.5632, -0.3571, -1.0000],\n",
      "        [ 3.5559,  6.5677, -0.4093, -1.0000],\n",
      "        [ 2.6662,  3.4044, -0.3233, -1.0000],\n",
      "        [ 0.0371,  0.8939, -0.0352,  0.0479]], dtype=torch.float64)\n"
     ]
    },
    {
     "name": "stderr",
     "output_type": "stream",
     "text": [
      " 28%|██▊       | 14/50 [02:41<06:31, 10.87s/it]"
     ]
    },
    {
     "name": "stdout",
     "output_type": "stream",
     "text": [
      "Iterations 29\n",
      "Maximizing with VGP\n",
      "Seed: 89\n",
      "Initial points: tensor([[ 0.0000,  3.4039, -0.3961, -0.5694],\n",
      "        [ 0.0000,  1.5957, -0.3206, -0.4308],\n",
      "        [ 0.0000,  0.1000, -0.3998,  1.0000],\n",
      "        [ 0.0000,  2.5903, -0.2736, -0.1288],\n",
      "        [ 0.0000,  3.2952, -0.2010, -0.1887]], dtype=torch.float64)\n"
     ]
    },
    {
     "name": "stderr",
     "output_type": "stream",
     "text": [
      " 30%|███       | 15/50 [02:44<04:58,  8.54s/it]"
     ]
    },
    {
     "name": "stdout",
     "output_type": "stream",
     "text": [
      "Iterations 17\n",
      "Maximizing with VGP\n",
      "Seed: 604\n",
      "Initial points: tensor([[ 2.6662,  3.4044, -0.3233, -1.0000],\n",
      "        [ 3.7044, 10.0000, -0.3167, -1.0000],\n",
      "        [ 0.0000,  3.1790, -0.2991, -0.0796],\n",
      "        [ 0.0000,  2.3259, -0.2947, -0.1951],\n",
      "        [ 1.7240,  4.1278, -0.3176, -0.5578]], dtype=torch.float64)\n"
     ]
    },
    {
     "name": "stderr",
     "output_type": "stream",
     "text": [
      " 32%|███▏      | 16/50 [02:52<04:42,  8.31s/it]"
     ]
    },
    {
     "name": "stdout",
     "output_type": "stream",
     "text": [
      "Iterations 41\n",
      "Maximizing with VGP\n",
      "Seed: 432\n",
      "Initial points: tensor([[ 0.0000,  0.1000, -0.1540, -0.6338],\n",
      "        [ 5.0000,  5.1008, -0.3230, -1.0000],\n",
      "        [ 0.0000,  1.5680, -0.3353, -0.3658],\n",
      "        [ 3.5802,  7.8585, -0.3792, -1.0000],\n",
      "        [ 0.0000,  3.2714, -0.2151, -0.1070]], dtype=torch.float64)\n"
     ]
    },
    {
     "name": "stderr",
     "output_type": "stream",
     "text": [
      " 34%|███▍      | 17/50 [03:07<05:43, 10.41s/it]"
     ]
    },
    {
     "name": "stdout",
     "output_type": "stream",
     "text": [
      "Iterations 77\n",
      "Maximizing with VGP\n",
      "Seed: 32\n",
      "Initial points: tensor([[ 0.0000,  3.3556, -0.2666, -0.4412],\n",
      "        [ 0.0000,  6.3258, -0.2227,  1.0000],\n",
      "        [ 0.7424,  1.7146, -0.3803, -0.4165],\n",
      "        [ 0.0000,  2.5215, -0.2784, -0.1474],\n",
      "        [ 0.0000,  3.3837, -0.3171,  0.0079]], dtype=torch.float64)\n"
     ]
    },
    {
     "name": "stderr",
     "output_type": "stream",
     "text": [
      " 36%|███▌      | 18/50 [03:11<04:30,  8.44s/it]"
     ]
    },
    {
     "name": "stdout",
     "output_type": "stream",
     "text": [
      "Iterations 21\n",
      "Maximizing with VGP\n",
      "Seed: 30\n",
      "Initial points: tensor([[ 5.0000,  4.5458, -0.4541, -1.0000],\n",
      "        [ 5.0000,  5.1008, -0.3230, -1.0000],\n",
      "        [ 0.0000,  0.1000, -0.5623, -1.0000],\n",
      "        [ 2.1384,  0.1000, -0.4647, -1.0000],\n",
      "        [ 0.0000,  3.0434, -0.2217,  0.0858]], dtype=torch.float64)\n"
     ]
    },
    {
     "name": "stderr",
     "output_type": "stream",
     "text": [
      " 38%|███▊      | 19/50 [03:27<05:27, 10.56s/it]"
     ]
    },
    {
     "name": "stdout",
     "output_type": "stream",
     "text": [
      "Iterations 77\n",
      "Maximizing with VGP\n",
      "Seed: 95\n",
      "Initial points: tensor([[ 0.0000,  2.5215, -0.2784, -0.1474],\n",
      "        [ 5.0000,  0.1000, -0.2250, -1.0000],\n",
      "        [ 3.5559,  6.5677, -0.4093, -1.0000],\n",
      "        [ 5.0000,  4.5458, -0.4541, -1.0000],\n",
      "        [ 0.0000,  2.2215, -0.3013, -0.2119]], dtype=torch.float64)\n"
     ]
    },
    {
     "name": "stderr",
     "output_type": "stream",
     "text": [
      " 40%|████      | 20/50 [03:33<04:33,  9.12s/it]"
     ]
    },
    {
     "name": "stdout",
     "output_type": "stream",
     "text": [
      "Iterations 31\n",
      "Maximizing with VGP\n",
      "Seed: 223\n",
      "Initial points: tensor([[ 5.0000, 10.0000, -0.0304, -1.0000],\n",
      "        [ 0.0000,  3.1669, -0.3151, -0.3476],\n",
      "        [ 3.7934,  6.3214, -0.3911, -1.0000],\n",
      "        [ 0.0000,  0.1000, -0.3998,  1.0000],\n",
      "        [ 0.0000,  3.4039, -0.3961, -0.5694]], dtype=torch.float64)\n"
     ]
    },
    {
     "name": "stderr",
     "output_type": "stream",
     "text": [
      " 42%|████▏     | 21/50 [03:36<03:37,  7.49s/it]"
     ]
    },
    {
     "name": "stdout",
     "output_type": "stream",
     "text": [
      "Iterations 20\n",
      "Maximizing with VGP\n",
      "Seed: 238\n",
      "Initial points: tensor([[ 0.0000,  0.1000, -0.8373, -1.0000],\n",
      "        [ 3.7934,  6.3214, -0.3911, -1.0000],\n",
      "        [ 5.0000,  0.1000,  0.1965, -1.0000],\n",
      "        [ 1.4521,  4.7555, -0.2764, -1.0000],\n",
      "        [ 1.7240,  4.1278, -0.3176, -0.5578]], dtype=torch.float64)\n"
     ]
    },
    {
     "name": "stderr",
     "output_type": "stream",
     "text": [
      " 44%|████▍     | 22/50 [03:52<04:35,  9.85s/it]"
     ]
    },
    {
     "name": "stdout",
     "output_type": "stream",
     "text": [
      "Iterations 77\n",
      "Maximizing with VGP\n",
      "Seed: 517\n",
      "Initial points: tensor([[ 5.0000,  0.1000,  0.1965, -1.0000],\n",
      "        [ 3.4858,  5.9210, -0.2205, -1.0000],\n",
      "        [ 5.0000,  4.5458, -0.4541, -1.0000],\n",
      "        [ 0.0000,  1.0000,  0.0000,  0.0000],\n",
      "        [ 0.0000,  4.0745, -0.3206, -1.0000]], dtype=torch.float64)\n"
     ]
    },
    {
     "name": "stderr",
     "output_type": "stream",
     "text": [
      " 46%|████▌     | 23/50 [04:07<05:10, 11.50s/it]"
     ]
    },
    {
     "name": "stdout",
     "output_type": "stream",
     "text": [
      "Iterations 77\n",
      "Maximizing with VGP\n",
      "Seed: 616\n",
      "Initial points: tensor([[ 0.0000,  6.3258, -0.2227,  1.0000],\n",
      "        [ 0.0371,  0.8939, -0.0352,  0.0479],\n",
      "        [ 5.0000,  0.1000, -0.2250, -1.0000],\n",
      "        [ 3.9816,  9.5154, -0.5785, -1.0000],\n",
      "        [ 0.0000,  1.8801, -0.4446, -0.1116]], dtype=torch.float64)\n"
     ]
    },
    {
     "name": "stderr",
     "output_type": "stream",
     "text": [
      " 48%|████▊     | 24/50 [04:12<04:08,  9.56s/it]"
     ]
    },
    {
     "name": "stdout",
     "output_type": "stream",
     "text": [
      "Iterations 27\n",
      "Maximizing with VGP\n",
      "Seed: 27\n",
      "Initial points: tensor([[ 0.0000,  4.0745, -0.3206, -1.0000],\n",
      "        [ 0.0000,  0.4773,  0.0410,  0.1919],\n",
      "        [ 0.0000,  3.2952, -0.2010, -0.1887],\n",
      "        [ 0.6155,  3.1238, -0.2301, -0.0963],\n",
      "        [ 0.0000,  2.5903, -0.2736, -0.1288]], dtype=torch.float64)\n"
     ]
    },
    {
     "name": "stderr",
     "output_type": "stream",
     "text": [
      " 50%|█████     | 25/50 [04:19<03:41,  8.85s/it]"
     ]
    },
    {
     "name": "stdout",
     "output_type": "stream",
     "text": [
      "Iterations 38\n",
      "Maximizing with VGP\n",
      "Seed: 574\n",
      "Initial points: tensor([[ 0.0000,  1.6900, -0.4148, -0.5639],\n",
      "        [ 5.0000,  5.1008, -0.3230, -1.0000],\n",
      "        [ 5.0000,  0.1000,  1.0000, -1.0000],\n",
      "        [ 0.0000,  2.2215, -0.3013, -0.2119],\n",
      "        [ 5.0000,  0.1000,  0.1965, -1.0000]], dtype=torch.float64)\n"
     ]
    },
    {
     "name": "stderr",
     "output_type": "stream",
     "text": [
      " 52%|█████▏    | 26/50 [04:25<03:07,  7.82s/it]"
     ]
    },
    {
     "name": "stdout",
     "output_type": "stream",
     "text": [
      "Iterations 29\n",
      "Maximizing with VGP\n",
      "Seed: 203\n",
      "Initial points: tensor([[ 0.0000,  3.0434, -0.2217,  0.0858],\n",
      "        [ 0.0000,  1.0000,  0.0000,  0.0000],\n",
      "        [ 0.0000,  2.3259, -0.2947, -0.1951],\n",
      "        [ 3.4858,  5.9210, -0.2205, -1.0000],\n",
      "        [ 0.0000,  8.0179, -0.2473, -0.2150]], dtype=torch.float64)\n"
     ]
    },
    {
     "name": "stderr",
     "output_type": "stream",
     "text": [
      " 54%|█████▍    | 27/50 [04:32<02:54,  7.57s/it]"
     ]
    },
    {
     "name": "stdout",
     "output_type": "stream",
     "text": [
      "Iterations 37\n",
      "Maximizing with VGP\n",
      "Seed: 733\n",
      "Initial points: tensor([[ 2.5592,  2.7477, -0.1235, -1.0000],\n",
      "        [ 0.0000, 10.0000,  0.0697, -1.0000],\n",
      "        [ 1.4521,  4.7555, -0.2764, -1.0000],\n",
      "        [ 0.0000,  3.2225, -0.2445, -0.0745],\n",
      "        [ 2.0609,  5.4800,  0.0944,  0.1017]], dtype=torch.float64)\n"
     ]
    },
    {
     "name": "stderr",
     "output_type": "stream",
     "text": [
      " 56%|█████▌    | 28/50 [04:41<02:58,  8.10s/it]"
     ]
    },
    {
     "name": "stdout",
     "output_type": "stream",
     "text": [
      "Iterations 49\n",
      "Maximizing with VGP\n",
      "Seed: 665\n",
      "Initial points: tensor([[ 0.0000,  2.4295, -0.2861, -0.1720],\n",
      "        [ 0.0000,  8.0179, -0.2473, -0.2150],\n",
      "        [ 3.4858,  5.9210, -0.2205, -1.0000],\n",
      "        [ 0.0000,  3.4102, -0.1820, -0.2266],\n",
      "        [ 0.7424,  1.7146, -0.3803, -0.4165]], dtype=torch.float64)\n"
     ]
    },
    {
     "name": "stderr",
     "output_type": "stream",
     "text": [
      " 58%|█████▊    | 29/50 [04:45<02:23,  6.84s/it]"
     ]
    },
    {
     "name": "stdout",
     "output_type": "stream",
     "text": [
      "Iterations 21\n",
      "Maximizing with VGP\n",
      "Seed: 718\n",
      "Initial points: tensor([[ 5.0000,  0.1000,  1.0000, -1.0000],\n",
      "        [ 2.5592,  2.7477, -0.1235, -1.0000],\n",
      "        [ 0.0000,  3.1974, -0.2930, -0.0577],\n",
      "        [ 5.0000,  5.1008, -0.3230, -1.0000],\n",
      "        [ 5.0000,  8.5632, -0.3571, -1.0000]], dtype=torch.float64)\n"
     ]
    },
    {
     "name": "stderr",
     "output_type": "stream",
     "text": [
      " 60%|██████    | 30/50 [04:49<01:57,  5.89s/it]"
     ]
    },
    {
     "name": "stdout",
     "output_type": "stream",
     "text": [
      "Iterations 20\n",
      "Maximizing with VGP\n",
      "Seed: 429\n",
      "Initial points: tensor([[ 0.0000,  1.5680, -0.3353, -0.3658],\n",
      "        [ 0.0000,  1.5957, -0.3206, -0.4308],\n",
      "        [ 1.4521,  4.7555, -0.2764, -1.0000],\n",
      "        [ 3.8362,  0.1000, -0.5153, -1.0000],\n",
      "        [ 0.0000,  3.2952, -0.2010, -0.1887]], dtype=torch.float64)\n"
     ]
    },
    {
     "name": "stderr",
     "output_type": "stream",
     "text": [
      " 62%|██████▏   | 31/50 [04:54<01:49,  5.77s/it]"
     ]
    },
    {
     "name": "stdout",
     "output_type": "stream",
     "text": [
      "Iterations 29\n",
      "Maximizing with VGP\n",
      "Seed: 225\n",
      "Initial points: tensor([[ 0.0000,  4.0745, -0.3206, -1.0000],\n",
      "        [ 5.0000,  0.1000,  0.1965, -1.0000],\n",
      "        [ 0.0000,  8.0179, -0.2473, -0.2150],\n",
      "        [ 0.0000,  3.2714, -0.2151, -0.1070],\n",
      "        [ 0.0000,  0.1000, -0.5623, -1.0000]], dtype=torch.float64)\n"
     ]
    },
    {
     "name": "stderr",
     "output_type": "stream",
     "text": [
      " 64%|██████▍   | 32/50 [05:09<02:35,  8.65s/it]"
     ]
    },
    {
     "name": "stdout",
     "output_type": "stream",
     "text": [
      "Iterations 77\n",
      "Maximizing with VGP\n",
      "Seed: 459\n",
      "Initial points: tensor([[ 5.0000,  0.1000,  1.0000, -1.0000],\n",
      "        [ 2.6662,  3.4044, -0.3233, -1.0000],\n",
      "        [ 0.0000,  3.4102, -0.1820, -0.2266],\n",
      "        [ 0.0000,  6.3258, -0.2227,  1.0000],\n",
      "        [ 0.9915,  3.3743, -0.2587, -0.4005]], dtype=torch.float64)\n"
     ]
    },
    {
     "name": "stderr",
     "output_type": "stream",
     "text": [
      " 66%|██████▌   | 33/50 [05:13<02:00,  7.10s/it]"
     ]
    },
    {
     "name": "stdout",
     "output_type": "stream",
     "text": [
      "Iterations 19\n",
      "Maximizing with VGP\n",
      "Seed: 603\n",
      "Initial points: tensor([[ 5.0000,  8.5632, -0.3571, -1.0000],\n",
      "        [ 0.0000,  3.2952, -0.2010, -0.1887],\n",
      "        [ 5.0000,  4.5458, -0.4541, -1.0000],\n",
      "        [ 0.0000,  0.1000, -0.2634, -1.0000],\n",
      "        [ 0.0000,  2.5903, -0.2736, -0.1288]], dtype=torch.float64)\n"
     ]
    },
    {
     "name": "stderr",
     "output_type": "stream",
     "text": [
      " 68%|██████▊   | 34/50 [05:19<01:48,  6.77s/it]"
     ]
    },
    {
     "name": "stdout",
     "output_type": "stream",
     "text": [
      "Iterations 32\n",
      "Maximizing with VGP\n",
      "Seed: 284\n",
      "Initial points: tensor([[ 0.0000,  3.0434, -0.2217,  0.0858],\n",
      "        [ 5.0000,  5.1008, -0.3230, -1.0000],\n",
      "        [ 0.0000,  0.1000, -0.2634, -1.0000],\n",
      "        [ 5.0000,  0.1000, -0.2250, -1.0000],\n",
      "        [ 0.0000,  4.0745, -0.3206, -1.0000]], dtype=torch.float64)\n"
     ]
    },
    {
     "name": "stderr",
     "output_type": "stream",
     "text": [
      " 70%|███████   | 35/50 [05:34<02:20,  9.39s/it]"
     ]
    },
    {
     "name": "stdout",
     "output_type": "stream",
     "text": [
      "Iterations 78\n",
      "Maximizing with VGP\n",
      "Seed: 828\n",
      "Initial points: tensor([[ 2.1384,  0.1000, -0.4647, -1.0000],\n",
      "        [ 3.4858,  5.9210, -0.2205, -1.0000],\n",
      "        [ 0.0000,  4.0745, -0.3206, -1.0000],\n",
      "        [ 0.0000,  0.1000, -0.8373, -1.0000],\n",
      "        [ 0.0000,  3.2760, -0.2948,  0.0833]], dtype=torch.float64)\n"
     ]
    },
    {
     "name": "stderr",
     "output_type": "stream",
     "text": [
      " 72%|███████▏  | 36/50 [05:50<02:36, 11.14s/it]"
     ]
    },
    {
     "name": "stdout",
     "output_type": "stream",
     "text": [
      "Iterations 77\n",
      "Maximizing with VGP\n",
      "Seed: 890\n",
      "Initial points: tensor([[ 0.0000,  1.8085, -0.4126, -0.2537],\n",
      "        [ 3.7044, 10.0000, -0.3167, -1.0000],\n",
      "        [ 5.0000,  7.4215, -0.4697, -1.0000],\n",
      "        [ 2.5592,  2.7477, -0.1235, -1.0000],\n",
      "        [ 2.0609,  5.4800,  0.0944,  0.1017]], dtype=torch.float64)\n"
     ]
    },
    {
     "name": "stderr",
     "output_type": "stream",
     "text": [
      " 74%|███████▍  | 37/50 [06:05<02:42, 12.48s/it]"
     ]
    },
    {
     "name": "stdout",
     "output_type": "stream",
     "text": [
      "Iterations 78\n",
      "Maximizing with VGP\n",
      "Seed: 6\n",
      "Initial points: tensor([[ 0.0000,  6.3258, -0.2227,  1.0000],\n",
      "        [ 0.6155,  3.1238, -0.2301, -0.0963],\n",
      "        [ 0.0000,  3.2225, -0.2445, -0.0745],\n",
      "        [ 0.0000,  1.5957, -0.3206, -0.4308],\n",
      "        [ 0.0000,  3.2952, -0.2010, -0.1887]], dtype=torch.float64)\n"
     ]
    },
    {
     "name": "stderr",
     "output_type": "stream",
     "text": [
      " 76%|███████▌  | 38/50 [06:09<01:58,  9.84s/it]"
     ]
    },
    {
     "name": "stdout",
     "output_type": "stream",
     "text": [
      "Iterations 20\n",
      "Maximizing with VGP\n",
      "Seed: 777\n",
      "Initial points: tensor([[ 0.0000,  3.3556, -0.2666, -0.4412],\n",
      "        [ 0.9915,  3.3743, -0.2587, -0.4005],\n",
      "        [ 0.0000,  1.8801, -0.4446, -0.1116],\n",
      "        [ 0.6155,  3.1238, -0.2301, -0.0963],\n",
      "        [ 3.1350,  0.1000, -0.2861,  0.2420]], dtype=torch.float64)\n"
     ]
    },
    {
     "name": "stderr",
     "output_type": "stream",
     "text": [
      " 78%|███████▊  | 39/50 [06:24<02:06, 11.54s/it]"
     ]
    },
    {
     "name": "stdout",
     "output_type": "stream",
     "text": [
      "Iterations 78\n",
      "Maximizing with VGP\n",
      "Seed: 825\n",
      "Initial points: tensor([[ 1.0785,  3.8093, -0.4061, -0.2996],\n",
      "        [ 3.4858,  5.9210, -0.2205, -1.0000],\n",
      "        [ 5.0000, 10.0000, -0.3926, -1.0000],\n",
      "        [ 5.0000, 10.0000, -0.4538, -1.0000],\n",
      "        [ 0.6155,  3.1238, -0.2301, -0.0963]], dtype=torch.float64)\n"
     ]
    },
    {
     "name": "stderr",
     "output_type": "stream",
     "text": [
      " 80%|████████  | 40/50 [06:27<01:29,  8.90s/it]"
     ]
    },
    {
     "name": "stdout",
     "output_type": "stream",
     "text": [
      "Iterations 15\n",
      "Maximizing with VGP\n",
      "Seed: 163\n",
      "Initial points: tensor([[ 2.1384,  0.1000, -0.4647, -1.0000],\n",
      "        [ 3.7044, 10.0000, -0.3167, -1.0000],\n",
      "        [ 0.0000,  1.5957, -0.3206, -0.4308],\n",
      "        [ 5.0000,  0.1000, -0.4233, -1.0000],\n",
      "        [ 5.0000, 10.0000, -0.0304, -1.0000]], dtype=torch.float64)\n"
     ]
    },
    {
     "name": "stderr",
     "output_type": "stream",
     "text": [
      " 82%|████████▏ | 41/50 [06:42<01:37, 10.81s/it]"
     ]
    },
    {
     "name": "stdout",
     "output_type": "stream",
     "text": [
      "Iterations 77\n",
      "Maximizing with VGP\n",
      "Seed: 714\n",
      "Initial points: tensor([[ 0.0000,  1.5680, -0.3353, -0.3658],\n",
      "        [ 0.0000,  3.4102, -0.1820, -0.2266],\n",
      "        [ 0.0371,  0.8939, -0.0352,  0.0479],\n",
      "        [ 0.0000,  1.0000,  0.0000,  0.0000],\n",
      "        [ 3.7044, 10.0000, -0.3167, -1.0000]], dtype=torch.float64)\n"
     ]
    },
    {
     "name": "stderr",
     "output_type": "stream",
     "text": [
      " 84%|████████▍ | 42/50 [06:47<01:10,  8.85s/it]"
     ]
    },
    {
     "name": "stdout",
     "output_type": "stream",
     "text": [
      "Iterations 23\n",
      "Maximizing with VGP\n",
      "Seed: 348\n",
      "Initial points: tensor([[ 0.0000,  3.2714, -0.2151, -0.1070],\n",
      "        [ 3.9816,  9.5154, -0.5785, -1.0000],\n",
      "        [ 1.0785,  3.8093, -0.4061, -0.2996],\n",
      "        [ 0.0000,  2.5903, -0.2736, -0.1288],\n",
      "        [ 5.0000,  6.4638, -0.4718, -0.5640]], dtype=torch.float64)\n"
     ]
    },
    {
     "name": "stderr",
     "output_type": "stream",
     "text": [
      " 86%|████████▌ | 43/50 [07:02<01:15, 10.79s/it]"
     ]
    },
    {
     "name": "stdout",
     "output_type": "stream",
     "text": [
      "Iterations 77\n",
      "Maximizing with VGP\n",
      "Seed: 159\n",
      "Initial points: tensor([[ 0.0000,  0.1000, -0.5623, -1.0000],\n",
      "        [ 0.0000, 10.0000,  0.0697, -1.0000],\n",
      "        [ 0.0000,  4.0745, -0.3206, -1.0000],\n",
      "        [ 3.1350,  0.1000, -0.2861,  0.2420],\n",
      "        [ 0.0000,  0.1000, -0.3833, -0.0260]], dtype=torch.float64)\n"
     ]
    },
    {
     "name": "stderr",
     "output_type": "stream",
     "text": [
      " 88%|████████▊ | 44/50 [07:10<00:59,  9.99s/it]"
     ]
    },
    {
     "name": "stdout",
     "output_type": "stream",
     "text": [
      "Iterations 42\n",
      "Maximizing with VGP\n",
      "Seed: 220\n",
      "Initial points: tensor([[ 0.0000,  3.4039, -0.3961, -0.5694],\n",
      "        [ 0.0000,  2.0191, -0.3103, -0.2361],\n",
      "        [ 0.0000,  0.1000, -0.5623, -1.0000],\n",
      "        [ 0.0000,  3.2964, -0.2238, -0.0925],\n",
      "        [ 0.0371,  0.8939, -0.0352,  0.0479]], dtype=torch.float64)\n"
     ]
    },
    {
     "name": "stderr",
     "output_type": "stream",
     "text": [
      " 90%|█████████ | 45/50 [07:18<00:47,  9.46s/it]"
     ]
    },
    {
     "name": "stdout",
     "output_type": "stream",
     "text": [
      "Iterations 43\n",
      "Maximizing with VGP\n",
      "Seed: 980\n",
      "Initial points: tensor([[ 0.0000,  1.5957, -0.3206, -0.4308],\n",
      "        [ 0.0000,  2.3259, -0.2947, -0.1951],\n",
      "        [ 1.0785,  3.8093, -0.4061, -0.2996],\n",
      "        [ 0.6155,  3.1238, -0.2301, -0.0963],\n",
      "        [ 1.4521,  4.7555, -0.2764, -1.0000]], dtype=torch.float64)\n"
     ]
    },
    {
     "name": "stderr",
     "output_type": "stream",
     "text": [
      " 92%|█████████▏| 46/50 [07:34<00:44, 11.21s/it]"
     ]
    },
    {
     "name": "stdout",
     "output_type": "stream",
     "text": [
      "Iterations 77\n",
      "Maximizing with VGP\n",
      "Seed: 781\n",
      "Initial points: tensor([[ 5.0000,  0.1000, -0.4233, -1.0000],\n",
      "        [ 0.0000,  3.1775, -0.2716, -0.0639],\n",
      "        [ 0.0000,  3.1974, -0.2930, -0.0577],\n",
      "        [ 0.0000,  1.8085, -0.4126, -0.2537],\n",
      "        [ 0.0000,  3.2952, -0.2010, -0.1887]], dtype=torch.float64)\n"
     ]
    },
    {
     "name": "stderr",
     "output_type": "stream",
     "text": [
      " 94%|█████████▍| 47/50 [07:40<00:29,  9.89s/it]"
     ]
    },
    {
     "name": "stdout",
     "output_type": "stream",
     "text": [
      "Iterations 36\n",
      "Maximizing with VGP\n",
      "Seed: 344\n",
      "Initial points: tensor([[ 5.0000,  4.5458, -0.4541, -1.0000],\n",
      "        [ 1.7240,  4.1278, -0.3176, -0.5578],\n",
      "        [ 5.0000,  0.1000, -0.2250, -1.0000],\n",
      "        [ 0.0000,  3.3837, -0.3171,  0.0079],\n",
      "        [ 5.0000,  5.0000, -0.1000, -0.1000]], dtype=torch.float64)\n"
     ]
    },
    {
     "name": "stderr",
     "output_type": "stream",
     "text": [
      " 96%|█████████▌| 48/50 [07:56<00:23, 11.53s/it]"
     ]
    },
    {
     "name": "stdout",
     "output_type": "stream",
     "text": [
      "Iterations 77\n",
      "Maximizing with VGP\n",
      "Seed: 94\n",
      "Initial points: tensor([[ 0.0000,  0.1000, -0.5623, -1.0000],\n",
      "        [ 1.0785,  3.8093, -0.4061, -0.2996],\n",
      "        [ 0.0000,  0.1000, -0.1540, -0.6338],\n",
      "        [ 2.1384,  0.1000, -0.4647, -1.0000],\n",
      "        [ 2.0609,  5.4800,  0.0944,  0.1017]], dtype=torch.float64)\n"
     ]
    },
    {
     "name": "stderr",
     "output_type": "stream",
     "text": [
      " 98%|█████████▊| 49/50 [08:11<00:12, 12.73s/it]"
     ]
    },
    {
     "name": "stdout",
     "output_type": "stream",
     "text": [
      "Iterations 78\n",
      "Maximizing with VGP\n",
      "Seed: 389\n",
      "Initial points: tensor([[ 0.0000,  0.1000, -0.1540, -0.6338],\n",
      "        [ 0.0000,  2.2215, -0.3013, -0.2119],\n",
      "        [ 0.0000,  3.3556, -0.2666, -0.4412],\n",
      "        [ 0.0000,  2.3259, -0.2947, -0.1951],\n",
      "        [ 2.5684,  4.1282, -0.5554, -1.0000]], dtype=torch.float64)\n"
     ]
    },
    {
     "name": "stderr",
     "output_type": "stream",
     "text": [
      "100%|██████████| 50/50 [08:19<00:00,  9.98s/it]"
     ]
    },
    {
     "name": "stdout",
     "output_type": "stream",
     "text": [
      "Iterations 38\n"
     ]
    },
    {
     "name": "stderr",
     "output_type": "stream",
     "text": [
      "\n"
     ]
    },
    {
     "data": {
      "image/png": "[encoded data removed]",
      "text/plain": [
       "<Figure size 800x600 with 1 Axes>"
      ]
     },
     "metadata": {},
     "output_type": "display_data"
    },
    {
     "name": "stdout",
     "output_type": "stream",
     "text": [
      "Starting P3HT\n",
      "Number of samples: 230\n",
      "Number of of top 5% samples: 12\n",
      "Top 5% samples: [1243.67, 1089.12, 904.29, 852.33, 839.28, 838.31, 824.47, 804.11, 800.58, 788.8326479, 772.94, 770.35]\n"
     ]
    },
    {
     "name": "stderr",
     "output_type": "stream",
     "text": [
      "  0%|          | 0/50 [00:00<?, ?it/s]"
     ]
    },
    {
     "name": "stdout",
     "output_type": "stream",
     "text": [
      "Maximizing with STP\n",
      "Seed: 654\n",
      "Initial points: tensor([[4.5410e+01, 4.8510e+01, 2.1000e+00, 2.6400e+00, 1.3800e+00],\n",
      "        [4.9580e+01, 4.5420e+01, 8.9000e-01, 2.2500e+00, 1.9300e+00],\n",
      "        [8.3170e+01, 1.7200e+00, 3.5400e+00, 2.4300e+00, 9.0700e+00],\n",
      "        [7.4190e+01, 7.0000e-02, 2.4760e+01, 1.7000e-01, 8.0000e-01],\n",
      "        [3.7290e+01, 4.3200e+01, 2.7700e+00, 1.8100e+00, 1.4940e+01]],\n",
      "       dtype=torch.float64)\n"
     ]
    },
    {
     "name": "stderr",
     "output_type": "stream",
     "text": [
      "  2%|▏         | 1/50 [03:07<2:33:23, 187.83s/it]"
     ]
    },
    {
     "name": "stdout",
     "output_type": "stream",
     "text": [
      "Iterations 223\n",
      "Maximizing with STP\n",
      "Seed: 114\n",
      "Initial points: tensor([[2.0570e+01, 1.8000e-01, 3.5600e+01, 3.9410e+01, 4.1600e+00],\n",
      "        [3.9050e+01, 4.1850e+01, 5.7500e+00, 4.0400e+00, 9.4000e+00],\n",
      "        [4.0020e+01, 4.1490e+01, 8.0000e-02, 1.3950e+01, 4.5600e+00],\n",
      "        [4.0670e+01, 5.9260e+01, 4.0000e-02, 4.0000e-02, 7.0000e-02],\n",
      "        [4.2440e+01, 1.1100e+00, 1.4900e+00, 5.4040e+01, 9.5000e-01]],\n",
      "       dtype=torch.float64)\n"
     ]
    },
    {
     "name": "stderr",
     "output_type": "stream",
     "text": [
      "  4%|▍         | 2/50 [06:02<2:24:08, 180.17s/it]"
     ]
    },
    {
     "name": "stdout",
     "output_type": "stream",
     "text": [
      "Iterations 216\n",
      "Maximizing with STP\n",
      "Seed: 25\n",
      "Initial points: tensor([[50.7400, 41.0500,  1.6500,  4.6900,  1.8700],\n",
      "        [83.1700,  1.7200,  3.5400,  2.4300,  9.0700],\n",
      "        [84.0100,  2.4900,  0.6700,  4.7100,  8.1100],\n",
      "        [54.4800,  0.6500,  0.5300,  0.4600, 43.8900],\n",
      "        [84.5500,  1.9300,  1.4000,  3.2300,  8.8500]], dtype=torch.float64)\n"
     ]
    },
    {
     "name": "stderr",
     "output_type": "stream",
     "text": [
      "  6%|▌         | 3/50 [09:04<2:21:44, 180.95s/it]"
     ]
    },
    {
     "name": "stdout",
     "output_type": "stream",
     "text": [
      "Iterations 220\n",
      "Maximizing with STP\n",
      "Seed: 759\n",
      "Initial points: tensor([[5.3660e+01, 3.8510e+01, 1.5700e+00, 4.7500e+00, 1.5800e+00],\n",
      "        [4.7090e+01, 3.5560e+01, 5.7900e+00, 5.4700e+00, 6.1700e+00],\n",
      "        [3.7690e+01, 4.3160e+01, 4.1400e+00, 6.2200e+00, 8.8000e+00],\n",
      "        [4.1640e+01, 6.0000e-01, 5.9000e-01, 5.4700e+01, 2.4800e+00],\n",
      "        [7.4190e+01, 7.0000e-02, 2.4760e+01, 1.7000e-01, 8.0000e-01]],\n",
      "       dtype=torch.float64)\n"
     ]
    },
    {
     "name": "stderr",
     "output_type": "stream",
     "text": [
      "  8%|▊         | 4/50 [12:08<2:19:34, 182.06s/it]"
     ]
    },
    {
     "name": "stdout",
     "output_type": "stream",
     "text": [
      "Iterations 223\n",
      "Maximizing with STP\n",
      "Seed: 281\n",
      "Initial points: tensor([[84.2300,  1.0600,  1.1300,  4.3400,  9.1500],\n",
      "        [44.5700, 48.4700,  2.9300,  1.6000,  2.4000],\n",
      "        [47.1300, 46.9500,  4.2800,  1.0800,  0.5700],\n",
      "        [84.5500,  1.9300,  1.4000,  3.2300,  8.8500],\n",
      "        [51.8350, 43.8050,  1.8800,  1.3800,  1.1300]], dtype=torch.float64)\n"
     ]
    },
    {
     "name": "stderr",
     "output_type": "stream",
     "text": [
      " 10%|█         | 5/50 [15:10<2:16:36, 182.14s/it]"
     ]
    },
    {
     "name": "stdout",
     "output_type": "stream",
     "text": [
      "Iterations 223\n",
      "Maximizing with STP\n",
      "Seed: 250\n",
      "Initial points: tensor([[3.8920e+01, 4.9280e+01, 9.0000e-02, 9.5000e-01, 1.0670e+01],\n",
      "        [4.5600e+01, 4.6500e+01, 1.6700e+00, 3.9600e+00, 2.2600e+00],\n",
      "        [8.4010e+01, 2.4900e+00, 6.7000e-01, 4.7100e+00, 8.1100e+00],\n",
      "        [8.4550e+01, 1.9300e+00, 1.4000e+00, 3.2300e+00, 8.8500e+00],\n",
      "        [5.5340e+01, 3.8120e+01, 6.2700e+00, 1.0000e-02, 2.6000e-01]],\n",
      "       dtype=torch.float64)\n"
     ]
    },
    {
     "name": "stderr",
     "output_type": "stream",
     "text": [
      " 12%|█▏        | 6/50 [18:13<2:13:40, 182.29s/it]"
     ]
    },
    {
     "name": "stdout",
     "output_type": "stream",
     "text": [
      "Iterations 224\n",
      "Maximizing with STP\n",
      "Seed: 228\n",
      "Initial points: tensor([[80.2600,  0.5300, 12.0300,  5.4700,  1.7800],\n",
      "        [84.0100,  2.4900,  0.6700,  4.7100,  8.1100],\n",
      "        [46.0500, 49.9000,  2.2200,  0.7700,  1.0900],\n",
      "        [50.6400, 48.2900,  0.2300,  0.4400,  0.4100],\n",
      "        [51.8350, 43.8050,  1.8800,  1.3800,  1.1300]], dtype=torch.float64)\n"
     ]
    },
    {
     "name": "stderr",
     "output_type": "stream",
     "text": [
      " 14%|█▍        | 7/50 [21:13<2:10:08, 181.60s/it]"
     ]
    },
    {
     "name": "stdout",
     "output_type": "stream",
     "text": [
      "Iterations 222\n",
      "Maximizing with STP\n",
      "Seed: 142\n",
      "Initial points: tensor([[4.9720e+01, 4.8060e+01, 1.1100e+00, 8.9000e-01, 2.3000e-01],\n",
      "        [6.8110e+01, 2.8690e+01, 8.9000e-01, 9.7000e-01, 1.3500e+00],\n",
      "        [6.0000e+01, 0.0000e+00, 0.0000e+00, 4.0000e+01, 0.0000e+00],\n",
      "        [4.1900e+01, 4.8610e+01, 3.7800e+00, 1.8700e+00, 3.8300e+00],\n",
      "        [7.3990e+01, 5.0000e-01, 2.5180e+01, 2.8000e-01, 4.0000e-02]],\n",
      "       dtype=torch.float64)\n"
     ]
    },
    {
     "name": "stderr",
     "output_type": "stream",
     "text": [
      " 16%|█▌        | 8/50 [24:15<2:07:18, 181.87s/it]"
     ]
    },
    {
     "name": "stdout",
     "output_type": "stream",
     "text": [
      "Iterations 224\n",
      "Maximizing with STP\n",
      "Seed: 754\n",
      "Initial points: tensor([[55.0000,  0.0000,  0.0000,  0.0000, 45.0000],\n",
      "        [88.4500,  3.5000,  1.8900,  1.9600,  4.2100],\n",
      "        [84.5500,  1.9300,  1.4000,  3.2300,  8.8500],\n",
      "        [51.8350, 43.8050,  1.8800,  1.3800,  1.1300],\n",
      "        [45.4100, 48.5100,  2.1000,  2.6400,  1.3800]], dtype=torch.float64)\n"
     ]
    },
    {
     "name": "stderr",
     "output_type": "stream",
     "text": [
      " 18%|█▊        | 9/50 [27:17<2:04:13, 181.80s/it]"
     ]
    },
    {
     "name": "stdout",
     "output_type": "stream",
     "text": [
      "Iterations 225\n",
      "Maximizing with STP\n",
      "Seed: 104\n",
      "Initial points: tensor([[4.1900e+01, 4.8610e+01, 3.7800e+00, 1.8700e+00, 3.8300e+00],\n",
      "        [4.1600e+01, 5.1430e+01, 2.1000e+00, 4.9100e+00, 4.0000e-02],\n",
      "        [4.5000e+01, 0.0000e+00, 5.5000e+01, 0.0000e+00, 0.0000e+00],\n",
      "        [6.9100e+01, 3.0830e+01, 4.0000e-02, 4.0000e-02, 4.0000e-02],\n",
      "        [4.4750e+01, 5.2920e+01, 2.1000e-01, 1.3200e+00, 8.4000e-01]],\n",
      "       dtype=torch.float64)\n"
     ]
    },
    {
     "name": "stderr",
     "output_type": "stream",
     "text": [
      " 20%|██        | 10/50 [30:17<2:00:55, 181.39s/it]"
     ]
    },
    {
     "name": "stdout",
     "output_type": "stream",
     "text": [
      "Iterations 220\n",
      "Maximizing with STP\n",
      "Seed: 692\n",
      "Initial points: tensor([[4.3130e+01, 4.9300e+01, 3.1600e+00, 1.7200e+00, 2.7400e+00],\n",
      "        [3.8920e+01, 4.9280e+01, 9.0000e-02, 9.5000e-01, 1.0670e+01],\n",
      "        [4.1630e+01, 4.5990e+01, 8.1700e+00, 4.0000e-02, 4.2400e+00],\n",
      "        [9.3870e+01, 2.4000e-01, 5.6000e-01, 2.4000e-01, 5.1100e+00],\n",
      "        [4.2330e+01, 5.1830e+01, 2.7500e+00, 2.8700e+00, 3.2000e-01]],\n",
      "       dtype=torch.float64)\n"
     ]
    },
    {
     "name": "stderr",
     "output_type": "stream",
     "text": [
      " 22%|██▏       | 11/50 [33:19<1:57:55, 181.43s/it]"
     ]
    },
    {
     "name": "stdout",
     "output_type": "stream",
     "text": [
      "Iterations 220\n",
      "Maximizing with STP\n",
      "Seed: 758\n",
      "Initial points: tensor([[4.3800e+01, 4.5290e+01, 7.8900e+00, 2.4300e+00, 5.5000e-01],\n",
      "        [8.0260e+01, 5.3000e-01, 1.2030e+01, 5.4700e+00, 1.7800e+00],\n",
      "        [4.6860e+01, 4.3740e+01, 5.0800e+00, 7.8000e-01, 3.6100e+00],\n",
      "        [4.0670e+01, 5.9260e+01, 4.0000e-02, 4.0000e-02, 7.0000e-02],\n",
      "        [8.4550e+01, 1.9300e+00, 1.4000e+00, 3.2300e+00, 8.8500e+00]],\n",
      "       dtype=torch.float64)\n"
     ]
    },
    {
     "name": "stderr",
     "output_type": "stream",
     "text": [
      " 24%|██▍       | 12/50 [36:18<1:54:26, 180.69s/it]"
     ]
    },
    {
     "name": "stdout",
     "output_type": "stream",
     "text": [
      "Iterations 218\n",
      "Maximizing with STP\n",
      "Seed: 913\n",
      "Initial points: tensor([[5.3400e+01, 3.3900e+01, 1.1800e+00, 1.1340e+01, 2.5000e-01],\n",
      "        [8.4550e+01, 1.9300e+00, 1.4000e+00, 3.2300e+00, 8.8500e+00],\n",
      "        [4.3800e+01, 4.5290e+01, 7.8900e+00, 2.4300e+00, 5.5000e-01],\n",
      "        [5.8760e+01, 3.9810e+01, 7.5000e-01, 1.5000e-01, 5.3000e-01],\n",
      "        [4.8970e+01, 5.0340e+01, 4.0000e-02, 1.0000e-01, 5.6000e-01]],\n",
      "       dtype=torch.float64)\n"
     ]
    },
    {
     "name": "stderr",
     "output_type": "stream",
     "text": [
      " 26%|██▌       | 13/50 [38:59<1:47:49, 174.84s/it]"
     ]
    },
    {
     "name": "stdout",
     "output_type": "stream",
     "text": [
      "Iterations 199\n",
      "Maximizing with STP\n",
      "Seed: 558\n",
      "Initial points: tensor([[6.7100e+01, 3.0150e+01, 7.2000e-01, 4.0000e-02, 1.9500e+00],\n",
      "        [5.4140e+01, 4.0570e+01, 4.0000e-02, 2.6800e+00, 2.6100e+00],\n",
      "        [5.5340e+01, 3.8120e+01, 6.2700e+00, 1.0000e-02, 2.6000e-01],\n",
      "        [8.8620e+01, 3.0000e-01, 3.4000e-01, 9.6400e+00, 1.1100e+00],\n",
      "        [4.4890e+01, 4.7030e+01, 3.8100e+00, 1.1600e+00, 3.1000e+00]],\n",
      "       dtype=torch.float64)\n"
     ]
    },
    {
     "name": "stderr",
     "output_type": "stream",
     "text": [
      " 28%|██▊       | 14/50 [41:40<1:42:18, 170.51s/it]"
     ]
    },
    {
     "name": "stdout",
     "output_type": "stream",
     "text": [
      "Iterations 200\n",
      "Maximizing with STP\n",
      "Seed: 89\n",
      "Initial points: tensor([[9.0310e+01, 1.8000e-01, 6.2000e-01, 8.2500e+00, 6.5000e-01],\n",
      "        [4.2330e+01, 5.1830e+01, 2.7500e+00, 2.8700e+00, 3.2000e-01],\n",
      "        [5.3660e+01, 3.8510e+01, 1.5700e+00, 4.7500e+00, 1.5800e+00],\n",
      "        [5.4140e+01, 4.0570e+01, 4.0000e-02, 2.6800e+00, 2.6100e+00],\n",
      "        [4.4800e+01, 3.7400e+01, 6.8100e+00, 5.8300e+00, 5.1800e+00]],\n",
      "       dtype=torch.float64)\n"
     ]
    },
    {
     "name": "stderr",
     "output_type": "stream",
     "text": [
      " 30%|███       | 15/50 [44:35<1:40:18, 171.94s/it]"
     ]
    },
    {
     "name": "stdout",
     "output_type": "stream",
     "text": [
      "Iterations 217\n",
      "Maximizing with STP\n",
      "Seed: 604\n",
      "Initial points: tensor([[4.4300e+01, 5.4680e+01, 4.0000e-02, 2.9000e-01, 7.8000e-01],\n",
      "        [9.2370e+01, 4.5000e-01, 1.8400e+00, 5.1000e-01, 4.8500e+00],\n",
      "        [4.4570e+01, 4.8470e+01, 2.9300e+00, 1.6000e+00, 2.4000e+00],\n",
      "        [4.5210e+01, 4.9390e+01, 3.5900e+00, 1.4500e+00, 4.1000e-01],\n",
      "        [4.4570e+01, 4.8470e+01, 2.9300e+00, 1.6000e+00, 2.4000e+00]],\n",
      "       dtype=torch.float64)\n"
     ]
    },
    {
     "name": "stderr",
     "output_type": "stream",
     "text": [
      " 32%|███▏      | 16/50 [47:40<1:39:36, 175.79s/it]"
     ]
    },
    {
     "name": "stdout",
     "output_type": "stream",
     "text": [
      "Iterations 225\n",
      "Maximizing with STP\n",
      "Seed: 432\n",
      "Initial points: tensor([[4.8680e+01, 3.9720e+01, 1.0970e+01, 5.8000e-01, 4.0000e-02],\n",
      "        [8.4860e+01, 3.4200e+00, 9.6000e-01, 2.8000e-01, 1.0410e+01],\n",
      "        [5.0640e+01, 4.8290e+01, 2.3000e-01, 4.4000e-01, 4.1000e-01],\n",
      "        [4.5640e+01, 4.8860e+01, 2.6400e+00, 1.7800e+00, 1.0900e+00],\n",
      "        [4.7260e+01, 4.4460e+01, 7.3200e+00, 6.9000e-01, 2.3000e-01]],\n",
      "       dtype=torch.float64)\n"
     ]
    },
    {
     "name": "stderr",
     "output_type": "stream",
     "text": [
      " 34%|███▍      | 17/50 [50:40<1:37:25, 177.14s/it]"
     ]
    },
    {
     "name": "stdout",
     "output_type": "stream",
     "text": [
      "Iterations 218\n",
      "Maximizing with STP\n",
      "Seed: 32\n",
      "Initial points: tensor([[4.5150e+01, 4.2250e+01, 7.8200e+00, 1.9800e+00, 2.8300e+00],\n",
      "        [7.4190e+01, 7.0000e-02, 2.4760e+01, 1.7000e-01, 8.0000e-01],\n",
      "        [3.7690e+01, 4.3160e+01, 4.1400e+00, 6.2200e+00, 8.8000e+00],\n",
      "        [8.9800e+01, 3.0100e+00, 1.5900e+00, 4.3600e+00, 1.2300e+00],\n",
      "        [4.7130e+01, 4.6950e+01, 4.2800e+00, 1.0800e+00, 5.7000e-01]],\n",
      "       dtype=torch.float64)\n"
     ]
    },
    {
     "name": "stderr",
     "output_type": "stream",
     "text": [
      " 36%|███▌      | 18/50 [53:44<1:35:32, 179.13s/it]"
     ]
    },
    {
     "name": "stdout",
     "output_type": "stream",
     "text": [
      "Iterations 223\n",
      "Maximizing with STP\n",
      "Seed: 30\n",
      "Initial points: tensor([[5.9980e+01, 3.2340e+01, 5.8000e+00, 1.7100e+00, 6.0000e-02],\n",
      "        [4.3170e+01, 3.4010e+01, 3.8900e+00, 2.0400e+00, 1.6960e+01],\n",
      "        [9.6270e+01, 2.7000e-01, 2.0200e+00, 8.5000e-01, 5.1000e-01],\n",
      "        [8.4550e+01, 1.9300e+00, 1.4000e+00, 3.2300e+00, 8.8500e+00],\n",
      "        [8.3170e+01, 1.7200e+00, 3.5400e+00, 2.4300e+00, 9.0700e+00]],\n",
      "       dtype=torch.float64)\n"
     ]
    },
    {
     "name": "stderr",
     "output_type": "stream",
     "text": [
      " 38%|███▊      | 19/50 [56:46<1:32:56, 179.90s/it]"
     ]
    },
    {
     "name": "stdout",
     "output_type": "stream",
     "text": [
      "Iterations 220\n",
      "Maximizing with STP\n",
      "Seed: 95\n",
      "Initial points: tensor([[44.0100,  0.0900,  0.9000, 54.7100,  0.3000],\n",
      "        [90.0000, 10.0000,  0.0000,  0.0000,  0.0000],\n",
      "        [86.4250,  0.6800,  0.7350,  6.9900,  5.1300],\n",
      "        [42.4400,  1.1100,  1.4900, 54.0400,  0.9500],\n",
      "        [84.2300,  1.0600,  1.1300,  4.3400,  9.1500]], dtype=torch.float64)\n"
     ]
    },
    {
     "name": "stderr",
     "output_type": "stream",
     "text": [
      " 40%|████      | 20/50 [59:29<1:27:30, 175.02s/it]"
     ]
    },
    {
     "name": "stdout",
     "output_type": "stream",
     "text": [
      "Iterations 206\n",
      "Maximizing with STP\n",
      "Seed: 223\n",
      "Initial points: tensor([[88.4500,  3.5000,  1.8900,  1.9600,  4.2100],\n",
      "        [90.0000, 10.0000,  0.0000,  0.0000,  0.0000],\n",
      "        [42.3000, 45.0700,  4.4900,  5.2100,  3.0200],\n",
      "        [16.1500,  0.4600, 25.3800, 51.4200,  6.5500],\n",
      "        [80.2600,  0.5300, 12.0300,  5.4700,  1.7800]], dtype=torch.float64)\n"
     ]
    },
    {
     "name": "stderr",
     "output_type": "stream",
     "text": [
      " 42%|████▏     | 21/50 [1:02:30<1:25:27, 176.81s/it]"
     ]
    },
    {
     "name": "stdout",
     "output_type": "stream",
     "text": [
      "Iterations 222\n",
      "Maximizing with STP\n",
      "Seed: 238\n",
      "Initial points: tensor([[9.0000e+01, 1.0000e+01, 0.0000e+00, 0.0000e+00, 0.0000e+00],\n",
      "        [6.1930e+01, 3.0520e+01, 7.0500e+00, 2.0000e-01, 3.6000e-01],\n",
      "        [4.8970e+01, 5.0340e+01, 4.0000e-02, 1.0000e-01, 5.6000e-01],\n",
      "        [4.7130e+01, 4.6950e+01, 4.2800e+00, 1.0800e+00, 5.7000e-01],\n",
      "        [4.4010e+01, 9.0000e-02, 9.0000e-01, 5.4710e+01, 3.0000e-01]],\n",
      "       dtype=torch.float64)\n"
     ]
    },
    {
     "name": "stderr",
     "output_type": "stream",
     "text": [
      " 44%|████▍     | 22/50 [1:05:34<1:23:33, 179.04s/it]"
     ]
    },
    {
     "name": "stdout",
     "output_type": "stream",
     "text": [
      "Iterations 225\n",
      "Maximizing with STP\n",
      "Seed: 517\n",
      "Initial points: tensor([[56.5900, 31.3400,  5.4600,  0.9300,  5.7300],\n",
      "        [91.1300,  1.9900,  1.9500,  2.2400,  2.6900],\n",
      "        [19.1500,  1.5900, 48.4000, 23.3300,  7.5700],\n",
      "        [90.0000, 10.0000,  0.0000,  0.0000,  0.0000],\n",
      "        [43.0900, 47.8500,  3.1400,  3.3000,  2.6700]], dtype=torch.float64)\n"
     ]
    },
    {
     "name": "stderr",
     "output_type": "stream",
     "text": [
      " 46%|████▌     | 23/50 [1:08:37<1:20:59, 180.00s/it]"
     ]
    },
    {
     "name": "stdout",
     "output_type": "stream",
     "text": [
      "Iterations 220\n",
      "Maximizing with STP\n",
      "Seed: 616\n",
      "Initial points: tensor([[8.4230e+01, 1.0600e+00, 1.1300e+00, 4.3400e+00, 9.1500e+00],\n",
      "        [4.3110e+01, 5.3000e-01, 5.3450e+01, 5.1000e-01, 2.3600e+00],\n",
      "        [4.4610e+01, 4.7530e+01, 2.0500e+00, 3.1700e+00, 2.5800e+00],\n",
      "        [4.3610e+01, 4.9290e+01, 2.8800e+00, 4.2200e+00, 4.0000e-02],\n",
      "        [4.5210e+01, 4.9390e+01, 3.5900e+00, 1.4500e+00, 4.1000e-01]],\n",
      "       dtype=torch.float64)\n"
     ]
    },
    {
     "name": "stderr",
     "output_type": "stream",
     "text": [
      " 48%|████▊     | 24/50 [1:11:34<1:17:39, 179.21s/it]"
     ]
    },
    {
     "name": "stdout",
     "output_type": "stream",
     "text": [
      "Iterations 219\n",
      "Maximizing with STP\n",
      "Seed: 27\n",
      "Initial points: tensor([[89.8000,  3.0100,  1.5900,  4.3600,  1.2300],\n",
      "        [95.0000,  0.0000,  0.0000,  0.0000,  5.0000],\n",
      "        [58.7600, 39.8100,  0.7500,  0.1500,  0.5300],\n",
      "        [34.9600, 44.3200,  1.8000, 14.0100,  4.9600],\n",
      "        [91.1300,  1.9900,  1.9500,  2.2400,  2.6900]], dtype=torch.float64)\n"
     ]
    },
    {
     "name": "stderr",
     "output_type": "stream",
     "text": [
      " 50%|█████     | 25/50 [1:14:33<1:14:37, 179.11s/it]"
     ]
    },
    {
     "name": "stdout",
     "output_type": "stream",
     "text": [
      "Iterations 224\n",
      "Maximizing with STP\n",
      "Seed: 574\n",
      "Initial points: tensor([[8.9800e+01, 3.0100e+00, 1.5900e+00, 4.3600e+00, 1.2300e+00],\n",
      "        [5.0650e+01, 4.4590e+01, 4.0600e+00, 4.0000e-02, 6.9000e-01],\n",
      "        [2.0570e+01, 1.8000e-01, 3.5600e+01, 3.9410e+01, 4.1600e+00],\n",
      "        [7.4880e+01, 8.0000e-02, 2.0200e+00, 2.2010e+01, 1.0300e+00],\n",
      "        [4.6860e+01, 4.3740e+01, 5.0800e+00, 7.8000e-01, 3.6100e+00]],\n",
      "       dtype=torch.float64)\n"
     ]
    },
    {
     "name": "stderr",
     "output_type": "stream",
     "text": [
      " 52%|█████▏    | 26/50 [1:17:24<1:10:42, 176.78s/it]"
     ]
    },
    {
     "name": "stdout",
     "output_type": "stream",
     "text": [
      "Iterations 217\n",
      "Maximizing with STP\n",
      "Seed: 203\n",
      "Initial points: tensor([[36.8800, 41.6000,  2.6700,  1.8500, 16.9900],\n",
      "        [90.4800,  4.8200,  2.6100,  0.5500,  1.5700],\n",
      "        [59.8200,  0.2300,  0.5000, 38.8900,  0.5500],\n",
      "        [47.0900, 35.5600,  5.7900,  5.4700,  6.1700],\n",
      "        [50.7400, 41.0500,  1.6500,  4.6900,  1.8700]], dtype=torch.float64)\n"
     ]
    },
    {
     "name": "stderr",
     "output_type": "stream",
     "text": [
      " 54%|█████▍    | 27/50 [1:20:24<1:08:06, 177.67s/it]"
     ]
    },
    {
     "name": "stdout",
     "output_type": "stream",
     "text": [
      "Iterations 225\n",
      "Maximizing with STP\n",
      "Seed: 733\n",
      "Initial points: tensor([[4.4570e+01, 4.8470e+01, 2.9300e+00, 1.6000e+00, 2.4000e+00],\n",
      "        [4.4800e+01, 3.7400e+01, 6.8100e+00, 5.8300e+00, 5.1800e+00],\n",
      "        [6.1930e+01, 3.0520e+01, 7.0500e+00, 2.0000e-01, 3.6000e-01],\n",
      "        [6.9100e+01, 3.0830e+01, 4.0000e-02, 4.0000e-02, 4.0000e-02],\n",
      "        [4.9720e+01, 4.8060e+01, 1.1100e+00, 8.9000e-01, 2.3000e-01]],\n",
      "       dtype=torch.float64)\n"
     ]
    },
    {
     "name": "stderr",
     "output_type": "stream",
     "text": [
      " 56%|█████▌    | 28/50 [1:23:02<1:03:01, 171.90s/it]"
     ]
    },
    {
     "name": "stdout",
     "output_type": "stream",
     "text": [
      "Iterations 201\n",
      "Maximizing with STP\n",
      "Seed: 665\n",
      "Initial points: tensor([[7.1640e+01, 2.8160e+01, 4.0000e-02, 1.1000e-01, 5.0000e-02],\n",
      "        [4.6440e+01, 4.9230e+01, 1.6600e+00, 1.7000e+00, 1.0600e+00],\n",
      "        [1.9840e+01, 1.0600e+00, 2.8700e+01, 3.3620e+01, 1.6750e+01],\n",
      "        [6.8110e+01, 2.8690e+01, 8.9000e-01, 9.7000e-01, 1.3500e+00],\n",
      "        [5.8620e+01, 3.9890e+01, 4.0000e-02, 1.3200e+00, 1.4000e-01]],\n",
      "       dtype=torch.float64)\n"
     ]
    },
    {
     "name": "stderr",
     "output_type": "stream",
     "text": [
      " 58%|█████▊    | 29/50 [1:26:07<1:01:32, 175.85s/it]"
     ]
    },
    {
     "name": "stdout",
     "output_type": "stream",
     "text": [
      "Iterations 225\n",
      "Maximizing with STP\n",
      "Seed: 718\n",
      "Initial points: tensor([[4.0670e+01, 5.9260e+01, 4.0000e-02, 4.0000e-02, 7.0000e-02],\n",
      "        [5.6590e+01, 3.1340e+01, 5.4600e+00, 9.3000e-01, 5.7300e+00],\n",
      "        [9.1130e+01, 1.9900e+00, 1.9500e+00, 2.2400e+00, 2.6900e+00],\n",
      "        [4.7200e+01, 4.9490e+01, 2.0100e+00, 3.1000e-01, 1.0100e+00],\n",
      "        [3.7690e+01, 4.3160e+01, 4.1400e+00, 6.2200e+00, 8.8000e+00]],\n",
      "       dtype=torch.float64)\n"
     ]
    },
    {
     "name": "stderr",
     "output_type": "stream",
     "text": [
      " 60%|██████    | 30/50 [1:28:59<58:10, 174.54s/it]  "
     ]
    },
    {
     "name": "stdout",
     "output_type": "stream",
     "text": [
      "Iterations 216\n",
      "Maximizing with STP\n",
      "Seed: 429\n",
      "Initial points: tensor([[5.0650e+01, 4.4590e+01, 4.0600e+00, 4.0000e-02, 6.9000e-01],\n",
      "        [8.8450e+01, 3.5000e+00, 1.8900e+00, 1.9600e+00, 4.2100e+00],\n",
      "        [4.4890e+01, 4.7030e+01, 3.8100e+00, 1.1600e+00, 3.1000e+00],\n",
      "        [3.4960e+01, 4.4320e+01, 1.8000e+00, 1.4010e+01, 4.9600e+00],\n",
      "        [1.5000e+01, 0.0000e+00, 0.0000e+00, 8.5000e+01, 0.0000e+00]],\n",
      "       dtype=torch.float64)\n"
     ]
    },
    {
     "name": "stderr",
     "output_type": "stream",
     "text": [
      " 62%|██████▏   | 31/50 [1:31:57<55:38, 175.73s/it]"
     ]
    },
    {
     "name": "stdout",
     "output_type": "stream",
     "text": [
      "Iterations 217\n",
      "Maximizing with STP\n",
      "Seed: 225\n",
      "Initial points: tensor([[9.0310e+01, 1.8000e-01, 6.2000e-01, 8.2500e+00, 6.5000e-01],\n",
      "        [4.5640e+01, 4.8860e+01, 2.6400e+00, 1.7800e+00, 1.0900e+00],\n",
      "        [4.0670e+01, 5.9260e+01, 4.0000e-02, 4.0000e-02, 7.0000e-02],\n",
      "        [3.8290e+01, 4.7370e+01, 9.5000e-01, 6.0000e-01, 1.2870e+01],\n",
      "        [3.4010e+01, 3.8900e+01, 7.3000e-01, 1.2680e+01, 1.3650e+01]],\n",
      "       dtype=torch.float64)\n"
     ]
    },
    {
     "name": "stderr",
     "output_type": "stream",
     "text": [
      " 64%|██████▍   | 32/50 [1:34:57<53:02, 176.79s/it]"
     ]
    },
    {
     "name": "stdout",
     "output_type": "stream",
     "text": [
      "Iterations 221\n",
      "Maximizing with STP\n",
      "Seed: 459\n",
      "Initial points: tensor([[4.2330e+01, 5.1830e+01, 2.7500e+00, 2.8700e+00, 3.2000e-01],\n",
      "        [7.3990e+01, 5.0000e-01, 2.5180e+01, 2.8000e-01, 4.0000e-02],\n",
      "        [4.8620e+01, 5.0350e+01, 4.9000e-01, 5.3000e-01, 4.0000e-02],\n",
      "        [8.3170e+01, 1.7200e+00, 3.5400e+00, 2.4300e+00, 9.0700e+00],\n",
      "        [8.4570e+01, 9.0000e-01, 6.9000e-01, 5.8400e+00, 7.9800e+00]],\n",
      "       dtype=torch.float64)\n"
     ]
    },
    {
     "name": "stderr",
     "output_type": "stream",
     "text": [
      " 66%|██████▌   | 33/50 [1:37:59<50:33, 178.43s/it]"
     ]
    },
    {
     "name": "stdout",
     "output_type": "stream",
     "text": [
      "Iterations 223\n",
      "Maximizing with STP\n",
      "Seed: 603\n",
      "Initial points: tensor([[7.0000e+01, 3.0000e+01, 0.0000e+00, 0.0000e+00, 0.0000e+00],\n",
      "        [4.1630e+01, 4.5990e+01, 8.1700e+00, 4.0000e-02, 4.2400e+00],\n",
      "        [8.4090e+01, 1.8500e+00, 6.5000e-01, 2.3600e+00, 1.1140e+01],\n",
      "        [8.4570e+01, 9.0000e-01, 6.9000e-01, 5.8400e+00, 7.9800e+00],\n",
      "        [4.4350e+01, 1.8000e-01, 5.4470e+01, 1.8000e-01, 8.1000e-01]],\n",
      "       dtype=torch.float64)\n"
     ]
    },
    {
     "name": "stderr",
     "output_type": "stream",
     "text": [
      " 68%|██████▊   | 34/50 [1:40:56<47:25, 177.86s/it]"
     ]
    },
    {
     "name": "stdout",
     "output_type": "stream",
     "text": [
      "Iterations 219\n",
      "Maximizing with STP\n",
      "Seed: 284\n",
      "Initial points: tensor([[4.4890e+01, 4.7030e+01, 3.8100e+00, 1.1600e+00, 3.1000e+00],\n",
      "        [6.8940e+01, 2.6790e+01, 6.9000e-01, 1.0300e+00, 2.5700e+00],\n",
      "        [8.4600e+01, 7.5600e+00, 4.0000e-02, 7.8300e+00, 6.0000e-02],\n",
      "        [4.4570e+01, 4.8470e+01, 2.9300e+00, 1.6000e+00, 2.4000e+00],\n",
      "        [5.0640e+01, 4.8290e+01, 2.3000e-01, 4.4000e-01, 4.1000e-01]],\n",
      "       dtype=torch.float64)\n"
     ]
    },
    {
     "name": "stderr",
     "output_type": "stream",
     "text": [
      " 70%|███████   | 35/50 [1:43:54<44:29, 177.95s/it]"
     ]
    },
    {
     "name": "stdout",
     "output_type": "stream",
     "text": [
      "Iterations 221\n",
      "Maximizing with STP\n",
      "Seed: 828\n",
      "Initial points: tensor([[19.5200,  1.2400, 46.2100, 25.8600,  7.2300],\n",
      "        [20.5700,  0.1800, 35.6000, 39.4100,  4.1600],\n",
      "        [55.3600, 38.3800,  1.1300,  4.1500,  1.0400],\n",
      "        [40.0000, 60.0000,  0.0000,  0.0000,  0.0000],\n",
      "        [95.0000,  0.0000,  0.0000,  0.0000,  5.0000]], dtype=torch.float64)\n"
     ]
    },
    {
     "name": "stderr",
     "output_type": "stream",
     "text": [
      " 72%|███████▏  | 36/50 [1:46:50<41:24, 177.46s/it]"
     ]
    },
    {
     "name": "stdout",
     "output_type": "stream",
     "text": [
      "Iterations 222\n",
      "Maximizing with STP\n",
      "Seed: 890\n",
      "Initial points: tensor([[51.8100, 39.1000,  5.1500,  0.7800,  3.1400],\n",
      "        [51.7300, 32.1200,  3.9200,  2.2900,  9.9600],\n",
      "        [49.5100, 49.2400,  0.6200,  0.1200,  0.5600],\n",
      "        [41.9000, 48.6100,  3.7800,  1.8700,  3.8300],\n",
      "        [92.3700,  0.4500,  1.8400,  0.5100,  4.8500]], dtype=torch.float64)\n"
     ]
    },
    {
     "name": "stderr",
     "output_type": "stream",
     "text": [
      " 74%|███████▍  | 37/50 [1:49:40<37:57, 175.21s/it]"
     ]
    },
    {
     "name": "stdout",
     "output_type": "stream",
     "text": [
      "Iterations 212\n",
      "Maximizing with STP\n",
      "Seed: 6\n",
      "Initial points: tensor([[8.8450e+01, 3.5000e+00, 1.8900e+00, 1.9600e+00, 4.2100e+00],\n",
      "        [7.1640e+01, 2.8160e+01, 4.0000e-02, 1.1000e-01, 5.0000e-02],\n",
      "        [1.8740e+01, 1.7000e-01, 1.8410e+01, 3.6130e+01, 2.6580e+01],\n",
      "        [3.9050e+01, 4.1850e+01, 5.7500e+00, 4.0400e+00, 9.4000e+00],\n",
      "        [4.8970e+01, 5.0340e+01, 4.0000e-02, 1.0000e-01, 5.6000e-01]],\n",
      "       dtype=torch.float64)\n"
     ]
    },
    {
     "name": "stderr",
     "output_type": "stream",
     "text": [
      " 76%|███████▌  | 38/50 [1:52:36<35:07, 175.58s/it]"
     ]
    },
    {
     "name": "stdout",
     "output_type": "stream",
     "text": [
      "Iterations 222\n",
      "Maximizing with STP\n",
      "Seed: 777\n",
      "Initial points: tensor([[4.7200e+01, 4.9490e+01, 2.0100e+00, 3.1000e-01, 1.0100e+00],\n",
      "        [4.2440e+01, 1.1100e+00, 1.4900e+00, 5.4040e+01, 9.5000e-01],\n",
      "        [7.7730e+01, 2.0640e+01, 1.5800e+00, 4.0000e-02, 4.0000e-02],\n",
      "        [4.4800e+01, 3.7400e+01, 6.8100e+00, 5.8300e+00, 5.1800e+00],\n",
      "        [1.8670e+01, 2.7000e-01, 4.7090e+01, 2.4030e+01, 9.9900e+00]],\n",
      "       dtype=torch.float64)\n"
     ]
    },
    {
     "name": "stderr",
     "output_type": "stream",
     "text": [
      " 78%|███████▊  | 39/50 [1:55:37<32:28, 177.18s/it]"
     ]
    },
    {
     "name": "stdout",
     "output_type": "stream",
     "text": [
      "Iterations 225\n",
      "Maximizing with STP\n",
      "Seed: 825\n",
      "Initial points: tensor([[5.8550e+01, 3.7360e+01, 1.9200e+00, 8.7000e-01, 1.2700e+00],\n",
      "        [8.7890e+01, 2.0000e+00, 6.2600e+00, 2.4200e+00, 1.3300e+00],\n",
      "        [1.9130e+01, 4.0000e-01, 4.6860e+01, 2.5410e+01, 8.2500e+00],\n",
      "        [5.1730e+01, 3.2120e+01, 3.9200e+00, 2.2900e+00, 9.9600e+00],\n",
      "        [7.1640e+01, 2.8160e+01, 4.0000e-02, 1.1000e-01, 5.0000e-02]],\n",
      "       dtype=torch.float64)\n"
     ]
    },
    {
     "name": "stderr",
     "output_type": "stream",
     "text": [
      " 80%|████████  | 40/50 [1:58:32<29:25, 176.50s/it]"
     ]
    },
    {
     "name": "stdout",
     "output_type": "stream",
     "text": [
      "Iterations 218\n",
      "Maximizing with STP\n",
      "Seed: 163\n",
      "Initial points: tensor([[4.5210e+01, 4.9390e+01, 3.5900e+00, 1.4500e+00, 4.1000e-01],\n",
      "        [1.8740e+01, 1.7000e-01, 1.8410e+01, 3.6130e+01, 2.6580e+01],\n",
      "        [4.1630e+01, 4.5990e+01, 8.1700e+00, 4.0000e-02, 4.2400e+00],\n",
      "        [5.8620e+01, 3.9890e+01, 4.0000e-02, 1.3200e+00, 1.4000e-01],\n",
      "        [9.1130e+01, 1.9900e+00, 1.9500e+00, 2.2400e+00, 2.6900e+00]],\n",
      "       dtype=torch.float64)\n"
     ]
    },
    {
     "name": "stderr",
     "output_type": "stream",
     "text": [
      " 82%|████████▏ | 41/50 [2:01:30<26:32, 176.92s/it]"
     ]
    },
    {
     "name": "stdout",
     "output_type": "stream",
     "text": [
      "Iterations 222\n",
      "Maximizing with STP\n",
      "Seed: 714\n",
      "Initial points: tensor([[46.8600, 43.7400,  5.0800,  0.7800,  3.6100],\n",
      "        [74.8800,  0.0800,  2.0200, 22.0100,  1.0300],\n",
      "        [40.0000, 60.0000,  0.0000,  0.0000,  0.0000],\n",
      "        [19.1300,  0.4000, 46.8600, 25.4100,  8.2500],\n",
      "        [34.0100, 38.9000,  0.7300, 12.6800, 13.6500]], dtype=torch.float64)\n"
     ]
    },
    {
     "name": "stderr",
     "output_type": "stream",
     "text": [
      " 84%|████████▍ | 42/50 [2:04:21<23:20, 175.04s/it]"
     ]
    },
    {
     "name": "stdout",
     "output_type": "stream",
     "text": [
      "Iterations 214\n",
      "Maximizing with STP\n",
      "Seed: 348\n",
      "Initial points: tensor([[4.4570e+01, 4.8470e+01, 2.9300e+00, 1.6000e+00, 2.4000e+00],\n",
      "        [4.4010e+01, 9.0000e-02, 9.0000e-01, 5.4710e+01, 3.0000e-01],\n",
      "        [5.5340e+01, 3.8120e+01, 6.2700e+00, 1.0000e-02, 2.6000e-01],\n",
      "        [8.3550e+01, 5.8000e-01, 3.0900e+00, 7.0100e+00, 5.7400e+00],\n",
      "        [4.9720e+01, 4.8060e+01, 1.1100e+00, 8.9000e-01, 2.3000e-01]],\n",
      "       dtype=torch.float64)\n"
     ]
    },
    {
     "name": "stderr",
     "output_type": "stream",
     "text": [
      " 86%|████████▌ | 43/50 [2:07:17<20:28, 175.49s/it]"
     ]
    },
    {
     "name": "stdout",
     "output_type": "stream",
     "text": [
      "Iterations 219\n",
      "Maximizing with STP\n",
      "Seed: 159\n",
      "Initial points: tensor([[4.7490e+01, 5.0270e+01, 1.4700e+00, 6.5000e-01, 1.6000e-01],\n",
      "        [4.2330e+01, 5.1830e+01, 2.7500e+00, 2.8700e+00, 3.2000e-01],\n",
      "        [5.0000e+01, 5.0000e+01, 0.0000e+00, 0.0000e+00, 0.0000e+00],\n",
      "        [7.1640e+01, 2.8160e+01, 4.0000e-02, 1.1000e-01, 5.0000e-02],\n",
      "        [5.4140e+01, 4.0570e+01, 4.0000e-02, 2.6800e+00, 2.6100e+00]],\n",
      "       dtype=torch.float64)\n"
     ]
    },
    {
     "name": "stderr",
     "output_type": "stream",
     "text": [
      " 88%|████████▊ | 44/50 [2:10:37<18:16, 182.70s/it]"
     ]
    },
    {
     "name": "stdout",
     "output_type": "stream",
     "text": [
      "Iterations 225\n",
      "Maximizing with STP\n",
      "Seed: 220\n",
      "Initial points: tensor([[6.6030e+01, 3.0010e+01, 2.6100e+00, 2.4000e-01, 1.0800e+00],\n",
      "        [5.3990e+01, 4.4580e+01, 4.0000e-02, 5.4000e-01, 8.9000e-01],\n",
      "        [4.9400e+01, 4.9480e+01, 5.4000e-01, 3.8000e-01, 2.1000e-01],\n",
      "        [5.8550e+01, 3.7360e+01, 1.9200e+00, 8.7000e-01, 1.2700e+00],\n",
      "        [4.0000e+01, 6.0000e+01, 0.0000e+00, 0.0000e+00, 0.0000e+00]],\n",
      "       dtype=torch.float64)\n"
     ]
    },
    {
     "name": "stderr",
     "output_type": "stream",
     "text": [
      " 90%|█████████ | 45/50 [2:13:38<15:11, 182.23s/it]"
     ]
    },
    {
     "name": "stdout",
     "output_type": "stream",
     "text": [
      "Iterations 217\n",
      "Maximizing with STP\n",
      "Seed: 980\n",
      "Initial points: tensor([[44.8000, 37.4000,  6.8100,  5.8300,  5.1800],\n",
      "        [50.3500, 40.6000,  5.3700,  2.4400,  1.2600],\n",
      "        [90.4800,  4.8200,  2.6100,  0.5500,  1.5700],\n",
      "        [42.4400,  1.1100,  1.4900, 54.0400,  0.9500],\n",
      "        [84.8600,  3.4200,  0.9600,  0.2800, 10.4100]], dtype=torch.float64)\n"
     ]
    },
    {
     "name": "stderr",
     "output_type": "stream",
     "text": [
      " 92%|█████████▏| 46/50 [2:16:43<12:12, 183.22s/it]"
     ]
    },
    {
     "name": "stdout",
     "output_type": "stream",
     "text": [
      "Iterations 222\n",
      "Maximizing with STP\n",
      "Seed: 781\n",
      "Initial points: tensor([[5.4140e+01, 4.0570e+01, 4.0000e-02, 2.6800e+00, 2.6100e+00],\n",
      "        [3.4130e+01, 4.2190e+01, 8.7900e+00, 1.3220e+01, 1.6900e+00],\n",
      "        [4.6570e+01, 4.8910e+01, 3.0800e+00, 1.1100e+00, 3.6000e-01],\n",
      "        [1.5000e+01, 0.0000e+00, 0.0000e+00, 8.5000e+01, 0.0000e+00],\n",
      "        [4.4350e+01, 1.8000e-01, 5.4470e+01, 1.8000e-01, 8.1000e-01]],\n",
      "       dtype=torch.float64)\n"
     ]
    },
    {
     "name": "stderr",
     "output_type": "stream",
     "text": [
      " 94%|█████████▍| 47/50 [2:19:53<09:15, 185.17s/it]"
     ]
    },
    {
     "name": "stdout",
     "output_type": "stream",
     "text": [
      "Iterations 225\n",
      "Maximizing with STP\n",
      "Seed: 344\n",
      "Initial points: tensor([[4.6860e+01, 4.3740e+01, 5.0800e+00, 7.8000e-01, 3.6100e+00],\n",
      "        [4.4750e+01, 5.2920e+01, 2.1000e-01, 1.3200e+00, 8.4000e-01],\n",
      "        [4.0670e+01, 5.9260e+01, 4.0000e-02, 4.0000e-02, 7.0000e-02],\n",
      "        [4.8720e+01, 4.9780e+01, 4.5000e-01, 8.3000e-01, 2.3000e-01],\n",
      "        [4.3090e+01, 4.7850e+01, 3.1400e+00, 3.3000e+00, 2.6700e+00]],\n",
      "       dtype=torch.float64)\n"
     ]
    },
    {
     "name": "stderr",
     "output_type": "stream",
     "text": [
      " 96%|█████████▌| 48/50 [2:23:01<06:12, 186.06s/it]"
     ]
    },
    {
     "name": "stdout",
     "output_type": "stream",
     "text": [
      "Iterations 223\n",
      "Maximizing with STP\n",
      "Seed: 94\n",
      "Initial points: tensor([[9.0310e+01, 1.8000e-01, 6.2000e-01, 8.2500e+00, 6.5000e-01],\n",
      "        [8.4550e+01, 1.9300e+00, 1.4000e+00, 3.2300e+00, 8.8500e+00],\n",
      "        [4.4010e+01, 9.0000e-02, 9.0000e-01, 5.4710e+01, 3.0000e-01],\n",
      "        [5.5340e+01, 3.8120e+01, 6.2700e+00, 1.0000e-02, 2.6000e-01],\n",
      "        [4.4890e+01, 4.7030e+01, 3.8100e+00, 1.1600e+00, 3.1000e+00]],\n",
      "       dtype=torch.float64)\n"
     ]
    },
    {
     "name": "stderr",
     "output_type": "stream",
     "text": [
      " 98%|█████████▊| 49/50 [2:26:07<03:06, 186.05s/it]"
     ]
    },
    {
     "name": "stdout",
     "output_type": "stream",
     "text": [
      "Iterations 225\n",
      "Maximizing with STP\n",
      "Seed: 389\n",
      "Initial points: tensor([[3.8290e+01, 4.7370e+01, 9.5000e-01, 6.0000e-01, 1.2870e+01],\n",
      "        [5.9980e+01, 3.2340e+01, 5.8000e+00, 1.7100e+00, 6.0000e-02],\n",
      "        [1.9150e+01, 1.5900e+00, 4.8400e+01, 2.3330e+01, 7.5700e+00],\n",
      "        [4.8680e+01, 3.9720e+01, 1.0970e+01, 5.8000e-01, 4.0000e-02],\n",
      "        [4.4890e+01, 4.7030e+01, 3.8100e+00, 1.1600e+00, 3.1000e+00]],\n",
      "       dtype=torch.float64)\n"
     ]
    },
    {
     "name": "stderr",
     "output_type": "stream",
     "text": [
      "100%|██████████| 50/50 [2:29:13<00:00, 179.06s/it]\n"
     ]
    },
    {
     "name": "stdout",
     "output_type": "stream",
     "text": [
      "Iterations 222\n"
     ]
    },
    {
     "name": "stderr",
     "output_type": "stream",
     "text": [
      "  0%|          | 0/50 [00:00<?, ?it/s]"
     ]
    },
    {
     "name": "stdout",
     "output_type": "stream",
     "text": [
      "Maximizing with EGP\n",
      "Seed: 654\n",
      "Initial points: tensor([[4.5410e+01, 4.8510e+01, 2.1000e+00, 2.6400e+00, 1.3800e+00],\n",
      "        [4.9580e+01, 4.5420e+01, 8.9000e-01, 2.2500e+00, 1.9300e+00],\n",
      "        [8.3170e+01, 1.7200e+00, 3.5400e+00, 2.4300e+00, 9.0700e+00],\n",
      "        [7.4190e+01, 7.0000e-02, 2.4760e+01, 1.7000e-01, 8.0000e-01],\n",
      "        [3.7290e+01, 4.3200e+01, 2.7700e+00, 1.8100e+00, 1.4940e+01]],\n",
      "       dtype=torch.float64)\n"
     ]
    },
    {
     "name": "stderr",
     "output_type": "stream",
     "text": [
      "c:\\Users\\stan\\miniconda3\\envs\\researchTP\\Lib\\site-packages\\linear_operator\\utils\\cholesky.py:40: NumericalWarning: A not p.d., added jitter of 1.0e-08 to the diagonal\n",
      "  warnings.warn(\n",
      "c:\\Users\\stan\\miniconda3\\envs\\researchTP\\Lib\\site-packages\\linear_operator\\utils\\cholesky.py:40: NumericalWarning: A not p.d., added jitter of 1.0e-07 to the diagonal\n",
      "  warnings.warn(\n",
      "c:\\Users\\stan\\miniconda3\\envs\\researchTP\\Lib\\site-packages\\linear_operator\\utils\\cholesky.py:40: NumericalWarning: A not p.d., added jitter of 1.0e-06 to the diagonal\n",
      "  warnings.warn(\n",
      "c:\\Users\\stan\\miniconda3\\envs\\researchTP\\Lib\\site-packages\\linear_operator\\utils\\cholesky.py:40: NumericalWarning: A not p.d., added jitter of 1.0e-05 to the diagonal\n",
      "  warnings.warn(\n",
      "c:\\Users\\stan\\miniconda3\\envs\\researchTP\\Lib\\site-packages\\linear_operator\\utils\\cholesky.py:40: NumericalWarning: A not p.d., added jitter of 1.0e-04 to the diagonal\n",
      "  warnings.warn(\n",
      "c:\\Users\\stan\\miniconda3\\envs\\researchTP\\Lib\\site-packages\\linear_operator\\utils\\cholesky.py:40: NumericalWarning: A not p.d., added jitter of 1.0e-03 to the diagonal\n",
      "  warnings.warn(\n",
      "c:\\Users\\stan\\miniconda3\\envs\\researchTP\\Lib\\site-packages\\botorch\\optim\\fit.py:102: OptimizationWarning: `scipy_minimize` terminated with status OptimizationStatus.FAILURE, displaying original message from `scipy.optimize.minimize`: ABNORMAL_TERMINATION_IN_LNSRCH\n",
      "  warn(\n",
      "c:\\Users\\stan\\miniconda3\\envs\\researchTP\\Lib\\site-packages\\linear_operator\\utils\\cholesky.py:40: NumericalWarning: A not p.d., added jitter of 1.0e-08 to the diagonal\n",
      "  warnings.warn(\n",
      "c:\\Users\\stan\\miniconda3\\envs\\researchTP\\Lib\\site-packages\\linear_operator\\utils\\cholesky.py:40: NumericalWarning: A not p.d., added jitter of 1.0e-07 to the diagonal\n",
      "  warnings.warn(\n",
      "c:\\Users\\stan\\miniconda3\\envs\\researchTP\\Lib\\site-packages\\linear_operator\\utils\\cholesky.py:40: NumericalWarning: A not p.d., added jitter of 1.0e-06 to the diagonal\n",
      "  warnings.warn(\n",
      "c:\\Users\\stan\\miniconda3\\envs\\researchTP\\Lib\\site-packages\\linear_operator\\utils\\cholesky.py:40: NumericalWarning: A not p.d., added jitter of 1.0e-05 to the diagonal\n",
      "  warnings.warn(\n",
      "c:\\Users\\stan\\miniconda3\\envs\\researchTP\\Lib\\site-packages\\linear_operator\\utils\\cholesky.py:40: NumericalWarning: A not p.d., added jitter of 1.0e-04 to the diagonal\n",
      "  warnings.warn(\n",
      "c:\\Users\\stan\\miniconda3\\envs\\researchTP\\Lib\\site-packages\\linear_operator\\utils\\cholesky.py:40: NumericalWarning: A not p.d., added jitter of 1.0e-03 to the diagonal\n",
      "  warnings.warn(\n",
      "  2%|▏         | 1/50 [00:50<41:12, 50.46s/it]"
     ]
    },
    {
     "name": "stdout",
     "output_type": "stream",
     "text": [
      "Iterations 225\n",
      "Maximizing with EGP\n",
      "Seed: 114\n",
      "Initial points: tensor([[2.0570e+01, 1.8000e-01, 3.5600e+01, 3.9410e+01, 4.1600e+00],\n",
      "        [3.9050e+01, 4.1850e+01, 5.7500e+00, 4.0400e+00, 9.4000e+00],\n",
      "        [4.0020e+01, 4.1490e+01, 8.0000e-02, 1.3950e+01, 4.5600e+00],\n",
      "        [4.0670e+01, 5.9260e+01, 4.0000e-02, 4.0000e-02, 7.0000e-02],\n",
      "        [4.2440e+01, 1.1100e+00, 1.4900e+00, 5.4040e+01, 9.5000e-01]],\n",
      "       dtype=torch.float64)\n"
     ]
    },
    {
     "name": "stderr",
     "output_type": "stream",
     "text": [
      "  4%|▍         | 2/50 [01:33<37:04, 46.34s/it]"
     ]
    },
    {
     "name": "stdout",
     "output_type": "stream",
     "text": [
      "Iterations 218\n",
      "Maximizing with EGP\n",
      "Seed: 25\n",
      "Initial points: tensor([[50.7400, 41.0500,  1.6500,  4.6900,  1.8700],\n",
      "        [83.1700,  1.7200,  3.5400,  2.4300,  9.0700],\n",
      "        [84.0100,  2.4900,  0.6700,  4.7100,  8.1100],\n",
      "        [54.4800,  0.6500,  0.5300,  0.4600, 43.8900],\n",
      "        [84.5500,  1.9300,  1.4000,  3.2300,  8.8500]], dtype=torch.float64)\n"
     ]
    },
    {
     "name": "stderr",
     "output_type": "stream",
     "text": [
      "  6%|▌         | 3/50 [02:30<40:06, 51.21s/it]"
     ]
    },
    {
     "name": "stdout",
     "output_type": "stream",
     "text": [
      "Iterations 225\n",
      "Maximizing with EGP\n",
      "Seed: 759\n",
      "Initial points: tensor([[5.3660e+01, 3.8510e+01, 1.5700e+00, 4.7500e+00, 1.5800e+00],\n",
      "        [4.7090e+01, 3.5560e+01, 5.7900e+00, 5.4700e+00, 6.1700e+00],\n",
      "        [3.7690e+01, 4.3160e+01, 4.1400e+00, 6.2200e+00, 8.8000e+00],\n",
      "        [4.1640e+01, 6.0000e-01, 5.9000e-01, 5.4700e+01, 2.4800e+00],\n",
      "        [7.4190e+01, 7.0000e-02, 2.4760e+01, 1.7000e-01, 8.0000e-01]],\n",
      "       dtype=torch.float64)\n"
     ]
    },
    {
     "name": "stderr",
     "output_type": "stream",
     "text": [
      "  8%|▊         | 4/50 [03:21<39:03, 50.95s/it]"
     ]
    },
    {
     "name": "stdout",
     "output_type": "stream",
     "text": [
      "Iterations 225\n",
      "Maximizing with EGP\n",
      "Seed: 281\n",
      "Initial points: tensor([[84.2300,  1.0600,  1.1300,  4.3400,  9.1500],\n",
      "        [44.5700, 48.4700,  2.9300,  1.6000,  2.4000],\n",
      "        [47.1300, 46.9500,  4.2800,  1.0800,  0.5700],\n",
      "        [84.5500,  1.9300,  1.4000,  3.2300,  8.8500],\n",
      "        [51.8350, 43.8050,  1.8800,  1.3800,  1.1300]], dtype=torch.float64)\n"
     ]
    },
    {
     "name": "stderr",
     "output_type": "stream",
     "text": [
      "c:\\Users\\stan\\miniconda3\\envs\\researchTP\\Lib\\site-packages\\botorch\\optim\\fit.py:102: OptimizationWarning: `scipy_minimize` terminated with status OptimizationStatus.FAILURE, displaying original message from `scipy.optimize.minimize`: ABNORMAL_TERMINATION_IN_LNSRCH\n",
      "  warn(\n",
      " 10%|█         | 5/50 [04:11<37:54, 50.54s/it]"
     ]
    },
    {
     "name": "stdout",
     "output_type": "stream",
     "text": [
      "Iterations 224\n",
      "Maximizing with EGP\n",
      "Seed: 250\n",
      "Initial points: tensor([[3.8920e+01, 4.9280e+01, 9.0000e-02, 9.5000e-01, 1.0670e+01],\n",
      "        [4.5600e+01, 4.6500e+01, 1.6700e+00, 3.9600e+00, 2.2600e+00],\n",
      "        [8.4010e+01, 2.4900e+00, 6.7000e-01, 4.7100e+00, 8.1100e+00],\n",
      "        [8.4550e+01, 1.9300e+00, 1.4000e+00, 3.2300e+00, 8.8500e+00],\n",
      "        [5.5340e+01, 3.8120e+01, 6.2700e+00, 1.0000e-02, 2.6000e-01]],\n",
      "       dtype=torch.float64)\n"
     ]
    },
    {
     "name": "stderr",
     "output_type": "stream",
     "text": [
      " 12%|█▏        | 6/50 [04:58<36:15, 49.44s/it]"
     ]
    },
    {
     "name": "stdout",
     "output_type": "stream",
     "text": [
      "Iterations 225\n",
      "Maximizing with EGP\n",
      "Seed: 228\n",
      "Initial points: tensor([[80.2600,  0.5300, 12.0300,  5.4700,  1.7800],\n",
      "        [84.0100,  2.4900,  0.6700,  4.7100,  8.1100],\n",
      "        [46.0500, 49.9000,  2.2200,  0.7700,  1.0900],\n",
      "        [50.6400, 48.2900,  0.2300,  0.4400,  0.4100],\n",
      "        [51.8350, 43.8050,  1.8800,  1.3800,  1.1300]], dtype=torch.float64)\n"
     ]
    },
    {
     "name": "stderr",
     "output_type": "stream",
     "text": [
      "c:\\Users\\stan\\miniconda3\\envs\\researchTP\\Lib\\site-packages\\botorch\\optim\\fit.py:102: OptimizationWarning: `scipy_minimize` terminated with status OptimizationStatus.FAILURE, displaying original message from `scipy.optimize.minimize`: ABNORMAL_TERMINATION_IN_LNSRCH\n",
      "  warn(\n",
      " 14%|█▍        | 7/50 [05:49<35:43, 49.85s/it]"
     ]
    },
    {
     "name": "stdout",
     "output_type": "stream",
     "text": [
      "Iterations 225\n",
      "Maximizing with EGP\n",
      "Seed: 142\n",
      "Initial points: tensor([[4.9720e+01, 4.8060e+01, 1.1100e+00, 8.9000e-01, 2.3000e-01],\n",
      "        [6.8110e+01, 2.8690e+01, 8.9000e-01, 9.7000e-01, 1.3500e+00],\n",
      "        [6.0000e+01, 0.0000e+00, 0.0000e+00, 4.0000e+01, 0.0000e+00],\n",
      "        [4.1900e+01, 4.8610e+01, 3.7800e+00, 1.8700e+00, 3.8300e+00],\n",
      "        [7.3990e+01, 5.0000e-01, 2.5180e+01, 2.8000e-01, 4.0000e-02]],\n",
      "       dtype=torch.float64)\n"
     ]
    },
    {
     "name": "stderr",
     "output_type": "stream",
     "text": [
      " 16%|█▌        | 8/50 [06:36<34:22, 49.10s/it]"
     ]
    },
    {
     "name": "stdout",
     "output_type": "stream",
     "text": [
      "Iterations 225\n",
      "Maximizing with EGP\n",
      "Seed: 754\n",
      "Initial points: tensor([[55.0000,  0.0000,  0.0000,  0.0000, 45.0000],\n",
      "        [88.4500,  3.5000,  1.8900,  1.9600,  4.2100],\n",
      "        [84.5500,  1.9300,  1.4000,  3.2300,  8.8500],\n",
      "        [51.8350, 43.8050,  1.8800,  1.3800,  1.1300],\n",
      "        [45.4100, 48.5100,  2.1000,  2.6400,  1.3800]], dtype=torch.float64)\n"
     ]
    },
    {
     "name": "stderr",
     "output_type": "stream",
     "text": [
      "c:\\Users\\stan\\miniconda3\\envs\\researchTP\\Lib\\site-packages\\botorch\\optim\\fit.py:102: OptimizationWarning: `scipy_minimize` terminated with status OptimizationStatus.FAILURE, displaying original message from `scipy.optimize.minimize`: ABNORMAL_TERMINATION_IN_LNSRCH\n",
      "  warn(\n",
      " 18%|█▊        | 9/50 [07:27<33:55, 49.65s/it]"
     ]
    },
    {
     "name": "stdout",
     "output_type": "stream",
     "text": [
      "Iterations 225\n",
      "Maximizing with EGP\n",
      "Seed: 104\n",
      "Initial points: tensor([[4.1900e+01, 4.8610e+01, 3.7800e+00, 1.8700e+00, 3.8300e+00],\n",
      "        [4.1600e+01, 5.1430e+01, 2.1000e+00, 4.9100e+00, 4.0000e-02],\n",
      "        [4.5000e+01, 0.0000e+00, 5.5000e+01, 0.0000e+00, 0.0000e+00],\n",
      "        [6.9100e+01, 3.0830e+01, 4.0000e-02, 4.0000e-02, 4.0000e-02],\n",
      "        [4.4750e+01, 5.2920e+01, 2.1000e-01, 1.3200e+00, 8.4000e-01]],\n",
      "       dtype=torch.float64)\n"
     ]
    },
    {
     "name": "stderr",
     "output_type": "stream",
     "text": [
      "c:\\Users\\stan\\miniconda3\\envs\\researchTP\\Lib\\site-packages\\botorch\\optim\\fit.py:102: OptimizationWarning: `scipy_minimize` terminated with status OptimizationStatus.FAILURE, displaying original message from `scipy.optimize.minimize`: ABNORMAL_TERMINATION_IN_LNSRCH\n",
      "  warn(\n",
      "c:\\Users\\stan\\miniconda3\\envs\\researchTP\\Lib\\site-packages\\linear_operator\\utils\\cholesky.py:40: NumericalWarning: A not p.d., added jitter of 1.0e-08 to the diagonal\n",
      "  warnings.warn(\n",
      "c:\\Users\\stan\\miniconda3\\envs\\researchTP\\Lib\\site-packages\\linear_operator\\utils\\cholesky.py:40: NumericalWarning: A not p.d., added jitter of 1.0e-07 to the diagonal\n",
      "  warnings.warn(\n",
      "c:\\Users\\stan\\miniconda3\\envs\\researchTP\\Lib\\site-packages\\linear_operator\\utils\\cholesky.py:40: NumericalWarning: A not p.d., added jitter of 1.0e-06 to the diagonal\n",
      "  warnings.warn(\n",
      "c:\\Users\\stan\\miniconda3\\envs\\researchTP\\Lib\\site-packages\\linear_operator\\utils\\cholesky.py:40: NumericalWarning: A not p.d., added jitter of 1.0e-05 to the diagonal\n",
      "  warnings.warn(\n",
      "c:\\Users\\stan\\miniconda3\\envs\\researchTP\\Lib\\site-packages\\linear_operator\\utils\\cholesky.py:40: NumericalWarning: A not p.d., added jitter of 1.0e-04 to the diagonal\n",
      "  warnings.warn(\n",
      "c:\\Users\\stan\\miniconda3\\envs\\researchTP\\Lib\\site-packages\\linear_operator\\utils\\cholesky.py:40: NumericalWarning: A not p.d., added jitter of 1.0e-03 to the diagonal\n",
      "  warnings.warn(\n",
      " 20%|██        | 10/50 [08:19<33:36, 50.41s/it]"
     ]
    },
    {
     "name": "stdout",
     "output_type": "stream",
     "text": [
      "Iterations 225\n",
      "Maximizing with EGP\n",
      "Seed: 692\n",
      "Initial points: tensor([[4.3130e+01, 4.9300e+01, 3.1600e+00, 1.7200e+00, 2.7400e+00],\n",
      "        [3.8920e+01, 4.9280e+01, 9.0000e-02, 9.5000e-01, 1.0670e+01],\n",
      "        [4.1630e+01, 4.5990e+01, 8.1700e+00, 4.0000e-02, 4.2400e+00],\n",
      "        [9.3870e+01, 2.4000e-01, 5.6000e-01, 2.4000e-01, 5.1100e+00],\n",
      "        [4.2330e+01, 5.1830e+01, 2.7500e+00, 2.8700e+00, 3.2000e-01]],\n",
      "       dtype=torch.float64)\n"
     ]
    },
    {
     "name": "stderr",
     "output_type": "stream",
     "text": [
      "c:\\Users\\stan\\miniconda3\\envs\\researchTP\\Lib\\site-packages\\gpytorch\\distributions\\multivariate_normal.py:319: NumericalWarning: Negative variance values detected. This is likely due to numerical instabilities. Rounding negative variances up to 1e-10.\n",
      "  warnings.warn(\n",
      "c:\\Users\\stan\\miniconda3\\envs\\researchTP\\Lib\\site-packages\\linear_operator\\utils\\cholesky.py:40: NumericalWarning: A not p.d., added jitter of 1.0e-08 to the diagonal\n",
      "  warnings.warn(\n",
      "c:\\Users\\stan\\miniconda3\\envs\\researchTP\\Lib\\site-packages\\linear_operator\\utils\\cholesky.py:40: NumericalWarning: A not p.d., added jitter of 1.0e-07 to the diagonal\n",
      "  warnings.warn(\n",
      "c:\\Users\\stan\\miniconda3\\envs\\researchTP\\Lib\\site-packages\\linear_operator\\utils\\cholesky.py:40: NumericalWarning: A not p.d., added jitter of 1.0e-06 to the diagonal\n",
      "  warnings.warn(\n",
      "c:\\Users\\stan\\miniconda3\\envs\\researchTP\\Lib\\site-packages\\linear_operator\\utils\\cholesky.py:40: NumericalWarning: A not p.d., added jitter of 1.0e-05 to the diagonal\n",
      "  warnings.warn(\n",
      "c:\\Users\\stan\\miniconda3\\envs\\researchTP\\Lib\\site-packages\\linear_operator\\utils\\cholesky.py:40: NumericalWarning: A not p.d., added jitter of 1.0e-04 to the diagonal\n",
      "  warnings.warn(\n",
      "c:\\Users\\stan\\miniconda3\\envs\\researchTP\\Lib\\site-packages\\linear_operator\\utils\\cholesky.py:40: NumericalWarning: A not p.d., added jitter of 1.0e-03 to the diagonal\n",
      "  warnings.warn(\n",
      " 22%|██▏       | 11/50 [09:15<33:50, 52.06s/it]"
     ]
    },
    {
     "name": "stdout",
     "output_type": "stream",
     "text": [
      "Iterations 225\n",
      "Maximizing with EGP\n",
      "Seed: 758\n",
      "Initial points: tensor([[4.3800e+01, 4.5290e+01, 7.8900e+00, 2.4300e+00, 5.5000e-01],\n",
      "        [8.0260e+01, 5.3000e-01, 1.2030e+01, 5.4700e+00, 1.7800e+00],\n",
      "        [4.6860e+01, 4.3740e+01, 5.0800e+00, 7.8000e-01, 3.6100e+00],\n",
      "        [4.0670e+01, 5.9260e+01, 4.0000e-02, 4.0000e-02, 7.0000e-02],\n",
      "        [8.4550e+01, 1.9300e+00, 1.4000e+00, 3.2300e+00, 8.8500e+00]],\n",
      "       dtype=torch.float64)\n"
     ]
    },
    {
     "name": "stderr",
     "output_type": "stream",
     "text": [
      "c:\\Users\\stan\\miniconda3\\envs\\researchTP\\Lib\\site-packages\\botorch\\optim\\fit.py:102: OptimizationWarning: `scipy_minimize` terminated with status OptimizationStatus.FAILURE, displaying original message from `scipy.optimize.minimize`: ABNORMAL_TERMINATION_IN_LNSRCH\n",
      "  warn(\n",
      " 24%|██▍       | 12/50 [09:58<31:07, 49.15s/it]"
     ]
    },
    {
     "name": "stdout",
     "output_type": "stream",
     "text": [
      "Iterations 224\n",
      "Maximizing with EGP\n",
      "Seed: 913\n",
      "Initial points: tensor([[5.3400e+01, 3.3900e+01, 1.1800e+00, 1.1340e+01, 2.5000e-01],\n",
      "        [8.4550e+01, 1.9300e+00, 1.4000e+00, 3.2300e+00, 8.8500e+00],\n",
      "        [4.3800e+01, 4.5290e+01, 7.8900e+00, 2.4300e+00, 5.5000e-01],\n",
      "        [5.8760e+01, 3.9810e+01, 7.5000e-01, 1.5000e-01, 5.3000e-01],\n",
      "        [4.8970e+01, 5.0340e+01, 4.0000e-02, 1.0000e-01, 5.6000e-01]],\n",
      "       dtype=torch.float64)\n"
     ]
    },
    {
     "name": "stderr",
     "output_type": "stream",
     "text": [
      " 26%|██▌       | 13/50 [10:51<31:06, 50.44s/it]"
     ]
    },
    {
     "name": "stdout",
     "output_type": "stream",
     "text": [
      "Iterations 225\n",
      "Maximizing with EGP\n",
      "Seed: 558\n",
      "Initial points: tensor([[6.7100e+01, 3.0150e+01, 7.2000e-01, 4.0000e-02, 1.9500e+00],\n",
      "        [5.4140e+01, 4.0570e+01, 4.0000e-02, 2.6800e+00, 2.6100e+00],\n",
      "        [5.5340e+01, 3.8120e+01, 6.2700e+00, 1.0000e-02, 2.6000e-01],\n",
      "        [8.8620e+01, 3.0000e-01, 3.4000e-01, 9.6400e+00, 1.1100e+00],\n",
      "        [4.4890e+01, 4.7030e+01, 3.8100e+00, 1.1600e+00, 3.1000e+00]],\n",
      "       dtype=torch.float64)\n"
     ]
    },
    {
     "name": "stderr",
     "output_type": "stream",
     "text": [
      "c:\\Users\\stan\\miniconda3\\envs\\researchTP\\Lib\\site-packages\\botorch\\optim\\fit.py:102: OptimizationWarning: `scipy_minimize` terminated with status OptimizationStatus.FAILURE, displaying original message from `scipy.optimize.minimize`: ABNORMAL_TERMINATION_IN_LNSRCH\n",
      "  warn(\n",
      " 28%|██▊       | 14/50 [11:39<29:53, 49.83s/it]"
     ]
    },
    {
     "name": "stdout",
     "output_type": "stream",
     "text": [
      "Iterations 225\n",
      "Maximizing with EGP\n",
      "Seed: 89\n",
      "Initial points: tensor([[9.0310e+01, 1.8000e-01, 6.2000e-01, 8.2500e+00, 6.5000e-01],\n",
      "        [4.2330e+01, 5.1830e+01, 2.7500e+00, 2.8700e+00, 3.2000e-01],\n",
      "        [5.3660e+01, 3.8510e+01, 1.5700e+00, 4.7500e+00, 1.5800e+00],\n",
      "        [5.4140e+01, 4.0570e+01, 4.0000e-02, 2.6800e+00, 2.6100e+00],\n",
      "        [4.4800e+01, 3.7400e+01, 6.8100e+00, 5.8300e+00, 5.1800e+00]],\n",
      "       dtype=torch.float64)\n"
     ]
    },
    {
     "name": "stderr",
     "output_type": "stream",
     "text": [
      " 30%|███       | 15/50 [12:26<28:27, 48.78s/it]"
     ]
    },
    {
     "name": "stdout",
     "output_type": "stream",
     "text": [
      "Iterations 225\n",
      "Maximizing with EGP\n",
      "Seed: 604\n",
      "Initial points: tensor([[4.4300e+01, 5.4680e+01, 4.0000e-02, 2.9000e-01, 7.8000e-01],\n",
      "        [9.2370e+01, 4.5000e-01, 1.8400e+00, 5.1000e-01, 4.8500e+00],\n",
      "        [4.4570e+01, 4.8470e+01, 2.9300e+00, 1.6000e+00, 2.4000e+00],\n",
      "        [4.5210e+01, 4.9390e+01, 3.5900e+00, 1.4500e+00, 4.1000e-01],\n",
      "        [4.4570e+01, 4.8470e+01, 2.9300e+00, 1.6000e+00, 2.4000e+00]],\n",
      "       dtype=torch.float64)\n"
     ]
    },
    {
     "name": "stderr",
     "output_type": "stream",
     "text": [
      "c:\\Users\\stan\\miniconda3\\envs\\researchTP\\Lib\\site-packages\\gpytorch\\distributions\\multivariate_normal.py:319: NumericalWarning: Negative variance values detected. This is likely due to numerical instabilities. Rounding negative variances up to 1e-10.\n",
      "  warnings.warn(\n",
      "c:\\Users\\stan\\miniconda3\\envs\\researchTP\\Lib\\site-packages\\botorch\\optim\\fit.py:102: OptimizationWarning: `scipy_minimize` terminated with status OptimizationStatus.FAILURE, displaying original message from `scipy.optimize.minimize`: ABNORMAL_TERMINATION_IN_LNSRCH\n",
      "  warn(\n",
      "c:\\Users\\stan\\miniconda3\\envs\\researchTP\\Lib\\site-packages\\linear_operator\\utils\\cholesky.py:40: NumericalWarning: A not p.d., added jitter of 1.0e-08 to the diagonal\n",
      "  warnings.warn(\n",
      "c:\\Users\\stan\\miniconda3\\envs\\researchTP\\Lib\\site-packages\\linear_operator\\utils\\cholesky.py:40: NumericalWarning: A not p.d., added jitter of 1.0e-07 to the diagonal\n",
      "  warnings.warn(\n",
      "c:\\Users\\stan\\miniconda3\\envs\\researchTP\\Lib\\site-packages\\linear_operator\\utils\\cholesky.py:40: NumericalWarning: A not p.d., added jitter of 1.0e-06 to the diagonal\n",
      "  warnings.warn(\n",
      "c:\\Users\\stan\\miniconda3\\envs\\researchTP\\Lib\\site-packages\\linear_operator\\utils\\cholesky.py:40: NumericalWarning: A not p.d., added jitter of 1.0e-05 to the diagonal\n",
      "  warnings.warn(\n",
      "c:\\Users\\stan\\miniconda3\\envs\\researchTP\\Lib\\site-packages\\linear_operator\\utils\\cholesky.py:40: NumericalWarning: A not p.d., added jitter of 1.0e-04 to the diagonal\n",
      "  warnings.warn(\n",
      " 32%|███▏      | 16/50 [13:22<28:57, 51.11s/it]"
     ]
    },
    {
     "name": "stdout",
     "output_type": "stream",
     "text": [
      "Iterations 225\n",
      "Maximizing with EGP\n",
      "Seed: 432\n",
      "Initial points: tensor([[4.8680e+01, 3.9720e+01, 1.0970e+01, 5.8000e-01, 4.0000e-02],\n",
      "        [8.4860e+01, 3.4200e+00, 9.6000e-01, 2.8000e-01, 1.0410e+01],\n",
      "        [5.0640e+01, 4.8290e+01, 2.3000e-01, 4.4000e-01, 4.1000e-01],\n",
      "        [4.5640e+01, 4.8860e+01, 2.6400e+00, 1.7800e+00, 1.0900e+00],\n",
      "        [4.7260e+01, 4.4460e+01, 7.3200e+00, 6.9000e-01, 2.3000e-01]],\n",
      "       dtype=torch.float64)\n"
     ]
    },
    {
     "name": "stderr",
     "output_type": "stream",
     "text": [
      " 34%|███▍      | 17/50 [14:13<27:59, 50.89s/it]"
     ]
    },
    {
     "name": "stdout",
     "output_type": "stream",
     "text": [
      "Iterations 225\n",
      "Maximizing with EGP\n",
      "Seed: 32\n",
      "Initial points: tensor([[4.5150e+01, 4.2250e+01, 7.8200e+00, 1.9800e+00, 2.8300e+00],\n",
      "        [7.4190e+01, 7.0000e-02, 2.4760e+01, 1.7000e-01, 8.0000e-01],\n",
      "        [3.7690e+01, 4.3160e+01, 4.1400e+00, 6.2200e+00, 8.8000e+00],\n",
      "        [8.9800e+01, 3.0100e+00, 1.5900e+00, 4.3600e+00, 1.2300e+00],\n",
      "        [4.7130e+01, 4.6950e+01, 4.2800e+00, 1.0800e+00, 5.7000e-01]],\n",
      "       dtype=torch.float64)\n"
     ]
    },
    {
     "name": "stderr",
     "output_type": "stream",
     "text": [
      "c:\\Users\\stan\\miniconda3\\envs\\researchTP\\Lib\\site-packages\\botorch\\optim\\fit.py:102: OptimizationWarning: `scipy_minimize` terminated with status OptimizationStatus.FAILURE, displaying original message from `scipy.optimize.minimize`: ABNORMAL_TERMINATION_IN_LNSRCH\n",
      "  warn(\n",
      "c:\\Users\\stan\\miniconda3\\envs\\researchTP\\Lib\\site-packages\\botorch\\optim\\fit.py:102: OptimizationWarning: `scipy_minimize` terminated with status OptimizationStatus.FAILURE, displaying original message from `scipy.optimize.minimize`: ABNORMAL_TERMINATION_IN_LNSRCH\n",
      "  warn(\n",
      "c:\\Users\\stan\\miniconda3\\envs\\researchTP\\Lib\\site-packages\\linear_operator\\utils\\cholesky.py:40: NumericalWarning: A not p.d., added jitter of 1.0e-08 to the diagonal\n",
      "  warnings.warn(\n",
      "c:\\Users\\stan\\miniconda3\\envs\\researchTP\\Lib\\site-packages\\linear_operator\\utils\\cholesky.py:40: NumericalWarning: A not p.d., added jitter of 1.0e-07 to the diagonal\n",
      "  warnings.warn(\n",
      "c:\\Users\\stan\\miniconda3\\envs\\researchTP\\Lib\\site-packages\\linear_operator\\utils\\cholesky.py:40: NumericalWarning: A not p.d., added jitter of 1.0e-06 to the diagonal\n",
      "  warnings.warn(\n",
      "c:\\Users\\stan\\miniconda3\\envs\\researchTP\\Lib\\site-packages\\linear_operator\\utils\\cholesky.py:40: NumericalWarning: A not p.d., added jitter of 1.0e-05 to the diagonal\n",
      "  warnings.warn(\n",
      "c:\\Users\\stan\\miniconda3\\envs\\researchTP\\Lib\\site-packages\\linear_operator\\utils\\cholesky.py:40: NumericalWarning: A not p.d., added jitter of 1.0e-04 to the diagonal\n",
      "  warnings.warn(\n",
      "c:\\Users\\stan\\miniconda3\\envs\\researchTP\\Lib\\site-packages\\linear_operator\\utils\\cholesky.py:40: NumericalWarning: A not p.d., added jitter of 1.0e-03 to the diagonal\n",
      "  warnings.warn(\n",
      " 36%|███▌      | 18/50 [15:00<26:30, 49.70s/it]"
     ]
    },
    {
     "name": "stdout",
     "output_type": "stream",
     "text": [
      "Iterations 225\n",
      "Maximizing with EGP\n",
      "Seed: 30\n",
      "Initial points: tensor([[5.9980e+01, 3.2340e+01, 5.8000e+00, 1.7100e+00, 6.0000e-02],\n",
      "        [4.3170e+01, 3.4010e+01, 3.8900e+00, 2.0400e+00, 1.6960e+01],\n",
      "        [9.6270e+01, 2.7000e-01, 2.0200e+00, 8.5000e-01, 5.1000e-01],\n",
      "        [8.4550e+01, 1.9300e+00, 1.4000e+00, 3.2300e+00, 8.8500e+00],\n",
      "        [8.3170e+01, 1.7200e+00, 3.5400e+00, 2.4300e+00, 9.0700e+00]],\n",
      "       dtype=torch.float64)\n"
     ]
    },
    {
     "name": "stderr",
     "output_type": "stream",
     "text": [
      " 38%|███▊      | 19/50 [15:56<26:41, 51.68s/it]"
     ]
    },
    {
     "name": "stdout",
     "output_type": "stream",
     "text": [
      "Iterations 225\n",
      "Maximizing with EGP\n",
      "Seed: 95\n",
      "Initial points: tensor([[44.0100,  0.0900,  0.9000, 54.7100,  0.3000],\n",
      "        [90.0000, 10.0000,  0.0000,  0.0000,  0.0000],\n",
      "        [86.4250,  0.6800,  0.7350,  6.9900,  5.1300],\n",
      "        [42.4400,  1.1100,  1.4900, 54.0400,  0.9500],\n",
      "        [84.2300,  1.0600,  1.1300,  4.3400,  9.1500]], dtype=torch.float64)\n"
     ]
    },
    {
     "name": "stderr",
     "output_type": "stream",
     "text": [
      " 40%|████      | 20/50 [16:47<25:44, 51.48s/it]"
     ]
    },
    {
     "name": "stdout",
     "output_type": "stream",
     "text": [
      "Iterations 225\n",
      "Maximizing with EGP\n",
      "Seed: 223\n",
      "Initial points: tensor([[88.4500,  3.5000,  1.8900,  1.9600,  4.2100],\n",
      "        [90.0000, 10.0000,  0.0000,  0.0000,  0.0000],\n",
      "        [42.3000, 45.0700,  4.4900,  5.2100,  3.0200],\n",
      "        [16.1500,  0.4600, 25.3800, 51.4200,  6.5500],\n",
      "        [80.2600,  0.5300, 12.0300,  5.4700,  1.7800]], dtype=torch.float64)\n"
     ]
    },
    {
     "name": "stderr",
     "output_type": "stream",
     "text": [
      "c:\\Users\\stan\\miniconda3\\envs\\researchTP\\Lib\\site-packages\\botorch\\optim\\fit.py:102: OptimizationWarning: `scipy_minimize` terminated with status OptimizationStatus.FAILURE, displaying original message from `scipy.optimize.minimize`: ABNORMAL_TERMINATION_IN_LNSRCH\n",
      "  warn(\n",
      "c:\\Users\\stan\\miniconda3\\envs\\researchTP\\Lib\\site-packages\\linear_operator\\utils\\cholesky.py:40: NumericalWarning: A not p.d., added jitter of 1.0e-08 to the diagonal\n",
      "  warnings.warn(\n",
      "c:\\Users\\stan\\miniconda3\\envs\\researchTP\\Lib\\site-packages\\linear_operator\\utils\\cholesky.py:40: NumericalWarning: A not p.d., added jitter of 1.0e-07 to the diagonal\n",
      "  warnings.warn(\n",
      "c:\\Users\\stan\\miniconda3\\envs\\researchTP\\Lib\\site-packages\\linear_operator\\utils\\cholesky.py:40: NumericalWarning: A not p.d., added jitter of 1.0e-06 to the diagonal\n",
      "  warnings.warn(\n",
      "c:\\Users\\stan\\miniconda3\\envs\\researchTP\\Lib\\site-packages\\linear_operator\\utils\\cholesky.py:40: NumericalWarning: A not p.d., added jitter of 1.0e-05 to the diagonal\n",
      "  warnings.warn(\n",
      "c:\\Users\\stan\\miniconda3\\envs\\researchTP\\Lib\\site-packages\\linear_operator\\utils\\cholesky.py:40: NumericalWarning: A not p.d., added jitter of 1.0e-04 to the diagonal\n",
      "  warnings.warn(\n",
      "c:\\Users\\stan\\miniconda3\\envs\\researchTP\\Lib\\site-packages\\linear_operator\\utils\\cholesky.py:40: NumericalWarning: A not p.d., added jitter of 1.0e-03 to the diagonal\n",
      "  warnings.warn(\n",
      "c:\\Users\\stan\\miniconda3\\envs\\researchTP\\Lib\\site-packages\\botorch\\optim\\fit.py:102: OptimizationWarning: `scipy_minimize` terminated with status OptimizationStatus.FAILURE, displaying original message from `scipy.optimize.minimize`: ABNORMAL_TERMINATION_IN_LNSRCH\n",
      "  warn(\n",
      " 42%|████▏     | 21/50 [17:43<25:35, 52.95s/it]"
     ]
    },
    {
     "name": "stdout",
     "output_type": "stream",
     "text": [
      "Iterations 225\n",
      "Maximizing with EGP\n",
      "Seed: 238\n",
      "Initial points: tensor([[9.0000e+01, 1.0000e+01, 0.0000e+00, 0.0000e+00, 0.0000e+00],\n",
      "        [6.1930e+01, 3.0520e+01, 7.0500e+00, 2.0000e-01, 3.6000e-01],\n",
      "        [4.8970e+01, 5.0340e+01, 4.0000e-02, 1.0000e-01, 5.6000e-01],\n",
      "        [4.7130e+01, 4.6950e+01, 4.2800e+00, 1.0800e+00, 5.7000e-01],\n",
      "        [4.4010e+01, 9.0000e-02, 9.0000e-01, 5.4710e+01, 3.0000e-01]],\n",
      "       dtype=torch.float64)\n"
     ]
    },
    {
     "name": "stderr",
     "output_type": "stream",
     "text": [
      " 44%|████▍     | 22/50 [18:34<24:20, 52.18s/it]"
     ]
    },
    {
     "name": "stdout",
     "output_type": "stream",
     "text": [
      "Iterations 224\n",
      "Maximizing with EGP\n",
      "Seed: 517\n",
      "Initial points: tensor([[56.5900, 31.3400,  5.4600,  0.9300,  5.7300],\n",
      "        [91.1300,  1.9900,  1.9500,  2.2400,  2.6900],\n",
      "        [19.1500,  1.5900, 48.4000, 23.3300,  7.5700],\n",
      "        [90.0000, 10.0000,  0.0000,  0.0000,  0.0000],\n",
      "        [43.0900, 47.8500,  3.1400,  3.3000,  2.6700]], dtype=torch.float64)\n"
     ]
    },
    {
     "name": "stderr",
     "output_type": "stream",
     "text": [
      " 46%|████▌     | 23/50 [19:32<24:16, 53.96s/it]"
     ]
    },
    {
     "name": "stdout",
     "output_type": "stream",
     "text": [
      "Iterations 225\n",
      "Maximizing with EGP\n",
      "Seed: 616\n",
      "Initial points: tensor([[8.4230e+01, 1.0600e+00, 1.1300e+00, 4.3400e+00, 9.1500e+00],\n",
      "        [4.3110e+01, 5.3000e-01, 5.3450e+01, 5.1000e-01, 2.3600e+00],\n",
      "        [4.4610e+01, 4.7530e+01, 2.0500e+00, 3.1700e+00, 2.5800e+00],\n",
      "        [4.3610e+01, 4.9290e+01, 2.8800e+00, 4.2200e+00, 4.0000e-02],\n",
      "        [4.5210e+01, 4.9390e+01, 3.5900e+00, 1.4500e+00, 4.1000e-01]],\n",
      "       dtype=torch.float64)\n"
     ]
    },
    {
     "name": "stderr",
     "output_type": "stream",
     "text": [
      " 48%|████▊     | 24/50 [20:16<22:05, 50.98s/it]"
     ]
    },
    {
     "name": "stdout",
     "output_type": "stream",
     "text": [
      "Iterations 221\n",
      "Maximizing with EGP\n",
      "Seed: 27\n",
      "Initial points: tensor([[89.8000,  3.0100,  1.5900,  4.3600,  1.2300],\n",
      "        [95.0000,  0.0000,  0.0000,  0.0000,  5.0000],\n",
      "        [58.7600, 39.8100,  0.7500,  0.1500,  0.5300],\n",
      "        [34.9600, 44.3200,  1.8000, 14.0100,  4.9600],\n",
      "        [91.1300,  1.9900,  1.9500,  2.2400,  2.6900]], dtype=torch.float64)\n"
     ]
    },
    {
     "name": "stderr",
     "output_type": "stream",
     "text": [
      "c:\\Users\\stan\\miniconda3\\envs\\researchTP\\Lib\\site-packages\\botorch\\optim\\fit.py:102: OptimizationWarning: `scipy_minimize` terminated with status OptimizationStatus.FAILURE, displaying original message from `scipy.optimize.minimize`: ABNORMAL_TERMINATION_IN_LNSRCH\n",
      "  warn(\n",
      " 50%|█████     | 25/50 [21:05<21:03, 50.55s/it]"
     ]
    },
    {
     "name": "stdout",
     "output_type": "stream",
     "text": [
      "Iterations 225\n",
      "Maximizing with EGP\n",
      "Seed: 574\n",
      "Initial points: tensor([[8.9800e+01, 3.0100e+00, 1.5900e+00, 4.3600e+00, 1.2300e+00],\n",
      "        [5.0650e+01, 4.4590e+01, 4.0600e+00, 4.0000e-02, 6.9000e-01],\n",
      "        [2.0570e+01, 1.8000e-01, 3.5600e+01, 3.9410e+01, 4.1600e+00],\n",
      "        [7.4880e+01, 8.0000e-02, 2.0200e+00, 2.2010e+01, 1.0300e+00],\n",
      "        [4.6860e+01, 4.3740e+01, 5.0800e+00, 7.8000e-01, 3.6100e+00]],\n",
      "       dtype=torch.float64)\n"
     ]
    },
    {
     "name": "stderr",
     "output_type": "stream",
     "text": [
      " 52%|█████▏    | 26/50 [22:04<21:09, 52.88s/it]"
     ]
    },
    {
     "name": "stdout",
     "output_type": "stream",
     "text": [
      "Iterations 225\n",
      "Maximizing with EGP\n",
      "Seed: 203\n",
      "Initial points: tensor([[36.8800, 41.6000,  2.6700,  1.8500, 16.9900],\n",
      "        [90.4800,  4.8200,  2.6100,  0.5500,  1.5700],\n",
      "        [59.8200,  0.2300,  0.5000, 38.8900,  0.5500],\n",
      "        [47.0900, 35.5600,  5.7900,  5.4700,  6.1700],\n",
      "        [50.7400, 41.0500,  1.6500,  4.6900,  1.8700]], dtype=torch.float64)\n"
     ]
    },
    {
     "name": "stderr",
     "output_type": "stream",
     "text": [
      "c:\\Users\\stan\\miniconda3\\envs\\researchTP\\Lib\\site-packages\\linear_operator\\utils\\cholesky.py:40: NumericalWarning: A not p.d., added jitter of 1.0e-08 to the diagonal\n",
      "  warnings.warn(\n",
      "c:\\Users\\stan\\miniconda3\\envs\\researchTP\\Lib\\site-packages\\linear_operator\\utils\\cholesky.py:40: NumericalWarning: A not p.d., added jitter of 1.0e-07 to the diagonal\n",
      "  warnings.warn(\n",
      "c:\\Users\\stan\\miniconda3\\envs\\researchTP\\Lib\\site-packages\\linear_operator\\utils\\cholesky.py:40: NumericalWarning: A not p.d., added jitter of 1.0e-06 to the diagonal\n",
      "  warnings.warn(\n",
      "c:\\Users\\stan\\miniconda3\\envs\\researchTP\\Lib\\site-packages\\linear_operator\\utils\\cholesky.py:40: NumericalWarning: A not p.d., added jitter of 1.0e-05 to the diagonal\n",
      "  warnings.warn(\n",
      "c:\\Users\\stan\\miniconda3\\envs\\researchTP\\Lib\\site-packages\\linear_operator\\utils\\cholesky.py:40: NumericalWarning: A not p.d., added jitter of 1.0e-04 to the diagonal\n",
      "  warnings.warn(\n",
      " 54%|█████▍    | 27/50 [23:01<20:47, 54.23s/it]"
     ]
    },
    {
     "name": "stdout",
     "output_type": "stream",
     "text": [
      "Iterations 225\n",
      "Maximizing with EGP\n",
      "Seed: 733\n",
      "Initial points: tensor([[4.4570e+01, 4.8470e+01, 2.9300e+00, 1.6000e+00, 2.4000e+00],\n",
      "        [4.4800e+01, 3.7400e+01, 6.8100e+00, 5.8300e+00, 5.1800e+00],\n",
      "        [6.1930e+01, 3.0520e+01, 7.0500e+00, 2.0000e-01, 3.6000e-01],\n",
      "        [6.9100e+01, 3.0830e+01, 4.0000e-02, 4.0000e-02, 4.0000e-02],\n",
      "        [4.9720e+01, 4.8060e+01, 1.1100e+00, 8.9000e-01, 2.3000e-01]],\n",
      "       dtype=torch.float64)\n"
     ]
    },
    {
     "name": "stderr",
     "output_type": "stream",
     "text": [
      " 56%|█████▌    | 28/50 [23:48<19:04, 52.04s/it]"
     ]
    },
    {
     "name": "stdout",
     "output_type": "stream",
     "text": [
      "Iterations 225\n",
      "Maximizing with EGP\n",
      "Seed: 665\n",
      "Initial points: tensor([[7.1640e+01, 2.8160e+01, 4.0000e-02, 1.1000e-01, 5.0000e-02],\n",
      "        [4.6440e+01, 4.9230e+01, 1.6600e+00, 1.7000e+00, 1.0600e+00],\n",
      "        [1.9840e+01, 1.0600e+00, 2.8700e+01, 3.3620e+01, 1.6750e+01],\n",
      "        [6.8110e+01, 2.8690e+01, 8.9000e-01, 9.7000e-01, 1.3500e+00],\n",
      "        [5.8620e+01, 3.9890e+01, 4.0000e-02, 1.3200e+00, 1.4000e-01]],\n",
      "       dtype=torch.float64)\n"
     ]
    },
    {
     "name": "stderr",
     "output_type": "stream",
     "text": [
      " 58%|█████▊    | 29/50 [24:39<18:09, 51.90s/it]"
     ]
    },
    {
     "name": "stdout",
     "output_type": "stream",
     "text": [
      "Iterations 225\n",
      "Maximizing with EGP\n",
      "Seed: 718\n",
      "Initial points: tensor([[4.0670e+01, 5.9260e+01, 4.0000e-02, 4.0000e-02, 7.0000e-02],\n",
      "        [5.6590e+01, 3.1340e+01, 5.4600e+00, 9.3000e-01, 5.7300e+00],\n",
      "        [9.1130e+01, 1.9900e+00, 1.9500e+00, 2.2400e+00, 2.6900e+00],\n",
      "        [4.7200e+01, 4.9490e+01, 2.0100e+00, 3.1000e-01, 1.0100e+00],\n",
      "        [3.7690e+01, 4.3160e+01, 4.1400e+00, 6.2200e+00, 8.8000e+00]],\n",
      "       dtype=torch.float64)\n"
     ]
    },
    {
     "name": "stderr",
     "output_type": "stream",
     "text": [
      " 60%|██████    | 30/50 [25:22<16:22, 49.12s/it]"
     ]
    },
    {
     "name": "stdout",
     "output_type": "stream",
     "text": [
      "Iterations 223\n",
      "Maximizing with EGP\n",
      "Seed: 429\n",
      "Initial points: tensor([[5.0650e+01, 4.4590e+01, 4.0600e+00, 4.0000e-02, 6.9000e-01],\n",
      "        [8.8450e+01, 3.5000e+00, 1.8900e+00, 1.9600e+00, 4.2100e+00],\n",
      "        [4.4890e+01, 4.7030e+01, 3.8100e+00, 1.1600e+00, 3.1000e+00],\n",
      "        [3.4960e+01, 4.4320e+01, 1.8000e+00, 1.4010e+01, 4.9600e+00],\n",
      "        [1.5000e+01, 0.0000e+00, 0.0000e+00, 8.5000e+01, 0.0000e+00]],\n",
      "       dtype=torch.float64)\n"
     ]
    },
    {
     "name": "stderr",
     "output_type": "stream",
     "text": [
      " 62%|██████▏   | 31/50 [26:17<16:04, 50.76s/it]"
     ]
    },
    {
     "name": "stdout",
     "output_type": "stream",
     "text": [
      "Iterations 225\n",
      "Maximizing with EGP\n",
      "Seed: 225\n",
      "Initial points: tensor([[9.0310e+01, 1.8000e-01, 6.2000e-01, 8.2500e+00, 6.5000e-01],\n",
      "        [4.5640e+01, 4.8860e+01, 2.6400e+00, 1.7800e+00, 1.0900e+00],\n",
      "        [4.0670e+01, 5.9260e+01, 4.0000e-02, 4.0000e-02, 7.0000e-02],\n",
      "        [3.8290e+01, 4.7370e+01, 9.5000e-01, 6.0000e-01, 1.2870e+01],\n",
      "        [3.4010e+01, 3.8900e+01, 7.3000e-01, 1.2680e+01, 1.3650e+01]],\n",
      "       dtype=torch.float64)\n"
     ]
    },
    {
     "name": "stderr",
     "output_type": "stream",
     "text": [
      "c:\\Users\\stan\\miniconda3\\envs\\researchTP\\Lib\\site-packages\\botorch\\optim\\fit.py:102: OptimizationWarning: `scipy_minimize` terminated with status OptimizationStatus.FAILURE, displaying original message from `scipy.optimize.minimize`: ABNORMAL_TERMINATION_IN_LNSRCH\n",
      "  warn(\n",
      " 64%|██████▍   | 32/50 [26:59<14:29, 48.29s/it]"
     ]
    },
    {
     "name": "stdout",
     "output_type": "stream",
     "text": [
      "Iterations 221\n",
      "Maximizing with EGP\n",
      "Seed: 459\n",
      "Initial points: tensor([[4.2330e+01, 5.1830e+01, 2.7500e+00, 2.8700e+00, 3.2000e-01],\n",
      "        [7.3990e+01, 5.0000e-01, 2.5180e+01, 2.8000e-01, 4.0000e-02],\n",
      "        [4.8620e+01, 5.0350e+01, 4.9000e-01, 5.3000e-01, 4.0000e-02],\n",
      "        [8.3170e+01, 1.7200e+00, 3.5400e+00, 2.4300e+00, 9.0700e+00],\n",
      "        [8.4570e+01, 9.0000e-01, 6.9000e-01, 5.8400e+00, 7.9800e+00]],\n",
      "       dtype=torch.float64)\n"
     ]
    },
    {
     "name": "stderr",
     "output_type": "stream",
     "text": [
      " 66%|██████▌   | 33/50 [27:54<14:13, 50.19s/it]"
     ]
    },
    {
     "name": "stdout",
     "output_type": "stream",
     "text": [
      "Iterations 225\n",
      "Maximizing with EGP\n",
      "Seed: 603\n",
      "Initial points: tensor([[7.0000e+01, 3.0000e+01, 0.0000e+00, 0.0000e+00, 0.0000e+00],\n",
      "        [4.1630e+01, 4.5990e+01, 8.1700e+00, 4.0000e-02, 4.2400e+00],\n",
      "        [8.4090e+01, 1.8500e+00, 6.5000e-01, 2.3600e+00, 1.1140e+01],\n",
      "        [8.4570e+01, 9.0000e-01, 6.9000e-01, 5.8400e+00, 7.9800e+00],\n",
      "        [4.4350e+01, 1.8000e-01, 5.4470e+01, 1.8000e-01, 8.1000e-01]],\n",
      "       dtype=torch.float64)\n"
     ]
    },
    {
     "name": "stderr",
     "output_type": "stream",
     "text": [
      " 68%|██████▊   | 34/50 [28:44<13:22, 50.13s/it]"
     ]
    },
    {
     "name": "stdout",
     "output_type": "stream",
     "text": [
      "Iterations 224\n",
      "Maximizing with EGP\n",
      "Seed: 284\n",
      "Initial points: tensor([[4.4890e+01, 4.7030e+01, 3.8100e+00, 1.1600e+00, 3.1000e+00],\n",
      "        [6.8940e+01, 2.6790e+01, 6.9000e-01, 1.0300e+00, 2.5700e+00],\n",
      "        [8.4600e+01, 7.5600e+00, 4.0000e-02, 7.8300e+00, 6.0000e-02],\n",
      "        [4.4570e+01, 4.8470e+01, 2.9300e+00, 1.6000e+00, 2.4000e+00],\n",
      "        [5.0640e+01, 4.8290e+01, 2.3000e-01, 4.4000e-01, 4.1000e-01]],\n",
      "       dtype=torch.float64)\n"
     ]
    },
    {
     "name": "stderr",
     "output_type": "stream",
     "text": [
      "c:\\Users\\stan\\miniconda3\\envs\\researchTP\\Lib\\site-packages\\gpytorch\\distributions\\multivariate_normal.py:319: NumericalWarning: Negative variance values detected. This is likely due to numerical instabilities. Rounding negative variances up to 1e-10.\n",
      "  warnings.warn(\n",
      "c:\\Users\\stan\\miniconda3\\envs\\researchTP\\Lib\\site-packages\\gpytorch\\distributions\\multivariate_normal.py:319: NumericalWarning: Negative variance values detected. This is likely due to numerical instabilities. Rounding negative variances up to 1e-10.\n",
      "  warnings.warn(\n",
      "c:\\Users\\stan\\miniconda3\\envs\\researchTP\\Lib\\site-packages\\gpytorch\\distributions\\multivariate_normal.py:319: NumericalWarning: Negative variance values detected. This is likely due to numerical instabilities. Rounding negative variances up to 1e-10.\n",
      "  warnings.warn(\n",
      "c:\\Users\\stan\\miniconda3\\envs\\researchTP\\Lib\\site-packages\\botorch\\optim\\fit.py:102: OptimizationWarning: `scipy_minimize` terminated with status OptimizationStatus.FAILURE, displaying original message from `scipy.optimize.minimize`: ABNORMAL_TERMINATION_IN_LNSRCH\n",
      "  warn(\n",
      " 70%|███████   | 35/50 [29:31<12:17, 49.20s/it]"
     ]
    },
    {
     "name": "stdout",
     "output_type": "stream",
     "text": [
      "Iterations 225\n",
      "Maximizing with EGP\n",
      "Seed: 828\n",
      "Initial points: tensor([[19.5200,  1.2400, 46.2100, 25.8600,  7.2300],\n",
      "        [20.5700,  0.1800, 35.6000, 39.4100,  4.1600],\n",
      "        [55.3600, 38.3800,  1.1300,  4.1500,  1.0400],\n",
      "        [40.0000, 60.0000,  0.0000,  0.0000,  0.0000],\n",
      "        [95.0000,  0.0000,  0.0000,  0.0000,  5.0000]], dtype=torch.float64)\n"
     ]
    },
    {
     "name": "stderr",
     "output_type": "stream",
     "text": [
      " 72%|███████▏  | 36/50 [30:12<10:55, 46.80s/it]"
     ]
    },
    {
     "name": "stdout",
     "output_type": "stream",
     "text": [
      "Iterations 223\n",
      "Maximizing with EGP\n",
      "Seed: 890\n",
      "Initial points: tensor([[51.8100, 39.1000,  5.1500,  0.7800,  3.1400],\n",
      "        [51.7300, 32.1200,  3.9200,  2.2900,  9.9600],\n",
      "        [49.5100, 49.2400,  0.6200,  0.1200,  0.5600],\n",
      "        [41.9000, 48.6100,  3.7800,  1.8700,  3.8300],\n",
      "        [92.3700,  0.4500,  1.8400,  0.5100,  4.8500]], dtype=torch.float64)\n"
     ]
    },
    {
     "name": "stderr",
     "output_type": "stream",
     "text": [
      "c:\\Users\\stan\\miniconda3\\envs\\researchTP\\Lib\\site-packages\\botorch\\optim\\fit.py:102: OptimizationWarning: `scipy_minimize` terminated with status OptimizationStatus.FAILURE, displaying original message from `scipy.optimize.minimize`: ABNORMAL_TERMINATION_IN_LNSRCH\n",
      "  warn(\n",
      " 74%|███████▍  | 37/50 [31:01<10:16, 47.40s/it]"
     ]
    },
    {
     "name": "stdout",
     "output_type": "stream",
     "text": [
      "Iterations 225\n",
      "Maximizing with EGP\n",
      "Seed: 6\n",
      "Initial points: tensor([[8.8450e+01, 3.5000e+00, 1.8900e+00, 1.9600e+00, 4.2100e+00],\n",
      "        [7.1640e+01, 2.8160e+01, 4.0000e-02, 1.1000e-01, 5.0000e-02],\n",
      "        [1.8740e+01, 1.7000e-01, 1.8410e+01, 3.6130e+01, 2.6580e+01],\n",
      "        [3.9050e+01, 4.1850e+01, 5.7500e+00, 4.0400e+00, 9.4000e+00],\n",
      "        [4.8970e+01, 5.0340e+01, 4.0000e-02, 1.0000e-01, 5.6000e-01]],\n",
      "       dtype=torch.float64)\n"
     ]
    },
    {
     "name": "stderr",
     "output_type": "stream",
     "text": [
      "c:\\Users\\stan\\miniconda3\\envs\\researchTP\\Lib\\site-packages\\linear_operator\\utils\\cholesky.py:40: NumericalWarning: A not p.d., added jitter of 1.0e-08 to the diagonal\n",
      "  warnings.warn(\n",
      "c:\\Users\\stan\\miniconda3\\envs\\researchTP\\Lib\\site-packages\\linear_operator\\utils\\cholesky.py:40: NumericalWarning: A not p.d., added jitter of 1.0e-07 to the diagonal\n",
      "  warnings.warn(\n",
      "c:\\Users\\stan\\miniconda3\\envs\\researchTP\\Lib\\site-packages\\linear_operator\\utils\\cholesky.py:40: NumericalWarning: A not p.d., added jitter of 1.0e-06 to the diagonal\n",
      "  warnings.warn(\n",
      "c:\\Users\\stan\\miniconda3\\envs\\researchTP\\Lib\\site-packages\\linear_operator\\utils\\cholesky.py:40: NumericalWarning: A not p.d., added jitter of 1.0e-05 to the diagonal\n",
      "  warnings.warn(\n",
      "c:\\Users\\stan\\miniconda3\\envs\\researchTP\\Lib\\site-packages\\linear_operator\\utils\\cholesky.py:40: NumericalWarning: A not p.d., added jitter of 1.0e-04 to the diagonal\n",
      "  warnings.warn(\n",
      "c:\\Users\\stan\\miniconda3\\envs\\researchTP\\Lib\\site-packages\\linear_operator\\utils\\cholesky.py:40: NumericalWarning: A not p.d., added jitter of 1.0e-03 to the diagonal\n",
      "  warnings.warn(\n",
      " 76%|███████▌  | 38/50 [31:48<09:27, 47.30s/it]"
     ]
    },
    {
     "name": "stdout",
     "output_type": "stream",
     "text": [
      "Iterations 225\n",
      "Maximizing with EGP\n",
      "Seed: 777\n",
      "Initial points: tensor([[4.7200e+01, 4.9490e+01, 2.0100e+00, 3.1000e-01, 1.0100e+00],\n",
      "        [4.2440e+01, 1.1100e+00, 1.4900e+00, 5.4040e+01, 9.5000e-01],\n",
      "        [7.7730e+01, 2.0640e+01, 1.5800e+00, 4.0000e-02, 4.0000e-02],\n",
      "        [4.4800e+01, 3.7400e+01, 6.8100e+00, 5.8300e+00, 5.1800e+00],\n",
      "        [1.8670e+01, 2.7000e-01, 4.7090e+01, 2.4030e+01, 9.9900e+00]],\n",
      "       dtype=torch.float64)\n"
     ]
    },
    {
     "name": "stderr",
     "output_type": "stream",
     "text": [
      " 78%|███████▊  | 39/50 [32:37<08:47, 47.92s/it]"
     ]
    },
    {
     "name": "stdout",
     "output_type": "stream",
     "text": [
      "Iterations 225\n",
      "Maximizing with EGP\n",
      "Seed: 825\n",
      "Initial points: tensor([[5.8550e+01, 3.7360e+01, 1.9200e+00, 8.7000e-01, 1.2700e+00],\n",
      "        [8.7890e+01, 2.0000e+00, 6.2600e+00, 2.4200e+00, 1.3300e+00],\n",
      "        [1.9130e+01, 4.0000e-01, 4.6860e+01, 2.5410e+01, 8.2500e+00],\n",
      "        [5.1730e+01, 3.2120e+01, 3.9200e+00, 2.2900e+00, 9.9600e+00],\n",
      "        [7.1640e+01, 2.8160e+01, 4.0000e-02, 1.1000e-01, 5.0000e-02]],\n",
      "       dtype=torch.float64)\n"
     ]
    },
    {
     "name": "stderr",
     "output_type": "stream",
     "text": [
      "c:\\Users\\stan\\miniconda3\\envs\\researchTP\\Lib\\site-packages\\botorch\\optim\\fit.py:102: OptimizationWarning: `scipy_minimize` terminated with status OptimizationStatus.FAILURE, displaying original message from `scipy.optimize.minimize`: ABNORMAL_TERMINATION_IN_LNSRCH\n",
      "  warn(\n",
      "c:\\Users\\stan\\miniconda3\\envs\\researchTP\\Lib\\site-packages\\botorch\\optim\\fit.py:102: OptimizationWarning: `scipy_minimize` terminated with status OptimizationStatus.FAILURE, displaying original message from `scipy.optimize.minimize`: ABNORMAL_TERMINATION_IN_LNSRCH\n",
      "  warn(\n",
      "c:\\Users\\stan\\miniconda3\\envs\\researchTP\\Lib\\site-packages\\botorch\\optim\\fit.py:102: OptimizationWarning: `scipy_minimize` terminated with status OptimizationStatus.FAILURE, displaying original message from `scipy.optimize.minimize`: ABNORMAL_TERMINATION_IN_LNSRCH\n",
      "  warn(\n",
      " 80%|████████  | 40/50 [33:33<08:20, 50.10s/it]"
     ]
    },
    {
     "name": "stdout",
     "output_type": "stream",
     "text": [
      "Iterations 225\n",
      "Maximizing with EGP\n",
      "Seed: 163\n",
      "Initial points: tensor([[4.5210e+01, 4.9390e+01, 3.5900e+00, 1.4500e+00, 4.1000e-01],\n",
      "        [1.8740e+01, 1.7000e-01, 1.8410e+01, 3.6130e+01, 2.6580e+01],\n",
      "        [4.1630e+01, 4.5990e+01, 8.1700e+00, 4.0000e-02, 4.2400e+00],\n",
      "        [5.8620e+01, 3.9890e+01, 4.0000e-02, 1.3200e+00, 1.4000e-01],\n",
      "        [9.1130e+01, 1.9900e+00, 1.9500e+00, 2.2400e+00, 2.6900e+00]],\n",
      "       dtype=torch.float64)\n"
     ]
    },
    {
     "name": "stderr",
     "output_type": "stream",
     "text": [
      "c:\\Users\\stan\\miniconda3\\envs\\researchTP\\Lib\\site-packages\\linear_operator\\utils\\cholesky.py:40: NumericalWarning: A not p.d., added jitter of 1.0e-08 to the diagonal\n",
      "  warnings.warn(\n",
      "c:\\Users\\stan\\miniconda3\\envs\\researchTP\\Lib\\site-packages\\linear_operator\\utils\\cholesky.py:40: NumericalWarning: A not p.d., added jitter of 1.0e-07 to the diagonal\n",
      "  warnings.warn(\n",
      "c:\\Users\\stan\\miniconda3\\envs\\researchTP\\Lib\\site-packages\\linear_operator\\utils\\cholesky.py:40: NumericalWarning: A not p.d., added jitter of 1.0e-06 to the diagonal\n",
      "  warnings.warn(\n",
      "c:\\Users\\stan\\miniconda3\\envs\\researchTP\\Lib\\site-packages\\linear_operator\\utils\\cholesky.py:40: NumericalWarning: A not p.d., added jitter of 1.0e-05 to the diagonal\n",
      "  warnings.warn(\n",
      "c:\\Users\\stan\\miniconda3\\envs\\researchTP\\Lib\\site-packages\\linear_operator\\utils\\cholesky.py:40: NumericalWarning: A not p.d., added jitter of 1.0e-04 to the diagonal\n",
      "  warnings.warn(\n",
      " 82%|████████▏ | 41/50 [34:21<07:26, 49.57s/it]"
     ]
    },
    {
     "name": "stdout",
     "output_type": "stream",
     "text": [
      "Iterations 225\n",
      "Maximizing with EGP\n",
      "Seed: 714\n",
      "Initial points: tensor([[46.8600, 43.7400,  5.0800,  0.7800,  3.6100],\n",
      "        [74.8800,  0.0800,  2.0200, 22.0100,  1.0300],\n",
      "        [40.0000, 60.0000,  0.0000,  0.0000,  0.0000],\n",
      "        [19.1300,  0.4000, 46.8600, 25.4100,  8.2500],\n",
      "        [34.0100, 38.9000,  0.7300, 12.6800, 13.6500]], dtype=torch.float64)\n"
     ]
    },
    {
     "name": "stderr",
     "output_type": "stream",
     "text": [
      "c:\\Users\\stan\\miniconda3\\envs\\researchTP\\Lib\\site-packages\\linear_operator\\utils\\cholesky.py:40: NumericalWarning: A not p.d., added jitter of 1.0e-08 to the diagonal\n",
      "  warnings.warn(\n",
      "c:\\Users\\stan\\miniconda3\\envs\\researchTP\\Lib\\site-packages\\linear_operator\\utils\\cholesky.py:40: NumericalWarning: A not p.d., added jitter of 1.0e-07 to the diagonal\n",
      "  warnings.warn(\n",
      "c:\\Users\\stan\\miniconda3\\envs\\researchTP\\Lib\\site-packages\\linear_operator\\utils\\cholesky.py:40: NumericalWarning: A not p.d., added jitter of 1.0e-06 to the diagonal\n",
      "  warnings.warn(\n",
      "c:\\Users\\stan\\miniconda3\\envs\\researchTP\\Lib\\site-packages\\linear_operator\\utils\\cholesky.py:40: NumericalWarning: A not p.d., added jitter of 1.0e-05 to the diagonal\n",
      "  warnings.warn(\n",
      "c:\\Users\\stan\\miniconda3\\envs\\researchTP\\Lib\\site-packages\\linear_operator\\utils\\cholesky.py:40: NumericalWarning: A not p.d., added jitter of 1.0e-04 to the diagonal\n",
      "  warnings.warn(\n",
      "c:\\Users\\stan\\miniconda3\\envs\\researchTP\\Lib\\site-packages\\linear_operator\\utils\\cholesky.py:40: NumericalWarning: A not p.d., added jitter of 1.0e-03 to the diagonal\n",
      "  warnings.warn(\n",
      " 84%|████████▍ | 42/50 [35:09<06:32, 49.01s/it]"
     ]
    },
    {
     "name": "stdout",
     "output_type": "stream",
     "text": [
      "Iterations 225\n",
      "Maximizing with EGP\n",
      "Seed: 348\n",
      "Initial points: tensor([[4.4570e+01, 4.8470e+01, 2.9300e+00, 1.6000e+00, 2.4000e+00],\n",
      "        [4.4010e+01, 9.0000e-02, 9.0000e-01, 5.4710e+01, 3.0000e-01],\n",
      "        [5.5340e+01, 3.8120e+01, 6.2700e+00, 1.0000e-02, 2.6000e-01],\n",
      "        [8.3550e+01, 5.8000e-01, 3.0900e+00, 7.0100e+00, 5.7400e+00],\n",
      "        [4.9720e+01, 4.8060e+01, 1.1100e+00, 8.9000e-01, 2.3000e-01]],\n",
      "       dtype=torch.float64)\n"
     ]
    },
    {
     "name": "stderr",
     "output_type": "stream",
     "text": [
      " 86%|████████▌ | 43/50 [35:57<05:42, 48.90s/it]"
     ]
    },
    {
     "name": "stdout",
     "output_type": "stream",
     "text": [
      "Iterations 225\n",
      "Maximizing with EGP\n",
      "Seed: 159\n",
      "Initial points: tensor([[4.7490e+01, 5.0270e+01, 1.4700e+00, 6.5000e-01, 1.6000e-01],\n",
      "        [4.2330e+01, 5.1830e+01, 2.7500e+00, 2.8700e+00, 3.2000e-01],\n",
      "        [5.0000e+01, 5.0000e+01, 0.0000e+00, 0.0000e+00, 0.0000e+00],\n",
      "        [7.1640e+01, 2.8160e+01, 4.0000e-02, 1.1000e-01, 5.0000e-02],\n",
      "        [5.4140e+01, 4.0570e+01, 4.0000e-02, 2.6800e+00, 2.6100e+00]],\n",
      "       dtype=torch.float64)\n"
     ]
    },
    {
     "name": "stderr",
     "output_type": "stream",
     "text": [
      "c:\\Users\\stan\\miniconda3\\envs\\researchTP\\Lib\\site-packages\\gpytorch\\distributions\\multivariate_normal.py:319: NumericalWarning: Negative variance values detected. This is likely due to numerical instabilities. Rounding negative variances up to 1e-10.\n",
      "  warnings.warn(\n",
      "c:\\Users\\stan\\miniconda3\\envs\\researchTP\\Lib\\site-packages\\linear_operator\\utils\\cholesky.py:40: NumericalWarning: A not p.d., added jitter of 1.0e-08 to the diagonal\n",
      "  warnings.warn(\n",
      "c:\\Users\\stan\\miniconda3\\envs\\researchTP\\Lib\\site-packages\\linear_operator\\utils\\cholesky.py:40: NumericalWarning: A not p.d., added jitter of 1.0e-07 to the diagonal\n",
      "  warnings.warn(\n",
      "c:\\Users\\stan\\miniconda3\\envs\\researchTP\\Lib\\site-packages\\linear_operator\\utils\\cholesky.py:40: NumericalWarning: A not p.d., added jitter of 1.0e-06 to the diagonal\n",
      "  warnings.warn(\n",
      "c:\\Users\\stan\\miniconda3\\envs\\researchTP\\Lib\\site-packages\\linear_operator\\utils\\cholesky.py:40: NumericalWarning: A not p.d., added jitter of 1.0e-05 to the diagonal\n",
      "  warnings.warn(\n",
      "c:\\Users\\stan\\miniconda3\\envs\\researchTP\\Lib\\site-packages\\linear_operator\\utils\\cholesky.py:40: NumericalWarning: A not p.d., added jitter of 1.0e-04 to the diagonal\n",
      "  warnings.warn(\n",
      "c:\\Users\\stan\\miniconda3\\envs\\researchTP\\Lib\\site-packages\\linear_operator\\utils\\cholesky.py:40: NumericalWarning: A not p.d., added jitter of 1.0e-03 to the diagonal\n",
      "  warnings.warn(\n",
      " 88%|████████▊ | 44/50 [36:49<04:58, 49.71s/it]"
     ]
    },
    {
     "name": "stdout",
     "output_type": "stream",
     "text": [
      "Iterations 225\n",
      "Maximizing with EGP\n",
      "Seed: 220\n",
      "Initial points: tensor([[6.6030e+01, 3.0010e+01, 2.6100e+00, 2.4000e-01, 1.0800e+00],\n",
      "        [5.3990e+01, 4.4580e+01, 4.0000e-02, 5.4000e-01, 8.9000e-01],\n",
      "        [4.9400e+01, 4.9480e+01, 5.4000e-01, 3.8000e-01, 2.1000e-01],\n",
      "        [5.8550e+01, 3.7360e+01, 1.9200e+00, 8.7000e-01, 1.2700e+00],\n",
      "        [4.0000e+01, 6.0000e+01, 0.0000e+00, 0.0000e+00, 0.0000e+00]],\n",
      "       dtype=torch.float64)\n"
     ]
    },
    {
     "name": "stderr",
     "output_type": "stream",
     "text": [
      " 90%|█████████ | 45/50 [37:32<03:58, 47.70s/it]"
     ]
    },
    {
     "name": "stdout",
     "output_type": "stream",
     "text": [
      "Iterations 224\n",
      "Maximizing with EGP\n",
      "Seed: 980\n",
      "Initial points: tensor([[44.8000, 37.4000,  6.8100,  5.8300,  5.1800],\n",
      "        [50.3500, 40.6000,  5.3700,  2.4400,  1.2600],\n",
      "        [90.4800,  4.8200,  2.6100,  0.5500,  1.5700],\n",
      "        [42.4400,  1.1100,  1.4900, 54.0400,  0.9500],\n",
      "        [84.8600,  3.4200,  0.9600,  0.2800, 10.4100]], dtype=torch.float64)\n"
     ]
    },
    {
     "name": "stderr",
     "output_type": "stream",
     "text": [
      " 92%|█████████▏| 46/50 [38:29<03:21, 50.47s/it]"
     ]
    },
    {
     "name": "stdout",
     "output_type": "stream",
     "text": [
      "Iterations 225\n",
      "Maximizing with EGP\n",
      "Seed: 781\n",
      "Initial points: tensor([[5.4140e+01, 4.0570e+01, 4.0000e-02, 2.6800e+00, 2.6100e+00],\n",
      "        [3.4130e+01, 4.2190e+01, 8.7900e+00, 1.3220e+01, 1.6900e+00],\n",
      "        [4.6570e+01, 4.8910e+01, 3.0800e+00, 1.1100e+00, 3.6000e-01],\n",
      "        [1.5000e+01, 0.0000e+00, 0.0000e+00, 8.5000e+01, 0.0000e+00],\n",
      "        [4.4350e+01, 1.8000e-01, 5.4470e+01, 1.8000e-01, 8.1000e-01]],\n",
      "       dtype=torch.float64)\n"
     ]
    },
    {
     "name": "stderr",
     "output_type": "stream",
     "text": [
      "c:\\Users\\stan\\miniconda3\\envs\\researchTP\\Lib\\site-packages\\linear_operator\\utils\\cholesky.py:40: NumericalWarning: A not p.d., added jitter of 1.0e-08 to the diagonal\n",
      "  warnings.warn(\n",
      "c:\\Users\\stan\\miniconda3\\envs\\researchTP\\Lib\\site-packages\\linear_operator\\utils\\cholesky.py:40: NumericalWarning: A not p.d., added jitter of 1.0e-07 to the diagonal\n",
      "  warnings.warn(\n",
      "c:\\Users\\stan\\miniconda3\\envs\\researchTP\\Lib\\site-packages\\linear_operator\\utils\\cholesky.py:40: NumericalWarning: A not p.d., added jitter of 1.0e-06 to the diagonal\n",
      "  warnings.warn(\n",
      "c:\\Users\\stan\\miniconda3\\envs\\researchTP\\Lib\\site-packages\\linear_operator\\utils\\cholesky.py:40: NumericalWarning: A not p.d., added jitter of 1.0e-05 to the diagonal\n",
      "  warnings.warn(\n",
      "c:\\Users\\stan\\miniconda3\\envs\\researchTP\\Lib\\site-packages\\linear_operator\\utils\\cholesky.py:40: NumericalWarning: A not p.d., added jitter of 1.0e-04 to the diagonal\n",
      "  warnings.warn(\n",
      "c:\\Users\\stan\\miniconda3\\envs\\researchTP\\Lib\\site-packages\\linear_operator\\utils\\cholesky.py:40: NumericalWarning: A not p.d., added jitter of 1.0e-03 to the diagonal\n",
      "  warnings.warn(\n",
      " 94%|█████████▍| 47/50 [39:19<02:31, 50.40s/it]"
     ]
    },
    {
     "name": "stdout",
     "output_type": "stream",
     "text": [
      "Iterations 225\n",
      "Maximizing with EGP\n",
      "Seed: 344\n",
      "Initial points: tensor([[4.6860e+01, 4.3740e+01, 5.0800e+00, 7.8000e-01, 3.6100e+00],\n",
      "        [4.4750e+01, 5.2920e+01, 2.1000e-01, 1.3200e+00, 8.4000e-01],\n",
      "        [4.0670e+01, 5.9260e+01, 4.0000e-02, 4.0000e-02, 7.0000e-02],\n",
      "        [4.8720e+01, 4.9780e+01, 4.5000e-01, 8.3000e-01, 2.3000e-01],\n",
      "        [4.3090e+01, 4.7850e+01, 3.1400e+00, 3.3000e+00, 2.6700e+00]],\n",
      "       dtype=torch.float64)\n"
     ]
    },
    {
     "name": "stderr",
     "output_type": "stream",
     "text": [
      "c:\\Users\\stan\\miniconda3\\envs\\researchTP\\Lib\\site-packages\\botorch\\optim\\fit.py:102: OptimizationWarning: `scipy_minimize` terminated with status OptimizationStatus.FAILURE, displaying original message from `scipy.optimize.minimize`: ABNORMAL_TERMINATION_IN_LNSRCH\n",
      "  warn(\n",
      " 96%|█████████▌| 48/50 [40:00<01:35, 47.57s/it]"
     ]
    },
    {
     "name": "stdout",
     "output_type": "stream",
     "text": [
      "Iterations 219\n",
      "Maximizing with EGP\n",
      "Seed: 94\n",
      "Initial points: tensor([[9.0310e+01, 1.8000e-01, 6.2000e-01, 8.2500e+00, 6.5000e-01],\n",
      "        [8.4550e+01, 1.9300e+00, 1.4000e+00, 3.2300e+00, 8.8500e+00],\n",
      "        [4.4010e+01, 9.0000e-02, 9.0000e-01, 5.4710e+01, 3.0000e-01],\n",
      "        [5.5340e+01, 3.8120e+01, 6.2700e+00, 1.0000e-02, 2.6000e-01],\n",
      "        [4.4890e+01, 4.7030e+01, 3.8100e+00, 1.1600e+00, 3.1000e+00]],\n",
      "       dtype=torch.float64)\n"
     ]
    },
    {
     "name": "stderr",
     "output_type": "stream",
     "text": [
      "c:\\Users\\stan\\miniconda3\\envs\\researchTP\\Lib\\site-packages\\linear_operator\\utils\\cholesky.py:40: NumericalWarning: A not p.d., added jitter of 1.0e-08 to the diagonal\n",
      "  warnings.warn(\n",
      "c:\\Users\\stan\\miniconda3\\envs\\researchTP\\Lib\\site-packages\\linear_operator\\utils\\cholesky.py:40: NumericalWarning: A not p.d., added jitter of 1.0e-07 to the diagonal\n",
      "  warnings.warn(\n",
      "c:\\Users\\stan\\miniconda3\\envs\\researchTP\\Lib\\site-packages\\linear_operator\\utils\\cholesky.py:40: NumericalWarning: A not p.d., added jitter of 1.0e-06 to the diagonal\n",
      "  warnings.warn(\n",
      "c:\\Users\\stan\\miniconda3\\envs\\researchTP\\Lib\\site-packages\\linear_operator\\utils\\cholesky.py:40: NumericalWarning: A not p.d., added jitter of 1.0e-05 to the diagonal\n",
      "  warnings.warn(\n",
      "c:\\Users\\stan\\miniconda3\\envs\\researchTP\\Lib\\site-packages\\linear_operator\\utils\\cholesky.py:40: NumericalWarning: A not p.d., added jitter of 1.0e-04 to the diagonal\n",
      "  warnings.warn(\n",
      "c:\\Users\\stan\\miniconda3\\envs\\researchTP\\Lib\\site-packages\\linear_operator\\utils\\cholesky.py:40: NumericalWarning: A not p.d., added jitter of 1.0e-08 to the diagonal\n",
      "  warnings.warn(\n",
      "c:\\Users\\stan\\miniconda3\\envs\\researchTP\\Lib\\site-packages\\linear_operator\\utils\\cholesky.py:40: NumericalWarning: A not p.d., added jitter of 1.0e-07 to the diagonal\n",
      "  warnings.warn(\n",
      "c:\\Users\\stan\\miniconda3\\envs\\researchTP\\Lib\\site-packages\\linear_operator\\utils\\cholesky.py:40: NumericalWarning: A not p.d., added jitter of 1.0e-06 to the diagonal\n",
      "  warnings.warn(\n",
      "c:\\Users\\stan\\miniconda3\\envs\\researchTP\\Lib\\site-packages\\linear_operator\\utils\\cholesky.py:40: NumericalWarning: A not p.d., added jitter of 1.0e-05 to the diagonal\n",
      "  warnings.warn(\n",
      "c:\\Users\\stan\\miniconda3\\envs\\researchTP\\Lib\\site-packages\\linear_operator\\utils\\cholesky.py:40: NumericalWarning: A not p.d., added jitter of 1.0e-04 to the diagonal\n",
      "  warnings.warn(\n",
      "c:\\Users\\stan\\miniconda3\\envs\\researchTP\\Lib\\site-packages\\botorch\\optim\\fit.py:102: OptimizationWarning: `scipy_minimize` terminated with status OptimizationStatus.FAILURE, displaying original message from `scipy.optimize.minimize`: ABNORMAL_TERMINATION_IN_LNSRCH\n",
      "  warn(\n",
      " 98%|█████████▊| 49/50 [40:49<00:48, 48.06s/it]"
     ]
    },
    {
     "name": "stdout",
     "output_type": "stream",
     "text": [
      "Iterations 225\n",
      "Maximizing with EGP\n",
      "Seed: 389\n",
      "Initial points: tensor([[3.8290e+01, 4.7370e+01, 9.5000e-01, 6.0000e-01, 1.2870e+01],\n",
      "        [5.9980e+01, 3.2340e+01, 5.8000e+00, 1.7100e+00, 6.0000e-02],\n",
      "        [1.9150e+01, 1.5900e+00, 4.8400e+01, 2.3330e+01, 7.5700e+00],\n",
      "        [4.8680e+01, 3.9720e+01, 1.0970e+01, 5.8000e-01, 4.0000e-02],\n",
      "        [4.4890e+01, 4.7030e+01, 3.8100e+00, 1.1600e+00, 3.1000e+00]],\n",
      "       dtype=torch.float64)\n"
     ]
    },
    {
     "name": "stderr",
     "output_type": "stream",
     "text": [
      "100%|██████████| 50/50 [41:37<00:00, 49.95s/it]\n"
     ]
    },
    {
     "name": "stdout",
     "output_type": "stream",
     "text": [
      "Iterations 225\n"
     ]
    },
    {
     "name": "stderr",
     "output_type": "stream",
     "text": [
      "  0%|          | 0/50 [00:00<?, ?it/s]"
     ]
    },
    {
     "name": "stdout",
     "output_type": "stream",
     "text": [
      "Maximizing with VGP\n",
      "Seed: 654\n",
      "Initial points: tensor([[4.5410e+01, 4.8510e+01, 2.1000e+00, 2.6400e+00, 1.3800e+00],\n",
      "        [4.9580e+01, 4.5420e+01, 8.9000e-01, 2.2500e+00, 1.9300e+00],\n",
      "        [8.3170e+01, 1.7200e+00, 3.5400e+00, 2.4300e+00, 9.0700e+00],\n",
      "        [7.4190e+01, 7.0000e-02, 2.4760e+01, 1.7000e-01, 8.0000e-01],\n",
      "        [3.7290e+01, 4.3200e+01, 2.7700e+00, 1.8100e+00, 1.4940e+01]],\n",
      "       dtype=torch.float64)\n"
     ]
    },
    {
     "name": "stderr",
     "output_type": "stream",
     "text": [
      "  2%|▏         | 1/50 [00:27<22:25, 27.46s/it]"
     ]
    },
    {
     "name": "stdout",
     "output_type": "stream",
     "text": [
      "Iterations 124\n",
      "Maximizing with VGP\n",
      "Seed: 114\n",
      "Initial points: tensor([[2.0570e+01, 1.8000e-01, 3.5600e+01, 3.9410e+01, 4.1600e+00],\n",
      "        [3.9050e+01, 4.1850e+01, 5.7500e+00, 4.0400e+00, 9.4000e+00],\n",
      "        [4.0020e+01, 4.1490e+01, 8.0000e-02, 1.3950e+01, 4.5600e+00],\n",
      "        [4.0670e+01, 5.9260e+01, 4.0000e-02, 4.0000e-02, 7.0000e-02],\n",
      "        [4.2440e+01, 1.1100e+00, 1.4900e+00, 5.4040e+01, 9.5000e-01]],\n",
      "       dtype=torch.float64)\n"
     ]
    },
    {
     "name": "stderr",
     "output_type": "stream",
     "text": [
      "  4%|▍         | 2/50 [00:51<20:27, 25.58s/it]"
     ]
    },
    {
     "name": "stdout",
     "output_type": "stream",
     "text": [
      "Iterations 113\n",
      "Maximizing with VGP\n",
      "Seed: 25\n",
      "Initial points: tensor([[50.7400, 41.0500,  1.6500,  4.6900,  1.8700],\n",
      "        [83.1700,  1.7200,  3.5400,  2.4300,  9.0700],\n",
      "        [84.0100,  2.4900,  0.6700,  4.7100,  8.1100],\n",
      "        [54.4800,  0.6500,  0.5300,  0.4600, 43.8900],\n",
      "        [84.5500,  1.9300,  1.4000,  3.2300,  8.8500]], dtype=torch.float64)\n"
     ]
    },
    {
     "name": "stderr",
     "output_type": "stream",
     "text": [
      "  6%|▌         | 3/50 [01:26<23:25, 29.91s/it]"
     ]
    },
    {
     "name": "stdout",
     "output_type": "stream",
     "text": [
      "Iterations 148\n",
      "Maximizing with VGP\n",
      "Seed: 759\n",
      "Initial points: tensor([[5.3660e+01, 3.8510e+01, 1.5700e+00, 4.7500e+00, 1.5800e+00],\n",
      "        [4.7090e+01, 3.5560e+01, 5.7900e+00, 5.4700e+00, 6.1700e+00],\n",
      "        [3.7690e+01, 4.3160e+01, 4.1400e+00, 6.2200e+00, 8.8000e+00],\n",
      "        [4.1640e+01, 6.0000e-01, 5.9000e-01, 5.4700e+01, 2.4800e+00],\n",
      "        [7.4190e+01, 7.0000e-02, 2.4760e+01, 1.7000e-01, 8.0000e-01]],\n",
      "       dtype=torch.float64)\n"
     ]
    },
    {
     "name": "stderr",
     "output_type": "stream",
     "text": [
      "  8%|▊         | 4/50 [01:58<23:27, 30.59s/it]"
     ]
    },
    {
     "name": "stdout",
     "output_type": "stream",
     "text": [
      "Iterations 137\n",
      "Maximizing with VGP\n",
      "Seed: 281\n",
      "Initial points: tensor([[84.2300,  1.0600,  1.1300,  4.3400,  9.1500],\n",
      "        [44.5700, 48.4700,  2.9300,  1.6000,  2.4000],\n",
      "        [47.1300, 46.9500,  4.2800,  1.0800,  0.5700],\n",
      "        [84.5500,  1.9300,  1.4000,  3.2300,  8.8500],\n",
      "        [51.8350, 43.8050,  1.8800,  1.3800,  1.1300]], dtype=torch.float64)\n"
     ]
    },
    {
     "name": "stderr",
     "output_type": "stream",
     "text": [
      " 10%|█         | 5/50 [02:28<22:45, 30.34s/it]"
     ]
    },
    {
     "name": "stdout",
     "output_type": "stream",
     "text": [
      "Iterations 132\n",
      "Maximizing with VGP\n",
      "Seed: 250\n",
      "Initial points: tensor([[3.8920e+01, 4.9280e+01, 9.0000e-02, 9.5000e-01, 1.0670e+01],\n",
      "        [4.5600e+01, 4.6500e+01, 1.6700e+00, 3.9600e+00, 2.2600e+00],\n",
      "        [8.4010e+01, 2.4900e+00, 6.7000e-01, 4.7100e+00, 8.1100e+00],\n",
      "        [8.4550e+01, 1.9300e+00, 1.4000e+00, 3.2300e+00, 8.8500e+00],\n",
      "        [5.5340e+01, 3.8120e+01, 6.2700e+00, 1.0000e-02, 2.6000e-01]],\n",
      "       dtype=torch.float64)\n"
     ]
    },
    {
     "name": "stderr",
     "output_type": "stream",
     "text": [
      " 12%|█▏        | 6/50 [03:02<23:08, 31.56s/it]"
     ]
    },
    {
     "name": "stdout",
     "output_type": "stream",
     "text": [
      "Iterations 144\n",
      "Maximizing with VGP\n",
      "Seed: 228\n",
      "Initial points: tensor([[80.2600,  0.5300, 12.0300,  5.4700,  1.7800],\n",
      "        [84.0100,  2.4900,  0.6700,  4.7100,  8.1100],\n",
      "        [46.0500, 49.9000,  2.2200,  0.7700,  1.0900],\n",
      "        [50.6400, 48.2900,  0.2300,  0.4400,  0.4100],\n",
      "        [51.8350, 43.8050,  1.8800,  1.3800,  1.1300]], dtype=torch.float64)\n"
     ]
    },
    {
     "name": "stderr",
     "output_type": "stream",
     "text": [
      " 14%|█▍        | 7/50 [03:30<21:55, 30.58s/it]"
     ]
    },
    {
     "name": "stdout",
     "output_type": "stream",
     "text": [
      "Iterations 128\n",
      "Maximizing with VGP\n",
      "Seed: 142\n",
      "Initial points: tensor([[4.9720e+01, 4.8060e+01, 1.1100e+00, 8.9000e-01, 2.3000e-01],\n",
      "        [6.8110e+01, 2.8690e+01, 8.9000e-01, 9.7000e-01, 1.3500e+00],\n",
      "        [6.0000e+01, 0.0000e+00, 0.0000e+00, 4.0000e+01, 0.0000e+00],\n",
      "        [4.1900e+01, 4.8610e+01, 3.7800e+00, 1.8700e+00, 3.8300e+00],\n",
      "        [7.3990e+01, 5.0000e-01, 2.5180e+01, 2.8000e-01, 4.0000e-02]],\n",
      "       dtype=torch.float64)\n"
     ]
    },
    {
     "name": "stderr",
     "output_type": "stream",
     "text": [
      " 16%|█▌        | 8/50 [04:04<22:12, 31.72s/it]"
     ]
    },
    {
     "name": "stdout",
     "output_type": "stream",
     "text": [
      "Iterations 145\n",
      "Maximizing with VGP\n",
      "Seed: 754\n",
      "Initial points: tensor([[55.0000,  0.0000,  0.0000,  0.0000, 45.0000],\n",
      "        [88.4500,  3.5000,  1.8900,  1.9600,  4.2100],\n",
      "        [84.5500,  1.9300,  1.4000,  3.2300,  8.8500],\n",
      "        [51.8350, 43.8050,  1.8800,  1.3800,  1.1300],\n",
      "        [45.4100, 48.5100,  2.1000,  2.6400,  1.3800]], dtype=torch.float64)\n"
     ]
    },
    {
     "name": "stderr",
     "output_type": "stream",
     "text": [
      " 18%|█▊        | 9/50 [04:34<21:15, 31.10s/it]"
     ]
    },
    {
     "name": "stdout",
     "output_type": "stream",
     "text": [
      "Iterations 131\n",
      "Maximizing with VGP\n",
      "Seed: 104\n",
      "Initial points: tensor([[4.1900e+01, 4.8610e+01, 3.7800e+00, 1.8700e+00, 3.8300e+00],\n",
      "        [4.1600e+01, 5.1430e+01, 2.1000e+00, 4.9100e+00, 4.0000e-02],\n",
      "        [4.5000e+01, 0.0000e+00, 5.5000e+01, 0.0000e+00, 0.0000e+00],\n",
      "        [6.9100e+01, 3.0830e+01, 4.0000e-02, 4.0000e-02, 4.0000e-02],\n",
      "        [4.4750e+01, 5.2920e+01, 2.1000e-01, 1.3200e+00, 8.4000e-01]],\n",
      "       dtype=torch.float64)\n"
     ]
    },
    {
     "name": "stderr",
     "output_type": "stream",
     "text": [
      " 20%|██        | 10/50 [05:04<20:26, 30.65s/it]"
     ]
    },
    {
     "name": "stdout",
     "output_type": "stream",
     "text": [
      "Iterations 131\n",
      "Maximizing with VGP\n",
      "Seed: 692\n",
      "Initial points: tensor([[4.3130e+01, 4.9300e+01, 3.1600e+00, 1.7200e+00, 2.7400e+00],\n",
      "        [3.8920e+01, 4.9280e+01, 9.0000e-02, 9.5000e-01, 1.0670e+01],\n",
      "        [4.1630e+01, 4.5990e+01, 8.1700e+00, 4.0000e-02, 4.2400e+00],\n",
      "        [9.3870e+01, 2.4000e-01, 5.6000e-01, 2.4000e-01, 5.1100e+00],\n",
      "        [4.2330e+01, 5.1830e+01, 2.7500e+00, 2.8700e+00, 3.2000e-01]],\n",
      "       dtype=torch.float64)\n"
     ]
    },
    {
     "name": "stderr",
     "output_type": "stream",
     "text": [
      " 22%|██▏       | 11/50 [05:34<19:49, 30.51s/it]"
     ]
    },
    {
     "name": "stdout",
     "output_type": "stream",
     "text": [
      "Iterations 133\n",
      "Maximizing with VGP\n",
      "Seed: 758\n",
      "Initial points: tensor([[4.3800e+01, 4.5290e+01, 7.8900e+00, 2.4300e+00, 5.5000e-01],\n",
      "        [8.0260e+01, 5.3000e-01, 1.2030e+01, 5.4700e+00, 1.7800e+00],\n",
      "        [4.6860e+01, 4.3740e+01, 5.0800e+00, 7.8000e-01, 3.6100e+00],\n",
      "        [4.0670e+01, 5.9260e+01, 4.0000e-02, 4.0000e-02, 7.0000e-02],\n",
      "        [8.4550e+01, 1.9300e+00, 1.4000e+00, 3.2300e+00, 8.8500e+00]],\n",
      "       dtype=torch.float64)\n"
     ]
    },
    {
     "name": "stderr",
     "output_type": "stream",
     "text": [
      " 24%|██▍       | 12/50 [06:00<18:31, 29.24s/it]"
     ]
    },
    {
     "name": "stdout",
     "output_type": "stream",
     "text": [
      "Iterations 120\n",
      "Maximizing with VGP\n",
      "Seed: 913\n",
      "Initial points: tensor([[5.3400e+01, 3.3900e+01, 1.1800e+00, 1.1340e+01, 2.5000e-01],\n",
      "        [8.4550e+01, 1.9300e+00, 1.4000e+00, 3.2300e+00, 8.8500e+00],\n",
      "        [4.3800e+01, 4.5290e+01, 7.8900e+00, 2.4300e+00, 5.5000e-01],\n",
      "        [5.8760e+01, 3.9810e+01, 7.5000e-01, 1.5000e-01, 5.3000e-01],\n",
      "        [4.8970e+01, 5.0340e+01, 4.0000e-02, 1.0000e-01, 5.6000e-01]],\n",
      "       dtype=torch.float64)\n"
     ]
    },
    {
     "name": "stderr",
     "output_type": "stream",
     "text": [
      " 26%|██▌       | 13/50 [06:27<17:37, 28.57s/it]"
     ]
    },
    {
     "name": "stdout",
     "output_type": "stream",
     "text": [
      "Iterations 123\n",
      "Maximizing with VGP\n",
      "Seed: 558\n",
      "Initial points: tensor([[6.7100e+01, 3.0150e+01, 7.2000e-01, 4.0000e-02, 1.9500e+00],\n",
      "        [5.4140e+01, 4.0570e+01, 4.0000e-02, 2.6800e+00, 2.6100e+00],\n",
      "        [5.5340e+01, 3.8120e+01, 6.2700e+00, 1.0000e-02, 2.6000e-01],\n",
      "        [8.8620e+01, 3.0000e-01, 3.4000e-01, 9.6400e+00, 1.1100e+00],\n",
      "        [4.4890e+01, 4.7030e+01, 3.8100e+00, 1.1600e+00, 3.1000e+00]],\n",
      "       dtype=torch.float64)\n"
     ]
    },
    {
     "name": "stderr",
     "output_type": "stream",
     "text": [
      " 28%|██▊       | 14/50 [06:57<17:16, 28.79s/it]"
     ]
    },
    {
     "name": "stdout",
     "output_type": "stream",
     "text": [
      "Iterations 130\n",
      "Maximizing with VGP\n",
      "Seed: 89\n",
      "Initial points: tensor([[9.0310e+01, 1.8000e-01, 6.2000e-01, 8.2500e+00, 6.5000e-01],\n",
      "        [4.2330e+01, 5.1830e+01, 2.7500e+00, 2.8700e+00, 3.2000e-01],\n",
      "        [5.3660e+01, 3.8510e+01, 1.5700e+00, 4.7500e+00, 1.5800e+00],\n",
      "        [5.4140e+01, 4.0570e+01, 4.0000e-02, 2.6800e+00, 2.6100e+00],\n",
      "        [4.4800e+01, 3.7400e+01, 6.8100e+00, 5.8300e+00, 5.1800e+00]],\n",
      "       dtype=torch.float64)\n"
     ]
    },
    {
     "name": "stderr",
     "output_type": "stream",
     "text": [
      " 30%|███       | 15/50 [07:24<16:27, 28.20s/it]"
     ]
    },
    {
     "name": "stdout",
     "output_type": "stream",
     "text": [
      "Iterations 122\n",
      "Maximizing with VGP\n",
      "Seed: 604\n",
      "Initial points: tensor([[4.4300e+01, 5.4680e+01, 4.0000e-02, 2.9000e-01, 7.8000e-01],\n",
      "        [9.2370e+01, 4.5000e-01, 1.8400e+00, 5.1000e-01, 4.8500e+00],\n",
      "        [4.4570e+01, 4.8470e+01, 2.9300e+00, 1.6000e+00, 2.4000e+00],\n",
      "        [4.5210e+01, 4.9390e+01, 3.5900e+00, 1.4500e+00, 4.1000e-01],\n",
      "        [4.4570e+01, 4.8470e+01, 2.9300e+00, 1.6000e+00, 2.4000e+00]],\n",
      "       dtype=torch.float64)\n"
     ]
    },
    {
     "name": "stderr",
     "output_type": "stream",
     "text": [
      " 32%|███▏      | 16/50 [07:49<15:26, 27.25s/it]"
     ]
    },
    {
     "name": "stdout",
     "output_type": "stream",
     "text": [
      "Iterations 115\n",
      "Maximizing with VGP\n",
      "Seed: 432\n",
      "Initial points: tensor([[4.8680e+01, 3.9720e+01, 1.0970e+01, 5.8000e-01, 4.0000e-02],\n",
      "        [8.4860e+01, 3.4200e+00, 9.6000e-01, 2.8000e-01, 1.0410e+01],\n",
      "        [5.0640e+01, 4.8290e+01, 2.3000e-01, 4.4000e-01, 4.1000e-01],\n",
      "        [4.5640e+01, 4.8860e+01, 2.6400e+00, 1.7800e+00, 1.0900e+00],\n",
      "        [4.7260e+01, 4.4460e+01, 7.3200e+00, 6.9000e-01, 2.3000e-01]],\n",
      "       dtype=torch.float64)\n"
     ]
    },
    {
     "name": "stderr",
     "output_type": "stream",
     "text": [
      " 34%|███▍      | 17/50 [08:19<15:34, 28.31s/it]"
     ]
    },
    {
     "name": "stdout",
     "output_type": "stream",
     "text": [
      "Iterations 135\n",
      "Maximizing with VGP\n",
      "Seed: 32\n",
      "Initial points: tensor([[4.5150e+01, 4.2250e+01, 7.8200e+00, 1.9800e+00, 2.8300e+00],\n",
      "        [7.4190e+01, 7.0000e-02, 2.4760e+01, 1.7000e-01, 8.0000e-01],\n",
      "        [3.7690e+01, 4.3160e+01, 4.1400e+00, 6.2200e+00, 8.8000e+00],\n",
      "        [8.9800e+01, 3.0100e+00, 1.5900e+00, 4.3600e+00, 1.2300e+00],\n",
      "        [4.7130e+01, 4.6950e+01, 4.2800e+00, 1.0800e+00, 5.7000e-01]],\n",
      "       dtype=torch.float64)\n"
     ]
    },
    {
     "name": "stderr",
     "output_type": "stream",
     "text": [
      " 36%|███▌      | 18/50 [08:49<15:19, 28.73s/it]"
     ]
    },
    {
     "name": "stdout",
     "output_type": "stream",
     "text": [
      "Iterations 131\n",
      "Maximizing with VGP\n",
      "Seed: 30\n",
      "Initial points: tensor([[5.9980e+01, 3.2340e+01, 5.8000e+00, 1.7100e+00, 6.0000e-02],\n",
      "        [4.3170e+01, 3.4010e+01, 3.8900e+00, 2.0400e+00, 1.6960e+01],\n",
      "        [9.6270e+01, 2.7000e-01, 2.0200e+00, 8.5000e-01, 5.1000e-01],\n",
      "        [8.4550e+01, 1.9300e+00, 1.4000e+00, 3.2300e+00, 8.8500e+00],\n",
      "        [8.3170e+01, 1.7200e+00, 3.5400e+00, 2.4300e+00, 9.0700e+00]],\n",
      "       dtype=torch.float64)\n"
     ]
    },
    {
     "name": "stderr",
     "output_type": "stream",
     "text": [
      " 38%|███▊      | 19/50 [09:20<15:10, 29.37s/it]"
     ]
    },
    {
     "name": "stdout",
     "output_type": "stream",
     "text": [
      "Iterations 135\n",
      "Maximizing with VGP\n",
      "Seed: 95\n",
      "Initial points: tensor([[44.0100,  0.0900,  0.9000, 54.7100,  0.3000],\n",
      "        [90.0000, 10.0000,  0.0000,  0.0000,  0.0000],\n",
      "        [86.4250,  0.6800,  0.7350,  6.9900,  5.1300],\n",
      "        [42.4400,  1.1100,  1.4900, 54.0400,  0.9500],\n",
      "        [84.2300,  1.0600,  1.1300,  4.3400,  9.1500]], dtype=torch.float64)\n"
     ]
    },
    {
     "name": "stderr",
     "output_type": "stream",
     "text": [
      " 40%|████      | 20/50 [09:53<15:12, 30.40s/it]"
     ]
    },
    {
     "name": "stdout",
     "output_type": "stream",
     "text": [
      "Iterations 141\n",
      "Maximizing with VGP\n",
      "Seed: 223\n",
      "Initial points: tensor([[88.4500,  3.5000,  1.8900,  1.9600,  4.2100],\n",
      "        [90.0000, 10.0000,  0.0000,  0.0000,  0.0000],\n",
      "        [42.3000, 45.0700,  4.4900,  5.2100,  3.0200],\n",
      "        [16.1500,  0.4600, 25.3800, 51.4200,  6.5500],\n",
      "        [80.2600,  0.5300, 12.0300,  5.4700,  1.7800]], dtype=torch.float64)\n"
     ]
    },
    {
     "name": "stderr",
     "output_type": "stream",
     "text": [
      " 42%|████▏     | 21/50 [10:31<15:54, 32.91s/it]"
     ]
    },
    {
     "name": "stdout",
     "output_type": "stream",
     "text": [
      "Iterations 158\n",
      "Maximizing with VGP\n",
      "Seed: 238\n",
      "Initial points: tensor([[9.0000e+01, 1.0000e+01, 0.0000e+00, 0.0000e+00, 0.0000e+00],\n",
      "        [6.1930e+01, 3.0520e+01, 7.0500e+00, 2.0000e-01, 3.6000e-01],\n",
      "        [4.8970e+01, 5.0340e+01, 4.0000e-02, 1.0000e-01, 5.6000e-01],\n",
      "        [4.7130e+01, 4.6950e+01, 4.2800e+00, 1.0800e+00, 5.7000e-01],\n",
      "        [4.4010e+01, 9.0000e-02, 9.0000e-01, 5.4710e+01, 3.0000e-01]],\n",
      "       dtype=torch.float64)\n"
     ]
    },
    {
     "name": "stderr",
     "output_type": "stream",
     "text": [
      " 44%|████▍     | 22/50 [10:59<14:39, 31.42s/it]"
     ]
    },
    {
     "name": "stdout",
     "output_type": "stream",
     "text": [
      "Iterations 123\n",
      "Maximizing with VGP\n",
      "Seed: 517\n",
      "Initial points: tensor([[56.5900, 31.3400,  5.4600,  0.9300,  5.7300],\n",
      "        [91.1300,  1.9900,  1.9500,  2.2400,  2.6900],\n",
      "        [19.1500,  1.5900, 48.4000, 23.3300,  7.5700],\n",
      "        [90.0000, 10.0000,  0.0000,  0.0000,  0.0000],\n",
      "        [43.0900, 47.8500,  3.1400,  3.3000,  2.6700]], dtype=torch.float64)\n"
     ]
    },
    {
     "name": "stderr",
     "output_type": "stream",
     "text": [
      " 46%|████▌     | 23/50 [11:33<14:28, 32.18s/it]"
     ]
    },
    {
     "name": "stdout",
     "output_type": "stream",
     "text": [
      "Iterations 146\n",
      "Maximizing with VGP\n",
      "Seed: 616\n",
      "Initial points: tensor([[8.4230e+01, 1.0600e+00, 1.1300e+00, 4.3400e+00, 9.1500e+00],\n",
      "        [4.3110e+01, 5.3000e-01, 5.3450e+01, 5.1000e-01, 2.3600e+00],\n",
      "        [4.4610e+01, 4.7530e+01, 2.0500e+00, 3.1700e+00, 2.5800e+00],\n",
      "        [4.3610e+01, 4.9290e+01, 2.8800e+00, 4.2200e+00, 4.0000e-02],\n",
      "        [4.5210e+01, 4.9390e+01, 3.5900e+00, 1.4500e+00, 4.1000e-01]],\n",
      "       dtype=torch.float64)\n"
     ]
    },
    {
     "name": "stderr",
     "output_type": "stream",
     "text": [
      " 48%|████▊     | 24/50 [11:58<12:54, 29.79s/it]"
     ]
    },
    {
     "name": "stdout",
     "output_type": "stream",
     "text": [
      "Iterations 114\n",
      "Maximizing with VGP\n",
      "Seed: 27\n",
      "Initial points: tensor([[89.8000,  3.0100,  1.5900,  4.3600,  1.2300],\n",
      "        [95.0000,  0.0000,  0.0000,  0.0000,  5.0000],\n",
      "        [58.7600, 39.8100,  0.7500,  0.1500,  0.5300],\n",
      "        [34.9600, 44.3200,  1.8000, 14.0100,  4.9600],\n",
      "        [91.1300,  1.9900,  1.9500,  2.2400,  2.6900]], dtype=torch.float64)\n"
     ]
    },
    {
     "name": "stderr",
     "output_type": "stream",
     "text": [
      " 50%|█████     | 25/50 [12:29<12:34, 30.20s/it]"
     ]
    },
    {
     "name": "stdout",
     "output_type": "stream",
     "text": [
      "Iterations 138\n",
      "Maximizing with VGP\n",
      "Seed: 574\n",
      "Initial points: tensor([[8.9800e+01, 3.0100e+00, 1.5900e+00, 4.3600e+00, 1.2300e+00],\n",
      "        [5.0650e+01, 4.4590e+01, 4.0600e+00, 4.0000e-02, 6.9000e-01],\n",
      "        [2.0570e+01, 1.8000e-01, 3.5600e+01, 3.9410e+01, 4.1600e+00],\n",
      "        [7.4880e+01, 8.0000e-02, 2.0200e+00, 2.2010e+01, 1.0300e+00],\n",
      "        [4.6860e+01, 4.3740e+01, 5.0800e+00, 7.8000e-01, 3.6100e+00]],\n",
      "       dtype=torch.float64)\n"
     ]
    },
    {
     "name": "stderr",
     "output_type": "stream",
     "text": [
      " 52%|█████▏    | 26/50 [12:59<12:05, 30.23s/it]"
     ]
    },
    {
     "name": "stdout",
     "output_type": "stream",
     "text": [
      "Iterations 135\n",
      "Maximizing with VGP\n",
      "Seed: 203\n",
      "Initial points: tensor([[36.8800, 41.6000,  2.6700,  1.8500, 16.9900],\n",
      "        [90.4800,  4.8200,  2.6100,  0.5500,  1.5700],\n",
      "        [59.8200,  0.2300,  0.5000, 38.8900,  0.5500],\n",
      "        [47.0900, 35.5600,  5.7900,  5.4700,  6.1700],\n",
      "        [50.7400, 41.0500,  1.6500,  4.6900,  1.8700]], dtype=torch.float64)\n"
     ]
    },
    {
     "name": "stderr",
     "output_type": "stream",
     "text": [
      " 54%|█████▍    | 27/50 [13:33<11:58, 31.24s/it]"
     ]
    },
    {
     "name": "stdout",
     "output_type": "stream",
     "text": [
      "Iterations 145\n",
      "Maximizing with VGP\n",
      "Seed: 733\n",
      "Initial points: tensor([[4.4570e+01, 4.8470e+01, 2.9300e+00, 1.6000e+00, 2.4000e+00],\n",
      "        [4.4800e+01, 3.7400e+01, 6.8100e+00, 5.8300e+00, 5.1800e+00],\n",
      "        [6.1930e+01, 3.0520e+01, 7.0500e+00, 2.0000e-01, 3.6000e-01],\n",
      "        [6.9100e+01, 3.0830e+01, 4.0000e-02, 4.0000e-02, 4.0000e-02],\n",
      "        [4.9720e+01, 4.8060e+01, 1.1100e+00, 8.9000e-01, 2.3000e-01]],\n",
      "       dtype=torch.float64)\n"
     ]
    },
    {
     "name": "stderr",
     "output_type": "stream",
     "text": [
      " 56%|█████▌    | 28/50 [14:11<12:10, 33.22s/it]"
     ]
    },
    {
     "name": "stdout",
     "output_type": "stream",
     "text": [
      "Iterations 157\n",
      "Maximizing with VGP\n",
      "Seed: 665\n",
      "Initial points: tensor([[7.1640e+01, 2.8160e+01, 4.0000e-02, 1.1000e-01, 5.0000e-02],\n",
      "        [4.6440e+01, 4.9230e+01, 1.6600e+00, 1.7000e+00, 1.0600e+00],\n",
      "        [1.9840e+01, 1.0600e+00, 2.8700e+01, 3.3620e+01, 1.6750e+01],\n",
      "        [6.8110e+01, 2.8690e+01, 8.9000e-01, 9.7000e-01, 1.3500e+00],\n",
      "        [5.8620e+01, 3.9890e+01, 4.0000e-02, 1.3200e+00, 1.4000e-01]],\n",
      "       dtype=torch.float64)\n"
     ]
    },
    {
     "name": "stderr",
     "output_type": "stream",
     "text": [
      " 58%|█████▊    | 29/50 [14:35<10:40, 30.48s/it]"
     ]
    },
    {
     "name": "stdout",
     "output_type": "stream",
     "text": [
      "Iterations 114\n",
      "Maximizing with VGP\n",
      "Seed: 718\n",
      "Initial points: tensor([[4.0670e+01, 5.9260e+01, 4.0000e-02, 4.0000e-02, 7.0000e-02],\n",
      "        [5.6590e+01, 3.1340e+01, 5.4600e+00, 9.3000e-01, 5.7300e+00],\n",
      "        [9.1130e+01, 1.9900e+00, 1.9500e+00, 2.2400e+00, 2.6900e+00],\n",
      "        [4.7200e+01, 4.9490e+01, 2.0100e+00, 3.1000e-01, 1.0100e+00],\n",
      "        [3.7690e+01, 4.3160e+01, 4.1400e+00, 6.2200e+00, 8.8000e+00]],\n",
      "       dtype=torch.float64)\n"
     ]
    },
    {
     "name": "stderr",
     "output_type": "stream",
     "text": [
      " 60%|██████    | 30/50 [15:05<10:09, 30.45s/it]"
     ]
    },
    {
     "name": "stdout",
     "output_type": "stream",
     "text": [
      "Iterations 135\n",
      "Maximizing with VGP\n",
      "Seed: 429\n",
      "Initial points: tensor([[5.0650e+01, 4.4590e+01, 4.0600e+00, 4.0000e-02, 6.9000e-01],\n",
      "        [8.8450e+01, 3.5000e+00, 1.8900e+00, 1.9600e+00, 4.2100e+00],\n",
      "        [4.4890e+01, 4.7030e+01, 3.8100e+00, 1.1600e+00, 3.1000e+00],\n",
      "        [3.4960e+01, 4.4320e+01, 1.8000e+00, 1.4010e+01, 4.9600e+00],\n",
      "        [1.5000e+01, 0.0000e+00, 0.0000e+00, 8.5000e+01, 0.0000e+00]],\n",
      "       dtype=torch.float64)\n"
     ]
    },
    {
     "name": "stderr",
     "output_type": "stream",
     "text": [
      " 62%|██████▏   | 31/50 [15:29<09:01, 28.52s/it]"
     ]
    },
    {
     "name": "stdout",
     "output_type": "stream",
     "text": [
      "Iterations 114\n",
      "Maximizing with VGP\n",
      "Seed: 225\n",
      "Initial points: tensor([[9.0310e+01, 1.8000e-01, 6.2000e-01, 8.2500e+00, 6.5000e-01],\n",
      "        [4.5640e+01, 4.8860e+01, 2.6400e+00, 1.7800e+00, 1.0900e+00],\n",
      "        [4.0670e+01, 5.9260e+01, 4.0000e-02, 4.0000e-02, 7.0000e-02],\n",
      "        [3.8290e+01, 4.7370e+01, 9.5000e-01, 6.0000e-01, 1.2870e+01],\n",
      "        [3.4010e+01, 3.8900e+01, 7.3000e-01, 1.2680e+01, 1.3650e+01]],\n",
      "       dtype=torch.float64)\n"
     ]
    },
    {
     "name": "stderr",
     "output_type": "stream",
     "text": [
      " 64%|██████▍   | 32/50 [15:56<08:27, 28.20s/it]"
     ]
    },
    {
     "name": "stdout",
     "output_type": "stream",
     "text": [
      "Iterations 126\n",
      "Maximizing with VGP\n",
      "Seed: 459\n",
      "Initial points: tensor([[4.2330e+01, 5.1830e+01, 2.7500e+00, 2.8700e+00, 3.2000e-01],\n",
      "        [7.3990e+01, 5.0000e-01, 2.5180e+01, 2.8000e-01, 4.0000e-02],\n",
      "        [4.8620e+01, 5.0350e+01, 4.9000e-01, 5.3000e-01, 4.0000e-02],\n",
      "        [8.3170e+01, 1.7200e+00, 3.5400e+00, 2.4300e+00, 9.0700e+00],\n",
      "        [8.4570e+01, 9.0000e-01, 6.9000e-01, 5.8400e+00, 7.9800e+00]],\n",
      "       dtype=torch.float64)\n"
     ]
    },
    {
     "name": "stderr",
     "output_type": "stream",
     "text": [
      " 66%|██████▌   | 33/50 [16:27<08:09, 28.79s/it]"
     ]
    },
    {
     "name": "stdout",
     "output_type": "stream",
     "text": [
      "Iterations 136\n",
      "Maximizing with VGP\n",
      "Seed: 603\n",
      "Initial points: tensor([[7.0000e+01, 3.0000e+01, 0.0000e+00, 0.0000e+00, 0.0000e+00],\n",
      "        [4.1630e+01, 4.5990e+01, 8.1700e+00, 4.0000e-02, 4.2400e+00],\n",
      "        [8.4090e+01, 1.8500e+00, 6.5000e-01, 2.3600e+00, 1.1140e+01],\n",
      "        [8.4570e+01, 9.0000e-01, 6.9000e-01, 5.8400e+00, 7.9800e+00],\n",
      "        [4.4350e+01, 1.8000e-01, 5.4470e+01, 1.8000e-01, 8.1000e-01]],\n",
      "       dtype=torch.float64)\n"
     ]
    },
    {
     "name": "stderr",
     "output_type": "stream",
     "text": [
      " 68%|██████▊   | 34/50 [16:57<07:47, 29.21s/it]"
     ]
    },
    {
     "name": "stdout",
     "output_type": "stream",
     "text": [
      "Iterations 135\n",
      "Maximizing with VGP\n",
      "Seed: 284\n",
      "Initial points: tensor([[4.4890e+01, 4.7030e+01, 3.8100e+00, 1.1600e+00, 3.1000e+00],\n",
      "        [6.8940e+01, 2.6790e+01, 6.9000e-01, 1.0300e+00, 2.5700e+00],\n",
      "        [8.4600e+01, 7.5600e+00, 4.0000e-02, 7.8300e+00, 6.0000e-02],\n",
      "        [4.4570e+01, 4.8470e+01, 2.9300e+00, 1.6000e+00, 2.4000e+00],\n",
      "        [5.0640e+01, 4.8290e+01, 2.3000e-01, 4.4000e-01, 4.1000e-01]],\n",
      "       dtype=torch.float64)\n"
     ]
    },
    {
     "name": "stderr",
     "output_type": "stream",
     "text": [
      " 70%|███████   | 35/50 [17:27<07:20, 29.38s/it]"
     ]
    },
    {
     "name": "stdout",
     "output_type": "stream",
     "text": [
      "Iterations 134\n",
      "Maximizing with VGP\n",
      "Seed: 828\n",
      "Initial points: tensor([[19.5200,  1.2400, 46.2100, 25.8600,  7.2300],\n",
      "        [20.5700,  0.1800, 35.6000, 39.4100,  4.1600],\n",
      "        [55.3600, 38.3800,  1.1300,  4.1500,  1.0400],\n",
      "        [40.0000, 60.0000,  0.0000,  0.0000,  0.0000],\n",
      "        [95.0000,  0.0000,  0.0000,  0.0000,  5.0000]], dtype=torch.float64)\n"
     ]
    },
    {
     "name": "stderr",
     "output_type": "stream",
     "text": [
      " 72%|███████▏  | 36/50 [17:54<06:41, 28.70s/it]"
     ]
    },
    {
     "name": "stdout",
     "output_type": "stream",
     "text": [
      "Iterations 126\n",
      "Maximizing with VGP\n",
      "Seed: 890\n",
      "Initial points: tensor([[51.8100, 39.1000,  5.1500,  0.7800,  3.1400],\n",
      "        [51.7300, 32.1200,  3.9200,  2.2900,  9.9600],\n",
      "        [49.5100, 49.2400,  0.6200,  0.1200,  0.5600],\n",
      "        [41.9000, 48.6100,  3.7800,  1.8700,  3.8300],\n",
      "        [92.3700,  0.4500,  1.8400,  0.5100,  4.8500]], dtype=torch.float64)\n"
     ]
    },
    {
     "name": "stderr",
     "output_type": "stream",
     "text": [
      " 74%|███████▍  | 37/50 [18:22<06:13, 28.72s/it]"
     ]
    },
    {
     "name": "stdout",
     "output_type": "stream",
     "text": [
      "Iterations 131\n",
      "Maximizing with VGP\n",
      "Seed: 6\n",
      "Initial points: tensor([[8.8450e+01, 3.5000e+00, 1.8900e+00, 1.9600e+00, 4.2100e+00],\n",
      "        [7.1640e+01, 2.8160e+01, 4.0000e-02, 1.1000e-01, 5.0000e-02],\n",
      "        [1.8740e+01, 1.7000e-01, 1.8410e+01, 3.6130e+01, 2.6580e+01],\n",
      "        [3.9050e+01, 4.1850e+01, 5.7500e+00, 4.0400e+00, 9.4000e+00],\n",
      "        [4.8970e+01, 5.0340e+01, 4.0000e-02, 1.0000e-01, 5.6000e-01]],\n",
      "       dtype=torch.float64)\n"
     ]
    },
    {
     "name": "stderr",
     "output_type": "stream",
     "text": [
      " 76%|███████▌  | 38/50 [18:51<05:44, 28.73s/it]"
     ]
    },
    {
     "name": "stdout",
     "output_type": "stream",
     "text": [
      "Iterations 131\n",
      "Maximizing with VGP\n",
      "Seed: 777\n",
      "Initial points: tensor([[4.7200e+01, 4.9490e+01, 2.0100e+00, 3.1000e-01, 1.0100e+00],\n",
      "        [4.2440e+01, 1.1100e+00, 1.4900e+00, 5.4040e+01, 9.5000e-01],\n",
      "        [7.7730e+01, 2.0640e+01, 1.5800e+00, 4.0000e-02, 4.0000e-02],\n",
      "        [4.4800e+01, 3.7400e+01, 6.8100e+00, 5.8300e+00, 5.1800e+00],\n",
      "        [1.8670e+01, 2.7000e-01, 4.7090e+01, 2.4030e+01, 9.9900e+00]],\n",
      "       dtype=torch.float64)\n"
     ]
    },
    {
     "name": "stderr",
     "output_type": "stream",
     "text": [
      " 78%|███████▊  | 39/50 [19:16<05:02, 27.49s/it]"
     ]
    },
    {
     "name": "stdout",
     "output_type": "stream",
     "text": [
      "Iterations 117\n",
      "Maximizing with VGP\n",
      "Seed: 825\n",
      "Initial points: tensor([[5.8550e+01, 3.7360e+01, 1.9200e+00, 8.7000e-01, 1.2700e+00],\n",
      "        [8.7890e+01, 2.0000e+00, 6.2600e+00, 2.4200e+00, 1.3300e+00],\n",
      "        [1.9130e+01, 4.0000e-01, 4.6860e+01, 2.5410e+01, 8.2500e+00],\n",
      "        [5.1730e+01, 3.2120e+01, 3.9200e+00, 2.2900e+00, 9.9600e+00],\n",
      "        [7.1640e+01, 2.8160e+01, 4.0000e-02, 1.1000e-01, 5.0000e-02]],\n",
      "       dtype=torch.float64)\n"
     ]
    },
    {
     "name": "stderr",
     "output_type": "stream",
     "text": [
      " 80%|████████  | 40/50 [19:47<04:45, 28.52s/it]"
     ]
    },
    {
     "name": "stdout",
     "output_type": "stream",
     "text": [
      "Iterations 138\n",
      "Maximizing with VGP\n",
      "Seed: 163\n",
      "Initial points: tensor([[4.5210e+01, 4.9390e+01, 3.5900e+00, 1.4500e+00, 4.1000e-01],\n",
      "        [1.8740e+01, 1.7000e-01, 1.8410e+01, 3.6130e+01, 2.6580e+01],\n",
      "        [4.1630e+01, 4.5990e+01, 8.1700e+00, 4.0000e-02, 4.2400e+00],\n",
      "        [5.8620e+01, 3.9890e+01, 4.0000e-02, 1.3200e+00, 1.4000e-01],\n",
      "        [9.1130e+01, 1.9900e+00, 1.9500e+00, 2.2400e+00, 2.6900e+00]],\n",
      "       dtype=torch.float64)\n"
     ]
    },
    {
     "name": "stderr",
     "output_type": "stream",
     "text": [
      " 82%|████████▏ | 41/50 [20:19<04:27, 29.67s/it]"
     ]
    },
    {
     "name": "stdout",
     "output_type": "stream",
     "text": [
      "Iterations 142\n",
      "Maximizing with VGP\n",
      "Seed: 714\n",
      "Initial points: tensor([[46.8600, 43.7400,  5.0800,  0.7800,  3.6100],\n",
      "        [74.8800,  0.0800,  2.0200, 22.0100,  1.0300],\n",
      "        [40.0000, 60.0000,  0.0000,  0.0000,  0.0000],\n",
      "        [19.1300,  0.4000, 46.8600, 25.4100,  8.2500],\n",
      "        [34.0100, 38.9000,  0.7300, 12.6800, 13.6500]], dtype=torch.float64)\n"
     ]
    },
    {
     "name": "stderr",
     "output_type": "stream",
     "text": [
      " 84%|████████▍ | 42/50 [20:48<03:54, 29.34s/it]"
     ]
    },
    {
     "name": "stdout",
     "output_type": "stream",
     "text": [
      "Iterations 130\n",
      "Maximizing with VGP\n",
      "Seed: 348\n",
      "Initial points: tensor([[4.4570e+01, 4.8470e+01, 2.9300e+00, 1.6000e+00, 2.4000e+00],\n",
      "        [4.4010e+01, 9.0000e-02, 9.0000e-01, 5.4710e+01, 3.0000e-01],\n",
      "        [5.5340e+01, 3.8120e+01, 6.2700e+00, 1.0000e-02, 2.6000e-01],\n",
      "        [8.3550e+01, 5.8000e-01, 3.0900e+00, 7.0100e+00, 5.7400e+00],\n",
      "        [4.9720e+01, 4.8060e+01, 1.1100e+00, 8.9000e-01, 2.3000e-01]],\n",
      "       dtype=torch.float64)\n"
     ]
    },
    {
     "name": "stderr",
     "output_type": "stream",
     "text": [
      " 86%|████████▌ | 43/50 [21:16<03:23, 29.05s/it]"
     ]
    },
    {
     "name": "stdout",
     "output_type": "stream",
     "text": [
      "Iterations 130\n",
      "Maximizing with VGP\n",
      "Seed: 159\n",
      "Initial points: tensor([[4.7490e+01, 5.0270e+01, 1.4700e+00, 6.5000e-01, 1.6000e-01],\n",
      "        [4.2330e+01, 5.1830e+01, 2.7500e+00, 2.8700e+00, 3.2000e-01],\n",
      "        [5.0000e+01, 5.0000e+01, 0.0000e+00, 0.0000e+00, 0.0000e+00],\n",
      "        [7.1640e+01, 2.8160e+01, 4.0000e-02, 1.1000e-01, 5.0000e-02],\n",
      "        [5.4140e+01, 4.0570e+01, 4.0000e-02, 2.6800e+00, 2.6100e+00]],\n",
      "       dtype=torch.float64)\n"
     ]
    },
    {
     "name": "stderr",
     "output_type": "stream",
     "text": [
      " 88%|████████▊ | 44/50 [21:37<02:39, 26.58s/it]"
     ]
    },
    {
     "name": "stdout",
     "output_type": "stream",
     "text": [
      "Iterations 103\n",
      "Maximizing with VGP\n",
      "Seed: 220\n",
      "Initial points: tensor([[6.6030e+01, 3.0010e+01, 2.6100e+00, 2.4000e-01, 1.0800e+00],\n",
      "        [5.3990e+01, 4.4580e+01, 4.0000e-02, 5.4000e-01, 8.9000e-01],\n",
      "        [4.9400e+01, 4.9480e+01, 5.4000e-01, 3.8000e-01, 2.1000e-01],\n",
      "        [5.8550e+01, 3.7360e+01, 1.9200e+00, 8.7000e-01, 1.2700e+00],\n",
      "        [4.0000e+01, 6.0000e+01, 0.0000e+00, 0.0000e+00, 0.0000e+00]],\n",
      "       dtype=torch.float64)\n"
     ]
    },
    {
     "name": "stderr",
     "output_type": "stream",
     "text": [
      " 90%|█████████ | 45/50 [22:01<02:08, 25.78s/it]"
     ]
    },
    {
     "name": "stdout",
     "output_type": "stream",
     "text": [
      "Iterations 115\n",
      "Maximizing with VGP\n",
      "Seed: 980\n",
      "Initial points: tensor([[44.8000, 37.4000,  6.8100,  5.8300,  5.1800],\n",
      "        [50.3500, 40.6000,  5.3700,  2.4400,  1.2600],\n",
      "        [90.4800,  4.8200,  2.6100,  0.5500,  1.5700],\n",
      "        [42.4400,  1.1100,  1.4900, 54.0400,  0.9500],\n",
      "        [84.8600,  3.4200,  0.9600,  0.2800, 10.4100]], dtype=torch.float64)\n"
     ]
    },
    {
     "name": "stderr",
     "output_type": "stream",
     "text": [
      " 92%|█████████▏| 46/50 [22:37<01:55, 28.90s/it]"
     ]
    },
    {
     "name": "stdout",
     "output_type": "stream",
     "text": [
      "Iterations 154\n",
      "Maximizing with VGP\n",
      "Seed: 781\n",
      "Initial points: tensor([[5.4140e+01, 4.0570e+01, 4.0000e-02, 2.6800e+00, 2.6100e+00],\n",
      "        [3.4130e+01, 4.2190e+01, 8.7900e+00, 1.3220e+01, 1.6900e+00],\n",
      "        [4.6570e+01, 4.8910e+01, 3.0800e+00, 1.1100e+00, 3.6000e-01],\n",
      "        [1.5000e+01, 0.0000e+00, 0.0000e+00, 8.5000e+01, 0.0000e+00],\n",
      "        [4.4350e+01, 1.8000e-01, 5.4470e+01, 1.8000e-01, 8.1000e-01]],\n",
      "       dtype=torch.float64)\n"
     ]
    },
    {
     "name": "stderr",
     "output_type": "stream",
     "text": [
      " 94%|█████████▍| 47/50 [23:16<01:35, 31.93s/it]"
     ]
    },
    {
     "name": "stdout",
     "output_type": "stream",
     "text": [
      "Iterations 162\n",
      "Maximizing with VGP\n",
      "Seed: 344\n",
      "Initial points: tensor([[4.6860e+01, 4.3740e+01, 5.0800e+00, 7.8000e-01, 3.6100e+00],\n",
      "        [4.4750e+01, 5.2920e+01, 2.1000e-01, 1.3200e+00, 8.4000e-01],\n",
      "        [4.0670e+01, 5.9260e+01, 4.0000e-02, 4.0000e-02, 7.0000e-02],\n",
      "        [4.8720e+01, 4.9780e+01, 4.5000e-01, 8.3000e-01, 2.3000e-01],\n",
      "        [4.3090e+01, 4.7850e+01, 3.1400e+00, 3.3000e+00, 2.6700e+00]],\n",
      "       dtype=torch.float64)\n"
     ]
    },
    {
     "name": "stderr",
     "output_type": "stream",
     "text": [
      " 96%|█████████▌| 48/50 [23:47<01:03, 31.72s/it]"
     ]
    },
    {
     "name": "stdout",
     "output_type": "stream",
     "text": [
      "Iterations 139\n",
      "Maximizing with VGP\n",
      "Seed: 94\n",
      "Initial points: tensor([[9.0310e+01, 1.8000e-01, 6.2000e-01, 8.2500e+00, 6.5000e-01],\n",
      "        [8.4550e+01, 1.9300e+00, 1.4000e+00, 3.2300e+00, 8.8500e+00],\n",
      "        [4.4010e+01, 9.0000e-02, 9.0000e-01, 5.4710e+01, 3.0000e-01],\n",
      "        [5.5340e+01, 3.8120e+01, 6.2700e+00, 1.0000e-02, 2.6000e-01],\n",
      "        [4.4890e+01, 4.7030e+01, 3.8100e+00, 1.1600e+00, 3.1000e+00]],\n",
      "       dtype=torch.float64)\n"
     ]
    },
    {
     "name": "stderr",
     "output_type": "stream",
     "text": [
      " 98%|█████████▊| 49/50 [24:12<00:29, 29.61s/it]"
     ]
    },
    {
     "name": "stdout",
     "output_type": "stream",
     "text": [
      "Iterations 118\n",
      "Maximizing with VGP\n",
      "Seed: 389\n",
      "Initial points: tensor([[3.8290e+01, 4.7370e+01, 9.5000e-01, 6.0000e-01, 1.2870e+01],\n",
      "        [5.9980e+01, 3.2340e+01, 5.8000e+00, 1.7100e+00, 6.0000e-02],\n",
      "        [1.9150e+01, 1.5900e+00, 4.8400e+01, 2.3330e+01, 7.5700e+00],\n",
      "        [4.8680e+01, 3.9720e+01, 1.0970e+01, 5.8000e-01, 4.0000e-02],\n",
      "        [4.4890e+01, 4.7030e+01, 3.8100e+00, 1.1600e+00, 3.1000e+00]],\n",
      "       dtype=torch.float64)\n"
     ]
    },
    {
     "name": "stderr",
     "output_type": "stream",
     "text": [
      "100%|██████████| 50/50 [24:44<00:00, 29.70s/it]"
     ]
    },
    {
     "name": "stdout",
     "output_type": "stream",
     "text": [
      "Iterations 143\n"
     ]
    },
    {
     "name": "stderr",
     "output_type": "stream",
     "text": [
      "\n"
     ]
    },
    {
     "data": {
      "image/png": "[encoded data removed]",
      "text/plain": [
       "<Figure size 800x600 with 1 Axes>"
      ]
     },
     "metadata": {},
     "output_type": "display_data"
    }
   ],
   "source": [
    "for element in maxDatasets:\n",
    "\n",
    "    print(f\"Starting {element}\")\n",
    "\n",
    "    dataset = element\n",
    "    \n",
    "    data = pd.read_csv(f\"datasets\\{dataset}_dataset.csv\")\n",
    "    data = data.groupby(data.columns[-1]).mean().reset_index()\n",
    "    train_x = torch.tensor(data.iloc[:, 1:].values)\n",
    "    train_y = torch.tensor(data.iloc[:, 0].values).unsqueeze(1) \n",
    "\n",
    "    N = len(train_x)\n",
    "\n",
    "    # We are using prededfined candidates, so we can scale at the start\n",
    "    TorchStd = TorchStandardScaler()\n",
    "    TorchStd.fit(train_x)\n",
    "    TorchNorm = TorchNormalizer()\n",
    "    TorchNorm.fit(train_x)\n",
    "    \n",
    "    set_seeds(42)\n",
    "\n",
    "    print(f\"Number of samples: {N}\")\n",
    "    \n",
    "    n_top = int(math.ceil(N * 0.05))\n",
    "\n",
    "    # find the top 5% of the samples\n",
    "    train_y_df = pd.DataFrame(train_y.numpy(), columns=[0])\n",
    "    top_samples = train_y_df.nlargest(n_top, train_y_df.columns[0], keep='first').iloc[:, 0].values.tolist()\n",
    "    print(f\"Number of of top 5% samples: {len(top_samples)}\")\n",
    "    print(f\"Top 5% samples: {top_samples}\")\n",
    "\n",
    "    def TopSamplesAmnt(y, top_samples):\n",
    "        return len([i for i in y if i in top_samples]) / len(top_samples)\n",
    "\n",
    "    # Generate a list of seeds randomly picked from the range 0-1000 equal to the number of campaigns without repeating\n",
    "    seedList = random.sample(range(1000), campaigns)\n",
    "            \n",
    "    for i in trange(len(seedList)):\n",
    "        globals()['topSTP' + str(i)], globals()['iterationSTP' + str(i)] = runMaxSTP(seedList[i])\n",
    "\n",
    "    for i in trange(len(seedList)):\n",
    "        globals()['topEGP' + str(i)], globals()['iterationEGP' + str(i)] = runMaxEGP(seedList[i])\n",
    "\n",
    "    for i in trange(len(seedList)):\n",
    "        globals()['topVGP' + str(i)], globals()['iterationVGP' + str(i)] = runMaxVGP(seedList[i])\n",
    "\n",
    "\n",
    "    num_arrays = len(seedList)  \n",
    "    # Function to dynamically collect arrays\n",
    "    def collect_arrays(prefix, num_arrays):\n",
    "        arrays = []\n",
    "        for i in range(num_arrays):\n",
    "            array = globals().get(f'{prefix}{i}', None)\n",
    "            if array is not None:\n",
    "                arrays.append(array)\n",
    "        return arrays\n",
    "\n",
    "    # Function to pad arrays with the last element to match the maximum length\n",
    "    def pad_array(array, max_length):\n",
    "        return np.pad(array, (0, max_length - len(array)), 'constant', constant_values=array[-1])\n",
    "\n",
    "    def find_max_length(prefix, num_arrays):\n",
    "        arrays = collect_arrays(prefix, num_arrays)\n",
    "        return max(len(arr) for arr in arrays)\n",
    "\n",
    "    # Process arrays for each type\n",
    "    def process_arrays(prefix, num_arrays, max_length):\n",
    "        arrays = collect_arrays(prefix, num_arrays)\n",
    "        padded_arrays = [pad_array(arr, max_length) for arr in arrays]\n",
    "        stack = np.stack(padded_arrays)\n",
    "        mean_values = np.mean(stack, axis=0)\n",
    "        std_values = np.std(stack, axis=0)\n",
    "        return mean_values, std_values\n",
    "\n",
    "    # Process arrays for STP, EGP, and VGP\n",
    "    max_length_STP = find_max_length('topSTP', num_arrays)\n",
    "    max_length_EGP = find_max_length('topEGP', num_arrays)\n",
    "    max_length_VGP = find_max_length('topVGP', num_arrays)\n",
    "    max_length = max(max_length_STP, max_length_EGP, max_length_VGP)\n",
    "    mean_topSTP, std_valuesSTP = process_arrays('topSTP', num_arrays, max_length)\n",
    "    mean_topEGP, std_valuesEGP = process_arrays('topEGP', num_arrays, max_length)\n",
    "    mean_topVGP, std_valuesVGP = process_arrays('topVGP', num_arrays, max_length)\n",
    "\n",
    "    # Ensure that the number of iterations matches the longest array length\n",
    "    max_length = max(max_length_STP, max_length_EGP, max_length_VGP)\n",
    "    iterations = np.arange(1, max_length + 1)\n",
    "\n",
    "\n",
    "\n",
    "    sns.set(style=\"whitegrid\")\n",
    "    # Plot the mean and fill between the min and max for each type\n",
    "    plt.figure(figsize=(8, 6))\n",
    "\n",
    "    # Plot for STP\n",
    "    sns.lineplot(x=iterations, y=mean_topSTP, label='Mean STP', color='blue', linewidth=2)\n",
    "    plt.fill_between(iterations, mean_topSTP - std_valuesSTP, mean_topSTP + std_valuesSTP, label='STP Standard Deviation', color='blue', alpha=0.1)\n",
    "\n",
    "    # Plot for EGP\n",
    "    sns.lineplot(x=iterations, y=mean_topEGP, label='Mean EGP', color='orange', linewidth=2)\n",
    "    plt.fill_between(iterations, mean_topEGP - std_valuesEGP, mean_topEGP + std_valuesEGP, label='EGP Standard Deviation', color='orange', alpha=0.1)\n",
    "\n",
    "    # Plot for VGP\n",
    "    plt.plot(iterations, mean_topVGP, label='Mean VGP', color='green', linewidth=2)\n",
    "    plt.fill_between(iterations, mean_topVGP - std_valuesVGP, mean_topVGP + std_valuesVGP, label='VGP Standard Deviation', color='green', alpha=0.1)\n",
    "\n",
    "    plt.xlabel('Number of Iterations', fontsize=12)\n",
    "    plt.ylabel('Percentage of Top 5% Samples Found', fontsize=12)\n",
    "    plt.title(f'Average Percentage of Top Samples Found Over {num_arrays} Campaigns', fontsize=14)\n",
    "    plt.legend(fontsize=10, loc='upper left')\n",
    "\n",
    "    # Customize ticks\n",
    "    plt.xticks(fontsize=10)\n",
    "    plt.yticks(fontsize=10)\n",
    "\n",
    "    # Adjust axis limits and aspect ratio if needed\n",
    "    plt.ylim(0, 100)\n",
    "    plt.xlim(1, max_length)\n",
    "\n",
    "\n",
    "    # save the plot \n",
    "    plt.savefig(f\"{dataset}50Campaign50OptLoopMean\")\n",
    "    plt.show()\n"
   ]
  },
  {
   "cell_type": "markdown",
   "metadata": {},
   "source": [
    "# Minimum Tests"
   ]
  },
  {
   "cell_type": "code",
   "execution_count": 17,
   "metadata": {},
   "outputs": [
    {
     "name": "stderr",
     "output_type": "stream",
     "text": [
      "<string>:7: SyntaxWarning: invalid escape sequence '\\{'\n",
      "<>:7: SyntaxWarning: invalid escape sequence '\\{'\n",
      "<string>:7: SyntaxWarning: invalid escape sequence '\\{'\n",
      "<>:7: SyntaxWarning: invalid escape sequence '\\{'\n",
      "C:\\Users\\stan\\AppData\\Local\\Temp\\ipykernel_65552\\3720585052.py:7: SyntaxWarning: invalid escape sequence '\\{'\n",
      "  data = pd.read_csv(f\"datasets\\{dataset}_dataset.csv\")\n"
     ]
    },
    {
     "name": "stdout",
     "output_type": "stream",
     "text": [
      "Starting Perovskite\n",
      "Number of of top 5% samples: 7\n",
      "Top 5% samples: [1755056.0, 1583406.0, 1497320.0, 1413800.0, 1375402.0, 1300295.0, 1281399.0]\n"
     ]
    },
    {
     "name": "stderr",
     "output_type": "stream",
     "text": [
      "  0%|          | 0/50 [00:00<?, ?it/s]"
     ]
    },
    {
     "name": "stdout",
     "output_type": "stream",
     "text": [
      "Minimizing with STP\n",
      "Seed: 654\n",
      "Initial points: tensor([[0.3800, 0.6200, 0.0000],\n",
      "        [0.0500, 0.7885, 0.1615],\n",
      "        [0.2600, 0.3800, 0.3600],\n",
      "        [0.8000, 0.1100, 0.0900],\n",
      "        [0.0000, 1.0000, 0.0000]])\n"
     ]
    },
    {
     "name": "stderr",
     "output_type": "stream",
     "text": [
      "  2%|▏         | 1/50 [01:03<51:27, 63.02s/it]"
     ]
    },
    {
     "name": "stdout",
     "output_type": "stream",
     "text": [
      "Iterations 133\n",
      "Minimizing with STP\n",
      "Seed: 114\n",
      "Initial points: tensor([[0.3200, 0.6800, 0.0000],\n",
      "        [0.1700, 0.8000, 0.0300],\n",
      "        [0.0000, 1.0000, 0.0000],\n",
      "        [0.2500, 0.7000, 0.0600],\n",
      "        [0.0000, 0.5000, 0.5000]])\n"
     ]
    },
    {
     "name": "stderr",
     "output_type": "stream",
     "text": [
      "  4%|▍         | 2/50 [02:06<50:38, 63.30s/it]"
     ]
    },
    {
     "name": "stdout",
     "output_type": "stream",
     "text": [
      "Iterations 134\n",
      "Minimizing with STP\n",
      "Seed: 25\n",
      "Initial points: tensor([[0.5000, 0.0000, 0.5000],\n",
      "        [0.1300, 0.8700, 0.0000],\n",
      "        [0.2500, 0.5000, 0.2500],\n",
      "        [0.5000, 0.2500, 0.2500],\n",
      "        [0.0500, 0.7885, 0.1615]])\n"
     ]
    },
    {
     "name": "stderr",
     "output_type": "stream",
     "text": [
      "  6%|▌         | 3/50 [03:09<49:25, 63.09s/it]"
     ]
    },
    {
     "name": "stdout",
     "output_type": "stream",
     "text": [
      "Iterations 133\n",
      "Minimizing with STP\n",
      "Seed: 759\n",
      "Initial points: tensor([[0.1200, 0.8100, 0.0700],\n",
      "        [0.1300, 0.7900, 0.0800],\n",
      "        [0.8000, 0.1100, 0.0900],\n",
      "        [0.7500, 0.2500, 0.0000],\n",
      "        [0.2600, 0.3800, 0.3600]])\n"
     ]
    },
    {
     "name": "stderr",
     "output_type": "stream",
     "text": [
      "  8%|▊         | 4/50 [04:15<49:21, 64.38s/it]"
     ]
    },
    {
     "name": "stdout",
     "output_type": "stream",
     "text": [
      "Iterations 133\n",
      "Minimizing with STP\n",
      "Seed: 281\n",
      "Initial points: tensor([[0.1600, 0.7500, 0.0900],\n",
      "        [0.5000, 0.2500, 0.2500],\n",
      "        [0.2400, 0.3700, 0.3900],\n",
      "        [0.8900, 0.0000, 0.1100],\n",
      "        [0.0500, 0.7885, 0.1615]])\n"
     ]
    },
    {
     "name": "stderr",
     "output_type": "stream",
     "text": [
      " 10%|█         | 5/50 [05:22<48:52, 65.18s/it]"
     ]
    },
    {
     "name": "stdout",
     "output_type": "stream",
     "text": [
      "Iterations 134\n",
      "Minimizing with STP\n",
      "Seed: 250\n",
      "Initial points: tensor([[0.1700, 0.8000, 0.0300],\n",
      "        [0.8000, 0.1100, 0.0900],\n",
      "        [0.5000, 0.5000, 0.0000],\n",
      "        [0.2500, 0.5000, 0.2500],\n",
      "        [0.0000, 0.7500, 0.2500]])\n"
     ]
    },
    {
     "name": "stderr",
     "output_type": "stream",
     "text": [
      " 12%|█▏        | 6/50 [06:31<48:49, 66.59s/it]"
     ]
    },
    {
     "name": "stdout",
     "output_type": "stream",
     "text": [
      "Iterations 134\n",
      "Minimizing with STP\n",
      "Seed: 228\n",
      "Initial points: tensor([[0.6600, 0.2400, 0.1000],\n",
      "        [0.2500, 0.7000, 0.0600],\n",
      "        [0.8300, 0.0300, 0.1400],\n",
      "        [0.5000, 0.2500, 0.2500],\n",
      "        [0.4400, 0.5500, 0.0100]])\n"
     ]
    },
    {
     "name": "stderr",
     "output_type": "stream",
     "text": [
      " 14%|█▍        | 7/50 [07:37<47:39, 66.50s/it]"
     ]
    },
    {
     "name": "stdout",
     "output_type": "stream",
     "text": [
      "Iterations 134\n",
      "Minimizing with STP\n",
      "Seed: 142\n",
      "Initial points: tensor([[0.2500, 0.7100, 0.0400],\n",
      "        [0.8900, 0.0000, 0.1100],\n",
      "        [0.2800, 0.6500, 0.0700],\n",
      "        [0.6800, 0.1300, 0.1900],\n",
      "        [0.1300, 0.7900, 0.0800]])\n"
     ]
    },
    {
     "name": "stderr",
     "output_type": "stream",
     "text": [
      " 16%|█▌        | 8/50 [08:45<46:44, 66.78s/it]"
     ]
    },
    {
     "name": "stdout",
     "output_type": "stream",
     "text": [
      "Iterations 133\n",
      "Minimizing with STP\n",
      "Seed: 754\n",
      "Initial points: tensor([[0.1700, 0.8000, 0.0300],\n",
      "        [0.0600, 0.8500, 0.0900],\n",
      "        [0.2300, 0.6600, 0.1100],\n",
      "        [0.5000, 0.5000, 0.0000],\n",
      "        [0.7600, 0.2400, 0.0000]])\n"
     ]
    },
    {
     "name": "stderr",
     "output_type": "stream",
     "text": [
      " 18%|█▊        | 9/50 [09:50<45:21, 66.39s/it]"
     ]
    },
    {
     "name": "stdout",
     "output_type": "stream",
     "text": [
      "Iterations 134\n",
      "Minimizing with STP\n",
      "Seed: 104\n",
      "Initial points: tensor([[0.3200, 0.6700, 0.0100],\n",
      "        [0.9100, 0.0100, 0.0800],\n",
      "        [0.1300, 0.8700, 0.0000],\n",
      "        [0.5300, 0.4700, 0.0000],\n",
      "        [0.1300, 0.8700, 0.0000]])\n"
     ]
    },
    {
     "name": "stderr",
     "output_type": "stream",
     "text": [
      " 20%|██        | 10/50 [10:55<43:52, 65.82s/it]"
     ]
    },
    {
     "name": "stdout",
     "output_type": "stream",
     "text": [
      "Iterations 133\n",
      "Minimizing with STP\n",
      "Seed: 692\n",
      "Initial points: tensor([[0.1200, 0.8100, 0.0700],\n",
      "        [0.0000, 0.7500, 0.2500],\n",
      "        [0.8000, 0.1100, 0.0900],\n",
      "        [0.1300, 0.7900, 0.0800],\n",
      "        [0.8800, 0.0000, 0.1200]])\n"
     ]
    },
    {
     "name": "stderr",
     "output_type": "stream",
     "text": [
      " 22%|██▏       | 11/50 [12:00<42:41, 65.67s/it]"
     ]
    },
    {
     "name": "stdout",
     "output_type": "stream",
     "text": [
      "Iterations 134\n",
      "Minimizing with STP\n",
      "Seed: 758\n",
      "Initial points: tensor([[0.0500, 0.7885, 0.1615],\n",
      "        [0.0900, 0.8700, 0.0400],\n",
      "        [0.1200, 0.7700, 0.1100],\n",
      "        [0.3100, 0.3600, 0.3300],\n",
      "        [0.1600, 0.8400, 0.0000]])\n"
     ]
    },
    {
     "name": "stderr",
     "output_type": "stream",
     "text": [
      " 24%|██▍       | 12/50 [13:06<41:32, 65.59s/it]"
     ]
    },
    {
     "name": "stdout",
     "output_type": "stream",
     "text": [
      "Iterations 134\n",
      "Minimizing with STP\n",
      "Seed: 913\n",
      "Initial points: tensor([[0.3200, 0.6800, 0.0000],\n",
      "        [0.0500, 0.7885, 0.1615],\n",
      "        [0.1200, 0.7700, 0.1100],\n",
      "        [0.8000, 0.1100, 0.0900],\n",
      "        [1.0000, 0.0000, 0.0000]])\n"
     ]
    },
    {
     "name": "stderr",
     "output_type": "stream",
     "text": [
      " 26%|██▌       | 13/50 [14:12<40:34, 65.80s/it]"
     ]
    },
    {
     "name": "stdout",
     "output_type": "stream",
     "text": [
      "Iterations 134\n",
      "Minimizing with STP\n",
      "Seed: 558\n",
      "Initial points: tensor([[0.3200, 0.6700, 0.0100],\n",
      "        [0.1400, 0.8400, 0.0200],\n",
      "        [0.1900, 0.8100, 0.0000],\n",
      "        [0.1300, 0.8700, 0.0000],\n",
      "        [0.7000, 0.2900, 0.0100]])\n"
     ]
    },
    {
     "name": "stderr",
     "output_type": "stream",
     "text": [
      " 28%|██▊       | 14/50 [15:17<39:21, 65.60s/it]"
     ]
    },
    {
     "name": "stdout",
     "output_type": "stream",
     "text": [
      "Iterations 134\n",
      "Minimizing with STP\n",
      "Seed: 89\n",
      "Initial points: tensor([[0.2600, 0.3700, 0.3600],\n",
      "        [0.1300, 0.8700, 0.0000],\n",
      "        [0.3400, 0.6400, 0.0200],\n",
      "        [0.7100, 0.0600, 0.2300],\n",
      "        [0.1900, 0.7000, 0.1100]])\n"
     ]
    },
    {
     "name": "stderr",
     "output_type": "stream",
     "text": [
      " 30%|███       | 15/50 [16:22<38:12, 65.50s/it]"
     ]
    },
    {
     "name": "stdout",
     "output_type": "stream",
     "text": [
      "Iterations 134\n",
      "Minimizing with STP\n",
      "Seed: 604\n",
      "Initial points: tensor([[0.8400, 0.0000, 0.1600],\n",
      "        [0.3700, 0.6300, 0.0000],\n",
      "        [0.2300, 0.7700, 0.0000],\n",
      "        [0.7100, 0.0100, 0.2800],\n",
      "        [0.1300, 0.7900, 0.0800]])\n"
     ]
    },
    {
     "name": "stderr",
     "output_type": "stream",
     "text": [
      " 32%|███▏      | 16/50 [17:27<36:57, 65.23s/it]"
     ]
    },
    {
     "name": "stdout",
     "output_type": "stream",
     "text": [
      "Iterations 133\n",
      "Minimizing with STP\n",
      "Seed: 432\n",
      "Initial points: tensor([[0.2500, 0.7000, 0.0600],\n",
      "        [0.1700, 0.8200, 0.0100],\n",
      "        [0.6300, 0.3700, 0.0000],\n",
      "        [0.2600, 0.3800, 0.3600],\n",
      "        [0.2600, 0.3800, 0.3600]])\n"
     ]
    },
    {
     "name": "stderr",
     "output_type": "stream",
     "text": [
      " 34%|███▍      | 17/50 [18:32<35:52, 65.22s/it]"
     ]
    },
    {
     "name": "stdout",
     "output_type": "stream",
     "text": [
      "Iterations 134\n",
      "Minimizing with STP\n",
      "Seed: 32\n",
      "Initial points: tensor([[0.0900, 0.9100, 0.0000],\n",
      "        [0.0000, 0.5000, 0.5000],\n",
      "        [0.3000, 0.6900, 0.0100],\n",
      "        [0.1200, 0.8100, 0.0700],\n",
      "        [0.5000, 0.0000, 0.5000]])\n"
     ]
    },
    {
     "name": "stderr",
     "output_type": "stream",
     "text": [
      " 36%|███▌      | 18/50 [19:37<34:41, 65.06s/it]"
     ]
    },
    {
     "name": "stdout",
     "output_type": "stream",
     "text": [
      "Iterations 133\n",
      "Minimizing with STP\n",
      "Seed: 30\n",
      "Initial points: tensor([[0.7500, 0.2500, 0.0000],\n",
      "        [0.1300, 0.8500, 0.0200],\n",
      "        [0.6300, 0.3700, 0.0000],\n",
      "        [0.1700, 0.8000, 0.0300],\n",
      "        [0.2800, 0.3700, 0.3500]])\n"
     ]
    },
    {
     "name": "stderr",
     "output_type": "stream",
     "text": [
      " 38%|███▊      | 19/50 [20:42<33:35, 65.02s/it]"
     ]
    },
    {
     "name": "stdout",
     "output_type": "stream",
     "text": [
      "Iterations 134\n",
      "Minimizing with STP\n",
      "Seed: 95\n",
      "Initial points: tensor([[0.6300, 0.3700, 0.0000],\n",
      "        [0.1600, 0.8400, 0.0000],\n",
      "        [0.6600, 0.2400, 0.1000],\n",
      "        [0.2600, 0.3700, 0.3600],\n",
      "        [0.6900, 0.3100, 0.0000]])\n"
     ]
    },
    {
     "name": "stderr",
     "output_type": "stream",
     "text": [
      " 40%|████      | 20/50 [21:47<32:32, 65.09s/it]"
     ]
    },
    {
     "name": "stdout",
     "output_type": "stream",
     "text": [
      "Iterations 134\n",
      "Minimizing with STP\n",
      "Seed: 223\n",
      "Initial points: tensor([[0.1700, 0.8000, 0.0300],\n",
      "        [0.1600, 0.8300, 0.0100],\n",
      "        [0.2500, 0.7000, 0.0600],\n",
      "        [0.0500, 0.7885, 0.1615],\n",
      "        [0.3500, 0.6500, 0.0000]])\n"
     ]
    },
    {
     "name": "stderr",
     "output_type": "stream",
     "text": [
      " 42%|████▏     | 21/50 [22:51<31:22, 64.91s/it]"
     ]
    },
    {
     "name": "stdout",
     "output_type": "stream",
     "text": [
      "Iterations 133\n",
      "Minimizing with STP\n",
      "Seed: 238\n",
      "Initial points: tensor([[0.1800, 0.8200, 0.0000],\n",
      "        [0.0000, 0.5000, 0.5000],\n",
      "        [0.3100, 0.3600, 0.3300],\n",
      "        [0.2600, 0.3800, 0.3600],\n",
      "        [0.1600, 0.8400, 0.0000]])\n"
     ]
    },
    {
     "name": "stderr",
     "output_type": "stream",
     "text": [
      " 44%|████▍     | 22/50 [23:55<30:08, 64.59s/it]"
     ]
    },
    {
     "name": "stdout",
     "output_type": "stream",
     "text": [
      "Iterations 132\n",
      "Minimizing with STP\n",
      "Seed: 517\n",
      "Initial points: tensor([[0.0500, 0.7885, 0.1615],\n",
      "        [0.7000, 0.2900, 0.0100],\n",
      "        [0.2600, 0.3700, 0.3600],\n",
      "        [0.8000, 0.1100, 0.0900],\n",
      "        [0.1700, 0.8000, 0.0300]])\n"
     ]
    },
    {
     "name": "stderr",
     "output_type": "stream",
     "text": [
      " 46%|████▌     | 23/50 [25:01<29:09, 64.81s/it]"
     ]
    },
    {
     "name": "stdout",
     "output_type": "stream",
     "text": [
      "Iterations 134\n",
      "Minimizing with STP\n",
      "Seed: 616\n",
      "Initial points: tensor([[0.8800, 0.0000, 0.1200],\n",
      "        [0.6900, 0.3100, 0.0000],\n",
      "        [0.2200, 0.7800, 0.0000],\n",
      "        [0.3400, 0.6400, 0.0200],\n",
      "        [0.1300, 0.8700, 0.0000]])\n"
     ]
    },
    {
     "name": "stderr",
     "output_type": "stream",
     "text": [
      " 48%|████▊     | 24/50 [26:06<28:07, 64.91s/it]"
     ]
    },
    {
     "name": "stdout",
     "output_type": "stream",
     "text": [
      "Iterations 134\n",
      "Minimizing with STP\n",
      "Seed: 27\n",
      "Initial points: tensor([[0.7500, 0.0000, 0.2500],\n",
      "        [0.0000, 0.7500, 0.2500],\n",
      "        [0.6900, 0.3100, 0.0000],\n",
      "        [0.8400, 0.0000, 0.1600],\n",
      "        [0.1200, 0.8100, 0.0700]])\n"
     ]
    },
    {
     "name": "stderr",
     "output_type": "stream",
     "text": [
      " 50%|█████     | 25/50 [27:10<27:00, 64.82s/it]"
     ]
    },
    {
     "name": "stdout",
     "output_type": "stream",
     "text": [
      "Iterations 133\n",
      "Minimizing with STP\n",
      "Seed: 574\n",
      "Initial points: tensor([[0.5900, 0.4100, 0.0000],\n",
      "        [0.1800, 0.7800, 0.0400],\n",
      "        [0.1600, 0.7500, 0.0900],\n",
      "        [0.1700, 0.8200, 0.0100],\n",
      "        [0.0000, 0.7500, 0.2500]])\n"
     ]
    },
    {
     "name": "stderr",
     "output_type": "stream",
     "text": [
      " 52%|█████▏    | 26/50 [28:16<26:00, 65.01s/it]"
     ]
    },
    {
     "name": "stdout",
     "output_type": "stream",
     "text": [
      "Iterations 134\n",
      "Minimizing with STP\n",
      "Seed: 203\n",
      "Initial points: tensor([[0.1000, 0.8900, 0.0100],\n",
      "        [0.1300, 0.7900, 0.0800],\n",
      "        [0.7000, 0.2900, 0.0100],\n",
      "        [0.1900, 0.7000, 0.1100],\n",
      "        [0.1400, 0.8400, 0.0200]])\n"
     ]
    },
    {
     "name": "stderr",
     "output_type": "stream",
     "text": [
      " 54%|█████▍    | 27/50 [29:22<25:00, 65.22s/it]"
     ]
    },
    {
     "name": "stdout",
     "output_type": "stream",
     "text": [
      "Iterations 134\n",
      "Minimizing with STP\n",
      "Seed: 733\n",
      "Initial points: tensor([[0.7500, 0.2500, 0.0000],\n",
      "        [0.1700, 0.8000, 0.0300],\n",
      "        [0.2000, 0.6900, 0.1100],\n",
      "        [0.0000, 0.7500, 0.2500],\n",
      "        [0.2800, 0.6500, 0.0700]])\n"
     ]
    },
    {
     "name": "stderr",
     "output_type": "stream",
     "text": [
      " 56%|█████▌    | 28/50 [30:27<23:55, 65.27s/it]"
     ]
    },
    {
     "name": "stdout",
     "output_type": "stream",
     "text": [
      "Iterations 134\n",
      "Minimizing with STP\n",
      "Seed: 665\n",
      "Initial points: tensor([[0.8900, 0.0000, 0.1100],\n",
      "        [0.1300, 0.8700, 0.0000],\n",
      "        [0.1600, 0.8400, 0.0000],\n",
      "        [0.0000, 0.5000, 0.5000],\n",
      "        [0.1000, 0.9000, 0.0000]])\n"
     ]
    },
    {
     "name": "stderr",
     "output_type": "stream",
     "text": [
      " 58%|█████▊    | 29/50 [31:32<22:50, 65.28s/it]"
     ]
    },
    {
     "name": "stdout",
     "output_type": "stream",
     "text": [
      "Iterations 134\n",
      "Minimizing with STP\n",
      "Seed: 718\n",
      "Initial points: tensor([[0.2400, 0.3700, 0.3900],\n",
      "        [0.3700, 0.6200, 0.0100],\n",
      "        [0.3200, 0.6800, 0.0000],\n",
      "        [0.3900, 0.6100, 0.0000],\n",
      "        [0.5900, 0.4100, 0.0000]])\n"
     ]
    },
    {
     "name": "stderr",
     "output_type": "stream",
     "text": [
      " 60%|██████    | 30/50 [32:37<21:45, 65.26s/it]"
     ]
    },
    {
     "name": "stdout",
     "output_type": "stream",
     "text": [
      "Iterations 134\n",
      "Minimizing with STP\n",
      "Seed: 429\n",
      "Initial points: tensor([[0.7100, 0.0600, 0.2300],\n",
      "        [0.0000, 1.0000, 0.0000],\n",
      "        [0.8400, 0.0000, 0.1600],\n",
      "        [0.1800, 0.7600, 0.0600],\n",
      "        [0.0000, 0.0000, 1.0000]])\n"
     ]
    },
    {
     "name": "stderr",
     "output_type": "stream",
     "text": [
      " 62%|██████▏   | 31/50 [33:43<20:41, 65.33s/it]"
     ]
    },
    {
     "name": "stdout",
     "output_type": "stream",
     "text": [
      "Iterations 134\n",
      "Minimizing with STP\n",
      "Seed: 225\n",
      "Initial points: tensor([[0.0000, 0.7500, 0.2500],\n",
      "        [0.3000, 0.6900, 0.0100],\n",
      "        [0.2600, 0.3800, 0.3600],\n",
      "        [0.3500, 0.6500, 0.0000],\n",
      "        [0.0000, 0.0000, 1.0000]])\n"
     ]
    },
    {
     "name": "stderr",
     "output_type": "stream",
     "text": [
      " 64%|██████▍   | 32/50 [34:48<19:34, 65.26s/it]"
     ]
    },
    {
     "name": "stdout",
     "output_type": "stream",
     "text": [
      "Iterations 134\n",
      "Minimizing with STP\n",
      "Seed: 459\n",
      "Initial points: tensor([[0.1700, 0.8000, 0.0300],\n",
      "        [0.2500, 0.7100, 0.0400],\n",
      "        [0.3200, 0.6800, 0.0000],\n",
      "        [0.2800, 0.3700, 0.3500],\n",
      "        [0.2700, 0.3400, 0.4000]])\n"
     ]
    },
    {
     "name": "stderr",
     "output_type": "stream",
     "text": [
      " 66%|██████▌   | 33/50 [35:53<18:28, 65.18s/it]"
     ]
    },
    {
     "name": "stdout",
     "output_type": "stream",
     "text": [
      "Iterations 134\n",
      "Minimizing with STP\n",
      "Seed: 603\n",
      "Initial points: tensor([[0.6800, 0.1300, 0.1900],\n",
      "        [0.3200, 0.6800, 0.0000],\n",
      "        [0.1300, 0.8700, 0.0000],\n",
      "        [0.0000, 0.0000, 1.0000],\n",
      "        [0.5000, 0.5000, 0.0000]])\n"
     ]
    },
    {
     "name": "stderr",
     "output_type": "stream",
     "text": [
      " 68%|██████▊   | 34/50 [36:58<17:23, 65.20s/it]"
     ]
    },
    {
     "name": "stdout",
     "output_type": "stream",
     "text": [
      "Iterations 134\n",
      "Minimizing with STP\n",
      "Seed: 284\n",
      "Initial points: tensor([[0.7600, 0.2400, 0.0000],\n",
      "        [0.0000, 0.7500, 0.2500],\n",
      "        [0.1300, 0.8700, 0.0000],\n",
      "        [0.9100, 0.0100, 0.0800],\n",
      "        [0.2500, 0.7500, 0.0000]])\n"
     ]
    },
    {
     "name": "stderr",
     "output_type": "stream",
     "text": [
      " 70%|███████   | 35/50 [38:03<16:14, 64.96s/it]"
     ]
    },
    {
     "name": "stdout",
     "output_type": "stream",
     "text": [
      "Iterations 133\n",
      "Minimizing with STP\n",
      "Seed: 828\n",
      "Initial points: tensor([[0.1900, 0.8100, 0.0000],\n",
      "        [0.0600, 0.8500, 0.0900],\n",
      "        [0.0500, 0.7885, 0.1615],\n",
      "        [0.0000, 0.7500, 0.2500],\n",
      "        [0.2700, 0.3400, 0.4000]])\n"
     ]
    },
    {
     "name": "stderr",
     "output_type": "stream",
     "text": [
      " 72%|███████▏  | 36/50 [39:07<15:07, 64.80s/it]"
     ]
    },
    {
     "name": "stdout",
     "output_type": "stream",
     "text": [
      "Iterations 133\n",
      "Minimizing with STP\n",
      "Seed: 890\n",
      "Initial points: tensor([[0.3400, 0.6400, 0.0200],\n",
      "        [0.2300, 0.7700, 0.0000],\n",
      "        [1.0000, 0.0000, 0.0000],\n",
      "        [0.7000, 0.2900, 0.0100],\n",
      "        [0.0000, 0.0000, 1.0000]])\n"
     ]
    },
    {
     "name": "stderr",
     "output_type": "stream",
     "text": [
      " 74%|███████▍  | 37/50 [40:12<14:03, 64.92s/it]"
     ]
    },
    {
     "name": "stdout",
     "output_type": "stream",
     "text": [
      "Iterations 134\n",
      "Minimizing with STP\n",
      "Seed: 6\n",
      "Initial points: tensor([[0.1700, 0.8000, 0.0300],\n",
      "        [0.1300, 0.8700, 0.0000],\n",
      "        [0.0500, 0.7885, 0.1615],\n",
      "        [0.2300, 0.6600, 0.1100],\n",
      "        [0.7100, 0.0100, 0.2800]])\n"
     ]
    },
    {
     "name": "stderr",
     "output_type": "stream",
     "text": [
      " 76%|███████▌  | 38/50 [41:17<12:58, 64.85s/it]"
     ]
    },
    {
     "name": "stdout",
     "output_type": "stream",
     "text": [
      "Iterations 133\n",
      "Minimizing with STP\n",
      "Seed: 777\n",
      "Initial points: tensor([[0.1700, 0.8000, 0.0300],\n",
      "        [0.1400, 0.8400, 0.0200],\n",
      "        [0.2500, 0.7500, 0.0000],\n",
      "        [0.2300, 0.7700, 0.0000],\n",
      "        [0.2700, 0.3400, 0.4000]])\n"
     ]
    },
    {
     "name": "stderr",
     "output_type": "stream",
     "text": [
      " 78%|███████▊  | 39/50 [42:22<11:54, 64.91s/it]"
     ]
    },
    {
     "name": "stdout",
     "output_type": "stream",
     "text": [
      "Iterations 134\n",
      "Minimizing with STP\n",
      "Seed: 825\n",
      "Initial points: tensor([[0.2500, 0.7500, 0.0000],\n",
      "        [0.7500, 0.0000, 0.2500],\n",
      "        [0.2600, 0.3800, 0.3600],\n",
      "        [0.8800, 0.0000, 0.1200],\n",
      "        [0.6600, 0.2400, 0.1000]])\n"
     ]
    },
    {
     "name": "stderr",
     "output_type": "stream",
     "text": [
      " 80%|████████  | 40/50 [43:27<10:49, 64.91s/it]"
     ]
    },
    {
     "name": "stdout",
     "output_type": "stream",
     "text": [
      "Iterations 134\n",
      "Minimizing with STP\n",
      "Seed: 163\n",
      "Initial points: tensor([[0.3000, 0.6900, 0.0100],\n",
      "        [0.2000, 0.6900, 0.1100],\n",
      "        [0.8400, 0.0000, 0.1600],\n",
      "        [0.2400, 0.3700, 0.3900],\n",
      "        [0.3200, 0.6800, 0.0000]])\n"
     ]
    },
    {
     "name": "stderr",
     "output_type": "stream",
     "text": [
      " 82%|████████▏ | 41/50 [44:32<09:44, 64.96s/it]"
     ]
    },
    {
     "name": "stdout",
     "output_type": "stream",
     "text": [
      "Iterations 134\n",
      "Minimizing with STP\n",
      "Seed: 714\n",
      "Initial points: tensor([[0.2500, 0.7500, 0.0000],\n",
      "        [1.0000, 0.0000, 0.0000],\n",
      "        [0.3700, 0.6200, 0.0100],\n",
      "        [0.7500, 0.2500, 0.0000],\n",
      "        [0.5900, 0.4100, 0.0000]])\n"
     ]
    },
    {
     "name": "stderr",
     "output_type": "stream",
     "text": [
      " 84%|████████▍ | 42/50 [45:38<08:41, 65.13s/it]"
     ]
    },
    {
     "name": "stdout",
     "output_type": "stream",
     "text": [
      "Iterations 134\n",
      "Minimizing with STP\n",
      "Seed: 348\n",
      "Initial points: tensor([[0.2500, 0.7000, 0.0600],\n",
      "        [0.2800, 0.3700, 0.3500],\n",
      "        [0.5000, 0.5000, 0.0000],\n",
      "        [0.5000, 0.2500, 0.2500],\n",
      "        [0.3400, 0.5400, 0.1200]])\n"
     ]
    },
    {
     "name": "stderr",
     "output_type": "stream",
     "text": [
      " 86%|████████▌ | 43/50 [46:43<07:36, 65.17s/it]"
     ]
    },
    {
     "name": "stdout",
     "output_type": "stream",
     "text": [
      "Iterations 134\n",
      "Minimizing with STP\n",
      "Seed: 159\n",
      "Initial points: tensor([[0.2500, 0.7500, 0.0000],\n",
      "        [0.1300, 0.8700, 0.0000],\n",
      "        [0.0000, 0.7500, 0.2500],\n",
      "        [0.0000, 1.0000, 0.0000],\n",
      "        [0.3800, 0.6200, 0.0000]])\n"
     ]
    },
    {
     "name": "stderr",
     "output_type": "stream",
     "text": [
      " 88%|████████▊ | 44/50 [47:48<06:30, 65.16s/it]"
     ]
    },
    {
     "name": "stdout",
     "output_type": "stream",
     "text": [
      "Iterations 134\n",
      "Minimizing with STP\n",
      "Seed: 220\n",
      "Initial points: tensor([[0.8400, 0.0000, 0.1600],\n",
      "        [0.9100, 0.0100, 0.0800],\n",
      "        [0.0000, 0.0000, 1.0000],\n",
      "        [0.2500, 0.7000, 0.0600],\n",
      "        [0.5000, 0.2500, 0.2500]])\n"
     ]
    },
    {
     "name": "stderr",
     "output_type": "stream",
     "text": [
      " 90%|█████████ | 45/50 [48:53<05:26, 65.20s/it]"
     ]
    },
    {
     "name": "stdout",
     "output_type": "stream",
     "text": [
      "Iterations 134\n",
      "Minimizing with STP\n",
      "Seed: 980\n",
      "Initial points: tensor([[0.1300, 0.8700, 0.0000],\n",
      "        [0.7800, 0.0900, 0.1300],\n",
      "        [0.2500, 0.7500, 0.0000],\n",
      "        [0.0000, 1.0000, 0.0000],\n",
      "        [0.0000, 0.0000, 1.0000]])\n"
     ]
    },
    {
     "name": "stderr",
     "output_type": "stream",
     "text": [
      " 92%|█████████▏| 46/50 [49:59<04:21, 65.25s/it]"
     ]
    },
    {
     "name": "stdout",
     "output_type": "stream",
     "text": [
      "Iterations 134\n",
      "Minimizing with STP\n",
      "Seed: 781\n",
      "Initial points: tensor([[0.0000, 1.0000, 0.0000],\n",
      "        [0.3900, 0.6100, 0.0000],\n",
      "        [0.0900, 0.8700, 0.0400],\n",
      "        [0.4300, 0.5700, 0.0000],\n",
      "        [0.2600, 0.3800, 0.3600]])\n"
     ]
    },
    {
     "name": "stderr",
     "output_type": "stream",
     "text": [
      " 94%|█████████▍| 47/50 [51:04<03:15, 65.23s/it]"
     ]
    },
    {
     "name": "stdout",
     "output_type": "stream",
     "text": [
      "Iterations 134\n",
      "Minimizing with STP\n",
      "Seed: 344\n",
      "Initial points: tensor([[0.0500, 0.7885, 0.1615],\n",
      "        [0.1200, 0.7700, 0.1100],\n",
      "        [0.8400, 0.0000, 0.1600],\n",
      "        [0.1900, 0.7000, 0.1100],\n",
      "        [0.8000, 0.1100, 0.0900]])\n"
     ]
    },
    {
     "name": "stderr",
     "output_type": "stream",
     "text": [
      " 96%|█████████▌| 48/50 [52:09<02:10, 65.25s/it]"
     ]
    },
    {
     "name": "stdout",
     "output_type": "stream",
     "text": [
      "Iterations 134\n",
      "Minimizing with STP\n",
      "Seed: 94\n",
      "Initial points: tensor([[0.2700, 0.7200, 0.0100],\n",
      "        [0.1300, 0.8700, 0.0000],\n",
      "        [0.6300, 0.3700, 0.0000],\n",
      "        [0.4100, 0.5800, 0.0100],\n",
      "        [0.1600, 0.8300, 0.0100]])\n"
     ]
    },
    {
     "name": "stderr",
     "output_type": "stream",
     "text": [
      " 98%|█████████▊| 49/50 [53:14<01:05, 65.01s/it]"
     ]
    },
    {
     "name": "stdout",
     "output_type": "stream",
     "text": [
      "Iterations 133\n",
      "Minimizing with STP\n",
      "Seed: 389\n",
      "Initial points: tensor([[0.8800, 0.0000, 0.1200],\n",
      "        [0.2200, 0.7200, 0.0600],\n",
      "        [0.3500, 0.6500, 0.0000],\n",
      "        [0.8900, 0.0000, 0.1100],\n",
      "        [0.6900, 0.3100, 0.0000]])\n"
     ]
    },
    {
     "name": "stderr",
     "output_type": "stream",
     "text": [
      "100%|██████████| 50/50 [54:19<00:00, 65.18s/it]\n"
     ]
    },
    {
     "name": "stdout",
     "output_type": "stream",
     "text": [
      "Iterations 134\n"
     ]
    },
    {
     "name": "stderr",
     "output_type": "stream",
     "text": [
      "  0%|          | 0/50 [00:00<?, ?it/s]"
     ]
    },
    {
     "name": "stdout",
     "output_type": "stream",
     "text": [
      "Minimizing with EGP\n",
      "Seed: 654\n",
      "Initial points: tensor([[0.7500, 0.2500, 0.0000],\n",
      "        [0.1800, 0.7800, 0.0400],\n",
      "        [0.8900, 0.0000, 0.1100],\n",
      "        [0.8000, 0.1100, 0.0900],\n",
      "        [1.0000, 0.0000, 0.0000]])\n"
     ]
    },
    {
     "name": "stderr",
     "output_type": "stream",
     "text": [
      "c:\\Users\\stan\\miniconda3\\envs\\researchTP\\Lib\\site-packages\\botorch\\optim\\fit.py:102: OptimizationWarning: `scipy_minimize` terminated with status OptimizationStatus.FAILURE, displaying original message from `scipy.optimize.minimize`: ABNORMAL_TERMINATION_IN_LNSRCH\n",
      "  warn(\n",
      "c:\\Users\\stan\\miniconda3\\envs\\researchTP\\Lib\\site-packages\\botorch\\optim\\fit.py:102: OptimizationWarning: `scipy_minimize` terminated with status OptimizationStatus.FAILURE, displaying original message from `scipy.optimize.minimize`: ABNORMAL_TERMINATION_IN_LNSRCH\n",
      "  warn(\n",
      "c:\\Users\\stan\\miniconda3\\envs\\researchTP\\Lib\\site-packages\\botorch\\optim\\fit.py:102: OptimizationWarning: `scipy_minimize` terminated with status OptimizationStatus.FAILURE, displaying original message from `scipy.optimize.minimize`: ABNORMAL_TERMINATION_IN_LNSRCH\n",
      "  warn(\n",
      "c:\\Users\\stan\\miniconda3\\envs\\researchTP\\Lib\\site-packages\\botorch\\optim\\fit.py:102: OptimizationWarning: `scipy_minimize` terminated with status OptimizationStatus.FAILURE, displaying original message from `scipy.optimize.minimize`: ABNORMAL_TERMINATION_IN_LNSRCH\n",
      "  warn(\n",
      "c:\\Users\\stan\\miniconda3\\envs\\researchTP\\Lib\\site-packages\\botorch\\optim\\fit.py:102: OptimizationWarning: `scipy_minimize` terminated with status OptimizationStatus.FAILURE, displaying original message from `scipy.optimize.minimize`: ABNORMAL_TERMINATION_IN_LNSRCH\n",
      "  warn(\n",
      "c:\\Users\\stan\\miniconda3\\envs\\researchTP\\Lib\\site-packages\\botorch\\optim\\fit.py:102: OptimizationWarning: `scipy_minimize` terminated with status OptimizationStatus.FAILURE, displaying original message from `scipy.optimize.minimize`: ABNORMAL_TERMINATION_IN_LNSRCH\n",
      "  warn(\n",
      "c:\\Users\\stan\\miniconda3\\envs\\researchTP\\Lib\\site-packages\\botorch\\optim\\fit.py:102: OptimizationWarning: `scipy_minimize` terminated with status OptimizationStatus.FAILURE, displaying original message from `scipy.optimize.minimize`: ABNORMAL_TERMINATION_IN_LNSRCH\n",
      "  warn(\n",
      "c:\\Users\\stan\\miniconda3\\envs\\researchTP\\Lib\\site-packages\\botorch\\optim\\fit.py:102: OptimizationWarning: `scipy_minimize` terminated with status OptimizationStatus.FAILURE, displaying original message from `scipy.optimize.minimize`: ABNORMAL_TERMINATION_IN_LNSRCH\n",
      "  warn(\n",
      "c:\\Users\\stan\\miniconda3\\envs\\researchTP\\Lib\\site-packages\\botorch\\optim\\fit.py:102: OptimizationWarning: `scipy_minimize` terminated with status OptimizationStatus.FAILURE, displaying original message from `scipy.optimize.minimize`: ABNORMAL_TERMINATION_IN_LNSRCH\n",
      "  warn(\n",
      "c:\\Users\\stan\\miniconda3\\envs\\researchTP\\Lib\\site-packages\\botorch\\optim\\fit.py:102: OptimizationWarning: `scipy_minimize` terminated with status OptimizationStatus.FAILURE, displaying original message from `scipy.optimize.minimize`: ABNORMAL_TERMINATION_IN_LNSRCH\n",
      "  warn(\n",
      "c:\\Users\\stan\\miniconda3\\envs\\researchTP\\Lib\\site-packages\\botorch\\optim\\fit.py:102: OptimizationWarning: `scipy_minimize` terminated with status OptimizationStatus.FAILURE, displaying original message from `scipy.optimize.minimize`: ABNORMAL_TERMINATION_IN_LNSRCH\n",
      "  warn(\n",
      "c:\\Users\\stan\\miniconda3\\envs\\researchTP\\Lib\\site-packages\\botorch\\optim\\fit.py:102: OptimizationWarning: `scipy_minimize` terminated with status OptimizationStatus.FAILURE, displaying original message from `scipy.optimize.minimize`: ABNORMAL_TERMINATION_IN_LNSRCH\n",
      "  warn(\n",
      "c:\\Users\\stan\\miniconda3\\envs\\researchTP\\Lib\\site-packages\\botorch\\optim\\fit.py:102: OptimizationWarning: `scipy_minimize` terminated with status OptimizationStatus.FAILURE, displaying original message from `scipy.optimize.minimize`: ABNORMAL_TERMINATION_IN_LNSRCH\n",
      "  warn(\n",
      "c:\\Users\\stan\\miniconda3\\envs\\researchTP\\Lib\\site-packages\\botorch\\optim\\fit.py:102: OptimizationWarning: `scipy_minimize` terminated with status OptimizationStatus.FAILURE, displaying original message from `scipy.optimize.minimize`: ABNORMAL_TERMINATION_IN_LNSRCH\n",
      "  warn(\n",
      "  2%|▏         | 1/50 [00:21<17:18, 21.20s/it]"
     ]
    },
    {
     "name": "stdout",
     "output_type": "stream",
     "text": [
      "Iterations 134\n",
      "Minimizing with EGP\n",
      "Seed: 114\n",
      "Initial points: tensor([[0.1700, 0.8000, 0.0300],\n",
      "        [0.1600, 0.7500, 0.0900],\n",
      "        [0.2600, 0.3800, 0.3600],\n",
      "        [0.3500, 0.6500, 0.0000],\n",
      "        [0.1300, 0.7900, 0.0800]])\n"
     ]
    },
    {
     "name": "stderr",
     "output_type": "stream",
     "text": [
      "c:\\Users\\stan\\miniconda3\\envs\\researchTP\\Lib\\site-packages\\botorch\\optim\\fit.py:102: OptimizationWarning: `scipy_minimize` terminated with status OptimizationStatus.FAILURE, displaying original message from `scipy.optimize.minimize`: ABNORMAL_TERMINATION_IN_LNSRCH\n",
      "  warn(\n",
      "c:\\Users\\stan\\miniconda3\\envs\\researchTP\\Lib\\site-packages\\botorch\\optim\\fit.py:102: OptimizationWarning: `scipy_minimize` terminated with status OptimizationStatus.FAILURE, displaying original message from `scipy.optimize.minimize`: ABNORMAL_TERMINATION_IN_LNSRCH\n",
      "  warn(\n",
      "c:\\Users\\stan\\miniconda3\\envs\\researchTP\\Lib\\site-packages\\botorch\\optim\\fit.py:102: OptimizationWarning: `scipy_minimize` terminated with status OptimizationStatus.FAILURE, displaying original message from `scipy.optimize.minimize`: ABNORMAL_TERMINATION_IN_LNSRCH\n",
      "  warn(\n",
      "c:\\Users\\stan\\miniconda3\\envs\\researchTP\\Lib\\site-packages\\botorch\\optim\\fit.py:102: OptimizationWarning: `scipy_minimize` terminated with status OptimizationStatus.FAILURE, displaying original message from `scipy.optimize.minimize`: ABNORMAL_TERMINATION_IN_LNSRCH\n",
      "  warn(\n",
      "c:\\Users\\stan\\miniconda3\\envs\\researchTP\\Lib\\site-packages\\botorch\\optim\\fit.py:102: OptimizationWarning: `scipy_minimize` terminated with status OptimizationStatus.FAILURE, displaying original message from `scipy.optimize.minimize`: ABNORMAL_TERMINATION_IN_LNSRCH\n",
      "  warn(\n",
      "c:\\Users\\stan\\miniconda3\\envs\\researchTP\\Lib\\site-packages\\botorch\\optim\\fit.py:102: OptimizationWarning: `scipy_minimize` terminated with status OptimizationStatus.FAILURE, displaying original message from `scipy.optimize.minimize`: ABNORMAL_TERMINATION_IN_LNSRCH\n",
      "  warn(\n",
      "c:\\Users\\stan\\miniconda3\\envs\\researchTP\\Lib\\site-packages\\botorch\\optim\\fit.py:102: OptimizationWarning: `scipy_minimize` terminated with status OptimizationStatus.FAILURE, displaying original message from `scipy.optimize.minimize`: ABNORMAL_TERMINATION_IN_LNSRCH\n",
      "  warn(\n",
      "c:\\Users\\stan\\miniconda3\\envs\\researchTP\\Lib\\site-packages\\botorch\\optim\\fit.py:102: OptimizationWarning: `scipy_minimize` terminated with status OptimizationStatus.FAILURE, displaying original message from `scipy.optimize.minimize`: ABNORMAL_TERMINATION_IN_LNSRCH\n",
      "  warn(\n",
      "c:\\Users\\stan\\miniconda3\\envs\\researchTP\\Lib\\site-packages\\botorch\\optim\\fit.py:102: OptimizationWarning: `scipy_minimize` terminated with status OptimizationStatus.FAILURE, displaying original message from `scipy.optimize.minimize`: ABNORMAL_TERMINATION_IN_LNSRCH\n",
      "  warn(\n",
      "c:\\Users\\stan\\miniconda3\\envs\\researchTP\\Lib\\site-packages\\botorch\\optim\\fit.py:102: OptimizationWarning: `scipy_minimize` terminated with status OptimizationStatus.FAILURE, displaying original message from `scipy.optimize.minimize`: ABNORMAL_TERMINATION_IN_LNSRCH\n",
      "  warn(\n",
      "c:\\Users\\stan\\miniconda3\\envs\\researchTP\\Lib\\site-packages\\botorch\\optim\\fit.py:102: OptimizationWarning: `scipy_minimize` terminated with status OptimizationStatus.FAILURE, displaying original message from `scipy.optimize.minimize`: ABNORMAL_TERMINATION_IN_LNSRCH\n",
      "  warn(\n",
      "c:\\Users\\stan\\miniconda3\\envs\\researchTP\\Lib\\site-packages\\botorch\\optim\\fit.py:102: OptimizationWarning: `scipy_minimize` terminated with status OptimizationStatus.FAILURE, displaying original message from `scipy.optimize.minimize`: ABNORMAL_TERMINATION_IN_LNSRCH\n",
      "  warn(\n",
      "c:\\Users\\stan\\miniconda3\\envs\\researchTP\\Lib\\site-packages\\botorch\\optim\\fit.py:102: OptimizationWarning: `scipy_minimize` terminated with status OptimizationStatus.FAILURE, displaying original message from `scipy.optimize.minimize`: ABNORMAL_TERMINATION_IN_LNSRCH\n",
      "  warn(\n",
      "c:\\Users\\stan\\miniconda3\\envs\\researchTP\\Lib\\site-packages\\botorch\\optim\\fit.py:102: OptimizationWarning: `scipy_minimize` terminated with status OptimizationStatus.FAILURE, displaying original message from `scipy.optimize.minimize`: ABNORMAL_TERMINATION_IN_LNSRCH\n",
      "  warn(\n",
      "  4%|▍         | 2/50 [00:42<17:08, 21.43s/it]"
     ]
    },
    {
     "name": "stdout",
     "output_type": "stream",
     "text": [
      "Iterations 134\n",
      "Minimizing with EGP\n",
      "Seed: 25\n",
      "Initial points: tensor([[0.2600, 0.3800, 0.3600],\n",
      "        [0.8300, 0.0000, 0.1700],\n",
      "        [0.8400, 0.0000, 0.1600],\n",
      "        [0.8700, 0.1200, 0.0100],\n",
      "        [0.1600, 0.8300, 0.0100]])\n"
     ]
    },
    {
     "name": "stderr",
     "output_type": "stream",
     "text": [
      "c:\\Users\\stan\\miniconda3\\envs\\researchTP\\Lib\\site-packages\\botorch\\optim\\fit.py:102: OptimizationWarning: `scipy_minimize` terminated with status OptimizationStatus.FAILURE, displaying original message from `scipy.optimize.minimize`: ABNORMAL_TERMINATION_IN_LNSRCH\n",
      "  warn(\n",
      "c:\\Users\\stan\\miniconda3\\envs\\researchTP\\Lib\\site-packages\\botorch\\optim\\fit.py:102: OptimizationWarning: `scipy_minimize` terminated with status OptimizationStatus.FAILURE, displaying original message from `scipy.optimize.minimize`: ABNORMAL_TERMINATION_IN_LNSRCH\n",
      "  warn(\n",
      "c:\\Users\\stan\\miniconda3\\envs\\researchTP\\Lib\\site-packages\\botorch\\optim\\fit.py:102: OptimizationWarning: `scipy_minimize` terminated with status OptimizationStatus.FAILURE, displaying original message from `scipy.optimize.minimize`: ABNORMAL_TERMINATION_IN_LNSRCH\n",
      "  warn(\n",
      "c:\\Users\\stan\\miniconda3\\envs\\researchTP\\Lib\\site-packages\\botorch\\optim\\fit.py:102: OptimizationWarning: `scipy_minimize` terminated with status OptimizationStatus.FAILURE, displaying original message from `scipy.optimize.minimize`: ABNORMAL_TERMINATION_IN_LNSRCH\n",
      "  warn(\n",
      "c:\\Users\\stan\\miniconda3\\envs\\researchTP\\Lib\\site-packages\\botorch\\optim\\fit.py:102: OptimizationWarning: `scipy_minimize` terminated with status OptimizationStatus.FAILURE, displaying original message from `scipy.optimize.minimize`: ABNORMAL_TERMINATION_IN_LNSRCH\n",
      "  warn(\n",
      "c:\\Users\\stan\\miniconda3\\envs\\researchTP\\Lib\\site-packages\\botorch\\optim\\fit.py:102: OptimizationWarning: `scipy_minimize` terminated with status OptimizationStatus.FAILURE, displaying original message from `scipy.optimize.minimize`: ABNORMAL_TERMINATION_IN_LNSRCH\n",
      "  warn(\n",
      "c:\\Users\\stan\\miniconda3\\envs\\researchTP\\Lib\\site-packages\\botorch\\optim\\fit.py:102: OptimizationWarning: `scipy_minimize` terminated with status OptimizationStatus.FAILURE, displaying original message from `scipy.optimize.minimize`: ABNORMAL_TERMINATION_IN_LNSRCH\n",
      "  warn(\n",
      "c:\\Users\\stan\\miniconda3\\envs\\researchTP\\Lib\\site-packages\\botorch\\optim\\fit.py:102: OptimizationWarning: `scipy_minimize` terminated with status OptimizationStatus.FAILURE, displaying original message from `scipy.optimize.minimize`: ABNORMAL_TERMINATION_IN_LNSRCH\n",
      "  warn(\n",
      "c:\\Users\\stan\\miniconda3\\envs\\researchTP\\Lib\\site-packages\\botorch\\optim\\fit.py:102: OptimizationWarning: `scipy_minimize` terminated with status OptimizationStatus.FAILURE, displaying original message from `scipy.optimize.minimize`: ABNORMAL_TERMINATION_IN_LNSRCH\n",
      "  warn(\n",
      "  6%|▌         | 3/50 [01:03<16:28, 21.03s/it]"
     ]
    },
    {
     "name": "stdout",
     "output_type": "stream",
     "text": [
      "Iterations 134\n",
      "Minimizing with EGP\n",
      "Seed: 759\n",
      "Initial points: tensor([[0.2300, 0.6600, 0.1100],\n",
      "        [0.2500, 0.7000, 0.0600],\n",
      "        [0.2800, 0.3700, 0.3500],\n",
      "        [0.6800, 0.1300, 0.1900],\n",
      "        [0.2700, 0.3400, 0.4000]])\n"
     ]
    },
    {
     "name": "stderr",
     "output_type": "stream",
     "text": [
      "c:\\Users\\stan\\miniconda3\\envs\\researchTP\\Lib\\site-packages\\botorch\\optim\\fit.py:102: OptimizationWarning: `scipy_minimize` terminated with status OptimizationStatus.FAILURE, displaying original message from `scipy.optimize.minimize`: ABNORMAL_TERMINATION_IN_LNSRCH\n",
      "  warn(\n",
      "c:\\Users\\stan\\miniconda3\\envs\\researchTP\\Lib\\site-packages\\botorch\\optim\\fit.py:102: OptimizationWarning: `scipy_minimize` terminated with status OptimizationStatus.FAILURE, displaying original message from `scipy.optimize.minimize`: ABNORMAL_TERMINATION_IN_LNSRCH\n",
      "  warn(\n",
      "c:\\Users\\stan\\miniconda3\\envs\\researchTP\\Lib\\site-packages\\botorch\\optim\\fit.py:102: OptimizationWarning: `scipy_minimize` terminated with status OptimizationStatus.FAILURE, displaying original message from `scipy.optimize.minimize`: ABNORMAL_TERMINATION_IN_LNSRCH\n",
      "  warn(\n",
      "c:\\Users\\stan\\miniconda3\\envs\\researchTP\\Lib\\site-packages\\botorch\\optim\\fit.py:102: OptimizationWarning: `scipy_minimize` terminated with status OptimizationStatus.FAILURE, displaying original message from `scipy.optimize.minimize`: ABNORMAL_TERMINATION_IN_LNSRCH\n",
      "  warn(\n",
      "c:\\Users\\stan\\miniconda3\\envs\\researchTP\\Lib\\site-packages\\botorch\\optim\\fit.py:102: OptimizationWarning: `scipy_minimize` terminated with status OptimizationStatus.FAILURE, displaying original message from `scipy.optimize.minimize`: ABNORMAL_TERMINATION_IN_LNSRCH\n",
      "  warn(\n",
      "c:\\Users\\stan\\miniconda3\\envs\\researchTP\\Lib\\site-packages\\botorch\\optim\\fit.py:102: OptimizationWarning: `scipy_minimize` terminated with status OptimizationStatus.FAILURE, displaying original message from `scipy.optimize.minimize`: ABNORMAL_TERMINATION_IN_LNSRCH\n",
      "  warn(\n",
      "c:\\Users\\stan\\miniconda3\\envs\\researchTP\\Lib\\site-packages\\botorch\\optim\\fit.py:102: OptimizationWarning: `scipy_minimize` terminated with status OptimizationStatus.FAILURE, displaying original message from `scipy.optimize.minimize`: ABNORMAL_TERMINATION_IN_LNSRCH\n",
      "  warn(\n",
      "c:\\Users\\stan\\miniconda3\\envs\\researchTP\\Lib\\site-packages\\botorch\\optim\\fit.py:102: OptimizationWarning: `scipy_minimize` terminated with status OptimizationStatus.FAILURE, displaying original message from `scipy.optimize.minimize`: ABNORMAL_TERMINATION_IN_LNSRCH\n",
      "  warn(\n",
      "c:\\Users\\stan\\miniconda3\\envs\\researchTP\\Lib\\site-packages\\botorch\\optim\\fit.py:102: OptimizationWarning: `scipy_minimize` terminated with status OptimizationStatus.FAILURE, displaying original message from `scipy.optimize.minimize`: ABNORMAL_TERMINATION_IN_LNSRCH\n",
      "  warn(\n",
      "c:\\Users\\stan\\miniconda3\\envs\\researchTP\\Lib\\site-packages\\botorch\\optim\\fit.py:102: OptimizationWarning: `scipy_minimize` terminated with status OptimizationStatus.FAILURE, displaying original message from `scipy.optimize.minimize`: ABNORMAL_TERMINATION_IN_LNSRCH\n",
      "  warn(\n",
      "  8%|▊         | 4/50 [01:24<16:18, 21.27s/it]"
     ]
    },
    {
     "name": "stdout",
     "output_type": "stream",
     "text": [
      "Iterations 134\n",
      "Minimizing with EGP\n",
      "Seed: 281\n",
      "Initial points: tensor([[0.3000, 0.6900, 0.0100],\n",
      "        [0.8100, 0.0000, 0.1900],\n",
      "        [0.1300, 0.8700, 0.0000],\n",
      "        [0.3500, 0.6500, 0.0000],\n",
      "        [0.3700, 0.6300, 0.0000]])\n"
     ]
    },
    {
     "name": "stderr",
     "output_type": "stream",
     "text": [
      "c:\\Users\\stan\\miniconda3\\envs\\researchTP\\Lib\\site-packages\\linear_operator\\utils\\cholesky.py:40: NumericalWarning: A not p.d., added jitter of 1.0e-06 to the diagonal\n",
      "  warnings.warn(\n",
      "c:\\Users\\stan\\miniconda3\\envs\\researchTP\\Lib\\site-packages\\linear_operator\\utils\\cholesky.py:40: NumericalWarning: A not p.d., added jitter of 1.0e-05 to the diagonal\n",
      "  warnings.warn(\n",
      "c:\\Users\\stan\\miniconda3\\envs\\researchTP\\Lib\\site-packages\\linear_operator\\utils\\cholesky.py:40: NumericalWarning: A not p.d., added jitter of 1.0e-04 to the diagonal\n",
      "  warnings.warn(\n",
      "c:\\Users\\stan\\miniconda3\\envs\\researchTP\\Lib\\site-packages\\linear_operator\\utils\\cholesky.py:40: NumericalWarning: A not p.d., added jitter of 1.0e-03 to the diagonal\n",
      "  warnings.warn(\n",
      "c:\\Users\\stan\\miniconda3\\envs\\researchTP\\Lib\\site-packages\\linear_operator\\utils\\cholesky.py:40: NumericalWarning: A not p.d., added jitter of 1.0e-02 to the diagonal\n",
      "  warnings.warn(\n",
      "c:\\Users\\stan\\miniconda3\\envs\\researchTP\\Lib\\site-packages\\botorch\\optim\\fit.py:102: OptimizationWarning: `scipy_minimize` terminated with status OptimizationStatus.FAILURE, displaying original message from `scipy.optimize.minimize`: ABNORMAL_TERMINATION_IN_LNSRCH\n",
      "  warn(\n",
      "c:\\Users\\stan\\miniconda3\\envs\\researchTP\\Lib\\site-packages\\botorch\\optim\\fit.py:102: OptimizationWarning: `scipy_minimize` terminated with status OptimizationStatus.FAILURE, displaying original message from `scipy.optimize.minimize`: ABNORMAL_TERMINATION_IN_LNSRCH\n",
      "  warn(\n",
      "c:\\Users\\stan\\miniconda3\\envs\\researchTP\\Lib\\site-packages\\botorch\\optim\\fit.py:102: OptimizationWarning: `scipy_minimize` terminated with status OptimizationStatus.FAILURE, displaying original message from `scipy.optimize.minimize`: ABNORMAL_TERMINATION_IN_LNSRCH\n",
      "  warn(\n",
      "c:\\Users\\stan\\miniconda3\\envs\\researchTP\\Lib\\site-packages\\botorch\\optim\\fit.py:102: OptimizationWarning: `scipy_minimize` terminated with status OptimizationStatus.FAILURE, displaying original message from `scipy.optimize.minimize`: ABNORMAL_TERMINATION_IN_LNSRCH\n",
      "  warn(\n",
      "c:\\Users\\stan\\miniconda3\\envs\\researchTP\\Lib\\site-packages\\botorch\\optim\\fit.py:102: OptimizationWarning: `scipy_minimize` terminated with status OptimizationStatus.FAILURE, displaying original message from `scipy.optimize.minimize`: ABNORMAL_TERMINATION_IN_LNSRCH\n",
      "  warn(\n",
      "c:\\Users\\stan\\miniconda3\\envs\\researchTP\\Lib\\site-packages\\botorch\\optim\\fit.py:102: OptimizationWarning: `scipy_minimize` terminated with status OptimizationStatus.FAILURE, displaying original message from `scipy.optimize.minimize`: ABNORMAL_TERMINATION_IN_LNSRCH\n",
      "  warn(\n",
      "c:\\Users\\stan\\miniconda3\\envs\\researchTP\\Lib\\site-packages\\botorch\\optim\\fit.py:102: OptimizationWarning: `scipy_minimize` terminated with status OptimizationStatus.FAILURE, displaying original message from `scipy.optimize.minimize`: ABNORMAL_TERMINATION_IN_LNSRCH\n",
      "  warn(\n",
      "c:\\Users\\stan\\miniconda3\\envs\\researchTP\\Lib\\site-packages\\botorch\\optim\\fit.py:102: OptimizationWarning: `scipy_minimize` terminated with status OptimizationStatus.FAILURE, displaying original message from `scipy.optimize.minimize`: ABNORMAL_TERMINATION_IN_LNSRCH\n",
      "  warn(\n",
      "c:\\Users\\stan\\miniconda3\\envs\\researchTP\\Lib\\site-packages\\botorch\\optim\\fit.py:102: OptimizationWarning: `scipy_minimize` terminated with status OptimizationStatus.FAILURE, displaying original message from `scipy.optimize.minimize`: ABNORMAL_TERMINATION_IN_LNSRCH\n",
      "  warn(\n",
      "c:\\Users\\stan\\miniconda3\\envs\\researchTP\\Lib\\site-packages\\botorch\\optim\\fit.py:102: OptimizationWarning: `scipy_minimize` terminated with status OptimizationStatus.FAILURE, displaying original message from `scipy.optimize.minimize`: ABNORMAL_TERMINATION_IN_LNSRCH\n",
      "  warn(\n",
      "c:\\Users\\stan\\miniconda3\\envs\\researchTP\\Lib\\site-packages\\botorch\\optim\\fit.py:102: OptimizationWarning: `scipy_minimize` terminated with status OptimizationStatus.FAILURE, displaying original message from `scipy.optimize.minimize`: ABNORMAL_TERMINATION_IN_LNSRCH\n",
      "  warn(\n",
      " 10%|█         | 5/50 [01:46<15:58, 21.29s/it]"
     ]
    },
    {
     "name": "stdout",
     "output_type": "stream",
     "text": [
      "Iterations 134\n",
      "Minimizing with EGP\n",
      "Seed: 250\n",
      "Initial points: tensor([[0.4400, 0.5500, 0.0100],\n",
      "        [0.2500, 0.7000, 0.0600],\n",
      "        [0.7100, 0.0100, 0.2800],\n",
      "        [0.0000, 0.0000, 1.0000],\n",
      "        [0.2300, 0.6600, 0.1100]])\n"
     ]
    },
    {
     "name": "stderr",
     "output_type": "stream",
     "text": [
      "c:\\Users\\stan\\miniconda3\\envs\\researchTP\\Lib\\site-packages\\botorch\\optim\\fit.py:102: OptimizationWarning: `scipy_minimize` terminated with status OptimizationStatus.FAILURE, displaying original message from `scipy.optimize.minimize`: ABNORMAL_TERMINATION_IN_LNSRCH\n",
      "  warn(\n",
      "c:\\Users\\stan\\miniconda3\\envs\\researchTP\\Lib\\site-packages\\botorch\\optim\\fit.py:102: OptimizationWarning: `scipy_minimize` terminated with status OptimizationStatus.FAILURE, displaying original message from `scipy.optimize.minimize`: ABNORMAL_TERMINATION_IN_LNSRCH\n",
      "  warn(\n",
      "c:\\Users\\stan\\miniconda3\\envs\\researchTP\\Lib\\site-packages\\botorch\\optim\\fit.py:102: OptimizationWarning: `scipy_minimize` terminated with status OptimizationStatus.FAILURE, displaying original message from `scipy.optimize.minimize`: ABNORMAL_TERMINATION_IN_LNSRCH\n",
      "  warn(\n",
      "c:\\Users\\stan\\miniconda3\\envs\\researchTP\\Lib\\site-packages\\botorch\\optim\\fit.py:102: OptimizationWarning: `scipy_minimize` terminated with status OptimizationStatus.FAILURE, displaying original message from `scipy.optimize.minimize`: ABNORMAL_TERMINATION_IN_LNSRCH\n",
      "  warn(\n",
      "c:\\Users\\stan\\miniconda3\\envs\\researchTP\\Lib\\site-packages\\botorch\\optim\\fit.py:102: OptimizationWarning: `scipy_minimize` terminated with status OptimizationStatus.FAILURE, displaying original message from `scipy.optimize.minimize`: ABNORMAL_TERMINATION_IN_LNSRCH\n",
      "  warn(\n",
      "c:\\Users\\stan\\miniconda3\\envs\\researchTP\\Lib\\site-packages\\botorch\\optim\\fit.py:102: OptimizationWarning: `scipy_minimize` terminated with status OptimizationStatus.FAILURE, displaying original message from `scipy.optimize.minimize`: ABNORMAL_TERMINATION_IN_LNSRCH\n",
      "  warn(\n",
      "c:\\Users\\stan\\miniconda3\\envs\\researchTP\\Lib\\site-packages\\botorch\\optim\\fit.py:102: OptimizationWarning: `scipy_minimize` terminated with status OptimizationStatus.FAILURE, displaying original message from `scipy.optimize.minimize`: ABNORMAL_TERMINATION_IN_LNSRCH\n",
      "  warn(\n",
      " 12%|█▏        | 6/50 [02:07<15:40, 21.38s/it]"
     ]
    },
    {
     "name": "stdout",
     "output_type": "stream",
     "text": [
      "Iterations 134\n",
      "Minimizing with EGP\n",
      "Seed: 228\n",
      "Initial points: tensor([[0.1300, 0.7900, 0.0800],\n",
      "        [0.4400, 0.5500, 0.0100],\n",
      "        [0.1800, 0.7600, 0.0600],\n",
      "        [0.4100, 0.5800, 0.0100],\n",
      "        [0.1900, 0.7000, 0.1100]])\n"
     ]
    },
    {
     "name": "stderr",
     "output_type": "stream",
     "text": [
      "c:\\Users\\stan\\miniconda3\\envs\\researchTP\\Lib\\site-packages\\botorch\\optim\\fit.py:102: OptimizationWarning: `scipy_minimize` terminated with status OptimizationStatus.FAILURE, displaying original message from `scipy.optimize.minimize`: ABNORMAL_TERMINATION_IN_LNSRCH\n",
      "  warn(\n",
      "c:\\Users\\stan\\miniconda3\\envs\\researchTP\\Lib\\site-packages\\botorch\\optim\\fit.py:102: OptimizationWarning: `scipy_minimize` terminated with status OptimizationStatus.FAILURE, displaying original message from `scipy.optimize.minimize`: ABNORMAL_TERMINATION_IN_LNSRCH\n",
      "  warn(\n",
      "c:\\Users\\stan\\miniconda3\\envs\\researchTP\\Lib\\site-packages\\botorch\\optim\\fit.py:102: OptimizationWarning: `scipy_minimize` terminated with status OptimizationStatus.FAILURE, displaying original message from `scipy.optimize.minimize`: ABNORMAL_TERMINATION_IN_LNSRCH\n",
      "  warn(\n",
      "c:\\Users\\stan\\miniconda3\\envs\\researchTP\\Lib\\site-packages\\botorch\\optim\\fit.py:102: OptimizationWarning: `scipy_minimize` terminated with status OptimizationStatus.FAILURE, displaying original message from `scipy.optimize.minimize`: ABNORMAL_TERMINATION_IN_LNSRCH\n",
      "  warn(\n",
      "c:\\Users\\stan\\miniconda3\\envs\\researchTP\\Lib\\site-packages\\botorch\\optim\\fit.py:102: OptimizationWarning: `scipy_minimize` terminated with status OptimizationStatus.FAILURE, displaying original message from `scipy.optimize.minimize`: ABNORMAL_TERMINATION_IN_LNSRCH\n",
      "  warn(\n",
      "c:\\Users\\stan\\miniconda3\\envs\\researchTP\\Lib\\site-packages\\botorch\\optim\\fit.py:102: OptimizationWarning: `scipy_minimize` terminated with status OptimizationStatus.FAILURE, displaying original message from `scipy.optimize.minimize`: ABNORMAL_TERMINATION_IN_LNSRCH\n",
      "  warn(\n",
      "c:\\Users\\stan\\miniconda3\\envs\\researchTP\\Lib\\site-packages\\botorch\\optim\\fit.py:102: OptimizationWarning: `scipy_minimize` terminated with status OptimizationStatus.FAILURE, displaying original message from `scipy.optimize.minimize`: ABNORMAL_TERMINATION_IN_LNSRCH\n",
      "  warn(\n",
      "c:\\Users\\stan\\miniconda3\\envs\\researchTP\\Lib\\site-packages\\botorch\\optim\\fit.py:102: OptimizationWarning: `scipy_minimize` terminated with status OptimizationStatus.FAILURE, displaying original message from `scipy.optimize.minimize`: ABNORMAL_TERMINATION_IN_LNSRCH\n",
      "  warn(\n",
      "c:\\Users\\stan\\miniconda3\\envs\\researchTP\\Lib\\site-packages\\botorch\\optim\\fit.py:102: OptimizationWarning: `scipy_minimize` terminated with status OptimizationStatus.FAILURE, displaying original message from `scipy.optimize.minimize`: ABNORMAL_TERMINATION_IN_LNSRCH\n",
      "  warn(\n",
      "c:\\Users\\stan\\miniconda3\\envs\\researchTP\\Lib\\site-packages\\botorch\\optim\\fit.py:102: OptimizationWarning: `scipy_minimize` terminated with status OptimizationStatus.FAILURE, displaying original message from `scipy.optimize.minimize`: ABNORMAL_TERMINATION_IN_LNSRCH\n",
      "  warn(\n",
      "c:\\Users\\stan\\miniconda3\\envs\\researchTP\\Lib\\site-packages\\botorch\\optim\\fit.py:102: OptimizationWarning: `scipy_minimize` terminated with status OptimizationStatus.FAILURE, displaying original message from `scipy.optimize.minimize`: ABNORMAL_TERMINATION_IN_LNSRCH\n",
      "  warn(\n",
      "c:\\Users\\stan\\miniconda3\\envs\\researchTP\\Lib\\site-packages\\linear_operator\\utils\\cholesky.py:40: NumericalWarning: A not p.d., added jitter of 1.0e-06 to the diagonal\n",
      "  warnings.warn(\n",
      "c:\\Users\\stan\\miniconda3\\envs\\researchTP\\Lib\\site-packages\\linear_operator\\utils\\cholesky.py:40: NumericalWarning: A not p.d., added jitter of 1.0e-05 to the diagonal\n",
      "  warnings.warn(\n",
      "c:\\Users\\stan\\miniconda3\\envs\\researchTP\\Lib\\site-packages\\linear_operator\\utils\\cholesky.py:40: NumericalWarning: A not p.d., added jitter of 1.0e-04 to the diagonal\n",
      "  warnings.warn(\n",
      "c:\\Users\\stan\\miniconda3\\envs\\researchTP\\Lib\\site-packages\\linear_operator\\utils\\cholesky.py:40: NumericalWarning: A not p.d., added jitter of 1.0e-03 to the diagonal\n",
      "  warnings.warn(\n",
      "c:\\Users\\stan\\miniconda3\\envs\\researchTP\\Lib\\site-packages\\linear_operator\\utils\\cholesky.py:40: NumericalWarning: A not p.d., added jitter of 1.0e-02 to the diagonal\n",
      "  warnings.warn(\n",
      "c:\\Users\\stan\\miniconda3\\envs\\researchTP\\Lib\\site-packages\\botorch\\optim\\fit.py:102: OptimizationWarning: `scipy_minimize` terminated with status OptimizationStatus.FAILURE, displaying original message from `scipy.optimize.minimize`: ABNORMAL_TERMINATION_IN_LNSRCH\n",
      "  warn(\n",
      "c:\\Users\\stan\\miniconda3\\envs\\researchTP\\Lib\\site-packages\\botorch\\optim\\fit.py:102: OptimizationWarning: `scipy_minimize` terminated with status OptimizationStatus.FAILURE, displaying original message from `scipy.optimize.minimize`: ABNORMAL_TERMINATION_IN_LNSRCH\n",
      "  warn(\n",
      "c:\\Users\\stan\\miniconda3\\envs\\researchTP\\Lib\\site-packages\\botorch\\optim\\fit.py:102: OptimizationWarning: `scipy_minimize` terminated with status OptimizationStatus.FAILURE, displaying original message from `scipy.optimize.minimize`: ABNORMAL_TERMINATION_IN_LNSRCH\n",
      "  warn(\n",
      "c:\\Users\\stan\\miniconda3\\envs\\researchTP\\Lib\\site-packages\\botorch\\optim\\fit.py:102: OptimizationWarning: `scipy_minimize` terminated with status OptimizationStatus.FAILURE, displaying original message from `scipy.optimize.minimize`: ABNORMAL_TERMINATION_IN_LNSRCH\n",
      "  warn(\n",
      "c:\\Users\\stan\\miniconda3\\envs\\researchTP\\Lib\\site-packages\\botorch\\optim\\fit.py:102: OptimizationWarning: `scipy_minimize` terminated with status OptimizationStatus.FAILURE, displaying original message from `scipy.optimize.minimize`: ABNORMAL_TERMINATION_IN_LNSRCH\n",
      "  warn(\n",
      "c:\\Users\\stan\\miniconda3\\envs\\researchTP\\Lib\\site-packages\\botorch\\optim\\fit.py:102: OptimizationWarning: `scipy_minimize` terminated with status OptimizationStatus.FAILURE, displaying original message from `scipy.optimize.minimize`: ABNORMAL_TERMINATION_IN_LNSRCH\n",
      "  warn(\n",
      "c:\\Users\\stan\\miniconda3\\envs\\researchTP\\Lib\\site-packages\\botorch\\optim\\fit.py:102: OptimizationWarning: `scipy_minimize` terminated with status OptimizationStatus.FAILURE, displaying original message from `scipy.optimize.minimize`: ABNORMAL_TERMINATION_IN_LNSRCH\n",
      "  warn(\n",
      "c:\\Users\\stan\\miniconda3\\envs\\researchTP\\Lib\\site-packages\\botorch\\optim\\fit.py:102: OptimizationWarning: `scipy_minimize` terminated with status OptimizationStatus.FAILURE, displaying original message from `scipy.optimize.minimize`: ABNORMAL_TERMINATION_IN_LNSRCH\n",
      "  warn(\n",
      "c:\\Users\\stan\\miniconda3\\envs\\researchTP\\Lib\\site-packages\\botorch\\optim\\fit.py:102: OptimizationWarning: `scipy_minimize` terminated with status OptimizationStatus.FAILURE, displaying original message from `scipy.optimize.minimize`: ABNORMAL_TERMINATION_IN_LNSRCH\n",
      "  warn(\n",
      "c:\\Users\\stan\\miniconda3\\envs\\researchTP\\Lib\\site-packages\\botorch\\optim\\fit.py:102: OptimizationWarning: `scipy_minimize` terminated with status OptimizationStatus.FAILURE, displaying original message from `scipy.optimize.minimize`: ABNORMAL_TERMINATION_IN_LNSRCH\n",
      "  warn(\n",
      " 14%|█▍        | 7/50 [02:30<15:39, 21.85s/it]"
     ]
    },
    {
     "name": "stdout",
     "output_type": "stream",
     "text": [
      "Iterations 134\n",
      "Minimizing with EGP\n",
      "Seed: 142\n",
      "Initial points: tensor([[0.1600, 0.8400, 0.0000],\n",
      "        [0.3900, 0.6100, 0.0000],\n",
      "        [0.1300, 0.8500, 0.0200],\n",
      "        [0.3500, 0.6500, 0.0000],\n",
      "        [0.3800, 0.6200, 0.0000]])\n"
     ]
    },
    {
     "name": "stderr",
     "output_type": "stream",
     "text": [
      "c:\\Users\\stan\\miniconda3\\envs\\researchTP\\Lib\\site-packages\\botorch\\optim\\fit.py:102: OptimizationWarning: `scipy_minimize` terminated with status OptimizationStatus.FAILURE, displaying original message from `scipy.optimize.minimize`: ABNORMAL_TERMINATION_IN_LNSRCH\n",
      "  warn(\n",
      "c:\\Users\\stan\\miniconda3\\envs\\researchTP\\Lib\\site-packages\\botorch\\optim\\fit.py:102: OptimizationWarning: `scipy_minimize` terminated with status OptimizationStatus.FAILURE, displaying original message from `scipy.optimize.minimize`: ABNORMAL_TERMINATION_IN_LNSRCH\n",
      "  warn(\n",
      "c:\\Users\\stan\\miniconda3\\envs\\researchTP\\Lib\\site-packages\\botorch\\optim\\fit.py:102: OptimizationWarning: `scipy_minimize` terminated with status OptimizationStatus.FAILURE, displaying original message from `scipy.optimize.minimize`: ABNORMAL_TERMINATION_IN_LNSRCH\n",
      "  warn(\n",
      "c:\\Users\\stan\\miniconda3\\envs\\researchTP\\Lib\\site-packages\\botorch\\optim\\fit.py:102: OptimizationWarning: `scipy_minimize` terminated with status OptimizationStatus.FAILURE, displaying original message from `scipy.optimize.minimize`: ABNORMAL_TERMINATION_IN_LNSRCH\n",
      "  warn(\n",
      "c:\\Users\\stan\\miniconda3\\envs\\researchTP\\Lib\\site-packages\\botorch\\optim\\fit.py:102: OptimizationWarning: `scipy_minimize` terminated with status OptimizationStatus.FAILURE, displaying original message from `scipy.optimize.minimize`: ABNORMAL_TERMINATION_IN_LNSRCH\n",
      "  warn(\n",
      "c:\\Users\\stan\\miniconda3\\envs\\researchTP\\Lib\\site-packages\\botorch\\optim\\fit.py:102: OptimizationWarning: `scipy_minimize` terminated with status OptimizationStatus.FAILURE, displaying original message from `scipy.optimize.minimize`: ABNORMAL_TERMINATION_IN_LNSRCH\n",
      "  warn(\n",
      "c:\\Users\\stan\\miniconda3\\envs\\researchTP\\Lib\\site-packages\\botorch\\optim\\fit.py:102: OptimizationWarning: `scipy_minimize` terminated with status OptimizationStatus.FAILURE, displaying original message from `scipy.optimize.minimize`: ABNORMAL_TERMINATION_IN_LNSRCH\n",
      "  warn(\n",
      "c:\\Users\\stan\\miniconda3\\envs\\researchTP\\Lib\\site-packages\\botorch\\optim\\fit.py:102: OptimizationWarning: `scipy_minimize` terminated with status OptimizationStatus.FAILURE, displaying original message from `scipy.optimize.minimize`: ABNORMAL_TERMINATION_IN_LNSRCH\n",
      "  warn(\n",
      "c:\\Users\\stan\\miniconda3\\envs\\researchTP\\Lib\\site-packages\\botorch\\optim\\fit.py:102: OptimizationWarning: `scipy_minimize` terminated with status OptimizationStatus.FAILURE, displaying original message from `scipy.optimize.minimize`: ABNORMAL_TERMINATION_IN_LNSRCH\n",
      "  warn(\n",
      "c:\\Users\\stan\\miniconda3\\envs\\researchTP\\Lib\\site-packages\\botorch\\optim\\fit.py:102: OptimizationWarning: `scipy_minimize` terminated with status OptimizationStatus.FAILURE, displaying original message from `scipy.optimize.minimize`: ABNORMAL_TERMINATION_IN_LNSRCH\n",
      "  warn(\n",
      "c:\\Users\\stan\\miniconda3\\envs\\researchTP\\Lib\\site-packages\\botorch\\optim\\fit.py:102: OptimizationWarning: `scipy_minimize` terminated with status OptimizationStatus.FAILURE, displaying original message from `scipy.optimize.minimize`: ABNORMAL_TERMINATION_IN_LNSRCH\n",
      "  warn(\n",
      " 16%|█▌        | 8/50 [02:53<15:32, 22.21s/it]"
     ]
    },
    {
     "name": "stdout",
     "output_type": "stream",
     "text": [
      "Iterations 134\n",
      "Minimizing with EGP\n",
      "Seed: 754\n",
      "Initial points: tensor([[0.2000, 0.8000, 0.0000],\n",
      "        [0.0500, 0.7885, 0.1615],\n",
      "        [0.1300, 0.7900, 0.0800],\n",
      "        [0.6800, 0.1300, 0.1900],\n",
      "        [0.2700, 0.7200, 0.0100]])\n"
     ]
    },
    {
     "name": "stderr",
     "output_type": "stream",
     "text": [
      "c:\\Users\\stan\\miniconda3\\envs\\researchTP\\Lib\\site-packages\\botorch\\optim\\fit.py:102: OptimizationWarning: `scipy_minimize` terminated with status OptimizationStatus.FAILURE, displaying original message from `scipy.optimize.minimize`: ABNORMAL_TERMINATION_IN_LNSRCH\n",
      "  warn(\n",
      "c:\\Users\\stan\\miniconda3\\envs\\researchTP\\Lib\\site-packages\\botorch\\optim\\fit.py:102: OptimizationWarning: `scipy_minimize` terminated with status OptimizationStatus.FAILURE, displaying original message from `scipy.optimize.minimize`: ABNORMAL_TERMINATION_IN_LNSRCH\n",
      "  warn(\n",
      "c:\\Users\\stan\\miniconda3\\envs\\researchTP\\Lib\\site-packages\\botorch\\optim\\fit.py:102: OptimizationWarning: `scipy_minimize` terminated with status OptimizationStatus.FAILURE, displaying original message from `scipy.optimize.minimize`: ABNORMAL_TERMINATION_IN_LNSRCH\n",
      "  warn(\n",
      "c:\\Users\\stan\\miniconda3\\envs\\researchTP\\Lib\\site-packages\\botorch\\optim\\fit.py:102: OptimizationWarning: `scipy_minimize` terminated with status OptimizationStatus.FAILURE, displaying original message from `scipy.optimize.minimize`: ABNORMAL_TERMINATION_IN_LNSRCH\n",
      "  warn(\n",
      "c:\\Users\\stan\\miniconda3\\envs\\researchTP\\Lib\\site-packages\\botorch\\optim\\fit.py:102: OptimizationWarning: `scipy_minimize` terminated with status OptimizationStatus.FAILURE, displaying original message from `scipy.optimize.minimize`: ABNORMAL_TERMINATION_IN_LNSRCH\n",
      "  warn(\n",
      "c:\\Users\\stan\\miniconda3\\envs\\researchTP\\Lib\\site-packages\\botorch\\optim\\fit.py:102: OptimizationWarning: `scipy_minimize` terminated with status OptimizationStatus.FAILURE, displaying original message from `scipy.optimize.minimize`: ABNORMAL_TERMINATION_IN_LNSRCH\n",
      "  warn(\n",
      "c:\\Users\\stan\\miniconda3\\envs\\researchTP\\Lib\\site-packages\\botorch\\optim\\fit.py:102: OptimizationWarning: `scipy_minimize` terminated with status OptimizationStatus.FAILURE, displaying original message from `scipy.optimize.minimize`: ABNORMAL_TERMINATION_IN_LNSRCH\n",
      "  warn(\n",
      "c:\\Users\\stan\\miniconda3\\envs\\researchTP\\Lib\\site-packages\\botorch\\optim\\fit.py:102: OptimizationWarning: `scipy_minimize` terminated with status OptimizationStatus.FAILURE, displaying original message from `scipy.optimize.minimize`: ABNORMAL_TERMINATION_IN_LNSRCH\n",
      "  warn(\n",
      "c:\\Users\\stan\\miniconda3\\envs\\researchTP\\Lib\\site-packages\\botorch\\optim\\fit.py:102: OptimizationWarning: `scipy_minimize` terminated with status OptimizationStatus.FAILURE, displaying original message from `scipy.optimize.minimize`: ABNORMAL_TERMINATION_IN_LNSRCH\n",
      "  warn(\n",
      "c:\\Users\\stan\\miniconda3\\envs\\researchTP\\Lib\\site-packages\\botorch\\optim\\fit.py:102: OptimizationWarning: `scipy_minimize` terminated with status OptimizationStatus.FAILURE, displaying original message from `scipy.optimize.minimize`: ABNORMAL_TERMINATION_IN_LNSRCH\n",
      "  warn(\n",
      "c:\\Users\\stan\\miniconda3\\envs\\researchTP\\Lib\\site-packages\\botorch\\optim\\fit.py:102: OptimizationWarning: `scipy_minimize` terminated with status OptimizationStatus.FAILURE, displaying original message from `scipy.optimize.minimize`: ABNORMAL_TERMINATION_IN_LNSRCH\n",
      "  warn(\n",
      "c:\\Users\\stan\\miniconda3\\envs\\researchTP\\Lib\\site-packages\\botorch\\optim\\fit.py:102: OptimizationWarning: `scipy_minimize` terminated with status OptimizationStatus.FAILURE, displaying original message from `scipy.optimize.minimize`: ABNORMAL_TERMINATION_IN_LNSRCH\n",
      "  warn(\n",
      "c:\\Users\\stan\\miniconda3\\envs\\researchTP\\Lib\\site-packages\\botorch\\optim\\fit.py:102: OptimizationWarning: `scipy_minimize` terminated with status OptimizationStatus.FAILURE, displaying original message from `scipy.optimize.minimize`: ABNORMAL_TERMINATION_IN_LNSRCH\n",
      "  warn(\n",
      "c:\\Users\\stan\\miniconda3\\envs\\researchTP\\Lib\\site-packages\\botorch\\optim\\fit.py:102: OptimizationWarning: `scipy_minimize` terminated with status OptimizationStatus.FAILURE, displaying original message from `scipy.optimize.minimize`: ABNORMAL_TERMINATION_IN_LNSRCH\n",
      "  warn(\n",
      "c:\\Users\\stan\\miniconda3\\envs\\researchTP\\Lib\\site-packages\\botorch\\optim\\fit.py:102: OptimizationWarning: `scipy_minimize` terminated with status OptimizationStatus.FAILURE, displaying original message from `scipy.optimize.minimize`: ABNORMAL_TERMINATION_IN_LNSRCH\n",
      "  warn(\n",
      "c:\\Users\\stan\\miniconda3\\envs\\researchTP\\Lib\\site-packages\\botorch\\optim\\fit.py:102: OptimizationWarning: `scipy_minimize` terminated with status OptimizationStatus.FAILURE, displaying original message from `scipy.optimize.minimize`: ABNORMAL_TERMINATION_IN_LNSRCH\n",
      "  warn(\n",
      " 18%|█▊        | 9/50 [03:14<14:47, 21.66s/it]"
     ]
    },
    {
     "name": "stdout",
     "output_type": "stream",
     "text": [
      "Iterations 134\n",
      "Minimizing with EGP\n",
      "Seed: 104\n",
      "Initial points: tensor([[0.2500, 0.5000, 0.2500],\n",
      "        [0.1800, 0.7600, 0.0600],\n",
      "        [0.7000, 0.2900, 0.0100],\n",
      "        [0.0900, 0.9100, 0.0000],\n",
      "        [0.1000, 0.9000, 0.0000]])\n"
     ]
    },
    {
     "name": "stderr",
     "output_type": "stream",
     "text": [
      "c:\\Users\\stan\\miniconda3\\envs\\researchTP\\Lib\\site-packages\\linear_operator\\utils\\cholesky.py:40: NumericalWarning: A not p.d., added jitter of 1.0e-06 to the diagonal\n",
      "  warnings.warn(\n",
      "c:\\Users\\stan\\miniconda3\\envs\\researchTP\\Lib\\site-packages\\linear_operator\\utils\\cholesky.py:40: NumericalWarning: A not p.d., added jitter of 1.0e-05 to the diagonal\n",
      "  warnings.warn(\n",
      "c:\\Users\\stan\\miniconda3\\envs\\researchTP\\Lib\\site-packages\\linear_operator\\utils\\cholesky.py:40: NumericalWarning: A not p.d., added jitter of 1.0e-04 to the diagonal\n",
      "  warnings.warn(\n",
      "c:\\Users\\stan\\miniconda3\\envs\\researchTP\\Lib\\site-packages\\linear_operator\\utils\\cholesky.py:40: NumericalWarning: A not p.d., added jitter of 1.0e-03 to the diagonal\n",
      "  warnings.warn(\n",
      "c:\\Users\\stan\\miniconda3\\envs\\researchTP\\Lib\\site-packages\\linear_operator\\utils\\cholesky.py:40: NumericalWarning: A not p.d., added jitter of 1.0e-02 to the diagonal\n",
      "  warnings.warn(\n",
      "c:\\Users\\stan\\miniconda3\\envs\\researchTP\\Lib\\site-packages\\linear_operator\\utils\\cholesky.py:40: NumericalWarning: A not p.d., added jitter of 1.0e-01 to the diagonal\n",
      "  warnings.warn(\n",
      "c:\\Users\\stan\\miniconda3\\envs\\researchTP\\Lib\\site-packages\\gpytorch\\distributions\\multivariate_normal.py:319: NumericalWarning: Negative variance values detected. This is likely due to numerical instabilities. Rounding negative variances up to 1e-06.\n",
      "  warnings.warn(\n",
      "c:\\Users\\stan\\miniconda3\\envs\\researchTP\\Lib\\site-packages\\botorch\\optim\\fit.py:102: OptimizationWarning: `scipy_minimize` terminated with status OptimizationStatus.FAILURE, displaying original message from `scipy.optimize.minimize`: ABNORMAL_TERMINATION_IN_LNSRCH\n",
      "  warn(\n",
      "c:\\Users\\stan\\miniconda3\\envs\\researchTP\\Lib\\site-packages\\botorch\\optim\\fit.py:102: OptimizationWarning: `scipy_minimize` terminated with status OptimizationStatus.FAILURE, displaying original message from `scipy.optimize.minimize`: ABNORMAL_TERMINATION_IN_LNSRCH\n",
      "  warn(\n",
      "c:\\Users\\stan\\miniconda3\\envs\\researchTP\\Lib\\site-packages\\botorch\\optim\\fit.py:102: OptimizationWarning: `scipy_minimize` terminated with status OptimizationStatus.FAILURE, displaying original message from `scipy.optimize.minimize`: ABNORMAL_TERMINATION_IN_LNSRCH\n",
      "  warn(\n",
      "c:\\Users\\stan\\miniconda3\\envs\\researchTP\\Lib\\site-packages\\botorch\\optim\\fit.py:102: OptimizationWarning: `scipy_minimize` terminated with status OptimizationStatus.FAILURE, displaying original message from `scipy.optimize.minimize`: ABNORMAL_TERMINATION_IN_LNSRCH\n",
      "  warn(\n",
      "c:\\Users\\stan\\miniconda3\\envs\\researchTP\\Lib\\site-packages\\botorch\\optim\\fit.py:102: OptimizationWarning: `scipy_minimize` terminated with status OptimizationStatus.FAILURE, displaying original message from `scipy.optimize.minimize`: ABNORMAL_TERMINATION_IN_LNSRCH\n",
      "  warn(\n",
      "c:\\Users\\stan\\miniconda3\\envs\\researchTP\\Lib\\site-packages\\botorch\\optim\\fit.py:102: OptimizationWarning: `scipy_minimize` terminated with status OptimizationStatus.FAILURE, displaying original message from `scipy.optimize.minimize`: ABNORMAL_TERMINATION_IN_LNSRCH\n",
      "  warn(\n",
      " 20%|██        | 10/50 [03:33<13:59, 20.99s/it]"
     ]
    },
    {
     "name": "stdout",
     "output_type": "stream",
     "text": [
      "Iterations 134\n",
      "Minimizing with EGP\n",
      "Seed: 692\n",
      "Initial points: tensor([[0.0000, 0.5000, 0.5000],\n",
      "        [0.2500, 0.7100, 0.0400],\n",
      "        [0.1700, 0.8000, 0.0300],\n",
      "        [0.5000, 0.2500, 0.2500],\n",
      "        [0.1800, 0.7600, 0.0600]])\n"
     ]
    },
    {
     "name": "stderr",
     "output_type": "stream",
     "text": [
      "c:\\Users\\stan\\miniconda3\\envs\\researchTP\\Lib\\site-packages\\botorch\\optim\\fit.py:102: OptimizationWarning: `scipy_minimize` terminated with status OptimizationStatus.FAILURE, displaying original message from `scipy.optimize.minimize`: ABNORMAL_TERMINATION_IN_LNSRCH\n",
      "  warn(\n",
      "c:\\Users\\stan\\miniconda3\\envs\\researchTP\\Lib\\site-packages\\botorch\\optim\\fit.py:102: OptimizationWarning: `scipy_minimize` terminated with status OptimizationStatus.FAILURE, displaying original message from `scipy.optimize.minimize`: ABNORMAL_TERMINATION_IN_LNSRCH\n",
      "  warn(\n",
      "c:\\Users\\stan\\miniconda3\\envs\\researchTP\\Lib\\site-packages\\botorch\\optim\\fit.py:102: OptimizationWarning: `scipy_minimize` terminated with status OptimizationStatus.FAILURE, displaying original message from `scipy.optimize.minimize`: ABNORMAL_TERMINATION_IN_LNSRCH\n",
      "  warn(\n",
      "c:\\Users\\stan\\miniconda3\\envs\\researchTP\\Lib\\site-packages\\botorch\\optim\\fit.py:102: OptimizationWarning: `scipy_minimize` terminated with status OptimizationStatus.FAILURE, displaying original message from `scipy.optimize.minimize`: ABNORMAL_TERMINATION_IN_LNSRCH\n",
      "  warn(\n",
      "c:\\Users\\stan\\miniconda3\\envs\\researchTP\\Lib\\site-packages\\botorch\\optim\\fit.py:102: OptimizationWarning: `scipy_minimize` terminated with status OptimizationStatus.FAILURE, displaying original message from `scipy.optimize.minimize`: ABNORMAL_TERMINATION_IN_LNSRCH\n",
      "  warn(\n",
      "c:\\Users\\stan\\miniconda3\\envs\\researchTP\\Lib\\site-packages\\botorch\\optim\\fit.py:102: OptimizationWarning: `scipy_minimize` terminated with status OptimizationStatus.FAILURE, displaying original message from `scipy.optimize.minimize`: ABNORMAL_TERMINATION_IN_LNSRCH\n",
      "  warn(\n",
      "c:\\Users\\stan\\miniconda3\\envs\\researchTP\\Lib\\site-packages\\botorch\\optim\\fit.py:102: OptimizationWarning: `scipy_minimize` terminated with status OptimizationStatus.FAILURE, displaying original message from `scipy.optimize.minimize`: ABNORMAL_TERMINATION_IN_LNSRCH\n",
      "  warn(\n",
      "c:\\Users\\stan\\miniconda3\\envs\\researchTP\\Lib\\site-packages\\botorch\\optim\\fit.py:102: OptimizationWarning: `scipy_minimize` terminated with status OptimizationStatus.FAILURE, displaying original message from `scipy.optimize.minimize`: ABNORMAL_TERMINATION_IN_LNSRCH\n",
      "  warn(\n",
      "c:\\Users\\stan\\miniconda3\\envs\\researchTP\\Lib\\site-packages\\botorch\\optim\\fit.py:102: OptimizationWarning: `scipy_minimize` terminated with status OptimizationStatus.FAILURE, displaying original message from `scipy.optimize.minimize`: ABNORMAL_TERMINATION_IN_LNSRCH\n",
      "  warn(\n",
      "c:\\Users\\stan\\miniconda3\\envs\\researchTP\\Lib\\site-packages\\botorch\\optim\\fit.py:102: OptimizationWarning: `scipy_minimize` terminated with status OptimizationStatus.FAILURE, displaying original message from `scipy.optimize.minimize`: ABNORMAL_TERMINATION_IN_LNSRCH\n",
      "  warn(\n",
      "c:\\Users\\stan\\miniconda3\\envs\\researchTP\\Lib\\site-packages\\botorch\\optim\\fit.py:102: OptimizationWarning: `scipy_minimize` terminated with status OptimizationStatus.FAILURE, displaying original message from `scipy.optimize.minimize`: ABNORMAL_TERMINATION_IN_LNSRCH\n",
      "  warn(\n",
      "c:\\Users\\stan\\miniconda3\\envs\\researchTP\\Lib\\site-packages\\botorch\\optim\\fit.py:102: OptimizationWarning: `scipy_minimize` terminated with status OptimizationStatus.FAILURE, displaying original message from `scipy.optimize.minimize`: ABNORMAL_TERMINATION_IN_LNSRCH\n",
      "  warn(\n",
      "c:\\Users\\stan\\miniconda3\\envs\\researchTP\\Lib\\site-packages\\botorch\\optim\\fit.py:102: OptimizationWarning: `scipy_minimize` terminated with status OptimizationStatus.FAILURE, displaying original message from `scipy.optimize.minimize`: ABNORMAL_TERMINATION_IN_LNSRCH\n",
      "  warn(\n",
      "c:\\Users\\stan\\miniconda3\\envs\\researchTP\\Lib\\site-packages\\botorch\\optim\\fit.py:102: OptimizationWarning: `scipy_minimize` terminated with status OptimizationStatus.FAILURE, displaying original message from `scipy.optimize.minimize`: ABNORMAL_TERMINATION_IN_LNSRCH\n",
      "  warn(\n",
      "c:\\Users\\stan\\miniconda3\\envs\\researchTP\\Lib\\site-packages\\botorch\\optim\\fit.py:102: OptimizationWarning: `scipy_minimize` terminated with status OptimizationStatus.FAILURE, displaying original message from `scipy.optimize.minimize`: ABNORMAL_TERMINATION_IN_LNSRCH\n",
      "  warn(\n",
      "c:\\Users\\stan\\miniconda3\\envs\\researchTP\\Lib\\site-packages\\botorch\\optim\\fit.py:102: OptimizationWarning: `scipy_minimize` terminated with status OptimizationStatus.FAILURE, displaying original message from `scipy.optimize.minimize`: ABNORMAL_TERMINATION_IN_LNSRCH\n",
      "  warn(\n",
      "c:\\Users\\stan\\miniconda3\\envs\\researchTP\\Lib\\site-packages\\botorch\\optim\\fit.py:102: OptimizationWarning: `scipy_minimize` terminated with status OptimizationStatus.FAILURE, displaying original message from `scipy.optimize.minimize`: ABNORMAL_TERMINATION_IN_LNSRCH\n",
      "  warn(\n",
      "c:\\Users\\stan\\miniconda3\\envs\\researchTP\\Lib\\site-packages\\botorch\\optim\\fit.py:102: OptimizationWarning: `scipy_minimize` terminated with status OptimizationStatus.FAILURE, displaying original message from `scipy.optimize.minimize`: ABNORMAL_TERMINATION_IN_LNSRCH\n",
      "  warn(\n",
      "c:\\Users\\stan\\miniconda3\\envs\\researchTP\\Lib\\site-packages\\botorch\\optim\\fit.py:102: OptimizationWarning: `scipy_minimize` terminated with status OptimizationStatus.FAILURE, displaying original message from `scipy.optimize.minimize`: ABNORMAL_TERMINATION_IN_LNSRCH\n",
      "  warn(\n",
      " 22%|██▏       | 11/50 [03:54<13:36, 20.94s/it]"
     ]
    },
    {
     "name": "stdout",
     "output_type": "stream",
     "text": [
      "Iterations 134\n",
      "Minimizing with EGP\n",
      "Seed: 758\n",
      "Initial points: tensor([[0.5000, 0.0000, 0.5000],\n",
      "        [0.0000, 0.5000, 0.5000],\n",
      "        [0.1000, 0.9000, 0.0000],\n",
      "        [0.3800, 0.6200, 0.0000],\n",
      "        [0.5000, 0.0000, 0.5000]])\n"
     ]
    },
    {
     "name": "stderr",
     "output_type": "stream",
     "text": [
      "c:\\Users\\stan\\miniconda3\\envs\\researchTP\\Lib\\site-packages\\botorch\\optim\\fit.py:102: OptimizationWarning: `scipy_minimize` terminated with status OptimizationStatus.FAILURE, displaying original message from `scipy.optimize.minimize`: ABNORMAL_TERMINATION_IN_LNSRCH\n",
      "  warn(\n",
      "c:\\Users\\stan\\miniconda3\\envs\\researchTP\\Lib\\site-packages\\gpytorch\\distributions\\multivariate_normal.py:319: NumericalWarning: Negative variance values detected. This is likely due to numerical instabilities. Rounding negative variances up to 1e-06.\n",
      "  warnings.warn(\n",
      "c:\\Users\\stan\\miniconda3\\envs\\researchTP\\Lib\\site-packages\\gpytorch\\distributions\\multivariate_normal.py:319: NumericalWarning: Negative variance values detected. This is likely due to numerical instabilities. Rounding negative variances up to 1e-06.\n",
      "  warnings.warn(\n",
      "c:\\Users\\stan\\miniconda3\\envs\\researchTP\\Lib\\site-packages\\botorch\\optim\\fit.py:102: OptimizationWarning: `scipy_minimize` terminated with status OptimizationStatus.FAILURE, displaying original message from `scipy.optimize.minimize`: ABNORMAL_TERMINATION_IN_LNSRCH\n",
      "  warn(\n",
      "c:\\Users\\stan\\miniconda3\\envs\\researchTP\\Lib\\site-packages\\botorch\\optim\\fit.py:102: OptimizationWarning: `scipy_minimize` terminated with status OptimizationStatus.FAILURE, displaying original message from `scipy.optimize.minimize`: ABNORMAL_TERMINATION_IN_LNSRCH\n",
      "  warn(\n",
      "c:\\Users\\stan\\miniconda3\\envs\\researchTP\\Lib\\site-packages\\botorch\\optim\\fit.py:102: OptimizationWarning: `scipy_minimize` terminated with status OptimizationStatus.FAILURE, displaying original message from `scipy.optimize.minimize`: ABNORMAL_TERMINATION_IN_LNSRCH\n",
      "  warn(\n",
      "c:\\Users\\stan\\miniconda3\\envs\\researchTP\\Lib\\site-packages\\botorch\\optim\\fit.py:102: OptimizationWarning: `scipy_minimize` terminated with status OptimizationStatus.FAILURE, displaying original message from `scipy.optimize.minimize`: ABNORMAL_TERMINATION_IN_LNSRCH\n",
      "  warn(\n",
      "c:\\Users\\stan\\miniconda3\\envs\\researchTP\\Lib\\site-packages\\botorch\\optim\\fit.py:102: OptimizationWarning: `scipy_minimize` terminated with status OptimizationStatus.FAILURE, displaying original message from `scipy.optimize.minimize`: ABNORMAL_TERMINATION_IN_LNSRCH\n",
      "  warn(\n",
      "c:\\Users\\stan\\miniconda3\\envs\\researchTP\\Lib\\site-packages\\botorch\\optim\\fit.py:102: OptimizationWarning: `scipy_minimize` terminated with status OptimizationStatus.FAILURE, displaying original message from `scipy.optimize.minimize`: ABNORMAL_TERMINATION_IN_LNSRCH\n",
      "  warn(\n",
      "c:\\Users\\stan\\miniconda3\\envs\\researchTP\\Lib\\site-packages\\botorch\\optim\\fit.py:102: OptimizationWarning: `scipy_minimize` terminated with status OptimizationStatus.FAILURE, displaying original message from `scipy.optimize.minimize`: ABNORMAL_TERMINATION_IN_LNSRCH\n",
      "  warn(\n",
      "c:\\Users\\stan\\miniconda3\\envs\\researchTP\\Lib\\site-packages\\botorch\\optim\\fit.py:102: OptimizationWarning: `scipy_minimize` terminated with status OptimizationStatus.FAILURE, displaying original message from `scipy.optimize.minimize`: ABNORMAL_TERMINATION_IN_LNSRCH\n",
      "  warn(\n",
      "c:\\Users\\stan\\miniconda3\\envs\\researchTP\\Lib\\site-packages\\botorch\\optim\\fit.py:102: OptimizationWarning: `scipy_minimize` terminated with status OptimizationStatus.FAILURE, displaying original message from `scipy.optimize.minimize`: ABNORMAL_TERMINATION_IN_LNSRCH\n",
      "  warn(\n",
      "c:\\Users\\stan\\miniconda3\\envs\\researchTP\\Lib\\site-packages\\botorch\\optim\\fit.py:102: OptimizationWarning: `scipy_minimize` terminated with status OptimizationStatus.FAILURE, displaying original message from `scipy.optimize.minimize`: ABNORMAL_TERMINATION_IN_LNSRCH\n",
      "  warn(\n",
      " 24%|██▍       | 12/50 [04:16<13:30, 21.32s/it]"
     ]
    },
    {
     "name": "stdout",
     "output_type": "stream",
     "text": [
      "Iterations 134\n",
      "Minimizing with EGP\n",
      "Seed: 913\n",
      "Initial points: tensor([[0.2600, 0.3800, 0.3600],\n",
      "        [0.0900, 0.8700, 0.0400],\n",
      "        [0.8100, 0.0000, 0.1900],\n",
      "        [0.5000, 0.0000, 0.5000],\n",
      "        [0.8000, 0.1100, 0.0900]])\n"
     ]
    },
    {
     "name": "stderr",
     "output_type": "stream",
     "text": [
      "c:\\Users\\stan\\miniconda3\\envs\\researchTP\\Lib\\site-packages\\botorch\\optim\\fit.py:102: OptimizationWarning: `scipy_minimize` terminated with status OptimizationStatus.FAILURE, displaying original message from `scipy.optimize.minimize`: ABNORMAL_TERMINATION_IN_LNSRCH\n",
      "  warn(\n",
      "c:\\Users\\stan\\miniconda3\\envs\\researchTP\\Lib\\site-packages\\botorch\\optim\\fit.py:102: OptimizationWarning: `scipy_minimize` terminated with status OptimizationStatus.FAILURE, displaying original message from `scipy.optimize.minimize`: ABNORMAL_TERMINATION_IN_LNSRCH\n",
      "  warn(\n",
      "c:\\Users\\stan\\miniconda3\\envs\\researchTP\\Lib\\site-packages\\botorch\\optim\\fit.py:102: OptimizationWarning: `scipy_minimize` terminated with status OptimizationStatus.FAILURE, displaying original message from `scipy.optimize.minimize`: ABNORMAL_TERMINATION_IN_LNSRCH\n",
      "  warn(\n",
      "c:\\Users\\stan\\miniconda3\\envs\\researchTP\\Lib\\site-packages\\botorch\\optim\\fit.py:102: OptimizationWarning: `scipy_minimize` terminated with status OptimizationStatus.FAILURE, displaying original message from `scipy.optimize.minimize`: ABNORMAL_TERMINATION_IN_LNSRCH\n",
      "  warn(\n",
      "c:\\Users\\stan\\miniconda3\\envs\\researchTP\\Lib\\site-packages\\botorch\\optim\\fit.py:102: OptimizationWarning: `scipy_minimize` terminated with status OptimizationStatus.FAILURE, displaying original message from `scipy.optimize.minimize`: ABNORMAL_TERMINATION_IN_LNSRCH\n",
      "  warn(\n",
      "c:\\Users\\stan\\miniconda3\\envs\\researchTP\\Lib\\site-packages\\botorch\\optim\\fit.py:102: OptimizationWarning: `scipy_minimize` terminated with status OptimizationStatus.FAILURE, displaying original message from `scipy.optimize.minimize`: ABNORMAL_TERMINATION_IN_LNSRCH\n",
      "  warn(\n",
      "c:\\Users\\stan\\miniconda3\\envs\\researchTP\\Lib\\site-packages\\botorch\\optim\\fit.py:102: OptimizationWarning: `scipy_minimize` terminated with status OptimizationStatus.FAILURE, displaying original message from `scipy.optimize.minimize`: ABNORMAL_TERMINATION_IN_LNSRCH\n",
      "  warn(\n",
      "c:\\Users\\stan\\miniconda3\\envs\\researchTP\\Lib\\site-packages\\botorch\\optim\\fit.py:102: OptimizationWarning: `scipy_minimize` terminated with status OptimizationStatus.FAILURE, displaying original message from `scipy.optimize.minimize`: ABNORMAL_TERMINATION_IN_LNSRCH\n",
      "  warn(\n",
      "c:\\Users\\stan\\miniconda3\\envs\\researchTP\\Lib\\site-packages\\botorch\\optim\\fit.py:102: OptimizationWarning: `scipy_minimize` terminated with status OptimizationStatus.FAILURE, displaying original message from `scipy.optimize.minimize`: ABNORMAL_TERMINATION_IN_LNSRCH\n",
      "  warn(\n",
      "c:\\Users\\stan\\miniconda3\\envs\\researchTP\\Lib\\site-packages\\botorch\\optim\\fit.py:102: OptimizationWarning: `scipy_minimize` terminated with status OptimizationStatus.FAILURE, displaying original message from `scipy.optimize.minimize`: ABNORMAL_TERMINATION_IN_LNSRCH\n",
      "  warn(\n",
      "c:\\Users\\stan\\miniconda3\\envs\\researchTP\\Lib\\site-packages\\botorch\\optim\\fit.py:102: OptimizationWarning: `scipy_minimize` terminated with status OptimizationStatus.FAILURE, displaying original message from `scipy.optimize.minimize`: ABNORMAL_TERMINATION_IN_LNSRCH\n",
      "  warn(\n",
      "c:\\Users\\stan\\miniconda3\\envs\\researchTP\\Lib\\site-packages\\botorch\\optim\\fit.py:102: OptimizationWarning: `scipy_minimize` terminated with status OptimizationStatus.FAILURE, displaying original message from `scipy.optimize.minimize`: ABNORMAL_TERMINATION_IN_LNSRCH\n",
      "  warn(\n",
      "c:\\Users\\stan\\miniconda3\\envs\\researchTP\\Lib\\site-packages\\botorch\\optim\\fit.py:102: OptimizationWarning: `scipy_minimize` terminated with status OptimizationStatus.FAILURE, displaying original message from `scipy.optimize.minimize`: ABNORMAL_TERMINATION_IN_LNSRCH\n",
      "  warn(\n",
      "c:\\Users\\stan\\miniconda3\\envs\\researchTP\\Lib\\site-packages\\botorch\\optim\\fit.py:102: OptimizationWarning: `scipy_minimize` terminated with status OptimizationStatus.FAILURE, displaying original message from `scipy.optimize.minimize`: ABNORMAL_TERMINATION_IN_LNSRCH\n",
      "  warn(\n",
      "c:\\Users\\stan\\miniconda3\\envs\\researchTP\\Lib\\site-packages\\botorch\\optim\\fit.py:102: OptimizationWarning: `scipy_minimize` terminated with status OptimizationStatus.FAILURE, displaying original message from `scipy.optimize.minimize`: ABNORMAL_TERMINATION_IN_LNSRCH\n",
      "  warn(\n",
      "c:\\Users\\stan\\miniconda3\\envs\\researchTP\\Lib\\site-packages\\botorch\\optim\\fit.py:102: OptimizationWarning: `scipy_minimize` terminated with status OptimizationStatus.FAILURE, displaying original message from `scipy.optimize.minimize`: ABNORMAL_TERMINATION_IN_LNSRCH\n",
      "  warn(\n",
      "c:\\Users\\stan\\miniconda3\\envs\\researchTP\\Lib\\site-packages\\botorch\\optim\\fit.py:102: OptimizationWarning: `scipy_minimize` terminated with status OptimizationStatus.FAILURE, displaying original message from `scipy.optimize.minimize`: ABNORMAL_TERMINATION_IN_LNSRCH\n",
      "  warn(\n",
      "c:\\Users\\stan\\miniconda3\\envs\\researchTP\\Lib\\site-packages\\botorch\\optim\\fit.py:102: OptimizationWarning: `scipy_minimize` terminated with status OptimizationStatus.FAILURE, displaying original message from `scipy.optimize.minimize`: ABNORMAL_TERMINATION_IN_LNSRCH\n",
      "  warn(\n",
      "c:\\Users\\stan\\miniconda3\\envs\\researchTP\\Lib\\site-packages\\botorch\\optim\\fit.py:102: OptimizationWarning: `scipy_minimize` terminated with status OptimizationStatus.FAILURE, displaying original message from `scipy.optimize.minimize`: ABNORMAL_TERMINATION_IN_LNSRCH\n",
      "  warn(\n",
      " 26%|██▌       | 13/50 [04:39<13:25, 21.77s/it]"
     ]
    },
    {
     "name": "stdout",
     "output_type": "stream",
     "text": [
      "Iterations 134\n",
      "Minimizing with EGP\n",
      "Seed: 558\n",
      "Initial points: tensor([[0.7000, 0.2900, 0.0100],\n",
      "        [0.1700, 0.8000, 0.0300],\n",
      "        [0.1300, 0.7900, 0.0800],\n",
      "        [0.7600, 0.2400, 0.0000],\n",
      "        [0.0500, 0.7885, 0.1615]])\n"
     ]
    },
    {
     "name": "stderr",
     "output_type": "stream",
     "text": [
      "c:\\Users\\stan\\miniconda3\\envs\\researchTP\\Lib\\site-packages\\gpytorch\\distributions\\multivariate_normal.py:319: NumericalWarning: Negative variance values detected. This is likely due to numerical instabilities. Rounding negative variances up to 1e-06.\n",
      "  warnings.warn(\n",
      "c:\\Users\\stan\\miniconda3\\envs\\researchTP\\Lib\\site-packages\\gpytorch\\distributions\\multivariate_normal.py:319: NumericalWarning: Negative variance values detected. This is likely due to numerical instabilities. Rounding negative variances up to 1e-06.\n",
      "  warnings.warn(\n",
      "c:\\Users\\stan\\miniconda3\\envs\\researchTP\\Lib\\site-packages\\botorch\\optim\\fit.py:102: OptimizationWarning: `scipy_minimize` terminated with status OptimizationStatus.FAILURE, displaying original message from `scipy.optimize.minimize`: ABNORMAL_TERMINATION_IN_LNSRCH\n",
      "  warn(\n",
      "c:\\Users\\stan\\miniconda3\\envs\\researchTP\\Lib\\site-packages\\botorch\\optim\\fit.py:102: OptimizationWarning: `scipy_minimize` terminated with status OptimizationStatus.FAILURE, displaying original message from `scipy.optimize.minimize`: ABNORMAL_TERMINATION_IN_LNSRCH\n",
      "  warn(\n",
      "c:\\Users\\stan\\miniconda3\\envs\\researchTP\\Lib\\site-packages\\botorch\\optim\\fit.py:102: OptimizationWarning: `scipy_minimize` terminated with status OptimizationStatus.FAILURE, displaying original message from `scipy.optimize.minimize`: ABNORMAL_TERMINATION_IN_LNSRCH\n",
      "  warn(\n",
      "c:\\Users\\stan\\miniconda3\\envs\\researchTP\\Lib\\site-packages\\botorch\\optim\\fit.py:102: OptimizationWarning: `scipy_minimize` terminated with status OptimizationStatus.FAILURE, displaying original message from `scipy.optimize.minimize`: ABNORMAL_TERMINATION_IN_LNSRCH\n",
      "  warn(\n",
      "c:\\Users\\stan\\miniconda3\\envs\\researchTP\\Lib\\site-packages\\botorch\\optim\\fit.py:102: OptimizationWarning: `scipy_minimize` terminated with status OptimizationStatus.FAILURE, displaying original message from `scipy.optimize.minimize`: ABNORMAL_TERMINATION_IN_LNSRCH\n",
      "  warn(\n",
      "c:\\Users\\stan\\miniconda3\\envs\\researchTP\\Lib\\site-packages\\botorch\\optim\\fit.py:102: OptimizationWarning: `scipy_minimize` terminated with status OptimizationStatus.FAILURE, displaying original message from `scipy.optimize.minimize`: ABNORMAL_TERMINATION_IN_LNSRCH\n",
      "  warn(\n",
      "c:\\Users\\stan\\miniconda3\\envs\\researchTP\\Lib\\site-packages\\botorch\\optim\\fit.py:102: OptimizationWarning: `scipy_minimize` terminated with status OptimizationStatus.FAILURE, displaying original message from `scipy.optimize.minimize`: ABNORMAL_TERMINATION_IN_LNSRCH\n",
      "  warn(\n",
      "c:\\Users\\stan\\miniconda3\\envs\\researchTP\\Lib\\site-packages\\botorch\\optim\\fit.py:102: OptimizationWarning: `scipy_minimize` terminated with status OptimizationStatus.FAILURE, displaying original message from `scipy.optimize.minimize`: ABNORMAL_TERMINATION_IN_LNSRCH\n",
      "  warn(\n",
      " 28%|██▊       | 14/50 [05:00<12:53, 21.49s/it]"
     ]
    },
    {
     "name": "stdout",
     "output_type": "stream",
     "text": [
      "Iterations 134\n",
      "Minimizing with EGP\n",
      "Seed: 89\n",
      "Initial points: tensor([[0.1600, 0.7500, 0.0900],\n",
      "        [0.1300, 0.8700, 0.0000],\n",
      "        [0.0500, 0.7885, 0.1615],\n",
      "        [0.1800, 0.7600, 0.0600],\n",
      "        [1.0000, 0.0000, 0.0000]])\n"
     ]
    },
    {
     "name": "stderr",
     "output_type": "stream",
     "text": [
      "c:\\Users\\stan\\miniconda3\\envs\\researchTP\\Lib\\site-packages\\botorch\\optim\\fit.py:102: OptimizationWarning: `scipy_minimize` terminated with status OptimizationStatus.FAILURE, displaying original message from `scipy.optimize.minimize`: ABNORMAL_TERMINATION_IN_LNSRCH\n",
      "  warn(\n",
      "c:\\Users\\stan\\miniconda3\\envs\\researchTP\\Lib\\site-packages\\botorch\\optim\\fit.py:102: OptimizationWarning: `scipy_minimize` terminated with status OptimizationStatus.FAILURE, displaying original message from `scipy.optimize.minimize`: ABNORMAL_TERMINATION_IN_LNSRCH\n",
      "  warn(\n",
      "c:\\Users\\stan\\miniconda3\\envs\\researchTP\\Lib\\site-packages\\botorch\\optim\\fit.py:102: OptimizationWarning: `scipy_minimize` terminated with status OptimizationStatus.FAILURE, displaying original message from `scipy.optimize.minimize`: ABNORMAL_TERMINATION_IN_LNSRCH\n",
      "  warn(\n",
      "c:\\Users\\stan\\miniconda3\\envs\\researchTP\\Lib\\site-packages\\botorch\\optim\\fit.py:102: OptimizationWarning: `scipy_minimize` terminated with status OptimizationStatus.FAILURE, displaying original message from `scipy.optimize.minimize`: ABNORMAL_TERMINATION_IN_LNSRCH\n",
      "  warn(\n",
      "c:\\Users\\stan\\miniconda3\\envs\\researchTP\\Lib\\site-packages\\botorch\\optim\\fit.py:102: OptimizationWarning: `scipy_minimize` terminated with status OptimizationStatus.FAILURE, displaying original message from `scipy.optimize.minimize`: ABNORMAL_TERMINATION_IN_LNSRCH\n",
      "  warn(\n",
      "c:\\Users\\stan\\miniconda3\\envs\\researchTP\\Lib\\site-packages\\botorch\\optim\\fit.py:102: OptimizationWarning: `scipy_minimize` terminated with status OptimizationStatus.FAILURE, displaying original message from `scipy.optimize.minimize`: ABNORMAL_TERMINATION_IN_LNSRCH\n",
      "  warn(\n",
      "c:\\Users\\stan\\miniconda3\\envs\\researchTP\\Lib\\site-packages\\botorch\\optim\\fit.py:102: OptimizationWarning: `scipy_minimize` terminated with status OptimizationStatus.FAILURE, displaying original message from `scipy.optimize.minimize`: ABNORMAL_TERMINATION_IN_LNSRCH\n",
      "  warn(\n",
      "c:\\Users\\stan\\miniconda3\\envs\\researchTP\\Lib\\site-packages\\botorch\\optim\\fit.py:102: OptimizationWarning: `scipy_minimize` terminated with status OptimizationStatus.FAILURE, displaying original message from `scipy.optimize.minimize`: ABNORMAL_TERMINATION_IN_LNSRCH\n",
      "  warn(\n",
      "c:\\Users\\stan\\miniconda3\\envs\\researchTP\\Lib\\site-packages\\botorch\\optim\\fit.py:102: OptimizationWarning: `scipy_minimize` terminated with status OptimizationStatus.FAILURE, displaying original message from `scipy.optimize.minimize`: ABNORMAL_TERMINATION_IN_LNSRCH\n",
      "  warn(\n",
      "c:\\Users\\stan\\miniconda3\\envs\\researchTP\\Lib\\site-packages\\botorch\\optim\\fit.py:102: OptimizationWarning: `scipy_minimize` terminated with status OptimizationStatus.FAILURE, displaying original message from `scipy.optimize.minimize`: ABNORMAL_TERMINATION_IN_LNSRCH\n",
      "  warn(\n",
      " 30%|███       | 15/50 [05:18<11:58, 20.53s/it]"
     ]
    },
    {
     "name": "stdout",
     "output_type": "stream",
     "text": [
      "Iterations 134\n",
      "Minimizing with EGP\n",
      "Seed: 604\n",
      "Initial points: tensor([[0.0000, 1.0000, 0.0000],\n",
      "        [0.7000, 0.2900, 0.0100],\n",
      "        [0.3900, 0.6100, 0.0000],\n",
      "        [0.2600, 0.7400, 0.0000],\n",
      "        [0.2300, 0.7700, 0.0000]])\n"
     ]
    },
    {
     "name": "stderr",
     "output_type": "stream",
     "text": [
      "c:\\Users\\stan\\miniconda3\\envs\\researchTP\\Lib\\site-packages\\botorch\\optim\\fit.py:102: OptimizationWarning: `scipy_minimize` terminated with status OptimizationStatus.FAILURE, displaying original message from `scipy.optimize.minimize`: ABNORMAL_TERMINATION_IN_LNSRCH\n",
      "  warn(\n",
      "c:\\Users\\stan\\miniconda3\\envs\\researchTP\\Lib\\site-packages\\botorch\\optim\\fit.py:102: OptimizationWarning: `scipy_minimize` terminated with status OptimizationStatus.FAILURE, displaying original message from `scipy.optimize.minimize`: ABNORMAL_TERMINATION_IN_LNSRCH\n",
      "  warn(\n",
      "c:\\Users\\stan\\miniconda3\\envs\\researchTP\\Lib\\site-packages\\botorch\\optim\\fit.py:102: OptimizationWarning: `scipy_minimize` terminated with status OptimizationStatus.FAILURE, displaying original message from `scipy.optimize.minimize`: ABNORMAL_TERMINATION_IN_LNSRCH\n",
      "  warn(\n",
      "c:\\Users\\stan\\miniconda3\\envs\\researchTP\\Lib\\site-packages\\botorch\\optim\\fit.py:102: OptimizationWarning: `scipy_minimize` terminated with status OptimizationStatus.FAILURE, displaying original message from `scipy.optimize.minimize`: ABNORMAL_TERMINATION_IN_LNSRCH\n",
      "  warn(\n",
      "c:\\Users\\stan\\miniconda3\\envs\\researchTP\\Lib\\site-packages\\botorch\\optim\\fit.py:102: OptimizationWarning: `scipy_minimize` terminated with status OptimizationStatus.FAILURE, displaying original message from `scipy.optimize.minimize`: ABNORMAL_TERMINATION_IN_LNSRCH\n",
      "  warn(\n",
      "c:\\Users\\stan\\miniconda3\\envs\\researchTP\\Lib\\site-packages\\botorch\\optim\\fit.py:102: OptimizationWarning: `scipy_minimize` terminated with status OptimizationStatus.FAILURE, displaying original message from `scipy.optimize.minimize`: ABNORMAL_TERMINATION_IN_LNSRCH\n",
      "  warn(\n",
      "c:\\Users\\stan\\miniconda3\\envs\\researchTP\\Lib\\site-packages\\botorch\\optim\\fit.py:102: OptimizationWarning: `scipy_minimize` terminated with status OptimizationStatus.FAILURE, displaying original message from `scipy.optimize.minimize`: ABNORMAL_TERMINATION_IN_LNSRCH\n",
      "  warn(\n",
      "c:\\Users\\stan\\miniconda3\\envs\\researchTP\\Lib\\site-packages\\botorch\\optim\\fit.py:102: OptimizationWarning: `scipy_minimize` terminated with status OptimizationStatus.FAILURE, displaying original message from `scipy.optimize.minimize`: ABNORMAL_TERMINATION_IN_LNSRCH\n",
      "  warn(\n",
      "c:\\Users\\stan\\miniconda3\\envs\\researchTP\\Lib\\site-packages\\botorch\\optim\\fit.py:102: OptimizationWarning: `scipy_minimize` terminated with status OptimizationStatus.FAILURE, displaying original message from `scipy.optimize.minimize`: ABNORMAL_TERMINATION_IN_LNSRCH\n",
      "  warn(\n",
      "c:\\Users\\stan\\miniconda3\\envs\\researchTP\\Lib\\site-packages\\botorch\\optim\\fit.py:102: OptimizationWarning: `scipy_minimize` terminated with status OptimizationStatus.FAILURE, displaying original message from `scipy.optimize.minimize`: ABNORMAL_TERMINATION_IN_LNSRCH\n",
      "  warn(\n",
      "c:\\Users\\stan\\miniconda3\\envs\\researchTP\\Lib\\site-packages\\botorch\\optim\\fit.py:102: OptimizationWarning: `scipy_minimize` terminated with status OptimizationStatus.FAILURE, displaying original message from `scipy.optimize.minimize`: ABNORMAL_TERMINATION_IN_LNSRCH\n",
      "  warn(\n",
      "c:\\Users\\stan\\miniconda3\\envs\\researchTP\\Lib\\site-packages\\botorch\\optim\\fit.py:102: OptimizationWarning: `scipy_minimize` terminated with status OptimizationStatus.FAILURE, displaying original message from `scipy.optimize.minimize`: ABNORMAL_TERMINATION_IN_LNSRCH\n",
      "  warn(\n",
      "c:\\Users\\stan\\miniconda3\\envs\\researchTP\\Lib\\site-packages\\botorch\\optim\\fit.py:102: OptimizationWarning: `scipy_minimize` terminated with status OptimizationStatus.FAILURE, displaying original message from `scipy.optimize.minimize`: ABNORMAL_TERMINATION_IN_LNSRCH\n",
      "  warn(\n",
      "c:\\Users\\stan\\miniconda3\\envs\\researchTP\\Lib\\site-packages\\botorch\\optim\\fit.py:102: OptimizationWarning: `scipy_minimize` terminated with status OptimizationStatus.FAILURE, displaying original message from `scipy.optimize.minimize`: ABNORMAL_TERMINATION_IN_LNSRCH\n",
      "  warn(\n",
      "c:\\Users\\stan\\miniconda3\\envs\\researchTP\\Lib\\site-packages\\botorch\\optim\\fit.py:102: OptimizationWarning: `scipy_minimize` terminated with status OptimizationStatus.FAILURE, displaying original message from `scipy.optimize.minimize`: ABNORMAL_TERMINATION_IN_LNSRCH\n",
      "  warn(\n",
      "c:\\Users\\stan\\miniconda3\\envs\\researchTP\\Lib\\site-packages\\botorch\\optim\\fit.py:102: OptimizationWarning: `scipy_minimize` terminated with status OptimizationStatus.FAILURE, displaying original message from `scipy.optimize.minimize`: ABNORMAL_TERMINATION_IN_LNSRCH\n",
      "  warn(\n",
      " 32%|███▏      | 16/50 [05:41<11:59, 21.17s/it]"
     ]
    },
    {
     "name": "stdout",
     "output_type": "stream",
     "text": [
      "Iterations 134\n",
      "Minimizing with EGP\n",
      "Seed: 432\n",
      "Initial points: tensor([[0.6800, 0.1300, 0.1900],\n",
      "        [0.2600, 0.3800, 0.3600],\n",
      "        [0.2300, 0.6600, 0.1100],\n",
      "        [0.3000, 0.3900, 0.3200],\n",
      "        [0.3000, 0.6900, 0.0100]])\n"
     ]
    },
    {
     "name": "stderr",
     "output_type": "stream",
     "text": [
      "c:\\Users\\stan\\miniconda3\\envs\\researchTP\\Lib\\site-packages\\botorch\\optim\\fit.py:102: OptimizationWarning: `scipy_minimize` terminated with status OptimizationStatus.FAILURE, displaying original message from `scipy.optimize.minimize`: ABNORMAL_TERMINATION_IN_LNSRCH\n",
      "  warn(\n",
      "c:\\Users\\stan\\miniconda3\\envs\\researchTP\\Lib\\site-packages\\botorch\\optim\\fit.py:102: OptimizationWarning: `scipy_minimize` terminated with status OptimizationStatus.FAILURE, displaying original message from `scipy.optimize.minimize`: ABNORMAL_TERMINATION_IN_LNSRCH\n",
      "  warn(\n",
      "c:\\Users\\stan\\miniconda3\\envs\\researchTP\\Lib\\site-packages\\botorch\\optim\\fit.py:102: OptimizationWarning: `scipy_minimize` terminated with status OptimizationStatus.FAILURE, displaying original message from `scipy.optimize.minimize`: ABNORMAL_TERMINATION_IN_LNSRCH\n",
      "  warn(\n",
      "c:\\Users\\stan\\miniconda3\\envs\\researchTP\\Lib\\site-packages\\botorch\\optim\\fit.py:102: OptimizationWarning: `scipy_minimize` terminated with status OptimizationStatus.FAILURE, displaying original message from `scipy.optimize.minimize`: ABNORMAL_TERMINATION_IN_LNSRCH\n",
      "  warn(\n",
      "c:\\Users\\stan\\miniconda3\\envs\\researchTP\\Lib\\site-packages\\botorch\\optim\\fit.py:102: OptimizationWarning: `scipy_minimize` terminated with status OptimizationStatus.FAILURE, displaying original message from `scipy.optimize.minimize`: ABNORMAL_TERMINATION_IN_LNSRCH\n",
      "  warn(\n",
      "c:\\Users\\stan\\miniconda3\\envs\\researchTP\\Lib\\site-packages\\botorch\\optim\\fit.py:102: OptimizationWarning: `scipy_minimize` terminated with status OptimizationStatus.FAILURE, displaying original message from `scipy.optimize.minimize`: ABNORMAL_TERMINATION_IN_LNSRCH\n",
      "  warn(\n",
      "c:\\Users\\stan\\miniconda3\\envs\\researchTP\\Lib\\site-packages\\botorch\\optim\\fit.py:102: OptimizationWarning: `scipy_minimize` terminated with status OptimizationStatus.FAILURE, displaying original message from `scipy.optimize.minimize`: ABNORMAL_TERMINATION_IN_LNSRCH\n",
      "  warn(\n",
      "c:\\Users\\stan\\miniconda3\\envs\\researchTP\\Lib\\site-packages\\botorch\\optim\\fit.py:102: OptimizationWarning: `scipy_minimize` terminated with status OptimizationStatus.FAILURE, displaying original message from `scipy.optimize.minimize`: ABNORMAL_TERMINATION_IN_LNSRCH\n",
      "  warn(\n",
      "c:\\Users\\stan\\miniconda3\\envs\\researchTP\\Lib\\site-packages\\botorch\\optim\\fit.py:102: OptimizationWarning: `scipy_minimize` terminated with status OptimizationStatus.FAILURE, displaying original message from `scipy.optimize.minimize`: ABNORMAL_TERMINATION_IN_LNSRCH\n",
      "  warn(\n",
      "c:\\Users\\stan\\miniconda3\\envs\\researchTP\\Lib\\site-packages\\botorch\\optim\\fit.py:102: OptimizationWarning: `scipy_minimize` terminated with status OptimizationStatus.FAILURE, displaying original message from `scipy.optimize.minimize`: ABNORMAL_TERMINATION_IN_LNSRCH\n",
      "  warn(\n",
      "c:\\Users\\stan\\miniconda3\\envs\\researchTP\\Lib\\site-packages\\botorch\\optim\\fit.py:102: OptimizationWarning: `scipy_minimize` terminated with status OptimizationStatus.FAILURE, displaying original message from `scipy.optimize.minimize`: ABNORMAL_TERMINATION_IN_LNSRCH\n",
      "  warn(\n",
      " 34%|███▍      | 17/50 [06:02<11:39, 21.19s/it]"
     ]
    },
    {
     "name": "stdout",
     "output_type": "stream",
     "text": [
      "Iterations 134\n",
      "Minimizing with EGP\n",
      "Seed: 32\n",
      "Initial points: tensor([[0.1400, 0.8400, 0.0200],\n",
      "        [0.5000, 0.0000, 0.5000],\n",
      "        [0.1000, 0.8900, 0.0100],\n",
      "        [0.0900, 0.8500, 0.0600],\n",
      "        [0.8400, 0.0000, 0.1600]])\n"
     ]
    },
    {
     "name": "stderr",
     "output_type": "stream",
     "text": [
      "c:\\Users\\stan\\miniconda3\\envs\\researchTP\\Lib\\site-packages\\linear_operator\\utils\\cholesky.py:40: NumericalWarning: A not p.d., added jitter of 1.0e-06 to the diagonal\n",
      "  warnings.warn(\n",
      "c:\\Users\\stan\\miniconda3\\envs\\researchTP\\Lib\\site-packages\\linear_operator\\utils\\cholesky.py:40: NumericalWarning: A not p.d., added jitter of 1.0e-05 to the diagonal\n",
      "  warnings.warn(\n",
      "c:\\Users\\stan\\miniconda3\\envs\\researchTP\\Lib\\site-packages\\linear_operator\\utils\\cholesky.py:40: NumericalWarning: A not p.d., added jitter of 1.0e-04 to the diagonal\n",
      "  warnings.warn(\n",
      "c:\\Users\\stan\\miniconda3\\envs\\researchTP\\Lib\\site-packages\\linear_operator\\utils\\cholesky.py:40: NumericalWarning: A not p.d., added jitter of 1.0e-03 to the diagonal\n",
      "  warnings.warn(\n",
      "c:\\Users\\stan\\miniconda3\\envs\\researchTP\\Lib\\site-packages\\linear_operator\\utils\\cholesky.py:40: NumericalWarning: A not p.d., added jitter of 1.0e-02 to the diagonal\n",
      "  warnings.warn(\n",
      "c:\\Users\\stan\\miniconda3\\envs\\researchTP\\Lib\\site-packages\\linear_operator\\utils\\cholesky.py:40: NumericalWarning: A not p.d., added jitter of 1.0e-01 to the diagonal\n",
      "  warnings.warn(\n",
      "c:\\Users\\stan\\miniconda3\\envs\\researchTP\\Lib\\site-packages\\botorch\\optim\\fit.py:102: OptimizationWarning: `scipy_minimize` terminated with status OptimizationStatus.FAILURE, displaying original message from `scipy.optimize.minimize`: ABNORMAL_TERMINATION_IN_LNSRCH\n",
      "  warn(\n",
      "c:\\Users\\stan\\miniconda3\\envs\\researchTP\\Lib\\site-packages\\botorch\\optim\\fit.py:102: OptimizationWarning: `scipy_minimize` terminated with status OptimizationStatus.FAILURE, displaying original message from `scipy.optimize.minimize`: ABNORMAL_TERMINATION_IN_LNSRCH\n",
      "  warn(\n",
      "c:\\Users\\stan\\miniconda3\\envs\\researchTP\\Lib\\site-packages\\botorch\\optim\\fit.py:102: OptimizationWarning: `scipy_minimize` terminated with status OptimizationStatus.FAILURE, displaying original message from `scipy.optimize.minimize`: ABNORMAL_TERMINATION_IN_LNSRCH\n",
      "  warn(\n",
      "c:\\Users\\stan\\miniconda3\\envs\\researchTP\\Lib\\site-packages\\botorch\\optim\\fit.py:102: OptimizationWarning: `scipy_minimize` terminated with status OptimizationStatus.FAILURE, displaying original message from `scipy.optimize.minimize`: ABNORMAL_TERMINATION_IN_LNSRCH\n",
      "  warn(\n",
      "c:\\Users\\stan\\miniconda3\\envs\\researchTP\\Lib\\site-packages\\botorch\\optim\\fit.py:102: OptimizationWarning: `scipy_minimize` terminated with status OptimizationStatus.FAILURE, displaying original message from `scipy.optimize.minimize`: ABNORMAL_TERMINATION_IN_LNSRCH\n",
      "  warn(\n",
      "c:\\Users\\stan\\miniconda3\\envs\\researchTP\\Lib\\site-packages\\botorch\\optim\\fit.py:102: OptimizationWarning: `scipy_minimize` terminated with status OptimizationStatus.FAILURE, displaying original message from `scipy.optimize.minimize`: ABNORMAL_TERMINATION_IN_LNSRCH\n",
      "  warn(\n",
      "c:\\Users\\stan\\miniconda3\\envs\\researchTP\\Lib\\site-packages\\botorch\\optim\\fit.py:102: OptimizationWarning: `scipy_minimize` terminated with status OptimizationStatus.FAILURE, displaying original message from `scipy.optimize.minimize`: ABNORMAL_TERMINATION_IN_LNSRCH\n",
      "  warn(\n",
      "c:\\Users\\stan\\miniconda3\\envs\\researchTP\\Lib\\site-packages\\botorch\\optim\\fit.py:102: OptimizationWarning: `scipy_minimize` terminated with status OptimizationStatus.FAILURE, displaying original message from `scipy.optimize.minimize`: ABNORMAL_TERMINATION_IN_LNSRCH\n",
      "  warn(\n",
      "c:\\Users\\stan\\miniconda3\\envs\\researchTP\\Lib\\site-packages\\botorch\\optim\\fit.py:102: OptimizationWarning: `scipy_minimize` terminated with status OptimizationStatus.FAILURE, displaying original message from `scipy.optimize.minimize`: ABNORMAL_TERMINATION_IN_LNSRCH\n",
      "  warn(\n",
      "c:\\Users\\stan\\miniconda3\\envs\\researchTP\\Lib\\site-packages\\botorch\\optim\\fit.py:102: OptimizationWarning: `scipy_minimize` terminated with status OptimizationStatus.FAILURE, displaying original message from `scipy.optimize.minimize`: ABNORMAL_TERMINATION_IN_LNSRCH\n",
      "  warn(\n",
      "c:\\Users\\stan\\miniconda3\\envs\\researchTP\\Lib\\site-packages\\botorch\\optim\\fit.py:102: OptimizationWarning: `scipy_minimize` terminated with status OptimizationStatus.FAILURE, displaying original message from `scipy.optimize.minimize`: ABNORMAL_TERMINATION_IN_LNSRCH\n",
      "  warn(\n",
      "c:\\Users\\stan\\miniconda3\\envs\\researchTP\\Lib\\site-packages\\botorch\\optim\\fit.py:102: OptimizationWarning: `scipy_minimize` terminated with status OptimizationStatus.FAILURE, displaying original message from `scipy.optimize.minimize`: ABNORMAL_TERMINATION_IN_LNSRCH\n",
      "  warn(\n",
      "c:\\Users\\stan\\miniconda3\\envs\\researchTP\\Lib\\site-packages\\botorch\\optim\\fit.py:102: OptimizationWarning: `scipy_minimize` terminated with status OptimizationStatus.FAILURE, displaying original message from `scipy.optimize.minimize`: ABNORMAL_TERMINATION_IN_LNSRCH\n",
      "  warn(\n",
      "c:\\Users\\stan\\miniconda3\\envs\\researchTP\\Lib\\site-packages\\botorch\\optim\\fit.py:102: OptimizationWarning: `scipy_minimize` terminated with status OptimizationStatus.FAILURE, displaying original message from `scipy.optimize.minimize`: ABNORMAL_TERMINATION_IN_LNSRCH\n",
      "  warn(\n",
      "c:\\Users\\stan\\miniconda3\\envs\\researchTP\\Lib\\site-packages\\botorch\\optim\\fit.py:102: OptimizationWarning: `scipy_minimize` terminated with status OptimizationStatus.FAILURE, displaying original message from `scipy.optimize.minimize`: ABNORMAL_TERMINATION_IN_LNSRCH\n",
      "  warn(\n",
      "c:\\Users\\stan\\miniconda3\\envs\\researchTP\\Lib\\site-packages\\botorch\\optim\\fit.py:102: OptimizationWarning: `scipy_minimize` terminated with status OptimizationStatus.FAILURE, displaying original message from `scipy.optimize.minimize`: ABNORMAL_TERMINATION_IN_LNSRCH\n",
      "  warn(\n",
      "c:\\Users\\stan\\miniconda3\\envs\\researchTP\\Lib\\site-packages\\botorch\\optim\\fit.py:102: OptimizationWarning: `scipy_minimize` terminated with status OptimizationStatus.FAILURE, displaying original message from `scipy.optimize.minimize`: ABNORMAL_TERMINATION_IN_LNSRCH\n",
      "  warn(\n",
      " 36%|███▌      | 18/50 [06:25<11:34, 21.70s/it]"
     ]
    },
    {
     "name": "stdout",
     "output_type": "stream",
     "text": [
      "Iterations 134\n",
      "Minimizing with EGP\n",
      "Seed: 30\n",
      "Initial points: tensor([[0.5700, 0.4300, 0.0000],\n",
      "        [0.8100, 0.0000, 0.1900],\n",
      "        [0.3700, 0.6200, 0.0100],\n",
      "        [0.5000, 0.5000, 0.0000],\n",
      "        [0.4400, 0.5500, 0.0100]])\n"
     ]
    },
    {
     "name": "stderr",
     "output_type": "stream",
     "text": [
      "c:\\Users\\stan\\miniconda3\\envs\\researchTP\\Lib\\site-packages\\botorch\\optim\\fit.py:102: OptimizationWarning: `scipy_minimize` terminated with status OptimizationStatus.FAILURE, displaying original message from `scipy.optimize.minimize`: ABNORMAL_TERMINATION_IN_LNSRCH\n",
      "  warn(\n",
      "c:\\Users\\stan\\miniconda3\\envs\\researchTP\\Lib\\site-packages\\botorch\\optim\\fit.py:102: OptimizationWarning: `scipy_minimize` terminated with status OptimizationStatus.FAILURE, displaying original message from `scipy.optimize.minimize`: ABNORMAL_TERMINATION_IN_LNSRCH\n",
      "  warn(\n",
      "c:\\Users\\stan\\miniconda3\\envs\\researchTP\\Lib\\site-packages\\botorch\\optim\\fit.py:102: OptimizationWarning: `scipy_minimize` terminated with status OptimizationStatus.FAILURE, displaying original message from `scipy.optimize.minimize`: ABNORMAL_TERMINATION_IN_LNSRCH\n",
      "  warn(\n",
      "c:\\Users\\stan\\miniconda3\\envs\\researchTP\\Lib\\site-packages\\botorch\\optim\\fit.py:102: OptimizationWarning: `scipy_minimize` terminated with status OptimizationStatus.FAILURE, displaying original message from `scipy.optimize.minimize`: ABNORMAL_TERMINATION_IN_LNSRCH\n",
      "  warn(\n",
      "c:\\Users\\stan\\miniconda3\\envs\\researchTP\\Lib\\site-packages\\botorch\\optim\\fit.py:102: OptimizationWarning: `scipy_minimize` terminated with status OptimizationStatus.FAILURE, displaying original message from `scipy.optimize.minimize`: ABNORMAL_TERMINATION_IN_LNSRCH\n",
      "  warn(\n",
      "c:\\Users\\stan\\miniconda3\\envs\\researchTP\\Lib\\site-packages\\botorch\\optim\\fit.py:102: OptimizationWarning: `scipy_minimize` terminated with status OptimizationStatus.FAILURE, displaying original message from `scipy.optimize.minimize`: ABNORMAL_TERMINATION_IN_LNSRCH\n",
      "  warn(\n",
      "c:\\Users\\stan\\miniconda3\\envs\\researchTP\\Lib\\site-packages\\botorch\\optim\\fit.py:102: OptimizationWarning: `scipy_minimize` terminated with status OptimizationStatus.FAILURE, displaying original message from `scipy.optimize.minimize`: ABNORMAL_TERMINATION_IN_LNSRCH\n",
      "  warn(\n",
      "c:\\Users\\stan\\miniconda3\\envs\\researchTP\\Lib\\site-packages\\botorch\\optim\\fit.py:102: OptimizationWarning: `scipy_minimize` terminated with status OptimizationStatus.FAILURE, displaying original message from `scipy.optimize.minimize`: ABNORMAL_TERMINATION_IN_LNSRCH\n",
      "  warn(\n",
      "c:\\Users\\stan\\miniconda3\\envs\\researchTP\\Lib\\site-packages\\botorch\\optim\\fit.py:102: OptimizationWarning: `scipy_minimize` terminated with status OptimizationStatus.FAILURE, displaying original message from `scipy.optimize.minimize`: ABNORMAL_TERMINATION_IN_LNSRCH\n",
      "  warn(\n",
      "c:\\Users\\stan\\miniconda3\\envs\\researchTP\\Lib\\site-packages\\botorch\\optim\\fit.py:102: OptimizationWarning: `scipy_minimize` terminated with status OptimizationStatus.FAILURE, displaying original message from `scipy.optimize.minimize`: ABNORMAL_TERMINATION_IN_LNSRCH\n",
      "  warn(\n",
      " 38%|███▊      | 19/50 [06:47<11:16, 21.82s/it]"
     ]
    },
    {
     "name": "stdout",
     "output_type": "stream",
     "text": [
      "Iterations 134\n",
      "Minimizing with EGP\n",
      "Seed: 95\n",
      "Initial points: tensor([[0.0600, 0.8500, 0.0900],\n",
      "        [0.1000, 0.9000, 0.0000],\n",
      "        [0.1300, 0.7900, 0.0800],\n",
      "        [0.1000, 0.8900, 0.0100],\n",
      "        [0.2600, 0.3800, 0.3600]])\n"
     ]
    },
    {
     "name": "stderr",
     "output_type": "stream",
     "text": [
      "c:\\Users\\stan\\miniconda3\\envs\\researchTP\\Lib\\site-packages\\botorch\\optim\\fit.py:102: OptimizationWarning: `scipy_minimize` terminated with status OptimizationStatus.FAILURE, displaying original message from `scipy.optimize.minimize`: ABNORMAL_TERMINATION_IN_LNSRCH\n",
      "  warn(\n",
      "c:\\Users\\stan\\miniconda3\\envs\\researchTP\\Lib\\site-packages\\botorch\\optim\\fit.py:102: OptimizationWarning: `scipy_minimize` terminated with status OptimizationStatus.FAILURE, displaying original message from `scipy.optimize.minimize`: ABNORMAL_TERMINATION_IN_LNSRCH\n",
      "  warn(\n",
      "c:\\Users\\stan\\miniconda3\\envs\\researchTP\\Lib\\site-packages\\botorch\\optim\\fit.py:102: OptimizationWarning: `scipy_minimize` terminated with status OptimizationStatus.FAILURE, displaying original message from `scipy.optimize.minimize`: ABNORMAL_TERMINATION_IN_LNSRCH\n",
      "  warn(\n",
      "c:\\Users\\stan\\miniconda3\\envs\\researchTP\\Lib\\site-packages\\botorch\\optim\\fit.py:102: OptimizationWarning: `scipy_minimize` terminated with status OptimizationStatus.FAILURE, displaying original message from `scipy.optimize.minimize`: ABNORMAL_TERMINATION_IN_LNSRCH\n",
      "  warn(\n",
      "c:\\Users\\stan\\miniconda3\\envs\\researchTP\\Lib\\site-packages\\botorch\\optim\\fit.py:102: OptimizationWarning: `scipy_minimize` terminated with status OptimizationStatus.FAILURE, displaying original message from `scipy.optimize.minimize`: ABNORMAL_TERMINATION_IN_LNSRCH\n",
      "  warn(\n",
      "c:\\Users\\stan\\miniconda3\\envs\\researchTP\\Lib\\site-packages\\botorch\\optim\\fit.py:102: OptimizationWarning: `scipy_minimize` terminated with status OptimizationStatus.FAILURE, displaying original message from `scipy.optimize.minimize`: ABNORMAL_TERMINATION_IN_LNSRCH\n",
      "  warn(\n",
      "c:\\Users\\stan\\miniconda3\\envs\\researchTP\\Lib\\site-packages\\botorch\\optim\\fit.py:102: OptimizationWarning: `scipy_minimize` terminated with status OptimizationStatus.FAILURE, displaying original message from `scipy.optimize.minimize`: ABNORMAL_TERMINATION_IN_LNSRCH\n",
      "  warn(\n",
      "c:\\Users\\stan\\miniconda3\\envs\\researchTP\\Lib\\site-packages\\botorch\\optim\\fit.py:102: OptimizationWarning: `scipy_minimize` terminated with status OptimizationStatus.FAILURE, displaying original message from `scipy.optimize.minimize`: ABNORMAL_TERMINATION_IN_LNSRCH\n",
      "  warn(\n",
      "c:\\Users\\stan\\miniconda3\\envs\\researchTP\\Lib\\site-packages\\botorch\\optim\\fit.py:102: OptimizationWarning: `scipy_minimize` terminated with status OptimizationStatus.FAILURE, displaying original message from `scipy.optimize.minimize`: ABNORMAL_TERMINATION_IN_LNSRCH\n",
      "  warn(\n",
      "c:\\Users\\stan\\miniconda3\\envs\\researchTP\\Lib\\site-packages\\botorch\\optim\\fit.py:102: OptimizationWarning: `scipy_minimize` terminated with status OptimizationStatus.FAILURE, displaying original message from `scipy.optimize.minimize`: ABNORMAL_TERMINATION_IN_LNSRCH\n",
      "  warn(\n",
      "c:\\Users\\stan\\miniconda3\\envs\\researchTP\\Lib\\site-packages\\botorch\\optim\\fit.py:102: OptimizationWarning: `scipy_minimize` terminated with status OptimizationStatus.FAILURE, displaying original message from `scipy.optimize.minimize`: ABNORMAL_TERMINATION_IN_LNSRCH\n",
      "  warn(\n",
      "c:\\Users\\stan\\miniconda3\\envs\\researchTP\\Lib\\site-packages\\botorch\\optim\\fit.py:102: OptimizationWarning: `scipy_minimize` terminated with status OptimizationStatus.FAILURE, displaying original message from `scipy.optimize.minimize`: ABNORMAL_TERMINATION_IN_LNSRCH\n",
      "  warn(\n",
      " 40%|████      | 20/50 [07:09<10:54, 21.82s/it]"
     ]
    },
    {
     "name": "stdout",
     "output_type": "stream",
     "text": [
      "Iterations 134\n",
      "Minimizing with EGP\n",
      "Seed: 223\n",
      "Initial points: tensor([[1.0000, 0.0000, 0.0000],\n",
      "        [0.8900, 0.0000, 0.1100],\n",
      "        [0.8400, 0.0000, 0.1600],\n",
      "        [0.0000, 0.7500, 0.2500],\n",
      "        [0.0500, 0.7885, 0.1615]])\n"
     ]
    },
    {
     "name": "stderr",
     "output_type": "stream",
     "text": [
      "c:\\Users\\stan\\miniconda3\\envs\\researchTP\\Lib\\site-packages\\linear_operator\\utils\\cholesky.py:40: NumericalWarning: A not p.d., added jitter of 1.0e-06 to the diagonal\n",
      "  warnings.warn(\n",
      "c:\\Users\\stan\\miniconda3\\envs\\researchTP\\Lib\\site-packages\\linear_operator\\utils\\cholesky.py:40: NumericalWarning: A not p.d., added jitter of 1.0e-05 to the diagonal\n",
      "  warnings.warn(\n",
      "c:\\Users\\stan\\miniconda3\\envs\\researchTP\\Lib\\site-packages\\linear_operator\\utils\\cholesky.py:40: NumericalWarning: A not p.d., added jitter of 1.0e-04 to the diagonal\n",
      "  warnings.warn(\n",
      "c:\\Users\\stan\\miniconda3\\envs\\researchTP\\Lib\\site-packages\\linear_operator\\utils\\cholesky.py:40: NumericalWarning: A not p.d., added jitter of 1.0e-03 to the diagonal\n",
      "  warnings.warn(\n",
      "c:\\Users\\stan\\miniconda3\\envs\\researchTP\\Lib\\site-packages\\linear_operator\\utils\\cholesky.py:40: NumericalWarning: A not p.d., added jitter of 1.0e-02 to the diagonal\n",
      "  warnings.warn(\n",
      "c:\\Users\\stan\\miniconda3\\envs\\researchTP\\Lib\\site-packages\\gpytorch\\distributions\\multivariate_normal.py:319: NumericalWarning: Negative variance values detected. This is likely due to numerical instabilities. Rounding negative variances up to 1e-06.\n",
      "  warnings.warn(\n",
      "c:\\Users\\stan\\miniconda3\\envs\\researchTP\\Lib\\site-packages\\botorch\\optim\\fit.py:102: OptimizationWarning: `scipy_minimize` terminated with status OptimizationStatus.FAILURE, displaying original message from `scipy.optimize.minimize`: ABNORMAL_TERMINATION_IN_LNSRCH\n",
      "  warn(\n",
      "c:\\Users\\stan\\miniconda3\\envs\\researchTP\\Lib\\site-packages\\botorch\\optim\\fit.py:102: OptimizationWarning: `scipy_minimize` terminated with status OptimizationStatus.FAILURE, displaying original message from `scipy.optimize.minimize`: ABNORMAL_TERMINATION_IN_LNSRCH\n",
      "  warn(\n",
      "c:\\Users\\stan\\miniconda3\\envs\\researchTP\\Lib\\site-packages\\botorch\\optim\\fit.py:102: OptimizationWarning: `scipy_minimize` terminated with status OptimizationStatus.FAILURE, displaying original message from `scipy.optimize.minimize`: ABNORMAL_TERMINATION_IN_LNSRCH\n",
      "  warn(\n",
      "c:\\Users\\stan\\miniconda3\\envs\\researchTP\\Lib\\site-packages\\botorch\\optim\\fit.py:102: OptimizationWarning: `scipy_minimize` terminated with status OptimizationStatus.FAILURE, displaying original message from `scipy.optimize.minimize`: ABNORMAL_TERMINATION_IN_LNSRCH\n",
      "  warn(\n",
      "c:\\Users\\stan\\miniconda3\\envs\\researchTP\\Lib\\site-packages\\botorch\\optim\\fit.py:102: OptimizationWarning: `scipy_minimize` terminated with status OptimizationStatus.FAILURE, displaying original message from `scipy.optimize.minimize`: ABNORMAL_TERMINATION_IN_LNSRCH\n",
      "  warn(\n",
      "c:\\Users\\stan\\miniconda3\\envs\\researchTP\\Lib\\site-packages\\botorch\\optim\\fit.py:102: OptimizationWarning: `scipy_minimize` terminated with status OptimizationStatus.FAILURE, displaying original message from `scipy.optimize.minimize`: ABNORMAL_TERMINATION_IN_LNSRCH\n",
      "  warn(\n",
      "c:\\Users\\stan\\miniconda3\\envs\\researchTP\\Lib\\site-packages\\botorch\\optim\\fit.py:102: OptimizationWarning: `scipy_minimize` terminated with status OptimizationStatus.FAILURE, displaying original message from `scipy.optimize.minimize`: ABNORMAL_TERMINATION_IN_LNSRCH\n",
      "  warn(\n",
      "c:\\Users\\stan\\miniconda3\\envs\\researchTP\\Lib\\site-packages\\botorch\\optim\\fit.py:102: OptimizationWarning: `scipy_minimize` terminated with status OptimizationStatus.FAILURE, displaying original message from `scipy.optimize.minimize`: ABNORMAL_TERMINATION_IN_LNSRCH\n",
      "  warn(\n",
      "c:\\Users\\stan\\miniconda3\\envs\\researchTP\\Lib\\site-packages\\botorch\\optim\\fit.py:102: OptimizationWarning: `scipy_minimize` terminated with status OptimizationStatus.FAILURE, displaying original message from `scipy.optimize.minimize`: ABNORMAL_TERMINATION_IN_LNSRCH\n",
      "  warn(\n",
      "c:\\Users\\stan\\miniconda3\\envs\\researchTP\\Lib\\site-packages\\botorch\\optim\\fit.py:102: OptimizationWarning: `scipy_minimize` terminated with status OptimizationStatus.FAILURE, displaying original message from `scipy.optimize.minimize`: ABNORMAL_TERMINATION_IN_LNSRCH\n",
      "  warn(\n",
      "c:\\Users\\stan\\miniconda3\\envs\\researchTP\\Lib\\site-packages\\botorch\\optim\\fit.py:102: OptimizationWarning: `scipy_minimize` terminated with status OptimizationStatus.FAILURE, displaying original message from `scipy.optimize.minimize`: ABNORMAL_TERMINATION_IN_LNSRCH\n",
      "  warn(\n",
      "c:\\Users\\stan\\miniconda3\\envs\\researchTP\\Lib\\site-packages\\botorch\\optim\\fit.py:102: OptimizationWarning: `scipy_minimize` terminated with status OptimizationStatus.FAILURE, displaying original message from `scipy.optimize.minimize`: ABNORMAL_TERMINATION_IN_LNSRCH\n",
      "  warn(\n",
      "c:\\Users\\stan\\miniconda3\\envs\\researchTP\\Lib\\site-packages\\botorch\\optim\\fit.py:102: OptimizationWarning: `scipy_minimize` terminated with status OptimizationStatus.FAILURE, displaying original message from `scipy.optimize.minimize`: ABNORMAL_TERMINATION_IN_LNSRCH\n",
      "  warn(\n",
      "c:\\Users\\stan\\miniconda3\\envs\\researchTP\\Lib\\site-packages\\botorch\\optim\\fit.py:102: OptimizationWarning: `scipy_minimize` terminated with status OptimizationStatus.FAILURE, displaying original message from `scipy.optimize.minimize`: ABNORMAL_TERMINATION_IN_LNSRCH\n",
      "  warn(\n",
      "c:\\Users\\stan\\miniconda3\\envs\\researchTP\\Lib\\site-packages\\botorch\\optim\\fit.py:102: OptimizationWarning: `scipy_minimize` terminated with status OptimizationStatus.FAILURE, displaying original message from `scipy.optimize.minimize`: ABNORMAL_TERMINATION_IN_LNSRCH\n",
      "  warn(\n",
      "c:\\Users\\stan\\miniconda3\\envs\\researchTP\\Lib\\site-packages\\botorch\\optim\\fit.py:102: OptimizationWarning: `scipy_minimize` terminated with status OptimizationStatus.FAILURE, displaying original message from `scipy.optimize.minimize`: ABNORMAL_TERMINATION_IN_LNSRCH\n",
      "  warn(\n",
      " 42%|████▏     | 21/50 [07:31<10:33, 21.85s/it]"
     ]
    },
    {
     "name": "stdout",
     "output_type": "stream",
     "text": [
      "Iterations 134\n",
      "Minimizing with EGP\n",
      "Seed: 238\n",
      "Initial points: tensor([[0.1800, 0.7800, 0.0400],\n",
      "        [0.2500, 0.5000, 0.2500],\n",
      "        [0.9100, 0.0100, 0.0800],\n",
      "        [0.3100, 0.3600, 0.3300],\n",
      "        [0.1300, 0.8700, 0.0000]])\n"
     ]
    },
    {
     "name": "stderr",
     "output_type": "stream",
     "text": [
      "c:\\Users\\stan\\miniconda3\\envs\\researchTP\\Lib\\site-packages\\botorch\\optim\\fit.py:102: OptimizationWarning: `scipy_minimize` terminated with status OptimizationStatus.FAILURE, displaying original message from `scipy.optimize.minimize`: ABNORMAL_TERMINATION_IN_LNSRCH\n",
      "  warn(\n",
      "c:\\Users\\stan\\miniconda3\\envs\\researchTP\\Lib\\site-packages\\botorch\\optim\\fit.py:102: OptimizationWarning: `scipy_minimize` terminated with status OptimizationStatus.FAILURE, displaying original message from `scipy.optimize.minimize`: ABNORMAL_TERMINATION_IN_LNSRCH\n",
      "  warn(\n",
      "c:\\Users\\stan\\miniconda3\\envs\\researchTP\\Lib\\site-packages\\botorch\\optim\\fit.py:102: OptimizationWarning: `scipy_minimize` terminated with status OptimizationStatus.FAILURE, displaying original message from `scipy.optimize.minimize`: ABNORMAL_TERMINATION_IN_LNSRCH\n",
      "  warn(\n",
      "c:\\Users\\stan\\miniconda3\\envs\\researchTP\\Lib\\site-packages\\botorch\\optim\\fit.py:102: OptimizationWarning: `scipy_minimize` terminated with status OptimizationStatus.FAILURE, displaying original message from `scipy.optimize.minimize`: ABNORMAL_TERMINATION_IN_LNSRCH\n",
      "  warn(\n",
      "c:\\Users\\stan\\miniconda3\\envs\\researchTP\\Lib\\site-packages\\botorch\\optim\\fit.py:102: OptimizationWarning: `scipy_minimize` terminated with status OptimizationStatus.FAILURE, displaying original message from `scipy.optimize.minimize`: ABNORMAL_TERMINATION_IN_LNSRCH\n",
      "  warn(\n",
      "c:\\Users\\stan\\miniconda3\\envs\\researchTP\\Lib\\site-packages\\botorch\\optim\\fit.py:102: OptimizationWarning: `scipy_minimize` terminated with status OptimizationStatus.FAILURE, displaying original message from `scipy.optimize.minimize`: ABNORMAL_TERMINATION_IN_LNSRCH\n",
      "  warn(\n",
      "c:\\Users\\stan\\miniconda3\\envs\\researchTP\\Lib\\site-packages\\botorch\\optim\\fit.py:102: OptimizationWarning: `scipy_minimize` terminated with status OptimizationStatus.FAILURE, displaying original message from `scipy.optimize.minimize`: ABNORMAL_TERMINATION_IN_LNSRCH\n",
      "  warn(\n",
      "c:\\Users\\stan\\miniconda3\\envs\\researchTP\\Lib\\site-packages\\botorch\\optim\\fit.py:102: OptimizationWarning: `scipy_minimize` terminated with status OptimizationStatus.FAILURE, displaying original message from `scipy.optimize.minimize`: ABNORMAL_TERMINATION_IN_LNSRCH\n",
      "  warn(\n",
      "c:\\Users\\stan\\miniconda3\\envs\\researchTP\\Lib\\site-packages\\botorch\\optim\\fit.py:102: OptimizationWarning: `scipy_minimize` terminated with status OptimizationStatus.FAILURE, displaying original message from `scipy.optimize.minimize`: ABNORMAL_TERMINATION_IN_LNSRCH\n",
      "  warn(\n",
      "c:\\Users\\stan\\miniconda3\\envs\\researchTP\\Lib\\site-packages\\botorch\\optim\\fit.py:102: OptimizationWarning: `scipy_minimize` terminated with status OptimizationStatus.FAILURE, displaying original message from `scipy.optimize.minimize`: ABNORMAL_TERMINATION_IN_LNSRCH\n",
      "  warn(\n",
      "c:\\Users\\stan\\miniconda3\\envs\\researchTP\\Lib\\site-packages\\botorch\\optim\\fit.py:102: OptimizationWarning: `scipy_minimize` terminated with status OptimizationStatus.FAILURE, displaying original message from `scipy.optimize.minimize`: ABNORMAL_TERMINATION_IN_LNSRCH\n",
      "  warn(\n",
      "c:\\Users\\stan\\miniconda3\\envs\\researchTP\\Lib\\site-packages\\botorch\\optim\\fit.py:102: OptimizationWarning: `scipy_minimize` terminated with status OptimizationStatus.FAILURE, displaying original message from `scipy.optimize.minimize`: ABNORMAL_TERMINATION_IN_LNSRCH\n",
      "  warn(\n",
      "c:\\Users\\stan\\miniconda3\\envs\\researchTP\\Lib\\site-packages\\botorch\\optim\\fit.py:102: OptimizationWarning: `scipy_minimize` terminated with status OptimizationStatus.FAILURE, displaying original message from `scipy.optimize.minimize`: ABNORMAL_TERMINATION_IN_LNSRCH\n",
      "  warn(\n",
      " 44%|████▍     | 22/50 [07:51<09:56, 21.30s/it]"
     ]
    },
    {
     "name": "stdout",
     "output_type": "stream",
     "text": [
      "Iterations 134\n",
      "Minimizing with EGP\n",
      "Seed: 517\n",
      "Initial points: tensor([[0.0000, 1.0000, 0.0000],\n",
      "        [0.8400, 0.0000, 0.1600],\n",
      "        [0.0000, 0.7500, 0.2500],\n",
      "        [0.8300, 0.0000, 0.1700],\n",
      "        [0.3000, 0.6900, 0.0100]])\n"
     ]
    },
    {
     "name": "stderr",
     "output_type": "stream",
     "text": [
      "c:\\Users\\stan\\miniconda3\\envs\\researchTP\\Lib\\site-packages\\botorch\\optim\\fit.py:102: OptimizationWarning: `scipy_minimize` terminated with status OptimizationStatus.FAILURE, displaying original message from `scipy.optimize.minimize`: ABNORMAL_TERMINATION_IN_LNSRCH\n",
      "  warn(\n",
      "c:\\Users\\stan\\miniconda3\\envs\\researchTP\\Lib\\site-packages\\botorch\\optim\\fit.py:102: OptimizationWarning: `scipy_minimize` terminated with status OptimizationStatus.FAILURE, displaying original message from `scipy.optimize.minimize`: ABNORMAL_TERMINATION_IN_LNSRCH\n",
      "  warn(\n",
      "c:\\Users\\stan\\miniconda3\\envs\\researchTP\\Lib\\site-packages\\botorch\\optim\\fit.py:102: OptimizationWarning: `scipy_minimize` terminated with status OptimizationStatus.FAILURE, displaying original message from `scipy.optimize.minimize`: ABNORMAL_TERMINATION_IN_LNSRCH\n",
      "  warn(\n",
      "c:\\Users\\stan\\miniconda3\\envs\\researchTP\\Lib\\site-packages\\botorch\\optim\\fit.py:102: OptimizationWarning: `scipy_minimize` terminated with status OptimizationStatus.FAILURE, displaying original message from `scipy.optimize.minimize`: ABNORMAL_TERMINATION_IN_LNSRCH\n",
      "  warn(\n",
      "c:\\Users\\stan\\miniconda3\\envs\\researchTP\\Lib\\site-packages\\botorch\\optim\\fit.py:102: OptimizationWarning: `scipy_minimize` terminated with status OptimizationStatus.FAILURE, displaying original message from `scipy.optimize.minimize`: ABNORMAL_TERMINATION_IN_LNSRCH\n",
      "  warn(\n",
      "c:\\Users\\stan\\miniconda3\\envs\\researchTP\\Lib\\site-packages\\botorch\\optim\\fit.py:102: OptimizationWarning: `scipy_minimize` terminated with status OptimizationStatus.FAILURE, displaying original message from `scipy.optimize.minimize`: ABNORMAL_TERMINATION_IN_LNSRCH\n",
      "  warn(\n",
      "c:\\Users\\stan\\miniconda3\\envs\\researchTP\\Lib\\site-packages\\botorch\\optim\\fit.py:102: OptimizationWarning: `scipy_minimize` terminated with status OptimizationStatus.FAILURE, displaying original message from `scipy.optimize.minimize`: ABNORMAL_TERMINATION_IN_LNSRCH\n",
      "  warn(\n",
      "c:\\Users\\stan\\miniconda3\\envs\\researchTP\\Lib\\site-packages\\botorch\\optim\\fit.py:102: OptimizationWarning: `scipy_minimize` terminated with status OptimizationStatus.FAILURE, displaying original message from `scipy.optimize.minimize`: ABNORMAL_TERMINATION_IN_LNSRCH\n",
      "  warn(\n",
      "c:\\Users\\stan\\miniconda3\\envs\\researchTP\\Lib\\site-packages\\botorch\\optim\\fit.py:102: OptimizationWarning: `scipy_minimize` terminated with status OptimizationStatus.FAILURE, displaying original message from `scipy.optimize.minimize`: ABNORMAL_TERMINATION_IN_LNSRCH\n",
      "  warn(\n",
      "c:\\Users\\stan\\miniconda3\\envs\\researchTP\\Lib\\site-packages\\botorch\\optim\\fit.py:102: OptimizationWarning: `scipy_minimize` terminated with status OptimizationStatus.FAILURE, displaying original message from `scipy.optimize.minimize`: ABNORMAL_TERMINATION_IN_LNSRCH\n",
      "  warn(\n",
      " 46%|████▌     | 23/50 [08:12<09:36, 21.34s/it]"
     ]
    },
    {
     "name": "stdout",
     "output_type": "stream",
     "text": [
      "Iterations 134\n",
      "Minimizing with EGP\n",
      "Seed: 616\n",
      "Initial points: tensor([[0.6600, 0.2400, 0.1000],\n",
      "        [0.1900, 0.8100, 0.0000],\n",
      "        [0.0900, 0.8500, 0.0600],\n",
      "        [0.6300, 0.3700, 0.0000],\n",
      "        [0.0000, 0.0000, 1.0000]])\n"
     ]
    },
    {
     "name": "stderr",
     "output_type": "stream",
     "text": [
      "c:\\Users\\stan\\miniconda3\\envs\\researchTP\\Lib\\site-packages\\botorch\\optim\\fit.py:102: OptimizationWarning: `scipy_minimize` terminated with status OptimizationStatus.FAILURE, displaying original message from `scipy.optimize.minimize`: ABNORMAL_TERMINATION_IN_LNSRCH\n",
      "  warn(\n",
      "c:\\Users\\stan\\miniconda3\\envs\\researchTP\\Lib\\site-packages\\botorch\\optim\\fit.py:102: OptimizationWarning: `scipy_minimize` terminated with status OptimizationStatus.FAILURE, displaying original message from `scipy.optimize.minimize`: ABNORMAL_TERMINATION_IN_LNSRCH\n",
      "  warn(\n",
      "c:\\Users\\stan\\miniconda3\\envs\\researchTP\\Lib\\site-packages\\botorch\\optim\\fit.py:102: OptimizationWarning: `scipy_minimize` terminated with status OptimizationStatus.FAILURE, displaying original message from `scipy.optimize.minimize`: ABNORMAL_TERMINATION_IN_LNSRCH\n",
      "  warn(\n",
      "c:\\Users\\stan\\miniconda3\\envs\\researchTP\\Lib\\site-packages\\botorch\\optim\\fit.py:102: OptimizationWarning: `scipy_minimize` terminated with status OptimizationStatus.FAILURE, displaying original message from `scipy.optimize.minimize`: ABNORMAL_TERMINATION_IN_LNSRCH\n",
      "  warn(\n",
      "c:\\Users\\stan\\miniconda3\\envs\\researchTP\\Lib\\site-packages\\botorch\\optim\\fit.py:102: OptimizationWarning: `scipy_minimize` terminated with status OptimizationStatus.FAILURE, displaying original message from `scipy.optimize.minimize`: ABNORMAL_TERMINATION_IN_LNSRCH\n",
      "  warn(\n",
      "c:\\Users\\stan\\miniconda3\\envs\\researchTP\\Lib\\site-packages\\botorch\\optim\\fit.py:102: OptimizationWarning: `scipy_minimize` terminated with status OptimizationStatus.FAILURE, displaying original message from `scipy.optimize.minimize`: ABNORMAL_TERMINATION_IN_LNSRCH\n",
      "  warn(\n",
      "c:\\Users\\stan\\miniconda3\\envs\\researchTP\\Lib\\site-packages\\botorch\\optim\\fit.py:102: OptimizationWarning: `scipy_minimize` terminated with status OptimizationStatus.FAILURE, displaying original message from `scipy.optimize.minimize`: ABNORMAL_TERMINATION_IN_LNSRCH\n",
      "  warn(\n",
      "c:\\Users\\stan\\miniconda3\\envs\\researchTP\\Lib\\site-packages\\botorch\\optim\\fit.py:102: OptimizationWarning: `scipy_minimize` terminated with status OptimizationStatus.FAILURE, displaying original message from `scipy.optimize.minimize`: ABNORMAL_TERMINATION_IN_LNSRCH\n",
      "  warn(\n",
      "c:\\Users\\stan\\miniconda3\\envs\\researchTP\\Lib\\site-packages\\botorch\\optim\\fit.py:102: OptimizationWarning: `scipy_minimize` terminated with status OptimizationStatus.FAILURE, displaying original message from `scipy.optimize.minimize`: ABNORMAL_TERMINATION_IN_LNSRCH\n",
      "  warn(\n",
      "c:\\Users\\stan\\miniconda3\\envs\\researchTP\\Lib\\site-packages\\botorch\\optim\\fit.py:102: OptimizationWarning: `scipy_minimize` terminated with status OptimizationStatus.FAILURE, displaying original message from `scipy.optimize.minimize`: ABNORMAL_TERMINATION_IN_LNSRCH\n",
      "  warn(\n",
      "c:\\Users\\stan\\miniconda3\\envs\\researchTP\\Lib\\site-packages\\botorch\\optim\\fit.py:102: OptimizationWarning: `scipy_minimize` terminated with status OptimizationStatus.FAILURE, displaying original message from `scipy.optimize.minimize`: ABNORMAL_TERMINATION_IN_LNSRCH\n",
      "  warn(\n",
      " 48%|████▊     | 24/50 [08:34<09:17, 21.43s/it]"
     ]
    },
    {
     "name": "stdout",
     "output_type": "stream",
     "text": [
      "Iterations 134\n",
      "Minimizing with EGP\n",
      "Seed: 27\n",
      "Initial points: tensor([[0.1200, 0.7700, 0.1100],\n",
      "        [0.2500, 0.7500, 0.0000],\n",
      "        [0.1800, 0.8200, 0.0000],\n",
      "        [0.1000, 0.9000, 0.0000],\n",
      "        [0.0500, 0.7885, 0.1615]])\n"
     ]
    },
    {
     "name": "stderr",
     "output_type": "stream",
     "text": [
      "c:\\Users\\stan\\miniconda3\\envs\\researchTP\\Lib\\site-packages\\gpytorch\\distributions\\multivariate_normal.py:319: NumericalWarning: Negative variance values detected. This is likely due to numerical instabilities. Rounding negative variances up to 1e-06.\n",
      "  warnings.warn(\n",
      "c:\\Users\\stan\\miniconda3\\envs\\researchTP\\Lib\\site-packages\\gpytorch\\distributions\\multivariate_normal.py:319: NumericalWarning: Negative variance values detected. This is likely due to numerical instabilities. Rounding negative variances up to 1e-06.\n",
      "  warnings.warn(\n",
      "c:\\Users\\stan\\miniconda3\\envs\\researchTP\\Lib\\site-packages\\gpytorch\\distributions\\multivariate_normal.py:319: NumericalWarning: Negative variance values detected. This is likely due to numerical instabilities. Rounding negative variances up to 1e-06.\n",
      "  warnings.warn(\n",
      "c:\\Users\\stan\\miniconda3\\envs\\researchTP\\Lib\\site-packages\\gpytorch\\distributions\\multivariate_normal.py:319: NumericalWarning: Negative variance values detected. This is likely due to numerical instabilities. Rounding negative variances up to 1e-06.\n",
      "  warnings.warn(\n",
      "c:\\Users\\stan\\miniconda3\\envs\\researchTP\\Lib\\site-packages\\gpytorch\\distributions\\multivariate_normal.py:319: NumericalWarning: Negative variance values detected. This is likely due to numerical instabilities. Rounding negative variances up to 1e-06.\n",
      "  warnings.warn(\n",
      "c:\\Users\\stan\\miniconda3\\envs\\researchTP\\Lib\\site-packages\\gpytorch\\distributions\\multivariate_normal.py:319: NumericalWarning: Negative variance values detected. This is likely due to numerical instabilities. Rounding negative variances up to 1e-06.\n",
      "  warnings.warn(\n",
      "c:\\Users\\stan\\miniconda3\\envs\\researchTP\\Lib\\site-packages\\botorch\\optim\\fit.py:102: OptimizationWarning: `scipy_minimize` terminated with status OptimizationStatus.FAILURE, displaying original message from `scipy.optimize.minimize`: ABNORMAL_TERMINATION_IN_LNSRCH\n",
      "  warn(\n",
      "c:\\Users\\stan\\miniconda3\\envs\\researchTP\\Lib\\site-packages\\botorch\\optim\\fit.py:102: OptimizationWarning: `scipy_minimize` terminated with status OptimizationStatus.FAILURE, displaying original message from `scipy.optimize.minimize`: ABNORMAL_TERMINATION_IN_LNSRCH\n",
      "  warn(\n",
      "c:\\Users\\stan\\miniconda3\\envs\\researchTP\\Lib\\site-packages\\botorch\\optim\\fit.py:102: OptimizationWarning: `scipy_minimize` terminated with status OptimizationStatus.FAILURE, displaying original message from `scipy.optimize.minimize`: ABNORMAL_TERMINATION_IN_LNSRCH\n",
      "  warn(\n",
      "c:\\Users\\stan\\miniconda3\\envs\\researchTP\\Lib\\site-packages\\botorch\\optim\\fit.py:102: OptimizationWarning: `scipy_minimize` terminated with status OptimizationStatus.FAILURE, displaying original message from `scipy.optimize.minimize`: ABNORMAL_TERMINATION_IN_LNSRCH\n",
      "  warn(\n",
      "c:\\Users\\stan\\miniconda3\\envs\\researchTP\\Lib\\site-packages\\botorch\\optim\\fit.py:102: OptimizationWarning: `scipy_minimize` terminated with status OptimizationStatus.FAILURE, displaying original message from `scipy.optimize.minimize`: ABNORMAL_TERMINATION_IN_LNSRCH\n",
      "  warn(\n",
      " 50%|█████     | 25/50 [08:51<08:25, 20.23s/it]"
     ]
    },
    {
     "name": "stdout",
     "output_type": "stream",
     "text": [
      "Iterations 134\n",
      "Minimizing with EGP\n",
      "Seed: 574\n",
      "Initial points: tensor([[0.7500, 0.2500, 0.0000],\n",
      "        [0.7000, 0.2900, 0.0100],\n",
      "        [0.2000, 0.6900, 0.1100],\n",
      "        [0.2300, 0.6600, 0.1100],\n",
      "        [0.6800, 0.1300, 0.1900]])\n"
     ]
    },
    {
     "name": "stderr",
     "output_type": "stream",
     "text": [
      "c:\\Users\\stan\\miniconda3\\envs\\researchTP\\Lib\\site-packages\\botorch\\optim\\fit.py:102: OptimizationWarning: `scipy_minimize` terminated with status OptimizationStatus.FAILURE, displaying original message from `scipy.optimize.minimize`: ABNORMAL_TERMINATION_IN_LNSRCH\n",
      "  warn(\n",
      "c:\\Users\\stan\\miniconda3\\envs\\researchTP\\Lib\\site-packages\\botorch\\optim\\fit.py:102: OptimizationWarning: `scipy_minimize` terminated with status OptimizationStatus.FAILURE, displaying original message from `scipy.optimize.minimize`: ABNORMAL_TERMINATION_IN_LNSRCH\n",
      "  warn(\n",
      "c:\\Users\\stan\\miniconda3\\envs\\researchTP\\Lib\\site-packages\\botorch\\optim\\fit.py:102: OptimizationWarning: `scipy_minimize` terminated with status OptimizationStatus.FAILURE, displaying original message from `scipy.optimize.minimize`: ABNORMAL_TERMINATION_IN_LNSRCH\n",
      "  warn(\n",
      "c:\\Users\\stan\\miniconda3\\envs\\researchTP\\Lib\\site-packages\\botorch\\optim\\fit.py:102: OptimizationWarning: `scipy_minimize` terminated with status OptimizationStatus.FAILURE, displaying original message from `scipy.optimize.minimize`: ABNORMAL_TERMINATION_IN_LNSRCH\n",
      "  warn(\n",
      "c:\\Users\\stan\\miniconda3\\envs\\researchTP\\Lib\\site-packages\\botorch\\optim\\fit.py:102: OptimizationWarning: `scipy_minimize` terminated with status OptimizationStatus.FAILURE, displaying original message from `scipy.optimize.minimize`: ABNORMAL_TERMINATION_IN_LNSRCH\n",
      "  warn(\n",
      "c:\\Users\\stan\\miniconda3\\envs\\researchTP\\Lib\\site-packages\\botorch\\optim\\fit.py:102: OptimizationWarning: `scipy_minimize` terminated with status OptimizationStatus.FAILURE, displaying original message from `scipy.optimize.minimize`: ABNORMAL_TERMINATION_IN_LNSRCH\n",
      "  warn(\n",
      "c:\\Users\\stan\\miniconda3\\envs\\researchTP\\Lib\\site-packages\\botorch\\optim\\fit.py:102: OptimizationWarning: `scipy_minimize` terminated with status OptimizationStatus.FAILURE, displaying original message from `scipy.optimize.minimize`: ABNORMAL_TERMINATION_IN_LNSRCH\n",
      "  warn(\n",
      "c:\\Users\\stan\\miniconda3\\envs\\researchTP\\Lib\\site-packages\\botorch\\optim\\fit.py:102: OptimizationWarning: `scipy_minimize` terminated with status OptimizationStatus.FAILURE, displaying original message from `scipy.optimize.minimize`: ABNORMAL_TERMINATION_IN_LNSRCH\n",
      "  warn(\n",
      " 52%|█████▏    | 26/50 [09:11<08:04, 20.19s/it]"
     ]
    },
    {
     "name": "stdout",
     "output_type": "stream",
     "text": [
      "Iterations 134\n",
      "Minimizing with EGP\n",
      "Seed: 203\n",
      "Initial points: tensor([[0.7600, 0.2400, 0.0000],\n",
      "        [0.5900, 0.4100, 0.0000],\n",
      "        [0.8300, 0.0300, 0.1400],\n",
      "        [0.2700, 0.3400, 0.4000],\n",
      "        [0.1700, 0.8000, 0.0300]])\n"
     ]
    },
    {
     "name": "stderr",
     "output_type": "stream",
     "text": [
      "c:\\Users\\stan\\miniconda3\\envs\\researchTP\\Lib\\site-packages\\botorch\\optim\\fit.py:102: OptimizationWarning: `scipy_minimize` terminated with status OptimizationStatus.FAILURE, displaying original message from `scipy.optimize.minimize`: ABNORMAL_TERMINATION_IN_LNSRCH\n",
      "  warn(\n",
      "c:\\Users\\stan\\miniconda3\\envs\\researchTP\\Lib\\site-packages\\botorch\\optim\\fit.py:102: OptimizationWarning: `scipy_minimize` terminated with status OptimizationStatus.FAILURE, displaying original message from `scipy.optimize.minimize`: ABNORMAL_TERMINATION_IN_LNSRCH\n",
      "  warn(\n",
      "c:\\Users\\stan\\miniconda3\\envs\\researchTP\\Lib\\site-packages\\botorch\\optim\\fit.py:102: OptimizationWarning: `scipy_minimize` terminated with status OptimizationStatus.FAILURE, displaying original message from `scipy.optimize.minimize`: ABNORMAL_TERMINATION_IN_LNSRCH\n",
      "  warn(\n",
      "c:\\Users\\stan\\miniconda3\\envs\\researchTP\\Lib\\site-packages\\botorch\\optim\\fit.py:102: OptimizationWarning: `scipy_minimize` terminated with status OptimizationStatus.FAILURE, displaying original message from `scipy.optimize.minimize`: ABNORMAL_TERMINATION_IN_LNSRCH\n",
      "  warn(\n",
      "c:\\Users\\stan\\miniconda3\\envs\\researchTP\\Lib\\site-packages\\botorch\\optim\\fit.py:102: OptimizationWarning: `scipy_minimize` terminated with status OptimizationStatus.FAILURE, displaying original message from `scipy.optimize.minimize`: ABNORMAL_TERMINATION_IN_LNSRCH\n",
      "  warn(\n",
      "c:\\Users\\stan\\miniconda3\\envs\\researchTP\\Lib\\site-packages\\botorch\\optim\\fit.py:102: OptimizationWarning: `scipy_minimize` terminated with status OptimizationStatus.FAILURE, displaying original message from `scipy.optimize.minimize`: ABNORMAL_TERMINATION_IN_LNSRCH\n",
      "  warn(\n",
      "c:\\Users\\stan\\miniconda3\\envs\\researchTP\\Lib\\site-packages\\botorch\\optim\\fit.py:102: OptimizationWarning: `scipy_minimize` terminated with status OptimizationStatus.FAILURE, displaying original message from `scipy.optimize.minimize`: ABNORMAL_TERMINATION_IN_LNSRCH\n",
      "  warn(\n",
      "c:\\Users\\stan\\miniconda3\\envs\\researchTP\\Lib\\site-packages\\botorch\\optim\\fit.py:102: OptimizationWarning: `scipy_minimize` terminated with status OptimizationStatus.FAILURE, displaying original message from `scipy.optimize.minimize`: ABNORMAL_TERMINATION_IN_LNSRCH\n",
      "  warn(\n",
      "c:\\Users\\stan\\miniconda3\\envs\\researchTP\\Lib\\site-packages\\botorch\\optim\\fit.py:102: OptimizationWarning: `scipy_minimize` terminated with status OptimizationStatus.FAILURE, displaying original message from `scipy.optimize.minimize`: ABNORMAL_TERMINATION_IN_LNSRCH\n",
      "  warn(\n",
      " 54%|█████▍    | 27/50 [09:33<07:52, 20.54s/it]"
     ]
    },
    {
     "name": "stdout",
     "output_type": "stream",
     "text": [
      "Iterations 134\n",
      "Minimizing with EGP\n",
      "Seed: 733\n",
      "Initial points: tensor([[0.1800, 0.7800, 0.0400],\n",
      "        [0.2000, 0.6900, 0.1100],\n",
      "        [0.8700, 0.1200, 0.0100],\n",
      "        [0.1300, 0.7900, 0.0800],\n",
      "        [0.1300, 0.7900, 0.0800]])\n"
     ]
    },
    {
     "name": "stderr",
     "output_type": "stream",
     "text": [
      "c:\\Users\\stan\\miniconda3\\envs\\researchTP\\Lib\\site-packages\\gpytorch\\distributions\\multivariate_normal.py:319: NumericalWarning: Negative variance values detected. This is likely due to numerical instabilities. Rounding negative variances up to 1e-06.\n",
      "  warnings.warn(\n",
      "c:\\Users\\stan\\miniconda3\\envs\\researchTP\\Lib\\site-packages\\gpytorch\\distributions\\multivariate_normal.py:319: NumericalWarning: Negative variance values detected. This is likely due to numerical instabilities. Rounding negative variances up to 1e-06.\n",
      "  warnings.warn(\n",
      "c:\\Users\\stan\\miniconda3\\envs\\researchTP\\Lib\\site-packages\\linear_operator\\utils\\cholesky.py:40: NumericalWarning: A not p.d., added jitter of 1.0e-06 to the diagonal\n",
      "  warnings.warn(\n",
      "c:\\Users\\stan\\miniconda3\\envs\\researchTP\\Lib\\site-packages\\linear_operator\\utils\\cholesky.py:40: NumericalWarning: A not p.d., added jitter of 1.0e-05 to the diagonal\n",
      "  warnings.warn(\n",
      "c:\\Users\\stan\\miniconda3\\envs\\researchTP\\Lib\\site-packages\\linear_operator\\utils\\cholesky.py:40: NumericalWarning: A not p.d., added jitter of 1.0e-04 to the diagonal\n",
      "  warnings.warn(\n",
      "c:\\Users\\stan\\miniconda3\\envs\\researchTP\\Lib\\site-packages\\linear_operator\\utils\\cholesky.py:40: NumericalWarning: A not p.d., added jitter of 1.0e-03 to the diagonal\n",
      "  warnings.warn(\n",
      "c:\\Users\\stan\\miniconda3\\envs\\researchTP\\Lib\\site-packages\\linear_operator\\utils\\cholesky.py:40: NumericalWarning: A not p.d., added jitter of 1.0e-02 to the diagonal\n",
      "  warnings.warn(\n",
      "c:\\Users\\stan\\miniconda3\\envs\\researchTP\\Lib\\site-packages\\linear_operator\\utils\\cholesky.py:40: NumericalWarning: A not p.d., added jitter of 1.0e-01 to the diagonal\n",
      "  warnings.warn(\n",
      "c:\\Users\\stan\\miniconda3\\envs\\researchTP\\Lib\\site-packages\\botorch\\optim\\fit.py:102: OptimizationWarning: `scipy_minimize` terminated with status OptimizationStatus.FAILURE, displaying original message from `scipy.optimize.minimize`: ABNORMAL_TERMINATION_IN_LNSRCH\n",
      "  warn(\n",
      "c:\\Users\\stan\\miniconda3\\envs\\researchTP\\Lib\\site-packages\\botorch\\optim\\fit.py:102: OptimizationWarning: `scipy_minimize` terminated with status OptimizationStatus.FAILURE, displaying original message from `scipy.optimize.minimize`: ABNORMAL_TERMINATION_IN_LNSRCH\n",
      "  warn(\n",
      "c:\\Users\\stan\\miniconda3\\envs\\researchTP\\Lib\\site-packages\\botorch\\optim\\fit.py:102: OptimizationWarning: `scipy_minimize` terminated with status OptimizationStatus.FAILURE, displaying original message from `scipy.optimize.minimize`: ABNORMAL_TERMINATION_IN_LNSRCH\n",
      "  warn(\n",
      "c:\\Users\\stan\\miniconda3\\envs\\researchTP\\Lib\\site-packages\\botorch\\optim\\fit.py:102: OptimizationWarning: `scipy_minimize` terminated with status OptimizationStatus.FAILURE, displaying original message from `scipy.optimize.minimize`: ABNORMAL_TERMINATION_IN_LNSRCH\n",
      "  warn(\n",
      "c:\\Users\\stan\\miniconda3\\envs\\researchTP\\Lib\\site-packages\\botorch\\optim\\fit.py:102: OptimizationWarning: `scipy_minimize` terminated with status OptimizationStatus.FAILURE, displaying original message from `scipy.optimize.minimize`: ABNORMAL_TERMINATION_IN_LNSRCH\n",
      "  warn(\n",
      "c:\\Users\\stan\\miniconda3\\envs\\researchTP\\Lib\\site-packages\\botorch\\optim\\fit.py:102: OptimizationWarning: `scipy_minimize` terminated with status OptimizationStatus.FAILURE, displaying original message from `scipy.optimize.minimize`: ABNORMAL_TERMINATION_IN_LNSRCH\n",
      "  warn(\n",
      "c:\\Users\\stan\\miniconda3\\envs\\researchTP\\Lib\\site-packages\\botorch\\optim\\fit.py:102: OptimizationWarning: `scipy_minimize` terminated with status OptimizationStatus.FAILURE, displaying original message from `scipy.optimize.minimize`: ABNORMAL_TERMINATION_IN_LNSRCH\n",
      "  warn(\n",
      "c:\\Users\\stan\\miniconda3\\envs\\researchTP\\Lib\\site-packages\\botorch\\optim\\fit.py:102: OptimizationWarning: `scipy_minimize` terminated with status OptimizationStatus.FAILURE, displaying original message from `scipy.optimize.minimize`: ABNORMAL_TERMINATION_IN_LNSRCH\n",
      "  warn(\n",
      " 56%|█████▌    | 28/50 [09:53<07:30, 20.47s/it]"
     ]
    },
    {
     "name": "stdout",
     "output_type": "stream",
     "text": [
      "Iterations 134\n",
      "Minimizing with EGP\n",
      "Seed: 665\n",
      "Initial points: tensor([[0.2500, 0.7000, 0.0600],\n",
      "        [0.8300, 0.0000, 0.1700],\n",
      "        [0.1300, 0.8500, 0.0200],\n",
      "        [0.6800, 0.1300, 0.1900],\n",
      "        [0.1000, 0.8900, 0.0100]])\n"
     ]
    },
    {
     "name": "stderr",
     "output_type": "stream",
     "text": [
      "c:\\Users\\stan\\miniconda3\\envs\\researchTP\\Lib\\site-packages\\botorch\\optim\\fit.py:102: OptimizationWarning: `scipy_minimize` terminated with status OptimizationStatus.FAILURE, displaying original message from `scipy.optimize.minimize`: ABNORMAL_TERMINATION_IN_LNSRCH\n",
      "  warn(\n",
      "c:\\Users\\stan\\miniconda3\\envs\\researchTP\\Lib\\site-packages\\botorch\\optim\\fit.py:102: OptimizationWarning: `scipy_minimize` terminated with status OptimizationStatus.FAILURE, displaying original message from `scipy.optimize.minimize`: ABNORMAL_TERMINATION_IN_LNSRCH\n",
      "  warn(\n",
      "c:\\Users\\stan\\miniconda3\\envs\\researchTP\\Lib\\site-packages\\botorch\\optim\\fit.py:102: OptimizationWarning: `scipy_minimize` terminated with status OptimizationStatus.FAILURE, displaying original message from `scipy.optimize.minimize`: ABNORMAL_TERMINATION_IN_LNSRCH\n",
      "  warn(\n",
      "c:\\Users\\stan\\miniconda3\\envs\\researchTP\\Lib\\site-packages\\botorch\\optim\\fit.py:102: OptimizationWarning: `scipy_minimize` terminated with status OptimizationStatus.FAILURE, displaying original message from `scipy.optimize.minimize`: ABNORMAL_TERMINATION_IN_LNSRCH\n",
      "  warn(\n",
      "c:\\Users\\stan\\miniconda3\\envs\\researchTP\\Lib\\site-packages\\botorch\\optim\\fit.py:102: OptimizationWarning: `scipy_minimize` terminated with status OptimizationStatus.FAILURE, displaying original message from `scipy.optimize.minimize`: ABNORMAL_TERMINATION_IN_LNSRCH\n",
      "  warn(\n",
      "c:\\Users\\stan\\miniconda3\\envs\\researchTP\\Lib\\site-packages\\botorch\\optim\\fit.py:102: OptimizationWarning: `scipy_minimize` terminated with status OptimizationStatus.FAILURE, displaying original message from `scipy.optimize.minimize`: ABNORMAL_TERMINATION_IN_LNSRCH\n",
      "  warn(\n",
      "c:\\Users\\stan\\miniconda3\\envs\\researchTP\\Lib\\site-packages\\botorch\\optim\\fit.py:102: OptimizationWarning: `scipy_minimize` terminated with status OptimizationStatus.FAILURE, displaying original message from `scipy.optimize.minimize`: ABNORMAL_TERMINATION_IN_LNSRCH\n",
      "  warn(\n",
      "c:\\Users\\stan\\miniconda3\\envs\\researchTP\\Lib\\site-packages\\botorch\\optim\\fit.py:102: OptimizationWarning: `scipy_minimize` terminated with status OptimizationStatus.FAILURE, displaying original message from `scipy.optimize.minimize`: ABNORMAL_TERMINATION_IN_LNSRCH\n",
      "  warn(\n",
      "c:\\Users\\stan\\miniconda3\\envs\\researchTP\\Lib\\site-packages\\linear_operator\\utils\\cholesky.py:40: NumericalWarning: A not p.d., added jitter of 1.0e-06 to the diagonal\n",
      "  warnings.warn(\n",
      "c:\\Users\\stan\\miniconda3\\envs\\researchTP\\Lib\\site-packages\\linear_operator\\utils\\cholesky.py:40: NumericalWarning: A not p.d., added jitter of 1.0e-05 to the diagonal\n",
      "  warnings.warn(\n",
      "c:\\Users\\stan\\miniconda3\\envs\\researchTP\\Lib\\site-packages\\linear_operator\\utils\\cholesky.py:40: NumericalWarning: A not p.d., added jitter of 1.0e-04 to the diagonal\n",
      "  warnings.warn(\n",
      "c:\\Users\\stan\\miniconda3\\envs\\researchTP\\Lib\\site-packages\\linear_operator\\utils\\cholesky.py:40: NumericalWarning: A not p.d., added jitter of 1.0e-03 to the diagonal\n",
      "  warnings.warn(\n",
      " 58%|█████▊    | 29/50 [10:15<07:17, 20.82s/it]"
     ]
    },
    {
     "name": "stdout",
     "output_type": "stream",
     "text": [
      "Iterations 134\n",
      "Minimizing with EGP\n",
      "Seed: 718\n",
      "Initial points: tensor([[0.3200, 0.6700, 0.0100],\n",
      "        [0.2700, 0.7200, 0.0100],\n",
      "        [0.5000, 0.5000, 0.0000],\n",
      "        [0.2200, 0.7800, 0.0000],\n",
      "        [0.6800, 0.1300, 0.1900]])\n"
     ]
    },
    {
     "name": "stderr",
     "output_type": "stream",
     "text": [
      "c:\\Users\\stan\\miniconda3\\envs\\researchTP\\Lib\\site-packages\\botorch\\optim\\fit.py:102: OptimizationWarning: `scipy_minimize` terminated with status OptimizationStatus.FAILURE, displaying original message from `scipy.optimize.minimize`: ABNORMAL_TERMINATION_IN_LNSRCH\n",
      "  warn(\n",
      "c:\\Users\\stan\\miniconda3\\envs\\researchTP\\Lib\\site-packages\\botorch\\optim\\fit.py:102: OptimizationWarning: `scipy_minimize` terminated with status OptimizationStatus.FAILURE, displaying original message from `scipy.optimize.minimize`: ABNORMAL_TERMINATION_IN_LNSRCH\n",
      "  warn(\n",
      "c:\\Users\\stan\\miniconda3\\envs\\researchTP\\Lib\\site-packages\\botorch\\optim\\fit.py:102: OptimizationWarning: `scipy_minimize` terminated with status OptimizationStatus.FAILURE, displaying original message from `scipy.optimize.minimize`: ABNORMAL_TERMINATION_IN_LNSRCH\n",
      "  warn(\n",
      "c:\\Users\\stan\\miniconda3\\envs\\researchTP\\Lib\\site-packages\\botorch\\optim\\fit.py:102: OptimizationWarning: `scipy_minimize` terminated with status OptimizationStatus.FAILURE, displaying original message from `scipy.optimize.minimize`: ABNORMAL_TERMINATION_IN_LNSRCH\n",
      "  warn(\n",
      "c:\\Users\\stan\\miniconda3\\envs\\researchTP\\Lib\\site-packages\\botorch\\optim\\fit.py:102: OptimizationWarning: `scipy_minimize` terminated with status OptimizationStatus.FAILURE, displaying original message from `scipy.optimize.minimize`: ABNORMAL_TERMINATION_IN_LNSRCH\n",
      "  warn(\n",
      "c:\\Users\\stan\\miniconda3\\envs\\researchTP\\Lib\\site-packages\\botorch\\optim\\fit.py:102: OptimizationWarning: `scipy_minimize` terminated with status OptimizationStatus.FAILURE, displaying original message from `scipy.optimize.minimize`: ABNORMAL_TERMINATION_IN_LNSRCH\n",
      "  warn(\n",
      "c:\\Users\\stan\\miniconda3\\envs\\researchTP\\Lib\\site-packages\\botorch\\optim\\fit.py:102: OptimizationWarning: `scipy_minimize` terminated with status OptimizationStatus.FAILURE, displaying original message from `scipy.optimize.minimize`: ABNORMAL_TERMINATION_IN_LNSRCH\n",
      "  warn(\n",
      "c:\\Users\\stan\\miniconda3\\envs\\researchTP\\Lib\\site-packages\\botorch\\optim\\fit.py:102: OptimizationWarning: `scipy_minimize` terminated with status OptimizationStatus.FAILURE, displaying original message from `scipy.optimize.minimize`: ABNORMAL_TERMINATION_IN_LNSRCH\n",
      "  warn(\n",
      "c:\\Users\\stan\\miniconda3\\envs\\researchTP\\Lib\\site-packages\\botorch\\optim\\fit.py:102: OptimizationWarning: `scipy_minimize` terminated with status OptimizationStatus.FAILURE, displaying original message from `scipy.optimize.minimize`: ABNORMAL_TERMINATION_IN_LNSRCH\n",
      "  warn(\n",
      "c:\\Users\\stan\\miniconda3\\envs\\researchTP\\Lib\\site-packages\\botorch\\optim\\fit.py:102: OptimizationWarning: `scipy_minimize` terminated with status OptimizationStatus.FAILURE, displaying original message from `scipy.optimize.minimize`: ABNORMAL_TERMINATION_IN_LNSRCH\n",
      "  warn(\n",
      "c:\\Users\\stan\\miniconda3\\envs\\researchTP\\Lib\\site-packages\\botorch\\optim\\fit.py:102: OptimizationWarning: `scipy_minimize` terminated with status OptimizationStatus.FAILURE, displaying original message from `scipy.optimize.minimize`: ABNORMAL_TERMINATION_IN_LNSRCH\n",
      "  warn(\n",
      "c:\\Users\\stan\\miniconda3\\envs\\researchTP\\Lib\\site-packages\\botorch\\optim\\fit.py:102: OptimizationWarning: `scipy_minimize` terminated with status OptimizationStatus.FAILURE, displaying original message from `scipy.optimize.minimize`: ABNORMAL_TERMINATION_IN_LNSRCH\n",
      "  warn(\n",
      "c:\\Users\\stan\\miniconda3\\envs\\researchTP\\Lib\\site-packages\\botorch\\optim\\fit.py:102: OptimizationWarning: `scipy_minimize` terminated with status OptimizationStatus.FAILURE, displaying original message from `scipy.optimize.minimize`: ABNORMAL_TERMINATION_IN_LNSRCH\n",
      "  warn(\n",
      "c:\\Users\\stan\\miniconda3\\envs\\researchTP\\Lib\\site-packages\\botorch\\optim\\fit.py:102: OptimizationWarning: `scipy_minimize` terminated with status OptimizationStatus.FAILURE, displaying original message from `scipy.optimize.minimize`: ABNORMAL_TERMINATION_IN_LNSRCH\n",
      "  warn(\n",
      "c:\\Users\\stan\\miniconda3\\envs\\researchTP\\Lib\\site-packages\\botorch\\optim\\fit.py:102: OptimizationWarning: `scipy_minimize` terminated with status OptimizationStatus.FAILURE, displaying original message from `scipy.optimize.minimize`: ABNORMAL_TERMINATION_IN_LNSRCH\n",
      "  warn(\n",
      " 60%|██████    | 30/50 [10:37<07:08, 21.42s/it]"
     ]
    },
    {
     "name": "stdout",
     "output_type": "stream",
     "text": [
      "Iterations 134\n",
      "Minimizing with EGP\n",
      "Seed: 429\n",
      "Initial points: tensor([[0.9100, 0.0100, 0.0800],\n",
      "        [0.2300, 0.6600, 0.1100],\n",
      "        [0.1900, 0.7000, 0.1100],\n",
      "        [0.3000, 0.6900, 0.0100],\n",
      "        [0.5000, 0.5000, 0.0000]])\n"
     ]
    },
    {
     "name": "stderr",
     "output_type": "stream",
     "text": [
      "c:\\Users\\stan\\miniconda3\\envs\\researchTP\\Lib\\site-packages\\botorch\\optim\\fit.py:102: OptimizationWarning: `scipy_minimize` terminated with status OptimizationStatus.FAILURE, displaying original message from `scipy.optimize.minimize`: ABNORMAL_TERMINATION_IN_LNSRCH\n",
      "  warn(\n",
      "c:\\Users\\stan\\miniconda3\\envs\\researchTP\\Lib\\site-packages\\botorch\\optim\\fit.py:102: OptimizationWarning: `scipy_minimize` terminated with status OptimizationStatus.FAILURE, displaying original message from `scipy.optimize.minimize`: ABNORMAL_TERMINATION_IN_LNSRCH\n",
      "  warn(\n",
      "c:\\Users\\stan\\miniconda3\\envs\\researchTP\\Lib\\site-packages\\botorch\\optim\\fit.py:102: OptimizationWarning: `scipy_minimize` terminated with status OptimizationStatus.FAILURE, displaying original message from `scipy.optimize.minimize`: ABNORMAL_TERMINATION_IN_LNSRCH\n",
      "  warn(\n",
      "c:\\Users\\stan\\miniconda3\\envs\\researchTP\\Lib\\site-packages\\botorch\\optim\\fit.py:102: OptimizationWarning: `scipy_minimize` terminated with status OptimizationStatus.FAILURE, displaying original message from `scipy.optimize.minimize`: ABNORMAL_TERMINATION_IN_LNSRCH\n",
      "  warn(\n",
      "c:\\Users\\stan\\miniconda3\\envs\\researchTP\\Lib\\site-packages\\botorch\\optim\\fit.py:102: OptimizationWarning: `scipy_minimize` terminated with status OptimizationStatus.FAILURE, displaying original message from `scipy.optimize.minimize`: ABNORMAL_TERMINATION_IN_LNSRCH\n",
      "  warn(\n",
      " 62%|██████▏   | 31/50 [10:58<06:44, 21.31s/it]"
     ]
    },
    {
     "name": "stdout",
     "output_type": "stream",
     "text": [
      "Iterations 134\n",
      "Minimizing with EGP\n",
      "Seed: 225\n",
      "Initial points: tensor([[0.7500, 0.0000, 0.2500],\n",
      "        [1.0000, 0.0000, 0.0000],\n",
      "        [0.4100, 0.5800, 0.0100],\n",
      "        [0.1800, 0.8200, 0.0000],\n",
      "        [0.6300, 0.3700, 0.0000]])\n"
     ]
    },
    {
     "name": "stderr",
     "output_type": "stream",
     "text": [
      "c:\\Users\\stan\\miniconda3\\envs\\researchTP\\Lib\\site-packages\\linear_operator\\utils\\cholesky.py:40: NumericalWarning: A not p.d., added jitter of 1.0e-06 to the diagonal\n",
      "  warnings.warn(\n",
      "c:\\Users\\stan\\miniconda3\\envs\\researchTP\\Lib\\site-packages\\linear_operator\\utils\\cholesky.py:40: NumericalWarning: A not p.d., added jitter of 1.0e-05 to the diagonal\n",
      "  warnings.warn(\n",
      "c:\\Users\\stan\\miniconda3\\envs\\researchTP\\Lib\\site-packages\\linear_operator\\utils\\cholesky.py:40: NumericalWarning: A not p.d., added jitter of 1.0e-04 to the diagonal\n",
      "  warnings.warn(\n",
      "c:\\Users\\stan\\miniconda3\\envs\\researchTP\\Lib\\site-packages\\linear_operator\\utils\\cholesky.py:40: NumericalWarning: A not p.d., added jitter of 1.0e-03 to the diagonal\n",
      "  warnings.warn(\n",
      "c:\\Users\\stan\\miniconda3\\envs\\researchTP\\Lib\\site-packages\\linear_operator\\utils\\cholesky.py:40: NumericalWarning: A not p.d., added jitter of 1.0e-02 to the diagonal\n",
      "  warnings.warn(\n",
      "c:\\Users\\stan\\miniconda3\\envs\\researchTP\\Lib\\site-packages\\linear_operator\\utils\\cholesky.py:40: NumericalWarning: A not p.d., added jitter of 1.0e-01 to the diagonal\n",
      "  warnings.warn(\n",
      "c:\\Users\\stan\\miniconda3\\envs\\researchTP\\Lib\\site-packages\\botorch\\optim\\fit.py:102: OptimizationWarning: `scipy_minimize` terminated with status OptimizationStatus.FAILURE, displaying original message from `scipy.optimize.minimize`: ABNORMAL_TERMINATION_IN_LNSRCH\n",
      "  warn(\n",
      "c:\\Users\\stan\\miniconda3\\envs\\researchTP\\Lib\\site-packages\\botorch\\optim\\fit.py:102: OptimizationWarning: `scipy_minimize` terminated with status OptimizationStatus.FAILURE, displaying original message from `scipy.optimize.minimize`: ABNORMAL_TERMINATION_IN_LNSRCH\n",
      "  warn(\n",
      "c:\\Users\\stan\\miniconda3\\envs\\researchTP\\Lib\\site-packages\\botorch\\optim\\fit.py:102: OptimizationWarning: `scipy_minimize` terminated with status OptimizationStatus.FAILURE, displaying original message from `scipy.optimize.minimize`: ABNORMAL_TERMINATION_IN_LNSRCH\n",
      "  warn(\n",
      "c:\\Users\\stan\\miniconda3\\envs\\researchTP\\Lib\\site-packages\\botorch\\optim\\fit.py:102: OptimizationWarning: `scipy_minimize` terminated with status OptimizationStatus.FAILURE, displaying original message from `scipy.optimize.minimize`: ABNORMAL_TERMINATION_IN_LNSRCH\n",
      "  warn(\n",
      "c:\\Users\\stan\\miniconda3\\envs\\researchTP\\Lib\\site-packages\\botorch\\optim\\fit.py:102: OptimizationWarning: `scipy_minimize` terminated with status OptimizationStatus.FAILURE, displaying original message from `scipy.optimize.minimize`: ABNORMAL_TERMINATION_IN_LNSRCH\n",
      "  warn(\n",
      "c:\\Users\\stan\\miniconda3\\envs\\researchTP\\Lib\\site-packages\\botorch\\optim\\fit.py:102: OptimizationWarning: `scipy_minimize` terminated with status OptimizationStatus.FAILURE, displaying original message from `scipy.optimize.minimize`: ABNORMAL_TERMINATION_IN_LNSRCH\n",
      "  warn(\n",
      "c:\\Users\\stan\\miniconda3\\envs\\researchTP\\Lib\\site-packages\\botorch\\optim\\fit.py:102: OptimizationWarning: `scipy_minimize` terminated with status OptimizationStatus.FAILURE, displaying original message from `scipy.optimize.minimize`: ABNORMAL_TERMINATION_IN_LNSRCH\n",
      "  warn(\n",
      "c:\\Users\\stan\\miniconda3\\envs\\researchTP\\Lib\\site-packages\\botorch\\optim\\fit.py:102: OptimizationWarning: `scipy_minimize` terminated with status OptimizationStatus.FAILURE, displaying original message from `scipy.optimize.minimize`: ABNORMAL_TERMINATION_IN_LNSRCH\n",
      "  warn(\n",
      "c:\\Users\\stan\\miniconda3\\envs\\researchTP\\Lib\\site-packages\\botorch\\optim\\fit.py:102: OptimizationWarning: `scipy_minimize` terminated with status OptimizationStatus.FAILURE, displaying original message from `scipy.optimize.minimize`: ABNORMAL_TERMINATION_IN_LNSRCH\n",
      "  warn(\n",
      "c:\\Users\\stan\\miniconda3\\envs\\researchTP\\Lib\\site-packages\\botorch\\optim\\fit.py:102: OptimizationWarning: `scipy_minimize` terminated with status OptimizationStatus.FAILURE, displaying original message from `scipy.optimize.minimize`: ABNORMAL_TERMINATION_IN_LNSRCH\n",
      "  warn(\n",
      "c:\\Users\\stan\\miniconda3\\envs\\researchTP\\Lib\\site-packages\\botorch\\optim\\fit.py:102: OptimizationWarning: `scipy_minimize` terminated with status OptimizationStatus.FAILURE, displaying original message from `scipy.optimize.minimize`: ABNORMAL_TERMINATION_IN_LNSRCH\n",
      "  warn(\n",
      "c:\\Users\\stan\\miniconda3\\envs\\researchTP\\Lib\\site-packages\\botorch\\optim\\fit.py:102: OptimizationWarning: `scipy_minimize` terminated with status OptimizationStatus.FAILURE, displaying original message from `scipy.optimize.minimize`: ABNORMAL_TERMINATION_IN_LNSRCH\n",
      "  warn(\n",
      "c:\\Users\\stan\\miniconda3\\envs\\researchTP\\Lib\\site-packages\\botorch\\optim\\fit.py:102: OptimizationWarning: `scipy_minimize` terminated with status OptimizationStatus.FAILURE, displaying original message from `scipy.optimize.minimize`: ABNORMAL_TERMINATION_IN_LNSRCH\n",
      "  warn(\n",
      "c:\\Users\\stan\\miniconda3\\envs\\researchTP\\Lib\\site-packages\\botorch\\optim\\fit.py:102: OptimizationWarning: `scipy_minimize` terminated with status OptimizationStatus.FAILURE, displaying original message from `scipy.optimize.minimize`: ABNORMAL_TERMINATION_IN_LNSRCH\n",
      "  warn(\n",
      " 64%|██████▍   | 32/50 [11:21<06:32, 21.82s/it]"
     ]
    },
    {
     "name": "stdout",
     "output_type": "stream",
     "text": [
      "Iterations 134\n",
      "Minimizing with EGP\n",
      "Seed: 459\n",
      "Initial points: tensor([[0.2500, 0.7500, 0.0000],\n",
      "        [0.6300, 0.3700, 0.0000],\n",
      "        [0.1600, 0.7500, 0.0900],\n",
      "        [0.1600, 0.8400, 0.0000],\n",
      "        [0.5000, 0.2500, 0.2500]])\n"
     ]
    },
    {
     "name": "stderr",
     "output_type": "stream",
     "text": [
      "c:\\Users\\stan\\miniconda3\\envs\\researchTP\\Lib\\site-packages\\botorch\\optim\\fit.py:102: OptimizationWarning: `scipy_minimize` terminated with status OptimizationStatus.FAILURE, displaying original message from `scipy.optimize.minimize`: ABNORMAL_TERMINATION_IN_LNSRCH\n",
      "  warn(\n",
      "c:\\Users\\stan\\miniconda3\\envs\\researchTP\\Lib\\site-packages\\botorch\\optim\\fit.py:102: OptimizationWarning: `scipy_minimize` terminated with status OptimizationStatus.FAILURE, displaying original message from `scipy.optimize.minimize`: ABNORMAL_TERMINATION_IN_LNSRCH\n",
      "  warn(\n",
      "c:\\Users\\stan\\miniconda3\\envs\\researchTP\\Lib\\site-packages\\botorch\\optim\\fit.py:102: OptimizationWarning: `scipy_minimize` terminated with status OptimizationStatus.FAILURE, displaying original message from `scipy.optimize.minimize`: ABNORMAL_TERMINATION_IN_LNSRCH\n",
      "  warn(\n",
      "c:\\Users\\stan\\miniconda3\\envs\\researchTP\\Lib\\site-packages\\botorch\\optim\\fit.py:102: OptimizationWarning: `scipy_minimize` terminated with status OptimizationStatus.FAILURE, displaying original message from `scipy.optimize.minimize`: ABNORMAL_TERMINATION_IN_LNSRCH\n",
      "  warn(\n",
      "c:\\Users\\stan\\miniconda3\\envs\\researchTP\\Lib\\site-packages\\botorch\\optim\\fit.py:102: OptimizationWarning: `scipy_minimize` terminated with status OptimizationStatus.FAILURE, displaying original message from `scipy.optimize.minimize`: ABNORMAL_TERMINATION_IN_LNSRCH\n",
      "  warn(\n",
      "c:\\Users\\stan\\miniconda3\\envs\\researchTP\\Lib\\site-packages\\botorch\\optim\\fit.py:102: OptimizationWarning: `scipy_minimize` terminated with status OptimizationStatus.FAILURE, displaying original message from `scipy.optimize.minimize`: ABNORMAL_TERMINATION_IN_LNSRCH\n",
      "  warn(\n",
      "c:\\Users\\stan\\miniconda3\\envs\\researchTP\\Lib\\site-packages\\botorch\\optim\\fit.py:102: OptimizationWarning: `scipy_minimize` terminated with status OptimizationStatus.FAILURE, displaying original message from `scipy.optimize.minimize`: ABNORMAL_TERMINATION_IN_LNSRCH\n",
      "  warn(\n",
      "c:\\Users\\stan\\miniconda3\\envs\\researchTP\\Lib\\site-packages\\botorch\\optim\\fit.py:102: OptimizationWarning: `scipy_minimize` terminated with status OptimizationStatus.FAILURE, displaying original message from `scipy.optimize.minimize`: ABNORMAL_TERMINATION_IN_LNSRCH\n",
      "  warn(\n",
      "c:\\Users\\stan\\miniconda3\\envs\\researchTP\\Lib\\site-packages\\botorch\\optim\\fit.py:102: OptimizationWarning: `scipy_minimize` terminated with status OptimizationStatus.FAILURE, displaying original message from `scipy.optimize.minimize`: ABNORMAL_TERMINATION_IN_LNSRCH\n",
      "  warn(\n",
      "c:\\Users\\stan\\miniconda3\\envs\\researchTP\\Lib\\site-packages\\botorch\\optim\\fit.py:102: OptimizationWarning: `scipy_minimize` terminated with status OptimizationStatus.FAILURE, displaying original message from `scipy.optimize.minimize`: ABNORMAL_TERMINATION_IN_LNSRCH\n",
      "  warn(\n",
      "c:\\Users\\stan\\miniconda3\\envs\\researchTP\\Lib\\site-packages\\botorch\\optim\\fit.py:102: OptimizationWarning: `scipy_minimize` terminated with status OptimizationStatus.FAILURE, displaying original message from `scipy.optimize.minimize`: ABNORMAL_TERMINATION_IN_LNSRCH\n",
      "  warn(\n",
      "c:\\Users\\stan\\miniconda3\\envs\\researchTP\\Lib\\site-packages\\botorch\\optim\\fit.py:102: OptimizationWarning: `scipy_minimize` terminated with status OptimizationStatus.FAILURE, displaying original message from `scipy.optimize.minimize`: ABNORMAL_TERMINATION_IN_LNSRCH\n",
      "  warn(\n",
      "c:\\Users\\stan\\miniconda3\\envs\\researchTP\\Lib\\site-packages\\botorch\\optim\\fit.py:102: OptimizationWarning: `scipy_minimize` terminated with status OptimizationStatus.FAILURE, displaying original message from `scipy.optimize.minimize`: ABNORMAL_TERMINATION_IN_LNSRCH\n",
      "  warn(\n",
      "c:\\Users\\stan\\miniconda3\\envs\\researchTP\\Lib\\site-packages\\botorch\\optim\\fit.py:102: OptimizationWarning: `scipy_minimize` terminated with status OptimizationStatus.FAILURE, displaying original message from `scipy.optimize.minimize`: ABNORMAL_TERMINATION_IN_LNSRCH\n",
      "  warn(\n",
      "c:\\Users\\stan\\miniconda3\\envs\\researchTP\\Lib\\site-packages\\botorch\\optim\\fit.py:102: OptimizationWarning: `scipy_minimize` terminated with status OptimizationStatus.FAILURE, displaying original message from `scipy.optimize.minimize`: ABNORMAL_TERMINATION_IN_LNSRCH\n",
      "  warn(\n",
      "c:\\Users\\stan\\miniconda3\\envs\\researchTP\\Lib\\site-packages\\botorch\\optim\\fit.py:102: OptimizationWarning: `scipy_minimize` terminated with status OptimizationStatus.FAILURE, displaying original message from `scipy.optimize.minimize`: ABNORMAL_TERMINATION_IN_LNSRCH\n",
      "  warn(\n",
      " 66%|██████▌   | 33/50 [11:41<06:00, 21.23s/it]"
     ]
    },
    {
     "name": "stdout",
     "output_type": "stream",
     "text": [
      "Iterations 134\n",
      "Minimizing with EGP\n",
      "Seed: 603\n",
      "Initial points: tensor([[0.8400, 0.0000, 0.1600],\n",
      "        [0.3100, 0.3600, 0.3300],\n",
      "        [0.2800, 0.3700, 0.3500],\n",
      "        [0.2600, 0.7400, 0.0000],\n",
      "        [0.7100, 0.0100, 0.2800]])\n"
     ]
    },
    {
     "name": "stderr",
     "output_type": "stream",
     "text": [
      "c:\\Users\\stan\\miniconda3\\envs\\researchTP\\Lib\\site-packages\\botorch\\optim\\fit.py:102: OptimizationWarning: `scipy_minimize` terminated with status OptimizationStatus.FAILURE, displaying original message from `scipy.optimize.minimize`: ABNORMAL_TERMINATION_IN_LNSRCH\n",
      "  warn(\n",
      "c:\\Users\\stan\\miniconda3\\envs\\researchTP\\Lib\\site-packages\\botorch\\optim\\fit.py:102: OptimizationWarning: `scipy_minimize` terminated with status OptimizationStatus.FAILURE, displaying original message from `scipy.optimize.minimize`: ABNORMAL_TERMINATION_IN_LNSRCH\n",
      "  warn(\n",
      "c:\\Users\\stan\\miniconda3\\envs\\researchTP\\Lib\\site-packages\\botorch\\optim\\fit.py:102: OptimizationWarning: `scipy_minimize` terminated with status OptimizationStatus.FAILURE, displaying original message from `scipy.optimize.minimize`: ABNORMAL_TERMINATION_IN_LNSRCH\n",
      "  warn(\n",
      "c:\\Users\\stan\\miniconda3\\envs\\researchTP\\Lib\\site-packages\\botorch\\optim\\fit.py:102: OptimizationWarning: `scipy_minimize` terminated with status OptimizationStatus.FAILURE, displaying original message from `scipy.optimize.minimize`: ABNORMAL_TERMINATION_IN_LNSRCH\n",
      "  warn(\n",
      "c:\\Users\\stan\\miniconda3\\envs\\researchTP\\Lib\\site-packages\\botorch\\optim\\fit.py:102: OptimizationWarning: `scipy_minimize` terminated with status OptimizationStatus.FAILURE, displaying original message from `scipy.optimize.minimize`: ABNORMAL_TERMINATION_IN_LNSRCH\n",
      "  warn(\n",
      "c:\\Users\\stan\\miniconda3\\envs\\researchTP\\Lib\\site-packages\\botorch\\optim\\fit.py:102: OptimizationWarning: `scipy_minimize` terminated with status OptimizationStatus.FAILURE, displaying original message from `scipy.optimize.minimize`: ABNORMAL_TERMINATION_IN_LNSRCH\n",
      "  warn(\n",
      "c:\\Users\\stan\\miniconda3\\envs\\researchTP\\Lib\\site-packages\\botorch\\optim\\fit.py:102: OptimizationWarning: `scipy_minimize` terminated with status OptimizationStatus.FAILURE, displaying original message from `scipy.optimize.minimize`: ABNORMAL_TERMINATION_IN_LNSRCH\n",
      "  warn(\n",
      "c:\\Users\\stan\\miniconda3\\envs\\researchTP\\Lib\\site-packages\\botorch\\optim\\fit.py:102: OptimizationWarning: `scipy_minimize` terminated with status OptimizationStatus.FAILURE, displaying original message from `scipy.optimize.minimize`: ABNORMAL_TERMINATION_IN_LNSRCH\n",
      "  warn(\n",
      "c:\\Users\\stan\\miniconda3\\envs\\researchTP\\Lib\\site-packages\\botorch\\optim\\fit.py:102: OptimizationWarning: `scipy_minimize` terminated with status OptimizationStatus.FAILURE, displaying original message from `scipy.optimize.minimize`: ABNORMAL_TERMINATION_IN_LNSRCH\n",
      "  warn(\n",
      "c:\\Users\\stan\\miniconda3\\envs\\researchTP\\Lib\\site-packages\\botorch\\optim\\fit.py:102: OptimizationWarning: `scipy_minimize` terminated with status OptimizationStatus.FAILURE, displaying original message from `scipy.optimize.minimize`: ABNORMAL_TERMINATION_IN_LNSRCH\n",
      "  warn(\n",
      " 68%|██████▊   | 34/50 [12:01<05:32, 20.79s/it]"
     ]
    },
    {
     "name": "stdout",
     "output_type": "stream",
     "text": [
      "Iterations 134\n",
      "Minimizing with EGP\n",
      "Seed: 284\n",
      "Initial points: tensor([[0.1000, 0.8900, 0.0100],\n",
      "        [0.3500, 0.6500, 0.0000],\n",
      "        [0.1300, 0.7900, 0.0800],\n",
      "        [1.0000, 0.0000, 0.0000],\n",
      "        [0.3700, 0.6300, 0.0000]])\n"
     ]
    },
    {
     "name": "stderr",
     "output_type": "stream",
     "text": [
      "c:\\Users\\stan\\miniconda3\\envs\\researchTP\\Lib\\site-packages\\botorch\\optim\\fit.py:102: OptimizationWarning: `scipy_minimize` terminated with status OptimizationStatus.FAILURE, displaying original message from `scipy.optimize.minimize`: ABNORMAL_TERMINATION_IN_LNSRCH\n",
      "  warn(\n",
      "c:\\Users\\stan\\miniconda3\\envs\\researchTP\\Lib\\site-packages\\botorch\\optim\\fit.py:102: OptimizationWarning: `scipy_minimize` terminated with status OptimizationStatus.FAILURE, displaying original message from `scipy.optimize.minimize`: ABNORMAL_TERMINATION_IN_LNSRCH\n",
      "  warn(\n",
      "c:\\Users\\stan\\miniconda3\\envs\\researchTP\\Lib\\site-packages\\botorch\\optim\\fit.py:102: OptimizationWarning: `scipy_minimize` terminated with status OptimizationStatus.FAILURE, displaying original message from `scipy.optimize.minimize`: ABNORMAL_TERMINATION_IN_LNSRCH\n",
      "  warn(\n",
      "c:\\Users\\stan\\miniconda3\\envs\\researchTP\\Lib\\site-packages\\botorch\\optim\\fit.py:102: OptimizationWarning: `scipy_minimize` terminated with status OptimizationStatus.FAILURE, displaying original message from `scipy.optimize.minimize`: ABNORMAL_TERMINATION_IN_LNSRCH\n",
      "  warn(\n",
      "c:\\Users\\stan\\miniconda3\\envs\\researchTP\\Lib\\site-packages\\botorch\\optim\\fit.py:102: OptimizationWarning: `scipy_minimize` terminated with status OptimizationStatus.FAILURE, displaying original message from `scipy.optimize.minimize`: ABNORMAL_TERMINATION_IN_LNSRCH\n",
      "  warn(\n",
      "c:\\Users\\stan\\miniconda3\\envs\\researchTP\\Lib\\site-packages\\botorch\\optim\\fit.py:102: OptimizationWarning: `scipy_minimize` terminated with status OptimizationStatus.FAILURE, displaying original message from `scipy.optimize.minimize`: ABNORMAL_TERMINATION_IN_LNSRCH\n",
      "  warn(\n",
      "c:\\Users\\stan\\miniconda3\\envs\\researchTP\\Lib\\site-packages\\botorch\\optim\\fit.py:102: OptimizationWarning: `scipy_minimize` terminated with status OptimizationStatus.FAILURE, displaying original message from `scipy.optimize.minimize`: ABNORMAL_TERMINATION_IN_LNSRCH\n",
      "  warn(\n",
      "c:\\Users\\stan\\miniconda3\\envs\\researchTP\\Lib\\site-packages\\botorch\\optim\\fit.py:102: OptimizationWarning: `scipy_minimize` terminated with status OptimizationStatus.FAILURE, displaying original message from `scipy.optimize.minimize`: ABNORMAL_TERMINATION_IN_LNSRCH\n",
      "  warn(\n",
      "c:\\Users\\stan\\miniconda3\\envs\\researchTP\\Lib\\site-packages\\botorch\\optim\\fit.py:102: OptimizationWarning: `scipy_minimize` terminated with status OptimizationStatus.FAILURE, displaying original message from `scipy.optimize.minimize`: ABNORMAL_TERMINATION_IN_LNSRCH\n",
      "  warn(\n",
      "c:\\Users\\stan\\miniconda3\\envs\\researchTP\\Lib\\site-packages\\botorch\\optim\\fit.py:102: OptimizationWarning: `scipy_minimize` terminated with status OptimizationStatus.FAILURE, displaying original message from `scipy.optimize.minimize`: ABNORMAL_TERMINATION_IN_LNSRCH\n",
      "  warn(\n",
      "c:\\Users\\stan\\miniconda3\\envs\\researchTP\\Lib\\site-packages\\botorch\\optim\\fit.py:102: OptimizationWarning: `scipy_minimize` terminated with status OptimizationStatus.FAILURE, displaying original message from `scipy.optimize.minimize`: ABNORMAL_TERMINATION_IN_LNSRCH\n",
      "  warn(\n",
      "c:\\Users\\stan\\miniconda3\\envs\\researchTP\\Lib\\site-packages\\botorch\\optim\\fit.py:102: OptimizationWarning: `scipy_minimize` terminated with status OptimizationStatus.FAILURE, displaying original message from `scipy.optimize.minimize`: ABNORMAL_TERMINATION_IN_LNSRCH\n",
      "  warn(\n",
      "c:\\Users\\stan\\miniconda3\\envs\\researchTP\\Lib\\site-packages\\botorch\\optim\\fit.py:102: OptimizationWarning: `scipy_minimize` terminated with status OptimizationStatus.FAILURE, displaying original message from `scipy.optimize.minimize`: ABNORMAL_TERMINATION_IN_LNSRCH\n",
      "  warn(\n",
      "c:\\Users\\stan\\miniconda3\\envs\\researchTP\\Lib\\site-packages\\botorch\\optim\\fit.py:102: OptimizationWarning: `scipy_minimize` terminated with status OptimizationStatus.FAILURE, displaying original message from `scipy.optimize.minimize`: ABNORMAL_TERMINATION_IN_LNSRCH\n",
      "  warn(\n",
      "c:\\Users\\stan\\miniconda3\\envs\\researchTP\\Lib\\site-packages\\botorch\\optim\\fit.py:102: OptimizationWarning: `scipy_minimize` terminated with status OptimizationStatus.FAILURE, displaying original message from `scipy.optimize.minimize`: ABNORMAL_TERMINATION_IN_LNSRCH\n",
      "  warn(\n",
      "c:\\Users\\stan\\miniconda3\\envs\\researchTP\\Lib\\site-packages\\botorch\\optim\\fit.py:102: OptimizationWarning: `scipy_minimize` terminated with status OptimizationStatus.FAILURE, displaying original message from `scipy.optimize.minimize`: ABNORMAL_TERMINATION_IN_LNSRCH\n",
      "  warn(\n",
      "c:\\Users\\stan\\miniconda3\\envs\\researchTP\\Lib\\site-packages\\botorch\\optim\\fit.py:102: OptimizationWarning: `scipy_minimize` terminated with status OptimizationStatus.FAILURE, displaying original message from `scipy.optimize.minimize`: ABNORMAL_TERMINATION_IN_LNSRCH\n",
      "  warn(\n",
      " 70%|███████   | 35/50 [12:20<05:04, 20.29s/it]"
     ]
    },
    {
     "name": "stdout",
     "output_type": "stream",
     "text": [
      "Iterations 134\n",
      "Minimizing with EGP\n",
      "Seed: 828\n",
      "Initial points: tensor([[0.0600, 0.8500, 0.0900],\n",
      "        [0.3000, 0.6900, 0.0100],\n",
      "        [0.2500, 0.0000, 0.7500],\n",
      "        [0.7500, 0.2500, 0.0000],\n",
      "        [0.7500, 0.2500, 0.0000]])\n"
     ]
    },
    {
     "name": "stderr",
     "output_type": "stream",
     "text": [
      "c:\\Users\\stan\\miniconda3\\envs\\researchTP\\Lib\\site-packages\\gpytorch\\distributions\\multivariate_normal.py:319: NumericalWarning: Negative variance values detected. This is likely due to numerical instabilities. Rounding negative variances up to 1e-06.\n",
      "  warnings.warn(\n",
      "c:\\Users\\stan\\miniconda3\\envs\\researchTP\\Lib\\site-packages\\botorch\\optim\\fit.py:102: OptimizationWarning: `scipy_minimize` terminated with status OptimizationStatus.FAILURE, displaying original message from `scipy.optimize.minimize`: ABNORMAL_TERMINATION_IN_LNSRCH\n",
      "  warn(\n",
      "c:\\Users\\stan\\miniconda3\\envs\\researchTP\\Lib\\site-packages\\botorch\\optim\\fit.py:102: OptimizationWarning: `scipy_minimize` terminated with status OptimizationStatus.FAILURE, displaying original message from `scipy.optimize.minimize`: ABNORMAL_TERMINATION_IN_LNSRCH\n",
      "  warn(\n",
      "c:\\Users\\stan\\miniconda3\\envs\\researchTP\\Lib\\site-packages\\botorch\\optim\\fit.py:102: OptimizationWarning: `scipy_minimize` terminated with status OptimizationStatus.FAILURE, displaying original message from `scipy.optimize.minimize`: ABNORMAL_TERMINATION_IN_LNSRCH\n",
      "  warn(\n",
      "c:\\Users\\stan\\miniconda3\\envs\\researchTP\\Lib\\site-packages\\botorch\\optim\\fit.py:102: OptimizationWarning: `scipy_minimize` terminated with status OptimizationStatus.FAILURE, displaying original message from `scipy.optimize.minimize`: ABNORMAL_TERMINATION_IN_LNSRCH\n",
      "  warn(\n",
      "c:\\Users\\stan\\miniconda3\\envs\\researchTP\\Lib\\site-packages\\botorch\\optim\\fit.py:102: OptimizationWarning: `scipy_minimize` terminated with status OptimizationStatus.FAILURE, displaying original message from `scipy.optimize.minimize`: ABNORMAL_TERMINATION_IN_LNSRCH\n",
      "  warn(\n",
      "c:\\Users\\stan\\miniconda3\\envs\\researchTP\\Lib\\site-packages\\botorch\\optim\\fit.py:102: OptimizationWarning: `scipy_minimize` terminated with status OptimizationStatus.FAILURE, displaying original message from `scipy.optimize.minimize`: ABNORMAL_TERMINATION_IN_LNSRCH\n",
      "  warn(\n",
      "c:\\Users\\stan\\miniconda3\\envs\\researchTP\\Lib\\site-packages\\botorch\\optim\\fit.py:102: OptimizationWarning: `scipy_minimize` terminated with status OptimizationStatus.FAILURE, displaying original message from `scipy.optimize.minimize`: ABNORMAL_TERMINATION_IN_LNSRCH\n",
      "  warn(\n",
      "c:\\Users\\stan\\miniconda3\\envs\\researchTP\\Lib\\site-packages\\botorch\\optim\\fit.py:102: OptimizationWarning: `scipy_minimize` terminated with status OptimizationStatus.FAILURE, displaying original message from `scipy.optimize.minimize`: ABNORMAL_TERMINATION_IN_LNSRCH\n",
      "  warn(\n",
      "c:\\Users\\stan\\miniconda3\\envs\\researchTP\\Lib\\site-packages\\botorch\\optim\\fit.py:102: OptimizationWarning: `scipy_minimize` terminated with status OptimizationStatus.FAILURE, displaying original message from `scipy.optimize.minimize`: ABNORMAL_TERMINATION_IN_LNSRCH\n",
      "  warn(\n",
      "c:\\Users\\stan\\miniconda3\\envs\\researchTP\\Lib\\site-packages\\botorch\\optim\\fit.py:102: OptimizationWarning: `scipy_minimize` terminated with status OptimizationStatus.FAILURE, displaying original message from `scipy.optimize.minimize`: ABNORMAL_TERMINATION_IN_LNSRCH\n",
      "  warn(\n",
      "c:\\Users\\stan\\miniconda3\\envs\\researchTP\\Lib\\site-packages\\botorch\\optim\\fit.py:102: OptimizationWarning: `scipy_minimize` terminated with status OptimizationStatus.FAILURE, displaying original message from `scipy.optimize.minimize`: ABNORMAL_TERMINATION_IN_LNSRCH\n",
      "  warn(\n",
      "c:\\Users\\stan\\miniconda3\\envs\\researchTP\\Lib\\site-packages\\botorch\\optim\\fit.py:102: OptimizationWarning: `scipy_minimize` terminated with status OptimizationStatus.FAILURE, displaying original message from `scipy.optimize.minimize`: ABNORMAL_TERMINATION_IN_LNSRCH\n",
      "  warn(\n",
      " 72%|███████▏  | 36/50 [12:42<04:49, 20.71s/it]"
     ]
    },
    {
     "name": "stdout",
     "output_type": "stream",
     "text": [
      "Iterations 134\n",
      "Minimizing with EGP\n",
      "Seed: 890\n",
      "Initial points: tensor([[0.3400, 0.6400, 0.0200],\n",
      "        [0.2500, 0.5000, 0.2500],\n",
      "        [1.0000, 0.0000, 0.0000],\n",
      "        [0.0900, 0.8700, 0.0400],\n",
      "        [1.0000, 0.0000, 0.0000]])\n"
     ]
    },
    {
     "name": "stderr",
     "output_type": "stream",
     "text": [
      "c:\\Users\\stan\\miniconda3\\envs\\researchTP\\Lib\\site-packages\\botorch\\optim\\fit.py:102: OptimizationWarning: `scipy_minimize` terminated with status OptimizationStatus.FAILURE, displaying original message from `scipy.optimize.minimize`: ABNORMAL_TERMINATION_IN_LNSRCH\n",
      "  warn(\n",
      "c:\\Users\\stan\\miniconda3\\envs\\researchTP\\Lib\\site-packages\\botorch\\optim\\fit.py:102: OptimizationWarning: `scipy_minimize` terminated with status OptimizationStatus.FAILURE, displaying original message from `scipy.optimize.minimize`: ABNORMAL_TERMINATION_IN_LNSRCH\n",
      "  warn(\n",
      "c:\\Users\\stan\\miniconda3\\envs\\researchTP\\Lib\\site-packages\\botorch\\optim\\fit.py:102: OptimizationWarning: `scipy_minimize` terminated with status OptimizationStatus.FAILURE, displaying original message from `scipy.optimize.minimize`: ABNORMAL_TERMINATION_IN_LNSRCH\n",
      "  warn(\n",
      "c:\\Users\\stan\\miniconda3\\envs\\researchTP\\Lib\\site-packages\\botorch\\optim\\fit.py:102: OptimizationWarning: `scipy_minimize` terminated with status OptimizationStatus.FAILURE, displaying original message from `scipy.optimize.minimize`: ABNORMAL_TERMINATION_IN_LNSRCH\n",
      "  warn(\n",
      "c:\\Users\\stan\\miniconda3\\envs\\researchTP\\Lib\\site-packages\\botorch\\optim\\fit.py:102: OptimizationWarning: `scipy_minimize` terminated with status OptimizationStatus.FAILURE, displaying original message from `scipy.optimize.minimize`: ABNORMAL_TERMINATION_IN_LNSRCH\n",
      "  warn(\n",
      "c:\\Users\\stan\\miniconda3\\envs\\researchTP\\Lib\\site-packages\\botorch\\optim\\fit.py:102: OptimizationWarning: `scipy_minimize` terminated with status OptimizationStatus.FAILURE, displaying original message from `scipy.optimize.minimize`: ABNORMAL_TERMINATION_IN_LNSRCH\n",
      "  warn(\n",
      "c:\\Users\\stan\\miniconda3\\envs\\researchTP\\Lib\\site-packages\\botorch\\optim\\fit.py:102: OptimizationWarning: `scipy_minimize` terminated with status OptimizationStatus.FAILURE, displaying original message from `scipy.optimize.minimize`: ABNORMAL_TERMINATION_IN_LNSRCH\n",
      "  warn(\n",
      "c:\\Users\\stan\\miniconda3\\envs\\researchTP\\Lib\\site-packages\\botorch\\optim\\fit.py:102: OptimizationWarning: `scipy_minimize` terminated with status OptimizationStatus.FAILURE, displaying original message from `scipy.optimize.minimize`: ABNORMAL_TERMINATION_IN_LNSRCH\n",
      "  warn(\n",
      "c:\\Users\\stan\\miniconda3\\envs\\researchTP\\Lib\\site-packages\\botorch\\optim\\fit.py:102: OptimizationWarning: `scipy_minimize` terminated with status OptimizationStatus.FAILURE, displaying original message from `scipy.optimize.minimize`: ABNORMAL_TERMINATION_IN_LNSRCH\n",
      "  warn(\n",
      "c:\\Users\\stan\\miniconda3\\envs\\researchTP\\Lib\\site-packages\\botorch\\optim\\fit.py:102: OptimizationWarning: `scipy_minimize` terminated with status OptimizationStatus.FAILURE, displaying original message from `scipy.optimize.minimize`: ABNORMAL_TERMINATION_IN_LNSRCH\n",
      "  warn(\n",
      "c:\\Users\\stan\\miniconda3\\envs\\researchTP\\Lib\\site-packages\\botorch\\optim\\fit.py:102: OptimizationWarning: `scipy_minimize` terminated with status OptimizationStatus.FAILURE, displaying original message from `scipy.optimize.minimize`: ABNORMAL_TERMINATION_IN_LNSRCH\n",
      "  warn(\n",
      "c:\\Users\\stan\\miniconda3\\envs\\researchTP\\Lib\\site-packages\\botorch\\optim\\fit.py:102: OptimizationWarning: `scipy_minimize` terminated with status OptimizationStatus.FAILURE, displaying original message from `scipy.optimize.minimize`: ABNORMAL_TERMINATION_IN_LNSRCH\n",
      "  warn(\n",
      "c:\\Users\\stan\\miniconda3\\envs\\researchTP\\Lib\\site-packages\\botorch\\optim\\fit.py:102: OptimizationWarning: `scipy_minimize` terminated with status OptimizationStatus.FAILURE, displaying original message from `scipy.optimize.minimize`: ABNORMAL_TERMINATION_IN_LNSRCH\n",
      "  warn(\n",
      "c:\\Users\\stan\\miniconda3\\envs\\researchTP\\Lib\\site-packages\\botorch\\optim\\fit.py:102: OptimizationWarning: `scipy_minimize` terminated with status OptimizationStatus.FAILURE, displaying original message from `scipy.optimize.minimize`: ABNORMAL_TERMINATION_IN_LNSRCH\n",
      "  warn(\n",
      "c:\\Users\\stan\\miniconda3\\envs\\researchTP\\Lib\\site-packages\\botorch\\optim\\fit.py:102: OptimizationWarning: `scipy_minimize` terminated with status OptimizationStatus.FAILURE, displaying original message from `scipy.optimize.minimize`: ABNORMAL_TERMINATION_IN_LNSRCH\n",
      "  warn(\n",
      "c:\\Users\\stan\\miniconda3\\envs\\researchTP\\Lib\\site-packages\\botorch\\optim\\fit.py:102: OptimizationWarning: `scipy_minimize` terminated with status OptimizationStatus.FAILURE, displaying original message from `scipy.optimize.minimize`: ABNORMAL_TERMINATION_IN_LNSRCH\n",
      "  warn(\n",
      "c:\\Users\\stan\\miniconda3\\envs\\researchTP\\Lib\\site-packages\\botorch\\optim\\fit.py:102: OptimizationWarning: `scipy_minimize` terminated with status OptimizationStatus.FAILURE, displaying original message from `scipy.optimize.minimize`: ABNORMAL_TERMINATION_IN_LNSRCH\n",
      "  warn(\n",
      "c:\\Users\\stan\\miniconda3\\envs\\researchTP\\Lib\\site-packages\\botorch\\optim\\fit.py:102: OptimizationWarning: `scipy_minimize` terminated with status OptimizationStatus.FAILURE, displaying original message from `scipy.optimize.minimize`: ABNORMAL_TERMINATION_IN_LNSRCH\n",
      "  warn(\n",
      "c:\\Users\\stan\\miniconda3\\envs\\researchTP\\Lib\\site-packages\\botorch\\optim\\fit.py:102: OptimizationWarning: `scipy_minimize` terminated with status OptimizationStatus.FAILURE, displaying original message from `scipy.optimize.minimize`: ABNORMAL_TERMINATION_IN_LNSRCH\n",
      "  warn(\n",
      "c:\\Users\\stan\\miniconda3\\envs\\researchTP\\Lib\\site-packages\\botorch\\optim\\fit.py:102: OptimizationWarning: `scipy_minimize` terminated with status OptimizationStatus.FAILURE, displaying original message from `scipy.optimize.minimize`: ABNORMAL_TERMINATION_IN_LNSRCH\n",
      "  warn(\n",
      " 74%|███████▍  | 37/50 [13:03<04:29, 20.72s/it]"
     ]
    },
    {
     "name": "stdout",
     "output_type": "stream",
     "text": [
      "Iterations 134\n",
      "Minimizing with EGP\n",
      "Seed: 6\n",
      "Initial points: tensor([[0.2000, 0.8000, 0.0000],\n",
      "        [0.1400, 0.8400, 0.0200],\n",
      "        [0.3000, 0.6900, 0.0100],\n",
      "        [0.6300, 0.3700, 0.0000],\n",
      "        [0.0500, 0.7885, 0.1615]])\n"
     ]
    },
    {
     "name": "stderr",
     "output_type": "stream",
     "text": [
      "c:\\Users\\stan\\miniconda3\\envs\\researchTP\\Lib\\site-packages\\botorch\\optim\\fit.py:102: OptimizationWarning: `scipy_minimize` terminated with status OptimizationStatus.FAILURE, displaying original message from `scipy.optimize.minimize`: ABNORMAL_TERMINATION_IN_LNSRCH\n",
      "  warn(\n",
      "c:\\Users\\stan\\miniconda3\\envs\\researchTP\\Lib\\site-packages\\botorch\\optim\\fit.py:102: OptimizationWarning: `scipy_minimize` terminated with status OptimizationStatus.FAILURE, displaying original message from `scipy.optimize.minimize`: ABNORMAL_TERMINATION_IN_LNSRCH\n",
      "  warn(\n",
      "c:\\Users\\stan\\miniconda3\\envs\\researchTP\\Lib\\site-packages\\botorch\\optim\\fit.py:102: OptimizationWarning: `scipy_minimize` terminated with status OptimizationStatus.FAILURE, displaying original message from `scipy.optimize.minimize`: ABNORMAL_TERMINATION_IN_LNSRCH\n",
      "  warn(\n",
      "c:\\Users\\stan\\miniconda3\\envs\\researchTP\\Lib\\site-packages\\botorch\\optim\\fit.py:102: OptimizationWarning: `scipy_minimize` terminated with status OptimizationStatus.FAILURE, displaying original message from `scipy.optimize.minimize`: ABNORMAL_TERMINATION_IN_LNSRCH\n",
      "  warn(\n",
      "c:\\Users\\stan\\miniconda3\\envs\\researchTP\\Lib\\site-packages\\botorch\\optim\\fit.py:102: OptimizationWarning: `scipy_minimize` terminated with status OptimizationStatus.FAILURE, displaying original message from `scipy.optimize.minimize`: ABNORMAL_TERMINATION_IN_LNSRCH\n",
      "  warn(\n",
      "c:\\Users\\stan\\miniconda3\\envs\\researchTP\\Lib\\site-packages\\botorch\\optim\\fit.py:102: OptimizationWarning: `scipy_minimize` terminated with status OptimizationStatus.FAILURE, displaying original message from `scipy.optimize.minimize`: ABNORMAL_TERMINATION_IN_LNSRCH\n",
      "  warn(\n",
      "c:\\Users\\stan\\miniconda3\\envs\\researchTP\\Lib\\site-packages\\botorch\\optim\\fit.py:102: OptimizationWarning: `scipy_minimize` terminated with status OptimizationStatus.FAILURE, displaying original message from `scipy.optimize.minimize`: ABNORMAL_TERMINATION_IN_LNSRCH\n",
      "  warn(\n",
      "c:\\Users\\stan\\miniconda3\\envs\\researchTP\\Lib\\site-packages\\botorch\\optim\\fit.py:102: OptimizationWarning: `scipy_minimize` terminated with status OptimizationStatus.FAILURE, displaying original message from `scipy.optimize.minimize`: ABNORMAL_TERMINATION_IN_LNSRCH\n",
      "  warn(\n",
      "c:\\Users\\stan\\miniconda3\\envs\\researchTP\\Lib\\site-packages\\botorch\\optim\\fit.py:102: OptimizationWarning: `scipy_minimize` terminated with status OptimizationStatus.FAILURE, displaying original message from `scipy.optimize.minimize`: ABNORMAL_TERMINATION_IN_LNSRCH\n",
      "  warn(\n",
      "c:\\Users\\stan\\miniconda3\\envs\\researchTP\\Lib\\site-packages\\botorch\\optim\\fit.py:102: OptimizationWarning: `scipy_minimize` terminated with status OptimizationStatus.FAILURE, displaying original message from `scipy.optimize.minimize`: ABNORMAL_TERMINATION_IN_LNSRCH\n",
      "  warn(\n",
      "c:\\Users\\stan\\miniconda3\\envs\\researchTP\\Lib\\site-packages\\botorch\\optim\\fit.py:102: OptimizationWarning: `scipy_minimize` terminated with status OptimizationStatus.FAILURE, displaying original message from `scipy.optimize.minimize`: ABNORMAL_TERMINATION_IN_LNSRCH\n",
      "  warn(\n",
      " 76%|███████▌  | 38/50 [13:25<04:13, 21.16s/it]"
     ]
    },
    {
     "name": "stdout",
     "output_type": "stream",
     "text": [
      "Iterations 134\n",
      "Minimizing with EGP\n",
      "Seed: 777\n",
      "Initial points: tensor([[0.3400, 0.5400, 0.1200],\n",
      "        [0.5300, 0.4700, 0.0000],\n",
      "        [0.3500, 0.6500, 0.0000],\n",
      "        [0.3000, 0.3900, 0.3200],\n",
      "        [0.1400, 0.8400, 0.0200]])\n"
     ]
    },
    {
     "name": "stderr",
     "output_type": "stream",
     "text": [
      "c:\\Users\\stan\\miniconda3\\envs\\researchTP\\Lib\\site-packages\\botorch\\optim\\fit.py:102: OptimizationWarning: `scipy_minimize` terminated with status OptimizationStatus.FAILURE, displaying original message from `scipy.optimize.minimize`: ABNORMAL_TERMINATION_IN_LNSRCH\n",
      "  warn(\n",
      "c:\\Users\\stan\\miniconda3\\envs\\researchTP\\Lib\\site-packages\\botorch\\optim\\fit.py:102: OptimizationWarning: `scipy_minimize` terminated with status OptimizationStatus.FAILURE, displaying original message from `scipy.optimize.minimize`: ABNORMAL_TERMINATION_IN_LNSRCH\n",
      "  warn(\n",
      "c:\\Users\\stan\\miniconda3\\envs\\researchTP\\Lib\\site-packages\\botorch\\optim\\fit.py:102: OptimizationWarning: `scipy_minimize` terminated with status OptimizationStatus.FAILURE, displaying original message from `scipy.optimize.minimize`: ABNORMAL_TERMINATION_IN_LNSRCH\n",
      "  warn(\n",
      "c:\\Users\\stan\\miniconda3\\envs\\researchTP\\Lib\\site-packages\\botorch\\optim\\fit.py:102: OptimizationWarning: `scipy_minimize` terminated with status OptimizationStatus.FAILURE, displaying original message from `scipy.optimize.minimize`: ABNORMAL_TERMINATION_IN_LNSRCH\n",
      "  warn(\n",
      "c:\\Users\\stan\\miniconda3\\envs\\researchTP\\Lib\\site-packages\\botorch\\optim\\fit.py:102: OptimizationWarning: `scipy_minimize` terminated with status OptimizationStatus.FAILURE, displaying original message from `scipy.optimize.minimize`: ABNORMAL_TERMINATION_IN_LNSRCH\n",
      "  warn(\n",
      "c:\\Users\\stan\\miniconda3\\envs\\researchTP\\Lib\\site-packages\\botorch\\optim\\fit.py:102: OptimizationWarning: `scipy_minimize` terminated with status OptimizationStatus.FAILURE, displaying original message from `scipy.optimize.minimize`: ABNORMAL_TERMINATION_IN_LNSRCH\n",
      "  warn(\n",
      "c:\\Users\\stan\\miniconda3\\envs\\researchTP\\Lib\\site-packages\\botorch\\optim\\fit.py:102: OptimizationWarning: `scipy_minimize` terminated with status OptimizationStatus.FAILURE, displaying original message from `scipy.optimize.minimize`: ABNORMAL_TERMINATION_IN_LNSRCH\n",
      "  warn(\n",
      "c:\\Users\\stan\\miniconda3\\envs\\researchTP\\Lib\\site-packages\\botorch\\optim\\fit.py:102: OptimizationWarning: `scipy_minimize` terminated with status OptimizationStatus.FAILURE, displaying original message from `scipy.optimize.minimize`: ABNORMAL_TERMINATION_IN_LNSRCH\n",
      "  warn(\n",
      "c:\\Users\\stan\\miniconda3\\envs\\researchTP\\Lib\\site-packages\\botorch\\optim\\fit.py:102: OptimizationWarning: `scipy_minimize` terminated with status OptimizationStatus.FAILURE, displaying original message from `scipy.optimize.minimize`: ABNORMAL_TERMINATION_IN_LNSRCH\n",
      "  warn(\n",
      "c:\\Users\\stan\\miniconda3\\envs\\researchTP\\Lib\\site-packages\\botorch\\optim\\fit.py:102: OptimizationWarning: `scipy_minimize` terminated with status OptimizationStatus.FAILURE, displaying original message from `scipy.optimize.minimize`: ABNORMAL_TERMINATION_IN_LNSRCH\n",
      "  warn(\n",
      "c:\\Users\\stan\\miniconda3\\envs\\researchTP\\Lib\\site-packages\\botorch\\optim\\fit.py:102: OptimizationWarning: `scipy_minimize` terminated with status OptimizationStatus.FAILURE, displaying original message from `scipy.optimize.minimize`: ABNORMAL_TERMINATION_IN_LNSRCH\n",
      "  warn(\n",
      "c:\\Users\\stan\\miniconda3\\envs\\researchTP\\Lib\\site-packages\\botorch\\optim\\fit.py:102: OptimizationWarning: `scipy_minimize` terminated with status OptimizationStatus.FAILURE, displaying original message from `scipy.optimize.minimize`: ABNORMAL_TERMINATION_IN_LNSRCH\n",
      "  warn(\n",
      "c:\\Users\\stan\\miniconda3\\envs\\researchTP\\Lib\\site-packages\\botorch\\optim\\fit.py:102: OptimizationWarning: `scipy_minimize` terminated with status OptimizationStatus.FAILURE, displaying original message from `scipy.optimize.minimize`: ABNORMAL_TERMINATION_IN_LNSRCH\n",
      "  warn(\n",
      " 78%|███████▊  | 39/50 [13:47<03:57, 21.58s/it]"
     ]
    },
    {
     "name": "stdout",
     "output_type": "stream",
     "text": [
      "Iterations 134\n",
      "Minimizing with EGP\n",
      "Seed: 825\n",
      "Initial points: tensor([[0.0000, 0.7500, 0.2500],\n",
      "        [0.8300, 0.0300, 0.1400],\n",
      "        [0.6300, 0.3700, 0.0000],\n",
      "        [0.9600, 0.0400, 0.0000],\n",
      "        [0.3700, 0.6200, 0.0100]])\n"
     ]
    },
    {
     "name": "stderr",
     "output_type": "stream",
     "text": [
      "c:\\Users\\stan\\miniconda3\\envs\\researchTP\\Lib\\site-packages\\botorch\\optim\\fit.py:102: OptimizationWarning: `scipy_minimize` terminated with status OptimizationStatus.FAILURE, displaying original message from `scipy.optimize.minimize`: ABNORMAL_TERMINATION_IN_LNSRCH\n",
      "  warn(\n",
      "c:\\Users\\stan\\miniconda3\\envs\\researchTP\\Lib\\site-packages\\botorch\\optim\\fit.py:102: OptimizationWarning: `scipy_minimize` terminated with status OptimizationStatus.FAILURE, displaying original message from `scipy.optimize.minimize`: ABNORMAL_TERMINATION_IN_LNSRCH\n",
      "  warn(\n",
      "c:\\Users\\stan\\miniconda3\\envs\\researchTP\\Lib\\site-packages\\botorch\\optim\\fit.py:102: OptimizationWarning: `scipy_minimize` terminated with status OptimizationStatus.FAILURE, displaying original message from `scipy.optimize.minimize`: ABNORMAL_TERMINATION_IN_LNSRCH\n",
      "  warn(\n",
      "c:\\Users\\stan\\miniconda3\\envs\\researchTP\\Lib\\site-packages\\botorch\\optim\\fit.py:102: OptimizationWarning: `scipy_minimize` terminated with status OptimizationStatus.FAILURE, displaying original message from `scipy.optimize.minimize`: ABNORMAL_TERMINATION_IN_LNSRCH\n",
      "  warn(\n",
      "c:\\Users\\stan\\miniconda3\\envs\\researchTP\\Lib\\site-packages\\botorch\\optim\\fit.py:102: OptimizationWarning: `scipy_minimize` terminated with status OptimizationStatus.FAILURE, displaying original message from `scipy.optimize.minimize`: ABNORMAL_TERMINATION_IN_LNSRCH\n",
      "  warn(\n",
      "c:\\Users\\stan\\miniconda3\\envs\\researchTP\\Lib\\site-packages\\botorch\\optim\\fit.py:102: OptimizationWarning: `scipy_minimize` terminated with status OptimizationStatus.FAILURE, displaying original message from `scipy.optimize.minimize`: ABNORMAL_TERMINATION_IN_LNSRCH\n",
      "  warn(\n",
      "c:\\Users\\stan\\miniconda3\\envs\\researchTP\\Lib\\site-packages\\botorch\\optim\\fit.py:102: OptimizationWarning: `scipy_minimize` terminated with status OptimizationStatus.FAILURE, displaying original message from `scipy.optimize.minimize`: ABNORMAL_TERMINATION_IN_LNSRCH\n",
      "  warn(\n",
      " 80%|████████  | 40/50 [14:09<03:34, 21.46s/it]"
     ]
    },
    {
     "name": "stdout",
     "output_type": "stream",
     "text": [
      "Iterations 134\n",
      "Minimizing with EGP\n",
      "Seed: 163\n",
      "Initial points: tensor([[0.1300, 0.8700, 0.0000],\n",
      "        [0.1600, 0.8400, 0.0000],\n",
      "        [0.2500, 0.7000, 0.0600],\n",
      "        [0.2200, 0.7800, 0.0000],\n",
      "        [0.1300, 0.7900, 0.0800]])\n"
     ]
    },
    {
     "name": "stderr",
     "output_type": "stream",
     "text": [
      "c:\\Users\\stan\\miniconda3\\envs\\researchTP\\Lib\\site-packages\\gpytorch\\distributions\\multivariate_normal.py:319: NumericalWarning: Negative variance values detected. This is likely due to numerical instabilities. Rounding negative variances up to 1e-06.\n",
      "  warnings.warn(\n",
      "c:\\Users\\stan\\miniconda3\\envs\\researchTP\\Lib\\site-packages\\gpytorch\\distributions\\multivariate_normal.py:319: NumericalWarning: Negative variance values detected. This is likely due to numerical instabilities. Rounding negative variances up to 1e-06.\n",
      "  warnings.warn(\n",
      "c:\\Users\\stan\\miniconda3\\envs\\researchTP\\Lib\\site-packages\\gpytorch\\distributions\\multivariate_normal.py:319: NumericalWarning: Negative variance values detected. This is likely due to numerical instabilities. Rounding negative variances up to 1e-06.\n",
      "  warnings.warn(\n",
      "c:\\Users\\stan\\miniconda3\\envs\\researchTP\\Lib\\site-packages\\linear_operator\\utils\\cholesky.py:40: NumericalWarning: A not p.d., added jitter of 1.0e-06 to the diagonal\n",
      "  warnings.warn(\n",
      "c:\\Users\\stan\\miniconda3\\envs\\researchTP\\Lib\\site-packages\\linear_operator\\utils\\cholesky.py:40: NumericalWarning: A not p.d., added jitter of 1.0e-05 to the diagonal\n",
      "  warnings.warn(\n",
      "c:\\Users\\stan\\miniconda3\\envs\\researchTP\\Lib\\site-packages\\linear_operator\\utils\\cholesky.py:40: NumericalWarning: A not p.d., added jitter of 1.0e-04 to the diagonal\n",
      "  warnings.warn(\n",
      "c:\\Users\\stan\\miniconda3\\envs\\researchTP\\Lib\\site-packages\\linear_operator\\utils\\cholesky.py:40: NumericalWarning: A not p.d., added jitter of 1.0e-03 to the diagonal\n",
      "  warnings.warn(\n",
      "c:\\Users\\stan\\miniconda3\\envs\\researchTP\\Lib\\site-packages\\linear_operator\\utils\\cholesky.py:40: NumericalWarning: A not p.d., added jitter of 1.0e-02 to the diagonal\n",
      "  warnings.warn(\n",
      "c:\\Users\\stan\\miniconda3\\envs\\researchTP\\Lib\\site-packages\\linear_operator\\utils\\cholesky.py:40: NumericalWarning: A not p.d., added jitter of 1.0e-01 to the diagonal\n",
      "  warnings.warn(\n",
      "c:\\Users\\stan\\miniconda3\\envs\\researchTP\\Lib\\site-packages\\gpytorch\\distributions\\multivariate_normal.py:319: NumericalWarning: Negative variance values detected. This is likely due to numerical instabilities. Rounding negative variances up to 1e-06.\n",
      "  warnings.warn(\n",
      "c:\\Users\\stan\\miniconda3\\envs\\researchTP\\Lib\\site-packages\\gpytorch\\distributions\\multivariate_normal.py:319: NumericalWarning: Negative variance values detected. This is likely due to numerical instabilities. Rounding negative variances up to 1e-06.\n",
      "  warnings.warn(\n",
      "c:\\Users\\stan\\miniconda3\\envs\\researchTP\\Lib\\site-packages\\gpytorch\\distributions\\multivariate_normal.py:319: NumericalWarning: Negative variance values detected. This is likely due to numerical instabilities. Rounding negative variances up to 1e-06.\n",
      "  warnings.warn(\n",
      "c:\\Users\\stan\\miniconda3\\envs\\researchTP\\Lib\\site-packages\\gpytorch\\distributions\\multivariate_normal.py:319: NumericalWarning: Negative variance values detected. This is likely due to numerical instabilities. Rounding negative variances up to 1e-06.\n",
      "  warnings.warn(\n",
      "c:\\Users\\stan\\miniconda3\\envs\\researchTP\\Lib\\site-packages\\gpytorch\\distributions\\multivariate_normal.py:319: NumericalWarning: Negative variance values detected. This is likely due to numerical instabilities. Rounding negative variances up to 1e-06.\n",
      "  warnings.warn(\n",
      "c:\\Users\\stan\\miniconda3\\envs\\researchTP\\Lib\\site-packages\\linear_operator\\utils\\cholesky.py:40: NumericalWarning: A not p.d., added jitter of 1.0e-06 to the diagonal\n",
      "  warnings.warn(\n",
      "c:\\Users\\stan\\miniconda3\\envs\\researchTP\\Lib\\site-packages\\linear_operator\\utils\\cholesky.py:40: NumericalWarning: A not p.d., added jitter of 1.0e-05 to the diagonal\n",
      "  warnings.warn(\n",
      "c:\\Users\\stan\\miniconda3\\envs\\researchTP\\Lib\\site-packages\\linear_operator\\utils\\cholesky.py:40: NumericalWarning: A not p.d., added jitter of 1.0e-04 to the diagonal\n",
      "  warnings.warn(\n",
      "c:\\Users\\stan\\miniconda3\\envs\\researchTP\\Lib\\site-packages\\linear_operator\\utils\\cholesky.py:40: NumericalWarning: A not p.d., added jitter of 1.0e-03 to the diagonal\n",
      "  warnings.warn(\n",
      "c:\\Users\\stan\\miniconda3\\envs\\researchTP\\Lib\\site-packages\\linear_operator\\utils\\cholesky.py:40: NumericalWarning: A not p.d., added jitter of 1.0e-02 to the diagonal\n",
      "  warnings.warn(\n",
      "c:\\Users\\stan\\miniconda3\\envs\\researchTP\\Lib\\site-packages\\gpytorch\\distributions\\multivariate_normal.py:319: NumericalWarning: Negative variance values detected. This is likely due to numerical instabilities. Rounding negative variances up to 1e-06.\n",
      "  warnings.warn(\n",
      "c:\\Users\\stan\\miniconda3\\envs\\researchTP\\Lib\\site-packages\\gpytorch\\distributions\\multivariate_normal.py:319: NumericalWarning: Negative variance values detected. This is likely due to numerical instabilities. Rounding negative variances up to 1e-06.\n",
      "  warnings.warn(\n",
      "c:\\Users\\stan\\miniconda3\\envs\\researchTP\\Lib\\site-packages\\gpytorch\\distributions\\multivariate_normal.py:319: NumericalWarning: Negative variance values detected. This is likely due to numerical instabilities. Rounding negative variances up to 1e-06.\n",
      "  warnings.warn(\n",
      "c:\\Users\\stan\\miniconda3\\envs\\researchTP\\Lib\\site-packages\\gpytorch\\distributions\\multivariate_normal.py:319: NumericalWarning: Negative variance values detected. This is likely due to numerical instabilities. Rounding negative variances up to 1e-06.\n",
      "  warnings.warn(\n",
      "c:\\Users\\stan\\miniconda3\\envs\\researchTP\\Lib\\site-packages\\gpytorch\\distributions\\multivariate_normal.py:319: NumericalWarning: Negative variance values detected. This is likely due to numerical instabilities. Rounding negative variances up to 1e-06.\n",
      "  warnings.warn(\n",
      "c:\\Users\\stan\\miniconda3\\envs\\researchTP\\Lib\\site-packages\\gpytorch\\distributions\\multivariate_normal.py:319: NumericalWarning: Negative variance values detected. This is likely due to numerical instabilities. Rounding negative variances up to 1e-06.\n",
      "  warnings.warn(\n",
      "c:\\Users\\stan\\miniconda3\\envs\\researchTP\\Lib\\site-packages\\gpytorch\\distributions\\multivariate_normal.py:319: NumericalWarning: Negative variance values detected. This is likely due to numerical instabilities. Rounding negative variances up to 1e-06.\n",
      "  warnings.warn(\n",
      "c:\\Users\\stan\\miniconda3\\envs\\researchTP\\Lib\\site-packages\\gpytorch\\distributions\\multivariate_normal.py:319: NumericalWarning: Negative variance values detected. This is likely due to numerical instabilities. Rounding negative variances up to 1e-06.\n",
      "  warnings.warn(\n",
      "c:\\Users\\stan\\miniconda3\\envs\\researchTP\\Lib\\site-packages\\gpytorch\\distributions\\multivariate_normal.py:319: NumericalWarning: Negative variance values detected. This is likely due to numerical instabilities. Rounding negative variances up to 1e-06.\n",
      "  warnings.warn(\n",
      "c:\\Users\\stan\\miniconda3\\envs\\researchTP\\Lib\\site-packages\\gpytorch\\distributions\\multivariate_normal.py:319: NumericalWarning: Negative variance values detected. This is likely due to numerical instabilities. Rounding negative variances up to 1e-06.\n",
      "  warnings.warn(\n",
      "c:\\Users\\stan\\miniconda3\\envs\\researchTP\\Lib\\site-packages\\gpytorch\\distributions\\multivariate_normal.py:319: NumericalWarning: Negative variance values detected. This is likely due to numerical instabilities. Rounding negative variances up to 1e-06.\n",
      "  warnings.warn(\n",
      "c:\\Users\\stan\\miniconda3\\envs\\researchTP\\Lib\\site-packages\\gpytorch\\distributions\\multivariate_normal.py:319: NumericalWarning: Negative variance values detected. This is likely due to numerical instabilities. Rounding negative variances up to 1e-06.\n",
      "  warnings.warn(\n",
      "c:\\Users\\stan\\miniconda3\\envs\\researchTP\\Lib\\site-packages\\gpytorch\\distributions\\multivariate_normal.py:319: NumericalWarning: Negative variance values detected. This is likely due to numerical instabilities. Rounding negative variances up to 1e-06.\n",
      "  warnings.warn(\n",
      "c:\\Users\\stan\\miniconda3\\envs\\researchTP\\Lib\\site-packages\\botorch\\optim\\fit.py:102: OptimizationWarning: `scipy_minimize` terminated with status OptimizationStatus.FAILURE, displaying original message from `scipy.optimize.minimize`: ABNORMAL_TERMINATION_IN_LNSRCH\n",
      "  warn(\n",
      "c:\\Users\\stan\\miniconda3\\envs\\researchTP\\Lib\\site-packages\\gpytorch\\distributions\\multivariate_normal.py:319: NumericalWarning: Negative variance values detected. This is likely due to numerical instabilities. Rounding negative variances up to 1e-06.\n",
      "  warnings.warn(\n",
      "c:\\Users\\stan\\miniconda3\\envs\\researchTP\\Lib\\site-packages\\gpytorch\\distributions\\multivariate_normal.py:319: NumericalWarning: Negative variance values detected. This is likely due to numerical instabilities. Rounding negative variances up to 1e-06.\n",
      "  warnings.warn(\n",
      "c:\\Users\\stan\\miniconda3\\envs\\researchTP\\Lib\\site-packages\\gpytorch\\distributions\\multivariate_normal.py:319: NumericalWarning: Negative variance values detected. This is likely due to numerical instabilities. Rounding negative variances up to 1e-06.\n",
      "  warnings.warn(\n",
      "c:\\Users\\stan\\miniconda3\\envs\\researchTP\\Lib\\site-packages\\gpytorch\\distributions\\multivariate_normal.py:319: NumericalWarning: Negative variance values detected. This is likely due to numerical instabilities. Rounding negative variances up to 1e-06.\n",
      "  warnings.warn(\n",
      "c:\\Users\\stan\\miniconda3\\envs\\researchTP\\Lib\\site-packages\\gpytorch\\distributions\\multivariate_normal.py:319: NumericalWarning: Negative variance values detected. This is likely due to numerical instabilities. Rounding negative variances up to 1e-06.\n",
      "  warnings.warn(\n",
      "c:\\Users\\stan\\miniconda3\\envs\\researchTP\\Lib\\site-packages\\gpytorch\\distributions\\multivariate_normal.py:319: NumericalWarning: Negative variance values detected. This is likely due to numerical instabilities. Rounding negative variances up to 1e-06.\n",
      "  warnings.warn(\n",
      "c:\\Users\\stan\\miniconda3\\envs\\researchTP\\Lib\\site-packages\\gpytorch\\distributions\\multivariate_normal.py:319: NumericalWarning: Negative variance values detected. This is likely due to numerical instabilities. Rounding negative variances up to 1e-06.\n",
      "  warnings.warn(\n",
      "c:\\Users\\stan\\miniconda3\\envs\\researchTP\\Lib\\site-packages\\botorch\\optim\\fit.py:102: OptimizationWarning: `scipy_minimize` terminated with status OptimizationStatus.FAILURE, displaying original message from `scipy.optimize.minimize`: ABNORMAL_TERMINATION_IN_LNSRCH\n",
      "  warn(\n",
      "c:\\Users\\stan\\miniconda3\\envs\\researchTP\\Lib\\site-packages\\botorch\\optim\\fit.py:102: OptimizationWarning: `scipy_minimize` terminated with status OptimizationStatus.FAILURE, displaying original message from `scipy.optimize.minimize`: ABNORMAL_TERMINATION_IN_LNSRCH\n",
      "  warn(\n",
      "c:\\Users\\stan\\miniconda3\\envs\\researchTP\\Lib\\site-packages\\botorch\\optim\\fit.py:102: OptimizationWarning: `scipy_minimize` terminated with status OptimizationStatus.FAILURE, displaying original message from `scipy.optimize.minimize`: ABNORMAL_TERMINATION_IN_LNSRCH\n",
      "  warn(\n",
      "c:\\Users\\stan\\miniconda3\\envs\\researchTP\\Lib\\site-packages\\botorch\\optim\\fit.py:102: OptimizationWarning: `scipy_minimize` terminated with status OptimizationStatus.FAILURE, displaying original message from `scipy.optimize.minimize`: ABNORMAL_TERMINATION_IN_LNSRCH\n",
      "  warn(\n",
      "c:\\Users\\stan\\miniconda3\\envs\\researchTP\\Lib\\site-packages\\botorch\\optim\\fit.py:102: OptimizationWarning: `scipy_minimize` terminated with status OptimizationStatus.FAILURE, displaying original message from `scipy.optimize.minimize`: ABNORMAL_TERMINATION_IN_LNSRCH\n",
      "  warn(\n",
      "c:\\Users\\stan\\miniconda3\\envs\\researchTP\\Lib\\site-packages\\botorch\\optim\\fit.py:102: OptimizationWarning: `scipy_minimize` terminated with status OptimizationStatus.FAILURE, displaying original message from `scipy.optimize.minimize`: ABNORMAL_TERMINATION_IN_LNSRCH\n",
      "  warn(\n",
      "c:\\Users\\stan\\miniconda3\\envs\\researchTP\\Lib\\site-packages\\botorch\\optim\\fit.py:102: OptimizationWarning: `scipy_minimize` terminated with status OptimizationStatus.FAILURE, displaying original message from `scipy.optimize.minimize`: ABNORMAL_TERMINATION_IN_LNSRCH\n",
      "  warn(\n",
      "c:\\Users\\stan\\miniconda3\\envs\\researchTP\\Lib\\site-packages\\botorch\\optim\\fit.py:102: OptimizationWarning: `scipy_minimize` terminated with status OptimizationStatus.FAILURE, displaying original message from `scipy.optimize.minimize`: ABNORMAL_TERMINATION_IN_LNSRCH\n",
      "  warn(\n",
      " 82%|████████▏ | 41/50 [14:29<03:09, 21.03s/it]"
     ]
    },
    {
     "name": "stdout",
     "output_type": "stream",
     "text": [
      "Iterations 134\n",
      "Minimizing with EGP\n",
      "Seed: 714\n",
      "Initial points: tensor([[0.4100, 0.5800, 0.0100],\n",
      "        [0.3500, 0.6500, 0.0000],\n",
      "        [0.3500, 0.6500, 0.0000],\n",
      "        [0.2500, 0.5000, 0.2500],\n",
      "        [0.2600, 0.7400, 0.0000]])\n"
     ]
    },
    {
     "name": "stderr",
     "output_type": "stream",
     "text": [
      "c:\\Users\\stan\\miniconda3\\envs\\researchTP\\Lib\\site-packages\\botorch\\optim\\fit.py:102: OptimizationWarning: `scipy_minimize` terminated with status OptimizationStatus.FAILURE, displaying original message from `scipy.optimize.minimize`: ABNORMAL_TERMINATION_IN_LNSRCH\n",
      "  warn(\n",
      "c:\\Users\\stan\\miniconda3\\envs\\researchTP\\Lib\\site-packages\\botorch\\optim\\fit.py:102: OptimizationWarning: `scipy_minimize` terminated with status OptimizationStatus.FAILURE, displaying original message from `scipy.optimize.minimize`: ABNORMAL_TERMINATION_IN_LNSRCH\n",
      "  warn(\n",
      "c:\\Users\\stan\\miniconda3\\envs\\researchTP\\Lib\\site-packages\\botorch\\optim\\fit.py:102: OptimizationWarning: `scipy_minimize` terminated with status OptimizationStatus.FAILURE, displaying original message from `scipy.optimize.minimize`: ABNORMAL_TERMINATION_IN_LNSRCH\n",
      "  warn(\n",
      "c:\\Users\\stan\\miniconda3\\envs\\researchTP\\Lib\\site-packages\\botorch\\optim\\fit.py:102: OptimizationWarning: `scipy_minimize` terminated with status OptimizationStatus.FAILURE, displaying original message from `scipy.optimize.minimize`: ABNORMAL_TERMINATION_IN_LNSRCH\n",
      "  warn(\n",
      "c:\\Users\\stan\\miniconda3\\envs\\researchTP\\Lib\\site-packages\\botorch\\optim\\fit.py:102: OptimizationWarning: `scipy_minimize` terminated with status OptimizationStatus.FAILURE, displaying original message from `scipy.optimize.minimize`: ABNORMAL_TERMINATION_IN_LNSRCH\n",
      "  warn(\n",
      "c:\\Users\\stan\\miniconda3\\envs\\researchTP\\Lib\\site-packages\\botorch\\optim\\fit.py:102: OptimizationWarning: `scipy_minimize` terminated with status OptimizationStatus.FAILURE, displaying original message from `scipy.optimize.minimize`: ABNORMAL_TERMINATION_IN_LNSRCH\n",
      "  warn(\n",
      "c:\\Users\\stan\\miniconda3\\envs\\researchTP\\Lib\\site-packages\\botorch\\optim\\fit.py:102: OptimizationWarning: `scipy_minimize` terminated with status OptimizationStatus.FAILURE, displaying original message from `scipy.optimize.minimize`: ABNORMAL_TERMINATION_IN_LNSRCH\n",
      "  warn(\n",
      "c:\\Users\\stan\\miniconda3\\envs\\researchTP\\Lib\\site-packages\\botorch\\optim\\fit.py:102: OptimizationWarning: `scipy_minimize` terminated with status OptimizationStatus.FAILURE, displaying original message from `scipy.optimize.minimize`: ABNORMAL_TERMINATION_IN_LNSRCH\n",
      "  warn(\n",
      "c:\\Users\\stan\\miniconda3\\envs\\researchTP\\Lib\\site-packages\\botorch\\optim\\fit.py:102: OptimizationWarning: `scipy_minimize` terminated with status OptimizationStatus.FAILURE, displaying original message from `scipy.optimize.minimize`: ABNORMAL_TERMINATION_IN_LNSRCH\n",
      "  warn(\n",
      "c:\\Users\\stan\\miniconda3\\envs\\researchTP\\Lib\\site-packages\\botorch\\optim\\fit.py:102: OptimizationWarning: `scipy_minimize` terminated with status OptimizationStatus.FAILURE, displaying original message from `scipy.optimize.minimize`: ABNORMAL_TERMINATION_IN_LNSRCH\n",
      "  warn(\n",
      "c:\\Users\\stan\\miniconda3\\envs\\researchTP\\Lib\\site-packages\\botorch\\optim\\fit.py:102: OptimizationWarning: `scipy_minimize` terminated with status OptimizationStatus.FAILURE, displaying original message from `scipy.optimize.minimize`: ABNORMAL_TERMINATION_IN_LNSRCH\n",
      "  warn(\n",
      "c:\\Users\\stan\\miniconda3\\envs\\researchTP\\Lib\\site-packages\\botorch\\optim\\fit.py:102: OptimizationWarning: `scipy_minimize` terminated with status OptimizationStatus.FAILURE, displaying original message from `scipy.optimize.minimize`: ABNORMAL_TERMINATION_IN_LNSRCH\n",
      "  warn(\n",
      "c:\\Users\\stan\\miniconda3\\envs\\researchTP\\Lib\\site-packages\\botorch\\optim\\fit.py:102: OptimizationWarning: `scipy_minimize` terminated with status OptimizationStatus.FAILURE, displaying original message from `scipy.optimize.minimize`: ABNORMAL_TERMINATION_IN_LNSRCH\n",
      "  warn(\n",
      "c:\\Users\\stan\\miniconda3\\envs\\researchTP\\Lib\\site-packages\\botorch\\optim\\fit.py:102: OptimizationWarning: `scipy_minimize` terminated with status OptimizationStatus.FAILURE, displaying original message from `scipy.optimize.minimize`: ABNORMAL_TERMINATION_IN_LNSRCH\n",
      "  warn(\n",
      " 84%|████████▍ | 42/50 [14:48<02:44, 20.62s/it]"
     ]
    },
    {
     "name": "stdout",
     "output_type": "stream",
     "text": [
      "Iterations 134\n",
      "Minimizing with EGP\n",
      "Seed: 348\n",
      "Initial points: tensor([[0.4400, 0.5500, 0.0100],\n",
      "        [0.3500, 0.6500, 0.0000],\n",
      "        [0.2800, 0.6500, 0.0700],\n",
      "        [0.5700, 0.4300, 0.0000],\n",
      "        [0.2200, 0.7800, 0.0000]])\n"
     ]
    },
    {
     "name": "stderr",
     "output_type": "stream",
     "text": [
      "c:\\Users\\stan\\miniconda3\\envs\\researchTP\\Lib\\site-packages\\linear_operator\\utils\\cholesky.py:40: NumericalWarning: A not p.d., added jitter of 1.0e-06 to the diagonal\n",
      "  warnings.warn(\n",
      "c:\\Users\\stan\\miniconda3\\envs\\researchTP\\Lib\\site-packages\\linear_operator\\utils\\cholesky.py:40: NumericalWarning: A not p.d., added jitter of 1.0e-05 to the diagonal\n",
      "  warnings.warn(\n",
      "c:\\Users\\stan\\miniconda3\\envs\\researchTP\\Lib\\site-packages\\linear_operator\\utils\\cholesky.py:40: NumericalWarning: A not p.d., added jitter of 1.0e-04 to the diagonal\n",
      "  warnings.warn(\n",
      "c:\\Users\\stan\\miniconda3\\envs\\researchTP\\Lib\\site-packages\\linear_operator\\utils\\cholesky.py:40: NumericalWarning: A not p.d., added jitter of 1.0e-03 to the diagonal\n",
      "  warnings.warn(\n",
      "c:\\Users\\stan\\miniconda3\\envs\\researchTP\\Lib\\site-packages\\linear_operator\\utils\\cholesky.py:40: NumericalWarning: A not p.d., added jitter of 1.0e-02 to the diagonal\n",
      "  warnings.warn(\n",
      "c:\\Users\\stan\\miniconda3\\envs\\researchTP\\Lib\\site-packages\\linear_operator\\utils\\cholesky.py:40: NumericalWarning: A not p.d., added jitter of 1.0e-01 to the diagonal\n",
      "  warnings.warn(\n",
      "c:\\Users\\stan\\miniconda3\\envs\\researchTP\\Lib\\site-packages\\gpytorch\\distributions\\multivariate_normal.py:319: NumericalWarning: Negative variance values detected. This is likely due to numerical instabilities. Rounding negative variances up to 1e-06.\n",
      "  warnings.warn(\n",
      "c:\\Users\\stan\\miniconda3\\envs\\researchTP\\Lib\\site-packages\\gpytorch\\distributions\\multivariate_normal.py:319: NumericalWarning: Negative variance values detected. This is likely due to numerical instabilities. Rounding negative variances up to 1e-06.\n",
      "  warnings.warn(\n",
      "c:\\Users\\stan\\miniconda3\\envs\\researchTP\\Lib\\site-packages\\linear_operator\\utils\\cholesky.py:40: NumericalWarning: A not p.d., added jitter of 1.0e-06 to the diagonal\n",
      "  warnings.warn(\n",
      "c:\\Users\\stan\\miniconda3\\envs\\researchTP\\Lib\\site-packages\\linear_operator\\utils\\cholesky.py:40: NumericalWarning: A not p.d., added jitter of 1.0e-05 to the diagonal\n",
      "  warnings.warn(\n",
      "c:\\Users\\stan\\miniconda3\\envs\\researchTP\\Lib\\site-packages\\linear_operator\\utils\\cholesky.py:40: NumericalWarning: A not p.d., added jitter of 1.0e-04 to the diagonal\n",
      "  warnings.warn(\n",
      "c:\\Users\\stan\\miniconda3\\envs\\researchTP\\Lib\\site-packages\\linear_operator\\utils\\cholesky.py:40: NumericalWarning: A not p.d., added jitter of 1.0e-03 to the diagonal\n",
      "  warnings.warn(\n",
      "c:\\Users\\stan\\miniconda3\\envs\\researchTP\\Lib\\site-packages\\linear_operator\\utils\\cholesky.py:40: NumericalWarning: A not p.d., added jitter of 1.0e-02 to the diagonal\n",
      "  warnings.warn(\n",
      "c:\\Users\\stan\\miniconda3\\envs\\researchTP\\Lib\\site-packages\\botorch\\optim\\fit.py:102: OptimizationWarning: `scipy_minimize` terminated with status OptimizationStatus.FAILURE, displaying original message from `scipy.optimize.minimize`: ABNORMAL_TERMINATION_IN_LNSRCH\n",
      "  warn(\n",
      "c:\\Users\\stan\\miniconda3\\envs\\researchTP\\Lib\\site-packages\\botorch\\optim\\fit.py:102: OptimizationWarning: `scipy_minimize` terminated with status OptimizationStatus.FAILURE, displaying original message from `scipy.optimize.minimize`: ABNORMAL_TERMINATION_IN_LNSRCH\n",
      "  warn(\n",
      "c:\\Users\\stan\\miniconda3\\envs\\researchTP\\Lib\\site-packages\\botorch\\optim\\fit.py:102: OptimizationWarning: `scipy_minimize` terminated with status OptimizationStatus.FAILURE, displaying original message from `scipy.optimize.minimize`: ABNORMAL_TERMINATION_IN_LNSRCH\n",
      "  warn(\n",
      "c:\\Users\\stan\\miniconda3\\envs\\researchTP\\Lib\\site-packages\\botorch\\optim\\fit.py:102: OptimizationWarning: `scipy_minimize` terminated with status OptimizationStatus.FAILURE, displaying original message from `scipy.optimize.minimize`: ABNORMAL_TERMINATION_IN_LNSRCH\n",
      "  warn(\n",
      "c:\\Users\\stan\\miniconda3\\envs\\researchTP\\Lib\\site-packages\\botorch\\optim\\fit.py:102: OptimizationWarning: `scipy_minimize` terminated with status OptimizationStatus.FAILURE, displaying original message from `scipy.optimize.minimize`: ABNORMAL_TERMINATION_IN_LNSRCH\n",
      "  warn(\n",
      "c:\\Users\\stan\\miniconda3\\envs\\researchTP\\Lib\\site-packages\\botorch\\optim\\fit.py:102: OptimizationWarning: `scipy_minimize` terminated with status OptimizationStatus.FAILURE, displaying original message from `scipy.optimize.minimize`: ABNORMAL_TERMINATION_IN_LNSRCH\n",
      "  warn(\n",
      "c:\\Users\\stan\\miniconda3\\envs\\researchTP\\Lib\\site-packages\\botorch\\optim\\fit.py:102: OptimizationWarning: `scipy_minimize` terminated with status OptimizationStatus.FAILURE, displaying original message from `scipy.optimize.minimize`: ABNORMAL_TERMINATION_IN_LNSRCH\n",
      "  warn(\n",
      "c:\\Users\\stan\\miniconda3\\envs\\researchTP\\Lib\\site-packages\\botorch\\optim\\fit.py:102: OptimizationWarning: `scipy_minimize` terminated with status OptimizationStatus.FAILURE, displaying original message from `scipy.optimize.minimize`: ABNORMAL_TERMINATION_IN_LNSRCH\n",
      "  warn(\n",
      "c:\\Users\\stan\\miniconda3\\envs\\researchTP\\Lib\\site-packages\\botorch\\optim\\fit.py:102: OptimizationWarning: `scipy_minimize` terminated with status OptimizationStatus.FAILURE, displaying original message from `scipy.optimize.minimize`: ABNORMAL_TERMINATION_IN_LNSRCH\n",
      "  warn(\n",
      "c:\\Users\\stan\\miniconda3\\envs\\researchTP\\Lib\\site-packages\\botorch\\optim\\fit.py:102: OptimizationWarning: `scipy_minimize` terminated with status OptimizationStatus.FAILURE, displaying original message from `scipy.optimize.minimize`: ABNORMAL_TERMINATION_IN_LNSRCH\n",
      "  warn(\n",
      " 86%|████████▌ | 43/50 [15:11<02:28, 21.22s/it]"
     ]
    },
    {
     "name": "stdout",
     "output_type": "stream",
     "text": [
      "Iterations 134\n",
      "Minimizing with EGP\n",
      "Seed: 159\n",
      "Initial points: tensor([[0.1000, 0.9000, 0.0000],\n",
      "        [0.6300, 0.3700, 0.0000],\n",
      "        [0.2800, 0.6500, 0.0700],\n",
      "        [0.3000, 0.6900, 0.0100],\n",
      "        [0.2800, 0.3700, 0.3500]])\n"
     ]
    },
    {
     "name": "stderr",
     "output_type": "stream",
     "text": [
      "c:\\Users\\stan\\miniconda3\\envs\\researchTP\\Lib\\site-packages\\botorch\\optim\\fit.py:102: OptimizationWarning: `scipy_minimize` terminated with status OptimizationStatus.FAILURE, displaying original message from `scipy.optimize.minimize`: ABNORMAL_TERMINATION_IN_LNSRCH\n",
      "  warn(\n",
      "c:\\Users\\stan\\miniconda3\\envs\\researchTP\\Lib\\site-packages\\botorch\\optim\\fit.py:102: OptimizationWarning: `scipy_minimize` terminated with status OptimizationStatus.FAILURE, displaying original message from `scipy.optimize.minimize`: ABNORMAL_TERMINATION_IN_LNSRCH\n",
      "  warn(\n",
      "c:\\Users\\stan\\miniconda3\\envs\\researchTP\\Lib\\site-packages\\botorch\\optim\\fit.py:102: OptimizationWarning: `scipy_minimize` terminated with status OptimizationStatus.FAILURE, displaying original message from `scipy.optimize.minimize`: ABNORMAL_TERMINATION_IN_LNSRCH\n",
      "  warn(\n",
      "c:\\Users\\stan\\miniconda3\\envs\\researchTP\\Lib\\site-packages\\botorch\\optim\\fit.py:102: OptimizationWarning: `scipy_minimize` terminated with status OptimizationStatus.FAILURE, displaying original message from `scipy.optimize.minimize`: ABNORMAL_TERMINATION_IN_LNSRCH\n",
      "  warn(\n",
      "c:\\Users\\stan\\miniconda3\\envs\\researchTP\\Lib\\site-packages\\botorch\\optim\\fit.py:102: OptimizationWarning: `scipy_minimize` terminated with status OptimizationStatus.FAILURE, displaying original message from `scipy.optimize.minimize`: ABNORMAL_TERMINATION_IN_LNSRCH\n",
      "  warn(\n",
      "c:\\Users\\stan\\miniconda3\\envs\\researchTP\\Lib\\site-packages\\botorch\\optim\\fit.py:102: OptimizationWarning: `scipy_minimize` terminated with status OptimizationStatus.FAILURE, displaying original message from `scipy.optimize.minimize`: ABNORMAL_TERMINATION_IN_LNSRCH\n",
      "  warn(\n",
      "c:\\Users\\stan\\miniconda3\\envs\\researchTP\\Lib\\site-packages\\botorch\\optim\\fit.py:102: OptimizationWarning: `scipy_minimize` terminated with status OptimizationStatus.FAILURE, displaying original message from `scipy.optimize.minimize`: ABNORMAL_TERMINATION_IN_LNSRCH\n",
      "  warn(\n",
      "c:\\Users\\stan\\miniconda3\\envs\\researchTP\\Lib\\site-packages\\botorch\\optim\\fit.py:102: OptimizationWarning: `scipy_minimize` terminated with status OptimizationStatus.FAILURE, displaying original message from `scipy.optimize.minimize`: ABNORMAL_TERMINATION_IN_LNSRCH\n",
      "  warn(\n",
      "c:\\Users\\stan\\miniconda3\\envs\\researchTP\\Lib\\site-packages\\botorch\\optim\\fit.py:102: OptimizationWarning: `scipy_minimize` terminated with status OptimizationStatus.FAILURE, displaying original message from `scipy.optimize.minimize`: ABNORMAL_TERMINATION_IN_LNSRCH\n",
      "  warn(\n",
      "c:\\Users\\stan\\miniconda3\\envs\\researchTP\\Lib\\site-packages\\botorch\\optim\\fit.py:102: OptimizationWarning: `scipy_minimize` terminated with status OptimizationStatus.FAILURE, displaying original message from `scipy.optimize.minimize`: ABNORMAL_TERMINATION_IN_LNSRCH\n",
      "  warn(\n",
      "c:\\Users\\stan\\miniconda3\\envs\\researchTP\\Lib\\site-packages\\botorch\\optim\\fit.py:102: OptimizationWarning: `scipy_minimize` terminated with status OptimizationStatus.FAILURE, displaying original message from `scipy.optimize.minimize`: ABNORMAL_TERMINATION_IN_LNSRCH\n",
      "  warn(\n",
      " 88%|████████▊ | 44/50 [15:33<02:08, 21.36s/it]"
     ]
    },
    {
     "name": "stdout",
     "output_type": "stream",
     "text": [
      "Iterations 134\n",
      "Minimizing with EGP\n",
      "Seed: 220\n",
      "Initial points: tensor([[0.0900, 0.9100, 0.0000],\n",
      "        [0.5000, 0.5000, 0.0000],\n",
      "        [0.1300, 0.7900, 0.0800],\n",
      "        [0.1600, 0.7500, 0.0900],\n",
      "        [0.0000, 1.0000, 0.0000]])\n"
     ]
    },
    {
     "name": "stderr",
     "output_type": "stream",
     "text": [
      "c:\\Users\\stan\\miniconda3\\envs\\researchTP\\Lib\\site-packages\\botorch\\optim\\fit.py:102: OptimizationWarning: `scipy_minimize` terminated with status OptimizationStatus.FAILURE, displaying original message from `scipy.optimize.minimize`: ABNORMAL_TERMINATION_IN_LNSRCH\n",
      "  warn(\n",
      "c:\\Users\\stan\\miniconda3\\envs\\researchTP\\Lib\\site-packages\\botorch\\optim\\fit.py:102: OptimizationWarning: `scipy_minimize` terminated with status OptimizationStatus.FAILURE, displaying original message from `scipy.optimize.minimize`: ABNORMAL_TERMINATION_IN_LNSRCH\n",
      "  warn(\n",
      "c:\\Users\\stan\\miniconda3\\envs\\researchTP\\Lib\\site-packages\\botorch\\optim\\fit.py:102: OptimizationWarning: `scipy_minimize` terminated with status OptimizationStatus.FAILURE, displaying original message from `scipy.optimize.minimize`: ABNORMAL_TERMINATION_IN_LNSRCH\n",
      "  warn(\n",
      "c:\\Users\\stan\\miniconda3\\envs\\researchTP\\Lib\\site-packages\\botorch\\optim\\fit.py:102: OptimizationWarning: `scipy_minimize` terminated with status OptimizationStatus.FAILURE, displaying original message from `scipy.optimize.minimize`: ABNORMAL_TERMINATION_IN_LNSRCH\n",
      "  warn(\n",
      "c:\\Users\\stan\\miniconda3\\envs\\researchTP\\Lib\\site-packages\\botorch\\optim\\fit.py:102: OptimizationWarning: `scipy_minimize` terminated with status OptimizationStatus.FAILURE, displaying original message from `scipy.optimize.minimize`: ABNORMAL_TERMINATION_IN_LNSRCH\n",
      "  warn(\n",
      "c:\\Users\\stan\\miniconda3\\envs\\researchTP\\Lib\\site-packages\\botorch\\optim\\fit.py:102: OptimizationWarning: `scipy_minimize` terminated with status OptimizationStatus.FAILURE, displaying original message from `scipy.optimize.minimize`: ABNORMAL_TERMINATION_IN_LNSRCH\n",
      "  warn(\n",
      "c:\\Users\\stan\\miniconda3\\envs\\researchTP\\Lib\\site-packages\\botorch\\optim\\fit.py:102: OptimizationWarning: `scipy_minimize` terminated with status OptimizationStatus.FAILURE, displaying original message from `scipy.optimize.minimize`: ABNORMAL_TERMINATION_IN_LNSRCH\n",
      "  warn(\n",
      " 90%|█████████ | 45/50 [15:54<01:46, 21.35s/it]"
     ]
    },
    {
     "name": "stdout",
     "output_type": "stream",
     "text": [
      "Iterations 134\n",
      "Minimizing with EGP\n",
      "Seed: 980\n",
      "Initial points: tensor([[0.7100, 0.0100, 0.2800],\n",
      "        [0.2300, 0.7700, 0.0000],\n",
      "        [0.2500, 0.7000, 0.0600],\n",
      "        [0.1900, 0.8100, 0.0000],\n",
      "        [0.2600, 0.7400, 0.0000]])\n"
     ]
    },
    {
     "name": "stderr",
     "output_type": "stream",
     "text": [
      "c:\\Users\\stan\\miniconda3\\envs\\researchTP\\Lib\\site-packages\\gpytorch\\distributions\\multivariate_normal.py:319: NumericalWarning: Negative variance values detected. This is likely due to numerical instabilities. Rounding negative variances up to 1e-06.\n",
      "  warnings.warn(\n",
      "c:\\Users\\stan\\miniconda3\\envs\\researchTP\\Lib\\site-packages\\gpytorch\\distributions\\multivariate_normal.py:319: NumericalWarning: Negative variance values detected. This is likely due to numerical instabilities. Rounding negative variances up to 1e-06.\n",
      "  warnings.warn(\n",
      "c:\\Users\\stan\\miniconda3\\envs\\researchTP\\Lib\\site-packages\\linear_operator\\utils\\cholesky.py:40: NumericalWarning: A not p.d., added jitter of 1.0e-06 to the diagonal\n",
      "  warnings.warn(\n",
      "c:\\Users\\stan\\miniconda3\\envs\\researchTP\\Lib\\site-packages\\linear_operator\\utils\\cholesky.py:40: NumericalWarning: A not p.d., added jitter of 1.0e-05 to the diagonal\n",
      "  warnings.warn(\n",
      "c:\\Users\\stan\\miniconda3\\envs\\researchTP\\Lib\\site-packages\\linear_operator\\utils\\cholesky.py:40: NumericalWarning: A not p.d., added jitter of 1.0e-04 to the diagonal\n",
      "  warnings.warn(\n",
      "c:\\Users\\stan\\miniconda3\\envs\\researchTP\\Lib\\site-packages\\linear_operator\\utils\\cholesky.py:40: NumericalWarning: A not p.d., added jitter of 1.0e-03 to the diagonal\n",
      "  warnings.warn(\n",
      "c:\\Users\\stan\\miniconda3\\envs\\researchTP\\Lib\\site-packages\\linear_operator\\utils\\cholesky.py:40: NumericalWarning: A not p.d., added jitter of 1.0e-02 to the diagonal\n",
      "  warnings.warn(\n",
      "c:\\Users\\stan\\miniconda3\\envs\\researchTP\\Lib\\site-packages\\linear_operator\\utils\\cholesky.py:40: NumericalWarning: A not p.d., added jitter of 1.0e-01 to the diagonal\n",
      "  warnings.warn(\n",
      "c:\\Users\\stan\\miniconda3\\envs\\researchTP\\Lib\\site-packages\\gpytorch\\distributions\\multivariate_normal.py:319: NumericalWarning: Negative variance values detected. This is likely due to numerical instabilities. Rounding negative variances up to 1e-06.\n",
      "  warnings.warn(\n",
      "c:\\Users\\stan\\miniconda3\\envs\\researchTP\\Lib\\site-packages\\linear_operator\\utils\\cholesky.py:40: NumericalWarning: A not p.d., added jitter of 1.0e-06 to the diagonal\n",
      "  warnings.warn(\n",
      "c:\\Users\\stan\\miniconda3\\envs\\researchTP\\Lib\\site-packages\\linear_operator\\utils\\cholesky.py:40: NumericalWarning: A not p.d., added jitter of 1.0e-05 to the diagonal\n",
      "  warnings.warn(\n",
      "c:\\Users\\stan\\miniconda3\\envs\\researchTP\\Lib\\site-packages\\linear_operator\\utils\\cholesky.py:40: NumericalWarning: A not p.d., added jitter of 1.0e-04 to the diagonal\n",
      "  warnings.warn(\n",
      "c:\\Users\\stan\\miniconda3\\envs\\researchTP\\Lib\\site-packages\\linear_operator\\utils\\cholesky.py:40: NumericalWarning: A not p.d., added jitter of 1.0e-03 to the diagonal\n",
      "  warnings.warn(\n",
      "c:\\Users\\stan\\miniconda3\\envs\\researchTP\\Lib\\site-packages\\linear_operator\\utils\\cholesky.py:40: NumericalWarning: A not p.d., added jitter of 1.0e-02 to the diagonal\n",
      "  warnings.warn(\n",
      "c:\\Users\\stan\\miniconda3\\envs\\researchTP\\Lib\\site-packages\\gpytorch\\distributions\\multivariate_normal.py:319: NumericalWarning: Negative variance values detected. This is likely due to numerical instabilities. Rounding negative variances up to 1e-06.\n",
      "  warnings.warn(\n",
      "c:\\Users\\stan\\miniconda3\\envs\\researchTP\\Lib\\site-packages\\linear_operator\\utils\\cholesky.py:40: NumericalWarning: A not p.d., added jitter of 1.0e-06 to the diagonal\n",
      "  warnings.warn(\n",
      "c:\\Users\\stan\\miniconda3\\envs\\researchTP\\Lib\\site-packages\\linear_operator\\utils\\cholesky.py:40: NumericalWarning: A not p.d., added jitter of 1.0e-05 to the diagonal\n",
      "  warnings.warn(\n",
      "c:\\Users\\stan\\miniconda3\\envs\\researchTP\\Lib\\site-packages\\linear_operator\\utils\\cholesky.py:40: NumericalWarning: A not p.d., added jitter of 1.0e-04 to the diagonal\n",
      "  warnings.warn(\n",
      "c:\\Users\\stan\\miniconda3\\envs\\researchTP\\Lib\\site-packages\\linear_operator\\utils\\cholesky.py:40: NumericalWarning: A not p.d., added jitter of 1.0e-03 to the diagonal\n",
      "  warnings.warn(\n",
      "c:\\Users\\stan\\miniconda3\\envs\\researchTP\\Lib\\site-packages\\linear_operator\\utils\\cholesky.py:40: NumericalWarning: A not p.d., added jitter of 1.0e-02 to the diagonal\n",
      "  warnings.warn(\n",
      "c:\\Users\\stan\\miniconda3\\envs\\researchTP\\Lib\\site-packages\\linear_operator\\utils\\cholesky.py:40: NumericalWarning: A not p.d., added jitter of 1.0e-01 to the diagonal\n",
      "  warnings.warn(\n",
      "c:\\Users\\stan\\miniconda3\\envs\\researchTP\\Lib\\site-packages\\botorch\\optim\\fit.py:102: OptimizationWarning: `scipy_minimize` terminated with status OptimizationStatus.FAILURE, displaying original message from `scipy.optimize.minimize`: ABNORMAL_TERMINATION_IN_LNSRCH\n",
      "  warn(\n",
      "c:\\Users\\stan\\miniconda3\\envs\\researchTP\\Lib\\site-packages\\botorch\\optim\\fit.py:102: OptimizationWarning: `scipy_minimize` terminated with status OptimizationStatus.FAILURE, displaying original message from `scipy.optimize.minimize`: ABNORMAL_TERMINATION_IN_LNSRCH\n",
      "  warn(\n",
      "c:\\Users\\stan\\miniconda3\\envs\\researchTP\\Lib\\site-packages\\botorch\\optim\\fit.py:102: OptimizationWarning: `scipy_minimize` terminated with status OptimizationStatus.FAILURE, displaying original message from `scipy.optimize.minimize`: ABNORMAL_TERMINATION_IN_LNSRCH\n",
      "  warn(\n",
      "c:\\Users\\stan\\miniconda3\\envs\\researchTP\\Lib\\site-packages\\botorch\\optim\\fit.py:102: OptimizationWarning: `scipy_minimize` terminated with status OptimizationStatus.FAILURE, displaying original message from `scipy.optimize.minimize`: ABNORMAL_TERMINATION_IN_LNSRCH\n",
      "  warn(\n",
      "c:\\Users\\stan\\miniconda3\\envs\\researchTP\\Lib\\site-packages\\botorch\\optim\\fit.py:102: OptimizationWarning: `scipy_minimize` terminated with status OptimizationStatus.FAILURE, displaying original message from `scipy.optimize.minimize`: ABNORMAL_TERMINATION_IN_LNSRCH\n",
      "  warn(\n",
      "c:\\Users\\stan\\miniconda3\\envs\\researchTP\\Lib\\site-packages\\botorch\\optim\\fit.py:102: OptimizationWarning: `scipy_minimize` terminated with status OptimizationStatus.FAILURE, displaying original message from `scipy.optimize.minimize`: ABNORMAL_TERMINATION_IN_LNSRCH\n",
      "  warn(\n",
      "c:\\Users\\stan\\miniconda3\\envs\\researchTP\\Lib\\site-packages\\botorch\\optim\\fit.py:102: OptimizationWarning: `scipy_minimize` terminated with status OptimizationStatus.FAILURE, displaying original message from `scipy.optimize.minimize`: ABNORMAL_TERMINATION_IN_LNSRCH\n",
      "  warn(\n",
      " 92%|█████████▏| 46/50 [16:16<01:25, 21.42s/it]"
     ]
    },
    {
     "name": "stdout",
     "output_type": "stream",
     "text": [
      "Iterations 134\n",
      "Minimizing with EGP\n",
      "Seed: 781\n",
      "Initial points: tensor([[0.0900, 0.8700, 0.0400],\n",
      "        [0.2500, 0.7100, 0.0400],\n",
      "        [0.8400, 0.0000, 0.1600],\n",
      "        [0.1600, 0.8400, 0.0000],\n",
      "        [0.6600, 0.2400, 0.1000]])\n"
     ]
    },
    {
     "name": "stderr",
     "output_type": "stream",
     "text": [
      "c:\\Users\\stan\\miniconda3\\envs\\researchTP\\Lib\\site-packages\\linear_operator\\utils\\cholesky.py:40: NumericalWarning: A not p.d., added jitter of 1.0e-06 to the diagonal\n",
      "  warnings.warn(\n",
      "c:\\Users\\stan\\miniconda3\\envs\\researchTP\\Lib\\site-packages\\linear_operator\\utils\\cholesky.py:40: NumericalWarning: A not p.d., added jitter of 1.0e-05 to the diagonal\n",
      "  warnings.warn(\n",
      "c:\\Users\\stan\\miniconda3\\envs\\researchTP\\Lib\\site-packages\\linear_operator\\utils\\cholesky.py:40: NumericalWarning: A not p.d., added jitter of 1.0e-04 to the diagonal\n",
      "  warnings.warn(\n",
      "c:\\Users\\stan\\miniconda3\\envs\\researchTP\\Lib\\site-packages\\linear_operator\\utils\\cholesky.py:40: NumericalWarning: A not p.d., added jitter of 1.0e-03 to the diagonal\n",
      "  warnings.warn(\n",
      "c:\\Users\\stan\\miniconda3\\envs\\researchTP\\Lib\\site-packages\\linear_operator\\utils\\cholesky.py:40: NumericalWarning: A not p.d., added jitter of 1.0e-02 to the diagonal\n",
      "  warnings.warn(\n",
      "c:\\Users\\stan\\miniconda3\\envs\\researchTP\\Lib\\site-packages\\botorch\\optim\\fit.py:102: OptimizationWarning: `scipy_minimize` terminated with status OptimizationStatus.FAILURE, displaying original message from `scipy.optimize.minimize`: ABNORMAL_TERMINATION_IN_LNSRCH\n",
      "  warn(\n",
      "c:\\Users\\stan\\miniconda3\\envs\\researchTP\\Lib\\site-packages\\botorch\\optim\\fit.py:102: OptimizationWarning: `scipy_minimize` terminated with status OptimizationStatus.FAILURE, displaying original message from `scipy.optimize.minimize`: ABNORMAL_TERMINATION_IN_LNSRCH\n",
      "  warn(\n",
      "c:\\Users\\stan\\miniconda3\\envs\\researchTP\\Lib\\site-packages\\botorch\\optim\\fit.py:102: OptimizationWarning: `scipy_minimize` terminated with status OptimizationStatus.FAILURE, displaying original message from `scipy.optimize.minimize`: ABNORMAL_TERMINATION_IN_LNSRCH\n",
      "  warn(\n",
      "c:\\Users\\stan\\miniconda3\\envs\\researchTP\\Lib\\site-packages\\botorch\\optim\\fit.py:102: OptimizationWarning: `scipy_minimize` terminated with status OptimizationStatus.FAILURE, displaying original message from `scipy.optimize.minimize`: ABNORMAL_TERMINATION_IN_LNSRCH\n",
      "  warn(\n",
      "c:\\Users\\stan\\miniconda3\\envs\\researchTP\\Lib\\site-packages\\botorch\\optim\\fit.py:102: OptimizationWarning: `scipy_minimize` terminated with status OptimizationStatus.FAILURE, displaying original message from `scipy.optimize.minimize`: ABNORMAL_TERMINATION_IN_LNSRCH\n",
      "  warn(\n",
      "c:\\Users\\stan\\miniconda3\\envs\\researchTP\\Lib\\site-packages\\botorch\\optim\\fit.py:102: OptimizationWarning: `scipy_minimize` terminated with status OptimizationStatus.FAILURE, displaying original message from `scipy.optimize.minimize`: ABNORMAL_TERMINATION_IN_LNSRCH\n",
      "  warn(\n",
      "c:\\Users\\stan\\miniconda3\\envs\\researchTP\\Lib\\site-packages\\botorch\\optim\\fit.py:102: OptimizationWarning: `scipy_minimize` terminated with status OptimizationStatus.FAILURE, displaying original message from `scipy.optimize.minimize`: ABNORMAL_TERMINATION_IN_LNSRCH\n",
      "  warn(\n",
      "c:\\Users\\stan\\miniconda3\\envs\\researchTP\\Lib\\site-packages\\botorch\\optim\\fit.py:102: OptimizationWarning: `scipy_minimize` terminated with status OptimizationStatus.FAILURE, displaying original message from `scipy.optimize.minimize`: ABNORMAL_TERMINATION_IN_LNSRCH\n",
      "  warn(\n",
      "c:\\Users\\stan\\miniconda3\\envs\\researchTP\\Lib\\site-packages\\botorch\\optim\\fit.py:102: OptimizationWarning: `scipy_minimize` terminated with status OptimizationStatus.FAILURE, displaying original message from `scipy.optimize.minimize`: ABNORMAL_TERMINATION_IN_LNSRCH\n",
      "  warn(\n",
      "c:\\Users\\stan\\miniconda3\\envs\\researchTP\\Lib\\site-packages\\botorch\\optim\\fit.py:102: OptimizationWarning: `scipy_minimize` terminated with status OptimizationStatus.FAILURE, displaying original message from `scipy.optimize.minimize`: ABNORMAL_TERMINATION_IN_LNSRCH\n",
      "  warn(\n",
      "c:\\Users\\stan\\miniconda3\\envs\\researchTP\\Lib\\site-packages\\botorch\\optim\\fit.py:102: OptimizationWarning: `scipy_minimize` terminated with status OptimizationStatus.FAILURE, displaying original message from `scipy.optimize.minimize`: ABNORMAL_TERMINATION_IN_LNSRCH\n",
      "  warn(\n",
      "c:\\Users\\stan\\miniconda3\\envs\\researchTP\\Lib\\site-packages\\botorch\\optim\\fit.py:102: OptimizationWarning: `scipy_minimize` terminated with status OptimizationStatus.FAILURE, displaying original message from `scipy.optimize.minimize`: ABNORMAL_TERMINATION_IN_LNSRCH\n",
      "  warn(\n",
      "c:\\Users\\stan\\miniconda3\\envs\\researchTP\\Lib\\site-packages\\botorch\\optim\\fit.py:102: OptimizationWarning: `scipy_minimize` terminated with status OptimizationStatus.FAILURE, displaying original message from `scipy.optimize.minimize`: ABNORMAL_TERMINATION_IN_LNSRCH\n",
      "  warn(\n",
      "c:\\Users\\stan\\miniconda3\\envs\\researchTP\\Lib\\site-packages\\botorch\\optim\\fit.py:102: OptimizationWarning: `scipy_minimize` terminated with status OptimizationStatus.FAILURE, displaying original message from `scipy.optimize.minimize`: ABNORMAL_TERMINATION_IN_LNSRCH\n",
      "  warn(\n",
      "c:\\Users\\stan\\miniconda3\\envs\\researchTP\\Lib\\site-packages\\botorch\\optim\\fit.py:102: OptimizationWarning: `scipy_minimize` terminated with status OptimizationStatus.FAILURE, displaying original message from `scipy.optimize.minimize`: ABNORMAL_TERMINATION_IN_LNSRCH\n",
      "  warn(\n",
      " 94%|█████████▍| 47/50 [16:38<01:05, 21.77s/it]"
     ]
    },
    {
     "name": "stdout",
     "output_type": "stream",
     "text": [
      "Iterations 134\n",
      "Minimizing with EGP\n",
      "Seed: 344\n",
      "Initial points: tensor([[0.0000, 1.0000, 0.0000],\n",
      "        [0.0500, 0.7885, 0.1615],\n",
      "        [0.0500, 0.7885, 0.1615],\n",
      "        [0.5000, 0.5000, 0.0000],\n",
      "        [0.7500, 0.2500, 0.0000]])\n"
     ]
    },
    {
     "name": "stderr",
     "output_type": "stream",
     "text": [
      "c:\\Users\\stan\\miniconda3\\envs\\researchTP\\Lib\\site-packages\\botorch\\optim\\fit.py:102: OptimizationWarning: `scipy_minimize` terminated with status OptimizationStatus.FAILURE, displaying original message from `scipy.optimize.minimize`: ABNORMAL_TERMINATION_IN_LNSRCH\n",
      "  warn(\n",
      "c:\\Users\\stan\\miniconda3\\envs\\researchTP\\Lib\\site-packages\\botorch\\optim\\fit.py:102: OptimizationWarning: `scipy_minimize` terminated with status OptimizationStatus.FAILURE, displaying original message from `scipy.optimize.minimize`: ABNORMAL_TERMINATION_IN_LNSRCH\n",
      "  warn(\n",
      "c:\\Users\\stan\\miniconda3\\envs\\researchTP\\Lib\\site-packages\\botorch\\optim\\fit.py:102: OptimizationWarning: `scipy_minimize` terminated with status OptimizationStatus.FAILURE, displaying original message from `scipy.optimize.minimize`: ABNORMAL_TERMINATION_IN_LNSRCH\n",
      "  warn(\n",
      "c:\\Users\\stan\\miniconda3\\envs\\researchTP\\Lib\\site-packages\\botorch\\optim\\fit.py:102: OptimizationWarning: `scipy_minimize` terminated with status OptimizationStatus.FAILURE, displaying original message from `scipy.optimize.minimize`: ABNORMAL_TERMINATION_IN_LNSRCH\n",
      "  warn(\n",
      "c:\\Users\\stan\\miniconda3\\envs\\researchTP\\Lib\\site-packages\\botorch\\optim\\fit.py:102: OptimizationWarning: `scipy_minimize` terminated with status OptimizationStatus.FAILURE, displaying original message from `scipy.optimize.minimize`: ABNORMAL_TERMINATION_IN_LNSRCH\n",
      "  warn(\n",
      "c:\\Users\\stan\\miniconda3\\envs\\researchTP\\Lib\\site-packages\\botorch\\optim\\fit.py:102: OptimizationWarning: `scipy_minimize` terminated with status OptimizationStatus.FAILURE, displaying original message from `scipy.optimize.minimize`: ABNORMAL_TERMINATION_IN_LNSRCH\n",
      "  warn(\n",
      "c:\\Users\\stan\\miniconda3\\envs\\researchTP\\Lib\\site-packages\\botorch\\optim\\fit.py:102: OptimizationWarning: `scipy_minimize` terminated with status OptimizationStatus.FAILURE, displaying original message from `scipy.optimize.minimize`: ABNORMAL_TERMINATION_IN_LNSRCH\n",
      "  warn(\n",
      "c:\\Users\\stan\\miniconda3\\envs\\researchTP\\Lib\\site-packages\\botorch\\optim\\fit.py:102: OptimizationWarning: `scipy_minimize` terminated with status OptimizationStatus.FAILURE, displaying original message from `scipy.optimize.minimize`: ABNORMAL_TERMINATION_IN_LNSRCH\n",
      "  warn(\n",
      "c:\\Users\\stan\\miniconda3\\envs\\researchTP\\Lib\\site-packages\\botorch\\optim\\fit.py:102: OptimizationWarning: `scipy_minimize` terminated with status OptimizationStatus.FAILURE, displaying original message from `scipy.optimize.minimize`: ABNORMAL_TERMINATION_IN_LNSRCH\n",
      "  warn(\n",
      "c:\\Users\\stan\\miniconda3\\envs\\researchTP\\Lib\\site-packages\\botorch\\optim\\fit.py:102: OptimizationWarning: `scipy_minimize` terminated with status OptimizationStatus.FAILURE, displaying original message from `scipy.optimize.minimize`: ABNORMAL_TERMINATION_IN_LNSRCH\n",
      "  warn(\n",
      "c:\\Users\\stan\\miniconda3\\envs\\researchTP\\Lib\\site-packages\\botorch\\optim\\fit.py:102: OptimizationWarning: `scipy_minimize` terminated with status OptimizationStatus.FAILURE, displaying original message from `scipy.optimize.minimize`: ABNORMAL_TERMINATION_IN_LNSRCH\n",
      "  warn(\n",
      "c:\\Users\\stan\\miniconda3\\envs\\researchTP\\Lib\\site-packages\\botorch\\optim\\fit.py:102: OptimizationWarning: `scipy_minimize` terminated with status OptimizationStatus.FAILURE, displaying original message from `scipy.optimize.minimize`: ABNORMAL_TERMINATION_IN_LNSRCH\n",
      "  warn(\n",
      "c:\\Users\\stan\\miniconda3\\envs\\researchTP\\Lib\\site-packages\\botorch\\optim\\fit.py:102: OptimizationWarning: `scipy_minimize` terminated with status OptimizationStatus.FAILURE, displaying original message from `scipy.optimize.minimize`: ABNORMAL_TERMINATION_IN_LNSRCH\n",
      "  warn(\n",
      "c:\\Users\\stan\\miniconda3\\envs\\researchTP\\Lib\\site-packages\\botorch\\optim\\fit.py:102: OptimizationWarning: `scipy_minimize` terminated with status OptimizationStatus.FAILURE, displaying original message from `scipy.optimize.minimize`: ABNORMAL_TERMINATION_IN_LNSRCH\n",
      "  warn(\n",
      "c:\\Users\\stan\\miniconda3\\envs\\researchTP\\Lib\\site-packages\\botorch\\optim\\fit.py:102: OptimizationWarning: `scipy_minimize` terminated with status OptimizationStatus.FAILURE, displaying original message from `scipy.optimize.minimize`: ABNORMAL_TERMINATION_IN_LNSRCH\n",
      "  warn(\n",
      "c:\\Users\\stan\\miniconda3\\envs\\researchTP\\Lib\\site-packages\\botorch\\optim\\fit.py:102: OptimizationWarning: `scipy_minimize` terminated with status OptimizationStatus.FAILURE, displaying original message from `scipy.optimize.minimize`: ABNORMAL_TERMINATION_IN_LNSRCH\n",
      "  warn(\n",
      "c:\\Users\\stan\\miniconda3\\envs\\researchTP\\Lib\\site-packages\\botorch\\optim\\fit.py:102: OptimizationWarning: `scipy_minimize` terminated with status OptimizationStatus.FAILURE, displaying original message from `scipy.optimize.minimize`: ABNORMAL_TERMINATION_IN_LNSRCH\n",
      "  warn(\n",
      "c:\\Users\\stan\\miniconda3\\envs\\researchTP\\Lib\\site-packages\\botorch\\optim\\fit.py:102: OptimizationWarning: `scipy_minimize` terminated with status OptimizationStatus.FAILURE, displaying original message from `scipy.optimize.minimize`: ABNORMAL_TERMINATION_IN_LNSRCH\n",
      "  warn(\n",
      "c:\\Users\\stan\\miniconda3\\envs\\researchTP\\Lib\\site-packages\\botorch\\optim\\fit.py:102: OptimizationWarning: `scipy_minimize` terminated with status OptimizationStatus.FAILURE, displaying original message from `scipy.optimize.minimize`: ABNORMAL_TERMINATION_IN_LNSRCH\n",
      "  warn(\n",
      " 96%|█████████▌| 48/50 [17:01<00:44, 22.21s/it]"
     ]
    },
    {
     "name": "stdout",
     "output_type": "stream",
     "text": [
      "Iterations 134\n",
      "Minimizing with EGP\n",
      "Seed: 94\n",
      "Initial points: tensor([[0.8100, 0.0000, 0.1900],\n",
      "        [0.8700, 0.1200, 0.0100],\n",
      "        [0.1800, 0.7600, 0.0600],\n",
      "        [0.1300, 0.8700, 0.0000],\n",
      "        [0.2500, 0.7000, 0.0600]])\n"
     ]
    },
    {
     "name": "stderr",
     "output_type": "stream",
     "text": [
      "c:\\Users\\stan\\miniconda3\\envs\\researchTP\\Lib\\site-packages\\botorch\\optim\\fit.py:102: OptimizationWarning: `scipy_minimize` terminated with status OptimizationStatus.FAILURE, displaying original message from `scipy.optimize.minimize`: ABNORMAL_TERMINATION_IN_LNSRCH\n",
      "  warn(\n",
      "c:\\Users\\stan\\miniconda3\\envs\\researchTP\\Lib\\site-packages\\botorch\\optim\\fit.py:102: OptimizationWarning: `scipy_minimize` terminated with status OptimizationStatus.FAILURE, displaying original message from `scipy.optimize.minimize`: ABNORMAL_TERMINATION_IN_LNSRCH\n",
      "  warn(\n",
      "c:\\Users\\stan\\miniconda3\\envs\\researchTP\\Lib\\site-packages\\botorch\\optim\\fit.py:102: OptimizationWarning: `scipy_minimize` terminated with status OptimizationStatus.FAILURE, displaying original message from `scipy.optimize.minimize`: ABNORMAL_TERMINATION_IN_LNSRCH\n",
      "  warn(\n",
      "c:\\Users\\stan\\miniconda3\\envs\\researchTP\\Lib\\site-packages\\botorch\\optim\\fit.py:102: OptimizationWarning: `scipy_minimize` terminated with status OptimizationStatus.FAILURE, displaying original message from `scipy.optimize.minimize`: ABNORMAL_TERMINATION_IN_LNSRCH\n",
      "  warn(\n",
      "c:\\Users\\stan\\miniconda3\\envs\\researchTP\\Lib\\site-packages\\botorch\\optim\\fit.py:102: OptimizationWarning: `scipy_minimize` terminated with status OptimizationStatus.FAILURE, displaying original message from `scipy.optimize.minimize`: ABNORMAL_TERMINATION_IN_LNSRCH\n",
      "  warn(\n",
      "c:\\Users\\stan\\miniconda3\\envs\\researchTP\\Lib\\site-packages\\botorch\\optim\\fit.py:102: OptimizationWarning: `scipy_minimize` terminated with status OptimizationStatus.FAILURE, displaying original message from `scipy.optimize.minimize`: ABNORMAL_TERMINATION_IN_LNSRCH\n",
      "  warn(\n",
      "c:\\Users\\stan\\miniconda3\\envs\\researchTP\\Lib\\site-packages\\botorch\\optim\\fit.py:102: OptimizationWarning: `scipy_minimize` terminated with status OptimizationStatus.FAILURE, displaying original message from `scipy.optimize.minimize`: ABNORMAL_TERMINATION_IN_LNSRCH\n",
      "  warn(\n",
      "c:\\Users\\stan\\miniconda3\\envs\\researchTP\\Lib\\site-packages\\botorch\\optim\\fit.py:102: OptimizationWarning: `scipy_minimize` terminated with status OptimizationStatus.FAILURE, displaying original message from `scipy.optimize.minimize`: ABNORMAL_TERMINATION_IN_LNSRCH\n",
      "  warn(\n",
      "c:\\Users\\stan\\miniconda3\\envs\\researchTP\\Lib\\site-packages\\botorch\\optim\\fit.py:102: OptimizationWarning: `scipy_minimize` terminated with status OptimizationStatus.FAILURE, displaying original message from `scipy.optimize.minimize`: ABNORMAL_TERMINATION_IN_LNSRCH\n",
      "  warn(\n",
      "c:\\Users\\stan\\miniconda3\\envs\\researchTP\\Lib\\site-packages\\botorch\\optim\\fit.py:102: OptimizationWarning: `scipy_minimize` terminated with status OptimizationStatus.FAILURE, displaying original message from `scipy.optimize.minimize`: ABNORMAL_TERMINATION_IN_LNSRCH\n",
      "  warn(\n",
      "c:\\Users\\stan\\miniconda3\\envs\\researchTP\\Lib\\site-packages\\botorch\\optim\\fit.py:102: OptimizationWarning: `scipy_minimize` terminated with status OptimizationStatus.FAILURE, displaying original message from `scipy.optimize.minimize`: ABNORMAL_TERMINATION_IN_LNSRCH\n",
      "  warn(\n",
      "c:\\Users\\stan\\miniconda3\\envs\\researchTP\\Lib\\site-packages\\botorch\\optim\\fit.py:102: OptimizationWarning: `scipy_minimize` terminated with status OptimizationStatus.FAILURE, displaying original message from `scipy.optimize.minimize`: ABNORMAL_TERMINATION_IN_LNSRCH\n",
      "  warn(\n",
      "c:\\Users\\stan\\miniconda3\\envs\\researchTP\\Lib\\site-packages\\botorch\\optim\\fit.py:102: OptimizationWarning: `scipy_minimize` terminated with status OptimizationStatus.FAILURE, displaying original message from `scipy.optimize.minimize`: ABNORMAL_TERMINATION_IN_LNSRCH\n",
      "  warn(\n",
      " 98%|█████████▊| 49/50 [17:20<00:21, 21.22s/it]"
     ]
    },
    {
     "name": "stdout",
     "output_type": "stream",
     "text": [
      "Iterations 134\n",
      "Minimizing with EGP\n",
      "Seed: 389\n",
      "Initial points: tensor([[0.3500, 0.6500, 0.0000],\n",
      "        [0.6600, 0.2400, 0.1000],\n",
      "        [0.1300, 0.8700, 0.0000],\n",
      "        [0.2300, 0.6600, 0.1100],\n",
      "        [0.2800, 0.6500, 0.0700]])\n"
     ]
    },
    {
     "name": "stderr",
     "output_type": "stream",
     "text": [
      "c:\\Users\\stan\\miniconda3\\envs\\researchTP\\Lib\\site-packages\\botorch\\optim\\fit.py:102: OptimizationWarning: `scipy_minimize` terminated with status OptimizationStatus.FAILURE, displaying original message from `scipy.optimize.minimize`: ABNORMAL_TERMINATION_IN_LNSRCH\n",
      "  warn(\n",
      "c:\\Users\\stan\\miniconda3\\envs\\researchTP\\Lib\\site-packages\\botorch\\optim\\fit.py:102: OptimizationWarning: `scipy_minimize` terminated with status OptimizationStatus.FAILURE, displaying original message from `scipy.optimize.minimize`: ABNORMAL_TERMINATION_IN_LNSRCH\n",
      "  warn(\n",
      "c:\\Users\\stan\\miniconda3\\envs\\researchTP\\Lib\\site-packages\\botorch\\optim\\fit.py:102: OptimizationWarning: `scipy_minimize` terminated with status OptimizationStatus.FAILURE, displaying original message from `scipy.optimize.minimize`: ABNORMAL_TERMINATION_IN_LNSRCH\n",
      "  warn(\n",
      "c:\\Users\\stan\\miniconda3\\envs\\researchTP\\Lib\\site-packages\\botorch\\optim\\fit.py:102: OptimizationWarning: `scipy_minimize` terminated with status OptimizationStatus.FAILURE, displaying original message from `scipy.optimize.minimize`: ABNORMAL_TERMINATION_IN_LNSRCH\n",
      "  warn(\n",
      "c:\\Users\\stan\\miniconda3\\envs\\researchTP\\Lib\\site-packages\\botorch\\optim\\fit.py:102: OptimizationWarning: `scipy_minimize` terminated with status OptimizationStatus.FAILURE, displaying original message from `scipy.optimize.minimize`: ABNORMAL_TERMINATION_IN_LNSRCH\n",
      "  warn(\n",
      "c:\\Users\\stan\\miniconda3\\envs\\researchTP\\Lib\\site-packages\\botorch\\optim\\fit.py:102: OptimizationWarning: `scipy_minimize` terminated with status OptimizationStatus.FAILURE, displaying original message from `scipy.optimize.minimize`: ABNORMAL_TERMINATION_IN_LNSRCH\n",
      "  warn(\n",
      "c:\\Users\\stan\\miniconda3\\envs\\researchTP\\Lib\\site-packages\\botorch\\optim\\fit.py:102: OptimizationWarning: `scipy_minimize` terminated with status OptimizationStatus.FAILURE, displaying original message from `scipy.optimize.minimize`: ABNORMAL_TERMINATION_IN_LNSRCH\n",
      "  warn(\n",
      "c:\\Users\\stan\\miniconda3\\envs\\researchTP\\Lib\\site-packages\\botorch\\optim\\fit.py:102: OptimizationWarning: `scipy_minimize` terminated with status OptimizationStatus.FAILURE, displaying original message from `scipy.optimize.minimize`: ABNORMAL_TERMINATION_IN_LNSRCH\n",
      "  warn(\n",
      "c:\\Users\\stan\\miniconda3\\envs\\researchTP\\Lib\\site-packages\\botorch\\optim\\fit.py:102: OptimizationWarning: `scipy_minimize` terminated with status OptimizationStatus.FAILURE, displaying original message from `scipy.optimize.minimize`: ABNORMAL_TERMINATION_IN_LNSRCH\n",
      "  warn(\n",
      "c:\\Users\\stan\\miniconda3\\envs\\researchTP\\Lib\\site-packages\\botorch\\optim\\fit.py:102: OptimizationWarning: `scipy_minimize` terminated with status OptimizationStatus.FAILURE, displaying original message from `scipy.optimize.minimize`: ABNORMAL_TERMINATION_IN_LNSRCH\n",
      "  warn(\n",
      "c:\\Users\\stan\\miniconda3\\envs\\researchTP\\Lib\\site-packages\\botorch\\optim\\fit.py:102: OptimizationWarning: `scipy_minimize` terminated with status OptimizationStatus.FAILURE, displaying original message from `scipy.optimize.minimize`: ABNORMAL_TERMINATION_IN_LNSRCH\n",
      "  warn(\n",
      "c:\\Users\\stan\\miniconda3\\envs\\researchTP\\Lib\\site-packages\\botorch\\optim\\fit.py:102: OptimizationWarning: `scipy_minimize` terminated with status OptimizationStatus.FAILURE, displaying original message from `scipy.optimize.minimize`: ABNORMAL_TERMINATION_IN_LNSRCH\n",
      "  warn(\n",
      "c:\\Users\\stan\\miniconda3\\envs\\researchTP\\Lib\\site-packages\\botorch\\optim\\fit.py:102: OptimizationWarning: `scipy_minimize` terminated with status OptimizationStatus.FAILURE, displaying original message from `scipy.optimize.minimize`: ABNORMAL_TERMINATION_IN_LNSRCH\n",
      "  warn(\n",
      "c:\\Users\\stan\\miniconda3\\envs\\researchTP\\Lib\\site-packages\\botorch\\optim\\fit.py:102: OptimizationWarning: `scipy_minimize` terminated with status OptimizationStatus.FAILURE, displaying original message from `scipy.optimize.minimize`: ABNORMAL_TERMINATION_IN_LNSRCH\n",
      "  warn(\n",
      "100%|██████████| 50/50 [17:43<00:00, 21.27s/it]\n"
     ]
    },
    {
     "name": "stdout",
     "output_type": "stream",
     "text": [
      "Iterations 134\n"
     ]
    },
    {
     "name": "stderr",
     "output_type": "stream",
     "text": [
      "  0%|          | 0/50 [00:00<?, ?it/s]"
     ]
    },
    {
     "name": "stdout",
     "output_type": "stream",
     "text": [
      "Minimizing with VGP\n",
      "Seed: 654\n",
      "Initial points: tensor([[0.3800, 0.6200, 0.0000],\n",
      "        [0.0500, 0.7885, 0.1615],\n",
      "        [0.2600, 0.3800, 0.3600],\n",
      "        [0.8000, 0.1100, 0.0900],\n",
      "        [0.0000, 1.0000, 0.0000]])\n"
     ]
    },
    {
     "name": "stderr",
     "output_type": "stream",
     "text": [
      "  2%|▏         | 1/50 [00:30<25:06, 30.74s/it]"
     ]
    },
    {
     "name": "stdout",
     "output_type": "stream",
     "text": [
      "Iterations 134\n",
      "Minimizing with VGP\n",
      "Seed: 114\n",
      "Initial points: tensor([[0.3200, 0.6800, 0.0000],\n",
      "        [0.1700, 0.8000, 0.0300],\n",
      "        [0.0000, 1.0000, 0.0000],\n",
      "        [0.2500, 0.7000, 0.0600],\n",
      "        [0.0000, 0.5000, 0.5000]])\n"
     ]
    },
    {
     "name": "stderr",
     "output_type": "stream",
     "text": [
      "  4%|▍         | 2/50 [01:01<24:22, 30.46s/it]"
     ]
    },
    {
     "name": "stdout",
     "output_type": "stream",
     "text": [
      "Iterations 134\n",
      "Minimizing with VGP\n",
      "Seed: 25\n",
      "Initial points: tensor([[0.5000, 0.0000, 0.5000],\n",
      "        [0.1300, 0.8700, 0.0000],\n",
      "        [0.2500, 0.5000, 0.2500],\n",
      "        [0.5000, 0.2500, 0.2500],\n",
      "        [0.0500, 0.7885, 0.1615]])\n"
     ]
    },
    {
     "name": "stderr",
     "output_type": "stream",
     "text": [
      "  6%|▌         | 3/50 [01:31<23:58, 30.61s/it]"
     ]
    },
    {
     "name": "stdout",
     "output_type": "stream",
     "text": [
      "Iterations 134\n",
      "Minimizing with VGP\n",
      "Seed: 759\n",
      "Initial points: tensor([[0.1200, 0.8100, 0.0700],\n",
      "        [0.1300, 0.7900, 0.0800],\n",
      "        [0.8000, 0.1100, 0.0900],\n",
      "        [0.7500, 0.2500, 0.0000],\n",
      "        [0.2600, 0.3800, 0.3600]])\n"
     ]
    },
    {
     "name": "stderr",
     "output_type": "stream",
     "text": [
      "  8%|▊         | 4/50 [02:01<23:12, 30.27s/it]"
     ]
    },
    {
     "name": "stdout",
     "output_type": "stream",
     "text": [
      "Iterations 134\n",
      "Minimizing with VGP\n",
      "Seed: 281\n",
      "Initial points: tensor([[0.1600, 0.7500, 0.0900],\n",
      "        [0.5000, 0.2500, 0.2500],\n",
      "        [0.2400, 0.3700, 0.3900],\n",
      "        [0.8900, 0.0000, 0.1100],\n",
      "        [0.0500, 0.7885, 0.1615]])\n"
     ]
    },
    {
     "name": "stderr",
     "output_type": "stream",
     "text": [
      " 10%|█         | 5/50 [02:31<22:33, 30.07s/it]"
     ]
    },
    {
     "name": "stdout",
     "output_type": "stream",
     "text": [
      "Iterations 134\n",
      "Minimizing with VGP\n",
      "Seed: 250\n",
      "Initial points: tensor([[0.1700, 0.8000, 0.0300],\n",
      "        [0.8000, 0.1100, 0.0900],\n",
      "        [0.5000, 0.5000, 0.0000],\n",
      "        [0.2500, 0.5000, 0.2500],\n",
      "        [0.0000, 0.7500, 0.2500]])\n"
     ]
    },
    {
     "name": "stderr",
     "output_type": "stream",
     "text": [
      " 12%|█▏        | 6/50 [03:00<21:55, 29.91s/it]"
     ]
    },
    {
     "name": "stdout",
     "output_type": "stream",
     "text": [
      "Iterations 134\n",
      "Minimizing with VGP\n",
      "Seed: 228\n",
      "Initial points: tensor([[0.6600, 0.2400, 0.1000],\n",
      "        [0.2500, 0.7000, 0.0600],\n",
      "        [0.8300, 0.0300, 0.1400],\n",
      "        [0.5000, 0.2500, 0.2500],\n",
      "        [0.4400, 0.5500, 0.0100]])\n"
     ]
    },
    {
     "name": "stderr",
     "output_type": "stream",
     "text": [
      " 14%|█▍        | 7/50 [03:30<21:24, 29.87s/it]"
     ]
    },
    {
     "name": "stdout",
     "output_type": "stream",
     "text": [
      "Iterations 134\n",
      "Minimizing with VGP\n",
      "Seed: 142\n",
      "Initial points: tensor([[0.2500, 0.7100, 0.0400],\n",
      "        [0.8900, 0.0000, 0.1100],\n",
      "        [0.2800, 0.6500, 0.0700],\n",
      "        [0.6800, 0.1300, 0.1900],\n",
      "        [0.1300, 0.7900, 0.0800]])\n"
     ]
    },
    {
     "name": "stderr",
     "output_type": "stream",
     "text": [
      " 16%|█▌        | 8/50 [03:59<20:46, 29.68s/it]"
     ]
    },
    {
     "name": "stdout",
     "output_type": "stream",
     "text": [
      "Iterations 133\n",
      "Minimizing with VGP\n",
      "Seed: 754\n",
      "Initial points: tensor([[0.1700, 0.8000, 0.0300],\n",
      "        [0.0600, 0.8500, 0.0900],\n",
      "        [0.2300, 0.6600, 0.1100],\n",
      "        [0.5000, 0.5000, 0.0000],\n",
      "        [0.7600, 0.2400, 0.0000]])\n"
     ]
    },
    {
     "name": "stderr",
     "output_type": "stream",
     "text": [
      " 18%|█▊        | 9/50 [04:29<20:17, 29.69s/it]"
     ]
    },
    {
     "name": "stdout",
     "output_type": "stream",
     "text": [
      "Iterations 134\n",
      "Minimizing with VGP\n",
      "Seed: 104\n",
      "Initial points: tensor([[0.3200, 0.6700, 0.0100],\n",
      "        [0.9100, 0.0100, 0.0800],\n",
      "        [0.1300, 0.8700, 0.0000],\n",
      "        [0.5300, 0.4700, 0.0000],\n",
      "        [0.1300, 0.8700, 0.0000]])\n"
     ]
    },
    {
     "name": "stderr",
     "output_type": "stream",
     "text": [
      " 20%|██        | 10/50 [04:59<19:46, 29.66s/it]"
     ]
    },
    {
     "name": "stdout",
     "output_type": "stream",
     "text": [
      "Iterations 134\n",
      "Minimizing with VGP\n",
      "Seed: 692\n",
      "Initial points: tensor([[0.1200, 0.8100, 0.0700],\n",
      "        [0.0000, 0.7500, 0.2500],\n",
      "        [0.8000, 0.1100, 0.0900],\n",
      "        [0.1300, 0.7900, 0.0800],\n",
      "        [0.8800, 0.0000, 0.1200]])\n"
     ]
    },
    {
     "name": "stderr",
     "output_type": "stream",
     "text": [
      " 22%|██▏       | 11/50 [05:28<19:11, 29.52s/it]"
     ]
    },
    {
     "name": "stdout",
     "output_type": "stream",
     "text": [
      "Iterations 133\n",
      "Minimizing with VGP\n",
      "Seed: 758\n",
      "Initial points: tensor([[0.0500, 0.7885, 0.1615],\n",
      "        [0.0900, 0.8700, 0.0400],\n",
      "        [0.1200, 0.7700, 0.1100],\n",
      "        [0.3100, 0.3600, 0.3300],\n",
      "        [0.1600, 0.8400, 0.0000]])\n"
     ]
    },
    {
     "name": "stderr",
     "output_type": "stream",
     "text": [
      " 24%|██▍       | 12/50 [05:57<18:41, 29.52s/it]"
     ]
    },
    {
     "name": "stdout",
     "output_type": "stream",
     "text": [
      "Iterations 134\n",
      "Minimizing with VGP\n",
      "Seed: 913\n",
      "Initial points: tensor([[0.3200, 0.6800, 0.0000],\n",
      "        [0.0500, 0.7885, 0.1615],\n",
      "        [0.1200, 0.7700, 0.1100],\n",
      "        [0.8000, 0.1100, 0.0900],\n",
      "        [1.0000, 0.0000, 0.0000]])\n"
     ]
    },
    {
     "name": "stderr",
     "output_type": "stream",
     "text": [
      " 26%|██▌       | 13/50 [06:27<18:13, 29.56s/it]"
     ]
    },
    {
     "name": "stdout",
     "output_type": "stream",
     "text": [
      "Iterations 134\n",
      "Minimizing with VGP\n",
      "Seed: 558\n",
      "Initial points: tensor([[0.3200, 0.6700, 0.0100],\n",
      "        [0.1400, 0.8400, 0.0200],\n",
      "        [0.1900, 0.8100, 0.0000],\n",
      "        [0.1300, 0.8700, 0.0000],\n",
      "        [0.7000, 0.2900, 0.0100]])\n"
     ]
    },
    {
     "name": "stderr",
     "output_type": "stream",
     "text": [
      " 28%|██▊       | 14/50 [06:56<17:36, 29.34s/it]"
     ]
    },
    {
     "name": "stdout",
     "output_type": "stream",
     "text": [
      "Iterations 133\n",
      "Minimizing with VGP\n",
      "Seed: 89\n",
      "Initial points: tensor([[0.2600, 0.3700, 0.3600],\n",
      "        [0.1300, 0.8700, 0.0000],\n",
      "        [0.3400, 0.6400, 0.0200],\n",
      "        [0.7100, 0.0600, 0.2300],\n",
      "        [0.1900, 0.7000, 0.1100]])\n"
     ]
    },
    {
     "name": "stderr",
     "output_type": "stream",
     "text": [
      " 30%|███       | 15/50 [07:25<17:02, 29.21s/it]"
     ]
    },
    {
     "name": "stdout",
     "output_type": "stream",
     "text": [
      "Iterations 134\n",
      "Minimizing with VGP\n",
      "Seed: 604\n",
      "Initial points: tensor([[0.8400, 0.0000, 0.1600],\n",
      "        [0.3700, 0.6300, 0.0000],\n",
      "        [0.2300, 0.7700, 0.0000],\n",
      "        [0.7100, 0.0100, 0.2800],\n",
      "        [0.1300, 0.7900, 0.0800]])\n"
     ]
    },
    {
     "name": "stderr",
     "output_type": "stream",
     "text": [
      " 32%|███▏      | 16/50 [07:54<16:30, 29.14s/it]"
     ]
    },
    {
     "name": "stdout",
     "output_type": "stream",
     "text": [
      "Iterations 134\n",
      "Minimizing with VGP\n",
      "Seed: 432\n",
      "Initial points: tensor([[0.2500, 0.7000, 0.0600],\n",
      "        [0.1700, 0.8200, 0.0100],\n",
      "        [0.6300, 0.3700, 0.0000],\n",
      "        [0.2600, 0.3800, 0.3600],\n",
      "        [0.2600, 0.3800, 0.3600]])\n"
     ]
    },
    {
     "name": "stderr",
     "output_type": "stream",
     "text": [
      " 34%|███▍      | 17/50 [08:23<16:00, 29.09s/it]"
     ]
    },
    {
     "name": "stdout",
     "output_type": "stream",
     "text": [
      "Iterations 134\n",
      "Minimizing with VGP\n",
      "Seed: 32\n",
      "Initial points: tensor([[0.0900, 0.9100, 0.0000],\n",
      "        [0.0000, 0.5000, 0.5000],\n",
      "        [0.3000, 0.6900, 0.0100],\n",
      "        [0.1200, 0.8100, 0.0700],\n",
      "        [0.5000, 0.0000, 0.5000]])\n"
     ]
    },
    {
     "name": "stderr",
     "output_type": "stream",
     "text": [
      " 36%|███▌      | 18/50 [08:52<15:30, 29.07s/it]"
     ]
    },
    {
     "name": "stdout",
     "output_type": "stream",
     "text": [
      "Iterations 134\n",
      "Minimizing with VGP\n",
      "Seed: 30\n",
      "Initial points: tensor([[0.7500, 0.2500, 0.0000],\n",
      "        [0.1300, 0.8500, 0.0200],\n",
      "        [0.6300, 0.3700, 0.0000],\n",
      "        [0.1700, 0.8000, 0.0300],\n",
      "        [0.2800, 0.3700, 0.3500]])\n"
     ]
    },
    {
     "name": "stderr",
     "output_type": "stream",
     "text": [
      " 38%|███▊      | 19/50 [09:21<15:02, 29.12s/it]"
     ]
    },
    {
     "name": "stdout",
     "output_type": "stream",
     "text": [
      "Iterations 134\n",
      "Minimizing with VGP\n",
      "Seed: 95\n",
      "Initial points: tensor([[0.6300, 0.3700, 0.0000],\n",
      "        [0.1600, 0.8400, 0.0000],\n",
      "        [0.6600, 0.2400, 0.1000],\n",
      "        [0.2600, 0.3700, 0.3600],\n",
      "        [0.6900, 0.3100, 0.0000]])\n"
     ]
    },
    {
     "name": "stderr",
     "output_type": "stream",
     "text": [
      " 40%|████      | 20/50 [09:50<14:32, 29.07s/it]"
     ]
    },
    {
     "name": "stdout",
     "output_type": "stream",
     "text": [
      "Iterations 134\n",
      "Minimizing with VGP\n",
      "Seed: 223\n",
      "Initial points: tensor([[0.1700, 0.8000, 0.0300],\n",
      "        [0.1600, 0.8300, 0.0100],\n",
      "        [0.2500, 0.7000, 0.0600],\n",
      "        [0.0500, 0.7885, 0.1615],\n",
      "        [0.3500, 0.6500, 0.0000]])\n"
     ]
    },
    {
     "name": "stderr",
     "output_type": "stream",
     "text": [
      " 42%|████▏     | 21/50 [10:19<14:03, 29.08s/it]"
     ]
    },
    {
     "name": "stdout",
     "output_type": "stream",
     "text": [
      "Iterations 134\n",
      "Minimizing with VGP\n",
      "Seed: 238\n",
      "Initial points: tensor([[0.1800, 0.8200, 0.0000],\n",
      "        [0.0000, 0.5000, 0.5000],\n",
      "        [0.3100, 0.3600, 0.3300],\n",
      "        [0.2600, 0.3800, 0.3600],\n",
      "        [0.1600, 0.8400, 0.0000]])\n"
     ]
    },
    {
     "name": "stderr",
     "output_type": "stream",
     "text": [
      " 44%|████▍     | 22/50 [10:48<13:33, 29.05s/it]"
     ]
    },
    {
     "name": "stdout",
     "output_type": "stream",
     "text": [
      "Iterations 134\n",
      "Minimizing with VGP\n",
      "Seed: 517\n",
      "Initial points: tensor([[0.0500, 0.7885, 0.1615],\n",
      "        [0.7000, 0.2900, 0.0100],\n",
      "        [0.2600, 0.3700, 0.3600],\n",
      "        [0.8000, 0.1100, 0.0900],\n",
      "        [0.1700, 0.8000, 0.0300]])\n"
     ]
    },
    {
     "name": "stderr",
     "output_type": "stream",
     "text": [
      " 46%|████▌     | 23/50 [11:17<13:03, 29.02s/it]"
     ]
    },
    {
     "name": "stdout",
     "output_type": "stream",
     "text": [
      "Iterations 134\n",
      "Minimizing with VGP\n",
      "Seed: 616\n",
      "Initial points: tensor([[0.8800, 0.0000, 0.1200],\n",
      "        [0.6900, 0.3100, 0.0000],\n",
      "        [0.2200, 0.7800, 0.0000],\n",
      "        [0.3400, 0.6400, 0.0200],\n",
      "        [0.1300, 0.8700, 0.0000]])\n"
     ]
    },
    {
     "name": "stderr",
     "output_type": "stream",
     "text": [
      " 48%|████▊     | 24/50 [11:46<12:34, 29.01s/it]"
     ]
    },
    {
     "name": "stdout",
     "output_type": "stream",
     "text": [
      "Iterations 134\n",
      "Minimizing with VGP\n",
      "Seed: 27\n",
      "Initial points: tensor([[0.7500, 0.0000, 0.2500],\n",
      "        [0.0000, 0.7500, 0.2500],\n",
      "        [0.6900, 0.3100, 0.0000],\n",
      "        [0.8400, 0.0000, 0.1600],\n",
      "        [0.1200, 0.8100, 0.0700]])\n"
     ]
    },
    {
     "name": "stderr",
     "output_type": "stream",
     "text": [
      " 50%|█████     | 25/50 [12:15<12:06, 29.05s/it]"
     ]
    },
    {
     "name": "stdout",
     "output_type": "stream",
     "text": [
      "Iterations 134\n",
      "Minimizing with VGP\n",
      "Seed: 574\n",
      "Initial points: tensor([[0.5900, 0.4100, 0.0000],\n",
      "        [0.1800, 0.7800, 0.0400],\n",
      "        [0.1600, 0.7500, 0.0900],\n",
      "        [0.1700, 0.8200, 0.0100],\n",
      "        [0.0000, 0.7500, 0.2500]])\n"
     ]
    },
    {
     "name": "stderr",
     "output_type": "stream",
     "text": [
      " 52%|█████▏    | 26/50 [12:44<11:37, 29.06s/it]"
     ]
    },
    {
     "name": "stdout",
     "output_type": "stream",
     "text": [
      "Iterations 134\n",
      "Minimizing with VGP\n",
      "Seed: 203\n",
      "Initial points: tensor([[0.1000, 0.8900, 0.0100],\n",
      "        [0.1300, 0.7900, 0.0800],\n",
      "        [0.7000, 0.2900, 0.0100],\n",
      "        [0.1900, 0.7000, 0.1100],\n",
      "        [0.1400, 0.8400, 0.0200]])\n"
     ]
    },
    {
     "name": "stderr",
     "output_type": "stream",
     "text": [
      " 54%|█████▍    | 27/50 [13:14<11:09, 29.13s/it]"
     ]
    },
    {
     "name": "stdout",
     "output_type": "stream",
     "text": [
      "Iterations 134\n",
      "Minimizing with VGP\n",
      "Seed: 733\n",
      "Initial points: tensor([[0.7500, 0.2500, 0.0000],\n",
      "        [0.1700, 0.8000, 0.0300],\n",
      "        [0.2000, 0.6900, 0.1100],\n",
      "        [0.0000, 0.7500, 0.2500],\n",
      "        [0.2800, 0.6500, 0.0700]])\n"
     ]
    },
    {
     "name": "stderr",
     "output_type": "stream",
     "text": [
      " 56%|█████▌    | 28/50 [13:43<10:40, 29.10s/it]"
     ]
    },
    {
     "name": "stdout",
     "output_type": "stream",
     "text": [
      "Iterations 134\n",
      "Minimizing with VGP\n",
      "Seed: 665\n",
      "Initial points: tensor([[0.8900, 0.0000, 0.1100],\n",
      "        [0.1300, 0.8700, 0.0000],\n",
      "        [0.1600, 0.8400, 0.0000],\n",
      "        [0.0000, 0.5000, 0.5000],\n",
      "        [0.1000, 0.9000, 0.0000]])\n"
     ]
    },
    {
     "name": "stderr",
     "output_type": "stream",
     "text": [
      " 58%|█████▊    | 29/50 [14:12<10:11, 29.11s/it]"
     ]
    },
    {
     "name": "stdout",
     "output_type": "stream",
     "text": [
      "Iterations 134\n",
      "Minimizing with VGP\n",
      "Seed: 718\n",
      "Initial points: tensor([[0.2400, 0.3700, 0.3900],\n",
      "        [0.3700, 0.6200, 0.0100],\n",
      "        [0.3200, 0.6800, 0.0000],\n",
      "        [0.3900, 0.6100, 0.0000],\n",
      "        [0.5900, 0.4100, 0.0000]])\n"
     ]
    },
    {
     "name": "stderr",
     "output_type": "stream",
     "text": [
      " 60%|██████    | 30/50 [14:41<09:41, 29.09s/it]"
     ]
    },
    {
     "name": "stdout",
     "output_type": "stream",
     "text": [
      "Iterations 134\n",
      "Minimizing with VGP\n",
      "Seed: 429\n",
      "Initial points: tensor([[0.7100, 0.0600, 0.2300],\n",
      "        [0.0000, 1.0000, 0.0000],\n",
      "        [0.8400, 0.0000, 0.1600],\n",
      "        [0.1800, 0.7600, 0.0600],\n",
      "        [0.0000, 0.0000, 1.0000]])\n"
     ]
    },
    {
     "name": "stderr",
     "output_type": "stream",
     "text": [
      " 62%|██████▏   | 31/50 [15:10<09:13, 29.13s/it]"
     ]
    },
    {
     "name": "stdout",
     "output_type": "stream",
     "text": [
      "Iterations 134\n",
      "Minimizing with VGP\n",
      "Seed: 225\n",
      "Initial points: tensor([[0.0000, 0.7500, 0.2500],\n",
      "        [0.3000, 0.6900, 0.0100],\n",
      "        [0.2600, 0.3800, 0.3600],\n",
      "        [0.3500, 0.6500, 0.0000],\n",
      "        [0.0000, 0.0000, 1.0000]])\n"
     ]
    },
    {
     "name": "stderr",
     "output_type": "stream",
     "text": [
      " 64%|██████▍   | 32/50 [15:39<08:43, 29.09s/it]"
     ]
    },
    {
     "name": "stdout",
     "output_type": "stream",
     "text": [
      "Iterations 134\n",
      "Minimizing with VGP\n",
      "Seed: 459\n",
      "Initial points: tensor([[0.1700, 0.8000, 0.0300],\n",
      "        [0.2500, 0.7100, 0.0400],\n",
      "        [0.3200, 0.6800, 0.0000],\n",
      "        [0.2800, 0.3700, 0.3500],\n",
      "        [0.2700, 0.3400, 0.4000]])\n"
     ]
    },
    {
     "name": "stderr",
     "output_type": "stream",
     "text": [
      " 66%|██████▌   | 33/50 [16:08<08:14, 29.07s/it]"
     ]
    },
    {
     "name": "stdout",
     "output_type": "stream",
     "text": [
      "Iterations 134\n",
      "Minimizing with VGP\n",
      "Seed: 603\n",
      "Initial points: tensor([[0.6800, 0.1300, 0.1900],\n",
      "        [0.3200, 0.6800, 0.0000],\n",
      "        [0.1300, 0.8700, 0.0000],\n",
      "        [0.0000, 0.0000, 1.0000],\n",
      "        [0.5000, 0.5000, 0.0000]])\n"
     ]
    },
    {
     "name": "stderr",
     "output_type": "stream",
     "text": [
      " 68%|██████▊   | 34/50 [16:37<07:44, 29.04s/it]"
     ]
    },
    {
     "name": "stdout",
     "output_type": "stream",
     "text": [
      "Iterations 134\n",
      "Minimizing with VGP\n",
      "Seed: 284\n",
      "Initial points: tensor([[0.7600, 0.2400, 0.0000],\n",
      "        [0.0000, 0.7500, 0.2500],\n",
      "        [0.1300, 0.8700, 0.0000],\n",
      "        [0.9100, 0.0100, 0.0800],\n",
      "        [0.2500, 0.7500, 0.0000]])\n"
     ]
    },
    {
     "name": "stderr",
     "output_type": "stream",
     "text": [
      " 70%|███████   | 35/50 [17:06<07:15, 29.02s/it]"
     ]
    },
    {
     "name": "stdout",
     "output_type": "stream",
     "text": [
      "Iterations 134\n",
      "Minimizing with VGP\n",
      "Seed: 828\n",
      "Initial points: tensor([[0.1900, 0.8100, 0.0000],\n",
      "        [0.0600, 0.8500, 0.0900],\n",
      "        [0.0500, 0.7885, 0.1615],\n",
      "        [0.0000, 0.7500, 0.2500],\n",
      "        [0.2700, 0.3400, 0.4000]])\n"
     ]
    },
    {
     "name": "stderr",
     "output_type": "stream",
     "text": [
      " 72%|███████▏  | 36/50 [17:35<06:46, 29.03s/it]"
     ]
    },
    {
     "name": "stdout",
     "output_type": "stream",
     "text": [
      "Iterations 134\n",
      "Minimizing with VGP\n",
      "Seed: 890\n",
      "Initial points: tensor([[0.3400, 0.6400, 0.0200],\n",
      "        [0.2300, 0.7700, 0.0000],\n",
      "        [1.0000, 0.0000, 0.0000],\n",
      "        [0.7000, 0.2900, 0.0100],\n",
      "        [0.0000, 0.0000, 1.0000]])\n"
     ]
    },
    {
     "name": "stderr",
     "output_type": "stream",
     "text": [
      " 74%|███████▍  | 37/50 [18:04<06:16, 28.94s/it]"
     ]
    },
    {
     "name": "stdout",
     "output_type": "stream",
     "text": [
      "Iterations 133\n",
      "Minimizing with VGP\n",
      "Seed: 6\n",
      "Initial points: tensor([[0.1700, 0.8000, 0.0300],\n",
      "        [0.1300, 0.8700, 0.0000],\n",
      "        [0.0500, 0.7885, 0.1615],\n",
      "        [0.2300, 0.6600, 0.1100],\n",
      "        [0.7100, 0.0100, 0.2800]])\n"
     ]
    },
    {
     "name": "stderr",
     "output_type": "stream",
     "text": [
      " 76%|███████▌  | 38/50 [18:33<05:47, 28.92s/it]"
     ]
    },
    {
     "name": "stdout",
     "output_type": "stream",
     "text": [
      "Iterations 133\n",
      "Minimizing with VGP\n",
      "Seed: 777\n",
      "Initial points: tensor([[0.1700, 0.8000, 0.0300],\n",
      "        [0.1400, 0.8400, 0.0200],\n",
      "        [0.2500, 0.7500, 0.0000],\n",
      "        [0.2300, 0.7700, 0.0000],\n",
      "        [0.2700, 0.3400, 0.4000]])\n"
     ]
    },
    {
     "name": "stderr",
     "output_type": "stream",
     "text": [
      " 78%|███████▊  | 39/50 [19:03<05:21, 29.27s/it]"
     ]
    },
    {
     "name": "stdout",
     "output_type": "stream",
     "text": [
      "Iterations 134\n",
      "Minimizing with VGP\n",
      "Seed: 825\n",
      "Initial points: tensor([[0.2500, 0.7500, 0.0000],\n",
      "        [0.7500, 0.0000, 0.2500],\n",
      "        [0.2600, 0.3800, 0.3600],\n",
      "        [0.8800, 0.0000, 0.1200],\n",
      "        [0.6600, 0.2400, 0.1000]])\n"
     ]
    },
    {
     "name": "stderr",
     "output_type": "stream",
     "text": [
      " 80%|████████  | 40/50 [19:33<04:56, 29.63s/it]"
     ]
    },
    {
     "name": "stdout",
     "output_type": "stream",
     "text": [
      "Iterations 134\n",
      "Minimizing with VGP\n",
      "Seed: 163\n",
      "Initial points: tensor([[0.3000, 0.6900, 0.0100],\n",
      "        [0.2000, 0.6900, 0.1100],\n",
      "        [0.8400, 0.0000, 0.1600],\n",
      "        [0.2400, 0.3700, 0.3900],\n",
      "        [0.3200, 0.6800, 0.0000]])\n"
     ]
    },
    {
     "name": "stderr",
     "output_type": "stream",
     "text": [
      " 82%|████████▏ | 41/50 [20:03<04:28, 29.81s/it]"
     ]
    },
    {
     "name": "stdout",
     "output_type": "stream",
     "text": [
      "Iterations 134\n",
      "Minimizing with VGP\n",
      "Seed: 714\n",
      "Initial points: tensor([[0.2500, 0.7500, 0.0000],\n",
      "        [1.0000, 0.0000, 0.0000],\n",
      "        [0.3700, 0.6200, 0.0100],\n",
      "        [0.7500, 0.2500, 0.0000],\n",
      "        [0.5900, 0.4100, 0.0000]])\n"
     ]
    },
    {
     "name": "stderr",
     "output_type": "stream",
     "text": [
      " 84%|████████▍ | 42/50 [20:33<03:59, 29.90s/it]"
     ]
    },
    {
     "name": "stdout",
     "output_type": "stream",
     "text": [
      "Iterations 134\n",
      "Minimizing with VGP\n",
      "Seed: 348\n",
      "Initial points: tensor([[0.2500, 0.7000, 0.0600],\n",
      "        [0.2800, 0.3700, 0.3500],\n",
      "        [0.5000, 0.5000, 0.0000],\n",
      "        [0.5000, 0.2500, 0.2500],\n",
      "        [0.3400, 0.5400, 0.1200]])\n"
     ]
    },
    {
     "name": "stderr",
     "output_type": "stream",
     "text": [
      " 86%|████████▌ | 43/50 [21:04<03:29, 29.98s/it]"
     ]
    },
    {
     "name": "stdout",
     "output_type": "stream",
     "text": [
      "Iterations 134\n",
      "Minimizing with VGP\n",
      "Seed: 159\n",
      "Initial points: tensor([[0.2500, 0.7500, 0.0000],\n",
      "        [0.1300, 0.8700, 0.0000],\n",
      "        [0.0000, 0.7500, 0.2500],\n",
      "        [0.0000, 1.0000, 0.0000],\n",
      "        [0.3800, 0.6200, 0.0000]])\n"
     ]
    },
    {
     "name": "stderr",
     "output_type": "stream",
     "text": [
      " 88%|████████▊ | 44/50 [21:34<03:00, 30.08s/it]"
     ]
    },
    {
     "name": "stdout",
     "output_type": "stream",
     "text": [
      "Iterations 134\n",
      "Minimizing with VGP\n",
      "Seed: 220\n",
      "Initial points: tensor([[0.8400, 0.0000, 0.1600],\n",
      "        [0.9100, 0.0100, 0.0800],\n",
      "        [0.0000, 0.0000, 1.0000],\n",
      "        [0.2500, 0.7000, 0.0600],\n",
      "        [0.5000, 0.2500, 0.2500]])\n"
     ]
    },
    {
     "name": "stderr",
     "output_type": "stream",
     "text": [
      " 90%|█████████ | 45/50 [22:04<02:30, 30.03s/it]"
     ]
    },
    {
     "name": "stdout",
     "output_type": "stream",
     "text": [
      "Iterations 133\n",
      "Minimizing with VGP\n",
      "Seed: 980\n",
      "Initial points: tensor([[0.1300, 0.8700, 0.0000],\n",
      "        [0.7800, 0.0900, 0.1300],\n",
      "        [0.2500, 0.7500, 0.0000],\n",
      "        [0.0000, 1.0000, 0.0000],\n",
      "        [0.0000, 0.0000, 1.0000]])\n"
     ]
    },
    {
     "name": "stderr",
     "output_type": "stream",
     "text": [
      " 92%|█████████▏| 46/50 [22:34<02:00, 30.08s/it]"
     ]
    },
    {
     "name": "stdout",
     "output_type": "stream",
     "text": [
      "Iterations 134\n",
      "Minimizing with VGP\n",
      "Seed: 781\n",
      "Initial points: tensor([[0.0000, 1.0000, 0.0000],\n",
      "        [0.3900, 0.6100, 0.0000],\n",
      "        [0.0900, 0.8700, 0.0400],\n",
      "        [0.4300, 0.5700, 0.0000],\n",
      "        [0.2600, 0.3800, 0.3600]])\n"
     ]
    },
    {
     "name": "stderr",
     "output_type": "stream",
     "text": [
      " 94%|█████████▍| 47/50 [23:04<01:30, 30.11s/it]"
     ]
    },
    {
     "name": "stdout",
     "output_type": "stream",
     "text": [
      "Iterations 134\n",
      "Minimizing with VGP\n",
      "Seed: 344\n",
      "Initial points: tensor([[0.0500, 0.7885, 0.1615],\n",
      "        [0.1200, 0.7700, 0.1100],\n",
      "        [0.8400, 0.0000, 0.1600],\n",
      "        [0.1900, 0.7000, 0.1100],\n",
      "        [0.8000, 0.1100, 0.0900]])\n"
     ]
    },
    {
     "name": "stderr",
     "output_type": "stream",
     "text": [
      " 96%|█████████▌| 48/50 [23:34<01:00, 30.03s/it]"
     ]
    },
    {
     "name": "stdout",
     "output_type": "stream",
     "text": [
      "Iterations 133\n",
      "Minimizing with VGP\n",
      "Seed: 94\n",
      "Initial points: tensor([[0.2700, 0.7200, 0.0100],\n",
      "        [0.1300, 0.8700, 0.0000],\n",
      "        [0.6300, 0.3700, 0.0000],\n",
      "        [0.4100, 0.5800, 0.0100],\n",
      "        [0.1600, 0.8300, 0.0100]])\n"
     ]
    },
    {
     "name": "stderr",
     "output_type": "stream",
     "text": [
      " 98%|█████████▊| 49/50 [24:04<00:30, 30.05s/it]"
     ]
    },
    {
     "name": "stdout",
     "output_type": "stream",
     "text": [
      "Iterations 134\n",
      "Minimizing with VGP\n",
      "Seed: 389\n",
      "Initial points: tensor([[0.8800, 0.0000, 0.1200],\n",
      "        [0.2200, 0.7200, 0.0600],\n",
      "        [0.3500, 0.6500, 0.0000],\n",
      "        [0.8900, 0.0000, 0.1100],\n",
      "        [0.6900, 0.3100, 0.0000]])\n"
     ]
    },
    {
     "name": "stderr",
     "output_type": "stream",
     "text": [
      "100%|██████████| 50/50 [24:35<00:00, 29.50s/it]"
     ]
    },
    {
     "name": "stdout",
     "output_type": "stream",
     "text": [
      "Iterations 134\n"
     ]
    },
    {
     "name": "stderr",
     "output_type": "stream",
     "text": [
      "\n"
     ]
    },
    {
     "data": {
      "image/png": "[encoded data removed]",
      "text/plain": [
       "<Figure size 800x600 with 1 Axes>"
      ]
     },
     "metadata": {},
     "output_type": "display_data"
    }
   ],
   "source": [
    "for element in minDatasets:\n",
    "\n",
    "    print(f\"Starting {element}\")\n",
    "    \n",
    "    dataset = element\n",
    "\n",
    "    data = pd.read_csv(f\"datasets\\{dataset}_dataset.csv\")\n",
    "    data = data.groupby(data.columns[-1]).mean().reset_index()\n",
    "    train_x = torch.tensor(data.iloc[:, 1:].values, dtype=torch.float)\n",
    "    train_y = torch.tensor(data.iloc[:, 0].values, dtype=torch.float).unsqueeze(1)\n",
    "\n",
    "    N = len(train_x)\n",
    "\n",
    "    # We are using prededfined candidates, so we can scale at the start\n",
    "    TorchStd = TorchStandardScaler()\n",
    "    TorchStd.fit(train_x)\n",
    "    TorchNorm = TorchNormalizer()\n",
    "    TorchNorm.fit(train_x)\n",
    "\n",
    "    total_samples = len(train_y)\n",
    "\n",
    "    set_seeds(42)\n",
    "\n",
    "    n_top = int(math.ceil(N * 0.05))\n",
    "\n",
    "    # find the top 5% of the samples\n",
    "    train_y_df = pd.DataFrame(train_y.numpy(), columns=[0])\n",
    "    top_samples = train_y_df.nlargest(n_top, train_y_df.columns[0], keep='first').iloc[:, 0].values.tolist()\n",
    "    print(f\"Number of of top 5% samples: {len(top_samples)}\")\n",
    "    print(f\"Top 5% samples: {top_samples}\")\n",
    "\n",
    "    def TopSamplesAmnt(y, top_samples):\n",
    "        return len([i for i in y if i in top_samples]) / len(top_samples)\n",
    "\n",
    "    # Generate a list of seeds randomly picked from the range 0-1000 equal to the number of campaigns without repeating\n",
    "    seedList = random.sample(range(1000), campaigns)\n",
    "            \n",
    "    for i in trange(len(seedList)):\n",
    "        globals()['topSTP' + str(i)], globals()['iterationSTP' + str(i)] = runMinSTP(seedList[i])\n",
    "\n",
    "    for i in trange(len(seedList)):\n",
    "        globals()['topEGP' + str(i)], globals()['iterationEGP' + str(i)] = runMinEGP(seedList[i])\n",
    "\n",
    "    for i in trange(len(seedList)):\n",
    "        globals()['topVGP' + str(i)], globals()['iterationVGP' + str(i)] = runMinVGP(seedList[i])\n",
    "\n",
    "\n",
    "    num_arrays = len(seedList)  \n",
    "    # Function to dynamically collect arrays\n",
    "    def collect_arrays(prefix, num_arrays):\n",
    "        arrays = []\n",
    "        for i in range(num_arrays):\n",
    "            array = globals().get(f'{prefix}{i}', None)\n",
    "            if array is not None:\n",
    "                arrays.append(array)\n",
    "        return arrays\n",
    "\n",
    "    # Function to pad arrays with the last element to match the maximum length\n",
    "    def pad_array(array, max_length):\n",
    "        return np.pad(array, (0, max_length - len(array)), 'constant', constant_values=array[-1])\n",
    "\n",
    "    def find_max_length(prefix, num_arrays):\n",
    "        arrays = collect_arrays(prefix, num_arrays)\n",
    "        return max(len(arr) for arr in arrays)\n",
    "\n",
    "    # Process arrays for each type\n",
    "    def process_arrays(prefix, num_arrays, max_length):\n",
    "        arrays = collect_arrays(prefix, num_arrays)\n",
    "        padded_arrays = [pad_array(arr, max_length) for arr in arrays]\n",
    "        stack = np.stack(padded_arrays)\n",
    "        mean_values = np.mean(stack, axis=0)\n",
    "        std_values = np.std(stack, axis=0)\n",
    "        return mean_values, std_values\n",
    "\n",
    "    # Process arrays for STP, EGP, and VGP\n",
    "    max_length_STP = find_max_length('topSTP', num_arrays)\n",
    "    max_length_EGP = find_max_length('topEGP', num_arrays)\n",
    "    max_length_VGP = find_max_length('topVGP', num_arrays)\n",
    "    max_length = max(max_length_STP, max_length_EGP, max_length_VGP)\n",
    "    mean_topSTP, std_valuesSTP = process_arrays('topSTP', num_arrays, max_length)\n",
    "    mean_topEGP, std_valuesEGP = process_arrays('topEGP', num_arrays, max_length)\n",
    "    mean_topVGP, std_valuesVGP = process_arrays('topVGP', num_arrays, max_length)\n",
    "\n",
    "    # Ensure that the number of iterations matches the longest array length\n",
    "    max_length = max(max_length_STP, max_length_EGP, max_length_VGP)\n",
    "    iterations = np.arange(1, max_length + 1)\n",
    "\n",
    "\n",
    "\n",
    "    sns.set(style=\"whitegrid\")\n",
    "    # Plot the mean and fill between the min and max for each type\n",
    "    plt.figure(figsize=(8, 6))\n",
    "\n",
    "    # Plot for STP\n",
    "    sns.lineplot(x=iterations, y=mean_topSTP, label='Mean STP', color='blue', linewidth=2)\n",
    "    plt.fill_between(iterations, mean_topSTP - std_valuesSTP, mean_topSTP + std_valuesSTP, label='STP Standard Deviation', color='blue', alpha=0.1)\n",
    "\n",
    "    # Plot for EGP\n",
    "    sns.lineplot(x=iterations, y=mean_topEGP, label='Mean EGP', color='orange', linewidth=2)\n",
    "    plt.fill_between(iterations, mean_topEGP - std_valuesEGP, mean_topEGP + std_valuesEGP, label='EGP Standard Deviation', color='orange', alpha=0.1)\n",
    "\n",
    "    # Plot for VGP\n",
    "    plt.plot(iterations, mean_topVGP, label='Mean VGP', color='green', linewidth=2)\n",
    "    plt.fill_between(iterations, mean_topVGP - std_valuesVGP, mean_topVGP + std_valuesVGP, label='VGP Standard Deviation', color='green', alpha=0.1)\n",
    "\n",
    "    plt.xlabel('Number of Iterations', fontsize=12)\n",
    "    plt.ylabel('Percentage of Top 5% Samples Found', fontsize=12)\n",
    "    plt.title(f'Average Percentage of Top Samples Found Over {num_arrays} Campaigns', fontsize=14)\n",
    "    plt.legend(fontsize=10, loc='upper left')\n",
    "\n",
    "    # Customize ticks\n",
    "    plt.xticks(fontsize=10)\n",
    "    plt.yticks(fontsize=10)\n",
    "\n",
    "    # Adjust axis limits and aspect ratio if needed\n",
    "    plt.ylim(0, 100)\n",
    "    plt.xlim(1, max_length)\n",
    "\n",
    "\n",
    "    # save the plot \n",
    "    plt.savefig(f\"{dataset}50Campaign50OptLoopMean\")\n",
    "    plt.show()"
   ]
  }
 ],
 "metadata": {
  "kernelspec": {
   "display_name": "research",
   "language": "python",
   "name": "python3"
  },
  "language_info": {
   "codemirror_mode": {
    "name": "ipython",
    "version": 3
   },
   "file_extension": ".py",
   "mimetype": "text/x-python",
   "name": "python",
   "nbconvert_exporter": "python",
   "pygments_lexer": "ipython3",
   "version": "3.12.3"
  }
 },
 "nbformat": 4,
 "nbformat_minor": 2
}
