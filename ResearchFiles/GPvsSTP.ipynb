{
 "cells": [
  {
   "cell_type": "markdown",
   "metadata": {},
   "source": [
    "# Setup"
   ]
  },
  {
   "cell_type": "code",
   "execution_count": 2,
   "metadata": {},
   "outputs": [
    {
     "name": "stdout",
     "output_type": "stream",
     "text": [
      "CUDA device found, setting as device.\n"
     ]
    }
   ],
   "source": [
    "import numpy as np\n",
    "import matplotlib.pyplot as plt\n",
    "import pandas as pd\n",
    "import torch\n",
    "import gpytorch\n",
    "import math\n",
    "import seaborn as sns\n",
    "import random\n",
    "from tqdm import trange\n",
    "from collections import Counter\n",
    "from scipy.interpolate import splrep, interp1d\n",
    "from sklearn import preprocessing\n",
    "from botorch.models import SingleTaskGP\n",
    "from botorch.fit import fit_gpytorch_mll\n",
    "from botorch.utils import standardize\n",
    "from gpytorch.likelihoods import GaussianLikelihood, StudentTLikelihood\n",
    "from gpytorch.models import ApproximateGP\n",
    "from gpytorch.variational import VariationalStrategy, CholeskyVariationalDistribution\n",
    "from gpytorch.kernels import ScaleKernel, RBFKernel\n",
    "from gpytorch.means import ConstantMean\n",
    "from gpytorch.mlls import ExactMarginalLogLikelihood, VariationalELBO\n",
    "import matplotlib.ticker as ticker\n",
    "import matplotlib.tri as tri\n",
    "import matplotlib.font_manager as font_manager\n",
    "\n",
    "# check for MPS and CUDA device availability\n",
    "if torch.backends.mps.is_available():\n",
    "    device = torch.device(\"mps\")\n",
    "    print(\"MPS device found, setting as device.\")\n",
    "elif torch.cuda.is_available():\n",
    "    device = torch.device(\"cuda\")\n",
    "    print(\"CUDA device found, setting as device.\")\n",
    "else:\n",
    "    device = torch.device(\"cpu\")\n",
    "    print(\"Neither MPS nor CUDA device found. Using default device (CPU).\")\n",
    "\n",
    "\n",
    "# set the seed for all random use\n",
    "def set_seeds(seed):\n",
    "    np.random.seed(seed)\n",
    "    torch.manual_seed(seed)\n",
    "    torch.cuda.manual_seed_all(seed)\n",
    "    random.seed(seed)\n",
    "\n",
    "# Initial setup\n",
    "campaigns = 5\n",
    "num_initial_points = 5\n",
    "num_new_samples_per_iteration = 1\n",
    "\n",
    "class STP(gpytorch.models.ApproximateGP):\n",
    "    def __init__(self, inducing_points):\n",
    "        variational_distribution = gpytorch.variational.CholeskyVariationalDistribution(inducing_points.size(0))\n",
    "        variational_strategy = gpytorch.variational.VariationalStrategy(\n",
    "            self, inducing_points, variational_distribution, learn_inducing_locations=False\n",
    "        )\n",
    "        super().__init__(variational_strategy)\n",
    "        self.mean_module = gpytorch.means.ConstantMean()\n",
    "        self.covar_module = gpytorch.kernels.ScaleKernel(gpytorch.kernels.RBFKernel())\n",
    "\n",
    "    def forward(self, x):\n",
    "        mean_x = self.mean_module(x)\n",
    "        covar_x = self.covar_module(x)\n",
    "\n",
    "        return gpytorch.distributions.MultivariateNormal(mean_x, covar_x)\n",
    "\n",
    "class ExactGP(gpytorch.models.ExactGP):\n",
    "    def __init__(self, x_train, y_train, likelihood):\n",
    "        # build the model using the ExactGP model from gpytorch\n",
    "        super(ExactGP, self).__init__(x_train, y_train, likelihood)\n",
    "\n",
    "        # use a constant mean, this value can be learned from the dataset\n",
    "        self.mean_module = gpytorch.means.ConstantMean()\n",
    "\n",
    "        # automatically determine the number of dimensions for the ARD kernel\n",
    "        num_dimensions = x_train.shape[1]\n",
    "\n",
    "        # use a scaled Matern kernel, the ScaleKernel allows the kernel to learn a scale factor for the dataset\n",
    "        self.covar_module = gpytorch.kernels.ScaleKernel(\n",
    "            gpytorch.kernels.MaternKernel(nu=2.5,ard_num_dims=num_dimensions))\n",
    "            \n",
    "        # set the number of outputs \n",
    "        self.num_outputs = 1\n",
    "\n",
    "    def forward(self, x):\n",
    "        # forward pass of the model\n",
    "\n",
    "        # compute the mean and covariance of the model \n",
    "        mean_x = self.mean_module(x)\n",
    "        covar_x = self.covar_module(x)\n",
    "\n",
    "        # return the MultivariateNormal distribution of the mean and covariance \n",
    "        return gpytorch.distributions.MultivariateNormal(mean_x, covar_x)\n",
    "\n",
    "class VariationalGP(ApproximateGP):\n",
    "    def __init__(self, inducing_points):\n",
    "        variational_distribution = CholeskyVariationalDistribution(inducing_points.size(0))\n",
    "        variational_strategy = VariationalStrategy(self, inducing_points, variational_distribution, learn_inducing_locations=True)\n",
    "        super(VariationalGP, self).__init__(variational_strategy)\n",
    "        self.mean_module = ConstantMean()\n",
    "        self.covar_module = ScaleKernel(RBFKernel(ard_num_dims=inducing_points.size(1)))\n",
    "\n",
    "    def forward(self, x):\n",
    "        mean_x = self.mean_module(x)\n",
    "        covar_x = self.covar_module(x)\n",
    "        return gpytorch.distributions.MultivariateNormal(mean_x, covar_x)\n",
    "    \n",
    "class TorchStandardScaler:\n",
    "    def fit(self, x):\n",
    "        x = x.clone()\n",
    "        # calculate mean and std of the tensor\n",
    "        self.mean = x.mean(0, keepdim=True)\n",
    "        self.std = x.std(0, unbiased=False, keepdim=True)\n",
    "    def transform(self, x):\n",
    "        x = x.clone()\n",
    "        # standardize the tensor\n",
    "        x -= self.mean\n",
    "        x /= (self.std + 1e-10)\n",
    "        return x\n",
    "    def fit_transform(self, x):\n",
    "        # copy the tensor as to not modify the original \n",
    "        x = x.clone()\n",
    "        # calculate mean and std of the tensor\n",
    "        self.mean = x.mean(0, keepdim=True)\n",
    "        self.std = x.std(0, unbiased=False, keepdim=True)\n",
    "        # standardize the tensor\n",
    "        x -= self.mean\n",
    "        x /= (self.std + 1e-10)\n",
    "        return x\n",
    "    \n",
    "class TorchNormalizer:\n",
    "    def fit(self, x):\n",
    "        # calculate the maximum value and the minimum value of the tensor\n",
    "        self.max = torch.max(x, dim=0).values\n",
    "        self.min = torch.min(x, dim=0).values\n",
    "\n",
    "    def transform(self, x):\n",
    "        # normalize the tensor\n",
    "        return (x.clone() - self.min) / (self.max - self.min)\n",
    "\n",
    "    def fit_transform(self, x):\n",
    "        # calculate the maximum value and the minimum value of the tensor\n",
    "        self.max = torch.max(x, dim=0).values\n",
    "        self.min = torch.min(x, dim=0).values\n",
    "        # normalize the tensor\n",
    "        return (x.clone() - self.min) / (self.max - self.min)\n",
    "    \n",
    "# Upper Confidence Bound\n",
    "def UCB(mean, std, beta):\n",
    "    return mean + beta * std\n",
    "\n",
    "# Expected Improvement\n",
    "def EI(mean, std, best_observed):\n",
    "    z = (mean - best_observed) / std\n",
    "    return (mean - best_observed) * torch.distributions.Normal(0, 1).cdf(z) + std * torch.distributions.Normal(0, 1).log_prob(z)\n",
    "    \n",
    "\n",
    "maxDatasets = ['AutoAM', 'Crossed barrel', 'P3HT']\n",
    "minDatasets = ['AgNP', 'Perovskite']\n"
   ]
  },
  {
   "cell_type": "markdown",
   "metadata": {},
   "source": [
    "# Student-T Process BO Loop"
   ]
  },
  {
   "cell_type": "code",
   "execution_count": 20,
   "metadata": {},
   "outputs": [
    {
     "name": "stdout",
     "output_type": "stream",
     "text": [
      "Number of of top 5% samples: 30\n",
      "Top 5% samples: [0.936549, 0.932613, 0.92212, 0.904846, 0.902128, 0.901296, 0.899917, 0.88388, 0.87748, 0.869142, 0.857797, 0.839722, 0.832971, 0.829756, 0.825486, 0.820774, 0.797176, 0.775094, 0.760199, 0.757861, 0.746997, 0.741053, 0.735191, 0.73516, 0.733492, 0.727446, 0.725884, 0.724231, 0.699507, 0.696129]\n",
      "30\n",
      "0\n"
     ]
    },
    {
     "name": "stderr",
     "output_type": "stream",
     "text": [
      "<string>:167: SyntaxWarning: invalid escape sequence '\\{'\n",
      "<>:167: SyntaxWarning: invalid escape sequence '\\{'\n",
      "<string>:167: SyntaxWarning: invalid escape sequence '\\{'\n",
      "<>:167: SyntaxWarning: invalid escape sequence '\\{'\n",
      "C:\\Users\\stan\\AppData\\Local\\Temp\\ipykernel_19616\\467365038.py:167: SyntaxWarning: invalid escape sequence '\\{'\n",
      "  data = pd.read_csv(f\"datasets\\{dataset}_dataset.csv\")\n"
     ]
    }
   ],
   "source": [
    "\n",
    "def runMinSTP(seed):  \n",
    "    print(\"Minimizing\") \n",
    "    set_seeds(seed)\n",
    "    iterationSTP = [0]\n",
    "    topSTP = [0]\n",
    "    indicesSTP = torch.randperm(total_samples)[:num_initial_points]\n",
    "    train_xSTP = train_x[indicesSTP]\n",
    "    train_ySTP = train_y[indicesSTP]\n",
    "    print(f\"Seed: {seed}\")\n",
    "    print(f\"Initial points: {train_xSTP}\")\n",
    "    globals()['initialPoints' + str(i)] = train_xSTP\n",
    "    globals()['initialPointsy' + str(i)] = train_ySTP\n",
    "        \n",
    "    while topSTP[-1] < 100:\n",
    "        iterationSTP.append(iterationSTP[-1] + 1)\n",
    "        # standardize the initial inputs and outputs before\n",
    "        torch_std = TorchStandardScaler()\n",
    "        train_xSTP = torch_std.fit_transform(train_xSTP)\n",
    "        y_scaler = TorchStandardScaler()\n",
    "        train_ySTP = y_scaler.fit_transform(train_ySTP).flatten()  # Ensure y is 1-dimensional\n",
    "\n",
    "        #def train_and_test_approximate_gp(objective_function_cls):\n",
    "        model = STP(train_xSTP).to(dtype=torch.float64)\n",
    "        #likelihood = gpytorch.likelihoods.GaussianLikelihood()\n",
    "        likelihood = gpytorch.likelihoods.StudentTLikelihood()\n",
    "        objective_function = gpytorch.mlls.VariationalELBO(likelihood, model, num_data=train_ySTP.numel())\n",
    "        # replace with gpytorch mll\n",
    "        optimizer = torch.optim.Adam(list(model.parameters()) + list(likelihood.parameters()), lr=0.1)\n",
    "\n",
    "            \n",
    "\n",
    "        # Train\n",
    "        model.train()\n",
    "        #put it into training mode\n",
    "        likelihood.train()\n",
    "\n",
    "        for _ in range(50):\n",
    "            output = model(train_xSTP)\n",
    "            loss = -objective_function(output, train_ySTP)\n",
    "            loss.backward()\n",
    "            optimizer.step()\n",
    "            optimizer.zero_grad()\n",
    "                \n",
    "\n",
    "\n",
    "        # Test\n",
    "        model.eval()\n",
    "        likelihood.eval()\n",
    "\n",
    "        # works wtih the variational distribution\n",
    "        with gpytorch.settings.num_likelihood_samples(512):\n",
    "            observed_pred = likelihood(model(train_x))\n",
    "\n",
    "        samples = observed_pred.sample()\n",
    "\n",
    "\n",
    "        # use as inputs to UCB \n",
    "        meanSTP = samples.mean(dim=0)\n",
    "        stdSTP = samples.std(dim=0)\n",
    "            \n",
    "\n",
    "         # Select new points using UCB\n",
    "        ucb_values = UCB(meanSTP, stdSTP, 1.96)\n",
    "        ucb_values[indicesSTP] = float('inf')\n",
    "        indicesSTP = torch.cat([indicesSTP, ucb_values.argmin().unsqueeze(0)])\n",
    "\n",
    "\n",
    "        # Convert new_indices to a tensor\n",
    "        # Add the new points to the training data\n",
    "        train_xSTP = train_x[indicesSTP]\n",
    "        train_ySTP = train_y[indicesSTP]\n",
    "        topSTP.append(TopSamplesAmnt(train_ySTP[num_initial_points:], top_samples)*100)\n",
    "        if iterationSTP[-1] > len(train_x) - num_initial_points:\n",
    "            print(\"Maximum number of iterations exceeded, breaking loop.\")\n",
    "            return topSTP, iterationSTP\n",
    "            break\n",
    "            \n",
    "    print(f'Iterations {iterationSTP[-1]}')\n",
    "    return topSTP, iterationSTP\n",
    "\n",
    "def runMaxSTP(seed):   \n",
    "\n",
    "    set_seeds(seed)\n",
    "    iterationSTP = [0]\n",
    "    topSTP = [0]\n",
    "    indicesSTP = torch.randperm(total_samples)[:num_initial_points]\n",
    "    train_xSTP = train_x[indicesSTP]\n",
    "    train_ySTP = train_y[indicesSTP]\n",
    "    print(f\"Seed: {seed} maximizing\")\n",
    "    print(f\"Initial points: {train_xSTP}\")\n",
    "    globals()['initialPoints' + str(i)] = train_xSTP\n",
    "    globals()['initialPointsy' + str(i)] = train_ySTP\n",
    "        \n",
    "    while topSTP[-1] < 100:\n",
    "        iterationSTP.append(iterationSTP[-1] + 1)\n",
    "        # standardize the initial inputs and outputs before\n",
    "        torch_std = TorchStandardScaler()\n",
    "        train_xSTP = torch_std.fit_transform(train_xSTP)\n",
    "        y_scaler = TorchStandardScaler()\n",
    "        train_ySTP = y_scaler.fit_transform(train_ySTP).flatten()  # Ensure y is 1-dimensional\n",
    "\n",
    "        #def train_and_test_approximate_gp(objective_function_cls):\n",
    "        model = STP(train_xSTP).to(dtype=torch.float64)\n",
    "        #likelihood = gpytorch.likelihoods.GaussianLikelihood()\n",
    "        likelihood = gpytorch.likelihoods.StudentTLikelihood()\n",
    "        objective_function = gpytorch.mlls.VariationalELBO(likelihood, model, num_data=train_ySTP.numel())\n",
    "        # replace with gpytorch mll\n",
    "        optimizer = torch.optim.Adam(list(model.parameters()) + list(likelihood.parameters()), lr=0.1)\n",
    "\n",
    "            \n",
    "\n",
    "        # Train\n",
    "        model.train()\n",
    "        #put it into training mode\n",
    "        likelihood.train()\n",
    "\n",
    "        for _ in range(50):\n",
    "            output = model(train_xSTP)\n",
    "            loss = -objective_function(output, train_ySTP)\n",
    "            loss.backward()\n",
    "            optimizer.step()\n",
    "            optimizer.zero_grad()\n",
    "                \n",
    "\n",
    "\n",
    "        # Test\n",
    "        model.eval()\n",
    "        likelihood.eval()\n",
    "\n",
    "        # works wtih the variational distribution\n",
    "        with gpytorch.settings.num_likelihood_samples(512):\n",
    "            observed_pred = likelihood(model(train_x))\n",
    "\n",
    "        samples = observed_pred.sample()\n",
    "\n",
    "\n",
    "        # use as inputs to UCB \n",
    "        meanSTP = samples.mean(dim=0)\n",
    "        stdSTP = samples.std(dim=0)\n",
    "            \n",
    "\n",
    "         # Select new points using UCB\n",
    "        ucb_values = UCB(meanSTP, stdSTP, 1.96)\n",
    "        ucb_values[indicesSTP] = -float('inf')\n",
    "        indicesSTP = torch.cat([indicesSTP, ucb_values.argmax().unsqueeze(0)])\n",
    "\n",
    "\n",
    "        # Convert new_indices to a tensor\n",
    "        # Add the new points to the training data\n",
    "        train_xSTP = train_x[indicesSTP]\n",
    "        train_ySTP = train_y[indicesSTP]\n",
    "        topSTP.append(TopSamplesAmnt(train_ySTP[num_initial_points:], top_samples)*100)\n",
    "        if iterationSTP[-1] > len(train_x) - num_initial_points:\n",
    "            print(\"Maximum number of iterations exceeded, breaking loop.\")\n",
    "            return topSTP, iterationSTP\n",
    "            break\n",
    "\n",
    "    \n",
    "      \n",
    "\n",
    "    print(f'Iterations {iterationSTP[-1]}')\n",
    "    return topSTP, iterationSTP\n",
    "\n",
    "\n",
    "dataset ='AutoAM'\n",
    "    \n",
    "data = pd.read_csv(f\"datasets\\{dataset}_dataset.csv\")\n",
    "data = data.groupby(data.columns[-1]).mean().reset_index()\n",
    "train_x = torch.tensor(data.iloc[:, 1:].values)\n",
    "train_y = torch.tensor(data.iloc[:, 0].values).unsqueeze(1) \n",
    "\n",
    "train_ySTP = pd.read_csv(f\"train_ySTP_250.csv\")\n",
    "\n",
    "train_y_df = pd.DataFrame(train_y.numpy(), columns=[0])\n",
    "top_samples = train_y_df.nlargest(n_top, train_y_df.columns[0], keep='first').iloc[:, 0].values.tolist()\n",
    "print(f\"Number of of top 5% samples: {len(top_samples)}\")\n",
    "print(f\"Top 5% samples: {top_samples}\")\n",
    "\n",
    "train_ySTP = train_ySTP.to_numpy()\n",
    "total_samples = train_x.shape[0]\n",
    "true_count = 0\n",
    "false_count = 0\n",
    "for i, x in enumerate(top_samples):\n",
    "    if x in train_ySTP:\n",
    "        true_count += 1\n",
    "\n",
    "\n",
    "print(true_count)\n",
    "print(false_count)"
   ]
  },
  {
   "cell_type": "markdown",
   "metadata": {},
   "source": [
    "# Exact GP BO Loop"
   ]
  },
  {
   "cell_type": "code",
   "execution_count": 5,
   "metadata": {},
   "outputs": [],
   "source": [
    "\n",
    "def runMinEGP(seed):\n",
    "    set_seeds(seed)    \n",
    "    iterationEGP = [0]\n",
    "    topEGP = [0]\n",
    "    indicesEGP = torch.randperm(total_samples)[:num_initial_points]\n",
    "    train_xEGP = train_x[indicesEGP]\n",
    "    train_yEGP = train_y[indicesEGP]\n",
    "    print(f\"Seed: {seed}\")\n",
    "    print(f\"Initial points: {train_xEGP}\")\n",
    "    globals()['initialPoints' + str(i)] = train_xEGP\n",
    "    globals()['initialPointsy' + str(i)] = train_yEGP\n",
    "    iterationEGP = [0]\n",
    "    while topEGP[-1] < 100:\n",
    "        iterationEGP.append(iterationEGP[-1] + 1)\n",
    "        # standardize the initial inputs and outputs before\n",
    "        torch_std = TorchStandardScaler()\n",
    "        train_xEGP = torch_std.fit_transform(train_xEGP)\n",
    "        y_scaler = TorchStandardScaler()\n",
    "        train_yEGP = y_scaler.fit_transform(train_yEGP).flatten()\n",
    "\n",
    "        # optimize the model\n",
    "        # use a half normal prior for the noise to find a Gaussian likelihood\n",
    "        likelihood = GaussianLikelihood(noise_prior=gpytorch.priors.HalfNormalPrior(0.01))\n",
    "\n",
    "        # using the found likelihood, create a GP model\n",
    "        gp = ExactGP(train_xEGP, train_yEGP, likelihood)\n",
    "        mll = gpytorch.mlls.ExactMarginalLogLikelihood(likelihood, gp)\n",
    "\n",
    "        # fit the model by maximizing the marginal log likelihood\n",
    "        gp.train()\n",
    "        likelihood.train()\n",
    "        fit_gpytorch_mll(mll)\n",
    "\n",
    "        gp.eval()\n",
    "        likelihood.eval()\n",
    "\n",
    "        # predict from candidate pool\n",
    "        with torch.no_grad():\n",
    "            pred = gp(train_x) # predict values for all candidates\n",
    "\n",
    "        meanEGP = pred.mean\n",
    "        stdEGP = pred.stddev\n",
    "\n",
    "        # pass the predictions through an acquisition function to find the next best point to sample\n",
    "        acqVal = UCB(meanEGP, stdEGP, 1.96)\n",
    "        acqVal[indicesEGP] = float('inf')  # Don't select already sampled points\n",
    "        indicesEGP = torch.cat([indicesEGP, acqVal.argmin().unsqueeze(0)]) # add best value to index\n",
    "\n",
    "        # add the new point to the training data\n",
    "        train_xEGP = train_x[indicesEGP]\n",
    "        train_yEGP = train_y[indicesEGP]\n",
    "        topEGP.append(TopSamplesAmnt(train_yEGP[num_initial_points:], top_samples)*100)\n",
    "        \n",
    "        if iterationEGP[-1] > len(train_x) - num_initial_points:\n",
    "            print(\"Maximum number of iterations exceeded, breaking loop.\")\n",
    "            return topEGP, iterationEGP\n",
    "            break\n",
    "\n",
    "    print(f'Iterations {iterationEGP[-1]}')\n",
    "    return topEGP, iterationEGP\n",
    "\n",
    "def runMaxEGP(seed):\n",
    "    set_seeds(seed)    \n",
    "    iterationEGP = [0]\n",
    "    topEGP = [0]\n",
    "    indicesEGP = torch.randperm(total_samples)[:num_initial_points]\n",
    "    train_xEGP = train_x[indicesEGP]\n",
    "    train_yEGP = train_y[indicesEGP]\n",
    "    print(f\"Seed: {seed}\")\n",
    "    print(f\"Initial points: {train_xEGP}\")\n",
    "    globals()['initialPoints' + str(i)] = train_xEGP\n",
    "    globals()['initialPointsy' + str(i)] = train_yEGP\n",
    "    iterationEGP = [0]\n",
    "    while topEGP[-1] < 100:\n",
    "        iterationEGP.append(iterationEGP[-1] + 1)\n",
    "        # standardize the initial inputs and outputs before\n",
    "        torch_std = TorchStandardScaler()\n",
    "        train_xEGP = torch_std.fit_transform(train_xEGP)\n",
    "        y_scaler = TorchStandardScaler()\n",
    "        train_yEGP = y_scaler.fit_transform(train_yEGP).flatten()\n",
    "\n",
    "        # optimize the model\n",
    "        # use a half normal prior for the noise to find a Gaussian likelihood\n",
    "        likelihood = GaussianLikelihood(noise_prior=gpytorch.priors.HalfNormalPrior(0.01))\n",
    "\n",
    "        # using the found likelihood, create a GP model\n",
    "        gp = ExactGP(train_xEGP, train_yEGP, likelihood)\n",
    "        mll = gpytorch.mlls.ExactMarginalLogLikelihood(likelihood, gp)\n",
    "\n",
    "        # fit the model by maximizing the marginal log likelihood\n",
    "        gp.train()\n",
    "        likelihood.train()\n",
    "        fit_gpytorch_mll(mll)\n",
    "\n",
    "        gp.eval()\n",
    "        likelihood.eval()\n",
    "\n",
    "        # predict from candidate pool\n",
    "        with torch.no_grad():\n",
    "            pred = gp(train_x) # predict values for all candidates\n",
    "\n",
    "        meanEGP = pred.mean\n",
    "        stdEGP = pred.stddev\n",
    "\n",
    "        # pass the predictions through an acquisition function to find the next best point to sample\n",
    "        acqVal = UCB(meanEGP, stdEGP, 1.96)\n",
    "        acqVal[indicesEGP] = -float('inf')  # Don't select already sampled points\n",
    "        indicesEGP = torch.cat([indicesEGP, acqVal.argmax().unsqueeze(0)]) # add best value to index\n",
    "\n",
    "        # add the new point to the training data\n",
    "        train_xEGP = train_x[indicesEGP]\n",
    "        train_yEGP = train_y[indicesEGP]\n",
    "        topEGP.append(TopSamplesAmnt(train_yEGP[num_initial_points:], top_samples)*100)\n",
    "        \n",
    "        if iterationEGP[-1] > len(train_x) - num_initial_points:\n",
    "            print(\"Maximum number of iterations exceeded, breaking loop.\")\n",
    "            return topEGP, iterationEGP\n",
    "            break\n",
    "\n",
    "    \n",
    "    print(f'Iterations {iterationEGP[-1]}')\n",
    "\n",
    "    return topEGP, iterationEGP\n",
    "\n"
   ]
  },
  {
   "cell_type": "markdown",
   "metadata": {},
   "source": [
    "# Variational GP BO Loop"
   ]
  },
  {
   "cell_type": "code",
   "execution_count": 6,
   "metadata": {},
   "outputs": [],
   "source": [
    "\n",
    "def runMinVGP(seed):    \n",
    "    set_seeds(seed)\n",
    "    iterationVGP = [0]\n",
    "    topVGP = [0]\n",
    "    indicesVGP = torch.randperm(total_samples)[:num_initial_points]\n",
    "    train_xVGP = train_x[indicesVGP]\n",
    "    train_yVGP = train_y[indicesVGP]\n",
    "    print(f\"Seed: {seed}\")\n",
    "    print(f\"Initial points: {train_xVGP}\")\n",
    "    globals()['initialPoints' + str(i)] = train_xVGP\n",
    "    globals()['initialPointsy' + str(i)] = train_yVGP    \n",
    "    iterationVGP = [0]\n",
    "    while topVGP[-1] < 100:\n",
    "        \n",
    "        iterationVGP.append(iterationVGP[-1] + 1)\n",
    "        # standardize the initial inputs and outputs before\n",
    "        # torch_std = TorchStandardScaler()\n",
    "        # train_xSTP = torch_std.fit_transform(train_xSTP)\n",
    "        # y_scaler = TorchStandardScaler()\n",
    "        # train_ySTP = y_scaler.fit_transform(train_ySTP).flatten()  # Ensure y is 1-dimensional\n",
    "\n",
    "        #def train_and_test_approximate_gp(objective_function_cls):\n",
    "        model = VariationalGP(train_xVGP).to(dtype=torch.float64)\n",
    "\n",
    "        likelihood = GaussianLikelihood()\n",
    "        objective_function = gpytorch.mlls.VariationalELBO(likelihood, model, num_data=train_yVGP.numel())\n",
    "        # replace with gpytorch mll\n",
    "        optimizer = torch.optim.Adam(list(model.parameters()) + list(likelihood.parameters()), lr=0.1)\n",
    "\n",
    "        # Train\n",
    "        model.train()\n",
    "        #put it into training mode\n",
    "        likelihood.train()\n",
    "\n",
    "        for _ in range(50):\n",
    "            output = model(train_xVGP)\n",
    "            loss = -objective_function(output, train_yVGP)\n",
    "            loss.backward()\n",
    "            optimizer.step()\n",
    "            optimizer.zero_grad()\n",
    "            \n",
    "        # Test\n",
    "        model.eval()\n",
    "        likelihood.eval()\n",
    "\n",
    "        # works wtih the variational distribution\n",
    "        with gpytorch.settings.num_likelihood_samples(512):\n",
    "            observed_pred = likelihood(model(train_x))\n",
    "\n",
    "        samples = observed_pred.sample(torch.Size((100,)))\n",
    "\n",
    "        # get the mean and standard deviation of the samples\n",
    "        meanVGP = samples.mean(dim=0)\n",
    "        stdVGP = samples.std(dim=0)\n",
    "\n",
    "        # Select new points using UCB\n",
    "        ucb_values = UCB(meanVGP, stdVGP, 1.96)\n",
    "        ucb_values[indicesVGP] = float('inf')\n",
    "        indicesVGP = torch.cat([indicesVGP, ucb_values.argmin().unsqueeze(0)])\n",
    "\n",
    "\n",
    "        # Convert new_indices to a tensor\n",
    "        # Add the new points to the training data\n",
    "        train_xVGP = train_x[indicesVGP]\n",
    "        train_yVGP = train_y[indicesVGP]\n",
    "        topVGP.append(TopSamplesAmnt(train_yVGP[num_initial_points:], top_samples)*100)\n",
    "        if iterationVGP[-1] > 154:\n",
    "            print(\"Maximum number of iterations exceeded, breaking loop.\")\n",
    "            return topVGP, iterationVGP\n",
    "            break\n",
    "\n",
    "    \n",
    "    print(f'Iterations {iterationVGP[-1]}')\n",
    "\n",
    "    return topVGP, iterationVGP\n",
    "    \n",
    "def runMaxVGP(seed):    \n",
    "    set_seeds(seed)\n",
    "    iterationVGP = [0]\n",
    "    topVGP = [0]\n",
    "    indicesVGP = torch.randperm(total_samples)[:num_initial_points]\n",
    "    train_xVGP = train_x[indicesVGP]\n",
    "    train_yVGP = train_y[indicesVGP]\n",
    "    print(f\"Seed: {seed}\")\n",
    "    print(f\"Initial points: {train_xVGP}\")\n",
    "    globals()['initialPoints' + str(i)] = train_xVGP\n",
    "    globals()['initialPointsy' + str(i)] = train_yVGP    \n",
    "    iterationVGP = [0]\n",
    "    while topVGP[-1] < 100:\n",
    "        \n",
    "        iterationVGP.append(iterationVGP[-1] + 1)\n",
    "        # standardize the initial inputs and outputs before\n",
    "        # torch_std = TorchStandardScaler()\n",
    "        # train_xSTP = torch_std.fit_transform(train_xSTP)\n",
    "        # y_scaler = TorchStandardScaler()\n",
    "        # train_ySTP = y_scaler.fit_transform(train_ySTP).flatten()  # Ensure y is 1-dimensional\n",
    "\n",
    "        #def train_and_test_approximate_gp(objective_function_cls):\n",
    "        model = VariationalGP(train_xVGP).to(dtype=torch.float64)\n",
    "\n",
    "        likelihood = GaussianLikelihood()\n",
    "        objective_function = gpytorch.mlls.VariationalELBO(likelihood, model, num_data=train_yVGP.numel())\n",
    "        # replace with gpytorch mll\n",
    "        optimizer = torch.optim.Adam(list(model.parameters()) + list(likelihood.parameters()), lr=0.1)\n",
    "\n",
    "        # Train\n",
    "        model.train()\n",
    "        #put it into training mode\n",
    "        likelihood.train()\n",
    "\n",
    "        for _ in range(50):\n",
    "            output = model(train_xVGP)\n",
    "            loss = -objective_function(output, train_yVGP)\n",
    "            loss.backward()\n",
    "            optimizer.step()\n",
    "            optimizer.zero_grad()\n",
    "            \n",
    "        # Test\n",
    "        model.eval()\n",
    "        likelihood.eval()\n",
    "\n",
    "        # works wtih the variational distribution\n",
    "        with gpytorch.settings.num_likelihood_samples(512):\n",
    "            observed_pred = likelihood(model(train_x))\n",
    "\n",
    "        samples = observed_pred.sample(torch.Size((100,)))\n",
    "\n",
    "        # get the mean and standard deviation of the samples\n",
    "        meanVGP = samples.mean(dim=0)\n",
    "        stdVGP = samples.std(dim=0)\n",
    "\n",
    "        # Select new points using UCB\n",
    "        ucb_values = UCB(meanVGP, stdVGP, 1.96)\n",
    "        ucb_values[indicesVGP] = -float('inf')\n",
    "        indicesVGP = torch.cat([indicesVGP, ucb_values.argmax().unsqueeze(0)])\n",
    "\n",
    "\n",
    "        # Convert new_indices to a tensor\n",
    "        # Add the new points to the training data\n",
    "        train_xVGP = train_x[indicesVGP]\n",
    "        train_yVGP = train_y[indicesVGP]\n",
    "        topVGP.append(TopSamplesAmnt(train_yVGP[num_initial_points:], top_samples)*100)\n",
    "        if iterationVGP[-1] > len(train_x) - num_initial_points:\n",
    "            print(\"Maximum number of iterations exceeded, breaking loop.\")\n",
    "            return topVGP, iterationVGP\n",
    "            break\n",
    "\n",
    "    print(f'Iterations {iterationVGP[-1]}')\n",
    "\n",
    "    return topVGP, iterationVGP\n"
   ]
  },
  {
   "cell_type": "markdown",
   "metadata": {},
   "source": [
    "# Maximum Test"
   ]
  },
  {
   "cell_type": "code",
   "execution_count": 7,
   "metadata": {},
   "outputs": [
    {
     "name": "stderr",
     "output_type": "stream",
     "text": [
      "<string>:7: SyntaxWarning: invalid escape sequence '\\{'\n",
      "<>:7: SyntaxWarning: invalid escape sequence '\\{'\n",
      "<string>:7: SyntaxWarning: invalid escape sequence '\\{'\n",
      "<>:7: SyntaxWarning: invalid escape sequence '\\{'\n",
      "C:\\Users\\stan\\AppData\\Local\\Temp\\ipykernel_19616\\3675611685.py:7: SyntaxWarning: invalid escape sequence '\\{'\n",
      "  data = pd.read_csv(f\"datasets\\{dataset}_dataset.csv\")\n"
     ]
    },
    {
     "name": "stdout",
     "output_type": "stream",
     "text": [
      "Starting AutoAM\n",
      "Number of samples: 100\n",
      "Number of of top 5% samples: 5\n"
     ]
    },
    {
     "name": "stderr",
     "output_type": "stream",
     "text": [
      "  0%|          | 0/5 [00:00<?, ?it/s]"
     ]
    },
    {
     "name": "stdout",
     "output_type": "stream",
     "text": [
      "Seed: 654 maximizing\n",
      "Initial points: tensor([[ 0.0000,  0.0000,  0.1000, -0.8373, -1.0000],\n",
      "        [ 2.0000,  0.0000,  0.1000, -0.3998,  1.0000],\n",
      "        [14.0000,  0.0000,  1.5680, -0.3353, -0.3658],\n",
      "        [ 5.0000,  0.0000,  0.1000, -0.2270, -0.2032],\n",
      "        [74.0000,  3.5802,  7.8585, -0.3792, -1.0000]], dtype=torch.float64)\n"
     ]
    },
    {
     "name": "stderr",
     "output_type": "stream",
     "text": [
      " 20%|██        | 1/5 [00:27<01:51, 27.94s/it]"
     ]
    },
    {
     "name": "stdout",
     "output_type": "stream",
     "text": [
      "Iterations 80\n",
      "Seed: 114 maximizing\n",
      "Initial points: tensor([[ 4.6000e+01,  0.0000e+00,  4.3342e+00,  1.0000e+00, -1.0000e+00],\n",
      "        [ 8.9000e+01,  5.0000e+00,  6.4638e+00, -4.7181e-01, -5.6397e-01],\n",
      "        [ 5.4000e+01,  0.0000e+00,  1.0000e+01,  1.0000e+00, -1.0000e+00],\n",
      "        [ 1.0000e+01,  0.0000e+00,  9.9993e-01,  5.5400e-06,  2.5200e-05],\n",
      "        [ 6.3000e+01,  1.7240e+00,  4.1278e+00, -3.1756e-01, -5.5783e-01]],\n",
      "       dtype=torch.float64)\n"
     ]
    },
    {
     "name": "stderr",
     "output_type": "stream",
     "text": [
      " 40%|████      | 2/5 [00:53<01:19, 26.45s/it]"
     ]
    },
    {
     "name": "stdout",
     "output_type": "stream",
     "text": [
      "Iterations 76\n",
      "Seed: 25 maximizing\n",
      "Initial points: tensor([[ 9.2000e+01,  5.0000e+00,  8.5632e+00, -3.5712e-01, -1.0000e+00],\n",
      "        [ 9.0000e+01,  5.0000e+00,  7.3613e+00, -2.9025e-01, -1.0000e+00],\n",
      "        [ 4.6000e+01,  0.0000e+00,  4.3342e+00,  1.0000e+00, -1.0000e+00],\n",
      "        [ 3.6000e+01,  0.0000e+00,  3.2760e+00, -2.9481e-01,  8.3335e-02],\n",
      "        [ 3.3000e+01,  0.0000e+00,  3.1974e+00, -2.9304e-01, -5.7747e-02]],\n",
      "       dtype=torch.float64)\n"
     ]
    },
    {
     "name": "stderr",
     "output_type": "stream",
     "text": [
      " 60%|██████    | 3/5 [01:19<00:52, 26.20s/it]"
     ]
    },
    {
     "name": "stdout",
     "output_type": "stream",
     "text": [
      "Iterations 77\n",
      "Seed: 759 maximizing\n",
      "Initial points: tensor([[ 4.0000,  0.0000,  0.1000, -0.2634, -1.0000],\n",
      "        [37.0000,  0.0000,  3.2952, -0.2010, -0.1887],\n",
      "        [91.0000,  5.0000,  7.4215, -0.4697, -1.0000],\n",
      "        [63.0000,  1.7240,  4.1278, -0.3176, -0.5578],\n",
      "        [18.0000,  0.0000,  1.6737, -0.3729, -0.4633]], dtype=torch.float64)\n"
     ]
    },
    {
     "name": "stderr",
     "output_type": "stream",
     "text": [
      " 80%|████████  | 4/5 [01:52<00:28, 28.90s/it]"
     ]
    },
    {
     "name": "stdout",
     "output_type": "stream",
     "text": [
      "Maximum number of iterations exceeded, breaking loop.\n",
      "Seed: 281 maximizing\n",
      "Initial points: tensor([[ 8.0000e+00,  0.0000e+00,  1.0000e-01,  1.0000e+00,  1.0000e+00],\n",
      "        [ 3.1000e+01,  0.0000e+00,  3.1775e+00, -2.7157e-01, -6.3869e-02],\n",
      "        [ 7.6000e+01,  3.7934e+00,  6.3214e+00, -3.9112e-01, -1.0000e+00],\n",
      "        [ 7.9000e+01,  4.1541e+00,  7.0099e-01, -1.0000e+00,  2.9317e-02],\n",
      "        [ 4.8000e+01,  0.0000e+00,  6.3258e+00, -2.2275e-01,  1.0000e+00]],\n",
      "       dtype=torch.float64)\n"
     ]
    },
    {
     "name": "stderr",
     "output_type": "stream",
     "text": [
      "100%|██████████| 5/5 [02:24<00:00, 28.90s/it]\n"
     ]
    },
    {
     "name": "stdout",
     "output_type": "stream",
     "text": [
      "Iterations 94\n"
     ]
    },
    {
     "name": "stderr",
     "output_type": "stream",
     "text": [
      "  0%|          | 0/5 [00:00<?, ?it/s]"
     ]
    },
    {
     "name": "stdout",
     "output_type": "stream",
     "text": [
      "Seed: 654\n",
      "Initial points: tensor([[ 0.0000,  0.0000,  0.1000, -0.8373, -1.0000],\n",
      "        [ 2.0000,  0.0000,  0.1000, -0.3998,  1.0000],\n",
      "        [14.0000,  0.0000,  1.5680, -0.3353, -0.3658],\n",
      "        [ 5.0000,  0.0000,  0.1000, -0.2270, -0.2032],\n",
      "        [74.0000,  3.5802,  7.8585, -0.3792, -1.0000]], dtype=torch.float64)\n"
     ]
    },
    {
     "name": "stderr",
     "output_type": "stream",
     "text": [
      " 20%|██        | 1/5 [00:02<00:11,  2.87s/it]"
     ]
    },
    {
     "name": "stdout",
     "output_type": "stream",
     "text": [
      "Iterations 23\n",
      "Seed: 114\n",
      "Initial points: tensor([[ 4.6000e+01,  0.0000e+00,  4.3342e+00,  1.0000e+00, -1.0000e+00],\n",
      "        [ 8.9000e+01,  5.0000e+00,  6.4638e+00, -4.7181e-01, -5.6397e-01],\n",
      "        [ 5.4000e+01,  0.0000e+00,  1.0000e+01,  1.0000e+00, -1.0000e+00],\n",
      "        [ 1.0000e+01,  0.0000e+00,  9.9993e-01,  5.5400e-06,  2.5200e-05],\n",
      "        [ 6.3000e+01,  1.7240e+00,  4.1278e+00, -3.1756e-01, -5.5783e-01]],\n",
      "       dtype=torch.float64)\n"
     ]
    },
    {
     "name": "stderr",
     "output_type": "stream",
     "text": [
      " 40%|████      | 2/5 [00:05<00:08,  2.92s/it]"
     ]
    },
    {
     "name": "stdout",
     "output_type": "stream",
     "text": [
      "Iterations 28\n",
      "Seed: 25\n",
      "Initial points: tensor([[ 9.2000e+01,  5.0000e+00,  8.5632e+00, -3.5712e-01, -1.0000e+00],\n",
      "        [ 9.0000e+01,  5.0000e+00,  7.3613e+00, -2.9025e-01, -1.0000e+00],\n",
      "        [ 4.6000e+01,  0.0000e+00,  4.3342e+00,  1.0000e+00, -1.0000e+00],\n",
      "        [ 3.6000e+01,  0.0000e+00,  3.2760e+00, -2.9481e-01,  8.3335e-02],\n",
      "        [ 3.3000e+01,  0.0000e+00,  3.1974e+00, -2.9304e-01, -5.7747e-02]],\n",
      "       dtype=torch.float64)\n"
     ]
    },
    {
     "name": "stderr",
     "output_type": "stream",
     "text": [
      "c:\\Users\\stan\\miniconda3\\envs\\researchTP\\Lib\\site-packages\\botorch\\optim\\fit.py:102: OptimizationWarning: `scipy_minimize` terminated with status OptimizationStatus.FAILURE, displaying original message from `scipy.optimize.minimize`: ABNORMAL_TERMINATION_IN_LNSRCH\n",
      "  warn(\n",
      " 60%|██████    | 3/5 [00:10<00:07,  3.61s/it]"
     ]
    },
    {
     "name": "stdout",
     "output_type": "stream",
     "text": [
      "Iterations 40\n",
      "Seed: 759\n",
      "Initial points: tensor([[ 4.0000,  0.0000,  0.1000, -0.2634, -1.0000],\n",
      "        [37.0000,  0.0000,  3.2952, -0.2010, -0.1887],\n",
      "        [91.0000,  5.0000,  7.4215, -0.4697, -1.0000],\n",
      "        [63.0000,  1.7240,  4.1278, -0.3176, -0.5578],\n",
      "        [18.0000,  0.0000,  1.6737, -0.3729, -0.4633]], dtype=torch.float64)\n"
     ]
    },
    {
     "name": "stderr",
     "output_type": "stream",
     "text": [
      " 80%|████████  | 4/5 [00:20<00:06,  6.24s/it]"
     ]
    },
    {
     "name": "stdout",
     "output_type": "stream",
     "text": [
      "Maximum number of iterations exceeded, breaking loop.\n",
      "Seed: 281\n",
      "Initial points: tensor([[ 8.0000e+00,  0.0000e+00,  1.0000e-01,  1.0000e+00,  1.0000e+00],\n",
      "        [ 3.1000e+01,  0.0000e+00,  3.1775e+00, -2.7157e-01, -6.3869e-02],\n",
      "        [ 7.6000e+01,  3.7934e+00,  6.3214e+00, -3.9112e-01, -1.0000e+00],\n",
      "        [ 7.9000e+01,  4.1541e+00,  7.0099e-01, -1.0000e+00,  2.9317e-02],\n",
      "        [ 4.8000e+01,  0.0000e+00,  6.3258e+00, -2.2275e-01,  1.0000e+00]],\n",
      "       dtype=torch.float64)\n"
     ]
    },
    {
     "name": "stderr",
     "output_type": "stream",
     "text": [
      "100%|██████████| 5/5 [00:23<00:00,  4.72s/it]\n"
     ]
    },
    {
     "name": "stdout",
     "output_type": "stream",
     "text": [
      "Iterations 25\n"
     ]
    },
    {
     "name": "stderr",
     "output_type": "stream",
     "text": [
      "  0%|          | 0/5 [00:00<?, ?it/s]"
     ]
    },
    {
     "name": "stdout",
     "output_type": "stream",
     "text": [
      "Seed: 654\n",
      "Initial points: tensor([[ 0.0000,  0.0000,  0.1000, -0.8373, -1.0000],\n",
      "        [ 2.0000,  0.0000,  0.1000, -0.3998,  1.0000],\n",
      "        [14.0000,  0.0000,  1.5680, -0.3353, -0.3658],\n",
      "        [ 5.0000,  0.0000,  0.1000, -0.2270, -0.2032],\n",
      "        [74.0000,  3.5802,  7.8585, -0.3792, -1.0000]], dtype=torch.float64)\n"
     ]
    },
    {
     "name": "stderr",
     "output_type": "stream",
     "text": [
      " 20%|██        | 1/5 [00:04<00:17,  4.40s/it]"
     ]
    },
    {
     "name": "stdout",
     "output_type": "stream",
     "text": [
      "Iterations 24\n",
      "Seed: 114\n",
      "Initial points: tensor([[ 4.6000e+01,  0.0000e+00,  4.3342e+00,  1.0000e+00, -1.0000e+00],\n",
      "        [ 8.9000e+01,  5.0000e+00,  6.4638e+00, -4.7181e-01, -5.6397e-01],\n",
      "        [ 5.4000e+01,  0.0000e+00,  1.0000e+01,  1.0000e+00, -1.0000e+00],\n",
      "        [ 1.0000e+01,  0.0000e+00,  9.9993e-01,  5.5400e-06,  2.5200e-05],\n",
      "        [ 6.3000e+01,  1.7240e+00,  4.1278e+00, -3.1756e-01, -5.5783e-01]],\n",
      "       dtype=torch.float64)\n"
     ]
    },
    {
     "name": "stderr",
     "output_type": "stream",
     "text": [
      " 40%|████      | 2/5 [00:09<00:14,  4.82s/it]"
     ]
    },
    {
     "name": "stdout",
     "output_type": "stream",
     "text": [
      "Iterations 28\n",
      "Seed: 25\n",
      "Initial points: tensor([[ 9.2000e+01,  5.0000e+00,  8.5632e+00, -3.5712e-01, -1.0000e+00],\n",
      "        [ 9.0000e+01,  5.0000e+00,  7.3613e+00, -2.9025e-01, -1.0000e+00],\n",
      "        [ 4.6000e+01,  0.0000e+00,  4.3342e+00,  1.0000e+00, -1.0000e+00],\n",
      "        [ 3.6000e+01,  0.0000e+00,  3.2760e+00, -2.9481e-01,  8.3335e-02],\n",
      "        [ 3.3000e+01,  0.0000e+00,  3.1974e+00, -2.9304e-01, -5.7747e-02]],\n",
      "       dtype=torch.float64)\n"
     ]
    },
    {
     "name": "stderr",
     "output_type": "stream",
     "text": [
      " 60%|██████    | 3/5 [00:12<00:07,  3.86s/it]"
     ]
    },
    {
     "name": "stdout",
     "output_type": "stream",
     "text": [
      "Iterations 15\n",
      "Seed: 759\n",
      "Initial points: tensor([[ 4.0000,  0.0000,  0.1000, -0.2634, -1.0000],\n",
      "        [37.0000,  0.0000,  3.2952, -0.2010, -0.1887],\n",
      "        [91.0000,  5.0000,  7.4215, -0.4697, -1.0000],\n",
      "        [63.0000,  1.7240,  4.1278, -0.3176, -0.5578],\n",
      "        [18.0000,  0.0000,  1.6737, -0.3729, -0.4633]], dtype=torch.float64)\n"
     ]
    },
    {
     "name": "stderr",
     "output_type": "stream",
     "text": [
      " 80%|████████  | 4/5 [00:32<00:10, 10.48s/it]"
     ]
    },
    {
     "name": "stdout",
     "output_type": "stream",
     "text": [
      "Maximum number of iterations exceeded, breaking loop.\n",
      "Seed: 281\n",
      "Initial points: tensor([[ 8.0000e+00,  0.0000e+00,  1.0000e-01,  1.0000e+00,  1.0000e+00],\n",
      "        [ 3.1000e+01,  0.0000e+00,  3.1775e+00, -2.7157e-01, -6.3869e-02],\n",
      "        [ 7.6000e+01,  3.7934e+00,  6.3214e+00, -3.9112e-01, -1.0000e+00],\n",
      "        [ 7.9000e+01,  4.1541e+00,  7.0099e-01, -1.0000e+00,  2.9317e-02],\n",
      "        [ 4.8000e+01,  0.0000e+00,  6.3258e+00, -2.2275e-01,  1.0000e+00]],\n",
      "       dtype=torch.float64)\n"
     ]
    },
    {
     "name": "stderr",
     "output_type": "stream",
     "text": [
      "100%|██████████| 5/5 [00:38<00:00,  7.61s/it]"
     ]
    },
    {
     "name": "stdout",
     "output_type": "stream",
     "text": [
      "Iterations 26\n"
     ]
    },
    {
     "name": "stderr",
     "output_type": "stream",
     "text": [
      "\n"
     ]
    },
    {
     "data": {
      "image/png": "[encoded data removed]",
      "text/plain": [
       "<Figure size 800x600 with 1 Axes>"
      ]
     },
     "metadata": {},
     "output_type": "display_data"
    },
    {
     "name": "stdout",
     "output_type": "stream",
     "text": [
      "Starting Crossed barrel\n",
      "Number of samples: 600\n",
      "Number of of top 5% samples: 30\n"
     ]
    },
    {
     "name": "stderr",
     "output_type": "stream",
     "text": [
      "  0%|          | 0/5 [00:00<?, ?it/s]"
     ]
    },
    {
     "name": "stdout",
     "output_type": "stream",
     "text": [
      "Seed: 654 maximizing\n",
      "Initial points: tensor([[  0.0000,   6.0000,   0.0000,   1.5000,   0.7000],\n",
      "        [ 27.0000,   6.0000,  25.0000,   2.2000,   0.7000],\n",
      "        [ 64.0000,   6.0000,  75.0000,   2.4000,   1.0500],\n",
      "        [486.0000,  12.0000,  50.0000,   1.7000,   0.7000],\n",
      "        [ 34.0000,   6.0000,  50.0000,   1.5000,   1.0500]],\n",
      "       dtype=torch.float64)\n"
     ]
    },
    {
     "name": "stderr",
     "output_type": "stream",
     "text": [
      "  0%|          | 0/5 [05:30<?, ?it/s]\n",
      "C:\\Users\\stan\\AppData\\Local\\Temp\\ipykernel_19616\\3675611685.py:7: SyntaxWarning: invalid escape sequence '\\{'\n",
      "  data = pd.read_csv(f\"datasets\\{dataset}_dataset.csv\")\n"
     ]
    },
    {
     "ename": "KeyboardInterrupt",
     "evalue": "",
     "output_type": "error",
     "traceback": [
      "\u001b[1;31m---------------------------------------------------------------------------\u001b[0m",
      "\u001b[1;31mKeyboardInterrupt\u001b[0m                         Traceback (most recent call last)",
      "Cell \u001b[1;32mIn[7], line 45\u001b[0m\n\u001b[0;32m     42\u001b[0m seedList \u001b[38;5;241m=\u001b[39m random\u001b[38;5;241m.\u001b[39msample(\u001b[38;5;28mrange\u001b[39m(\u001b[38;5;241m1000\u001b[39m), campaigns)\n\u001b[0;32m     44\u001b[0m \u001b[38;5;28;01mfor\u001b[39;00m i \u001b[38;5;129;01min\u001b[39;00m trange(\u001b[38;5;28mlen\u001b[39m(seedList)):\n\u001b[1;32m---> 45\u001b[0m     \u001b[38;5;28mglobals\u001b[39m()[\u001b[38;5;124m'\u001b[39m\u001b[38;5;124mtopSTP\u001b[39m\u001b[38;5;124m'\u001b[39m \u001b[38;5;241m+\u001b[39m \u001b[38;5;28mstr\u001b[39m(i)], \u001b[38;5;28mglobals\u001b[39m()[\u001b[38;5;124m'\u001b[39m\u001b[38;5;124miterationSTP\u001b[39m\u001b[38;5;124m'\u001b[39m \u001b[38;5;241m+\u001b[39m \u001b[38;5;28mstr\u001b[39m(i)] \u001b[38;5;241m=\u001b[39m \u001b[43mrunMaxSTP\u001b[49m\u001b[43m(\u001b[49m\u001b[43mseedList\u001b[49m\u001b[43m[\u001b[49m\u001b[43mi\u001b[49m\u001b[43m]\u001b[49m\u001b[43m)\u001b[49m\n\u001b[0;32m     47\u001b[0m \u001b[38;5;28;01mfor\u001b[39;00m i \u001b[38;5;129;01min\u001b[39;00m trange(\u001b[38;5;28mlen\u001b[39m(seedList)):\n\u001b[0;32m     48\u001b[0m     \u001b[38;5;28mglobals\u001b[39m()[\u001b[38;5;124m'\u001b[39m\u001b[38;5;124mtopEGP\u001b[39m\u001b[38;5;124m'\u001b[39m \u001b[38;5;241m+\u001b[39m \u001b[38;5;28mstr\u001b[39m(i)], \u001b[38;5;28mglobals\u001b[39m()[\u001b[38;5;124m'\u001b[39m\u001b[38;5;124miterationEGP\u001b[39m\u001b[38;5;124m'\u001b[39m \u001b[38;5;241m+\u001b[39m \u001b[38;5;28mstr\u001b[39m(i)] \u001b[38;5;241m=\u001b[39m runMaxEGP(seedList[i])\n",
      "Cell \u001b[1;32mIn[3], line 132\u001b[0m, in \u001b[0;36mrunMaxSTP\u001b[1;34m(seed)\u001b[0m\n\u001b[0;32m    130\u001b[0m \u001b[38;5;66;03m# works wtih the variational distribution\u001b[39;00m\n\u001b[0;32m    131\u001b[0m \u001b[38;5;28;01mwith\u001b[39;00m gpytorch\u001b[38;5;241m.\u001b[39msettings\u001b[38;5;241m.\u001b[39mnum_likelihood_samples(\u001b[38;5;241m512\u001b[39m):\n\u001b[1;32m--> 132\u001b[0m     observed_pred \u001b[38;5;241m=\u001b[39m \u001b[43mlikelihood\u001b[49m\u001b[43m(\u001b[49m\u001b[43mmodel\u001b[49m\u001b[43m(\u001b[49m\u001b[43mtrain_x\u001b[49m\u001b[43m)\u001b[49m\u001b[43m)\u001b[49m\n\u001b[0;32m    134\u001b[0m samples \u001b[38;5;241m=\u001b[39m observed_pred\u001b[38;5;241m.\u001b[39msample()\n\u001b[0;32m    137\u001b[0m \u001b[38;5;66;03m# use as inputs to UCB \u001b[39;00m\n",
      "File \u001b[1;32mc:\\Users\\stan\\miniconda3\\envs\\researchTP\\Lib\\site-packages\\gpytorch\\likelihoods\\likelihood.py:367\u001b[0m, in \u001b[0;36mLikelihood.__call__\u001b[1;34m(self, input, *args, **kwargs)\u001b[0m\n\u001b[0;32m    356\u001b[0m \u001b[38;5;66;03m# Marginal\u001b[39;00m\n\u001b[0;32m    357\u001b[0m \u001b[38;5;28;01melif\u001b[39;00m \u001b[38;5;28many\u001b[39m(\n\u001b[0;32m    358\u001b[0m     [\n\u001b[0;32m    359\u001b[0m         \u001b[38;5;28misinstance\u001b[39m(\u001b[38;5;28minput\u001b[39m, MultivariateNormal),\n\u001b[1;32m   (...)\u001b[0m\n\u001b[0;32m    365\u001b[0m     ]\n\u001b[0;32m    366\u001b[0m ):\n\u001b[1;32m--> 367\u001b[0m     \u001b[38;5;28;01mreturn\u001b[39;00m \u001b[38;5;28;43mself\u001b[39;49m\u001b[38;5;241;43m.\u001b[39;49m\u001b[43mmarginal\u001b[49m\u001b[43m(\u001b[49m\u001b[38;5;28;43minput\u001b[39;49m\u001b[43m,\u001b[49m\u001b[43m \u001b[49m\u001b[38;5;241;43m*\u001b[39;49m\u001b[43margs\u001b[49m\u001b[43m,\u001b[49m\u001b[43m \u001b[49m\u001b[38;5;241;43m*\u001b[39;49m\u001b[38;5;241;43m*\u001b[39;49m\u001b[43mkwargs\u001b[49m\u001b[43m)\u001b[49m  \u001b[38;5;66;03m# pyre-ignore[6]\u001b[39;00m\n\u001b[0;32m    368\u001b[0m \u001b[38;5;66;03m# Error\u001b[39;00m\n\u001b[0;32m    369\u001b[0m \u001b[38;5;28;01melse\u001b[39;00m:\n\u001b[0;32m    370\u001b[0m     \u001b[38;5;28;01mraise\u001b[39;00m \u001b[38;5;167;01mRuntimeError\u001b[39;00m(\n\u001b[0;32m    371\u001b[0m         \u001b[38;5;124m\"\u001b[39m\u001b[38;5;124mLikelihoods expects a MultivariateNormal or Normal input to make marginal predictions, or a \u001b[39m\u001b[38;5;124m\"\u001b[39m\n\u001b[0;32m    372\u001b[0m         \u001b[38;5;124m\"\u001b[39m\u001b[38;5;124mtorch.Tensor for conditional predictions. Got a \u001b[39m\u001b[38;5;132;01m{}\u001b[39;00m\u001b[38;5;124m\"\u001b[39m\u001b[38;5;241m.\u001b[39mformat(\u001b[38;5;28minput\u001b[39m\u001b[38;5;241m.\u001b[39m\u001b[38;5;18m__class__\u001b[39m\u001b[38;5;241m.\u001b[39m\u001b[38;5;18m__name__\u001b[39m)\n\u001b[0;32m    373\u001b[0m     )\n",
      "File \u001b[1;32mc:\\Users\\stan\\miniconda3\\envs\\researchTP\\Lib\\site-packages\\gpytorch\\likelihoods\\likelihood.py:250\u001b[0m, in \u001b[0;36mLikelihood.marginal\u001b[1;34m(self, function_dist, *args, **kwargs)\u001b[0m\n\u001b[0;32m    233\u001b[0m \u001b[38;5;28;01mdef\u001b[39;00m \u001b[38;5;21mmarginal\u001b[39m(\u001b[38;5;28mself\u001b[39m, function_dist: MultivariateNormal, \u001b[38;5;241m*\u001b[39margs: Any, \u001b[38;5;241m*\u001b[39m\u001b[38;5;241m*\u001b[39mkwargs: Any) \u001b[38;5;241m-\u001b[39m\u001b[38;5;241m>\u001b[39m _Distribution:\n\u001b[0;32m    234\u001b[0m \u001b[38;5;250m    \u001b[39m\u001b[38;5;124mr\u001b[39m\u001b[38;5;124;03m\"\"\"\u001b[39;00m\n\u001b[0;32m    235\u001b[0m \u001b[38;5;124;03m    Computes a predictive distribution :math:`p(y^* | \\mathbf x^*)` given either a posterior\u001b[39;00m\n\u001b[0;32m    236\u001b[0m \u001b[38;5;124;03m    distribution :math:`p(\\mathbf f | \\mathcal D, \\mathbf x)` or a\u001b[39;00m\n\u001b[1;32m   (...)\u001b[0m\n\u001b[0;32m    248\u001b[0m \u001b[38;5;124;03m    :return: The marginal distribution, or samples from it.\u001b[39;00m\n\u001b[0;32m    249\u001b[0m \u001b[38;5;124;03m    \"\"\"\u001b[39;00m\n\u001b[1;32m--> 250\u001b[0m     \u001b[38;5;28;01mreturn\u001b[39;00m \u001b[38;5;28;43msuper\u001b[39;49m\u001b[43m(\u001b[49m\u001b[43m)\u001b[49m\u001b[38;5;241;43m.\u001b[39;49m\u001b[43mmarginal\u001b[49m\u001b[43m(\u001b[49m\u001b[43mfunction_dist\u001b[49m\u001b[43m,\u001b[49m\u001b[43m \u001b[49m\u001b[38;5;241;43m*\u001b[39;49m\u001b[43margs\u001b[49m\u001b[43m,\u001b[49m\u001b[43m \u001b[49m\u001b[38;5;241;43m*\u001b[39;49m\u001b[38;5;241;43m*\u001b[39;49m\u001b[43mkwargs\u001b[49m\u001b[43m)\u001b[49m\n",
      "File \u001b[1;32mc:\\Users\\stan\\miniconda3\\envs\\researchTP\\Lib\\site-packages\\gpytorch\\likelihoods\\likelihood.py:67\u001b[0m, in \u001b[0;36m_Likelihood.marginal\u001b[1;34m(self, function_dist, *args, **kwargs)\u001b[0m\n\u001b[0;32m     66\u001b[0m \u001b[38;5;28;01mdef\u001b[39;00m \u001b[38;5;21mmarginal\u001b[39m(\u001b[38;5;28mself\u001b[39m, function_dist: MultivariateNormal, \u001b[38;5;241m*\u001b[39margs: Any, \u001b[38;5;241m*\u001b[39m\u001b[38;5;241m*\u001b[39mkwargs: Any) \u001b[38;5;241m-\u001b[39m\u001b[38;5;241m>\u001b[39m _Distribution:\n\u001b[1;32m---> 67\u001b[0m     res \u001b[38;5;241m=\u001b[39m \u001b[38;5;28;43mself\u001b[39;49m\u001b[38;5;241;43m.\u001b[39;49m\u001b[43m_draw_likelihood_samples\u001b[49m\u001b[43m(\u001b[49m\u001b[43mfunction_dist\u001b[49m\u001b[43m,\u001b[49m\u001b[43m \u001b[49m\u001b[38;5;241;43m*\u001b[39;49m\u001b[43margs\u001b[49m\u001b[43m,\u001b[49m\u001b[43m \u001b[49m\u001b[38;5;241;43m*\u001b[39;49m\u001b[38;5;241;43m*\u001b[39;49m\u001b[43mkwargs\u001b[49m\u001b[43m)\u001b[49m\n\u001b[0;32m     68\u001b[0m     \u001b[38;5;28;01mreturn\u001b[39;00m res\n",
      "File \u001b[1;32mc:\\Users\\stan\\miniconda3\\envs\\researchTP\\Lib\\site-packages\\gpytorch\\likelihoods\\likelihood.py:160\u001b[0m, in \u001b[0;36mLikelihood._draw_likelihood_samples\u001b[1;34m(self, function_dist, sample_shape, *args, **kwargs)\u001b[0m\n\u001b[0;32m    158\u001b[0m \u001b[38;5;28;01mwith\u001b[39;00m pyro\u001b[38;5;241m.\u001b[39mplate(plate_name, size\u001b[38;5;241m=\u001b[39mnum_samples, dim\u001b[38;5;241m=\u001b[39m(\u001b[38;5;241m-\u001b[39mmax_plate_nesting \u001b[38;5;241m-\u001b[39m \u001b[38;5;241m1\u001b[39m)):\n\u001b[0;32m    159\u001b[0m     \u001b[38;5;28;01mif\u001b[39;00m sample_shape \u001b[38;5;129;01mis\u001b[39;00m \u001b[38;5;28;01mNone\u001b[39;00m:\n\u001b[1;32m--> 160\u001b[0m         function_samples \u001b[38;5;241m=\u001b[39m \u001b[43mpyro\u001b[49m\u001b[38;5;241;43m.\u001b[39;49m\u001b[43msample\u001b[49m\u001b[43m(\u001b[49m\u001b[38;5;28;43mself\u001b[39;49m\u001b[38;5;241;43m.\u001b[39;49m\u001b[43mname_prefix\u001b[49m\u001b[43m,\u001b[49m\u001b[43m \u001b[49m\u001b[43mfunction_dist\u001b[49m\u001b[38;5;241;43m.\u001b[39;49m\u001b[43mmask\u001b[49m\u001b[43m(\u001b[49m\u001b[38;5;28;43;01mFalse\u001b[39;49;00m\u001b[43m)\u001b[49m\u001b[43m)\u001b[49m\n\u001b[0;32m    161\u001b[0m         \u001b[38;5;66;03m# Deal with the fact that we're not assuming conditional indendence over data points here\u001b[39;00m\n\u001b[0;32m    162\u001b[0m         function_samples \u001b[38;5;241m=\u001b[39m function_samples\u001b[38;5;241m.\u001b[39msqueeze(\u001b[38;5;241m-\u001b[39m\u001b[38;5;28mlen\u001b[39m(function_dist\u001b[38;5;241m.\u001b[39mevent_shape) \u001b[38;5;241m-\u001b[39m \u001b[38;5;241m1\u001b[39m)\n",
      "File \u001b[1;32mc:\\Users\\stan\\miniconda3\\envs\\researchTP\\Lib\\site-packages\\pyro\\primitives.py:189\u001b[0m, in \u001b[0;36msample\u001b[1;34m(name, fn, obs, obs_mask, infer, *args, **kwargs)\u001b[0m\n\u001b[0;32m    172\u001b[0m msg \u001b[38;5;241m=\u001b[39m Message(\n\u001b[0;32m    173\u001b[0m     \u001b[38;5;28mtype\u001b[39m\u001b[38;5;241m=\u001b[39m\u001b[38;5;124m\"\u001b[39m\u001b[38;5;124msample\u001b[39m\u001b[38;5;124m\"\u001b[39m,\n\u001b[0;32m    174\u001b[0m     name\u001b[38;5;241m=\u001b[39mname,\n\u001b[1;32m   (...)\u001b[0m\n\u001b[0;32m    186\u001b[0m     continuation\u001b[38;5;241m=\u001b[39m\u001b[38;5;28;01mNone\u001b[39;00m,\n\u001b[0;32m    187\u001b[0m )\n\u001b[0;32m    188\u001b[0m \u001b[38;5;66;03m# apply the stack and return its return value\u001b[39;00m\n\u001b[1;32m--> 189\u001b[0m \u001b[43mapply_stack\u001b[49m\u001b[43m(\u001b[49m\u001b[43mmsg\u001b[49m\u001b[43m)\u001b[49m\n\u001b[0;32m    190\u001b[0m \u001b[38;5;28;01massert\u001b[39;00m msg[\u001b[38;5;124m\"\u001b[39m\u001b[38;5;124mvalue\u001b[39m\u001b[38;5;124m\"\u001b[39m] \u001b[38;5;129;01mis\u001b[39;00m \u001b[38;5;129;01mnot\u001b[39;00m \u001b[38;5;28;01mNone\u001b[39;00m  \u001b[38;5;66;03m# type narrowing guaranteed by apply_stack\u001b[39;00m\n\u001b[0;32m    191\u001b[0m \u001b[38;5;28;01mreturn\u001b[39;00m msg[\u001b[38;5;124m\"\u001b[39m\u001b[38;5;124mvalue\u001b[39m\u001b[38;5;124m\"\u001b[39m]\n",
      "File \u001b[1;32mc:\\Users\\stan\\miniconda3\\envs\\researchTP\\Lib\\site-packages\\pyro\\poutine\\runtime.py:383\u001b[0m, in \u001b[0;36mapply_stack\u001b[1;34m(initial_msg)\u001b[0m\n\u001b[0;32m    380\u001b[0m     \u001b[38;5;28;01mif\u001b[39;00m msg[\u001b[38;5;124m\"\u001b[39m\u001b[38;5;124mstop\u001b[39m\u001b[38;5;124m\"\u001b[39m]:\n\u001b[0;32m    381\u001b[0m         \u001b[38;5;28;01mbreak\u001b[39;00m\n\u001b[1;32m--> 383\u001b[0m \u001b[43mdefault_process_message\u001b[49m\u001b[43m(\u001b[49m\u001b[43mmsg\u001b[49m\u001b[43m)\u001b[49m\n\u001b[0;32m    385\u001b[0m \u001b[38;5;28;01mfor\u001b[39;00m frame \u001b[38;5;129;01min\u001b[39;00m stack[\u001b[38;5;241m-\u001b[39mpointer:]:\n\u001b[0;32m    386\u001b[0m     frame\u001b[38;5;241m.\u001b[39m_postprocess_message(msg)\n",
      "File \u001b[1;32mc:\\Users\\stan\\miniconda3\\envs\\researchTP\\Lib\\site-packages\\pyro\\poutine\\runtime.py:345\u001b[0m, in \u001b[0;36mdefault_process_message\u001b[1;34m(msg)\u001b[0m\n\u001b[0;32m    342\u001b[0m     msg[\u001b[38;5;124m\"\u001b[39m\u001b[38;5;124mdone\u001b[39m\u001b[38;5;124m\"\u001b[39m] \u001b[38;5;241m=\u001b[39m \u001b[38;5;28;01mTrue\u001b[39;00m\n\u001b[0;32m    343\u001b[0m     \u001b[38;5;28;01mreturn\u001b[39;00m\n\u001b[1;32m--> 345\u001b[0m msg[\u001b[38;5;124m\"\u001b[39m\u001b[38;5;124mvalue\u001b[39m\u001b[38;5;124m\"\u001b[39m] \u001b[38;5;241m=\u001b[39m \u001b[43mmsg\u001b[49m\u001b[43m[\u001b[49m\u001b[38;5;124;43m\"\u001b[39;49m\u001b[38;5;124;43mfn\u001b[39;49m\u001b[38;5;124;43m\"\u001b[39;49m\u001b[43m]\u001b[49m\u001b[43m(\u001b[49m\u001b[38;5;241;43m*\u001b[39;49m\u001b[43mmsg\u001b[49m\u001b[43m[\u001b[49m\u001b[38;5;124;43m\"\u001b[39;49m\u001b[38;5;124;43margs\u001b[39;49m\u001b[38;5;124;43m\"\u001b[39;49m\u001b[43m]\u001b[49m\u001b[43m,\u001b[49m\u001b[43m \u001b[49m\u001b[38;5;241;43m*\u001b[39;49m\u001b[38;5;241;43m*\u001b[39;49m\u001b[43mmsg\u001b[49m\u001b[43m[\u001b[49m\u001b[38;5;124;43m\"\u001b[39;49m\u001b[38;5;124;43mkwargs\u001b[39;49m\u001b[38;5;124;43m\"\u001b[39;49m\u001b[43m]\u001b[49m\u001b[43m)\u001b[49m\n\u001b[0;32m    347\u001b[0m \u001b[38;5;66;03m# after fn has been called, update msg to prevent it from being called again.\u001b[39;00m\n\u001b[0;32m    348\u001b[0m msg[\u001b[38;5;124m\"\u001b[39m\u001b[38;5;124mdone\u001b[39m\u001b[38;5;124m\"\u001b[39m] \u001b[38;5;241m=\u001b[39m \u001b[38;5;28;01mTrue\u001b[39;00m\n",
      "File \u001b[1;32mc:\\Users\\stan\\miniconda3\\envs\\researchTP\\Lib\\site-packages\\pyro\\distributions\\torch_distribution.py:49\u001b[0m, in \u001b[0;36mTorchDistributionMixin.__call__\u001b[1;34m(self, sample_shape)\u001b[0m\n\u001b[0;32m     31\u001b[0m \u001b[38;5;28;01mdef\u001b[39;00m \u001b[38;5;21m__call__\u001b[39m(\u001b[38;5;28mself\u001b[39m, sample_shape: torch\u001b[38;5;241m.\u001b[39mSize \u001b[38;5;241m=\u001b[39m torch\u001b[38;5;241m.\u001b[39mSize()) \u001b[38;5;241m-\u001b[39m\u001b[38;5;241m>\u001b[39m torch\u001b[38;5;241m.\u001b[39mTensor:\n\u001b[0;32m     32\u001b[0m \u001b[38;5;250m    \u001b[39m\u001b[38;5;124;03m\"\"\"\u001b[39;00m\n\u001b[0;32m     33\u001b[0m \u001b[38;5;124;03m    Samples a random value.\u001b[39;00m\n\u001b[0;32m     34\u001b[0m \n\u001b[1;32m   (...)\u001b[0m\n\u001b[0;32m     46\u001b[0m \u001b[38;5;124;03m    :rtype: torch.Tensor\u001b[39;00m\n\u001b[0;32m     47\u001b[0m \u001b[38;5;124;03m    \"\"\"\u001b[39;00m\n\u001b[0;32m     48\u001b[0m     \u001b[38;5;28;01mreturn\u001b[39;00m (\n\u001b[1;32m---> 49\u001b[0m         \u001b[38;5;28;43mself\u001b[39;49m\u001b[38;5;241;43m.\u001b[39;49m\u001b[43mrsample\u001b[49m\u001b[43m(\u001b[49m\u001b[43msample_shape\u001b[49m\u001b[43m)\u001b[49m\n\u001b[0;32m     50\u001b[0m         \u001b[38;5;28;01mif\u001b[39;00m \u001b[38;5;28mself\u001b[39m\u001b[38;5;241m.\u001b[39mhas_rsample\n\u001b[0;32m     51\u001b[0m         \u001b[38;5;28;01melse\u001b[39;00m \u001b[38;5;28mself\u001b[39m\u001b[38;5;241m.\u001b[39msample(sample_shape)\n\u001b[0;32m     52\u001b[0m     )\n",
      "File \u001b[1;32mc:\\Users\\stan\\miniconda3\\envs\\researchTP\\Lib\\site-packages\\pyro\\distributions\\torch_distribution.py:359\u001b[0m, in \u001b[0;36mMaskedDistribution.rsample\u001b[1;34m(self, sample_shape)\u001b[0m\n\u001b[0;32m    358\u001b[0m \u001b[38;5;28;01mdef\u001b[39;00m \u001b[38;5;21mrsample\u001b[39m(\u001b[38;5;28mself\u001b[39m, sample_shape\u001b[38;5;241m=\u001b[39mtorch\u001b[38;5;241m.\u001b[39mSize()):\n\u001b[1;32m--> 359\u001b[0m     \u001b[38;5;28;01mreturn\u001b[39;00m \u001b[38;5;28;43mself\u001b[39;49m\u001b[38;5;241;43m.\u001b[39;49m\u001b[43mbase_dist\u001b[49m\u001b[38;5;241;43m.\u001b[39;49m\u001b[43mrsample\u001b[49m\u001b[43m(\u001b[49m\u001b[43msample_shape\u001b[49m\u001b[43m)\u001b[49m\n",
      "File \u001b[1;32mc:\\Users\\stan\\miniconda3\\envs\\researchTP\\Lib\\site-packages\\gpytorch\\distributions\\multivariate_normal.py:227\u001b[0m, in \u001b[0;36mMultivariateNormal.rsample\u001b[1;34m(self, sample_shape, base_samples)\u001b[0m\n\u001b[0;32m    224\u001b[0m     num_samples \u001b[38;5;241m=\u001b[39m sample_shape\u001b[38;5;241m.\u001b[39mnumel() \u001b[38;5;129;01mor\u001b[39;00m \u001b[38;5;241m1\u001b[39m\n\u001b[0;32m    226\u001b[0m     \u001b[38;5;66;03m# Get samples\u001b[39;00m\n\u001b[1;32m--> 227\u001b[0m     res \u001b[38;5;241m=\u001b[39m \u001b[43mcovar\u001b[49m\u001b[38;5;241;43m.\u001b[39;49m\u001b[43mzero_mean_mvn_samples\u001b[49m\u001b[43m(\u001b[49m\u001b[43mnum_samples\u001b[49m\u001b[43m)\u001b[49m \u001b[38;5;241m+\u001b[39m \u001b[38;5;28mself\u001b[39m\u001b[38;5;241m.\u001b[39mloc\u001b[38;5;241m.\u001b[39munsqueeze(\u001b[38;5;241m0\u001b[39m)\n\u001b[0;32m    228\u001b[0m     res \u001b[38;5;241m=\u001b[39m res\u001b[38;5;241m.\u001b[39mview(sample_shape \u001b[38;5;241m+\u001b[39m \u001b[38;5;28mself\u001b[39m\u001b[38;5;241m.\u001b[39mloc\u001b[38;5;241m.\u001b[39mshape)\n\u001b[0;32m    230\u001b[0m \u001b[38;5;28;01melse\u001b[39;00m:\n",
      "File \u001b[1;32mc:\\Users\\stan\\miniconda3\\envs\\researchTP\\Lib\\site-packages\\linear_operator\\operators\\_linear_operator.py:2733\u001b[0m, in \u001b[0;36mLinearOperator.zero_mean_mvn_samples\u001b[1;34m(self, num_samples)\u001b[0m\n\u001b[0;32m   2731\u001b[0m     covar_root \u001b[38;5;241m=\u001b[39m \u001b[38;5;28mself\u001b[39m\u001b[38;5;241m.\u001b[39mto_dense()\u001b[38;5;241m.\u001b[39msqrt()\n\u001b[0;32m   2732\u001b[0m \u001b[38;5;28;01melse\u001b[39;00m:\n\u001b[1;32m-> 2733\u001b[0m     covar_root \u001b[38;5;241m=\u001b[39m \u001b[38;5;28;43mself\u001b[39;49m\u001b[38;5;241;43m.\u001b[39;49m\u001b[43mroot_decomposition\u001b[49m\u001b[43m(\u001b[49m\u001b[43m)\u001b[49m\u001b[38;5;241m.\u001b[39mroot\n\u001b[0;32m   2735\u001b[0m base_samples \u001b[38;5;241m=\u001b[39m torch\u001b[38;5;241m.\u001b[39mrandn(\n\u001b[0;32m   2736\u001b[0m     \u001b[38;5;241m*\u001b[39m\u001b[38;5;28mself\u001b[39m\u001b[38;5;241m.\u001b[39mbatch_shape,\n\u001b[0;32m   2737\u001b[0m     covar_root\u001b[38;5;241m.\u001b[39msize(\u001b[38;5;241m-\u001b[39m\u001b[38;5;241m1\u001b[39m),\n\u001b[1;32m   (...)\u001b[0m\n\u001b[0;32m   2740\u001b[0m     device\u001b[38;5;241m=\u001b[39m\u001b[38;5;28mself\u001b[39m\u001b[38;5;241m.\u001b[39mdevice,\n\u001b[0;32m   2741\u001b[0m )\n\u001b[0;32m   2742\u001b[0m samples \u001b[38;5;241m=\u001b[39m covar_root\u001b[38;5;241m.\u001b[39mmatmul(base_samples)\u001b[38;5;241m.\u001b[39mpermute(\u001b[38;5;241m-\u001b[39m\u001b[38;5;241m1\u001b[39m, \u001b[38;5;241m*\u001b[39m\u001b[38;5;28mrange\u001b[39m(\u001b[38;5;28mself\u001b[39m\u001b[38;5;241m.\u001b[39mdim() \u001b[38;5;241m-\u001b[39m \u001b[38;5;241m1\u001b[39m))\u001b[38;5;241m.\u001b[39mcontiguous()\n",
      "File \u001b[1;32mc:\\Users\\stan\\miniconda3\\envs\\researchTP\\Lib\\site-packages\\linear_operator\\utils\\memoize.py:59\u001b[0m, in \u001b[0;36m_cached.<locals>.g\u001b[1;34m(self, *args, **kwargs)\u001b[0m\n\u001b[0;32m     57\u001b[0m kwargs_pkl \u001b[38;5;241m=\u001b[39m pickle\u001b[38;5;241m.\u001b[39mdumps(kwargs)\n\u001b[0;32m     58\u001b[0m \u001b[38;5;28;01mif\u001b[39;00m \u001b[38;5;129;01mnot\u001b[39;00m _is_in_cache(\u001b[38;5;28mself\u001b[39m, cache_name, \u001b[38;5;241m*\u001b[39margs, kwargs_pkl\u001b[38;5;241m=\u001b[39mkwargs_pkl):\n\u001b[1;32m---> 59\u001b[0m     \u001b[38;5;28;01mreturn\u001b[39;00m _add_to_cache(\u001b[38;5;28mself\u001b[39m, cache_name, \u001b[43mmethod\u001b[49m\u001b[43m(\u001b[49m\u001b[38;5;28;43mself\u001b[39;49m\u001b[43m,\u001b[49m\u001b[43m \u001b[49m\u001b[38;5;241;43m*\u001b[39;49m\u001b[43margs\u001b[49m\u001b[43m,\u001b[49m\u001b[43m \u001b[49m\u001b[38;5;241;43m*\u001b[39;49m\u001b[38;5;241;43m*\u001b[39;49m\u001b[43mkwargs\u001b[49m\u001b[43m)\u001b[49m, \u001b[38;5;241m*\u001b[39margs, kwargs_pkl\u001b[38;5;241m=\u001b[39mkwargs_pkl)\n\u001b[0;32m     60\u001b[0m \u001b[38;5;28;01mreturn\u001b[39;00m _get_from_cache(\u001b[38;5;28mself\u001b[39m, cache_name, \u001b[38;5;241m*\u001b[39margs, kwargs_pkl\u001b[38;5;241m=\u001b[39mkwargs_pkl)\n",
      "File \u001b[1;32mc:\\Users\\stan\\miniconda3\\envs\\researchTP\\Lib\\site-packages\\linear_operator\\operators\\_linear_operator.py:2152\u001b[0m, in \u001b[0;36mLinearOperator.root_decomposition\u001b[1;34m(self, method)\u001b[0m\n\u001b[0;32m   2149\u001b[0m \u001b[38;5;28;01mif\u001b[39;00m method \u001b[38;5;241m==\u001b[39m \u001b[38;5;124m\"\u001b[39m\u001b[38;5;124mcholesky\u001b[39m\u001b[38;5;124m\"\u001b[39m:\n\u001b[0;32m   2150\u001b[0m     \u001b[38;5;66;03m# self.cholesky will hit cache if available\u001b[39;00m\n\u001b[0;32m   2151\u001b[0m     \u001b[38;5;28;01mtry\u001b[39;00m:\n\u001b[1;32m-> 2152\u001b[0m         res \u001b[38;5;241m=\u001b[39m \u001b[38;5;28;43mself\u001b[39;49m\u001b[38;5;241;43m.\u001b[39;49m\u001b[43mcholesky\u001b[49m\u001b[43m(\u001b[49m\u001b[43m)\u001b[49m\n\u001b[0;32m   2153\u001b[0m         \u001b[38;5;28;01mreturn\u001b[39;00m CholLinearOperator(res)\n\u001b[0;32m   2154\u001b[0m     \u001b[38;5;28;01mexcept\u001b[39;00m \u001b[38;5;167;01mRuntimeError\u001b[39;00m \u001b[38;5;28;01mas\u001b[39;00m e:\n",
      "File \u001b[1;32mc:\\Users\\stan\\miniconda3\\envs\\researchTP\\Lib\\site-packages\\linear_operator\\operators\\_linear_operator.py:1303\u001b[0m, in \u001b[0;36mLinearOperator.cholesky\u001b[1;34m(self, upper)\u001b[0m\n\u001b[0;32m   1293\u001b[0m \u001b[38;5;129m@_implements\u001b[39m(torch\u001b[38;5;241m.\u001b[39mlinalg\u001b[38;5;241m.\u001b[39mcholesky)\n\u001b[0;32m   1294\u001b[0m \u001b[38;5;28;01mdef\u001b[39;00m \u001b[38;5;21mcholesky\u001b[39m(\n\u001b[0;32m   1295\u001b[0m     \u001b[38;5;28mself\u001b[39m: Float[LinearOperator, \u001b[38;5;124m\"\u001b[39m\u001b[38;5;124m*batch N N\u001b[39m\u001b[38;5;124m\"\u001b[39m], upper: \u001b[38;5;28mbool\u001b[39m \u001b[38;5;241m=\u001b[39m \u001b[38;5;28;01mFalse\u001b[39;00m\n\u001b[0;32m   1296\u001b[0m ) \u001b[38;5;241m-\u001b[39m\u001b[38;5;241m>\u001b[39m Float[LinearOperator, \u001b[38;5;124m\"\u001b[39m\u001b[38;5;124m*batch N N\u001b[39m\u001b[38;5;124m\"\u001b[39m]:  \u001b[38;5;66;03m# returns TriangularLinearOperator\u001b[39;00m\n\u001b[0;32m   1297\u001b[0m \u001b[38;5;250m    \u001b[39m\u001b[38;5;124;03m\"\"\"\u001b[39;00m\n\u001b[0;32m   1298\u001b[0m \u001b[38;5;124;03m    Cholesky-factorizes the LinearOperator.\u001b[39;00m\n\u001b[0;32m   1299\u001b[0m \n\u001b[0;32m   1300\u001b[0m \u001b[38;5;124;03m    :param upper: Upper triangular or lower triangular factor (default: False).\u001b[39;00m\n\u001b[0;32m   1301\u001b[0m \u001b[38;5;124;03m    :return: Cholesky factor (lower or upper triangular)\u001b[39;00m\n\u001b[0;32m   1302\u001b[0m \u001b[38;5;124;03m    \"\"\"\u001b[39;00m\n\u001b[1;32m-> 1303\u001b[0m     chol \u001b[38;5;241m=\u001b[39m \u001b[38;5;28;43mself\u001b[39;49m\u001b[38;5;241;43m.\u001b[39;49m\u001b[43m_cholesky\u001b[49m\u001b[43m(\u001b[49m\u001b[43mupper\u001b[49m\u001b[38;5;241;43m=\u001b[39;49m\u001b[38;5;28;43;01mFalse\u001b[39;49;00m\u001b[43m)\u001b[49m\n\u001b[0;32m   1304\u001b[0m     \u001b[38;5;28;01mif\u001b[39;00m upper:\n\u001b[0;32m   1305\u001b[0m         chol \u001b[38;5;241m=\u001b[39m chol\u001b[38;5;241m.\u001b[39m_transpose_nonbatch()\n",
      "File \u001b[1;32mc:\\Users\\stan\\miniconda3\\envs\\researchTP\\Lib\\site-packages\\linear_operator\\utils\\memoize.py:59\u001b[0m, in \u001b[0;36m_cached.<locals>.g\u001b[1;34m(self, *args, **kwargs)\u001b[0m\n\u001b[0;32m     57\u001b[0m kwargs_pkl \u001b[38;5;241m=\u001b[39m pickle\u001b[38;5;241m.\u001b[39mdumps(kwargs)\n\u001b[0;32m     58\u001b[0m \u001b[38;5;28;01mif\u001b[39;00m \u001b[38;5;129;01mnot\u001b[39;00m _is_in_cache(\u001b[38;5;28mself\u001b[39m, cache_name, \u001b[38;5;241m*\u001b[39margs, kwargs_pkl\u001b[38;5;241m=\u001b[39mkwargs_pkl):\n\u001b[1;32m---> 59\u001b[0m     \u001b[38;5;28;01mreturn\u001b[39;00m _add_to_cache(\u001b[38;5;28mself\u001b[39m, cache_name, \u001b[43mmethod\u001b[49m\u001b[43m(\u001b[49m\u001b[38;5;28;43mself\u001b[39;49m\u001b[43m,\u001b[49m\u001b[43m \u001b[49m\u001b[38;5;241;43m*\u001b[39;49m\u001b[43margs\u001b[49m\u001b[43m,\u001b[49m\u001b[43m \u001b[49m\u001b[38;5;241;43m*\u001b[39;49m\u001b[38;5;241;43m*\u001b[39;49m\u001b[43mkwargs\u001b[49m\u001b[43m)\u001b[49m, \u001b[38;5;241m*\u001b[39margs, kwargs_pkl\u001b[38;5;241m=\u001b[39mkwargs_pkl)\n\u001b[0;32m     60\u001b[0m \u001b[38;5;28;01mreturn\u001b[39;00m _get_from_cache(\u001b[38;5;28mself\u001b[39m, cache_name, \u001b[38;5;241m*\u001b[39margs, kwargs_pkl\u001b[38;5;241m=\u001b[39mkwargs_pkl)\n",
      "File \u001b[1;32mc:\\Users\\stan\\miniconda3\\envs\\researchTP\\Lib\\site-packages\\linear_operator\\operators\\_linear_operator.py:515\u001b[0m, in \u001b[0;36mLinearOperator._cholesky\u001b[1;34m(self, upper)\u001b[0m\n\u001b[0;32m    512\u001b[0m \u001b[38;5;28;01mif\u001b[39;00m \u001b[38;5;28many\u001b[39m(\u001b[38;5;28misinstance\u001b[39m(sub_mat, KeOpsLinearOperator) \u001b[38;5;28;01mfor\u001b[39;00m sub_mat \u001b[38;5;129;01min\u001b[39;00m evaluated_kern_mat\u001b[38;5;241m.\u001b[39m_args):\n\u001b[0;32m    513\u001b[0m     \u001b[38;5;28;01mraise\u001b[39;00m \u001b[38;5;167;01mRuntimeError\u001b[39;00m(\u001b[38;5;124m\"\u001b[39m\u001b[38;5;124mCannot run Cholesky with KeOps: it will either be really slow or not work.\u001b[39m\u001b[38;5;124m\"\u001b[39m)\n\u001b[1;32m--> 515\u001b[0m evaluated_mat \u001b[38;5;241m=\u001b[39m \u001b[43mevaluated_kern_mat\u001b[49m\u001b[38;5;241;43m.\u001b[39;49m\u001b[43mto_dense\u001b[49m\u001b[43m(\u001b[49m\u001b[43m)\u001b[49m\n\u001b[0;32m    517\u001b[0m \u001b[38;5;66;03m# if the tensor is a scalar, we can just take the square root\u001b[39;00m\n\u001b[0;32m    518\u001b[0m \u001b[38;5;28;01mif\u001b[39;00m evaluated_mat\u001b[38;5;241m.\u001b[39msize(\u001b[38;5;241m-\u001b[39m\u001b[38;5;241m1\u001b[39m) \u001b[38;5;241m==\u001b[39m \u001b[38;5;241m1\u001b[39m:\n",
      "File \u001b[1;32mc:\\Users\\stan\\miniconda3\\envs\\researchTP\\Lib\\site-packages\\linear_operator\\utils\\memoize.py:59\u001b[0m, in \u001b[0;36m_cached.<locals>.g\u001b[1;34m(self, *args, **kwargs)\u001b[0m\n\u001b[0;32m     57\u001b[0m kwargs_pkl \u001b[38;5;241m=\u001b[39m pickle\u001b[38;5;241m.\u001b[39mdumps(kwargs)\n\u001b[0;32m     58\u001b[0m \u001b[38;5;28;01mif\u001b[39;00m \u001b[38;5;129;01mnot\u001b[39;00m _is_in_cache(\u001b[38;5;28mself\u001b[39m, cache_name, \u001b[38;5;241m*\u001b[39margs, kwargs_pkl\u001b[38;5;241m=\u001b[39mkwargs_pkl):\n\u001b[1;32m---> 59\u001b[0m     \u001b[38;5;28;01mreturn\u001b[39;00m _add_to_cache(\u001b[38;5;28mself\u001b[39m, cache_name, \u001b[43mmethod\u001b[49m\u001b[43m(\u001b[49m\u001b[38;5;28;43mself\u001b[39;49m\u001b[43m,\u001b[49m\u001b[43m \u001b[49m\u001b[38;5;241;43m*\u001b[39;49m\u001b[43margs\u001b[49m\u001b[43m,\u001b[49m\u001b[43m \u001b[49m\u001b[38;5;241;43m*\u001b[39;49m\u001b[38;5;241;43m*\u001b[39;49m\u001b[43mkwargs\u001b[49m\u001b[43m)\u001b[49m, \u001b[38;5;241m*\u001b[39margs, kwargs_pkl\u001b[38;5;241m=\u001b[39mkwargs_pkl)\n\u001b[0;32m     60\u001b[0m \u001b[38;5;28;01mreturn\u001b[39;00m _get_from_cache(\u001b[38;5;28mself\u001b[39m, cache_name, \u001b[38;5;241m*\u001b[39margs, kwargs_pkl\u001b[38;5;241m=\u001b[39mkwargs_pkl)\n",
      "File \u001b[1;32mc:\\Users\\stan\\miniconda3\\envs\\researchTP\\Lib\\site-packages\\linear_operator\\operators\\sum_linear_operator.py:80\u001b[0m, in \u001b[0;36mSumLinearOperator.to_dense\u001b[1;34m(self)\u001b[0m\n\u001b[0;32m     78\u001b[0m \u001b[38;5;129m@cached\u001b[39m\n\u001b[0;32m     79\u001b[0m \u001b[38;5;28;01mdef\u001b[39;00m \u001b[38;5;21mto_dense\u001b[39m(\u001b[38;5;28mself\u001b[39m: Float[LinearOperator, \u001b[38;5;124m\"\u001b[39m\u001b[38;5;124m*batch M N\u001b[39m\u001b[38;5;124m\"\u001b[39m]) \u001b[38;5;241m-\u001b[39m\u001b[38;5;241m>\u001b[39m Float[Tensor, \u001b[38;5;124m\"\u001b[39m\u001b[38;5;124m*batch M N\u001b[39m\u001b[38;5;124m\"\u001b[39m]:\n\u001b[1;32m---> 80\u001b[0m     \u001b[38;5;28;01mreturn\u001b[39;00m (\u001b[38;5;28;43msum\u001b[39;49m\u001b[43m(\u001b[49m\u001b[43mlinear_op\u001b[49m\u001b[38;5;241;43m.\u001b[39;49m\u001b[43mto_dense\u001b[49m\u001b[43m(\u001b[49m\u001b[43m)\u001b[49m\u001b[43m \u001b[49m\u001b[38;5;28;43;01mfor\u001b[39;49;00m\u001b[43m \u001b[49m\u001b[43mlinear_op\u001b[49m\u001b[43m \u001b[49m\u001b[38;5;129;43;01min\u001b[39;49;00m\u001b[43m \u001b[49m\u001b[38;5;28;43mself\u001b[39;49m\u001b[38;5;241;43m.\u001b[39;49m\u001b[43mlinear_ops\u001b[49m\u001b[43m)\u001b[49m)\u001b[38;5;241m.\u001b[39mcontiguous()\n",
      "File \u001b[1;32mc:\\Users\\stan\\miniconda3\\envs\\researchTP\\Lib\\site-packages\\linear_operator\\operators\\sum_linear_operator.py:80\u001b[0m, in \u001b[0;36m<genexpr>\u001b[1;34m(.0)\u001b[0m\n\u001b[0;32m     78\u001b[0m \u001b[38;5;129m@cached\u001b[39m\n\u001b[0;32m     79\u001b[0m \u001b[38;5;28;01mdef\u001b[39;00m \u001b[38;5;21mto_dense\u001b[39m(\u001b[38;5;28mself\u001b[39m: Float[LinearOperator, \u001b[38;5;124m\"\u001b[39m\u001b[38;5;124m*batch M N\u001b[39m\u001b[38;5;124m\"\u001b[39m]) \u001b[38;5;241m-\u001b[39m\u001b[38;5;241m>\u001b[39m Float[Tensor, \u001b[38;5;124m\"\u001b[39m\u001b[38;5;124m*batch M N\u001b[39m\u001b[38;5;124m\"\u001b[39m]:\n\u001b[1;32m---> 80\u001b[0m     \u001b[38;5;28;01mreturn\u001b[39;00m (\u001b[38;5;28msum\u001b[39m(\u001b[43mlinear_op\u001b[49m\u001b[38;5;241;43m.\u001b[39;49m\u001b[43mto_dense\u001b[49m\u001b[43m(\u001b[49m\u001b[43m)\u001b[49m \u001b[38;5;28;01mfor\u001b[39;00m linear_op \u001b[38;5;129;01min\u001b[39;00m \u001b[38;5;28mself\u001b[39m\u001b[38;5;241m.\u001b[39mlinear_ops))\u001b[38;5;241m.\u001b[39mcontiguous()\n",
      "File \u001b[1;32mc:\\Users\\stan\\miniconda3\\envs\\researchTP\\Lib\\site-packages\\linear_operator\\utils\\memoize.py:59\u001b[0m, in \u001b[0;36m_cached.<locals>.g\u001b[1;34m(self, *args, **kwargs)\u001b[0m\n\u001b[0;32m     57\u001b[0m kwargs_pkl \u001b[38;5;241m=\u001b[39m pickle\u001b[38;5;241m.\u001b[39mdumps(kwargs)\n\u001b[0;32m     58\u001b[0m \u001b[38;5;28;01mif\u001b[39;00m \u001b[38;5;129;01mnot\u001b[39;00m _is_in_cache(\u001b[38;5;28mself\u001b[39m, cache_name, \u001b[38;5;241m*\u001b[39margs, kwargs_pkl\u001b[38;5;241m=\u001b[39mkwargs_pkl):\n\u001b[1;32m---> 59\u001b[0m     \u001b[38;5;28;01mreturn\u001b[39;00m _add_to_cache(\u001b[38;5;28mself\u001b[39m, cache_name, \u001b[43mmethod\u001b[49m\u001b[43m(\u001b[49m\u001b[38;5;28;43mself\u001b[39;49m\u001b[43m,\u001b[49m\u001b[43m \u001b[49m\u001b[38;5;241;43m*\u001b[39;49m\u001b[43margs\u001b[49m\u001b[43m,\u001b[49m\u001b[43m \u001b[49m\u001b[38;5;241;43m*\u001b[39;49m\u001b[38;5;241;43m*\u001b[39;49m\u001b[43mkwargs\u001b[49m\u001b[43m)\u001b[49m, \u001b[38;5;241m*\u001b[39margs, kwargs_pkl\u001b[38;5;241m=\u001b[39mkwargs_pkl)\n\u001b[0;32m     60\u001b[0m \u001b[38;5;28;01mreturn\u001b[39;00m _get_from_cache(\u001b[38;5;28mself\u001b[39m, cache_name, \u001b[38;5;241m*\u001b[39margs, kwargs_pkl\u001b[38;5;241m=\u001b[39mkwargs_pkl)\n",
      "File \u001b[1;32mc:\\Users\\stan\\miniconda3\\envs\\researchTP\\Lib\\site-packages\\linear_operator\\operators\\sum_linear_operator.py:80\u001b[0m, in \u001b[0;36mSumLinearOperator.to_dense\u001b[1;34m(self)\u001b[0m\n\u001b[0;32m     78\u001b[0m \u001b[38;5;129m@cached\u001b[39m\n\u001b[0;32m     79\u001b[0m \u001b[38;5;28;01mdef\u001b[39;00m \u001b[38;5;21mto_dense\u001b[39m(\u001b[38;5;28mself\u001b[39m: Float[LinearOperator, \u001b[38;5;124m\"\u001b[39m\u001b[38;5;124m*batch M N\u001b[39m\u001b[38;5;124m\"\u001b[39m]) \u001b[38;5;241m-\u001b[39m\u001b[38;5;241m>\u001b[39m Float[Tensor, \u001b[38;5;124m\"\u001b[39m\u001b[38;5;124m*batch M N\u001b[39m\u001b[38;5;124m\"\u001b[39m]:\n\u001b[1;32m---> 80\u001b[0m     \u001b[38;5;28;01mreturn\u001b[39;00m (\u001b[38;5;28;43msum\u001b[39;49m\u001b[43m(\u001b[49m\u001b[43mlinear_op\u001b[49m\u001b[38;5;241;43m.\u001b[39;49m\u001b[43mto_dense\u001b[49m\u001b[43m(\u001b[49m\u001b[43m)\u001b[49m\u001b[43m \u001b[49m\u001b[38;5;28;43;01mfor\u001b[39;49;00m\u001b[43m \u001b[49m\u001b[43mlinear_op\u001b[49m\u001b[43m \u001b[49m\u001b[38;5;129;43;01min\u001b[39;49;00m\u001b[43m \u001b[49m\u001b[38;5;28;43mself\u001b[39;49m\u001b[38;5;241;43m.\u001b[39;49m\u001b[43mlinear_ops\u001b[49m\u001b[43m)\u001b[49m)\u001b[38;5;241m.\u001b[39mcontiguous()\n",
      "File \u001b[1;32mc:\\Users\\stan\\miniconda3\\envs\\researchTP\\Lib\\site-packages\\linear_operator\\operators\\sum_linear_operator.py:80\u001b[0m, in \u001b[0;36m<genexpr>\u001b[1;34m(.0)\u001b[0m\n\u001b[0;32m     78\u001b[0m \u001b[38;5;129m@cached\u001b[39m\n\u001b[0;32m     79\u001b[0m \u001b[38;5;28;01mdef\u001b[39;00m \u001b[38;5;21mto_dense\u001b[39m(\u001b[38;5;28mself\u001b[39m: Float[LinearOperator, \u001b[38;5;124m\"\u001b[39m\u001b[38;5;124m*batch M N\u001b[39m\u001b[38;5;124m\"\u001b[39m]) \u001b[38;5;241m-\u001b[39m\u001b[38;5;241m>\u001b[39m Float[Tensor, \u001b[38;5;124m\"\u001b[39m\u001b[38;5;124m*batch M N\u001b[39m\u001b[38;5;124m\"\u001b[39m]:\n\u001b[1;32m---> 80\u001b[0m     \u001b[38;5;28;01mreturn\u001b[39;00m (\u001b[38;5;28msum\u001b[39m(\u001b[43mlinear_op\u001b[49m\u001b[38;5;241;43m.\u001b[39;49m\u001b[43mto_dense\u001b[49m\u001b[43m(\u001b[49m\u001b[43m)\u001b[49m \u001b[38;5;28;01mfor\u001b[39;00m linear_op \u001b[38;5;129;01min\u001b[39;00m \u001b[38;5;28mself\u001b[39m\u001b[38;5;241m.\u001b[39mlinear_ops))\u001b[38;5;241m.\u001b[39mcontiguous()\n",
      "File \u001b[1;32mc:\\Users\\stan\\miniconda3\\envs\\researchTP\\Lib\\site-packages\\linear_operator\\utils\\memoize.py:59\u001b[0m, in \u001b[0;36m_cached.<locals>.g\u001b[1;34m(self, *args, **kwargs)\u001b[0m\n\u001b[0;32m     57\u001b[0m kwargs_pkl \u001b[38;5;241m=\u001b[39m pickle\u001b[38;5;241m.\u001b[39mdumps(kwargs)\n\u001b[0;32m     58\u001b[0m \u001b[38;5;28;01mif\u001b[39;00m \u001b[38;5;129;01mnot\u001b[39;00m _is_in_cache(\u001b[38;5;28mself\u001b[39m, cache_name, \u001b[38;5;241m*\u001b[39margs, kwargs_pkl\u001b[38;5;241m=\u001b[39mkwargs_pkl):\n\u001b[1;32m---> 59\u001b[0m     \u001b[38;5;28;01mreturn\u001b[39;00m _add_to_cache(\u001b[38;5;28mself\u001b[39m, cache_name, \u001b[43mmethod\u001b[49m\u001b[43m(\u001b[49m\u001b[38;5;28;43mself\u001b[39;49m\u001b[43m,\u001b[49m\u001b[43m \u001b[49m\u001b[38;5;241;43m*\u001b[39;49m\u001b[43margs\u001b[49m\u001b[43m,\u001b[49m\u001b[43m \u001b[49m\u001b[38;5;241;43m*\u001b[39;49m\u001b[38;5;241;43m*\u001b[39;49m\u001b[43mkwargs\u001b[49m\u001b[43m)\u001b[49m, \u001b[38;5;241m*\u001b[39margs, kwargs_pkl\u001b[38;5;241m=\u001b[39mkwargs_pkl)\n\u001b[0;32m     60\u001b[0m \u001b[38;5;28;01mreturn\u001b[39;00m _get_from_cache(\u001b[38;5;28mself\u001b[39m, cache_name, \u001b[38;5;241m*\u001b[39margs, kwargs_pkl\u001b[38;5;241m=\u001b[39mkwargs_pkl)\n",
      "File \u001b[1;32mc:\\Users\\stan\\miniconda3\\envs\\researchTP\\Lib\\site-packages\\linear_operator\\operators\\diag_linear_operator.py:137\u001b[0m, in \u001b[0;36mDiagLinearOperator.to_dense\u001b[1;34m(self)\u001b[0m\n\u001b[0;32m    135\u001b[0m \u001b[38;5;28;01mif\u001b[39;00m \u001b[38;5;28mself\u001b[39m\u001b[38;5;241m.\u001b[39m_diag\u001b[38;5;241m.\u001b[39mdim() \u001b[38;5;241m==\u001b[39m \u001b[38;5;241m0\u001b[39m:\n\u001b[0;32m    136\u001b[0m     \u001b[38;5;28;01mreturn\u001b[39;00m \u001b[38;5;28mself\u001b[39m\u001b[38;5;241m.\u001b[39m_diag\n\u001b[1;32m--> 137\u001b[0m \u001b[38;5;28;01mreturn\u001b[39;00m \u001b[43mtorch\u001b[49m\u001b[38;5;241;43m.\u001b[39;49m\u001b[43mdiag_embed\u001b[49m\u001b[43m(\u001b[49m\u001b[38;5;28;43mself\u001b[39;49m\u001b[38;5;241;43m.\u001b[39;49m\u001b[43m_diag\u001b[49m\u001b[43m)\u001b[49m\n",
      "\u001b[1;31mKeyboardInterrupt\u001b[0m: "
     ]
    }
   ],
   "source": [
    "for element in maxDatasets:\n",
    "\n",
    "    print(f\"Starting {element}\")\n",
    "\n",
    "    dataset = element\n",
    "    \n",
    "    data = pd.read_csv(f\"datasets\\{dataset}_dataset.csv\")\n",
    "\n",
    "    # merge rows that have the same output values\n",
    "    data = data.groupby(list(data.columns[:-1]), as_index=False).mean()\n",
    "    data = pd.DataFrame(data.reset_index())\n",
    "\n",
    "    # create tensors of the input and output data\n",
    "    train_x = torch.tensor(data.iloc[:, :-1].values)\n",
    "    train_y = torch.tensor(data.iloc[:, -1].values)\n",
    "\n",
    "    # We are using prededfined candidates, so we can scale at the start\n",
    "    TorchStd = TorchStandardScaler()\n",
    "    TorchStd.fit(train_x)\n",
    "\n",
    "    total_samples = len(train_y)\n",
    "\n",
    "    \n",
    "    set_seeds(42)\n",
    "\n",
    "    N = len(data)\n",
    "    print(f\"Number of samples: {N}\")\n",
    "    n_top = int(math.ceil(N * 0.05))\n",
    "\n",
    "    # find the top 15% of the samples\n",
    "    top_samples = data.nlargest(n_top, data.columns[-1], keep='first').iloc[:,-1:].values.tolist()\n",
    "    top_samples = [item for sublist in top_samples for item in sublist]\n",
    "    print(f\"Number of of top 5% samples: {len(top_samples)}\")\n",
    "\n",
    "    topEGP = [0]\n",
    "    topVGP = [0]\n",
    "\n",
    "    def TopSamplesAmnt(y, top_samples):\n",
    "        return len([i for i in y if i in top_samples]) / len(top_samples)\n",
    "\n",
    "    # Generate a list of seeds randomly picked from the range 0-1000 equal to the number of campaigns without repeating\n",
    "    seedList = random.sample(range(1000), campaigns)\n",
    "            \n",
    "    for i in trange(len(seedList)):\n",
    "        globals()['topSTP' + str(i)], globals()['iterationSTP' + str(i)] = runMaxSTP(seedList[i])\n",
    "\n",
    "    for i in trange(len(seedList)):\n",
    "        globals()['topEGP' + str(i)], globals()['iterationEGP' + str(i)] = runMaxEGP(seedList[i])\n",
    "\n",
    "    for i in trange(len(seedList)):\n",
    "        globals()['topVGP' + str(i)], globals()['iterationVGP' + str(i)] = runMaxVGP(seedList[i])\n",
    "\n",
    "        num_arrays = len(seedList)  \n",
    "    # Function to dynamically collect arrays\n",
    "    def collect_arrays(prefix, num_arrays):\n",
    "        arrays = []\n",
    "        for i in range(num_arrays):\n",
    "            array = globals().get(f'{prefix}{i}', None)\n",
    "            if array is not None:\n",
    "                arrays.append(array)\n",
    "        return arrays\n",
    "\n",
    "    # Function to pad arrays with the last element to match the maximum length\n",
    "    def pad_array(array, max_length):\n",
    "        return np.pad(array, (0, max_length - len(array)), 'constant', constant_values=array[-1])\n",
    "\n",
    "    def find_max_length(prefix, num_arrays):\n",
    "        arrays = collect_arrays(prefix, num_arrays)\n",
    "        return max(len(arr) for arr in arrays)\n",
    "\n",
    "    # Process arrays for each type\n",
    "    def process_arrays(prefix, num_arrays, max_length):\n",
    "        arrays = collect_arrays(prefix, num_arrays)\n",
    "        padded_arrays = [pad_array(arr, max_length) for arr in arrays]\n",
    "        stack = np.stack(padded_arrays)\n",
    "        mean_values = np.mean(stack, axis=0)\n",
    "        p5_values = np.percentile(stack, 5, axis=0)\n",
    "        p95_values = np.percentile(stack, 95, axis=0)\n",
    "        return mean_values, p5_values, p95_values\n",
    "\n",
    "    # Process arrays for STP, EGP, and VGP\n",
    "    max_length_STP = find_max_length('topSTP', num_arrays)\n",
    "    max_length_EGP = find_max_length('topEGP', num_arrays)\n",
    "    max_length_VGP = find_max_length('topVGP', num_arrays)\n",
    "    max_length = max(max_length_STP, max_length_EGP, max_length_VGP)\n",
    "    mean_topSTP, p5_topSTP, p95_topSTP = process_arrays('topSTP', num_arrays, max_length)\n",
    "    mean_topEGP, p5_topEGP, p95_topEGP = process_arrays('topEGP', num_arrays, max_length)\n",
    "    mean_topVGP, p5_topVGP, p95_topVGP = process_arrays('topVGP', num_arrays, max_length)\n",
    "\n",
    "    # Ensure that the number of iterations matches the longest array length\n",
    "    max_length = max(max_length_STP, max_length_EGP)\n",
    "    iterations = np.arange(1, max_length + 1)\n",
    "\n",
    "\n",
    "\n",
    "    sns.set(style=\"whitegrid\")\n",
    "    # Plot the mean and fill between the min and max for each type\n",
    "    plt.figure(figsize=(8, 6))\n",
    "\n",
    "    # Plot for STP\n",
    "    sns.lineplot(x=iterations, y=mean_topSTP, label='Mean STP', color='blue', linewidth=2)\n",
    "    plt.fill_between(iterations, p5_topSTP, p95_topSTP, color='blue', alpha=0.1)\n",
    "\n",
    "    # Plot for EGP\n",
    "    sns.lineplot(x=iterations, y=mean_topEGP, label='Mean EGP', color='orange', linewidth=2)\n",
    "    plt.fill_between(iterations, p5_topEGP, p95_topEGP, color='orange', alpha=0.1)\n",
    "\n",
    "    # Plot for VGP\n",
    "    plt.plot(iterations, mean_topVGP, label='Mean VGP', color='green', linewidth=2)\n",
    "    plt.fill_between(iterations, p5_topVGP, p95_topVGP, color='green', alpha=0.1)\n",
    "\n",
    "    plt.xlabel('Number of Iterations', fontsize=12)\n",
    "    plt.ylabel('Percentage of Top 5% Samples Found', fontsize=12)\n",
    "    plt.title(f'Average Percentage of Top Samples Found Over {num_arrays} Campaigns', fontsize=14)\n",
    "    plt.legend(fontsize=10, loc='upper left')\n",
    "\n",
    "    # Customize ticks\n",
    "    plt.xticks(fontsize=10)\n",
    "    plt.yticks(fontsize=10)\n",
    "\n",
    "    # Adjust axis limits and aspect ratio if needed\n",
    "    plt.ylim(0, 100)\n",
    "    plt.xlim(1, max_length)\n",
    "\n",
    "\n",
    "    # save the plot \n",
    "    plt.savefig(f\"{dataset}50Campaign50OptLoopMean\")\n",
    "    plt.show()\n"
   ]
  },
  {
   "cell_type": "markdown",
   "metadata": {},
   "source": [
    "# Minimum Tests"
   ]
  },
  {
   "cell_type": "code",
   "execution_count": null,
   "metadata": {},
   "outputs": [
    {
     "name": "stderr",
     "output_type": "stream",
     "text": [
      "<string>:5: SyntaxWarning: invalid escape sequence '\\{'\n",
      "<>:5: SyntaxWarning: invalid escape sequence '\\{'\n",
      "<string>:5: SyntaxWarning: invalid escape sequence '\\{'\n",
      "<>:5: SyntaxWarning: invalid escape sequence '\\{'\n",
      "C:\\Users\\stan\\AppData\\Local\\Temp\\ipykernel_171920\\3792497249.py:5: SyntaxWarning: invalid escape sequence '\\{'\n",
      "  data = pd.read_csv(f\"datasets\\{dataset}_dataset.csv\")\n"
     ]
    },
    {
     "name": "stdout",
     "output_type": "stream",
     "text": [
      "Dataset: AgNP\n"
     ]
    },
    {
     "name": "stderr",
     "output_type": "stream",
     "text": [
      "  0%|          | 0/2 [00:00<?, ?it/s]"
     ]
    },
    {
     "name": "stdout",
     "output_type": "stream",
     "text": [
      "Minimizing\n",
      "Seed: 6311\n",
      "Initial points: tensor([[8.8000e+01, 2.5099e+01, 3.8279e+01, 8.3884e-01, 1.4591e+00, 7.8680e+02],\n",
      "        [1.2700e+02, 3.0500e+01, 3.5000e+01, 2.0500e+01, 5.0000e-01, 4.0000e+02],\n",
      "        [4.7000e+01, 1.8810e+01, 1.7494e+01, 3.9998e+00, 3.9998e+00, 8.0554e+02],\n",
      "        [2.6000e+01, 1.4099e+01, 2.3002e+01, 1.4099e+01, 1.4099e+01, 5.4700e+02],\n",
      "        [1.4600e+02, 3.4501e+01, 1.2000e+01, 2.6501e+01, 1.2501e+01, 7.5000e+02]],\n",
      "       dtype=torch.float64)\n"
     ]
    },
    {
     "name": "stderr",
     "output_type": "stream",
     "text": [
      " 50%|█████     | 1/2 [01:08<01:08, 68.08s/it]"
     ]
    },
    {
     "name": "stdout",
     "output_type": "stream",
     "text": [
      "Iterations 156\n",
      "Minimizing\n",
      "Seed: 6890\n",
      "Initial points: tensor([[5.8000e+01, 1.9999e+01, 1.2488e+01, 3.9998e+00, 3.9998e+00, 8.1454e+02],\n",
      "        [6.5000e+01, 2.0000e+01, 2.5365e+01, 5.8486e+00, 3.9989e+00, 8.0772e+02],\n",
      "        [3.3000e+01, 1.5879e+01, 3.8914e+01, 1.2686e+01, 4.4744e+00, 2.1992e+02],\n",
      "        [8.6000e+01, 2.3590e+01, 2.3361e+01, 1.4091e+00, 8.9312e+00, 8.1042e+02],\n",
      "        [1.2800e+02, 3.0500e+01, 3.8000e+01, 5.0000e-01, 6.5000e+00, 9.0000e+02]],\n",
      "       dtype=torch.float64)\n"
     ]
    },
    {
     "name": "stderr",
     "output_type": "stream",
     "text": [
      "100%|██████████| 2/2 [02:18<00:00, 69.05s/it]\n"
     ]
    },
    {
     "name": "stdout",
     "output_type": "stream",
     "text": [
      "Maximum number of iterations exceeded, breaking loop.\n"
     ]
    },
    {
     "name": "stderr",
     "output_type": "stream",
     "text": [
      "  0%|          | 0/2 [00:00<?, ?it/s]"
     ]
    },
    {
     "name": "stdout",
     "output_type": "stream",
     "text": [
      "Seed: 6311\n",
      "Initial points: tensor([[8.8000e+01, 2.5099e+01, 3.8279e+01, 8.3884e-01, 1.4591e+00, 7.8680e+02],\n",
      "        [1.2700e+02, 3.0500e+01, 3.5000e+01, 2.0500e+01, 5.0000e-01, 4.0000e+02],\n",
      "        [4.7000e+01, 1.8810e+01, 1.7494e+01, 3.9998e+00, 3.9998e+00, 8.0554e+02],\n",
      "        [2.6000e+01, 1.4099e+01, 2.3002e+01, 1.4099e+01, 1.4099e+01, 5.4700e+02],\n",
      "        [1.4600e+02, 3.4501e+01, 1.2000e+01, 2.6501e+01, 1.2501e+01, 7.5000e+02]],\n",
      "       dtype=torch.float64)\n"
     ]
    },
    {
     "name": "stderr",
     "output_type": "stream",
     "text": [
      " 50%|█████     | 1/2 [00:29<00:29, 29.59s/it]"
     ]
    },
    {
     "name": "stdout",
     "output_type": "stream",
     "text": [
      "Iterations 146\n",
      "Seed: 6890\n",
      "Initial points: tensor([[5.8000e+01, 1.9999e+01, 1.2488e+01, 3.9998e+00, 3.9998e+00, 8.1454e+02],\n",
      "        [6.5000e+01, 2.0000e+01, 2.5365e+01, 5.8486e+00, 3.9989e+00, 8.0772e+02],\n",
      "        [3.3000e+01, 1.5879e+01, 3.8914e+01, 1.2686e+01, 4.4744e+00, 2.1992e+02],\n",
      "        [8.6000e+01, 2.3590e+01, 2.3361e+01, 1.4091e+00, 8.9312e+00, 8.1042e+02],\n",
      "        [1.2800e+02, 3.0500e+01, 3.8000e+01, 5.0000e-01, 6.5000e+00, 9.0000e+02]],\n",
      "       dtype=torch.float64)\n"
     ]
    },
    {
     "name": "stderr",
     "output_type": "stream",
     "text": [
      "100%|██████████| 2/2 [01:04<00:00, 32.12s/it]\n"
     ]
    },
    {
     "name": "stdout",
     "output_type": "stream",
     "text": [
      "Maximum number of iterations exceeded, breaking loop.\n"
     ]
    },
    {
     "name": "stderr",
     "output_type": "stream",
     "text": [
      "  0%|          | 0/2 [00:00<?, ?it/s]"
     ]
    },
    {
     "name": "stdout",
     "output_type": "stream",
     "text": [
      "Seed: 6311\n",
      "Initial points: tensor([[8.8000e+01, 2.5099e+01, 3.8279e+01, 8.3884e-01, 1.4591e+00, 7.8680e+02],\n",
      "        [1.2700e+02, 3.0500e+01, 3.5000e+01, 2.0500e+01, 5.0000e-01, 4.0000e+02],\n",
      "        [4.7000e+01, 1.8810e+01, 1.7494e+01, 3.9998e+00, 3.9998e+00, 8.0554e+02],\n",
      "        [2.6000e+01, 1.4099e+01, 2.3002e+01, 1.4099e+01, 1.4099e+01, 5.4700e+02],\n",
      "        [1.4600e+02, 3.4501e+01, 1.2000e+01, 2.6501e+01, 1.2501e+01, 7.5000e+02]],\n",
      "       dtype=torch.float64)\n"
     ]
    },
    {
     "name": "stderr",
     "output_type": "stream",
     "text": [
      " 50%|█████     | 1/2 [00:20<00:20, 20.28s/it]"
     ]
    },
    {
     "name": "stdout",
     "output_type": "stream",
     "text": [
      "Iterations 99\n",
      "Seed: 6890\n",
      "Initial points: tensor([[5.8000e+01, 1.9999e+01, 1.2488e+01, 3.9998e+00, 3.9998e+00, 8.1454e+02],\n",
      "        [6.5000e+01, 2.0000e+01, 2.5365e+01, 5.8486e+00, 3.9989e+00, 8.0772e+02],\n",
      "        [3.3000e+01, 1.5879e+01, 3.8914e+01, 1.2686e+01, 4.4744e+00, 2.1992e+02],\n",
      "        [8.6000e+01, 2.3590e+01, 2.3361e+01, 1.4091e+00, 8.9312e+00, 8.1042e+02],\n",
      "        [1.2800e+02, 3.0500e+01, 3.8000e+01, 5.0000e-01, 6.5000e+00, 9.0000e+02]],\n",
      "       dtype=torch.float64)\n"
     ]
    },
    {
     "name": "stderr",
     "output_type": "stream",
     "text": [
      "100%|██████████| 2/2 [00:57<00:00, 28.63s/it]"
     ]
    },
    {
     "name": "stdout",
     "output_type": "stream",
     "text": [
      "Maximum number of iterations exceeded, breaking loop.\n"
     ]
    },
    {
     "name": "stderr",
     "output_type": "stream",
     "text": [
      "\n"
     ]
    },
    {
     "data": {
      "image/png": "[encoded data removed]",
      "text/plain": [
       "<Figure size 800x600 with 1 Axes>"
      ]
     },
     "metadata": {},
     "output_type": "display_data"
    },
    {
     "name": "stdout",
     "output_type": "stream",
     "text": [
      "Dataset: Perovskite\n"
     ]
    },
    {
     "name": "stderr",
     "output_type": "stream",
     "text": [
      "  0%|          | 0/2 [00:00<?, ?it/s]"
     ]
    },
    {
     "name": "stdout",
     "output_type": "stream",
     "text": [
      "Minimizing\n",
      "Seed: 6311\n",
      "Initial points: tensor([[8.0000e+01, 7.5000e-01, 2.5000e-01, 0.0000e+00],\n",
      "        [7.7000e+01, 7.1000e-01, 1.0000e-02, 2.8000e-01],\n",
      "        [4.3000e+01, 2.6000e-01, 3.8000e-01, 3.6000e-01],\n",
      "        [6.8000e+01, 5.0000e-01, 5.0000e-01, 0.0000e+00],\n",
      "        [5.6000e+01, 3.4000e-01, 6.4000e-01, 2.0000e-02]], dtype=torch.float64)\n"
     ]
    },
    {
     "name": "stderr",
     "output_type": "stream",
     "text": [
      " 50%|█████     | 1/2 [00:24<00:24, 24.72s/it]"
     ]
    },
    {
     "name": "stdout",
     "output_type": "stream",
     "text": [
      "Iterations 83\n",
      "Minimizing\n",
      "Seed: 6890\n",
      "Initial points: tensor([[2.8000e+01, 1.9000e-01, 8.1000e-01, 0.0000e+00],\n",
      "        [3.0000e+01, 2.0000e-01, 8.0000e-01, 0.0000e+00],\n",
      "        [4.7000e+01, 2.8000e-01, 3.7000e-01, 3.5000e-01],\n",
      "        [9.0000e+00, 9.0000e-02, 9.1000e-01, 0.0000e+00],\n",
      "        [8.0000e+00, 9.0000e-02, 8.7000e-01, 4.0000e-02]], dtype=torch.float64)\n"
     ]
    },
    {
     "name": "stderr",
     "output_type": "stream",
     "text": [
      "100%|██████████| 2/2 [00:43<00:00, 21.63s/it]\n"
     ]
    },
    {
     "name": "stdout",
     "output_type": "stream",
     "text": [
      "Iterations 64\n"
     ]
    },
    {
     "name": "stderr",
     "output_type": "stream",
     "text": [
      "  0%|          | 0/2 [00:00<?, ?it/s]"
     ]
    },
    {
     "name": "stdout",
     "output_type": "stream",
     "text": [
      "Seed: 6311\n",
      "Initial points: tensor([[8.0000e+01, 7.5000e-01, 2.5000e-01, 0.0000e+00],\n",
      "        [7.7000e+01, 7.1000e-01, 1.0000e-02, 2.8000e-01],\n",
      "        [4.3000e+01, 2.6000e-01, 3.8000e-01, 3.6000e-01],\n",
      "        [6.8000e+01, 5.0000e-01, 5.0000e-01, 0.0000e+00],\n",
      "        [5.6000e+01, 3.4000e-01, 6.4000e-01, 2.0000e-02]], dtype=torch.float64)\n"
     ]
    },
    {
     "name": "stderr",
     "output_type": "stream",
     "text": [
      " 50%|█████     | 1/2 [00:07<00:07,  7.90s/it]"
     ]
    },
    {
     "name": "stdout",
     "output_type": "stream",
     "text": [
      "Iterations 60\n",
      "Seed: 6890\n",
      "Initial points: tensor([[2.8000e+01, 1.9000e-01, 8.1000e-01, 0.0000e+00],\n",
      "        [3.0000e+01, 2.0000e-01, 8.0000e-01, 0.0000e+00],\n",
      "        [4.7000e+01, 2.8000e-01, 3.7000e-01, 3.5000e-01],\n",
      "        [9.0000e+00, 9.0000e-02, 9.1000e-01, 0.0000e+00],\n",
      "        [8.0000e+00, 9.0000e-02, 8.7000e-01, 4.0000e-02]], dtype=torch.float64)\n"
     ]
    },
    {
     "name": "stderr",
     "output_type": "stream",
     "text": [
      "100%|██████████| 2/2 [00:17<00:00,  8.72s/it]\n"
     ]
    },
    {
     "name": "stdout",
     "output_type": "stream",
     "text": [
      "Iterations 72\n"
     ]
    },
    {
     "name": "stderr",
     "output_type": "stream",
     "text": [
      "  0%|          | 0/2 [00:00<?, ?it/s]"
     ]
    },
    {
     "name": "stdout",
     "output_type": "stream",
     "text": [
      "Seed: 6311\n",
      "Initial points: tensor([[8.0000e+01, 7.5000e-01, 2.5000e-01, 0.0000e+00],\n",
      "        [7.7000e+01, 7.1000e-01, 1.0000e-02, 2.8000e-01],\n",
      "        [4.3000e+01, 2.6000e-01, 3.8000e-01, 3.6000e-01],\n",
      "        [6.8000e+01, 5.0000e-01, 5.0000e-01, 0.0000e+00],\n",
      "        [5.6000e+01, 3.4000e-01, 6.4000e-01, 2.0000e-02]], dtype=torch.float64)\n"
     ]
    },
    {
     "name": "stderr",
     "output_type": "stream",
     "text": [
      " 50%|█████     | 1/2 [00:12<00:12, 12.30s/it]"
     ]
    },
    {
     "name": "stdout",
     "output_type": "stream",
     "text": [
      "Iterations 64\n",
      "Seed: 6890\n",
      "Initial points: tensor([[2.8000e+01, 1.9000e-01, 8.1000e-01, 0.0000e+00],\n",
      "        [3.0000e+01, 2.0000e-01, 8.0000e-01, 0.0000e+00],\n",
      "        [4.7000e+01, 2.8000e-01, 3.7000e-01, 3.5000e-01],\n",
      "        [9.0000e+00, 9.0000e-02, 9.1000e-01, 0.0000e+00],\n",
      "        [8.0000e+00, 9.0000e-02, 8.7000e-01, 4.0000e-02]], dtype=torch.float64)\n"
     ]
    },
    {
     "name": "stderr",
     "output_type": "stream",
     "text": [
      "100%|██████████| 2/2 [00:25<00:00, 12.70s/it]"
     ]
    },
    {
     "name": "stdout",
     "output_type": "stream",
     "text": [
      "Iterations 68\n"
     ]
    },
    {
     "name": "stderr",
     "output_type": "stream",
     "text": [
      "\n"
     ]
    },
    {
     "data": {
      "image/png": "[encoded data removed]",
      "text/plain": [
       "<Figure size 800x600 with 1 Axes>"
      ]
     },
     "metadata": {},
     "output_type": "display_data"
    }
   ],
   "source": [
    "for element in minDatasets:\n",
    "\n",
    "    print(f\"Dataset: {element}\")\n",
    "    dataset = element\n",
    "    data = pd.read_csv(f\"datasets\\{dataset}_dataset.csv\")\n",
    "\n",
    "    # merge rows that have the same output values\n",
    "    data = data.groupby(list(data.columns[:-1]), as_index=False).mean()\n",
    "    data = pd.DataFrame(data.reset_index())\n",
    "\n",
    "    # create tensors of the input and output data\n",
    "    train_x = torch.tensor(data.iloc[:, :-1].values)\n",
    "    train_y = torch.tensor(data.iloc[:, -1].values)\n",
    "\n",
    "    # We are using prededfined candidates, so we can scale at the start\n",
    "    TorchStd = TorchStandardScaler()\n",
    "    TorchStd.fit(train_x)\n",
    "\n",
    "    total_samples = len(train_y)\n",
    "\n",
    "    set_seeds(0)\n",
    "\n",
    "    N = len(data)\n",
    "    n_top = int(math.ceil(N * 0.05))\n",
    "\n",
    "    # find the top 15% of the samples\n",
    "    top_samples = data.nsmallest(n_top, data.columns[-1], keep='first').iloc[:,-1:].values.tolist()\n",
    "    top_samples = [item for sublist in top_samples for item in sublist]\n",
    "\n",
    "    def TopSamplesAmnt(y, top_samples):\n",
    "        return len([i for i in y if i in top_samples]) / len(top_samples)\n",
    "\n",
    "    # Generate a list of seeds randomly picked from the range 0-1000 equal to the number of campaigns without repeating\n",
    "    seedList = random.sample(range(10000), campaigns)\n",
    "            \n",
    "    for i in trange(len(seedList)):\n",
    "        globals()['topSTP' + str(i)], globals()['iterationSTP' + str(i)] = runMinSTP(seedList[i])\n",
    "\n",
    "    for i in trange(len(seedList)):\n",
    "        globals()['topEGP' + str(i)], globals()['iterationEGP' + str(i)] = runMinEGP(seedList[i])\n",
    "\n",
    "    for i in trange(len(seedList)):\n",
    "        globals()['topVGP' + str(i)], globals()['iterationVGP' + str(i)] = runMinVGP(seedList[i])\n",
    "\n",
    "    num_arrays = len(seedList)  \n",
    "    # Function to dynamically collect arrays\n",
    "    def collect_arrays(prefix, num_arrays):\n",
    "        arrays = []\n",
    "        for i in range(num_arrays):\n",
    "            array = globals().get(f'{prefix}{i}', None)\n",
    "            if array is not None:\n",
    "                arrays.append(array)\n",
    "        return arrays\n",
    "\n",
    "    # Function to pad arrays with the last element to match the maximum length\n",
    "    def pad_array(array, max_length):\n",
    "        return np.pad(array, (0, max_length - len(array)), 'constant', constant_values=array[-1])\n",
    "\n",
    "    def find_max_length(prefix, num_arrays):\n",
    "        arrays = collect_arrays(prefix, num_arrays)\n",
    "        return max(len(arr) for arr in arrays)\n",
    "\n",
    "    # Process arrays for each type\n",
    "    def process_arrays(prefix, num_arrays, max_length):\n",
    "        arrays = collect_arrays(prefix, num_arrays)\n",
    "        padded_arrays = [pad_array(arr, max_length) for arr in arrays]\n",
    "        stack = np.stack(padded_arrays)\n",
    "        mean_values = np.mean(stack, axis=0)\n",
    "        p5_values = np.percentile(stack, 5, axis=0)\n",
    "        p95_values = np.percentile(stack, 95, axis=0)\n",
    "        return mean_values, p5_values, p95_values\n",
    "\n",
    "    # Process arrays for STP, EGP, and VGP\n",
    "    max_length_STP = find_max_length('topSTP', num_arrays)\n",
    "    max_length_EGP = find_max_length('topEGP', num_arrays)\n",
    "    max_length_VGP = find_max_length('topVGP', num_arrays)\n",
    "    max_length = max(max_length_STP, max_length_EGP, max_length_VGP)\n",
    "    mean_topSTP, p5_topSTP, p95_topSTP = process_arrays('topSTP', num_arrays, max_length)\n",
    "    mean_topEGP, p5_topEGP, p95_topEGP = process_arrays('topEGP', num_arrays, max_length)\n",
    "    mean_topVGP, p5_topVGP, p95_topVGP = process_arrays('topVGP', num_arrays, max_length)\n",
    "\n",
    "    # Ensure that the number of iterations matches the longest array length\n",
    "    max_length = max(max_length_STP, max_length_EGP)\n",
    "    iterations = np.arange(1, max_length + 1)\n",
    "\n",
    "\n",
    "\n",
    "    sns.set(style=\"whitegrid\")\n",
    "    # Plot the mean and fill between the min and max for each type\n",
    "    plt.figure(figsize=(8, 6))\n",
    "\n",
    "    # Plot for STP\n",
    "    sns.lineplot(x=iterations, y=mean_topSTP, label='Mean STP', color='blue', linewidth=2)\n",
    "    plt.fill_between(iterations, p5_topSTP, p95_topSTP, color='blue', alpha=0.1)\n",
    "\n",
    "    # Plot for EGP\n",
    "    sns.lineplot(x=iterations, y=mean_topEGP, label='Mean EGP', color='orange', linewidth=2)\n",
    "    plt.fill_between(iterations, p5_topEGP, p95_topEGP, color='orange', alpha=0.1)\n",
    "\n",
    "    # Plot for VGP\n",
    "    plt.plot(iterations, mean_topVGP, label='Mean VGP', color='green', linewidth=2)\n",
    "    plt.fill_between(iterations, p5_topVGP, p95_topVGP, color='green', alpha=0.1)\n",
    "\n",
    "    plt.xlabel('Number of Iterations', fontsize=12)\n",
    "    plt.ylabel('Percentage of Top 5% Samples Found', fontsize=12)\n",
    "    plt.title(f'Average Percentage of Top Samples Found Over {num_arrays} Campaigns', fontsize=14)\n",
    "    plt.legend(fontsize=10, loc='upper left')\n",
    "\n",
    "    # Customize ticks\n",
    "    plt.xticks(fontsize=10)\n",
    "    plt.yticks(fontsize=10)\n",
    "\n",
    "    # Adjust axis limits and aspect ratio if needed\n",
    "    plt.ylim(0, 100)\n",
    "    plt.xlim(1, max_length)\n",
    "\n",
    "\n",
    "    # save the plot \n",
    "    plt.savefig(f\"{dataset}50Campaign50OptLoopMean\")\n",
    "    plt.show()"
   ]
  }
 ],
 "metadata": {
  "kernelspec": {
   "display_name": "research",
   "language": "python",
   "name": "python3"
  },
  "language_info": {
   "codemirror_mode": {
    "name": "ipython",
    "version": 3
   },
   "file_extension": ".py",
   "mimetype": "text/x-python",
   "name": "python",
   "nbconvert_exporter": "python",
   "pygments_lexer": "ipython3",
   "version": "3.12.3"
  }
 },
 "nbformat": 4,
 "nbformat_minor": 2
}
