{
 "cells": [
  {
   "cell_type": "markdown",
   "metadata": {},
   "source": [
    "## Setup"
   ]
  },
  {
   "cell_type": "markdown",
   "metadata": {},
   "source": [
    "### Import Libraries, Set up device, Set up seeds"
   ]
  },
  {
   "cell_type": "code",
   "execution_count": 267,
   "metadata": {},
   "outputs": [
    {
     "name": "stdout",
     "output_type": "stream",
     "text": [
      "CUDA device found, setting as device.\n"
     ]
    }
   ],
   "source": [
    "import numpy as np\n",
    "import matplotlib.pyplot as plt\n",
    "import pandas as pd\n",
    "import torch\n",
    "import gpytorch\n",
    "import math\n",
    "import seaborn as sns\n",
    "import random\n",
    "from tqdm import trange\n",
    "from collections import Counter\n",
    "from scipy.interpolate import splrep, interp1d\n",
    "from sklearn import preprocessing\n",
    "from botorch.models import SingleTaskGP\n",
    "from botorch.fit import fit_gpytorch_mll\n",
    "from botorch.utils import standardize\n",
    "from gpytorch.likelihoods import GaussianLikelihood, StudentTLikelihood\n",
    "from gpytorch.models import ApproximateGP\n",
    "from gpytorch.variational import VariationalStrategy, CholeskyVariationalDistribution\n",
    "from gpytorch.kernels import ScaleKernel, RBFKernel\n",
    "from gpytorch.means import ConstantMean\n",
    "from gpytorch.mlls import ExactMarginalLogLikelihood, VariationalELBO\n",
    "import matplotlib.ticker as ticker\n",
    "import matplotlib.tri as tri\n",
    "import matplotlib.font_manager as font_manager\n",
    "\n",
    "\n",
    "# check for MPS and CUDA device availability\n",
    "if torch.backends.mps.is_available():\n",
    "    device = torch.device(\"mps\")\n",
    "    print(\"MPS device found, setting as device.\")\n",
    "elif torch.cuda.is_available():\n",
    "    device = torch.device(\"cuda\")\n",
    "    print(\"CUDA device found, setting as device.\")\n",
    "else:\n",
    "    device = torch.device(\"cpu\")\n",
    "    print(\"Neither MPS nor CUDA device found. Using default device (CPU).\")\n",
    "\n",
    "\n",
    "# set the seed for all random use\n",
    "def set_seeds(seed):\n",
    "    np.random.seed(seed)\n",
    "    torch.manual_seed(seed)\n",
    "    torch.cuda.manual_seed_all(seed)\n",
    "    random.seed(seed)\n",
    "\n",
    "# Initial setup\n",
    "training_iterations = 50\n",
    "num_initial_points = 5\n",
    "num_new_samples_per_iteration = 1  # Change this to your desired number of new samples per iteration"
   ]
  },
  {
   "cell_type": "markdown",
   "metadata": {},
   "source": [
    "### Student-T Process Model"
   ]
  },
  {
   "cell_type": "code",
   "execution_count": 268,
   "metadata": {},
   "outputs": [],
   "source": [
    "class STP(gpytorch.models.ApproximateGP):\n",
    "    def __init__(self, inducing_points):\n",
    "        variational_distribution = gpytorch.variational.CholeskyVariationalDistribution(inducing_points.size(0))\n",
    "        variational_strategy = gpytorch.variational.VariationalStrategy(\n",
    "            self, inducing_points, variational_distribution, learn_inducing_locations=False\n",
    "        )\n",
    "        super().__init__(variational_strategy)\n",
    "        self.mean_module = gpytorch.means.ConstantMean()\n",
    "        self.covar_module = gpytorch.kernels.ScaleKernel(gpytorch.kernels.RBFKernel())\n",
    "\n",
    "    def forward(self, x):\n",
    "        mean_x = self.mean_module(x)\n",
    "        covar_x = self.covar_module(x)\n",
    "\n",
    "        return gpytorch.distributions.MultivariateNormal(mean_x, covar_x)"
   ]
  },
  {
   "cell_type": "markdown",
   "metadata": {},
   "source": [
    "### Exact Gaussian Process Model"
   ]
  },
  {
   "cell_type": "code",
   "execution_count": 269,
   "metadata": {},
   "outputs": [],
   "source": [
    "class ExactGP(gpytorch.models.ExactGP):\n",
    "    def __init__(self, x_train, y_train, likelihood):\n",
    "        # build the model using the ExactGP model from gpytorch\n",
    "        super(ExactGP, self).__init__(x_train, y_train, likelihood)\n",
    "\n",
    "        # use a constant mean, this value can be learned from the dataset\n",
    "        self.mean_module = gpytorch.means.ConstantMean()\n",
    "\n",
    "        # automatically determine the number of dimensions for the ARD kernel\n",
    "        num_dimensions = x_train.shape[1]\n",
    "\n",
    "        # use a scaled Matern kernel, the ScaleKernel allows the kernel to learn a scale factor for the dataset\n",
    "        self.covar_module = gpytorch.kernels.ScaleKernel(\n",
    "            gpytorch.kernels.MaternKernel(nu=2.5,ard_num_dims=num_dimensions))\n",
    "            \n",
    "        # set the number of outputs \n",
    "        self.num_outputs = 1\n",
    "\n",
    "    def forward(self, x):\n",
    "        # forward pass of the model\n",
    "\n",
    "        # compute the mean and covariance of the model \n",
    "        mean_x = self.mean_module(x)\n",
    "        covar_x = self.covar_module(x)\n",
    "\n",
    "        # return the MultivariateNormal distribution of the mean and covariance \n",
    "        return gpytorch.distributions.MultivariateNormal(mean_x, covar_x)\n",
    "\n",
    "    "
   ]
  },
  {
   "cell_type": "markdown",
   "metadata": {},
   "source": [
    "### Variational Gaussian Process Model"
   ]
  },
  {
   "cell_type": "code",
   "execution_count": 270,
   "metadata": {},
   "outputs": [],
   "source": [
    "class VariationalGP(ApproximateGP):\n",
    "    def __init__(self, inducing_points):\n",
    "        variational_distribution = CholeskyVariationalDistribution(inducing_points.size(0))\n",
    "        variational_strategy = VariationalStrategy(self, inducing_points, variational_distribution, learn_inducing_locations=True)\n",
    "        super(VariationalGP, self).__init__(variational_strategy)\n",
    "        self.mean_module = ConstantMean()\n",
    "        self.covar_module = ScaleKernel(RBFKernel(ard_num_dims=inducing_points.size(1)))\n",
    "\n",
    "    def forward(self, x):\n",
    "        mean_x = self.mean_module(x)\n",
    "        covar_x = self.covar_module(x)\n",
    "        return gpytorch.distributions.MultivariateNormal(mean_x, covar_x)"
   ]
  },
  {
   "cell_type": "markdown",
   "metadata": {},
   "source": [
    "### Standard Scalars"
   ]
  },
  {
   "cell_type": "code",
   "execution_count": 271,
   "metadata": {},
   "outputs": [],
   "source": [
    "class TorchStandardScaler:\n",
    "    def fit(self, x):\n",
    "        x = x.clone()\n",
    "        # calculate mean and std of the tensor\n",
    "        self.mean = x.mean(0, keepdim=True)\n",
    "        self.std = x.std(0, unbiased=False, keepdim=True)\n",
    "    def transform(self, x):\n",
    "        x = x.clone()\n",
    "        # standardize the tensor\n",
    "        x -= self.mean\n",
    "        x /= (self.std + 1e-10)\n",
    "        return x\n",
    "    def fit_transform(self, x):\n",
    "        # copy the tensor as to not modify the original \n",
    "        x = x.clone()\n",
    "        # calculate mean and std of the tensor\n",
    "        self.mean = x.mean(0, keepdim=True)\n",
    "        self.std = x.std(0, unbiased=False, keepdim=True)\n",
    "        # standardize the tensor\n",
    "        x -= self.mean\n",
    "        x /= (self.std + 1e-10)\n",
    "        return x\n",
    "    \n",
    "class TorchNormalizer:\n",
    "    def fit(self, x):\n",
    "        # calculate the maximum value and the minimum value of the tensor\n",
    "        self.max = torch.max(x, dim=0).values\n",
    "        self.min = torch.min(x, dim=0).values\n",
    "\n",
    "    def transform(self, x):\n",
    "        # normalize the tensor\n",
    "        return (x.clone() - self.min) / (self.max - self.min)\n",
    "\n",
    "    def fit_transform(self, x):\n",
    "        # calculate the maximum value and the minimum value of the tensor\n",
    "        self.max = torch.max(x, dim=0).values\n",
    "        self.min = torch.min(x, dim=0).values\n",
    "        # normalize the tensor\n",
    "        return (x.clone() - self.min) / (self.max - self.min)"
   ]
  },
  {
   "cell_type": "markdown",
   "metadata": {},
   "source": [
    "### Acquisition Functions"
   ]
  },
  {
   "cell_type": "code",
   "execution_count": 272,
   "metadata": {},
   "outputs": [],
   "source": [
    "# Upper Confidence Bound\n",
    "def UCB(mean, std, beta):\n",
    "    return mean + beta * std\n",
    "\n",
    "\n",
    "# Expected Improvement\n",
    "def EI(mean, std, best_observed):\n",
    "    z = (mean - best_observed) / std\n",
    "    return (mean - best_observed) * torch.distributions.Normal(0, 1).cdf(z) + std * torch.distributions.Normal(0, 1).log_prob(z)"
   ]
  },
  {
   "cell_type": "markdown",
   "metadata": {},
   "source": [
    "### Randomly initialize training data with 10 points\n"
   ]
  },
  {
   "cell_type": "code",
   "execution_count": 273,
   "metadata": {},
   "outputs": [],
   "source": [
    "dataset = 'Perovskite'\n",
    "data = pd.read_csv(f\"datasets/{dataset}_dataset.csv\")\n",
    "\n",
    "# merge rows that have the same output values\n",
    "data = data.groupby(list(data.columns[:-1]), as_index=False).mean()\n",
    "data = pd.DataFrame(data.reset_index())\n",
    "\n",
    "# create tensors of the input and output data\n",
    "train_x = torch.tensor(data.iloc[:, :-1].values)\n",
    "train_y = torch.tensor(data.iloc[:, -1].values)\n",
    "\n",
    "# We are using prededfined candidates, so we can scale at the start\n",
    "TorchStd = TorchStandardScaler()\n",
    "TorchStd.fit(train_x)\n",
    "\n",
    "total_samples = len(train_y)\n"
   ]
  },
  {
   "cell_type": "markdown",
   "metadata": {},
   "source": [
    "### Performance Comparisons Setup"
   ]
  },
  {
   "cell_type": "code",
   "execution_count": 274,
   "metadata": {},
   "outputs": [
    {
     "name": "stdout",
     "output_type": "stream",
     "text": [
      "Number of samples: 94\n",
      "Number of of top 5% samples: 5\n",
      "10\n",
      "Seed: 654\n",
      "Seed: 114\n",
      "Seed: 25\n",
      "Seed: 759\n",
      "Seed: 281\n",
      "Seed: 250\n",
      "Seed: 228\n",
      "Seed: 142\n",
      "Seed: 754\n",
      "Seed: 104\n"
     ]
    }
   ],
   "source": [
    "import numpy as np\n",
    "import torch\n",
    "\n",
    "set_seeds(42)\n",
    "\n",
    "N = len(data)\n",
    "print(f\"Number of samples: {N}\")\n",
    "n_top = int(math.ceil(N * 0.05))\n",
    "\n",
    "# find the top 15% of the samples\n",
    "top_samples = data.nsmallest(n_top, data.columns[-1], keep='first').iloc[:,-1:].values.tolist()\n",
    "top_samples = [item for sublist in top_samples for item in sublist]\n",
    "print(f\"Number of of top 5% samples: {len(top_samples)}\")\n",
    "\n",
    "topEGP = [0]\n",
    "topVGP = [0]\n",
    "\n",
    "def TopSamplesAmnt(y, top_samples):\n",
    "    return len([i for i in y if i in top_samples]) / len(top_samples)\n",
    "\n",
    "campaigns = 10\n",
    "\n",
    "# Generate a list of seeds randomly picked from the range 0-1000 equal to the number of campaigns without repeating\n",
    "seedList = random.sample(range(1000), campaigns)\n",
    "\n",
    "print(len(seedList))\n",
    "for i in range(len(seedList)):\n",
    "    print(f\"Seed: {seedList[i]}\")"
   ]
  },
  {
   "cell_type": "markdown",
   "metadata": {},
   "source": [
    "## Bayesian Optimization Loop"
   ]
  },
  {
   "cell_type": "markdown",
   "metadata": {},
   "source": [
    "### Student-T Process Optimization"
   ]
  },
  {
   "cell_type": "code",
   "execution_count": 275,
   "metadata": {},
   "outputs": [
    {
     "name": "stdout",
     "output_type": "stream",
     "text": [
      "Seed: 654\n",
      "Initial points: tensor([[42.0000,  0.2600,  0.3700,  0.3600],\n",
      "        [41.0000,  0.2500,  0.7500,  0.0000],\n",
      "        [18.0000,  0.1600,  0.7000,  0.1400],\n",
      "        [28.0000,  0.1900,  0.8100,  0.0000],\n",
      "        [68.0000,  0.5000,  0.5000,  0.0000]], dtype=torch.float64)\n",
      "Seed: 114\n",
      "Initial points: tensor([[6.8000e+01, 5.0000e-01, 5.0000e-01, 0.0000e+00],\n",
      "        [8.9000e+01, 8.8000e-01, 0.0000e+00, 1.2000e-01],\n",
      "        [5.2000e+01, 3.1000e-01, 3.6000e-01, 3.3000e-01],\n",
      "        [6.0000e+00, 6.0000e-02, 8.5000e-01, 9.0000e-02],\n",
      "        [5.1000e+01, 3.1000e-01, 3.0000e-01, 3.9000e-01]], dtype=torch.float64)\n",
      "Seed: 25\n",
      "Initial points: tensor([[7.6000e+01, 7.0000e-01, 2.9000e-01, 1.0000e-02],\n",
      "        [3.0000e+00, 0.0000e+00, 7.5000e-01, 2.5000e-01],\n",
      "        [9.2000e+01, 9.6000e-01, 4.0000e-02, 0.0000e+00],\n",
      "        [3.2000e+01, 2.2000e-01, 7.8000e-01, 0.0000e+00],\n",
      "        [8.1000e+01, 7.6000e-01, 2.4000e-01, 0.0000e+00]], dtype=torch.float64)\n",
      "Seed: 759\n",
      "Initial points: tensor([[7.6000e+01, 7.0000e-01, 2.9000e-01, 1.0000e-02],\n",
      "        [3.1000e+01, 2.2000e-01, 7.2000e-01, 6.0000e-02],\n",
      "        [7.9000e+01, 7.5000e-01, 0.0000e+00, 2.5000e-01],\n",
      "        [7.8000e+01, 7.1000e-01, 6.0000e-02, 2.3000e-01],\n",
      "        [1.2000e+01, 1.2000e-01, 7.7000e-01, 1.1000e-01]], dtype=torch.float64)\n",
      "Seed: 281\n",
      "Initial points: tensor([[1.0000e+01, 1.0000e-01, 8.9000e-01, 1.0000e-02],\n",
      "        [0.0000e+00, 0.0000e+00, 0.0000e+00, 1.0000e+00],\n",
      "        [7.4000e+01, 6.8000e-01, 1.3000e-01, 1.9000e-01],\n",
      "        [3.6000e+01, 2.5000e-01, 0.0000e+00, 7.5000e-01],\n",
      "        [7.8000e+01, 7.1000e-01, 6.0000e-02, 2.3000e-01]], dtype=torch.float64)\n",
      "Seed: 250\n",
      "Initial points: tensor([[3.2000e+01, 2.2000e-01, 7.8000e-01, 0.0000e+00],\n",
      "        [6.1000e+01, 3.8000e-01, 6.2000e-01, 0.0000e+00],\n",
      "        [4.0000e+00, 0.0000e+00, 1.0000e+00, 0.0000e+00],\n",
      "        [2.3000e+01, 1.7000e-01, 8.2000e-01, 1.0000e-02],\n",
      "        [7.9000e+01, 7.5000e-01, 0.0000e+00, 2.5000e-01]], dtype=torch.float64)\n",
      "Seed: 228\n",
      "Initial points: tensor([[6.7000e+01, 5.0000e-01, 2.5000e-01, 2.5000e-01],\n",
      "        [6.8000e+01, 5.0000e-01, 5.0000e-01, 0.0000e+00],\n",
      "        [7.7000e+01, 7.1000e-01, 1.0000e-02, 2.8000e-01],\n",
      "        [0.0000e+00, 0.0000e+00, 0.0000e+00, 1.0000e+00],\n",
      "        [4.2000e+01, 2.6000e-01, 3.7000e-01, 3.6000e-01]], dtype=torch.float64)\n",
      "Seed: 142\n",
      "Initial points: tensor([[7.7000e+01, 7.1000e-01, 1.0000e-02, 2.8000e-01],\n",
      "        [5.3000e+01, 3.2000e-01, 6.7000e-01, 1.0000e-02],\n",
      "        [4.9000e+01, 3.0000e-01, 3.9000e-01, 3.2000e-01],\n",
      "        [8.1000e+01, 7.6000e-01, 2.4000e-01, 0.0000e+00],\n",
      "        [3.8000e+01, 2.5000e-01, 5.0000e-01, 2.5000e-01]], dtype=torch.float64)\n",
      "Seed: 754\n",
      "Initial points: tensor([[6.7000e+01, 5.0000e-01, 2.5000e-01, 2.5000e-01],\n",
      "        [1.7000e+01, 1.4000e-01, 8.4000e-01, 2.0000e-02],\n",
      "        [1.9000e+01, 1.6000e-01, 7.5000e-01, 9.0000e-02],\n",
      "        [4.3000e+01, 2.6000e-01, 3.8000e-01, 3.6000e-01],\n",
      "        [8.0000e+00, 9.0000e-02, 8.7000e-01, 4.0000e-02]], dtype=torch.float64)\n",
      "Seed: 104\n",
      "Initial points: tensor([[1.7000e+01, 1.4000e-01, 8.4000e-01, 2.0000e-02],\n",
      "        [3.6000e+01, 2.5000e-01, 0.0000e+00, 7.5000e-01],\n",
      "        [3.0000e+00, 0.0000e+00, 7.5000e-01, 2.5000e-01],\n",
      "        [5.3000e+01, 3.2000e-01, 6.7000e-01, 1.0000e-02],\n",
      "        [2.6000e+01, 1.8000e-01, 8.2000e-01, 0.0000e+00]], dtype=torch.float64)\n",
      "Maximum number of iterations exceeded, breaking loop.\n"
     ]
    }
   ],
   "source": [
    "\n",
    "def modelRun(seed):\n",
    "    \n",
    "    set_seeds(seed)\n",
    "    iterationSTP = [0]\n",
    "    topSTP = [0]\n",
    "    indicesSTP = torch.randperm(total_samples)[:num_initial_points]\n",
    "    train_xSTP = train_x[indicesSTP]\n",
    "    train_ySTP = train_y[indicesSTP]\n",
    "    print(f\"Seed: {seed}\")\n",
    "    print(f\"Initial points: {train_xSTP}\")\n",
    "    globals()['initialPoints' + str(i)] = train_xSTP\n",
    "    globals()['initialPointsy' + str(i)] = train_ySTP\n",
    "    \n",
    "    while topSTP[-1] < 100:\n",
    "        iterationSTP.append(iterationSTP[-1] + 1)\n",
    "        # standardize the initial inputs and outputs before\n",
    "        torch_std = TorchStandardScaler()\n",
    "        train_xSTP = torch_std.fit_transform(train_xSTP)\n",
    "        y_scaler = TorchStandardScaler()\n",
    "        train_ySTP = y_scaler.fit_transform(train_ySTP).flatten()  # Ensure y is 1-dimensional\n",
    "\n",
    "        #def train_and_test_approximate_gp(objective_function_cls):\n",
    "        model = STP(train_xSTP).to(dtype=torch.float64)\n",
    "        #likelihood = gpytorch.likelihoods.GaussianLikelihood()\n",
    "        likelihood = gpytorch.likelihoods.StudentTLikelihood()\n",
    "        objective_function = gpytorch.mlls.VariationalELBO(likelihood, model, num_data=train_ySTP.numel())\n",
    "        # replace with gpytorch mll\n",
    "        optimizer = torch.optim.Adam(list(model.parameters()) + list(likelihood.parameters()), lr=0.1)\n",
    "\n",
    "        \n",
    "\n",
    "        # Train\n",
    "        model.train()\n",
    "        #put it into training mode\n",
    "        likelihood.train()\n",
    "\n",
    "        for _ in range(50):\n",
    "            output = model(train_xSTP)\n",
    "            loss = -objective_function(output, train_ySTP)\n",
    "            loss.backward()\n",
    "            optimizer.step()\n",
    "            optimizer.zero_grad()\n",
    "            \n",
    "\n",
    "\n",
    "        # Test\n",
    "        model.eval()\n",
    "        likelihood.eval()\n",
    "\n",
    "        # works wtih the variational distribution\n",
    "        with gpytorch.settings.num_likelihood_samples(512):\n",
    "            observed_pred = likelihood(model(train_x))\n",
    "\n",
    "        samples = observed_pred.sample()\n",
    "\n",
    "\n",
    "        # use as inputs to UCB \n",
    "        meanSTP = samples.mean(dim=0)\n",
    "        stdSTP = samples.std(dim=0)\n",
    "        \n",
    "\n",
    "        # Select new points using UCB\n",
    "        ucb_values = UCB(meanSTP, stdSTP, 1.96)\n",
    "        ucb_values[indicesSTP] = float('inf')\n",
    "        indicesSTP = torch.cat([indicesSTP, ucb_values.argmin().unsqueeze(0)])\n",
    "\n",
    "\n",
    "        # Convert new_indices to a tensor\n",
    "        # Add the new points to the training data\n",
    "        train_xSTP = train_x[indicesSTP]\n",
    "        train_ySTP = train_y[indicesSTP]\n",
    "        topSTP.append(TopSamplesAmnt(train_ySTP[num_initial_points:], top_samples)*100)\n",
    "        if iterationSTP[-1] > 154:\n",
    "            print(\"Maximum number of iterations exceeded, breaking loop.\")\n",
    "            return topSTP, iterationSTP\n",
    "            break\n",
    "        \n",
    "    return topSTP, iterationSTP\n",
    "        \n",
    "for i in trange(len(seedList)):\n",
    "    globals()['topSTP' + str(i)], globals()['iterationSTP' + str(i)] = modelRun(seedList[i])\n",
    "\n",
    "\n",
    "\n"
   ]
  },
  {
   "cell_type": "markdown",
   "metadata": {},
   "source": [
    "### Exact Gaussian Process Optimization"
   ]
  },
  {
   "cell_type": "code",
   "execution_count": 276,
   "metadata": {},
   "outputs": [
    {
     "name": "stdout",
     "output_type": "stream",
     "text": [
      "Seed: 654\n",
      "Initial points: tensor([[42.0000,  0.2600,  0.3700,  0.3600],\n",
      "        [41.0000,  0.2500,  0.7500,  0.0000],\n",
      "        [18.0000,  0.1600,  0.7000,  0.1400],\n",
      "        [28.0000,  0.1900,  0.8100,  0.0000],\n",
      "        [68.0000,  0.5000,  0.5000,  0.0000]], dtype=torch.float64)\n",
      "Seed: 114\n",
      "Initial points: tensor([[6.8000e+01, 5.0000e-01, 5.0000e-01, 0.0000e+00],\n",
      "        [8.9000e+01, 8.8000e-01, 0.0000e+00, 1.2000e-01],\n",
      "        [5.2000e+01, 3.1000e-01, 3.6000e-01, 3.3000e-01],\n",
      "        [6.0000e+00, 6.0000e-02, 8.5000e-01, 9.0000e-02],\n",
      "        [5.1000e+01, 3.1000e-01, 3.0000e-01, 3.9000e-01]], dtype=torch.float64)\n",
      "Seed: 25\n",
      "Initial points: tensor([[7.6000e+01, 7.0000e-01, 2.9000e-01, 1.0000e-02],\n",
      "        [3.0000e+00, 0.0000e+00, 7.5000e-01, 2.5000e-01],\n",
      "        [9.2000e+01, 9.6000e-01, 4.0000e-02, 0.0000e+00],\n",
      "        [3.2000e+01, 2.2000e-01, 7.8000e-01, 0.0000e+00],\n",
      "        [8.1000e+01, 7.6000e-01, 2.4000e-01, 0.0000e+00]], dtype=torch.float64)\n",
      "Seed: 759\n",
      "Initial points: tensor([[7.6000e+01, 7.0000e-01, 2.9000e-01, 1.0000e-02],\n",
      "        [3.1000e+01, 2.2000e-01, 7.2000e-01, 6.0000e-02],\n",
      "        [7.9000e+01, 7.5000e-01, 0.0000e+00, 2.5000e-01],\n",
      "        [7.8000e+01, 7.1000e-01, 6.0000e-02, 2.3000e-01],\n",
      "        [1.2000e+01, 1.2000e-01, 7.7000e-01, 1.1000e-01]], dtype=torch.float64)\n",
      "Seed: 281\n",
      "Initial points: tensor([[1.0000e+01, 1.0000e-01, 8.9000e-01, 1.0000e-02],\n",
      "        [0.0000e+00, 0.0000e+00, 0.0000e+00, 1.0000e+00],\n",
      "        [7.4000e+01, 6.8000e-01, 1.3000e-01, 1.9000e-01],\n",
      "        [3.6000e+01, 2.5000e-01, 0.0000e+00, 7.5000e-01],\n",
      "        [7.8000e+01, 7.1000e-01, 6.0000e-02, 2.3000e-01]], dtype=torch.float64)\n",
      "Seed: 250\n",
      "Initial points: tensor([[3.2000e+01, 2.2000e-01, 7.8000e-01, 0.0000e+00],\n",
      "        [6.1000e+01, 3.8000e-01, 6.2000e-01, 0.0000e+00],\n",
      "        [4.0000e+00, 0.0000e+00, 1.0000e+00, 0.0000e+00],\n",
      "        [2.3000e+01, 1.7000e-01, 8.2000e-01, 1.0000e-02],\n",
      "        [7.9000e+01, 7.5000e-01, 0.0000e+00, 2.5000e-01]], dtype=torch.float64)\n",
      "Seed: 228\n",
      "Initial points: tensor([[6.7000e+01, 5.0000e-01, 2.5000e-01, 2.5000e-01],\n",
      "        [6.8000e+01, 5.0000e-01, 5.0000e-01, 0.0000e+00],\n",
      "        [7.7000e+01, 7.1000e-01, 1.0000e-02, 2.8000e-01],\n",
      "        [0.0000e+00, 0.0000e+00, 0.0000e+00, 1.0000e+00],\n",
      "        [4.2000e+01, 2.6000e-01, 3.7000e-01, 3.6000e-01]], dtype=torch.float64)\n",
      "Seed: 142\n",
      "Initial points: tensor([[7.7000e+01, 7.1000e-01, 1.0000e-02, 2.8000e-01],\n",
      "        [5.3000e+01, 3.2000e-01, 6.7000e-01, 1.0000e-02],\n",
      "        [4.9000e+01, 3.0000e-01, 3.9000e-01, 3.2000e-01],\n",
      "        [8.1000e+01, 7.6000e-01, 2.4000e-01, 0.0000e+00],\n",
      "        [3.8000e+01, 2.5000e-01, 5.0000e-01, 2.5000e-01]], dtype=torch.float64)\n",
      "Seed: 754\n",
      "Initial points: tensor([[6.7000e+01, 5.0000e-01, 2.5000e-01, 2.5000e-01],\n",
      "        [1.7000e+01, 1.4000e-01, 8.4000e-01, 2.0000e-02],\n",
      "        [1.9000e+01, 1.6000e-01, 7.5000e-01, 9.0000e-02],\n",
      "        [4.3000e+01, 2.6000e-01, 3.8000e-01, 3.6000e-01],\n",
      "        [8.0000e+00, 9.0000e-02, 8.7000e-01, 4.0000e-02]], dtype=torch.float64)\n",
      "Seed: 104\n",
      "Initial points: tensor([[1.7000e+01, 1.4000e-01, 8.4000e-01, 2.0000e-02],\n",
      "        [3.6000e+01, 2.5000e-01, 0.0000e+00, 7.5000e-01],\n",
      "        [3.0000e+00, 0.0000e+00, 7.5000e-01, 2.5000e-01],\n",
      "        [5.3000e+01, 3.2000e-01, 6.7000e-01, 1.0000e-02],\n",
      "        [2.6000e+01, 1.8000e-01, 8.2000e-01, 0.0000e+00]], dtype=torch.float64)\n",
      "Maximum number of iterations exceeded, breaking loop.\n"
     ]
    }
   ],
   "source": [
    "def runMinEGP(seed):\n",
    "    set_seeds(seed)    \n",
    "    iterationEGP = [0]\n",
    "    topEGP = [0]\n",
    "    indicesEGP = torch.randperm(total_samples)[:num_initial_points]\n",
    "    train_xEGP = train_x[indicesEGP]\n",
    "    train_yEGP = train_y[indicesEGP]\n",
    "    print(f\"Seed: {seed}\")\n",
    "    print(f\"Initial points: {train_xEGP}\")\n",
    "    globals()['initialPoints' + str(i)] = train_xEGP\n",
    "    globals()['initialPointsy' + str(i)] = train_yEGP\n",
    "    iterationEGP = [0]\n",
    "    while topEGP[-1] < 100:\n",
    "        iterationEGP.append(iterationEGP[-1] + 1)\n",
    "        # standardize the initial inputs and outputs before\n",
    "        torch_std = TorchStandardScaler()\n",
    "        train_xEGP = torch_std.fit_transform(train_xEGP)\n",
    "        y_scaler = TorchStandardScaler()\n",
    "        train_yEGP = y_scaler.fit_transform(train_yEGP).flatten()\n",
    "\n",
    "        # optimize the model\n",
    "        # use a half normal prior for the noise to find a Gaussian likelihood\n",
    "        likelihood = GaussianLikelihood(noise_prior=gpytorch.priors.HalfNormalPrior(0.01))\n",
    "\n",
    "        # using the found likelihood, create a GP model\n",
    "        gp = ExactGP(train_xEGP, train_yEGP, likelihood)\n",
    "        mll = gpytorch.mlls.ExactMarginalLogLikelihood(likelihood, gp)\n",
    "\n",
    "        # fit the model by maximizing the marginal log likelihood\n",
    "        gp.train()\n",
    "        likelihood.train()\n",
    "        fit_gpytorch_mll(mll)\n",
    "\n",
    "        gp.eval()\n",
    "        likelihood.eval()\n",
    "\n",
    "        # predict from candidate pool\n",
    "        with torch.no_grad():\n",
    "            pred = gp(train_x) # predict values for all candidates\n",
    "\n",
    "        meanEGP = pred.mean\n",
    "        stdEGP = pred.stddev\n",
    "\n",
    "        # pass the predictions through an acquisition function to find the next best point to sample\n",
    "        acqVal = UCB(meanEGP, stdEGP, 1.96)\n",
    "        acqVal[indicesEGP] = float('inf')  # Don't select already sampled points\n",
    "        indicesEGP = torch.cat([indicesEGP, acqVal.argmin().unsqueeze(0)]) # add best value to index\n",
    "\n",
    "        # add the new point to the training data\n",
    "        train_xEGP = train_x[indicesEGP]\n",
    "        train_yEGP = train_y[indicesEGP]\n",
    "        topEGP.append(TopSamplesAmnt(train_yEGP[num_initial_points:], top_samples)*100)\n",
    "        \n",
    "        if iterationEGP[-1] > len(train_x) - num_initial_points:\n",
    "            print(\"Maximum number of iterations exceeded, breaking loop.\")\n",
    "            return topEGP, iterationEGP\n",
    "            break\n",
    "\n",
    "    return topEGP, iterationEGP\n",
    "\n",
    "for i in trange(len(seedList)):\n",
    "    globals()['topEGP' + str(i)], globals()['iterationEGP' + str(i)] = runMinEGP(seedList[i])"
   ]
  },
  {
   "cell_type": "markdown",
   "metadata": {},
   "source": [
    "### Variational Gaussian Process Optimization"
   ]
  },
  {
   "cell_type": "code",
   "execution_count": 277,
   "metadata": {},
   "outputs": [
    {
     "name": "stderr",
     "output_type": "stream",
     "text": [
      "  0%|          | 0/10 [00:00<?, ?it/s]"
     ]
    },
    {
     "name": "stdout",
     "output_type": "stream",
     "text": [
      "Seed: 654\n",
      "Initial points: tensor([[42.0000,  0.2600,  0.3700,  0.3600],\n",
      "        [41.0000,  0.2500,  0.7500,  0.0000],\n",
      "        [18.0000,  0.1600,  0.7000,  0.1400],\n",
      "        [28.0000,  0.1900,  0.8100,  0.0000],\n",
      "        [68.0000,  0.5000,  0.5000,  0.0000]], dtype=torch.float64)\n"
     ]
    },
    {
     "name": "stderr",
     "output_type": "stream",
     "text": [
      " 10%|█         | 1/10 [00:15<02:15, 15.02s/it]"
     ]
    },
    {
     "name": "stdout",
     "output_type": "stream",
     "text": [
      "Seed: 114\n",
      "Initial points: tensor([[6.8000e+01, 5.0000e-01, 5.0000e-01, 0.0000e+00],\n",
      "        [8.9000e+01, 8.8000e-01, 0.0000e+00, 1.2000e-01],\n",
      "        [5.2000e+01, 3.1000e-01, 3.6000e-01, 3.3000e-01],\n",
      "        [6.0000e+00, 6.0000e-02, 8.5000e-01, 9.0000e-02],\n",
      "        [5.1000e+01, 3.1000e-01, 3.0000e-01, 3.9000e-01]], dtype=torch.float64)\n"
     ]
    },
    {
     "name": "stderr",
     "output_type": "stream",
     "text": [
      " 20%|██        | 2/10 [00:26<01:43, 12.97s/it]"
     ]
    },
    {
     "name": "stdout",
     "output_type": "stream",
     "text": [
      "Seed: 25\n",
      "Initial points: tensor([[7.6000e+01, 7.0000e-01, 2.9000e-01, 1.0000e-02],\n",
      "        [3.0000e+00, 0.0000e+00, 7.5000e-01, 2.5000e-01],\n",
      "        [9.2000e+01, 9.6000e-01, 4.0000e-02, 0.0000e+00],\n",
      "        [3.2000e+01, 2.2000e-01, 7.8000e-01, 0.0000e+00],\n",
      "        [8.1000e+01, 7.6000e-01, 2.4000e-01, 0.0000e+00]], dtype=torch.float64)\n"
     ]
    },
    {
     "name": "stderr",
     "output_type": "stream",
     "text": [
      " 30%|███       | 3/10 [00:37<01:24, 12.08s/it]"
     ]
    },
    {
     "name": "stdout",
     "output_type": "stream",
     "text": [
      "Seed: 759\n",
      "Initial points: tensor([[7.6000e+01, 7.0000e-01, 2.9000e-01, 1.0000e-02],\n",
      "        [3.1000e+01, 2.2000e-01, 7.2000e-01, 6.0000e-02],\n",
      "        [7.9000e+01, 7.5000e-01, 0.0000e+00, 2.5000e-01],\n",
      "        [7.8000e+01, 7.1000e-01, 6.0000e-02, 2.3000e-01],\n",
      "        [1.2000e+01, 1.2000e-01, 7.7000e-01, 1.1000e-01]], dtype=torch.float64)\n"
     ]
    },
    {
     "name": "stderr",
     "output_type": "stream",
     "text": [
      " 40%|████      | 4/10 [00:51<01:17, 12.98s/it]"
     ]
    },
    {
     "name": "stdout",
     "output_type": "stream",
     "text": [
      "Seed: 281\n",
      "Initial points: tensor([[1.0000e+01, 1.0000e-01, 8.9000e-01, 1.0000e-02],\n",
      "        [0.0000e+00, 0.0000e+00, 0.0000e+00, 1.0000e+00],\n",
      "        [7.4000e+01, 6.8000e-01, 1.3000e-01, 1.9000e-01],\n",
      "        [3.6000e+01, 2.5000e-01, 0.0000e+00, 7.5000e-01],\n",
      "        [7.8000e+01, 7.1000e-01, 6.0000e-02, 2.3000e-01]], dtype=torch.float64)\n"
     ]
    },
    {
     "name": "stderr",
     "output_type": "stream",
     "text": [
      " 50%|█████     | 5/10 [01:05<01:06, 13.35s/it]"
     ]
    },
    {
     "name": "stdout",
     "output_type": "stream",
     "text": [
      "Seed: 250\n",
      "Initial points: tensor([[3.2000e+01, 2.2000e-01, 7.8000e-01, 0.0000e+00],\n",
      "        [6.1000e+01, 3.8000e-01, 6.2000e-01, 0.0000e+00],\n",
      "        [4.0000e+00, 0.0000e+00, 1.0000e+00, 0.0000e+00],\n",
      "        [2.3000e+01, 1.7000e-01, 8.2000e-01, 1.0000e-02],\n",
      "        [7.9000e+01, 7.5000e-01, 0.0000e+00, 2.5000e-01]], dtype=torch.float64)\n"
     ]
    },
    {
     "name": "stderr",
     "output_type": "stream",
     "text": [
      " 60%|██████    | 6/10 [01:19<00:54, 13.53s/it]"
     ]
    },
    {
     "name": "stdout",
     "output_type": "stream",
     "text": [
      "Seed: 228\n",
      "Initial points: tensor([[6.7000e+01, 5.0000e-01, 2.5000e-01, 2.5000e-01],\n",
      "        [6.8000e+01, 5.0000e-01, 5.0000e-01, 0.0000e+00],\n",
      "        [7.7000e+01, 7.1000e-01, 1.0000e-02, 2.8000e-01],\n",
      "        [0.0000e+00, 0.0000e+00, 0.0000e+00, 1.0000e+00],\n",
      "        [4.2000e+01, 2.6000e-01, 3.7000e-01, 3.6000e-01]], dtype=torch.float64)\n"
     ]
    },
    {
     "name": "stderr",
     "output_type": "stream",
     "text": [
      " 70%|███████   | 7/10 [01:37<00:44, 14.83s/it]"
     ]
    },
    {
     "name": "stdout",
     "output_type": "stream",
     "text": [
      "Seed: 142\n",
      "Initial points: tensor([[7.7000e+01, 7.1000e-01, 1.0000e-02, 2.8000e-01],\n",
      "        [5.3000e+01, 3.2000e-01, 6.7000e-01, 1.0000e-02],\n",
      "        [4.9000e+01, 3.0000e-01, 3.9000e-01, 3.2000e-01],\n",
      "        [8.1000e+01, 7.6000e-01, 2.4000e-01, 0.0000e+00],\n",
      "        [3.8000e+01, 2.5000e-01, 5.0000e-01, 2.5000e-01]], dtype=torch.float64)\n"
     ]
    },
    {
     "name": "stderr",
     "output_type": "stream",
     "text": [
      " 80%|████████  | 8/10 [01:53<00:30, 15.39s/it]"
     ]
    },
    {
     "name": "stdout",
     "output_type": "stream",
     "text": [
      "Seed: 754\n",
      "Initial points: tensor([[6.7000e+01, 5.0000e-01, 2.5000e-01, 2.5000e-01],\n",
      "        [1.7000e+01, 1.4000e-01, 8.4000e-01, 2.0000e-02],\n",
      "        [1.9000e+01, 1.6000e-01, 7.5000e-01, 9.0000e-02],\n",
      "        [4.3000e+01, 2.6000e-01, 3.8000e-01, 3.6000e-01],\n",
      "        [8.0000e+00, 9.0000e-02, 8.7000e-01, 4.0000e-02]], dtype=torch.float64)\n"
     ]
    },
    {
     "name": "stderr",
     "output_type": "stream",
     "text": [
      " 90%|█████████ | 9/10 [02:09<00:15, 15.60s/it]"
     ]
    },
    {
     "name": "stdout",
     "output_type": "stream",
     "text": [
      "Seed: 104\n",
      "Initial points: tensor([[1.7000e+01, 1.4000e-01, 8.4000e-01, 2.0000e-02],\n",
      "        [3.6000e+01, 2.5000e-01, 0.0000e+00, 7.5000e-01],\n",
      "        [3.0000e+00, 0.0000e+00, 7.5000e-01, 2.5000e-01],\n",
      "        [5.3000e+01, 3.2000e-01, 6.7000e-01, 1.0000e-02],\n",
      "        [2.6000e+01, 1.8000e-01, 8.2000e-01, 0.0000e+00]], dtype=torch.float64)\n"
     ]
    },
    {
     "name": "stderr",
     "output_type": "stream",
     "text": [
      "100%|██████████| 10/10 [02:48<00:00, 16.90s/it]"
     ]
    },
    {
     "name": "stdout",
     "output_type": "stream",
     "text": [
      "Maximum number of iterations exceeded, breaking loop.\n"
     ]
    },
    {
     "name": "stderr",
     "output_type": "stream",
     "text": [
      "\n"
     ]
    }
   ],
   "source": [
    "def runMinVGP(seed):    \n",
    "    set_seeds(seed)\n",
    "    iterationVGP = [0]\n",
    "    topVGP = [0]\n",
    "    indicesVGP = torch.randperm(total_samples)[:num_initial_points]\n",
    "    train_xVGP = train_x[indicesVGP]\n",
    "    train_yVGP = train_y[indicesVGP]\n",
    "    print(f\"Seed: {seed}\")\n",
    "    print(f\"Initial points: {train_xVGP}\")\n",
    "    globals()['initialPoints' + str(i)] = train_xVGP\n",
    "    globals()['initialPointsy' + str(i)] = train_yVGP    \n",
    "    iterationVGP = [0]\n",
    "    while topVGP[-1] < 100:\n",
    "        \n",
    "        iterationVGP.append(iterationVGP[-1] + 1)\n",
    "        # standardize the initial inputs and outputs before\n",
    "        # torch_std = TorchStandardScaler()\n",
    "        # train_xSTP = torch_std.fit_transform(train_xSTP)\n",
    "        # y_scaler = TorchStandardScaler()\n",
    "        # train_ySTP = y_scaler.fit_transform(train_ySTP).flatten()  # Ensure y is 1-dimensional\n",
    "\n",
    "        #def train_and_test_approximate_gp(objective_function_cls):\n",
    "        model = VariationalGP(train_xVGP).to(dtype=torch.float64)\n",
    "\n",
    "        likelihood = GaussianLikelihood()\n",
    "        objective_function = gpytorch.mlls.VariationalELBO(likelihood, model, num_data=train_yVGP.numel())\n",
    "        # replace with gpytorch mll\n",
    "        optimizer = torch.optim.Adam(list(model.parameters()) + list(likelihood.parameters()), lr=0.1)\n",
    "\n",
    "        # Train\n",
    "        model.train()\n",
    "        #put it into training mode\n",
    "        likelihood.train()\n",
    "\n",
    "        for _ in range(50):\n",
    "            output = model(train_xVGP)\n",
    "            loss = -objective_function(output, train_yVGP)\n",
    "            loss.backward()\n",
    "            optimizer.step()\n",
    "            optimizer.zero_grad()\n",
    "            \n",
    "        # Test\n",
    "        model.eval()\n",
    "        likelihood.eval()\n",
    "\n",
    "        # works wtih the variational distribution\n",
    "        with gpytorch.settings.num_likelihood_samples(512):\n",
    "            observed_pred = likelihood(model(train_x))\n",
    "\n",
    "        samples = observed_pred.sample(torch.Size((100,)))\n",
    "\n",
    "        # get the mean and standard deviation of the samples\n",
    "        meanVGP = samples.mean(dim=0)\n",
    "        stdVGP = samples.std(dim=0)\n",
    "\n",
    "        # Select new points using UCB\n",
    "        ucb_values = UCB(meanVGP, stdVGP, 1.96)\n",
    "        ucb_values[indicesVGP] = float('inf')\n",
    "        indicesVGP = torch.cat([indicesVGP, ucb_values.argmin().unsqueeze(0)])\n",
    "\n",
    "\n",
    "        # Convert new_indices to a tensor\n",
    "        # Add the new points to the training data\n",
    "        train_xVGP = train_x[indicesVGP]\n",
    "        train_yVGP = train_y[indicesVGP]\n",
    "        topVGP.append(TopSamplesAmnt(train_yVGP[num_initial_points:], top_samples)*100)\n",
    "        if iterationVGP[-1] > 154:\n",
    "            print(\"Maximum number of iterations exceeded, breaking loop.\")\n",
    "            return topVGP, iterationVGP\n",
    "            break\n",
    "\n",
    "    return topVGP, iterationVGP\n",
    "\n",
    "for i in trange(len(seedList)):\n",
    "    globals()['topVGP' + str(i)], globals()['iterationVGP' + str(i)] = runVGP(seedList[i])"
   ]
  },
  {
   "cell_type": "markdown",
   "metadata": {},
   "source": [
    "## Visualization"
   ]
  },
  {
   "cell_type": "code",
   "execution_count": 282,
   "metadata": {},
   "outputs": [
    {
     "data": {
      "image/png": "[encoded data removed]",
      "text/plain": [
       "<Figure size 800x600 with 1 Axes>"
      ]
     },
     "metadata": {},
     "output_type": "display_data"
    }
   ],
   "source": [
    "num_arrays = len(seedList)  \n",
    "# Function to dynamically collect arrays\n",
    "def collect_arrays(prefix, num_arrays):\n",
    "    arrays = []\n",
    "    for i in range(num_arrays):\n",
    "        array = globals().get(f'{prefix}{i}', None)\n",
    "        if array is not None:\n",
    "            arrays.append(array)\n",
    "    return arrays\n",
    "\n",
    "# Function to pad arrays with the last element to match the maximum length\n",
    "def pad_array(array, max_length):\n",
    "    return np.pad(array, (0, max_length - len(array)), 'constant', constant_values=array[-1])\n",
    "\n",
    "def find_max_length(prefix, num_arrays):\n",
    "    arrays = collect_arrays(prefix, num_arrays)\n",
    "    return max(len(arr) for arr in arrays)\n",
    "\n",
    "# Process arrays for each type\n",
    "def process_arrays(prefix, num_arrays, max_length):\n",
    "    arrays = collect_arrays(prefix, num_arrays)\n",
    "    padded_arrays = [pad_array(arr, max_length) for arr in arrays]\n",
    "    stack = np.stack(padded_arrays)\n",
    "    mean_values = np.mean(stack, axis=0)\n",
    "    p5_values = np.percentile(stack, 5, axis=0)\n",
    "    p95_values = np.percentile(stack, 95, axis=0)\n",
    "    return mean_values, p5_values, p95_values\n",
    "\n",
    "# Process arrays for STP, EGP, and VGP\n",
    "max_length_STP = find_max_length('topSTP', num_arrays)\n",
    "max_length_EGP = find_max_length('topEGP', num_arrays)\n",
    "max_length_VGP = find_max_length('topVGP', num_arrays)\n",
    "max_length = max(max_length_STP, max_length_EGP, max_length_VGP)\n",
    "mean_topSTP, p5_topSTP, p95_topSTP = process_arrays('topSTP', num_arrays, max_length)\n",
    "mean_topEGP, p5_topEGP, p95_topEGP = process_arrays('topEGP', num_arrays, max_length)\n",
    "mean_topVGP, p5_topVGP, p95_topVGP = process_arrays('topVGP', num_arrays, max_length)\n",
    "\n",
    "# Ensure that the number of iterations matches the longest array length\n",
    "max_length = max(max_length_STP, max_length_EGP)\n",
    "iterations = np.arange(1, max_length + 1)\n",
    "\n",
    "\n",
    "sns.set(style=\"whitegrid\")\n",
    "# Plot the mean and fill between the min and max for each type\n",
    "plt.figure(figsize=(8, 6))\n",
    "\n",
    "# Plot for STP\n",
    "sns.lineplot(x=iterations, y=mean_topSTP, label='Mean STP', color='blue', linewidth=2)\n",
    "plt.fill_between(iterations, p5_topSTP, p95_topSTP, color='blue', alpha=0.1)\n",
    "\n",
    "# Plot for EGP\n",
    "sns.lineplot(x=iterations, y=mean_topEGP, label='Mean EGP', color='orange', linewidth=2)\n",
    "plt.fill_between(iterations, p5_topEGP, p95_topEGP, color='orange', alpha=0.1)\n",
    "\n",
    "# Plot for VGP\n",
    "plt.plot(iterations, mean_topVGP, label='Mean VGP', color='green', linewidth=2)\n",
    "plt.fill_between(iterations, p5_topVGP, p95_topVGP, color='green', alpha=0.1)\n",
    "\n",
    "plt.xlabel('Number of Iterations', fontsize=12)\n",
    "plt.ylabel('Percentage of Top 5% Samples Found', fontsize=12)\n",
    "plt.title(f'Average Percentage of Top Samples Found Over {num_arrays} Campaigns', fontsize=14)\n",
    "plt.legend(fontsize=10, loc='upper left')\n",
    "\n",
    "# Customize ticks\n",
    "plt.xticks(fontsize=10)\n",
    "plt.yticks(fontsize=10)\n",
    "\n",
    "# Adjust axis limits and aspect ratio if needed\n",
    "plt.ylim(0, 100)\n",
    "plt.xlim(1, max_length)\n",
    "\n",
    "\n",
    "# save the plot \n",
    "plt.savefig(f\"{dataset}_1top_samples\")\n",
    "plt.show()"
   ]
  }
 ],
 "metadata": {
  "kernelspec": {
   "display_name": "researchTP",
   "language": "python",
   "name": "python3"
  },
  "language_info": {
   "codemirror_mode": {
    "name": "ipython",
    "version": 3
   },
   "file_extension": ".py",
   "mimetype": "text/x-python",
   "name": "python",
   "nbconvert_exporter": "python",
   "pygments_lexer": "ipython3",
   "version": "3.12.3"
  }
 },
 "nbformat": 4,
 "nbformat_minor": 2
}
