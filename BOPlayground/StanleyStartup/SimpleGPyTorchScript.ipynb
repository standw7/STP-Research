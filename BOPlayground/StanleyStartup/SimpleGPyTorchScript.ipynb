{
 "cells": [
  {
   "cell_type": "markdown",
   "metadata": {},
   "source": [
    "Optimization of Materials Datasets with GPytorch"
   ]
  },
  {
   "cell_type": "code",
   "execution_count": 1,
   "metadata": {},
   "outputs": [
    {
     "name": "stderr",
     "output_type": "stream",
     "text": [
      "c:\\Users\\stan\\miniconda3\\envs\\research\\Lib\\site-packages\\tqdm\\auto.py:21: TqdmWarning: IProgress not found. Please update jupyter and ipywidgets. See https://ipywidgets.readthedocs.io/en/stable/user_install.html\n",
      "  from .autonotebook import tqdm as notebook_tqdm\n"
     ]
    },
    {
     "name": "stdout",
     "output_type": "stream",
     "text": [
      "MPS device not found.\n"
     ]
    }
   ],
   "source": [
    "import pandas as pd\n",
    "import numpy as np\n",
    "import random\n",
    "import torch\n",
    "\n",
    "import gpytorch\n",
    "from gpytorch.likelihoods import GaussianLikelihood\n",
    "from botorch.fit import fit_gpytorch_mll\n",
    "\n",
    "from tqdm import trange\n",
    "\n",
    "import matplotlib.pyplot as plt\n",
    "\n",
    "plt.style.use('ggplot')\n",
    "\n",
    "torch.set_default_dtype(torch.float64)\n",
    "if torch.backends.mps.is_available():\n",
    "    mps_device = torch.device(\"mps\")\n",
    "    print(\"MPS device found, setting as device.\")\n",
    "else:\n",
    "    print(\"MPS device not found.\")\n"
   ]
  },
  {
   "cell_type": "markdown",
   "metadata": {},
   "source": [
    "Define a few helper functions"
   ]
  },
  {
   "cell_type": "code",
   "execution_count": 2,
   "metadata": {},
   "outputs": [],
   "source": [
    "class TorchStandardScaler:\n",
    "    def fit(self, x):\n",
    "        x = x.clone()\n",
    "        self.mean = x.mean(0, keepdim=True)\n",
    "        self.std = x.std(0, unbiased=False, keepdim=True)\n",
    "    def transform(self, x):\n",
    "        x = x.clone()\n",
    "        x -= self.mean\n",
    "        x /= (self.std + 1e-10)\n",
    "        return x\n",
    "    def fit_transform(self, x):\n",
    "        x = x.clone()\n",
    "        self.mean = x.mean(0, keepdim=True)\n",
    "        self.std = x.std(0, unbiased=False, keepdim=True)\n",
    "        x -= self.mean\n",
    "        x /= (self.std + 1e-10)\n",
    "        return x\n",
    "    def reverse(self, x):\n",
    "        x = x.clone()\n",
    "        x *= (self.std + 1e-10)\n",
    "        x += self.mean\n",
    "        return x\n",
    "\n",
    "class TorchNormalizer:\n",
    "    def fit(self, x):\n",
    "        self.max = torch.max(x, dim=0).values\n",
    "        self.min = torch.min(x, dim=0).values\n",
    "\n",
    "    def transform(self, x):\n",
    "        return (x.clone() - self.min) / (self.max - self.min)\n",
    "\n",
    "    def fit_transform(self, x):\n",
    "        self.max = torch.max(x, dim=0).values\n",
    "        self.min = torch.min(x, dim=0).values\n",
    "        return (x.clone() - self.min) / (self.max - self.min)\n",
    "\n",
    "def set_seeds(seed=42):\n",
    "    \"\"\"set all library random seeds\"\"\"\n",
    "    random.seed(seed)\n",
    "    np.random.seed(seed)\n",
    "    torch.manual_seed(seed)\n",
    "\n",
    "def UCB(pred, epsilon=2):\n",
    "    return pred.mean + epsilon*pred.stddev"
   ]
  },
  {
   "cell_type": "code",
   "execution_count": 3,
   "metadata": {},
   "outputs": [],
   "source": [
    "dataset = 'Crossed barrel'\n",
    "df = pd.read_csv(f\"datasets/{dataset}_dataset.csv\")\n",
    "\n",
    "# take the average of duplicate entries, not always a good idea\n",
    "df = df.groupby(list(df.columns[:-1])).mean()\n",
    "df = pd.DataFrame(df.reset_index())\n",
    "\n",
    "# convert to torch tensors\n",
    "N = len(df)\n",
    "X_ = torch.tensor(df.iloc[:, :-1].values)\n",
    "y_ = torch.tensor(df.iloc[:, -1].values)\n",
    "\n",
    "# We are using prededfined candidates, so we can scale at the start\n",
    "TorchStd = TorchStandardScaler()\n",
    "TorchStd.fit(X_)"
   ]
  },
  {
   "cell_type": "markdown",
   "metadata": {},
   "source": [
    "Construct a model in GPytorch "
   ]
  },
  {
   "cell_type": "code",
   "execution_count": 4,
   "metadata": {},
   "outputs": [],
   "source": [
    "class GPModel(gpytorch.models.ExactGP):\n",
    "    def __init__(self, x_train, y_train, likelihood):\n",
    "        super(GPModel, self).__init__(x_train, y_train, likelihood)\n",
    "\n",
    "        # use a constant mean, learnable\n",
    "        self.mean_module = gpytorch.means.ConstantMean()\n",
    "\n",
    "        # use a scaled Matern kernel, learnable\n",
    "        self.covar_module = gpytorch.kernels.ScaleKernel(\n",
    "            gpytorch.kernels.MaternKernel(nu=2.5,ard_num_dims=4))\n",
    "\n",
    "    def forward(self, x):\n",
    "        # forward pass of the model\n",
    "        mean_x = self.mean_module(x)\n",
    "        covar_x = self.covar_module(x)\n",
    "        return gpytorch.distributions.MultivariateNormal(mean_x, covar_x)"
   ]
  },
  {
   "cell_type": "markdown",
   "metadata": {},
   "source": [
    "Run an optimization campaign"
   ]
  },
  {
   "cell_type": "code",
   "execution_count": 5,
   "metadata": {},
   "outputs": [
    {
     "name": "stderr",
     "output_type": "stream",
     "text": [
      "  0%|          | 0/100 [00:00<?, ?it/s]c:\\Users\\stan\\miniconda3\\envs\\research\\Lib\\site-packages\\gpytorch\\distributions\\multivariate_normal.py:319: NumericalWarning: Negative variance values detected. This is likely due to numerical instabilities. Rounding negative variances up to 1e-10.\n",
      "  warnings.warn(\n",
      "100%|██████████| 100/100 [00:07<00:00, 13.17it/s]\n"
     ]
    }
   ],
   "source": [
    "op_budget = 100 # how many optimization iterations perform\n",
    "n_initial = 10 # how many points to start with\n",
    "\n",
    "set_seeds(120) # set seeds for all libraries\n",
    "\n",
    "# sample n_initial points from X_ data pool\n",
    "idx = torch.randperm(N)[:n_initial]\n",
    "X = X_.clone()[idx]\n",
    "y = y_.clone()[idx]\n",
    "\n",
    "for trial in trange(op_budget):\n",
    "\n",
    "    X = TorchStd.transform(X) # standardize data\n",
    "    y = TorchStandardScaler().fit_transform(y) \n",
    "\n",
    "    # fit the model to current data pool\n",
    "    likelihood = GaussianLikelihood(noise_prior=gpytorch.priors.HalfNormalPrior(0.01))\n",
    "    gp = GPModel(X, y, likelihood)\n",
    "    mll = gpytorch.mlls.ExactMarginalLogLikelihood(likelihood, gp)\n",
    "    fit_gpytorch_mll(mll)\n",
    "\n",
    "    # predict from candidate pool\n",
    "    with torch.no_grad():\n",
    "        pred = gp(TorchStd.transform(X_)) # predict values for all candidates\n",
    "    \n",
    "    acqf_vals = UCB(pred) # pass preds through acquisition function\n",
    "    acqf_vals[idx] = -100 # don't select already sampled points\n",
    "    idx = torch.cat([idx, acqf_vals.argmax().unsqueeze(0)]) # add best value to index\n",
    "\n",
    "    X = X_[idx] # re-pull data with updated index pool\n",
    "    y = y_[idx] # re-pull data with updated index pool"
   ]
  },
  {
   "cell_type": "code",
   "execution_count": 8,
   "metadata": {},
   "outputs": [
    {
     "data": {
      "text/plain": [
       "[<matplotlib.lines.Line2D at 0x283cb0c24b0>]"
      ]
     },
     "execution_count": 8,
     "metadata": {},
     "output_type": "execute_result"
    },
    {
     "data": {
      "image/png": "[encoded data removed]",
      "text/plain": [
       "<Figure size 640x480 with 1 Axes>"
      ]
     },
     "metadata": {},
     "output_type": "display_data"
    }
   ],
   "source": [
    "plt.plot(np.maximum.accumulate(y.detach().numpy()), label='True')"
   ]
  }
 ],
 "metadata": {
  "kernelspec": {
   "display_name": "botorch-env",
   "language": "python",
   "name": "python3"
  },
  "language_info": {
   "codemirror_mode": {
    "name": "ipython",
    "version": 3
   },
   "file_extension": ".py",
   "mimetype": "text/x-python",
   "name": "python",
   "nbconvert_exporter": "python",
   "pygments_lexer": "ipython3",
   "version": "3.12.3"
  }
 },
 "nbformat": 4,
 "nbformat_minor": 2
}
